{
 "cells": [
  {
   "cell_type": "code",
   "execution_count": null,
   "metadata": {},
   "outputs": [],
   "source": [
    "!rm -rf /notebooks/kohya_ss"
   ]
  },
  {
   "cell_type": "code",
   "execution_count": null,
   "metadata": {},
   "outputs": [],
   "source": [
    "import sys\n",
    "python_exec_path = sys.executable\n",
    "%cd /notebooks\n",
    "\n",
    "\n",
    "%cd /notebooks\n",
    "!git clone -b 0.41.0 https://github.com/TimDettmers/bitsandbytes\n",
    "%cd /notebooks/bitsandbytes\n",
    "!CUDA_VERSION=118 make cuda11x\n",
    "%run setup.py install\n",
    "\n",
    "%cd /notebooks\n",
    "!git clone  https://github.com/bmaltais/kohya_ss\n",
    "%cd /notebooks/kohya_ss\n",
    "%pip install -r requirements_linux.txt\n"
   ]
  },
  {
   "cell_type": "code",
   "execution_count": null,
   "metadata": {},
   "outputs": [],
   "source": [
    "%pip install rich"
   ]
  },
  {
   "cell_type": "code",
   "execution_count": null,
   "metadata": {},
   "outputs": [
    {
     "name": "stdout",
     "output_type": "stream",
     "text": [
      "/notebooks/kohya_ss\n",
      "no language\n"
     ]
    },
    {
     "data": {
      "text/html": [
       "<pre style=\"white-space:pre;overflow-x:auto;line-height:normal;font-family:Menlo,'DejaVu Sans Mono',consolas,'Courier New',monospace\"><span style=\"color: #7fbfbf; text-decoration-color: #7fbfbf\">09:21:16-464390 </span><span style=\"color: #000080; text-decoration-color: #000080\">INFO    </span> headless: <span style=\"color: #00ff00; text-decoration-color: #00ff00; font-style: italic\">True</span>                                                                            \n",
       "</pre>\n"
      ],
      "text/plain": [
       "\u001b[2;36m09:21:16-464390\u001b[0m\u001b[2;36m \u001b[0m\u001b[34mINFO    \u001b[0m headless: \u001b[3;92mTrue\u001b[0m                                                                            \n"
      ]
     },
     "metadata": {},
     "output_type": "display_data"
    },
    {
     "data": {
      "text/html": [
       "<pre style=\"white-space:pre;overflow-x:auto;line-height:normal;font-family:Menlo,'DejaVu Sans Mono',consolas,'Courier New',monospace\"><span style=\"color: #7fbfbf; text-decoration-color: #7fbfbf\">09:21:16-472078 </span><span style=\"color: #000080; text-decoration-color: #000080\">INFO    </span> Load CSS<span style=\"color: #808000; text-decoration-color: #808000\">...</span>                                                                               \n",
       "</pre>\n"
      ],
      "text/plain": [
       "\u001b[2;36m09:21:16-472078\u001b[0m\u001b[2;36m \u001b[0m\u001b[34mINFO    \u001b[0m Load CSS\u001b[33m...\u001b[0m                                                                               \n"
      ]
     },
     "metadata": {},
     "output_type": "display_data"
    },
    {
     "name": "stdout",
     "output_type": "stream",
     "text": [
      "Running on local URL:  http://127.0.0.1:7860\n",
      "Running on public URL: https://1d1cb835434c732c41.gradio.live\n",
      "\n",
      "This share link expires in 72 hours. For free permanent hosting and GPU upgrades, run `gradio deploy` from Terminal to deploy to Spaces (https://huggingface.co/spaces)\n"
     ]
    },
    {
     "data": {
      "text/html": [
       "<div><iframe src=\"https://1d1cb835434c732c41.gradio.live\" width=\"100%\" height=\"500\" allow=\"autoplay; camera; microphone; clipboard-read; clipboard-write;\" frameborder=\"0\" allowfullscreen></iframe></div>"
      ],
      "text/plain": [
       "<IPython.core.display.HTML object>"
      ]
     },
     "metadata": {},
     "output_type": "display_data"
    },
    {
     "data": {
      "text/html": [
       "<pre style=\"white-space:pre;overflow-x:auto;line-height:normal;font-family:Menlo,'DejaVu Sans Mono',consolas,'Courier New',monospace\"><span style=\"color: #7fbfbf; text-decoration-color: #7fbfbf\">09:22:00-742036 </span><span style=\"color: #000080; text-decoration-color: #000080\">INFO    </span> Loading config<span style=\"color: #808000; text-decoration-color: #808000\">...</span>                                                                         \n",
       "</pre>\n"
      ],
      "text/plain": [
       "\u001b[2;36m09:22:00-742036\u001b[0m\u001b[2;36m \u001b[0m\u001b[34mINFO    \u001b[0m Loading config\u001b[33m...\u001b[0m                                                                         \n"
      ]
     },
     "metadata": {},
     "output_type": "display_data"
    },
    {
     "data": {
      "text/html": [
       "<pre style=\"white-space:pre;overflow-x:auto;line-height:normal;font-family:Menlo,'DejaVu Sans Mono',consolas,'Courier New',monospace\"><span style=\"color: #7fbfbf; text-decoration-color: #7fbfbf\">09:22:19-937856 </span><span style=\"color: #000080; text-decoration-color: #000080\">INFO    </span> Start training LoRA Standard <span style=\"color: #808000; text-decoration-color: #808000\">...</span>                                                          \n",
       "</pre>\n"
      ],
      "text/plain": [
       "\u001b[2;36m09:22:19-937856\u001b[0m\u001b[2;36m \u001b[0m\u001b[34mINFO    \u001b[0m Start training LoRA Standard \u001b[33m...\u001b[0m                                                          \n"
      ]
     },
     "metadata": {},
     "output_type": "display_data"
    },
    {
     "data": {
      "text/html": [
       "<pre style=\"white-space:pre;overflow-x:auto;line-height:normal;font-family:Menlo,'DejaVu Sans Mono',consolas,'Courier New',monospace\"><span style=\"color: #7fbfbf; text-decoration-color: #7fbfbf\">09:22:19-940199 </span><span style=\"color: #000080; text-decoration-color: #000080\">INFO    </span> Checking for duplicate image filenames in training data directory<span style=\"color: #808000; text-decoration-color: #808000\">...</span>                      \n",
       "</pre>\n"
      ],
      "text/plain": [
       "\u001b[2;36m09:22:19-940199\u001b[0m\u001b[2;36m \u001b[0m\u001b[34mINFO    \u001b[0m Checking for duplicate image filenames in training data directory\u001b[33m...\u001b[0m                      \n"
      ]
     },
     "metadata": {},
     "output_type": "display_data"
    },
    {
     "data": {
      "text/html": [
       "<pre style=\"white-space:pre;overflow-x:auto;line-height:normal;font-family:Menlo,'DejaVu Sans Mono',consolas,'Courier New',monospace\"><span style=\"color: #7fbfbf; text-decoration-color: #7fbfbf\">09:22:19-942954 </span><span style=\"color: #800000; text-decoration-color: #800000; font-weight: bold\">ERROR   </span> The following folders do not match the required pattern <span style=\"font-weight: bold\">&lt;</span><span style=\"color: #ff00ff; text-decoration-color: #ff00ff; font-weight: bold\">number</span><span style=\"color: #000000; text-decoration-color: #000000\">&gt;_&lt;text</span><span style=\"font-weight: bold\">&gt;</span>:                  \n",
       "<span style=\"color: #7fbfbf; text-decoration-color: #7fbfbf\">                </span>         <span style=\"color: #800080; text-decoration-color: #800080\">/notebooks/Louis/</span><span style=\"color: #ff00ff; text-decoration-color: #ff00ff\">.ipynb_checkpoints</span>                                                       \n",
       "</pre>\n"
      ],
      "text/plain": [
       "\u001b[2;36m09:22:19-942954\u001b[0m\u001b[2;36m \u001b[0m\u001b[1;31mERROR   \u001b[0m The following folders do not match the required pattern \u001b[1m<\u001b[0m\u001b[1;95mnumber\u001b[0m\u001b[39m>_<text\u001b[0m\u001b[1m>\u001b[0m:                  \n",
       "\u001b[2;36m                \u001b[0m         \u001b[35m/notebooks/Louis/\u001b[0m\u001b[95m.ipynb_checkpoints\u001b[0m                                                       \n"
      ]
     },
     "metadata": {},
     "output_type": "display_data"
    },
    {
     "data": {
      "text/html": [
       "<pre style=\"white-space:pre;overflow-x:auto;line-height:normal;font-family:Menlo,'DejaVu Sans Mono',consolas,'Courier New',monospace\"><span style=\"color: #7fbfbf; text-decoration-color: #7fbfbf\">09:22:19-945108 </span><span style=\"color: #800000; text-decoration-color: #800000; font-weight: bold\">ERROR   </span> Please follow the folder structure documentation found at docs\\image_folder_structure.md  \n",
       "<span style=\"color: #7fbfbf; text-decoration-color: #7fbfbf\">                </span>         <span style=\"color: #808000; text-decoration-color: #808000\">...</span>                                                                                       \n",
       "</pre>\n"
      ],
      "text/plain": [
       "\u001b[2;36m09:22:19-945108\u001b[0m\u001b[2;36m \u001b[0m\u001b[1;31mERROR   \u001b[0m Please follow the folder structure documentation found at docs\\image_folder_structure.md  \n",
       "\u001b[2;36m                \u001b[0m         \u001b[33m...\u001b[0m                                                                                       \n"
      ]
     },
     "metadata": {},
     "output_type": "display_data"
    },
    {
     "data": {
      "text/html": [
       "<pre style=\"white-space:pre;overflow-x:auto;line-height:normal;font-family:Menlo,'DejaVu Sans Mono',consolas,'Courier New',monospace\"><span style=\"color: #7fbfbf; text-decoration-color: #7fbfbf\">09:22:19-947406 </span><span style=\"color: #000080; text-decoration-color: #000080\">INFO    </span> Headless mode, skipping verification if model already exist<span style=\"color: #808000; text-decoration-color: #808000\">...</span> if model already exist it  \n",
       "<span style=\"color: #7fbfbf; text-decoration-color: #7fbfbf\">                </span>         will be overwritten<span style=\"color: #808000; text-decoration-color: #808000\">...</span>                                                                    \n",
       "</pre>\n"
      ],
      "text/plain": [
       "\u001b[2;36m09:22:19-947406\u001b[0m\u001b[2;36m \u001b[0m\u001b[34mINFO    \u001b[0m Headless mode, skipping verification if model already exist\u001b[33m...\u001b[0m if model already exist it  \n",
       "\u001b[2;36m                \u001b[0m         will be overwritten\u001b[33m...\u001b[0m                                                                    \n"
      ]
     },
     "metadata": {},
     "output_type": "display_data"
    },
    {
     "data": {
      "text/html": [
       "<pre style=\"white-space:pre;overflow-x:auto;line-height:normal;font-family:Menlo,'DejaVu Sans Mono',consolas,'Courier New',monospace\"><span style=\"color: #7fbfbf; text-decoration-color: #7fbfbf\">09:22:19-949333 </span><span style=\"color: #000080; text-decoration-color: #000080\">INFO    </span> Folder 03_Louis: <span style=\"color: #008080; text-decoration-color: #008080; font-weight: bold\">11</span> images found                                                          \n",
       "</pre>\n"
      ],
      "text/plain": [
       "\u001b[2;36m09:22:19-949333\u001b[0m\u001b[2;36m \u001b[0m\u001b[34mINFO    \u001b[0m Folder 03_Louis: \u001b[1;36m11\u001b[0m images found                                                          \n"
      ]
     },
     "metadata": {},
     "output_type": "display_data"
    },
    {
     "data": {
      "text/html": [
       "<pre style=\"white-space:pre;overflow-x:auto;line-height:normal;font-family:Menlo,'DejaVu Sans Mono',consolas,'Courier New',monospace\"><span style=\"color: #7fbfbf; text-decoration-color: #7fbfbf\">09:22:19-950864 </span><span style=\"color: #000080; text-decoration-color: #000080\">INFO    </span> Folder 03_Louis: <span style=\"color: #008080; text-decoration-color: #008080; font-weight: bold\">33</span> steps                                                                 \n",
       "</pre>\n"
      ],
      "text/plain": [
       "\u001b[2;36m09:22:19-950864\u001b[0m\u001b[2;36m \u001b[0m\u001b[34mINFO    \u001b[0m Folder 03_Louis: \u001b[1;36m33\u001b[0m steps                                                                 \n"
      ]
     },
     "metadata": {},
     "output_type": "display_data"
    },
    {
     "data": {
      "text/html": [
       "<pre style=\"white-space:pre;overflow-x:auto;line-height:normal;font-family:Menlo,'DejaVu Sans Mono',consolas,'Courier New',monospace\"><span style=\"color: #7fbfbf; text-decoration-color: #7fbfbf\">09:22:19-952326 </span><span style=\"color: #000080; text-decoration-color: #000080\">INFO    </span> Error: <span style=\"color: #008000; text-decoration-color: #008000\">'.ipynb_checkpoints'</span> does not contain an underscore, skipping<span style=\"color: #808000; text-decoration-color: #808000\">...</span>                   \n",
       "</pre>\n"
      ],
      "text/plain": [
       "\u001b[2;36m09:22:19-952326\u001b[0m\u001b[2;36m \u001b[0m\u001b[34mINFO    \u001b[0m Error: \u001b[32m'.ipynb_checkpoints'\u001b[0m does not contain an underscore, skipping\u001b[33m...\u001b[0m                   \n"
      ]
     },
     "metadata": {},
     "output_type": "display_data"
    },
    {
     "data": {
      "text/html": [
       "<pre style=\"white-space:pre;overflow-x:auto;line-height:normal;font-family:Menlo,'DejaVu Sans Mono',consolas,'Courier New',monospace\"><span style=\"color: #7fbfbf; text-decoration-color: #7fbfbf\">09:22:19-953971 </span><span style=\"color: #000080; text-decoration-color: #000080\">INFO    </span> Total steps: <span style=\"color: #008080; text-decoration-color: #008080; font-weight: bold\">33</span>                                                                           \n",
       "</pre>\n"
      ],
      "text/plain": [
       "\u001b[2;36m09:22:19-953971\u001b[0m\u001b[2;36m \u001b[0m\u001b[34mINFO    \u001b[0m Total steps: \u001b[1;36m33\u001b[0m                                                                           \n"
      ]
     },
     "metadata": {},
     "output_type": "display_data"
    },
    {
     "data": {
      "text/html": [
       "<pre style=\"white-space:pre;overflow-x:auto;line-height:normal;font-family:Menlo,'DejaVu Sans Mono',consolas,'Courier New',monospace\"><span style=\"color: #7fbfbf; text-decoration-color: #7fbfbf\">09:22:19-955483 </span><span style=\"color: #000080; text-decoration-color: #000080\">INFO    </span> Train batch size: <span style=\"color: #008080; text-decoration-color: #008080; font-weight: bold\">3</span>                                                                       \n",
       "</pre>\n"
      ],
      "text/plain": [
       "\u001b[2;36m09:22:19-955483\u001b[0m\u001b[2;36m \u001b[0m\u001b[34mINFO    \u001b[0m Train batch size: \u001b[1;36m3\u001b[0m                                                                       \n"
      ]
     },
     "metadata": {},
     "output_type": "display_data"
    },
    {
     "data": {
      "text/html": [
       "<pre style=\"white-space:pre;overflow-x:auto;line-height:normal;font-family:Menlo,'DejaVu Sans Mono',consolas,'Courier New',monospace\"><span style=\"color: #7fbfbf; text-decoration-color: #7fbfbf\">09:22:19-956990 </span><span style=\"color: #000080; text-decoration-color: #000080\">INFO    </span> Gradient accumulation steps: <span style=\"color: #008080; text-decoration-color: #008080; font-weight: bold\">1</span>                                                            \n",
       "</pre>\n"
      ],
      "text/plain": [
       "\u001b[2;36m09:22:19-956990\u001b[0m\u001b[2;36m \u001b[0m\u001b[34mINFO    \u001b[0m Gradient accumulation steps: \u001b[1;36m1\u001b[0m                                                            \n"
      ]
     },
     "metadata": {},
     "output_type": "display_data"
    },
    {
     "data": {
      "text/html": [
       "<pre style=\"white-space:pre;overflow-x:auto;line-height:normal;font-family:Menlo,'DejaVu Sans Mono',consolas,'Courier New',monospace\"><span style=\"color: #7fbfbf; text-decoration-color: #7fbfbf\">09:22:19-958519 </span><span style=\"color: #000080; text-decoration-color: #000080\">INFO    </span> Epoch: <span style=\"color: #008080; text-decoration-color: #008080; font-weight: bold\">50</span>                                                                                 \n",
       "</pre>\n"
      ],
      "text/plain": [
       "\u001b[2;36m09:22:19-958519\u001b[0m\u001b[2;36m \u001b[0m\u001b[34mINFO    \u001b[0m Epoch: \u001b[1;36m50\u001b[0m                                                                                 \n"
      ]
     },
     "metadata": {},
     "output_type": "display_data"
    },
    {
     "data": {
      "text/html": [
       "<pre style=\"white-space:pre;overflow-x:auto;line-height:normal;font-family:Menlo,'DejaVu Sans Mono',consolas,'Courier New',monospace\"><span style=\"color: #7fbfbf; text-decoration-color: #7fbfbf\">09:22:19-960008 </span><span style=\"color: #000080; text-decoration-color: #000080\">INFO    </span> Regulatization factor: <span style=\"color: #008080; text-decoration-color: #008080; font-weight: bold\">1</span>                                                                  \n",
       "</pre>\n"
      ],
      "text/plain": [
       "\u001b[2;36m09:22:19-960008\u001b[0m\u001b[2;36m \u001b[0m\u001b[34mINFO    \u001b[0m Regulatization factor: \u001b[1;36m1\u001b[0m                                                                  \n"
      ]
     },
     "metadata": {},
     "output_type": "display_data"
    },
    {
     "data": {
      "text/html": [
       "<pre style=\"white-space:pre;overflow-x:auto;line-height:normal;font-family:Menlo,'DejaVu Sans Mono',consolas,'Courier New',monospace\"><span style=\"color: #7fbfbf; text-decoration-color: #7fbfbf\">09:22:19-961527 </span><span style=\"color: #000080; text-decoration-color: #000080\">INFO    </span> max_train_steps <span style=\"font-weight: bold\">(</span><span style=\"color: #008080; text-decoration-color: #008080; font-weight: bold\">33</span> <span style=\"color: #800080; text-decoration-color: #800080\">/</span> <span style=\"color: #008080; text-decoration-color: #008080; font-weight: bold\">3</span> <span style=\"color: #800080; text-decoration-color: #800080\">/</span> <span style=\"color: #008080; text-decoration-color: #008080; font-weight: bold\">1</span> * <span style=\"color: #008080; text-decoration-color: #008080; font-weight: bold\">50</span> * <span style=\"color: #008080; text-decoration-color: #008080; font-weight: bold\">1</span><span style=\"font-weight: bold\">)</span> = <span style=\"color: #008080; text-decoration-color: #008080; font-weight: bold\">550</span>                                               \n",
       "</pre>\n"
      ],
      "text/plain": [
       "\u001b[2;36m09:22:19-961527\u001b[0m\u001b[2;36m \u001b[0m\u001b[34mINFO    \u001b[0m max_train_steps \u001b[1m(\u001b[0m\u001b[1;36m33\u001b[0m \u001b[35m/\u001b[0m \u001b[1;36m3\u001b[0m \u001b[35m/\u001b[0m \u001b[1;36m1\u001b[0m * \u001b[1;36m50\u001b[0m * \u001b[1;36m1\u001b[0m\u001b[1m)\u001b[0m = \u001b[1;36m550\u001b[0m                                               \n"
      ]
     },
     "metadata": {},
     "output_type": "display_data"
    },
    {
     "data": {
      "text/html": [
       "<pre style=\"white-space:pre;overflow-x:auto;line-height:normal;font-family:Menlo,'DejaVu Sans Mono',consolas,'Courier New',monospace\"><span style=\"color: #7fbfbf; text-decoration-color: #7fbfbf\">09:22:19-963156 </span><span style=\"color: #000080; text-decoration-color: #000080\">INFO    </span> stop_text_encoder_training = <span style=\"color: #008080; text-decoration-color: #008080; font-weight: bold\">0</span>                                                            \n",
       "</pre>\n"
      ],
      "text/plain": [
       "\u001b[2;36m09:22:19-963156\u001b[0m\u001b[2;36m \u001b[0m\u001b[34mINFO    \u001b[0m stop_text_encoder_training = \u001b[1;36m0\u001b[0m                                                            \n"
      ]
     },
     "metadata": {},
     "output_type": "display_data"
    },
    {
     "data": {
      "text/html": [
       "<pre style=\"white-space:pre;overflow-x:auto;line-height:normal;font-family:Menlo,'DejaVu Sans Mono',consolas,'Courier New',monospace\"><span style=\"color: #7fbfbf; text-decoration-color: #7fbfbf\">09:22:19-964640 </span><span style=\"color: #000080; text-decoration-color: #000080\">INFO    </span> lr_warmup_steps = <span style=\"color: #008080; text-decoration-color: #008080; font-weight: bold\">0</span>                                                                       \n",
       "</pre>\n"
      ],
      "text/plain": [
       "\u001b[2;36m09:22:19-964640\u001b[0m\u001b[2;36m \u001b[0m\u001b[34mINFO    \u001b[0m lr_warmup_steps = \u001b[1;36m0\u001b[0m                                                                       \n"
      ]
     },
     "metadata": {},
     "output_type": "display_data"
    },
    {
     "data": {
      "text/html": [
       "<pre style=\"white-space:pre;overflow-x:auto;line-height:normal;font-family:Menlo,'DejaVu Sans Mono',consolas,'Courier New',monospace\"><span style=\"color: #7fbfbf; text-decoration-color: #7fbfbf\">09:22:19-966874 </span><span style=\"color: #000080; text-decoration-color: #000080\">INFO    </span> Saving training config to                                                                 \n",
       "<span style=\"color: #7fbfbf; text-decoration-color: #7fbfbf\">                </span>         <span style=\"color: #800080; text-decoration-color: #800080\">/notebooks/kohya_ss/output/SDXL1.0-LouisTauru-1/</span><span style=\"color: #ff00ff; text-decoration-color: #ff00ff\">SDXL1.0-LouisTauru1_20231008-092219.json..</span>\n",
       "<span style=\"color: #7fbfbf; text-decoration-color: #7fbfbf\">                </span>         <span style=\"color: #ff00ff; text-decoration-color: #ff00ff\">.</span>                                                                                         \n",
       "</pre>\n"
      ],
      "text/plain": [
       "\u001b[2;36m09:22:19-966874\u001b[0m\u001b[2;36m \u001b[0m\u001b[34mINFO    \u001b[0m Saving training config to                                                                 \n",
       "\u001b[2;36m                \u001b[0m         \u001b[35m/notebooks/kohya_ss/output/SDXL1.0-LouisTauru-1/\u001b[0m\u001b[95mSDXL1.0-LouisTauru1_20231008-092219.json..\u001b[0m\n",
       "\u001b[2;36m                \u001b[0m         \u001b[95m.\u001b[0m                                                                                         \n"
      ]
     },
     "metadata": {},
     "output_type": "display_data"
    },
    {
     "data": {
      "text/html": [
       "<pre style=\"white-space:pre;overflow-x:auto;line-height:normal;font-family:Menlo,'DejaVu Sans Mono',consolas,'Courier New',monospace\"><span style=\"color: #7fbfbf; text-decoration-color: #7fbfbf\">09:22:19-969199 </span><span style=\"color: #000080; text-decoration-color: #000080\">INFO    </span> accelerate launch --<span style=\"color: #808000; text-decoration-color: #808000\">num_cpu_threads_per_process</span>=<span style=\"color: #008080; text-decoration-color: #008080; font-weight: bold\">2</span> <span style=\"color: #008000; text-decoration-color: #008000\">\"./sdxl_train_network.py\"</span>               \n",
       "<span style=\"color: #7fbfbf; text-decoration-color: #7fbfbf\">                </span>         --enable_bucket --<span style=\"color: #808000; text-decoration-color: #808000\">min_bucket_reso</span>=<span style=\"color: #008080; text-decoration-color: #008080; font-weight: bold\">256</span> --<span style=\"color: #808000; text-decoration-color: #808000\">max_bucket_reso</span>=<span style=\"color: #008080; text-decoration-color: #008080; font-weight: bold\">2048</span>                              \n",
       "<span style=\"color: #7fbfbf; text-decoration-color: #7fbfbf\">                </span>         --<span style=\"color: #808000; text-decoration-color: #808000\">pretrained_model_name_or_path</span>=<span style=\"color: #008000; text-decoration-color: #008000\">\"/notebooks/ComfyUI/models/checkpoints/sd_xl_base_1.0.safe</span>\n",
       "<span style=\"color: #7fbfbf; text-decoration-color: #7fbfbf\">                </span>         <span style=\"color: #008000; text-decoration-color: #008000\">tensors\"</span> --<span style=\"color: #808000; text-decoration-color: #808000\">train_data_dir</span>=<span style=\"color: #008000; text-decoration-color: #008000\">\"/notebooks/Louis\"</span> --<span style=\"color: #808000; text-decoration-color: #808000\">resolution</span>=<span style=\"color: #008000; text-decoration-color: #008000\">\"1024,1024\"</span>                     \n",
       "<span style=\"color: #7fbfbf; text-decoration-color: #7fbfbf\">                </span>         --<span style=\"color: #808000; text-decoration-color: #808000\">output_dir</span>=<span style=\"color: #008000; text-decoration-color: #008000\">\"/notebooks/kohya_ss/output/SDXL1.0-LouisTauru-1\"</span>                            \n",
       "<span style=\"color: #7fbfbf; text-decoration-color: #7fbfbf\">                </span>         --<span style=\"color: #808000; text-decoration-color: #808000\">logging_dir</span>=<span style=\"color: #008000; text-decoration-color: #008000\">\"/notebooks/kohya_ss/output/SDXL1.0-LouisTauru\"</span> --<span style=\"color: #808000; text-decoration-color: #808000\">network_alpha</span>=<span style=\"color: #008000; text-decoration-color: #008000\">\"32\"</span>        \n",
       "<span style=\"color: #7fbfbf; text-decoration-color: #7fbfbf\">                </span>         --<span style=\"color: #808000; text-decoration-color: #808000\">training_comment</span>=<span style=\"color: #008000; text-decoration-color: #008000\">\"3 repeats. More info: https://civitai.com/articles/1771\"</span>              \n",
       "<span style=\"color: #7fbfbf; text-decoration-color: #7fbfbf\">                </span>         --<span style=\"color: #808000; text-decoration-color: #808000\">save_model_as</span>=<span style=\"color: #800080; text-decoration-color: #800080\">safetensors</span> --<span style=\"color: #808000; text-decoration-color: #808000\">network_module</span>=<span style=\"color: #800080; text-decoration-color: #800080\">networks</span>.lora --<span style=\"color: #808000; text-decoration-color: #808000\">text_encoder_lr</span>=<span style=\"color: #008080; text-decoration-color: #008080; font-weight: bold\">3e-05</span>        \n",
       "<span style=\"color: #7fbfbf; text-decoration-color: #7fbfbf\">                </span>         --<span style=\"color: #808000; text-decoration-color: #808000\">unet_lr</span>=<span style=\"color: #008080; text-decoration-color: #008080; font-weight: bold\">3e-05</span> --<span style=\"color: #808000; text-decoration-color: #808000\">network_dim</span>=<span style=\"color: #008080; text-decoration-color: #008080; font-weight: bold\">32</span> --<span style=\"color: #808000; text-decoration-color: #808000\">output_name</span>=<span style=\"color: #008000; text-decoration-color: #008000\">\"SDXL1.0-LouisTauru1\"</span>                      \n",
       "<span style=\"color: #7fbfbf; text-decoration-color: #7fbfbf\">                </span>         --<span style=\"color: #808000; text-decoration-color: #808000\">lr_scheduler_num_cycles</span>=<span style=\"color: #008000; text-decoration-color: #008000\">\"50\"</span> --no_half_vae --<span style=\"color: #808000; text-decoration-color: #808000\">learning_rate</span>=<span style=\"color: #008000; text-decoration-color: #008000\">\"3e-05\"</span>                      \n",
       "<span style=\"color: #7fbfbf; text-decoration-color: #7fbfbf\">                </span>         --<span style=\"color: #808000; text-decoration-color: #808000\">lr_scheduler</span>=<span style=\"color: #008000; text-decoration-color: #008000\">\"constant\"</span> --<span style=\"color: #808000; text-decoration-color: #808000\">train_batch_size</span>=<span style=\"color: #008000; text-decoration-color: #008000\">\"3\"</span> --<span style=\"color: #808000; text-decoration-color: #808000\">max_train_steps</span>=<span style=\"color: #008000; text-decoration-color: #008000\">\"550\"</span>                  \n",
       "<span style=\"color: #7fbfbf; text-decoration-color: #7fbfbf\">                </span>         --<span style=\"color: #808000; text-decoration-color: #808000\">save_every_n_epochs</span>=<span style=\"color: #008000; text-decoration-color: #008000\">\"1\"</span> --<span style=\"color: #808000; text-decoration-color: #808000\">mixed_precision</span>=<span style=\"color: #008000; text-decoration-color: #008000\">\"fp16\"</span> --<span style=\"color: #808000; text-decoration-color: #808000\">save_precision</span>=<span style=\"color: #008000; text-decoration-color: #008000\">\"fp16\"</span>                \n",
       "<span style=\"color: #7fbfbf; text-decoration-color: #7fbfbf\">                </span>         --<span style=\"color: #808000; text-decoration-color: #808000\">caption_extension</span>=<span style=\"color: #008000; text-decoration-color: #008000\">\".txt\"</span> --cache_latents --cache_latents_to_disk                        \n",
       "<span style=\"color: #7fbfbf; text-decoration-color: #7fbfbf\">                </span>         --<span style=\"color: #808000; text-decoration-color: #808000\">optimizer_type</span>=<span style=\"color: #008000; text-decoration-color: #008000\">\"AdamW\"</span> --<span style=\"color: #808000; text-decoration-color: #808000\">max_train_epochs</span>=<span style=\"color: #008080; text-decoration-color: #008080; font-weight: bold\">50</span> --<span style=\"color: #808000; text-decoration-color: #808000\">max_data_loader_n_workers</span>=<span style=\"color: #008000; text-decoration-color: #008000\">\"0\"</span>            \n",
       "<span style=\"color: #7fbfbf; text-decoration-color: #7fbfbf\">                </span>         --<span style=\"color: #808000; text-decoration-color: #808000\">caption_dropout_rate</span>=<span style=\"color: #008000; text-decoration-color: #008000\">\"0.05\"</span> --<span style=\"color: #808000; text-decoration-color: #808000\">bucket_reso_steps</span>=<span style=\"color: #008080; text-decoration-color: #008080; font-weight: bold\">64</span> --<span style=\"color: #808000; text-decoration-color: #808000\">min_snr_gamma</span>=<span style=\"color: #008080; text-decoration-color: #008080; font-weight: bold\">5</span>                    \n",
       "<span style=\"color: #7fbfbf; text-decoration-color: #7fbfbf\">                </span>         --gradient_checkpointing --xformers --<span style=\"color: #808000; text-decoration-color: #808000\">noise_offset</span>=<span style=\"color: #008080; text-decoration-color: #008080; font-weight: bold\">0.0</span>                                    \n",
       "</pre>\n"
      ],
      "text/plain": [
       "\u001b[2;36m09:22:19-969199\u001b[0m\u001b[2;36m \u001b[0m\u001b[34mINFO    \u001b[0m accelerate launch --\u001b[33mnum_cpu_threads_per_process\u001b[0m=\u001b[1;36m2\u001b[0m \u001b[32m\"./sdxl_train_network.py\"\u001b[0m               \n",
       "\u001b[2;36m                \u001b[0m         --enable_bucket --\u001b[33mmin_bucket_reso\u001b[0m=\u001b[1;36m256\u001b[0m --\u001b[33mmax_bucket_reso\u001b[0m=\u001b[1;36m2048\u001b[0m                              \n",
       "\u001b[2;36m                \u001b[0m         --\u001b[33mpretrained_model_name_or_path\u001b[0m=\u001b[32m\"/notebooks/ComfyUI/models/checkpoints/sd_xl_base_1.0.safe\u001b[0m\n",
       "\u001b[2;36m                \u001b[0m         \u001b[32mtensors\"\u001b[0m --\u001b[33mtrain_data_dir\u001b[0m=\u001b[32m\"/notebooks/Louis\"\u001b[0m --\u001b[33mresolution\u001b[0m=\u001b[32m\"1024\u001b[0m\u001b[32m,1024\"\u001b[0m                     \n",
       "\u001b[2;36m                \u001b[0m         --\u001b[33moutput_dir\u001b[0m=\u001b[32m\"/notebooks/kohya_ss/output/SDXL1.0-LouisTauru-1\"\u001b[0m                            \n",
       "\u001b[2;36m                \u001b[0m         --\u001b[33mlogging_dir\u001b[0m=\u001b[32m\"/notebooks/kohya_ss/output/SDXL1.0-LouisTauru\"\u001b[0m --\u001b[33mnetwork_alpha\u001b[0m=\u001b[32m\"32\"\u001b[0m        \n",
       "\u001b[2;36m                \u001b[0m         --\u001b[33mtraining_comment\u001b[0m=\u001b[32m\"3\u001b[0m\u001b[32m repeats. More info: https://civitai.com/articles/1771\"\u001b[0m              \n",
       "\u001b[2;36m                \u001b[0m         --\u001b[33msave_model_as\u001b[0m=\u001b[35msafetensors\u001b[0m --\u001b[33mnetwork_module\u001b[0m=\u001b[35mnetworks\u001b[0m.lora --\u001b[33mtext_encoder_lr\u001b[0m=\u001b[1;36m3e\u001b[0m\u001b[1;36m-05\u001b[0m        \n",
       "\u001b[2;36m                \u001b[0m         --\u001b[33munet_lr\u001b[0m=\u001b[1;36m3e\u001b[0m\u001b[1;36m-05\u001b[0m --\u001b[33mnetwork_dim\u001b[0m=\u001b[1;36m32\u001b[0m --\u001b[33moutput_name\u001b[0m=\u001b[32m\"SDXL1\u001b[0m\u001b[32m.0-LouisTauru1\"\u001b[0m                      \n",
       "\u001b[2;36m                \u001b[0m         --\u001b[33mlr_scheduler_num_cycles\u001b[0m=\u001b[32m\"50\"\u001b[0m --no_half_vae --\u001b[33mlearning_rate\u001b[0m=\u001b[32m\"3e\u001b[0m\u001b[32m-05\"\u001b[0m                      \n",
       "\u001b[2;36m                \u001b[0m         --\u001b[33mlr_scheduler\u001b[0m=\u001b[32m\"constant\"\u001b[0m --\u001b[33mtrain_batch_size\u001b[0m=\u001b[32m\"3\"\u001b[0m --\u001b[33mmax_train_steps\u001b[0m=\u001b[32m\"550\"\u001b[0m                  \n",
       "\u001b[2;36m                \u001b[0m         --\u001b[33msave_every_n_epochs\u001b[0m=\u001b[32m\"1\"\u001b[0m --\u001b[33mmixed_precision\u001b[0m=\u001b[32m\"fp16\"\u001b[0m --\u001b[33msave_precision\u001b[0m=\u001b[32m\"fp16\"\u001b[0m                \n",
       "\u001b[2;36m                \u001b[0m         --\u001b[33mcaption_extension\u001b[0m=\u001b[32m\".txt\"\u001b[0m --cache_latents --cache_latents_to_disk                        \n",
       "\u001b[2;36m                \u001b[0m         --\u001b[33moptimizer_type\u001b[0m=\u001b[32m\"AdamW\"\u001b[0m --\u001b[33mmax_train_epochs\u001b[0m=\u001b[1;36m50\u001b[0m --\u001b[33mmax_data_loader_n_workers\u001b[0m=\u001b[32m\"0\"\u001b[0m            \n",
       "\u001b[2;36m                \u001b[0m         --\u001b[33mcaption_dropout_rate\u001b[0m=\u001b[32m\"0\u001b[0m\u001b[32m.05\"\u001b[0m --\u001b[33mbucket_reso_steps\u001b[0m=\u001b[1;36m64\u001b[0m --\u001b[33mmin_snr_gamma\u001b[0m=\u001b[1;36m5\u001b[0m                    \n",
       "\u001b[2;36m                \u001b[0m         --gradient_checkpointing --xformers --\u001b[33mnoise_offset\u001b[0m=\u001b[1;36m0\u001b[0m\u001b[1;36m.0\u001b[0m                                    \n"
      ]
     },
     "metadata": {},
     "output_type": "display_data"
    },
    {
     "name": "stderr",
     "output_type": "stream",
     "text": [
      "The following values were not passed to `accelerate launch` and had defaults used instead:\n",
      "\t`--num_processes` was set to a value of `1`\n",
      "\t`--num_machines` was set to a value of `1`\n",
      "\t`--mixed_precision` was set to a value of `'no'`\n",
      "\t`--dynamo_backend` was set to a value of `'no'`\n",
      "To avoid this warning pass in values for each of the problematic parameters or run `accelerate config`.\n"
     ]
    },
    {
     "name": "stdout",
     "output_type": "stream",
     "text": [
      "prepare tokenizers\n",
      "Using DreamBooth method.\n",
      "ignore directory without repeats / 繰り返し回数のないディレクトリを無視します: .ipynb_checkpoints\n",
      "prepare images.\n",
      "found directory /notebooks/Louis/03_Louis contains 11 image files\n",
      "33 train images with repeating.\n",
      "0 reg images.\n",
      "no regularization images / 正則化画像が見つかりませんでした\n",
      "[Dataset 0]\n",
      "  batch_size: 3\n",
      "  resolution: (1024, 1024)\n",
      "  enable_bucket: True\n",
      "  min_bucket_reso: 256\n",
      "  max_bucket_reso: 2048\n",
      "  bucket_reso_steps: 64\n",
      "  bucket_no_upscale: False\n",
      "\n",
      "  [Subset 0 of Dataset 0]\n",
      "    image_dir: \"/notebooks/Louis/03_Louis\"\n",
      "    image_count: 11\n",
      "    num_repeats: 3\n",
      "    shuffle_caption: False\n",
      "    keep_tokens: 0\n",
      "    caption_dropout_rate: 0.05\n",
      "    caption_dropout_every_n_epoches: 0\n",
      "    caption_tag_dropout_rate: 0.0\n",
      "    caption_prefix: None\n",
      "    caption_suffix: None\n",
      "    color_aug: False\n",
      "    flip_aug: False\n",
      "    face_crop_aug_range: None\n",
      "    random_crop: False\n",
      "    token_warmup_min: 1,\n",
      "    token_warmup_step: 0,\n",
      "    is_reg: False\n",
      "    class_tokens: Louis\n",
      "    caption_extension: .txt\n",
      "\n",
      "\n",
      "[Dataset 0]\n",
      "loading image sizes.\n"
     ]
    },
    {
     "name": "stderr",
     "output_type": "stream",
     "text": [
      "100%|██████████| 11/11 [00:00<00:00, 1319.27it/s]\n",
      "/root/mambaforge/lib/python3.10/site-packages/accelerate/accelerator.py:382: UserWarning: `log_with=tensorboard` was passed but no supported trackers are currently installed.\n",
      "  warnings.warn(f\"`log_with={log_with}` was passed but no supported trackers are currently installed.\")\n"
     ]
    },
    {
     "name": "stdout",
     "output_type": "stream",
     "text": [
      "make buckets\n",
      "number of images (including repeats) / 各bucketの画像枚数（繰り返し回数を含む）\n",
      "bucket 0: resolution (832, 1216), count: 6\n",
      "bucket 1: resolution (896, 1152), count: 21\n",
      "bucket 2: resolution (1216, 832), count: 6\n",
      "mean ar error (without repeats): 0.03426191287800277\n",
      "preparing accelerator\n",
      "loading model for process 0/1\n",
      "load StableDiffusion checkpoint: /notebooks/ComfyUI/models/checkpoints/sd_xl_base_1.0.safetensors\n",
      "building U-Net\n",
      "loading U-Net from checkpoint\n",
      "U-Net:  <All keys matched successfully>\n",
      "building text encoders\n",
      "loading text encoders from checkpoint\n",
      "text encoder 1: <All keys matched successfully>\n",
      "text encoder 2: <All keys matched successfully>\n",
      "building VAE\n",
      "loading VAE from checkpoint\n",
      "VAE: <All keys matched successfully>\n",
      "Enable xformers for U-Net\n",
      "import network module: networks.lora\n",
      "[Dataset 0]\n",
      "caching latents.\n",
      "checking cache validity...\n",
      "caching latents...\n"
     ]
    },
    {
     "name": "stderr",
     "output_type": "stream",
     "text": [
      "100%|██████████| 11/11 [00:00<00:00, 724.96it/s]\n",
      "0it [00:00, ?it/s]\n"
     ]
    },
    {
     "name": "stdout",
     "output_type": "stream",
     "text": [
      "create LoRA network. base dim (rank): 32, alpha: 32.0\n",
      "neuron dropout: p=None, rank dropout: p=None, module dropout: p=None\n",
      "create LoRA for Text Encoder 1:\n",
      "create LoRA for Text Encoder 2:\n",
      "create LoRA for Text Encoder: 264 modules.\n",
      "create LoRA for U-Net: 722 modules.\n",
      "enable LoRA for text encoder\n",
      "enable LoRA for U-Net\n",
      "prepare optimizer, data loader etc.\n",
      "use AdamW optimizer | {}\n",
      "override steps. steps for 50 epochs is / 指定エポックまでのステップ数: 550\n",
      "running training / 学習開始\n",
      "  num train images * repeats / 学習画像の数×繰り返し回数: 33\n",
      "  num reg images / 正則化画像の数: 0\n",
      "  num batches per epoch / 1epochのバッチ数: 11\n",
      "  num epochs / epoch数: 50\n",
      "  batch size per device / バッチサイズ: 3\n",
      "  gradient accumulation steps / 勾配を合計するステップ数 = 1\n",
      "  total optimization steps / 学習ステップ数: 550\n"
     ]
    },
    {
     "name": "stderr",
     "output_type": "stream",
     "text": [
      "steps:   0%|          | 0/550 [00:00<?, ?it/s]/root/mambaforge/lib/python3.10/site-packages/xformers/ops/fmha/flash.py:338: UserWarning: TypedStorage is deprecated. It will be removed in the future and UntypedStorage will be the only storage class. This should only matter to you if you are using storages directly.  To access UntypedStorage directly, use tensor.untyped_storage() instead of tensor.storage()\n",
      "  and inp.query.storage().data_ptr() == inp.key.storage().data_ptr()\n",
      "steps: 100%|██████████| 550/550 [27:12<00:00,  2.97s/it, loss=0.117] \n"
     ]
    },
    {
     "name": "stdout",
     "output_type": "stream",
     "text": [
      "\n",
      "epoch 1/50\n",
      "\n",
      "saving checkpoint: /notebooks/kohya_ss/output/SDXL1.0-LouisTauru-1/SDXL1.0-LouisTauru1-000001.safetensors\n",
      "\n",
      "epoch 2/50\n",
      "\n",
      "saving checkpoint: /notebooks/kohya_ss/output/SDXL1.0-LouisTauru-1/SDXL1.0-LouisTauru1-000002.safetensors\n",
      "\n",
      "epoch 3/50\n",
      "\n",
      "saving checkpoint: /notebooks/kohya_ss/output/SDXL1.0-LouisTauru-1/SDXL1.0-LouisTauru1-000003.safetensors\n",
      "\n",
      "epoch 4/50\n",
      "\n",
      "saving checkpoint: /notebooks/kohya_ss/output/SDXL1.0-LouisTauru-1/SDXL1.0-LouisTauru1-000004.safetensors\n",
      "\n",
      "epoch 5/50\n",
      "\n",
      "saving checkpoint: /notebooks/kohya_ss/output/SDXL1.0-LouisTauru-1/SDXL1.0-LouisTauru1-000005.safetensors\n",
      "\n",
      "epoch 6/50\n",
      "\n",
      "saving checkpoint: /notebooks/kohya_ss/output/SDXL1.0-LouisTauru-1/SDXL1.0-LouisTauru1-000006.safetensors\n",
      "\n",
      "epoch 7/50\n",
      "\n",
      "saving checkpoint: /notebooks/kohya_ss/output/SDXL1.0-LouisTauru-1/SDXL1.0-LouisTauru1-000007.safetensors\n",
      "\n",
      "epoch 8/50\n",
      "\n",
      "saving checkpoint: /notebooks/kohya_ss/output/SDXL1.0-LouisTauru-1/SDXL1.0-LouisTauru1-000008.safetensors\n",
      "\n",
      "epoch 9/50\n",
      "\n",
      "saving checkpoint: /notebooks/kohya_ss/output/SDXL1.0-LouisTauru-1/SDXL1.0-LouisTauru1-000009.safetensors\n",
      "\n",
      "epoch 10/50\n",
      "\n",
      "saving checkpoint: /notebooks/kohya_ss/output/SDXL1.0-LouisTauru-1/SDXL1.0-LouisTauru1-000010.safetensors\n",
      "\n",
      "epoch 11/50\n",
      "\n",
      "saving checkpoint: /notebooks/kohya_ss/output/SDXL1.0-LouisTauru-1/SDXL1.0-LouisTauru1-000011.safetensors\n",
      "\n",
      "epoch 12/50\n",
      "\n",
      "saving checkpoint: /notebooks/kohya_ss/output/SDXL1.0-LouisTauru-1/SDXL1.0-LouisTauru1-000012.safetensors\n",
      "\n",
      "epoch 13/50\n",
      "\n",
      "saving checkpoint: /notebooks/kohya_ss/output/SDXL1.0-LouisTauru-1/SDXL1.0-LouisTauru1-000013.safetensors\n",
      "\n",
      "epoch 14/50\n",
      "\n",
      "saving checkpoint: /notebooks/kohya_ss/output/SDXL1.0-LouisTauru-1/SDXL1.0-LouisTauru1-000014.safetensors\n",
      "\n",
      "epoch 15/50\n",
      "\n",
      "saving checkpoint: /notebooks/kohya_ss/output/SDXL1.0-LouisTauru-1/SDXL1.0-LouisTauru1-000015.safetensors\n",
      "\n",
      "epoch 16/50\n",
      "\n",
      "saving checkpoint: /notebooks/kohya_ss/output/SDXL1.0-LouisTauru-1/SDXL1.0-LouisTauru1-000016.safetensors\n",
      "\n",
      "epoch 17/50\n",
      "\n",
      "saving checkpoint: /notebooks/kohya_ss/output/SDXL1.0-LouisTauru-1/SDXL1.0-LouisTauru1-000017.safetensors\n",
      "\n",
      "epoch 18/50\n",
      "\n",
      "saving checkpoint: /notebooks/kohya_ss/output/SDXL1.0-LouisTauru-1/SDXL1.0-LouisTauru1-000018.safetensors\n",
      "\n",
      "epoch 19/50\n",
      "\n",
      "saving checkpoint: /notebooks/kohya_ss/output/SDXL1.0-LouisTauru-1/SDXL1.0-LouisTauru1-000019.safetensors\n",
      "\n",
      "epoch 20/50\n",
      "\n",
      "saving checkpoint: /notebooks/kohya_ss/output/SDXL1.0-LouisTauru-1/SDXL1.0-LouisTauru1-000020.safetensors\n",
      "\n",
      "epoch 21/50\n",
      "\n",
      "saving checkpoint: /notebooks/kohya_ss/output/SDXL1.0-LouisTauru-1/SDXL1.0-LouisTauru1-000021.safetensors\n",
      "\n",
      "epoch 22/50\n",
      "\n",
      "saving checkpoint: /notebooks/kohya_ss/output/SDXL1.0-LouisTauru-1/SDXL1.0-LouisTauru1-000022.safetensors\n",
      "\n",
      "epoch 23/50\n",
      "\n",
      "saving checkpoint: /notebooks/kohya_ss/output/SDXL1.0-LouisTauru-1/SDXL1.0-LouisTauru1-000023.safetensors\n",
      "\n",
      "epoch 24/50\n",
      "\n",
      "saving checkpoint: /notebooks/kohya_ss/output/SDXL1.0-LouisTauru-1/SDXL1.0-LouisTauru1-000024.safetensors\n",
      "\n",
      "epoch 25/50\n",
      "\n",
      "saving checkpoint: /notebooks/kohya_ss/output/SDXL1.0-LouisTauru-1/SDXL1.0-LouisTauru1-000025.safetensors\n",
      "\n",
      "epoch 26/50\n",
      "\n",
      "saving checkpoint: /notebooks/kohya_ss/output/SDXL1.0-LouisTauru-1/SDXL1.0-LouisTauru1-000026.safetensors\n",
      "\n",
      "epoch 27/50\n",
      "\n",
      "saving checkpoint: /notebooks/kohya_ss/output/SDXL1.0-LouisTauru-1/SDXL1.0-LouisTauru1-000027.safetensors\n",
      "\n",
      "epoch 28/50\n",
      "\n",
      "saving checkpoint: /notebooks/kohya_ss/output/SDXL1.0-LouisTauru-1/SDXL1.0-LouisTauru1-000028.safetensors\n",
      "\n",
      "epoch 29/50\n",
      "\n",
      "saving checkpoint: /notebooks/kohya_ss/output/SDXL1.0-LouisTauru-1/SDXL1.0-LouisTauru1-000029.safetensors\n",
      "\n",
      "epoch 30/50\n",
      "\n",
      "saving checkpoint: /notebooks/kohya_ss/output/SDXL1.0-LouisTauru-1/SDXL1.0-LouisTauru1-000030.safetensors\n",
      "\n",
      "epoch 31/50\n",
      "\n",
      "saving checkpoint: /notebooks/kohya_ss/output/SDXL1.0-LouisTauru-1/SDXL1.0-LouisTauru1-000031.safetensors\n",
      "\n",
      "epoch 32/50\n",
      "\n",
      "saving checkpoint: /notebooks/kohya_ss/output/SDXL1.0-LouisTauru-1/SDXL1.0-LouisTauru1-000032.safetensors\n",
      "\n",
      "epoch 33/50\n",
      "\n",
      "saving checkpoint: /notebooks/kohya_ss/output/SDXL1.0-LouisTauru-1/SDXL1.0-LouisTauru1-000033.safetensors\n",
      "\n",
      "epoch 34/50\n",
      "\n",
      "saving checkpoint: /notebooks/kohya_ss/output/SDXL1.0-LouisTauru-1/SDXL1.0-LouisTauru1-000034.safetensors\n",
      "\n",
      "epoch 35/50\n",
      "\n",
      "saving checkpoint: /notebooks/kohya_ss/output/SDXL1.0-LouisTauru-1/SDXL1.0-LouisTauru1-000035.safetensors\n",
      "\n",
      "epoch 36/50\n",
      "\n",
      "saving checkpoint: /notebooks/kohya_ss/output/SDXL1.0-LouisTauru-1/SDXL1.0-LouisTauru1-000036.safetensors\n",
      "\n",
      "epoch 37/50\n",
      "\n",
      "saving checkpoint: /notebooks/kohya_ss/output/SDXL1.0-LouisTauru-1/SDXL1.0-LouisTauru1-000037.safetensors\n",
      "\n",
      "epoch 38/50\n",
      "\n",
      "saving checkpoint: /notebooks/kohya_ss/output/SDXL1.0-LouisTauru-1/SDXL1.0-LouisTauru1-000038.safetensors\n",
      "\n",
      "epoch 39/50\n",
      "\n",
      "saving checkpoint: /notebooks/kohya_ss/output/SDXL1.0-LouisTauru-1/SDXL1.0-LouisTauru1-000039.safetensors\n",
      "\n",
      "epoch 40/50\n",
      "\n",
      "saving checkpoint: /notebooks/kohya_ss/output/SDXL1.0-LouisTauru-1/SDXL1.0-LouisTauru1-000040.safetensors\n",
      "\n",
      "epoch 41/50\n",
      "\n",
      "saving checkpoint: /notebooks/kohya_ss/output/SDXL1.0-LouisTauru-1/SDXL1.0-LouisTauru1-000041.safetensors\n",
      "\n",
      "epoch 42/50\n",
      "\n",
      "saving checkpoint: /notebooks/kohya_ss/output/SDXL1.0-LouisTauru-1/SDXL1.0-LouisTauru1-000042.safetensors\n",
      "\n",
      "epoch 43/50\n",
      "\n",
      "saving checkpoint: /notebooks/kohya_ss/output/SDXL1.0-LouisTauru-1/SDXL1.0-LouisTauru1-000043.safetensors\n",
      "\n",
      "epoch 44/50\n",
      "\n",
      "saving checkpoint: /notebooks/kohya_ss/output/SDXL1.0-LouisTauru-1/SDXL1.0-LouisTauru1-000044.safetensors\n",
      "\n",
      "epoch 45/50\n",
      "\n",
      "saving checkpoint: /notebooks/kohya_ss/output/SDXL1.0-LouisTauru-1/SDXL1.0-LouisTauru1-000045.safetensors\n",
      "\n",
      "epoch 46/50\n",
      "\n",
      "saving checkpoint: /notebooks/kohya_ss/output/SDXL1.0-LouisTauru-1/SDXL1.0-LouisTauru1-000046.safetensors\n",
      "\n",
      "epoch 47/50\n",
      "\n",
      "saving checkpoint: /notebooks/kohya_ss/output/SDXL1.0-LouisTauru-1/SDXL1.0-LouisTauru1-000047.safetensors\n",
      "\n",
      "epoch 48/50\n",
      "\n",
      "saving checkpoint: /notebooks/kohya_ss/output/SDXL1.0-LouisTauru-1/SDXL1.0-LouisTauru1-000048.safetensors\n",
      "\n",
      "epoch 49/50\n",
      "\n",
      "saving checkpoint: /notebooks/kohya_ss/output/SDXL1.0-LouisTauru-1/SDXL1.0-LouisTauru1-000049.safetensors\n",
      "\n",
      "epoch 50/50\n",
      "\n",
      "saving checkpoint: /notebooks/kohya_ss/output/SDXL1.0-LouisTauru-1/SDXL1.0-LouisTauru1.safetensors\n",
      "model saved.\n"
     ]
    }
   ],
   "source": [
    "import sys\n",
    "python_exec_path = sys.executable\n",
    "%cd /notebooks/kohya_ss\n",
    "%run kohya_gui.py --share --headless "
   ]
  },
  {
   "cell_type": "code",
   "execution_count": 3,
   "metadata": {},
   "outputs": [],
   "source": [
    "!cp /notebooks/kohya_ss/output/SDXL1.0-LouisTauru-1/SDXL1.0-LouisTauru1.safetensors /notebooks/ComfyUI/models/loras/SDXL1.0-LouisTauru2.safetensors"
   ]
  }
 ],
 "metadata": {
  "kernelspec": {
   "display_name": "konya_ss",
   "language": "python",
   "name": "konya_ss"
  }
 },
 "nbformat": 4,
 "nbformat_minor": 2
}
