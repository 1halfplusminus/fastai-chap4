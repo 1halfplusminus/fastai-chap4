{
 "cells": [
  {
   "cell_type": "code",
   "execution_count": null,
   "metadata": {},
   "outputs": [],
   "source": [
    "%pip install xformers==0.0.19 torch==2.0.0+cu118 torchvision  torchaudio --extra-index-url https://download.pytorch.org/whl/cu118"
   ]
  },
  {
   "cell_type": "code",
   "execution_count": null,
   "metadata": {},
   "outputs": [],
   "source": [
    "import sys\n",
    "python_exec_path = sys.executable\n",
    "%cd /notebooks\n",
    "\n",
    "\n",
    "%cd /notebooks\n",
    "!git clone -b 0.41.0 https://github.com/TimDettmers/bitsandbytes\n",
    "%cd /notebooks/bitsandbytes\n",
    "!CUDA_VERSION=118 make cuda11x\n",
    "%run setup.py install\n",
    "\n",
    "%cd /notebooks\n",
    "!git clone  https://github.com/bmaltais/kohya_ss\n",
    "%cd /notebooks/kohya_ss\n",
    "%pip install -r requirements_linux.txt\n",
    "%pip install -r requirements.txt"
   ]
  },
  {
   "cell_type": "code",
   "execution_count": null,
   "metadata": {},
   "outputs": [],
   "source": [
    "%pip install -r requirements.txt"
   ]
  },
  {
   "cell_type": "code",
   "execution_count": null,
   "metadata": {},
   "outputs": [],
   "source": [
    "%pip install rich gradio easygui"
   ]
  },
  {
   "cell_type": "code",
   "execution_count": null,
   "metadata": {},
   "outputs": [],
   "source": [
    "%pip install nest_asyncio"
   ]
  },
  {
   "cell_type": "code",
   "execution_count": null,
   "metadata": {},
   "outputs": [],
   "source": [
    "import sys\n",
    "%autoawait True\n",
    "import nest_asyncio\n",
    "nest_asyncio.apply()\n",
    "python_exec_path = sys.executable\n",
    "%cd /notebooks/kohya_ss\n",
    "%run kohya_gui.py --share --headless "
   ]
  },
  {
   "cell_type": "code",
   "execution_count": null,
   "metadata": {},
   "outputs": [],
   "source": [
    "!cp /notebooks/kohya_ss/output/SDXL1.4_2_Blockout/SDXL1.4-Blockout.safetensors /notebooks/ComfyUI/models/loras/SDXL1.4-Blockout.safetensors"
   ]
  }
 ],
 "metadata": {
  "kernelspec": {
   "display_name": "xxx",
   "language": "python",
   "name": "xxx"
  },
  "language_info": {
   "codemirror_mode": {
    "name": "ipython",
    "version": 3
   },
   "file_extension": ".py",
   "mimetype": "text/x-python",
   "name": "python",
   "nbconvert_exporter": "python",
   "pygments_lexer": "ipython3",
   "version": "3.10.6"
  }
 },
 "nbformat": 4,
 "nbformat_minor": 2
}
