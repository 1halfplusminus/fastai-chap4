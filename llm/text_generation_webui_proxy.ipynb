{
 "cells": [
  {
   "cell_type": "code",
   "execution_count": null,
   "metadata": {},
   "outputs": [],
   "source": [
    "!cloudflared tunnel --url http://0.0.0.0:7860"
   ]
  },
  {
   "cell_type": "code",
   "execution_count": null,
   "metadata": {},
   "outputs": [],
   "source": [
    "!npm install -g localtunnel"
   ]
  },
  {
   "cell_type": "code",
   "execution_count": null,
   "metadata": {},
   "outputs": [],
   "source": [
    "!curl ipv4.icanhazip.com"
   ]
  },
  {
   "cell_type": "code",
   "execution_count": null,
   "metadata": {},
   "outputs": [],
   "source": [
    "!lt --port 7860"
   ]
  }
 ],
 "metadata": {
  "kernelspec": {
   "display_name": "dreamgaussian",
   "language": "python",
   "name": "dreamgaussian"
  }
 },
 "nbformat": 4,
 "nbformat_minor": 2
}
