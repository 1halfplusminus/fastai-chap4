{
 "cells": [
  {
   "cell_type": "code",
   "execution_count": null,
   "metadata": {},
   "outputs": [],
   "source": [
    "!apt-get install portaudio19-dev -y"
   ]
  },
  {
   "cell_type": "code",
   "execution_count": null,
   "metadata": {},
   "outputs": [],
   "source": [
    "%pip install ninja"
   ]
  },
  {
   "cell_type": "code",
   "execution_count": null,
   "metadata": {},
   "outputs": [],
   "source": [
    "%pip install xtts-api-server "
   ]
  },
  {
   "cell_type": "code",
   "execution_count": null,
   "metadata": {},
   "outputs": [],
   "source": [
    "!pip install ninja"
   ]
  },
  {
   "cell_type": "code",
   "execution_count": null,
   "metadata": {},
   "outputs": [],
   "source": [
    "!apt update \n",
    "!apt install -y alsa-utils "
   ]
  },
  {
   "cell_type": "code",
   "execution_count": null,
   "metadata": {},
   "outputs": [],
   "source": [
    "%autoawait True\n",
    "import nest_asyncio\n",
    "nest_asyncio.apply()\n",
    "import sys\n",
    "sys.argv = ['xtts_api_server', '--deepspeed', '--port', '8050']\n",
    "import os\n",
    "import sys\n",
    "\n",
    "# Get the full path to the Python executable\n",
    "python_executable_path = sys.executable\n",
    "\n",
    "# Extract the directory path\n",
    "bin_directory = os.path.dirname(python_executable_path)\n",
    "\n",
    "# Now you can use bin_directory as needed\n",
    "print(bin_directory)\n",
    "!{python_executable_path} -m xtts_api_server   --port 9000 --deepspeed --host 0.0.0.0   -sf /notebooks/speakers"
   ]
  }
 ],
 "metadata": {
  "kernelspec": {
   "display_name": "silly_tavern",
   "language": "python",
   "name": "silly_tavern"
  },
  "language_info": {
   "codemirror_mode": {
    "name": "ipython",
    "version": 3
   },
   "file_extension": ".py",
   "mimetype": "text/x-python",
   "name": "python",
   "nbconvert_exporter": "python",
   "pygments_lexer": "ipython3",
   "version": "3.11.5"
  }
 },
 "nbformat": 4,
 "nbformat_minor": 2
}
