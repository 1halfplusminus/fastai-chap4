{
 "cells": [
  {
   "cell_type": "code",
   "execution_count": null,
   "metadata": {},
   "outputs": [],
   "source": [
    "!wget https://huggingface.co/TheBloke/Llama-2-13B-chat-GGUF/resolve/main/llama-2-13b-chat.Q6_K.gguf"
   ]
  },
  {
   "cell_type": "code",
   "execution_count": null,
   "metadata": {},
   "outputs": [],
   "source": [
    "%env HF_HUB_ENABLE_HF_TRANSFER=1\n",
    "!huggingface-cli download TheBloke/Tess-M-Creative-v1.0-GPTQ  --cache-dir=/notebooks/.cache --local-dir /notebooks/text-generation-webui-repo/models/Tess-M-Creative-v1.0-GPTQ --local-dir-use-symlinks False"
   ]
  },
  {
   "cell_type": "code",
   "execution_count": null,
   "metadata": {},
   "outputs": [],
   "source": [
    "%env HF_HUB_ENABLE_HF_TRANSFER=1\n",
    "!huggingface-cli download TheBloke/lzlv_70B-GGUF lzlv_70b_fp16_hf.Q4_0.gguf --cache-dir=/notebooks/.cache --local-dir /notebooks/text-generation-webui-repo/models --local-dir-use-symlinks False"
   ]
  },
  {
   "cell_type": "code",
   "execution_count": null,
   "metadata": {},
   "outputs": [],
   "source": [
    "\n",
    "%env HF_HUB_ENABLE_HF_TRANSFER=1\n",
    "!huggingface-cli download NousResearch/Nous-Capybara-34B --cache-dir=/notebooks/.cache --local-dir /notebooks/text-generation-webui-repo/models/Nous-Capybara-34B  --local-dir-use-symlinks False"
   ]
  },
  {
   "cell_type": "code",
   "execution_count": null,
   "metadata": {},
   "outputs": [],
   "source": [
    "%env HF_HUB_ENABLE_HF_TRANSFER=1\n",
    "!huggingface-cli download TheBloke/lzlv_70B-GGUF --cache-dir=/notebooks/.cache --local-dir /notebooks/text-generation-webui-repo/models/Nous-Capybara-34B-GPTQ  --local-dir-use-symlinks False"
   ]
  },
  {
   "cell_type": "code",
   "execution_count": null,
   "metadata": {},
   "outputs": [],
   "source": [
    "!rm -rf /notebooks/.cache"
   ]
  },
  {
   "cell_type": "code",
   "execution_count": null,
   "metadata": {},
   "outputs": [],
   "source": [
    "%env HF_HUB_ENABLE_HF_TRANSFER=1\n",
    "!huggingface-cli download LoneStriker/Nous-Capybara-34B-5.0bpw-h6-exl2  --local-dir /notebooks/text-generation-webui-repo/models/Nous-Capybara-34B-5.0bpw-h6-exl2 --local-dir-use-symlinks False\n"
   ]
  },
  {
   "cell_type": "code",
   "execution_count": null,
   "metadata": {},
   "outputs": [],
   "source": [
    "\n",
    "\n",
    "%env HF_HUB_ENABLE_HF_TRANSFER=1\n",
    "!huggingface-cli download Undi95/Emerhyst-20B --cache-dir=/notebooks/.cache --local-dir /notebooks/text-generation-webui-repo/models/Emerhyst-20B  --local-dir-use-symlinks False\n"
   ]
  },
  {
   "cell_type": "code",
   "execution_count": null,
   "metadata": {},
   "outputs": [],
   "source": [
    "\n",
    "%env HF_HUB_ENABLE_HF_TRANSFER=1\n",
    "!huggingface-cli download Undi95/MLewd-ReMM-L2-Chat-20B --local-dir /notebooks/text-generation-webui-repo/models/MLewd-ReMM-L2-Chat-20B --local-dir-use-symlinks False\n"
   ]
  },
  {
   "cell_type": "code",
   "execution_count": null,
   "metadata": {},
   "outputs": [],
   "source": [
    "%env HF_HUB_ENABLE_HF_TRANSFER=1\n",
    "!huggingface-cli download TheBloke/dolphin-2.2.1-AshhLimaRP-Mistral-7B-GGUF dolphin-2.2.1-ashhlimarp-mistral-7b.Q5_K_M.gguf  --local-dir /notebooks/text-generation-webui-repo/models --local-dir-use-symlinks False\n"
   ]
  },
  {
   "cell_type": "code",
   "execution_count": null,
   "metadata": {},
   "outputs": [],
   "source": [
    "%env HF_HUB_ENABLE_HF_TRANSFER=1\n",
    "!huggingface-cli download TheBloke/Yi-34B-GGUF yi-34b.Q5_K_M.gguf --cache-dir=/notebooks/.cache --local-dir c --local-dir-use-symlinks False"
   ]
  },
  {
   "cell_type": "code",
   "execution_count": null,
   "metadata": {},
   "outputs": [],
   "source": [
    "\n",
    "%env HF_HUB_ENABLE_HF_TRANSFER=1\n",
    "!huggingface-cli download TheBloke/Emerhyst-20B-GPTQ --cache-dir=/notebooks/.cache --local-dir /notebooks/text-generation-webui-repo/models/Emerhyst-20B-GPTQ --local-dir-use-symlinks False"
   ]
  },
  {
   "cell_type": "code",
   "execution_count": null,
   "metadata": {},
   "outputs": [],
   "source": [
    "!rm -rf /notebooks/.cache"
   ]
  },
  {
   "cell_type": "code",
   "execution_count": null,
   "metadata": {},
   "outputs": [],
   "source": [
    "%env HF_HUB_ENABLE_HF_TRANSFER=1\n",
    "!huggingface-cli   download  LoneStriker/dolphin-2.2-yi-34b-8.0bpw-h8-exl2  --cache-dir=/notebooks/.cache --local-dir /notebooks/text-generation-webui-repo/models/dolphin-2.2-yi-34b-8.0bpw-h8-exl2  --local-dir-use-symlinks False"
   ]
  },
  {
   "cell_type": "code",
   "execution_count": null,
   "metadata": {},
   "outputs": [],
   "source": [
    "%env HF_HUB_ENABLE_HF_TRANSFER=1\n",
    "!huggingface-cli   download LoneStriker/Yi-34B-200K-4.65bpw-h6-exl2  --cache-dir=/notebooks/.cache --local-dir /notebooks/text-generation-webui-repo/models/Yi-34B-200K-4.65bpw-h6-exl2  --local-dir-use-symlinks False"
   ]
  },
  {
   "cell_type": "code",
   "execution_count": null,
   "metadata": {},
   "outputs": [],
   "source": [
    "%env HF_HUB_ENABLE_HF_TRANSFER=0\n",
    "!huggingface-cli   download TheBloke/Dawn-v2-70B-GGUF dawn-v2-70b.Q4_K_M.gguf  --cache-dir=/notebooks/.cache --local-dir /notebooks/text-generation-webui-repo/models --local-dir-use-symlinks False"
   ]
  },
  {
   "cell_type": "code",
   "execution_count": null,
   "metadata": {},
   "outputs": [],
   "source": [
    "%env HF_HUB_ENABLE_HF_TRANSFER=1\n",
    "!huggingface-cli download TheBloke/Synthia-70B-v1.2b-GGUF synthia-70b-v1.2b.Q4_K_M.gguf --cache-dir=/notebooks/.cache --local-dir /notebooks/text-generation-webui-repo/models --local-dir-use-symlinks False"
   ]
  },
  {
   "cell_type": "code",
   "execution_count": null,
   "metadata": {},
   "outputs": [],
   "source": [
    "\n",
    "%env HF_HUB_ENABLE_HF_TRANSFER=1\n",
    "!huggingface-cli download TheBloke/ShiningValiant-1.2-GGUF shiningvaliant-1.2.Q5_K_S.gguf --cache-dir=/notebooks/.cache --local-dir /notebooks/text-generation-webui-repo/models --local-dir-use-symlinks False"
   ]
  },
  {
   "cell_type": "code",
   "execution_count": null,
   "metadata": {},
   "outputs": [],
   "source": [
    "\n",
    "%env HF_HUB_ENABLE_HF_TRANSFER=0\n",
    "!huggingface-cli download TheBloke/ShiningValiant-1.2-GGUF shiningvaliant-1.2.Q4_K_M.gguf --cache-dir=/notebooks/.cache --local-dir /notebooks/text-generation-webui-repo/models --local-dir-use-symlinks False"
   ]
  },
  {
   "cell_type": "code",
   "execution_count": null,
   "metadata": {},
   "outputs": [],
   "source": [
    "%env HF_HUB_ENABLE_HF_TRANSFER=1\n",
    "!huggingface-cli download TheBloke/Synthia-70B-v1.2b-GGUF synthia-70b-v1.2b.Q5_K_S.gguf --cache-dir=/notebooks/.cache --local-dir /notebooks/text-generation-webui-repo/models --local-dir-use-symlinks False"
   ]
  },
  {
   "cell_type": "code",
   "execution_count": null,
   "metadata": {},
   "outputs": [],
   "source": [
    "%env HF_HUB_ENABLE_HF_TRANSFER=1\n",
    "!huggingface-cli download TheBloke/Synthia-70B-v1.2b-GGUF synthia-70b-v1.2b.Q4_K_M.gguf --cache-dir=/notebooks/.cache --local-dir /notebooks/text-generation-webui-repo/models --local-dir-use-symlinks False"
   ]
  },
  {
   "cell_type": "code",
   "execution_count": null,
   "metadata": {},
   "outputs": [],
   "source": [
    "\n",
    "%env HF_HUB_ENABLE_HF_TRANSFER=1\n",
    "!huggingface-cli download oobabooga/llama-tokenizer --cache-dir=/notebooks/.cache --local-dir /notebooks/text-generation-webui-repo/models/llama-tokenizer   --local-dir-use-symlinks False"
   ]
  },
  {
   "cell_type": "code",
   "execution_count": null,
   "metadata": {},
   "outputs": [],
   "source": [
    "!mv /notebooks/_text-generation-webui-repo/models/synthia-70b-v1.2b.Q4_K_M.gguf /notebooks/text-generation-webui-repo/models/synthia-70b-v1.2b.Q4_K_M.gguf"
   ]
  },
  {
   "cell_type": "code",
   "execution_count": null,
   "metadata": {},
   "outputs": [],
   "source": [
    "!rm  /notebooks/text-generation-webui-repo/models/U-Amethyst-20B-GPTQ -rf"
   ]
  },
  {
   "cell_type": "code",
   "execution_count": null,
   "metadata": {},
   "outputs": [],
   "source": [
    "\n",
    "%env HF_HUB_ENABLE_HF_TRANSFER=1\n",
    "!huggingface-cli download TheBloke/Wizard-Vicuna-30B-Uncensored-GPTQ \t--cache-dir=/notebooks/.cache --local-dir /notebooks/text-generation-webui-repo/models/Wizard-Vicuna-30B-Uncensored-GPTQ --local-dir-use-symlinks False"
   ]
  },
  {
   "cell_type": "code",
   "execution_count": null,
   "metadata": {},
   "outputs": [],
   "source": [
    "%env HF_HUB_ENABLE_HF_TRANSFER=1\n",
    "!huggingface-cli download TheBloke/U-Amethyst-20B-GPTQ \t--cache-dir=/notebooks/.cache --local-dir /notebooks/text-generation-webui-repo/models/U-Amethyst-20B-GPTQ --local-dir-use-symlinks False"
   ]
  },
  {
   "cell_type": "code",
   "execution_count": null,
   "metadata": {},
   "outputs": [],
   "source": [
    "!rm  /notebooks/text-generation-webui-repo/models/Wizard-Vicuna-30B-Uncensored-GPTQ  -rf"
   ]
  },
  {
   "cell_type": "code",
   "execution_count": null,
   "metadata": {},
   "outputs": [],
   "source": [
    "%env HF_HUB_ENABLE_HF_TRANSFER=1\n",
    "!huggingface-cli download TheBloke/dolphin-2_2-yi-34b-GGUF dolphin-2_2-yi-34b.Q5_K_M.gguf\t--cache-dir=/notebooks/.cache --local-dir /notebooks/text-generation-webui-repo/models --local-dir-use-symlinks False"
   ]
  },
  {
   "cell_type": "code",
   "execution_count": null,
   "metadata": {},
   "outputs": [],
   "source": [
    "%env HF_HUB_ENABLE_HF_TRANSFER=1\n",
    "!huggingface-cli download TheBloke/Yi-34B-200K-Llamafied-GGUF yi-34b-200k-llamafied.Q5_K_M.gguf --cache-dir=/notebooks/.cache --local-dir /notebooks/text-generation-webui-repo/models --local-dir-use-symlinks False"
   ]
  },
  {
   "cell_type": "code",
   "execution_count": null,
   "metadata": {},
   "outputs": [],
   "source": [
    "\n",
    "%env HF_HUB_ENABLE_HF_TRANSFER=1\n",
    "!huggingface-cli download TheBloke/Wizard-Vicuna-30B-Uncensored-GPTQ \t--cache-dir=/notebooks/.cache --local-dir /notebooks/text-generation-webui-repo/models/Wizard-Vicuna-30B-Uncensored-GPTQ --local-dir-use-symlinks False"
   ]
  },
  {
   "cell_type": "code",
   "execution_count": null,
   "metadata": {},
   "outputs": [],
   "source": [
    "\n",
    "%env HF_HUB_ENABLE_HF_TRANSFER=1\n",
    "!huggingface-cli download TheBloke/Nethena-MLewd-Xwin-23B-GPTQ --cache-dir=/notebooks/.cache --local-dir /notebooks/text-generation-webui-repo/models/Nethena-MLewd-Xwin-23B-GPTQ --local-dir-use-symlinks False"
   ]
  },
  {
   "cell_type": "code",
   "execution_count": null,
   "metadata": {},
   "outputs": [],
   "source": [
    "%env HF_HUB_ENABLE_HF_TRANSFER=1\n",
    "!huggingface-cli download TheBloke/Airoboros-L2-70B-3.1.2-GGUF airoboros-l2-70b-3.1.2.Q4_K_M.gguf --cache-dir=/notebooks/.cache --local-dir /notebooks/text-generation-webui-repo/models --local-dir-use-symlinks False"
   ]
  },
  {
   "cell_type": "code",
   "execution_count": null,
   "metadata": {},
   "outputs": [],
   "source": [
    "%env HF_HUB_ENABLE_HF_TRANSFER=1\n",
    "!huggingface-cli download TheBloke/Airoboros-180B-2.2.1-GGUF airoboros-180b-2.2.1.Q5_K_M.gguf-split-a --cache-dir=/notebooks/.cache --local-dir /notebooks/text-generation-webui-repo/models --local-dir-use-symlinks False\n"
   ]
  },
  {
   "cell_type": "code",
   "execution_count": null,
   "metadata": {},
   "outputs": [],
   "source": [
    "%env HF_HUB_ENABLE_HF_TRANSFER=1\n",
    "!huggingface-cli download TheBloke/Airoboros-180B-2.2.1-GGUF airoboros-180b-2.2.1.Q5_K_M.gguf-split-b --cache-dir=/notebooks/.cache --local-dir /notebooks/text-generation-webui-repo/models --local-dir-use-symlinks False\n"
   ]
  },
  {
   "cell_type": "code",
   "execution_count": null,
   "metadata": {},
   "outputs": [],
   "source": [
    "%env HF_HUB_ENABLE_HF_TRANSFER=1\n",
    "!huggingface-cli download TheBloke/Airoboros-180B-2.2.1-GGUF airoboros-180b-2.2.1.Q5_K_M.gguf-split-c --cache-dir=/notebooks/.cache --local-dir /notebooks/text-generation-webui-repo/models --local-dir-use-symlinks False\n"
   ]
  },
  {
   "cell_type": "code",
   "execution_count": null,
   "metadata": {},
   "outputs": [],
   "source": [
    "%cd  /notebooks/text-generation-webui-repo/models\n",
    "!ls"
   ]
  },
  {
   "cell_type": "code",
   "execution_count": null,
   "metadata": {},
   "outputs": [],
   "source": [
    "!wget https://huggingface.co/TheBloke/Wizard-Vicuna-13B-Uncensored-GGUF/resolve/main/Wizard-Vicuna-13B-Uncensored.Q6_K.gguf"
   ]
  },
  {
   "cell_type": "code",
   "execution_count": null,
   "metadata": {},
   "outputs": [],
   "source": [
    "\n",
    "%env HF_HUB_ENABLE_HF_TRANSFER=1\n",
    "!huggingface-cli download TheBloke/Capybara-Tess-Yi-34B-200K-GGUF capybara-tess-yi-34b-200k.Q5_K_M.gguf --cache-dir=/notebooks/.cache --local-dir /notebooks/text-generation-webui-repo/models --local-dir-use-symlinks False\n"
   ]
  },
  {
   "cell_type": "code",
   "execution_count": null,
   "metadata": {},
   "outputs": [],
   "source": [
    "%env HF_HUB_ENABLE_HF_TRANSFER=1\n",
    "!huggingface-cli download TheBloke/OrionStar-Yi-34B-Chat-Llama-GGUF orionstar-yi-34b-chat-llama.Q5_K_M.gguf --cache-dir=/notebooks/.cache --local-dir /notebooks/text-generation-webui-repo/models --local-dir-use-symlinks False\n"
   ]
  },
  {
   "cell_type": "code",
   "execution_count": null,
   "metadata": {},
   "outputs": [],
   "source": [
    "%env HF_HUB_ENABLE_HF_TRANSFER=1\n",
    "!huggingface-cli download OrionStarAI/OrionStar-Yi-34B-Chat-Llama --cache-dir=/notebooks/.cache --local-dir /notebooks/text-generation-webui-repo/models/OrionStar-Yi-34B-Chat-Llama --local-dir-use-symlinks False\n"
   ]
  },
  {
   "cell_type": "code",
   "execution_count": null,
   "metadata": {},
   "outputs": [],
   "source": [
    "\n",
    "%env HF_HUB_ENABLE_HF_TRANSFER=1\n",
    "!huggingface-cli download TheBloke/dolphin-2_2-yi-34b-GGUF dolphin-2_2-yi-34b.Q5_K_M.gguf --cache-dir=/notebooks/.cache --local-dir /notebooks/text-generation-webui-repo/models --local-dir-use-symlinks False\n"
   ]
  },
  {
   "cell_type": "code",
   "execution_count": null,
   "metadata": {},
   "outputs": [],
   "source": [
    "%env HF_HUB_ENABLE_HF_TRANSFER=1\n",
    "!huggingface-cli download TheBloke/GodziLLa2-70B-AWQ --cache-dir=/notebooks/.cache --local-dir /notebooks/text-generation-webui-repo/models/GodziLLa2-70B-AWQ  --local-dir-use-symlinks False"
   ]
  },
  {
   "cell_type": "code",
   "execution_count": null,
   "metadata": {},
   "outputs": [],
   "source": [
    "%env HF_HUB_ENABLE_HF_TRANSFER=1\n",
    "!huggingface-cli download TheBloke/dolphin-2_2-yi-34b-AWQ --cache-dir=/notebooks/.cache --local-dir /notebooks/text-generation-webui-repo/models/dolphin-2_2-yi-34b-AWQ  --local-dir-use-symlinks False"
   ]
  },
  {
   "cell_type": "code",
   "execution_count": null,
   "metadata": {},
   "outputs": [],
   "source": [
    "%env HF_HUB_ENABLE_HF_TRANSFER=1\n",
    "!huggingface-cli download OpenBuddy/openbuddy-llama2-70b-v10.1-bf16 --cache-dir=/notebooks/.cache --local-dir /notebooks/text-generation-webui-repo/models/openbuddy-llama2-70b-v10.1-bf16 --local-dir-use-symlinks False\n"
   ]
  },
  {
   "cell_type": "code",
   "execution_count": null,
   "metadata": {},
   "outputs": [],
   "source": [
    "\n",
    "%env HF_HUB_ENABLE_HF_TRANSFER=1\n",
    "!huggingface-cli download 01-ai/Yi-34B-Chat-8bits --cache-dir=/notebooks/.cache --local-dir /notebooks/text-generation-webui-repo/models/Yi-34B-Chat-8bits --local-dir-use-symlinks False\n"
   ]
  },
  {
   "cell_type": "code",
   "execution_count": null,
   "metadata": {},
   "outputs": [],
   "source": [
    "\n",
    "%env HF_HUB_ENABLE_HF_TRANSFER=1\n",
    "!huggingface-cli download OrionStarAI/OrionStar-Yi-34B-Chat-Llama --cache-dir=/notebooks/.cache --local-dir /notebooks/text-generation-webui-repo/models/OrionStar-Yi-34B-Chat-Llama  --local-dir-use-symlinks False\n"
   ]
  },
  {
   "cell_type": "code",
   "execution_count": null,
   "metadata": {},
   "outputs": [],
   "source": [
    "\n",
    "\n",
    "%env HF_HUB_ENABLE_HF_TRANSFER=1\n",
    "!huggingface-cli download TheBloke/OrionStar-Yi-34B-Chat-Llama-GGUF orionstar-yi-34b-chat-llama.Q6_K.gguf --cache-dir=/notebooks/.cache --local-dir /notebooks/text-generation-webui-repo/models --local-dir-use-symlinks False\n"
   ]
  },
  {
   "cell_type": "code",
   "execution_count": null,
   "metadata": {},
   "outputs": [],
   "source": [
    "\n",
    "%env HF_HUB_ENABLE_HF_TRANSFER=1\n",
    "!huggingface-cli download TheBloke/Capybara-Tess-Yi-34B-200K-GGUF capybara-tess-yi-34b-200k.Q6_K.gguf --cache-dir=/notebooks/.cache --local-dir /notebooks/text-generation-webui-repo/models --local-dir-use-symlinks False\n"
   ]
  },
  {
   "cell_type": "code",
   "execution_count": null,
   "metadata": {},
   "outputs": [],
   "source": [
    "%env HF_HUB_ENABLE_HF_TRANSFER=1\n",
    "!huggingface-cli download TheBloke/Nous-Capybara-34B-GGUF  nous-capybara-34b.Q6_K.gguf --cache-dir=/notebooks/.cache --local-dir /notebooks/text-generation-webui-repo/models --local-dir-use-symlinks False"
   ]
  },
  {
   "cell_type": "code",
   "execution_count": null,
   "metadata": {},
   "outputs": [],
   "source": [
    "\n",
    "%env HF_HUB_ENABLE_HF_TRANSFER=1\n",
    "!huggingface-cli download brucethemoose/Capybara-Tess-Yi-34B-200K-exl2-4bpw-fiction --cache-dir=/notebooks/.cache --local-dir /notebooks/text-generation-webui-repo/models/Capybara-Tess-Yi-34B-200K-exl2-4bpw-fiction --local-dir-use-symlinks False"
   ]
  },
  {
   "cell_type": "code",
   "execution_count": null,
   "metadata": {},
   "outputs": [],
   "source": [
    "%env HF_HUB_ENABLE_HF_TRANSFER=1\n",
    "!huggingface-cli download TheBloke/OrionStar-Yi-34B-Chat-Llama-GPTQ --cache-dir=/notebooks/.cache --local-dir /notebooks/text-generation-webui-repo/models/OrionStar-Yi-34B-Chat-Llama-GPTQ --local-dir-use-symlinks False"
   ]
  },
  {
   "cell_type": "code",
   "execution_count": null,
   "metadata": {},
   "outputs": [],
   "source": [
    "%env HF_HUB_ENABLE_HF_TRANSFER=1\n",
    "!huggingface-cli download nsfwthrowitaway69/Venus-120b-v1.0 --revision exl2-3.0bpw --cache-dir=/notebooks/.cache --local-dir /notebooks/text-generation-webui-repo/models/Venus-120b-v1.0 --local-dir-use-symlinks False\n"
   ]
  },
  {
   "cell_type": "code",
   "execution_count": null,
   "metadata": {},
   "outputs": [],
   "source": [
    "!rm /notebooks/text-generation-webui-repo/models/OrionStar-Yi-34B-Chat-Llama-GPTQ -rf"
   ]
  },
  {
   "cell_type": "code",
   "execution_count": null,
   "metadata": {},
   "outputs": [],
   "source": [
    "\n",
    "%env HF_HUB_ENABLE_HF_TRANSFER=1\n",
    "!huggingface-cli download Panchovix/goliath-120b-exl2-rpcal --revision 3bpw --cache-dir=/notebooks/.cache --local-dir /notebooks/text-generation-webui-repo/models/goliath-120b-exl2-rpcal --local-dir-use-symlinks False\n"
   ]
  },
  {
   "cell_type": "code",
   "execution_count": null,
   "metadata": {},
   "outputs": [],
   "source": [
    "\n",
    "%env HF_HUB_ENABLE_HF_TRANSFER=1\n",
    "!huggingface-cli download SUSTech/SUS-Chat-34B  --cache-dir=/notebooks/.cache --local-dir /notebooks/text-generation-webui-repo/models/SUS-Chat-34B --local-dir-use-symlinks False\n"
   ]
  },
  {
   "cell_type": "code",
   "execution_count": null,
   "metadata": {},
   "outputs": [],
   "source": [
    "%env HF_HUB_ENABLE_HF_TRANSFER=1\n",
    "!huggingface-cli download LoneStriker/SUS-Chat-34B-5.0bpw-h6-exl2 --cache-dir=/notebooks/.cache --local-dir /notebooks/text-generation-webui-repo/models/US-Chat-34B-5.0bpw-h6-exl2 --local-dir-use-symlinks False\n"
   ]
  },
  {
   "cell_type": "code",
   "execution_count": null,
   "metadata": {},
   "outputs": [],
   "source": [
    "!rm /notebooks/text-generation-webui-repo/models/US-Chat-34B-5.0bpw-h6-exl2 -rf"
   ]
  },
  {
   "cell_type": "code",
   "execution_count": null,
   "metadata": {},
   "outputs": [],
   "source": [
    "!rm /notebooks/text-generation-webui-repo/models/goliath-120b-exl2-rpcal"
   ]
  },
  {
   "cell_type": "code",
   "execution_count": null,
   "metadata": {},
   "outputs": [],
   "source": [
    "\n",
    "%env HF_HUB_ENABLE_HF_TRANSFER=1\n",
    "!huggingface-cli download LoneStriker/Aetheria-L2-70B-4.65bpw-h6-exl2-2   --cache-dir=/notebooks/.cache --local-dir /notebooks/text-generation-webui-repo/models/Aetheria-L2-70B-4.65bpw-h6-exl2-2  --local-dir-use-symlinks False\n"
   ]
  },
  {
   "cell_type": "code",
   "execution_count": null,
   "metadata": {},
   "outputs": [],
   "source": [
    "\n",
    "\n",
    "%env HF_HUB_ENABLE_HF_TRANSFER=1\n",
    "!huggingface-cli download zgce/Yi-34B-Chat-Spicyboros-limarpv3-4bpw-hb6-exl2   --cache-dir=/notebooks/.cache --local-dir /notebooks/text-generation-webui-repo/models/Yi-34B-Chat-Spicyboros-limarpv3-4bpw-hb6-exl2  --local-dir-use-symlinks False\n"
   ]
  },
  {
   "cell_type": "code",
   "execution_count": null,
   "metadata": {},
   "outputs": [],
   "source": [
    "\n",
    "\n",
    "%env HF_HUB_ENABLE_HF_TRANSFER=1\n",
    "!huggingface-cli download brucethemoose/CapyTessBorosYi-34B-200K-DARE-Ties-exl2-4bpw-fiction  --cache-dir=/notebooks/.cache --local-dir /notebooks/text-generation-webui-repo/models/CapyTessBorosYi-34B-200K-DARE-Ties-exl2-4bpw-fiction   --local-dir-use-symlinks False\n"
   ]
  },
  {
   "cell_type": "code",
   "execution_count": null,
   "metadata": {},
   "outputs": [],
   "source": [
    "%env HF_HUB_ENABLE_HF_TRANSFER=1\n",
    "!huggingface-cli download TheBloke/Mixtral-8x7B-Instruct-v0.1-GGUF  mixtral-8x7b-instruct-v0.1.Q5_K_M.gguf --cache-dir=/notebooks/.cache --local-dir /notebooks/text-generation-webui-repo/models --local-dir-use-symlinks False"
   ]
  },
  {
   "cell_type": "code",
   "execution_count": null,
   "metadata": {},
   "outputs": [],
   "source": [
    "# Définissez les variables d'ID de modèle et de nom de fichier\n",
    "model_id = \"TheBloke/dolphin-2.5-mixtral-8x7b-GGUF\"\n",
    "file_name = \"dolphin-2.5-mixtral-8x7b.Q4_K_M.gguf\"\n",
    "out_dir = 'text-generation-webui-repo/models'\n",
    "# Définissez l'URL de téléchargement en utilisant l'ID du modèle\n",
    "download_url = f\"https://huggingface.co/{model_id}/resolve/main/{file_name}?download=true\"\n",
    "\n",
    "# Définissez le chemin de sortie où le fichier sera enregistré\n",
    "output_path = f\"{out_dir}/{file_name}\"\n",
    "\n",
    "# Utilisez la commande ! pour télécharger le fichier en utilisant aria2c\n",
    "!aria2c --console-log-level=error -c -x 16 -s 16 -k 1M -o {output_path} {download_url}"
   ]
  },
  {
   "cell_type": "code",
   "execution_count": null,
   "metadata": {},
   "outputs": [],
   "source": [
    "%env HF_HUB_ENABLE_HF_TRANSFER=1\n",
    "!huggingface-cli download TheBloke/Mixtral-8x7B-Instruct-v0.1-GGUF  mixtral-8x7b-instruct-v0.1.Q5_K_M.gguf --cache-dir=/notebooks/.cache --local-dir /notebooks/text-generation-webui-repo/models --local-dir-use-symlinks False"
   ]
  },
  {
   "cell_type": "code",
   "execution_count": null,
   "metadata": {},
   "outputs": [],
   "source": [
    "%env HF_HUB_ENABLE_HF_TRANSFER=1\n",
    "!huggingface-cli download TheBloke/Mixtral-8x7B-Instruct-v0.1-GGUF  mixtral-8x7b-instruct-v0.1.Q5_K_M.gguf --cache-dir=/notebooks/.cache --local-dir /notebooks/text-generation-webui-repo/models --local-dir-use-symlinks False"
   ]
  },
  {
   "cell_type": "code",
   "execution_count": null,
   "metadata": {},
   "outputs": [],
   "source": [
    "%env HF_HUB_ENABLE_HF_TRANSFER=1\n",
    "!huggingface-cli download TheBloke/Mixtral-8x7B-Instruct-v0.1-GGUF  mixtral-8x7b-instruct-v0.1.Q5_K_M.gguf --cache-dir=/notebooks/.cache --local-dir /notebooks/text-generation-webui-repo/models --local-dir-use-symlinks False"
   ]
  },
  {
   "cell_type": "code",
   "execution_count": null,
   "metadata": {},
   "outputs": [],
   "source": [
    "%env HF_HUB_ENABLE_HF_TRANSFER=1\n",
    "!huggingface-cli download TheBloke/Mixtral-8x7B-Instruct-v0.1-GGUF  mixtral-8x7b-instruct-v0.1.Q5_K_M.gguf --cache-dir=/notebooks/.cache --local-dir /notebooks/text-generation-webui-repo/models --local-dir-use-symlinks False"
   ]
  },
  {
   "cell_type": "code",
   "execution_count": null,
   "metadata": {},
   "outputs": [],
   "source": [
    "%env HF_HUB_ENABLE_HF_TRANSFER=1\n",
    "!huggingface-cli download TheBloke/Mixtral-8x7B-Instruct-v0.1-GGUF  mixtral-8x7b-instruct-v0.1.Q5_K_M.gguf --cache-dir=/notebooks/.cache --local-dir /notebooks/text-generation-webui-repo/models --local-dir-use-symlinks False"
   ]
  },
  {
   "cell_type": "code",
   "execution_count": null,
   "metadata": {},
   "outputs": [],
   "source": [
    "%env HF_HUB_ENABLE_HF_TRANSFER=1\n",
    "!huggingface-cli download TheBloke/Mixtral-8x7B-Instruct-v0.1-GGUF  mixtral-8x7b-instruct-v0.1.Q5_K_M.gguf --cache-dir=/notebooks/.cache --local-dir /notebooks/text-generation-webui-repo/models --local-dir-use-symlinks False"
   ]
  },
  {
   "cell_type": "code",
   "execution_count": null,
   "metadata": {},
   "outputs": [],
   "source": [
    "%env HF_HUB_ENABLE_HF_TRANSFER=1\n",
    "!huggingface-cli download TheBloke/Mixtral-8x7B-Instruct-v0.1-GGUF  mixtral-8x7b-instruct-v0.1.Q5_K_M.gguf --cache-dir=/notebooks/.cache --local-dir /notebooks/text-generation-webui-repo/models --local-dir-use-symlinks False"
   ]
  },
  {
   "cell_type": "code",
   "execution_count": null,
   "metadata": {},
   "outputs": [],
   "source": [
    "%env HF_HUB_ENABLE_HF_TRANSFER=1\n",
    "!huggingface-cli download TheBloke/Mixtral-8x7B-Instruct-v0.1-GGUF  mixtral-8x7b-instruct-v0.1.Q5_K_M.gguf --cache-dir=/notebooks/.cache --local-dir /notebooks/text-generation-webui-repo/models --local-dir-use-symlinks False"
   ]
  },
  {
   "cell_type": "code",
   "execution_count": null,
   "metadata": {},
   "outputs": [],
   "source": [
    "%env HF_HUB_ENABLE_HF_TRANSFER=1\n",
    "!huggingface-cli download TheBloke/Mixtral-8x7B-Instruct-v0.1-GGUF  mixtral-8x7b-instruct-v0.1.Q5_K_M.gguf --cache-dir=/notebooks/.cache --local-dir /notebooks/text-generation-webui-repo/models --local-dir-use-symlinks False"
   ]
  },
  {
   "cell_type": "code",
   "execution_count": null,
   "metadata": {},
   "outputs": [],
   "source": [
    "%env HF_HUB_ENABLE_HF_TRANSFER=1\n",
    "!huggingface-cli download TheBloke/Mixtral-8x7B-Instruct-v0.1-GGUF  mixtral-8x7b-instruct-v0.1.Q5_K_M.gguf --cache-dir=/notebooks/.cache --local-dir /notebooks/text-generation-webui-repo/models --local-dir-use-symlinks False"
   ]
  },
  {
   "cell_type": "code",
   "execution_count": null,
   "metadata": {},
   "outputs": [],
   "source": [
    "%env HF_HUB_ENABLE_HF_TRANSFER=1\n",
    "!huggingface-cli download TheBloke/Mixtral-8x7B-Instruct-v0.1-GGUF  mixtral-8x7b-instruct-v0.1.Q5_K_M.gguf --cache-dir=/notebooks/.cache --local-dir /notebooks/text-generation-webui-repo/models --local-dir-use-symlinks False"
   ]
  },
  {
   "cell_type": "code",
   "execution_count": null,
   "metadata": {},
   "outputs": [],
   "source": [
    "%env HF_HUB_ENABLE_HF_TRANSFER=1\n",
    "!huggingface-cli download TheBloke/Mixtral-8x7B-Instruct-v0.1-GGUF  mixtral-8x7b-instruct-v0.1.Q5_K_M.gguf --cache-dir=/notebooks/.cache --local-dir /notebooks/text-generation-webui-repo/models --local-dir-use-symlinks False"
   ]
  },
  {
   "cell_type": "code",
   "execution_count": null,
   "metadata": {},
   "outputs": [],
   "source": [
    "%env HF_HUB_ENABLE_HF_TRANSFER=1\n",
    "!huggingface-cli download TheBloke/Mixtral-8x7B-Instruct-v0.1-GGUF  mixtral-8x7b-instruct-v0.1.Q5_K_M.gguf --cache-dir=/notebooks/.cache --local-dir /notebooks/text-generation-webui-repo/models --local-dir-use-symlinks False"
   ]
  },
  {
   "cell_type": "code",
   "execution_count": null,
   "metadata": {},
   "outputs": [],
   "source": [
    "%env HF_HUB_ENABLE_HF_TRANSFER=1\n",
    "!huggingface-cli download TheBloke/Mixtral-8x7B-Instruct-v0.1-GGUF  mixtral-8x7b-instruct-v0.1.Q5_K_M.gguf --cache-dir=/notebooks/.cache --local-dir /notebooks/text-generation-webui-repo/models --local-dir-use-symlinks False"
   ]
  },
  {
   "cell_type": "code",
   "execution_count": null,
   "metadata": {},
   "outputs": [],
   "source": [
    "!aria2c --console-log-level=error -c -x 16 -s 16 -k 1M  https://huggingface.co/TheBloke/Mixtral-8x7B-Instruct-v0.1-GGUF/resolve/main/mixtral-8x7b-instruct-v0.1.Q5_K_M.gguf?download=true -d /notebooks/text-generation-webui-repo/models  -o \"mixtral-8x7b-instruct-v0.1.Q5_K_M.gguf\""
   ]
  },
  {
   "cell_type": "code",
   "execution_count": null,
   "metadata": {},
   "outputs": [],
   "source": [
    "!aria2c --console-log-level=error -c -x 16 -s 16 -k 1M  https://huggingface.co/Undi95/Mixtral-8x7B-MoE-RP-Story-GGUF/resolve/main/Mixtral-8x7B-MoE-RP-Story.q5_0.gguf?download=true -d /notebooks/text-generation-webui-repo/models  -o \"Mixtral-8x7B-MoE-RP-Story.q5_0.gguf\""
   ]
  },
  {
   "cell_type": "code",
   "execution_count": null,
   "metadata": {},
   "outputs": [],
   "source": [
    "!aria2c --console-log-level=error -c -x 16 -s 16 -k 1M  https://huggingface.co/TheBloke/deepseek-coder-33B-instruct-GGUF/resolve/main/deepseek-coder-33b-instruct.Q5_K_M.gguf?download=true -d /notebooks/text-generation-webui-repo/models  -o \"deepseek-coder-33b-instruct.Q5_K_M.gguf\""
   ]
  },
  {
   "cell_type": "code",
   "execution_count": null,
   "metadata": {},
   "outputs": [],
   "source": [
    "!aria2c --console-log-level=error -c -x 16 -s 16 -k 1M  https://huggingface.co/Undi95/Llamix2-MLewd-4x13B-GGUF/resolve/main/Llamix2-MLewd-4x13B.q5_k_m.gguf?download=true -d /notebooks/text-generation-webui-repo/models  -o \"Llamix2-MLewd-4x13B.q5_k_m.gguf\""
   ]
  }
 ],
 "metadata": {
  "kernelspec": {
   "display_name": "Python 3 (ipykernel)",
   "language": "python",
   "name": "python3"
  },
  "language_info": {
   "codemirror_mode": {
    "name": "ipython",
    "version": 3
   },
   "file_extension": ".py",
   "mimetype": "text/x-python",
   "name": "python",
   "nbconvert_exporter": "python",
   "pygments_lexer": "ipython3",
   "version": "3.9.13"
  }
 },
 "nbformat": 4,
 "nbformat_minor": 2
}
