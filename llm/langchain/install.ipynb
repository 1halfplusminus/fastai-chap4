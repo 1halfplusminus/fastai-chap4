{
 "cells": [
  {
   "cell_type": "code",
   "execution_count": null,
   "metadata": {},
   "outputs": [],
   "source": [
    "workspace=\"notebooks\""
   ]
  },
  {
   "cell_type": "code",
   "execution_count": null,
   "metadata": {},
   "outputs": [],
   "source": [
    "# Update and upgrade\n",
    "!apt-get update\n",
    "!apt-get upgrade -y\n",
    "\n",
    "# Install the necessary packages\n",
    "!apt-get install -y git build-essential python3 python3-pip gcc wget ocl-icd-opencl-dev opencl-headers clinfo libclblast-dev libopenblas-dev\n",
    "\n",
    "# Configure OpenCL for NVIDIA\n",
    "!mkdir -p /etc/OpenCL/vendors\n",
    "!echo \"libnvidia-opencl.so.1\" > /etc/OpenCL/vendors/nvidia.icd"
   ]
  },
  {
   "cell_type": "code",
   "execution_count": null,
   "metadata": {},
   "outputs": [],
   "source": [
    "%pip install torch  torchvision torchaudio   --index-url https://download.pytorch.org/whl/nightly/cu121"
   ]
  },
  {
   "cell_type": "code",
   "execution_count": null,
   "metadata": {},
   "outputs": [],
   "source": [
    "%pip install xformers"
   ]
  },
  {
   "cell_type": "code",
   "execution_count": null,
   "metadata": {},
   "outputs": [],
   "source": [
    "#%pip install  optimum>=1.12.0\n",
    "#%pip install auto-gptq  --extra-index-url https://huggingface.github.io/autogptq-index/whl/cu117/ "
   ]
  },
  {
   "cell_type": "code",
   "execution_count": null,
   "metadata": {},
   "outputs": [],
   "source": [
    "#!wget -qO - http://packages.lunarg.com/lunarg-signing-key-pub.asc | sudo apt-key add -\n",
    "#!wget -qO /etc/apt/sources.list.d/lunarg-vulkan-focal.list http://packages.lunarg.com/vulkan/lunarg-vulkan-focal.list\n",
    "#!apt update\n",
    "#!apt install vulkan-sdk  -y"
   ]
  },
  {
   "cell_type": "code",
   "execution_count": null,
   "metadata": {},
   "outputs": [],
   "source": [
    "#!apt install vulkan-tools mesa-vulkan-drivers vulkan-utils libvulkan-dev -y\n"
   ]
  },
  {
   "cell_type": "code",
   "execution_count": null,
   "metadata": {},
   "outputs": [],
   "source": [
    "#!vulkaninfo | grep -i deviceName"
   ]
  },
  {
   "cell_type": "code",
   "execution_count": null,
   "metadata": {},
   "outputs": [],
   "source": [
    "!apt install libxcb-cursor0 -y"
   ]
  },
  {
   "cell_type": "code",
   "execution_count": null,
   "metadata": {},
   "outputs": [],
   "source": [
    "import os\n",
    "%cd /notebooks\n",
    "!rm /notebooks/llama-cpp-python\n",
    "!git clone --recurse-submodules https://github.com/abetlen/llama-cpp-python.git\n",
    "%cd /notebooks/llama-cpp-python\n",
    "!git pull\n",
    "#%cd /notebooks/llama-cpp-python/vendor\n",
    "#!git clone https://github.com/ggerganov/llama.cpp.git\n",
    "%cd /notebooks/llama-cpp-python/vendor/llama.cpp\n",
    "#!git checkout mixtral\n",
    "!git pull\n",
    "#!rm build -rf\n",
    "#!mkdir build\n",
    "#%cd build\n",
    "#!cmake .. -DLLAMA_CUBLAS=ON   #-DLLAMA_CUBLAS=ON  DLLAMA_CUDA_FORCE_MMQ=ON\n",
    "#!cmake --build . --config Release\n",
    "%cd /notebooks/llama-cpp-python\n",
    "os.environ['CMAKE_ARGS'] = \"-DLLAMA_CUBLAS=on\"\n",
    "os.environ['FORCE_CMAKE'] = \"1\"\n",
    "%env  -DLLAMA_CUBLAS=ON #CMAKE_ARGS=\"-DLLAMA_CUBLAS=ON -DLLAMA_CUDA_FORCE_MMQ=ON\"\n",
    "%pip uninstall -y llama_cpp_python llama_cpp_python_cuda\n",
    "%pip install -v -e  .[server] --upgrade  --force-reinstall"
   ]
  },
  {
   "cell_type": "code",
   "execution_count": null,
   "metadata": {},
   "outputs": [],
   "source": [
    "#%cd /notebooks\n",
    "#!git clone --recurse-submodules https://github.com/nomic-ai/gpt4all.git\n",
    "#%cd gpt4all/gpt4all-backend/\n",
    "#!rm build -rf\n",
    "#!mkdir build\n",
    "#%cd build\n",
    "#!cmake -DKOMPUTE_OPT_BUILT_IN_VULKAN_HEADER_TAG=v1.1.182 -DKOMPUTE_OPT_USE_BUILT_IN_VULKAN_HEADER=OFF -DKOMPUTE_OPT_DISABLE_VULKAN_VERSION_CHECK=ON .. \n",
    "#!cmake --build .  # optionally append: --config Release"
   ]
  },
  {
   "cell_type": "code",
   "execution_count": null,
   "metadata": {},
   "outputs": [],
   "source": [
    "#%cd /notebooks/gpt4all/gpt4all-bindings/python\n",
    "#%pip install -e ."
   ]
  },
  {
   "cell_type": "code",
   "execution_count": null,
   "metadata": {},
   "outputs": [],
   "source": [
    "%pip install chromadb gradio "
   ]
  },
  {
   "cell_type": "code",
   "execution_count": null,
   "metadata": {},
   "outputs": [],
   "source": [
    "import os\n",
    "\n",
    "os.environ['CUDA_VERSION'] = \"121\"\n",
    "%pip uninstall bitsandbytes -y\n",
    "!git clone https://github.com/TimDettmers/bitsandbytes.git\n",
    "%cd /$workspace/bitsandbytes\n",
    "%env CUDA_VERSION=121\n",
    "!make cuda11x\n",
    "%run setup.py install "
   ]
  },
  {
   "cell_type": "code",
   "execution_count": null,
   "metadata": {},
   "outputs": [],
   "source": [
    "%pip install scipy"
   ]
  },
  {
   "cell_type": "code",
   "execution_count": null,
   "metadata": {},
   "outputs": [],
   "source": [
    "import sys\n",
    "python_exec_path = sys.executable\n",
    "!{python_exec_path} -m bitsandbytes "
   ]
  },
  {
   "cell_type": "code",
   "execution_count": null,
   "metadata": {},
   "outputs": [],
   "source": [
    "%pip install langchain[llms]"
   ]
  },
  {
   "cell_type": "code",
   "execution_count": null,
   "metadata": {},
   "outputs": [],
   "source": [
    "%pip install openai  "
   ]
  },
  {
   "cell_type": "code",
   "execution_count": null,
   "metadata": {},
   "outputs": [],
   "source": [
    "%pip install langchainhub"
   ]
  },
  {
   "cell_type": "code",
   "execution_count": null,
   "metadata": {},
   "outputs": [],
   "source": [
    "\n",
    "%cd /$workspace/\n",
    "!git clone https://github.com/huggingface/transformers.git\n",
    "%cd transformers\n",
    "!git pull\n",
    "%pip install -e .\n",
    "%cd /$workspace/"
   ]
  },
  {
   "cell_type": "code",
   "execution_count": null,
   "metadata": {},
   "outputs": [],
   "source": [
    "%pip install python-dotenv"
   ]
  },
  {
   "cell_type": "code",
   "execution_count": null,
   "metadata": {},
   "outputs": [],
   "source": [
    "%load_ext dotenv"
   ]
  },
  {
   "cell_type": "code",
   "execution_count": null,
   "metadata": {},
   "outputs": [],
   "source": [
    "%dotenv /notebooks/chainlang/my.env"
   ]
  }
 ],
 "metadata": {
  "kernelspec": {
   "display_name": "text_webui",
   "language": "python",
   "name": "text_webui"
  },
  "language_info": {
   "codemirror_mode": {
    "name": "ipython",
    "version": 3
   },
   "file_extension": ".py",
   "mimetype": "text/x-python",
   "name": "python",
   "nbconvert_exporter": "python",
   "pygments_lexer": "ipython3",
   "version": "3.11.5"
  }
 },
 "nbformat": 4,
 "nbformat_minor": 2
}
