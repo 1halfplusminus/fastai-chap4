{
 "cells": [
  {
   "cell_type": "code",
   "execution_count": null,
   "metadata": {},
   "outputs": [],
   "source": [
    "#%run server.py --model goliath-120b.Q2_K.gguf --n_ctx 4096  --n-gpu-layers 140  --chat-buttons --api  "
   ]
  },
  {
   "cell_type": "code",
   "execution_count": null,
   "metadata": {},
   "outputs": [],
   "source": [
    "#%run server.py   --chat-buttons --api --model Nous-Capybara-34B --load-in-8bit  --trust-remote-code"
   ]
  },
  {
   "cell_type": "code",
   "execution_count": null,
   "metadata": {},
   "outputs": [],
   "source": [
    "%run server.py --model Yi-34B-Chat-8bits --gpu-memory 4860  --max_seq_len 18000 --n_ctx 18000  --n-gpu-layers 140 --no_use_fast --chat-buttons --api   "
   ]
  },
  {
   "cell_type": "code",
   "execution_count": null,
   "metadata": {},
   "outputs": [],
   "source": [
    "%cd /notebooks/text-generation-webui-repo \n",
    "%run server.py --loader exllamav2 --model goliath-120b-exl2-rpcal  --max_seq_len 4096 --no_use_fast --chat-buttons --api   \n"
   ]
  },
  {
   "cell_type": "code",
   "execution_count": null,
   "metadata": {},
   "outputs": [],
   "source": [
    "%cd /notebooks/text-generation-webui-repo \n",
    "%run server.py  --chat-buttons --api "
   ]
  },
  {
   "cell_type": "code",
   "execution_count": null,
   "metadata": {},
   "outputs": [],
   "source": [
    "#%run server.py   --chat-buttons --api  "
   ]
  }
 ],
 "metadata": {
  "kernelspec": {
   "display_name": "text_webui",
   "language": "python",
   "name": "text_webui"
  },
  "language_info": {
   "codemirror_mode": {
    "name": "ipython",
    "version": 3
   },
   "file_extension": ".py",
   "mimetype": "text/x-python",
   "name": "python",
   "nbconvert_exporter": "python",
   "pygments_lexer": "ipython3",
   "version": "3.11.5"
  }
 },
 "nbformat": 4,
 "nbformat_minor": 2
}
