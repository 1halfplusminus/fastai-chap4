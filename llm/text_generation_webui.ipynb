{
 "cells": [
  {
   "cell_type": "code",
   "execution_count": null,
   "metadata": {},
   "outputs": [],
   "source": [
    "#%run server.py --model goliath-120b.Q2_K.gguf --n_ctx 4096  --n-gpu-layers 140  --chat-buttons --api  "
   ]
  },
  {
   "cell_type": "code",
   "execution_count": null,
   "metadata": {},
   "outputs": [],
   "source": [
    "#%run server.py   --chat-buttons --api --model Nous-Capybara-34B --load-in-8bit  --trust-remote-code"
   ]
  },
  {
   "cell_type": "code",
   "execution_count": null,
   "metadata": {},
   "outputs": [],
   "source": [
    "#%run server.py --model Yi-34B-Chat-8bits --gpu-memory 4860  --max_seq_len 18000 --n_ctx 18000  --n-gpu-layers 140 --no_use_fast --chat-buttons --api   "
   ]
  },
  {
   "cell_type": "code",
   "execution_count": null,
   "metadata": {},
   "outputs": [],
   "source": [
    "%cd /notebooks/text-generation-webui-repo \n",
    "%run server.py --model dolphin-2.5-mixtral-8x7b.Q4_K_M.gguf   --n_ctx 8000  --n-gpu-layers 41 --threads 4  --chat-buttons --api "
   ]
  },
  {
   "cell_type": "code",
   "execution_count": null,
   "metadata": {},
   "outputs": [],
   "source": [
    "%cd /notebooks/text-generation-webui-repo \n",
    "%run server.py --loader exllamav2_HF --model goliath-120b-exl2-rpcal  --max_seq_len 4096 --chat-buttons --api   \n"
   ]
  },
  {
   "cell_type": "code",
   "execution_count": null,
   "metadata": {},
   "outputs": [],
   "source": [
    "%cd /notebooks/text-generation-webui-repo \n",
    "%run server.py --model Mixtral-8x7B-MoE-RP-Story.q5_0.gguf --n_ctx 16000  --n-gpu-layers 33   --chat-buttons --api "
   ]
  },
  {
   "cell_type": "code",
   "execution_count": null,
   "metadata": {},
   "outputs": [],
   "source": [
    "%cd /notebooks/text-generation-webui-repo \n",
    "%run server.py --model deepseek-coder-33b-instruct.Q5_K_M.gguf --n_ctx 16000  --n-gpu-layers 33   --chat-buttons --api  "
   ]
  },
  {
   "cell_type": "code",
   "execution_count": null,
   "metadata": {},
   "outputs": [],
   "source": [
    "\n",
    "%cd /notebooks/text-generation-webui-repo \n",
    "%run server.py   --chat-buttons --api  "
   ]
  },
  {
   "cell_type": "code",
   "execution_count": null,
   "metadata": {},
   "outputs": [],
   "source": [
    "%cd /notebooks/text-generation-webui-repo \n",
    "%run server.py --model Rogue-Rose-103b-v0.2  --max_seq_len 4096  --trust-remote-code   --chat-buttons --api "
   ]
  }
 ],
 "metadata": {
  "kernelspec": {
   "display_name": "text_webui",
   "language": "python",
   "name": "text_webui"
  }
 },
 "nbformat": 4,
 "nbformat_minor": 2
}
