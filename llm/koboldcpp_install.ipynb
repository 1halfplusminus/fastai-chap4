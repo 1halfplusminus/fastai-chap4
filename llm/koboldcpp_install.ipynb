{
 "cells": [
  {
   "cell_type": "code",
   "execution_count": null,
   "metadata": {},
   "outputs": [],
   "source": [
    "%cd /notebooks\n",
    "!git clone https://github.com/LostRuins/koboldcpp koboldcpp_repo\n",
    "%cd /notebooks/koboldcpp_repo\n",
    "!git pull"
   ]
  },
  {
   "cell_type": "code",
   "execution_count": null,
   "metadata": {},
   "outputs": [],
   "source": [
    "%cd /notebooks/koboldcpp_repo\n",
    "!make LLAMA_CLBLAST=1"
   ]
  }
 ],
 "metadata": {
  "kernelspec": {
   "display_name": "text_webui",
   "language": "python",
   "name": "text_webui"
  }
 },
 "nbformat": 4,
 "nbformat_minor": 2
}
