{
 "cells": [
  {
   "cell_type": "code",
   "execution_count": null,
   "metadata": {},
   "outputs": [],
   "source": [
    "%pip install transformers"
   ]
  },
  {
   "cell_type": "code",
   "execution_count": null,
   "metadata": {},
   "outputs": [],
   "source": [
    "import os\n",
    "from transformers import VisionEncoderDecoderModel, ViTImageProcessor, AutoTokenizer\n",
    "import torch\n",
    "from PIL import Image\n",
    "\n",
    "directory = '/notebooks/xxx'"
   ]
  },
  {
   "cell_type": "code",
   "execution_count": null,
   "metadata": {},
   "outputs": [],
   "source": [
    "model = VisionEncoderDecoderModel.from_pretrained(\"nlpconnect/vit-gpt2-image-captioning\")\n",
    "feature_extractor = ViTImageProcessor.from_pretrained(\"nlpconnect/vit-gpt2-image-captioning\")\n",
    "tokenizer = AutoTokenizer.from_pretrained(\"nlpconnect/vit-gpt2-image-captioning\")\n",
    "\n",
    "device = torch.device(\"cuda\" if torch.cuda.is_available() else \"cpu\")\n",
    "model.to(device)\n",
    "\n"
   ]
  },
  {
   "cell_type": "code",
   "execution_count": null,
   "metadata": {},
   "outputs": [],
   "source": [
    "\n",
    "for filename in os.listdir(directory):\n",
    "    # Check if the file is an image (you may need to add more file types depending on your image formats)\n",
    "    if filename.endswith(('.png', '.jpg', '.jpeg', '.gif', '.bmp')):\n",
    "        # Get the name of the image without the extension\n",
    "        name_without_extension = os.path.splitext(filename)[0]\n",
    "        # Create a text file with the same name\n",
    "        with open(f'{directory}/{name_without_extension}.txt', 'w') as txt_file:\n",
    "            txt_file.write(name_without_extension)"
   ]
  },
  {
   "cell_type": "code",
   "execution_count": null,
   "metadata": {},
   "outputs": [],
   "source": [
    "max_length = 16\n",
    "num_beams = 4\n",
    "gen_kwargs = {\"max_length\": max_length, \"num_beams\": num_beams}\n",
    "\n",
    "def predict_step(directory_path):\n",
    "    image_paths = [f'{directory_path}/{filename}' for filename in os.listdir(directory_path) if filename.endswith(('.png', '.jpg', '.jpeg', '.gif', '.bmp'))]\n",
    "    images = []\n",
    "    for image_path in image_paths:\n",
    "        i_image = Image.open(image_path)\n",
    "        if i_image.mode != \"RGB\":\n",
    "            i_image = i_image.convert(mode=\"RGB\")\n",
    "        images.append(i_image)\n",
    "\n",
    "    pixel_values = feature_extractor(images=images, return_tensors=\"pt\").pixel_values\n",
    "    pixel_values = pixel_values.to(device)\n",
    "\n",
    "    output_ids = model.generate(pixel_values, **gen_kwargs)\n",
    "\n",
    "    preds = tokenizer.batch_decode(output_ids, skip_special_tokens=True)\n",
    "    preds = [pred.strip() for pred in preds]\n",
    "    \n",
    "    for image_path, pred in zip(image_paths, preds):\n",
    "        name_without_extension = os.path.splitext(os.path.basename(image_path))[0]\n",
    "        with open(f'{directory_path}/{name_without_extension}.txt', 'w') as txt_file:\n",
    "            txt_file.write(pred)\n",
    "\n",
    "# Call the function with the directory path\n",
    "predict_step(directory)"
   ]
  },
  {
   "cell_type": "code",
   "execution_count": null,
   "metadata": {},
   "outputs": [],
   "source": [
    "def prepend_text(directory_path, text_to_prepend):\n",
    "    for filename in os.listdir(directory_path):\n",
    "        # Check if the file is a text file\n",
    "        if filename.endswith('.txt'):\n",
    "            file_path = f'{directory_path}/{filename}'\n",
    "            # Read the existing content of the file\n",
    "            with open(file_path, 'r') as txt_file:\n",
    "                content = txt_file.read()\n",
    "            # Prepend the desired text\n",
    "            updated_content = f'{text_to_prepend} {content}'\n",
    "            # Rewrite the file with the updated content\n",
    "            with open(file_path, 'w') as txt_file:\n",
    "                txt_file.write(updated_content)\n",
    "\n",
    "# Specify the text to prepend\n",
    "text_to_prepend = 'ppxxxtarus'\n",
    "\n",
    "# Call the function with the directory path and the text to prepend\n",
    "prepend_text(directory, text_to_prepend)"
   ]
  }
 ],
 "metadata": {
  "kernelspec": {
   "display_name": "xxx",
   "language": "python",
   "name": "xxx"
  },
  "language_info": {
   "codemirror_mode": {
    "name": "ipython",
    "version": 3
   },
   "file_extension": ".py",
   "mimetype": "text/x-python",
   "name": "python",
   "nbconvert_exporter": "python",
   "pygments_lexer": "ipython3",
   "version": "3.10.6"
  }
 },
 "nbformat": 4,
 "nbformat_minor": 2
}
