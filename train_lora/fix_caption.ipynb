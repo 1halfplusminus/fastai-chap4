{
 "cells": [
  {
   "cell_type": "code",
   "execution_count": null,
   "metadata": {},
   "outputs": [],
   "source": [
    "# Cell 1: Define your variables\n",
    "search_text = \"a basemesh blockout\"\n",
    "replace_text = \"xxblockmesh\"\n",
    "folder_path = \"/notebooks/lora_training/Blockout/3_blockout\"  # Replace with the path to your folder\n"
   ]
  },
  {
   "cell_type": "code",
   "execution_count": null,
   "metadata": {},
   "outputs": [],
   "source": [
    "# Cell 2: Function to replace text in files\n",
    "import os\n",
    "\n",
    "def replace_text_in_files(folder_path, search_text, replace_text):\n",
    "    for filename in os.listdir(folder_path):\n",
    "        file_path = os.path.join(folder_path, filename)\n",
    "        if file_path.endswith(\".txt\"):\n",
    "            with open(file_path, 'r', encoding='utf-8') as file:\n",
    "                filedata = file.read()\n",
    "            new_data = filedata.replace(search_text, replace_text)\n",
    "            with open(file_path, 'w', encoding='utf-8') as file:\n",
    "                file.write(new_data)\n",
    "\n",
    "# Call the function\n",
    "replace_text_in_files(folder_path, search_text, replace_text)"
   ]
  }
 ],
 "metadata": {
  "kernelspec": {
   "display_name": "louis",
   "language": "python",
   "name": "louis"
  },
  "language_info": {
   "codemirror_mode": {
    "name": "ipython",
    "version": 3
   },
   "file_extension": ".py",
   "mimetype": "text/x-python",
   "name": "python",
   "nbconvert_exporter": "python",
   "pygments_lexer": "ipython3",
   "version": "3.10.6"
  }
 },
 "nbformat": 4,
 "nbformat_minor": 2
}
