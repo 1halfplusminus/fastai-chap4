{
 "cells": [
  {
   "cell_type": "code",
   "execution_count": null,
   "metadata": {},
   "outputs": [],
   "source": [
    "%pip install transformers Pillow"
   ]
  },
  {
   "cell_type": "code",
   "execution_count": null,
   "metadata": {},
   "outputs": [],
   "source": [
    "target_directory = '/notebooks/lora_training/Blockout/blockout'\n",
    "text = \"a basemesh blockout of\""
   ]
  },
  {
   "cell_type": "code",
   "execution_count": null,
   "metadata": {},
   "outputs": [],
   "source": [
    "import os\n",
    "from PIL import Image\n",
    "from transformers import BlipProcessor, BlipForConditionalGeneration\n",
    "\n",
    "# Load the model and processor\n",
    "processor = BlipProcessor.from_pretrained(\"Salesforce/blip-image-captioning-large\")\n",
    "model = BlipForConditionalGeneration.from_pretrained(\"Salesforce/blip-image-captioning-large\").to(\"cuda\")"
   ]
  },
  {
   "cell_type": "code",
   "execution_count": null,
   "metadata": {},
   "outputs": [],
   "source": [
    "def process_image(img_path):\n",
    "    try:\n",
    "        # Load and process the image using Pillow\n",
    "        raw_image = Image.open(img_path).convert('RGB')\n",
    "    except IOError:\n",
    "        print(f'Could not read image {img_path}. Skipping.')\n",
    "        return None\n",
    "    \n",
    "    # Process the image and generate a caption\n",
    "    inputs = processor(raw_image, text, return_tensors=\"pt\").to(\"cuda\")\n",
    "    out = model.generate(**inputs)\n",
    "    caption = processor.decode(out[0], skip_special_tokens=True)\n",
    "    return caption\n",
    "\n",
    "def save_caption(caption, img_path):\n",
    "    # Create a text file with the same name as the image\n",
    "    txt_path = os.path.splitext(img_path)[0] + '.txt'\n",
    "    with open(txt_path, 'w') as file:\n",
    "        file.write(caption)\n",
    "\n",
    "# Walk through the target directory including subdirectories\n",
    "for root, dirs, files in os.walk(target_directory):\n",
    "    for file in files:\n",
    "        # Check if the file is an image (by extension)\n",
    "        if file.lower().endswith(('.png', '.jpg', '.jpeg', '.bmp', '.gif', '.webp')):\n",
    "            img_path = os.path.join(root, file)\n",
    "            caption = process_image(img_path)\n",
    "            if caption is not None:\n",
    "                save_caption(caption, img_path)\n",
    "                print(f'Processed {img_path}')"
   ]
  }
 ],
 "metadata": {
  "kernelspec": {
   "display_name": "louis",
   "language": "python",
   "name": "louis"
  },
  "language_info": {
   "codemirror_mode": {
    "name": "ipython",
    "version": 3
   },
   "file_extension": ".py",
   "mimetype": "text/x-python",
   "name": "python",
   "nbconvert_exporter": "python",
   "pygments_lexer": "ipython3",
   "version": "3.10.6"
  }
 },
 "nbformat": 4,
 "nbformat_minor": 2
}
