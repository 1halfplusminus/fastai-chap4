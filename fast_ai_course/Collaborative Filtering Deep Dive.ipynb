{
 "cells": [
  {
   "cell_type": "code",
   "execution_count": null,
   "metadata": {},
   "outputs": [],
   "source": [
    "%pip install pandas numpy scikit-surprise fastai"
   ]
  },
  {
   "cell_type": "code",
   "execution_count": null,
   "metadata": {},
   "outputs": [],
   "source": [
    "import zipfile\n",
    "import urllib.request\n",
    "import os\n",
    "\n",
    "# URL for the MovieLens 100K dataset\n",
    "url = 'http://files.grouplens.org/datasets/movielens/ml-100k.zip'\n",
    "\n",
    "# Download the file\n",
    "dataset_path = 'ml-100k.zip'\n",
    "urllib.request.urlretrieve(url, dataset_path)\n",
    "\n",
    "# Extract the zip file\n",
    "with zipfile.ZipFile(dataset_path, 'r') as zip_ref:\n",
    "    zip_ref.extractall('.')\n",
    "\n",
    "# Check the extracted files\n",
    "os.listdir('./ml-100k/')"
   ]
  },
  {
   "cell_type": "code",
   "execution_count": null,
   "metadata": {},
   "outputs": [],
   "source": [
    "import pandas as pd\n",
    "\n",
    "# Load the data\n",
    "ratings_path = './ml-100k/u.data'\n",
    "ratings = pd.read_csv(ratings_path, sep='\\t', header=None, names=['user', 'movie', 'rating', 'timestamp'])\n",
    "\n",
    "# Display the first few rows of the DataFrame\n",
    "ratings.head()"
   ]
  },
  {
   "cell_type": "code",
   "execution_count": null,
   "metadata": {},
   "outputs": [],
   "source": [
    "import pandas as pd\n",
    "import numpy as np\n",
    "\n",
    "# Example DataFrame\n",
    "# ratings = pd.read_csv('path_to_ratings.csv')\n",
    "\n",
    "# Creating the user-item matrix\n",
    "user_movie_matrix = ratings.pivot_table(index='user', columns='movie', values='rating')\n",
    "user_movie_matrix"
   ]
  },
  {
   "cell_type": "code",
   "execution_count": null,
   "metadata": {},
   "outputs": [],
   "source": [
    "user_movie_matrix.fillna(user_movie_matrix.mean())"
   ]
  },
  {
   "cell_type": "code",
   "execution_count": null,
   "metadata": {},
   "outputs": [],
   "source": [
    "U, sigma, Vt = np.linalg.svd(user_movie_matrix_filled, full_matrices=False)\n"
   ]
  },
  {
   "cell_type": "code",
   "execution_count": null,
   "metadata": {},
   "outputs": [],
   "source": [
    "# Choose the number of factors\n",
    "num_features = 20  # for example\n",
    "sigma_reduced = np.diag(sigma[:num_features])\n",
    "\n",
    "# Reduced matrices\n",
    "U_reduced = U[:, :num_features]\n",
    "Vt_reduced = Vt[:num_features, :]"
   ]
  },
  {
   "cell_type": "code",
   "execution_count": null,
   "metadata": {},
   "outputs": [],
   "source": [
    "approx_ratings = np.dot(np.dot(U_reduced, sigma_reduced), Vt_reduced)\n"
   ]
  },
  {
   "cell_type": "code",
   "execution_count": null,
   "metadata": {},
   "outputs": [],
   "source": [
    "# Load the movie details\n",
    "movie_titles_path = './ml-100k/u.item'\n",
    "movie_titles = pd.read_csv(movie_titles_path, sep='|', encoding='latin-1', header=None, usecols=[0, 1], names=['movie_id', 'title'])\n",
    "\n",
    "# Display the first few rows\n",
    "movie_titles.head()\n"
   ]
  },
  {
   "cell_type": "code",
   "execution_count": null,
   "metadata": {},
   "outputs": [],
   "source": [
    "# Create a dictionary for mapping\n",
    "movie_id_to_title = pd.Series(movie_titles.title.values, index=movie_titles.movie_id).to_dict()\n"
   ]
  },
  {
   "cell_type": "code",
   "execution_count": null,
   "metadata": {},
   "outputs": [],
   "source": [
    "def recommend_movies(user_id, num_recommendations):\n",
    "    user_ratings = approx_ratings[user_id - 1]\n",
    "    sorted_movie_indexes = np.argsort(-user_ratings)\n",
    "    return sorted_movie_indexes[:num_recommendations]\n",
    "\n",
    "# Example: Recommend 5 movies for user with ID 1\n",
    "recommended_movies = recommend_movies(2, 5)\n",
    "recommended_movies"
   ]
  },
  {
   "cell_type": "code",
   "execution_count": null,
   "metadata": {},
   "outputs": [],
   "source": [
    "# Assuming 'recommended_movies' is a list of movie indices\n",
    "recommended_movie_ids = user_movie_matrix.columns[recommended_movies].tolist()\n",
    "\n",
    "# Translate indices to movie names\n",
    "recommended_movie_titles = [movie_id_to_title[movie_id] for movie_id in recommended_movie_ids]\n",
    "\n",
    "recommended_movie_titles"
   ]
  },
  {
   "cell_type": "code",
   "execution_count": null,
   "metadata": {},
   "outputs": [],
   "source": [
    "from fastai.collab import *\n",
    "from fastai.tabular.all import *"
   ]
  },
  {
   "cell_type": "code",
   "execution_count": null,
   "metadata": {},
   "outputs": [],
   "source": [
    "path = untar_data(URLs.ML_100k)\n",
    "ratings = pd.read_csv(path/'u.data', delimiter='\\t', header=None,\n",
    "                      names=['user','movie','rating','timestamp'])\n",
    "movies = pd.read_csv(path/'u.item',  delimiter='|', encoding='latin-1',\n",
    "                     usecols=(0,1), names=('movie','title'), header=None)\n",
    "ratings = ratings.merge(movies) # Merging movies with ratings\n",
    "\n",
    "# Load into DataLoaders\n",
    "dls = CollabDataLoaders.from_df(ratings, item_name='title', bs=64)"
   ]
  },
  {
   "cell_type": "code",
   "execution_count": null,
   "metadata": {},
   "outputs": [],
   "source": [
    "learn = collab_learner(dls, n_factors=50, y_range=(0, 5.5))\n",
    "learn.fit_one_cycle(5, 5e-3)"
   ]
  },
  {
   "cell_type": "code",
   "execution_count": null,
   "metadata": {},
   "outputs": [],
   "source": [
    "movie_bias = learn.model.i_bias.weight.squeeze()\n",
    "idxs = movie_bias.argsort(descending=True)[:5]\n",
    "[dls.classes['title'][i] for i in idxs]"
   ]
  }
 ],
 "metadata": {
  "kernelspec": {
   "display_name": "tts",
   "language": "python",
   "name": "tts"
  },
  "language_info": {
   "codemirror_mode": {
    "name": "ipython",
    "version": 3
   },
   "file_extension": ".py",
   "mimetype": "text/x-python",
   "name": "python",
   "nbconvert_exporter": "python",
   "pygments_lexer": "ipython3",
   "version": "3.11.7"
  }
 },
 "nbformat": 4,
 "nbformat_minor": 2
}
