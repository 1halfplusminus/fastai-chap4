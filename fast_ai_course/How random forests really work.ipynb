{
 "cells": [
  {
   "cell_type": "code",
   "execution_count": null,
   "metadata": {},
   "outputs": [],
   "source": [
    "%pip install torch torchvision torchaudio --extra-index-url https://download.pytorch.org/whl/cu121\n"
   ]
  },
  {
   "cell_type": "code",
   "execution_count": null,
   "metadata": {},
   "outputs": [],
   "source": [
    "%pip install numpy pandas matplotlib seaborn scikit-learn graphviz ipywidgets fastai"
   ]
  },
  {
   "cell_type": "code",
   "execution_count": null,
   "metadata": {},
   "outputs": [],
   "source": [
    "from fastai.imports import *\n",
    "import numpy as np\n",
    "import pandas as pd\n",
    "import os\n",
    "import seaborn as sns\n",
    "import matplotlib.pyplot as plt\n",
    "from sklearn.tree import DecisionTreeClassifier, export_graphviz\n",
    "from sklearn.model_selection import train_test_split\n",
    "from sklearn.metrics import mean_absolute_error\n",
    "from sklearn.ensemble import RandomForestClassifier\n",
    "import graphviz\n",
    "\n",
    "np.set_printoptions(linewidth=130)"
   ]
  },
  {
   "cell_type": "code",
   "execution_count": null,
   "metadata": {},
   "outputs": [],
   "source": [
    "path = Path('/notebooks/Titanic')  # Update this path"
   ]
  },
  {
   "cell_type": "code",
   "execution_count": null,
   "metadata": {},
   "outputs": [],
   "source": [
    "df = pd.read_csv(path/'train.csv')\n",
    "tst_df = pd.read_csv(path/'test.csv')\n",
    "modes = df.mode().iloc[0]"
   ]
  },
  {
   "cell_type": "code",
   "execution_count": null,
   "metadata": {},
   "outputs": [],
   "source": [
    "def proc_data(df):\n",
    "    df['Fare'] = df.Fare.fillna(0)\n",
    "    df.fillna(modes, inplace=True)\n",
    "    df['LogFare'] = np.log1p(df['Fare'])\n",
    "    df['Embarked'] = pd.Categorical(df.Embarked)\n",
    "    df['Sex'] = pd.Categorical(df.Sex)\n",
    "\n",
    "proc_data(df)\n",
    "proc_data(tst_df)"
   ]
  },
  {
   "cell_type": "code",
   "execution_count": null,
   "metadata": {},
   "outputs": [],
   "source": [
    "cats = [\"Sex\", \"Embarked\"]\n",
    "conts = ['Age', 'SibSp', 'Parch', 'LogFare', \"Pclass\"]\n",
    "dep = \"Survived\""
   ]
  },
  {
   "cell_type": "code",
   "execution_count": null,
   "metadata": {},
   "outputs": [],
   "source": [
    "random.seed(42)\n",
    "trn_df, val_df = train_test_split(df, test_size=0.25)"
   ]
  },
  {
   "cell_type": "code",
   "execution_count": null,
   "metadata": {},
   "outputs": [],
   "source": [
    "def score(col, y, split):\n",
    "    lhs = col <= split\n",
    "    rhs = col > split\n",
    "    return (lhs.sum() * y[lhs].std() + rhs.sum() * y[rhs].std()) / len(y)\n",
    "\n",
    "# Example of binary split on 'Sex'\n",
    "score(trn_df[\"Sex\"].cat.codes, trn_df[dep], 0.5)\n"
   ]
  },
  {
   "cell_type": "code",
   "execution_count": null,
   "metadata": {},
   "outputs": [],
   "source": [
    "def xs_y(df):\n",
    "    df_transformed = df.copy()\n",
    "    for cat in cats:\n",
    "        df_transformed[cat] = df[cat].astype('category').cat.codes\n",
    "    xs = df_transformed[cats + conts]\n",
    "    return xs, df_transformed[dep] if dep in df_transformed else None\n",
    "\n",
    "trn_xs, trn_y = xs_y(trn_df)\n",
    "val_xs, val_y = xs_y(val_df)\n",
    "\n",
    "m = DecisionTreeClassifier(max_leaf_nodes=4).fit(trn_xs, trn_y)\n"
   ]
  },
  {
   "cell_type": "code",
   "execution_count": null,
   "metadata": {},
   "outputs": [],
   "source": [
    "def draw_tree(t, df, size=10, ratio=0.6, precision=2):\n",
    "    s = export_graphviz(t, out_file=None, feature_names=df.columns, filled=True, rounded=True, special_characters=True, rotate=False, precision=precision)\n",
    "    return graphviz.Source(re.sub('Tree {', f'Tree {{ size={size}; ratio={ratio}', s))\n",
    "\n",
    "draw_tree(m, trn_xs, size=10)"
   ]
  },
  {
   "cell_type": "code",
   "execution_count": null,
   "metadata": {},
   "outputs": [],
   "source": [
    "rf = RandomForestClassifier(n_estimators=100, min_samples_leaf=5)\n",
    "rf.fit(trn_xs, trn_y)"
   ]
  },
  {
   "cell_type": "code",
   "execution_count": null,
   "metadata": {},
   "outputs": [],
   "source": [
    "mean_absolute_error(val_y, rf.predict(val_xs))\n"
   ]
  },
  {
   "cell_type": "code",
   "execution_count": null,
   "metadata": {},
   "outputs": [],
   "source": [
    "pd.DataFrame({'cols': trn_xs.columns, 'imp': rf.feature_importances_}).plot('cols', 'imp', 'barh')\n"
   ]
  },
  {
   "cell_type": "code",
   "execution_count": null,
   "metadata": {},
   "outputs": [],
   "source": [
    "# Assuming 'tst_df' is your raw test dataframe and you have a function 'proc_data' for preprocessing\n",
    "proc_data(tst_df)\n",
    "\n",
    "# Transform 'tst_df' using the same function 'xs_y' defined earlier\n",
    "tst_xs, _ = xs_y(tst_df)\n",
    "\n",
    "# Make predictions using the trained model 'm'\n",
    "test_predictions = m.predict(tst_xs)\n",
    "\n",
    "# If you have actual target values for 'test.csv', you can evaluate the model\n",
    "# For example, if 'actuals' is a Series with the true values for the test set:\n",
    "# actuals = pd.read_csv('path_to/actuals.csv')['Survived']\n",
    "# print(mean_absolute_error(actuals, test_predictions))\n",
    "\n",
    "# If you need to prepare a submission file:\n",
    "tst_df['Predicted'] = test_predictions\n",
    "submission = tst_df[['PassengerId', 'Predicted']]\n",
    "submission.to_csv('submission.csv', index=False)"
   ]
  },
  {
   "cell_type": "code",
   "execution_count": null,
   "metadata": {},
   "outputs": [],
   "source": [
    "submission_df = pd.read_csv('submission.csv')\n"
   ]
  },
  {
   "cell_type": "code",
   "execution_count": null,
   "metadata": {},
   "outputs": [],
   "source": [
    "# Merge the test data with the predictions\n",
    "merged_df = tst_df.merge(submission_df, on='PassengerId')\n",
    "print(merged_df.sample())\n",
    "# Plot the distribution of fare prices for survivors and non-survivors\n",
    "sns.histplot(data=merged_df, x='Sex', hue='Predicted_x', kde=True, element='step')\n",
    "plt.title('Fare Distribution for Predicted Survival')\n",
    "plt.xlabel('Sex')\n",
    "plt.ylabel('Density')\n",
    "plt.show()\n"
   ]
  }
 ],
 "metadata": {
  "kernelspec": {
   "display_name": "tts",
   "language": "python",
   "name": "tts"
  },
  "language_info": {
   "codemirror_mode": {
    "name": "ipython",
    "version": 3
   },
   "file_extension": ".py",
   "mimetype": "text/x-python",
   "name": "python",
   "nbconvert_exporter": "python",
   "pygments_lexer": "ipython3",
   "version": "3.11.7"
  }
 },
 "nbformat": 4,
 "nbformat_minor": 2
}
