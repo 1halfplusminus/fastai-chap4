{
 "cells": [
  {
   "cell_type": "code",
   "execution_count": null,
   "metadata": {},
   "outputs": [],
   "source": [
    "%cd /notebooks/stable-dreamfusion\n",
    "%cd pretrained/zero123\n",
    "!rm zero123-xl.ckpt\n",
    "\"\"\" !wget https://huggingface.co/cvlab/zero123-weights/resolve/main/105000.ckpt \"\"\"\n",
    "!wget https://zero123.cs.columbia.edu/assets/zero123-xl.ckpt\n",
    "%cd ../../"
   ]
  },
  {
   "cell_type": "code",
   "execution_count": null,
   "metadata": {},
   "outputs": [],
   "source": [
    "%cd /notebooks/stable-dreamfusion\n",
    "!mkdir pretrained/omnidata\n",
    "%cd pretrained/omnidata\n",
    "# assume gdown is installed\n",
    "!gdown '18AAi0v9t3z-Mh4B8pGk-SdUegng88B3J&confirm=t' # omnidata_dpt_depth_v2.ckpt\n",
    "!gdown '1gzMny6F3W7thYSM4Cr9gunxnPra1Tt6Z&confirm=t' # omnidata_dpt_normal_v2.ckpt\n",
    "%cd ../../"
   ]
  }
 ],
 "metadata": {
  "language_info": {
   "name": "python"
  }
 },
 "nbformat": 4,
 "nbformat_minor": 2
}
