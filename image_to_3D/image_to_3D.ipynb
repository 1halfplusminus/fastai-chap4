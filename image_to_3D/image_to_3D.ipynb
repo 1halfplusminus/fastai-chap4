{
 "cells": [
  {
   "cell_type": "code",
   "execution_count": null,
   "metadata": {},
   "outputs": [],
   "source": [
    "!git clone https://github.com/ashawkey/stable-dreamfusion.git"
   ]
  },
  {
   "cell_type": "code",
   "execution_count": null,
   "metadata": {},
   "outputs": [],
   "source": [
    " %pip install trimesh\n",
    " %pip install pythreejs"
   ]
  },
  {
   "cell_type": "code",
   "execution_count": null,
   "metadata": {},
   "outputs": [],
   "source": [
    "!sudo apt-get install libeigen3-dev -y\n"
   ]
  },
  {
   "cell_type": "code",
   "execution_count": null,
   "metadata": {},
   "outputs": [],
   "source": [
    "%cd /notebooks/stable-dreamfusion\n"
   ]
  },
  {
   "cell_type": "code",
   "execution_count": null,
   "metadata": {},
   "outputs": [],
   "source": [
    "!git pull origin main"
   ]
  },
  {
   "cell_type": "code",
   "execution_count": null,
   "metadata": {},
   "outputs": [],
   "source": [
    "%pip install xformers>=0.0.20 torch==2.0.1+cu118 torchvision  torchaudio --extra-index-url https://download.pytorch.org/whl/cu118"
   ]
  },
  {
   "cell_type": "code",
   "execution_count": null,
   "metadata": {},
   "outputs": [],
   "source": [
    "%pip install  -r requirements.txt --force-reinstall\n",
    "%pip install git+https://github.com/NVlabs/nvdiffrast/ \n",
    "\n"
   ]
  },
  {
   "cell_type": "code",
   "execution_count": null,
   "metadata": {},
   "outputs": [],
   "source": [
    "%pip install git+https://github.com/ashawkey/cubvh --force-reinstall"
   ]
  },
  {
   "cell_type": "code",
   "execution_count": null,
   "metadata": {},
   "outputs": [],
   "source": [
    "\n",
    "# install CUDA extensions (takes about 8 minutes!)\n",
    "%pip install ./raymarching --force-reinstall\n",
    "%pip install ./shencoder --force-reinstall\n",
    "%pip install ./freqencoder --force-reinstall\n",
    "%pip install ./gridencoder --force-reinstall\n",
    "#%pip install ./raymarching"
   ]
  },
  {
   "cell_type": "code",
   "execution_count": null,
   "metadata": {},
   "outputs": [],
   "source": [
    "%cd /notebooks/stable-dreamfusion"
   ]
  },
  {
   "cell_type": "code",
   "execution_count": null,
   "metadata": {},
   "outputs": [],
   "source": [
    "%env CUDA_VISIBLE_DEVICES=0\n",
    "workspace =\"wyvern2\"\n",
    "image_path = f'/notebooks/threestudio/load/images/{workspace}_rgba.png'\n",
    "image_path_without_rgba = image_path.replace('_rgba', '')\n"
   ]
  },
  {
   "cell_type": "code",
   "execution_count": null,
   "metadata": {},
   "outputs": [],
   "source": [
    "import os\n",
    "import cv2\n",
    "import numpy as np\n",
    "import matplotlib.pyplot as plt\n",
    "import torch\n",
    "import torch.nn as nn\n",
    "import torch.nn.functional as F\n",
    "from PIL import Image\n",
    "\n",
    "opt = [\n",
    "    \"path\" => image_path_without_rgba,\n",
    "]\n",
    "\n",
    "out_dir = os.path.dirname(opt.path)\n",
    "out_rgba = os.path.join(out_dir, os.path.basename(opt.path).split('.')[0] + '_rgba.png')\n",
    "out_depth = os.path.join(out_dir, os.path.basename(opt.path).split('.')[0] + '_depth.png')\n",
    "out_normal = os.path.join(out_dir, os.path.basename(opt.path).split('.')[0] + '_normal.png')\n",
    "out_caption = os.path.join(out_dir, os.path.basename(opt.path).split('.')[0] + '_caption.txt')\n",
    "\n",
    "# load image\n",
    "print(f'[INFO] loading image...')\n",
    "final_rgba = cv2.imread(opt.path, cv2.IMREAD_UNCHANGED)\n",
    "if final_rgba.shape[-1] == 4:\n",
    "    final_rgba = cv2.cvtColor(final_rgba, cv2.COLOR_BGRA2RGB)\n",
    "else:\n",
    "    final_rgba = cv2.cvtColor(final_rgba, cv2.COLOR_BGR2RGB)\n",
    "    \n",
    "final_depth = cv2.imread(out_depth, cv2.IMREAD_UNCHANGED)\n",
    "if final_depth.shape[-1] == 4:\n",
    "    final_depth = cv2.cvtColor(out_depth, cv2.COLOR_BGRA2RGB)\n",
    "else:\n",
    "    final_depth = cv2.cvtColor(out_depth, cv2.COLOR_BGR2RGB)\n",
    "\n",
    "    \n",
    "final_normal = cv2.imread(out_normal, cv2.IMREAD_UNCHANGED)\n",
    "if final_normal.shape[-1] == 4:\n",
    "    final_normal = cv2.cvtColor(out_normal, cv2.COLOR_BGRA2RGB)\n",
    "else:\n",
    "    final_normal = cv2.cvtColor(out_normal, cv2.COLOR_BGR2RGB)\n",
    "# write output\n",
    "cv2.imwrite(out_rgba, cv2.cvtColor(final_rgba, cv2.COLOR_RGBA2BGRA))\n",
    "cv2.imwrite(out_depth, final_depth)\n",
    "cv2.imwrite(out_normal, final_normal)\n",
    "\n"
   ]
  },
  {
   "cell_type": "code",
   "execution_count": null,
   "metadata": {},
   "outputs": [],
   "source": [
    "!rm -rf ./{workspace}\n",
    "!rm -rf ./{workspace}_dmtet"
   ]
  },
  {
   "cell_type": "code",
   "execution_count": null,
   "metadata": {},
   "outputs": [],
   "source": [
    "%run preprocess_image.py {image_path_without_rgba}"
   ]
  },
  {
   "cell_type": "code",
   "execution_count": null,
   "metadata": {},
   "outputs": [],
   "source": [
    "batch_size = 13 # 24\n"
   ]
  },
  {
   "cell_type": "code",
   "execution_count": null,
   "metadata": {},
   "outputs": [],
   "source": [
    "\n",
    "#%run preprocess_image.py front.png\n",
    "## zero123 train\n",
    "# pass in the processed <image>_rgba.png by  --default_polar 20 --image and do NOT pass in --text to enable zero-1-to-3 backend.--default_polar 0\n",
    "%run main.py -O --image {image_path} --workspace {workspace}  --iters 5000 --test_interval 10 --batch_size {batch_size}"
   ]
  },
  {
   "cell_type": "code",
   "execution_count": null,
   "metadata": {},
   "outputs": [],
   "source": [
    "%run main.py -O --batch_size {batch_size} --image {image_path} --test_interval 5 --workspace {workspace}_dmtet --dmtet   --init_with {workspace}/checkpoints/df.pth\n"
   ]
  },
  {
   "cell_type": "code",
   "execution_count": null,
   "metadata": {},
   "outputs": [],
   "source": [
    "%run main.py -O --image {image_path} --workspace {workspace}_dmtet --dmtet --test --save_mesh "
   ]
  },
  {
   "cell_type": "code",
   "execution_count": null,
   "metadata": {},
   "outputs": [],
   "source": [
    "%cd /notebooks/stable-dreamfusion/{workspace}_dmtet/\n",
    "!zip {workspace}.zip -r mesh\n",
    "%cd ../"
   ]
  },
  {
   "cell_type": "markdown",
   "metadata": {},
   "source": [
    "OTHER"
   ]
  },
  {
   "cell_type": "code",
   "execution_count": null,
   "metadata": {},
   "outputs": [],
   "source": [
    "%run main.py -O  --image {image_path} --workspace {workspace}_dmtet_mesh  --dmtet --iters 5000 --init_with  {workspace}_dmtet/mesh/mesh.obj --lock_geo"
   ]
  },
  {
   "cell_type": "code",
   "execution_count": null,
   "metadata": {},
   "outputs": [],
   "source": [
    "%run main.py -O --image {image_path} --workspace {workspace}_dmtet_mesh --dmtet --test --save_mesh"
   ]
  },
  {
   "cell_type": "markdown",
   "metadata": {},
   "source": [
    "SIMPLE EXPORT"
   ]
  },
  {
   "cell_type": "code",
   "execution_count": null,
   "metadata": {},
   "outputs": [],
   "source": [
    "%run main.py -O --image {image_path} --workspace {workspace} --test --save_mesh  "
   ]
  },
  {
   "cell_type": "code",
   "execution_count": null,
   "metadata": {},
   "outputs": [],
   "source": [
    "!chmod +x scripts/run_image_procedure.sh"
   ]
  },
  {
   "cell_type": "code",
   "execution_count": null,
   "metadata": {},
   "outputs": [],
   "source": [
    "import os\n",
    "import subprocess\n",
    "\n",
    "def run_image_procedure(GPU_ID, GUIDANCE_INTERVAL, DEFAULT_POLAR, PREFIX, PROMPT):\n",
    "    EPOCHS1 = 100\n",
    "    EPOCHS2 = 200\n",
    "    EPOCHS3 = 300\n",
    "    IMAGE = f\"/notebooks/threestudio/load/images/{PREFIX}.png\"\n",
    "    IMAGE_RGBA = f\"/notebooks/threestudio/load/images/{PREFIX}_rgba.png\"\n",
    "    WS_PH1 = f\"trial_{PREFIX}-ph1\"\n",
    "    WS_PH2 = f\"trial_{PREFIX}-ph2\"\n",
    "    WS_PH3 = f\"trial_{PREFIX}-ph3\"\n",
    "    CKPT1 = f\"{WS_PH1}/checkpoints/df_ep0{EPOCHS1}.pth\"\n",
    "    CKPT2 = f\"{WS_PH2}/checkpoints/df_ep0{EPOCHS2}.pth\"\n",
    "    CKPT3 = f\"{WS_PH3}/checkpoints/df_ep0{EPOCHS3}.pth\"\n",
    "\n",
    "    if not os.path.isfile(IMAGE_RGBA):\n",
    "        %run preprocess_image.py {IMAGE}\n",
    "\n",
    "    if not os.path.isfile(CKPT1):\n",
    "        %run main.py -O --image {IMAGE_RGBA} --workspace {WS_PH1} --default_polar {DEFAULT_POLAR} --iters {EPOCHS1}00 --save_guidance --save_guidance_interval {GUIDANCE_INTERVAL} --batch_size 6 --test_interval 2 --h 96 --w 96 --zero123_grad_scale None --lambda_3d_normal_smooth 0 --dont_override_stuff --fovy_range 20 20 --guidance_scale 5 \n",
    "\n",
    "    GUIDANCE_INTERVAL = 7\n",
    "    if not os.path.isfile(CKPT2):\n",
    "        %run main.py -O --image {IMAGE_RGBA} --workspace {WS_PH2} --text \"{PROMPT}\" --default_polar {DEFAULT_POLAR} --iters {EPOCHS2}00 --ckpt {CKPT1} --save_guidance --save_guidance_interval {GUIDANCE_INTERVAL} --h 128 --w 128 --albedo_iter_ratio 0.0 --t_range 0.2 0.6 --batch_size 4 --radius_range 2.2 2.6 --test_interval 2 --vram_O --guidance_scale 10 --jitter_pose --jitter_center 0.1 --jitter_target 0.1 --jitter_up 0.05 --known_view_noise_scale 0 --lambda_depth 0 --lr 0.003 --progressive_view --progressive_view_init_ratio 0.05 --known_view_interval 2 --dont_override_stuff --lambda_3d_normal_smooth 1 --textureless_ratio 0.0 --min_ambient_ratio 0.3 --exp_start_iter {EPOCHS1}00 --exp_end_iter {EPOCHS2}00\n",
    "\n",
    "    if not os.path.isfile(CKPT3):\n",
    "        %run main.py -O --image {IMAGE_RGBA} --workspace {WS_PH3} --text \"{PROMPT}\" --default_polar {DEFAULT_POLAR} --iters {EPOCHS3}00 --ckpt {CKPT2} --save_guidance --save_guidance_interval {GUIDANCE_INTERVAL} --h 512 --w 512 --albedo_iter_ratio 0.0 --t_range 0.0 0.5 --batch_size 1 --radius_range 3.2 3.6 --test_interval 2 --vram_O --guidance_scale 10 --jitter_pose --jitter_center 0.015 --jitter_target 0.015 --jitter_up 0.05 --known_view_noise_scale 0 --lambda_depth 0 --lr 0.003 --known_view_interval 2 --dont_override_stuff --lambda_3d_normal_smooth 0.5 --textureless_ratio 0.0 --min_ambient_ratio 0.3 --exp_start_iter {EPOCHS2}00 --exp_end_iter {EPOCHS3}00\n",
    "run_image_procedure(0, 30, 70, \"turtle_plant\", \"an 3D render of a pokemon ((mix between turtle and plant)) with ((red mark on feet)) and ((leaf crown)) on head\")\n"
   ]
  },
  {
   "cell_type": "code",
   "execution_count": null,
   "metadata": {},
   "outputs": [],
   "source": [
    "\n",
    "import os\n",
    "def delete_workspace(PREFIX):\n",
    "    WS_PH1 = f\"trial_{PREFIX}-ph1\"\n",
    "    WS_PH2 = f\"trial_{PREFIX}-ph2\"\n",
    "    WS_PH3 = f\"trial_{PREFIX}-ph3\"\n",
    "    \n",
    "    for workspace in [WS_PH1, WS_PH2, WS_PH3]:\n",
    "        if os.path.isdir(workspace):\n",
    "            os.system(f\"rm -r {workspace}\")\n",
    "            print(f\"Deleted workspace: {workspace}\")\n",
    "        else:\n",
    "            print(f\"No such workspace: {workspace}\")\n",
    "delete_workspace(\"turtle_plant\")"
   ]
  }
 ],
 "metadata": {
  "kernelspec": {
   "display_name": "dreamfusion",
   "language": "python",
   "name": "dreamfusion"
  },
  "language_info": {
   "codemirror_mode": {
    "name": "ipython",
    "version": 3
   },
   "file_extension": ".py",
   "mimetype": "text/x-python",
   "name": "python",
   "nbconvert_exporter": "python",
   "pygments_lexer": "ipython3",
   "version": "3.10.6"
  },
  "orig_nbformat": 4
 },
 "nbformat": 4,
 "nbformat_minor": 2
}
