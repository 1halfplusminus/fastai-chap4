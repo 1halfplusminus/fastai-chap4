{
 "cells": [
  {
   "cell_type": "code",
   "execution_count": null,
   "metadata": {},
   "outputs": [],
   "source": [
    "!rm gaussian-splatting -rf\n",
    "!git clone --recursive https://github.com/graphdeco-inria/gaussian-splatting"
   ]
  },
  {
   "cell_type": "code",
   "execution_count": null,
   "metadata": {},
   "outputs": [],
   "source": [
    "%pip install xformers==0.0.19 torch==2.0.0+cu118 torchvision  torchaudio --extra-index-url https://download.pytorch.org/whl/cu118"
   ]
  },
  {
   "cell_type": "code",
   "execution_count": null,
   "metadata": {},
   "outputs": [],
   "source": [
    "%pip install plyfile==0.8.1 tqdm\n"
   ]
  },
  {
   "cell_type": "code",
   "execution_count": null,
   "metadata": {},
   "outputs": [],
   "source": [
    "%cd /notebooks/gaussian-splatting\n",
    "%cd ./submodules/diff-gaussian-rasterization\n",
    "%pip install .\n",
    "%cd /notebooks/gaussian-splatting"
   ]
  },
  {
   "cell_type": "code",
   "execution_count": null,
   "metadata": {},
   "outputs": [],
   "source": [
    "%cd /notebooks/gaussian-splatting\n",
    "%cd ./submodules/simple-knn\n",
    "%pip install .\n",
    "%cd /notebooks/gaussian-splatting"
   ]
  },
  {
   "cell_type": "code",
   "execution_count": null,
   "metadata": {},
   "outputs": [],
   "source": [
    "%cd /notebooks/gaussian-splatting\n",
    "!git pull origin main"
   ]
  },
  {
   "cell_type": "code",
   "execution_count": null,
   "metadata": {},
   "outputs": [],
   "source": [
    "!sudo apt update\n",
    "!sudo apt install -y libglew-dev libassimp-dev libboost-all-dev libgtk-3-dev libopencv-dev libglfw3-dev libavdevice-dev libavcodec-dev libeigen3-dev libxxf86vm-dev libembree-dev\n"
   ]
  },
  {
   "cell_type": "code",
   "execution_count": null,
   "metadata": {},
   "outputs": [],
   "source": [
    "!git clone https://github.com/ImageMagick/ImageMagick.git ImageMagick-7.1.1\n",
    "%cd ImageMagick-7.1.1\n",
    "!./configure\n",
    "!make\n",
    "!make install"
   ]
  },
  {
   "cell_type": "code",
   "execution_count": null,
   "metadata": {},
   "outputs": [],
   "source": [
    "!ldconfig /usr/local/lib\n",
    "!magick -version"
   ]
  },
  {
   "cell_type": "markdown",
   "metadata": {},
   "source": [
    "TRAIN"
   ]
  },
  {
   "cell_type": "code",
   "execution_count": null,
   "metadata": {},
   "outputs": [],
   "source": [
    "%pip install -q plyfile\n",
    "%pip install -q https://huggingface.co/camenduru/gaussian-splatting/resolve/main/diff_gaussian_rasterization-0.0.0-cp310-cp310-linux_x86_64.whl\n",
    "%pip install -q https://huggingface.co/camenduru/gaussian-splatting/resolve/main/simple_knn-0.0.0-cp310-cp310-linux_x86_64.whl\n",
    "\n"
   ]
  },
  {
   "cell_type": "code",
   "execution_count": null,
   "metadata": {},
   "outputs": [],
   "source": [
    "\n",
    "!wget https://huggingface.co/camenduru/gaussian-splatting/resolve/main/tandt_db.zip\n",
    "!unzip tandt_db.zip\n"
   ]
  },
  {
   "cell_type": "code",
   "execution_count": null,
   "metadata": {},
   "outputs": [],
   "source": [
    "%pip install gdown\n"
   ]
  },
  {
   "cell_type": "code",
   "execution_count": null,
   "metadata": {},
   "outputs": [],
   "source": [
    "!rm -rf  /notebooks/test"
   ]
  },
  {
   "cell_type": "code",
   "execution_count": null,
   "metadata": {},
   "outputs": [],
   "source": [
    "!mkdir /notebooks/xxx"
   ]
  },
  {
   "cell_type": "code",
   "execution_count": null,
   "metadata": {},
   "outputs": [],
   "source": [
    "!unzip -d /notebooks/xxx/input \"/notebooks/Archive.zip\" -x \"__MACOSX/*\""
   ]
  },
  {
   "cell_type": "code",
   "execution_count": null,
   "metadata": {},
   "outputs": [],
   "source": [
    "import os\n",
    "\n",
    "directory = '/notebooks/test/data/keyframes/images/'  # specify your directory\n",
    "\n",
    "# Get all files from the directory\n",
    "files = [f for f in os.listdir(directory) if os.path.isfile(os.path.join(directory, f))]\n",
    "\n",
    "# Filter out non-jpeg files\n",
    "jpeg_files = [f for f in files if f.endswith('.jpeg')]\n",
    "\n",
    "# Sort files (if necessary)\n",
    "jpeg_files.sort()\n",
    "\n",
    "# Rename files\n",
    "for i, filename in enumerate(jpeg_files):\n",
    "    old_path = os.path.join(directory, filename)\n",
    "    new_path = os.path.join(directory, f'{i:05d}.jpeg')  # new name will be 00000.jpeg, 00001.jpeg, etc.\n",
    "    os.rename(old_path, new_path)"
   ]
  },
  {
   "cell_type": "code",
   "execution_count": null,
   "metadata": {},
   "outputs": [],
   "source": [
    "directory = '/notebooks/test/data/keyframes/images/'\n",
    "\n",
    "# Get all files from the directory\n",
    "files = [f for f in os.listdir(directory) if os.path.isfile(os.path.join(directory, f))]\n",
    "\n",
    "# Filter out non-jpeg files\n",
    "jpeg_files = [f for f in files if f.endswith('.jpeg') or f.endswith('.jpg')]  # Also consider '.jpg' extension\n",
    "\n",
    "# Sort files (if necessary)\n",
    "jpeg_files.sort()\n",
    "\n",
    "# Convert JPEG files to PNG using ImageMagick's magick command\n",
    "for jpeg_file in jpeg_files:\n",
    "    source = os.path.join(directory, jpeg_file)\n",
    "    destination = os.path.splitext(source)[0] + '.png'\n",
    "    !magick \"$source\" \"$destination\"\n"
   ]
  },
  {
   "cell_type": "code",
   "execution_count": null,
   "metadata": {},
   "outputs": [],
   "source": [
    "%cd /notebooks/gaussian-splatting\n",
    "%run convert.py -s /notebooks/xxx\n"
   ]
  },
  {
   "cell_type": "code",
   "execution_count": null,
   "metadata": {},
   "outputs": [],
   "source": [
    "!mkdir /notebooks/xxx/images"
   ]
  },
  {
   "cell_type": "code",
   "execution_count": null,
   "metadata": {},
   "outputs": [],
   "source": [
    "%cp /notebooks/xxx/input/* /notebooks/xxx/images"
   ]
  },
  {
   "cell_type": "code",
   "execution_count": null,
   "metadata": {},
   "outputs": [],
   "source": [
    "from sys import exit\n",
    "%run convert.py -s  /notebooks/test/data/keyframes  --skip_matching --resize"
   ]
  },
  {
   "cell_type": "code",
   "execution_count": null,
   "metadata": {},
   "outputs": [],
   "source": [
    "%cd /notebooks/gaussian-splatting\n",
    "%run train.py  -s /notebooks/xxx"
   ]
  },
  {
   "cell_type": "code",
   "execution_count": null,
   "metadata": {},
   "outputs": [],
   "source": [
    "%cd /notebooks/gaussian-splatting\n",
    "%run  render.py -m  /notebooks/gaussian-splatting/output/0fbca5a0-3 -s /notebooks/tablexxx2"
   ]
  },
  {
   "cell_type": "code",
   "execution_count": null,
   "metadata": {},
   "outputs": [],
   "source": [
    "%run  metrics.py -m  /notebooks/gaussian-splatting/output/193d95f0-5 "
   ]
  },
  {
   "cell_type": "code",
   "execution_count": null,
   "metadata": {},
   "outputs": [],
   "source": [
    "!zip -r 193d95f0-5.zip /notebooks/gaussian-splatting/output/193d95f0-5 "
   ]
  },
  {
   "cell_type": "code",
   "execution_count": null,
   "metadata": {},
   "outputs": [],
   "source": [
    "!zip -r test-2.zip /notebooks/test-2"
   ]
  },
  {
   "cell_type": "code",
   "execution_count": null,
   "metadata": {},
   "outputs": [],
   "source": [
    "%cd /notebooks/gaussian-splatting/output/930e0cf7-f "
   ]
  },
  {
   "cell_type": "code",
   "execution_count": null,
   "metadata": {},
   "outputs": [],
   "source": [
    "!wget https://github.com/cloudflare/cloudflared/releases/latest/download/cloudflared-linux-amd64.deb -O cloudflared-linux-amd64.deb\n",
    "!dpkg -i cloudflared-linux-amd64.deb\n",
    "%pip install nest-asyncio"
   ]
  },
  {
   "cell_type": "code",
   "execution_count": null,
   "metadata": {},
   "outputs": [],
   "source": [
    "%autoawait True\n",
    "import nest_asyncio\n",
    "nest_asyncio.apply()\n",
    "import atexit, requests, subprocess, time, re, os\n",
    "from random import randint\n",
    "from threading import Thread\n",
    "from queue import Queue\n",
    "\n",
    "def cloudflared(port, metrics_port, output_queue):\n",
    "    atexit.register(lambda p: p.terminate(), subprocess.Popen(['cloudflared', 'tunnel', '--url', f'http://127.0.0.1:{port}', '--metrics', f'127.0.0.1:{metrics_port}'], stdout=subprocess.DEVNULL, stderr=subprocess.STDOUT))\n",
    "    attempts, tunnel_url = 0, None\n",
    "    while attempts < 10 and not tunnel_url:\n",
    "        attempts += 1\n",
    "        time.sleep(3)\n",
    "        try:\n",
    "            tunnel_url = re.search(\"(?P<url>https?:\\/\\/[^\\s]+.trycloudflare.com)\", requests.get(f'http://127.0.0.1:{metrics_port}/metrics').text).group(\"url\")\n",
    "        except:\n",
    "            pass\n",
    "    if not tunnel_url:\n",
    "        raise Exception(\"Can't connect to Cloudflare Edge\")\n",
    "    output_queue.put(tunnel_url)\n",
    "\n",
    "output_queue, metrics_port = Queue(), randint(8100, 9000)\n",
    "thread = Thread(target=cloudflared, args=(7860, metrics_port, output_queue))\n",
    "thread.start()\n",
    "thread.join()\n",
    "tunnel_url = output_queue.get()\n",
    "os.environ['webui_url'] = tunnel_url\n",
    "print(tunnel_url)\n",
    "\n",
    "\n",
    "%run -m http.server 7860"
   ]
  },
  {
   "cell_type": "markdown",
   "metadata": {},
   "source": [
    "COLMAP"
   ]
  },
  {
   "cell_type": "code",
   "execution_count": null,
   "metadata": {},
   "outputs": [],
   "source": [
    "!sudo apt-get -y install \\\n",
    "    git \\\n",
    "    cmake \\\n",
    "    ninja-build \\\n",
    "    build-essential \\\n",
    "    libboost-program-options-dev \\\n",
    "    libboost-filesystem-dev \\\n",
    "    libboost-graph-dev \\\n",
    "    libboost-system-dev \\\n",
    "    libeigen3-dev \\\n",
    "    libflann-dev \\\n",
    "    libfreeimage-dev \\\n",
    "    libmetis-dev \\\n",
    "    libgoogle-glog-dev \\\n",
    "    libgtest-dev \\\n",
    "    libsqlite3-dev \\\n",
    "    libglew-dev \\\n",
    "    qtbase5-dev \\\n",
    "    libqt5opengl5-dev \\\n",
    "    libcgal-dev \\\n",
    "    libceres-dev\n"
   ]
  },
  {
   "cell_type": "code",
   "execution_count": null,
   "metadata": {},
   "outputs": [],
   "source": [
    "!git clone https://github.com/colmap/colmap.git\n",
    "%cd colmap\n",
    "!git checkout dev\n",
    "!mkdir build\n",
    "%cd build\n",
    "!cmake .. -GNinja  -DCMAKE_CUDA_ARCHITECTURES=native\n",
    "!ninja\n",
    "!ninja install"
   ]
  }
 ],
 "metadata": {
  "kernelspec": {
   "display_name": "gaussian-splatting",
   "language": "python",
   "name": "gaussian-splatting"
  },
  "language_info": {
   "codemirror_mode": {
    "name": "ipython",
    "version": 3
   },
   "file_extension": ".py",
   "mimetype": "text/x-python",
   "name": "python",
   "nbconvert_exporter": "python",
   "pygments_lexer": "ipython3",
   "version": "3.10.6"
  }
 },
 "nbformat": 4,
 "nbformat_minor": 2
}
