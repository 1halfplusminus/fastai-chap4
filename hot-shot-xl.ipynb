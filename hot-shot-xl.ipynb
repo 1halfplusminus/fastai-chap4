{
 "cells": [
  {
   "cell_type": "code",
   "execution_count": null,
   "metadata": {},
   "outputs": [],
   "source": [
    "!git clone https://github.com/hotshotco/Hotshot-XL.git\n",
    "%cd /notebooks/Hotshot-XL"
   ]
  },
  {
   "cell_type": "code",
   "execution_count": null,
   "metadata": {},
   "outputs": [],
   "source": [
    "!git lfs install\n",
    "!git clone https://huggingface.co/hotshotco/SDXL-512"
   ]
  },
  {
   "cell_type": "code",
   "execution_count": null,
   "metadata": {},
   "outputs": [],
   "source": [
    "!git lfs install\n",
    "!git clone https://huggingface.co/hotshotco/Hotshot-XL"
   ]
  },
  {
   "cell_type": "code",
   "execution_count": null,
   "metadata": {},
   "outputs": [],
   "source": [
    "%pip install -r requirements.txt"
   ]
  },
  {
   "cell_type": "code",
   "execution_count": null,
   "metadata": {},
   "outputs": [],
   "source": [
    "%run inference.py \\\n",
    "  --prompt=\"a bulldog in the captains chair of a spaceship, hd, high quality\" \\\n",
    "  --output=\"output.gif\" "
   ]
  },
  {
   "cell_type": "code",
   "execution_count": null,
   "metadata": {},
   "outputs": [],
   "source": [
    "# Make sure you have git-lfs installed (https://git-lfs.com)\n",
    "\n",
    "!git clone https://huggingface.co/stabilityai/stable-diffusion-xl-base-1.0\n",
    "\n"
   ]
  },
  {
   "cell_type": "code",
   "execution_count": null,
   "metadata": {},
   "outputs": [],
   "source": [
    "%cd /notebooks/hotshot_xl/Hotshot-XL"
   ]
  },
  {
   "cell_type": "code",
   "execution_count": null,
   "metadata": {},
   "outputs": [],
   "source": [
    "%run inference.py \\\n",
    "  --prompt=\"((xxlouienvlog:2.0)) a man waiting in cold, hd, high quality\" \\\n",
    "  --output=\"/notebooks/hotshot_xl/Hotshot-XL/output.gif\" \\\n",
    "  --control_type=\"depth\" \\\n",
    "  --lora=\"/notebooks/ComfyUI/models/loras/SDXL1.0-LouisTauru2.safetensors\" \\\n",
    "  --gif=\"/notebooks/hotshot_xl/Hotshot-XL/animation.gif.gif\" "
   ]
  }
 ],
 "metadata": {
  "kernelspec": {
   "display_name": "hotshot_xl",
   "language": "python",
   "name": "hotshot_xl"
  },
  "language_info": {
   "codemirror_mode": {
    "name": "ipython",
    "version": 3
   },
   "file_extension": ".py",
   "mimetype": "text/x-python",
   "name": "python",
   "nbconvert_exporter": "python",
   "pygments_lexer": "ipython3",
   "version": "3.10.6"
  }
 },
 "nbformat": 4,
 "nbformat_minor": 2
}
