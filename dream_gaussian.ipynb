{
 "cells": [
  {
   "cell_type": "code",
   "execution_count": null,
   "metadata": {},
   "outputs": [],
   "source": [
    "!git clone https://github.com/dreamgaussian/dreamgaussian"
   ]
  },
  {
   "cell_type": "code",
   "execution_count": null,
   "metadata": {},
   "outputs": [],
   "source": [
    "%pip install xformers==0.0.19 torch==2.0.0+cu118 torchvision  torchaudio --extra-index-url https://download.pytorch.org/whl/cu118"
   ]
  },
  {
   "cell_type": "code",
   "execution_count": null,
   "metadata": {},
   "outputs": [],
   "source": [
    "!sudo apt-get update\n",
    "!sudo apt-get install libeigen3-dev libegl1-mesa-dev xvfb -y "
   ]
  },
  {
   "cell_type": "code",
   "execution_count": null,
   "metadata": {},
   "outputs": [],
   "source": [
    "!git clone https://github.com/huggingface/transformers.git\n",
    "%cd transformers\n",
    "!git pull\n",
    "%pip install -e ."
   ]
  },
  {
   "cell_type": "code",
   "execution_count": null,
   "metadata": {},
   "outputs": [],
   "source": [
    "%cd /notebooks/dreamgaussian\n",
    "!git pull"
   ]
  },
  {
   "cell_type": "code",
   "execution_count": null,
   "metadata": {},
   "outputs": [],
   "source": [
    "%pip install -r requirements.txt\n",
    "\n",
    "# a modified gaussian splatting (+ depth, alpha rendering)\n",
    "!git clone --recursive https://github.com/ashawkey/diff-gaussian-rasterization\n",
    "%pip install ./diff-gaussian-rasterization\n",
    "\n",
    "# simple-knn\n",
    "%pip install ./simple-knn\n",
    "\n",
    "# nvdiffrast\n",
    "%pip install git+https://github.com/NVlabs/nvdiffrast/\n",
    "\n",
    "# kiuikit\n",
    "%pip install git+https://github.com/ashawkey/kiuikit\n",
    "\n",
    "%pip install  dearpygui"
   ]
  },
  {
   "cell_type": "code",
   "execution_count": null,
   "metadata": {},
   "outputs": [],
   "source": [
    "%cd /notebooks/dreamgaussian"
   ]
  },
  {
   "cell_type": "code",
   "execution_count": null,
   "metadata": {},
   "outputs": [],
   "source": [
    "%pip install nest-asyncio gradio==3.47.0 "
   ]
  },
  {
   "cell_type": "code",
   "execution_count": null,
   "metadata": {},
   "outputs": [],
   "source": [
    "import nest_asyncio\n",
    "nest_asyncio.apply()\n",
    "\n",
    "%run gradio_app2.py"
   ]
  },
  {
   "cell_type": "code",
   "execution_count": null,
   "metadata": {},
   "outputs": [],
   "source": [
    "file_name = \"cat\"\n",
    "file_extension=\"png\"\n",
    "name=\"ouput\""
   ]
  },
  {
   "cell_type": "code",
   "execution_count": null,
   "metadata": {},
   "outputs": [],
   "source": [
    "# Jupyter Notebook Cell 2\n",
    "\n",
    "try:\n",
    "    file_name\n",
    "except NameError:\n",
    "    print(\"Please upload a file first using the widget above.\")\n",
    "    raise\n",
    "\n",
    "### preprocess\n",
    "# background removal and recentering, save rgba at 256x256\n",
    "%run process.py tmp_data/{file_name}.{file_extension}\n",
    "\n",
    "# save at a larger resolution\n",
    "#%run process.py data/{file_name} --size 512\n",
    "\n",
    "# process all jpg images under a dir\n",
    "#%run process.py data\n",
    "\n",
    "### training gaussian stage\n",
    "# train 500 iters (~1min) and export ckpt & coarse_mesh to logs\n",
    "\n",
    "\n",
    "# gui mode (supports visualizing training)\n",
    "# %run main.py --config configs/image.yaml input=data/{file_name}_rgba.png save_path=name gui=True\n",
    "\n",
    "# load and visualize a saved ckpt\n",
    "# %run main.py --config configs/image.yaml load=logs/name_model.ply gui=True\n",
    "\n",
    "# use an estimated elevation angle if image is not front-view (e.g., common looking-down image can use -30)\n",
    "# %run main.py --config configs/image.yaml input=data/{file_name}_rgba.png save_path=name elevation=-30\n",
    "\n",
    "### training mesh stage\n",
    "# auto load coarse_mesh and refine 50 iters (~1min), export fine_mesh to logs\n",
    "#%run main2.py --config configs/image.yaml input=data/{file_name}_rgba.png save_path=name\n",
    "\n",
    "# specify coarse mesh path explicity\n",
    "#%run main2.py --config configs/image.yaml input=data/{file_name}_rgba.png save_path=name mesh=logs/name_mesh.obj\n",
    "\n",
    "# gui mode\n",
    "#%run main2.py --config configs/image.yaml input=data/{file_name}_rgba.png save_path=name gui=True\n",
    "\n",
    "# export glb instead of obj\n",
    "\n"
   ]
  },
  {
   "cell_type": "code",
   "execution_count": null,
   "metadata": {},
   "outputs": [],
   "source": [
    "\n",
    "%autoawait True\n",
    "import nest_asyncio\n",
    "nest_asyncio.apply()\n",
    "import subprocess\n",
    "import sys\n",
    "\n",
    "python_exec_path = sys.executable\n",
    "# Define the command and arguments\n",
    "command = [\n",
    "    f'{python_exec_path}', 'main.py',\n",
    "    '--config', 'configs/image.yaml',\n",
    "    f'input=tmp_data/{file_name}_rgba.png',\n",
    "    'save_path=name'\n",
    "]\n",
    "\n",
    "# Start the subprocess with stdout and stderr redirected to pipes\n",
    "process = subprocess.Popen(command, stdout=subprocess.PIPE, stderr=subprocess.STDOUT, text=True)\n",
    "\n",
    "# Define a function to output the subprocess's log data in real-time\n",
    "def stream_log(pipe):\n",
    "    while True:\n",
    "        # Read a line of output from the pipe\n",
    "        line = pipe.readline()\n",
    "        if line:\n",
    "            # Print the line to the Jupyter Notebook's output\n",
    "            print(line, end='')\n",
    "        else:\n",
    "            # No more output, break the loop\n",
    "            break\n",
    "\n",
    "# Call the function to stream the log data from the subprocess's stdout\n",
    "stream_log(process.stdout)\n",
    "\n",
    "# Wait for the subprocess to finish, if it hasn't already\n",
    "return_code = process.wait()\n",
    "\n",
    "# Check the return code to determine whether the subprocess succeeded or failed\n",
    "if return_code == 0:\n",
    "    print('Success')\n",
    "else:\n",
    "    print(f'Error: subprocess failed with return code {return_code}')"
   ]
  },
  {
   "cell_type": "code",
   "execution_count": null,
   "metadata": {},
   "outputs": [],
   "source": [
    "%autoawait True\n",
    "import nest_asyncio\n",
    "nest_asyncio.apply()\n",
    "import subprocess\n",
    "import sys\n",
    "\n",
    "python_exec_path = sys.executable\n",
    "# Define the command and arguments\n",
    "command = [\n",
    "    f'{python_exec_path}', 'main2.py',\n",
    "    '--config', 'configs/image_re.yaml',\n",
    "    f'input=tmp_data/{file_name}_rgba.png',\n",
    "    'save_path=name'\n",
    "]\n",
    "\n",
    "# Start the subprocess with stdout and stderr redirected to pipes\n",
    "process = subprocess.Popen(command, stdout=subprocess.PIPE, stderr=subprocess.STDOUT, text=True)\n",
    "\n",
    "# Define a function to output the subprocess's log data in real-time\n",
    "def stream_log(pipe):\n",
    "    while True:\n",
    "        # Read a line of output from the pipe\n",
    "        line = pipe.readline()\n",
    "        if line:\n",
    "            # Print the line to the Jupyter Notebook's output\n",
    "            print(line, end='')\n",
    "        else:\n",
    "            # No more output, break the loop\n",
    "            break\n",
    "\n",
    "# Call the function to stream the log data from the subprocess's stdout\n",
    "stream_log(process.stdout)\n",
    "\n",
    "# Wait for the subprocess to finish, if it hasn't already\n",
    "return_code = process.wait()\n",
    "\n",
    "# Check the return code to determine whether the subprocess succeeded or failed\n",
    "if return_code == 0:\n",
    "    print('Success')\n",
    "else:\n",
    "    print(f'Error: subprocess failed with return code {return_code}')"
   ]
  }
 ],
 "metadata": {
  "kernelspec": {
   "display_name": "dream_gaussian",
   "language": "python",
   "name": "dream_gaussian"
  },
  "language_info": {
   "codemirror_mode": {
    "name": "ipython",
    "version": 3
   },
   "file_extension": ".py",
   "mimetype": "text/x-python",
   "name": "python",
   "nbconvert_exporter": "python",
   "pygments_lexer": "ipython3",
   "version": "3.10.6"
  }
 },
 "nbformat": 4,
 "nbformat_minor": 2
}
