{
 "cells": [
  {
   "cell_type": "code",
   "execution_count": null,
   "metadata": {},
   "outputs": [],
   "source": [
    "!git clone https://github.com/dreamgaussian/dreamgaussian"
   ]
  },
  {
   "cell_type": "code",
   "execution_count": null,
   "metadata": {},
   "outputs": [],
   "source": [
    "%pip install xformers==0.0.19 torch==2.0.0+cu118 torchvision  torchaudio --extra-index-url https://download.pytorch.org/whl/cu118"
   ]
  },
  {
   "cell_type": "code",
   "execution_count": null,
   "metadata": {},
   "outputs": [],
   "source": [
    "!sudo apt-get update\n",
    "!sudo apt-get install libeigen3-dev -y\n"
   ]
  },
  {
   "cell_type": "code",
   "execution_count": null,
   "metadata": {},
   "outputs": [],
   "source": [
    "!git clone https://github.com/huggingface/transformers.git\n",
    "%cd transformers\n",
    "%pip install -e ."
   ]
  },
  {
   "cell_type": "code",
   "execution_count": null,
   "metadata": {},
   "outputs": [],
   "source": [
    "%pip install -r requirements.txt\n",
    "\n",
    "# a modified gaussian splatting (+ depth, alpha rendering)\n",
    "!git clone --recursive https://github.com/ashawkey/diff-gaussian-rasterization\n",
    "%pip install ./diff-gaussian-rasterization\n",
    "\n",
    "# simple-knn\n",
    "%pip install ./simple-knn\n",
    "\n",
    "# nvdiffrast\n",
    "%pip install git+https://github.com/NVlabs/nvdiffrast/\n",
    "\n",
    "# kiuikit\n",
    "%pip install git+https://github.com/ashawkey/kiuikit\n",
    "\n",
    "%pip install  dearpygui"
   ]
  },
  {
   "cell_type": "code",
   "execution_count": null,
   "metadata": {},
   "outputs": [],
   "source": [
    "%pip install -r requirements.txt"
   ]
  },
  {
   "cell_type": "code",
   "execution_count": null,
   "metadata": {},
   "outputs": [],
   "source": [
    "%cd /notebooks/dreamgaussian"
   ]
  },
  {
   "cell_type": "code",
   "execution_count": null,
   "metadata": {},
   "outputs": [],
   "source": [
    "file_name = \"dyno\"\n",
    "file_extension=\"png\"\n",
    "name=\"ouput\""
   ]
  },
  {
   "cell_type": "code",
   "execution_count": null,
   "metadata": {},
   "outputs": [],
   "source": [
    "# Jupyter Notebook Cell 2\n",
    "\n",
    "try:\n",
    "    file_name\n",
    "except NameError:\n",
    "    print(\"Please upload a file first using the widget above.\")\n",
    "    raise\n",
    "\n",
    "### preprocess\n",
    "# background removal and recentering, save rgba at 256x256\n",
    "%run process.py data/{file_name}.{file_extension}\n",
    "\n",
    "# save at a larger resolution\n",
    "#%run process.py data/{file_name} --size 512\n",
    "\n",
    "# process all jpg images under a dir\n",
    "#%run process.py data\n",
    "\n",
    "### training gaussian stage\n",
    "# train 500 iters (~1min) and export ckpt & coarse_mesh to logs\n",
    "%run main.py --config configs/image.yaml input=data/{file_name}_rgba.png save_path=name\n",
    "\n",
    "# gui mode (supports visualizing training)\n",
    "# %run main.py --config configs/image.yaml input=data/{file_name}_rgba.png save_path=name gui=True\n",
    "\n",
    "# load and visualize a saved ckpt\n",
    "# %run main.py --config configs/image.yaml load=logs/name_model.ply gui=True\n",
    "\n",
    "# use an estimated elevation angle if image is not front-view (e.g., common looking-down image can use -30)\n",
    "# %run main.py --config configs/image.yaml input=data/{file_name}_rgba.png save_path=name elevation=-30\n",
    "\n",
    "### training mesh stage\n",
    "# auto load coarse_mesh and refine 50 iters (~1min), export fine_mesh to logs\n",
    "#%run main2.py --config configs/image.yaml input=data/{file_name}_rgba.png save_path=name\n",
    "\n",
    "# specify coarse mesh path explicity\n",
    "#%run main2.py --config configs/image.yaml input=data/{file_name}_rgba.png save_path=name mesh=logs/name_mesh.obj\n",
    "\n",
    "# gui mode\n",
    "#%run main2.py --config configs/image.yaml input=data/{file_name}_rgba.png save_path=name gui=True\n",
    "\n",
    "# export glb instead of obj\n",
    "\n"
   ]
  },
  {
   "cell_type": "code",
   "execution_count": null,
   "metadata": {},
   "outputs": [],
   "source": [
    "\n",
    "%run main.py --config configs/image.yaml input=data/{file_name}_rgba.png save_path=name"
   ]
  },
  {
   "cell_type": "code",
   "execution_count": null,
   "metadata": {},
   "outputs": [],
   "source": [
    "%run main2.py --config configs/image.yaml input=data/{file_name}_rgba.png save_path=name"
   ]
  },
  {
   "cell_type": "code",
   "execution_count": null,
   "metadata": {},
   "outputs": [],
   "source": [
    "%run gradio_app2.py"
   ]
  }
 ],
 "metadata": {
  "kernelspec": {
   "display_name": "dream_gaussian",
   "language": "python",
   "name": "dream_gaussian"
  },
  "language_info": {
   "codemirror_mode": {
    "name": "ipython",
    "version": 3
   },
   "file_extension": ".py",
   "mimetype": "text/x-python",
   "name": "python",
   "nbconvert_exporter": "python",
   "pygments_lexer": "ipython3",
   "version": "3.10.6"
  }
 },
 "nbformat": 4,
 "nbformat_minor": 2
}
