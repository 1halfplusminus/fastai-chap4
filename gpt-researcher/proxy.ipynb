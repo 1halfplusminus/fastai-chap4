{
 "cells": [
  {
   "cell_type": "code",
   "execution_count": 1,
   "metadata": {},
   "outputs": [
    {
     "name": "stdout",
     "output_type": "stream",
     "text": [
      "\u001b[90m2023-10-20T08:16:21Z\u001b[0m \u001b[32mINF\u001b[0m Thank you for trying Cloudflare Tunnel. Doing so, without a Cloudflare account, is a quick way to experiment and try it out. However, be aware that these account-less Tunnels have no uptime guarantee. If you intend to use Tunnels in production you should use a pre-created named tunnel by following: https://developers.cloudflare.com/cloudflare-one/connections/connect-apps\n",
      "\u001b[90m2023-10-20T08:16:21Z\u001b[0m \u001b[32mINF\u001b[0m Requesting new quick Tunnel on trycloudflare.com...\n",
      "\u001b[90m2023-10-20T08:16:22Z\u001b[0m \u001b[32mINF\u001b[0m +--------------------------------------------------------------------------------------------+\n",
      "\u001b[90m2023-10-20T08:16:22Z\u001b[0m \u001b[32mINF\u001b[0m |  Your quick Tunnel has been created! Visit it at (it may take some time to be reachable):  |\n",
      "\u001b[90m2023-10-20T08:16:22Z\u001b[0m \u001b[32mINF\u001b[0m |  https://robin-undertake-structures-caused.trycloudflare.com                               |\n",
      "\u001b[90m2023-10-20T08:16:22Z\u001b[0m \u001b[32mINF\u001b[0m +--------------------------------------------------------------------------------------------+\n",
      "\u001b[90m2023-10-20T08:16:22Z\u001b[0m \u001b[32mINF\u001b[0m Cannot determine default configuration path. No file [config.yml config.yaml] in [~/.cloudflared ~/.cloudflare-warp ~/cloudflare-warp /etc/cloudflared /usr/local/etc/cloudflared]\n",
      "\u001b[90m2023-10-20T08:16:22Z\u001b[0m \u001b[32mINF\u001b[0m Version 2023.8.2\n",
      "\u001b[90m2023-10-20T08:16:22Z\u001b[0m \u001b[32mINF\u001b[0m GOOS: linux, GOVersion: go1.20.6, GoArch: amd64\n",
      "\u001b[90m2023-10-20T08:16:22Z\u001b[0m \u001b[32mINF\u001b[0m Settings: map[ha-connections:1 protocol:quic url:http://0.0.0.0:8000]\n",
      "\u001b[90m2023-10-20T08:16:22Z\u001b[0m \u001b[32mINF\u001b[0m Generated Connector ID: 259c5269-8fe8-490f-b45e-6924f397cd62\n",
      "\u001b[90m2023-10-20T08:16:22Z\u001b[0m \u001b[32mINF\u001b[0m cloudflared will not automatically update if installed by a package manager.\n",
      "\u001b[90m2023-10-20T08:16:22Z\u001b[0m \u001b[32mINF\u001b[0m Initial protocol quic\n",
      "\u001b[90m2023-10-20T08:16:22Z\u001b[0m \u001b[32mINF\u001b[0m ICMP proxy will use 10.36.165.181 as source for IPv4\n",
      "\u001b[90m2023-10-20T08:16:22Z\u001b[0m \u001b[32mINF\u001b[0m ICMP proxy will use :: as source for IPv6\n",
      "\u001b[90m2023-10-20T08:16:22Z\u001b[0m \u001b[32mINF\u001b[0m Starting metrics server on 127.0.0.1:38077/metrics\n",
      "2023/10/20 08:16:22 failed to sufficiently increase receive buffer size (was: 208 kiB, wanted: 2048 kiB, got: 416 kiB). See https://github.com/quic-go/quic-go/wiki/UDP-Receive-Buffer-Size for details.\n",
      "\u001b[90m2023-10-20T08:16:22Z\u001b[0m \u001b[32mINF\u001b[0m Registered tunnel connection \u001b[36mconnIndex=\u001b[0m0 \u001b[36mconnection=\u001b[0m76f8ad22-414c-4e07-9311-310b0b08845b \u001b[36mevent=\u001b[0m0 \u001b[36mip=\u001b[0m198.41.192.47 \u001b[36mlocation=\u001b[0mewr08 \u001b[36mprotocol=\u001b[0mquic\n"
     ]
    }
   ],
   "source": [
    "!cloudflared tunnel --url http://0.0.0.0:8000"
   ]
  }
 ],
 "metadata": {
  "kernelspec": {
   "display_name": "Python 3 (ipykernel)",
   "language": "python",
   "name": "python3"
  }
 },
 "nbformat": 4,
 "nbformat_minor": 2
}
