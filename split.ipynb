{
 "cells": [
  {
   "cell_type": "code",
   "execution_count": null,
   "metadata": {},
   "outputs": [],
   "source": [
    "%pip install PyPDF2"
   ]
  },
  {
   "cell_type": "code",
   "execution_count": null,
   "metadata": {},
   "outputs": [],
   "source": []
  },
  {
   "cell_type": "code",
   "execution_count": null,
   "metadata": {},
   "outputs": [],
   "source": [
    "import os\n",
    "from PyPDF2 import PdfReader, PdfWriter\n",
    "\n",
    "def split_pdf_by_size(input_pdf_path, max_file_size_mb, output_folder):\n",
    "    input_pdf = PdfReader(input_pdf_path)\n",
    "    output_pdf = PdfWriter()\n",
    "    current_size_mb = 0\n",
    "    part_number = 1\n",
    "    \n",
    "    for page in input_pdf.pages:\n",
    "        output_pdf.add_page(page)\n",
    "        # Save the current PDF to check its size\n",
    "        temp_output_path = os.path.join(output_folder, f\"temp_part_{part_number}.pdf\")\n",
    "        with open(temp_output_path, \"wb\") as outputStream:\n",
    "            output_pdf.write(outputStream)\n",
    "        \n",
    "        current_size_mb = os.path.getsize(temp_output_path) / (1024 * 1024)\n",
    "        \n",
    "        # If the size exceeds the maximum size, start a new PDF file\n",
    "        if current_size_mb > max_file_size_mb:\n",
    "            os.remove(temp_output_path)  # Remove temp file as it's over the size limit\n",
    "            part_number += 1\n",
    "            output_pdf = PdfWriter()  # Start a new PDF\n",
    "            output_pdf.add_page(page)  # Add the current page to the new PDF\n",
    "            # Save the new starting PDF\n",
    "            with open(os.path.join(output_folder, f\"part_{part_number}.pdf\"), \"wb\") as outputStream:\n",
    "                output_pdf.write(outputStream)\n",
    "    \n",
    "    # Save the last PDF if it has any content\n",
    "    if len(output_pdf.pages) > 0:\n",
    "        with open(os.path.join(output_folder, f\"part_{part_number}.pdf\"), \"wb\") as outputStream:\n",
    "            output_pdf.write(outputStream)\n",
    "\n",
    "\n",
    "# Example usage\n",
    "input_pdf_path = \"/Users/gaelsautron/Downloads/dynamics365-business-central-dev-itpro (1)_compressed.pdf\"\n",
    "max_file_size_mb = 50  # Your desired max file size in MB\n",
    "output_folder = \"/Users/gaelsautron/Downloads/test\"\n",
    "split_pdf_by_size(input_pdf_path, max_file_size_mb, output_folder)\n"
   ]
  },
  {
   "cell_type": "code",
   "execution_count": null,
   "metadata": {},
   "outputs": [],
   "source": [
    "%pip install pdf-split-tool"
   ]
  },
  {
   "cell_type": "code",
   "execution_count": null,
   "metadata": {},
   "outputs": [],
   "source": [
    "!pdf-split-tool --max-size 10 \"/Users/gaelsautron/Downloads/dynamics365-business-central-dev-itpro (1)_compressed.pdf\""
   ]
  }
 ],
 "metadata": {
  "kernelspec": {
   "display_name": "localGPT",
   "language": "python",
   "name": "python3"
  },
  "language_info": {
   "codemirror_mode": {
    "name": "ipython",
    "version": 3
   },
   "file_extension": ".py",
   "mimetype": "text/x-python",
   "name": "python",
   "nbconvert_exporter": "python",
   "pygments_lexer": "ipython3",
   "version": "3.11.5"
  }
 },
 "nbformat": 4,
 "nbformat_minor": 2
}
