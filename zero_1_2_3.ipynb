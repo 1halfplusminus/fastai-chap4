{
 "cells": [
  {
   "cell_type": "code",
   "execution_count": null,
   "metadata": {},
   "outputs": [],
   "source": [
    "!git clone https://github.com/cvlab-columbia/zero123.git"
   ]
  },
  {
   "cell_type": "code",
   "execution_count": null,
   "metadata": {},
   "outputs": [],
   "source": [
    "%cd zero123"
   ]
  },
  {
   "cell_type": "code",
   "execution_count": null,
   "metadata": {},
   "outputs": [],
   "source": [
    "%cd zero123\n",
    "%pip install -r requirements.txt\n",
    "!git clone https://github.com/CompVis/taming-transformers.git\n",
    "%pip install -e taming-transformers/\n",
    "!git clone https://github.com/openai/CLIP.git\n",
    "%pip install -e CLIP/"
   ]
  },
  {
   "cell_type": "code",
   "execution_count": null,
   "metadata": {},
   "outputs": [],
   "source": [
    "!cp /notebooks/stable-dreamfusion/pretrained/zero123/zero123-xl.ckpt ./zero123/300000.ckpt\n"
   ]
  },
  {
   "cell_type": "code",
   "execution_count": null,
   "metadata": {},
   "outputs": [],
   "source": [
    "%cd zero123"
   ]
  },
  {
   "cell_type": "code",
   "execution_count": null,
   "metadata": {},
   "outputs": [],
   "source": [
    "%pip install -r requirements.txt"
   ]
  },
  {
   "cell_type": "code",
   "execution_count": null,
   "metadata": {},
   "outputs": [],
   "source": [
    "%run gradio_new.py"
   ]
  }
 ],
 "metadata": {
  "kernelspec": {
   "display_name": "dreamfusion",
   "language": "python",
   "name": "dreamfusion"
  },
  "orig_nbformat": 4
 },
 "nbformat": 4,
 "nbformat_minor": 2
}
