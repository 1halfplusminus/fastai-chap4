{
 "cells": [
  {
   "attachments": {},
   "cell_type": "markdown",
   "metadata": {},
   "source": [
    "TABULOR MODEL FRON SCRATCH"
   ]
  },
  {
   "cell_type": "code",
   "execution_count": 4,
   "metadata": {},
   "outputs": [
    {
     "name": "stdout",
     "output_type": "stream",
     "text": [
      "Requirement already satisfied: torch in /usr/local/lib/python3.9/dist-packages (1.12.0+cu116)\n",
      "Requirement already satisfied: numpy in /usr/local/lib/python3.9/dist-packages (1.23.1)\n",
      "Requirement already satisfied: pandas in /usr/local/lib/python3.9/dist-packages (1.4.3)\n",
      "Requirement already satisfied: fastai in /usr/local/lib/python3.9/dist-packages (2.7.9)\n",
      "Requirement already satisfied: typing-extensions in /usr/local/lib/python3.9/dist-packages (from torch) (4.3.0)\n",
      "Requirement already satisfied: pytz>=2020.1 in /usr/local/lib/python3.9/dist-packages (from pandas) (2022.1)\n",
      "Requirement already satisfied: python-dateutil>=2.8.1 in /usr/local/lib/python3.9/dist-packages (from pandas) (2.8.2)\n",
      "Requirement already satisfied: fastdownload<2,>=0.0.5 in /usr/local/lib/python3.9/dist-packages (from fastai) (0.0.7)\n",
      "Requirement already satisfied: fastcore<1.6,>=1.4.5 in /usr/local/lib/python3.9/dist-packages (from fastai) (1.5.27)\n",
      "Requirement already satisfied: torchvision>=0.8.2 in /usr/local/lib/python3.9/dist-packages (from fastai) (0.13.0+cu116)\n",
      "Requirement already satisfied: pip in /usr/local/lib/python3.9/dist-packages (from fastai) (22.2.2)\n",
      "Requirement already satisfied: fastprogress>=0.2.4 in /usr/local/lib/python3.9/dist-packages (from fastai) (1.0.3)\n",
      "Requirement already satisfied: scikit-learn in /usr/local/lib/python3.9/dist-packages (from fastai) (1.1.1)\n",
      "Requirement already satisfied: packaging in /usr/local/lib/python3.9/dist-packages (from fastai) (21.3)\n",
      "Requirement already satisfied: spacy<4 in /usr/local/lib/python3.9/dist-packages (from fastai) (3.4.0)\n",
      "Requirement already satisfied: requests in /usr/local/lib/python3.9/dist-packages (from fastai) (2.28.1)\n",
      "Requirement already satisfied: pillow>6.0.0 in /usr/local/lib/python3.9/dist-packages (from fastai) (9.2.0)\n",
      "Requirement already satisfied: scipy in /usr/local/lib/python3.9/dist-packages (from fastai) (1.8.1)\n",
      "Requirement already satisfied: pyyaml in /usr/lib/python3/dist-packages (from fastai) (5.3.1)\n",
      "Requirement already satisfied: matplotlib in /usr/local/lib/python3.9/dist-packages (from fastai) (3.5.2)\n",
      "Requirement already satisfied: six>=1.5 in /usr/lib/python3/dist-packages (from python-dateutil>=2.8.1->pandas) (1.14.0)\n",
      "Requirement already satisfied: typer<0.5.0,>=0.3.0 in /usr/local/lib/python3.9/dist-packages (from spacy<4->fastai) (0.4.2)\n",
      "Requirement already satisfied: setuptools in /usr/local/lib/python3.9/dist-packages (from spacy<4->fastai) (63.1.0)\n",
      "Requirement already satisfied: langcodes<4.0.0,>=3.2.0 in /usr/local/lib/python3.9/dist-packages (from spacy<4->fastai) (3.3.0)\n",
      "Requirement already satisfied: preshed<3.1.0,>=3.0.2 in /usr/local/lib/python3.9/dist-packages (from spacy<4->fastai) (3.0.6)\n",
      "Requirement already satisfied: spacy-loggers<2.0.0,>=1.0.0 in /usr/local/lib/python3.9/dist-packages (from spacy<4->fastai) (1.0.2)\n",
      "Requirement already satisfied: thinc<8.2.0,>=8.1.0 in /usr/local/lib/python3.9/dist-packages (from spacy<4->fastai) (8.1.0)\n",
      "Requirement already satisfied: jinja2 in /usr/local/lib/python3.9/dist-packages (from spacy<4->fastai) (3.1.2)\n",
      "Requirement already satisfied: pydantic!=1.8,!=1.8.1,<1.10.0,>=1.7.4 in /usr/local/lib/python3.9/dist-packages (from spacy<4->fastai) (1.9.1)\n",
      "Requirement already satisfied: catalogue<2.1.0,>=2.0.6 in /usr/local/lib/python3.9/dist-packages (from spacy<4->fastai) (2.0.7)\n",
      "Requirement already satisfied: spacy-legacy<3.1.0,>=3.0.9 in /usr/local/lib/python3.9/dist-packages (from spacy<4->fastai) (3.0.9)\n",
      "Requirement already satisfied: wasabi<1.1.0,>=0.9.1 in /usr/local/lib/python3.9/dist-packages (from spacy<4->fastai) (0.9.1)\n",
      "Requirement already satisfied: pathy>=0.3.5 in /usr/local/lib/python3.9/dist-packages (from spacy<4->fastai) (0.6.2)\n",
      "Requirement already satisfied: srsly<3.0.0,>=2.4.3 in /usr/local/lib/python3.9/dist-packages (from spacy<4->fastai) (2.4.3)\n",
      "Requirement already satisfied: murmurhash<1.1.0,>=0.28.0 in /usr/local/lib/python3.9/dist-packages (from spacy<4->fastai) (1.0.7)\n",
      "Requirement already satisfied: cymem<2.1.0,>=2.0.2 in /usr/local/lib/python3.9/dist-packages (from spacy<4->fastai) (2.0.6)\n",
      "Requirement already satisfied: tqdm<5.0.0,>=4.38.0 in /usr/local/lib/python3.9/dist-packages (from spacy<4->fastai) (4.64.0)\n",
      "Requirement already satisfied: pyparsing!=3.0.5,>=2.0.2 in /usr/local/lib/python3.9/dist-packages (from packaging->fastai) (3.0.9)\n",
      "Requirement already satisfied: urllib3<1.27,>=1.21.1 in /usr/local/lib/python3.9/dist-packages (from requests->fastai) (1.26.10)\n",
      "Requirement already satisfied: charset-normalizer<3,>=2 in /usr/local/lib/python3.9/dist-packages (from requests->fastai) (2.1.0)\n",
      "Requirement already satisfied: idna<4,>=2.5 in /usr/lib/python3/dist-packages (from requests->fastai) (2.8)\n",
      "Requirement already satisfied: certifi>=2017.4.17 in /usr/lib/python3/dist-packages (from requests->fastai) (2019.11.28)\n",
      "Requirement already satisfied: cycler>=0.10 in /usr/local/lib/python3.9/dist-packages (from matplotlib->fastai) (0.11.0)\n",
      "Requirement already satisfied: kiwisolver>=1.0.1 in /usr/local/lib/python3.9/dist-packages (from matplotlib->fastai) (1.4.3)\n",
      "Requirement already satisfied: fonttools>=4.22.0 in /usr/local/lib/python3.9/dist-packages (from matplotlib->fastai) (4.34.4)\n",
      "Requirement already satisfied: joblib>=1.0.0 in /usr/local/lib/python3.9/dist-packages (from scikit-learn->fastai) (1.1.0)\n",
      "Requirement already satisfied: threadpoolctl>=2.0.0 in /usr/local/lib/python3.9/dist-packages (from scikit-learn->fastai) (3.1.0)\n",
      "Requirement already satisfied: smart-open<6.0.0,>=5.2.1 in /usr/local/lib/python3.9/dist-packages (from pathy>=0.3.5->spacy<4->fastai) (5.2.1)\n",
      "Requirement already satisfied: blis<0.8.0,>=0.7.8 in /usr/local/lib/python3.9/dist-packages (from thinc<8.2.0,>=8.1.0->spacy<4->fastai) (0.7.8)\n",
      "Requirement already satisfied: click<9.0.0,>=7.1.1 in /usr/local/lib/python3.9/dist-packages (from typer<0.5.0,>=0.3.0->spacy<4->fastai) (8.1.3)\n",
      "Requirement already satisfied: MarkupSafe>=2.0 in /usr/local/lib/python3.9/dist-packages (from jinja2->spacy<4->fastai) (2.1.1)\n",
      "\u001b[33mWARNING: Running pip as the 'root' user can result in broken permissions and conflicting behaviour with the system package manager. It is recommended to use a virtual environment instead: https://pip.pypa.io/warnings/venv\u001b[0m\u001b[33m\n",
      "\u001b[0mNote: you may need to restart the kernel to use updated packages.\n"
     ]
    }
   ],
   "source": [
    "%pip install torch numpy pandas fastai"
   ]
  },
  {
   "attachments": {},
   "cell_type": "markdown",
   "metadata": {},
   "source": [
    "Cleaning the data"
   ]
  },
  {
   "cell_type": "code",
   "execution_count": 5,
   "metadata": {},
   "outputs": [
    {
     "data": {
      "text/html": [
       "<div>\n",
       "<style scoped>\n",
       "    .dataframe tbody tr th:only-of-type {\n",
       "        vertical-align: middle;\n",
       "    }\n",
       "\n",
       "    .dataframe tbody tr th {\n",
       "        vertical-align: top;\n",
       "    }\n",
       "\n",
       "    .dataframe thead th {\n",
       "        text-align: right;\n",
       "    }\n",
       "</style>\n",
       "<table border=\"1\" class=\"dataframe\">\n",
       "  <thead>\n",
       "    <tr style=\"text-align: right;\">\n",
       "      <th></th>\n",
       "      <th>PassengerId</th>\n",
       "      <th>Survived</th>\n",
       "      <th>Pclass</th>\n",
       "      <th>Name</th>\n",
       "      <th>Sex</th>\n",
       "      <th>Age</th>\n",
       "      <th>SibSp</th>\n",
       "      <th>Parch</th>\n",
       "      <th>Ticket</th>\n",
       "      <th>Fare</th>\n",
       "      <th>Cabin</th>\n",
       "      <th>Embarked</th>\n",
       "    </tr>\n",
       "  </thead>\n",
       "  <tbody>\n",
       "    <tr>\n",
       "      <th>0</th>\n",
       "      <td>1</td>\n",
       "      <td>0</td>\n",
       "      <td>3</td>\n",
       "      <td>Braund, Mr. Owen Harris</td>\n",
       "      <td>male</td>\n",
       "      <td>22.0</td>\n",
       "      <td>1</td>\n",
       "      <td>0</td>\n",
       "      <td>A/5 21171</td>\n",
       "      <td>7.2500</td>\n",
       "      <td>NaN</td>\n",
       "      <td>S</td>\n",
       "    </tr>\n",
       "    <tr>\n",
       "      <th>1</th>\n",
       "      <td>2</td>\n",
       "      <td>1</td>\n",
       "      <td>1</td>\n",
       "      <td>Cumings, Mrs. John Bradley (Florence Briggs Th...</td>\n",
       "      <td>female</td>\n",
       "      <td>38.0</td>\n",
       "      <td>1</td>\n",
       "      <td>0</td>\n",
       "      <td>PC 17599</td>\n",
       "      <td>71.2833</td>\n",
       "      <td>C85</td>\n",
       "      <td>C</td>\n",
       "    </tr>\n",
       "    <tr>\n",
       "      <th>2</th>\n",
       "      <td>3</td>\n",
       "      <td>1</td>\n",
       "      <td>3</td>\n",
       "      <td>Heikkinen, Miss. Laina</td>\n",
       "      <td>female</td>\n",
       "      <td>26.0</td>\n",
       "      <td>0</td>\n",
       "      <td>0</td>\n",
       "      <td>STON/O2. 3101282</td>\n",
       "      <td>7.9250</td>\n",
       "      <td>NaN</td>\n",
       "      <td>S</td>\n",
       "    </tr>\n",
       "    <tr>\n",
       "      <th>3</th>\n",
       "      <td>4</td>\n",
       "      <td>1</td>\n",
       "      <td>1</td>\n",
       "      <td>Futrelle, Mrs. Jacques Heath (Lily May Peel)</td>\n",
       "      <td>female</td>\n",
       "      <td>35.0</td>\n",
       "      <td>1</td>\n",
       "      <td>0</td>\n",
       "      <td>113803</td>\n",
       "      <td>53.1000</td>\n",
       "      <td>C123</td>\n",
       "      <td>S</td>\n",
       "    </tr>\n",
       "    <tr>\n",
       "      <th>4</th>\n",
       "      <td>5</td>\n",
       "      <td>0</td>\n",
       "      <td>3</td>\n",
       "      <td>Allen, Mr. William Henry</td>\n",
       "      <td>male</td>\n",
       "      <td>35.0</td>\n",
       "      <td>0</td>\n",
       "      <td>0</td>\n",
       "      <td>373450</td>\n",
       "      <td>8.0500</td>\n",
       "      <td>NaN</td>\n",
       "      <td>S</td>\n",
       "    </tr>\n",
       "    <tr>\n",
       "      <th>...</th>\n",
       "      <td>...</td>\n",
       "      <td>...</td>\n",
       "      <td>...</td>\n",
       "      <td>...</td>\n",
       "      <td>...</td>\n",
       "      <td>...</td>\n",
       "      <td>...</td>\n",
       "      <td>...</td>\n",
       "      <td>...</td>\n",
       "      <td>...</td>\n",
       "      <td>...</td>\n",
       "      <td>...</td>\n",
       "    </tr>\n",
       "    <tr>\n",
       "      <th>886</th>\n",
       "      <td>887</td>\n",
       "      <td>0</td>\n",
       "      <td>2</td>\n",
       "      <td>Montvila, Rev. Juozas</td>\n",
       "      <td>male</td>\n",
       "      <td>27.0</td>\n",
       "      <td>0</td>\n",
       "      <td>0</td>\n",
       "      <td>211536</td>\n",
       "      <td>13.0000</td>\n",
       "      <td>NaN</td>\n",
       "      <td>S</td>\n",
       "    </tr>\n",
       "    <tr>\n",
       "      <th>887</th>\n",
       "      <td>888</td>\n",
       "      <td>1</td>\n",
       "      <td>1</td>\n",
       "      <td>Graham, Miss. Margaret Edith</td>\n",
       "      <td>female</td>\n",
       "      <td>19.0</td>\n",
       "      <td>0</td>\n",
       "      <td>0</td>\n",
       "      <td>112053</td>\n",
       "      <td>30.0000</td>\n",
       "      <td>B42</td>\n",
       "      <td>S</td>\n",
       "    </tr>\n",
       "    <tr>\n",
       "      <th>888</th>\n",
       "      <td>889</td>\n",
       "      <td>0</td>\n",
       "      <td>3</td>\n",
       "      <td>Johnston, Miss. Catherine Helen \"Carrie\"</td>\n",
       "      <td>female</td>\n",
       "      <td>NaN</td>\n",
       "      <td>1</td>\n",
       "      <td>2</td>\n",
       "      <td>W./C. 6607</td>\n",
       "      <td>23.4500</td>\n",
       "      <td>NaN</td>\n",
       "      <td>S</td>\n",
       "    </tr>\n",
       "    <tr>\n",
       "      <th>889</th>\n",
       "      <td>890</td>\n",
       "      <td>1</td>\n",
       "      <td>1</td>\n",
       "      <td>Behr, Mr. Karl Howell</td>\n",
       "      <td>male</td>\n",
       "      <td>26.0</td>\n",
       "      <td>0</td>\n",
       "      <td>0</td>\n",
       "      <td>111369</td>\n",
       "      <td>30.0000</td>\n",
       "      <td>C148</td>\n",
       "      <td>C</td>\n",
       "    </tr>\n",
       "    <tr>\n",
       "      <th>890</th>\n",
       "      <td>891</td>\n",
       "      <td>0</td>\n",
       "      <td>3</td>\n",
       "      <td>Dooley, Mr. Patrick</td>\n",
       "      <td>male</td>\n",
       "      <td>32.0</td>\n",
       "      <td>0</td>\n",
       "      <td>0</td>\n",
       "      <td>370376</td>\n",
       "      <td>7.7500</td>\n",
       "      <td>NaN</td>\n",
       "      <td>Q</td>\n",
       "    </tr>\n",
       "  </tbody>\n",
       "</table>\n",
       "<p>891 rows × 12 columns</p>\n",
       "</div>"
      ],
      "text/plain": [
       "     PassengerId  Survived  Pclass  \\\n",
       "0              1         0       3   \n",
       "1              2         1       1   \n",
       "2              3         1       3   \n",
       "3              4         1       1   \n",
       "4              5         0       3   \n",
       "..           ...       ...     ...   \n",
       "886          887         0       2   \n",
       "887          888         1       1   \n",
       "888          889         0       3   \n",
       "889          890         1       1   \n",
       "890          891         0       3   \n",
       "\n",
       "                                                  Name     Sex   Age  SibSp  \\\n",
       "0                              Braund, Mr. Owen Harris    male  22.0      1   \n",
       "1    Cumings, Mrs. John Bradley (Florence Briggs Th...  female  38.0      1   \n",
       "2                               Heikkinen, Miss. Laina  female  26.0      0   \n",
       "3         Futrelle, Mrs. Jacques Heath (Lily May Peel)  female  35.0      1   \n",
       "4                             Allen, Mr. William Henry    male  35.0      0   \n",
       "..                                                 ...     ...   ...    ...   \n",
       "886                              Montvila, Rev. Juozas    male  27.0      0   \n",
       "887                       Graham, Miss. Margaret Edith  female  19.0      0   \n",
       "888           Johnston, Miss. Catherine Helen \"Carrie\"  female   NaN      1   \n",
       "889                              Behr, Mr. Karl Howell    male  26.0      0   \n",
       "890                                Dooley, Mr. Patrick    male  32.0      0   \n",
       "\n",
       "     Parch            Ticket     Fare Cabin Embarked  \n",
       "0        0         A/5 21171   7.2500   NaN        S  \n",
       "1        0          PC 17599  71.2833   C85        C  \n",
       "2        0  STON/O2. 3101282   7.9250   NaN        S  \n",
       "3        0            113803  53.1000  C123        S  \n",
       "4        0            373450   8.0500   NaN        S  \n",
       "..     ...               ...      ...   ...      ...  \n",
       "886      0            211536  13.0000   NaN        S  \n",
       "887      0            112053  30.0000   B42        S  \n",
       "888      2        W./C. 6607  23.4500   NaN        S  \n",
       "889      0            111369  30.0000  C148        C  \n",
       "890      0            370376   7.7500   NaN        Q  \n",
       "\n",
       "[891 rows x 12 columns]"
      ]
     },
     "execution_count": 5,
     "metadata": {},
     "output_type": "execute_result"
    }
   ],
   "source": [
    "import pandas as pd\n",
    "\n",
    "df = pd.read_csv('./Titanic/train.csv')\n",
    "df\n",
    "\n"
   ]
  },
  {
   "cell_type": "code",
   "execution_count": 6,
   "metadata": {},
   "outputs": [
    {
     "data": {
      "text/plain": [
       "PassengerId      0\n",
       "Survived         0\n",
       "Pclass           0\n",
       "Name             0\n",
       "Sex              0\n",
       "Age            177\n",
       "SibSp            0\n",
       "Parch            0\n",
       "Ticket           0\n",
       "Fare             0\n",
       "Cabin          687\n",
       "Embarked         2\n",
       "dtype: int64"
      ]
     },
     "execution_count": 6,
     "metadata": {},
     "output_type": "execute_result"
    }
   ],
   "source": [
    "df.isna().sum()"
   ]
  },
  {
   "cell_type": "code",
   "execution_count": 7,
   "metadata": {},
   "outputs": [],
   "source": [
    "modes = df.mode().iloc[0]"
   ]
  },
  {
   "cell_type": "code",
   "execution_count": 8,
   "metadata": {},
   "outputs": [],
   "source": [
    "df.fillna(modes, inplace=True)"
   ]
  },
  {
   "cell_type": "code",
   "execution_count": 9,
   "metadata": {},
   "outputs": [
    {
     "data": {
      "text/html": [
       "<div>\n",
       "<style scoped>\n",
       "    .dataframe tbody tr th:only-of-type {\n",
       "        vertical-align: middle;\n",
       "    }\n",
       "\n",
       "    .dataframe tbody tr th {\n",
       "        vertical-align: top;\n",
       "    }\n",
       "\n",
       "    .dataframe thead th {\n",
       "        text-align: right;\n",
       "    }\n",
       "</style>\n",
       "<table border=\"1\" class=\"dataframe\">\n",
       "  <thead>\n",
       "    <tr style=\"text-align: right;\">\n",
       "      <th></th>\n",
       "      <th>PassengerId</th>\n",
       "      <th>Survived</th>\n",
       "      <th>Pclass</th>\n",
       "      <th>Age</th>\n",
       "      <th>SibSp</th>\n",
       "      <th>Parch</th>\n",
       "      <th>Fare</th>\n",
       "    </tr>\n",
       "  </thead>\n",
       "  <tbody>\n",
       "    <tr>\n",
       "      <th>count</th>\n",
       "      <td>891.000000</td>\n",
       "      <td>891.000000</td>\n",
       "      <td>891.000000</td>\n",
       "      <td>891.000000</td>\n",
       "      <td>891.000000</td>\n",
       "      <td>891.000000</td>\n",
       "      <td>891.000000</td>\n",
       "    </tr>\n",
       "    <tr>\n",
       "      <th>mean</th>\n",
       "      <td>446.000000</td>\n",
       "      <td>0.383838</td>\n",
       "      <td>2.308642</td>\n",
       "      <td>28.566970</td>\n",
       "      <td>0.523008</td>\n",
       "      <td>0.381594</td>\n",
       "      <td>32.204208</td>\n",
       "    </tr>\n",
       "    <tr>\n",
       "      <th>std</th>\n",
       "      <td>257.353842</td>\n",
       "      <td>0.486592</td>\n",
       "      <td>0.836071</td>\n",
       "      <td>13.199572</td>\n",
       "      <td>1.102743</td>\n",
       "      <td>0.806057</td>\n",
       "      <td>49.693429</td>\n",
       "    </tr>\n",
       "    <tr>\n",
       "      <th>min</th>\n",
       "      <td>1.000000</td>\n",
       "      <td>0.000000</td>\n",
       "      <td>1.000000</td>\n",
       "      <td>0.420000</td>\n",
       "      <td>0.000000</td>\n",
       "      <td>0.000000</td>\n",
       "      <td>0.000000</td>\n",
       "    </tr>\n",
       "    <tr>\n",
       "      <th>25%</th>\n",
       "      <td>223.500000</td>\n",
       "      <td>0.000000</td>\n",
       "      <td>2.000000</td>\n",
       "      <td>22.000000</td>\n",
       "      <td>0.000000</td>\n",
       "      <td>0.000000</td>\n",
       "      <td>7.910400</td>\n",
       "    </tr>\n",
       "    <tr>\n",
       "      <th>50%</th>\n",
       "      <td>446.000000</td>\n",
       "      <td>0.000000</td>\n",
       "      <td>3.000000</td>\n",
       "      <td>24.000000</td>\n",
       "      <td>0.000000</td>\n",
       "      <td>0.000000</td>\n",
       "      <td>14.454200</td>\n",
       "    </tr>\n",
       "    <tr>\n",
       "      <th>75%</th>\n",
       "      <td>668.500000</td>\n",
       "      <td>1.000000</td>\n",
       "      <td>3.000000</td>\n",
       "      <td>35.000000</td>\n",
       "      <td>1.000000</td>\n",
       "      <td>0.000000</td>\n",
       "      <td>31.000000</td>\n",
       "    </tr>\n",
       "    <tr>\n",
       "      <th>max</th>\n",
       "      <td>891.000000</td>\n",
       "      <td>1.000000</td>\n",
       "      <td>3.000000</td>\n",
       "      <td>80.000000</td>\n",
       "      <td>8.000000</td>\n",
       "      <td>6.000000</td>\n",
       "      <td>512.329200</td>\n",
       "    </tr>\n",
       "  </tbody>\n",
       "</table>\n",
       "</div>"
      ],
      "text/plain": [
       "       PassengerId    Survived      Pclass         Age       SibSp  \\\n",
       "count   891.000000  891.000000  891.000000  891.000000  891.000000   \n",
       "mean    446.000000    0.383838    2.308642   28.566970    0.523008   \n",
       "std     257.353842    0.486592    0.836071   13.199572    1.102743   \n",
       "min       1.000000    0.000000    1.000000    0.420000    0.000000   \n",
       "25%     223.500000    0.000000    2.000000   22.000000    0.000000   \n",
       "50%     446.000000    0.000000    3.000000   24.000000    0.000000   \n",
       "75%     668.500000    1.000000    3.000000   35.000000    1.000000   \n",
       "max     891.000000    1.000000    3.000000   80.000000    8.000000   \n",
       "\n",
       "            Parch        Fare  \n",
       "count  891.000000  891.000000  \n",
       "mean     0.381594   32.204208  \n",
       "std      0.806057   49.693429  \n",
       "min      0.000000    0.000000  \n",
       "25%      0.000000    7.910400  \n",
       "50%      0.000000   14.454200  \n",
       "75%      0.000000   31.000000  \n",
       "max      6.000000  512.329200  "
      ]
     },
     "execution_count": 9,
     "metadata": {},
     "output_type": "execute_result"
    }
   ],
   "source": [
    "import numpy as np\n",
    "df.describe(include=(np.number))"
   ]
  },
  {
   "cell_type": "code",
   "execution_count": 10,
   "metadata": {},
   "outputs": [
    {
     "data": {
      "text/plain": [
       "<AxesSubplot:>"
      ]
     },
     "execution_count": 10,
     "metadata": {},
     "output_type": "execute_result"
    },
    {
     "data": {
      "image/png": "[encoded data removed]",
      "text/plain": [
       "<Figure size 432x288 with 1 Axes>"
      ]
     },
     "metadata": {
      "needs_background": "light"
     },
     "output_type": "display_data"
    }
   ],
   "source": [
    "df['Fare'].hist()"
   ]
  },
  {
   "cell_type": "code",
   "execution_count": 11,
   "metadata": {},
   "outputs": [],
   "source": [
    "df['LogFare'] = np.log1p(df['Fare'])"
   ]
  },
  {
   "cell_type": "code",
   "execution_count": 12,
   "metadata": {},
   "outputs": [
    {
     "data": {
      "text/plain": [
       "<AxesSubplot:>"
      ]
     },
     "execution_count": 12,
     "metadata": {},
     "output_type": "execute_result"
    },
    {
     "data": {
      "image/png": "[encoded data removed]",
      "text/plain": [
       "<Figure size 432x288 with 1 Axes>"
      ]
     },
     "metadata": {
      "needs_background": "light"
     },
     "output_type": "display_data"
    }
   ],
   "source": [
    "df['LogFare'].hist()"
   ]
  },
  {
   "cell_type": "code",
   "execution_count": 13,
   "metadata": {},
   "outputs": [
    {
     "data": {
      "text/plain": [
       "[1, 2, 3]"
      ]
     },
     "execution_count": 13,
     "metadata": {},
     "output_type": "execute_result"
    }
   ],
   "source": [
    "pclasses = sorted(df.Pclass.unique())\n",
    "pclasses"
   ]
  },
  {
   "cell_type": "code",
   "execution_count": 14,
   "metadata": {},
   "outputs": [
    {
     "data": {
      "text/html": [
       "<div>\n",
       "<style scoped>\n",
       "    .dataframe tbody tr th:only-of-type {\n",
       "        vertical-align: middle;\n",
       "    }\n",
       "\n",
       "    .dataframe tbody tr th {\n",
       "        vertical-align: top;\n",
       "    }\n",
       "\n",
       "    .dataframe thead th {\n",
       "        text-align: right;\n",
       "    }\n",
       "</style>\n",
       "<table border=\"1\" class=\"dataframe\">\n",
       "  <thead>\n",
       "    <tr style=\"text-align: right;\">\n",
       "      <th></th>\n",
       "      <th>Name</th>\n",
       "      <th>Sex</th>\n",
       "      <th>Ticket</th>\n",
       "      <th>Cabin</th>\n",
       "      <th>Embarked</th>\n",
       "    </tr>\n",
       "  </thead>\n",
       "  <tbody>\n",
       "    <tr>\n",
       "      <th>count</th>\n",
       "      <td>891</td>\n",
       "      <td>891</td>\n",
       "      <td>891</td>\n",
       "      <td>891</td>\n",
       "      <td>891</td>\n",
       "    </tr>\n",
       "    <tr>\n",
       "      <th>unique</th>\n",
       "      <td>891</td>\n",
       "      <td>2</td>\n",
       "      <td>681</td>\n",
       "      <td>147</td>\n",
       "      <td>3</td>\n",
       "    </tr>\n",
       "    <tr>\n",
       "      <th>top</th>\n",
       "      <td>Braund, Mr. Owen Harris</td>\n",
       "      <td>male</td>\n",
       "      <td>347082</td>\n",
       "      <td>B96 B98</td>\n",
       "      <td>S</td>\n",
       "    </tr>\n",
       "    <tr>\n",
       "      <th>freq</th>\n",
       "      <td>1</td>\n",
       "      <td>577</td>\n",
       "      <td>7</td>\n",
       "      <td>691</td>\n",
       "      <td>646</td>\n",
       "    </tr>\n",
       "  </tbody>\n",
       "</table>\n",
       "</div>"
      ],
      "text/plain": [
       "                           Name   Sex  Ticket    Cabin Embarked\n",
       "count                       891   891     891      891      891\n",
       "unique                      891     2     681      147        3\n",
       "top     Braund, Mr. Owen Harris  male  347082  B96 B98        S\n",
       "freq                          1   577       7      691      646"
      ]
     },
     "execution_count": 14,
     "metadata": {},
     "output_type": "execute_result"
    }
   ],
   "source": [
    "df.describe(include='object')"
   ]
  },
  {
   "cell_type": "code",
   "execution_count": 15,
   "metadata": {},
   "outputs": [
    {
     "data": {
      "text/plain": [
       "Index(['PassengerId', 'Survived', 'Name', 'Age', 'SibSp', 'Parch', 'Ticket',\n",
       "       'Fare', 'Cabin', 'LogFare', 'Sex_female', 'Sex_male', 'Pclass_1',\n",
       "       'Pclass_2', 'Pclass_3', 'Embarked_C', 'Embarked_Q', 'Embarked_S'],\n",
       "      dtype='object')"
      ]
     },
     "execution_count": 15,
     "metadata": {},
     "output_type": "execute_result"
    }
   ],
   "source": [
    "df = pd.get_dummies(df,columns=[\"Sex\",\"Pclass\",\"Embarked\"])\n",
    "df.columns"
   ]
  },
  {
   "cell_type": "code",
   "execution_count": 16,
   "metadata": {},
   "outputs": [
    {
     "data": {
      "text/plain": [
       "Age           0\n",
       "SibSp         0\n",
       "Parch         0\n",
       "LogFare       0\n",
       "Sex_male      0\n",
       "Sex_female    0\n",
       "Pclass_1      0\n",
       "Pclass_2      0\n",
       "Pclass_3      0\n",
       "Embarked_C    0\n",
       "Embarked_Q    0\n",
       "Embarked_S    0\n",
       "dtype: int64"
      ]
     },
     "execution_count": 16,
     "metadata": {},
     "output_type": "execute_result"
    }
   ],
   "source": [
    "import torch\n",
    "from torch import tensor\n",
    "\n",
    "t_dep = tensor(df.Survived)\n",
    "added_cols= ['Sex_male','Sex_female','Pclass_1','Pclass_2','Pclass_3','Embarked_C','Embarked_Q','Embarked_S']\n",
    "indep_cols = ['Age','SibSp','Parch','LogFare'] + added_cols\n",
    "t_indep = tensor(df[indep_cols].values, dtype=torch.float32)\n",
    "t_indep.shape\n",
    "df[indep_cols].isna().sum()"
   ]
  },
  {
   "cell_type": "code",
   "execution_count": 17,
   "metadata": {},
   "outputs": [
    {
     "data": {
      "text/plain": [
       "tensor([[-25.5964,   1.6909,   0.0000,  ...,  -0.0000,  -0.0000,  -1.3082],\n",
       "        [-44.2120,   1.6909,   0.0000,  ...,  -0.7084,  -0.0000,  -0.0000],\n",
       "        [-30.2503,   0.0000,   0.0000,  ...,  -0.0000,  -0.0000,  -1.3082],\n",
       "        ...,\n",
       "        [-27.9234,   1.6909,   2.3814,  ...,  -0.0000,  -0.0000,  -1.3082],\n",
       "        [-30.2503,   0.0000,   0.0000,  ...,  -0.7084,  -0.0000,  -0.0000],\n",
       "        [-37.2312,   0.0000,   0.0000,  ...,  -0.0000,  -2.1337,  -0.0000]])"
      ]
     },
     "execution_count": 17,
     "metadata": {},
     "output_type": "execute_result"
    }
   ],
   "source": [
    "torch.manual_seed(442)\n",
    "\n",
    "n_coeff = t_indep.shape[1]\n",
    "coeffs = torch.randn(n_coeff) - 0.5\n",
    "coeffs * t_indep"
   ]
  },
  {
   "cell_type": "code",
   "execution_count": 18,
   "metadata": {},
   "outputs": [
    {
     "data": {
      "text/plain": [
       "tensor([[-0.3200,  0.2114,  0.0000,  ..., -0.0000, -0.0000, -1.3082],\n",
       "        [-0.5527,  0.2114,  0.0000,  ..., -0.7084, -0.0000, -0.0000],\n",
       "        [-0.3781,  0.0000,  0.0000,  ..., -0.0000, -0.0000, -1.3082],\n",
       "        ...,\n",
       "        [-0.3490,  0.2114,  0.3969,  ..., -0.0000, -0.0000, -1.3082],\n",
       "        [-0.3781,  0.0000,  0.0000,  ..., -0.7084, -0.0000, -0.0000],\n",
       "        [-0.4654,  0.0000,  0.0000,  ..., -0.0000, -2.1337, -0.0000]])"
      ]
     },
     "execution_count": 18,
     "metadata": {},
     "output_type": "execute_result"
    }
   ],
   "source": [
    "## Divise by max to normalize value\n",
    "vals,indices = t_indep.max(dim=0)\n",
    "t_indep = t_indep / vals\n",
    "t_indep * coeffs"
   ]
  },
  {
   "cell_type": "code",
   "execution_count": 19,
   "metadata": {},
   "outputs": [
    {
     "data": {
      "text/plain": [
       "tensor([-3.9053, -2.1869, -2.7910, -2.6582, -4.3328, -5.0112, -4.5460, -3.2816,\n",
       "        -2.4986, -0.8140])"
      ]
     },
     "execution_count": 19,
     "metadata": {},
     "output_type": "execute_result"
    }
   ],
   "source": [
    "preds = (t_indep * coeffs).sum(axis=1)\n",
    "preds[:10]"
   ]
  },
  {
   "cell_type": "code",
   "execution_count": 20,
   "metadata": {},
   "outputs": [
    {
     "data": {
      "text/plain": [
       "tensor(3.7009)"
      ]
     },
     "execution_count": 20,
     "metadata": {},
     "output_type": "execute_result"
    }
   ],
   "source": [
    "loss = torch.abs(preds - t_dep).mean()\n",
    "loss"
   ]
  },
  {
   "cell_type": "code",
   "execution_count": 21,
   "metadata": {},
   "outputs": [],
   "source": [
    "def calc_preds(coeffs,indeps): return (indeps * coeffs).sum(axis=1)\n",
    "def calc_loss(coeffs,indeps,dep): return torch.abs(calc_preds(coeffs,indeps) - dep).mean()"
   ]
  },
  {
   "cell_type": "code",
   "execution_count": 22,
   "metadata": {},
   "outputs": [
    {
     "data": {
      "text/plain": [
       "tensor([-1.1635,  1.6909,  1.1907, -1.8283, -0.3960,  1.0108, -0.8941, -0.1175,\n",
       "        -1.4742, -0.7084, -2.1337, -1.3082], requires_grad=True)"
      ]
     },
     "execution_count": 22,
     "metadata": {},
     "output_type": "execute_result"
    }
   ],
   "source": [
    "coeffs.requires_grad_()"
   ]
  },
  {
   "cell_type": "code",
   "execution_count": 23,
   "metadata": {},
   "outputs": [
    {
     "data": {
      "text/plain": [
       "tensor(3.7009, grad_fn=<MeanBackward0>)"
      ]
     },
     "execution_count": 23,
     "metadata": {},
     "output_type": "execute_result"
    }
   ],
   "source": [
    "loss = calc_loss(coeffs,t_indep,t_dep)\n",
    "loss"
   ]
  },
  {
   "cell_type": "code",
   "execution_count": 24,
   "metadata": {},
   "outputs": [],
   "source": [
    "loss.backward()"
   ]
  },
  {
   "cell_type": "code",
   "execution_count": 25,
   "metadata": {},
   "outputs": [
    {
     "data": {
      "text/plain": [
       "tensor([-0.3571, -0.0654, -0.0636, -0.4746, -0.6476, -0.3524, -0.2424, -0.2065,\n",
       "        -0.5511, -0.1886, -0.0864, -0.7250])"
      ]
     },
     "execution_count": 25,
     "metadata": {},
     "output_type": "execute_result"
    }
   ],
   "source": [
    "coeffs.grad"
   ]
  },
  {
   "cell_type": "code",
   "execution_count": 26,
   "metadata": {},
   "outputs": [
    {
     "name": "stdout",
     "output_type": "stream",
     "text": [
      "tensor(3.5131)\n"
     ]
    }
   ],
   "source": [
    "with torch.no_grad():\n",
    "    coeffs.sub_(coeffs.grad * 0.1)\n",
    "    print(calc_loss(coeffs,t_indep,t_dep))"
   ]
  },
  {
   "cell_type": "code",
   "execution_count": 27,
   "metadata": {},
   "outputs": [],
   "source": [
    "from fastai.data.transforms import RandomSplitter\n",
    "trn_split,val_split=RandomSplitter(seed=42)(df)\n",
    "\n",
    "trn_indep,val_indep = t_indep[trn_split],t_indep[val_split]"
   ]
  },
  {
   "cell_type": "code",
   "execution_count": 49,
   "metadata": {},
   "outputs": [
    {
     "data": {
      "text/plain": [
       "(713, 178)"
      ]
     },
     "execution_count": 49,
     "metadata": {},
     "output_type": "execute_result"
    }
   ],
   "source": [
    "trn_indep,val_indep = t_indep[trn_split],t_indep[val_split]\n",
    "trn_dep,val_dep = t_dep[trn_split],t_dep[val_split]\n",
    "len(trn_indep),len(val_indep)"
   ]
  },
  {
   "cell_type": "code",
   "execution_count": 29,
   "metadata": {},
   "outputs": [],
   "source": [
    "def update_coeffs(coeffs,lr): coeffs.data.sub_(coeffs.grad * lr)"
   ]
  },
  {
   "cell_type": "code",
   "execution_count": 30,
   "metadata": {},
   "outputs": [],
   "source": [
    "def one_epoch(coeffs,lr):\n",
    "    preds = calc_preds(coeffs,trn_indep)\n",
    "    loss = torch.abs(preds - trn_dep).mean()\n",
    "    loss.backward()\n",
    "    with torch.no_grad():\n",
    "        update_coeffs(coeffs,lr)\n",
    "    print(f\"{loss:.4f}\",end='; ')"
   ]
  },
  {
   "cell_type": "code",
   "execution_count": 31,
   "metadata": {},
   "outputs": [],
   "source": [
    "def init_coeffs(): return (torch.randn(n_coeff) - 0.5).requires_grad_()"
   ]
  },
  {
   "cell_type": "code",
   "execution_count": 32,
   "metadata": {},
   "outputs": [],
   "source": [
    "def train_model(epochs=30,lr=0.01):\n",
    "\n",
    "    coeffs = init_coeffs()\n",
    "    for i in range(epochs):\n",
    "        one_epoch(coeffs,lr)\n",
    "    return coeffs"
   ]
  },
  {
   "cell_type": "code",
   "execution_count": 33,
   "metadata": {},
   "outputs": [
    {
     "name": "stdout",
     "output_type": "stream",
     "text": [
      "1.9118; 1.8847; 1.8310; 1.7512; 1.6468; 1.5306; 1.4644; 1.4099; 1.3558; 1.3018; 1.2506; 1.2054; 1.1760; 1.1733; 1.1995; 1.2299; 1.2521; 1.2683; 1.2758; 1.2764; 1.2696; 1.2559; 1.2350; 1.1993; 1.1328; 1.0328; 0.9039; 0.7676; 0.6410; 0.5199; 0.5381; 0.6468; 0.7931; 0.9541; 1.1115; 1.2593; 1.3954; 1.5183; 1.6231; 1.7084; 1.7734; 1.8178; 1.8414; 1.8442; 1.8263; 1.7876; 1.7283; 1.6484; 1.5497; 1.4407; 1.3496; 1.2912; 1.2297; 1.1646; 1.1079; 1.0725; 1.0426; 1.0853; 1.1977; 1.2944; 1.3767; 1.4530; 1.5127; 1.5545; 1.5716; 1.5638; 1.5269; 1.4614; 1.3744; 1.2720; 1.1473; 1.0032; 0.8556; 0.7308; 0.6710; 0.6614; 0.6812; 0.7934; 1.0031; 1.2048; 1.3744; 1.5103; 1.6124; 1.6809; 1.7160; 1.7183; 1.6873; 1.6230; 1.5258; 1.3988; 1.2622; 1.1424; 1.1108; 1.0917; 1.0825; 1.1166; 1.1761; 1.2684; 1.3597; 1.4439; "
     ]
    },
    {
     "data": {
      "text/plain": [
       "tensor([ 0.0293, -0.3925,  0.4931, -0.0509,  1.8811,  0.4062, -0.8292, -1.3257,\n",
       "         0.3274,  0.5369,  1.4081,  0.1417], requires_grad=True)"
      ]
     },
     "execution_count": 33,
     "metadata": {},
     "output_type": "execute_result"
    }
   ],
   "source": [
    "coeffs = train_model(100,lr=0.02)\n",
    "coeffs"
   ]
  },
  {
   "cell_type": "code",
   "execution_count": 34,
   "metadata": {},
   "outputs": [
    {
     "data": {
      "text/plain": [
       "{'Age': tensor(0.0293),\n",
       " 'SibSp': tensor(-0.3925),\n",
       " 'Parch': tensor(0.4931),\n",
       " 'LogFare': tensor(-0.0509),\n",
       " 'Sex_male': tensor(1.8811),\n",
       " 'Sex_female': tensor(0.4062),\n",
       " 'Pclass_1': tensor(-0.8292),\n",
       " 'Pclass_2': tensor(-1.3257),\n",
       " 'Pclass_3': tensor(0.3274),\n",
       " 'Embarked_C': tensor(0.5369),\n",
       " 'Embarked_Q': tensor(1.4081),\n",
       " 'Embarked_S': tensor(0.1417)}"
      ]
     },
     "execution_count": 34,
     "metadata": {},
     "output_type": "execute_result"
    }
   ],
   "source": [
    "def shows_coeffs(): return dict(zip(indep_cols,coeffs.requires_grad_(False)))\n",
    "\n",
    "shows_coeffs()"
   ]
  },
  {
   "cell_type": "code",
   "execution_count": 35,
   "metadata": {},
   "outputs": [
    {
     "data": {
      "text/plain": [
       "tensor([False, False, False, False, False, False,  True, False, False,  True,\n",
       "         True,  True,  True,  True, False])"
      ]
     },
     "execution_count": 35,
     "metadata": {},
     "output_type": "execute_result"
    }
   ],
   "source": [
    "preds = calc_preds(coeffs,val_indep)\n",
    "results = val_dep.bool() == (preds > 0.5)\n",
    "results[:15]"
   ]
  },
  {
   "cell_type": "code",
   "execution_count": 36,
   "metadata": {},
   "outputs": [
    {
     "data": {
      "text/plain": [
       "tensor(0.2135)"
      ]
     },
     "execution_count": 36,
     "metadata": {},
     "output_type": "execute_result"
    }
   ],
   "source": [
    "results.float().mean()"
   ]
  },
  {
   "cell_type": "code",
   "execution_count": 37,
   "metadata": {},
   "outputs": [
    {
     "data": {
      "text/plain": [
       "tensor(0.2135)"
      ]
     },
     "execution_count": 37,
     "metadata": {},
     "output_type": "execute_result"
    }
   ],
   "source": [
    "def acc(coeffs): return (val_dep.bool() == (calc_preds(coeffs,val_indep) > 0.5)).float().mean()\n",
    "acc(coeffs)"
   ]
  },
  {
   "cell_type": "code",
   "execution_count": 38,
   "metadata": {},
   "outputs": [],
   "source": [
    "def calc_preds(coeffs,indeps): return torch.sigmoid((indeps * coeffs).sum(axis=1))"
   ]
  },
  {
   "cell_type": "code",
   "execution_count": 39,
   "metadata": {},
   "outputs": [
    {
     "name": "stdout",
     "output_type": "stream",
     "text": [
      "0.3785; 0.3782; 0.3776; 0.3766; 0.3754; 0.3738; 0.3719; 0.3695; 0.3663; 0.3620; 0.3558; 0.3467; 0.3332; 0.3148; 0.2930; 0.2718; 0.2545; 0.2409; 0.2319; 0.2285; 0.2291; 0.2310; 0.2332; 0.2350; 0.2363; 0.2372; 0.2376; 0.2376; 0.2371; 0.2363; 0.2351; 0.2336; 0.2318; 0.2298; 0.2278; 0.2258; 0.2239; 0.2221; 0.2204; 0.2188; 0.2175; 0.2165; 0.2158; 0.2153; 0.2150; 0.2148; 0.2147; 0.2147; 0.2146; 0.2146; 0.2146; 0.2146; 0.2146; 0.2146; 0.2146; 0.2146; 0.2146; 0.2146; 0.2146; 0.2146; 0.2146; 0.2146; 0.2146; 0.2146; 0.2146; 0.2146; 0.2146; 0.2146; 0.2146; 0.2146; 0.2146; 0.2146; 0.2146; 0.2146; 0.2146; 0.2146; 0.2146; 0.2146; 0.2146; 0.2146; 0.2146; 0.2146; 0.2146; 0.2146; 0.2146; 0.2146; 0.2146; 0.2146; 0.2146; 0.2146; 0.2146; 0.2146; 0.2146; 0.2146; 0.2146; 0.2146; 0.2146; 0.2146; 0.2146; 0.2146; 0.2146; 0.2146; 0.2146; 0.2146; 0.2146; 0.2146; 0.2146; 0.2146; 0.2146; 0.2146; 0.2146; 0.2146; 0.2146; 0.2146; 0.2146; 0.2146; 0.2146; 0.2146; 0.2146; 0.2146; 0.2146; 0.2146; 0.2146; 0.2146; 0.2146; 0.2146; 0.2146; 0.2146; 0.2146; 0.2146; 0.2146; 0.2146; 0.2146; 0.2146; 0.2146; 0.2146; 0.2146; 0.2146; 0.2146; 0.2146; 0.2146; 0.2146; 0.2146; 0.2146; 0.2146; 0.2146; 0.2146; 0.2146; 0.2146; 0.2146; "
     ]
    }
   ],
   "source": [
    "coeffs = train_model(150,lr=2)"
   ]
  },
  {
   "cell_type": "code",
   "execution_count": 40,
   "metadata": {},
   "outputs": [
    {
     "data": {
      "text/plain": [
       "tensor(0.7921)"
      ]
     },
     "execution_count": 40,
     "metadata": {},
     "output_type": "execute_result"
    }
   ],
   "source": [
    "acc(coeffs)"
   ]
  },
  {
   "cell_type": "code",
   "execution_count": 41,
   "metadata": {},
   "outputs": [],
   "source": [
    "tst_df = pd.read_csv('./Titanic/test.csv')\n",
    "tst_df['Fare'] = tst_df.Fare.fillna(0)"
   ]
  },
  {
   "cell_type": "code",
   "execution_count": 42,
   "metadata": {},
   "outputs": [],
   "source": [
    "tst_df.fillna(modes, inplace=True)\n",
    "tst_df['LogFare'] = np.log1p(tst_df['Fare'])\n",
    "tst_df = pd.get_dummies(tst_df,columns=[\"Sex\",\"Pclass\",\"Embarked\"])\n",
    "\n",
    "tst_indep = tensor(tst_df[indep_cols].values, dtype=torch.float)\n",
    "tst_indep = tst_indep / vals"
   ]
  },
  {
   "cell_type": "code",
   "execution_count": 43,
   "metadata": {},
   "outputs": [],
   "source": [
    "tst_df['Survived'] = (calc_preds(coeffs,tst_indep) > 0.5).int()"
   ]
  },
  {
   "cell_type": "code",
   "execution_count": 44,
   "metadata": {},
   "outputs": [],
   "source": [
    "sub_df = tst_df[['PassengerId','Survived']]\n",
    "sub_df.to_csv('submission.csv',index=False)"
   ]
  },
  {
   "cell_type": "code",
   "execution_count": 45,
   "metadata": {},
   "outputs": [
    {
     "name": "stdout",
     "output_type": "stream",
     "text": [
      "PassengerId,Survived\n",
      "892,0\n",
      "893,1\n",
      "894,0\n",
      "895,0\n",
      "896,1\n",
      "897,0\n",
      "898,1\n",
      "899,0\n",
      "900,1\n"
     ]
    }
   ],
   "source": [
    "!head submission.csv"
   ]
  },
  {
   "cell_type": "code",
   "execution_count": 60,
   "metadata": {},
   "outputs": [],
   "source": [
    "\n",
    "def calc_preds(coeffs,indeps): return torch.sigmoid(indeps@coeffs)\n"
   ]
  },
  {
   "cell_type": "code",
   "execution_count": 57,
   "metadata": {},
   "outputs": [],
   "source": [
    "def init_coeffs(): return (torch.rand(n_coeff,1) * 0.1).requires_grad_()\n",
    "\n",
    "trn_dep = trn_dep[:,None]\n",
    "val_dep = val_dep[:,None]"
   ]
  },
  {
   "cell_type": "code",
   "execution_count": 58,
   "metadata": {},
   "outputs": [
    {
     "data": {
      "text/plain": [
       "torch.Size([178, 1])"
      ]
     },
     "execution_count": 58,
     "metadata": {},
     "output_type": "execute_result"
    }
   ],
   "source": [
    "val_dep.shape"
   ]
  },
  {
   "cell_type": "code",
   "execution_count": 61,
   "metadata": {},
   "outputs": [
    {
     "name": "stdout",
     "output_type": "stream",
     "text": [
      "0.5190; 0.5169; 0.5126; 0.5062; 0.4976; 0.4869; 0.4740; 0.4592; 0.4430; 0.4257; 0.4081; 0.3908; 0.3745; 0.3597; 0.3466; 0.3354; 0.3258; 0.3176; 0.3107; 0.3048; 0.2996; 0.2949; 0.2906; 0.2865; 0.2825; 0.2786; 0.2748; 0.2709; 0.2669; 0.2629; 0.2589; 0.2549; 0.2509; 0.2469; 0.2429; 0.2391; 0.2355; 0.2320; 0.2287; 0.2256; 0.2228; 0.2202; 0.2179; 0.2158; 0.2139; 0.2123; 0.2108; 0.2095; 0.2084; 0.2075; 0.2066; 0.2059; 0.2053; 0.2048; 0.2043; 0.2040; 0.2037; 0.2034; 0.2032; 0.2030; 0.2029; 0.2028; 0.2027; 0.2027; 0.2027; 0.2027; 0.2027; 0.2027; 0.2028; 0.2028; 0.2029; 0.2030; 0.2030; 0.2031; 0.2032; 0.2033; 0.2033; 0.2034; 0.2035; 0.2035; 0.2036; 0.2037; 0.2037; 0.2038; 0.2038; 0.2038; 0.2039; 0.2039; 0.2039; 0.2039; 0.2039; 0.2039; 0.2039; 0.2038; 0.2038; 0.2037; 0.2037; 0.2036; 0.2035; 0.2034; 0.2033; 0.2032; 0.2031; 0.2030; 0.2028; 0.2027; 0.2025; 0.2024; 0.2022; 0.2020; 0.2018; 0.2016; 0.2014; 0.2012; 0.2009; 0.2007; 0.2004; 0.2002; 0.1999; 0.1997; 0.1994; 0.1991; 0.1988; 0.1986; 0.1983; 0.1980; 0.1978; 0.1975; 0.1972; 0.1970; 0.1967; 0.1965; 0.1962; 0.1960; 0.1958; 0.1955; 0.1953; 0.1951; 0.1949; 0.1948; 0.1946; 0.1944; 0.1943; 0.1941; 0.1940; 0.1938; 0.1937; 0.1936; 0.1935; 0.1934; 0.1933; 0.1932; 0.1932; 0.1931; 0.1930; 0.1929; 0.1929; 0.1928; 0.1928; 0.1927; 0.1927; 0.1927; 0.1926; 0.1926; 0.1926; 0.1925; 0.1925; 0.1925; 0.1925; 0.1924; 0.1924; 0.1924; 0.1924; 0.1924; 0.1924; 0.1923; 0.1923; 0.1923; 0.1923; 0.1923; 0.1923; 0.1923; 0.1923; 0.1923; 0.1923; 0.1923; 0.1923; 0.1923; 0.1923; 0.1922; 0.1922; 0.1922; 0.1922; 0.1922; 0.1922; 0.1922; 0.1922; 0.1922; 0.1922; 0.1922; 0.1922; 0.1922; 0.1922; 0.1922; 0.1922; 0.1922; 0.1922; 0.1922; 0.1922; 0.1922; 0.1922; 0.1922; 0.1922; 0.1922; 0.1922; 0.1922; 0.1922; 0.1922; 0.1922; 0.1922; 0.1922; 0.1922; 0.1922; 0.1922; 0.1922; 0.1922; 0.1922; 0.1922; 0.1922; 0.1922; 0.1922; 0.1922; 0.1922; 0.1922; 0.1922; 0.1922; 0.1922; 0.1922; 0.1922; 0.1922; 0.1922; 0.1922; 0.1922; 0.1922; 0.1922; 0.1922; 0.1922; 0.1922; 0.1922; 0.1922; 0.1922; 0.1922; 0.1922; 0.1922; 0.1922; 0.1922; 0.1922; 0.1922; 0.1922; 0.1922; 0.1922; 0.1922; 0.1922; 0.1922; 0.1922; 0.1922; 0.1922; 0.1922; 0.1922; 0.1922; 0.1922; 0.1922; 0.1922; 0.1922; 0.1922; 0.1922; 0.1922; 0.1922; 0.1922; 0.1922; 0.1922; 0.1922; 0.1922; 0.1922; 0.1922; 0.1922; 0.1922; 0.1922; 0.1922; 0.1922; 0.1922; 0.1922; 0.1922; 0.1922; 0.1922; 0.1922; 0.1922; 0.1922; 0.1922; 0.1922; 0.1922; 0.1922; 0.1922; 0.1922; 0.1922; 0.1922; 0.1922; 0.1922; 0.1922; 0.1922; 0.1922; 0.1922; 0.1922; 0.1922; 0.1922; 0.1922; 0.1922; 0.1922; 0.1922; 0.1922; 0.1921; 0.1921; 0.1921; 0.1921; 0.1921; 0.1921; 0.1921; 0.1921; 0.1921; 0.1921; 0.1921; 0.1921; 0.1921; 0.1921; 0.1921; 0.1921; 0.1921; 0.1921; 0.1921; 0.1921; 0.1921; 0.1921; 0.1921; 0.1921; 0.1921; 0.1921; 0.1921; 0.1921; 0.1921; 0.1921; 0.1921; 0.1921; 0.1921; 0.1921; 0.1921; 0.1921; 0.1921; 0.1921; 0.1921; 0.1921; 0.1921; 0.1921; 0.1921; 0.1921; 0.1921; 0.1921; 0.1921; 0.1921; 0.1921; 0.1921; 0.1921; 0.1921; 0.1921; 0.1921; 0.1921; 0.1921; 0.1921; 0.1921; 0.1921; 0.1921; 0.1921; 0.1921; 0.1921; 0.1921; 0.1921; 0.1921; 0.1921; 0.1921; 0.1921; 0.1921; 0.1921; 0.1921; 0.1921; 0.1921; 0.1921; 0.1921; 0.1921; 0.1921; 0.1921; 0.1921; 0.1921; 0.1921; 0.1921; 0.1921; 0.1921; 0.1921; 0.1921; 0.1921; 0.1921; 0.1921; 0.1921; 0.1921; 0.1921; 0.1921; 0.1921; 0.1921; 0.1921; 0.1921; 0.1921; 0.1921; 0.1921; 0.1921; 0.1921; 0.1921; 0.1921; 0.1921; 0.1921; 0.1921; 0.1921; 0.1921; 0.1921; 0.1921; 0.1921; 0.1921; 0.1921; 0.1921; 0.1921; 0.1921; 0.1921; 0.1921; 0.1921; 0.1921; 0.1921; 0.1921; 0.1921; 0.1921; 0.1921; 0.1921; 0.1921; 0.1921; 0.1921; 0.1920; 0.1920; 0.1920; 0.1920; 0.1920; 0.1920; 0.1920; 0.1920; 0.1920; 0.1920; 0.1920; 0.1920; 0.1920; 0.1920; 0.1920; 0.1920; 0.1920; 0.1920; 0.1920; 0.1920; 0.1920; 0.1920; 0.1920; 0.1920; 0.1920; 0.1920; 0.1920; 0.1920; 0.1920; 0.1920; 0.1920; 0.1920; 0.1920; 0.1920; 0.1920; 0.1920; 0.1920; 0.1920; 0.1920; 0.1920; 0.1920; 0.1920; 0.1920; 0.1920; 0.1920; 0.1920; 0.1920; 0.1920; 0.1920; 0.1920; 0.1920; 0.1920; 0.1920; 0.1920; 0.1920; 0.1920; 0.1920; 0.1920; 0.1919; 0.1919; 0.1919; 0.1919; 0.1919; 0.1919; 0.1919; 0.1919; 0.1919; 0.1919; 0.1919; 0.1919; 0.1919; 0.1919; 0.1919; 0.1919; 0.1919; 0.1919; 0.1919; 0.1919; 0.1919; 0.1919; 0.1919; 0.1919; 0.1919; 0.1919; 0.1919; 0.1919; 0.1919; 0.1919; 0.1919; 0.1919; 0.1919; 0.1918; 0.1918; 0.1918; 0.1918; 0.1918; 0.1918; 0.1918; 0.1918; 0.1918; 0.1918; 0.1918; 0.1918; 0.1918; 0.1918; 0.1918; 0.1918; 0.1918; 0.1918; 0.1918; 0.1918; 0.1918; 0.1917; 0.1917; 0.1917; 0.1917; 0.1917; 0.1917; 0.1917; 0.1917; 0.1917; 0.1917; 0.1917; 0.1917; 0.1917; 0.1917; 0.1917; 0.1917; 0.1917; 0.1916; 0.1916; 0.1916; 0.1916; 0.1916; 0.1916; 0.1916; 0.1916; 0.1916; 0.1916; 0.1916; 0.1916; 0.1916; 0.1915; 0.1915; 0.1915; 0.1915; 0.1915; 0.1915; 0.1915; 0.1915; 0.1915; 0.1915; 0.1915; 0.1915; 0.1914; 0.1914; 0.1914; 0.1914; 0.1914; 0.1914; 0.1914; 0.1914; 0.1914; 0.1914; 0.1914; 0.1913; 0.1913; 0.1913; 0.1913; 0.1913; 0.1913; 0.1913; 0.1913; 0.1913; 0.1913; 0.1913; 0.1912; 0.1912; 0.1912; 0.1912; 0.1912; 0.1912; 0.1912; 0.1912; 0.1912; 0.1912; 0.1911; 0.1911; 0.1911; 0.1911; 0.1911; 0.1911; 0.1911; 0.1911; 0.1911; 0.1911; 0.1911; 0.1910; 0.1910; 0.1910; 0.1910; 0.1910; 0.1910; 0.1910; 0.1910; 0.1910; 0.1910; 0.1910; 0.1910; 0.1909; 0.1909; 0.1909; 0.1909; 0.1909; 0.1909; 0.1909; 0.1909; 0.1909; 0.1909; 0.1909; 0.1909; 0.1909; 0.1909; 0.1908; 0.1908; 0.1908; 0.1908; 0.1908; 0.1908; 0.1908; 0.1908; 0.1908; 0.1908; 0.1908; 0.1908; 0.1908; 0.1908; 0.1908; 0.1908; 0.1907; 0.1907; 0.1907; 0.1907; 0.1907; 0.1907; 0.1907; 0.1907; 0.1907; 0.1907; 0.1907; 0.1907; 0.1907; 0.1907; 0.1907; 0.1907; 0.1907; 0.1907; 0.1907; 0.1907; 0.1906; 0.1906; 0.1906; 0.1906; 0.1906; 0.1906; 0.1906; 0.1906; 0.1906; 0.1906; 0.1906; 0.1906; 0.1906; 0.1906; 0.1906; 0.1906; 0.1906; 0.1906; 0.1906; 0.1906; 0.1906; 0.1906; 0.1906; 0.1906; 0.1906; 0.1906; 0.1906; 0.1906; 0.1906; 0.1905; 0.1905; 0.1905; 0.1905; 0.1905; 0.1905; 0.1905; 0.1905; 0.1905; 0.1905; 0.1905; 0.1905; 0.1905; 0.1905; 0.1905; 0.1905; 0.1905; 0.1905; 0.1905; 0.1905; 0.1905; 0.1905; 0.1905; 0.1905; 0.1905; 0.1905; 0.1905; 0.1905; 0.1906; 0.1906; 0.1906; 0.1906; 0.1906; 0.1906; 0.1906; 0.1906; 0.1906; 0.1906; 0.1906; 0.1906; 0.1906; 0.1906; 0.1906; 0.1906; 0.1906; 0.1906; 0.1906; 0.1906; 0.1906; 0.1906; 0.1907; 0.1907; 0.1907; 0.1907; 0.1907; 0.1907; 0.1907; 0.1907; 0.1907; 0.1907; 0.1907; 0.1907; 0.1907; 0.1907; 0.1907; 0.1908; 0.1908; 0.1908; 0.1908; 0.1908; 0.1908; 0.1908; 0.1908; 0.1908; 0.1908; 0.1908; 0.1908; 0.1908; 0.1908; 0.1908; 0.1908; 0.1908; 0.1909; 0.1909; 0.1909; 0.1909; 0.1909; 0.1909; 0.1909; 0.1909; 0.1909; 0.1909; 0.1909; 0.1909; 0.1909; 0.1909; 0.1909; 0.1909; 0.1909; 0.1909; 0.1909; 0.1909; 0.1909; 0.1909; 0.1909; 0.1909; 0.1909; 0.1909; 0.1909; 0.1909; 0.1909; 0.1909; 0.1909; 0.1909; 0.1909; 0.1909; 0.1909; 0.1909; 0.1909; 0.1909; 0.1908; 0.1908; 0.1908; 0.1908; 0.1908; 0.1908; 0.1908; 0.1908; 0.1908; 0.1908; 0.1908; 0.1908; 0.1908; 0.1907; 0.1907; 0.1907; 0.1907; 0.1907; 0.1907; 0.1907; 0.1907; 0.1907; 0.1907; 0.1907; 0.1906; 0.1906; 0.1906; 0.1906; 0.1906; 0.1906; 0.1906; 0.1906; 0.1906; 0.1905; 0.1905; 0.1905; 0.1905; 0.1905; 0.1905; 0.1905; 0.1905; 0.1905; 0.1905; 0.1904; 0.1904; 0.1904; 0.1904; 0.1904; 0.1904; 0.1904; 0.1904; 0.1904; 0.1904; 0.1903; 0.1903; 0.1903; 0.1903; 0.1903; 0.1903; 0.1903; 0.1903; 0.1903; 0.1903; 0.1903; 0.1903; 0.1902; 0.1902; 0.1902; 0.1902; 0.1902; 0.1902; 0.1902; 0.1902; 0.1902; 0.1902; 0.1902; 0.1902; 0.1902; 0.1902; 0.1902; 0.1902; 0.1901; 0.1901; 0.1901; 0.1901; 0.1901; 0.1901; 0.1901; 0.1901; 0.1901; 0.1901; 0.1901; 0.1901; 0.1901; 0.1901; 0.1901; 0.1901; 0.1901; 0.1901; 0.1901; 0.1901; 0.1901; 0.1901; 0.1901; 0.1901; 0.1901; 0.1901; 0.1901; 0.1901; 0.1901; 0.1901; 0.1901; 0.1901; 0.1901; 0.1901; 0.1901; 0.1901; 0.1901; 0.1901; 0.1901; 0.1901; 0.1901; 0.1901; 0.1901; 0.1901; 0.1901; 0.1901; 0.1901; 0.1901; 0.1901; 0.1901; 0.1901; 0.1901; 0.1901; 0.1901; 0.1901; 0.1901; 0.1901; 0.1901; 0.1901; 0.1901; "
     ]
    }
   ],
   "source": [
    "coeffs = train_model(1000,lr=0.1)"
   ]
  },
  {
   "cell_type": "code",
   "execution_count": 62,
   "metadata": {},
   "outputs": [],
   "source": [
    "def init_coeffs(n_hidden=20):\n",
    "    layer1 = (torch.rand(n_coeff,n_hidden) - 0.5) / n_hidden\n",
    "    layer2 = torch.rand(n_hidden,1)-0.3\n",
    "    const = torch.rand(1)[0]\n",
    "    return layer1.requires_grad_(),layer2.requires_grad_(),const.requires_grad_()"
   ]
  },
  {
   "cell_type": "code",
   "execution_count": 64,
   "metadata": {},
   "outputs": [],
   "source": [
    "import torch.nn.functional as F\n",
    "\n",
    "def calc_preds(coeffs,indeps):\n",
    "    l1,l2,const = coeffs\n",
    "    res = F.relu(indeps@l1)\n",
    "    res = res@l2 + const\n",
    "    return torch.sigmoid(res)\n",
    "\n",
    "def update_coeffs(coeffs,lr):\n",
    "    for layer in coeffs:\n",
    "        layer.sub_(layer.grad * lr)"
   ]
  },
  {
   "cell_type": "code",
   "execution_count": 67,
   "metadata": {},
   "outputs": [
    {
     "name": "stdout",
     "output_type": "stream",
     "text": [
      "0.5115; 0.4939; 0.4584; 0.3977; 0.3174; 0.2508; 0.2185; 0.2102; 0.2088; 0.2075; 0.2022; 0.1941; 0.1926; 0.1927; 0.1929; 0.1929; 0.1926; 0.1921; 0.1916; 0.1913; 0.1911; 0.1910; 0.1910; 0.1909; 0.1910; 0.1910; 0.1909; 0.1909; 0.1908; 0.1908; "
     ]
    }
   ],
   "source": [
    "coeffs = train_model(lr=2)"
   ]
  },
  {
   "cell_type": "code",
   "execution_count": 68,
   "metadata": {},
   "outputs": [
    {
     "data": {
      "text/plain": [
       "tensor(0.8258)"
      ]
     },
     "execution_count": 68,
     "metadata": {},
     "output_type": "execute_result"
    }
   ],
   "source": [
    "acc(coeffs)"
   ]
  },
  {
   "cell_type": "code",
   "execution_count": 108,
   "metadata": {},
   "outputs": [],
   "source": [
    "def init_coeffs():\n",
    "    hiddens= [10,10]\n",
    "    sizes = [n_coeff] + hiddens + [1]\n",
    "    n = len(sizes)\n",
    "    layers = [(torch.rand(sizes[i],sizes[i+1])-0.3) / sizes[i+1]*4 for i in range(n-1)]\n",
    "    consts = [(torch.rand(1)[0]-0.5)*0.1 for i in range(n-1)]\n",
    "    for l in layers+consts: l.requires_grad_()\n",
    "    return layers,consts"
   ]
  },
  {
   "cell_type": "code",
   "execution_count": 87,
   "metadata": {},
   "outputs": [],
   "source": [
    "def calc_preds(coeffs,indeps):\n",
    "    layers,consts = coeffs\n",
    "    n = len(layers)\n",
    "    res = indeps\n",
    "    for i,l in enumerate(layers):\n",
    "        res = res@l + consts[i]\n",
    "        if i!=n-1: res = F.relu(res)\n",
    "    return torch.sigmoid(res)"
   ]
  },
  {
   "cell_type": "code",
   "execution_count": 112,
   "metadata": {},
   "outputs": [],
   "source": [
    "def update_coeffs(coeffs,lr):\n",
    "    layers,conts = coeffs\n",
    "    for layer in layers+conts: layer.sub_(layer.grad * lr)"
   ]
  },
  {
   "cell_type": "code",
   "execution_count": 133,
   "metadata": {},
   "outputs": [
    {
     "name": "stdout",
     "output_type": "stream",
     "text": [
      "0.5957; 0.5957; 0.5956; 0.5956; 0.5955; 0.5954; 0.5953; 0.5952; 0.5951; 0.5949; 0.5948; 0.5946; 0.5944; 0.5942; 0.5939; 0.5937; 0.5934; 0.5931; 0.5928; 0.5924; 0.5921; 0.5917; 0.5913; 0.5908; 0.5904; 0.5899; 0.5894; 0.5888; 0.5882; 0.5876; "
     ]
    }
   ],
   "source": [
    "coeffs = train_model(lr=0.0002)"
   ]
  },
  {
   "cell_type": "code",
   "execution_count": 134,
   "metadata": {},
   "outputs": [
    {
     "data": {
      "text/plain": [
       "tensor(0.4045)"
      ]
     },
     "execution_count": 134,
     "metadata": {},
     "output_type": "execute_result"
    }
   ],
   "source": [
    "acc(coeffs)"
   ]
  },
  {
   "cell_type": "markdown",
   "metadata": {},
   "source": [
    "FRAMEWORK"
   ]
  },
  {
   "cell_type": "code",
   "execution_count": 135,
   "metadata": {},
   "outputs": [],
   "source": [
    "df = pd.read_csv('./Titanic/train.csv')\n",
    "\n",
    "def add_features(df):\n",
    "    df['LogFare'] = np.log1p(df['Fare'])\n",
    "    df['Deck'] = df.Cabin.str[0].map(dict(A=\"ABC\",B=\"ABC\",C=\"ABC\",D=\"DE\",E=\"DE\",F=\"FG\",G=\"FG\"))\n",
    "\n",
    "add_features(df)"
   ]
  },
  {
   "cell_type": "code",
   "execution_count": 143,
   "metadata": {},
   "outputs": [],
   "source": [
    "splits = RandomSplitter(seed=42)(df)"
   ]
  },
  {
   "cell_type": "code",
   "execution_count": 144,
   "metadata": {},
   "outputs": [],
   "source": [
    "from fastai.tabular.all import *\n",
    "\n",
    "dls = TabularPandas(df, splits=splits,\n",
    "procs=[Categorify,FillMissing,Normalize]\n",
    ",cat_names=[\"Sex\",\"Pclass\",\"Embarked\",\"Deck\"]\n",
    ",cont_names=[\"Age\",\"SibSp\",\"Parch\",\"LogFare\"]\n",
    ",y_names=\"Survived\",y_block=CategoryBlock()\n",
    ").dataloaders(path=\".\")"
   ]
  },
  {
   "cell_type": "code",
   "execution_count": 145,
   "metadata": {},
   "outputs": [
    {
     "data": {
      "text/html": [
       "\n",
       "<style>\n",
       "    /* Turns off some styling */\n",
       "    progress {\n",
       "        /* gets rid of default border in Firefox and Opera. */\n",
       "        border: none;\n",
       "        /* Needs to be in here for Safari polyfill so background images work as expected. */\n",
       "        background-size: auto;\n",
       "    }\n",
       "    progress:not([value]), progress:not([value])::-webkit-progress-bar {\n",
       "        background: repeating-linear-gradient(45deg, #7e7e7e, #7e7e7e 10px, #5c5c5c 10px, #5c5c5c 20px);\n",
       "    }\n",
       "    .progress-bar-interrupted, .progress-bar-interrupted::-webkit-progress-bar {\n",
       "        background: #F44336;\n",
       "    }\n",
       "</style>\n"
      ],
      "text/plain": [
       "<IPython.core.display.HTML object>"
      ]
     },
     "metadata": {},
     "output_type": "display_data"
    },
    {
     "data": {
      "text/html": [],
      "text/plain": [
       "<IPython.core.display.HTML object>"
      ]
     },
     "metadata": {},
     "output_type": "display_data"
    },
    {
     "data": {
      "text/plain": [
       "SuggestedLRs(slide=0.10000000149011612, valley=0.015848932787775993)"
      ]
     },
     "execution_count": 145,
     "metadata": {},
     "output_type": "execute_result"
    },
    {
     "data": {
      "image/png": "[encoded data removed]",
      "text/plain": [
       "<Figure size 432x288 with 1 Axes>"
      ]
     },
     "metadata": {
      "needs_background": "light"
     },
     "output_type": "display_data"
    }
   ],
   "source": [
    "learn = tabular_learner(dls,metrics=accuracy,layers=[10,10])\n",
    "\n",
    "learn.lr_find(suggest_funcs=(slide,valley))"
   ]
  },
  {
   "cell_type": "code",
   "execution_count": 146,
   "metadata": {},
   "outputs": [
    {
     "data": {
      "text/html": [
       "\n",
       "<style>\n",
       "    /* Turns off some styling */\n",
       "    progress {\n",
       "        /* gets rid of default border in Firefox and Opera. */\n",
       "        border: none;\n",
       "        /* Needs to be in here for Safari polyfill so background images work as expected. */\n",
       "        background-size: auto;\n",
       "    }\n",
       "    progress:not([value]), progress:not([value])::-webkit-progress-bar {\n",
       "        background: repeating-linear-gradient(45deg, #7e7e7e, #7e7e7e 10px, #5c5c5c 10px, #5c5c5c 20px);\n",
       "    }\n",
       "    .progress-bar-interrupted, .progress-bar-interrupted::-webkit-progress-bar {\n",
       "        background: #F44336;\n",
       "    }\n",
       "</style>\n"
      ],
      "text/plain": [
       "<IPython.core.display.HTML object>"
      ]
     },
     "metadata": {},
     "output_type": "display_data"
    },
    {
     "data": {
      "text/html": [
       "<table border=\"1\" class=\"dataframe\">\n",
       "  <thead>\n",
       "    <tr style=\"text-align: left;\">\n",
       "      <th>epoch</th>\n",
       "      <th>train_loss</th>\n",
       "      <th>valid_loss</th>\n",
       "      <th>accuracy</th>\n",
       "      <th>time</th>\n",
       "    </tr>\n",
       "  </thead>\n",
       "  <tbody>\n",
       "    <tr>\n",
       "      <td>0</td>\n",
       "      <td>0.579032</td>\n",
       "      <td>0.555338</td>\n",
       "      <td>0.735955</td>\n",
       "      <td>00:00</td>\n",
       "    </tr>\n",
       "    <tr>\n",
       "      <td>1</td>\n",
       "      <td>0.516914</td>\n",
       "      <td>0.448089</td>\n",
       "      <td>0.831461</td>\n",
       "      <td>00:00</td>\n",
       "    </tr>\n",
       "    <tr>\n",
       "      <td>2</td>\n",
       "      <td>0.478896</td>\n",
       "      <td>0.401071</td>\n",
       "      <td>0.831461</td>\n",
       "      <td>00:00</td>\n",
       "    </tr>\n",
       "    <tr>\n",
       "      <td>3</td>\n",
       "      <td>0.460798</td>\n",
       "      <td>0.396753</td>\n",
       "      <td>0.814607</td>\n",
       "      <td>00:00</td>\n",
       "    </tr>\n",
       "    <tr>\n",
       "      <td>4</td>\n",
       "      <td>0.448416</td>\n",
       "      <td>0.409229</td>\n",
       "      <td>0.820225</td>\n",
       "      <td>00:00</td>\n",
       "    </tr>\n",
       "    <tr>\n",
       "      <td>5</td>\n",
       "      <td>0.440547</td>\n",
       "      <td>0.428965</td>\n",
       "      <td>0.797753</td>\n",
       "      <td>00:00</td>\n",
       "    </tr>\n",
       "    <tr>\n",
       "      <td>6</td>\n",
       "      <td>0.437497</td>\n",
       "      <td>0.442309</td>\n",
       "      <td>0.808989</td>\n",
       "      <td>00:00</td>\n",
       "    </tr>\n",
       "    <tr>\n",
       "      <td>7</td>\n",
       "      <td>0.432818</td>\n",
       "      <td>0.418259</td>\n",
       "      <td>0.825843</td>\n",
       "      <td>00:00</td>\n",
       "    </tr>\n",
       "    <tr>\n",
       "      <td>8</td>\n",
       "      <td>0.427402</td>\n",
       "      <td>0.441541</td>\n",
       "      <td>0.803371</td>\n",
       "      <td>00:00</td>\n",
       "    </tr>\n",
       "    <tr>\n",
       "      <td>9</td>\n",
       "      <td>0.422583</td>\n",
       "      <td>0.418108</td>\n",
       "      <td>0.808989</td>\n",
       "      <td>00:00</td>\n",
       "    </tr>\n",
       "    <tr>\n",
       "      <td>10</td>\n",
       "      <td>0.416884</td>\n",
       "      <td>0.434984</td>\n",
       "      <td>0.820225</td>\n",
       "      <td>00:00</td>\n",
       "    </tr>\n",
       "    <tr>\n",
       "      <td>11</td>\n",
       "      <td>0.411490</td>\n",
       "      <td>0.418259</td>\n",
       "      <td>0.814607</td>\n",
       "      <td>00:00</td>\n",
       "    </tr>\n",
       "    <tr>\n",
       "      <td>12</td>\n",
       "      <td>0.407523</td>\n",
       "      <td>0.442839</td>\n",
       "      <td>0.820225</td>\n",
       "      <td>00:00</td>\n",
       "    </tr>\n",
       "    <tr>\n",
       "      <td>13</td>\n",
       "      <td>0.404963</td>\n",
       "      <td>0.441872</td>\n",
       "      <td>0.820225</td>\n",
       "      <td>00:00</td>\n",
       "    </tr>\n",
       "    <tr>\n",
       "      <td>14</td>\n",
       "      <td>0.404042</td>\n",
       "      <td>0.411975</td>\n",
       "      <td>0.831461</td>\n",
       "      <td>00:00</td>\n",
       "    </tr>\n",
       "    <tr>\n",
       "      <td>15</td>\n",
       "      <td>0.401070</td>\n",
       "      <td>0.447024</td>\n",
       "      <td>0.820225</td>\n",
       "      <td>00:00</td>\n",
       "    </tr>\n",
       "  </tbody>\n",
       "</table>"
      ],
      "text/plain": [
       "<IPython.core.display.HTML object>"
      ]
     },
     "metadata": {},
     "output_type": "display_data"
    }
   ],
   "source": [
    "learn.fit(16,lr=0.03)"
   ]
  },
  {
   "cell_type": "code",
   "execution_count": 157,
   "metadata": {},
   "outputs": [
    {
     "data": {
      "text/html": [
       "\n",
       "<style>\n",
       "    /* Turns off some styling */\n",
       "    progress {\n",
       "        /* gets rid of default border in Firefox and Opera. */\n",
       "        border: none;\n",
       "        /* Needs to be in here for Safari polyfill so background images work as expected. */\n",
       "        background-size: auto;\n",
       "    }\n",
       "    progress:not([value]), progress:not([value])::-webkit-progress-bar {\n",
       "        background: repeating-linear-gradient(45deg, #7e7e7e, #7e7e7e 10px, #5c5c5c 10px, #5c5c5c 20px);\n",
       "    }\n",
       "    .progress-bar-interrupted, .progress-bar-interrupted::-webkit-progress-bar {\n",
       "        background: #F44336;\n",
       "    }\n",
       "</style>\n"
      ],
      "text/plain": [
       "<IPython.core.display.HTML object>"
      ]
     },
     "metadata": {},
     "output_type": "display_data"
    },
    {
     "data": {
      "text/html": [],
      "text/plain": [
       "<IPython.core.display.HTML object>"
      ]
     },
     "metadata": {},
     "output_type": "display_data"
    },
    {
     "name": "stdout",
     "output_type": "stream",
     "text": [
      "tensor([[0.9241, 0.0759],\n",
      "        [0.5790, 0.4210],\n",
      "        [0.9263, 0.0737],\n",
      "        [0.9091, 0.0909],\n",
      "        [0.6052, 0.3948],\n",
      "        [0.8433, 0.1567],\n",
      "        [0.6003, 0.3997],\n",
      "        [0.9114, 0.0886],\n",
      "        [0.6003, 0.3997],\n",
      "        [0.9123, 0.0877],\n",
      "        [0.9276, 0.0724],\n",
      "        [0.7862, 0.2138],\n",
      "        [0.0147, 0.9853],\n",
      "        [0.9083, 0.0917],\n",
      "        [0.0222, 0.9778],\n",
      "        [0.0737, 0.9263],\n",
      "        [0.8214, 0.1786],\n",
      "        [0.7117, 0.2883],\n",
      "        [0.6003, 0.3997],\n",
      "        [0.6003, 0.3997],\n",
      "        [0.7693, 0.2307],\n",
      "        [0.8173, 0.1827],\n",
      "        [0.0286, 0.9714],\n",
      "        [0.3998, 0.6002],\n",
      "        [0.1716, 0.8284],\n",
      "        [0.9296, 0.0704],\n",
      "        [0.0113, 0.9887],\n",
      "        [0.7469, 0.2531],\n",
      "        [0.7308, 0.2692],\n",
      "        [0.9174, 0.0826],\n",
      "        [0.9099, 0.0901],\n",
      "        [0.9017, 0.0983],\n",
      "        [0.6400, 0.3600],\n",
      "        [0.7096, 0.2904],\n",
      "        [0.1990, 0.8010],\n",
      "        [0.6675, 0.3325],\n",
      "        [0.6003, 0.3997],\n",
      "        [0.6003, 0.3997],\n",
      "        [0.9037, 0.0963],\n",
      "        [0.7544, 0.2456],\n",
      "        [0.8989, 0.1011],\n",
      "        [0.0380, 0.9620],\n",
      "        [0.9256, 0.0744],\n",
      "        [0.1067, 0.8933],\n",
      "        [0.0189, 0.9811],\n",
      "        [0.9057, 0.0943],\n",
      "        [0.7122, 0.2878],\n",
      "        [0.9054, 0.0946],\n",
      "        [0.0312, 0.9688],\n",
      "        [0.6003, 0.3997],\n",
      "        [0.3098, 0.6902],\n",
      "        [0.8585, 0.1415],\n",
      "        [0.0454, 0.9546],\n",
      "        [0.0812, 0.9188],\n",
      "        [0.7747, 0.2253],\n",
      "        [0.9525, 0.0475],\n",
      "        [0.9257, 0.0743],\n",
      "        [0.8890, 0.1110],\n",
      "        [0.9233, 0.0767],\n",
      "        [0.0235, 0.9765],\n",
      "        [0.8844, 0.1156],\n",
      "        [0.9319, 0.0681],\n",
      "        [0.8891, 0.1109],\n",
      "        [0.5940, 0.4060],\n",
      "        [0.2104, 0.7896],\n",
      "        [0.0503, 0.9497],\n",
      "        [0.5305, 0.4695],\n",
      "        [0.7804, 0.2196],\n",
      "        [0.2458, 0.7542],\n",
      "        [0.1925, 0.8075],\n",
      "        [0.6003, 0.3997],\n",
      "        [0.8966, 0.1034],\n",
      "        [0.6003, 0.3997],\n",
      "        [0.0276, 0.9724],\n",
      "        [0.0206, 0.9794],\n",
      "        [0.5672, 0.4328],\n",
      "        [0.9274, 0.0726],\n",
      "        [0.0230, 0.9770],\n",
      "        [0.9280, 0.0720],\n",
      "        [0.6003, 0.3997],\n",
      "        [0.5256, 0.4744],\n",
      "        [0.7542, 0.2458],\n",
      "        [0.7898, 0.2102],\n",
      "        [0.9276, 0.0724],\n",
      "        [0.7648, 0.2352],\n",
      "        [0.8903, 0.1097],\n",
      "        [0.6003, 0.3997],\n",
      "        [0.6022, 0.3978],\n",
      "        [0.4380, 0.5620],\n",
      "        [0.1039, 0.8961],\n",
      "        [0.6003, 0.3997],\n",
      "        [0.9277, 0.0723],\n",
      "        [0.0303, 0.9697],\n",
      "        [0.9274, 0.0726],\n",
      "        [0.6554, 0.3446],\n",
      "        [0.9059, 0.0941],\n",
      "        [0.0122, 0.9878],\n",
      "        [0.9142, 0.0858],\n",
      "        [0.6005, 0.3995],\n",
      "        [0.9219, 0.0781],\n",
      "        [0.0431, 0.9569],\n",
      "        [0.9030, 0.0970],\n",
      "        [0.9054, 0.0946],\n",
      "        [0.9081, 0.0919],\n",
      "        [0.6003, 0.3997],\n",
      "        [0.8213, 0.1787],\n",
      "        [0.8273, 0.1727],\n",
      "        [0.9054, 0.0946],\n",
      "        [0.9267, 0.0733],\n",
      "        [0.3731, 0.6269],\n",
      "        [0.8991, 0.1009],\n",
      "        [0.4372, 0.5628],\n",
      "        [0.0316, 0.9684],\n",
      "        [0.5415, 0.4585],\n",
      "        [0.0185, 0.9815],\n",
      "        [0.6085, 0.3915],\n",
      "        [0.8991, 0.1009],\n",
      "        [0.2319, 0.7681],\n",
      "        [0.4918, 0.5082],\n",
      "        [0.0498, 0.9502],\n",
      "        [0.0413, 0.9587],\n",
      "        [0.9275, 0.0725],\n",
      "        [0.0285, 0.9715],\n",
      "        [0.9131, 0.0869],\n",
      "        [0.9054, 0.0946],\n",
      "        [0.6085, 0.3915],\n",
      "        [0.8991, 0.1009],\n",
      "        [0.4950, 0.5050],\n",
      "        [0.9341, 0.0659],\n",
      "        [0.9033, 0.0967],\n",
      "        [0.9200, 0.0800],\n",
      "        [0.7536, 0.2464],\n",
      "        [0.7018, 0.2982],\n",
      "        [0.8896, 0.1104],\n",
      "        [0.9249, 0.0751],\n",
      "        [0.9036, 0.0964],\n",
      "        [0.8250, 0.1750],\n",
      "        [0.9152, 0.0848],\n",
      "        [0.6003, 0.3997],\n",
      "        [0.9386, 0.0614],\n",
      "        [0.9064, 0.0936],\n",
      "        [0.0185, 0.9815],\n",
      "        [0.7544, 0.2456],\n",
      "        [0.8435, 0.1565],\n",
      "        [0.7810, 0.2190],\n",
      "        [0.9671, 0.0329],\n",
      "        [0.0630, 0.9370],\n",
      "        [0.8987, 0.1013],\n",
      "        [0.7858, 0.2142],\n",
      "        [0.9362, 0.0638],\n",
      "        [0.0113, 0.9887],\n",
      "        [0.8967, 0.1033],\n",
      "        [0.9754, 0.0246],\n",
      "        [0.6003, 0.3997],\n",
      "        [0.9513, 0.0487],\n",
      "        [0.9040, 0.0960],\n",
      "        [0.0202, 0.9798],\n",
      "        [0.6003, 0.3997],\n",
      "        [0.1464, 0.8536],\n",
      "        [0.6086, 0.3914],\n",
      "        [0.4385, 0.5615],\n",
      "        [0.5424, 0.4576],\n",
      "        [0.0933, 0.9067],\n",
      "        [0.9286, 0.0714],\n",
      "        [0.9354, 0.0646],\n",
      "        [0.6003, 0.3997],\n",
      "        [0.7448, 0.2552],\n",
      "        [0.8919, 0.1081],\n",
      "        [0.0272, 0.9728],\n",
      "        [0.6003, 0.3997],\n",
      "        [0.9280, 0.0720],\n",
      "        [0.8333, 0.1667],\n",
      "        [0.9043, 0.0957],\n",
      "        [0.8978, 0.1022],\n",
      "        [0.9397, 0.0603],\n",
      "        [0.0325, 0.9675],\n",
      "        [0.0466, 0.9534],\n",
      "        [0.7544, 0.2456],\n",
      "        [0.0388, 0.9612],\n",
      "        [0.1058, 0.8942],\n",
      "        [0.9280, 0.0720],\n",
      "        [0.1058, 0.8942],\n",
      "        [0.0049, 0.9951],\n",
      "        [0.9054, 0.0946],\n",
      "        [0.0309, 0.9691],\n",
      "        [0.9147, 0.0853],\n",
      "        [0.0591, 0.9409],\n",
      "        [0.8484, 0.1516],\n",
      "        [0.9670, 0.0330],\n",
      "        [0.9366, 0.0634],\n",
      "        [0.9111, 0.0889],\n",
      "        [0.7862, 0.2138],\n",
      "        [0.7018, 0.2982],\n",
      "        [0.9112, 0.0888],\n",
      "        [0.1950, 0.8050],\n",
      "        [0.9221, 0.0779],\n",
      "        [0.0239, 0.9761],\n",
      "        [0.6022, 0.3978],\n",
      "        [0.9126, 0.0874],\n",
      "        [0.6003, 0.3997],\n",
      "        [0.2986, 0.7014],\n",
      "        [0.4964, 0.5036],\n",
      "        [0.7482, 0.2518],\n",
      "        [0.0337, 0.9663],\n",
      "        [0.9202, 0.0798],\n",
      "        [0.7352, 0.2648],\n",
      "        [0.6003, 0.3997],\n",
      "        [0.9164, 0.0836],\n",
      "        [0.0293, 0.9707],\n",
      "        [0.9058, 0.0942],\n",
      "        [0.8201, 0.1799],\n",
      "        [0.9285, 0.0715],\n",
      "        [0.7421, 0.2579],\n",
      "        [0.0139, 0.9861],\n",
      "        [0.5845, 0.4155],\n",
      "        [0.7487, 0.2513],\n",
      "        [0.4345, 0.5655],\n",
      "        [0.7833, 0.2167],\n",
      "        [0.0649, 0.9351],\n",
      "        [0.9274, 0.0726],\n",
      "        [0.1160, 0.8840],\n",
      "        [0.8963, 0.1037],\n",
      "        [0.0339, 0.9661],\n",
      "        [0.8967, 0.1033],\n",
      "        [0.0532, 0.9468],\n",
      "        [0.5270, 0.4730],\n",
      "        [0.9014, 0.0986],\n",
      "        [0.4380, 0.5620],\n",
      "        [0.8689, 0.1311],\n",
      "        [0.9413, 0.0587],\n",
      "        [0.7045, 0.2955],\n",
      "        [0.0372, 0.9628],\n",
      "        [0.8909, 0.1091],\n",
      "        [0.9052, 0.0948],\n",
      "        [0.5510, 0.4490],\n",
      "        [0.8942, 0.1058],\n",
      "        [0.6794, 0.3206],\n",
      "        [0.6868, 0.3132],\n",
      "        [0.0755, 0.9245],\n",
      "        [0.0384, 0.9616],\n",
      "        [0.0476, 0.9524],\n",
      "        [0.0720, 0.9280],\n",
      "        [0.1875, 0.8125],\n",
      "        [0.9276, 0.0724],\n",
      "        [0.9166, 0.0834],\n",
      "        [0.1654, 0.8346],\n",
      "        [0.0642, 0.9358],\n",
      "        [0.9587, 0.0413],\n",
      "        [0.0498, 0.9502],\n",
      "        [0.6003, 0.3997],\n",
      "        [0.0214, 0.9786],\n",
      "        [0.8941, 0.1059],\n",
      "        [0.2419, 0.7581],\n",
      "        [0.9016, 0.0984],\n",
      "        [0.9171, 0.0829],\n",
      "        [0.9280, 0.0720],\n",
      "        [0.9054, 0.0946],\n",
      "        [0.9120, 0.0880],\n",
      "        [0.0651, 0.9349],\n",
      "        [0.8967, 0.1033],\n",
      "        [0.9062, 0.0938],\n",
      "        [0.8966, 0.1034],\n",
      "        [0.0840, 0.9160],\n",
      "        [0.4452, 0.5548],\n",
      "        [0.8783, 0.1217],\n",
      "        [0.9276, 0.0724],\n",
      "        [0.9468, 0.0532],\n",
      "        [0.9280, 0.0720],\n",
      "        [0.6003, 0.3997],\n",
      "        [0.8830, 0.1170],\n",
      "        [0.7448, 0.2552],\n",
      "        [0.9054, 0.0946],\n",
      "        [0.0154, 0.9846],\n",
      "        [0.3910, 0.6090],\n",
      "        [0.8978, 0.1022],\n",
      "        [0.0573, 0.9427],\n",
      "        [0.9302, 0.0698],\n",
      "        [0.9111, 0.0889],\n",
      "        [0.9318, 0.0682],\n",
      "        [0.9084, 0.0916],\n",
      "        [0.6003, 0.3997],\n",
      "        [0.5700, 0.4300],\n",
      "        [0.4380, 0.5620],\n",
      "        [0.4695, 0.5305],\n",
      "        [0.4401, 0.5599],\n",
      "        [0.9282, 0.0718],\n",
      "        [0.9283, 0.0717],\n",
      "        [0.3665, 0.6335],\n",
      "        [0.8158, 0.1842],\n",
      "        [0.9274, 0.0726],\n",
      "        [0.7769, 0.2231],\n",
      "        [0.6003, 0.3997],\n",
      "        [0.8978, 0.1022],\n",
      "        [0.7544, 0.2456],\n",
      "        [0.9130, 0.0870],\n",
      "        [0.9080, 0.0920],\n",
      "        [0.0165, 0.9835],\n",
      "        [0.9174, 0.0826],\n",
      "        [0.7667, 0.2333],\n",
      "        [0.9143, 0.0857],\n",
      "        [0.9203, 0.0797],\n",
      "        [0.0316, 0.9684],\n",
      "        [0.9546, 0.0454],\n",
      "        [0.9025, 0.0975],\n",
      "        [0.4380, 0.5620],\n",
      "        [0.0261, 0.9739],\n",
      "        [0.5859, 0.4141],\n",
      "        [0.5430, 0.4570],\n",
      "        [0.7544, 0.2456],\n",
      "        [0.4639, 0.5361],\n",
      "        [0.8874, 0.1126],\n",
      "        [0.7355, 0.2645],\n",
      "        [0.9279, 0.0721],\n",
      "        [0.6003, 0.3997],\n",
      "        [0.0464, 0.9536],\n",
      "        [0.5154, 0.4846],\n",
      "        [0.7543, 0.2457],\n",
      "        [0.8939, 0.1061],\n",
      "        [0.9102, 0.0898],\n",
      "        [0.8745, 0.1255],\n",
      "        [0.9081, 0.0919],\n",
      "        [0.7377, 0.2623],\n",
      "        [0.7718, 0.2282],\n",
      "        [0.7752, 0.2248],\n",
      "        [0.0173, 0.9827],\n",
      "        [0.9026, 0.0974],\n",
      "        [0.0153, 0.9847],\n",
      "        [0.7566, 0.2434],\n",
      "        [0.9079, 0.0921],\n",
      "        [0.8954, 0.1046],\n",
      "        [0.0523, 0.9477],\n",
      "        [0.5100, 0.4900],\n",
      "        [0.8978, 0.1022],\n",
      "        [0.6003, 0.3997],\n",
      "        [0.9101, 0.0899],\n",
      "        [0.4963, 0.5037],\n",
      "        [0.9335, 0.0665],\n",
      "        [0.8678, 0.1322],\n",
      "        [0.8056, 0.1944],\n",
      "        [0.8978, 0.1022],\n",
      "        [0.8867, 0.1133],\n",
      "        [0.9205, 0.0795],\n",
      "        [0.8842, 0.1158],\n",
      "        [0.0762, 0.9238],\n",
      "        [0.9235, 0.0765],\n",
      "        [0.6040, 0.3960],\n",
      "        [0.9152, 0.0848],\n",
      "        [0.6003, 0.3997],\n",
      "        [0.9057, 0.0943],\n",
      "        [0.0791, 0.9209],\n",
      "        [0.0160, 0.9840],\n",
      "        [0.9202, 0.0798],\n",
      "        [0.7515, 0.2485],\n",
      "        [0.9609, 0.0391],\n",
      "        [0.3689, 0.6311],\n",
      "        [0.3630, 0.6370],\n",
      "        [0.0115, 0.9885],\n",
      "        [0.9276, 0.0724],\n",
      "        [0.9054, 0.0946],\n",
      "        [0.6003, 0.3997],\n",
      "        [0.9883, 0.0117],\n",
      "        [0.0643, 0.9357],\n",
      "        [0.0791, 0.9209],\n",
      "        [0.9091, 0.0909],\n",
      "        [0.0063, 0.9937],\n",
      "        [0.8127, 0.1873],\n",
      "        [0.8903, 0.1097],\n",
      "        [0.5399, 0.4601],\n",
      "        [0.0417, 0.9583],\n",
      "        [0.8731, 0.1269],\n",
      "        [0.9065, 0.0935],\n",
      "        [0.0061, 0.9939],\n",
      "        [0.9471, 0.0529],\n",
      "        [0.9333, 0.0667],\n",
      "        [0.0424, 0.9576],\n",
      "        [0.0216, 0.9784],\n",
      "        [0.6003, 0.3997],\n",
      "        [0.9022, 0.0978],\n",
      "        [0.7544, 0.2456],\n",
      "        [0.9403, 0.0597],\n",
      "        [0.9054, 0.0946],\n",
      "        [0.8904, 0.1096],\n",
      "        [0.6003, 0.3997],\n",
      "        [0.6003, 0.3997],\n",
      "        [0.8459, 0.1541],\n",
      "        [0.0442, 0.9558],\n",
      "        [0.9037, 0.0963],\n",
      "        [0.9326, 0.0674],\n",
      "        [0.8276, 0.1724],\n",
      "        [0.8532, 0.1468],\n",
      "        [0.4105, 0.5895],\n",
      "        [0.0251, 0.9749],\n",
      "        [0.7345, 0.2655],\n",
      "        [0.9493, 0.0507],\n",
      "        [0.9504, 0.0496],\n",
      "        [0.0129, 0.9871],\n",
      "        [0.8777, 0.1223],\n",
      "        [0.0609, 0.9391],\n",
      "        [0.8991, 0.1009],\n",
      "        [0.9116, 0.0884],\n",
      "        [0.0192, 0.9808],\n",
      "        [0.9328, 0.0672],\n",
      "        [0.0252, 0.9748],\n",
      "        [0.6561, 0.3439],\n",
      "        [0.0725, 0.9275],\n",
      "        [0.0387, 0.9613],\n",
      "        [0.9157, 0.0843],\n",
      "        [0.7510, 0.2490],\n",
      "        [0.4388, 0.5612],\n",
      "        [0.4804, 0.5196],\n",
      "        [0.4380, 0.5620],\n",
      "        [0.0111, 0.9889],\n",
      "        [0.6003, 0.3997],\n",
      "        [0.9274, 0.0726],\n",
      "        [0.0202, 0.9798],\n",
      "        [0.9308, 0.0692],\n",
      "        [0.9274, 0.0726],\n",
      "        [0.8872, 0.1128]])\n"
     ]
    }
   ],
   "source": [
    "tst_df = pd.read_csv('./Titanic/test.csv')\n",
    "tst_df[\"Fare\"] = tst_df.Fare.fillna(0)\n",
    "add_features(tst_df)\n",
    "\n",
    "tst_dl = learn.dls.test_dl(tst_df)\n",
    "\n",
    "preds,_ = learn.get_preds(dl=tst_dl)\n",
    "print(preds)\n",
    "tst_df['Survived'] = (preds[:,0]>0.5).int()\n",
    "sub_df = tst_df[['PassengerId','Survived']]\n",
    "sub_df.to_csv('submission.csv',index=False)"
   ]
  },
  {
   "cell_type": "code",
   "execution_count": 154,
   "metadata": {},
   "outputs": [
    {
     "name": "stdout",
     "output_type": "stream",
     "text": [
      "1300,0\n",
      "1301,0\n",
      "1302,0\n",
      "1303,0\n",
      "1304,1\n",
      "1305,1\n",
      "1306,0\n",
      "1307,1\n",
      "1308,1\n",
      "1309,1\n"
     ]
    }
   ],
   "source": [
    "!tail submission.csv"
   ]
  }
 ],
 "metadata": {
  "kernelspec": {
   "display_name": "Python 3 (ipykernel)",
   "language": "python",
   "name": "python3"
  },
  "language_info": {
   "codemirror_mode": {
    "name": "ipython",
    "version": 3
   },
   "file_extension": ".py",
   "mimetype": "text/x-python",
   "name": "python",
   "nbconvert_exporter": "python",
   "pygments_lexer": "ipython3",
   "version": "3.9.13"
  },
  "orig_nbformat": 4
 },
 "nbformat": 4,
 "nbformat_minor": 2
}
