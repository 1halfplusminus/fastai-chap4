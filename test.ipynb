{
 "cells": [
  {
   "cell_type": "code",
   "execution_count": 1,
   "metadata": {},
   "outputs": [
    {
     "name": "stdout",
     "output_type": "stream",
     "text": [
      "Requirement already satisfied: fastbook in /Users/gaelsautron/miniconda3/envs/animated_drawings/lib/python3.8/site-packages (0.0.29)\n",
      "Requirement already satisfied: pandas in /Users/gaelsautron/miniconda3/envs/animated_drawings/lib/python3.8/site-packages (from fastbook) (2.0.1)\n",
      "Requirement already satisfied: sentencepiece in /Users/gaelsautron/miniconda3/envs/animated_drawings/lib/python3.8/site-packages (from fastbook) (0.1.99)\n",
      "Requirement already satisfied: pip in /Users/gaelsautron/miniconda3/envs/animated_drawings/lib/python3.8/site-packages (from fastbook) (23.0.1)\n",
      "Requirement already satisfied: fastai>=2.6 in /Users/gaelsautron/miniconda3/envs/animated_drawings/lib/python3.8/site-packages (from fastbook) (2.7.12)\n",
      "Requirement already satisfied: datasets in /Users/gaelsautron/miniconda3/envs/animated_drawings/lib/python3.8/site-packages (from fastbook) (2.12.0)\n",
      "Requirement already satisfied: graphviz in /Users/gaelsautron/miniconda3/envs/animated_drawings/lib/python3.8/site-packages (from fastbook) (0.20.1)\n",
      "Requirement already satisfied: packaging in /Users/gaelsautron/miniconda3/envs/animated_drawings/lib/python3.8/site-packages (from fastbook) (23.1)\n",
      "Requirement already satisfied: ipywidgets<8 in /Users/gaelsautron/miniconda3/envs/animated_drawings/lib/python3.8/site-packages (from fastbook) (7.7.5)\n",
      "Requirement already satisfied: transformers in /Users/gaelsautron/miniconda3/envs/animated_drawings/lib/python3.8/site-packages (from fastbook) (4.28.1)\n",
      "Requirement already satisfied: requests in /Users/gaelsautron/miniconda3/envs/animated_drawings/lib/python3.8/site-packages (from fastbook) (2.30.0)\n",
      "Requirement already satisfied: pyyaml in /Users/gaelsautron/miniconda3/envs/animated_drawings/lib/python3.8/site-packages (from fastai>=2.6->fastbook) (6.0)\n",
      "Requirement already satisfied: fastdownload<2,>=0.0.5 in /Users/gaelsautron/miniconda3/envs/animated_drawings/lib/python3.8/site-packages (from fastai>=2.6->fastbook) (0.0.7)\n",
      "Requirement already satisfied: scikit-learn in /Users/gaelsautron/miniconda3/envs/animated_drawings/lib/python3.8/site-packages (from fastai>=2.6->fastbook) (1.2.2)\n",
      "Requirement already satisfied: fastcore<1.6,>=1.5.29 in /Users/gaelsautron/miniconda3/envs/animated_drawings/lib/python3.8/site-packages (from fastai>=2.6->fastbook) (1.5.29)\n",
      "Requirement already satisfied: torchvision>=0.8.2 in /Users/gaelsautron/miniconda3/envs/animated_drawings/lib/python3.8/site-packages (from fastai>=2.6->fastbook) (0.15.1)\n",
      "Requirement already satisfied: pillow>6.0.0 in /Users/gaelsautron/miniconda3/envs/animated_drawings/lib/python3.8/site-packages (from fastai>=2.6->fastbook) (9.5.0)\n",
      "Requirement already satisfied: spacy<4 in /Users/gaelsautron/miniconda3/envs/animated_drawings/lib/python3.8/site-packages (from fastai>=2.6->fastbook) (3.5.2)\n",
      "Requirement already satisfied: torch<2.1,>=1.7 in /Users/gaelsautron/miniconda3/envs/animated_drawings/lib/python3.8/site-packages (from fastai>=2.6->fastbook) (2.0.0)\n",
      "Requirement already satisfied: fastprogress>=0.2.4 in /Users/gaelsautron/miniconda3/envs/animated_drawings/lib/python3.8/site-packages (from fastai>=2.6->fastbook) (1.0.3)\n",
      "Requirement already satisfied: scipy in /Users/gaelsautron/miniconda3/envs/animated_drawings/lib/python3.8/site-packages (from fastai>=2.6->fastbook) (1.10.1)\n",
      "Requirement already satisfied: matplotlib in /Users/gaelsautron/miniconda3/envs/animated_drawings/lib/python3.8/site-packages (from fastai>=2.6->fastbook) (3.7.1)\n",
      "Requirement already satisfied: ipykernel>=4.5.1 in /Users/gaelsautron/miniconda3/envs/animated_drawings/lib/python3.8/site-packages (from ipywidgets<8->fastbook) (6.15.0)\n",
      "Requirement already satisfied: widgetsnbextension~=3.6.4 in /Users/gaelsautron/miniconda3/envs/animated_drawings/lib/python3.8/site-packages (from ipywidgets<8->fastbook) (3.6.4)\n",
      "Requirement already satisfied: jupyterlab-widgets<3,>=1.0.0 in /Users/gaelsautron/miniconda3/envs/animated_drawings/lib/python3.8/site-packages (from ipywidgets<8->fastbook) (1.1.4)\n",
      "Requirement already satisfied: ipython>=4.0.0 in /Users/gaelsautron/miniconda3/envs/animated_drawings/lib/python3.8/site-packages (from ipywidgets<8->fastbook) (8.12.0)\n",
      "Requirement already satisfied: ipython-genutils~=0.2.0 in /Users/gaelsautron/miniconda3/envs/animated_drawings/lib/python3.8/site-packages (from ipywidgets<8->fastbook) (0.2.0)\n",
      "Requirement already satisfied: traitlets>=4.3.1 in /Users/gaelsautron/miniconda3/envs/animated_drawings/lib/python3.8/site-packages (from ipywidgets<8->fastbook) (5.9.0)\n",
      "Requirement already satisfied: huggingface-hub<1.0.0,>=0.11.0 in /Users/gaelsautron/miniconda3/envs/animated_drawings/lib/python3.8/site-packages (from datasets->fastbook) (0.14.1)\n",
      "Requirement already satisfied: dill<0.3.7,>=0.3.0 in /Users/gaelsautron/miniconda3/envs/animated_drawings/lib/python3.8/site-packages (from datasets->fastbook) (0.3.6)\n",
      "Requirement already satisfied: xxhash in /Users/gaelsautron/miniconda3/envs/animated_drawings/lib/python3.8/site-packages (from datasets->fastbook) (3.2.0)\n",
      "Requirement already satisfied: responses<0.19 in /Users/gaelsautron/miniconda3/envs/animated_drawings/lib/python3.8/site-packages (from datasets->fastbook) (0.18.0)\n",
      "Requirement already satisfied: multiprocess in /Users/gaelsautron/miniconda3/envs/animated_drawings/lib/python3.8/site-packages (from datasets->fastbook) (0.70.14)\n",
      "Requirement already satisfied: fsspec[http]>=2021.11.1 in /Users/gaelsautron/miniconda3/envs/animated_drawings/lib/python3.8/site-packages (from datasets->fastbook) (2023.4.0)\n",
      "Requirement already satisfied: pyarrow>=8.0.0 in /Users/gaelsautron/miniconda3/envs/animated_drawings/lib/python3.8/site-packages (from datasets->fastbook) (12.0.0)\n",
      "Requirement already satisfied: aiohttp in /Users/gaelsautron/miniconda3/envs/animated_drawings/lib/python3.8/site-packages (from datasets->fastbook) (3.8.4)\n",
      "Requirement already satisfied: tqdm>=4.62.1 in /Users/gaelsautron/miniconda3/envs/animated_drawings/lib/python3.8/site-packages (from datasets->fastbook) (4.65.0)\n",
      "Requirement already satisfied: numpy>=1.17 in /Users/gaelsautron/miniconda3/envs/animated_drawings/lib/python3.8/site-packages (from datasets->fastbook) (1.24.3)\n",
      "Requirement already satisfied: charset-normalizer<4,>=2 in /Users/gaelsautron/miniconda3/envs/animated_drawings/lib/python3.8/site-packages (from requests->fastbook) (3.1.0)\n",
      "Requirement already satisfied: urllib3<3,>=1.21.1 in /Users/gaelsautron/miniconda3/envs/animated_drawings/lib/python3.8/site-packages (from requests->fastbook) (2.0.2)\n",
      "Requirement already satisfied: idna<4,>=2.5 in /Users/gaelsautron/miniconda3/envs/animated_drawings/lib/python3.8/site-packages (from requests->fastbook) (3.4)\n",
      "Requirement already satisfied: certifi>=2017.4.17 in /Users/gaelsautron/miniconda3/envs/animated_drawings/lib/python3.8/site-packages (from requests->fastbook) (2023.5.7)\n",
      "Requirement already satisfied: python-dateutil>=2.8.2 in /Users/gaelsautron/miniconda3/envs/animated_drawings/lib/python3.8/site-packages (from pandas->fastbook) (2.8.2)\n",
      "Requirement already satisfied: pytz>=2020.1 in /Users/gaelsautron/miniconda3/envs/animated_drawings/lib/python3.8/site-packages (from pandas->fastbook) (2023.3)\n",
      "Requirement already satisfied: tzdata>=2022.1 in /Users/gaelsautron/miniconda3/envs/animated_drawings/lib/python3.8/site-packages (from pandas->fastbook) (2023.3)\n",
      "Requirement already satisfied: filelock in /Users/gaelsautron/miniconda3/envs/animated_drawings/lib/python3.8/site-packages (from transformers->fastbook) (3.12.0)\n",
      "Requirement already satisfied: tokenizers!=0.11.3,<0.14,>=0.11.1 in /Users/gaelsautron/miniconda3/envs/animated_drawings/lib/python3.8/site-packages (from transformers->fastbook) (0.13.3)\n",
      "Requirement already satisfied: regex!=2019.12.17 in /Users/gaelsautron/miniconda3/envs/animated_drawings/lib/python3.8/site-packages (from transformers->fastbook) (2023.5.5)\n",
      "Requirement already satisfied: frozenlist>=1.1.1 in /Users/gaelsautron/miniconda3/envs/animated_drawings/lib/python3.8/site-packages (from aiohttp->datasets->fastbook) (1.3.3)\n",
      "Requirement already satisfied: async-timeout<5.0,>=4.0.0a3 in /Users/gaelsautron/miniconda3/envs/animated_drawings/lib/python3.8/site-packages (from aiohttp->datasets->fastbook) (4.0.2)\n",
      "Requirement already satisfied: yarl<2.0,>=1.0 in /Users/gaelsautron/miniconda3/envs/animated_drawings/lib/python3.8/site-packages (from aiohttp->datasets->fastbook) (1.9.2)\n",
      "Requirement already satisfied: aiosignal>=1.1.2 in /Users/gaelsautron/miniconda3/envs/animated_drawings/lib/python3.8/site-packages (from aiohttp->datasets->fastbook) (1.3.1)\n",
      "Requirement already satisfied: multidict<7.0,>=4.5 in /Users/gaelsautron/miniconda3/envs/animated_drawings/lib/python3.8/site-packages (from aiohttp->datasets->fastbook) (6.0.4)\n",
      "Requirement already satisfied: attrs>=17.3.0 in /Users/gaelsautron/miniconda3/envs/animated_drawings/lib/python3.8/site-packages (from aiohttp->datasets->fastbook) (23.1.0)\n",
      "Requirement already satisfied: typing-extensions>=3.7.4.3 in /Users/gaelsautron/miniconda3/envs/animated_drawings/lib/python3.8/site-packages (from huggingface-hub<1.0.0,>=0.11.0->datasets->fastbook) (4.5.0)\n",
      "Requirement already satisfied: jupyter-client>=6.1.12 in /Users/gaelsautron/miniconda3/envs/animated_drawings/lib/python3.8/site-packages (from ipykernel>=4.5.1->ipywidgets<8->fastbook) (8.2.0)\n",
      "Requirement already satisfied: nest-asyncio in /Users/gaelsautron/miniconda3/envs/animated_drawings/lib/python3.8/site-packages (from ipykernel>=4.5.1->ipywidgets<8->fastbook) (1.5.6)\n",
      "Requirement already satisfied: appnope in /Users/gaelsautron/miniconda3/envs/animated_drawings/lib/python3.8/site-packages (from ipykernel>=4.5.1->ipywidgets<8->fastbook) (0.1.3)\n",
      "Requirement already satisfied: psutil in /Users/gaelsautron/miniconda3/envs/animated_drawings/lib/python3.8/site-packages (from ipykernel>=4.5.1->ipywidgets<8->fastbook) (5.9.0)\n",
      "Requirement already satisfied: tornado>=6.1 in /Users/gaelsautron/miniconda3/envs/animated_drawings/lib/python3.8/site-packages (from ipykernel>=4.5.1->ipywidgets<8->fastbook) (6.3.1)\n",
      "Requirement already satisfied: pyzmq>=17 in /Users/gaelsautron/miniconda3/envs/animated_drawings/lib/python3.8/site-packages (from ipykernel>=4.5.1->ipywidgets<8->fastbook) (25.0.2)\n",
      "Requirement already satisfied: matplotlib-inline>=0.1 in /Users/gaelsautron/miniconda3/envs/animated_drawings/lib/python3.8/site-packages (from ipykernel>=4.5.1->ipywidgets<8->fastbook) (0.1.6)\n",
      "Requirement already satisfied: debugpy>=1.0 in /Users/gaelsautron/miniconda3/envs/animated_drawings/lib/python3.8/site-packages (from ipykernel>=4.5.1->ipywidgets<8->fastbook) (1.5.1)\n",
      "Requirement already satisfied: pexpect>4.3 in /Users/gaelsautron/miniconda3/envs/animated_drawings/lib/python3.8/site-packages (from ipython>=4.0.0->ipywidgets<8->fastbook) (4.8.0)\n",
      "Requirement already satisfied: jedi>=0.16 in /Users/gaelsautron/miniconda3/envs/animated_drawings/lib/python3.8/site-packages (from ipython>=4.0.0->ipywidgets<8->fastbook) (0.18.2)\n",
      "Requirement already satisfied: pickleshare in /Users/gaelsautron/miniconda3/envs/animated_drawings/lib/python3.8/site-packages (from ipython>=4.0.0->ipywidgets<8->fastbook) (0.7.5)\n",
      "Requirement already satisfied: backcall in /Users/gaelsautron/miniconda3/envs/animated_drawings/lib/python3.8/site-packages (from ipython>=4.0.0->ipywidgets<8->fastbook) (0.2.0)\n",
      "Requirement already satisfied: decorator in /Users/gaelsautron/miniconda3/envs/animated_drawings/lib/python3.8/site-packages (from ipython>=4.0.0->ipywidgets<8->fastbook) (5.1.1)\n",
      "Requirement already satisfied: pygments>=2.4.0 in /Users/gaelsautron/miniconda3/envs/animated_drawings/lib/python3.8/site-packages (from ipython>=4.0.0->ipywidgets<8->fastbook) (2.15.1)\n",
      "Requirement already satisfied: stack-data in /Users/gaelsautron/miniconda3/envs/animated_drawings/lib/python3.8/site-packages (from ipython>=4.0.0->ipywidgets<8->fastbook) (0.6.2)\n",
      "Requirement already satisfied: prompt-toolkit!=3.0.37,<3.1.0,>=3.0.30 in /Users/gaelsautron/miniconda3/envs/animated_drawings/lib/python3.8/site-packages (from ipython>=4.0.0->ipywidgets<8->fastbook) (3.0.38)\n",
      "Requirement already satisfied: six>=1.5 in /Users/gaelsautron/miniconda3/envs/animated_drawings/lib/python3.8/site-packages (from python-dateutil>=2.8.2->pandas->fastbook) (1.16.0)\n",
      "Requirement already satisfied: wasabi<1.2.0,>=0.9.1 in /Users/gaelsautron/miniconda3/envs/animated_drawings/lib/python3.8/site-packages (from spacy<4->fastai>=2.6->fastbook) (1.1.1)\n",
      "Requirement already satisfied: langcodes<4.0.0,>=3.2.0 in /Users/gaelsautron/miniconda3/envs/animated_drawings/lib/python3.8/site-packages (from spacy<4->fastai>=2.6->fastbook) (3.3.0)\n",
      "Requirement already satisfied: pydantic!=1.8,!=1.8.1,<1.11.0,>=1.7.4 in /Users/gaelsautron/miniconda3/envs/animated_drawings/lib/python3.8/site-packages (from spacy<4->fastai>=2.6->fastbook) (1.10.7)\n",
      "Requirement already satisfied: smart-open<7.0.0,>=5.2.1 in /Users/gaelsautron/miniconda3/envs/animated_drawings/lib/python3.8/site-packages (from spacy<4->fastai>=2.6->fastbook) (6.3.0)\n",
      "Requirement already satisfied: spacy-legacy<3.1.0,>=3.0.11 in /Users/gaelsautron/miniconda3/envs/animated_drawings/lib/python3.8/site-packages (from spacy<4->fastai>=2.6->fastbook) (3.0.12)\n",
      "Requirement already satisfied: setuptools in /Users/gaelsautron/miniconda3/envs/animated_drawings/lib/python3.8/site-packages (from spacy<4->fastai>=2.6->fastbook) (66.0.0)\n",
      "Requirement already satisfied: murmurhash<1.1.0,>=0.28.0 in /Users/gaelsautron/miniconda3/envs/animated_drawings/lib/python3.8/site-packages (from spacy<4->fastai>=2.6->fastbook) (1.0.9)\n",
      "Requirement already satisfied: pathy>=0.10.0 in /Users/gaelsautron/miniconda3/envs/animated_drawings/lib/python3.8/site-packages (from spacy<4->fastai>=2.6->fastbook) (0.10.1)\n",
      "Requirement already satisfied: srsly<3.0.0,>=2.4.3 in /Users/gaelsautron/miniconda3/envs/animated_drawings/lib/python3.8/site-packages (from spacy<4->fastai>=2.6->fastbook) (2.4.6)\n",
      "Requirement already satisfied: typer<0.8.0,>=0.3.0 in /Users/gaelsautron/miniconda3/envs/animated_drawings/lib/python3.8/site-packages (from spacy<4->fastai>=2.6->fastbook) (0.7.0)\n",
      "Requirement already satisfied: preshed<3.1.0,>=3.0.2 in /Users/gaelsautron/miniconda3/envs/animated_drawings/lib/python3.8/site-packages (from spacy<4->fastai>=2.6->fastbook) (3.0.8)\n",
      "Requirement already satisfied: spacy-loggers<2.0.0,>=1.0.0 in /Users/gaelsautron/miniconda3/envs/animated_drawings/lib/python3.8/site-packages (from spacy<4->fastai>=2.6->fastbook) (1.0.4)\n",
      "Requirement already satisfied: jinja2 in /Users/gaelsautron/miniconda3/envs/animated_drawings/lib/python3.8/site-packages (from spacy<4->fastai>=2.6->fastbook) (3.1.2)\n",
      "Requirement already satisfied: cymem<2.1.0,>=2.0.2 in /Users/gaelsautron/miniconda3/envs/animated_drawings/lib/python3.8/site-packages (from spacy<4->fastai>=2.6->fastbook) (2.0.7)\n",
      "Requirement already satisfied: thinc<8.2.0,>=8.1.8 in /Users/gaelsautron/miniconda3/envs/animated_drawings/lib/python3.8/site-packages (from spacy<4->fastai>=2.6->fastbook) (8.1.10)\n",
      "Requirement already satisfied: catalogue<2.1.0,>=2.0.6 in /Users/gaelsautron/miniconda3/envs/animated_drawings/lib/python3.8/site-packages (from spacy<4->fastai>=2.6->fastbook) (2.0.8)\n",
      "Requirement already satisfied: networkx in /Users/gaelsautron/miniconda3/envs/animated_drawings/lib/python3.8/site-packages (from torch<2.1,>=1.7->fastai>=2.6->fastbook) (3.1)\n",
      "Requirement already satisfied: sympy in /Users/gaelsautron/miniconda3/envs/animated_drawings/lib/python3.8/site-packages (from torch<2.1,>=1.7->fastai>=2.6->fastbook) (1.11.1)\n",
      "Requirement already satisfied: notebook>=4.4.1 in /Users/gaelsautron/miniconda3/envs/animated_drawings/lib/python3.8/site-packages (from widgetsnbextension~=3.6.4->ipywidgets<8->fastbook) (6.5.4)\n",
      "Requirement already satisfied: cycler>=0.10 in /Users/gaelsautron/miniconda3/envs/animated_drawings/lib/python3.8/site-packages (from matplotlib->fastai>=2.6->fastbook) (0.11.0)\n",
      "Requirement already satisfied: fonttools>=4.22.0 in /Users/gaelsautron/miniconda3/envs/animated_drawings/lib/python3.8/site-packages (from matplotlib->fastai>=2.6->fastbook) (4.39.3)\n",
      "Requirement already satisfied: pyparsing>=2.3.1 in /Users/gaelsautron/miniconda3/envs/animated_drawings/lib/python3.8/site-packages (from matplotlib->fastai>=2.6->fastbook) (3.0.9)\n",
      "Requirement already satisfied: kiwisolver>=1.0.1 in /Users/gaelsautron/miniconda3/envs/animated_drawings/lib/python3.8/site-packages (from matplotlib->fastai>=2.6->fastbook) (1.4.4)\n",
      "Requirement already satisfied: importlib-resources>=3.2.0 in /Users/gaelsautron/miniconda3/envs/animated_drawings/lib/python3.8/site-packages (from matplotlib->fastai>=2.6->fastbook) (5.12.0)\n",
      "Requirement already satisfied: contourpy>=1.0.1 in /Users/gaelsautron/miniconda3/envs/animated_drawings/lib/python3.8/site-packages (from matplotlib->fastai>=2.6->fastbook) (1.0.7)\n",
      "Requirement already satisfied: threadpoolctl>=2.0.0 in /Users/gaelsautron/miniconda3/envs/animated_drawings/lib/python3.8/site-packages (from scikit-learn->fastai>=2.6->fastbook) (3.1.0)\n",
      "Requirement already satisfied: joblib>=1.1.1 in /Users/gaelsautron/miniconda3/envs/animated_drawings/lib/python3.8/site-packages (from scikit-learn->fastai>=2.6->fastbook) (1.2.0)\n",
      "Requirement already satisfied: zipp>=3.1.0 in /Users/gaelsautron/miniconda3/envs/animated_drawings/lib/python3.8/site-packages (from importlib-resources>=3.2.0->matplotlib->fastai>=2.6->fastbook) (3.15.0)\n",
      "Requirement already satisfied: parso<0.9.0,>=0.8.0 in /Users/gaelsautron/miniconda3/envs/animated_drawings/lib/python3.8/site-packages (from jedi>=0.16->ipython>=4.0.0->ipywidgets<8->fastbook) (0.8.3)\n",
      "Requirement already satisfied: importlib-metadata>=4.8.3 in /Users/gaelsautron/miniconda3/envs/animated_drawings/lib/python3.8/site-packages (from jupyter-client>=6.1.12->ipykernel>=4.5.1->ipywidgets<8->fastbook) (6.6.0)\n",
      "Requirement already satisfied: jupyter-core!=5.0.*,>=4.12 in /Users/gaelsautron/miniconda3/envs/animated_drawings/lib/python3.8/site-packages (from jupyter-client>=6.1.12->ipykernel>=4.5.1->ipywidgets<8->fastbook) (5.3.0)\n",
      "Requirement already satisfied: terminado>=0.8.3 in /Users/gaelsautron/miniconda3/envs/animated_drawings/lib/python3.8/site-packages (from notebook>=4.4.1->widgetsnbextension~=3.6.4->ipywidgets<8->fastbook) (0.17.1)\n",
      "Requirement already satisfied: argon2-cffi in /Users/gaelsautron/miniconda3/envs/animated_drawings/lib/python3.8/site-packages (from notebook>=4.4.1->widgetsnbextension~=3.6.4->ipywidgets<8->fastbook) (21.3.0)\n",
      "Requirement already satisfied: nbconvert>=5 in /Users/gaelsautron/miniconda3/envs/animated_drawings/lib/python3.8/site-packages (from notebook>=4.4.1->widgetsnbextension~=3.6.4->ipywidgets<8->fastbook) (7.3.1)\n",
      "Requirement already satisfied: prometheus-client in /Users/gaelsautron/miniconda3/envs/animated_drawings/lib/python3.8/site-packages (from notebook>=4.4.1->widgetsnbextension~=3.6.4->ipywidgets<8->fastbook) (0.16.0)\n",
      "Requirement already satisfied: nbformat in /Users/gaelsautron/miniconda3/envs/animated_drawings/lib/python3.8/site-packages (from notebook>=4.4.1->widgetsnbextension~=3.6.4->ipywidgets<8->fastbook) (5.8.0)\n",
      "Requirement already satisfied: Send2Trash>=1.8.0 in /Users/gaelsautron/miniconda3/envs/animated_drawings/lib/python3.8/site-packages (from notebook>=4.4.1->widgetsnbextension~=3.6.4->ipywidgets<8->fastbook) (1.8.2)\n",
      "Requirement already satisfied: nbclassic>=0.4.7 in /Users/gaelsautron/miniconda3/envs/animated_drawings/lib/python3.8/site-packages (from notebook>=4.4.1->widgetsnbextension~=3.6.4->ipywidgets<8->fastbook) (1.0.0)\n",
      "Requirement already satisfied: ptyprocess>=0.5 in /Users/gaelsautron/miniconda3/envs/animated_drawings/lib/python3.8/site-packages (from pexpect>4.3->ipython>=4.0.0->ipywidgets<8->fastbook) (0.7.0)\n",
      "Requirement already satisfied: wcwidth in /Users/gaelsautron/miniconda3/envs/animated_drawings/lib/python3.8/site-packages (from prompt-toolkit!=3.0.37,<3.1.0,>=3.0.30->ipython>=4.0.0->ipywidgets<8->fastbook) (0.2.6)\n",
      "Requirement already satisfied: blis<0.8.0,>=0.7.8 in /Users/gaelsautron/miniconda3/envs/animated_drawings/lib/python3.8/site-packages (from thinc<8.2.0,>=8.1.8->spacy<4->fastai>=2.6->fastbook) (0.7.9)\n",
      "Requirement already satisfied: confection<1.0.0,>=0.0.1 in /Users/gaelsautron/miniconda3/envs/animated_drawings/lib/python3.8/site-packages (from thinc<8.2.0,>=8.1.8->spacy<4->fastai>=2.6->fastbook) (0.0.4)\n",
      "Requirement already satisfied: click<9.0.0,>=7.1.1 in /Users/gaelsautron/miniconda3/envs/animated_drawings/lib/python3.8/site-packages (from typer<0.8.0,>=0.3.0->spacy<4->fastai>=2.6->fastbook) (8.1.3)\n",
      "Requirement already satisfied: MarkupSafe>=2.0 in /Users/gaelsautron/miniconda3/envs/animated_drawings/lib/python3.8/site-packages (from jinja2->spacy<4->fastai>=2.6->fastbook) (2.1.2)\n",
      "Requirement already satisfied: pure-eval in /Users/gaelsautron/miniconda3/envs/animated_drawings/lib/python3.8/site-packages (from stack-data->ipython>=4.0.0->ipywidgets<8->fastbook) (0.2.2)\n",
      "Requirement already satisfied: executing>=1.2.0 in /Users/gaelsautron/miniconda3/envs/animated_drawings/lib/python3.8/site-packages (from stack-data->ipython>=4.0.0->ipywidgets<8->fastbook) (1.2.0)\n",
      "Requirement already satisfied: asttokens>=2.1.0 in /Users/gaelsautron/miniconda3/envs/animated_drawings/lib/python3.8/site-packages (from stack-data->ipython>=4.0.0->ipywidgets<8->fastbook) (2.2.1)\n",
      "Requirement already satisfied: mpmath>=0.19 in /Users/gaelsautron/miniconda3/envs/animated_drawings/lib/python3.8/site-packages (from sympy->torch<2.1,>=1.7->fastai>=2.6->fastbook) (1.3.0)\n",
      "Requirement already satisfied: platformdirs>=2.5 in /Users/gaelsautron/miniconda3/envs/animated_drawings/lib/python3.8/site-packages (from jupyter-core!=5.0.*,>=4.12->jupyter-client>=6.1.12->ipykernel>=4.5.1->ipywidgets<8->fastbook) (3.5.0)\n",
      "Requirement already satisfied: notebook-shim>=0.2.3 in /Users/gaelsautron/miniconda3/envs/animated_drawings/lib/python3.8/site-packages (from nbclassic>=0.4.7->notebook>=4.4.1->widgetsnbextension~=3.6.4->ipywidgets<8->fastbook) (0.2.3)\n",
      "Requirement already satisfied: jupyter-server>=1.8 in /Users/gaelsautron/miniconda3/envs/animated_drawings/lib/python3.8/site-packages (from nbclassic>=0.4.7->notebook>=4.4.1->widgetsnbextension~=3.6.4->ipywidgets<8->fastbook) (2.5.0)\n",
      "Requirement already satisfied: tinycss2 in /Users/gaelsautron/miniconda3/envs/animated_drawings/lib/python3.8/site-packages (from nbconvert>=5->notebook>=4.4.1->widgetsnbextension~=3.6.4->ipywidgets<8->fastbook) (1.2.1)\n",
      "Requirement already satisfied: mistune<3,>=2.0.3 in /Users/gaelsautron/miniconda3/envs/animated_drawings/lib/python3.8/site-packages (from nbconvert>=5->notebook>=4.4.1->widgetsnbextension~=3.6.4->ipywidgets<8->fastbook) (2.0.5)\n",
      "Requirement already satisfied: defusedxml in /Users/gaelsautron/miniconda3/envs/animated_drawings/lib/python3.8/site-packages (from nbconvert>=5->notebook>=4.4.1->widgetsnbextension~=3.6.4->ipywidgets<8->fastbook) (0.7.1)\n",
      "Requirement already satisfied: nbclient>=0.5.0 in /Users/gaelsautron/miniconda3/envs/animated_drawings/lib/python3.8/site-packages (from nbconvert>=5->notebook>=4.4.1->widgetsnbextension~=3.6.4->ipywidgets<8->fastbook) (0.7.4)\n",
      "Requirement already satisfied: bleach in /Users/gaelsautron/miniconda3/envs/animated_drawings/lib/python3.8/site-packages (from nbconvert>=5->notebook>=4.4.1->widgetsnbextension~=3.6.4->ipywidgets<8->fastbook) (6.0.0)\n",
      "Requirement already satisfied: beautifulsoup4 in /Users/gaelsautron/miniconda3/envs/animated_drawings/lib/python3.8/site-packages (from nbconvert>=5->notebook>=4.4.1->widgetsnbextension~=3.6.4->ipywidgets<8->fastbook) (4.12.2)\n",
      "Requirement already satisfied: pandocfilters>=1.4.1 in /Users/gaelsautron/miniconda3/envs/animated_drawings/lib/python3.8/site-packages (from nbconvert>=5->notebook>=4.4.1->widgetsnbextension~=3.6.4->ipywidgets<8->fastbook) (1.5.0)\n",
      "Requirement already satisfied: jupyterlab-pygments in /Users/gaelsautron/miniconda3/envs/animated_drawings/lib/python3.8/site-packages (from nbconvert>=5->notebook>=4.4.1->widgetsnbextension~=3.6.4->ipywidgets<8->fastbook) (0.2.2)\n",
      "Requirement already satisfied: jsonschema>=2.6 in /Users/gaelsautron/miniconda3/envs/animated_drawings/lib/python3.8/site-packages (from nbformat->notebook>=4.4.1->widgetsnbextension~=3.6.4->ipywidgets<8->fastbook) (4.17.3)\n",
      "Requirement already satisfied: fastjsonschema in /Users/gaelsautron/miniconda3/envs/animated_drawings/lib/python3.8/site-packages (from nbformat->notebook>=4.4.1->widgetsnbextension~=3.6.4->ipywidgets<8->fastbook) (2.16.3)\n",
      "Requirement already satisfied: argon2-cffi-bindings in /Users/gaelsautron/miniconda3/envs/animated_drawings/lib/python3.8/site-packages (from argon2-cffi->notebook>=4.4.1->widgetsnbextension~=3.6.4->ipywidgets<8->fastbook) (21.2.0)\n",
      "Requirement already satisfied: pyrsistent!=0.17.0,!=0.17.1,!=0.17.2,>=0.14.0 in /Users/gaelsautron/miniconda3/envs/animated_drawings/lib/python3.8/site-packages (from jsonschema>=2.6->nbformat->notebook>=4.4.1->widgetsnbextension~=3.6.4->ipywidgets<8->fastbook) (0.19.3)\n",
      "Requirement already satisfied: pkgutil-resolve-name>=1.3.10 in /Users/gaelsautron/miniconda3/envs/animated_drawings/lib/python3.8/site-packages (from jsonschema>=2.6->nbformat->notebook>=4.4.1->widgetsnbextension~=3.6.4->ipywidgets<8->fastbook) (1.3.10)\n",
      "Requirement already satisfied: anyio>=3.1.0 in /Users/gaelsautron/miniconda3/envs/animated_drawings/lib/python3.8/site-packages (from jupyter-server>=1.8->nbclassic>=0.4.7->notebook>=4.4.1->widgetsnbextension~=3.6.4->ipywidgets<8->fastbook) (3.6.2)\n",
      "Requirement already satisfied: websocket-client in /Users/gaelsautron/miniconda3/envs/animated_drawings/lib/python3.8/site-packages (from jupyter-server>=1.8->nbclassic>=0.4.7->notebook>=4.4.1->widgetsnbextension~=3.6.4->ipywidgets<8->fastbook) (1.5.1)\n",
      "Requirement already satisfied: jupyter-events>=0.4.0 in /Users/gaelsautron/miniconda3/envs/animated_drawings/lib/python3.8/site-packages (from jupyter-server>=1.8->nbclassic>=0.4.7->notebook>=4.4.1->widgetsnbextension~=3.6.4->ipywidgets<8->fastbook) (0.6.3)\n",
      "Requirement already satisfied: jupyter-server-terminals in /Users/gaelsautron/miniconda3/envs/animated_drawings/lib/python3.8/site-packages (from jupyter-server>=1.8->nbclassic>=0.4.7->notebook>=4.4.1->widgetsnbextension~=3.6.4->ipywidgets<8->fastbook) (0.4.4)\n",
      "Requirement already satisfied: cffi>=1.0.1 in /Users/gaelsautron/miniconda3/envs/animated_drawings/lib/python3.8/site-packages (from argon2-cffi-bindings->argon2-cffi->notebook>=4.4.1->widgetsnbextension~=3.6.4->ipywidgets<8->fastbook) (1.15.1)\n",
      "Requirement already satisfied: soupsieve>1.2 in /Users/gaelsautron/miniconda3/envs/animated_drawings/lib/python3.8/site-packages (from beautifulsoup4->nbconvert>=5->notebook>=4.4.1->widgetsnbextension~=3.6.4->ipywidgets<8->fastbook) (2.4.1)\n",
      "Requirement already satisfied: webencodings in /Users/gaelsautron/miniconda3/envs/animated_drawings/lib/python3.8/site-packages (from bleach->nbconvert>=5->notebook>=4.4.1->widgetsnbextension~=3.6.4->ipywidgets<8->fastbook) (0.5.1)\n",
      "Requirement already satisfied: sniffio>=1.1 in /Users/gaelsautron/miniconda3/envs/animated_drawings/lib/python3.8/site-packages (from anyio>=3.1.0->jupyter-server>=1.8->nbclassic>=0.4.7->notebook>=4.4.1->widgetsnbextension~=3.6.4->ipywidgets<8->fastbook) (1.3.0)\n",
      "Requirement already satisfied: pycparser in /Users/gaelsautron/miniconda3/envs/animated_drawings/lib/python3.8/site-packages (from cffi>=1.0.1->argon2-cffi-bindings->argon2-cffi->notebook>=4.4.1->widgetsnbextension~=3.6.4->ipywidgets<8->fastbook) (2.21)\n",
      "Requirement already satisfied: python-json-logger>=2.0.4 in /Users/gaelsautron/miniconda3/envs/animated_drawings/lib/python3.8/site-packages (from jupyter-events>=0.4.0->jupyter-server>=1.8->nbclassic>=0.4.7->notebook>=4.4.1->widgetsnbextension~=3.6.4->ipywidgets<8->fastbook) (2.0.7)\n",
      "Requirement already satisfied: rfc3986-validator>=0.1.1 in /Users/gaelsautron/miniconda3/envs/animated_drawings/lib/python3.8/site-packages (from jupyter-events>=0.4.0->jupyter-server>=1.8->nbclassic>=0.4.7->notebook>=4.4.1->widgetsnbextension~=3.6.4->ipywidgets<8->fastbook) (0.1.1)\n",
      "Requirement already satisfied: rfc3339-validator in /Users/gaelsautron/miniconda3/envs/animated_drawings/lib/python3.8/site-packages (from jupyter-events>=0.4.0->jupyter-server>=1.8->nbclassic>=0.4.7->notebook>=4.4.1->widgetsnbextension~=3.6.4->ipywidgets<8->fastbook) (0.1.4)\n",
      "Requirement already satisfied: fqdn in /Users/gaelsautron/miniconda3/envs/animated_drawings/lib/python3.8/site-packages (from jsonschema>=2.6->nbformat->notebook>=4.4.1->widgetsnbextension~=3.6.4->ipywidgets<8->fastbook) (1.5.1)\n",
      "Requirement already satisfied: isoduration in /Users/gaelsautron/miniconda3/envs/animated_drawings/lib/python3.8/site-packages (from jsonschema>=2.6->nbformat->notebook>=4.4.1->widgetsnbextension~=3.6.4->ipywidgets<8->fastbook) (20.11.0)\n",
      "Requirement already satisfied: jsonpointer>1.13 in /Users/gaelsautron/miniconda3/envs/animated_drawings/lib/python3.8/site-packages (from jsonschema>=2.6->nbformat->notebook>=4.4.1->widgetsnbextension~=3.6.4->ipywidgets<8->fastbook) (2.3)\n",
      "Requirement already satisfied: uri-template in /Users/gaelsautron/miniconda3/envs/animated_drawings/lib/python3.8/site-packages (from jsonschema>=2.6->nbformat->notebook>=4.4.1->widgetsnbextension~=3.6.4->ipywidgets<8->fastbook) (1.2.0)\n",
      "Requirement already satisfied: webcolors>=1.11 in /Users/gaelsautron/miniconda3/envs/animated_drawings/lib/python3.8/site-packages (from jsonschema>=2.6->nbformat->notebook>=4.4.1->widgetsnbextension~=3.6.4->ipywidgets<8->fastbook) (1.13)\n",
      "Requirement already satisfied: arrow>=0.15.0 in /Users/gaelsautron/miniconda3/envs/animated_drawings/lib/python3.8/site-packages (from isoduration->jsonschema>=2.6->nbformat->notebook>=4.4.1->widgetsnbextension~=3.6.4->ipywidgets<8->fastbook) (1.2.3)\n",
      "Note: you may need to restart the kernel to use updated packages.\n"
     ]
    }
   ],
   "source": [
    "%pip install fastbook"
   ]
  },
  {
   "cell_type": "code",
   "execution_count": 2,
   "metadata": {},
   "outputs": [],
   "source": [
    "import fastbook\n",
    "import torch\n",
    "from fastai.vision.all import *\n",
    "from fastbook import *\n",
    "import numpy as np\n",
    "import numpy.random as nprnd\n",
    "\n",
    "fastbook.setup_book()\n",
    "\n"
   ]
  },
  {
   "cell_type": "code",
   "execution_count": 3,
   "metadata": {},
   "outputs": [
    {
     "name": "stdout",
     "output_type": "stream",
     "text": [
      "10.75\n",
      "10.75\n"
     ]
    },
    {
     "data": {
      "text/plain": [
       "<matplotlib.collections.PathCollection at 0x295961e20>"
      ]
     },
     "execution_count": 3,
     "metadata": {},
     "output_type": "execute_result"
    },
    {
     "data": {
      "image/png": "[encoded data removed]",
      "text/plain": [
       "<Figure size 640x480 with 1 Axes>"
      ]
     },
     "metadata": {},
     "output_type": "display_data"
    }
   ],
   "source": [
    "def quad(a,b,c,x): return a*x**2 + b*x + c\n",
    "r = quad(3,2,1,1.5)\n",
    "print(r)\n",
    "\n",
    "def make_quad(a,b,c): return lambda x: a*x**2 + b*x + c\n",
    "q = make_quad(3,2,1)\n",
    "print(q(1.5))\n",
    "np.random.seed(42)\n",
    "def noise(x,scale):  return nprnd.normal(scale=scale,size=x.shape) \n",
    "def add_noise(x,mult,add): return x + mult*noise(x,add)\n",
    "\n",
    "x = torch.linspace(-2,2,steps=20)[:,None]\n",
    "y = add_noise(q(x),0.3,1.5)\n",
    "plt.scatter(x,y)\n"
   ]
  },
  {
   "cell_type": "code",
   "execution_count": 35,
   "metadata": {},
   "outputs": [
    {
     "name": "stdout",
     "output_type": "stream",
     "text": [
      "Loss: 2.585228709805038\n",
      "Loss: 2.544165625566391\n"
     ]
    },
    {
     "data": {
      "application/vnd.jupyter.widget-view+json": {
       "model_id": "9b3b0e77286942f480b5fc24b4d93cb9",
       "version_major": 2,
       "version_minor": 0
      },
      "text/plain": [
       "interactive(children=(FloatSlider(value=1.5, description='m1', max=4.5, min=-1.5), FloatSlider(value=1.5, desc…"
      ]
     },
     "metadata": {},
     "output_type": "display_data"
    }
   ],
   "source": [
    "from ipywidgets import interact\n",
    "\"\"\" @interact(a=1.5,b=1.5,c=1.5) \"\"\"\n",
    "def plot_quad(a,b,c):\n",
    "    f = make_quad(a,b,c)\n",
    "    loss= mse(f(x),y)\n",
    "    plot_function(f,title=f'Loss: {loss}')\n",
    "    plt.scatter(x,y)\n",
    "\n",
    "def mse(preds,acts): return ((preds-acts)**2).mean().sqrt()\n",
    "def quad_mse(params):\n",
    "    f= make_quad(*params)\n",
    "    return mse(f(x),y)\n",
    "\n",
    "def rectified_linear(m,b,x):\n",
    "    y = m*x+b\n",
    "    return torch.clip(y,0,)\n",
    "def double_relu(m1,b1,m2,b2,x):\n",
    "    return rectified_linear(m1,b1,x) + rectified_linear(m2,b2,x)\n",
    "abc = torch.tensor((1.5,1.5,1.5),requires_grad=True)\n",
    "loss = quad_mse(abc)\n",
    "print(f'Loss: {loss}')\n",
    "loss.backward()\n",
    "\n",
    "abc.grad\n",
    "with torch.no_grad():\n",
    "    abc -= abc.grad * 0.01\n",
    "    loss = quad_mse(abc)\n",
    "\n",
    "print(f'Loss: {loss}')\n",
    "\n",
    "for i in range(20):\n",
    "    loss = quad_mse(abc)\n",
    "    loss.backward()\n",
    "    with torch.no_grad():\n",
    "        abc -= abc.grad * 0.01\n",
    "        abc.grad.zero_()\n",
    "    \"\"\" print(f'Loss: {loss}') \"\"\"\n",
    "@interact(m1=1.5,b1=1.5,m2=1.5,b2=1.5)\n",
    "def plot_rdouble_relu(m1,b1,m2,b2):\n",
    "    plot_function(partial(double_relu,m1,b1,m2,b2))"
   ]
  },
  {
   "cell_type": "code",
   "execution_count": 6,
   "metadata": {},
   "outputs": [
    {
     "name": "stdout",
     "output_type": "stream",
     "text": [
      "Downloading a new version of this dataset...\n"
     ]
    }
   ],
   "source": [
    "path = untar_data(URLs.PETS)\n",
    "pets = DataBlock(blocks=(ImageBlock, CategoryBlock),\n",
    "                 get_items=get_image_files,\n",
    "                 splitter=RandomSplitter(seed=42),\n",
    "                 get_y=using_attr(RegexLabeller(r'(.+)_\\d+.jpg$'), 'name'),\n",
    "                 item_tfms=RandomResizedCrop(460, min_scale=0.75),\n",
    "                 batch_tfms=[*aug_transforms(size=224, max_warp=0), Normalize.from_stats(*imagenet_stats)])"
   ]
  },
  {
   "cell_type": "code",
   "execution_count": null,
   "metadata": {},
   "outputs": [],
   "source": [
    "dls = pets.dataloaders(path/\"images\")\n",
    "learn = Learner(dls, resnet18, loss_func=CrossEntropyLossFlat(), metrics=accuracy)\n",
    "learn.model"
   ]
  }
 ],
 "metadata": {
  "kernelspec": {
   "display_name": "animated_drawings",
   "language": "python",
   "name": "python3"
  },
  "language_info": {
   "codemirror_mode": {
    "name": "ipython",
    "version": 3
   },
   "file_extension": ".py",
   "mimetype": "text/x-python",
   "name": "python",
   "nbconvert_exporter": "python",
   "pygments_lexer": "ipython3",
   "version": "3.8.13"
  },
  "orig_nbformat": 4
 },
 "nbformat": 4,
 "nbformat_minor": 2
}
