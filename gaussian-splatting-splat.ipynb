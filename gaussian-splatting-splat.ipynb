{
 "cells": [
  {
   "cell_type": "code",
   "execution_count": null,
   "metadata": {},
   "outputs": [],
   "source": [
    "!rm splat -rf\n",
    "!git clone https://github.com/antimatter15/splat\n"
   ]
  },
  {
   "cell_type": "code",
   "execution_count": null,
   "metadata": {},
   "outputs": [],
   "source": [
    "%cd /notebooks/splat"
   ]
  },
  {
   "cell_type": "code",
   "execution_count": null,
   "metadata": {},
   "outputs": [],
   "source": [
    "!wget https://github.com/cloudflare/cloudflared/releases/latest/download/cloudflared-linux-amd64.deb -O cloudflared-linux-amd64.deb\n",
    "!dpkg -i cloudflared-linux-amd64.deb"
   ]
  },
  {
   "cell_type": "code",
   "execution_count": null,
   "metadata": {},
   "outputs": [],
   "source": [
    "%pip install nest-asyncio"
   ]
  },
  {
   "cell_type": "code",
   "execution_count": null,
   "metadata": {},
   "outputs": [],
   "source": [
    "%autoawait True\n",
    "import nest_asyncio\n",
    "nest_asyncio.apply()\n",
    "import atexit, requests, subprocess, time, re, os\n",
    "from random import randint\n",
    "from threading import Thread\n",
    "from queue import Queue\n",
    "\n",
    "def cloudflared(port, metrics_port, output_queue):\n",
    "    atexit.register(lambda p: p.terminate(), subprocess.Popen(['cloudflared', 'tunnel', '--url', f'http://127.0.0.1:{port}', '--metrics', f'127.0.0.1:{metrics_port}'], stdout=subprocess.DEVNULL, stderr=subprocess.STDOUT))\n",
    "    attempts, tunnel_url = 0, None\n",
    "    while attempts < 10 and not tunnel_url:\n",
    "        attempts += 1\n",
    "        time.sleep(3)\n",
    "        try:\n",
    "            tunnel_url = re.search(\"(?P<url>https?:\\/\\/[^\\s]+.trycloudflare.com)\", requests.get(f'http://127.0.0.1:{metrics_port}/metrics').text).group(\"url\")\n",
    "        except:\n",
    "            pass\n",
    "    if not tunnel_url:\n",
    "        raise Exception(\"Can't connect to Cloudflare Edge\")\n",
    "    output_queue.put(tunnel_url)\n",
    "\n",
    "output_queue, metrics_port = Queue(), randint(8100, 9000)\n",
    "thread = Thread(target=cloudflared, args=(7861, metrics_port, output_queue))\n",
    "thread.start()\n",
    "thread.join()\n",
    "tunnel_url = output_queue.get()\n",
    "os.environ['webui_url'] = tunnel_url\n",
    "print(tunnel_url)\n",
    "\n",
    "%cd /notebooks/splat\n",
    "%run -m http.server 7861"
   ]
  }
 ],
 "metadata": {
  "kernelspec": {
   "display_name": "splat",
   "language": "python",
   "name": "splat"
  }
 },
 "nbformat": 4,
 "nbformat_minor": 2
}
