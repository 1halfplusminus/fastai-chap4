{
 "cells": [
  {
   "cell_type": "code",
   "execution_count": null,
   "metadata": {},
   "outputs": [],
   "source": [
    "%pip install transformers\n",
    "%pip install accelerate\n",
    "%pip install safetensors\n",
    "%pip install invisible-watermark>=0.2.0\n",
    "%pip install diffusers --upgrade"
   ]
  },
  {
   "cell_type": "markdown",
   "metadata": {},
   "source": [
    "NORMAL INSTALL"
   ]
  },
  {
   "cell_type": "code",
   "execution_count": null,
   "metadata": {},
   "outputs": [],
   "source": [
    "!git clone https://github.com/baegwangbin/surface_normal_uncertainty"
   ]
  },
  {
   "cell_type": "code",
   "execution_count": null,
   "metadata": {},
   "outputs": [],
   "source": [
    "%cd surface_normal_uncertainty"
   ]
  },
  {
   "cell_type": "code",
   "execution_count": null,
   "metadata": {},
   "outputs": [],
   "source": [
    "%pip install -r requirements.txt"
   ]
  },
  {
   "cell_type": "code",
   "execution_count": null,
   "metadata": {},
   "outputs": [],
   "source": [
    "# Import necessary libraries and modules\n",
    "from PIL import Image\n",
    "from transformers import pipeline\n",
    "import numpy as np\n",
    "import cv2\n",
    "import torch\n",
    "from diffusers.utils import load_image\n",
    "\n",
    "# File path variable\n",
    "image_file_path = \"/notebooks/threestudio/load/images/dragon3_rgba.png\"  # specify your image file path here\n",
    "# Remove '_rgba' from file path\n",
    "image_file_path_base = image_file_path.replace('_rgba', '')\n",
    "\n",
    "# Load image\n",
    "image = load_image(image_file_path).convert(\"RGB\")\n",
    "\n",
    "depth_estimator = pipeline('depth-estimation')\n",
    "# Depth Estimation\n",
    "image = depth_estimator(image)['depth']\n",
    "image = np.array(image)\n",
    "image = image[:, :, None]\n",
    "image = np.concatenate([image, image, image], axis=2)\n",
    "image = Image.fromarray(image)\n",
    "# Save depth map\n",
    "image.save(image_file_path_base[:-4] + '_depth.png')\n",
    "image.show()\n",
    "## NORMAL\n",
    "image = load_image(image_file_path)\n",
    "depth_estimator = pipeline(\"depth-estimation\", model =\"Intel/dpt-large\" )\n",
    "\n",
    "image = depth_estimator(image)['predicted_depth'][0]\n",
    "\n",
    "image = image.numpy()\n",
    "temp = Image.fromarray(image)\n",
    "\n",
    "temp.show()\n",
    "\n",
    "image_depth = image.copy()\n",
    "image_depth -= np.min(image_depth)\n",
    "image_depth /= np.max(image_depth)\n",
    "\n",
    "bg_threhold = 0.1\n",
    "\n",
    "x = cv2.Sobel(image, cv2.CV_32F, 1, 0, ksize=3)\n",
    "x[image_depth < bg_threhold] = 0\n",
    "\n",
    "y = cv2.Sobel(image, cv2.CV_32F, 0, 1, ksize=3)\n",
    "y[image_depth < bg_threhold] = 0\n",
    "\n",
    "z = np.ones_like(x) * np.pi * 2.0\n",
    "\n",
    "image = np.stack([x, y, z], axis=2)\n",
    "image /= np.sum(image ** 2.0, axis=2, keepdims=True) ** 0.5\n",
    "image = (image * 127.5 + 127.5).clip(0, 255).astype(np.uint8)\n",
    "image = Image.fromarray(image)\n",
    "\n",
    "image.save(image_file_path_base[:-4] + '_normal.png')\n",
    "image.show()"
   ]
  }
 ],
 "metadata": {
  "kernelspec": {
   "display_name": "env3",
   "language": "python",
   "name": "env3"
  },
  "language_info": {
   "codemirror_mode": {
    "name": "ipython",
    "version": 3
   },
   "file_extension": ".py",
   "mimetype": "text/x-python",
   "name": "python",
   "nbconvert_exporter": "python",
   "pygments_lexer": "ipython3",
   "version": "3.10.6"
  },
  "orig_nbformat": 4
 },
 "nbformat": 4,
 "nbformat_minor": 2
}
