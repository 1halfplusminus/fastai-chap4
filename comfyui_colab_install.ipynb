{
 "cells": [
  {
   "cell_type": "code",
   "execution_count": null,
   "metadata": {},
   "outputs": [],
   "source": [
    "%pip install  --pre torch torchvision  torchaudio --extra-index-url https://download.pytorch.org/whl/cu121"
   ]
  },
  {
   "cell_type": "code",
   "execution_count": null,
   "metadata": {},
   "outputs": [],
   "source": [
    "!sudo apt update\n",
    "!sudo apt -y install  -qq  ffmpeg  aria2"
   ]
  },
  {
   "cell_type": "code",
   "execution_count": null,
   "metadata": {
    "id": "bbbbbbbbbb"
   },
   "outputs": [],
   "source": [
    "#@title Environment Setup\n",
    "\n",
    "from pathlib import Path\n",
    "\n",
    "OPTIONS = {}\n",
    "\n",
    "USE_GOOGLE_DRIVE = False  #@param {type:\"boolean\"}\n",
    "UPDATE_COMFY_UI = True  #@param {type:\"boolean\"}\n",
    "WORKSPACE = 'ComfyUI'\n",
    "OPTIONS['USE_GOOGLE_DRIVE'] = USE_GOOGLE_DRIVE\n",
    "OPTIONS['UPDATE_COMFY_UI'] = UPDATE_COMFY_UI\n",
    "\n",
    "if OPTIONS['USE_GOOGLE_DRIVE']:\n",
    "    !echo \"Mounting Google Drive...\"\n",
    "    %cd /\n",
    "    \n",
    "    from google.colab import drive\n",
    "    drive.mount('/content/drive')\n",
    "\n",
    "    WORKSPACE = \"/content/drive/MyDrive/ComfyUI\"\n",
    "    %cd /content/drive/MyDrive\n",
    "\n",
    "![ ! -d $WORKSPACE ] && echo -= Initial setup ComfyUI =- && git clone https://github.com/comfyanonymous/ComfyUI\n",
    "%cd $WORKSPACE\n",
    "\n",
    "if OPTIONS['UPDATE_COMFY_UI']:\n",
    "  !echo -= Updating ComfyUI =-\n",
    "  !git pull\n",
    "\n",
    "!echo -= Install dependencies =-\n",
    "%pip install  -r requirements.txt --extra-index-url https://download.pytorch.org/whl/nightly/cu121\n"
   ]
  },
  {
   "cell_type": "code",
   "execution_count": null,
   "metadata": {},
   "outputs": [],
   "source": [
    "%cd custom_nodes\n",
    "!git clone https://github.com/Fannovel16/comfyui_controlnet_aux"
   ]
  },
  {
   "cell_type": "code",
   "execution_count": null,
   "metadata": {},
   "outputs": [],
   "source": [
    "\n",
    "%cd comfyui_controlnet_aux\n",
    "%pip install -r requirements.txt"
   ]
  },
  {
   "cell_type": "code",
   "execution_count": null,
   "metadata": {},
   "outputs": [],
   "source": [
    "%cd /notebooks/ComfyUI"
   ]
  },
  {
   "cell_type": "code",
   "execution_count": null,
   "metadata": {},
   "outputs": [],
   "source": [
    "%cd custom_nodes\n",
    "!git clone https://github.com/WASasquatch/was-node-suite-comfyui/"
   ]
  },
  {
   "cell_type": "code",
   "execution_count": null,
   "metadata": {},
   "outputs": [],
   "source": [
    "%cd was-node-suite-comfyui\n",
    "!git pull\n",
    "%pip install -r requirements.txt"
   ]
  },
  {
   "cell_type": "code",
   "execution_count": null,
   "metadata": {},
   "outputs": [],
   "source": [
    "%cd /notebooks/ComfyUI\n",
    "%cd  custom_nodes\n",
    "!git clone https://github.com/ltdrdata/ComfyUI-Manager.git\n",
    "%cd ComfyUI-Manager\n",
    "!git pull\n",
    "%pip install -r requirements.txt"
   ]
  },
  {
   "cell_type": "code",
   "execution_count": null,
   "metadata": {},
   "outputs": [],
   "source": [
    "%cd /notebooks/ComfyUI\n",
    "%cd  custom_nodes\n",
    "!git clone https://github.com/Kosinkadink/ComfyUI-AnimateDiff-Evolved\n",
    "%cd ComfyUI-AnimateDiff-Evolved\n",
    "!git pull\n",
    "%pip install -r requirements.txt"
   ]
  },
  {
   "cell_type": "code",
   "execution_count": null,
   "metadata": {},
   "outputs": [],
   "source": [
    "%cd /notebooks/ComfyUI\n",
    "%cd  custom_nodes\n",
    "!git clone https://github.com/FizzleDorf/ComfyUI_FizzNodes\n",
    "%cd ComfyUI_FizzNodes\n",
    "%pip install -r requirements.txt"
   ]
  },
  {
   "cell_type": "code",
   "execution_count": null,
   "metadata": {},
   "outputs": [],
   "source": [
    "%cd /notebooks/ComfyUI\n",
    "%cd  custom_nodes\n",
    "!git clone https://github.com/Kosinkadink/ComfyUI-Advanced-ControlNet\n",
    "%cd ComfyUI-Advanced-ControlNet\n",
    "%pip install -r requirements.txt\n"
   ]
  },
  {
   "cell_type": "code",
   "execution_count": null,
   "metadata": {},
   "outputs": [],
   "source": [
    "%cd /notebooks/ComfyUI\n",
    "%cd  custom_nodes\n",
    "!rm ControlNet-LLLite-ComfyUI -rf\n",
    "!git clone https://github.com/kohya-ss/ControlNet-LLLite-ComfyUI.git\n",
    "%cd ControlNet-LLLite-ComfyUI\n",
    "%pip install -r requirements.txt"
   ]
  },
  {
   "cell_type": "code",
   "execution_count": null,
   "metadata": {},
   "outputs": [],
   "source": [
    "\n",
    "%cd /notebooks/ComfyUI\n",
    "%cd  custom_nodes\n",
    "!git clone https://github.com/storyicon/comfyui_segment_anything.git\n",
    "%cd comfyui_segment_anything\n",
    "!git pull\n",
    "%pip install -r requirements.txt\n",
    "%pip install addict supervision yapf"
   ]
  },
  {
   "cell_type": "code",
   "execution_count": null,
   "metadata": {},
   "outputs": [],
   "source": [
    "%pip install git+https://github.com/facebookresearch/segment-anything.git"
   ]
  },
  {
   "cell_type": "code",
   "execution_count": null,
   "metadata": {},
   "outputs": [],
   "source": [
    "%cd /notebooks/ComfyUI\n",
    "%cd  custom_nodes\n",
    "!git clone https://github.com/Kosinkadink/ComfyUI-VideoHelperSuite\n",
    "%cd ComfyUI-VideoHelperSuite\n",
    "%pip install -r requirements.txt"
   ]
  },
  {
   "cell_type": "code",
   "execution_count": null,
   "metadata": {},
   "outputs": [],
   "source": [
    "%cd /notebooks/ComfyUI/custom_nodes/was-node-suite-comfyui\n",
    "!git pull\n",
    "%pip install -r requirements.txt"
   ]
  },
  {
   "cell_type": "code",
   "execution_count": null,
   "metadata": {},
   "outputs": [],
   "source": [
    "%cd /notebooks/\n",
    "!git clone https://github.com/huggingface/transformers.git\n",
    "%cd transformers\n",
    "!git pull\n",
    "%pip install -e ."
   ]
  },
  {
   "cell_type": "code",
   "execution_count": null,
   "metadata": {},
   "outputs": [],
   "source": [
    "%cd /notebooks/ComfyUI"
   ]
  },
  {
   "cell_type": "markdown",
   "metadata": {
    "id": "kkkkkkkkkkkkkkk"
   },
   "source": [
    "### Run ComfyUI with cloudflared (Recommended Way)\n",
    "\n",
    "\n"
   ]
  },
  {
   "cell_type": "code",
   "execution_count": null,
   "metadata": {},
   "outputs": [],
   "source": [
    "%pip install nest-asyncio"
   ]
  },
  {
   "cell_type": "code",
   "execution_count": null,
   "metadata": {},
   "outputs": [],
   "source": [
    "%cd /notebooks/ComfyUI"
   ]
  },
  {
   "cell_type": "code",
   "execution_count": null,
   "metadata": {},
   "outputs": [],
   "source": [
    "!kill -9 $(lsof -t -i:8188)\n"
   ]
  }
 ],
 "metadata": {
  "accelerator": "GPU",
  "colab": {
   "provenance": []
  },
  "gpuClass": "standard",
  "kernelspec": {
   "display_name": "sd_ui_f_conda",
   "language": "python",
   "name": "sd_ui_f_conda"
  },
  "language_info": {
   "codemirror_mode": {
    "name": "ipython",
    "version": 3
   },
   "file_extension": ".py",
   "mimetype": "text/x-python",
   "name": "python",
   "nbconvert_exporter": "python",
   "pygments_lexer": "ipython3",
   "version": "3.10.13"
  }
 },
 "nbformat": 4,
 "nbformat_minor": 0
}
