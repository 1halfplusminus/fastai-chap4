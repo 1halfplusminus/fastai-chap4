{
 "cells": [
  {
   "cell_type": "code",
   "execution_count": null,
   "metadata": {},
   "outputs": [],
   "source": [
    "%pip install --upgrade pip"
   ]
  },
  {
   "cell_type": "code",
   "execution_count": null,
   "metadata": {},
   "outputs": [],
   "source": [
    "%pip install torch==2.1.2 xformers  torchvision   --extra-index-url https://download.pytorch.org/whl/cu118 \n",
    "##%pip install  --pre torch=torch  torchvision  torchaudio --extra-index-url https://download.pytorch.org/whl/cu121"
   ]
  },
  {
   "cell_type": "code",
   "execution_count": null,
   "metadata": {},
   "outputs": [],
   "source": [
    "!apt update\n",
    "!apt -y install  -qq  ffmpeg  aria2"
   ]
  },
  {
   "cell_type": "code",
   "execution_count": null,
   "metadata": {},
   "outputs": [],
   "source": [
    "%cd /notebooks\n",
    "!git clone https://github.com/comfyanonymous/ComfyUI\n",
    "%cd /notebooks/ComfyUI"
   ]
  },
  {
   "cell_type": "code",
   "execution_count": null,
   "metadata": {
    "id": "bbbbbbbbbb"
   },
   "outputs": [],
   "source": [
    "#@title Environment Setup\n",
    "\n",
    "from pathlib import Path\n",
    "\n",
    "!echo -= Updating ComfyUI =-\n",
    "!git pull\n",
    "!echo -= Install dependencies =-\n",
    "%pip install  -r requirements.txt --extra-index-url https://download.pytorch.org/whl/nightly/cu118\n",
    "#%pip install  -r requirements.txt --extra-index-url https://download.pytorch.org/whl/nightly/cu121\n"
   ]
  },
  {
   "cell_type": "code",
   "execution_count": null,
   "metadata": {},
   "outputs": [],
   "source": [
    "!mkdir custom_nodes"
   ]
  },
  {
   "cell_type": "code",
   "execution_count": null,
   "metadata": {},
   "outputs": [],
   "source": [
    "%cd custom_nodes\n",
    "!git clone https://github.com/Fannovel16/comfyui_controlnet_aux"
   ]
  },
  {
   "cell_type": "code",
   "execution_count": null,
   "metadata": {},
   "outputs": [],
   "source": [
    "\n",
    "%cd comfyui_controlnet_aux\n",
    "%pip install -r requirements.txt"
   ]
  },
  {
   "cell_type": "code",
   "execution_count": null,
   "metadata": {},
   "outputs": [],
   "source": [
    "%cd /notebooks/ComfyUI"
   ]
  },
  {
   "cell_type": "code",
   "execution_count": null,
   "metadata": {},
   "outputs": [],
   "source": [
    "#%cd /notebooks/ComfyUI\n",
    "#%cd  custom_nodes\n",
    "#!git clone https://github.com/flowtyone/ComfyUI-Flowty-TripoSR.git\n",
    "#%cd ComfyUI-Flowty-TripoSR\n",
    "#!git pull\n",
    "#%pip install -r requirements.txt"
   ]
  },
  {
   "cell_type": "code",
   "execution_count": null,
   "metadata": {},
   "outputs": [],
   "source": [
    "!rm /notebooks/ComfyUI/custom_nodes/canvas_tab -rf"
   ]
  },
  {
   "cell_type": "code",
   "execution_count": null,
   "metadata": {},
   "outputs": [],
   "source": [
    "!sudo apt-get update\n",
    "!sudo apt-get install mesa-common-dev libegl1-mesa-dev -y\n",
    "!sudo apt-get install ninja-build  -y"
   ]
  },
  {
   "cell_type": "code",
   "execution_count": null,
   "metadata": {},
   "outputs": [],
   "source": [
    "%pip install ninja\n"
   ]
  },
  {
   "cell_type": "code",
   "execution_count": null,
   "metadata": {},
   "outputs": [],
   "source": [
    "\n",
    "\n",
    "%pip install mpmath==1.3.0 nest_asyncio pytorch_lightning rembg\n",
    "%cd /notebooks/ComfyUI\n",
    "%cd  custom_nodes\n",
    "!git clone https://github.com/MrForExample/ComfyUI-3D-Pack\n",
    "%cd ComfyUI-3D-Pack\n",
    "!git pull\n",
    "%pip install -r requirements.txt \n",
    "%pip install -r requirements_post.txt "
   ]
  },
  {
   "cell_type": "code",
   "execution_count": null,
   "metadata": {},
   "outputs": [],
   "source": [
    "#%pip install transformers==4.27.1 open-clip-torch==2.7.0 \n"
   ]
  },
  {
   "cell_type": "code",
   "execution_count": null,
   "metadata": {},
   "outputs": [],
   "source": [
    "# %cd /notebooks/ComfyUI/custom_nodes/ComfyUI-3D-Pack\n",
    "# %pip install -r requirements_post.txt "
   ]
  },
  {
   "cell_type": "code",
   "execution_count": null,
   "metadata": {},
   "outputs": [],
   "source": [
    "\n",
    "# %cd /notebooks/ComfyUI\n",
    "# %cd  custom_nodes\n",
    "# !git clone https://github.com/Lerc/canvas_tab.git\n",
    "# %cd canvas_tab\n",
    "# !git pull\n",
    "# %pip install -r requirements.txt"
   ]
  },
  {
   "cell_type": "code",
   "execution_count": null,
   "metadata": {},
   "outputs": [],
   "source": [
    "%cd /notebooks/ComfyUI\n",
    "%cd  custom_nodes\n",
    "!git clone https://github.com/AlekPet/ComfyUI_Custom_Nodes_AlekPet.git\n",
    "%cd ComfyUI_Custom_Nodes_AlekPet\n",
    "!git pull\n",
    "%pip install -r requirements.txt\n"
   ]
  },
  {
   "cell_type": "code",
   "execution_count": null,
   "metadata": {},
   "outputs": [],
   "source": [
    "%cd /notebooks/ComfyUI\n",
    "%cd  custom_nodes\n",
    "!git clone https://github.com/ltdrdata/ComfyUI-Manager.git\n",
    "%cd ComfyUI-Manager\n",
    "!git pull\n",
    "%pip install -r requirements.txt"
   ]
  },
  {
   "cell_type": "code",
   "execution_count": null,
   "metadata": {},
   "outputs": [],
   "source": [
    "\n",
    "%cd /notebooks/\n",
    "!git clone https://github.com/thu-ml/CRM\n",
    "%cd CRM\n",
    "!git pull\n",
    "%pip install -r requirements.txt"
   ]
  },
  {
   "cell_type": "code",
   "execution_count": null,
   "metadata": {},
   "outputs": [],
   "source": [
    "%cd /notebooks/ComfyUI\n",
    "%cd  custom_nodes\n",
    "!git clone https://github.com/Kosinkadink/ComfyUI-AnimateDiff-Evolved\n",
    "%cd ComfyUI-AnimateDiff-Evolved\n",
    "!git pull\n",
    "%pip install -r requirements.txt"
   ]
  },
  {
   "cell_type": "code",
   "execution_count": null,
   "metadata": {},
   "outputs": [],
   "source": [
    "%cd /notebooks/ComfyUI\n",
    "%cd  custom_nodes\n",
    "!git clone https://github.com/FizzleDorf/ComfyUI_FizzNodes\n",
    "%cd ComfyUI_FizzNodes\n",
    "%pip install -r requirements.txt"
   ]
  },
  {
   "cell_type": "code",
   "execution_count": null,
   "metadata": {},
   "outputs": [],
   "source": [
    "%cd /notebooks/ComfyUI\n",
    "%cd  custom_nodes\n",
    "!git clone https://github.com/Kosinkadink/ComfyUI-Advanced-ControlNet\n",
    "%cd ComfyUI-Advanced-ControlNet\n",
    "%pip install -r requirements.txt\n"
   ]
  },
  {
   "cell_type": "code",
   "execution_count": null,
   "metadata": {},
   "outputs": [],
   "source": [
    "#%cd /notebooks/ComfyUI\n",
    "#%cd  custom_nodes\n",
    "#!rm ControlNet-LLLite-ComfyUI -rf\n",
    "#!git clone https://github.com/kohya-ss/ControlNet-LLLite-ComfyUI.git\n",
    "#%cd ControlNet-LLLite-ComfyUI\n",
    "#%pip install -r requirements.txt"
   ]
  },
  {
   "cell_type": "code",
   "execution_count": null,
   "metadata": {},
   "outputs": [],
   "source": [
    "\n",
    "%cd /notebooks/ComfyUI\n",
    "%cd  custom_nodes\n",
    "!git clone https://github.com/storyicon/comfyui_segment_anything.git\n",
    "%cd comfyui_segment_anything\n",
    "!git pull\n",
    "%pip install -r requirements.txt\n",
    "%pip install addict supervision yapf"
   ]
  },
  {
   "cell_type": "code",
   "execution_count": null,
   "metadata": {},
   "outputs": [],
   "source": [
    "%pip install git+https://github.com/facebookresearch/segment-anything.git"
   ]
  },
  {
   "cell_type": "code",
   "execution_count": null,
   "metadata": {},
   "outputs": [],
   "source": [
    "%cd /notebooks/ComfyUI\n",
    "%cd  custom_nodes\n",
    "!git clone https://github.com/Kosinkadink/ComfyUI-VideoHelperSuite\n",
    "%cd ComfyUI-VideoHelperSuite\n",
    "%pip install -r requirements.txt"
   ]
  },
  {
   "cell_type": "code",
   "execution_count": null,
   "metadata": {},
   "outputs": [],
   "source": [
    "%pip install open_clip_torch\n",
    "%cd /notebooks/ComfyUI\n",
    "%cd  custom_nodes\n",
    "!git clone https://github.com/kijai/ComfyUI-SUPIR.git\n",
    "%cd ComfyUI-SUPIR\n",
    "%pip install -r requirements.txt"
   ]
  },
  {
   "cell_type": "code",
   "execution_count": null,
   "metadata": {},
   "outputs": [],
   "source": [
    "%cd /notebooks/ComfyUI\n",
    "%cd  custom_nodes\n",
    "!git clone https://github.com/ZHO-ZHO-ZHO/ComfyUI-InstantID.git\n",
    "%cd ComfyUI-InstantID\n",
    "%pip install -r requirements.txt"
   ]
  },
  {
   "cell_type": "code",
   "execution_count": null,
   "metadata": {},
   "outputs": [],
   "source": [
    "%cd /notebooks/ComfyUI\n",
    "%cd  custom_nodes\n",
    "!git clone https://github.com/WASasquatch/was-node-suite-comfyui.git\n",
    "%cd was-node-suite-comfyui\n",
    "%pip install -r requirements.txt"
   ]
  },
  {
   "cell_type": "code",
   "execution_count": null,
   "metadata": {},
   "outputs": [],
   "source": [
    "%cd /notebooks/\n",
    "!git clone https://github.com/huggingface/transformers.git\n",
    "%cd transformers\n",
    "!git pull\n",
    "%pip install -e ."
   ]
  },
  {
   "cell_type": "code",
   "execution_count": null,
   "metadata": {},
   "outputs": [],
   "source": [
    "%cd /notebooks/ComfyUI"
   ]
  },
  {
   "cell_type": "markdown",
   "metadata": {
    "id": "kkkkkkkkkkkkkkk"
   },
   "source": [
    "### Run ComfyUI with cloudflared (Recommended Way)\n",
    "\n",
    "\n"
   ]
  },
  {
   "cell_type": "code",
   "execution_count": null,
   "metadata": {},
   "outputs": [],
   "source": [
    "%pip install nest-asyncio"
   ]
  },
  {
   "cell_type": "code",
   "execution_count": null,
   "metadata": {},
   "outputs": [],
   "source": [
    "%cd /notebooks/ComfyUI"
   ]
  },
  {
   "cell_type": "code",
   "execution_count": null,
   "metadata": {},
   "outputs": [],
   "source": [
    "!kill -9 $(lsof -t -i:8188)\n"
   ]
  },
  {
   "cell_type": "code",
   "execution_count": null,
   "metadata": {},
   "outputs": [],
   "source": [
    "import open_clip\n",
    "arch=\"ViT-H-14\"\n",
    "version=\"laion2b_s32b_b79k\"\n",
    "model, _, preprocess = open_clip.create_model_and_transforms(\n",
    "    arch, device=torch.device(\"cpu\"), pretrained=version\n",
    ")"
   ]
  },
  {
   "cell_type": "code",
   "execution_count": null,
   "metadata": {},
   "outputs": [],
   "source": [
    "!rm /root/.cache/torch_extensions/py311_cu118/nvdiffrast_plugin/lock"
   ]
  }
 ],
 "metadata": {
  "accelerator": "GPU",
  "colab": {
   "provenance": []
  },
  "gpuClass": "standard",
  "kernelspec": {
   "display_name": "sd_ui_f_conda",
   "language": "python",
   "name": "sd_ui_f_conda"
  },
  "language_info": {
   "codemirror_mode": {
    "name": "ipython",
    "version": 3
   },
   "file_extension": ".py",
   "mimetype": "text/x-python",
   "name": "python",
   "nbconvert_exporter": "python",
   "pygments_lexer": "ipython3",
   "version": "3.11.8"
  }
 },
 "nbformat": 4,
 "nbformat_minor": 0
}
