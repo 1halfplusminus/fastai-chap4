{
 "cells": [
  {
   "cell_type": "code",
   "execution_count": null,
   "metadata": {},
   "outputs": [],
   "source": [
    "# !wget https://developer.download.nvidia.^com/compute/cuda/12.1.1/local_installers/cuda_12.1.1_530.30.02_linux.run\n",
    "# !sudo sh cuda_12.1.1_530.30.02_linux.run   --toolkit   --silent"
   ]
  },
  {
   "cell_type": "code",
   "execution_count": null,
   "metadata": {},
   "outputs": [],
   "source": [
    "# !wget https://developer.download.nvidia.com/compute/cuda/repos/ubuntu2004/x86_64/cuda-keyring_1.0-1_all.deb\n",
    "# !sudo dpkg -i cuda-keyring_1.0-1_all.deb\n",
    "# !sudo apt-get update"
   ]
  },
  {
   "cell_type": "code",
   "execution_count": null,
   "metadata": {},
   "outputs": [],
   "source": [
    "# %env DEBIAN_FRONTEND=noninteractive\n",
    "# !sudo DEBIAN_FRONTEND=noninteractive apt-get -y --silent install cuda\n"
   ]
  },
  {
   "cell_type": "code",
   "execution_count": null,
   "metadata": {},
   "outputs": [],
   "source": [
    "!nvcc --version\n",
    "!lsb_release -a"
   ]
  },
  {
   "cell_type": "code",
   "execution_count": null,
   "metadata": {},
   "outputs": [],
   "source": [
    "!nvidia-smi"
   ]
  },
  {
   "cell_type": "code",
   "execution_count": null,
   "metadata": {},
   "outputs": [],
   "source": [
    "!add-apt-repository -y  ppa:deadsnakes/ppa\n",
    "!apt-get update"
   ]
  },
  {
   "cell_type": "code",
   "execution_count": null,
   "metadata": {},
   "outputs": [],
   "source": [
    "!wget -O cloudflared-linux-amd64.deb https://github.com/cloudflare/cloudflared/releases/latest/download/cloudflared-linux-amd64.deb\n",
    "!dpkg -i cloudflared-linux-amd64.deb"
   ]
  },
  {
   "cell_type": "code",
   "execution_count": null,
   "metadata": {},
   "outputs": [],
   "source": [
    "!apt-get update\n",
    "!apt-get install python3.11 python3.11-venv -y\n",
    "!apt-get install lsof"
   ]
  },
  {
   "cell_type": "code",
   "execution_count": null,
   "metadata": {},
   "outputs": [],
   "source": [
    "%pip install -U huggingface_hub tokenizer\n",
    "%pip install poetry\n",
    "%pip install numpy gekko pandas\n",
    "!pip install hf_transfer 'huggingface_hub[cli]'"
   ]
  },
  {
   "cell_type": "code",
   "execution_count": null,
   "metadata": {},
   "outputs": [],
   "source": [
    "!curl https://bootstrap.pypa.io/get-pip.py -o get-pip.py\n",
    "!python3.11 get-pip.py"
   ]
  },
  {
   "cell_type": "code",
   "execution_count": null,
   "metadata": {},
   "outputs": [],
   "source": [
    "!python3.11 -m pip install ipykernel poetry numpy gekko pandas\n",
    "!python3.11 -m pip install setuptools\n",
    "!python3.11 -c \"import ensurepip\"\n",
    "!python3.11 -m pip install pickleshare"
   ]
  },
  {
   "cell_type": "code",
   "execution_count": null,
   "metadata": {},
   "outputs": [],
   "source": [
    "!apt-get -y install git-lfs git\n",
    "!apt-get  -y install -qq aria2\n",
    "!git config --global credential.helper store"
   ]
  },
  {
   "cell_type": "code",
   "execution_count": null,
   "metadata": {},
   "outputs": [],
   "source": [
    "!mkdir -p ~/miniconda3\n",
    "!wget https://repo.anaconda.com/miniconda/Miniconda3-latest-Linux-x86_64.sh -O ~/miniconda3/miniconda.sh\n",
    "!bash ~/miniconda3/miniconda.sh -b -u -p ~/miniconda3\n",
    "!rm -rf ~/miniconda3/miniconda.sh"
   ]
  },
  {
   "cell_type": "code",
   "execution_count": null,
   "metadata": {},
   "outputs": [],
   "source": [
    "!/root/miniconda3/bin/conda init"
   ]
  },
  {
   "cell_type": "code",
   "execution_count": null,
   "metadata": {},
   "outputs": [],
   "source": [
    "!/root/miniconda3/bin/conda install -y nb_conda_kernels "
   ]
  },
  {
   "cell_type": "code",
   "execution_count": null,
   "metadata": {},
   "outputs": [],
   "source": [
    "!/root/miniconda3/bin/conda create  python=3.11 -y -n text_webui\n",
    "# !/root/miniconda3/bin/conda install -y nvidia/label/cuda-12.1.1::cuda cudnn -n text_webui --force-reinstall\n",
    "#!/root/miniconda3/bin/conda install -c nvidia cudatoolkit=11.8 cudnn  -y -n text_webui\n",
    "!/root/miniconda3/envs/text_webui/bin/pip install ipykernel pickleshare ipywidgets\n",
    "!/root/miniconda3/envs/text_webui/bin/python -m ipykernel install --name \"text_webui\""
   ]
  },
  {
   "cell_type": "code",
   "execution_count": null,
   "metadata": {},
   "outputs": [],
   "source": [
    "\n",
    "# !/root/miniconda3/bin/conda create --solver=libmamba -n text_webui -c rapidsai -c conda-forge -c nvidia  \\\n",
    "#     rapids=23.12 python=3.10 cuda-version=12.0 \\\n",
    "#     pytorch -y \n",
    "# !/root/miniconda3/envs/text_webui/bin/pip install ipykernel pickleshare ipywidgets   \n",
    "# !/root/miniconda3/envs/text_webui/bin/python -m ipykernel install --name \"text_webui\""
   ]
  },
  {
   "cell_type": "code",
   "execution_count": null,
   "metadata": {},
   "outputs": [],
   "source": [
    "\n",
    " #/root/miniconda3/bin/conda  run -n sd_ui_f_conda python main.py\n",
    " # !/root/miniconda3/bin/conda install -c nvidia cudatoolkit=12.2 cudnn  -y -n text_webui"
   ]
  },
  {
   "cell_type": "code",
   "execution_count": null,
   "metadata": {},
   "outputs": [],
   "source": [
    "!/root/miniconda3/bin/conda create  python=3.11 -y -n sd_ui_f_conda\n",
    "!/root/miniconda3/envs/sd_ui_f_conda/bin/pip install ipykernel ipywidgets pickleshare\n",
    "!/root/miniconda3/envs/sd_ui_f_conda/bin/python -m ipykernel install --name \"sd_ui_f_conda\""
   ]
  },
  {
   "cell_type": "code",
   "execution_count": null,
   "metadata": {},
   "outputs": [],
   "source": [
    "!/root/miniconda3/bin/conda create  python=3.11 -y -n silly_tavern\n",
    "!/root/miniconda3/envs/silly_tavern/bin/pip install ipykernel pickleshare ipywidgets\n",
    "!/root/miniconda3/envs/silly_tavern/bin/python -m ipykernel install --name \"silly_tavern\""
   ]
  },
  {
   "cell_type": "code",
   "execution_count": null,
   "metadata": {},
   "outputs": [],
   "source": [
    "!/root/miniconda3/bin/conda install -y ninja -n silly_tavern --force-reinstall\n"
   ]
  },
  {
   "cell_type": "code",
   "execution_count": null,
   "metadata": {},
   "outputs": [],
   "source": [
    "!/root/miniconda3/bin/conda create  python=3.11 -y -n tts\n",
    "!/root/miniconda3/envs/tts/bin/pip install ipykernel pickleshare ipywidgets\n",
    "!/root/miniconda3/envs/tts/bin/python -m ipykernel install --name \"tts\""
   ]
  },
  {
   "cell_type": "code",
   "execution_count": null,
   "metadata": {},
   "outputs": [],
   "source": [
    "!rm /root/miniconda3/envs/dreamgaussian/ -rf"
   ]
  },
  {
   "cell_type": "code",
   "execution_count": null,
   "metadata": {},
   "outputs": [],
   "source": [
    "!/root/miniconda3/bin/conda create  python=3.11 -y -n treestudio\n",
    "!/root/miniconda3/envs/treestudio/bin/pip install ipykernel pickleshare ipywidgets\n",
    "!/root/miniconda3/envs/treestudio/bin/python -m ipykernel install --name \"treestudio\""
   ]
  },
  {
   "cell_type": "code",
   "execution_count": null,
   "metadata": {},
   "outputs": [],
   "source": [
    "#!/root/miniconda3/bin/conda install -y -c \"nvidia/label/cuda-11.8.0\" cuda -n treestudio --force-reinstall\n"
   ]
  },
  {
   "cell_type": "code",
   "execution_count": null,
   "metadata": {},
   "outputs": [],
   "source": [
    "!/root/miniconda3/bin/conda create  python=3.11 -y -n dreamgaussian\n",
    "!/root/miniconda3/envs/dreamgaussian/bin/pip install ipykernel pickleshare ipywidgets\n",
    "!/root/miniconda3/envs/dreamgaussian/bin/python -m ipykernel install --name \"dreamgaussian\""
   ]
  },
  {
   "cell_type": "code",
   "execution_count": null,
   "metadata": {},
   "outputs": [],
   "source": [
    "#!/root/miniconda3/bin/conda install -y -c \"nvidia/label/cuda-11.8.0\" cuda -n dreamgaussian --force-reinstall\n"
   ]
  },
  {
   "cell_type": "code",
   "execution_count": null,
   "metadata": {},
   "outputs": [],
   "source": [
    "!pip install huggingface_hub"
   ]
  },
  {
   "cell_type": "code",
   "execution_count": null,
   "metadata": {},
   "outputs": [],
   "source": [
    "!pip install six"
   ]
  },
  {
   "cell_type": "code",
   "execution_count": null,
   "metadata": {},
   "outputs": [],
   "source": [
    "# !python3.10  -m ipykernel install --user  --name=faceswap\n",
    "# !python3.10   -m ipykernel install --user --name=myenv\n",
    "# !python3.10   -m ipykernel install --user --name=three\n",
    "# !python3.10   -m ipykernel install --user --name=dreamfusion\n",
    "# !python3.10   -m ipykernel install --user --name=stable\n",
    "# !python3.9   -m ipykernel install --user --name=zero123\n",
    "\n",
    "# new_env = \"langchain\"\n",
    "# !python3.11 -m venv {new_env}\n",
    "# !python3.11 -m ipykernel install --user  --name={new_env}"
   ]
  },
  {
   "cell_type": "code",
   "execution_count": null,
   "metadata": {},
   "outputs": [],
   "source": [
    "# new_env = \"text-generation-webui\"\n",
    "# !python3.10 -m venv {new_env}\n",
    "# !python3.10 -m ipykernel install --user  --name={new_env}"
   ]
  },
  {
   "cell_type": "code",
   "execution_count": null,
   "metadata": {},
   "outputs": [],
   "source": [
    "\n",
    "# new_env = \"langchain\"\n",
    "# /root/miniconda3/bin/activate\n",
    "# !python3.10 -m venv {new_env}\n",
    "\n",
    "# !/notebooks/koboldcpp/bin/activate\n",
    "# !python3.10 -m ipykernel install --user  --name={new_env}\n",
    "# !deactivate"
   ]
  },
  {
   "cell_type": "code",
   "execution_count": null,
   "metadata": {},
   "outputs": [],
   "source": [
    "# new_env = \"magic_123\"\n",
    "# !python3.10 -m venv {new_env}\n",
    "# !python3.10 -m ipykernel install --user  --name={new_env}"
   ]
  },
  {
   "cell_type": "code",
   "execution_count": null,
   "metadata": {},
   "outputs": [],
   "source": [
    "\n",
    "# new_env = \"comfy\"\n",
    "# !python3.11 -m venv {new_env}\n",
    "# !python3.11 -m ipykernel install  --user --name={new_env}"
   ]
  },
  {
   "cell_type": "code",
   "execution_count": null,
   "metadata": {},
   "outputs": [],
   "source": [
    "\n",
    "# new_env = \"gaussian-splatting\"\n",
    "# !python3.10 -m venv {new_env}\n",
    "# !python3.10 -m ipykernel install --user  --name={new_env}"
   ]
  },
  {
   "cell_type": "code",
   "execution_count": null,
   "metadata": {},
   "outputs": [],
   "source": [
    "\n",
    "# new_env = \"splat\"\n",
    "# !python3.10 -m venv {new_env}\n",
    "# !python3.10 -m ipykernel install --user  --name={new_env}"
   ]
  },
  {
   "cell_type": "code",
   "execution_count": null,
   "metadata": {},
   "outputs": [],
   "source": [
    "\n",
    "# new_env = \"vc_ui\"\n",
    "# !python3.10 -m venv {new_env}\n",
    "# !python3.10 -m ipykernel install --user  --name={new_env}"
   ]
  },
  {
   "cell_type": "code",
   "execution_count": null,
   "metadata": {},
   "outputs": [],
   "source": [
    "\n",
    "# new_env = \"lora\"\n",
    "# !python3.10 -m venv {new_env}\n",
    "# !python3.10 -m ipykernel install --user  --name={new_env}"
   ]
  },
  {
   "cell_type": "code",
   "execution_count": null,
   "metadata": {},
   "outputs": [],
   "source": [
    "\n",
    "# new_env = \"konya_ss\"\n",
    "# !python3.10 -m venv {new_env}\n",
    "# !python3.10 -m ipykernel install  --name={new_env}"
   ]
  },
  {
   "cell_type": "code",
   "execution_count": null,
   "metadata": {},
   "outputs": [],
   "source": [
    "# new_env = \"sd_ui\"\n",
    "# !python3.10 -m venv {new_env}\n",
    "# !python3.10 -m ipykernel install  --user  --name={new_env}"
   ]
  },
  {
   "cell_type": "code",
   "execution_count": null,
   "metadata": {},
   "outputs": [],
   "source": [
    "# new_env = \"make_it_3D\"\n",
    "# !python3.10 -m venv {new_env}\n",
    "# !python3.10 -m ipykernel install  --user --name={new_env}"
   ]
  },
  {
   "cell_type": "code",
   "execution_count": null,
   "metadata": {},
   "outputs": [],
   "source": [
    "# new_env = \"local_gpt\"\n",
    "# !python3.10 -m venv {new_env}\n",
    "# !python3.10 -m ipykernel install --user  --name={new_env}"
   ]
  },
  {
   "cell_type": "code",
   "execution_count": null,
   "metadata": {},
   "outputs": [],
   "source": [
    "\n",
    "# new_env = \"gpt_researcher3\"\n",
    "\n",
    "# !python3.11 -m venv {new_env} \n",
    "# !python3.11 -m ipykernel install --user  --name={new_env}"
   ]
  },
  {
   "cell_type": "markdown",
   "metadata": {},
   "source": [
    "pip install --user virtualenv\n",
    "python3.10 -m venv myenv\n",
    "source myenv/bin/activate\n",
    "pip install ipykernel\n",
    "python3.10 -m ipykernel install  --name=myenv\n",
    "deactivate\n",
    "huggingface-cli login"
   ]
  }
 ],
 "metadata": {
  "kernelspec": {
   "display_name": "Python 3 (ipykernel)",
   "language": "python",
   "name": "python3"
  },
  "language_info": {
   "codemirror_mode": {
    "name": "ipython",
    "version": 3
   },
   "file_extension": ".py",
   "mimetype": "text/x-python",
   "name": "python",
   "nbconvert_exporter": "python",
   "pygments_lexer": "ipython3",
   "version": "3.9.13"
  }
 },
 "nbformat": 4,
 "nbformat_minor": 2
}
