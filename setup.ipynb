{
 "cells": [
  {
   "cell_type": "code",
   "execution_count": null,
   "metadata": {},
   "outputs": [],
   "source": [
    "!python3.10  -m ipykernel install --user  --name=faceswap\n",
    "!python3.10   -m ipykernel install --user --name=myenv\n",
    "!python3.10   -m ipykernel install --user --name=three\n",
    "!python3.10   -m ipykernel install --user --name=dreamfusion\n",
    "!python3.10   -m ipykernel install --user --name=stable\n",
    "!python3.9   -m ipykernel install --user --name=zero123\n",
    "!git config --global credential.helper store\n",
    "!sudo apt-get install git-lfs\n"
   ]
  },
  {
   "cell_type": "code",
   "execution_count": null,
   "metadata": {},
   "outputs": [],
   "source": [
    "new_env = \"magic_123\"\n",
    "!python3.10 -m venv {new_env}\n",
    "!python3.10 -m ipykernel install  --name={new_env}"
   ]
  },
  {
   "cell_type": "code",
   "execution_count": null,
   "metadata": {},
   "outputs": [],
   "source": [
    "\n",
    "new_env = \"comfy\"\n",
    "!python3.10 -m venv {new_env}\n",
    "!python3.10 -m ipykernel install  --name={new_env}"
   ]
  },
  {
   "cell_type": "markdown",
   "metadata": {},
   "source": [
    "pip install --user virtualenv\n",
    "python3.10 -m venv myenv\n",
    "source myenv/bin/activate\n",
    "pip install ipykernel\n",
    "python3.10 -m ipykernel install  --name=myenv\n",
    "deactivate\n",
    "huggingface-cli login"
   ]
  }
 ],
 "metadata": {
  "kernelspec": {
   "display_name": "Python 3 (ipykernel)",
   "language": "python",
   "name": "python3"
  },
  "orig_nbformat": 4
 },
 "nbformat": 4,
 "nbformat_minor": 2
}
