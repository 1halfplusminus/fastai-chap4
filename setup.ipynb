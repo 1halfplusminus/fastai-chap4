{
 "cells": [
  {
   "cell_type": "code",
   "execution_count": 1,
   "metadata": {},
   "outputs": [
    {
     "name": "stdout",
     "output_type": "stream",
     "text": [
      "Installed kernelspec faceswap in /usr/local/share/jupyter/kernels/faceswap\n",
      "Installed kernelspec myenv in /usr/local/share/jupyter/kernels/myenv\n",
      "Installed kernelspec three in /usr/local/share/jupyter/kernels/three\n",
      "Installed kernelspec dreamfusion in /usr/local/share/jupyter/kernels/dreamfusion\n",
      "Installed kernelspec stable in /usr/local/share/jupyter/kernels/stable\n",
      "Reading package lists... Done\n",
      "Building dependency tree       \n",
      "Reading state information... Done\n",
      "The following NEW packages will be installed:\n",
      "  git-lfs\n",
      "0 upgraded, 1 newly installed, 0 to remove and 39 not upgraded.\n",
      "Need to get 3316 kB of archives.\n",
      "After this operation, 11.1 MB of additional disk space will be used.\n",
      "Get:1 http://archive.ubuntu.com/ubuntu focal/universe amd64 git-lfs amd64 2.9.2-1 [3316 kB]\n",
      "Fetched 3316 kB in 0s (31.5 MB/s)\n",
      "Selecting previously unselected package git-lfs.\n",
      "(Reading database ... 78769 files and directories currently installed.)\n",
      "Preparing to unpack .../git-lfs_2.9.2-1_amd64.deb ...\n",
      "Unpacking git-lfs (2.9.2-1) ...\n",
      "Setting up git-lfs (2.9.2-1) ...\n",
      "Processing triggers for man-db (2.9.1-1) ...\n"
     ]
    }
   ],
   "source": [
    "!python3.10 -m ipykernel install  --name=faceswap\n",
    "!python3.10 -m ipykernel install  --name=myenv\n",
    "!python3.10 -m ipykernel install  --name=three\n",
    "!python3.10 -m ipykernel install  --name=dreamfusion\n",
    "!python3.10 -m ipykernel install  --name=stable\n",
    "!git config --global credential.helper store\n",
    "!sudo apt-get install git-lfs\n"
   ]
  },
  {
   "cell_type": "code",
   "execution_count": 2,
   "metadata": {},
   "outputs": [
    {
     "name": "stdout",
     "output_type": "stream",
     "text": [
      "Installed kernelspec magic_123 in /usr/local/share/jupyter/kernels/magic_123\n"
     ]
    }
   ],
   "source": [
    "new_env = \"magic_123\"\n",
    "!python3.10 -m venv {new_env}\n",
    "!python3.10 -m ipykernel install  --name={new_env}"
   ]
  },
  {
   "cell_type": "markdown",
   "metadata": {},
   "source": [
    "pip install --user virtualenv\n",
    "python3.10 -m venv myenv\n",
    "source myenv/bin/activate\n",
    "pip install ipykernel\n",
    "python3.10 -m ipykernel install  --name=myenv\n",
    "deactivate\n",
    "huggingface-cli login"
   ]
  }
 ],
 "metadata": {
  "kernelspec": {
   "display_name": "Python 3 (ipykernel)",
   "language": "python",
   "name": "python3"
  },
  "orig_nbformat": 4
 },
 "nbformat": 4,
 "nbformat_minor": 2
}
