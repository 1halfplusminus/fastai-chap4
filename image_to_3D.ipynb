{
 "cells": [
  {
   "cell_type": "code",
   "execution_count": null,
   "metadata": {},
   "outputs": [],
   "source": [
    "!git clone https://github.com/ashawkey/stable-dreamfusion.git"
   ]
  },
  {
   "cell_type": "code",
   "execution_count": null,
   "metadata": {},
   "outputs": [],
   "source": [
    " %pip install trimesh\n",
    " %pip install pythreejs"
   ]
  },
  {
   "cell_type": "code",
   "execution_count": null,
   "metadata": {},
   "outputs": [],
   "source": [
    "!sudo apt-get install libeigen3-dev -y\n"
   ]
  },
  {
   "cell_type": "code",
   "execution_count": null,
   "metadata": {},
   "outputs": [],
   "source": [
    "%cd stable-dreamfusion\n"
   ]
  },
  {
   "cell_type": "code",
   "execution_count": null,
   "metadata": {},
   "outputs": [],
   "source": [
    "!git pull origin main"
   ]
  },
  {
   "cell_type": "code",
   "execution_count": null,
   "metadata": {},
   "outputs": [],
   "source": [
    "%pip install  -r requirements.txt --force-reinstall\n",
    "%pip install git+https://github.com/NVlabs/nvdiffrast/ \n",
    "\n"
   ]
  },
  {
   "cell_type": "code",
   "execution_count": null,
   "metadata": {},
   "outputs": [],
   "source": [
    "%pip install git+https://github.com/ashawkey/cubvh --force-reinstall"
   ]
  },
  {
   "cell_type": "code",
   "execution_count": null,
   "metadata": {},
   "outputs": [],
   "source": [
    "\n",
    "# install CUDA extensions (takes about 8 minutes!)\n",
    "%pip install ./raymarching --force-reinstall\n",
    "%pip install ./shencoder --force-reinstall\n",
    "%pip install ./freqencoder --force-reinstall\n",
    "%pip install ./gridencoder --force-reinstall\n",
    "#%pip install ./raymarching"
   ]
  },
  {
   "cell_type": "code",
   "execution_count": null,
   "metadata": {},
   "outputs": [],
   "source": [
    "\"\"\" %cd pretrained/zero123\n",
    "!cp /notebooks/threestudio/load/zero123/zero123-xl.ckpt  zero123-xl.ckpt\n",
    "%cd ../../ \"\"\""
   ]
  },
  {
   "cell_type": "code",
   "execution_count": null,
   "metadata": {},
   "outputs": [],
   "source": [
    "%cd pretrained/zero123\n",
    "!rm zero123-xl.ckpt\n",
    "\"\"\" !wget https://huggingface.co/cvlab/zero123-weights/resolve/main/105000.ckpt \"\"\"\n",
    "!wget https://zero123.cs.columbia.edu/assets/zero123-xl.ckpt\n",
    "%cd ../../"
   ]
  },
  {
   "cell_type": "code",
   "execution_count": null,
   "metadata": {},
   "outputs": [],
   "source": [
    "!mkdir pretrained/omnidata\n",
    "%cd pretrained/omnidata\n",
    "# assume gdown is installed\n",
    "!gdown '18AAi0v9t3z-Mh4B8pGk-SdUegng88B3J&confirm=t' # omnidata_dpt_depth_v2.ckpt\n",
    "!gdown '1gzMny6F3W7thYSM4Cr9gunxnPra1Tt6Z&confirm=t' # omnidata_dpt_normal_v2.ckpt\n",
    "%cd ../../"
   ]
  },
  {
   "cell_type": "code",
   "execution_count": null,
   "metadata": {},
   "outputs": [],
   "source": [
    "%cd pretrained/omnidata\n",
    "!gdown '1gzMny6F3W7thYSM4Cr9gunxnPra1Tt6Z&confirm=t' # omnidata_dpt_normal_v2.ckpt\n",
    "%cd ../../"
   ]
  },
  {
   "cell_type": "code",
   "execution_count": null,
   "metadata": {},
   "outputs": [],
   "source": [
    "!git clone https://github.com/DrSleep/multi-task-refinenet\n"
   ]
  },
  {
   "cell_type": "code",
   "execution_count": null,
   "metadata": {},
   "outputs": [],
   "source": [
    "%cd multi-task-refinenet\n",
    "%pip install -r req.txt\n",
    "%cd ../"
   ]
  },
  {
   "cell_type": "code",
   "execution_count": null,
   "metadata": {},
   "outputs": [],
   "source": [
    "%cd stable-dreamfusion"
   ]
  },
  {
   "cell_type": "code",
   "execution_count": null,
   "metadata": {},
   "outputs": [],
   "source": [
    "%env CUDA_VISIBLE_DEVICES=0\n",
    "workspace =\"werewolf_big\"\n",
    "image_path = f'/notebooks/threestudio/load/images/{workspace}_rgba.png'\n",
    "image_path_without_rgba = image_path.replace('_rgba', '')\n"
   ]
  },
  {
   "cell_type": "code",
   "execution_count": null,
   "metadata": {},
   "outputs": [],
   "source": [
    "!rm -rf ./{workspace}\n",
    "!rm -rf ./{workspace}_dmtet"
   ]
  },
  {
   "cell_type": "code",
   "execution_count": null,
   "metadata": {},
   "outputs": [],
   "source": [
    "%run preprocess_image.py {image_path_without_rgba}"
   ]
  },
  {
   "cell_type": "code",
   "execution_count": null,
   "metadata": {},
   "outputs": [],
   "source": [
    "%cd multi-task-refinenet/src/notebooks\n",
    "%matplotlib inline\n",
    "\n",
    "import matplotlib.pyplot as plt\n",
    "from PIL import Image\n",
    "import numpy as np\n",
    "import sys\n",
    "sys.path.append('../')\n",
    "from models import net\n",
    "import cv2\n",
    "import torch\n",
    "from torch.autograd import Variable\n",
    "# Pre-processing and post-processing constants #\n",
    "CMAP = np.load('../cmap_nyud.npy')\n",
    "DEPTH_COEFF = 5000. # to convert into metres\n",
    "HAS_CUDA = torch.cuda.is_available()\n",
    "IMG_SCALE  = 1./255\n",
    "IMG_MEAN = np.array([0.485, 0.456, 0.406]).reshape((1, 1, 3))\n",
    "IMG_STD = np.array([0.229, 0.224, 0.225]).reshape((1, 1, 3))\n",
    "MAX_DEPTH = 8.\n",
    "MIN_DEPTH = 0.\n",
    "NUM_CLASSES = 40\n",
    "NUM_TASKS = 3 # segm + depth + normals\n",
    "def prepare_img(img):\n",
    "    return (img * IMG_SCALE - IMG_MEAN) / IMG_STD\n",
    "model = net(num_classes=NUM_CLASSES, num_tasks=NUM_TASKS)\n",
    "if HAS_CUDA:\n",
    "    _ = model.cuda()\n",
    "_ = model.eval()\n",
    "ckpt = torch.load('../../weights/ExpNYUD_three.ckpt')\n",
    "model.load_state_dict(ckpt['state_dict'])\n",
    "# Figure 5-bottom row\n",
    "img_path = image_path\n",
    "img = np.array(Image.open(img_path).convert('RGB'))\n",
    "\n",
    "with torch.no_grad():\n",
    "    img_var = Variable(torch.from_numpy(prepare_img(img).transpose(2, 0, 1)[None]), requires_grad=False).float()\n",
    "    if HAS_CUDA:\n",
    "        img_var = img_var.cuda()\n",
    "    segm, depth, norm = model(img_var)\n",
    "    segm = cv2.resize(segm[0, :NUM_CLASSES].cpu().data.numpy().transpose(1, 2, 0),\n",
    "                      img.shape[:2][::-1],\n",
    "                      interpolation=cv2.INTER_CUBIC)\n",
    "    depth = cv2.resize(depth[0, 0].cpu().data.numpy(),\n",
    "                       img.shape[:2][::-1],\n",
    "                       interpolation=cv2.INTER_CUBIC)\n",
    "    norm = cv2.resize(norm[0].cpu().data.numpy().transpose(1, 2, 0),\n",
    "                       img.shape[:2][::-1],\n",
    "                       interpolation=cv2.INTER_CUBIC)\n",
    "    segm = CMAP[segm.argmax(axis=2) + 1].astype(np.uint8)\n",
    "    depth = np.abs(depth)\n",
    "    out_norm = norm / np.linalg.norm(norm, axis=2, keepdims=True)\n",
    "    ## xzy->RGB ##\n",
    "    out_norm[:, :, 0] = ((out_norm[:, :, 0] + 1.) / 2.) * 255.\n",
    "    out_norm[:, :, 1] = ((out_norm[:, :, 1] + 1.) / 2.) * 255.\n",
    "    out_norm[:, :, 2] = ((1. - out_norm[:, :, 2]) / 2.) * 255.\n",
    "    out_norm = out_norm.astype(np.uint8)\n",
    "\n",
    "# mask\n",
    "\n",
    "\n",
    "# Define the depth threshold\n",
    "depth_threshold = 0.5\n",
    "depth_img = cv2.imread(image_path.replace(\"rgba\",\"depth\"), cv2.IMREAD_GRAYSCALE)\n",
    "# Create a boolean mask based on the depth threshold\n",
    "# True for pixels in depth_img less than or equal to the depth_threshold, False otherwise\n",
    "mask = depth_img > depth_threshold\n",
    "\n",
    "# Apply the mask to the normal image\n",
    "# First, we need to expand the dimensions of the mask to match the normal image\n",
    "# Here we assume that the normal image is a 3-channel (RGB) image\n",
    "mask_rgb = np.stack([mask]*3, axis=-1)\n",
    "\n",
    "# Now, we apply the mask to the normal image. We could set the unmasked area to a specific color (like black), \n",
    "# or we could make the unmasked area transparent if the normal_img is a 4-channel (RGBA) image.\n",
    "masked_img = np.where(mask_rgb, out_norm, 0)\n",
    "\n",
    "# Save the image\n",
    "image_dir, image_name = os.path.split(image_path_without_rgba)\n",
    "image_basename, image_ext = os.path.splitext(image_name)\n",
    "new_image_path = os.path.join(image_dir, f\"{image_basename}_normal{image_ext}\")\n",
    "\n",
    "image = Image.fromarray(masked_img)\n",
    "image.show()\n",
    "image.save(new_image_path)\n",
    "%cd ../../../"
   ]
  },
  {
   "cell_type": "code",
   "execution_count": null,
   "metadata": {},
   "outputs": [],
   "source": [
    "batch_size = 13 # 24\n"
   ]
  },
  {
   "cell_type": "code",
   "execution_count": null,
   "metadata": {},
   "outputs": [],
   "source": [
    "\n",
    "#%run preprocess_image.py front.png\n",
    "## zero123 train\n",
    "# pass in the processed <image>_rgba.png by  --default_polar 20 --image and do NOT pass in --text to enable zero-1-to-3 backend.--default_polar 0\n",
    "%run main.py -O --image {image_path} --workspace {workspace}  --iters 5000 --test_interval 10 --batch_size {batch_size}"
   ]
  },
  {
   "cell_type": "code",
   "execution_count": null,
   "metadata": {},
   "outputs": [],
   "source": [
    "%run main.py -O --batch_size {batch_size} --image {image_path} --test_interval 5 --workspace {workspace}_dmtet --dmtet   --init_with {workspace}/checkpoints/df.pth\n"
   ]
  },
  {
   "cell_type": "code",
   "execution_count": null,
   "metadata": {},
   "outputs": [],
   "source": [
    "%run main.py -O --image {image_path} --workspace {workspace}_dmtet --dmtet --test --save_mesh "
   ]
  },
  {
   "cell_type": "code",
   "execution_count": null,
   "metadata": {},
   "outputs": [],
   "source": [
    "%cd /notebooks/stable-dreamfusion/{workspace}_dmtet/\n",
    "!zip {workspace}.zip -r mesh\n",
    "%cd ../"
   ]
  },
  {
   "cell_type": "markdown",
   "metadata": {},
   "source": [
    "OTHER"
   ]
  },
  {
   "cell_type": "code",
   "execution_count": null,
   "metadata": {},
   "outputs": [],
   "source": [
    "%run main.py -O  --image {image_path} --workspace {workspace}_dmtet_mesh  --dmtet --iters 5000 --init_with  {workspace}_dmtet/mesh/mesh.obj --lock_geo"
   ]
  },
  {
   "cell_type": "code",
   "execution_count": null,
   "metadata": {},
   "outputs": [],
   "source": [
    "%run main.py -O --image {image_path} --workspace {workspace}_dmtet_mesh --dmtet --test --save_mesh"
   ]
  },
  {
   "cell_type": "markdown",
   "metadata": {},
   "source": [
    "SIMPLE EXPORT"
   ]
  },
  {
   "cell_type": "code",
   "execution_count": null,
   "metadata": {},
   "outputs": [],
   "source": [
    "%run main.py -O --image {image_path} --workspace {workspace} --test --save_mesh  "
   ]
  },
  {
   "cell_type": "code",
   "execution_count": null,
   "metadata": {},
   "outputs": [],
   "source": [
    "!chmod +x scripts/run_image_procedure.sh"
   ]
  },
  {
   "cell_type": "code",
   "execution_count": null,
   "metadata": {},
   "outputs": [],
   "source": [
    "import os\n",
    "import subprocess\n",
    "\n",
    "def run_image_procedure(GPU_ID, GUIDANCE_INTERVAL, DEFAULT_POLAR, PREFIX, PROMPT):\n",
    "    EPOCHS1 = 100\n",
    "    EPOCHS2 = 200\n",
    "    EPOCHS3 = 300\n",
    "    IMAGE = f\"/notebooks/threestudio/load/images/{PREFIX}.png\"\n",
    "    IMAGE_RGBA = f\"/notebooks/threestudio/load/images/{PREFIX}_rgba.png\"\n",
    "    WS_PH1 = f\"trial_{PREFIX}-ph1\"\n",
    "    WS_PH2 = f\"trial_{PREFIX}-ph2\"\n",
    "    WS_PH3 = f\"trial_{PREFIX}-ph3\"\n",
    "    CKPT1 = f\"{WS_PH1}/checkpoints/df_ep0{EPOCHS1}.pth\"\n",
    "    CKPT2 = f\"{WS_PH2}/checkpoints/df_ep0{EPOCHS2}.pth\"\n",
    "    CKPT3 = f\"{WS_PH3}/checkpoints/df_ep0{EPOCHS3}.pth\"\n",
    "\n",
    "    if not os.path.isfile(IMAGE_RGBA):\n",
    "        %run preprocess_image.py {IMAGE}\n",
    "\n",
    "    if not os.path.isfile(CKPT1):\n",
    "        %run main.py -O --image {IMAGE_RGBA} --workspace {WS_PH1} --default_polar {DEFAULT_POLAR} --iters {EPOCHS1}00 --save_guidance --save_guidance_interval {GUIDANCE_INTERVAL} --batch_size 6 --test_interval 2 --h 96 --w 96 --zero123_grad_scale None --lambda_3d_normal_smooth 0 --dont_override_stuff --fovy_range 20 20 --guidance_scale 5 \n",
    "\n",
    "    GUIDANCE_INTERVAL = 7\n",
    "    if not os.path.isfile(CKPT2):\n",
    "        %run main.py -O --image {IMAGE_RGBA} --workspace {WS_PH2} --text \"{PROMPT}\" --default_polar {DEFAULT_POLAR} --iters {EPOCHS2}00 --ckpt {CKPT1} --save_guidance --save_guidance_interval {GUIDANCE_INTERVAL} --h 128 --w 128 --albedo_iter_ratio 0.0 --t_range 0.2 0.6 --batch_size 4 --radius_range 2.2 2.6 --test_interval 2 --vram_O --guidance_scale 10 --jitter_pose --jitter_center 0.1 --jitter_target 0.1 --jitter_up 0.05 --known_view_noise_scale 0 --lambda_depth 0 --lr 0.003 --progressive_view --progressive_view_init_ratio 0.05 --known_view_interval 2 --dont_override_stuff --lambda_3d_normal_smooth 1 --textureless_ratio 0.0 --min_ambient_ratio 0.3 --exp_start_iter {EPOCHS1}00 --exp_end_iter {EPOCHS2}00\n",
    "\n",
    "    if not os.path.isfile(CKPT3):\n",
    "        %run main.py -O --image {IMAGE_RGBA} --workspace {WS_PH3} --text \"{PROMPT}\" --default_polar {DEFAULT_POLAR} --iters {EPOCHS3}00 --ckpt {CKPT2} --save_guidance --save_guidance_interval {GUIDANCE_INTERVAL} --h 512 --w 512 --albedo_iter_ratio 0.0 --t_range 0.0 0.5 --batch_size 1 --radius_range 3.2 3.6 --test_interval 2 --vram_O --guidance_scale 10 --jitter_pose --jitter_center 0.015 --jitter_target 0.015 --jitter_up 0.05 --known_view_noise_scale 0 --lambda_depth 0 --lr 0.003 --known_view_interval 2 --dont_override_stuff --lambda_3d_normal_smooth 0.5 --textureless_ratio 0.0 --min_ambient_ratio 0.3 --exp_start_iter {EPOCHS2}00 --exp_end_iter {EPOCHS3}00\n",
    "run_image_procedure(0, 30, 70, \"turtle_plant\", \"an 3D render of a pokemon ((mix between turtle and plant)) with ((red mark on feet)) and ((leaf crown)) on head\")\n"
   ]
  },
  {
   "cell_type": "code",
   "execution_count": null,
   "metadata": {},
   "outputs": [],
   "source": [
    "\n",
    "import os\n",
    "def delete_workspace(PREFIX):\n",
    "    WS_PH1 = f\"trial_{PREFIX}-ph1\"\n",
    "    WS_PH2 = f\"trial_{PREFIX}-ph2\"\n",
    "    WS_PH3 = f\"trial_{PREFIX}-ph3\"\n",
    "    \n",
    "    for workspace in [WS_PH1, WS_PH2, WS_PH3]:\n",
    "        if os.path.isdir(workspace):\n",
    "            os.system(f\"rm -r {workspace}\")\n",
    "            print(f\"Deleted workspace: {workspace}\")\n",
    "        else:\n",
    "            print(f\"No such workspace: {workspace}\")\n",
    "delete_workspace(\"turtle_plant\")"
   ]
  }
 ],
 "metadata": {
  "kernelspec": {
   "display_name": "stable",
   "language": "python",
   "name": "stable"
  },
  "language_info": {
   "codemirror_mode": {
    "name": "ipython",
    "version": 3
   },
   "file_extension": ".py",
   "mimetype": "text/x-python",
   "name": "python",
   "nbconvert_exporter": "python",
   "pygments_lexer": "ipython3",
   "version": "3.10.6"
  },
  "orig_nbformat": 4
 },
 "nbformat": 4,
 "nbformat_minor": 2
}
