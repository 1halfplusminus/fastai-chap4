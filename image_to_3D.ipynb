{
 "cells": [
  {
   "cell_type": "code",
   "execution_count": null,
   "metadata": {},
   "outputs": [],
   "source": [
    "!git clone https://github.com/ashawkey/stable-dreamfusion.git"
   ]
  },
  {
   "cell_type": "code",
   "execution_count": null,
   "metadata": {},
   "outputs": [],
   "source": [
    "%cd stable-dreamfusion\n"
   ]
  },
  {
   "cell_type": "code",
   "execution_count": null,
   "metadata": {},
   "outputs": [],
   "source": [
    "!git pull origin main"
   ]
  },
  {
   "cell_type": "code",
   "execution_count": null,
   "metadata": {},
   "outputs": [],
   "source": [
    "%pip install  -r requirements.txt \n",
    "# install requirements\n",
    "\"\"\" %pip install -r requirements.txt \"\"\"\n",
    "\"\"\" %pip install git+https://github.com/NVlabs/nvdiffrast/ \"\"\"\n",
    "\n",
    "# install CUDA extensions (takes about 8 minutes!)\n",
    "\"\"\" %pip install ./raymarching\n",
    "%pip install ./shencoder\n",
    "%pip install ./freqencoder\n",
    "%pip install ./gridencoder \"\"\""
   ]
  },
  {
   "cell_type": "code",
   "execution_count": null,
   "metadata": {},
   "outputs": [],
   "source": [
    "%cd pretrained/zero123\n",
    "\"\"\" !wget https://huggingface.co/cvlab/zero123-weights/resolve/main/105000.ckpt \"\"\"\n",
    "!wget https://zero123.cs.columbia.edu/assets/zero123-xl.ckpt\n",
    "%cd ../../"
   ]
  },
  {
   "cell_type": "code",
   "execution_count": null,
   "metadata": {},
   "outputs": [],
   "source": [
    "!mkdir pretrained/omnidata\n",
    "%cd pretrained/omnidata\n",
    "# assume gdown is installed\n",
    "!gdown '1Jrh-bRnJEjyMCS7f-WsaFlccfPjJPPHI&confirm=t' # omnidata_dpt_depth_v2.ckpt\n",
    "!gdown '1wNxVO4vVbDEMEpnAi_jwQObf2MFodcBR&confirm=t' # omnidata_dpt_normal_v2.ckpt\n",
    "%cd ../../"
   ]
  },
  {
   "cell_type": "code",
   "execution_count": null,
   "metadata": {},
   "outputs": [],
   "source": [
    "import cv2\n",
    "from PIL import Image\n",
    "import numpy as np\n",
    "print(f'[INFO] loading image...')\n",
    "image = Image.open('34.png')\n",
    "image = np.array(image)\n",
    "if image.dtype == np.uint16:\n",
    "    image = (image / 256).astype(np.uint8)\n",
    "\n",
    "\n",
    "# Now try to convert it to a PIL Image\n",
    "image = Image.fromarray(image)\n",
    "image.save(\"34.png\")"
   ]
  },
  {
   "cell_type": "code",
   "execution_count": null,
   "metadata": {},
   "outputs": [],
   "source": [
    "%run preprocess_image.py 34.png"
   ]
  },
  {
   "cell_type": "code",
   "execution_count": null,
   "metadata": {},
   "outputs": [],
   "source": [
    "\n",
    "#%run preprocess_image.py front.png\n",
    "\n",
    "## zero123 train\n",
    "# pass in the processed <image>_rgba.png by --image and do NOT pass in --text to enable zero-1-to-3 backend.\n",
    "%run main.py -O --image front_rgba.png --workspace trial_image --iters 5000"
   ]
  },
  {
   "cell_type": "code",
   "execution_count": null,
   "metadata": {},
   "outputs": [],
   "source": [
    "%run main.py -O --image_config config/<config>.csv --workspace trial_image --iters 5000 --batch_size 4\n"
   ]
  },
  {
   "cell_type": "code",
   "execution_count": null,
   "metadata": {},
   "outputs": [],
   "source": [
    "%run main.py -O --image front_rgba.png --workspace trial_image --dmtet --test --save_mesh"
   ]
  }
 ],
 "metadata": {
  "kernelspec": {
   "display_name": "myenv",
   "language": "python",
   "name": "myenv"
  },
  "language_info": {
   "codemirror_mode": {
    "name": "ipython",
    "version": 3
   },
   "file_extension": ".py",
   "mimetype": "text/x-python",
   "name": "python",
   "nbconvert_exporter": "python",
   "pygments_lexer": "ipython3",
   "version": "3.10.6"
  },
  "orig_nbformat": 4
 },
 "nbformat": 4,
 "nbformat_minor": 2
}
