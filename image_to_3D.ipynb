{
 "cells": [
  {
   "cell_type": "code",
   "execution_count": null,
   "metadata": {},
   "outputs": [],
   "source": [
    "!git clone https://github.com/ashawkey/stable-dreamfusion.git"
   ]
  },
  {
   "cell_type": "code",
   "execution_count": null,
   "metadata": {},
   "outputs": [],
   "source": [
    " %pip install trimesh\n",
    " %pip install pythreejs"
   ]
  },
  {
   "cell_type": "code",
   "execution_count": null,
   "metadata": {},
   "outputs": [],
   "source": [
    "!sudo apt-get install libeigen3-dev -y\n"
   ]
  },
  {
   "cell_type": "code",
   "execution_count": null,
   "metadata": {},
   "outputs": [],
   "source": [
    "%cd stable-dreamfusion\n"
   ]
  },
  {
   "cell_type": "code",
   "execution_count": null,
   "metadata": {},
   "outputs": [],
   "source": [
    "!git pull origin main"
   ]
  },
  {
   "cell_type": "code",
   "execution_count": null,
   "metadata": {},
   "outputs": [],
   "source": [
    "%pip install  -r requirements.txt --force-reinstall\n",
    "%pip install git+https://github.com/NVlabs/nvdiffrast/ \n",
    "\n"
   ]
  },
  {
   "cell_type": "code",
   "execution_count": null,
   "metadata": {},
   "outputs": [],
   "source": [
    "%pip install git+https://github.com/ashawkey/cubvh --force-reinstall"
   ]
  },
  {
   "cell_type": "code",
   "execution_count": null,
   "metadata": {},
   "outputs": [],
   "source": [
    "\n",
    "# install CUDA extensions (takes about 8 minutes!)\n",
    "%pip install ./raymarching --force-reinstall\n",
    "%pip install ./shencoder --force-reinstall\n",
    "%pip install ./freqencoder --force-reinstall\n",
    "%pip install ./gridencoder --force-reinstall\n",
    "#%pip install ./raymarching"
   ]
  },
  {
   "cell_type": "code",
   "execution_count": null,
   "metadata": {},
   "outputs": [],
   "source": [
    "\"\"\" %cd pretrained/zero123\n",
    "!cp /notebooks/threestudio/load/zero123/zero123-xl.ckpt  zero123-xl.ckpt\n",
    "%cd ../../ \"\"\""
   ]
  },
  {
   "cell_type": "code",
   "execution_count": null,
   "metadata": {},
   "outputs": [],
   "source": [
    "%cd pretrained/zero123\n",
    "!rm zero123-xl.ckpt\n",
    "\"\"\" !wget https://huggingface.co/cvlab/zero123-weights/resolve/main/105000.ckpt \"\"\"\n",
    "!wget https://zero123.cs.columbia.edu/assets/zero123-xl.ckpt\n",
    "%cd ../../"
   ]
  },
  {
   "cell_type": "code",
   "execution_count": null,
   "metadata": {},
   "outputs": [],
   "source": [
    "!mkdir pretrained/omnidata\n",
    "%cd pretrained/omnidata\n",
    "# assume gdown is installed\n",
    "!gdown '18AAi0v9t3z-Mh4B8pGk-SdUegng88B3J&confirm=t' # omnidata_dpt_depth_v2.ckpt\n",
    "!gdown '1gzMny6F3W7thYSM4Cr9gunxnPra1Tt6Z&confirm=t' # omnidata_dpt_normal_v2.ckpt\n",
    "%cd ../../"
   ]
  },
  {
   "cell_type": "code",
   "execution_count": null,
   "metadata": {},
   "outputs": [],
   "source": [
    "%cd pretrained/omnidata\n",
    "!gdown '1gzMny6F3W7thYSM4Cr9gunxnPra1Tt6Z&confirm=t' # omnidata_dpt_normal_v2.ckpt\n",
    "%cd ../../"
   ]
  },
  {
   "cell_type": "code",
   "execution_count": null,
   "metadata": {},
   "outputs": [],
   "source": [
    "!git clone https://github.com/DrSleep/multi-task-refinenet\n"
   ]
  },
  {
   "cell_type": "code",
   "execution_count": null,
   "metadata": {},
   "outputs": [],
   "source": [
    "%cd multi-task-refinenet\n",
    "%pip install -r req.txt\n",
    "%cd ../"
   ]
  },
  {
   "cell_type": "code",
   "execution_count": 1,
   "metadata": {},
   "outputs": [
    {
     "name": "stdout",
     "output_type": "stream",
     "text": [
      "/notebooks/stable-dreamfusion\n"
     ]
    }
   ],
   "source": [
    "%cd stable-dreamfusion"
   ]
  },
  {
   "cell_type": "code",
   "execution_count": 2,
   "metadata": {},
   "outputs": [
    {
     "name": "stdout",
     "output_type": "stream",
     "text": [
      "env: CUDA_VISIBLE_DEVICES=0\n"
     ]
    }
   ],
   "source": [
    "%env CUDA_VISIBLE_DEVICES=0\n",
    "workspace =\"scorp_side\"\n",
    "image_path = f'/notebooks/threestudio/load/images/{workspace}_rgba.png'\n",
    "image_path_without_rgba = image_path.replace('_rgba', '')\n"
   ]
  },
  {
   "cell_type": "code",
   "execution_count": null,
   "metadata": {},
   "outputs": [],
   "source": [
    "!rm -rf ./{workspace}\n",
    "!rm -rf ./{workspace}_dmtet"
   ]
  },
  {
   "cell_type": "code",
   "execution_count": null,
   "metadata": {},
   "outputs": [],
   "source": [
    "%run preprocess_image.py {image_path_without_rgba}"
   ]
  },
  {
   "cell_type": "code",
   "execution_count": null,
   "metadata": {},
   "outputs": [],
   "source": [
    "%cd multi-task-refinenet/src/notebooks\n",
    "%matplotlib inline\n",
    "\n",
    "import matplotlib.pyplot as plt\n",
    "from PIL import Image\n",
    "import numpy as np\n",
    "import sys\n",
    "sys.path.append('../')\n",
    "from models import net\n",
    "import cv2\n",
    "import torch\n",
    "from torch.autograd import Variable\n",
    "# Pre-processing and post-processing constants #\n",
    "CMAP = np.load('../cmap_nyud.npy')\n",
    "DEPTH_COEFF = 5000. # to convert into metres\n",
    "HAS_CUDA = torch.cuda.is_available()\n",
    "IMG_SCALE  = 1./255\n",
    "IMG_MEAN = np.array([0.485, 0.456, 0.406]).reshape((1, 1, 3))\n",
    "IMG_STD = np.array([0.229, 0.224, 0.225]).reshape((1, 1, 3))\n",
    "MAX_DEPTH = 8.\n",
    "MIN_DEPTH = 0.\n",
    "NUM_CLASSES = 40\n",
    "NUM_TASKS = 3 # segm + depth + normals\n",
    "def prepare_img(img):\n",
    "    return (img * IMG_SCALE - IMG_MEAN) / IMG_STD\n",
    "model = net(num_classes=NUM_CLASSES, num_tasks=NUM_TASKS)\n",
    "if HAS_CUDA:\n",
    "    _ = model.cuda()\n",
    "_ = model.eval()\n",
    "ckpt = torch.load('../../weights/ExpNYUD_three.ckpt')\n",
    "model.load_state_dict(ckpt['state_dict'])\n",
    "# Figure 5-bottom row\n",
    "img_path = image_path\n",
    "img = np.array(Image.open(img_path).convert('RGB'))\n",
    "\n",
    "with torch.no_grad():\n",
    "    img_var = Variable(torch.from_numpy(prepare_img(img).transpose(2, 0, 1)[None]), requires_grad=False).float()\n",
    "    if HAS_CUDA:\n",
    "        img_var = img_var.cuda()\n",
    "    segm, depth, norm = model(img_var)\n",
    "    segm = cv2.resize(segm[0, :NUM_CLASSES].cpu().data.numpy().transpose(1, 2, 0),\n",
    "                      img.shape[:2][::-1],\n",
    "                      interpolation=cv2.INTER_CUBIC)\n",
    "    depth = cv2.resize(depth[0, 0].cpu().data.numpy(),\n",
    "                       img.shape[:2][::-1],\n",
    "                       interpolation=cv2.INTER_CUBIC)\n",
    "    norm = cv2.resize(norm[0].cpu().data.numpy().transpose(1, 2, 0),\n",
    "                       img.shape[:2][::-1],\n",
    "                       interpolation=cv2.INTER_CUBIC)\n",
    "    segm = CMAP[segm.argmax(axis=2) + 1].astype(np.uint8)\n",
    "    depth = np.abs(depth)\n",
    "    out_norm = norm / np.linalg.norm(norm, axis=2, keepdims=True)\n",
    "    ## xzy->RGB ##\n",
    "    out_norm[:, :, 0] = ((out_norm[:, :, 0] + 1.) / 2.) * 255.\n",
    "    out_norm[:, :, 1] = ((out_norm[:, :, 1] + 1.) / 2.) * 255.\n",
    "    out_norm[:, :, 2] = ((1. - out_norm[:, :, 2]) / 2.) * 255.\n",
    "    out_norm = out_norm.astype(np.uint8)\n",
    "\n",
    "# mask\n",
    "\n",
    "\n",
    "# Define the depth threshold\n",
    "depth_threshold = 0.5\n",
    "depth_img = cv2.imread(image_path.replace(\"rgba\",\"depth\"), cv2.IMREAD_GRAYSCALE)\n",
    "# Create a boolean mask based on the depth threshold\n",
    "# True for pixels in depth_img less than or equal to the depth_threshold, False otherwise\n",
    "mask = depth_img > depth_threshold\n",
    "\n",
    "# Apply the mask to the normal image\n",
    "# First, we need to expand the dimensions of the mask to match the normal image\n",
    "# Here we assume that the normal image is a 3-channel (RGB) image\n",
    "mask_rgb = np.stack([mask]*3, axis=-1)\n",
    "\n",
    "# Now, we apply the mask to the normal image. We could set the unmasked area to a specific color (like black), \n",
    "# or we could make the unmasked area transparent if the normal_img is a 4-channel (RGBA) image.\n",
    "masked_img = np.where(mask_rgb, out_norm, 0)\n",
    "\n",
    "# Save the image\n",
    "image_dir, image_name = os.path.split(image_path_without_rgba)\n",
    "image_basename, image_ext = os.path.splitext(image_name)\n",
    "new_image_path = os.path.join(image_dir, f\"{image_basename}_normal{image_ext}\")\n",
    "\n",
    "image = Image.fromarray(masked_img)\n",
    "image.show()\n",
    "image.save(new_image_path)\n",
    "%cd ../../../"
   ]
  },
  {
   "cell_type": "code",
   "execution_count": 3,
   "metadata": {},
   "outputs": [],
   "source": [
    "batch_size = 24 # 13\n"
   ]
  },
  {
   "cell_type": "code",
   "execution_count": 4,
   "metadata": {},
   "outputs": [
    {
     "name": "stdout",
     "output_type": "stream",
     "text": [
      "Namespace(file=None, text=None, negative='', O=True, O2=False, test=False, six_views=False, eval_interval=1, test_interval=10, workspace='scorp_side', seed=None, image='/notebooks/threestudio/load/images/scorp_side_rgba.png', image_config=None, known_view_interval=4, IF=False, guidance=['zero123'], guidance_scale=5, save_mesh=False, mcubes_resolution=256, decimate_target=50000.0, dmtet=False, tet_grid_size=128, init_with='', lock_geo=False, perpneg=False, negative_w=-2, front_decay_factor=2, side_decay_factor=10, iters=5000, lr=0.001, ckpt='latest', cuda_ray=True, taichi_ray=False, max_steps=1024, num_steps=64, upsample_steps=32, update_extra_interval=16, max_ray_batch=4096, latent_iter_ratio=0, albedo_iter_ratio=0, min_ambient_ratio=0.1, textureless_ratio=0.2, jitter_pose=False, jitter_center=0.2, jitter_target=0.2, jitter_up=0.02, uniform_sphere_rate=0, grad_clip=-1, grad_clip_rgb=-1, bg_radius=1.4, density_activation='exp', density_thresh=10, blob_density=5, blob_radius=0.2, backbone='grid', optim='adan', sd_version='2.1', hf_key=None, fp16=True, vram_O=False, w=64, h=64, known_view_scale=1.5, known_view_noise_scale=0.002, dmtet_reso_scale=8, batch_size=24, bound=1, dt_gamma=0, min_near=0.01, radius_range=[3.0, 3.5], theta_range=[45, 105], phi_range=[-180, 180], fovy_range=[20, 20], default_radius=3.2, default_polar=90, default_azimuth=0, default_fovy=20, progressive_view=True, progressive_view_init_ratio=0.2, progressive_level=True, angle_overhead=30, angle_front=60, t_range=[0.02, 0.98], dont_override_stuff=False, lambda_entropy=1, lambda_opacity=0, lambda_orient=1, lambda_tv=0, lambda_wd=0, lambda_mesh_normal=0.5, lambda_mesh_laplacian=0.5, lambda_guidance=1, lambda_rgb=1000, lambda_mask=500, lambda_normal=0, lambda_depth=10, lambda_2d_normal_smooth=0, lambda_3d_normal_smooth=10, save_guidance=False, save_guidance_interval=10, gui=False, W=800, H=800, radius=5, fovy=20, light_theta=60, light_phi=0, max_spp=1, zero123_config='./pretrained/zero123/sd-objaverse-finetune-c_concat-256.yaml', zero123_ckpt='pretrained/zero123/zero123-xl.ckpt', zero123_grad_scale='angle', dataset_size_train=100, dataset_size_valid=8, dataset_size_test=100, exp_start_iter=0, exp_end_iter=5000, images=['/notebooks/threestudio/load/images/scorp_side_rgba.png'], ref_radii=[3.2], ref_polars=[90], ref_azimuths=[0], zero123_ws=[1], default_zero123_w=1, full_radius_range=[3.0, 3.5], full_theta_range=[45, 105], full_phi_range=[-180, 180], full_fovy_range=[20, 20])\n",
      "NeRFNetwork(\n",
      "  (encoder): GridEncoder: input_dim=3 num_levels=16 level_dim=2 resolution=16 -> 2048 per_level_scale=1.3819 params=(6098120, 2) gridtype=hash align_corners=False interpolation=smoothstep\n",
      "  (sigma_net): MLP(\n",
      "    (net): ModuleList(\n",
      "      (0): Linear(in_features=32, out_features=64, bias=True)\n",
      "      (1): Linear(in_features=64, out_features=64, bias=True)\n",
      "      (2): Linear(in_features=64, out_features=4, bias=True)\n",
      "    )\n",
      "  )\n",
      "  (encoder_bg): FreqEncoder: input_dim=3 degree=6 output_dim=39\n",
      "  (bg_net): MLP(\n",
      "    (net): ModuleList(\n",
      "      (0): Linear(in_features=39, out_features=32, bias=True)\n",
      "      (1): Linear(in_features=32, out_features=3, bias=True)\n",
      "    )\n",
      "  )\n",
      ")\n",
      "LatentDiffusion: Running in eps-prediction mode\n",
      "DiffusionWrapper has 859.53 M params.\n",
      "Keeping EMAs of 688.\n",
      "making attention of type 'vanilla' with 512 in_channels\n",
      "Working with z of shape (1, 4, 32, 32) = 4096 dimensions.\n",
      "making attention of type 'vanilla' with 512 in_channels\n",
      "[INFO] dataset: load image prompt ['/notebooks/threestudio/load/images/scorp_side_rgba.png'] torch.Size([1, 3, 96, 96])\n",
      "[INFO] dataset: load depth prompt ['/notebooks/threestudio/load/images/scorp_side_depth.png'] torch.Size([1, 96, 96])\n",
      "[INFO] dataset: load normal prompt ['/notebooks/threestudio/load/images/scorp_side_normal.png'] torch.Size([1, 96, 96, 3])\n"
     ]
    },
    {
     "data": {
      "text/html": [
       "<pre style=\"white-space:pre;overflow-x:auto;line-height:normal;font-family:Menlo,'DejaVu Sans Mono',consolas,'Courier New',monospace\"><span style=\"font-weight: bold\">[</span>INFO<span style=\"font-weight: bold\">]</span> Cmdline: main.py -O --image <span style=\"color: #800080; text-decoration-color: #800080\">/notebooks/threestudio/load/images/</span><span style=\"color: #ff00ff; text-decoration-color: #ff00ff\">scorp_side_rgba.png</span> --workspace scorp_side \n",
       "--iters <span style=\"color: #008080; text-decoration-color: #008080; font-weight: bold\">5000</span> --test_interval <span style=\"color: #008080; text-decoration-color: #008080; font-weight: bold\">10</span> --batch_size <span style=\"color: #008080; text-decoration-color: #008080; font-weight: bold\">24</span>\n",
       "</pre>\n"
      ],
      "text/plain": [
       "\u001b[1m[\u001b[0mINFO\u001b[1m]\u001b[0m Cmdline: main.py -O --image \u001b[35m/notebooks/threestudio/load/images/\u001b[0m\u001b[95mscorp_side_rgba.png\u001b[0m --workspace scorp_side \n",
       "--iters \u001b[1;36m5000\u001b[0m --test_interval \u001b[1;36m10\u001b[0m --batch_size \u001b[1;36m24\u001b[0m\n"
      ]
     },
     "metadata": {},
     "output_type": "display_data"
    },
    {
     "data": {
      "text/html": [
       "<pre style=\"white-space:pre;overflow-x:auto;line-height:normal;font-family:Menlo,'DejaVu Sans Mono',consolas,'Courier New',monospace\"><span style=\"font-weight: bold\">[</span>INFO<span style=\"font-weight: bold\">]</span> opt: <span style=\"color: #800080; text-decoration-color: #800080; font-weight: bold\">Namespace</span><span style=\"font-weight: bold\">(</span><span style=\"color: #808000; text-decoration-color: #808000\">file</span>=<span style=\"color: #800080; text-decoration-color: #800080; font-style: italic\">None</span>, <span style=\"color: #808000; text-decoration-color: #808000\">text</span>=<span style=\"color: #800080; text-decoration-color: #800080; font-style: italic\">None</span>, <span style=\"color: #808000; text-decoration-color: #808000\">negative</span>=<span style=\"color: #008000; text-decoration-color: #008000\">''</span>, <span style=\"color: #808000; text-decoration-color: #808000\">O</span>=<span style=\"color: #00ff00; text-decoration-color: #00ff00; font-style: italic\">True</span>, <span style=\"color: #808000; text-decoration-color: #808000\">O2</span>=<span style=\"color: #ff0000; text-decoration-color: #ff0000; font-style: italic\">False</span>, <span style=\"color: #808000; text-decoration-color: #808000\">test</span>=<span style=\"color: #ff0000; text-decoration-color: #ff0000; font-style: italic\">False</span>, <span style=\"color: #808000; text-decoration-color: #808000\">six_views</span>=<span style=\"color: #ff0000; text-decoration-color: #ff0000; font-style: italic\">False</span>, \n",
       "<span style=\"color: #808000; text-decoration-color: #808000\">eval_interval</span>=<span style=\"color: #008080; text-decoration-color: #008080; font-weight: bold\">1</span>, <span style=\"color: #808000; text-decoration-color: #808000\">test_interval</span>=<span style=\"color: #008080; text-decoration-color: #008080; font-weight: bold\">10</span>, <span style=\"color: #808000; text-decoration-color: #808000\">workspace</span>=<span style=\"color: #008000; text-decoration-color: #008000\">'scorp_side'</span>, <span style=\"color: #808000; text-decoration-color: #808000\">seed</span>=<span style=\"color: #800080; text-decoration-color: #800080; font-style: italic\">None</span>, \n",
       "<span style=\"color: #808000; text-decoration-color: #808000\">image</span>=<span style=\"color: #008000; text-decoration-color: #008000\">'/notebooks/threestudio/load/images/scorp_side_rgba.png'</span>, <span style=\"color: #808000; text-decoration-color: #808000\">image_config</span>=<span style=\"color: #800080; text-decoration-color: #800080; font-style: italic\">None</span>, <span style=\"color: #808000; text-decoration-color: #808000\">known_view_interval</span>=<span style=\"color: #008080; text-decoration-color: #008080; font-weight: bold\">4</span>, <span style=\"color: #808000; text-decoration-color: #808000\">IF</span>=<span style=\"color: #ff0000; text-decoration-color: #ff0000; font-style: italic\">False</span>,\n",
       "<span style=\"color: #808000; text-decoration-color: #808000\">guidance</span>=<span style=\"font-weight: bold\">[</span><span style=\"color: #008000; text-decoration-color: #008000\">'zero123'</span><span style=\"font-weight: bold\">]</span>, <span style=\"color: #808000; text-decoration-color: #808000\">guidance_scale</span>=<span style=\"color: #008080; text-decoration-color: #008080; font-weight: bold\">5</span>, <span style=\"color: #808000; text-decoration-color: #808000\">save_mesh</span>=<span style=\"color: #ff0000; text-decoration-color: #ff0000; font-style: italic\">False</span>, <span style=\"color: #808000; text-decoration-color: #808000\">mcubes_resolution</span>=<span style=\"color: #008080; text-decoration-color: #008080; font-weight: bold\">256</span>, <span style=\"color: #808000; text-decoration-color: #808000\">decimate_target</span>=<span style=\"color: #008080; text-decoration-color: #008080; font-weight: bold\">50000.0</span>, \n",
       "<span style=\"color: #808000; text-decoration-color: #808000\">dmtet</span>=<span style=\"color: #ff0000; text-decoration-color: #ff0000; font-style: italic\">False</span>, <span style=\"color: #808000; text-decoration-color: #808000\">tet_grid_size</span>=<span style=\"color: #008080; text-decoration-color: #008080; font-weight: bold\">128</span>, <span style=\"color: #808000; text-decoration-color: #808000\">init_with</span>=<span style=\"color: #008000; text-decoration-color: #008000\">''</span>, <span style=\"color: #808000; text-decoration-color: #808000\">lock_geo</span>=<span style=\"color: #ff0000; text-decoration-color: #ff0000; font-style: italic\">False</span>, <span style=\"color: #808000; text-decoration-color: #808000\">perpneg</span>=<span style=\"color: #ff0000; text-decoration-color: #ff0000; font-style: italic\">False</span>, <span style=\"color: #808000; text-decoration-color: #808000\">negative_w</span>=<span style=\"color: #008080; text-decoration-color: #008080; font-weight: bold\">-2</span>, <span style=\"color: #808000; text-decoration-color: #808000\">front_decay_factor</span>=<span style=\"color: #008080; text-decoration-color: #008080; font-weight: bold\">2</span>, \n",
       "<span style=\"color: #808000; text-decoration-color: #808000\">side_decay_factor</span>=<span style=\"color: #008080; text-decoration-color: #008080; font-weight: bold\">10</span>, <span style=\"color: #808000; text-decoration-color: #808000\">iters</span>=<span style=\"color: #008080; text-decoration-color: #008080; font-weight: bold\">5000</span>, <span style=\"color: #808000; text-decoration-color: #808000\">lr</span>=<span style=\"color: #008080; text-decoration-color: #008080; font-weight: bold\">0.001</span>, <span style=\"color: #808000; text-decoration-color: #808000\">ckpt</span>=<span style=\"color: #008000; text-decoration-color: #008000\">'latest'</span>, <span style=\"color: #808000; text-decoration-color: #808000\">cuda_ray</span>=<span style=\"color: #00ff00; text-decoration-color: #00ff00; font-style: italic\">True</span>, <span style=\"color: #808000; text-decoration-color: #808000\">taichi_ray</span>=<span style=\"color: #ff0000; text-decoration-color: #ff0000; font-style: italic\">False</span>, <span style=\"color: #808000; text-decoration-color: #808000\">max_steps</span>=<span style=\"color: #008080; text-decoration-color: #008080; font-weight: bold\">1024</span>, \n",
       "<span style=\"color: #808000; text-decoration-color: #808000\">num_steps</span>=<span style=\"color: #008080; text-decoration-color: #008080; font-weight: bold\">64</span>, <span style=\"color: #808000; text-decoration-color: #808000\">upsample_steps</span>=<span style=\"color: #008080; text-decoration-color: #008080; font-weight: bold\">32</span>, <span style=\"color: #808000; text-decoration-color: #808000\">update_extra_interval</span>=<span style=\"color: #008080; text-decoration-color: #008080; font-weight: bold\">16</span>, <span style=\"color: #808000; text-decoration-color: #808000\">max_ray_batch</span>=<span style=\"color: #008080; text-decoration-color: #008080; font-weight: bold\">4096</span>, <span style=\"color: #808000; text-decoration-color: #808000\">latent_iter_ratio</span>=<span style=\"color: #008080; text-decoration-color: #008080; font-weight: bold\">0</span>, \n",
       "<span style=\"color: #808000; text-decoration-color: #808000\">albedo_iter_ratio</span>=<span style=\"color: #008080; text-decoration-color: #008080; font-weight: bold\">0</span>, <span style=\"color: #808000; text-decoration-color: #808000\">min_ambient_ratio</span>=<span style=\"color: #008080; text-decoration-color: #008080; font-weight: bold\">0.1</span>, <span style=\"color: #808000; text-decoration-color: #808000\">textureless_ratio</span>=<span style=\"color: #008080; text-decoration-color: #008080; font-weight: bold\">0.2</span>, <span style=\"color: #808000; text-decoration-color: #808000\">jitter_pose</span>=<span style=\"color: #ff0000; text-decoration-color: #ff0000; font-style: italic\">False</span>, <span style=\"color: #808000; text-decoration-color: #808000\">jitter_center</span>=<span style=\"color: #008080; text-decoration-color: #008080; font-weight: bold\">0.2</span>, \n",
       "<span style=\"color: #808000; text-decoration-color: #808000\">jitter_target</span>=<span style=\"color: #008080; text-decoration-color: #008080; font-weight: bold\">0.2</span>, <span style=\"color: #808000; text-decoration-color: #808000\">jitter_up</span>=<span style=\"color: #008080; text-decoration-color: #008080; font-weight: bold\">0.02</span>, <span style=\"color: #808000; text-decoration-color: #808000\">uniform_sphere_rate</span>=<span style=\"color: #008080; text-decoration-color: #008080; font-weight: bold\">0</span>, <span style=\"color: #808000; text-decoration-color: #808000\">grad_clip</span>=<span style=\"color: #008080; text-decoration-color: #008080; font-weight: bold\">-1</span>, <span style=\"color: #808000; text-decoration-color: #808000\">grad_clip_rgb</span>=<span style=\"color: #008080; text-decoration-color: #008080; font-weight: bold\">-1</span>, <span style=\"color: #808000; text-decoration-color: #808000\">bg_radius</span>=<span style=\"color: #008080; text-decoration-color: #008080; font-weight: bold\">1.4</span>, \n",
       "<span style=\"color: #808000; text-decoration-color: #808000\">density_activation</span>=<span style=\"color: #008000; text-decoration-color: #008000\">'exp'</span>, <span style=\"color: #808000; text-decoration-color: #808000\">density_thresh</span>=<span style=\"color: #008080; text-decoration-color: #008080; font-weight: bold\">10</span>, <span style=\"color: #808000; text-decoration-color: #808000\">blob_density</span>=<span style=\"color: #008080; text-decoration-color: #008080; font-weight: bold\">5</span>, <span style=\"color: #808000; text-decoration-color: #808000\">blob_radius</span>=<span style=\"color: #008080; text-decoration-color: #008080; font-weight: bold\">0.2</span>, <span style=\"color: #808000; text-decoration-color: #808000\">backbone</span>=<span style=\"color: #008000; text-decoration-color: #008000\">'grid'</span>, <span style=\"color: #808000; text-decoration-color: #808000\">optim</span>=<span style=\"color: #008000; text-decoration-color: #008000\">'adan'</span>, \n",
       "<span style=\"color: #808000; text-decoration-color: #808000\">sd_version</span>=<span style=\"color: #008000; text-decoration-color: #008000\">'2.1'</span>, <span style=\"color: #808000; text-decoration-color: #808000\">hf_key</span>=<span style=\"color: #800080; text-decoration-color: #800080; font-style: italic\">None</span>, <span style=\"color: #808000; text-decoration-color: #808000\">fp16</span>=<span style=\"color: #00ff00; text-decoration-color: #00ff00; font-style: italic\">True</span>, <span style=\"color: #808000; text-decoration-color: #808000\">vram_O</span>=<span style=\"color: #ff0000; text-decoration-color: #ff0000; font-style: italic\">False</span>, <span style=\"color: #808000; text-decoration-color: #808000\">w</span>=<span style=\"color: #008080; text-decoration-color: #008080; font-weight: bold\">64</span>, <span style=\"color: #808000; text-decoration-color: #808000\">h</span>=<span style=\"color: #008080; text-decoration-color: #008080; font-weight: bold\">64</span>, <span style=\"color: #808000; text-decoration-color: #808000\">known_view_scale</span>=<span style=\"color: #008080; text-decoration-color: #008080; font-weight: bold\">1.5</span>, \n",
       "<span style=\"color: #808000; text-decoration-color: #808000\">known_view_noise_scale</span>=<span style=\"color: #008080; text-decoration-color: #008080; font-weight: bold\">0.002</span>, <span style=\"color: #808000; text-decoration-color: #808000\">dmtet_reso_scale</span>=<span style=\"color: #008080; text-decoration-color: #008080; font-weight: bold\">8</span>, <span style=\"color: #808000; text-decoration-color: #808000\">batch_size</span>=<span style=\"color: #008080; text-decoration-color: #008080; font-weight: bold\">24</span>, <span style=\"color: #808000; text-decoration-color: #808000\">bound</span>=<span style=\"color: #008080; text-decoration-color: #008080; font-weight: bold\">1</span>, <span style=\"color: #808000; text-decoration-color: #808000\">dt_gamma</span>=<span style=\"color: #008080; text-decoration-color: #008080; font-weight: bold\">0</span>, <span style=\"color: #808000; text-decoration-color: #808000\">min_near</span>=<span style=\"color: #008080; text-decoration-color: #008080; font-weight: bold\">0.01</span>, \n",
       "<span style=\"color: #808000; text-decoration-color: #808000\">radius_range</span>=<span style=\"font-weight: bold\">[</span><span style=\"color: #008080; text-decoration-color: #008080; font-weight: bold\">3.0</span>, <span style=\"color: #008080; text-decoration-color: #008080; font-weight: bold\">3.5</span><span style=\"font-weight: bold\">]</span>, <span style=\"color: #808000; text-decoration-color: #808000\">theta_range</span>=<span style=\"font-weight: bold\">[</span><span style=\"color: #008080; text-decoration-color: #008080; font-weight: bold\">45</span>, <span style=\"color: #008080; text-decoration-color: #008080; font-weight: bold\">105</span><span style=\"font-weight: bold\">]</span>, <span style=\"color: #808000; text-decoration-color: #808000\">phi_range</span>=<span style=\"font-weight: bold\">[</span><span style=\"color: #008080; text-decoration-color: #008080; font-weight: bold\">-180</span>, <span style=\"color: #008080; text-decoration-color: #008080; font-weight: bold\">180</span><span style=\"font-weight: bold\">]</span>, <span style=\"color: #808000; text-decoration-color: #808000\">fovy_range</span>=<span style=\"font-weight: bold\">[</span><span style=\"color: #008080; text-decoration-color: #008080; font-weight: bold\">20</span>, <span style=\"color: #008080; text-decoration-color: #008080; font-weight: bold\">20</span><span style=\"font-weight: bold\">]</span>, <span style=\"color: #808000; text-decoration-color: #808000\">default_radius</span>=<span style=\"color: #008080; text-decoration-color: #008080; font-weight: bold\">3.2</span>, \n",
       "<span style=\"color: #808000; text-decoration-color: #808000\">default_polar</span>=<span style=\"color: #008080; text-decoration-color: #008080; font-weight: bold\">90</span>, <span style=\"color: #808000; text-decoration-color: #808000\">default_azimuth</span>=<span style=\"color: #008080; text-decoration-color: #008080; font-weight: bold\">0</span>, <span style=\"color: #808000; text-decoration-color: #808000\">default_fovy</span>=<span style=\"color: #008080; text-decoration-color: #008080; font-weight: bold\">20</span>, <span style=\"color: #808000; text-decoration-color: #808000\">progressive_view</span>=<span style=\"color: #00ff00; text-decoration-color: #00ff00; font-style: italic\">True</span>, <span style=\"color: #808000; text-decoration-color: #808000\">progressive_view_init_ratio</span>=<span style=\"color: #008080; text-decoration-color: #008080; font-weight: bold\">0.2</span>, \n",
       "<span style=\"color: #808000; text-decoration-color: #808000\">progressive_level</span>=<span style=\"color: #00ff00; text-decoration-color: #00ff00; font-style: italic\">True</span>, <span style=\"color: #808000; text-decoration-color: #808000\">angle_overhead</span>=<span style=\"color: #008080; text-decoration-color: #008080; font-weight: bold\">30</span>, <span style=\"color: #808000; text-decoration-color: #808000\">angle_front</span>=<span style=\"color: #008080; text-decoration-color: #008080; font-weight: bold\">60</span>, <span style=\"color: #808000; text-decoration-color: #808000\">t_range</span>=<span style=\"font-weight: bold\">[</span><span style=\"color: #008080; text-decoration-color: #008080; font-weight: bold\">0.02</span>, <span style=\"color: #008080; text-decoration-color: #008080; font-weight: bold\">0.98</span><span style=\"font-weight: bold\">]</span>, <span style=\"color: #808000; text-decoration-color: #808000\">dont_override_stuff</span>=<span style=\"color: #ff0000; text-decoration-color: #ff0000; font-style: italic\">False</span>, \n",
       "<span style=\"color: #808000; text-decoration-color: #808000\">lambda_entropy</span>=<span style=\"color: #008080; text-decoration-color: #008080; font-weight: bold\">1</span>, <span style=\"color: #808000; text-decoration-color: #808000\">lambda_opacity</span>=<span style=\"color: #008080; text-decoration-color: #008080; font-weight: bold\">0</span>, <span style=\"color: #808000; text-decoration-color: #808000\">lambda_orient</span>=<span style=\"color: #008080; text-decoration-color: #008080; font-weight: bold\">1</span>, <span style=\"color: #808000; text-decoration-color: #808000\">lambda_tv</span>=<span style=\"color: #008080; text-decoration-color: #008080; font-weight: bold\">0</span>, <span style=\"color: #808000; text-decoration-color: #808000\">lambda_wd</span>=<span style=\"color: #008080; text-decoration-color: #008080; font-weight: bold\">0</span>, <span style=\"color: #808000; text-decoration-color: #808000\">lambda_mesh_normal</span>=<span style=\"color: #008080; text-decoration-color: #008080; font-weight: bold\">0.5</span>, \n",
       "<span style=\"color: #808000; text-decoration-color: #808000\">lambda_mesh_laplacian</span>=<span style=\"color: #008080; text-decoration-color: #008080; font-weight: bold\">0.5</span>, <span style=\"color: #808000; text-decoration-color: #808000\">lambda_guidance</span>=<span style=\"color: #008080; text-decoration-color: #008080; font-weight: bold\">1</span>, <span style=\"color: #808000; text-decoration-color: #808000\">lambda_rgb</span>=<span style=\"color: #008080; text-decoration-color: #008080; font-weight: bold\">1000</span>, <span style=\"color: #808000; text-decoration-color: #808000\">lambda_mask</span>=<span style=\"color: #008080; text-decoration-color: #008080; font-weight: bold\">500</span>, <span style=\"color: #808000; text-decoration-color: #808000\">lambda_normal</span>=<span style=\"color: #008080; text-decoration-color: #008080; font-weight: bold\">0</span>, <span style=\"color: #808000; text-decoration-color: #808000\">lambda_depth</span>=<span style=\"color: #008080; text-decoration-color: #008080; font-weight: bold\">10</span>, \n",
       "<span style=\"color: #808000; text-decoration-color: #808000\">lambda_2d_normal_smooth</span>=<span style=\"color: #008080; text-decoration-color: #008080; font-weight: bold\">0</span>, <span style=\"color: #808000; text-decoration-color: #808000\">lambda_3d_normal_smooth</span>=<span style=\"color: #008080; text-decoration-color: #008080; font-weight: bold\">10</span>, <span style=\"color: #808000; text-decoration-color: #808000\">save_guidance</span>=<span style=\"color: #ff0000; text-decoration-color: #ff0000; font-style: italic\">False</span>, <span style=\"color: #808000; text-decoration-color: #808000\">save_guidance_interval</span>=<span style=\"color: #008080; text-decoration-color: #008080; font-weight: bold\">10</span>, <span style=\"color: #808000; text-decoration-color: #808000\">gui</span>=<span style=\"color: #ff0000; text-decoration-color: #ff0000; font-style: italic\">False</span>, \n",
       "<span style=\"color: #808000; text-decoration-color: #808000\">W</span>=<span style=\"color: #008080; text-decoration-color: #008080; font-weight: bold\">800</span>, <span style=\"color: #808000; text-decoration-color: #808000\">H</span>=<span style=\"color: #008080; text-decoration-color: #008080; font-weight: bold\">800</span>, <span style=\"color: #808000; text-decoration-color: #808000\">radius</span>=<span style=\"color: #008080; text-decoration-color: #008080; font-weight: bold\">5</span>, <span style=\"color: #808000; text-decoration-color: #808000\">fovy</span>=<span style=\"color: #008080; text-decoration-color: #008080; font-weight: bold\">20</span>, <span style=\"color: #808000; text-decoration-color: #808000\">light_theta</span>=<span style=\"color: #008080; text-decoration-color: #008080; font-weight: bold\">60</span>, <span style=\"color: #808000; text-decoration-color: #808000\">light_phi</span>=<span style=\"color: #008080; text-decoration-color: #008080; font-weight: bold\">0</span>, <span style=\"color: #808000; text-decoration-color: #808000\">max_spp</span>=<span style=\"color: #008080; text-decoration-color: #008080; font-weight: bold\">1</span>, \n",
       "<span style=\"color: #808000; text-decoration-color: #808000\">zero123_config</span>=<span style=\"color: #008000; text-decoration-color: #008000\">'./pretrained/zero123/sd-objaverse-finetune-c_concat-256.yaml'</span>, \n",
       "<span style=\"color: #808000; text-decoration-color: #808000\">zero123_ckpt</span>=<span style=\"color: #008000; text-decoration-color: #008000\">'pretrained/zero123/zero123-xl.ckpt'</span>, <span style=\"color: #808000; text-decoration-color: #808000\">zero123_grad_scale</span>=<span style=\"color: #008000; text-decoration-color: #008000\">'angle'</span>, <span style=\"color: #808000; text-decoration-color: #808000\">dataset_size_train</span>=<span style=\"color: #008080; text-decoration-color: #008080; font-weight: bold\">100</span>, \n",
       "<span style=\"color: #808000; text-decoration-color: #808000\">dataset_size_valid</span>=<span style=\"color: #008080; text-decoration-color: #008080; font-weight: bold\">8</span>, <span style=\"color: #808000; text-decoration-color: #808000\">dataset_size_test</span>=<span style=\"color: #008080; text-decoration-color: #008080; font-weight: bold\">100</span>, <span style=\"color: #808000; text-decoration-color: #808000\">exp_start_iter</span>=<span style=\"color: #008080; text-decoration-color: #008080; font-weight: bold\">0</span>, <span style=\"color: #808000; text-decoration-color: #808000\">exp_end_iter</span>=<span style=\"color: #008080; text-decoration-color: #008080; font-weight: bold\">5000</span>, \n",
       "<span style=\"color: #808000; text-decoration-color: #808000\">images</span>=<span style=\"font-weight: bold\">[</span><span style=\"color: #008000; text-decoration-color: #008000\">'/notebooks/threestudio/load/images/scorp_side_rgba.png'</span><span style=\"font-weight: bold\">]</span>, <span style=\"color: #808000; text-decoration-color: #808000\">ref_radii</span>=<span style=\"font-weight: bold\">[</span><span style=\"color: #008080; text-decoration-color: #008080; font-weight: bold\">3.2</span><span style=\"font-weight: bold\">]</span>, <span style=\"color: #808000; text-decoration-color: #808000\">ref_polars</span>=<span style=\"font-weight: bold\">[</span><span style=\"color: #008080; text-decoration-color: #008080; font-weight: bold\">90</span><span style=\"font-weight: bold\">]</span>, \n",
       "<span style=\"color: #808000; text-decoration-color: #808000\">ref_azimuths</span>=<span style=\"font-weight: bold\">[</span><span style=\"color: #008080; text-decoration-color: #008080; font-weight: bold\">0</span><span style=\"font-weight: bold\">]</span>, <span style=\"color: #808000; text-decoration-color: #808000\">zero123_ws</span>=<span style=\"font-weight: bold\">[</span><span style=\"color: #008080; text-decoration-color: #008080; font-weight: bold\">1</span><span style=\"font-weight: bold\">]</span>, <span style=\"color: #808000; text-decoration-color: #808000\">default_zero123_w</span>=<span style=\"color: #008080; text-decoration-color: #008080; font-weight: bold\">1</span>, <span style=\"color: #808000; text-decoration-color: #808000\">full_radius_range</span>=<span style=\"font-weight: bold\">[</span><span style=\"color: #008080; text-decoration-color: #008080; font-weight: bold\">3.0</span>, <span style=\"color: #008080; text-decoration-color: #008080; font-weight: bold\">3.5</span><span style=\"font-weight: bold\">]</span>, <span style=\"color: #808000; text-decoration-color: #808000\">full_theta_range</span>=<span style=\"font-weight: bold\">[</span><span style=\"color: #008080; text-decoration-color: #008080; font-weight: bold\">45</span>, <span style=\"color: #008080; text-decoration-color: #008080; font-weight: bold\">105</span><span style=\"font-weight: bold\">]</span>, \n",
       "<span style=\"color: #808000; text-decoration-color: #808000\">full_phi_range</span>=<span style=\"font-weight: bold\">[</span><span style=\"color: #008080; text-decoration-color: #008080; font-weight: bold\">-180</span>, <span style=\"color: #008080; text-decoration-color: #008080; font-weight: bold\">180</span><span style=\"font-weight: bold\">]</span>, <span style=\"color: #808000; text-decoration-color: #808000\">full_fovy_range</span>=<span style=\"font-weight: bold\">[</span><span style=\"color: #008080; text-decoration-color: #008080; font-weight: bold\">20</span>, <span style=\"color: #008080; text-decoration-color: #008080; font-weight: bold\">20</span><span style=\"font-weight: bold\">])</span>\n",
       "</pre>\n"
      ],
      "text/plain": [
       "\u001b[1m[\u001b[0mINFO\u001b[1m]\u001b[0m opt: \u001b[1;35mNamespace\u001b[0m\u001b[1m(\u001b[0m\u001b[33mfile\u001b[0m=\u001b[3;35mNone\u001b[0m, \u001b[33mtext\u001b[0m=\u001b[3;35mNone\u001b[0m, \u001b[33mnegative\u001b[0m=\u001b[32m''\u001b[0m, \u001b[33mO\u001b[0m=\u001b[3;92mTrue\u001b[0m, \u001b[33mO2\u001b[0m=\u001b[3;91mFalse\u001b[0m, \u001b[33mtest\u001b[0m=\u001b[3;91mFalse\u001b[0m, \u001b[33msix_views\u001b[0m=\u001b[3;91mFalse\u001b[0m, \n",
       "\u001b[33meval_interval\u001b[0m=\u001b[1;36m1\u001b[0m, \u001b[33mtest_interval\u001b[0m=\u001b[1;36m10\u001b[0m, \u001b[33mworkspace\u001b[0m=\u001b[32m'scorp_side'\u001b[0m, \u001b[33mseed\u001b[0m=\u001b[3;35mNone\u001b[0m, \n",
       "\u001b[33mimage\u001b[0m=\u001b[32m'/notebooks/threestudio/load/images/scorp_side_rgba.png'\u001b[0m, \u001b[33mimage_config\u001b[0m=\u001b[3;35mNone\u001b[0m, \u001b[33mknown_view_interval\u001b[0m=\u001b[1;36m4\u001b[0m, \u001b[33mIF\u001b[0m=\u001b[3;91mFalse\u001b[0m,\n",
       "\u001b[33mguidance\u001b[0m=\u001b[1m[\u001b[0m\u001b[32m'zero123'\u001b[0m\u001b[1m]\u001b[0m, \u001b[33mguidance_scale\u001b[0m=\u001b[1;36m5\u001b[0m, \u001b[33msave_mesh\u001b[0m=\u001b[3;91mFalse\u001b[0m, \u001b[33mmcubes_resolution\u001b[0m=\u001b[1;36m256\u001b[0m, \u001b[33mdecimate_target\u001b[0m=\u001b[1;36m50000\u001b[0m\u001b[1;36m.0\u001b[0m, \n",
       "\u001b[33mdmtet\u001b[0m=\u001b[3;91mFalse\u001b[0m, \u001b[33mtet_grid_size\u001b[0m=\u001b[1;36m128\u001b[0m, \u001b[33minit_with\u001b[0m=\u001b[32m''\u001b[0m, \u001b[33mlock_geo\u001b[0m=\u001b[3;91mFalse\u001b[0m, \u001b[33mperpneg\u001b[0m=\u001b[3;91mFalse\u001b[0m, \u001b[33mnegative_w\u001b[0m=\u001b[1;36m-2\u001b[0m, \u001b[33mfront_decay_factor\u001b[0m=\u001b[1;36m2\u001b[0m, \n",
       "\u001b[33mside_decay_factor\u001b[0m=\u001b[1;36m10\u001b[0m, \u001b[33miters\u001b[0m=\u001b[1;36m5000\u001b[0m, \u001b[33mlr\u001b[0m=\u001b[1;36m0\u001b[0m\u001b[1;36m.001\u001b[0m, \u001b[33mckpt\u001b[0m=\u001b[32m'latest'\u001b[0m, \u001b[33mcuda_ray\u001b[0m=\u001b[3;92mTrue\u001b[0m, \u001b[33mtaichi_ray\u001b[0m=\u001b[3;91mFalse\u001b[0m, \u001b[33mmax_steps\u001b[0m=\u001b[1;36m1024\u001b[0m, \n",
       "\u001b[33mnum_steps\u001b[0m=\u001b[1;36m64\u001b[0m, \u001b[33mupsample_steps\u001b[0m=\u001b[1;36m32\u001b[0m, \u001b[33mupdate_extra_interval\u001b[0m=\u001b[1;36m16\u001b[0m, \u001b[33mmax_ray_batch\u001b[0m=\u001b[1;36m4096\u001b[0m, \u001b[33mlatent_iter_ratio\u001b[0m=\u001b[1;36m0\u001b[0m, \n",
       "\u001b[33malbedo_iter_ratio\u001b[0m=\u001b[1;36m0\u001b[0m, \u001b[33mmin_ambient_ratio\u001b[0m=\u001b[1;36m0\u001b[0m\u001b[1;36m.1\u001b[0m, \u001b[33mtextureless_ratio\u001b[0m=\u001b[1;36m0\u001b[0m\u001b[1;36m.2\u001b[0m, \u001b[33mjitter_pose\u001b[0m=\u001b[3;91mFalse\u001b[0m, \u001b[33mjitter_center\u001b[0m=\u001b[1;36m0\u001b[0m\u001b[1;36m.2\u001b[0m, \n",
       "\u001b[33mjitter_target\u001b[0m=\u001b[1;36m0\u001b[0m\u001b[1;36m.2\u001b[0m, \u001b[33mjitter_up\u001b[0m=\u001b[1;36m0\u001b[0m\u001b[1;36m.02\u001b[0m, \u001b[33muniform_sphere_rate\u001b[0m=\u001b[1;36m0\u001b[0m, \u001b[33mgrad_clip\u001b[0m=\u001b[1;36m-1\u001b[0m, \u001b[33mgrad_clip_rgb\u001b[0m=\u001b[1;36m-1\u001b[0m, \u001b[33mbg_radius\u001b[0m=\u001b[1;36m1\u001b[0m\u001b[1;36m.4\u001b[0m, \n",
       "\u001b[33mdensity_activation\u001b[0m=\u001b[32m'exp'\u001b[0m, \u001b[33mdensity_thresh\u001b[0m=\u001b[1;36m10\u001b[0m, \u001b[33mblob_density\u001b[0m=\u001b[1;36m5\u001b[0m, \u001b[33mblob_radius\u001b[0m=\u001b[1;36m0\u001b[0m\u001b[1;36m.2\u001b[0m, \u001b[33mbackbone\u001b[0m=\u001b[32m'grid'\u001b[0m, \u001b[33moptim\u001b[0m=\u001b[32m'adan'\u001b[0m, \n",
       "\u001b[33msd_version\u001b[0m=\u001b[32m'2.1'\u001b[0m, \u001b[33mhf_key\u001b[0m=\u001b[3;35mNone\u001b[0m, \u001b[33mfp16\u001b[0m=\u001b[3;92mTrue\u001b[0m, \u001b[33mvram_O\u001b[0m=\u001b[3;91mFalse\u001b[0m, \u001b[33mw\u001b[0m=\u001b[1;36m64\u001b[0m, \u001b[33mh\u001b[0m=\u001b[1;36m64\u001b[0m, \u001b[33mknown_view_scale\u001b[0m=\u001b[1;36m1\u001b[0m\u001b[1;36m.5\u001b[0m, \n",
       "\u001b[33mknown_view_noise_scale\u001b[0m=\u001b[1;36m0\u001b[0m\u001b[1;36m.002\u001b[0m, \u001b[33mdmtet_reso_scale\u001b[0m=\u001b[1;36m8\u001b[0m, \u001b[33mbatch_size\u001b[0m=\u001b[1;36m24\u001b[0m, \u001b[33mbound\u001b[0m=\u001b[1;36m1\u001b[0m, \u001b[33mdt_gamma\u001b[0m=\u001b[1;36m0\u001b[0m, \u001b[33mmin_near\u001b[0m=\u001b[1;36m0\u001b[0m\u001b[1;36m.01\u001b[0m, \n",
       "\u001b[33mradius_range\u001b[0m=\u001b[1m[\u001b[0m\u001b[1;36m3.0\u001b[0m, \u001b[1;36m3.5\u001b[0m\u001b[1m]\u001b[0m, \u001b[33mtheta_range\u001b[0m=\u001b[1m[\u001b[0m\u001b[1;36m45\u001b[0m, \u001b[1;36m105\u001b[0m\u001b[1m]\u001b[0m, \u001b[33mphi_range\u001b[0m=\u001b[1m[\u001b[0m\u001b[1;36m-180\u001b[0m, \u001b[1;36m180\u001b[0m\u001b[1m]\u001b[0m, \u001b[33mfovy_range\u001b[0m=\u001b[1m[\u001b[0m\u001b[1;36m20\u001b[0m, \u001b[1;36m20\u001b[0m\u001b[1m]\u001b[0m, \u001b[33mdefault_radius\u001b[0m=\u001b[1;36m3\u001b[0m\u001b[1;36m.2\u001b[0m, \n",
       "\u001b[33mdefault_polar\u001b[0m=\u001b[1;36m90\u001b[0m, \u001b[33mdefault_azimuth\u001b[0m=\u001b[1;36m0\u001b[0m, \u001b[33mdefault_fovy\u001b[0m=\u001b[1;36m20\u001b[0m, \u001b[33mprogressive_view\u001b[0m=\u001b[3;92mTrue\u001b[0m, \u001b[33mprogressive_view_init_ratio\u001b[0m=\u001b[1;36m0\u001b[0m\u001b[1;36m.2\u001b[0m, \n",
       "\u001b[33mprogressive_level\u001b[0m=\u001b[3;92mTrue\u001b[0m, \u001b[33mangle_overhead\u001b[0m=\u001b[1;36m30\u001b[0m, \u001b[33mangle_front\u001b[0m=\u001b[1;36m60\u001b[0m, \u001b[33mt_range\u001b[0m=\u001b[1m[\u001b[0m\u001b[1;36m0.02\u001b[0m, \u001b[1;36m0.98\u001b[0m\u001b[1m]\u001b[0m, \u001b[33mdont_override_stuff\u001b[0m=\u001b[3;91mFalse\u001b[0m, \n",
       "\u001b[33mlambda_entropy\u001b[0m=\u001b[1;36m1\u001b[0m, \u001b[33mlambda_opacity\u001b[0m=\u001b[1;36m0\u001b[0m, \u001b[33mlambda_orient\u001b[0m=\u001b[1;36m1\u001b[0m, \u001b[33mlambda_tv\u001b[0m=\u001b[1;36m0\u001b[0m, \u001b[33mlambda_wd\u001b[0m=\u001b[1;36m0\u001b[0m, \u001b[33mlambda_mesh_normal\u001b[0m=\u001b[1;36m0\u001b[0m\u001b[1;36m.5\u001b[0m, \n",
       "\u001b[33mlambda_mesh_laplacian\u001b[0m=\u001b[1;36m0\u001b[0m\u001b[1;36m.5\u001b[0m, \u001b[33mlambda_guidance\u001b[0m=\u001b[1;36m1\u001b[0m, \u001b[33mlambda_rgb\u001b[0m=\u001b[1;36m1000\u001b[0m, \u001b[33mlambda_mask\u001b[0m=\u001b[1;36m500\u001b[0m, \u001b[33mlambda_normal\u001b[0m=\u001b[1;36m0\u001b[0m, \u001b[33mlambda_depth\u001b[0m=\u001b[1;36m10\u001b[0m, \n",
       "\u001b[33mlambda_2d_normal_smooth\u001b[0m=\u001b[1;36m0\u001b[0m, \u001b[33mlambda_3d_normal_smooth\u001b[0m=\u001b[1;36m10\u001b[0m, \u001b[33msave_guidance\u001b[0m=\u001b[3;91mFalse\u001b[0m, \u001b[33msave_guidance_interval\u001b[0m=\u001b[1;36m10\u001b[0m, \u001b[33mgui\u001b[0m=\u001b[3;91mFalse\u001b[0m, \n",
       "\u001b[33mW\u001b[0m=\u001b[1;36m800\u001b[0m, \u001b[33mH\u001b[0m=\u001b[1;36m800\u001b[0m, \u001b[33mradius\u001b[0m=\u001b[1;36m5\u001b[0m, \u001b[33mfovy\u001b[0m=\u001b[1;36m20\u001b[0m, \u001b[33mlight_theta\u001b[0m=\u001b[1;36m60\u001b[0m, \u001b[33mlight_phi\u001b[0m=\u001b[1;36m0\u001b[0m, \u001b[33mmax_spp\u001b[0m=\u001b[1;36m1\u001b[0m, \n",
       "\u001b[33mzero123_config\u001b[0m=\u001b[32m'./pretrained/zero123/sd-objaverse-finetune-c_concat-256.yaml'\u001b[0m, \n",
       "\u001b[33mzero123_ckpt\u001b[0m=\u001b[32m'pretrained/zero123/zero123-xl.ckpt'\u001b[0m, \u001b[33mzero123_grad_scale\u001b[0m=\u001b[32m'angle'\u001b[0m, \u001b[33mdataset_size_train\u001b[0m=\u001b[1;36m100\u001b[0m, \n",
       "\u001b[33mdataset_size_valid\u001b[0m=\u001b[1;36m8\u001b[0m, \u001b[33mdataset_size_test\u001b[0m=\u001b[1;36m100\u001b[0m, \u001b[33mexp_start_iter\u001b[0m=\u001b[1;36m0\u001b[0m, \u001b[33mexp_end_iter\u001b[0m=\u001b[1;36m5000\u001b[0m, \n",
       "\u001b[33mimages\u001b[0m=\u001b[1m[\u001b[0m\u001b[32m'/notebooks/threestudio/load/images/scorp_side_rgba.png'\u001b[0m\u001b[1m]\u001b[0m, \u001b[33mref_radii\u001b[0m=\u001b[1m[\u001b[0m\u001b[1;36m3.2\u001b[0m\u001b[1m]\u001b[0m, \u001b[33mref_polars\u001b[0m=\u001b[1m[\u001b[0m\u001b[1;36m90\u001b[0m\u001b[1m]\u001b[0m, \n",
       "\u001b[33mref_azimuths\u001b[0m=\u001b[1m[\u001b[0m\u001b[1;36m0\u001b[0m\u001b[1m]\u001b[0m, \u001b[33mzero123_ws\u001b[0m=\u001b[1m[\u001b[0m\u001b[1;36m1\u001b[0m\u001b[1m]\u001b[0m, \u001b[33mdefault_zero123_w\u001b[0m=\u001b[1;36m1\u001b[0m, \u001b[33mfull_radius_range\u001b[0m=\u001b[1m[\u001b[0m\u001b[1;36m3.0\u001b[0m, \u001b[1;36m3.5\u001b[0m\u001b[1m]\u001b[0m, \u001b[33mfull_theta_range\u001b[0m=\u001b[1m[\u001b[0m\u001b[1;36m45\u001b[0m, \u001b[1;36m105\u001b[0m\u001b[1m]\u001b[0m, \n",
       "\u001b[33mfull_phi_range\u001b[0m=\u001b[1m[\u001b[0m\u001b[1;36m-180\u001b[0m, \u001b[1;36m180\u001b[0m\u001b[1m]\u001b[0m, \u001b[33mfull_fovy_range\u001b[0m=\u001b[1m[\u001b[0m\u001b[1;36m20\u001b[0m, \u001b[1;36m20\u001b[0m\u001b[1m]\u001b[0m\u001b[1m)\u001b[0m\n"
      ]
     },
     "metadata": {},
     "output_type": "display_data"
    },
    {
     "data": {
      "text/html": [
       "<pre style=\"white-space:pre;overflow-x:auto;line-height:normal;font-family:Menlo,'DejaVu Sans Mono',consolas,'Courier New',monospace\"><span style=\"font-weight: bold\">[</span>INFO<span style=\"font-weight: bold\">]</span> Trainer: df | <span style=\"color: #008080; text-decoration-color: #008080; font-weight: bold\">2023</span>-<span style=\"color: #008080; text-decoration-color: #008080; font-weight: bold\">08</span>-27_04-<span style=\"color: #008080; text-decoration-color: #008080; font-weight: bold\">24</span>-<span style=\"color: #008080; text-decoration-color: #008080; font-weight: bold\">53</span> | cuda | fp16 | scorp_side\n",
       "</pre>\n"
      ],
      "text/plain": [
       "\u001b[1m[\u001b[0mINFO\u001b[1m]\u001b[0m Trainer: df | \u001b[1;36m2023\u001b[0m-\u001b[1;36m08\u001b[0m-27_04-\u001b[1;36m24\u001b[0m-\u001b[1;36m53\u001b[0m | cuda | fp16 | scorp_side\n"
      ]
     },
     "metadata": {},
     "output_type": "display_data"
    },
    {
     "data": {
      "text/html": [
       "<pre style=\"white-space:pre;overflow-x:auto;line-height:normal;font-family:Menlo,'DejaVu Sans Mono',consolas,'Courier New',monospace\"><span style=\"font-weight: bold\">[</span>INFO<span style=\"font-weight: bold\">]</span> #parameters: <span style=\"color: #008080; text-decoration-color: #008080; font-weight: bold\">12204151</span>\n",
       "</pre>\n"
      ],
      "text/plain": [
       "\u001b[1m[\u001b[0mINFO\u001b[1m]\u001b[0m #parameters: \u001b[1;36m12204151\u001b[0m\n"
      ]
     },
     "metadata": {},
     "output_type": "display_data"
    },
    {
     "data": {
      "text/html": [
       "<pre style=\"white-space:pre;overflow-x:auto;line-height:normal;font-family:Menlo,'DejaVu Sans Mono',consolas,'Courier New',monospace\"><span style=\"font-weight: bold\">[</span>INFO<span style=\"font-weight: bold\">]</span> Loading latest checkpoint <span style=\"color: #808000; text-decoration-color: #808000\">...</span>\n",
       "</pre>\n"
      ],
      "text/plain": [
       "\u001b[1m[\u001b[0mINFO\u001b[1m]\u001b[0m Loading latest checkpoint \u001b[33m...\u001b[0m\n"
      ]
     },
     "metadata": {},
     "output_type": "display_data"
    },
    {
     "data": {
      "text/html": [
       "<pre style=\"white-space:pre;overflow-x:auto;line-height:normal;font-family:Menlo,'DejaVu Sans Mono',consolas,'Courier New',monospace\"><span style=\"font-weight: bold\">[</span>WARN<span style=\"font-weight: bold\">]</span> No checkpoint found, model randomly initialized.\n",
       "</pre>\n"
      ],
      "text/plain": [
       "\u001b[1m[\u001b[0mWARN\u001b[1m]\u001b[0m No checkpoint found, model randomly initialized.\n"
      ]
     },
     "metadata": {},
     "output_type": "display_data"
    },
    {
     "data": {
      "text/html": [
       "<pre style=\"white-space:pre;overflow-x:auto;line-height:normal;font-family:Menlo,'DejaVu Sans Mono',consolas,'Courier New',monospace\">==&gt; <span style=\"font-weight: bold\">[</span><span style=\"color: #008080; text-decoration-color: #008080; font-weight: bold\">2023</span>-<span style=\"color: #008080; text-decoration-color: #008080; font-weight: bold\">08</span>-27_04-<span style=\"color: #008080; text-decoration-color: #008080; font-weight: bold\">24</span>-<span style=\"color: #008080; text-decoration-color: #008080; font-weight: bold\">55</span><span style=\"font-weight: bold\">]</span> Start Training scorp_side Epoch <span style=\"color: #008080; text-decoration-color: #008080; font-weight: bold\">1</span>/<span style=\"color: #008080; text-decoration-color: #008080; font-weight: bold\">50</span>, <span style=\"color: #808000; text-decoration-color: #808000\">lr</span>=<span style=\"color: #008080; text-decoration-color: #008080; font-weight: bold\">0.050000</span> <span style=\"color: #808000; text-decoration-color: #808000\">...</span>\n",
       "</pre>\n"
      ],
      "text/plain": [
       "==> \u001b[1m[\u001b[0m\u001b[1;36m2023\u001b[0m-\u001b[1;36m08\u001b[0m-27_04-\u001b[1;36m24\u001b[0m-\u001b[1;36m55\u001b[0m\u001b[1m]\u001b[0m Start Training scorp_side Epoch \u001b[1;36m1\u001b[0m/\u001b[1;36m50\u001b[0m, \u001b[33mlr\u001b[0m=\u001b[1;36m0\u001b[0m\u001b[1;36m.050000\u001b[0m \u001b[33m...\u001b[0m\n"
      ]
     },
     "metadata": {},
     "output_type": "display_data"
    },
    {
     "name": "stderr",
     "output_type": "stream",
     "text": [
      "loss=65.5648 (26.2728), lr=0.050000: : 100% 2400/2400 [02:05<00:00, 19.17it/s]\n"
     ]
    },
    {
     "data": {
      "text/html": [
       "<pre style=\"white-space:pre;overflow-x:auto;line-height:normal;font-family:Menlo,'DejaVu Sans Mono',consolas,'Courier New',monospace\">==&gt; <span style=\"font-weight: bold\">[</span><span style=\"color: #008080; text-decoration-color: #008080; font-weight: bold\">2023</span>-<span style=\"color: #008080; text-decoration-color: #008080; font-weight: bold\">08</span>-27_04-<span style=\"color: #008080; text-decoration-color: #008080; font-weight: bold\">27</span>-<span style=\"color: #008080; text-decoration-color: #008080; font-weight: bold\">00</span><span style=\"font-weight: bold\">]</span> Finished Epoch <span style=\"color: #008080; text-decoration-color: #008080; font-weight: bold\">1</span>/<span style=\"color: #008080; text-decoration-color: #008080; font-weight: bold\">50</span>. <span style=\"color: #808000; text-decoration-color: #808000\">CPU</span>=<span style=\"color: #008080; text-decoration-color: #008080; font-weight: bold\">11.</span>6GB, <span style=\"color: #808000; text-decoration-color: #808000\">GPU</span>=<span style=\"color: #008080; text-decoration-color: #008080; font-weight: bold\">79.</span>1GB.\n",
       "</pre>\n"
      ],
      "text/plain": [
       "==> \u001b[1m[\u001b[0m\u001b[1;36m2023\u001b[0m-\u001b[1;36m08\u001b[0m-27_04-\u001b[1;36m27\u001b[0m-\u001b[1;36m00\u001b[0m\u001b[1m]\u001b[0m Finished Epoch \u001b[1;36m1\u001b[0m/\u001b[1;36m50\u001b[0m. \u001b[33mCPU\u001b[0m=\u001b[1;36m11\u001b[0m\u001b[1;36m.\u001b[0m6GB, \u001b[33mGPU\u001b[0m=\u001b[1;36m79\u001b[0m\u001b[1;36m.\u001b[0m1GB.\n"
      ]
     },
     "metadata": {},
     "output_type": "display_data"
    },
    {
     "data": {
      "text/html": [
       "<pre style=\"white-space:pre;overflow-x:auto;line-height:normal;font-family:Menlo,'DejaVu Sans Mono',consolas,'Courier New',monospace\">++&gt; Evaluate scorp_side at epoch <span style=\"color: #008080; text-decoration-color: #008080; font-weight: bold\">1</span> <span style=\"color: #808000; text-decoration-color: #808000\">...</span>\n",
       "</pre>\n"
      ],
      "text/plain": [
       "++> Evaluate scorp_side at epoch \u001b[1;36m1\u001b[0m \u001b[33m...\u001b[0m\n"
      ]
     },
     "metadata": {},
     "output_type": "display_data"
    },
    {
     "name": "stderr",
     "output_type": "stream",
     "text": [
      "loss=0.0000 (0.0000): : 100% 8/8 [00:01<00:00,  5.29it/s]\n"
     ]
    },
    {
     "data": {
      "text/html": [
       "<pre style=\"white-space:pre;overflow-x:auto;line-height:normal;font-family:Menlo,'DejaVu Sans Mono',consolas,'Courier New',monospace\">++&gt; Evaluate epoch <span style=\"color: #008080; text-decoration-color: #008080; font-weight: bold\">1</span> Finished.\n",
       "</pre>\n"
      ],
      "text/plain": [
       "++> Evaluate epoch \u001b[1;36m1\u001b[0m Finished.\n"
      ]
     },
     "metadata": {},
     "output_type": "display_data"
    },
    {
     "data": {
      "text/html": [
       "<pre style=\"white-space:pre;overflow-x:auto;line-height:normal;font-family:Menlo,'DejaVu Sans Mono',consolas,'Courier New',monospace\">==&gt; <span style=\"font-weight: bold\">[</span><span style=\"color: #008080; text-decoration-color: #008080; font-weight: bold\">2023</span>-<span style=\"color: #008080; text-decoration-color: #008080; font-weight: bold\">08</span>-27_04-<span style=\"color: #008080; text-decoration-color: #008080; font-weight: bold\">27</span>-<span style=\"color: #008080; text-decoration-color: #008080; font-weight: bold\">02</span><span style=\"font-weight: bold\">]</span> Start Training scorp_side Epoch <span style=\"color: #008080; text-decoration-color: #008080; font-weight: bold\">2</span>/<span style=\"color: #008080; text-decoration-color: #008080; font-weight: bold\">50</span>, <span style=\"color: #808000; text-decoration-color: #808000\">lr</span>=<span style=\"color: #008080; text-decoration-color: #008080; font-weight: bold\">0.050000</span> <span style=\"color: #808000; text-decoration-color: #808000\">...</span>\n",
       "</pre>\n"
      ],
      "text/plain": [
       "==> \u001b[1m[\u001b[0m\u001b[1;36m2023\u001b[0m-\u001b[1;36m08\u001b[0m-27_04-\u001b[1;36m27\u001b[0m-\u001b[1;36m02\u001b[0m\u001b[1m]\u001b[0m Start Training scorp_side Epoch \u001b[1;36m2\u001b[0m/\u001b[1;36m50\u001b[0m, \u001b[33mlr\u001b[0m=\u001b[1;36m0\u001b[0m\u001b[1;36m.050000\u001b[0m \u001b[33m...\u001b[0m\n"
      ]
     },
     "metadata": {},
     "output_type": "display_data"
    },
    {
     "name": "stderr",
     "output_type": "stream",
     "text": [
      "loss=37.8079 (17.0456), lr=0.050000: : 100% 2400/2400 [01:50<00:00, 21.65it/s]\n"
     ]
    },
    {
     "data": {
      "text/html": [
       "<pre style=\"white-space:pre;overflow-x:auto;line-height:normal;font-family:Menlo,'DejaVu Sans Mono',consolas,'Courier New',monospace\">==&gt; <span style=\"font-weight: bold\">[</span><span style=\"color: #008080; text-decoration-color: #008080; font-weight: bold\">2023</span>-<span style=\"color: #008080; text-decoration-color: #008080; font-weight: bold\">08</span>-27_04-<span style=\"color: #008080; text-decoration-color: #008080; font-weight: bold\">28</span>-<span style=\"color: #008080; text-decoration-color: #008080; font-weight: bold\">53</span><span style=\"font-weight: bold\">]</span> Finished Epoch <span style=\"color: #008080; text-decoration-color: #008080; font-weight: bold\">2</span>/<span style=\"color: #008080; text-decoration-color: #008080; font-weight: bold\">50</span>. <span style=\"color: #808000; text-decoration-color: #808000\">CPU</span>=<span style=\"color: #008080; text-decoration-color: #008080; font-weight: bold\">11.</span>6GB, <span style=\"color: #808000; text-decoration-color: #808000\">GPU</span>=<span style=\"color: #008080; text-decoration-color: #008080; font-weight: bold\">79.</span>1GB.\n",
       "</pre>\n"
      ],
      "text/plain": [
       "==> \u001b[1m[\u001b[0m\u001b[1;36m2023\u001b[0m-\u001b[1;36m08\u001b[0m-27_04-\u001b[1;36m28\u001b[0m-\u001b[1;36m53\u001b[0m\u001b[1m]\u001b[0m Finished Epoch \u001b[1;36m2\u001b[0m/\u001b[1;36m50\u001b[0m. \u001b[33mCPU\u001b[0m=\u001b[1;36m11\u001b[0m\u001b[1;36m.\u001b[0m6GB, \u001b[33mGPU\u001b[0m=\u001b[1;36m79\u001b[0m\u001b[1;36m.\u001b[0m1GB.\n"
      ]
     },
     "metadata": {},
     "output_type": "display_data"
    },
    {
     "data": {
      "text/html": [
       "<pre style=\"white-space:pre;overflow-x:auto;line-height:normal;font-family:Menlo,'DejaVu Sans Mono',consolas,'Courier New',monospace\">++&gt; Evaluate scorp_side at epoch <span style=\"color: #008080; text-decoration-color: #008080; font-weight: bold\">2</span> <span style=\"color: #808000; text-decoration-color: #808000\">...</span>\n",
       "</pre>\n"
      ],
      "text/plain": [
       "++> Evaluate scorp_side at epoch \u001b[1;36m2\u001b[0m \u001b[33m...\u001b[0m\n"
      ]
     },
     "metadata": {},
     "output_type": "display_data"
    },
    {
     "name": "stderr",
     "output_type": "stream",
     "text": [
      "loss=0.0000 (0.0000): : 100% 8/8 [00:01<00:00,  5.13it/s]\n"
     ]
    },
    {
     "data": {
      "text/html": [
       "<pre style=\"white-space:pre;overflow-x:auto;line-height:normal;font-family:Menlo,'DejaVu Sans Mono',consolas,'Courier New',monospace\">++&gt; Evaluate epoch <span style=\"color: #008080; text-decoration-color: #008080; font-weight: bold\">2</span> Finished.\n",
       "</pre>\n"
      ],
      "text/plain": [
       "++> Evaluate epoch \u001b[1;36m2\u001b[0m Finished.\n"
      ]
     },
     "metadata": {},
     "output_type": "display_data"
    },
    {
     "data": {
      "text/html": [
       "<pre style=\"white-space:pre;overflow-x:auto;line-height:normal;font-family:Menlo,'DejaVu Sans Mono',consolas,'Courier New',monospace\">==&gt; <span style=\"font-weight: bold\">[</span><span style=\"color: #008080; text-decoration-color: #008080; font-weight: bold\">2023</span>-<span style=\"color: #008080; text-decoration-color: #008080; font-weight: bold\">08</span>-27_04-<span style=\"color: #008080; text-decoration-color: #008080; font-weight: bold\">28</span>-<span style=\"color: #008080; text-decoration-color: #008080; font-weight: bold\">55</span><span style=\"font-weight: bold\">]</span> Start Training scorp_side Epoch <span style=\"color: #008080; text-decoration-color: #008080; font-weight: bold\">3</span>/<span style=\"color: #008080; text-decoration-color: #008080; font-weight: bold\">50</span>, <span style=\"color: #808000; text-decoration-color: #808000\">lr</span>=<span style=\"color: #008080; text-decoration-color: #008080; font-weight: bold\">0.050000</span> <span style=\"color: #808000; text-decoration-color: #808000\">...</span>\n",
       "</pre>\n"
      ],
      "text/plain": [
       "==> \u001b[1m[\u001b[0m\u001b[1;36m2023\u001b[0m-\u001b[1;36m08\u001b[0m-27_04-\u001b[1;36m28\u001b[0m-\u001b[1;36m55\u001b[0m\u001b[1m]\u001b[0m Start Training scorp_side Epoch \u001b[1;36m3\u001b[0m/\u001b[1;36m50\u001b[0m, \u001b[33mlr\u001b[0m=\u001b[1;36m0\u001b[0m\u001b[1;36m.050000\u001b[0m \u001b[33m...\u001b[0m\n"
      ]
     },
     "metadata": {},
     "output_type": "display_data"
    },
    {
     "name": "stderr",
     "output_type": "stream",
     "text": [
      "loss=20.5388 (14.9593), lr=0.050000: : 100% 2400/2400 [01:32<00:00, 25.91it/s]\n"
     ]
    },
    {
     "data": {
      "text/html": [
       "<pre style=\"white-space:pre;overflow-x:auto;line-height:normal;font-family:Menlo,'DejaVu Sans Mono',consolas,'Courier New',monospace\">==&gt; <span style=\"font-weight: bold\">[</span><span style=\"color: #008080; text-decoration-color: #008080; font-weight: bold\">2023</span>-<span style=\"color: #008080; text-decoration-color: #008080; font-weight: bold\">08</span>-27_04-<span style=\"color: #008080; text-decoration-color: #008080; font-weight: bold\">30</span>-<span style=\"color: #008080; text-decoration-color: #008080; font-weight: bold\">27</span><span style=\"font-weight: bold\">]</span> Finished Epoch <span style=\"color: #008080; text-decoration-color: #008080; font-weight: bold\">3</span>/<span style=\"color: #008080; text-decoration-color: #008080; font-weight: bold\">50</span>. <span style=\"color: #808000; text-decoration-color: #808000\">CPU</span>=<span style=\"color: #008080; text-decoration-color: #008080; font-weight: bold\">11.</span>6GB, <span style=\"color: #808000; text-decoration-color: #808000\">GPU</span>=<span style=\"color: #008080; text-decoration-color: #008080; font-weight: bold\">79.</span>1GB.\n",
       "</pre>\n"
      ],
      "text/plain": [
       "==> \u001b[1m[\u001b[0m\u001b[1;36m2023\u001b[0m-\u001b[1;36m08\u001b[0m-27_04-\u001b[1;36m30\u001b[0m-\u001b[1;36m27\u001b[0m\u001b[1m]\u001b[0m Finished Epoch \u001b[1;36m3\u001b[0m/\u001b[1;36m50\u001b[0m. \u001b[33mCPU\u001b[0m=\u001b[1;36m11\u001b[0m\u001b[1;36m.\u001b[0m6GB, \u001b[33mGPU\u001b[0m=\u001b[1;36m79\u001b[0m\u001b[1;36m.\u001b[0m1GB.\n"
      ]
     },
     "metadata": {},
     "output_type": "display_data"
    },
    {
     "data": {
      "text/html": [
       "<pre style=\"white-space:pre;overflow-x:auto;line-height:normal;font-family:Menlo,'DejaVu Sans Mono',consolas,'Courier New',monospace\">++&gt; Evaluate scorp_side at epoch <span style=\"color: #008080; text-decoration-color: #008080; font-weight: bold\">3</span> <span style=\"color: #808000; text-decoration-color: #808000\">...</span>\n",
       "</pre>\n"
      ],
      "text/plain": [
       "++> Evaluate scorp_side at epoch \u001b[1;36m3\u001b[0m \u001b[33m...\u001b[0m\n"
      ]
     },
     "metadata": {},
     "output_type": "display_data"
    },
    {
     "name": "stderr",
     "output_type": "stream",
     "text": [
      "loss=0.0000 (0.0000): : 100% 8/8 [00:00<00:00,  9.49it/s]\n"
     ]
    },
    {
     "data": {
      "text/html": [
       "<pre style=\"white-space:pre;overflow-x:auto;line-height:normal;font-family:Menlo,'DejaVu Sans Mono',consolas,'Courier New',monospace\">++&gt; Evaluate epoch <span style=\"color: #008080; text-decoration-color: #008080; font-weight: bold\">3</span> Finished.\n",
       "</pre>\n"
      ],
      "text/plain": [
       "++> Evaluate epoch \u001b[1;36m3\u001b[0m Finished.\n"
      ]
     },
     "metadata": {},
     "output_type": "display_data"
    },
    {
     "data": {
      "text/html": [
       "<pre style=\"white-space:pre;overflow-x:auto;line-height:normal;font-family:Menlo,'DejaVu Sans Mono',consolas,'Courier New',monospace\">==&gt; <span style=\"font-weight: bold\">[</span><span style=\"color: #008080; text-decoration-color: #008080; font-weight: bold\">2023</span>-<span style=\"color: #008080; text-decoration-color: #008080; font-weight: bold\">08</span>-27_04-<span style=\"color: #008080; text-decoration-color: #008080; font-weight: bold\">30</span>-<span style=\"color: #008080; text-decoration-color: #008080; font-weight: bold\">28</span><span style=\"font-weight: bold\">]</span> Start Training scorp_side Epoch <span style=\"color: #008080; text-decoration-color: #008080; font-weight: bold\">4</span>/<span style=\"color: #008080; text-decoration-color: #008080; font-weight: bold\">50</span>, <span style=\"color: #808000; text-decoration-color: #808000\">lr</span>=<span style=\"color: #008080; text-decoration-color: #008080; font-weight: bold\">0.050000</span> <span style=\"color: #808000; text-decoration-color: #808000\">...</span>\n",
       "</pre>\n"
      ],
      "text/plain": [
       "==> \u001b[1m[\u001b[0m\u001b[1;36m2023\u001b[0m-\u001b[1;36m08\u001b[0m-27_04-\u001b[1;36m30\u001b[0m-\u001b[1;36m28\u001b[0m\u001b[1m]\u001b[0m Start Training scorp_side Epoch \u001b[1;36m4\u001b[0m/\u001b[1;36m50\u001b[0m, \u001b[33mlr\u001b[0m=\u001b[1;36m0\u001b[0m\u001b[1;36m.050000\u001b[0m \u001b[33m...\u001b[0m\n"
      ]
     },
     "metadata": {},
     "output_type": "display_data"
    },
    {
     "name": "stderr",
     "output_type": "stream",
     "text": [
      "loss=27.2871 (16.7051), lr=0.050000: : 100% 2400/2400 [01:07<00:00, 35.76it/s]\n"
     ]
    },
    {
     "data": {
      "text/html": [
       "<pre style=\"white-space:pre;overflow-x:auto;line-height:normal;font-family:Menlo,'DejaVu Sans Mono',consolas,'Courier New',monospace\">==&gt; <span style=\"font-weight: bold\">[</span><span style=\"color: #008080; text-decoration-color: #008080; font-weight: bold\">2023</span>-<span style=\"color: #008080; text-decoration-color: #008080; font-weight: bold\">08</span>-27_04-<span style=\"color: #008080; text-decoration-color: #008080; font-weight: bold\">31</span>-<span style=\"color: #008080; text-decoration-color: #008080; font-weight: bold\">36</span><span style=\"font-weight: bold\">]</span> Finished Epoch <span style=\"color: #008080; text-decoration-color: #008080; font-weight: bold\">4</span>/<span style=\"color: #008080; text-decoration-color: #008080; font-weight: bold\">50</span>. <span style=\"color: #808000; text-decoration-color: #808000\">CPU</span>=<span style=\"color: #008080; text-decoration-color: #008080; font-weight: bold\">11.</span>6GB, <span style=\"color: #808000; text-decoration-color: #808000\">GPU</span>=<span style=\"color: #008080; text-decoration-color: #008080; font-weight: bold\">79.</span>1GB.\n",
       "</pre>\n"
      ],
      "text/plain": [
       "==> \u001b[1m[\u001b[0m\u001b[1;36m2023\u001b[0m-\u001b[1;36m08\u001b[0m-27_04-\u001b[1;36m31\u001b[0m-\u001b[1;36m36\u001b[0m\u001b[1m]\u001b[0m Finished Epoch \u001b[1;36m4\u001b[0m/\u001b[1;36m50\u001b[0m. \u001b[33mCPU\u001b[0m=\u001b[1;36m11\u001b[0m\u001b[1;36m.\u001b[0m6GB, \u001b[33mGPU\u001b[0m=\u001b[1;36m79\u001b[0m\u001b[1;36m.\u001b[0m1GB.\n"
      ]
     },
     "metadata": {},
     "output_type": "display_data"
    },
    {
     "data": {
      "text/html": [
       "<pre style=\"white-space:pre;overflow-x:auto;line-height:normal;font-family:Menlo,'DejaVu Sans Mono',consolas,'Courier New',monospace\">++&gt; Evaluate scorp_side at epoch <span style=\"color: #008080; text-decoration-color: #008080; font-weight: bold\">4</span> <span style=\"color: #808000; text-decoration-color: #808000\">...</span>\n",
       "</pre>\n"
      ],
      "text/plain": [
       "++> Evaluate scorp_side at epoch \u001b[1;36m4\u001b[0m \u001b[33m...\u001b[0m\n"
      ]
     },
     "metadata": {},
     "output_type": "display_data"
    },
    {
     "name": "stderr",
     "output_type": "stream",
     "text": [
      "loss=0.0000 (0.0000): : 100% 8/8 [00:00<00:00, 15.31it/s]\n"
     ]
    },
    {
     "data": {
      "text/html": [
       "<pre style=\"white-space:pre;overflow-x:auto;line-height:normal;font-family:Menlo,'DejaVu Sans Mono',consolas,'Courier New',monospace\">++&gt; Evaluate epoch <span style=\"color: #008080; text-decoration-color: #008080; font-weight: bold\">4</span> Finished.\n",
       "</pre>\n"
      ],
      "text/plain": [
       "++> Evaluate epoch \u001b[1;36m4\u001b[0m Finished.\n"
      ]
     },
     "metadata": {},
     "output_type": "display_data"
    },
    {
     "data": {
      "text/html": [
       "<pre style=\"white-space:pre;overflow-x:auto;line-height:normal;font-family:Menlo,'DejaVu Sans Mono',consolas,'Courier New',monospace\">==&gt; <span style=\"font-weight: bold\">[</span><span style=\"color: #008080; text-decoration-color: #008080; font-weight: bold\">2023</span>-<span style=\"color: #008080; text-decoration-color: #008080; font-weight: bold\">08</span>-27_04-<span style=\"color: #008080; text-decoration-color: #008080; font-weight: bold\">31</span>-<span style=\"color: #008080; text-decoration-color: #008080; font-weight: bold\">37</span><span style=\"font-weight: bold\">]</span> Start Training scorp_side Epoch <span style=\"color: #008080; text-decoration-color: #008080; font-weight: bold\">5</span>/<span style=\"color: #008080; text-decoration-color: #008080; font-weight: bold\">50</span>, <span style=\"color: #808000; text-decoration-color: #808000\">lr</span>=<span style=\"color: #008080; text-decoration-color: #008080; font-weight: bold\">0.050000</span> <span style=\"color: #808000; text-decoration-color: #808000\">...</span>\n",
       "</pre>\n"
      ],
      "text/plain": [
       "==> \u001b[1m[\u001b[0m\u001b[1;36m2023\u001b[0m-\u001b[1;36m08\u001b[0m-27_04-\u001b[1;36m31\u001b[0m-\u001b[1;36m37\u001b[0m\u001b[1m]\u001b[0m Start Training scorp_side Epoch \u001b[1;36m5\u001b[0m/\u001b[1;36m50\u001b[0m, \u001b[33mlr\u001b[0m=\u001b[1;36m0\u001b[0m\u001b[1;36m.050000\u001b[0m \u001b[33m...\u001b[0m\n"
      ]
     },
     "metadata": {},
     "output_type": "display_data"
    },
    {
     "name": "stderr",
     "output_type": "stream",
     "text": [
      "loss=16.8660 (17.9068), lr=0.050000: : 100% 2400/2400 [00:59<00:00, 40.52it/s]\n"
     ]
    },
    {
     "data": {
      "text/html": [
       "<pre style=\"white-space:pre;overflow-x:auto;line-height:normal;font-family:Menlo,'DejaVu Sans Mono',consolas,'Courier New',monospace\">==&gt; <span style=\"font-weight: bold\">[</span><span style=\"color: #008080; text-decoration-color: #008080; font-weight: bold\">2023</span>-<span style=\"color: #008080; text-decoration-color: #008080; font-weight: bold\">08</span>-27_04-<span style=\"color: #008080; text-decoration-color: #008080; font-weight: bold\">32</span>-<span style=\"color: #008080; text-decoration-color: #008080; font-weight: bold\">36</span><span style=\"font-weight: bold\">]</span> Finished Epoch <span style=\"color: #008080; text-decoration-color: #008080; font-weight: bold\">5</span>/<span style=\"color: #008080; text-decoration-color: #008080; font-weight: bold\">50</span>. <span style=\"color: #808000; text-decoration-color: #808000\">CPU</span>=<span style=\"color: #008080; text-decoration-color: #008080; font-weight: bold\">11.</span>6GB, <span style=\"color: #808000; text-decoration-color: #808000\">GPU</span>=<span style=\"color: #008080; text-decoration-color: #008080; font-weight: bold\">79.</span>1GB.\n",
       "</pre>\n"
      ],
      "text/plain": [
       "==> \u001b[1m[\u001b[0m\u001b[1;36m2023\u001b[0m-\u001b[1;36m08\u001b[0m-27_04-\u001b[1;36m32\u001b[0m-\u001b[1;36m36\u001b[0m\u001b[1m]\u001b[0m Finished Epoch \u001b[1;36m5\u001b[0m/\u001b[1;36m50\u001b[0m. \u001b[33mCPU\u001b[0m=\u001b[1;36m11\u001b[0m\u001b[1;36m.\u001b[0m6GB, \u001b[33mGPU\u001b[0m=\u001b[1;36m79\u001b[0m\u001b[1;36m.\u001b[0m1GB.\n"
      ]
     },
     "metadata": {},
     "output_type": "display_data"
    },
    {
     "data": {
      "text/html": [
       "<pre style=\"white-space:pre;overflow-x:auto;line-height:normal;font-family:Menlo,'DejaVu Sans Mono',consolas,'Courier New',monospace\">++&gt; Evaluate scorp_side at epoch <span style=\"color: #008080; text-decoration-color: #008080; font-weight: bold\">5</span> <span style=\"color: #808000; text-decoration-color: #808000\">...</span>\n",
       "</pre>\n"
      ],
      "text/plain": [
       "++> Evaluate scorp_side at epoch \u001b[1;36m5\u001b[0m \u001b[33m...\u001b[0m\n"
      ]
     },
     "metadata": {},
     "output_type": "display_data"
    },
    {
     "name": "stderr",
     "output_type": "stream",
     "text": [
      "loss=0.0000 (0.0000): : 100% 8/8 [00:00<00:00, 15.33it/s]\n"
     ]
    },
    {
     "data": {
      "text/html": [
       "<pre style=\"white-space:pre;overflow-x:auto;line-height:normal;font-family:Menlo,'DejaVu Sans Mono',consolas,'Courier New',monospace\">++&gt; Evaluate epoch <span style=\"color: #008080; text-decoration-color: #008080; font-weight: bold\">5</span> Finished.\n",
       "</pre>\n"
      ],
      "text/plain": [
       "++> Evaluate epoch \u001b[1;36m5\u001b[0m Finished.\n"
      ]
     },
     "metadata": {},
     "output_type": "display_data"
    },
    {
     "data": {
      "text/html": [
       "<pre style=\"white-space:pre;overflow-x:auto;line-height:normal;font-family:Menlo,'DejaVu Sans Mono',consolas,'Courier New',monospace\">==&gt; <span style=\"font-weight: bold\">[</span><span style=\"color: #008080; text-decoration-color: #008080; font-weight: bold\">2023</span>-<span style=\"color: #008080; text-decoration-color: #008080; font-weight: bold\">08</span>-27_04-<span style=\"color: #008080; text-decoration-color: #008080; font-weight: bold\">32</span>-<span style=\"color: #008080; text-decoration-color: #008080; font-weight: bold\">37</span><span style=\"font-weight: bold\">]</span> Start Training scorp_side Epoch <span style=\"color: #008080; text-decoration-color: #008080; font-weight: bold\">6</span>/<span style=\"color: #008080; text-decoration-color: #008080; font-weight: bold\">50</span>, <span style=\"color: #808000; text-decoration-color: #808000\">lr</span>=<span style=\"color: #008080; text-decoration-color: #008080; font-weight: bold\">0.050000</span> <span style=\"color: #808000; text-decoration-color: #808000\">...</span>\n",
       "</pre>\n"
      ],
      "text/plain": [
       "==> \u001b[1m[\u001b[0m\u001b[1;36m2023\u001b[0m-\u001b[1;36m08\u001b[0m-27_04-\u001b[1;36m32\u001b[0m-\u001b[1;36m37\u001b[0m\u001b[1m]\u001b[0m Start Training scorp_side Epoch \u001b[1;36m6\u001b[0m/\u001b[1;36m50\u001b[0m, \u001b[33mlr\u001b[0m=\u001b[1;36m0\u001b[0m\u001b[1;36m.050000\u001b[0m \u001b[33m...\u001b[0m\n"
      ]
     },
     "metadata": {},
     "output_type": "display_data"
    },
    {
     "name": "stderr",
     "output_type": "stream",
     "text": [
      "loss=28.1374 (17.9555), lr=0.050000: : 100% 2400/2400 [00:58<00:00, 40.87it/s]\n"
     ]
    },
    {
     "data": {
      "text/html": [
       "<pre style=\"white-space:pre;overflow-x:auto;line-height:normal;font-family:Menlo,'DejaVu Sans Mono',consolas,'Courier New',monospace\">==&gt; <span style=\"font-weight: bold\">[</span><span style=\"color: #008080; text-decoration-color: #008080; font-weight: bold\">2023</span>-<span style=\"color: #008080; text-decoration-color: #008080; font-weight: bold\">08</span>-27_04-<span style=\"color: #008080; text-decoration-color: #008080; font-weight: bold\">33</span>-<span style=\"color: #008080; text-decoration-color: #008080; font-weight: bold\">35</span><span style=\"font-weight: bold\">]</span> Finished Epoch <span style=\"color: #008080; text-decoration-color: #008080; font-weight: bold\">6</span>/<span style=\"color: #008080; text-decoration-color: #008080; font-weight: bold\">50</span>. <span style=\"color: #808000; text-decoration-color: #808000\">CPU</span>=<span style=\"color: #008080; text-decoration-color: #008080; font-weight: bold\">11.</span>6GB, <span style=\"color: #808000; text-decoration-color: #808000\">GPU</span>=<span style=\"color: #008080; text-decoration-color: #008080; font-weight: bold\">79.</span>1GB.\n",
       "</pre>\n"
      ],
      "text/plain": [
       "==> \u001b[1m[\u001b[0m\u001b[1;36m2023\u001b[0m-\u001b[1;36m08\u001b[0m-27_04-\u001b[1;36m33\u001b[0m-\u001b[1;36m35\u001b[0m\u001b[1m]\u001b[0m Finished Epoch \u001b[1;36m6\u001b[0m/\u001b[1;36m50\u001b[0m. \u001b[33mCPU\u001b[0m=\u001b[1;36m11\u001b[0m\u001b[1;36m.\u001b[0m6GB, \u001b[33mGPU\u001b[0m=\u001b[1;36m79\u001b[0m\u001b[1;36m.\u001b[0m1GB.\n"
      ]
     },
     "metadata": {},
     "output_type": "display_data"
    },
    {
     "data": {
      "text/html": [
       "<pre style=\"white-space:pre;overflow-x:auto;line-height:normal;font-family:Menlo,'DejaVu Sans Mono',consolas,'Courier New',monospace\">++&gt; Evaluate scorp_side at epoch <span style=\"color: #008080; text-decoration-color: #008080; font-weight: bold\">6</span> <span style=\"color: #808000; text-decoration-color: #808000\">...</span>\n",
       "</pre>\n"
      ],
      "text/plain": [
       "++> Evaluate scorp_side at epoch \u001b[1;36m6\u001b[0m \u001b[33m...\u001b[0m\n"
      ]
     },
     "metadata": {},
     "output_type": "display_data"
    },
    {
     "name": "stderr",
     "output_type": "stream",
     "text": [
      "loss=0.0000 (0.0000): : 100% 8/8 [00:00<00:00, 16.83it/s]\n"
     ]
    },
    {
     "data": {
      "text/html": [
       "<pre style=\"white-space:pre;overflow-x:auto;line-height:normal;font-family:Menlo,'DejaVu Sans Mono',consolas,'Courier New',monospace\">++&gt; Evaluate epoch <span style=\"color: #008080; text-decoration-color: #008080; font-weight: bold\">6</span> Finished.\n",
       "</pre>\n"
      ],
      "text/plain": [
       "++> Evaluate epoch \u001b[1;36m6\u001b[0m Finished.\n"
      ]
     },
     "metadata": {},
     "output_type": "display_data"
    },
    {
     "data": {
      "text/html": [
       "<pre style=\"white-space:pre;overflow-x:auto;line-height:normal;font-family:Menlo,'DejaVu Sans Mono',consolas,'Courier New',monospace\">==&gt; <span style=\"font-weight: bold\">[</span><span style=\"color: #008080; text-decoration-color: #008080; font-weight: bold\">2023</span>-<span style=\"color: #008080; text-decoration-color: #008080; font-weight: bold\">08</span>-27_04-<span style=\"color: #008080; text-decoration-color: #008080; font-weight: bold\">33</span>-<span style=\"color: #008080; text-decoration-color: #008080; font-weight: bold\">36</span><span style=\"font-weight: bold\">]</span> Start Training scorp_side Epoch <span style=\"color: #008080; text-decoration-color: #008080; font-weight: bold\">7</span>/<span style=\"color: #008080; text-decoration-color: #008080; font-weight: bold\">50</span>, <span style=\"color: #808000; text-decoration-color: #808000\">lr</span>=<span style=\"color: #008080; text-decoration-color: #008080; font-weight: bold\">0.050000</span> <span style=\"color: #808000; text-decoration-color: #808000\">...</span>\n",
       "</pre>\n"
      ],
      "text/plain": [
       "==> \u001b[1m[\u001b[0m\u001b[1;36m2023\u001b[0m-\u001b[1;36m08\u001b[0m-27_04-\u001b[1;36m33\u001b[0m-\u001b[1;36m36\u001b[0m\u001b[1m]\u001b[0m Start Training scorp_side Epoch \u001b[1;36m7\u001b[0m/\u001b[1;36m50\u001b[0m, \u001b[33mlr\u001b[0m=\u001b[1;36m0\u001b[0m\u001b[1;36m.050000\u001b[0m \u001b[33m...\u001b[0m\n"
      ]
     },
     "metadata": {},
     "output_type": "display_data"
    },
    {
     "name": "stderr",
     "output_type": "stream",
     "text": [
      "loss=15.7898 (20.9423), lr=0.050000: : 100% 2400/2400 [00:58<00:00, 41.09it/s]\n"
     ]
    },
    {
     "data": {
      "text/html": [
       "<pre style=\"white-space:pre;overflow-x:auto;line-height:normal;font-family:Menlo,'DejaVu Sans Mono',consolas,'Courier New',monospace\">==&gt; <span style=\"font-weight: bold\">[</span><span style=\"color: #008080; text-decoration-color: #008080; font-weight: bold\">2023</span>-<span style=\"color: #008080; text-decoration-color: #008080; font-weight: bold\">08</span>-27_04-<span style=\"color: #008080; text-decoration-color: #008080; font-weight: bold\">34</span>-<span style=\"color: #008080; text-decoration-color: #008080; font-weight: bold\">35</span><span style=\"font-weight: bold\">]</span> Finished Epoch <span style=\"color: #008080; text-decoration-color: #008080; font-weight: bold\">7</span>/<span style=\"color: #008080; text-decoration-color: #008080; font-weight: bold\">50</span>. <span style=\"color: #808000; text-decoration-color: #808000\">CPU</span>=<span style=\"color: #008080; text-decoration-color: #008080; font-weight: bold\">11.</span>6GB, <span style=\"color: #808000; text-decoration-color: #808000\">GPU</span>=<span style=\"color: #008080; text-decoration-color: #008080; font-weight: bold\">79.</span>1GB.\n",
       "</pre>\n"
      ],
      "text/plain": [
       "==> \u001b[1m[\u001b[0m\u001b[1;36m2023\u001b[0m-\u001b[1;36m08\u001b[0m-27_04-\u001b[1;36m34\u001b[0m-\u001b[1;36m35\u001b[0m\u001b[1m]\u001b[0m Finished Epoch \u001b[1;36m7\u001b[0m/\u001b[1;36m50\u001b[0m. \u001b[33mCPU\u001b[0m=\u001b[1;36m11\u001b[0m\u001b[1;36m.\u001b[0m6GB, \u001b[33mGPU\u001b[0m=\u001b[1;36m79\u001b[0m\u001b[1;36m.\u001b[0m1GB.\n"
      ]
     },
     "metadata": {},
     "output_type": "display_data"
    },
    {
     "data": {
      "text/html": [
       "<pre style=\"white-space:pre;overflow-x:auto;line-height:normal;font-family:Menlo,'DejaVu Sans Mono',consolas,'Courier New',monospace\">++&gt; Evaluate scorp_side at epoch <span style=\"color: #008080; text-decoration-color: #008080; font-weight: bold\">7</span> <span style=\"color: #808000; text-decoration-color: #808000\">...</span>\n",
       "</pre>\n"
      ],
      "text/plain": [
       "++> Evaluate scorp_side at epoch \u001b[1;36m7\u001b[0m \u001b[33m...\u001b[0m\n"
      ]
     },
     "metadata": {},
     "output_type": "display_data"
    },
    {
     "name": "stderr",
     "output_type": "stream",
     "text": [
      "loss=0.0000 (0.0000): : 100% 8/8 [00:00<00:00, 17.11it/s]\n"
     ]
    },
    {
     "data": {
      "text/html": [
       "<pre style=\"white-space:pre;overflow-x:auto;line-height:normal;font-family:Menlo,'DejaVu Sans Mono',consolas,'Courier New',monospace\">++&gt; Evaluate epoch <span style=\"color: #008080; text-decoration-color: #008080; font-weight: bold\">7</span> Finished.\n",
       "</pre>\n"
      ],
      "text/plain": [
       "++> Evaluate epoch \u001b[1;36m7\u001b[0m Finished.\n"
      ]
     },
     "metadata": {},
     "output_type": "display_data"
    },
    {
     "data": {
      "text/html": [
       "<pre style=\"white-space:pre;overflow-x:auto;line-height:normal;font-family:Menlo,'DejaVu Sans Mono',consolas,'Courier New',monospace\">==&gt; <span style=\"font-weight: bold\">[</span><span style=\"color: #008080; text-decoration-color: #008080; font-weight: bold\">2023</span>-<span style=\"color: #008080; text-decoration-color: #008080; font-weight: bold\">08</span>-27_04-<span style=\"color: #008080; text-decoration-color: #008080; font-weight: bold\">34</span>-<span style=\"color: #008080; text-decoration-color: #008080; font-weight: bold\">36</span><span style=\"font-weight: bold\">]</span> Start Training scorp_side Epoch <span style=\"color: #008080; text-decoration-color: #008080; font-weight: bold\">8</span>/<span style=\"color: #008080; text-decoration-color: #008080; font-weight: bold\">50</span>, <span style=\"color: #808000; text-decoration-color: #808000\">lr</span>=<span style=\"color: #008080; text-decoration-color: #008080; font-weight: bold\">0.050000</span> <span style=\"color: #808000; text-decoration-color: #808000\">...</span>\n",
       "</pre>\n"
      ],
      "text/plain": [
       "==> \u001b[1m[\u001b[0m\u001b[1;36m2023\u001b[0m-\u001b[1;36m08\u001b[0m-27_04-\u001b[1;36m34\u001b[0m-\u001b[1;36m36\u001b[0m\u001b[1m]\u001b[0m Start Training scorp_side Epoch \u001b[1;36m8\u001b[0m/\u001b[1;36m50\u001b[0m, \u001b[33mlr\u001b[0m=\u001b[1;36m0\u001b[0m\u001b[1;36m.050000\u001b[0m \u001b[33m...\u001b[0m\n"
      ]
     },
     "metadata": {},
     "output_type": "display_data"
    },
    {
     "name": "stderr",
     "output_type": "stream",
     "text": [
      "loss=12.2054 (21.0264), lr=0.050000: : 100% 2400/2400 [00:58<00:00, 41.12it/s]\n"
     ]
    },
    {
     "data": {
      "text/html": [
       "<pre style=\"white-space:pre;overflow-x:auto;line-height:normal;font-family:Menlo,'DejaVu Sans Mono',consolas,'Courier New',monospace\">==&gt; <span style=\"font-weight: bold\">[</span><span style=\"color: #008080; text-decoration-color: #008080; font-weight: bold\">2023</span>-<span style=\"color: #008080; text-decoration-color: #008080; font-weight: bold\">08</span>-27_04-<span style=\"color: #008080; text-decoration-color: #008080; font-weight: bold\">35</span>-<span style=\"color: #008080; text-decoration-color: #008080; font-weight: bold\">34</span><span style=\"font-weight: bold\">]</span> Finished Epoch <span style=\"color: #008080; text-decoration-color: #008080; font-weight: bold\">8</span>/<span style=\"color: #008080; text-decoration-color: #008080; font-weight: bold\">50</span>. <span style=\"color: #808000; text-decoration-color: #808000\">CPU</span>=<span style=\"color: #008080; text-decoration-color: #008080; font-weight: bold\">11.</span>6GB, <span style=\"color: #808000; text-decoration-color: #808000\">GPU</span>=<span style=\"color: #008080; text-decoration-color: #008080; font-weight: bold\">79.</span>1GB.\n",
       "</pre>\n"
      ],
      "text/plain": [
       "==> \u001b[1m[\u001b[0m\u001b[1;36m2023\u001b[0m-\u001b[1;36m08\u001b[0m-27_04-\u001b[1;36m35\u001b[0m-\u001b[1;36m34\u001b[0m\u001b[1m]\u001b[0m Finished Epoch \u001b[1;36m8\u001b[0m/\u001b[1;36m50\u001b[0m. \u001b[33mCPU\u001b[0m=\u001b[1;36m11\u001b[0m\u001b[1;36m.\u001b[0m6GB, \u001b[33mGPU\u001b[0m=\u001b[1;36m79\u001b[0m\u001b[1;36m.\u001b[0m1GB.\n"
      ]
     },
     "metadata": {},
     "output_type": "display_data"
    },
    {
     "data": {
      "text/html": [
       "<pre style=\"white-space:pre;overflow-x:auto;line-height:normal;font-family:Menlo,'DejaVu Sans Mono',consolas,'Courier New',monospace\">++&gt; Evaluate scorp_side at epoch <span style=\"color: #008080; text-decoration-color: #008080; font-weight: bold\">8</span> <span style=\"color: #808000; text-decoration-color: #808000\">...</span>\n",
       "</pre>\n"
      ],
      "text/plain": [
       "++> Evaluate scorp_side at epoch \u001b[1;36m8\u001b[0m \u001b[33m...\u001b[0m\n"
      ]
     },
     "metadata": {},
     "output_type": "display_data"
    },
    {
     "name": "stderr",
     "output_type": "stream",
     "text": [
      "loss=0.0000 (0.0000): : 100% 8/8 [00:00<00:00, 15.19it/s]\n"
     ]
    },
    {
     "data": {
      "text/html": [
       "<pre style=\"white-space:pre;overflow-x:auto;line-height:normal;font-family:Menlo,'DejaVu Sans Mono',consolas,'Courier New',monospace\">++&gt; Evaluate epoch <span style=\"color: #008080; text-decoration-color: #008080; font-weight: bold\">8</span> Finished.\n",
       "</pre>\n"
      ],
      "text/plain": [
       "++> Evaluate epoch \u001b[1;36m8\u001b[0m Finished.\n"
      ]
     },
     "metadata": {},
     "output_type": "display_data"
    },
    {
     "data": {
      "text/html": [
       "<pre style=\"white-space:pre;overflow-x:auto;line-height:normal;font-family:Menlo,'DejaVu Sans Mono',consolas,'Courier New',monospace\">==&gt; <span style=\"font-weight: bold\">[</span><span style=\"color: #008080; text-decoration-color: #008080; font-weight: bold\">2023</span>-<span style=\"color: #008080; text-decoration-color: #008080; font-weight: bold\">08</span>-27_04-<span style=\"color: #008080; text-decoration-color: #008080; font-weight: bold\">35</span>-<span style=\"color: #008080; text-decoration-color: #008080; font-weight: bold\">35</span><span style=\"font-weight: bold\">]</span> Start Training scorp_side Epoch <span style=\"color: #008080; text-decoration-color: #008080; font-weight: bold\">9</span>/<span style=\"color: #008080; text-decoration-color: #008080; font-weight: bold\">50</span>, <span style=\"color: #808000; text-decoration-color: #808000\">lr</span>=<span style=\"color: #008080; text-decoration-color: #008080; font-weight: bold\">0.050000</span> <span style=\"color: #808000; text-decoration-color: #808000\">...</span>\n",
       "</pre>\n"
      ],
      "text/plain": [
       "==> \u001b[1m[\u001b[0m\u001b[1;36m2023\u001b[0m-\u001b[1;36m08\u001b[0m-27_04-\u001b[1;36m35\u001b[0m-\u001b[1;36m35\u001b[0m\u001b[1m]\u001b[0m Start Training scorp_side Epoch \u001b[1;36m9\u001b[0m/\u001b[1;36m50\u001b[0m, \u001b[33mlr\u001b[0m=\u001b[1;36m0\u001b[0m\u001b[1;36m.050000\u001b[0m \u001b[33m...\u001b[0m\n"
      ]
     },
     "metadata": {},
     "output_type": "display_data"
    },
    {
     "name": "stderr",
     "output_type": "stream",
     "text": [
      "loss=17.1912 (22.5607), lr=0.050000: : 100% 2400/2400 [00:58<00:00, 40.99it/s]\n"
     ]
    },
    {
     "data": {
      "text/html": [
       "<pre style=\"white-space:pre;overflow-x:auto;line-height:normal;font-family:Menlo,'DejaVu Sans Mono',consolas,'Courier New',monospace\">==&gt; <span style=\"font-weight: bold\">[</span><span style=\"color: #008080; text-decoration-color: #008080; font-weight: bold\">2023</span>-<span style=\"color: #008080; text-decoration-color: #008080; font-weight: bold\">08</span>-27_04-<span style=\"color: #008080; text-decoration-color: #008080; font-weight: bold\">36</span>-<span style=\"color: #008080; text-decoration-color: #008080; font-weight: bold\">34</span><span style=\"font-weight: bold\">]</span> Finished Epoch <span style=\"color: #008080; text-decoration-color: #008080; font-weight: bold\">9</span>/<span style=\"color: #008080; text-decoration-color: #008080; font-weight: bold\">50</span>. <span style=\"color: #808000; text-decoration-color: #808000\">CPU</span>=<span style=\"color: #008080; text-decoration-color: #008080; font-weight: bold\">11.</span>6GB, <span style=\"color: #808000; text-decoration-color: #808000\">GPU</span>=<span style=\"color: #008080; text-decoration-color: #008080; font-weight: bold\">79.</span>1GB.\n",
       "</pre>\n"
      ],
      "text/plain": [
       "==> \u001b[1m[\u001b[0m\u001b[1;36m2023\u001b[0m-\u001b[1;36m08\u001b[0m-27_04-\u001b[1;36m36\u001b[0m-\u001b[1;36m34\u001b[0m\u001b[1m]\u001b[0m Finished Epoch \u001b[1;36m9\u001b[0m/\u001b[1;36m50\u001b[0m. \u001b[33mCPU\u001b[0m=\u001b[1;36m11\u001b[0m\u001b[1;36m.\u001b[0m6GB, \u001b[33mGPU\u001b[0m=\u001b[1;36m79\u001b[0m\u001b[1;36m.\u001b[0m1GB.\n"
      ]
     },
     "metadata": {},
     "output_type": "display_data"
    },
    {
     "data": {
      "text/html": [
       "<pre style=\"white-space:pre;overflow-x:auto;line-height:normal;font-family:Menlo,'DejaVu Sans Mono',consolas,'Courier New',monospace\">++&gt; Evaluate scorp_side at epoch <span style=\"color: #008080; text-decoration-color: #008080; font-weight: bold\">9</span> <span style=\"color: #808000; text-decoration-color: #808000\">...</span>\n",
       "</pre>\n"
      ],
      "text/plain": [
       "++> Evaluate scorp_side at epoch \u001b[1;36m9\u001b[0m \u001b[33m...\u001b[0m\n"
      ]
     },
     "metadata": {},
     "output_type": "display_data"
    },
    {
     "name": "stderr",
     "output_type": "stream",
     "text": [
      "loss=0.0000 (0.0000): : 100% 8/8 [00:00<00:00, 16.69it/s]\n"
     ]
    },
    {
     "data": {
      "text/html": [
       "<pre style=\"white-space:pre;overflow-x:auto;line-height:normal;font-family:Menlo,'DejaVu Sans Mono',consolas,'Courier New',monospace\">++&gt; Evaluate epoch <span style=\"color: #008080; text-decoration-color: #008080; font-weight: bold\">9</span> Finished.\n",
       "</pre>\n"
      ],
      "text/plain": [
       "++> Evaluate epoch \u001b[1;36m9\u001b[0m Finished.\n"
      ]
     },
     "metadata": {},
     "output_type": "display_data"
    },
    {
     "data": {
      "text/html": [
       "<pre style=\"white-space:pre;overflow-x:auto;line-height:normal;font-family:Menlo,'DejaVu Sans Mono',consolas,'Courier New',monospace\">==&gt; <span style=\"font-weight: bold\">[</span><span style=\"color: #008080; text-decoration-color: #008080; font-weight: bold\">2023</span>-<span style=\"color: #008080; text-decoration-color: #008080; font-weight: bold\">08</span>-27_04-<span style=\"color: #008080; text-decoration-color: #008080; font-weight: bold\">36</span>-<span style=\"color: #008080; text-decoration-color: #008080; font-weight: bold\">34</span><span style=\"font-weight: bold\">]</span> Start Training scorp_side Epoch <span style=\"color: #008080; text-decoration-color: #008080; font-weight: bold\">10</span>/<span style=\"color: #008080; text-decoration-color: #008080; font-weight: bold\">50</span>, <span style=\"color: #808000; text-decoration-color: #808000\">lr</span>=<span style=\"color: #008080; text-decoration-color: #008080; font-weight: bold\">0.050000</span> <span style=\"color: #808000; text-decoration-color: #808000\">...</span>\n",
       "</pre>\n"
      ],
      "text/plain": [
       "==> \u001b[1m[\u001b[0m\u001b[1;36m2023\u001b[0m-\u001b[1;36m08\u001b[0m-27_04-\u001b[1;36m36\u001b[0m-\u001b[1;36m34\u001b[0m\u001b[1m]\u001b[0m Start Training scorp_side Epoch \u001b[1;36m10\u001b[0m/\u001b[1;36m50\u001b[0m, \u001b[33mlr\u001b[0m=\u001b[1;36m0\u001b[0m\u001b[1;36m.050000\u001b[0m \u001b[33m...\u001b[0m\n"
      ]
     },
     "metadata": {},
     "output_type": "display_data"
    },
    {
     "name": "stderr",
     "output_type": "stream",
     "text": [
      "loss=17.0792 (27.7072), lr=0.050000: : 100% 2400/2400 [00:58<00:00, 40.90it/s]\n"
     ]
    },
    {
     "data": {
      "text/html": [
       "<pre style=\"white-space:pre;overflow-x:auto;line-height:normal;font-family:Menlo,'DejaVu Sans Mono',consolas,'Courier New',monospace\">==&gt; <span style=\"font-weight: bold\">[</span><span style=\"color: #008080; text-decoration-color: #008080; font-weight: bold\">2023</span>-<span style=\"color: #008080; text-decoration-color: #008080; font-weight: bold\">08</span>-27_04-<span style=\"color: #008080; text-decoration-color: #008080; font-weight: bold\">37</span>-<span style=\"color: #008080; text-decoration-color: #008080; font-weight: bold\">33</span><span style=\"font-weight: bold\">]</span> Finished Epoch <span style=\"color: #008080; text-decoration-color: #008080; font-weight: bold\">10</span>/<span style=\"color: #008080; text-decoration-color: #008080; font-weight: bold\">50</span>. <span style=\"color: #808000; text-decoration-color: #808000\">CPU</span>=<span style=\"color: #008080; text-decoration-color: #008080; font-weight: bold\">11.</span>6GB, <span style=\"color: #808000; text-decoration-color: #808000\">GPU</span>=<span style=\"color: #008080; text-decoration-color: #008080; font-weight: bold\">79.</span>1GB.\n",
       "</pre>\n"
      ],
      "text/plain": [
       "==> \u001b[1m[\u001b[0m\u001b[1;36m2023\u001b[0m-\u001b[1;36m08\u001b[0m-27_04-\u001b[1;36m37\u001b[0m-\u001b[1;36m33\u001b[0m\u001b[1m]\u001b[0m Finished Epoch \u001b[1;36m10\u001b[0m/\u001b[1;36m50\u001b[0m. \u001b[33mCPU\u001b[0m=\u001b[1;36m11\u001b[0m\u001b[1;36m.\u001b[0m6GB, \u001b[33mGPU\u001b[0m=\u001b[1;36m79\u001b[0m\u001b[1;36m.\u001b[0m1GB.\n"
      ]
     },
     "metadata": {},
     "output_type": "display_data"
    },
    {
     "data": {
      "text/html": [
       "<pre style=\"white-space:pre;overflow-x:auto;line-height:normal;font-family:Menlo,'DejaVu Sans Mono',consolas,'Courier New',monospace\">++&gt; Evaluate scorp_side at epoch <span style=\"color: #008080; text-decoration-color: #008080; font-weight: bold\">10</span> <span style=\"color: #808000; text-decoration-color: #808000\">...</span>\n",
       "</pre>\n"
      ],
      "text/plain": [
       "++> Evaluate scorp_side at epoch \u001b[1;36m10\u001b[0m \u001b[33m...\u001b[0m\n"
      ]
     },
     "metadata": {},
     "output_type": "display_data"
    },
    {
     "name": "stderr",
     "output_type": "stream",
     "text": [
      "loss=0.0000 (0.0000): : 100% 8/8 [00:00<00:00, 17.69it/s]\n"
     ]
    },
    {
     "data": {
      "text/html": [
       "<pre style=\"white-space:pre;overflow-x:auto;line-height:normal;font-family:Menlo,'DejaVu Sans Mono',consolas,'Courier New',monospace\">++&gt; Evaluate epoch <span style=\"color: #008080; text-decoration-color: #008080; font-weight: bold\">10</span> Finished.\n",
       "</pre>\n"
      ],
      "text/plain": [
       "++> Evaluate epoch \u001b[1;36m10\u001b[0m Finished.\n"
      ]
     },
     "metadata": {},
     "output_type": "display_data"
    },
    {
     "data": {
      "text/html": [
       "<pre style=\"white-space:pre;overflow-x:auto;line-height:normal;font-family:Menlo,'DejaVu Sans Mono',consolas,'Courier New',monospace\">==&gt; Start Test, save results to scorp_side/results\n",
       "</pre>\n"
      ],
      "text/plain": [
       "==> Start Test, save results to scorp_side/results\n"
      ]
     },
     "metadata": {},
     "output_type": "display_data"
    },
    {
     "name": "stderr",
     "output_type": "stream",
     "text": [
      " 99% 99/100 [00:03<00:00, 25.82it/s]"
     ]
    },
    {
     "data": {
      "text/html": [
       "<pre style=\"white-space:pre;overflow-x:auto;line-height:normal;font-family:Menlo,'DejaVu Sans Mono',consolas,'Courier New',monospace\">==&gt; Finished Test.\n",
       "</pre>\n"
      ],
      "text/plain": [
       "==> Finished Test.\n"
      ]
     },
     "metadata": {},
     "output_type": "display_data"
    },
    {
     "name": "stderr",
     "output_type": "stream",
     "text": [
      "100% 100/100 [00:06<00:00, 16.52it/s]\n"
     ]
    },
    {
     "data": {
      "text/html": [
       "<pre style=\"white-space:pre;overflow-x:auto;line-height:normal;font-family:Menlo,'DejaVu Sans Mono',consolas,'Courier New',monospace\">==&gt; <span style=\"font-weight: bold\">[</span><span style=\"color: #008080; text-decoration-color: #008080; font-weight: bold\">2023</span>-<span style=\"color: #008080; text-decoration-color: #008080; font-weight: bold\">08</span>-27_04-<span style=\"color: #008080; text-decoration-color: #008080; font-weight: bold\">37</span>-<span style=\"color: #008080; text-decoration-color: #008080; font-weight: bold\">40</span><span style=\"font-weight: bold\">]</span> Start Training scorp_side Epoch <span style=\"color: #008080; text-decoration-color: #008080; font-weight: bold\">11</span>/<span style=\"color: #008080; text-decoration-color: #008080; font-weight: bold\">50</span>, <span style=\"color: #808000; text-decoration-color: #808000\">lr</span>=<span style=\"color: #008080; text-decoration-color: #008080; font-weight: bold\">0.050000</span> <span style=\"color: #808000; text-decoration-color: #808000\">...</span>\n",
       "</pre>\n"
      ],
      "text/plain": [
       "==> \u001b[1m[\u001b[0m\u001b[1;36m2023\u001b[0m-\u001b[1;36m08\u001b[0m-27_04-\u001b[1;36m37\u001b[0m-\u001b[1;36m40\u001b[0m\u001b[1m]\u001b[0m Start Training scorp_side Epoch \u001b[1;36m11\u001b[0m/\u001b[1;36m50\u001b[0m, \u001b[33mlr\u001b[0m=\u001b[1;36m0\u001b[0m\u001b[1;36m.050000\u001b[0m \u001b[33m...\u001b[0m\n"
      ]
     },
     "metadata": {},
     "output_type": "display_data"
    },
    {
     "name": "stderr",
     "output_type": "stream",
     "text": [
      "loss=29.0101 (28.9284), lr=0.050000: : 100% 2400/2400 [00:59<00:00, 40.63it/s]\n"
     ]
    },
    {
     "data": {
      "text/html": [
       "<pre style=\"white-space:pre;overflow-x:auto;line-height:normal;font-family:Menlo,'DejaVu Sans Mono',consolas,'Courier New',monospace\">==&gt; <span style=\"font-weight: bold\">[</span><span style=\"color: #008080; text-decoration-color: #008080; font-weight: bold\">2023</span>-<span style=\"color: #008080; text-decoration-color: #008080; font-weight: bold\">08</span>-27_04-<span style=\"color: #008080; text-decoration-color: #008080; font-weight: bold\">38</span>-<span style=\"color: #008080; text-decoration-color: #008080; font-weight: bold\">39</span><span style=\"font-weight: bold\">]</span> Finished Epoch <span style=\"color: #008080; text-decoration-color: #008080; font-weight: bold\">11</span>/<span style=\"color: #008080; text-decoration-color: #008080; font-weight: bold\">50</span>. <span style=\"color: #808000; text-decoration-color: #808000\">CPU</span>=<span style=\"color: #008080; text-decoration-color: #008080; font-weight: bold\">11.</span>6GB, <span style=\"color: #808000; text-decoration-color: #808000\">GPU</span>=<span style=\"color: #008080; text-decoration-color: #008080; font-weight: bold\">79.</span>1GB.\n",
       "</pre>\n"
      ],
      "text/plain": [
       "==> \u001b[1m[\u001b[0m\u001b[1;36m2023\u001b[0m-\u001b[1;36m08\u001b[0m-27_04-\u001b[1;36m38\u001b[0m-\u001b[1;36m39\u001b[0m\u001b[1m]\u001b[0m Finished Epoch \u001b[1;36m11\u001b[0m/\u001b[1;36m50\u001b[0m. \u001b[33mCPU\u001b[0m=\u001b[1;36m11\u001b[0m\u001b[1;36m.\u001b[0m6GB, \u001b[33mGPU\u001b[0m=\u001b[1;36m79\u001b[0m\u001b[1;36m.\u001b[0m1GB.\n"
      ]
     },
     "metadata": {},
     "output_type": "display_data"
    },
    {
     "data": {
      "text/html": [
       "<pre style=\"white-space:pre;overflow-x:auto;line-height:normal;font-family:Menlo,'DejaVu Sans Mono',consolas,'Courier New',monospace\">++&gt; Evaluate scorp_side at epoch <span style=\"color: #008080; text-decoration-color: #008080; font-weight: bold\">11</span> <span style=\"color: #808000; text-decoration-color: #808000\">...</span>\n",
       "</pre>\n"
      ],
      "text/plain": [
       "++> Evaluate scorp_side at epoch \u001b[1;36m11\u001b[0m \u001b[33m...\u001b[0m\n"
      ]
     },
     "metadata": {},
     "output_type": "display_data"
    },
    {
     "name": "stderr",
     "output_type": "stream",
     "text": [
      "loss=0.0000 (0.0000): : 100% 8/8 [00:00<00:00, 17.04it/s]\n"
     ]
    },
    {
     "data": {
      "text/html": [
       "<pre style=\"white-space:pre;overflow-x:auto;line-height:normal;font-family:Menlo,'DejaVu Sans Mono',consolas,'Courier New',monospace\">++&gt; Evaluate epoch <span style=\"color: #008080; text-decoration-color: #008080; font-weight: bold\">11</span> Finished.\n",
       "</pre>\n"
      ],
      "text/plain": [
       "++> Evaluate epoch \u001b[1;36m11\u001b[0m Finished.\n"
      ]
     },
     "metadata": {},
     "output_type": "display_data"
    },
    {
     "data": {
      "text/html": [
       "<pre style=\"white-space:pre;overflow-x:auto;line-height:normal;font-family:Menlo,'DejaVu Sans Mono',consolas,'Courier New',monospace\">==&gt; <span style=\"font-weight: bold\">[</span><span style=\"color: #008080; text-decoration-color: #008080; font-weight: bold\">2023</span>-<span style=\"color: #008080; text-decoration-color: #008080; font-weight: bold\">08</span>-27_04-<span style=\"color: #008080; text-decoration-color: #008080; font-weight: bold\">38</span>-<span style=\"color: #008080; text-decoration-color: #008080; font-weight: bold\">40</span><span style=\"font-weight: bold\">]</span> Start Training scorp_side Epoch <span style=\"color: #008080; text-decoration-color: #008080; font-weight: bold\">12</span>/<span style=\"color: #008080; text-decoration-color: #008080; font-weight: bold\">50</span>, <span style=\"color: #808000; text-decoration-color: #808000\">lr</span>=<span style=\"color: #008080; text-decoration-color: #008080; font-weight: bold\">0.050000</span> <span style=\"color: #808000; text-decoration-color: #808000\">...</span>\n",
       "</pre>\n"
      ],
      "text/plain": [
       "==> \u001b[1m[\u001b[0m\u001b[1;36m2023\u001b[0m-\u001b[1;36m08\u001b[0m-27_04-\u001b[1;36m38\u001b[0m-\u001b[1;36m40\u001b[0m\u001b[1m]\u001b[0m Start Training scorp_side Epoch \u001b[1;36m12\u001b[0m/\u001b[1;36m50\u001b[0m, \u001b[33mlr\u001b[0m=\u001b[1;36m0\u001b[0m\u001b[1;36m.050000\u001b[0m \u001b[33m...\u001b[0m\n"
      ]
     },
     "metadata": {},
     "output_type": "display_data"
    },
    {
     "name": "stderr",
     "output_type": "stream",
     "text": [
      "loss=40.4487 (33.7287), lr=0.050000: : 100% 2400/2400 [00:59<00:00, 40.49it/s] \n"
     ]
    },
    {
     "data": {
      "text/html": [
       "<pre style=\"white-space:pre;overflow-x:auto;line-height:normal;font-family:Menlo,'DejaVu Sans Mono',consolas,'Courier New',monospace\">==&gt; <span style=\"font-weight: bold\">[</span><span style=\"color: #008080; text-decoration-color: #008080; font-weight: bold\">2023</span>-<span style=\"color: #008080; text-decoration-color: #008080; font-weight: bold\">08</span>-27_04-<span style=\"color: #008080; text-decoration-color: #008080; font-weight: bold\">39</span>-<span style=\"color: #008080; text-decoration-color: #008080; font-weight: bold\">39</span><span style=\"font-weight: bold\">]</span> Finished Epoch <span style=\"color: #008080; text-decoration-color: #008080; font-weight: bold\">12</span>/<span style=\"color: #008080; text-decoration-color: #008080; font-weight: bold\">50</span>. <span style=\"color: #808000; text-decoration-color: #808000\">CPU</span>=<span style=\"color: #008080; text-decoration-color: #008080; font-weight: bold\">11.</span>6GB, <span style=\"color: #808000; text-decoration-color: #808000\">GPU</span>=<span style=\"color: #008080; text-decoration-color: #008080; font-weight: bold\">79.</span>1GB.\n",
       "</pre>\n"
      ],
      "text/plain": [
       "==> \u001b[1m[\u001b[0m\u001b[1;36m2023\u001b[0m-\u001b[1;36m08\u001b[0m-27_04-\u001b[1;36m39\u001b[0m-\u001b[1;36m39\u001b[0m\u001b[1m]\u001b[0m Finished Epoch \u001b[1;36m12\u001b[0m/\u001b[1;36m50\u001b[0m. \u001b[33mCPU\u001b[0m=\u001b[1;36m11\u001b[0m\u001b[1;36m.\u001b[0m6GB, \u001b[33mGPU\u001b[0m=\u001b[1;36m79\u001b[0m\u001b[1;36m.\u001b[0m1GB.\n"
      ]
     },
     "metadata": {},
     "output_type": "display_data"
    },
    {
     "data": {
      "text/html": [
       "<pre style=\"white-space:pre;overflow-x:auto;line-height:normal;font-family:Menlo,'DejaVu Sans Mono',consolas,'Courier New',monospace\">++&gt; Evaluate scorp_side at epoch <span style=\"color: #008080; text-decoration-color: #008080; font-weight: bold\">12</span> <span style=\"color: #808000; text-decoration-color: #808000\">...</span>\n",
       "</pre>\n"
      ],
      "text/plain": [
       "++> Evaluate scorp_side at epoch \u001b[1;36m12\u001b[0m \u001b[33m...\u001b[0m\n"
      ]
     },
     "metadata": {},
     "output_type": "display_data"
    },
    {
     "name": "stderr",
     "output_type": "stream",
     "text": [
      "loss=0.0000 (0.0000): : 100% 8/8 [00:00<00:00, 17.09it/s]\n"
     ]
    },
    {
     "data": {
      "text/html": [
       "<pre style=\"white-space:pre;overflow-x:auto;line-height:normal;font-family:Menlo,'DejaVu Sans Mono',consolas,'Courier New',monospace\">++&gt; Evaluate epoch <span style=\"color: #008080; text-decoration-color: #008080; font-weight: bold\">12</span> Finished.\n",
       "</pre>\n"
      ],
      "text/plain": [
       "++> Evaluate epoch \u001b[1;36m12\u001b[0m Finished.\n"
      ]
     },
     "metadata": {},
     "output_type": "display_data"
    },
    {
     "data": {
      "text/html": [
       "<pre style=\"white-space:pre;overflow-x:auto;line-height:normal;font-family:Menlo,'DejaVu Sans Mono',consolas,'Courier New',monospace\">==&gt; <span style=\"font-weight: bold\">[</span><span style=\"color: #008080; text-decoration-color: #008080; font-weight: bold\">2023</span>-<span style=\"color: #008080; text-decoration-color: #008080; font-weight: bold\">08</span>-27_04-<span style=\"color: #008080; text-decoration-color: #008080; font-weight: bold\">39</span>-<span style=\"color: #008080; text-decoration-color: #008080; font-weight: bold\">40</span><span style=\"font-weight: bold\">]</span> Start Training scorp_side Epoch <span style=\"color: #008080; text-decoration-color: #008080; font-weight: bold\">13</span>/<span style=\"color: #008080; text-decoration-color: #008080; font-weight: bold\">50</span>, <span style=\"color: #808000; text-decoration-color: #808000\">lr</span>=<span style=\"color: #008080; text-decoration-color: #008080; font-weight: bold\">0.050000</span> <span style=\"color: #808000; text-decoration-color: #808000\">...</span>\n",
       "</pre>\n"
      ],
      "text/plain": [
       "==> \u001b[1m[\u001b[0m\u001b[1;36m2023\u001b[0m-\u001b[1;36m08\u001b[0m-27_04-\u001b[1;36m39\u001b[0m-\u001b[1;36m40\u001b[0m\u001b[1m]\u001b[0m Start Training scorp_side Epoch \u001b[1;36m13\u001b[0m/\u001b[1;36m50\u001b[0m, \u001b[33mlr\u001b[0m=\u001b[1;36m0\u001b[0m\u001b[1;36m.050000\u001b[0m \u001b[33m...\u001b[0m\n"
      ]
     },
     "metadata": {},
     "output_type": "display_data"
    },
    {
     "name": "stderr",
     "output_type": "stream",
     "text": [
      "loss=41.1207 (36.3980), lr=0.050000: : 100% 2400/2400 [00:59<00:00, 40.42it/s]\n"
     ]
    },
    {
     "data": {
      "text/html": [
       "<pre style=\"white-space:pre;overflow-x:auto;line-height:normal;font-family:Menlo,'DejaVu Sans Mono',consolas,'Courier New',monospace\">==&gt; <span style=\"font-weight: bold\">[</span><span style=\"color: #008080; text-decoration-color: #008080; font-weight: bold\">2023</span>-<span style=\"color: #008080; text-decoration-color: #008080; font-weight: bold\">08</span>-27_04-<span style=\"color: #008080; text-decoration-color: #008080; font-weight: bold\">40</span>-<span style=\"color: #008080; text-decoration-color: #008080; font-weight: bold\">39</span><span style=\"font-weight: bold\">]</span> Finished Epoch <span style=\"color: #008080; text-decoration-color: #008080; font-weight: bold\">13</span>/<span style=\"color: #008080; text-decoration-color: #008080; font-weight: bold\">50</span>. <span style=\"color: #808000; text-decoration-color: #808000\">CPU</span>=<span style=\"color: #008080; text-decoration-color: #008080; font-weight: bold\">11.</span>6GB, <span style=\"color: #808000; text-decoration-color: #808000\">GPU</span>=<span style=\"color: #008080; text-decoration-color: #008080; font-weight: bold\">79.</span>1GB.\n",
       "</pre>\n"
      ],
      "text/plain": [
       "==> \u001b[1m[\u001b[0m\u001b[1;36m2023\u001b[0m-\u001b[1;36m08\u001b[0m-27_04-\u001b[1;36m40\u001b[0m-\u001b[1;36m39\u001b[0m\u001b[1m]\u001b[0m Finished Epoch \u001b[1;36m13\u001b[0m/\u001b[1;36m50\u001b[0m. \u001b[33mCPU\u001b[0m=\u001b[1;36m11\u001b[0m\u001b[1;36m.\u001b[0m6GB, \u001b[33mGPU\u001b[0m=\u001b[1;36m79\u001b[0m\u001b[1;36m.\u001b[0m1GB.\n"
      ]
     },
     "metadata": {},
     "output_type": "display_data"
    },
    {
     "data": {
      "text/html": [
       "<pre style=\"white-space:pre;overflow-x:auto;line-height:normal;font-family:Menlo,'DejaVu Sans Mono',consolas,'Courier New',monospace\">++&gt; Evaluate scorp_side at epoch <span style=\"color: #008080; text-decoration-color: #008080; font-weight: bold\">13</span> <span style=\"color: #808000; text-decoration-color: #808000\">...</span>\n",
       "</pre>\n"
      ],
      "text/plain": [
       "++> Evaluate scorp_side at epoch \u001b[1;36m13\u001b[0m \u001b[33m...\u001b[0m\n"
      ]
     },
     "metadata": {},
     "output_type": "display_data"
    },
    {
     "name": "stderr",
     "output_type": "stream",
     "text": [
      "loss=0.0000 (0.0000): : 100% 8/8 [00:00<00:00, 17.18it/s]\n"
     ]
    },
    {
     "data": {
      "text/html": [
       "<pre style=\"white-space:pre;overflow-x:auto;line-height:normal;font-family:Menlo,'DejaVu Sans Mono',consolas,'Courier New',monospace\">++&gt; Evaluate epoch <span style=\"color: #008080; text-decoration-color: #008080; font-weight: bold\">13</span> Finished.\n",
       "</pre>\n"
      ],
      "text/plain": [
       "++> Evaluate epoch \u001b[1;36m13\u001b[0m Finished.\n"
      ]
     },
     "metadata": {},
     "output_type": "display_data"
    },
    {
     "data": {
      "text/html": [
       "<pre style=\"white-space:pre;overflow-x:auto;line-height:normal;font-family:Menlo,'DejaVu Sans Mono',consolas,'Courier New',monospace\">==&gt; <span style=\"font-weight: bold\">[</span><span style=\"color: #008080; text-decoration-color: #008080; font-weight: bold\">2023</span>-<span style=\"color: #008080; text-decoration-color: #008080; font-weight: bold\">08</span>-27_04-<span style=\"color: #008080; text-decoration-color: #008080; font-weight: bold\">40</span>-<span style=\"color: #008080; text-decoration-color: #008080; font-weight: bold\">40</span><span style=\"font-weight: bold\">]</span> Start Training scorp_side Epoch <span style=\"color: #008080; text-decoration-color: #008080; font-weight: bold\">14</span>/<span style=\"color: #008080; text-decoration-color: #008080; font-weight: bold\">50</span>, <span style=\"color: #808000; text-decoration-color: #808000\">lr</span>=<span style=\"color: #008080; text-decoration-color: #008080; font-weight: bold\">0.050000</span> <span style=\"color: #808000; text-decoration-color: #808000\">...</span>\n",
       "</pre>\n"
      ],
      "text/plain": [
       "==> \u001b[1m[\u001b[0m\u001b[1;36m2023\u001b[0m-\u001b[1;36m08\u001b[0m-27_04-\u001b[1;36m40\u001b[0m-\u001b[1;36m40\u001b[0m\u001b[1m]\u001b[0m Start Training scorp_side Epoch \u001b[1;36m14\u001b[0m/\u001b[1;36m50\u001b[0m, \u001b[33mlr\u001b[0m=\u001b[1;36m0\u001b[0m\u001b[1;36m.050000\u001b[0m \u001b[33m...\u001b[0m\n"
      ]
     },
     "metadata": {},
     "output_type": "display_data"
    },
    {
     "name": "stderr",
     "output_type": "stream",
     "text": [
      "loss=24.5889 (39.3805), lr=0.050000: : 100% 2400/2400 [00:59<00:00, 40.11it/s]\n"
     ]
    },
    {
     "data": {
      "text/html": [
       "<pre style=\"white-space:pre;overflow-x:auto;line-height:normal;font-family:Menlo,'DejaVu Sans Mono',consolas,'Courier New',monospace\">==&gt; <span style=\"font-weight: bold\">[</span><span style=\"color: #008080; text-decoration-color: #008080; font-weight: bold\">2023</span>-<span style=\"color: #008080; text-decoration-color: #008080; font-weight: bold\">08</span>-27_04-<span style=\"color: #008080; text-decoration-color: #008080; font-weight: bold\">41</span>-<span style=\"color: #008080; text-decoration-color: #008080; font-weight: bold\">40</span><span style=\"font-weight: bold\">]</span> Finished Epoch <span style=\"color: #008080; text-decoration-color: #008080; font-weight: bold\">14</span>/<span style=\"color: #008080; text-decoration-color: #008080; font-weight: bold\">50</span>. <span style=\"color: #808000; text-decoration-color: #808000\">CPU</span>=<span style=\"color: #008080; text-decoration-color: #008080; font-weight: bold\">11.</span>6GB, <span style=\"color: #808000; text-decoration-color: #808000\">GPU</span>=<span style=\"color: #008080; text-decoration-color: #008080; font-weight: bold\">79.</span>1GB.\n",
       "</pre>\n"
      ],
      "text/plain": [
       "==> \u001b[1m[\u001b[0m\u001b[1;36m2023\u001b[0m-\u001b[1;36m08\u001b[0m-27_04-\u001b[1;36m41\u001b[0m-\u001b[1;36m40\u001b[0m\u001b[1m]\u001b[0m Finished Epoch \u001b[1;36m14\u001b[0m/\u001b[1;36m50\u001b[0m. \u001b[33mCPU\u001b[0m=\u001b[1;36m11\u001b[0m\u001b[1;36m.\u001b[0m6GB, \u001b[33mGPU\u001b[0m=\u001b[1;36m79\u001b[0m\u001b[1;36m.\u001b[0m1GB.\n"
      ]
     },
     "metadata": {},
     "output_type": "display_data"
    },
    {
     "data": {
      "text/html": [
       "<pre style=\"white-space:pre;overflow-x:auto;line-height:normal;font-family:Menlo,'DejaVu Sans Mono',consolas,'Courier New',monospace\">++&gt; Evaluate scorp_side at epoch <span style=\"color: #008080; text-decoration-color: #008080; font-weight: bold\">14</span> <span style=\"color: #808000; text-decoration-color: #808000\">...</span>\n",
       "</pre>\n"
      ],
      "text/plain": [
       "++> Evaluate scorp_side at epoch \u001b[1;36m14\u001b[0m \u001b[33m...\u001b[0m\n"
      ]
     },
     "metadata": {},
     "output_type": "display_data"
    },
    {
     "name": "stderr",
     "output_type": "stream",
     "text": [
      "loss=0.0000 (0.0000): : 100% 8/8 [00:00<00:00, 17.22it/s]\n"
     ]
    },
    {
     "data": {
      "text/html": [
       "<pre style=\"white-space:pre;overflow-x:auto;line-height:normal;font-family:Menlo,'DejaVu Sans Mono',consolas,'Courier New',monospace\">++&gt; Evaluate epoch <span style=\"color: #008080; text-decoration-color: #008080; font-weight: bold\">14</span> Finished.\n",
       "</pre>\n"
      ],
      "text/plain": [
       "++> Evaluate epoch \u001b[1;36m14\u001b[0m Finished.\n"
      ]
     },
     "metadata": {},
     "output_type": "display_data"
    },
    {
     "data": {
      "text/html": [
       "<pre style=\"white-space:pre;overflow-x:auto;line-height:normal;font-family:Menlo,'DejaVu Sans Mono',consolas,'Courier New',monospace\">==&gt; <span style=\"font-weight: bold\">[</span><span style=\"color: #008080; text-decoration-color: #008080; font-weight: bold\">2023</span>-<span style=\"color: #008080; text-decoration-color: #008080; font-weight: bold\">08</span>-27_04-<span style=\"color: #008080; text-decoration-color: #008080; font-weight: bold\">41</span>-<span style=\"color: #008080; text-decoration-color: #008080; font-weight: bold\">41</span><span style=\"font-weight: bold\">]</span> Start Training scorp_side Epoch <span style=\"color: #008080; text-decoration-color: #008080; font-weight: bold\">15</span>/<span style=\"color: #008080; text-decoration-color: #008080; font-weight: bold\">50</span>, <span style=\"color: #808000; text-decoration-color: #808000\">lr</span>=<span style=\"color: #008080; text-decoration-color: #008080; font-weight: bold\">0.050000</span> <span style=\"color: #808000; text-decoration-color: #808000\">...</span>\n",
       "</pre>\n"
      ],
      "text/plain": [
       "==> \u001b[1m[\u001b[0m\u001b[1;36m2023\u001b[0m-\u001b[1;36m08\u001b[0m-27_04-\u001b[1;36m41\u001b[0m-\u001b[1;36m41\u001b[0m\u001b[1m]\u001b[0m Start Training scorp_side Epoch \u001b[1;36m15\u001b[0m/\u001b[1;36m50\u001b[0m, \u001b[33mlr\u001b[0m=\u001b[1;36m0\u001b[0m\u001b[1;36m.050000\u001b[0m \u001b[33m...\u001b[0m\n"
      ]
     },
     "metadata": {},
     "output_type": "display_data"
    },
    {
     "name": "stderr",
     "output_type": "stream",
     "text": [
      "loss=31.2595 (40.2037), lr=0.050000: : 100% 2400/2400 [01:00<00:00, 39.71it/s]\n"
     ]
    },
    {
     "data": {
      "text/html": [
       "<pre style=\"white-space:pre;overflow-x:auto;line-height:normal;font-family:Menlo,'DejaVu Sans Mono',consolas,'Courier New',monospace\">==&gt; <span style=\"font-weight: bold\">[</span><span style=\"color: #008080; text-decoration-color: #008080; font-weight: bold\">2023</span>-<span style=\"color: #008080; text-decoration-color: #008080; font-weight: bold\">08</span>-27_04-<span style=\"color: #008080; text-decoration-color: #008080; font-weight: bold\">42</span>-<span style=\"color: #008080; text-decoration-color: #008080; font-weight: bold\">41</span><span style=\"font-weight: bold\">]</span> Finished Epoch <span style=\"color: #008080; text-decoration-color: #008080; font-weight: bold\">15</span>/<span style=\"color: #008080; text-decoration-color: #008080; font-weight: bold\">50</span>. <span style=\"color: #808000; text-decoration-color: #808000\">CPU</span>=<span style=\"color: #008080; text-decoration-color: #008080; font-weight: bold\">11.</span>6GB, <span style=\"color: #808000; text-decoration-color: #808000\">GPU</span>=<span style=\"color: #008080; text-decoration-color: #008080; font-weight: bold\">79.</span>1GB.\n",
       "</pre>\n"
      ],
      "text/plain": [
       "==> \u001b[1m[\u001b[0m\u001b[1;36m2023\u001b[0m-\u001b[1;36m08\u001b[0m-27_04-\u001b[1;36m42\u001b[0m-\u001b[1;36m41\u001b[0m\u001b[1m]\u001b[0m Finished Epoch \u001b[1;36m15\u001b[0m/\u001b[1;36m50\u001b[0m. \u001b[33mCPU\u001b[0m=\u001b[1;36m11\u001b[0m\u001b[1;36m.\u001b[0m6GB, \u001b[33mGPU\u001b[0m=\u001b[1;36m79\u001b[0m\u001b[1;36m.\u001b[0m1GB.\n"
      ]
     },
     "metadata": {},
     "output_type": "display_data"
    },
    {
     "data": {
      "text/html": [
       "<pre style=\"white-space:pre;overflow-x:auto;line-height:normal;font-family:Menlo,'DejaVu Sans Mono',consolas,'Courier New',monospace\">++&gt; Evaluate scorp_side at epoch <span style=\"color: #008080; text-decoration-color: #008080; font-weight: bold\">15</span> <span style=\"color: #808000; text-decoration-color: #808000\">...</span>\n",
       "</pre>\n"
      ],
      "text/plain": [
       "++> Evaluate scorp_side at epoch \u001b[1;36m15\u001b[0m \u001b[33m...\u001b[0m\n"
      ]
     },
     "metadata": {},
     "output_type": "display_data"
    },
    {
     "name": "stderr",
     "output_type": "stream",
     "text": [
      "loss=0.0000 (0.0000): : 100% 8/8 [00:00<00:00, 17.41it/s]\n"
     ]
    },
    {
     "data": {
      "text/html": [
       "<pre style=\"white-space:pre;overflow-x:auto;line-height:normal;font-family:Menlo,'DejaVu Sans Mono',consolas,'Courier New',monospace\">++&gt; Evaluate epoch <span style=\"color: #008080; text-decoration-color: #008080; font-weight: bold\">15</span> Finished.\n",
       "</pre>\n"
      ],
      "text/plain": [
       "++> Evaluate epoch \u001b[1;36m15\u001b[0m Finished.\n"
      ]
     },
     "metadata": {},
     "output_type": "display_data"
    },
    {
     "data": {
      "text/html": [
       "<pre style=\"white-space:pre;overflow-x:auto;line-height:normal;font-family:Menlo,'DejaVu Sans Mono',consolas,'Courier New',monospace\">==&gt; <span style=\"font-weight: bold\">[</span><span style=\"color: #008080; text-decoration-color: #008080; font-weight: bold\">2023</span>-<span style=\"color: #008080; text-decoration-color: #008080; font-weight: bold\">08</span>-27_04-<span style=\"color: #008080; text-decoration-color: #008080; font-weight: bold\">42</span>-<span style=\"color: #008080; text-decoration-color: #008080; font-weight: bold\">42</span><span style=\"font-weight: bold\">]</span> Start Training scorp_side Epoch <span style=\"color: #008080; text-decoration-color: #008080; font-weight: bold\">16</span>/<span style=\"color: #008080; text-decoration-color: #008080; font-weight: bold\">50</span>, <span style=\"color: #808000; text-decoration-color: #808000\">lr</span>=<span style=\"color: #008080; text-decoration-color: #008080; font-weight: bold\">0.050000</span> <span style=\"color: #808000; text-decoration-color: #808000\">...</span>\n",
       "</pre>\n"
      ],
      "text/plain": [
       "==> \u001b[1m[\u001b[0m\u001b[1;36m2023\u001b[0m-\u001b[1;36m08\u001b[0m-27_04-\u001b[1;36m42\u001b[0m-\u001b[1;36m42\u001b[0m\u001b[1m]\u001b[0m Start Training scorp_side Epoch \u001b[1;36m16\u001b[0m/\u001b[1;36m50\u001b[0m, \u001b[33mlr\u001b[0m=\u001b[1;36m0\u001b[0m\u001b[1;36m.050000\u001b[0m \u001b[33m...\u001b[0m\n"
      ]
     },
     "metadata": {},
     "output_type": "display_data"
    },
    {
     "name": "stderr",
     "output_type": "stream",
     "text": [
      "loss=16.2579 (40.5372), lr=0.050000: : 100% 2400/2400 [01:00<00:00, 39.58it/s] \n"
     ]
    },
    {
     "data": {
      "text/html": [
       "<pre style=\"white-space:pre;overflow-x:auto;line-height:normal;font-family:Menlo,'DejaVu Sans Mono',consolas,'Courier New',monospace\">==&gt; <span style=\"font-weight: bold\">[</span><span style=\"color: #008080; text-decoration-color: #008080; font-weight: bold\">2023</span>-<span style=\"color: #008080; text-decoration-color: #008080; font-weight: bold\">08</span>-27_04-<span style=\"color: #008080; text-decoration-color: #008080; font-weight: bold\">43</span>-<span style=\"color: #008080; text-decoration-color: #008080; font-weight: bold\">43</span><span style=\"font-weight: bold\">]</span> Finished Epoch <span style=\"color: #008080; text-decoration-color: #008080; font-weight: bold\">16</span>/<span style=\"color: #008080; text-decoration-color: #008080; font-weight: bold\">50</span>. <span style=\"color: #808000; text-decoration-color: #808000\">CPU</span>=<span style=\"color: #008080; text-decoration-color: #008080; font-weight: bold\">11.</span>6GB, <span style=\"color: #808000; text-decoration-color: #808000\">GPU</span>=<span style=\"color: #008080; text-decoration-color: #008080; font-weight: bold\">79.</span>1GB.\n",
       "</pre>\n"
      ],
      "text/plain": [
       "==> \u001b[1m[\u001b[0m\u001b[1;36m2023\u001b[0m-\u001b[1;36m08\u001b[0m-27_04-\u001b[1;36m43\u001b[0m-\u001b[1;36m43\u001b[0m\u001b[1m]\u001b[0m Finished Epoch \u001b[1;36m16\u001b[0m/\u001b[1;36m50\u001b[0m. \u001b[33mCPU\u001b[0m=\u001b[1;36m11\u001b[0m\u001b[1;36m.\u001b[0m6GB, \u001b[33mGPU\u001b[0m=\u001b[1;36m79\u001b[0m\u001b[1;36m.\u001b[0m1GB.\n"
      ]
     },
     "metadata": {},
     "output_type": "display_data"
    },
    {
     "data": {
      "text/html": [
       "<pre style=\"white-space:pre;overflow-x:auto;line-height:normal;font-family:Menlo,'DejaVu Sans Mono',consolas,'Courier New',monospace\">++&gt; Evaluate scorp_side at epoch <span style=\"color: #008080; text-decoration-color: #008080; font-weight: bold\">16</span> <span style=\"color: #808000; text-decoration-color: #808000\">...</span>\n",
       "</pre>\n"
      ],
      "text/plain": [
       "++> Evaluate scorp_side at epoch \u001b[1;36m16\u001b[0m \u001b[33m...\u001b[0m\n"
      ]
     },
     "metadata": {},
     "output_type": "display_data"
    },
    {
     "name": "stderr",
     "output_type": "stream",
     "text": [
      "loss=0.0000 (0.0000): : 100% 8/8 [00:00<00:00, 17.22it/s]\n"
     ]
    },
    {
     "data": {
      "text/html": [
       "<pre style=\"white-space:pre;overflow-x:auto;line-height:normal;font-family:Menlo,'DejaVu Sans Mono',consolas,'Courier New',monospace\">++&gt; Evaluate epoch <span style=\"color: #008080; text-decoration-color: #008080; font-weight: bold\">16</span> Finished.\n",
       "</pre>\n"
      ],
      "text/plain": [
       "++> Evaluate epoch \u001b[1;36m16\u001b[0m Finished.\n"
      ]
     },
     "metadata": {},
     "output_type": "display_data"
    },
    {
     "data": {
      "text/html": [
       "<pre style=\"white-space:pre;overflow-x:auto;line-height:normal;font-family:Menlo,'DejaVu Sans Mono',consolas,'Courier New',monospace\">==&gt; <span style=\"font-weight: bold\">[</span><span style=\"color: #008080; text-decoration-color: #008080; font-weight: bold\">2023</span>-<span style=\"color: #008080; text-decoration-color: #008080; font-weight: bold\">08</span>-27_04-<span style=\"color: #008080; text-decoration-color: #008080; font-weight: bold\">43</span>-<span style=\"color: #008080; text-decoration-color: #008080; font-weight: bold\">44</span><span style=\"font-weight: bold\">]</span> Start Training scorp_side Epoch <span style=\"color: #008080; text-decoration-color: #008080; font-weight: bold\">17</span>/<span style=\"color: #008080; text-decoration-color: #008080; font-weight: bold\">50</span>, <span style=\"color: #808000; text-decoration-color: #808000\">lr</span>=<span style=\"color: #008080; text-decoration-color: #008080; font-weight: bold\">0.050000</span> <span style=\"color: #808000; text-decoration-color: #808000\">...</span>\n",
       "</pre>\n"
      ],
      "text/plain": [
       "==> \u001b[1m[\u001b[0m\u001b[1;36m2023\u001b[0m-\u001b[1;36m08\u001b[0m-27_04-\u001b[1;36m43\u001b[0m-\u001b[1;36m44\u001b[0m\u001b[1m]\u001b[0m Start Training scorp_side Epoch \u001b[1;36m17\u001b[0m/\u001b[1;36m50\u001b[0m, \u001b[33mlr\u001b[0m=\u001b[1;36m0\u001b[0m\u001b[1;36m.050000\u001b[0m \u001b[33m...\u001b[0m\n"
      ]
     },
     "metadata": {},
     "output_type": "display_data"
    },
    {
     "name": "stderr",
     "output_type": "stream",
     "text": [
      "loss=16.0869 (44.4316), lr=0.050000: : 100% 2400/2400 [01:00<00:00, 39.48it/s]\n"
     ]
    },
    {
     "data": {
      "text/html": [
       "<pre style=\"white-space:pre;overflow-x:auto;line-height:normal;font-family:Menlo,'DejaVu Sans Mono',consolas,'Courier New',monospace\">==&gt; <span style=\"font-weight: bold\">[</span><span style=\"color: #008080; text-decoration-color: #008080; font-weight: bold\">2023</span>-<span style=\"color: #008080; text-decoration-color: #008080; font-weight: bold\">08</span>-27_04-<span style=\"color: #008080; text-decoration-color: #008080; font-weight: bold\">44</span>-<span style=\"color: #008080; text-decoration-color: #008080; font-weight: bold\">45</span><span style=\"font-weight: bold\">]</span> Finished Epoch <span style=\"color: #008080; text-decoration-color: #008080; font-weight: bold\">17</span>/<span style=\"color: #008080; text-decoration-color: #008080; font-weight: bold\">50</span>. <span style=\"color: #808000; text-decoration-color: #808000\">CPU</span>=<span style=\"color: #008080; text-decoration-color: #008080; font-weight: bold\">11.</span>6GB, <span style=\"color: #808000; text-decoration-color: #808000\">GPU</span>=<span style=\"color: #008080; text-decoration-color: #008080; font-weight: bold\">79.</span>1GB.\n",
       "</pre>\n"
      ],
      "text/plain": [
       "==> \u001b[1m[\u001b[0m\u001b[1;36m2023\u001b[0m-\u001b[1;36m08\u001b[0m-27_04-\u001b[1;36m44\u001b[0m-\u001b[1;36m45\u001b[0m\u001b[1m]\u001b[0m Finished Epoch \u001b[1;36m17\u001b[0m/\u001b[1;36m50\u001b[0m. \u001b[33mCPU\u001b[0m=\u001b[1;36m11\u001b[0m\u001b[1;36m.\u001b[0m6GB, \u001b[33mGPU\u001b[0m=\u001b[1;36m79\u001b[0m\u001b[1;36m.\u001b[0m1GB.\n"
      ]
     },
     "metadata": {},
     "output_type": "display_data"
    },
    {
     "data": {
      "text/html": [
       "<pre style=\"white-space:pre;overflow-x:auto;line-height:normal;font-family:Menlo,'DejaVu Sans Mono',consolas,'Courier New',monospace\">++&gt; Evaluate scorp_side at epoch <span style=\"color: #008080; text-decoration-color: #008080; font-weight: bold\">17</span> <span style=\"color: #808000; text-decoration-color: #808000\">...</span>\n",
       "</pre>\n"
      ],
      "text/plain": [
       "++> Evaluate scorp_side at epoch \u001b[1;36m17\u001b[0m \u001b[33m...\u001b[0m\n"
      ]
     },
     "metadata": {},
     "output_type": "display_data"
    },
    {
     "name": "stderr",
     "output_type": "stream",
     "text": [
      "loss=0.0000 (0.0000): : 100% 8/8 [00:00<00:00, 17.28it/s]\n"
     ]
    },
    {
     "data": {
      "text/html": [
       "<pre style=\"white-space:pre;overflow-x:auto;line-height:normal;font-family:Menlo,'DejaVu Sans Mono',consolas,'Courier New',monospace\">++&gt; Evaluate epoch <span style=\"color: #008080; text-decoration-color: #008080; font-weight: bold\">17</span> Finished.\n",
       "</pre>\n"
      ],
      "text/plain": [
       "++> Evaluate epoch \u001b[1;36m17\u001b[0m Finished.\n"
      ]
     },
     "metadata": {},
     "output_type": "display_data"
    },
    {
     "data": {
      "text/html": [
       "<pre style=\"white-space:pre;overflow-x:auto;line-height:normal;font-family:Menlo,'DejaVu Sans Mono',consolas,'Courier New',monospace\">==&gt; <span style=\"font-weight: bold\">[</span><span style=\"color: #008080; text-decoration-color: #008080; font-weight: bold\">2023</span>-<span style=\"color: #008080; text-decoration-color: #008080; font-weight: bold\">08</span>-27_04-<span style=\"color: #008080; text-decoration-color: #008080; font-weight: bold\">44</span>-<span style=\"color: #008080; text-decoration-color: #008080; font-weight: bold\">45</span><span style=\"font-weight: bold\">]</span> Start Training scorp_side Epoch <span style=\"color: #008080; text-decoration-color: #008080; font-weight: bold\">18</span>/<span style=\"color: #008080; text-decoration-color: #008080; font-weight: bold\">50</span>, <span style=\"color: #808000; text-decoration-color: #808000\">lr</span>=<span style=\"color: #008080; text-decoration-color: #008080; font-weight: bold\">0.050000</span> <span style=\"color: #808000; text-decoration-color: #808000\">...</span>\n",
       "</pre>\n"
      ],
      "text/plain": [
       "==> \u001b[1m[\u001b[0m\u001b[1;36m2023\u001b[0m-\u001b[1;36m08\u001b[0m-27_04-\u001b[1;36m44\u001b[0m-\u001b[1;36m45\u001b[0m\u001b[1m]\u001b[0m Start Training scorp_side Epoch \u001b[1;36m18\u001b[0m/\u001b[1;36m50\u001b[0m, \u001b[33mlr\u001b[0m=\u001b[1;36m0\u001b[0m\u001b[1;36m.050000\u001b[0m \u001b[33m...\u001b[0m\n"
      ]
     },
     "metadata": {},
     "output_type": "display_data"
    },
    {
     "name": "stderr",
     "output_type": "stream",
     "text": [
      "loss=19.9319 (51.2605), lr=0.050000: : 100% 2400/2400 [01:01<00:00, 39.12it/s] \n"
     ]
    },
    {
     "data": {
      "text/html": [
       "<pre style=\"white-space:pre;overflow-x:auto;line-height:normal;font-family:Menlo,'DejaVu Sans Mono',consolas,'Courier New',monospace\">==&gt; <span style=\"font-weight: bold\">[</span><span style=\"color: #008080; text-decoration-color: #008080; font-weight: bold\">2023</span>-<span style=\"color: #008080; text-decoration-color: #008080; font-weight: bold\">08</span>-27_04-<span style=\"color: #008080; text-decoration-color: #008080; font-weight: bold\">45</span>-<span style=\"color: #008080; text-decoration-color: #008080; font-weight: bold\">47</span><span style=\"font-weight: bold\">]</span> Finished Epoch <span style=\"color: #008080; text-decoration-color: #008080; font-weight: bold\">18</span>/<span style=\"color: #008080; text-decoration-color: #008080; font-weight: bold\">50</span>. <span style=\"color: #808000; text-decoration-color: #808000\">CPU</span>=<span style=\"color: #008080; text-decoration-color: #008080; font-weight: bold\">11.</span>6GB, <span style=\"color: #808000; text-decoration-color: #808000\">GPU</span>=<span style=\"color: #008080; text-decoration-color: #008080; font-weight: bold\">79.</span>1GB.\n",
       "</pre>\n"
      ],
      "text/plain": [
       "==> \u001b[1m[\u001b[0m\u001b[1;36m2023\u001b[0m-\u001b[1;36m08\u001b[0m-27_04-\u001b[1;36m45\u001b[0m-\u001b[1;36m47\u001b[0m\u001b[1m]\u001b[0m Finished Epoch \u001b[1;36m18\u001b[0m/\u001b[1;36m50\u001b[0m. \u001b[33mCPU\u001b[0m=\u001b[1;36m11\u001b[0m\u001b[1;36m.\u001b[0m6GB, \u001b[33mGPU\u001b[0m=\u001b[1;36m79\u001b[0m\u001b[1;36m.\u001b[0m1GB.\n"
      ]
     },
     "metadata": {},
     "output_type": "display_data"
    },
    {
     "data": {
      "text/html": [
       "<pre style=\"white-space:pre;overflow-x:auto;line-height:normal;font-family:Menlo,'DejaVu Sans Mono',consolas,'Courier New',monospace\">++&gt; Evaluate scorp_side at epoch <span style=\"color: #008080; text-decoration-color: #008080; font-weight: bold\">18</span> <span style=\"color: #808000; text-decoration-color: #808000\">...</span>\n",
       "</pre>\n"
      ],
      "text/plain": [
       "++> Evaluate scorp_side at epoch \u001b[1;36m18\u001b[0m \u001b[33m...\u001b[0m\n"
      ]
     },
     "metadata": {},
     "output_type": "display_data"
    },
    {
     "name": "stderr",
     "output_type": "stream",
     "text": [
      "loss=0.0000 (0.0000): : 100% 8/8 [00:00<00:00, 17.29it/s]\n"
     ]
    },
    {
     "data": {
      "text/html": [
       "<pre style=\"white-space:pre;overflow-x:auto;line-height:normal;font-family:Menlo,'DejaVu Sans Mono',consolas,'Courier New',monospace\">++&gt; Evaluate epoch <span style=\"color: #008080; text-decoration-color: #008080; font-weight: bold\">18</span> Finished.\n",
       "</pre>\n"
      ],
      "text/plain": [
       "++> Evaluate epoch \u001b[1;36m18\u001b[0m Finished.\n"
      ]
     },
     "metadata": {},
     "output_type": "display_data"
    },
    {
     "data": {
      "text/html": [
       "<pre style=\"white-space:pre;overflow-x:auto;line-height:normal;font-family:Menlo,'DejaVu Sans Mono',consolas,'Courier New',monospace\">==&gt; <span style=\"font-weight: bold\">[</span><span style=\"color: #008080; text-decoration-color: #008080; font-weight: bold\">2023</span>-<span style=\"color: #008080; text-decoration-color: #008080; font-weight: bold\">08</span>-27_04-<span style=\"color: #008080; text-decoration-color: #008080; font-weight: bold\">45</span>-<span style=\"color: #008080; text-decoration-color: #008080; font-weight: bold\">48</span><span style=\"font-weight: bold\">]</span> Start Training scorp_side Epoch <span style=\"color: #008080; text-decoration-color: #008080; font-weight: bold\">19</span>/<span style=\"color: #008080; text-decoration-color: #008080; font-weight: bold\">50</span>, <span style=\"color: #808000; text-decoration-color: #808000\">lr</span>=<span style=\"color: #008080; text-decoration-color: #008080; font-weight: bold\">0.050000</span> <span style=\"color: #808000; text-decoration-color: #808000\">...</span>\n",
       "</pre>\n"
      ],
      "text/plain": [
       "==> \u001b[1m[\u001b[0m\u001b[1;36m2023\u001b[0m-\u001b[1;36m08\u001b[0m-27_04-\u001b[1;36m45\u001b[0m-\u001b[1;36m48\u001b[0m\u001b[1m]\u001b[0m Start Training scorp_side Epoch \u001b[1;36m19\u001b[0m/\u001b[1;36m50\u001b[0m, \u001b[33mlr\u001b[0m=\u001b[1;36m0\u001b[0m\u001b[1;36m.050000\u001b[0m \u001b[33m...\u001b[0m\n"
      ]
     },
     "metadata": {},
     "output_type": "display_data"
    },
    {
     "name": "stderr",
     "output_type": "stream",
     "text": [
      "loss=26.6077 (51.2061), lr=0.050000: : 100% 2400/2400 [01:01<00:00, 39.17it/s] \n"
     ]
    },
    {
     "data": {
      "text/html": [
       "<pre style=\"white-space:pre;overflow-x:auto;line-height:normal;font-family:Menlo,'DejaVu Sans Mono',consolas,'Courier New',monospace\">==&gt; <span style=\"font-weight: bold\">[</span><span style=\"color: #008080; text-decoration-color: #008080; font-weight: bold\">2023</span>-<span style=\"color: #008080; text-decoration-color: #008080; font-weight: bold\">08</span>-27_04-<span style=\"color: #008080; text-decoration-color: #008080; font-weight: bold\">46</span>-<span style=\"color: #008080; text-decoration-color: #008080; font-weight: bold\">49</span><span style=\"font-weight: bold\">]</span> Finished Epoch <span style=\"color: #008080; text-decoration-color: #008080; font-weight: bold\">19</span>/<span style=\"color: #008080; text-decoration-color: #008080; font-weight: bold\">50</span>. <span style=\"color: #808000; text-decoration-color: #808000\">CPU</span>=<span style=\"color: #008080; text-decoration-color: #008080; font-weight: bold\">11.</span>6GB, <span style=\"color: #808000; text-decoration-color: #808000\">GPU</span>=<span style=\"color: #008080; text-decoration-color: #008080; font-weight: bold\">79.</span>1GB.\n",
       "</pre>\n"
      ],
      "text/plain": [
       "==> \u001b[1m[\u001b[0m\u001b[1;36m2023\u001b[0m-\u001b[1;36m08\u001b[0m-27_04-\u001b[1;36m46\u001b[0m-\u001b[1;36m49\u001b[0m\u001b[1m]\u001b[0m Finished Epoch \u001b[1;36m19\u001b[0m/\u001b[1;36m50\u001b[0m. \u001b[33mCPU\u001b[0m=\u001b[1;36m11\u001b[0m\u001b[1;36m.\u001b[0m6GB, \u001b[33mGPU\u001b[0m=\u001b[1;36m79\u001b[0m\u001b[1;36m.\u001b[0m1GB.\n"
      ]
     },
     "metadata": {},
     "output_type": "display_data"
    },
    {
     "data": {
      "text/html": [
       "<pre style=\"white-space:pre;overflow-x:auto;line-height:normal;font-family:Menlo,'DejaVu Sans Mono',consolas,'Courier New',monospace\">++&gt; Evaluate scorp_side at epoch <span style=\"color: #008080; text-decoration-color: #008080; font-weight: bold\">19</span> <span style=\"color: #808000; text-decoration-color: #808000\">...</span>\n",
       "</pre>\n"
      ],
      "text/plain": [
       "++> Evaluate scorp_side at epoch \u001b[1;36m19\u001b[0m \u001b[33m...\u001b[0m\n"
      ]
     },
     "metadata": {},
     "output_type": "display_data"
    },
    {
     "name": "stderr",
     "output_type": "stream",
     "text": [
      "loss=0.0000 (0.0000): : 100% 8/8 [00:00<00:00, 17.51it/s]\n"
     ]
    },
    {
     "data": {
      "text/html": [
       "<pre style=\"white-space:pre;overflow-x:auto;line-height:normal;font-family:Menlo,'DejaVu Sans Mono',consolas,'Courier New',monospace\">++&gt; Evaluate epoch <span style=\"color: #008080; text-decoration-color: #008080; font-weight: bold\">19</span> Finished.\n",
       "</pre>\n"
      ],
      "text/plain": [
       "++> Evaluate epoch \u001b[1;36m19\u001b[0m Finished.\n"
      ]
     },
     "metadata": {},
     "output_type": "display_data"
    },
    {
     "data": {
      "text/html": [
       "<pre style=\"white-space:pre;overflow-x:auto;line-height:normal;font-family:Menlo,'DejaVu Sans Mono',consolas,'Courier New',monospace\">==&gt; <span style=\"font-weight: bold\">[</span><span style=\"color: #008080; text-decoration-color: #008080; font-weight: bold\">2023</span>-<span style=\"color: #008080; text-decoration-color: #008080; font-weight: bold\">08</span>-27_04-<span style=\"color: #008080; text-decoration-color: #008080; font-weight: bold\">46</span>-<span style=\"color: #008080; text-decoration-color: #008080; font-weight: bold\">50</span><span style=\"font-weight: bold\">]</span> Start Training scorp_side Epoch <span style=\"color: #008080; text-decoration-color: #008080; font-weight: bold\">20</span>/<span style=\"color: #008080; text-decoration-color: #008080; font-weight: bold\">50</span>, <span style=\"color: #808000; text-decoration-color: #808000\">lr</span>=<span style=\"color: #008080; text-decoration-color: #008080; font-weight: bold\">0.050000</span> <span style=\"color: #808000; text-decoration-color: #808000\">...</span>\n",
       "</pre>\n"
      ],
      "text/plain": [
       "==> \u001b[1m[\u001b[0m\u001b[1;36m2023\u001b[0m-\u001b[1;36m08\u001b[0m-27_04-\u001b[1;36m46\u001b[0m-\u001b[1;36m50\u001b[0m\u001b[1m]\u001b[0m Start Training scorp_side Epoch \u001b[1;36m20\u001b[0m/\u001b[1;36m50\u001b[0m, \u001b[33mlr\u001b[0m=\u001b[1;36m0\u001b[0m\u001b[1;36m.050000\u001b[0m \u001b[33m...\u001b[0m\n"
      ]
     },
     "metadata": {},
     "output_type": "display_data"
    },
    {
     "name": "stderr",
     "output_type": "stream",
     "text": [
      "loss=22.8043 (58.0158), lr=0.050000: : 100% 2400/2400 [01:01<00:00, 39.03it/s] \n"
     ]
    },
    {
     "data": {
      "text/html": [
       "<pre style=\"white-space:pre;overflow-x:auto;line-height:normal;font-family:Menlo,'DejaVu Sans Mono',consolas,'Courier New',monospace\">==&gt; <span style=\"font-weight: bold\">[</span><span style=\"color: #008080; text-decoration-color: #008080; font-weight: bold\">2023</span>-<span style=\"color: #008080; text-decoration-color: #008080; font-weight: bold\">08</span>-27_04-<span style=\"color: #008080; text-decoration-color: #008080; font-weight: bold\">47</span>-<span style=\"color: #008080; text-decoration-color: #008080; font-weight: bold\">51</span><span style=\"font-weight: bold\">]</span> Finished Epoch <span style=\"color: #008080; text-decoration-color: #008080; font-weight: bold\">20</span>/<span style=\"color: #008080; text-decoration-color: #008080; font-weight: bold\">50</span>. <span style=\"color: #808000; text-decoration-color: #808000\">CPU</span>=<span style=\"color: #008080; text-decoration-color: #008080; font-weight: bold\">11.</span>6GB, <span style=\"color: #808000; text-decoration-color: #808000\">GPU</span>=<span style=\"color: #008080; text-decoration-color: #008080; font-weight: bold\">79.</span>1GB.\n",
       "</pre>\n"
      ],
      "text/plain": [
       "==> \u001b[1m[\u001b[0m\u001b[1;36m2023\u001b[0m-\u001b[1;36m08\u001b[0m-27_04-\u001b[1;36m47\u001b[0m-\u001b[1;36m51\u001b[0m\u001b[1m]\u001b[0m Finished Epoch \u001b[1;36m20\u001b[0m/\u001b[1;36m50\u001b[0m. \u001b[33mCPU\u001b[0m=\u001b[1;36m11\u001b[0m\u001b[1;36m.\u001b[0m6GB, \u001b[33mGPU\u001b[0m=\u001b[1;36m79\u001b[0m\u001b[1;36m.\u001b[0m1GB.\n"
      ]
     },
     "metadata": {},
     "output_type": "display_data"
    },
    {
     "data": {
      "text/html": [
       "<pre style=\"white-space:pre;overflow-x:auto;line-height:normal;font-family:Menlo,'DejaVu Sans Mono',consolas,'Courier New',monospace\">++&gt; Evaluate scorp_side at epoch <span style=\"color: #008080; text-decoration-color: #008080; font-weight: bold\">20</span> <span style=\"color: #808000; text-decoration-color: #808000\">...</span>\n",
       "</pre>\n"
      ],
      "text/plain": [
       "++> Evaluate scorp_side at epoch \u001b[1;36m20\u001b[0m \u001b[33m...\u001b[0m\n"
      ]
     },
     "metadata": {},
     "output_type": "display_data"
    },
    {
     "name": "stderr",
     "output_type": "stream",
     "text": [
      "loss=0.0000 (0.0000): : 100% 8/8 [00:00<00:00, 17.41it/s]\n"
     ]
    },
    {
     "data": {
      "text/html": [
       "<pre style=\"white-space:pre;overflow-x:auto;line-height:normal;font-family:Menlo,'DejaVu Sans Mono',consolas,'Courier New',monospace\">++&gt; Evaluate epoch <span style=\"color: #008080; text-decoration-color: #008080; font-weight: bold\">20</span> Finished.\n",
       "</pre>\n"
      ],
      "text/plain": [
       "++> Evaluate epoch \u001b[1;36m20\u001b[0m Finished.\n"
      ]
     },
     "metadata": {},
     "output_type": "display_data"
    },
    {
     "data": {
      "text/html": [
       "<pre style=\"white-space:pre;overflow-x:auto;line-height:normal;font-family:Menlo,'DejaVu Sans Mono',consolas,'Courier New',monospace\">==&gt; Start Test, save results to scorp_side/results\n",
       "</pre>\n"
      ],
      "text/plain": [
       "==> Start Test, save results to scorp_side/results\n"
      ]
     },
     "metadata": {},
     "output_type": "display_data"
    },
    {
     "name": "stderr",
     "output_type": "stream",
     "text": [
      " 99% 99/100 [00:04<00:00, 23.53it/s]"
     ]
    },
    {
     "data": {
      "text/html": [
       "<pre style=\"white-space:pre;overflow-x:auto;line-height:normal;font-family:Menlo,'DejaVu Sans Mono',consolas,'Courier New',monospace\">==&gt; Finished Test.\n",
       "</pre>\n"
      ],
      "text/plain": [
       "==> Finished Test.\n"
      ]
     },
     "metadata": {},
     "output_type": "display_data"
    },
    {
     "name": "stderr",
     "output_type": "stream",
     "text": [
      "100% 100/100 [00:06<00:00, 16.09it/s]\n"
     ]
    },
    {
     "data": {
      "text/html": [
       "<pre style=\"white-space:pre;overflow-x:auto;line-height:normal;font-family:Menlo,'DejaVu Sans Mono',consolas,'Courier New',monospace\">==&gt; <span style=\"font-weight: bold\">[</span><span style=\"color: #008080; text-decoration-color: #008080; font-weight: bold\">2023</span>-<span style=\"color: #008080; text-decoration-color: #008080; font-weight: bold\">08</span>-27_04-<span style=\"color: #008080; text-decoration-color: #008080; font-weight: bold\">47</span>-<span style=\"color: #008080; text-decoration-color: #008080; font-weight: bold\">58</span><span style=\"font-weight: bold\">]</span> Start Training scorp_side Epoch <span style=\"color: #008080; text-decoration-color: #008080; font-weight: bold\">21</span>/<span style=\"color: #008080; text-decoration-color: #008080; font-weight: bold\">50</span>, <span style=\"color: #808000; text-decoration-color: #808000\">lr</span>=<span style=\"color: #008080; text-decoration-color: #008080; font-weight: bold\">0.050000</span> <span style=\"color: #808000; text-decoration-color: #808000\">...</span>\n",
       "</pre>\n"
      ],
      "text/plain": [
       "==> \u001b[1m[\u001b[0m\u001b[1;36m2023\u001b[0m-\u001b[1;36m08\u001b[0m-27_04-\u001b[1;36m47\u001b[0m-\u001b[1;36m58\u001b[0m\u001b[1m]\u001b[0m Start Training scorp_side Epoch \u001b[1;36m21\u001b[0m/\u001b[1;36m50\u001b[0m, \u001b[33mlr\u001b[0m=\u001b[1;36m0\u001b[0m\u001b[1;36m.050000\u001b[0m \u001b[33m...\u001b[0m\n"
      ]
     },
     "metadata": {},
     "output_type": "display_data"
    },
    {
     "name": "stderr",
     "output_type": "stream",
     "text": [
      "loss=31.1421 (55.3120), lr=0.050000: : 100% 2400/2400 [01:01<00:00, 39.02it/s] \n"
     ]
    },
    {
     "data": {
      "text/html": [
       "<pre style=\"white-space:pre;overflow-x:auto;line-height:normal;font-family:Menlo,'DejaVu Sans Mono',consolas,'Courier New',monospace\">==&gt; <span style=\"font-weight: bold\">[</span><span style=\"color: #008080; text-decoration-color: #008080; font-weight: bold\">2023</span>-<span style=\"color: #008080; text-decoration-color: #008080; font-weight: bold\">08</span>-27_04-<span style=\"color: #008080; text-decoration-color: #008080; font-weight: bold\">49</span>-<span style=\"color: #008080; text-decoration-color: #008080; font-weight: bold\">00</span><span style=\"font-weight: bold\">]</span> Finished Epoch <span style=\"color: #008080; text-decoration-color: #008080; font-weight: bold\">21</span>/<span style=\"color: #008080; text-decoration-color: #008080; font-weight: bold\">50</span>. <span style=\"color: #808000; text-decoration-color: #808000\">CPU</span>=<span style=\"color: #008080; text-decoration-color: #008080; font-weight: bold\">11.</span>6GB, <span style=\"color: #808000; text-decoration-color: #808000\">GPU</span>=<span style=\"color: #008080; text-decoration-color: #008080; font-weight: bold\">79.</span>1GB.\n",
       "</pre>\n"
      ],
      "text/plain": [
       "==> \u001b[1m[\u001b[0m\u001b[1;36m2023\u001b[0m-\u001b[1;36m08\u001b[0m-27_04-\u001b[1;36m49\u001b[0m-\u001b[1;36m00\u001b[0m\u001b[1m]\u001b[0m Finished Epoch \u001b[1;36m21\u001b[0m/\u001b[1;36m50\u001b[0m. \u001b[33mCPU\u001b[0m=\u001b[1;36m11\u001b[0m\u001b[1;36m.\u001b[0m6GB, \u001b[33mGPU\u001b[0m=\u001b[1;36m79\u001b[0m\u001b[1;36m.\u001b[0m1GB.\n"
      ]
     },
     "metadata": {},
     "output_type": "display_data"
    },
    {
     "data": {
      "text/html": [
       "<pre style=\"white-space:pre;overflow-x:auto;line-height:normal;font-family:Menlo,'DejaVu Sans Mono',consolas,'Courier New',monospace\">++&gt; Evaluate scorp_side at epoch <span style=\"color: #008080; text-decoration-color: #008080; font-weight: bold\">21</span> <span style=\"color: #808000; text-decoration-color: #808000\">...</span>\n",
       "</pre>\n"
      ],
      "text/plain": [
       "++> Evaluate scorp_side at epoch \u001b[1;36m21\u001b[0m \u001b[33m...\u001b[0m\n"
      ]
     },
     "metadata": {},
     "output_type": "display_data"
    },
    {
     "name": "stderr",
     "output_type": "stream",
     "text": [
      "loss=0.0000 (0.0000): : 100% 8/8 [00:00<00:00, 16.91it/s]\n"
     ]
    },
    {
     "data": {
      "text/html": [
       "<pre style=\"white-space:pre;overflow-x:auto;line-height:normal;font-family:Menlo,'DejaVu Sans Mono',consolas,'Courier New',monospace\">++&gt; Evaluate epoch <span style=\"color: #008080; text-decoration-color: #008080; font-weight: bold\">21</span> Finished.\n",
       "</pre>\n"
      ],
      "text/plain": [
       "++> Evaluate epoch \u001b[1;36m21\u001b[0m Finished.\n"
      ]
     },
     "metadata": {},
     "output_type": "display_data"
    },
    {
     "data": {
      "text/html": [
       "<pre style=\"white-space:pre;overflow-x:auto;line-height:normal;font-family:Menlo,'DejaVu Sans Mono',consolas,'Courier New',monospace\">==&gt; <span style=\"font-weight: bold\">[</span><span style=\"color: #008080; text-decoration-color: #008080; font-weight: bold\">2023</span>-<span style=\"color: #008080; text-decoration-color: #008080; font-weight: bold\">08</span>-27_04-<span style=\"color: #008080; text-decoration-color: #008080; font-weight: bold\">49</span>-<span style=\"color: #008080; text-decoration-color: #008080; font-weight: bold\">01</span><span style=\"font-weight: bold\">]</span> Start Training scorp_side Epoch <span style=\"color: #008080; text-decoration-color: #008080; font-weight: bold\">22</span>/<span style=\"color: #008080; text-decoration-color: #008080; font-weight: bold\">50</span>, <span style=\"color: #808000; text-decoration-color: #808000\">lr</span>=<span style=\"color: #008080; text-decoration-color: #008080; font-weight: bold\">0.050000</span> <span style=\"color: #808000; text-decoration-color: #808000\">...</span>\n",
       "</pre>\n"
      ],
      "text/plain": [
       "==> \u001b[1m[\u001b[0m\u001b[1;36m2023\u001b[0m-\u001b[1;36m08\u001b[0m-27_04-\u001b[1;36m49\u001b[0m-\u001b[1;36m01\u001b[0m\u001b[1m]\u001b[0m Start Training scorp_side Epoch \u001b[1;36m22\u001b[0m/\u001b[1;36m50\u001b[0m, \u001b[33mlr\u001b[0m=\u001b[1;36m0\u001b[0m\u001b[1;36m.050000\u001b[0m \u001b[33m...\u001b[0m\n"
      ]
     },
     "metadata": {},
     "output_type": "display_data"
    },
    {
     "name": "stderr",
     "output_type": "stream",
     "text": [
      "loss=39.0694 (57.4634), lr=0.050000: : 100% 2400/2400 [01:01<00:00, 39.17it/s] \n"
     ]
    },
    {
     "data": {
      "text/html": [
       "<pre style=\"white-space:pre;overflow-x:auto;line-height:normal;font-family:Menlo,'DejaVu Sans Mono',consolas,'Courier New',monospace\">==&gt; <span style=\"font-weight: bold\">[</span><span style=\"color: #008080; text-decoration-color: #008080; font-weight: bold\">2023</span>-<span style=\"color: #008080; text-decoration-color: #008080; font-weight: bold\">08</span>-27_04-<span style=\"color: #008080; text-decoration-color: #008080; font-weight: bold\">50</span>-<span style=\"color: #008080; text-decoration-color: #008080; font-weight: bold\">02</span><span style=\"font-weight: bold\">]</span> Finished Epoch <span style=\"color: #008080; text-decoration-color: #008080; font-weight: bold\">22</span>/<span style=\"color: #008080; text-decoration-color: #008080; font-weight: bold\">50</span>. <span style=\"color: #808000; text-decoration-color: #808000\">CPU</span>=<span style=\"color: #008080; text-decoration-color: #008080; font-weight: bold\">11.</span>6GB, <span style=\"color: #808000; text-decoration-color: #808000\">GPU</span>=<span style=\"color: #008080; text-decoration-color: #008080; font-weight: bold\">79.</span>1GB.\n",
       "</pre>\n"
      ],
      "text/plain": [
       "==> \u001b[1m[\u001b[0m\u001b[1;36m2023\u001b[0m-\u001b[1;36m08\u001b[0m-27_04-\u001b[1;36m50\u001b[0m-\u001b[1;36m02\u001b[0m\u001b[1m]\u001b[0m Finished Epoch \u001b[1;36m22\u001b[0m/\u001b[1;36m50\u001b[0m. \u001b[33mCPU\u001b[0m=\u001b[1;36m11\u001b[0m\u001b[1;36m.\u001b[0m6GB, \u001b[33mGPU\u001b[0m=\u001b[1;36m79\u001b[0m\u001b[1;36m.\u001b[0m1GB.\n"
      ]
     },
     "metadata": {},
     "output_type": "display_data"
    },
    {
     "data": {
      "text/html": [
       "<pre style=\"white-space:pre;overflow-x:auto;line-height:normal;font-family:Menlo,'DejaVu Sans Mono',consolas,'Courier New',monospace\">++&gt; Evaluate scorp_side at epoch <span style=\"color: #008080; text-decoration-color: #008080; font-weight: bold\">22</span> <span style=\"color: #808000; text-decoration-color: #808000\">...</span>\n",
       "</pre>\n"
      ],
      "text/plain": [
       "++> Evaluate scorp_side at epoch \u001b[1;36m22\u001b[0m \u001b[33m...\u001b[0m\n"
      ]
     },
     "metadata": {},
     "output_type": "display_data"
    },
    {
     "name": "stderr",
     "output_type": "stream",
     "text": [
      "loss=0.0000 (0.0000): : 100% 8/8 [00:00<00:00, 17.55it/s]\n"
     ]
    },
    {
     "data": {
      "text/html": [
       "<pre style=\"white-space:pre;overflow-x:auto;line-height:normal;font-family:Menlo,'DejaVu Sans Mono',consolas,'Courier New',monospace\">++&gt; Evaluate epoch <span style=\"color: #008080; text-decoration-color: #008080; font-weight: bold\">22</span> Finished.\n",
       "</pre>\n"
      ],
      "text/plain": [
       "++> Evaluate epoch \u001b[1;36m22\u001b[0m Finished.\n"
      ]
     },
     "metadata": {},
     "output_type": "display_data"
    },
    {
     "data": {
      "text/html": [
       "<pre style=\"white-space:pre;overflow-x:auto;line-height:normal;font-family:Menlo,'DejaVu Sans Mono',consolas,'Courier New',monospace\">==&gt; <span style=\"font-weight: bold\">[</span><span style=\"color: #008080; text-decoration-color: #008080; font-weight: bold\">2023</span>-<span style=\"color: #008080; text-decoration-color: #008080; font-weight: bold\">08</span>-27_04-<span style=\"color: #008080; text-decoration-color: #008080; font-weight: bold\">50</span>-<span style=\"color: #008080; text-decoration-color: #008080; font-weight: bold\">03</span><span style=\"font-weight: bold\">]</span> Start Training scorp_side Epoch <span style=\"color: #008080; text-decoration-color: #008080; font-weight: bold\">23</span>/<span style=\"color: #008080; text-decoration-color: #008080; font-weight: bold\">50</span>, <span style=\"color: #808000; text-decoration-color: #808000\">lr</span>=<span style=\"color: #008080; text-decoration-color: #008080; font-weight: bold\">0.050000</span> <span style=\"color: #808000; text-decoration-color: #808000\">...</span>\n",
       "</pre>\n"
      ],
      "text/plain": [
       "==> \u001b[1m[\u001b[0m\u001b[1;36m2023\u001b[0m-\u001b[1;36m08\u001b[0m-27_04-\u001b[1;36m50\u001b[0m-\u001b[1;36m03\u001b[0m\u001b[1m]\u001b[0m Start Training scorp_side Epoch \u001b[1;36m23\u001b[0m/\u001b[1;36m50\u001b[0m, \u001b[33mlr\u001b[0m=\u001b[1;36m0\u001b[0m\u001b[1;36m.050000\u001b[0m \u001b[33m...\u001b[0m\n"
      ]
     },
     "metadata": {},
     "output_type": "display_data"
    },
    {
     "name": "stderr",
     "output_type": "stream",
     "text": [
      "loss=27.6654 (60.3553), lr=0.050000: : 100% 2400/2400 [01:00<00:00, 39.35it/s] \n"
     ]
    },
    {
     "data": {
      "text/html": [
       "<pre style=\"white-space:pre;overflow-x:auto;line-height:normal;font-family:Menlo,'DejaVu Sans Mono',consolas,'Courier New',monospace\">==&gt; <span style=\"font-weight: bold\">[</span><span style=\"color: #008080; text-decoration-color: #008080; font-weight: bold\">2023</span>-<span style=\"color: #008080; text-decoration-color: #008080; font-weight: bold\">08</span>-27_04-<span style=\"color: #008080; text-decoration-color: #008080; font-weight: bold\">51</span>-<span style=\"color: #008080; text-decoration-color: #008080; font-weight: bold\">04</span><span style=\"font-weight: bold\">]</span> Finished Epoch <span style=\"color: #008080; text-decoration-color: #008080; font-weight: bold\">23</span>/<span style=\"color: #008080; text-decoration-color: #008080; font-weight: bold\">50</span>. <span style=\"color: #808000; text-decoration-color: #808000\">CPU</span>=<span style=\"color: #008080; text-decoration-color: #008080; font-weight: bold\">11.</span>6GB, <span style=\"color: #808000; text-decoration-color: #808000\">GPU</span>=<span style=\"color: #008080; text-decoration-color: #008080; font-weight: bold\">79.</span>1GB.\n",
       "</pre>\n"
      ],
      "text/plain": [
       "==> \u001b[1m[\u001b[0m\u001b[1;36m2023\u001b[0m-\u001b[1;36m08\u001b[0m-27_04-\u001b[1;36m51\u001b[0m-\u001b[1;36m04\u001b[0m\u001b[1m]\u001b[0m Finished Epoch \u001b[1;36m23\u001b[0m/\u001b[1;36m50\u001b[0m. \u001b[33mCPU\u001b[0m=\u001b[1;36m11\u001b[0m\u001b[1;36m.\u001b[0m6GB, \u001b[33mGPU\u001b[0m=\u001b[1;36m79\u001b[0m\u001b[1;36m.\u001b[0m1GB.\n"
      ]
     },
     "metadata": {},
     "output_type": "display_data"
    },
    {
     "data": {
      "text/html": [
       "<pre style=\"white-space:pre;overflow-x:auto;line-height:normal;font-family:Menlo,'DejaVu Sans Mono',consolas,'Courier New',monospace\">++&gt; Evaluate scorp_side at epoch <span style=\"color: #008080; text-decoration-color: #008080; font-weight: bold\">23</span> <span style=\"color: #808000; text-decoration-color: #808000\">...</span>\n",
       "</pre>\n"
      ],
      "text/plain": [
       "++> Evaluate scorp_side at epoch \u001b[1;36m23\u001b[0m \u001b[33m...\u001b[0m\n"
      ]
     },
     "metadata": {},
     "output_type": "display_data"
    },
    {
     "name": "stderr",
     "output_type": "stream",
     "text": [
      "loss=0.0000 (0.0000): : 100% 8/8 [00:00<00:00, 17.38it/s]\n"
     ]
    },
    {
     "data": {
      "text/html": [
       "<pre style=\"white-space:pre;overflow-x:auto;line-height:normal;font-family:Menlo,'DejaVu Sans Mono',consolas,'Courier New',monospace\">++&gt; Evaluate epoch <span style=\"color: #008080; text-decoration-color: #008080; font-weight: bold\">23</span> Finished.\n",
       "</pre>\n"
      ],
      "text/plain": [
       "++> Evaluate epoch \u001b[1;36m23\u001b[0m Finished.\n"
      ]
     },
     "metadata": {},
     "output_type": "display_data"
    },
    {
     "data": {
      "text/html": [
       "<pre style=\"white-space:pre;overflow-x:auto;line-height:normal;font-family:Menlo,'DejaVu Sans Mono',consolas,'Courier New',monospace\">==&gt; <span style=\"font-weight: bold\">[</span><span style=\"color: #008080; text-decoration-color: #008080; font-weight: bold\">2023</span>-<span style=\"color: #008080; text-decoration-color: #008080; font-weight: bold\">08</span>-27_04-<span style=\"color: #008080; text-decoration-color: #008080; font-weight: bold\">51</span>-<span style=\"color: #008080; text-decoration-color: #008080; font-weight: bold\">05</span><span style=\"font-weight: bold\">]</span> Start Training scorp_side Epoch <span style=\"color: #008080; text-decoration-color: #008080; font-weight: bold\">24</span>/<span style=\"color: #008080; text-decoration-color: #008080; font-weight: bold\">50</span>, <span style=\"color: #808000; text-decoration-color: #808000\">lr</span>=<span style=\"color: #008080; text-decoration-color: #008080; font-weight: bold\">0.050000</span> <span style=\"color: #808000; text-decoration-color: #808000\">...</span>\n",
       "</pre>\n"
      ],
      "text/plain": [
       "==> \u001b[1m[\u001b[0m\u001b[1;36m2023\u001b[0m-\u001b[1;36m08\u001b[0m-27_04-\u001b[1;36m51\u001b[0m-\u001b[1;36m05\u001b[0m\u001b[1m]\u001b[0m Start Training scorp_side Epoch \u001b[1;36m24\u001b[0m/\u001b[1;36m50\u001b[0m, \u001b[33mlr\u001b[0m=\u001b[1;36m0\u001b[0m\u001b[1;36m.050000\u001b[0m \u001b[33m...\u001b[0m\n"
      ]
     },
     "metadata": {},
     "output_type": "display_data"
    },
    {
     "name": "stderr",
     "output_type": "stream",
     "text": [
      "loss=39.2689 (61.4115), lr=0.050000: : 100% 2400/2400 [01:00<00:00, 39.52it/s] \n"
     ]
    },
    {
     "data": {
      "text/html": [
       "<pre style=\"white-space:pre;overflow-x:auto;line-height:normal;font-family:Menlo,'DejaVu Sans Mono',consolas,'Courier New',monospace\">==&gt; <span style=\"font-weight: bold\">[</span><span style=\"color: #008080; text-decoration-color: #008080; font-weight: bold\">2023</span>-<span style=\"color: #008080; text-decoration-color: #008080; font-weight: bold\">08</span>-27_04-<span style=\"color: #008080; text-decoration-color: #008080; font-weight: bold\">52</span>-<span style=\"color: #008080; text-decoration-color: #008080; font-weight: bold\">05</span><span style=\"font-weight: bold\">]</span> Finished Epoch <span style=\"color: #008080; text-decoration-color: #008080; font-weight: bold\">24</span>/<span style=\"color: #008080; text-decoration-color: #008080; font-weight: bold\">50</span>. <span style=\"color: #808000; text-decoration-color: #808000\">CPU</span>=<span style=\"color: #008080; text-decoration-color: #008080; font-weight: bold\">11.</span>6GB, <span style=\"color: #808000; text-decoration-color: #808000\">GPU</span>=<span style=\"color: #008080; text-decoration-color: #008080; font-weight: bold\">79.</span>1GB.\n",
       "</pre>\n"
      ],
      "text/plain": [
       "==> \u001b[1m[\u001b[0m\u001b[1;36m2023\u001b[0m-\u001b[1;36m08\u001b[0m-27_04-\u001b[1;36m52\u001b[0m-\u001b[1;36m05\u001b[0m\u001b[1m]\u001b[0m Finished Epoch \u001b[1;36m24\u001b[0m/\u001b[1;36m50\u001b[0m. \u001b[33mCPU\u001b[0m=\u001b[1;36m11\u001b[0m\u001b[1;36m.\u001b[0m6GB, \u001b[33mGPU\u001b[0m=\u001b[1;36m79\u001b[0m\u001b[1;36m.\u001b[0m1GB.\n"
      ]
     },
     "metadata": {},
     "output_type": "display_data"
    },
    {
     "data": {
      "text/html": [
       "<pre style=\"white-space:pre;overflow-x:auto;line-height:normal;font-family:Menlo,'DejaVu Sans Mono',consolas,'Courier New',monospace\">++&gt; Evaluate scorp_side at epoch <span style=\"color: #008080; text-decoration-color: #008080; font-weight: bold\">24</span> <span style=\"color: #808000; text-decoration-color: #808000\">...</span>\n",
       "</pre>\n"
      ],
      "text/plain": [
       "++> Evaluate scorp_side at epoch \u001b[1;36m24\u001b[0m \u001b[33m...\u001b[0m\n"
      ]
     },
     "metadata": {},
     "output_type": "display_data"
    },
    {
     "name": "stderr",
     "output_type": "stream",
     "text": [
      "loss=0.0000 (0.0000): : 100% 8/8 [00:00<00:00, 16.91it/s]\n"
     ]
    },
    {
     "data": {
      "text/html": [
       "<pre style=\"white-space:pre;overflow-x:auto;line-height:normal;font-family:Menlo,'DejaVu Sans Mono',consolas,'Courier New',monospace\">++&gt; Evaluate epoch <span style=\"color: #008080; text-decoration-color: #008080; font-weight: bold\">24</span> Finished.\n",
       "</pre>\n"
      ],
      "text/plain": [
       "++> Evaluate epoch \u001b[1;36m24\u001b[0m Finished.\n"
      ]
     },
     "metadata": {},
     "output_type": "display_data"
    },
    {
     "data": {
      "text/html": [
       "<pre style=\"white-space:pre;overflow-x:auto;line-height:normal;font-family:Menlo,'DejaVu Sans Mono',consolas,'Courier New',monospace\">==&gt; <span style=\"font-weight: bold\">[</span><span style=\"color: #008080; text-decoration-color: #008080; font-weight: bold\">2023</span>-<span style=\"color: #008080; text-decoration-color: #008080; font-weight: bold\">08</span>-27_04-<span style=\"color: #008080; text-decoration-color: #008080; font-weight: bold\">52</span>-<span style=\"color: #008080; text-decoration-color: #008080; font-weight: bold\">06</span><span style=\"font-weight: bold\">]</span> Start Training scorp_side Epoch <span style=\"color: #008080; text-decoration-color: #008080; font-weight: bold\">25</span>/<span style=\"color: #008080; text-decoration-color: #008080; font-weight: bold\">50</span>, <span style=\"color: #808000; text-decoration-color: #808000\">lr</span>=<span style=\"color: #008080; text-decoration-color: #008080; font-weight: bold\">0.050000</span> <span style=\"color: #808000; text-decoration-color: #808000\">...</span>\n",
       "</pre>\n"
      ],
      "text/plain": [
       "==> \u001b[1m[\u001b[0m\u001b[1;36m2023\u001b[0m-\u001b[1;36m08\u001b[0m-27_04-\u001b[1;36m52\u001b[0m-\u001b[1;36m06\u001b[0m\u001b[1m]\u001b[0m Start Training scorp_side Epoch \u001b[1;36m25\u001b[0m/\u001b[1;36m50\u001b[0m, \u001b[33mlr\u001b[0m=\u001b[1;36m0\u001b[0m\u001b[1;36m.050000\u001b[0m \u001b[33m...\u001b[0m\n"
      ]
     },
     "metadata": {},
     "output_type": "display_data"
    },
    {
     "name": "stderr",
     "output_type": "stream",
     "text": [
      "loss=42.7769 (59.0405), lr=0.050000: : 100% 2400/2400 [01:00<00:00, 39.64it/s] \n"
     ]
    },
    {
     "data": {
      "text/html": [
       "<pre style=\"white-space:pre;overflow-x:auto;line-height:normal;font-family:Menlo,'DejaVu Sans Mono',consolas,'Courier New',monospace\">==&gt; <span style=\"font-weight: bold\">[</span><span style=\"color: #008080; text-decoration-color: #008080; font-weight: bold\">2023</span>-<span style=\"color: #008080; text-decoration-color: #008080; font-weight: bold\">08</span>-27_04-<span style=\"color: #008080; text-decoration-color: #008080; font-weight: bold\">53</span>-<span style=\"color: #008080; text-decoration-color: #008080; font-weight: bold\">07</span><span style=\"font-weight: bold\">]</span> Finished Epoch <span style=\"color: #008080; text-decoration-color: #008080; font-weight: bold\">25</span>/<span style=\"color: #008080; text-decoration-color: #008080; font-weight: bold\">50</span>. <span style=\"color: #808000; text-decoration-color: #808000\">CPU</span>=<span style=\"color: #008080; text-decoration-color: #008080; font-weight: bold\">11.</span>6GB, <span style=\"color: #808000; text-decoration-color: #808000\">GPU</span>=<span style=\"color: #008080; text-decoration-color: #008080; font-weight: bold\">79.</span>1GB.\n",
       "</pre>\n"
      ],
      "text/plain": [
       "==> \u001b[1m[\u001b[0m\u001b[1;36m2023\u001b[0m-\u001b[1;36m08\u001b[0m-27_04-\u001b[1;36m53\u001b[0m-\u001b[1;36m07\u001b[0m\u001b[1m]\u001b[0m Finished Epoch \u001b[1;36m25\u001b[0m/\u001b[1;36m50\u001b[0m. \u001b[33mCPU\u001b[0m=\u001b[1;36m11\u001b[0m\u001b[1;36m.\u001b[0m6GB, \u001b[33mGPU\u001b[0m=\u001b[1;36m79\u001b[0m\u001b[1;36m.\u001b[0m1GB.\n"
      ]
     },
     "metadata": {},
     "output_type": "display_data"
    },
    {
     "data": {
      "text/html": [
       "<pre style=\"white-space:pre;overflow-x:auto;line-height:normal;font-family:Menlo,'DejaVu Sans Mono',consolas,'Courier New',monospace\">++&gt; Evaluate scorp_side at epoch <span style=\"color: #008080; text-decoration-color: #008080; font-weight: bold\">25</span> <span style=\"color: #808000; text-decoration-color: #808000\">...</span>\n",
       "</pre>\n"
      ],
      "text/plain": [
       "++> Evaluate scorp_side at epoch \u001b[1;36m25\u001b[0m \u001b[33m...\u001b[0m\n"
      ]
     },
     "metadata": {},
     "output_type": "display_data"
    },
    {
     "name": "stderr",
     "output_type": "stream",
     "text": [
      "loss=0.0000 (0.0000): : 100% 8/8 [00:00<00:00, 17.60it/s]\n"
     ]
    },
    {
     "data": {
      "text/html": [
       "<pre style=\"white-space:pre;overflow-x:auto;line-height:normal;font-family:Menlo,'DejaVu Sans Mono',consolas,'Courier New',monospace\">++&gt; Evaluate epoch <span style=\"color: #008080; text-decoration-color: #008080; font-weight: bold\">25</span> Finished.\n",
       "</pre>\n"
      ],
      "text/plain": [
       "++> Evaluate epoch \u001b[1;36m25\u001b[0m Finished.\n"
      ]
     },
     "metadata": {},
     "output_type": "display_data"
    },
    {
     "data": {
      "text/html": [
       "<pre style=\"white-space:pre;overflow-x:auto;line-height:normal;font-family:Menlo,'DejaVu Sans Mono',consolas,'Courier New',monospace\">==&gt; <span style=\"font-weight: bold\">[</span><span style=\"color: #008080; text-decoration-color: #008080; font-weight: bold\">2023</span>-<span style=\"color: #008080; text-decoration-color: #008080; font-weight: bold\">08</span>-27_04-<span style=\"color: #008080; text-decoration-color: #008080; font-weight: bold\">53</span>-<span style=\"color: #008080; text-decoration-color: #008080; font-weight: bold\">08</span><span style=\"font-weight: bold\">]</span> Start Training scorp_side Epoch <span style=\"color: #008080; text-decoration-color: #008080; font-weight: bold\">26</span>/<span style=\"color: #008080; text-decoration-color: #008080; font-weight: bold\">50</span>, <span style=\"color: #808000; text-decoration-color: #808000\">lr</span>=<span style=\"color: #008080; text-decoration-color: #008080; font-weight: bold\">0.050000</span> <span style=\"color: #808000; text-decoration-color: #808000\">...</span>\n",
       "</pre>\n"
      ],
      "text/plain": [
       "==> \u001b[1m[\u001b[0m\u001b[1;36m2023\u001b[0m-\u001b[1;36m08\u001b[0m-27_04-\u001b[1;36m53\u001b[0m-\u001b[1;36m08\u001b[0m\u001b[1m]\u001b[0m Start Training scorp_side Epoch \u001b[1;36m26\u001b[0m/\u001b[1;36m50\u001b[0m, \u001b[33mlr\u001b[0m=\u001b[1;36m0\u001b[0m\u001b[1;36m.050000\u001b[0m \u001b[33m...\u001b[0m\n"
      ]
     },
     "metadata": {},
     "output_type": "display_data"
    },
    {
     "name": "stderr",
     "output_type": "stream",
     "text": [
      "loss=11.2983 (56.5223), lr=0.050000: : 100% 2400/2400 [01:00<00:00, 39.81it/s] \n"
     ]
    },
    {
     "data": {
      "text/html": [
       "<pre style=\"white-space:pre;overflow-x:auto;line-height:normal;font-family:Menlo,'DejaVu Sans Mono',consolas,'Courier New',monospace\">==&gt; <span style=\"font-weight: bold\">[</span><span style=\"color: #008080; text-decoration-color: #008080; font-weight: bold\">2023</span>-<span style=\"color: #008080; text-decoration-color: #008080; font-weight: bold\">08</span>-27_04-<span style=\"color: #008080; text-decoration-color: #008080; font-weight: bold\">54</span>-<span style=\"color: #008080; text-decoration-color: #008080; font-weight: bold\">08</span><span style=\"font-weight: bold\">]</span> Finished Epoch <span style=\"color: #008080; text-decoration-color: #008080; font-weight: bold\">26</span>/<span style=\"color: #008080; text-decoration-color: #008080; font-weight: bold\">50</span>. <span style=\"color: #808000; text-decoration-color: #808000\">CPU</span>=<span style=\"color: #008080; text-decoration-color: #008080; font-weight: bold\">11.</span>6GB, <span style=\"color: #808000; text-decoration-color: #808000\">GPU</span>=<span style=\"color: #008080; text-decoration-color: #008080; font-weight: bold\">79.</span>1GB.\n",
       "</pre>\n"
      ],
      "text/plain": [
       "==> \u001b[1m[\u001b[0m\u001b[1;36m2023\u001b[0m-\u001b[1;36m08\u001b[0m-27_04-\u001b[1;36m54\u001b[0m-\u001b[1;36m08\u001b[0m\u001b[1m]\u001b[0m Finished Epoch \u001b[1;36m26\u001b[0m/\u001b[1;36m50\u001b[0m. \u001b[33mCPU\u001b[0m=\u001b[1;36m11\u001b[0m\u001b[1;36m.\u001b[0m6GB, \u001b[33mGPU\u001b[0m=\u001b[1;36m79\u001b[0m\u001b[1;36m.\u001b[0m1GB.\n"
      ]
     },
     "metadata": {},
     "output_type": "display_data"
    },
    {
     "data": {
      "text/html": [
       "<pre style=\"white-space:pre;overflow-x:auto;line-height:normal;font-family:Menlo,'DejaVu Sans Mono',consolas,'Courier New',monospace\">++&gt; Evaluate scorp_side at epoch <span style=\"color: #008080; text-decoration-color: #008080; font-weight: bold\">26</span> <span style=\"color: #808000; text-decoration-color: #808000\">...</span>\n",
       "</pre>\n"
      ],
      "text/plain": [
       "++> Evaluate scorp_side at epoch \u001b[1;36m26\u001b[0m \u001b[33m...\u001b[0m\n"
      ]
     },
     "metadata": {},
     "output_type": "display_data"
    },
    {
     "name": "stderr",
     "output_type": "stream",
     "text": [
      "loss=0.0000 (0.0000): : 100% 8/8 [00:00<00:00, 17.79it/s]\n"
     ]
    },
    {
     "data": {
      "text/html": [
       "<pre style=\"white-space:pre;overflow-x:auto;line-height:normal;font-family:Menlo,'DejaVu Sans Mono',consolas,'Courier New',monospace\">++&gt; Evaluate epoch <span style=\"color: #008080; text-decoration-color: #008080; font-weight: bold\">26</span> Finished.\n",
       "</pre>\n"
      ],
      "text/plain": [
       "++> Evaluate epoch \u001b[1;36m26\u001b[0m Finished.\n"
      ]
     },
     "metadata": {},
     "output_type": "display_data"
    },
    {
     "data": {
      "text/html": [
       "<pre style=\"white-space:pre;overflow-x:auto;line-height:normal;font-family:Menlo,'DejaVu Sans Mono',consolas,'Courier New',monospace\">==&gt; <span style=\"font-weight: bold\">[</span><span style=\"color: #008080; text-decoration-color: #008080; font-weight: bold\">2023</span>-<span style=\"color: #008080; text-decoration-color: #008080; font-weight: bold\">08</span>-27_04-<span style=\"color: #008080; text-decoration-color: #008080; font-weight: bold\">54</span>-<span style=\"color: #008080; text-decoration-color: #008080; font-weight: bold\">09</span><span style=\"font-weight: bold\">]</span> Start Training scorp_side Epoch <span style=\"color: #008080; text-decoration-color: #008080; font-weight: bold\">27</span>/<span style=\"color: #008080; text-decoration-color: #008080; font-weight: bold\">50</span>, <span style=\"color: #808000; text-decoration-color: #808000\">lr</span>=<span style=\"color: #008080; text-decoration-color: #008080; font-weight: bold\">0.050000</span> <span style=\"color: #808000; text-decoration-color: #808000\">...</span>\n",
       "</pre>\n"
      ],
      "text/plain": [
       "==> \u001b[1m[\u001b[0m\u001b[1;36m2023\u001b[0m-\u001b[1;36m08\u001b[0m-27_04-\u001b[1;36m54\u001b[0m-\u001b[1;36m09\u001b[0m\u001b[1m]\u001b[0m Start Training scorp_side Epoch \u001b[1;36m27\u001b[0m/\u001b[1;36m50\u001b[0m, \u001b[33mlr\u001b[0m=\u001b[1;36m0\u001b[0m\u001b[1;36m.050000\u001b[0m \u001b[33m...\u001b[0m\n"
      ]
     },
     "metadata": {},
     "output_type": "display_data"
    },
    {
     "name": "stderr",
     "output_type": "stream",
     "text": [
      "loss=34.7047 (58.1728), lr=0.050000: : 100% 2400/2400 [00:59<00:00, 40.19it/s] \n"
     ]
    },
    {
     "data": {
      "text/html": [
       "<pre style=\"white-space:pre;overflow-x:auto;line-height:normal;font-family:Menlo,'DejaVu Sans Mono',consolas,'Courier New',monospace\">==&gt; <span style=\"font-weight: bold\">[</span><span style=\"color: #008080; text-decoration-color: #008080; font-weight: bold\">2023</span>-<span style=\"color: #008080; text-decoration-color: #008080; font-weight: bold\">08</span>-27_04-<span style=\"color: #008080; text-decoration-color: #008080; font-weight: bold\">55</span>-<span style=\"color: #008080; text-decoration-color: #008080; font-weight: bold\">08</span><span style=\"font-weight: bold\">]</span> Finished Epoch <span style=\"color: #008080; text-decoration-color: #008080; font-weight: bold\">27</span>/<span style=\"color: #008080; text-decoration-color: #008080; font-weight: bold\">50</span>. <span style=\"color: #808000; text-decoration-color: #808000\">CPU</span>=<span style=\"color: #008080; text-decoration-color: #008080; font-weight: bold\">11.</span>6GB, <span style=\"color: #808000; text-decoration-color: #808000\">GPU</span>=<span style=\"color: #008080; text-decoration-color: #008080; font-weight: bold\">79.</span>1GB.\n",
       "</pre>\n"
      ],
      "text/plain": [
       "==> \u001b[1m[\u001b[0m\u001b[1;36m2023\u001b[0m-\u001b[1;36m08\u001b[0m-27_04-\u001b[1;36m55\u001b[0m-\u001b[1;36m08\u001b[0m\u001b[1m]\u001b[0m Finished Epoch \u001b[1;36m27\u001b[0m/\u001b[1;36m50\u001b[0m. \u001b[33mCPU\u001b[0m=\u001b[1;36m11\u001b[0m\u001b[1;36m.\u001b[0m6GB, \u001b[33mGPU\u001b[0m=\u001b[1;36m79\u001b[0m\u001b[1;36m.\u001b[0m1GB.\n"
      ]
     },
     "metadata": {},
     "output_type": "display_data"
    },
    {
     "data": {
      "text/html": [
       "<pre style=\"white-space:pre;overflow-x:auto;line-height:normal;font-family:Menlo,'DejaVu Sans Mono',consolas,'Courier New',monospace\">++&gt; Evaluate scorp_side at epoch <span style=\"color: #008080; text-decoration-color: #008080; font-weight: bold\">27</span> <span style=\"color: #808000; text-decoration-color: #808000\">...</span>\n",
       "</pre>\n"
      ],
      "text/plain": [
       "++> Evaluate scorp_side at epoch \u001b[1;36m27\u001b[0m \u001b[33m...\u001b[0m\n"
      ]
     },
     "metadata": {},
     "output_type": "display_data"
    },
    {
     "name": "stderr",
     "output_type": "stream",
     "text": [
      "loss=0.0000 (0.0000): : 100% 8/8 [00:00<00:00, 18.41it/s]\n"
     ]
    },
    {
     "data": {
      "text/html": [
       "<pre style=\"white-space:pre;overflow-x:auto;line-height:normal;font-family:Menlo,'DejaVu Sans Mono',consolas,'Courier New',monospace\">++&gt; Evaluate epoch <span style=\"color: #008080; text-decoration-color: #008080; font-weight: bold\">27</span> Finished.\n",
       "</pre>\n"
      ],
      "text/plain": [
       "++> Evaluate epoch \u001b[1;36m27\u001b[0m Finished.\n"
      ]
     },
     "metadata": {},
     "output_type": "display_data"
    },
    {
     "data": {
      "text/html": [
       "<pre style=\"white-space:pre;overflow-x:auto;line-height:normal;font-family:Menlo,'DejaVu Sans Mono',consolas,'Courier New',monospace\">==&gt; <span style=\"font-weight: bold\">[</span><span style=\"color: #008080; text-decoration-color: #008080; font-weight: bold\">2023</span>-<span style=\"color: #008080; text-decoration-color: #008080; font-weight: bold\">08</span>-27_04-<span style=\"color: #008080; text-decoration-color: #008080; font-weight: bold\">55</span>-<span style=\"color: #008080; text-decoration-color: #008080; font-weight: bold\">09</span><span style=\"font-weight: bold\">]</span> Start Training scorp_side Epoch <span style=\"color: #008080; text-decoration-color: #008080; font-weight: bold\">28</span>/<span style=\"color: #008080; text-decoration-color: #008080; font-weight: bold\">50</span>, <span style=\"color: #808000; text-decoration-color: #808000\">lr</span>=<span style=\"color: #008080; text-decoration-color: #008080; font-weight: bold\">0.050000</span> <span style=\"color: #808000; text-decoration-color: #808000\">...</span>\n",
       "</pre>\n"
      ],
      "text/plain": [
       "==> \u001b[1m[\u001b[0m\u001b[1;36m2023\u001b[0m-\u001b[1;36m08\u001b[0m-27_04-\u001b[1;36m55\u001b[0m-\u001b[1;36m09\u001b[0m\u001b[1m]\u001b[0m Start Training scorp_side Epoch \u001b[1;36m28\u001b[0m/\u001b[1;36m50\u001b[0m, \u001b[33mlr\u001b[0m=\u001b[1;36m0\u001b[0m\u001b[1;36m.050000\u001b[0m \u001b[33m...\u001b[0m\n"
      ]
     },
     "metadata": {},
     "output_type": "display_data"
    },
    {
     "name": "stderr",
     "output_type": "stream",
     "text": [
      "loss=35.7181 (56.4269), lr=0.050000: : 100% 2400/2400 [00:59<00:00, 40.27it/s] \n"
     ]
    },
    {
     "data": {
      "text/html": [
       "<pre style=\"white-space:pre;overflow-x:auto;line-height:normal;font-family:Menlo,'DejaVu Sans Mono',consolas,'Courier New',monospace\">==&gt; <span style=\"font-weight: bold\">[</span><span style=\"color: #008080; text-decoration-color: #008080; font-weight: bold\">2023</span>-<span style=\"color: #008080; text-decoration-color: #008080; font-weight: bold\">08</span>-27_04-<span style=\"color: #008080; text-decoration-color: #008080; font-weight: bold\">56</span>-<span style=\"color: #008080; text-decoration-color: #008080; font-weight: bold\">09</span><span style=\"font-weight: bold\">]</span> Finished Epoch <span style=\"color: #008080; text-decoration-color: #008080; font-weight: bold\">28</span>/<span style=\"color: #008080; text-decoration-color: #008080; font-weight: bold\">50</span>. <span style=\"color: #808000; text-decoration-color: #808000\">CPU</span>=<span style=\"color: #008080; text-decoration-color: #008080; font-weight: bold\">11.</span>6GB, <span style=\"color: #808000; text-decoration-color: #808000\">GPU</span>=<span style=\"color: #008080; text-decoration-color: #008080; font-weight: bold\">79.</span>1GB.\n",
       "</pre>\n"
      ],
      "text/plain": [
       "==> \u001b[1m[\u001b[0m\u001b[1;36m2023\u001b[0m-\u001b[1;36m08\u001b[0m-27_04-\u001b[1;36m56\u001b[0m-\u001b[1;36m09\u001b[0m\u001b[1m]\u001b[0m Finished Epoch \u001b[1;36m28\u001b[0m/\u001b[1;36m50\u001b[0m. \u001b[33mCPU\u001b[0m=\u001b[1;36m11\u001b[0m\u001b[1;36m.\u001b[0m6GB, \u001b[33mGPU\u001b[0m=\u001b[1;36m79\u001b[0m\u001b[1;36m.\u001b[0m1GB.\n"
      ]
     },
     "metadata": {},
     "output_type": "display_data"
    },
    {
     "data": {
      "text/html": [
       "<pre style=\"white-space:pre;overflow-x:auto;line-height:normal;font-family:Menlo,'DejaVu Sans Mono',consolas,'Courier New',monospace\">++&gt; Evaluate scorp_side at epoch <span style=\"color: #008080; text-decoration-color: #008080; font-weight: bold\">28</span> <span style=\"color: #808000; text-decoration-color: #808000\">...</span>\n",
       "</pre>\n"
      ],
      "text/plain": [
       "++> Evaluate scorp_side at epoch \u001b[1;36m28\u001b[0m \u001b[33m...\u001b[0m\n"
      ]
     },
     "metadata": {},
     "output_type": "display_data"
    },
    {
     "name": "stderr",
     "output_type": "stream",
     "text": [
      "loss=0.0000 (0.0000): : 100% 8/8 [00:00<00:00, 17.97it/s]\n"
     ]
    },
    {
     "data": {
      "text/html": [
       "<pre style=\"white-space:pre;overflow-x:auto;line-height:normal;font-family:Menlo,'DejaVu Sans Mono',consolas,'Courier New',monospace\">++&gt; Evaluate epoch <span style=\"color: #008080; text-decoration-color: #008080; font-weight: bold\">28</span> Finished.\n",
       "</pre>\n"
      ],
      "text/plain": [
       "++> Evaluate epoch \u001b[1;36m28\u001b[0m Finished.\n"
      ]
     },
     "metadata": {},
     "output_type": "display_data"
    },
    {
     "data": {
      "text/html": [
       "<pre style=\"white-space:pre;overflow-x:auto;line-height:normal;font-family:Menlo,'DejaVu Sans Mono',consolas,'Courier New',monospace\">==&gt; <span style=\"font-weight: bold\">[</span><span style=\"color: #008080; text-decoration-color: #008080; font-weight: bold\">2023</span>-<span style=\"color: #008080; text-decoration-color: #008080; font-weight: bold\">08</span>-27_04-<span style=\"color: #008080; text-decoration-color: #008080; font-weight: bold\">56</span>-<span style=\"color: #008080; text-decoration-color: #008080; font-weight: bold\">10</span><span style=\"font-weight: bold\">]</span> Start Training scorp_side Epoch <span style=\"color: #008080; text-decoration-color: #008080; font-weight: bold\">29</span>/<span style=\"color: #008080; text-decoration-color: #008080; font-weight: bold\">50</span>, <span style=\"color: #808000; text-decoration-color: #808000\">lr</span>=<span style=\"color: #008080; text-decoration-color: #008080; font-weight: bold\">0.050000</span> <span style=\"color: #808000; text-decoration-color: #808000\">...</span>\n",
       "</pre>\n"
      ],
      "text/plain": [
       "==> \u001b[1m[\u001b[0m\u001b[1;36m2023\u001b[0m-\u001b[1;36m08\u001b[0m-27_04-\u001b[1;36m56\u001b[0m-\u001b[1;36m10\u001b[0m\u001b[1m]\u001b[0m Start Training scorp_side Epoch \u001b[1;36m29\u001b[0m/\u001b[1;36m50\u001b[0m, \u001b[33mlr\u001b[0m=\u001b[1;36m0\u001b[0m\u001b[1;36m.050000\u001b[0m \u001b[33m...\u001b[0m\n"
      ]
     },
     "metadata": {},
     "output_type": "display_data"
    },
    {
     "name": "stderr",
     "output_type": "stream",
     "text": [
      "loss=21.9914 (56.3767), lr=0.050000: : 100% 2400/2400 [00:59<00:00, 40.40it/s] \n"
     ]
    },
    {
     "data": {
      "text/html": [
       "<pre style=\"white-space:pre;overflow-x:auto;line-height:normal;font-family:Menlo,'DejaVu Sans Mono',consolas,'Courier New',monospace\">==&gt; <span style=\"font-weight: bold\">[</span><span style=\"color: #008080; text-decoration-color: #008080; font-weight: bold\">2023</span>-<span style=\"color: #008080; text-decoration-color: #008080; font-weight: bold\">08</span>-27_04-<span style=\"color: #008080; text-decoration-color: #008080; font-weight: bold\">57</span>-<span style=\"color: #008080; text-decoration-color: #008080; font-weight: bold\">09</span><span style=\"font-weight: bold\">]</span> Finished Epoch <span style=\"color: #008080; text-decoration-color: #008080; font-weight: bold\">29</span>/<span style=\"color: #008080; text-decoration-color: #008080; font-weight: bold\">50</span>. <span style=\"color: #808000; text-decoration-color: #808000\">CPU</span>=<span style=\"color: #008080; text-decoration-color: #008080; font-weight: bold\">11.</span>6GB, <span style=\"color: #808000; text-decoration-color: #808000\">GPU</span>=<span style=\"color: #008080; text-decoration-color: #008080; font-weight: bold\">79.</span>1GB.\n",
       "</pre>\n"
      ],
      "text/plain": [
       "==> \u001b[1m[\u001b[0m\u001b[1;36m2023\u001b[0m-\u001b[1;36m08\u001b[0m-27_04-\u001b[1;36m57\u001b[0m-\u001b[1;36m09\u001b[0m\u001b[1m]\u001b[0m Finished Epoch \u001b[1;36m29\u001b[0m/\u001b[1;36m50\u001b[0m. \u001b[33mCPU\u001b[0m=\u001b[1;36m11\u001b[0m\u001b[1;36m.\u001b[0m6GB, \u001b[33mGPU\u001b[0m=\u001b[1;36m79\u001b[0m\u001b[1;36m.\u001b[0m1GB.\n"
      ]
     },
     "metadata": {},
     "output_type": "display_data"
    },
    {
     "data": {
      "text/html": [
       "<pre style=\"white-space:pre;overflow-x:auto;line-height:normal;font-family:Menlo,'DejaVu Sans Mono',consolas,'Courier New',monospace\">++&gt; Evaluate scorp_side at epoch <span style=\"color: #008080; text-decoration-color: #008080; font-weight: bold\">29</span> <span style=\"color: #808000; text-decoration-color: #808000\">...</span>\n",
       "</pre>\n"
      ],
      "text/plain": [
       "++> Evaluate scorp_side at epoch \u001b[1;36m29\u001b[0m \u001b[33m...\u001b[0m\n"
      ]
     },
     "metadata": {},
     "output_type": "display_data"
    },
    {
     "name": "stderr",
     "output_type": "stream",
     "text": [
      "loss=0.0000 (0.0000): : 100% 8/8 [00:00<00:00, 16.72it/s]\n"
     ]
    },
    {
     "data": {
      "text/html": [
       "<pre style=\"white-space:pre;overflow-x:auto;line-height:normal;font-family:Menlo,'DejaVu Sans Mono',consolas,'Courier New',monospace\">++&gt; Evaluate epoch <span style=\"color: #008080; text-decoration-color: #008080; font-weight: bold\">29</span> Finished.\n",
       "</pre>\n"
      ],
      "text/plain": [
       "++> Evaluate epoch \u001b[1;36m29\u001b[0m Finished.\n"
      ]
     },
     "metadata": {},
     "output_type": "display_data"
    },
    {
     "data": {
      "text/html": [
       "<pre style=\"white-space:pre;overflow-x:auto;line-height:normal;font-family:Menlo,'DejaVu Sans Mono',consolas,'Courier New',monospace\">==&gt; <span style=\"font-weight: bold\">[</span><span style=\"color: #008080; text-decoration-color: #008080; font-weight: bold\">2023</span>-<span style=\"color: #008080; text-decoration-color: #008080; font-weight: bold\">08</span>-27_04-<span style=\"color: #008080; text-decoration-color: #008080; font-weight: bold\">57</span>-<span style=\"color: #008080; text-decoration-color: #008080; font-weight: bold\">10</span><span style=\"font-weight: bold\">]</span> Start Training scorp_side Epoch <span style=\"color: #008080; text-decoration-color: #008080; font-weight: bold\">30</span>/<span style=\"color: #008080; text-decoration-color: #008080; font-weight: bold\">50</span>, <span style=\"color: #808000; text-decoration-color: #808000\">lr</span>=<span style=\"color: #008080; text-decoration-color: #008080; font-weight: bold\">0.050000</span> <span style=\"color: #808000; text-decoration-color: #808000\">...</span>\n",
       "</pre>\n"
      ],
      "text/plain": [
       "==> \u001b[1m[\u001b[0m\u001b[1;36m2023\u001b[0m-\u001b[1;36m08\u001b[0m-27_04-\u001b[1;36m57\u001b[0m-\u001b[1;36m10\u001b[0m\u001b[1m]\u001b[0m Start Training scorp_side Epoch \u001b[1;36m30\u001b[0m/\u001b[1;36m50\u001b[0m, \u001b[33mlr\u001b[0m=\u001b[1;36m0\u001b[0m\u001b[1;36m.050000\u001b[0m \u001b[33m...\u001b[0m\n"
      ]
     },
     "metadata": {},
     "output_type": "display_data"
    },
    {
     "name": "stderr",
     "output_type": "stream",
     "text": [
      "loss=19.6768 (60.1814), lr=0.050000: : 100% 2400/2400 [00:59<00:00, 40.61it/s] \n"
     ]
    },
    {
     "data": {
      "text/html": [
       "<pre style=\"white-space:pre;overflow-x:auto;line-height:normal;font-family:Menlo,'DejaVu Sans Mono',consolas,'Courier New',monospace\">==&gt; <span style=\"font-weight: bold\">[</span><span style=\"color: #008080; text-decoration-color: #008080; font-weight: bold\">2023</span>-<span style=\"color: #008080; text-decoration-color: #008080; font-weight: bold\">08</span>-27_04-<span style=\"color: #008080; text-decoration-color: #008080; font-weight: bold\">58</span>-<span style=\"color: #008080; text-decoration-color: #008080; font-weight: bold\">09</span><span style=\"font-weight: bold\">]</span> Finished Epoch <span style=\"color: #008080; text-decoration-color: #008080; font-weight: bold\">30</span>/<span style=\"color: #008080; text-decoration-color: #008080; font-weight: bold\">50</span>. <span style=\"color: #808000; text-decoration-color: #808000\">CPU</span>=<span style=\"color: #008080; text-decoration-color: #008080; font-weight: bold\">11.</span>6GB, <span style=\"color: #808000; text-decoration-color: #808000\">GPU</span>=<span style=\"color: #008080; text-decoration-color: #008080; font-weight: bold\">79.</span>1GB.\n",
       "</pre>\n"
      ],
      "text/plain": [
       "==> \u001b[1m[\u001b[0m\u001b[1;36m2023\u001b[0m-\u001b[1;36m08\u001b[0m-27_04-\u001b[1;36m58\u001b[0m-\u001b[1;36m09\u001b[0m\u001b[1m]\u001b[0m Finished Epoch \u001b[1;36m30\u001b[0m/\u001b[1;36m50\u001b[0m. \u001b[33mCPU\u001b[0m=\u001b[1;36m11\u001b[0m\u001b[1;36m.\u001b[0m6GB, \u001b[33mGPU\u001b[0m=\u001b[1;36m79\u001b[0m\u001b[1;36m.\u001b[0m1GB.\n"
      ]
     },
     "metadata": {},
     "output_type": "display_data"
    },
    {
     "data": {
      "text/html": [
       "<pre style=\"white-space:pre;overflow-x:auto;line-height:normal;font-family:Menlo,'DejaVu Sans Mono',consolas,'Courier New',monospace\">++&gt; Evaluate scorp_side at epoch <span style=\"color: #008080; text-decoration-color: #008080; font-weight: bold\">30</span> <span style=\"color: #808000; text-decoration-color: #808000\">...</span>\n",
       "</pre>\n"
      ],
      "text/plain": [
       "++> Evaluate scorp_side at epoch \u001b[1;36m30\u001b[0m \u001b[33m...\u001b[0m\n"
      ]
     },
     "metadata": {},
     "output_type": "display_data"
    },
    {
     "name": "stderr",
     "output_type": "stream",
     "text": [
      "loss=0.0000 (0.0000): : 100% 8/8 [00:00<00:00, 18.20it/s]\n"
     ]
    },
    {
     "data": {
      "text/html": [
       "<pre style=\"white-space:pre;overflow-x:auto;line-height:normal;font-family:Menlo,'DejaVu Sans Mono',consolas,'Courier New',monospace\">++&gt; Evaluate epoch <span style=\"color: #008080; text-decoration-color: #008080; font-weight: bold\">30</span> Finished.\n",
       "</pre>\n"
      ],
      "text/plain": [
       "++> Evaluate epoch \u001b[1;36m30\u001b[0m Finished.\n"
      ]
     },
     "metadata": {},
     "output_type": "display_data"
    },
    {
     "data": {
      "text/html": [
       "<pre style=\"white-space:pre;overflow-x:auto;line-height:normal;font-family:Menlo,'DejaVu Sans Mono',consolas,'Courier New',monospace\">==&gt; Start Test, save results to scorp_side/results\n",
       "</pre>\n"
      ],
      "text/plain": [
       "==> Start Test, save results to scorp_side/results\n"
      ]
     },
     "metadata": {},
     "output_type": "display_data"
    },
    {
     "name": "stderr",
     "output_type": "stream",
     "text": [
      " 99% 99/100 [00:03<00:00, 24.38it/s]"
     ]
    },
    {
     "data": {
      "text/html": [
       "<pre style=\"white-space:pre;overflow-x:auto;line-height:normal;font-family:Menlo,'DejaVu Sans Mono',consolas,'Courier New',monospace\">==&gt; Finished Test.\n",
       "</pre>\n"
      ],
      "text/plain": [
       "==> Finished Test.\n"
      ]
     },
     "metadata": {},
     "output_type": "display_data"
    },
    {
     "name": "stderr",
     "output_type": "stream",
     "text": [
      "100% 100/100 [00:05<00:00, 16.72it/s]\n"
     ]
    },
    {
     "data": {
      "text/html": [
       "<pre style=\"white-space:pre;overflow-x:auto;line-height:normal;font-family:Menlo,'DejaVu Sans Mono',consolas,'Courier New',monospace\">==&gt; <span style=\"font-weight: bold\">[</span><span style=\"color: #008080; text-decoration-color: #008080; font-weight: bold\">2023</span>-<span style=\"color: #008080; text-decoration-color: #008080; font-weight: bold\">08</span>-27_04-<span style=\"color: #008080; text-decoration-color: #008080; font-weight: bold\">58</span>-<span style=\"color: #008080; text-decoration-color: #008080; font-weight: bold\">16</span><span style=\"font-weight: bold\">]</span> Start Training scorp_side Epoch <span style=\"color: #008080; text-decoration-color: #008080; font-weight: bold\">31</span>/<span style=\"color: #008080; text-decoration-color: #008080; font-weight: bold\">50</span>, <span style=\"color: #808000; text-decoration-color: #808000\">lr</span>=<span style=\"color: #008080; text-decoration-color: #008080; font-weight: bold\">0.050000</span> <span style=\"color: #808000; text-decoration-color: #808000\">...</span>\n",
       "</pre>\n"
      ],
      "text/plain": [
       "==> \u001b[1m[\u001b[0m\u001b[1;36m2023\u001b[0m-\u001b[1;36m08\u001b[0m-27_04-\u001b[1;36m58\u001b[0m-\u001b[1;36m16\u001b[0m\u001b[1m]\u001b[0m Start Training scorp_side Epoch \u001b[1;36m31\u001b[0m/\u001b[1;36m50\u001b[0m, \u001b[33mlr\u001b[0m=\u001b[1;36m0\u001b[0m\u001b[1;36m.050000\u001b[0m \u001b[33m...\u001b[0m\n"
      ]
     },
     "metadata": {},
     "output_type": "display_data"
    },
    {
     "name": "stderr",
     "output_type": "stream",
     "text": [
      "loss=25.3553 (60.9213), lr=0.050000: : 100% 2400/2400 [00:58<00:00, 40.69it/s] \n"
     ]
    },
    {
     "data": {
      "text/html": [
       "<pre style=\"white-space:pre;overflow-x:auto;line-height:normal;font-family:Menlo,'DejaVu Sans Mono',consolas,'Courier New',monospace\">==&gt; <span style=\"font-weight: bold\">[</span><span style=\"color: #008080; text-decoration-color: #008080; font-weight: bold\">2023</span>-<span style=\"color: #008080; text-decoration-color: #008080; font-weight: bold\">08</span>-27_04-<span style=\"color: #008080; text-decoration-color: #008080; font-weight: bold\">59</span>-<span style=\"color: #008080; text-decoration-color: #008080; font-weight: bold\">15</span><span style=\"font-weight: bold\">]</span> Finished Epoch <span style=\"color: #008080; text-decoration-color: #008080; font-weight: bold\">31</span>/<span style=\"color: #008080; text-decoration-color: #008080; font-weight: bold\">50</span>. <span style=\"color: #808000; text-decoration-color: #808000\">CPU</span>=<span style=\"color: #008080; text-decoration-color: #008080; font-weight: bold\">11.</span>6GB, <span style=\"color: #808000; text-decoration-color: #808000\">GPU</span>=<span style=\"color: #008080; text-decoration-color: #008080; font-weight: bold\">79.</span>1GB.\n",
       "</pre>\n"
      ],
      "text/plain": [
       "==> \u001b[1m[\u001b[0m\u001b[1;36m2023\u001b[0m-\u001b[1;36m08\u001b[0m-27_04-\u001b[1;36m59\u001b[0m-\u001b[1;36m15\u001b[0m\u001b[1m]\u001b[0m Finished Epoch \u001b[1;36m31\u001b[0m/\u001b[1;36m50\u001b[0m. \u001b[33mCPU\u001b[0m=\u001b[1;36m11\u001b[0m\u001b[1;36m.\u001b[0m6GB, \u001b[33mGPU\u001b[0m=\u001b[1;36m79\u001b[0m\u001b[1;36m.\u001b[0m1GB.\n"
      ]
     },
     "metadata": {},
     "output_type": "display_data"
    },
    {
     "data": {
      "text/html": [
       "<pre style=\"white-space:pre;overflow-x:auto;line-height:normal;font-family:Menlo,'DejaVu Sans Mono',consolas,'Courier New',monospace\">++&gt; Evaluate scorp_side at epoch <span style=\"color: #008080; text-decoration-color: #008080; font-weight: bold\">31</span> <span style=\"color: #808000; text-decoration-color: #808000\">...</span>\n",
       "</pre>\n"
      ],
      "text/plain": [
       "++> Evaluate scorp_side at epoch \u001b[1;36m31\u001b[0m \u001b[33m...\u001b[0m\n"
      ]
     },
     "metadata": {},
     "output_type": "display_data"
    },
    {
     "name": "stderr",
     "output_type": "stream",
     "text": [
      "loss=0.0000 (0.0000): : 100% 8/8 [00:00<00:00, 18.03it/s]\n"
     ]
    },
    {
     "data": {
      "text/html": [
       "<pre style=\"white-space:pre;overflow-x:auto;line-height:normal;font-family:Menlo,'DejaVu Sans Mono',consolas,'Courier New',monospace\">++&gt; Evaluate epoch <span style=\"color: #008080; text-decoration-color: #008080; font-weight: bold\">31</span> Finished.\n",
       "</pre>\n"
      ],
      "text/plain": [
       "++> Evaluate epoch \u001b[1;36m31\u001b[0m Finished.\n"
      ]
     },
     "metadata": {},
     "output_type": "display_data"
    },
    {
     "data": {
      "text/html": [
       "<pre style=\"white-space:pre;overflow-x:auto;line-height:normal;font-family:Menlo,'DejaVu Sans Mono',consolas,'Courier New',monospace\">==&gt; <span style=\"font-weight: bold\">[</span><span style=\"color: #008080; text-decoration-color: #008080; font-weight: bold\">2023</span>-<span style=\"color: #008080; text-decoration-color: #008080; font-weight: bold\">08</span>-27_04-<span style=\"color: #008080; text-decoration-color: #008080; font-weight: bold\">59</span>-<span style=\"color: #008080; text-decoration-color: #008080; font-weight: bold\">16</span><span style=\"font-weight: bold\">]</span> Start Training scorp_side Epoch <span style=\"color: #008080; text-decoration-color: #008080; font-weight: bold\">32</span>/<span style=\"color: #008080; text-decoration-color: #008080; font-weight: bold\">50</span>, <span style=\"color: #808000; text-decoration-color: #808000\">lr</span>=<span style=\"color: #008080; text-decoration-color: #008080; font-weight: bold\">0.050000</span> <span style=\"color: #808000; text-decoration-color: #808000\">...</span>\n",
       "</pre>\n"
      ],
      "text/plain": [
       "==> \u001b[1m[\u001b[0m\u001b[1;36m2023\u001b[0m-\u001b[1;36m08\u001b[0m-27_04-\u001b[1;36m59\u001b[0m-\u001b[1;36m16\u001b[0m\u001b[1m]\u001b[0m Start Training scorp_side Epoch \u001b[1;36m32\u001b[0m/\u001b[1;36m50\u001b[0m, \u001b[33mlr\u001b[0m=\u001b[1;36m0\u001b[0m\u001b[1;36m.050000\u001b[0m \u001b[33m...\u001b[0m\n"
      ]
     },
     "metadata": {},
     "output_type": "display_data"
    },
    {
     "name": "stderr",
     "output_type": "stream",
     "text": [
      "loss=33.2860 (57.8465), lr=0.050000: : 100% 2400/2400 [00:58<00:00, 40.78it/s] \n"
     ]
    },
    {
     "data": {
      "text/html": [
       "<pre style=\"white-space:pre;overflow-x:auto;line-height:normal;font-family:Menlo,'DejaVu Sans Mono',consolas,'Courier New',monospace\">==&gt; <span style=\"font-weight: bold\">[</span><span style=\"color: #008080; text-decoration-color: #008080; font-weight: bold\">2023</span>-<span style=\"color: #008080; text-decoration-color: #008080; font-weight: bold\">08</span>-27_05-<span style=\"color: #008080; text-decoration-color: #008080; font-weight: bold\">00</span>-<span style=\"color: #008080; text-decoration-color: #008080; font-weight: bold\">15</span><span style=\"font-weight: bold\">]</span> Finished Epoch <span style=\"color: #008080; text-decoration-color: #008080; font-weight: bold\">32</span>/<span style=\"color: #008080; text-decoration-color: #008080; font-weight: bold\">50</span>. <span style=\"color: #808000; text-decoration-color: #808000\">CPU</span>=<span style=\"color: #008080; text-decoration-color: #008080; font-weight: bold\">11.</span>6GB, <span style=\"color: #808000; text-decoration-color: #808000\">GPU</span>=<span style=\"color: #008080; text-decoration-color: #008080; font-weight: bold\">79.</span>1GB.\n",
       "</pre>\n"
      ],
      "text/plain": [
       "==> \u001b[1m[\u001b[0m\u001b[1;36m2023\u001b[0m-\u001b[1;36m08\u001b[0m-27_05-\u001b[1;36m00\u001b[0m-\u001b[1;36m15\u001b[0m\u001b[1m]\u001b[0m Finished Epoch \u001b[1;36m32\u001b[0m/\u001b[1;36m50\u001b[0m. \u001b[33mCPU\u001b[0m=\u001b[1;36m11\u001b[0m\u001b[1;36m.\u001b[0m6GB, \u001b[33mGPU\u001b[0m=\u001b[1;36m79\u001b[0m\u001b[1;36m.\u001b[0m1GB.\n"
      ]
     },
     "metadata": {},
     "output_type": "display_data"
    },
    {
     "data": {
      "text/html": [
       "<pre style=\"white-space:pre;overflow-x:auto;line-height:normal;font-family:Menlo,'DejaVu Sans Mono',consolas,'Courier New',monospace\">++&gt; Evaluate scorp_side at epoch <span style=\"color: #008080; text-decoration-color: #008080; font-weight: bold\">32</span> <span style=\"color: #808000; text-decoration-color: #808000\">...</span>\n",
       "</pre>\n"
      ],
      "text/plain": [
       "++> Evaluate scorp_side at epoch \u001b[1;36m32\u001b[0m \u001b[33m...\u001b[0m\n"
      ]
     },
     "metadata": {},
     "output_type": "display_data"
    },
    {
     "name": "stderr",
     "output_type": "stream",
     "text": [
      "loss=0.0000 (0.0000): : 100% 8/8 [00:00<00:00, 16.44it/s]\n"
     ]
    },
    {
     "data": {
      "text/html": [
       "<pre style=\"white-space:pre;overflow-x:auto;line-height:normal;font-family:Menlo,'DejaVu Sans Mono',consolas,'Courier New',monospace\">++&gt; Evaluate epoch <span style=\"color: #008080; text-decoration-color: #008080; font-weight: bold\">32</span> Finished.\n",
       "</pre>\n"
      ],
      "text/plain": [
       "++> Evaluate epoch \u001b[1;36m32\u001b[0m Finished.\n"
      ]
     },
     "metadata": {},
     "output_type": "display_data"
    },
    {
     "data": {
      "text/html": [
       "<pre style=\"white-space:pre;overflow-x:auto;line-height:normal;font-family:Menlo,'DejaVu Sans Mono',consolas,'Courier New',monospace\">==&gt; <span style=\"font-weight: bold\">[</span><span style=\"color: #008080; text-decoration-color: #008080; font-weight: bold\">2023</span>-<span style=\"color: #008080; text-decoration-color: #008080; font-weight: bold\">08</span>-27_05-<span style=\"color: #008080; text-decoration-color: #008080; font-weight: bold\">00</span>-<span style=\"color: #008080; text-decoration-color: #008080; font-weight: bold\">16</span><span style=\"font-weight: bold\">]</span> Start Training scorp_side Epoch <span style=\"color: #008080; text-decoration-color: #008080; font-weight: bold\">33</span>/<span style=\"color: #008080; text-decoration-color: #008080; font-weight: bold\">50</span>, <span style=\"color: #808000; text-decoration-color: #808000\">lr</span>=<span style=\"color: #008080; text-decoration-color: #008080; font-weight: bold\">0.050000</span> <span style=\"color: #808000; text-decoration-color: #808000\">...</span>\n",
       "</pre>\n"
      ],
      "text/plain": [
       "==> \u001b[1m[\u001b[0m\u001b[1;36m2023\u001b[0m-\u001b[1;36m08\u001b[0m-27_05-\u001b[1;36m00\u001b[0m-\u001b[1;36m16\u001b[0m\u001b[1m]\u001b[0m Start Training scorp_side Epoch \u001b[1;36m33\u001b[0m/\u001b[1;36m50\u001b[0m, \u001b[33mlr\u001b[0m=\u001b[1;36m0\u001b[0m\u001b[1;36m.050000\u001b[0m \u001b[33m...\u001b[0m\n"
      ]
     },
     "metadata": {},
     "output_type": "display_data"
    },
    {
     "name": "stderr",
     "output_type": "stream",
     "text": [
      "loss=45.0220 (60.0709), lr=0.050000: : 100% 2400/2400 [00:58<00:00, 40.76it/s] \n"
     ]
    },
    {
     "data": {
      "text/html": [
       "<pre style=\"white-space:pre;overflow-x:auto;line-height:normal;font-family:Menlo,'DejaVu Sans Mono',consolas,'Courier New',monospace\">==&gt; <span style=\"font-weight: bold\">[</span><span style=\"color: #008080; text-decoration-color: #008080; font-weight: bold\">2023</span>-<span style=\"color: #008080; text-decoration-color: #008080; font-weight: bold\">08</span>-27_05-<span style=\"color: #008080; text-decoration-color: #008080; font-weight: bold\">01</span>-<span style=\"color: #008080; text-decoration-color: #008080; font-weight: bold\">14</span><span style=\"font-weight: bold\">]</span> Finished Epoch <span style=\"color: #008080; text-decoration-color: #008080; font-weight: bold\">33</span>/<span style=\"color: #008080; text-decoration-color: #008080; font-weight: bold\">50</span>. <span style=\"color: #808000; text-decoration-color: #808000\">CPU</span>=<span style=\"color: #008080; text-decoration-color: #008080; font-weight: bold\">11.</span>6GB, <span style=\"color: #808000; text-decoration-color: #808000\">GPU</span>=<span style=\"color: #008080; text-decoration-color: #008080; font-weight: bold\">79.</span>1GB.\n",
       "</pre>\n"
      ],
      "text/plain": [
       "==> \u001b[1m[\u001b[0m\u001b[1;36m2023\u001b[0m-\u001b[1;36m08\u001b[0m-27_05-\u001b[1;36m01\u001b[0m-\u001b[1;36m14\u001b[0m\u001b[1m]\u001b[0m Finished Epoch \u001b[1;36m33\u001b[0m/\u001b[1;36m50\u001b[0m. \u001b[33mCPU\u001b[0m=\u001b[1;36m11\u001b[0m\u001b[1;36m.\u001b[0m6GB, \u001b[33mGPU\u001b[0m=\u001b[1;36m79\u001b[0m\u001b[1;36m.\u001b[0m1GB.\n"
      ]
     },
     "metadata": {},
     "output_type": "display_data"
    },
    {
     "data": {
      "text/html": [
       "<pre style=\"white-space:pre;overflow-x:auto;line-height:normal;font-family:Menlo,'DejaVu Sans Mono',consolas,'Courier New',monospace\">++&gt; Evaluate scorp_side at epoch <span style=\"color: #008080; text-decoration-color: #008080; font-weight: bold\">33</span> <span style=\"color: #808000; text-decoration-color: #808000\">...</span>\n",
       "</pre>\n"
      ],
      "text/plain": [
       "++> Evaluate scorp_side at epoch \u001b[1;36m33\u001b[0m \u001b[33m...\u001b[0m\n"
      ]
     },
     "metadata": {},
     "output_type": "display_data"
    },
    {
     "name": "stderr",
     "output_type": "stream",
     "text": [
      "loss=0.0000 (0.0000): : 100% 8/8 [00:00<00:00, 18.36it/s]\n"
     ]
    },
    {
     "data": {
      "text/html": [
       "<pre style=\"white-space:pre;overflow-x:auto;line-height:normal;font-family:Menlo,'DejaVu Sans Mono',consolas,'Courier New',monospace\">++&gt; Evaluate epoch <span style=\"color: #008080; text-decoration-color: #008080; font-weight: bold\">33</span> Finished.\n",
       "</pre>\n"
      ],
      "text/plain": [
       "++> Evaluate epoch \u001b[1;36m33\u001b[0m Finished.\n"
      ]
     },
     "metadata": {},
     "output_type": "display_data"
    },
    {
     "data": {
      "text/html": [
       "<pre style=\"white-space:pre;overflow-x:auto;line-height:normal;font-family:Menlo,'DejaVu Sans Mono',consolas,'Courier New',monospace\">==&gt; <span style=\"font-weight: bold\">[</span><span style=\"color: #008080; text-decoration-color: #008080; font-weight: bold\">2023</span>-<span style=\"color: #008080; text-decoration-color: #008080; font-weight: bold\">08</span>-27_05-<span style=\"color: #008080; text-decoration-color: #008080; font-weight: bold\">01</span>-<span style=\"color: #008080; text-decoration-color: #008080; font-weight: bold\">15</span><span style=\"font-weight: bold\">]</span> Start Training scorp_side Epoch <span style=\"color: #008080; text-decoration-color: #008080; font-weight: bold\">34</span>/<span style=\"color: #008080; text-decoration-color: #008080; font-weight: bold\">50</span>, <span style=\"color: #808000; text-decoration-color: #808000\">lr</span>=<span style=\"color: #008080; text-decoration-color: #008080; font-weight: bold\">0.050000</span> <span style=\"color: #808000; text-decoration-color: #808000\">...</span>\n",
       "</pre>\n"
      ],
      "text/plain": [
       "==> \u001b[1m[\u001b[0m\u001b[1;36m2023\u001b[0m-\u001b[1;36m08\u001b[0m-27_05-\u001b[1;36m01\u001b[0m-\u001b[1;36m15\u001b[0m\u001b[1m]\u001b[0m Start Training scorp_side Epoch \u001b[1;36m34\u001b[0m/\u001b[1;36m50\u001b[0m, \u001b[33mlr\u001b[0m=\u001b[1;36m0\u001b[0m\u001b[1;36m.050000\u001b[0m \u001b[33m...\u001b[0m\n"
      ]
     },
     "metadata": {},
     "output_type": "display_data"
    },
    {
     "name": "stderr",
     "output_type": "stream",
     "text": [
      "loss=13.2868 (59.4552), lr=0.050000: : 100% 2400/2400 [00:58<00:00, 40.85it/s] \n"
     ]
    },
    {
     "data": {
      "text/html": [
       "<pre style=\"white-space:pre;overflow-x:auto;line-height:normal;font-family:Menlo,'DejaVu Sans Mono',consolas,'Courier New',monospace\">==&gt; <span style=\"font-weight: bold\">[</span><span style=\"color: #008080; text-decoration-color: #008080; font-weight: bold\">2023</span>-<span style=\"color: #008080; text-decoration-color: #008080; font-weight: bold\">08</span>-27_05-<span style=\"color: #008080; text-decoration-color: #008080; font-weight: bold\">02</span>-<span style=\"color: #008080; text-decoration-color: #008080; font-weight: bold\">14</span><span style=\"font-weight: bold\">]</span> Finished Epoch <span style=\"color: #008080; text-decoration-color: #008080; font-weight: bold\">34</span>/<span style=\"color: #008080; text-decoration-color: #008080; font-weight: bold\">50</span>. <span style=\"color: #808000; text-decoration-color: #808000\">CPU</span>=<span style=\"color: #008080; text-decoration-color: #008080; font-weight: bold\">11.</span>6GB, <span style=\"color: #808000; text-decoration-color: #808000\">GPU</span>=<span style=\"color: #008080; text-decoration-color: #008080; font-weight: bold\">79.</span>1GB.\n",
       "</pre>\n"
      ],
      "text/plain": [
       "==> \u001b[1m[\u001b[0m\u001b[1;36m2023\u001b[0m-\u001b[1;36m08\u001b[0m-27_05-\u001b[1;36m02\u001b[0m-\u001b[1;36m14\u001b[0m\u001b[1m]\u001b[0m Finished Epoch \u001b[1;36m34\u001b[0m/\u001b[1;36m50\u001b[0m. \u001b[33mCPU\u001b[0m=\u001b[1;36m11\u001b[0m\u001b[1;36m.\u001b[0m6GB, \u001b[33mGPU\u001b[0m=\u001b[1;36m79\u001b[0m\u001b[1;36m.\u001b[0m1GB.\n"
      ]
     },
     "metadata": {},
     "output_type": "display_data"
    },
    {
     "data": {
      "text/html": [
       "<pre style=\"white-space:pre;overflow-x:auto;line-height:normal;font-family:Menlo,'DejaVu Sans Mono',consolas,'Courier New',monospace\">++&gt; Evaluate scorp_side at epoch <span style=\"color: #008080; text-decoration-color: #008080; font-weight: bold\">34</span> <span style=\"color: #808000; text-decoration-color: #808000\">...</span>\n",
       "</pre>\n"
      ],
      "text/plain": [
       "++> Evaluate scorp_side at epoch \u001b[1;36m34\u001b[0m \u001b[33m...\u001b[0m\n"
      ]
     },
     "metadata": {},
     "output_type": "display_data"
    },
    {
     "name": "stderr",
     "output_type": "stream",
     "text": [
      "loss=0.0000 (0.0000): : 100% 8/8 [00:00<00:00, 18.52it/s]\n"
     ]
    },
    {
     "data": {
      "text/html": [
       "<pre style=\"white-space:pre;overflow-x:auto;line-height:normal;font-family:Menlo,'DejaVu Sans Mono',consolas,'Courier New',monospace\">++&gt; Evaluate epoch <span style=\"color: #008080; text-decoration-color: #008080; font-weight: bold\">34</span> Finished.\n",
       "</pre>\n"
      ],
      "text/plain": [
       "++> Evaluate epoch \u001b[1;36m34\u001b[0m Finished.\n"
      ]
     },
     "metadata": {},
     "output_type": "display_data"
    },
    {
     "data": {
      "text/html": [
       "<pre style=\"white-space:pre;overflow-x:auto;line-height:normal;font-family:Menlo,'DejaVu Sans Mono',consolas,'Courier New',monospace\">==&gt; <span style=\"font-weight: bold\">[</span><span style=\"color: #008080; text-decoration-color: #008080; font-weight: bold\">2023</span>-<span style=\"color: #008080; text-decoration-color: #008080; font-weight: bold\">08</span>-27_05-<span style=\"color: #008080; text-decoration-color: #008080; font-weight: bold\">02</span>-<span style=\"color: #008080; text-decoration-color: #008080; font-weight: bold\">15</span><span style=\"font-weight: bold\">]</span> Start Training scorp_side Epoch <span style=\"color: #008080; text-decoration-color: #008080; font-weight: bold\">35</span>/<span style=\"color: #008080; text-decoration-color: #008080; font-weight: bold\">50</span>, <span style=\"color: #808000; text-decoration-color: #808000\">lr</span>=<span style=\"color: #008080; text-decoration-color: #008080; font-weight: bold\">0.050000</span> <span style=\"color: #808000; text-decoration-color: #808000\">...</span>\n",
       "</pre>\n"
      ],
      "text/plain": [
       "==> \u001b[1m[\u001b[0m\u001b[1;36m2023\u001b[0m-\u001b[1;36m08\u001b[0m-27_05-\u001b[1;36m02\u001b[0m-\u001b[1;36m15\u001b[0m\u001b[1m]\u001b[0m Start Training scorp_side Epoch \u001b[1;36m35\u001b[0m/\u001b[1;36m50\u001b[0m, \u001b[33mlr\u001b[0m=\u001b[1;36m0\u001b[0m\u001b[1;36m.050000\u001b[0m \u001b[33m...\u001b[0m\n"
      ]
     },
     "metadata": {},
     "output_type": "display_data"
    },
    {
     "name": "stderr",
     "output_type": "stream",
     "text": [
      "loss=28.2078 (55.6425), lr=0.050000: : 100% 2400/2400 [00:58<00:00, 40.87it/s] \n"
     ]
    },
    {
     "data": {
      "text/html": [
       "<pre style=\"white-space:pre;overflow-x:auto;line-height:normal;font-family:Menlo,'DejaVu Sans Mono',consolas,'Courier New',monospace\">==&gt; <span style=\"font-weight: bold\">[</span><span style=\"color: #008080; text-decoration-color: #008080; font-weight: bold\">2023</span>-<span style=\"color: #008080; text-decoration-color: #008080; font-weight: bold\">08</span>-27_05-<span style=\"color: #008080; text-decoration-color: #008080; font-weight: bold\">03</span>-<span style=\"color: #008080; text-decoration-color: #008080; font-weight: bold\">13</span><span style=\"font-weight: bold\">]</span> Finished Epoch <span style=\"color: #008080; text-decoration-color: #008080; font-weight: bold\">35</span>/<span style=\"color: #008080; text-decoration-color: #008080; font-weight: bold\">50</span>. <span style=\"color: #808000; text-decoration-color: #808000\">CPU</span>=<span style=\"color: #008080; text-decoration-color: #008080; font-weight: bold\">11.</span>6GB, <span style=\"color: #808000; text-decoration-color: #808000\">GPU</span>=<span style=\"color: #008080; text-decoration-color: #008080; font-weight: bold\">79.</span>1GB.\n",
       "</pre>\n"
      ],
      "text/plain": [
       "==> \u001b[1m[\u001b[0m\u001b[1;36m2023\u001b[0m-\u001b[1;36m08\u001b[0m-27_05-\u001b[1;36m03\u001b[0m-\u001b[1;36m13\u001b[0m\u001b[1m]\u001b[0m Finished Epoch \u001b[1;36m35\u001b[0m/\u001b[1;36m50\u001b[0m. \u001b[33mCPU\u001b[0m=\u001b[1;36m11\u001b[0m\u001b[1;36m.\u001b[0m6GB, \u001b[33mGPU\u001b[0m=\u001b[1;36m79\u001b[0m\u001b[1;36m.\u001b[0m1GB.\n"
      ]
     },
     "metadata": {},
     "output_type": "display_data"
    },
    {
     "data": {
      "text/html": [
       "<pre style=\"white-space:pre;overflow-x:auto;line-height:normal;font-family:Menlo,'DejaVu Sans Mono',consolas,'Courier New',monospace\">++&gt; Evaluate scorp_side at epoch <span style=\"color: #008080; text-decoration-color: #008080; font-weight: bold\">35</span> <span style=\"color: #808000; text-decoration-color: #808000\">...</span>\n",
       "</pre>\n"
      ],
      "text/plain": [
       "++> Evaluate scorp_side at epoch \u001b[1;36m35\u001b[0m \u001b[33m...\u001b[0m\n"
      ]
     },
     "metadata": {},
     "output_type": "display_data"
    },
    {
     "name": "stderr",
     "output_type": "stream",
     "text": [
      "loss=0.0000 (0.0000): : 100% 8/8 [00:00<00:00, 18.28it/s]\n"
     ]
    },
    {
     "data": {
      "text/html": [
       "<pre style=\"white-space:pre;overflow-x:auto;line-height:normal;font-family:Menlo,'DejaVu Sans Mono',consolas,'Courier New',monospace\">++&gt; Evaluate epoch <span style=\"color: #008080; text-decoration-color: #008080; font-weight: bold\">35</span> Finished.\n",
       "</pre>\n"
      ],
      "text/plain": [
       "++> Evaluate epoch \u001b[1;36m35\u001b[0m Finished.\n"
      ]
     },
     "metadata": {},
     "output_type": "display_data"
    },
    {
     "data": {
      "text/html": [
       "<pre style=\"white-space:pre;overflow-x:auto;line-height:normal;font-family:Menlo,'DejaVu Sans Mono',consolas,'Courier New',monospace\">==&gt; <span style=\"font-weight: bold\">[</span><span style=\"color: #008080; text-decoration-color: #008080; font-weight: bold\">2023</span>-<span style=\"color: #008080; text-decoration-color: #008080; font-weight: bold\">08</span>-27_05-<span style=\"color: #008080; text-decoration-color: #008080; font-weight: bold\">03</span>-<span style=\"color: #008080; text-decoration-color: #008080; font-weight: bold\">14</span><span style=\"font-weight: bold\">]</span> Start Training scorp_side Epoch <span style=\"color: #008080; text-decoration-color: #008080; font-weight: bold\">36</span>/<span style=\"color: #008080; text-decoration-color: #008080; font-weight: bold\">50</span>, <span style=\"color: #808000; text-decoration-color: #808000\">lr</span>=<span style=\"color: #008080; text-decoration-color: #008080; font-weight: bold\">0.050000</span> <span style=\"color: #808000; text-decoration-color: #808000\">...</span>\n",
       "</pre>\n"
      ],
      "text/plain": [
       "==> \u001b[1m[\u001b[0m\u001b[1;36m2023\u001b[0m-\u001b[1;36m08\u001b[0m-27_05-\u001b[1;36m03\u001b[0m-\u001b[1;36m14\u001b[0m\u001b[1m]\u001b[0m Start Training scorp_side Epoch \u001b[1;36m36\u001b[0m/\u001b[1;36m50\u001b[0m, \u001b[33mlr\u001b[0m=\u001b[1;36m0\u001b[0m\u001b[1;36m.050000\u001b[0m \u001b[33m...\u001b[0m\n"
      ]
     },
     "metadata": {},
     "output_type": "display_data"
    },
    {
     "name": "stderr",
     "output_type": "stream",
     "text": [
      "loss=28.4368 (59.8409), lr=0.050000: : 100% 2400/2400 [00:58<00:00, 41.00it/s] \n"
     ]
    },
    {
     "data": {
      "text/html": [
       "<pre style=\"white-space:pre;overflow-x:auto;line-height:normal;font-family:Menlo,'DejaVu Sans Mono',consolas,'Courier New',monospace\">==&gt; <span style=\"font-weight: bold\">[</span><span style=\"color: #008080; text-decoration-color: #008080; font-weight: bold\">2023</span>-<span style=\"color: #008080; text-decoration-color: #008080; font-weight: bold\">08</span>-27_05-<span style=\"color: #008080; text-decoration-color: #008080; font-weight: bold\">04</span>-<span style=\"color: #008080; text-decoration-color: #008080; font-weight: bold\">13</span><span style=\"font-weight: bold\">]</span> Finished Epoch <span style=\"color: #008080; text-decoration-color: #008080; font-weight: bold\">36</span>/<span style=\"color: #008080; text-decoration-color: #008080; font-weight: bold\">50</span>. <span style=\"color: #808000; text-decoration-color: #808000\">CPU</span>=<span style=\"color: #008080; text-decoration-color: #008080; font-weight: bold\">11.</span>6GB, <span style=\"color: #808000; text-decoration-color: #808000\">GPU</span>=<span style=\"color: #008080; text-decoration-color: #008080; font-weight: bold\">79.</span>1GB.\n",
       "</pre>\n"
      ],
      "text/plain": [
       "==> \u001b[1m[\u001b[0m\u001b[1;36m2023\u001b[0m-\u001b[1;36m08\u001b[0m-27_05-\u001b[1;36m04\u001b[0m-\u001b[1;36m13\u001b[0m\u001b[1m]\u001b[0m Finished Epoch \u001b[1;36m36\u001b[0m/\u001b[1;36m50\u001b[0m. \u001b[33mCPU\u001b[0m=\u001b[1;36m11\u001b[0m\u001b[1;36m.\u001b[0m6GB, \u001b[33mGPU\u001b[0m=\u001b[1;36m79\u001b[0m\u001b[1;36m.\u001b[0m1GB.\n"
      ]
     },
     "metadata": {},
     "output_type": "display_data"
    },
    {
     "data": {
      "text/html": [
       "<pre style=\"white-space:pre;overflow-x:auto;line-height:normal;font-family:Menlo,'DejaVu Sans Mono',consolas,'Courier New',monospace\">++&gt; Evaluate scorp_side at epoch <span style=\"color: #008080; text-decoration-color: #008080; font-weight: bold\">36</span> <span style=\"color: #808000; text-decoration-color: #808000\">...</span>\n",
       "</pre>\n"
      ],
      "text/plain": [
       "++> Evaluate scorp_side at epoch \u001b[1;36m36\u001b[0m \u001b[33m...\u001b[0m\n"
      ]
     },
     "metadata": {},
     "output_type": "display_data"
    },
    {
     "name": "stderr",
     "output_type": "stream",
     "text": [
      "loss=0.0000 (0.0000): : 100% 8/8 [00:00<00:00, 18.26it/s]\n"
     ]
    },
    {
     "data": {
      "text/html": [
       "<pre style=\"white-space:pre;overflow-x:auto;line-height:normal;font-family:Menlo,'DejaVu Sans Mono',consolas,'Courier New',monospace\">++&gt; Evaluate epoch <span style=\"color: #008080; text-decoration-color: #008080; font-weight: bold\">36</span> Finished.\n",
       "</pre>\n"
      ],
      "text/plain": [
       "++> Evaluate epoch \u001b[1;36m36\u001b[0m Finished.\n"
      ]
     },
     "metadata": {},
     "output_type": "display_data"
    },
    {
     "data": {
      "text/html": [
       "<pre style=\"white-space:pre;overflow-x:auto;line-height:normal;font-family:Menlo,'DejaVu Sans Mono',consolas,'Courier New',monospace\">==&gt; <span style=\"font-weight: bold\">[</span><span style=\"color: #008080; text-decoration-color: #008080; font-weight: bold\">2023</span>-<span style=\"color: #008080; text-decoration-color: #008080; font-weight: bold\">08</span>-27_05-<span style=\"color: #008080; text-decoration-color: #008080; font-weight: bold\">04</span>-<span style=\"color: #008080; text-decoration-color: #008080; font-weight: bold\">14</span><span style=\"font-weight: bold\">]</span> Start Training scorp_side Epoch <span style=\"color: #008080; text-decoration-color: #008080; font-weight: bold\">37</span>/<span style=\"color: #008080; text-decoration-color: #008080; font-weight: bold\">50</span>, <span style=\"color: #808000; text-decoration-color: #808000\">lr</span>=<span style=\"color: #008080; text-decoration-color: #008080; font-weight: bold\">0.050000</span> <span style=\"color: #808000; text-decoration-color: #808000\">...</span>\n",
       "</pre>\n"
      ],
      "text/plain": [
       "==> \u001b[1m[\u001b[0m\u001b[1;36m2023\u001b[0m-\u001b[1;36m08\u001b[0m-27_05-\u001b[1;36m04\u001b[0m-\u001b[1;36m14\u001b[0m\u001b[1m]\u001b[0m Start Training scorp_side Epoch \u001b[1;36m37\u001b[0m/\u001b[1;36m50\u001b[0m, \u001b[33mlr\u001b[0m=\u001b[1;36m0\u001b[0m\u001b[1;36m.050000\u001b[0m \u001b[33m...\u001b[0m\n"
      ]
     },
     "metadata": {},
     "output_type": "display_data"
    },
    {
     "name": "stderr",
     "output_type": "stream",
     "text": [
      "loss=17.3948 (60.6474), lr=0.050000: : 100% 2400/2400 [00:58<00:00, 41.10it/s] \n"
     ]
    },
    {
     "data": {
      "text/html": [
       "<pre style=\"white-space:pre;overflow-x:auto;line-height:normal;font-family:Menlo,'DejaVu Sans Mono',consolas,'Courier New',monospace\">==&gt; <span style=\"font-weight: bold\">[</span><span style=\"color: #008080; text-decoration-color: #008080; font-weight: bold\">2023</span>-<span style=\"color: #008080; text-decoration-color: #008080; font-weight: bold\">08</span>-27_05-<span style=\"color: #008080; text-decoration-color: #008080; font-weight: bold\">05</span>-<span style=\"color: #008080; text-decoration-color: #008080; font-weight: bold\">12</span><span style=\"font-weight: bold\">]</span> Finished Epoch <span style=\"color: #008080; text-decoration-color: #008080; font-weight: bold\">37</span>/<span style=\"color: #008080; text-decoration-color: #008080; font-weight: bold\">50</span>. <span style=\"color: #808000; text-decoration-color: #808000\">CPU</span>=<span style=\"color: #008080; text-decoration-color: #008080; font-weight: bold\">11.</span>6GB, <span style=\"color: #808000; text-decoration-color: #808000\">GPU</span>=<span style=\"color: #008080; text-decoration-color: #008080; font-weight: bold\">79.</span>1GB.\n",
       "</pre>\n"
      ],
      "text/plain": [
       "==> \u001b[1m[\u001b[0m\u001b[1;36m2023\u001b[0m-\u001b[1;36m08\u001b[0m-27_05-\u001b[1;36m05\u001b[0m-\u001b[1;36m12\u001b[0m\u001b[1m]\u001b[0m Finished Epoch \u001b[1;36m37\u001b[0m/\u001b[1;36m50\u001b[0m. \u001b[33mCPU\u001b[0m=\u001b[1;36m11\u001b[0m\u001b[1;36m.\u001b[0m6GB, \u001b[33mGPU\u001b[0m=\u001b[1;36m79\u001b[0m\u001b[1;36m.\u001b[0m1GB.\n"
      ]
     },
     "metadata": {},
     "output_type": "display_data"
    },
    {
     "data": {
      "text/html": [
       "<pre style=\"white-space:pre;overflow-x:auto;line-height:normal;font-family:Menlo,'DejaVu Sans Mono',consolas,'Courier New',monospace\">++&gt; Evaluate scorp_side at epoch <span style=\"color: #008080; text-decoration-color: #008080; font-weight: bold\">37</span> <span style=\"color: #808000; text-decoration-color: #808000\">...</span>\n",
       "</pre>\n"
      ],
      "text/plain": [
       "++> Evaluate scorp_side at epoch \u001b[1;36m37\u001b[0m \u001b[33m...\u001b[0m\n"
      ]
     },
     "metadata": {},
     "output_type": "display_data"
    },
    {
     "name": "stderr",
     "output_type": "stream",
     "text": [
      "loss=0.0000 (0.0000): : 100% 8/8 [00:00<00:00, 18.03it/s]\n"
     ]
    },
    {
     "data": {
      "text/html": [
       "<pre style=\"white-space:pre;overflow-x:auto;line-height:normal;font-family:Menlo,'DejaVu Sans Mono',consolas,'Courier New',monospace\">++&gt; Evaluate epoch <span style=\"color: #008080; text-decoration-color: #008080; font-weight: bold\">37</span> Finished.\n",
       "</pre>\n"
      ],
      "text/plain": [
       "++> Evaluate epoch \u001b[1;36m37\u001b[0m Finished.\n"
      ]
     },
     "metadata": {},
     "output_type": "display_data"
    },
    {
     "data": {
      "text/html": [
       "<pre style=\"white-space:pre;overflow-x:auto;line-height:normal;font-family:Menlo,'DejaVu Sans Mono',consolas,'Courier New',monospace\">==&gt; <span style=\"font-weight: bold\">[</span><span style=\"color: #008080; text-decoration-color: #008080; font-weight: bold\">2023</span>-<span style=\"color: #008080; text-decoration-color: #008080; font-weight: bold\">08</span>-27_05-<span style=\"color: #008080; text-decoration-color: #008080; font-weight: bold\">05</span>-<span style=\"color: #008080; text-decoration-color: #008080; font-weight: bold\">13</span><span style=\"font-weight: bold\">]</span> Start Training scorp_side Epoch <span style=\"color: #008080; text-decoration-color: #008080; font-weight: bold\">38</span>/<span style=\"color: #008080; text-decoration-color: #008080; font-weight: bold\">50</span>, <span style=\"color: #808000; text-decoration-color: #808000\">lr</span>=<span style=\"color: #008080; text-decoration-color: #008080; font-weight: bold\">0.050000</span> <span style=\"color: #808000; text-decoration-color: #808000\">...</span>\n",
       "</pre>\n"
      ],
      "text/plain": [
       "==> \u001b[1m[\u001b[0m\u001b[1;36m2023\u001b[0m-\u001b[1;36m08\u001b[0m-27_05-\u001b[1;36m05\u001b[0m-\u001b[1;36m13\u001b[0m\u001b[1m]\u001b[0m Start Training scorp_side Epoch \u001b[1;36m38\u001b[0m/\u001b[1;36m50\u001b[0m, \u001b[33mlr\u001b[0m=\u001b[1;36m0\u001b[0m\u001b[1;36m.050000\u001b[0m \u001b[33m...\u001b[0m\n"
      ]
     },
     "metadata": {},
     "output_type": "display_data"
    },
    {
     "name": "stderr",
     "output_type": "stream",
     "text": [
      "loss=42.1287 (57.4310), lr=0.050000: : 100% 2400/2400 [00:58<00:00, 41.27it/s] \n"
     ]
    },
    {
     "data": {
      "text/html": [
       "<pre style=\"white-space:pre;overflow-x:auto;line-height:normal;font-family:Menlo,'DejaVu Sans Mono',consolas,'Courier New',monospace\">==&gt; <span style=\"font-weight: bold\">[</span><span style=\"color: #008080; text-decoration-color: #008080; font-weight: bold\">2023</span>-<span style=\"color: #008080; text-decoration-color: #008080; font-weight: bold\">08</span>-27_05-<span style=\"color: #008080; text-decoration-color: #008080; font-weight: bold\">06</span>-<span style=\"color: #008080; text-decoration-color: #008080; font-weight: bold\">11</span><span style=\"font-weight: bold\">]</span> Finished Epoch <span style=\"color: #008080; text-decoration-color: #008080; font-weight: bold\">38</span>/<span style=\"color: #008080; text-decoration-color: #008080; font-weight: bold\">50</span>. <span style=\"color: #808000; text-decoration-color: #808000\">CPU</span>=<span style=\"color: #008080; text-decoration-color: #008080; font-weight: bold\">11.</span>6GB, <span style=\"color: #808000; text-decoration-color: #808000\">GPU</span>=<span style=\"color: #008080; text-decoration-color: #008080; font-weight: bold\">79.</span>1GB.\n",
       "</pre>\n"
      ],
      "text/plain": [
       "==> \u001b[1m[\u001b[0m\u001b[1;36m2023\u001b[0m-\u001b[1;36m08\u001b[0m-27_05-\u001b[1;36m06\u001b[0m-\u001b[1;36m11\u001b[0m\u001b[1m]\u001b[0m Finished Epoch \u001b[1;36m38\u001b[0m/\u001b[1;36m50\u001b[0m. \u001b[33mCPU\u001b[0m=\u001b[1;36m11\u001b[0m\u001b[1;36m.\u001b[0m6GB, \u001b[33mGPU\u001b[0m=\u001b[1;36m79\u001b[0m\u001b[1;36m.\u001b[0m1GB.\n"
      ]
     },
     "metadata": {},
     "output_type": "display_data"
    },
    {
     "data": {
      "text/html": [
       "<pre style=\"white-space:pre;overflow-x:auto;line-height:normal;font-family:Menlo,'DejaVu Sans Mono',consolas,'Courier New',monospace\">++&gt; Evaluate scorp_side at epoch <span style=\"color: #008080; text-decoration-color: #008080; font-weight: bold\">38</span> <span style=\"color: #808000; text-decoration-color: #808000\">...</span>\n",
       "</pre>\n"
      ],
      "text/plain": [
       "++> Evaluate scorp_side at epoch \u001b[1;36m38\u001b[0m \u001b[33m...\u001b[0m\n"
      ]
     },
     "metadata": {},
     "output_type": "display_data"
    },
    {
     "name": "stderr",
     "output_type": "stream",
     "text": [
      "loss=0.0000 (0.0000): : 100% 8/8 [00:00<00:00, 18.40it/s]\n"
     ]
    },
    {
     "data": {
      "text/html": [
       "<pre style=\"white-space:pre;overflow-x:auto;line-height:normal;font-family:Menlo,'DejaVu Sans Mono',consolas,'Courier New',monospace\">++&gt; Evaluate epoch <span style=\"color: #008080; text-decoration-color: #008080; font-weight: bold\">38</span> Finished.\n",
       "</pre>\n"
      ],
      "text/plain": [
       "++> Evaluate epoch \u001b[1;36m38\u001b[0m Finished.\n"
      ]
     },
     "metadata": {},
     "output_type": "display_data"
    },
    {
     "data": {
      "text/html": [
       "<pre style=\"white-space:pre;overflow-x:auto;line-height:normal;font-family:Menlo,'DejaVu Sans Mono',consolas,'Courier New',monospace\">==&gt; <span style=\"font-weight: bold\">[</span><span style=\"color: #008080; text-decoration-color: #008080; font-weight: bold\">2023</span>-<span style=\"color: #008080; text-decoration-color: #008080; font-weight: bold\">08</span>-27_05-<span style=\"color: #008080; text-decoration-color: #008080; font-weight: bold\">06</span>-<span style=\"color: #008080; text-decoration-color: #008080; font-weight: bold\">12</span><span style=\"font-weight: bold\">]</span> Start Training scorp_side Epoch <span style=\"color: #008080; text-decoration-color: #008080; font-weight: bold\">39</span>/<span style=\"color: #008080; text-decoration-color: #008080; font-weight: bold\">50</span>, <span style=\"color: #808000; text-decoration-color: #808000\">lr</span>=<span style=\"color: #008080; text-decoration-color: #008080; font-weight: bold\">0.050000</span> <span style=\"color: #808000; text-decoration-color: #808000\">...</span>\n",
       "</pre>\n"
      ],
      "text/plain": [
       "==> \u001b[1m[\u001b[0m\u001b[1;36m2023\u001b[0m-\u001b[1;36m08\u001b[0m-27_05-\u001b[1;36m06\u001b[0m-\u001b[1;36m12\u001b[0m\u001b[1m]\u001b[0m Start Training scorp_side Epoch \u001b[1;36m39\u001b[0m/\u001b[1;36m50\u001b[0m, \u001b[33mlr\u001b[0m=\u001b[1;36m0\u001b[0m\u001b[1;36m.050000\u001b[0m \u001b[33m...\u001b[0m\n"
      ]
     },
     "metadata": {},
     "output_type": "display_data"
    },
    {
     "name": "stderr",
     "output_type": "stream",
     "text": [
      "loss=15.5474 (57.4552), lr=0.050000: : 100% 2400/2400 [00:58<00:00, 41.06it/s] \n"
     ]
    },
    {
     "data": {
      "text/html": [
       "<pre style=\"white-space:pre;overflow-x:auto;line-height:normal;font-family:Menlo,'DejaVu Sans Mono',consolas,'Courier New',monospace\">==&gt; <span style=\"font-weight: bold\">[</span><span style=\"color: #008080; text-decoration-color: #008080; font-weight: bold\">2023</span>-<span style=\"color: #008080; text-decoration-color: #008080; font-weight: bold\">08</span>-27_05-<span style=\"color: #008080; text-decoration-color: #008080; font-weight: bold\">07</span>-<span style=\"color: #008080; text-decoration-color: #008080; font-weight: bold\">10</span><span style=\"font-weight: bold\">]</span> Finished Epoch <span style=\"color: #008080; text-decoration-color: #008080; font-weight: bold\">39</span>/<span style=\"color: #008080; text-decoration-color: #008080; font-weight: bold\">50</span>. <span style=\"color: #808000; text-decoration-color: #808000\">CPU</span>=<span style=\"color: #008080; text-decoration-color: #008080; font-weight: bold\">11.</span>6GB, <span style=\"color: #808000; text-decoration-color: #808000\">GPU</span>=<span style=\"color: #008080; text-decoration-color: #008080; font-weight: bold\">79.</span>1GB.\n",
       "</pre>\n"
      ],
      "text/plain": [
       "==> \u001b[1m[\u001b[0m\u001b[1;36m2023\u001b[0m-\u001b[1;36m08\u001b[0m-27_05-\u001b[1;36m07\u001b[0m-\u001b[1;36m10\u001b[0m\u001b[1m]\u001b[0m Finished Epoch \u001b[1;36m39\u001b[0m/\u001b[1;36m50\u001b[0m. \u001b[33mCPU\u001b[0m=\u001b[1;36m11\u001b[0m\u001b[1;36m.\u001b[0m6GB, \u001b[33mGPU\u001b[0m=\u001b[1;36m79\u001b[0m\u001b[1;36m.\u001b[0m1GB.\n"
      ]
     },
     "metadata": {},
     "output_type": "display_data"
    },
    {
     "data": {
      "text/html": [
       "<pre style=\"white-space:pre;overflow-x:auto;line-height:normal;font-family:Menlo,'DejaVu Sans Mono',consolas,'Courier New',monospace\">++&gt; Evaluate scorp_side at epoch <span style=\"color: #008080; text-decoration-color: #008080; font-weight: bold\">39</span> <span style=\"color: #808000; text-decoration-color: #808000\">...</span>\n",
       "</pre>\n"
      ],
      "text/plain": [
       "++> Evaluate scorp_side at epoch \u001b[1;36m39\u001b[0m \u001b[33m...\u001b[0m\n"
      ]
     },
     "metadata": {},
     "output_type": "display_data"
    },
    {
     "name": "stderr",
     "output_type": "stream",
     "text": [
      "loss=0.0000 (0.0000): : 100% 8/8 [00:00<00:00, 15.63it/s]\n"
     ]
    },
    {
     "data": {
      "text/html": [
       "<pre style=\"white-space:pre;overflow-x:auto;line-height:normal;font-family:Menlo,'DejaVu Sans Mono',consolas,'Courier New',monospace\">++&gt; Evaluate epoch <span style=\"color: #008080; text-decoration-color: #008080; font-weight: bold\">39</span> Finished.\n",
       "</pre>\n"
      ],
      "text/plain": [
       "++> Evaluate epoch \u001b[1;36m39\u001b[0m Finished.\n"
      ]
     },
     "metadata": {},
     "output_type": "display_data"
    },
    {
     "data": {
      "text/html": [
       "<pre style=\"white-space:pre;overflow-x:auto;line-height:normal;font-family:Menlo,'DejaVu Sans Mono',consolas,'Courier New',monospace\">==&gt; <span style=\"font-weight: bold\">[</span><span style=\"color: #008080; text-decoration-color: #008080; font-weight: bold\">2023</span>-<span style=\"color: #008080; text-decoration-color: #008080; font-weight: bold\">08</span>-27_05-<span style=\"color: #008080; text-decoration-color: #008080; font-weight: bold\">07</span>-<span style=\"color: #008080; text-decoration-color: #008080; font-weight: bold\">11</span><span style=\"font-weight: bold\">]</span> Start Training scorp_side Epoch <span style=\"color: #008080; text-decoration-color: #008080; font-weight: bold\">40</span>/<span style=\"color: #008080; text-decoration-color: #008080; font-weight: bold\">50</span>, <span style=\"color: #808000; text-decoration-color: #808000\">lr</span>=<span style=\"color: #008080; text-decoration-color: #008080; font-weight: bold\">0.050000</span> <span style=\"color: #808000; text-decoration-color: #808000\">...</span>\n",
       "</pre>\n"
      ],
      "text/plain": [
       "==> \u001b[1m[\u001b[0m\u001b[1;36m2023\u001b[0m-\u001b[1;36m08\u001b[0m-27_05-\u001b[1;36m07\u001b[0m-\u001b[1;36m11\u001b[0m\u001b[1m]\u001b[0m Start Training scorp_side Epoch \u001b[1;36m40\u001b[0m/\u001b[1;36m50\u001b[0m, \u001b[33mlr\u001b[0m=\u001b[1;36m0\u001b[0m\u001b[1;36m.050000\u001b[0m \u001b[33m...\u001b[0m\n"
      ]
     },
     "metadata": {},
     "output_type": "display_data"
    },
    {
     "name": "stderr",
     "output_type": "stream",
     "text": [
      "loss=30.7367 (58.2994), lr=0.050000: : 100% 2400/2400 [00:58<00:00, 40.99it/s] \n"
     ]
    },
    {
     "data": {
      "text/html": [
       "<pre style=\"white-space:pre;overflow-x:auto;line-height:normal;font-family:Menlo,'DejaVu Sans Mono',consolas,'Courier New',monospace\">==&gt; <span style=\"font-weight: bold\">[</span><span style=\"color: #008080; text-decoration-color: #008080; font-weight: bold\">2023</span>-<span style=\"color: #008080; text-decoration-color: #008080; font-weight: bold\">08</span>-27_05-<span style=\"color: #008080; text-decoration-color: #008080; font-weight: bold\">08</span>-<span style=\"color: #008080; text-decoration-color: #008080; font-weight: bold\">10</span><span style=\"font-weight: bold\">]</span> Finished Epoch <span style=\"color: #008080; text-decoration-color: #008080; font-weight: bold\">40</span>/<span style=\"color: #008080; text-decoration-color: #008080; font-weight: bold\">50</span>. <span style=\"color: #808000; text-decoration-color: #808000\">CPU</span>=<span style=\"color: #008080; text-decoration-color: #008080; font-weight: bold\">11.</span>6GB, <span style=\"color: #808000; text-decoration-color: #808000\">GPU</span>=<span style=\"color: #008080; text-decoration-color: #008080; font-weight: bold\">79.</span>1GB.\n",
       "</pre>\n"
      ],
      "text/plain": [
       "==> \u001b[1m[\u001b[0m\u001b[1;36m2023\u001b[0m-\u001b[1;36m08\u001b[0m-27_05-\u001b[1;36m08\u001b[0m-\u001b[1;36m10\u001b[0m\u001b[1m]\u001b[0m Finished Epoch \u001b[1;36m40\u001b[0m/\u001b[1;36m50\u001b[0m. \u001b[33mCPU\u001b[0m=\u001b[1;36m11\u001b[0m\u001b[1;36m.\u001b[0m6GB, \u001b[33mGPU\u001b[0m=\u001b[1;36m79\u001b[0m\u001b[1;36m.\u001b[0m1GB.\n"
      ]
     },
     "metadata": {},
     "output_type": "display_data"
    },
    {
     "data": {
      "text/html": [
       "<pre style=\"white-space:pre;overflow-x:auto;line-height:normal;font-family:Menlo,'DejaVu Sans Mono',consolas,'Courier New',monospace\">++&gt; Evaluate scorp_side at epoch <span style=\"color: #008080; text-decoration-color: #008080; font-weight: bold\">40</span> <span style=\"color: #808000; text-decoration-color: #808000\">...</span>\n",
       "</pre>\n"
      ],
      "text/plain": [
       "++> Evaluate scorp_side at epoch \u001b[1;36m40\u001b[0m \u001b[33m...\u001b[0m\n"
      ]
     },
     "metadata": {},
     "output_type": "display_data"
    },
    {
     "name": "stderr",
     "output_type": "stream",
     "text": [
      "loss=0.0000 (0.0000): : 100% 8/8 [00:00<00:00, 18.56it/s]\n"
     ]
    },
    {
     "data": {
      "text/html": [
       "<pre style=\"white-space:pre;overflow-x:auto;line-height:normal;font-family:Menlo,'DejaVu Sans Mono',consolas,'Courier New',monospace\">++&gt; Evaluate epoch <span style=\"color: #008080; text-decoration-color: #008080; font-weight: bold\">40</span> Finished.\n",
       "</pre>\n"
      ],
      "text/plain": [
       "++> Evaluate epoch \u001b[1;36m40\u001b[0m Finished.\n"
      ]
     },
     "metadata": {},
     "output_type": "display_data"
    },
    {
     "data": {
      "text/html": [
       "<pre style=\"white-space:pre;overflow-x:auto;line-height:normal;font-family:Menlo,'DejaVu Sans Mono',consolas,'Courier New',monospace\">==&gt; Start Test, save results to scorp_side/results\n",
       "</pre>\n"
      ],
      "text/plain": [
       "==> Start Test, save results to scorp_side/results\n"
      ]
     },
     "metadata": {},
     "output_type": "display_data"
    },
    {
     "name": "stderr",
     "output_type": "stream",
     "text": [
      " 99% 99/100 [00:03<00:00, 25.05it/s]"
     ]
    },
    {
     "data": {
      "text/html": [
       "<pre style=\"white-space:pre;overflow-x:auto;line-height:normal;font-family:Menlo,'DejaVu Sans Mono',consolas,'Courier New',monospace\">==&gt; Finished Test.\n",
       "</pre>\n"
      ],
      "text/plain": [
       "==> Finished Test.\n"
      ]
     },
     "metadata": {},
     "output_type": "display_data"
    },
    {
     "name": "stderr",
     "output_type": "stream",
     "text": [
      "100% 100/100 [00:05<00:00, 16.98it/s]\n"
     ]
    },
    {
     "data": {
      "text/html": [
       "<pre style=\"white-space:pre;overflow-x:auto;line-height:normal;font-family:Menlo,'DejaVu Sans Mono',consolas,'Courier New',monospace\">==&gt; <span style=\"font-weight: bold\">[</span><span style=\"color: #008080; text-decoration-color: #008080; font-weight: bold\">2023</span>-<span style=\"color: #008080; text-decoration-color: #008080; font-weight: bold\">08</span>-27_05-<span style=\"color: #008080; text-decoration-color: #008080; font-weight: bold\">08</span>-<span style=\"color: #008080; text-decoration-color: #008080; font-weight: bold\">17</span><span style=\"font-weight: bold\">]</span> Start Training scorp_side Epoch <span style=\"color: #008080; text-decoration-color: #008080; font-weight: bold\">41</span>/<span style=\"color: #008080; text-decoration-color: #008080; font-weight: bold\">50</span>, <span style=\"color: #808000; text-decoration-color: #808000\">lr</span>=<span style=\"color: #008080; text-decoration-color: #008080; font-weight: bold\">0.050000</span> <span style=\"color: #808000; text-decoration-color: #808000\">...</span>\n",
       "</pre>\n"
      ],
      "text/plain": [
       "==> \u001b[1m[\u001b[0m\u001b[1;36m2023\u001b[0m-\u001b[1;36m08\u001b[0m-27_05-\u001b[1;36m08\u001b[0m-\u001b[1;36m17\u001b[0m\u001b[1m]\u001b[0m Start Training scorp_side Epoch \u001b[1;36m41\u001b[0m/\u001b[1;36m50\u001b[0m, \u001b[33mlr\u001b[0m=\u001b[1;36m0\u001b[0m\u001b[1;36m.050000\u001b[0m \u001b[33m...\u001b[0m\n"
      ]
     },
     "metadata": {},
     "output_type": "display_data"
    },
    {
     "name": "stderr",
     "output_type": "stream",
     "text": [
      "loss=19.0633 (59.0461), lr=0.050000: : 100% 2400/2400 [00:58<00:00, 41.24it/s] \n"
     ]
    },
    {
     "data": {
      "text/html": [
       "<pre style=\"white-space:pre;overflow-x:auto;line-height:normal;font-family:Menlo,'DejaVu Sans Mono',consolas,'Courier New',monospace\">==&gt; <span style=\"font-weight: bold\">[</span><span style=\"color: #008080; text-decoration-color: #008080; font-weight: bold\">2023</span>-<span style=\"color: #008080; text-decoration-color: #008080; font-weight: bold\">08</span>-27_05-<span style=\"color: #008080; text-decoration-color: #008080; font-weight: bold\">09</span>-<span style=\"color: #008080; text-decoration-color: #008080; font-weight: bold\">15</span><span style=\"font-weight: bold\">]</span> Finished Epoch <span style=\"color: #008080; text-decoration-color: #008080; font-weight: bold\">41</span>/<span style=\"color: #008080; text-decoration-color: #008080; font-weight: bold\">50</span>. <span style=\"color: #808000; text-decoration-color: #808000\">CPU</span>=<span style=\"color: #008080; text-decoration-color: #008080; font-weight: bold\">11.</span>6GB, <span style=\"color: #808000; text-decoration-color: #808000\">GPU</span>=<span style=\"color: #008080; text-decoration-color: #008080; font-weight: bold\">79.</span>1GB.\n",
       "</pre>\n"
      ],
      "text/plain": [
       "==> \u001b[1m[\u001b[0m\u001b[1;36m2023\u001b[0m-\u001b[1;36m08\u001b[0m-27_05-\u001b[1;36m09\u001b[0m-\u001b[1;36m15\u001b[0m\u001b[1m]\u001b[0m Finished Epoch \u001b[1;36m41\u001b[0m/\u001b[1;36m50\u001b[0m. \u001b[33mCPU\u001b[0m=\u001b[1;36m11\u001b[0m\u001b[1;36m.\u001b[0m6GB, \u001b[33mGPU\u001b[0m=\u001b[1;36m79\u001b[0m\u001b[1;36m.\u001b[0m1GB.\n"
      ]
     },
     "metadata": {},
     "output_type": "display_data"
    },
    {
     "data": {
      "text/html": [
       "<pre style=\"white-space:pre;overflow-x:auto;line-height:normal;font-family:Menlo,'DejaVu Sans Mono',consolas,'Courier New',monospace\">++&gt; Evaluate scorp_side at epoch <span style=\"color: #008080; text-decoration-color: #008080; font-weight: bold\">41</span> <span style=\"color: #808000; text-decoration-color: #808000\">...</span>\n",
       "</pre>\n"
      ],
      "text/plain": [
       "++> Evaluate scorp_side at epoch \u001b[1;36m41\u001b[0m \u001b[33m...\u001b[0m\n"
      ]
     },
     "metadata": {},
     "output_type": "display_data"
    },
    {
     "name": "stderr",
     "output_type": "stream",
     "text": [
      "loss=0.0000 (0.0000): : 100% 8/8 [00:00<00:00, 16.54it/s]\n"
     ]
    },
    {
     "data": {
      "text/html": [
       "<pre style=\"white-space:pre;overflow-x:auto;line-height:normal;font-family:Menlo,'DejaVu Sans Mono',consolas,'Courier New',monospace\">++&gt; Evaluate epoch <span style=\"color: #008080; text-decoration-color: #008080; font-weight: bold\">41</span> Finished.\n",
       "</pre>\n"
      ],
      "text/plain": [
       "++> Evaluate epoch \u001b[1;36m41\u001b[0m Finished.\n"
      ]
     },
     "metadata": {},
     "output_type": "display_data"
    },
    {
     "data": {
      "text/html": [
       "<pre style=\"white-space:pre;overflow-x:auto;line-height:normal;font-family:Menlo,'DejaVu Sans Mono',consolas,'Courier New',monospace\">==&gt; <span style=\"font-weight: bold\">[</span><span style=\"color: #008080; text-decoration-color: #008080; font-weight: bold\">2023</span>-<span style=\"color: #008080; text-decoration-color: #008080; font-weight: bold\">08</span>-27_05-<span style=\"color: #008080; text-decoration-color: #008080; font-weight: bold\">09</span>-<span style=\"color: #008080; text-decoration-color: #008080; font-weight: bold\">16</span><span style=\"font-weight: bold\">]</span> Start Training scorp_side Epoch <span style=\"color: #008080; text-decoration-color: #008080; font-weight: bold\">42</span>/<span style=\"color: #008080; text-decoration-color: #008080; font-weight: bold\">50</span>, <span style=\"color: #808000; text-decoration-color: #808000\">lr</span>=<span style=\"color: #008080; text-decoration-color: #008080; font-weight: bold\">0.050000</span> <span style=\"color: #808000; text-decoration-color: #808000\">...</span>\n",
       "</pre>\n"
      ],
      "text/plain": [
       "==> \u001b[1m[\u001b[0m\u001b[1;36m2023\u001b[0m-\u001b[1;36m08\u001b[0m-27_05-\u001b[1;36m09\u001b[0m-\u001b[1;36m16\u001b[0m\u001b[1m]\u001b[0m Start Training scorp_side Epoch \u001b[1;36m42\u001b[0m/\u001b[1;36m50\u001b[0m, \u001b[33mlr\u001b[0m=\u001b[1;36m0\u001b[0m\u001b[1;36m.050000\u001b[0m \u001b[33m...\u001b[0m\n"
      ]
     },
     "metadata": {},
     "output_type": "display_data"
    },
    {
     "name": "stderr",
     "output_type": "stream",
     "text": [
      "loss=18.6651 (59.9773), lr=0.050000: : 100% 2400/2400 [00:58<00:00, 41.35it/s] \n"
     ]
    },
    {
     "data": {
      "text/html": [
       "<pre style=\"white-space:pre;overflow-x:auto;line-height:normal;font-family:Menlo,'DejaVu Sans Mono',consolas,'Courier New',monospace\">==&gt; <span style=\"font-weight: bold\">[</span><span style=\"color: #008080; text-decoration-color: #008080; font-weight: bold\">2023</span>-<span style=\"color: #008080; text-decoration-color: #008080; font-weight: bold\">08</span>-27_05-<span style=\"color: #008080; text-decoration-color: #008080; font-weight: bold\">10</span>-<span style=\"color: #008080; text-decoration-color: #008080; font-weight: bold\">14</span><span style=\"font-weight: bold\">]</span> Finished Epoch <span style=\"color: #008080; text-decoration-color: #008080; font-weight: bold\">42</span>/<span style=\"color: #008080; text-decoration-color: #008080; font-weight: bold\">50</span>. <span style=\"color: #808000; text-decoration-color: #808000\">CPU</span>=<span style=\"color: #008080; text-decoration-color: #008080; font-weight: bold\">11.</span>6GB, <span style=\"color: #808000; text-decoration-color: #808000\">GPU</span>=<span style=\"color: #008080; text-decoration-color: #008080; font-weight: bold\">79.</span>1GB.\n",
       "</pre>\n"
      ],
      "text/plain": [
       "==> \u001b[1m[\u001b[0m\u001b[1;36m2023\u001b[0m-\u001b[1;36m08\u001b[0m-27_05-\u001b[1;36m10\u001b[0m-\u001b[1;36m14\u001b[0m\u001b[1m]\u001b[0m Finished Epoch \u001b[1;36m42\u001b[0m/\u001b[1;36m50\u001b[0m. \u001b[33mCPU\u001b[0m=\u001b[1;36m11\u001b[0m\u001b[1;36m.\u001b[0m6GB, \u001b[33mGPU\u001b[0m=\u001b[1;36m79\u001b[0m\u001b[1;36m.\u001b[0m1GB.\n"
      ]
     },
     "metadata": {},
     "output_type": "display_data"
    },
    {
     "data": {
      "text/html": [
       "<pre style=\"white-space:pre;overflow-x:auto;line-height:normal;font-family:Menlo,'DejaVu Sans Mono',consolas,'Courier New',monospace\">++&gt; Evaluate scorp_side at epoch <span style=\"color: #008080; text-decoration-color: #008080; font-weight: bold\">42</span> <span style=\"color: #808000; text-decoration-color: #808000\">...</span>\n",
       "</pre>\n"
      ],
      "text/plain": [
       "++> Evaluate scorp_side at epoch \u001b[1;36m42\u001b[0m \u001b[33m...\u001b[0m\n"
      ]
     },
     "metadata": {},
     "output_type": "display_data"
    },
    {
     "name": "stderr",
     "output_type": "stream",
     "text": [
      "loss=0.0000 (0.0000): : 100% 8/8 [00:00<00:00, 18.40it/s]\n"
     ]
    },
    {
     "data": {
      "text/html": [
       "<pre style=\"white-space:pre;overflow-x:auto;line-height:normal;font-family:Menlo,'DejaVu Sans Mono',consolas,'Courier New',monospace\">++&gt; Evaluate epoch <span style=\"color: #008080; text-decoration-color: #008080; font-weight: bold\">42</span> Finished.\n",
       "</pre>\n"
      ],
      "text/plain": [
       "++> Evaluate epoch \u001b[1;36m42\u001b[0m Finished.\n"
      ]
     },
     "metadata": {},
     "output_type": "display_data"
    },
    {
     "data": {
      "text/html": [
       "<pre style=\"white-space:pre;overflow-x:auto;line-height:normal;font-family:Menlo,'DejaVu Sans Mono',consolas,'Courier New',monospace\">==&gt; <span style=\"font-weight: bold\">[</span><span style=\"color: #008080; text-decoration-color: #008080; font-weight: bold\">2023</span>-<span style=\"color: #008080; text-decoration-color: #008080; font-weight: bold\">08</span>-27_05-<span style=\"color: #008080; text-decoration-color: #008080; font-weight: bold\">10</span>-<span style=\"color: #008080; text-decoration-color: #008080; font-weight: bold\">14</span><span style=\"font-weight: bold\">]</span> Start Training scorp_side Epoch <span style=\"color: #008080; text-decoration-color: #008080; font-weight: bold\">43</span>/<span style=\"color: #008080; text-decoration-color: #008080; font-weight: bold\">50</span>, <span style=\"color: #808000; text-decoration-color: #808000\">lr</span>=<span style=\"color: #008080; text-decoration-color: #008080; font-weight: bold\">0.050000</span> <span style=\"color: #808000; text-decoration-color: #808000\">...</span>\n",
       "</pre>\n"
      ],
      "text/plain": [
       "==> \u001b[1m[\u001b[0m\u001b[1;36m2023\u001b[0m-\u001b[1;36m08\u001b[0m-27_05-\u001b[1;36m10\u001b[0m-\u001b[1;36m14\u001b[0m\u001b[1m]\u001b[0m Start Training scorp_side Epoch \u001b[1;36m43\u001b[0m/\u001b[1;36m50\u001b[0m, \u001b[33mlr\u001b[0m=\u001b[1;36m0\u001b[0m\u001b[1;36m.050000\u001b[0m \u001b[33m...\u001b[0m\n"
      ]
     },
     "metadata": {},
     "output_type": "display_data"
    },
    {
     "name": "stderr",
     "output_type": "stream",
     "text": [
      "loss=24.8434 (64.1656), lr=0.050000: : 100% 2400/2400 [00:57<00:00, 41.39it/s] \n"
     ]
    },
    {
     "data": {
      "text/html": [
       "<pre style=\"white-space:pre;overflow-x:auto;line-height:normal;font-family:Menlo,'DejaVu Sans Mono',consolas,'Courier New',monospace\">==&gt; <span style=\"font-weight: bold\">[</span><span style=\"color: #008080; text-decoration-color: #008080; font-weight: bold\">2023</span>-<span style=\"color: #008080; text-decoration-color: #008080; font-weight: bold\">08</span>-27_05-<span style=\"color: #008080; text-decoration-color: #008080; font-weight: bold\">11</span>-<span style=\"color: #008080; text-decoration-color: #008080; font-weight: bold\">12</span><span style=\"font-weight: bold\">]</span> Finished Epoch <span style=\"color: #008080; text-decoration-color: #008080; font-weight: bold\">43</span>/<span style=\"color: #008080; text-decoration-color: #008080; font-weight: bold\">50</span>. <span style=\"color: #808000; text-decoration-color: #808000\">CPU</span>=<span style=\"color: #008080; text-decoration-color: #008080; font-weight: bold\">11.</span>6GB, <span style=\"color: #808000; text-decoration-color: #808000\">GPU</span>=<span style=\"color: #008080; text-decoration-color: #008080; font-weight: bold\">79.</span>1GB.\n",
       "</pre>\n"
      ],
      "text/plain": [
       "==> \u001b[1m[\u001b[0m\u001b[1;36m2023\u001b[0m-\u001b[1;36m08\u001b[0m-27_05-\u001b[1;36m11\u001b[0m-\u001b[1;36m12\u001b[0m\u001b[1m]\u001b[0m Finished Epoch \u001b[1;36m43\u001b[0m/\u001b[1;36m50\u001b[0m. \u001b[33mCPU\u001b[0m=\u001b[1;36m11\u001b[0m\u001b[1;36m.\u001b[0m6GB, \u001b[33mGPU\u001b[0m=\u001b[1;36m79\u001b[0m\u001b[1;36m.\u001b[0m1GB.\n"
      ]
     },
     "metadata": {},
     "output_type": "display_data"
    },
    {
     "data": {
      "text/html": [
       "<pre style=\"white-space:pre;overflow-x:auto;line-height:normal;font-family:Menlo,'DejaVu Sans Mono',consolas,'Courier New',monospace\">++&gt; Evaluate scorp_side at epoch <span style=\"color: #008080; text-decoration-color: #008080; font-weight: bold\">43</span> <span style=\"color: #808000; text-decoration-color: #808000\">...</span>\n",
       "</pre>\n"
      ],
      "text/plain": [
       "++> Evaluate scorp_side at epoch \u001b[1;36m43\u001b[0m \u001b[33m...\u001b[0m\n"
      ]
     },
     "metadata": {},
     "output_type": "display_data"
    },
    {
     "name": "stderr",
     "output_type": "stream",
     "text": [
      "loss=0.0000 (0.0000): : 100% 8/8 [00:00<00:00, 17.91it/s]\n"
     ]
    },
    {
     "data": {
      "text/html": [
       "<pre style=\"white-space:pre;overflow-x:auto;line-height:normal;font-family:Menlo,'DejaVu Sans Mono',consolas,'Courier New',monospace\">++&gt; Evaluate epoch <span style=\"color: #008080; text-decoration-color: #008080; font-weight: bold\">43</span> Finished.\n",
       "</pre>\n"
      ],
      "text/plain": [
       "++> Evaluate epoch \u001b[1;36m43\u001b[0m Finished.\n"
      ]
     },
     "metadata": {},
     "output_type": "display_data"
    },
    {
     "data": {
      "text/html": [
       "<pre style=\"white-space:pre;overflow-x:auto;line-height:normal;font-family:Menlo,'DejaVu Sans Mono',consolas,'Courier New',monospace\">==&gt; <span style=\"font-weight: bold\">[</span><span style=\"color: #008080; text-decoration-color: #008080; font-weight: bold\">2023</span>-<span style=\"color: #008080; text-decoration-color: #008080; font-weight: bold\">08</span>-27_05-<span style=\"color: #008080; text-decoration-color: #008080; font-weight: bold\">11</span>-<span style=\"color: #008080; text-decoration-color: #008080; font-weight: bold\">13</span><span style=\"font-weight: bold\">]</span> Start Training scorp_side Epoch <span style=\"color: #008080; text-decoration-color: #008080; font-weight: bold\">44</span>/<span style=\"color: #008080; text-decoration-color: #008080; font-weight: bold\">50</span>, <span style=\"color: #808000; text-decoration-color: #808000\">lr</span>=<span style=\"color: #008080; text-decoration-color: #008080; font-weight: bold\">0.050000</span> <span style=\"color: #808000; text-decoration-color: #808000\">...</span>\n",
       "</pre>\n"
      ],
      "text/plain": [
       "==> \u001b[1m[\u001b[0m\u001b[1;36m2023\u001b[0m-\u001b[1;36m08\u001b[0m-27_05-\u001b[1;36m11\u001b[0m-\u001b[1;36m13\u001b[0m\u001b[1m]\u001b[0m Start Training scorp_side Epoch \u001b[1;36m44\u001b[0m/\u001b[1;36m50\u001b[0m, \u001b[33mlr\u001b[0m=\u001b[1;36m0\u001b[0m\u001b[1;36m.050000\u001b[0m \u001b[33m...\u001b[0m\n"
      ]
     },
     "metadata": {},
     "output_type": "display_data"
    },
    {
     "name": "stderr",
     "output_type": "stream",
     "text": [
      "loss=16.0188 (60.0367), lr=0.050000: : 100% 2400/2400 [00:57<00:00, 41.43it/s] \n"
     ]
    },
    {
     "data": {
      "text/html": [
       "<pre style=\"white-space:pre;overflow-x:auto;line-height:normal;font-family:Menlo,'DejaVu Sans Mono',consolas,'Courier New',monospace\">==&gt; <span style=\"font-weight: bold\">[</span><span style=\"color: #008080; text-decoration-color: #008080; font-weight: bold\">2023</span>-<span style=\"color: #008080; text-decoration-color: #008080; font-weight: bold\">08</span>-27_05-<span style=\"color: #008080; text-decoration-color: #008080; font-weight: bold\">12</span>-<span style=\"color: #008080; text-decoration-color: #008080; font-weight: bold\">11</span><span style=\"font-weight: bold\">]</span> Finished Epoch <span style=\"color: #008080; text-decoration-color: #008080; font-weight: bold\">44</span>/<span style=\"color: #008080; text-decoration-color: #008080; font-weight: bold\">50</span>. <span style=\"color: #808000; text-decoration-color: #808000\">CPU</span>=<span style=\"color: #008080; text-decoration-color: #008080; font-weight: bold\">11.</span>6GB, <span style=\"color: #808000; text-decoration-color: #808000\">GPU</span>=<span style=\"color: #008080; text-decoration-color: #008080; font-weight: bold\">79.</span>1GB.\n",
       "</pre>\n"
      ],
      "text/plain": [
       "==> \u001b[1m[\u001b[0m\u001b[1;36m2023\u001b[0m-\u001b[1;36m08\u001b[0m-27_05-\u001b[1;36m12\u001b[0m-\u001b[1;36m11\u001b[0m\u001b[1m]\u001b[0m Finished Epoch \u001b[1;36m44\u001b[0m/\u001b[1;36m50\u001b[0m. \u001b[33mCPU\u001b[0m=\u001b[1;36m11\u001b[0m\u001b[1;36m.\u001b[0m6GB, \u001b[33mGPU\u001b[0m=\u001b[1;36m79\u001b[0m\u001b[1;36m.\u001b[0m1GB.\n"
      ]
     },
     "metadata": {},
     "output_type": "display_data"
    },
    {
     "data": {
      "text/html": [
       "<pre style=\"white-space:pre;overflow-x:auto;line-height:normal;font-family:Menlo,'DejaVu Sans Mono',consolas,'Courier New',monospace\">++&gt; Evaluate scorp_side at epoch <span style=\"color: #008080; text-decoration-color: #008080; font-weight: bold\">44</span> <span style=\"color: #808000; text-decoration-color: #808000\">...</span>\n",
       "</pre>\n"
      ],
      "text/plain": [
       "++> Evaluate scorp_side at epoch \u001b[1;36m44\u001b[0m \u001b[33m...\u001b[0m\n"
      ]
     },
     "metadata": {},
     "output_type": "display_data"
    },
    {
     "name": "stderr",
     "output_type": "stream",
     "text": [
      "loss=0.0000 (0.0000): : 100% 8/8 [00:00<00:00, 18.46it/s]\n"
     ]
    },
    {
     "data": {
      "text/html": [
       "<pre style=\"white-space:pre;overflow-x:auto;line-height:normal;font-family:Menlo,'DejaVu Sans Mono',consolas,'Courier New',monospace\">++&gt; Evaluate epoch <span style=\"color: #008080; text-decoration-color: #008080; font-weight: bold\">44</span> Finished.\n",
       "</pre>\n"
      ],
      "text/plain": [
       "++> Evaluate epoch \u001b[1;36m44\u001b[0m Finished.\n"
      ]
     },
     "metadata": {},
     "output_type": "display_data"
    },
    {
     "data": {
      "text/html": [
       "<pre style=\"white-space:pre;overflow-x:auto;line-height:normal;font-family:Menlo,'DejaVu Sans Mono',consolas,'Courier New',monospace\">==&gt; <span style=\"font-weight: bold\">[</span><span style=\"color: #008080; text-decoration-color: #008080; font-weight: bold\">2023</span>-<span style=\"color: #008080; text-decoration-color: #008080; font-weight: bold\">08</span>-27_05-<span style=\"color: #008080; text-decoration-color: #008080; font-weight: bold\">12</span>-<span style=\"color: #008080; text-decoration-color: #008080; font-weight: bold\">12</span><span style=\"font-weight: bold\">]</span> Start Training scorp_side Epoch <span style=\"color: #008080; text-decoration-color: #008080; font-weight: bold\">45</span>/<span style=\"color: #008080; text-decoration-color: #008080; font-weight: bold\">50</span>, <span style=\"color: #808000; text-decoration-color: #808000\">lr</span>=<span style=\"color: #008080; text-decoration-color: #008080; font-weight: bold\">0.050000</span> <span style=\"color: #808000; text-decoration-color: #808000\">...</span>\n",
       "</pre>\n"
      ],
      "text/plain": [
       "==> \u001b[1m[\u001b[0m\u001b[1;36m2023\u001b[0m-\u001b[1;36m08\u001b[0m-27_05-\u001b[1;36m12\u001b[0m-\u001b[1;36m12\u001b[0m\u001b[1m]\u001b[0m Start Training scorp_side Epoch \u001b[1;36m45\u001b[0m/\u001b[1;36m50\u001b[0m, \u001b[33mlr\u001b[0m=\u001b[1;36m0\u001b[0m\u001b[1;36m.050000\u001b[0m \u001b[33m...\u001b[0m\n"
      ]
     },
     "metadata": {},
     "output_type": "display_data"
    },
    {
     "name": "stderr",
     "output_type": "stream",
     "text": [
      "loss=13.1180 (57.0753), lr=0.050000: : 100% 2400/2400 [00:57<00:00, 41.40it/s] \n"
     ]
    },
    {
     "data": {
      "text/html": [
       "<pre style=\"white-space:pre;overflow-x:auto;line-height:normal;font-family:Menlo,'DejaVu Sans Mono',consolas,'Courier New',monospace\">==&gt; <span style=\"font-weight: bold\">[</span><span style=\"color: #008080; text-decoration-color: #008080; font-weight: bold\">2023</span>-<span style=\"color: #008080; text-decoration-color: #008080; font-weight: bold\">08</span>-27_05-<span style=\"color: #008080; text-decoration-color: #008080; font-weight: bold\">13</span>-<span style=\"color: #008080; text-decoration-color: #008080; font-weight: bold\">10</span><span style=\"font-weight: bold\">]</span> Finished Epoch <span style=\"color: #008080; text-decoration-color: #008080; font-weight: bold\">45</span>/<span style=\"color: #008080; text-decoration-color: #008080; font-weight: bold\">50</span>. <span style=\"color: #808000; text-decoration-color: #808000\">CPU</span>=<span style=\"color: #008080; text-decoration-color: #008080; font-weight: bold\">11.</span>6GB, <span style=\"color: #808000; text-decoration-color: #808000\">GPU</span>=<span style=\"color: #008080; text-decoration-color: #008080; font-weight: bold\">79.</span>1GB.\n",
       "</pre>\n"
      ],
      "text/plain": [
       "==> \u001b[1m[\u001b[0m\u001b[1;36m2023\u001b[0m-\u001b[1;36m08\u001b[0m-27_05-\u001b[1;36m13\u001b[0m-\u001b[1;36m10\u001b[0m\u001b[1m]\u001b[0m Finished Epoch \u001b[1;36m45\u001b[0m/\u001b[1;36m50\u001b[0m. \u001b[33mCPU\u001b[0m=\u001b[1;36m11\u001b[0m\u001b[1;36m.\u001b[0m6GB, \u001b[33mGPU\u001b[0m=\u001b[1;36m79\u001b[0m\u001b[1;36m.\u001b[0m1GB.\n"
      ]
     },
     "metadata": {},
     "output_type": "display_data"
    },
    {
     "data": {
      "text/html": [
       "<pre style=\"white-space:pre;overflow-x:auto;line-height:normal;font-family:Menlo,'DejaVu Sans Mono',consolas,'Courier New',monospace\">++&gt; Evaluate scorp_side at epoch <span style=\"color: #008080; text-decoration-color: #008080; font-weight: bold\">45</span> <span style=\"color: #808000; text-decoration-color: #808000\">...</span>\n",
       "</pre>\n"
      ],
      "text/plain": [
       "++> Evaluate scorp_side at epoch \u001b[1;36m45\u001b[0m \u001b[33m...\u001b[0m\n"
      ]
     },
     "metadata": {},
     "output_type": "display_data"
    },
    {
     "name": "stderr",
     "output_type": "stream",
     "text": [
      "loss=0.0000 (0.0000): : 100% 8/8 [00:00<00:00, 18.50it/s]\n"
     ]
    },
    {
     "data": {
      "text/html": [
       "<pre style=\"white-space:pre;overflow-x:auto;line-height:normal;font-family:Menlo,'DejaVu Sans Mono',consolas,'Courier New',monospace\">++&gt; Evaluate epoch <span style=\"color: #008080; text-decoration-color: #008080; font-weight: bold\">45</span> Finished.\n",
       "</pre>\n"
      ],
      "text/plain": [
       "++> Evaluate epoch \u001b[1;36m45\u001b[0m Finished.\n"
      ]
     },
     "metadata": {},
     "output_type": "display_data"
    },
    {
     "data": {
      "text/html": [
       "<pre style=\"white-space:pre;overflow-x:auto;line-height:normal;font-family:Menlo,'DejaVu Sans Mono',consolas,'Courier New',monospace\">==&gt; <span style=\"font-weight: bold\">[</span><span style=\"color: #008080; text-decoration-color: #008080; font-weight: bold\">2023</span>-<span style=\"color: #008080; text-decoration-color: #008080; font-weight: bold\">08</span>-27_05-<span style=\"color: #008080; text-decoration-color: #008080; font-weight: bold\">13</span>-<span style=\"color: #008080; text-decoration-color: #008080; font-weight: bold\">11</span><span style=\"font-weight: bold\">]</span> Start Training scorp_side Epoch <span style=\"color: #008080; text-decoration-color: #008080; font-weight: bold\">46</span>/<span style=\"color: #008080; text-decoration-color: #008080; font-weight: bold\">50</span>, <span style=\"color: #808000; text-decoration-color: #808000\">lr</span>=<span style=\"color: #008080; text-decoration-color: #008080; font-weight: bold\">0.050000</span> <span style=\"color: #808000; text-decoration-color: #808000\">...</span>\n",
       "</pre>\n"
      ],
      "text/plain": [
       "==> \u001b[1m[\u001b[0m\u001b[1;36m2023\u001b[0m-\u001b[1;36m08\u001b[0m-27_05-\u001b[1;36m13\u001b[0m-\u001b[1;36m11\u001b[0m\u001b[1m]\u001b[0m Start Training scorp_side Epoch \u001b[1;36m46\u001b[0m/\u001b[1;36m50\u001b[0m, \u001b[33mlr\u001b[0m=\u001b[1;36m0\u001b[0m\u001b[1;36m.050000\u001b[0m \u001b[33m...\u001b[0m\n"
      ]
     },
     "metadata": {},
     "output_type": "display_data"
    },
    {
     "name": "stderr",
     "output_type": "stream",
     "text": [
      "loss=13.8509 (59.8664), lr=0.050000: : 100% 2400/2400 [00:57<00:00, 41.55it/s] \n"
     ]
    },
    {
     "data": {
      "text/html": [
       "<pre style=\"white-space:pre;overflow-x:auto;line-height:normal;font-family:Menlo,'DejaVu Sans Mono',consolas,'Courier New',monospace\">==&gt; <span style=\"font-weight: bold\">[</span><span style=\"color: #008080; text-decoration-color: #008080; font-weight: bold\">2023</span>-<span style=\"color: #008080; text-decoration-color: #008080; font-weight: bold\">08</span>-27_05-<span style=\"color: #008080; text-decoration-color: #008080; font-weight: bold\">14</span>-<span style=\"color: #008080; text-decoration-color: #008080; font-weight: bold\">09</span><span style=\"font-weight: bold\">]</span> Finished Epoch <span style=\"color: #008080; text-decoration-color: #008080; font-weight: bold\">46</span>/<span style=\"color: #008080; text-decoration-color: #008080; font-weight: bold\">50</span>. <span style=\"color: #808000; text-decoration-color: #808000\">CPU</span>=<span style=\"color: #008080; text-decoration-color: #008080; font-weight: bold\">11.</span>6GB, <span style=\"color: #808000; text-decoration-color: #808000\">GPU</span>=<span style=\"color: #008080; text-decoration-color: #008080; font-weight: bold\">79.</span>1GB.\n",
       "</pre>\n"
      ],
      "text/plain": [
       "==> \u001b[1m[\u001b[0m\u001b[1;36m2023\u001b[0m-\u001b[1;36m08\u001b[0m-27_05-\u001b[1;36m14\u001b[0m-\u001b[1;36m09\u001b[0m\u001b[1m]\u001b[0m Finished Epoch \u001b[1;36m46\u001b[0m/\u001b[1;36m50\u001b[0m. \u001b[33mCPU\u001b[0m=\u001b[1;36m11\u001b[0m\u001b[1;36m.\u001b[0m6GB, \u001b[33mGPU\u001b[0m=\u001b[1;36m79\u001b[0m\u001b[1;36m.\u001b[0m1GB.\n"
      ]
     },
     "metadata": {},
     "output_type": "display_data"
    },
    {
     "data": {
      "text/html": [
       "<pre style=\"white-space:pre;overflow-x:auto;line-height:normal;font-family:Menlo,'DejaVu Sans Mono',consolas,'Courier New',monospace\">++&gt; Evaluate scorp_side at epoch <span style=\"color: #008080; text-decoration-color: #008080; font-weight: bold\">46</span> <span style=\"color: #808000; text-decoration-color: #808000\">...</span>\n",
       "</pre>\n"
      ],
      "text/plain": [
       "++> Evaluate scorp_side at epoch \u001b[1;36m46\u001b[0m \u001b[33m...\u001b[0m\n"
      ]
     },
     "metadata": {},
     "output_type": "display_data"
    },
    {
     "name": "stderr",
     "output_type": "stream",
     "text": [
      "loss=0.0000 (0.0000): : 100% 8/8 [00:00<00:00, 18.42it/s]\n"
     ]
    },
    {
     "data": {
      "text/html": [
       "<pre style=\"white-space:pre;overflow-x:auto;line-height:normal;font-family:Menlo,'DejaVu Sans Mono',consolas,'Courier New',monospace\">++&gt; Evaluate epoch <span style=\"color: #008080; text-decoration-color: #008080; font-weight: bold\">46</span> Finished.\n",
       "</pre>\n"
      ],
      "text/plain": [
       "++> Evaluate epoch \u001b[1;36m46\u001b[0m Finished.\n"
      ]
     },
     "metadata": {},
     "output_type": "display_data"
    },
    {
     "data": {
      "text/html": [
       "<pre style=\"white-space:pre;overflow-x:auto;line-height:normal;font-family:Menlo,'DejaVu Sans Mono',consolas,'Courier New',monospace\">==&gt; <span style=\"font-weight: bold\">[</span><span style=\"color: #008080; text-decoration-color: #008080; font-weight: bold\">2023</span>-<span style=\"color: #008080; text-decoration-color: #008080; font-weight: bold\">08</span>-27_05-<span style=\"color: #008080; text-decoration-color: #008080; font-weight: bold\">14</span>-<span style=\"color: #008080; text-decoration-color: #008080; font-weight: bold\">09</span><span style=\"font-weight: bold\">]</span> Start Training scorp_side Epoch <span style=\"color: #008080; text-decoration-color: #008080; font-weight: bold\">47</span>/<span style=\"color: #008080; text-decoration-color: #008080; font-weight: bold\">50</span>, <span style=\"color: #808000; text-decoration-color: #808000\">lr</span>=<span style=\"color: #008080; text-decoration-color: #008080; font-weight: bold\">0.050000</span> <span style=\"color: #808000; text-decoration-color: #808000\">...</span>\n",
       "</pre>\n"
      ],
      "text/plain": [
       "==> \u001b[1m[\u001b[0m\u001b[1;36m2023\u001b[0m-\u001b[1;36m08\u001b[0m-27_05-\u001b[1;36m14\u001b[0m-\u001b[1;36m09\u001b[0m\u001b[1m]\u001b[0m Start Training scorp_side Epoch \u001b[1;36m47\u001b[0m/\u001b[1;36m50\u001b[0m, \u001b[33mlr\u001b[0m=\u001b[1;36m0\u001b[0m\u001b[1;36m.050000\u001b[0m \u001b[33m...\u001b[0m\n"
      ]
     },
     "metadata": {},
     "output_type": "display_data"
    },
    {
     "name": "stderr",
     "output_type": "stream",
     "text": [
      "loss=44.4985 (59.1063), lr=0.050000: : 100% 2400/2400 [00:57<00:00, 41.40it/s] \n"
     ]
    },
    {
     "data": {
      "text/html": [
       "<pre style=\"white-space:pre;overflow-x:auto;line-height:normal;font-family:Menlo,'DejaVu Sans Mono',consolas,'Courier New',monospace\">==&gt; <span style=\"font-weight: bold\">[</span><span style=\"color: #008080; text-decoration-color: #008080; font-weight: bold\">2023</span>-<span style=\"color: #008080; text-decoration-color: #008080; font-weight: bold\">08</span>-27_05-<span style=\"color: #008080; text-decoration-color: #008080; font-weight: bold\">15</span>-<span style=\"color: #008080; text-decoration-color: #008080; font-weight: bold\">07</span><span style=\"font-weight: bold\">]</span> Finished Epoch <span style=\"color: #008080; text-decoration-color: #008080; font-weight: bold\">47</span>/<span style=\"color: #008080; text-decoration-color: #008080; font-weight: bold\">50</span>. <span style=\"color: #808000; text-decoration-color: #808000\">CPU</span>=<span style=\"color: #008080; text-decoration-color: #008080; font-weight: bold\">11.</span>6GB, <span style=\"color: #808000; text-decoration-color: #808000\">GPU</span>=<span style=\"color: #008080; text-decoration-color: #008080; font-weight: bold\">79.</span>1GB.\n",
       "</pre>\n"
      ],
      "text/plain": [
       "==> \u001b[1m[\u001b[0m\u001b[1;36m2023\u001b[0m-\u001b[1;36m08\u001b[0m-27_05-\u001b[1;36m15\u001b[0m-\u001b[1;36m07\u001b[0m\u001b[1m]\u001b[0m Finished Epoch \u001b[1;36m47\u001b[0m/\u001b[1;36m50\u001b[0m. \u001b[33mCPU\u001b[0m=\u001b[1;36m11\u001b[0m\u001b[1;36m.\u001b[0m6GB, \u001b[33mGPU\u001b[0m=\u001b[1;36m79\u001b[0m\u001b[1;36m.\u001b[0m1GB.\n"
      ]
     },
     "metadata": {},
     "output_type": "display_data"
    },
    {
     "data": {
      "text/html": [
       "<pre style=\"white-space:pre;overflow-x:auto;line-height:normal;font-family:Menlo,'DejaVu Sans Mono',consolas,'Courier New',monospace\">++&gt; Evaluate scorp_side at epoch <span style=\"color: #008080; text-decoration-color: #008080; font-weight: bold\">47</span> <span style=\"color: #808000; text-decoration-color: #808000\">...</span>\n",
       "</pre>\n"
      ],
      "text/plain": [
       "++> Evaluate scorp_side at epoch \u001b[1;36m47\u001b[0m \u001b[33m...\u001b[0m\n"
      ]
     },
     "metadata": {},
     "output_type": "display_data"
    },
    {
     "name": "stderr",
     "output_type": "stream",
     "text": [
      "loss=0.0000 (0.0000): : 100% 8/8 [00:00<00:00, 18.37it/s]\n"
     ]
    },
    {
     "data": {
      "text/html": [
       "<pre style=\"white-space:pre;overflow-x:auto;line-height:normal;font-family:Menlo,'DejaVu Sans Mono',consolas,'Courier New',monospace\">++&gt; Evaluate epoch <span style=\"color: #008080; text-decoration-color: #008080; font-weight: bold\">47</span> Finished.\n",
       "</pre>\n"
      ],
      "text/plain": [
       "++> Evaluate epoch \u001b[1;36m47\u001b[0m Finished.\n"
      ]
     },
     "metadata": {},
     "output_type": "display_data"
    },
    {
     "data": {
      "text/html": [
       "<pre style=\"white-space:pre;overflow-x:auto;line-height:normal;font-family:Menlo,'DejaVu Sans Mono',consolas,'Courier New',monospace\">==&gt; <span style=\"font-weight: bold\">[</span><span style=\"color: #008080; text-decoration-color: #008080; font-weight: bold\">2023</span>-<span style=\"color: #008080; text-decoration-color: #008080; font-weight: bold\">08</span>-27_05-<span style=\"color: #008080; text-decoration-color: #008080; font-weight: bold\">15</span>-<span style=\"color: #008080; text-decoration-color: #008080; font-weight: bold\">08</span><span style=\"font-weight: bold\">]</span> Start Training scorp_side Epoch <span style=\"color: #008080; text-decoration-color: #008080; font-weight: bold\">48</span>/<span style=\"color: #008080; text-decoration-color: #008080; font-weight: bold\">50</span>, <span style=\"color: #808000; text-decoration-color: #808000\">lr</span>=<span style=\"color: #008080; text-decoration-color: #008080; font-weight: bold\">0.050000</span> <span style=\"color: #808000; text-decoration-color: #808000\">...</span>\n",
       "</pre>\n"
      ],
      "text/plain": [
       "==> \u001b[1m[\u001b[0m\u001b[1;36m2023\u001b[0m-\u001b[1;36m08\u001b[0m-27_05-\u001b[1;36m15\u001b[0m-\u001b[1;36m08\u001b[0m\u001b[1m]\u001b[0m Start Training scorp_side Epoch \u001b[1;36m48\u001b[0m/\u001b[1;36m50\u001b[0m, \u001b[33mlr\u001b[0m=\u001b[1;36m0\u001b[0m\u001b[1;36m.050000\u001b[0m \u001b[33m...\u001b[0m\n"
      ]
     },
     "metadata": {},
     "output_type": "display_data"
    },
    {
     "name": "stderr",
     "output_type": "stream",
     "text": [
      "loss=19.1715 (61.1742), lr=0.050000: : 100% 2400/2400 [00:57<00:00, 41.54it/s] \n"
     ]
    },
    {
     "data": {
      "text/html": [
       "<pre style=\"white-space:pre;overflow-x:auto;line-height:normal;font-family:Menlo,'DejaVu Sans Mono',consolas,'Courier New',monospace\">==&gt; <span style=\"font-weight: bold\">[</span><span style=\"color: #008080; text-decoration-color: #008080; font-weight: bold\">2023</span>-<span style=\"color: #008080; text-decoration-color: #008080; font-weight: bold\">08</span>-27_05-<span style=\"color: #008080; text-decoration-color: #008080; font-weight: bold\">16</span>-<span style=\"color: #008080; text-decoration-color: #008080; font-weight: bold\">06</span><span style=\"font-weight: bold\">]</span> Finished Epoch <span style=\"color: #008080; text-decoration-color: #008080; font-weight: bold\">48</span>/<span style=\"color: #008080; text-decoration-color: #008080; font-weight: bold\">50</span>. <span style=\"color: #808000; text-decoration-color: #808000\">CPU</span>=<span style=\"color: #008080; text-decoration-color: #008080; font-weight: bold\">11.</span>6GB, <span style=\"color: #808000; text-decoration-color: #808000\">GPU</span>=<span style=\"color: #008080; text-decoration-color: #008080; font-weight: bold\">79.</span>1GB.\n",
       "</pre>\n"
      ],
      "text/plain": [
       "==> \u001b[1m[\u001b[0m\u001b[1;36m2023\u001b[0m-\u001b[1;36m08\u001b[0m-27_05-\u001b[1;36m16\u001b[0m-\u001b[1;36m06\u001b[0m\u001b[1m]\u001b[0m Finished Epoch \u001b[1;36m48\u001b[0m/\u001b[1;36m50\u001b[0m. \u001b[33mCPU\u001b[0m=\u001b[1;36m11\u001b[0m\u001b[1;36m.\u001b[0m6GB, \u001b[33mGPU\u001b[0m=\u001b[1;36m79\u001b[0m\u001b[1;36m.\u001b[0m1GB.\n"
      ]
     },
     "metadata": {},
     "output_type": "display_data"
    },
    {
     "data": {
      "text/html": [
       "<pre style=\"white-space:pre;overflow-x:auto;line-height:normal;font-family:Menlo,'DejaVu Sans Mono',consolas,'Courier New',monospace\">++&gt; Evaluate scorp_side at epoch <span style=\"color: #008080; text-decoration-color: #008080; font-weight: bold\">48</span> <span style=\"color: #808000; text-decoration-color: #808000\">...</span>\n",
       "</pre>\n"
      ],
      "text/plain": [
       "++> Evaluate scorp_side at epoch \u001b[1;36m48\u001b[0m \u001b[33m...\u001b[0m\n"
      ]
     },
     "metadata": {},
     "output_type": "display_data"
    },
    {
     "name": "stderr",
     "output_type": "stream",
     "text": [
      "loss=0.0000 (0.0000): : 100% 8/8 [00:00<00:00, 18.48it/s]\n"
     ]
    },
    {
     "data": {
      "text/html": [
       "<pre style=\"white-space:pre;overflow-x:auto;line-height:normal;font-family:Menlo,'DejaVu Sans Mono',consolas,'Courier New',monospace\">++&gt; Evaluate epoch <span style=\"color: #008080; text-decoration-color: #008080; font-weight: bold\">48</span> Finished.\n",
       "</pre>\n"
      ],
      "text/plain": [
       "++> Evaluate epoch \u001b[1;36m48\u001b[0m Finished.\n"
      ]
     },
     "metadata": {},
     "output_type": "display_data"
    },
    {
     "data": {
      "text/html": [
       "<pre style=\"white-space:pre;overflow-x:auto;line-height:normal;font-family:Menlo,'DejaVu Sans Mono',consolas,'Courier New',monospace\">==&gt; <span style=\"font-weight: bold\">[</span><span style=\"color: #008080; text-decoration-color: #008080; font-weight: bold\">2023</span>-<span style=\"color: #008080; text-decoration-color: #008080; font-weight: bold\">08</span>-27_05-<span style=\"color: #008080; text-decoration-color: #008080; font-weight: bold\">16</span>-<span style=\"color: #008080; text-decoration-color: #008080; font-weight: bold\">07</span><span style=\"font-weight: bold\">]</span> Start Training scorp_side Epoch <span style=\"color: #008080; text-decoration-color: #008080; font-weight: bold\">49</span>/<span style=\"color: #008080; text-decoration-color: #008080; font-weight: bold\">50</span>, <span style=\"color: #808000; text-decoration-color: #808000\">lr</span>=<span style=\"color: #008080; text-decoration-color: #008080; font-weight: bold\">0.050000</span> <span style=\"color: #808000; text-decoration-color: #808000\">...</span>\n",
       "</pre>\n"
      ],
      "text/plain": [
       "==> \u001b[1m[\u001b[0m\u001b[1;36m2023\u001b[0m-\u001b[1;36m08\u001b[0m-27_05-\u001b[1;36m16\u001b[0m-\u001b[1;36m07\u001b[0m\u001b[1m]\u001b[0m Start Training scorp_side Epoch \u001b[1;36m49\u001b[0m/\u001b[1;36m50\u001b[0m, \u001b[33mlr\u001b[0m=\u001b[1;36m0\u001b[0m\u001b[1;36m.050000\u001b[0m \u001b[33m...\u001b[0m\n"
      ]
     },
     "metadata": {},
     "output_type": "display_data"
    },
    {
     "name": "stderr",
     "output_type": "stream",
     "text": [
      "loss=31.4420 (62.7156), lr=0.050000: : 100% 2400/2400 [00:57<00:00, 41.54it/s] \n"
     ]
    },
    {
     "data": {
      "text/html": [
       "<pre style=\"white-space:pre;overflow-x:auto;line-height:normal;font-family:Menlo,'DejaVu Sans Mono',consolas,'Courier New',monospace\">==&gt; <span style=\"font-weight: bold\">[</span><span style=\"color: #008080; text-decoration-color: #008080; font-weight: bold\">2023</span>-<span style=\"color: #008080; text-decoration-color: #008080; font-weight: bold\">08</span>-27_05-<span style=\"color: #008080; text-decoration-color: #008080; font-weight: bold\">17</span>-<span style=\"color: #008080; text-decoration-color: #008080; font-weight: bold\">05</span><span style=\"font-weight: bold\">]</span> Finished Epoch <span style=\"color: #008080; text-decoration-color: #008080; font-weight: bold\">49</span>/<span style=\"color: #008080; text-decoration-color: #008080; font-weight: bold\">50</span>. <span style=\"color: #808000; text-decoration-color: #808000\">CPU</span>=<span style=\"color: #008080; text-decoration-color: #008080; font-weight: bold\">11.</span>6GB, <span style=\"color: #808000; text-decoration-color: #808000\">GPU</span>=<span style=\"color: #008080; text-decoration-color: #008080; font-weight: bold\">79.</span>1GB.\n",
       "</pre>\n"
      ],
      "text/plain": [
       "==> \u001b[1m[\u001b[0m\u001b[1;36m2023\u001b[0m-\u001b[1;36m08\u001b[0m-27_05-\u001b[1;36m17\u001b[0m-\u001b[1;36m05\u001b[0m\u001b[1m]\u001b[0m Finished Epoch \u001b[1;36m49\u001b[0m/\u001b[1;36m50\u001b[0m. \u001b[33mCPU\u001b[0m=\u001b[1;36m11\u001b[0m\u001b[1;36m.\u001b[0m6GB, \u001b[33mGPU\u001b[0m=\u001b[1;36m79\u001b[0m\u001b[1;36m.\u001b[0m1GB.\n"
      ]
     },
     "metadata": {},
     "output_type": "display_data"
    },
    {
     "data": {
      "text/html": [
       "<pre style=\"white-space:pre;overflow-x:auto;line-height:normal;font-family:Menlo,'DejaVu Sans Mono',consolas,'Courier New',monospace\">++&gt; Evaluate scorp_side at epoch <span style=\"color: #008080; text-decoration-color: #008080; font-weight: bold\">49</span> <span style=\"color: #808000; text-decoration-color: #808000\">...</span>\n",
       "</pre>\n"
      ],
      "text/plain": [
       "++> Evaluate scorp_side at epoch \u001b[1;36m49\u001b[0m \u001b[33m...\u001b[0m\n"
      ]
     },
     "metadata": {},
     "output_type": "display_data"
    },
    {
     "name": "stderr",
     "output_type": "stream",
     "text": [
      "loss=0.0000 (0.0000): : 100% 8/8 [00:00<00:00, 18.59it/s]\n"
     ]
    },
    {
     "data": {
      "text/html": [
       "<pre style=\"white-space:pre;overflow-x:auto;line-height:normal;font-family:Menlo,'DejaVu Sans Mono',consolas,'Courier New',monospace\">++&gt; Evaluate epoch <span style=\"color: #008080; text-decoration-color: #008080; font-weight: bold\">49</span> Finished.\n",
       "</pre>\n"
      ],
      "text/plain": [
       "++> Evaluate epoch \u001b[1;36m49\u001b[0m Finished.\n"
      ]
     },
     "metadata": {},
     "output_type": "display_data"
    },
    {
     "data": {
      "text/html": [
       "<pre style=\"white-space:pre;overflow-x:auto;line-height:normal;font-family:Menlo,'DejaVu Sans Mono',consolas,'Courier New',monospace\">==&gt; <span style=\"font-weight: bold\">[</span><span style=\"color: #008080; text-decoration-color: #008080; font-weight: bold\">2023</span>-<span style=\"color: #008080; text-decoration-color: #008080; font-weight: bold\">08</span>-27_05-<span style=\"color: #008080; text-decoration-color: #008080; font-weight: bold\">17</span>-<span style=\"color: #008080; text-decoration-color: #008080; font-weight: bold\">05</span><span style=\"font-weight: bold\">]</span> Start Training scorp_side Epoch <span style=\"color: #008080; text-decoration-color: #008080; font-weight: bold\">50</span>/<span style=\"color: #008080; text-decoration-color: #008080; font-weight: bold\">50</span>, <span style=\"color: #808000; text-decoration-color: #808000\">lr</span>=<span style=\"color: #008080; text-decoration-color: #008080; font-weight: bold\">0.050000</span> <span style=\"color: #808000; text-decoration-color: #808000\">...</span>\n",
       "</pre>\n"
      ],
      "text/plain": [
       "==> \u001b[1m[\u001b[0m\u001b[1;36m2023\u001b[0m-\u001b[1;36m08\u001b[0m-27_05-\u001b[1;36m17\u001b[0m-\u001b[1;36m05\u001b[0m\u001b[1m]\u001b[0m Start Training scorp_side Epoch \u001b[1;36m50\u001b[0m/\u001b[1;36m50\u001b[0m, \u001b[33mlr\u001b[0m=\u001b[1;36m0\u001b[0m\u001b[1;36m.050000\u001b[0m \u001b[33m...\u001b[0m\n"
      ]
     },
     "metadata": {},
     "output_type": "display_data"
    },
    {
     "name": "stderr",
     "output_type": "stream",
     "text": [
      "loss=27.6484 (55.2793), lr=0.050000: : 100% 2400/2400 [00:57<00:00, 41.54it/s] \n"
     ]
    },
    {
     "data": {
      "text/html": [
       "<pre style=\"white-space:pre;overflow-x:auto;line-height:normal;font-family:Menlo,'DejaVu Sans Mono',consolas,'Courier New',monospace\">==&gt; <span style=\"font-weight: bold\">[</span><span style=\"color: #008080; text-decoration-color: #008080; font-weight: bold\">2023</span>-<span style=\"color: #008080; text-decoration-color: #008080; font-weight: bold\">08</span>-27_05-<span style=\"color: #008080; text-decoration-color: #008080; font-weight: bold\">18</span>-<span style=\"color: #008080; text-decoration-color: #008080; font-weight: bold\">03</span><span style=\"font-weight: bold\">]</span> Finished Epoch <span style=\"color: #008080; text-decoration-color: #008080; font-weight: bold\">50</span>/<span style=\"color: #008080; text-decoration-color: #008080; font-weight: bold\">50</span>. <span style=\"color: #808000; text-decoration-color: #808000\">CPU</span>=<span style=\"color: #008080; text-decoration-color: #008080; font-weight: bold\">11.</span>6GB, <span style=\"color: #808000; text-decoration-color: #808000\">GPU</span>=<span style=\"color: #008080; text-decoration-color: #008080; font-weight: bold\">79.</span>1GB.\n",
       "</pre>\n"
      ],
      "text/plain": [
       "==> \u001b[1m[\u001b[0m\u001b[1;36m2023\u001b[0m-\u001b[1;36m08\u001b[0m-27_05-\u001b[1;36m18\u001b[0m-\u001b[1;36m03\u001b[0m\u001b[1m]\u001b[0m Finished Epoch \u001b[1;36m50\u001b[0m/\u001b[1;36m50\u001b[0m. \u001b[33mCPU\u001b[0m=\u001b[1;36m11\u001b[0m\u001b[1;36m.\u001b[0m6GB, \u001b[33mGPU\u001b[0m=\u001b[1;36m79\u001b[0m\u001b[1;36m.\u001b[0m1GB.\n"
      ]
     },
     "metadata": {},
     "output_type": "display_data"
    },
    {
     "data": {
      "text/html": [
       "<pre style=\"white-space:pre;overflow-x:auto;line-height:normal;font-family:Menlo,'DejaVu Sans Mono',consolas,'Courier New',monospace\">++&gt; Evaluate scorp_side at epoch <span style=\"color: #008080; text-decoration-color: #008080; font-weight: bold\">50</span> <span style=\"color: #808000; text-decoration-color: #808000\">...</span>\n",
       "</pre>\n"
      ],
      "text/plain": [
       "++> Evaluate scorp_side at epoch \u001b[1;36m50\u001b[0m \u001b[33m...\u001b[0m\n"
      ]
     },
     "metadata": {},
     "output_type": "display_data"
    },
    {
     "name": "stderr",
     "output_type": "stream",
     "text": [
      "loss=0.0000 (0.0000): : 100% 8/8 [00:00<00:00, 18.55it/s]\n"
     ]
    },
    {
     "data": {
      "text/html": [
       "<pre style=\"white-space:pre;overflow-x:auto;line-height:normal;font-family:Menlo,'DejaVu Sans Mono',consolas,'Courier New',monospace\">++&gt; Evaluate epoch <span style=\"color: #008080; text-decoration-color: #008080; font-weight: bold\">50</span> Finished.\n",
       "</pre>\n"
      ],
      "text/plain": [
       "++> Evaluate epoch \u001b[1;36m50\u001b[0m Finished.\n"
      ]
     },
     "metadata": {},
     "output_type": "display_data"
    },
    {
     "data": {
      "text/html": [
       "<pre style=\"white-space:pre;overflow-x:auto;line-height:normal;font-family:Menlo,'DejaVu Sans Mono',consolas,'Courier New',monospace\">==&gt; Start Test, save results to scorp_side/results\n",
       "</pre>\n"
      ],
      "text/plain": [
       "==> Start Test, save results to scorp_side/results\n"
      ]
     },
     "metadata": {},
     "output_type": "display_data"
    },
    {
     "name": "stderr",
     "output_type": "stream",
     "text": [
      " 99% 99/100 [00:03<00:00, 25.27it/s]"
     ]
    },
    {
     "data": {
      "text/html": [
       "<pre style=\"white-space:pre;overflow-x:auto;line-height:normal;font-family:Menlo,'DejaVu Sans Mono',consolas,'Courier New',monospace\">==&gt; Finished Test.\n",
       "</pre>\n"
      ],
      "text/plain": [
       "==> Finished Test.\n"
      ]
     },
     "metadata": {},
     "output_type": "display_data"
    },
    {
     "name": "stderr",
     "output_type": "stream",
     "text": [
      "100% 100/100 [00:05<00:00, 16.75it/s]\n"
     ]
    },
    {
     "data": {
      "text/html": [
       "<pre style=\"white-space:pre;overflow-x:auto;line-height:normal;font-family:Menlo,'DejaVu Sans Mono',consolas,'Courier New',monospace\"><span style=\"font-weight: bold\">[</span>INFO<span style=\"font-weight: bold\">]</span> training takes <span style=\"color: #008080; text-decoration-color: #008080; font-weight: bold\">53.2554</span> minutes.\n",
       "</pre>\n"
      ],
      "text/plain": [
       "\u001b[1m[\u001b[0mINFO\u001b[1m]\u001b[0m training takes \u001b[1;36m53.2554\u001b[0m minutes.\n"
      ]
     },
     "metadata": {},
     "output_type": "display_data"
    }
   ],
   "source": [
    "\n",
    "#%run preprocess_image.py front.png\n",
    "\n",
    "## zero123 train\n",
    "# pass in the processed <image>_rgba.png by  --default_polar 20 --image and do NOT pass in --text to enable zero-1-to-3 backend.--default_polar 0\n",
    "%run main.py -O --image {image_path} --workspace {workspace}  --iters 5000 --test_interval 10 --batch_size {batch_size}"
   ]
  },
  {
   "cell_type": "code",
   "execution_count": 5,
   "metadata": {},
   "outputs": [
    {
     "name": "stdout",
     "output_type": "stream",
     "text": [
      "Namespace(file=None, text=None, negative='', O=True, O2=False, test=False, six_views=False, eval_interval=1, test_interval=5, workspace='scorp_side_dmtet', seed=None, image='/notebooks/threestudio/load/images/scorp_side_rgba.png', image_config=None, known_view_interval=4, IF=False, guidance=['zero123'], guidance_scale=5, save_mesh=False, mcubes_resolution=256, decimate_target=50000.0, dmtet=True, tet_grid_size=128, init_with='scorp_side/checkpoints/df.pth', lock_geo=False, perpneg=False, negative_w=-2, front_decay_factor=2, side_decay_factor=10, iters=10000, lr=0.001, ckpt='latest', cuda_ray=True, taichi_ray=False, max_steps=1024, num_steps=64, upsample_steps=32, update_extra_interval=16, max_ray_batch=4096, latent_iter_ratio=0, albedo_iter_ratio=0, min_ambient_ratio=0.1, textureless_ratio=0.2, jitter_pose=False, jitter_center=0.2, jitter_target=0.2, jitter_up=0.02, uniform_sphere_rate=0, grad_clip=-1, grad_clip_rgb=-1, bg_radius=1.4, density_activation='exp', density_thresh=10, blob_density=5, blob_radius=0.2, backbone='grid', optim='adan', sd_version='2.1', hf_key=None, fp16=True, vram_O=False, w=512, h=512, known_view_scale=1, known_view_noise_scale=0.002, dmtet_reso_scale=8, batch_size=24, bound=1, dt_gamma=0, min_near=0.01, radius_range=[3.0, 3.5], theta_range=[45, 105], phi_range=[-180, 180], fovy_range=[20, 20], default_radius=3.2, default_polar=90, default_azimuth=0, default_fovy=20, progressive_view=False, progressive_view_init_ratio=0.2, progressive_level=True, angle_overhead=30, angle_front=60, t_range=[0.02, 0.5], dont_override_stuff=False, lambda_entropy=1, lambda_opacity=0, lambda_orient=1, lambda_tv=0, lambda_wd=0, lambda_mesh_normal=0.5, lambda_mesh_laplacian=0.5, lambda_guidance=1, lambda_rgb=1000, lambda_mask=500, lambda_normal=0, lambda_depth=0, lambda_2d_normal_smooth=0, lambda_3d_normal_smooth=10, save_guidance=False, save_guidance_interval=10, gui=False, W=800, H=800, radius=5, fovy=20, light_theta=60, light_phi=0, max_spp=1, zero123_config='./pretrained/zero123/sd-objaverse-finetune-c_concat-256.yaml', zero123_ckpt='pretrained/zero123/zero123-xl.ckpt', zero123_grad_scale='angle', dataset_size_train=100, dataset_size_valid=8, dataset_size_test=100, exp_start_iter=0, exp_end_iter=10000, images=['/notebooks/threestudio/load/images/scorp_side_rgba.png'], ref_radii=[3.2], ref_polars=[90], ref_azimuths=[0], zero123_ws=[1], default_zero123_w=1)\n",
      "[INFO] init dmtet: scale = tensor([0.5063, 0.5063, 0.5687], device='cuda:0')\n",
      "NeRFNetwork(\n",
      "  (encoder): GridEncoder: input_dim=3 num_levels=16 level_dim=2 resolution=16 -> 2048 per_level_scale=1.3819 params=(6098120, 2) gridtype=hash align_corners=False interpolation=smoothstep\n",
      "  (sigma_net): MLP(\n",
      "    (net): ModuleList(\n",
      "      (0): Linear(in_features=32, out_features=64, bias=True)\n",
      "      (1): Linear(in_features=64, out_features=64, bias=True)\n",
      "      (2): Linear(in_features=64, out_features=4, bias=True)\n",
      "    )\n",
      "  )\n",
      "  (encoder_bg): FreqEncoder: input_dim=3 degree=6 output_dim=39\n",
      "  (bg_net): MLP(\n",
      "    (net): ModuleList(\n",
      "      (0): Linear(in_features=39, out_features=32, bias=True)\n",
      "      (1): Linear(in_features=32, out_features=3, bias=True)\n",
      "    )\n",
      "  )\n",
      ")\n",
      "LatentDiffusion: Running in eps-prediction mode\n",
      "DiffusionWrapper has 859.53 M params.\n",
      "Keeping EMAs of 688.\n",
      "making attention of type 'vanilla' with 512 in_channels\n",
      "Working with z of shape (1, 4, 32, 32) = 4096 dimensions.\n",
      "making attention of type 'vanilla' with 512 in_channels\n",
      "[INFO] dataset: load image prompt ['/notebooks/threestudio/load/images/scorp_side_rgba.png'] torch.Size([1, 3, 512, 512])\n",
      "[INFO] dataset: load depth prompt ['/notebooks/threestudio/load/images/scorp_side_depth.png'] torch.Size([1, 512, 512])\n",
      "[INFO] dataset: load normal prompt ['/notebooks/threestudio/load/images/scorp_side_normal.png'] torch.Size([1, 512, 512, 3])\n"
     ]
    },
    {
     "data": {
      "text/html": [
       "<pre style=\"white-space:pre;overflow-x:auto;line-height:normal;font-family:Menlo,'DejaVu Sans Mono',consolas,'Courier New',monospace\"><span style=\"font-weight: bold\">[</span>INFO<span style=\"font-weight: bold\">]</span> Cmdline: main.py -O --batch_size <span style=\"color: #008080; text-decoration-color: #008080; font-weight: bold\">24</span> --image <span style=\"color: #800080; text-decoration-color: #800080\">/notebooks/threestudio/load/images/</span><span style=\"color: #ff00ff; text-decoration-color: #ff00ff\">scorp_side_rgba.png</span> \n",
       "--test_interval <span style=\"color: #008080; text-decoration-color: #008080; font-weight: bold\">5</span> --workspace scorp_side_dmtet --dmtet --init_with scorp_side/checkpoints/df.pth\n",
       "</pre>\n"
      ],
      "text/plain": [
       "\u001b[1m[\u001b[0mINFO\u001b[1m]\u001b[0m Cmdline: main.py -O --batch_size \u001b[1;36m24\u001b[0m --image \u001b[35m/notebooks/threestudio/load/images/\u001b[0m\u001b[95mscorp_side_rgba.png\u001b[0m \n",
       "--test_interval \u001b[1;36m5\u001b[0m --workspace scorp_side_dmtet --dmtet --init_with scorp_side/checkpoints/df.pth\n"
      ]
     },
     "metadata": {},
     "output_type": "display_data"
    },
    {
     "data": {
      "text/html": [
       "<pre style=\"white-space:pre;overflow-x:auto;line-height:normal;font-family:Menlo,'DejaVu Sans Mono',consolas,'Courier New',monospace\"><span style=\"font-weight: bold\">[</span>INFO<span style=\"font-weight: bold\">]</span> opt: <span style=\"color: #800080; text-decoration-color: #800080; font-weight: bold\">Namespace</span><span style=\"font-weight: bold\">(</span><span style=\"color: #808000; text-decoration-color: #808000\">file</span>=<span style=\"color: #800080; text-decoration-color: #800080; font-style: italic\">None</span>, <span style=\"color: #808000; text-decoration-color: #808000\">text</span>=<span style=\"color: #800080; text-decoration-color: #800080; font-style: italic\">None</span>, <span style=\"color: #808000; text-decoration-color: #808000\">negative</span>=<span style=\"color: #008000; text-decoration-color: #008000\">''</span>, <span style=\"color: #808000; text-decoration-color: #808000\">O</span>=<span style=\"color: #00ff00; text-decoration-color: #00ff00; font-style: italic\">True</span>, <span style=\"color: #808000; text-decoration-color: #808000\">O2</span>=<span style=\"color: #ff0000; text-decoration-color: #ff0000; font-style: italic\">False</span>, <span style=\"color: #808000; text-decoration-color: #808000\">test</span>=<span style=\"color: #ff0000; text-decoration-color: #ff0000; font-style: italic\">False</span>, <span style=\"color: #808000; text-decoration-color: #808000\">six_views</span>=<span style=\"color: #ff0000; text-decoration-color: #ff0000; font-style: italic\">False</span>, \n",
       "<span style=\"color: #808000; text-decoration-color: #808000\">eval_interval</span>=<span style=\"color: #008080; text-decoration-color: #008080; font-weight: bold\">1</span>, <span style=\"color: #808000; text-decoration-color: #808000\">test_interval</span>=<span style=\"color: #008080; text-decoration-color: #008080; font-weight: bold\">5</span>, <span style=\"color: #808000; text-decoration-color: #808000\">workspace</span>=<span style=\"color: #008000; text-decoration-color: #008000\">'scorp_side_dmtet'</span>, <span style=\"color: #808000; text-decoration-color: #808000\">seed</span>=<span style=\"color: #800080; text-decoration-color: #800080; font-style: italic\">None</span>, \n",
       "<span style=\"color: #808000; text-decoration-color: #808000\">image</span>=<span style=\"color: #008000; text-decoration-color: #008000\">'/notebooks/threestudio/load/images/scorp_side_rgba.png'</span>, <span style=\"color: #808000; text-decoration-color: #808000\">image_config</span>=<span style=\"color: #800080; text-decoration-color: #800080; font-style: italic\">None</span>, <span style=\"color: #808000; text-decoration-color: #808000\">known_view_interval</span>=<span style=\"color: #008080; text-decoration-color: #008080; font-weight: bold\">4</span>, <span style=\"color: #808000; text-decoration-color: #808000\">IF</span>=<span style=\"color: #ff0000; text-decoration-color: #ff0000; font-style: italic\">False</span>,\n",
       "<span style=\"color: #808000; text-decoration-color: #808000\">guidance</span>=<span style=\"font-weight: bold\">[</span><span style=\"color: #008000; text-decoration-color: #008000\">'zero123'</span><span style=\"font-weight: bold\">]</span>, <span style=\"color: #808000; text-decoration-color: #808000\">guidance_scale</span>=<span style=\"color: #008080; text-decoration-color: #008080; font-weight: bold\">5</span>, <span style=\"color: #808000; text-decoration-color: #808000\">save_mesh</span>=<span style=\"color: #ff0000; text-decoration-color: #ff0000; font-style: italic\">False</span>, <span style=\"color: #808000; text-decoration-color: #808000\">mcubes_resolution</span>=<span style=\"color: #008080; text-decoration-color: #008080; font-weight: bold\">256</span>, <span style=\"color: #808000; text-decoration-color: #808000\">decimate_target</span>=<span style=\"color: #008080; text-decoration-color: #008080; font-weight: bold\">50000.0</span>, \n",
       "<span style=\"color: #808000; text-decoration-color: #808000\">dmtet</span>=<span style=\"color: #00ff00; text-decoration-color: #00ff00; font-style: italic\">True</span>, <span style=\"color: #808000; text-decoration-color: #808000\">tet_grid_size</span>=<span style=\"color: #008080; text-decoration-color: #008080; font-weight: bold\">128</span>, <span style=\"color: #808000; text-decoration-color: #808000\">init_with</span>=<span style=\"color: #008000; text-decoration-color: #008000\">'scorp_side/checkpoints/df.pth'</span>, <span style=\"color: #808000; text-decoration-color: #808000\">lock_geo</span>=<span style=\"color: #ff0000; text-decoration-color: #ff0000; font-style: italic\">False</span>, <span style=\"color: #808000; text-decoration-color: #808000\">perpneg</span>=<span style=\"color: #ff0000; text-decoration-color: #ff0000; font-style: italic\">False</span>, \n",
       "<span style=\"color: #808000; text-decoration-color: #808000\">negative_w</span>=<span style=\"color: #008080; text-decoration-color: #008080; font-weight: bold\">-2</span>, <span style=\"color: #808000; text-decoration-color: #808000\">front_decay_factor</span>=<span style=\"color: #008080; text-decoration-color: #008080; font-weight: bold\">2</span>, <span style=\"color: #808000; text-decoration-color: #808000\">side_decay_factor</span>=<span style=\"color: #008080; text-decoration-color: #008080; font-weight: bold\">10</span>, <span style=\"color: #808000; text-decoration-color: #808000\">iters</span>=<span style=\"color: #008080; text-decoration-color: #008080; font-weight: bold\">10000</span>, <span style=\"color: #808000; text-decoration-color: #808000\">lr</span>=<span style=\"color: #008080; text-decoration-color: #008080; font-weight: bold\">0.001</span>, <span style=\"color: #808000; text-decoration-color: #808000\">ckpt</span>=<span style=\"color: #008000; text-decoration-color: #008000\">'latest'</span>, <span style=\"color: #808000; text-decoration-color: #808000\">cuda_ray</span>=<span style=\"color: #00ff00; text-decoration-color: #00ff00; font-style: italic\">True</span>, \n",
       "<span style=\"color: #808000; text-decoration-color: #808000\">taichi_ray</span>=<span style=\"color: #ff0000; text-decoration-color: #ff0000; font-style: italic\">False</span>, <span style=\"color: #808000; text-decoration-color: #808000\">max_steps</span>=<span style=\"color: #008080; text-decoration-color: #008080; font-weight: bold\">1024</span>, <span style=\"color: #808000; text-decoration-color: #808000\">num_steps</span>=<span style=\"color: #008080; text-decoration-color: #008080; font-weight: bold\">64</span>, <span style=\"color: #808000; text-decoration-color: #808000\">upsample_steps</span>=<span style=\"color: #008080; text-decoration-color: #008080; font-weight: bold\">32</span>, <span style=\"color: #808000; text-decoration-color: #808000\">update_extra_interval</span>=<span style=\"color: #008080; text-decoration-color: #008080; font-weight: bold\">16</span>, <span style=\"color: #808000; text-decoration-color: #808000\">max_ray_batch</span>=<span style=\"color: #008080; text-decoration-color: #008080; font-weight: bold\">4096</span>, \n",
       "<span style=\"color: #808000; text-decoration-color: #808000\">latent_iter_ratio</span>=<span style=\"color: #008080; text-decoration-color: #008080; font-weight: bold\">0</span>, <span style=\"color: #808000; text-decoration-color: #808000\">albedo_iter_ratio</span>=<span style=\"color: #008080; text-decoration-color: #008080; font-weight: bold\">0</span>, <span style=\"color: #808000; text-decoration-color: #808000\">min_ambient_ratio</span>=<span style=\"color: #008080; text-decoration-color: #008080; font-weight: bold\">0.1</span>, <span style=\"color: #808000; text-decoration-color: #808000\">textureless_ratio</span>=<span style=\"color: #008080; text-decoration-color: #008080; font-weight: bold\">0.2</span>, <span style=\"color: #808000; text-decoration-color: #808000\">jitter_pose</span>=<span style=\"color: #ff0000; text-decoration-color: #ff0000; font-style: italic\">False</span>, \n",
       "<span style=\"color: #808000; text-decoration-color: #808000\">jitter_center</span>=<span style=\"color: #008080; text-decoration-color: #008080; font-weight: bold\">0.2</span>, <span style=\"color: #808000; text-decoration-color: #808000\">jitter_target</span>=<span style=\"color: #008080; text-decoration-color: #008080; font-weight: bold\">0.2</span>, <span style=\"color: #808000; text-decoration-color: #808000\">jitter_up</span>=<span style=\"color: #008080; text-decoration-color: #008080; font-weight: bold\">0.02</span>, <span style=\"color: #808000; text-decoration-color: #808000\">uniform_sphere_rate</span>=<span style=\"color: #008080; text-decoration-color: #008080; font-weight: bold\">0</span>, <span style=\"color: #808000; text-decoration-color: #808000\">grad_clip</span>=<span style=\"color: #008080; text-decoration-color: #008080; font-weight: bold\">-1</span>, <span style=\"color: #808000; text-decoration-color: #808000\">grad_clip_rgb</span>=<span style=\"color: #008080; text-decoration-color: #008080; font-weight: bold\">-1</span>, \n",
       "<span style=\"color: #808000; text-decoration-color: #808000\">bg_radius</span>=<span style=\"color: #008080; text-decoration-color: #008080; font-weight: bold\">1.4</span>, <span style=\"color: #808000; text-decoration-color: #808000\">density_activation</span>=<span style=\"color: #008000; text-decoration-color: #008000\">'exp'</span>, <span style=\"color: #808000; text-decoration-color: #808000\">density_thresh</span>=<span style=\"color: #008080; text-decoration-color: #008080; font-weight: bold\">10</span>, <span style=\"color: #808000; text-decoration-color: #808000\">blob_density</span>=<span style=\"color: #008080; text-decoration-color: #008080; font-weight: bold\">5</span>, <span style=\"color: #808000; text-decoration-color: #808000\">blob_radius</span>=<span style=\"color: #008080; text-decoration-color: #008080; font-weight: bold\">0.2</span>, <span style=\"color: #808000; text-decoration-color: #808000\">backbone</span>=<span style=\"color: #008000; text-decoration-color: #008000\">'grid'</span>, \n",
       "<span style=\"color: #808000; text-decoration-color: #808000\">optim</span>=<span style=\"color: #008000; text-decoration-color: #008000\">'adan'</span>, <span style=\"color: #808000; text-decoration-color: #808000\">sd_version</span>=<span style=\"color: #008000; text-decoration-color: #008000\">'2.1'</span>, <span style=\"color: #808000; text-decoration-color: #808000\">hf_key</span>=<span style=\"color: #800080; text-decoration-color: #800080; font-style: italic\">None</span>, <span style=\"color: #808000; text-decoration-color: #808000\">fp16</span>=<span style=\"color: #00ff00; text-decoration-color: #00ff00; font-style: italic\">True</span>, <span style=\"color: #808000; text-decoration-color: #808000\">vram_O</span>=<span style=\"color: #ff0000; text-decoration-color: #ff0000; font-style: italic\">False</span>, <span style=\"color: #808000; text-decoration-color: #808000\">w</span>=<span style=\"color: #008080; text-decoration-color: #008080; font-weight: bold\">512</span>, <span style=\"color: #808000; text-decoration-color: #808000\">h</span>=<span style=\"color: #008080; text-decoration-color: #008080; font-weight: bold\">512</span>, <span style=\"color: #808000; text-decoration-color: #808000\">known_view_scale</span>=<span style=\"color: #008080; text-decoration-color: #008080; font-weight: bold\">1</span>, \n",
       "<span style=\"color: #808000; text-decoration-color: #808000\">known_view_noise_scale</span>=<span style=\"color: #008080; text-decoration-color: #008080; font-weight: bold\">0.002</span>, <span style=\"color: #808000; text-decoration-color: #808000\">dmtet_reso_scale</span>=<span style=\"color: #008080; text-decoration-color: #008080; font-weight: bold\">8</span>, <span style=\"color: #808000; text-decoration-color: #808000\">batch_size</span>=<span style=\"color: #008080; text-decoration-color: #008080; font-weight: bold\">24</span>, <span style=\"color: #808000; text-decoration-color: #808000\">bound</span>=<span style=\"color: #008080; text-decoration-color: #008080; font-weight: bold\">1</span>, <span style=\"color: #808000; text-decoration-color: #808000\">dt_gamma</span>=<span style=\"color: #008080; text-decoration-color: #008080; font-weight: bold\">0</span>, <span style=\"color: #808000; text-decoration-color: #808000\">min_near</span>=<span style=\"color: #008080; text-decoration-color: #008080; font-weight: bold\">0.01</span>, \n",
       "<span style=\"color: #808000; text-decoration-color: #808000\">radius_range</span>=<span style=\"font-weight: bold\">[</span><span style=\"color: #008080; text-decoration-color: #008080; font-weight: bold\">3.0</span>, <span style=\"color: #008080; text-decoration-color: #008080; font-weight: bold\">3.5</span><span style=\"font-weight: bold\">]</span>, <span style=\"color: #808000; text-decoration-color: #808000\">theta_range</span>=<span style=\"font-weight: bold\">[</span><span style=\"color: #008080; text-decoration-color: #008080; font-weight: bold\">45</span>, <span style=\"color: #008080; text-decoration-color: #008080; font-weight: bold\">105</span><span style=\"font-weight: bold\">]</span>, <span style=\"color: #808000; text-decoration-color: #808000\">phi_range</span>=<span style=\"font-weight: bold\">[</span><span style=\"color: #008080; text-decoration-color: #008080; font-weight: bold\">-180</span>, <span style=\"color: #008080; text-decoration-color: #008080; font-weight: bold\">180</span><span style=\"font-weight: bold\">]</span>, <span style=\"color: #808000; text-decoration-color: #808000\">fovy_range</span>=<span style=\"font-weight: bold\">[</span><span style=\"color: #008080; text-decoration-color: #008080; font-weight: bold\">20</span>, <span style=\"color: #008080; text-decoration-color: #008080; font-weight: bold\">20</span><span style=\"font-weight: bold\">]</span>, <span style=\"color: #808000; text-decoration-color: #808000\">default_radius</span>=<span style=\"color: #008080; text-decoration-color: #008080; font-weight: bold\">3.2</span>, \n",
       "<span style=\"color: #808000; text-decoration-color: #808000\">default_polar</span>=<span style=\"color: #008080; text-decoration-color: #008080; font-weight: bold\">90</span>, <span style=\"color: #808000; text-decoration-color: #808000\">default_azimuth</span>=<span style=\"color: #008080; text-decoration-color: #008080; font-weight: bold\">0</span>, <span style=\"color: #808000; text-decoration-color: #808000\">default_fovy</span>=<span style=\"color: #008080; text-decoration-color: #008080; font-weight: bold\">20</span>, <span style=\"color: #808000; text-decoration-color: #808000\">progressive_view</span>=<span style=\"color: #ff0000; text-decoration-color: #ff0000; font-style: italic\">False</span>, <span style=\"color: #808000; text-decoration-color: #808000\">progressive_view_init_ratio</span>=<span style=\"color: #008080; text-decoration-color: #008080; font-weight: bold\">0.2</span>, \n",
       "<span style=\"color: #808000; text-decoration-color: #808000\">progressive_level</span>=<span style=\"color: #00ff00; text-decoration-color: #00ff00; font-style: italic\">True</span>, <span style=\"color: #808000; text-decoration-color: #808000\">angle_overhead</span>=<span style=\"color: #008080; text-decoration-color: #008080; font-weight: bold\">30</span>, <span style=\"color: #808000; text-decoration-color: #808000\">angle_front</span>=<span style=\"color: #008080; text-decoration-color: #008080; font-weight: bold\">60</span>, <span style=\"color: #808000; text-decoration-color: #808000\">t_range</span>=<span style=\"font-weight: bold\">[</span><span style=\"color: #008080; text-decoration-color: #008080; font-weight: bold\">0.02</span>, <span style=\"color: #008080; text-decoration-color: #008080; font-weight: bold\">0.5</span><span style=\"font-weight: bold\">]</span>, <span style=\"color: #808000; text-decoration-color: #808000\">dont_override_stuff</span>=<span style=\"color: #ff0000; text-decoration-color: #ff0000; font-style: italic\">False</span>, \n",
       "<span style=\"color: #808000; text-decoration-color: #808000\">lambda_entropy</span>=<span style=\"color: #008080; text-decoration-color: #008080; font-weight: bold\">1</span>, <span style=\"color: #808000; text-decoration-color: #808000\">lambda_opacity</span>=<span style=\"color: #008080; text-decoration-color: #008080; font-weight: bold\">0</span>, <span style=\"color: #808000; text-decoration-color: #808000\">lambda_orient</span>=<span style=\"color: #008080; text-decoration-color: #008080; font-weight: bold\">1</span>, <span style=\"color: #808000; text-decoration-color: #808000\">lambda_tv</span>=<span style=\"color: #008080; text-decoration-color: #008080; font-weight: bold\">0</span>, <span style=\"color: #808000; text-decoration-color: #808000\">lambda_wd</span>=<span style=\"color: #008080; text-decoration-color: #008080; font-weight: bold\">0</span>, <span style=\"color: #808000; text-decoration-color: #808000\">lambda_mesh_normal</span>=<span style=\"color: #008080; text-decoration-color: #008080; font-weight: bold\">0.5</span>, \n",
       "<span style=\"color: #808000; text-decoration-color: #808000\">lambda_mesh_laplacian</span>=<span style=\"color: #008080; text-decoration-color: #008080; font-weight: bold\">0.5</span>, <span style=\"color: #808000; text-decoration-color: #808000\">lambda_guidance</span>=<span style=\"color: #008080; text-decoration-color: #008080; font-weight: bold\">1</span>, <span style=\"color: #808000; text-decoration-color: #808000\">lambda_rgb</span>=<span style=\"color: #008080; text-decoration-color: #008080; font-weight: bold\">1000</span>, <span style=\"color: #808000; text-decoration-color: #808000\">lambda_mask</span>=<span style=\"color: #008080; text-decoration-color: #008080; font-weight: bold\">500</span>, <span style=\"color: #808000; text-decoration-color: #808000\">lambda_normal</span>=<span style=\"color: #008080; text-decoration-color: #008080; font-weight: bold\">0</span>, <span style=\"color: #808000; text-decoration-color: #808000\">lambda_depth</span>=<span style=\"color: #008080; text-decoration-color: #008080; font-weight: bold\">0</span>, \n",
       "<span style=\"color: #808000; text-decoration-color: #808000\">lambda_2d_normal_smooth</span>=<span style=\"color: #008080; text-decoration-color: #008080; font-weight: bold\">0</span>, <span style=\"color: #808000; text-decoration-color: #808000\">lambda_3d_normal_smooth</span>=<span style=\"color: #008080; text-decoration-color: #008080; font-weight: bold\">10</span>, <span style=\"color: #808000; text-decoration-color: #808000\">save_guidance</span>=<span style=\"color: #ff0000; text-decoration-color: #ff0000; font-style: italic\">False</span>, <span style=\"color: #808000; text-decoration-color: #808000\">save_guidance_interval</span>=<span style=\"color: #008080; text-decoration-color: #008080; font-weight: bold\">10</span>, <span style=\"color: #808000; text-decoration-color: #808000\">gui</span>=<span style=\"color: #ff0000; text-decoration-color: #ff0000; font-style: italic\">False</span>, \n",
       "<span style=\"color: #808000; text-decoration-color: #808000\">W</span>=<span style=\"color: #008080; text-decoration-color: #008080; font-weight: bold\">800</span>, <span style=\"color: #808000; text-decoration-color: #808000\">H</span>=<span style=\"color: #008080; text-decoration-color: #008080; font-weight: bold\">800</span>, <span style=\"color: #808000; text-decoration-color: #808000\">radius</span>=<span style=\"color: #008080; text-decoration-color: #008080; font-weight: bold\">5</span>, <span style=\"color: #808000; text-decoration-color: #808000\">fovy</span>=<span style=\"color: #008080; text-decoration-color: #008080; font-weight: bold\">20</span>, <span style=\"color: #808000; text-decoration-color: #808000\">light_theta</span>=<span style=\"color: #008080; text-decoration-color: #008080; font-weight: bold\">60</span>, <span style=\"color: #808000; text-decoration-color: #808000\">light_phi</span>=<span style=\"color: #008080; text-decoration-color: #008080; font-weight: bold\">0</span>, <span style=\"color: #808000; text-decoration-color: #808000\">max_spp</span>=<span style=\"color: #008080; text-decoration-color: #008080; font-weight: bold\">1</span>, \n",
       "<span style=\"color: #808000; text-decoration-color: #808000\">zero123_config</span>=<span style=\"color: #008000; text-decoration-color: #008000\">'./pretrained/zero123/sd-objaverse-finetune-c_concat-256.yaml'</span>, \n",
       "<span style=\"color: #808000; text-decoration-color: #808000\">zero123_ckpt</span>=<span style=\"color: #008000; text-decoration-color: #008000\">'pretrained/zero123/zero123-xl.ckpt'</span>, <span style=\"color: #808000; text-decoration-color: #808000\">zero123_grad_scale</span>=<span style=\"color: #008000; text-decoration-color: #008000\">'angle'</span>, <span style=\"color: #808000; text-decoration-color: #808000\">dataset_size_train</span>=<span style=\"color: #008080; text-decoration-color: #008080; font-weight: bold\">100</span>, \n",
       "<span style=\"color: #808000; text-decoration-color: #808000\">dataset_size_valid</span>=<span style=\"color: #008080; text-decoration-color: #008080; font-weight: bold\">8</span>, <span style=\"color: #808000; text-decoration-color: #808000\">dataset_size_test</span>=<span style=\"color: #008080; text-decoration-color: #008080; font-weight: bold\">100</span>, <span style=\"color: #808000; text-decoration-color: #808000\">exp_start_iter</span>=<span style=\"color: #008080; text-decoration-color: #008080; font-weight: bold\">0</span>, <span style=\"color: #808000; text-decoration-color: #808000\">exp_end_iter</span>=<span style=\"color: #008080; text-decoration-color: #008080; font-weight: bold\">10000</span>, \n",
       "<span style=\"color: #808000; text-decoration-color: #808000\">images</span>=<span style=\"font-weight: bold\">[</span><span style=\"color: #008000; text-decoration-color: #008000\">'/notebooks/threestudio/load/images/scorp_side_rgba.png'</span><span style=\"font-weight: bold\">]</span>, <span style=\"color: #808000; text-decoration-color: #808000\">ref_radii</span>=<span style=\"font-weight: bold\">[</span><span style=\"color: #008080; text-decoration-color: #008080; font-weight: bold\">3.2</span><span style=\"font-weight: bold\">]</span>, <span style=\"color: #808000; text-decoration-color: #808000\">ref_polars</span>=<span style=\"font-weight: bold\">[</span><span style=\"color: #008080; text-decoration-color: #008080; font-weight: bold\">90</span><span style=\"font-weight: bold\">]</span>, \n",
       "<span style=\"color: #808000; text-decoration-color: #808000\">ref_azimuths</span>=<span style=\"font-weight: bold\">[</span><span style=\"color: #008080; text-decoration-color: #008080; font-weight: bold\">0</span><span style=\"font-weight: bold\">]</span>, <span style=\"color: #808000; text-decoration-color: #808000\">zero123_ws</span>=<span style=\"font-weight: bold\">[</span><span style=\"color: #008080; text-decoration-color: #008080; font-weight: bold\">1</span><span style=\"font-weight: bold\">]</span>, <span style=\"color: #808000; text-decoration-color: #808000\">default_zero123_w</span>=<span style=\"color: #008080; text-decoration-color: #008080; font-weight: bold\">1</span><span style=\"font-weight: bold\">)</span>\n",
       "</pre>\n"
      ],
      "text/plain": [
       "\u001b[1m[\u001b[0mINFO\u001b[1m]\u001b[0m opt: \u001b[1;35mNamespace\u001b[0m\u001b[1m(\u001b[0m\u001b[33mfile\u001b[0m=\u001b[3;35mNone\u001b[0m, \u001b[33mtext\u001b[0m=\u001b[3;35mNone\u001b[0m, \u001b[33mnegative\u001b[0m=\u001b[32m''\u001b[0m, \u001b[33mO\u001b[0m=\u001b[3;92mTrue\u001b[0m, \u001b[33mO2\u001b[0m=\u001b[3;91mFalse\u001b[0m, \u001b[33mtest\u001b[0m=\u001b[3;91mFalse\u001b[0m, \u001b[33msix_views\u001b[0m=\u001b[3;91mFalse\u001b[0m, \n",
       "\u001b[33meval_interval\u001b[0m=\u001b[1;36m1\u001b[0m, \u001b[33mtest_interval\u001b[0m=\u001b[1;36m5\u001b[0m, \u001b[33mworkspace\u001b[0m=\u001b[32m'scorp_side_dmtet'\u001b[0m, \u001b[33mseed\u001b[0m=\u001b[3;35mNone\u001b[0m, \n",
       "\u001b[33mimage\u001b[0m=\u001b[32m'/notebooks/threestudio/load/images/scorp_side_rgba.png'\u001b[0m, \u001b[33mimage_config\u001b[0m=\u001b[3;35mNone\u001b[0m, \u001b[33mknown_view_interval\u001b[0m=\u001b[1;36m4\u001b[0m, \u001b[33mIF\u001b[0m=\u001b[3;91mFalse\u001b[0m,\n",
       "\u001b[33mguidance\u001b[0m=\u001b[1m[\u001b[0m\u001b[32m'zero123'\u001b[0m\u001b[1m]\u001b[0m, \u001b[33mguidance_scale\u001b[0m=\u001b[1;36m5\u001b[0m, \u001b[33msave_mesh\u001b[0m=\u001b[3;91mFalse\u001b[0m, \u001b[33mmcubes_resolution\u001b[0m=\u001b[1;36m256\u001b[0m, \u001b[33mdecimate_target\u001b[0m=\u001b[1;36m50000\u001b[0m\u001b[1;36m.0\u001b[0m, \n",
       "\u001b[33mdmtet\u001b[0m=\u001b[3;92mTrue\u001b[0m, \u001b[33mtet_grid_size\u001b[0m=\u001b[1;36m128\u001b[0m, \u001b[33minit_with\u001b[0m=\u001b[32m'scorp_side/checkpoints/df.pth'\u001b[0m, \u001b[33mlock_geo\u001b[0m=\u001b[3;91mFalse\u001b[0m, \u001b[33mperpneg\u001b[0m=\u001b[3;91mFalse\u001b[0m, \n",
       "\u001b[33mnegative_w\u001b[0m=\u001b[1;36m-2\u001b[0m, \u001b[33mfront_decay_factor\u001b[0m=\u001b[1;36m2\u001b[0m, \u001b[33mside_decay_factor\u001b[0m=\u001b[1;36m10\u001b[0m, \u001b[33miters\u001b[0m=\u001b[1;36m10000\u001b[0m, \u001b[33mlr\u001b[0m=\u001b[1;36m0\u001b[0m\u001b[1;36m.001\u001b[0m, \u001b[33mckpt\u001b[0m=\u001b[32m'latest'\u001b[0m, \u001b[33mcuda_ray\u001b[0m=\u001b[3;92mTrue\u001b[0m, \n",
       "\u001b[33mtaichi_ray\u001b[0m=\u001b[3;91mFalse\u001b[0m, \u001b[33mmax_steps\u001b[0m=\u001b[1;36m1024\u001b[0m, \u001b[33mnum_steps\u001b[0m=\u001b[1;36m64\u001b[0m, \u001b[33mupsample_steps\u001b[0m=\u001b[1;36m32\u001b[0m, \u001b[33mupdate_extra_interval\u001b[0m=\u001b[1;36m16\u001b[0m, \u001b[33mmax_ray_batch\u001b[0m=\u001b[1;36m4096\u001b[0m, \n",
       "\u001b[33mlatent_iter_ratio\u001b[0m=\u001b[1;36m0\u001b[0m, \u001b[33malbedo_iter_ratio\u001b[0m=\u001b[1;36m0\u001b[0m, \u001b[33mmin_ambient_ratio\u001b[0m=\u001b[1;36m0\u001b[0m\u001b[1;36m.1\u001b[0m, \u001b[33mtextureless_ratio\u001b[0m=\u001b[1;36m0\u001b[0m\u001b[1;36m.2\u001b[0m, \u001b[33mjitter_pose\u001b[0m=\u001b[3;91mFalse\u001b[0m, \n",
       "\u001b[33mjitter_center\u001b[0m=\u001b[1;36m0\u001b[0m\u001b[1;36m.2\u001b[0m, \u001b[33mjitter_target\u001b[0m=\u001b[1;36m0\u001b[0m\u001b[1;36m.2\u001b[0m, \u001b[33mjitter_up\u001b[0m=\u001b[1;36m0\u001b[0m\u001b[1;36m.02\u001b[0m, \u001b[33muniform_sphere_rate\u001b[0m=\u001b[1;36m0\u001b[0m, \u001b[33mgrad_clip\u001b[0m=\u001b[1;36m-1\u001b[0m, \u001b[33mgrad_clip_rgb\u001b[0m=\u001b[1;36m-1\u001b[0m, \n",
       "\u001b[33mbg_radius\u001b[0m=\u001b[1;36m1\u001b[0m\u001b[1;36m.4\u001b[0m, \u001b[33mdensity_activation\u001b[0m=\u001b[32m'exp'\u001b[0m, \u001b[33mdensity_thresh\u001b[0m=\u001b[1;36m10\u001b[0m, \u001b[33mblob_density\u001b[0m=\u001b[1;36m5\u001b[0m, \u001b[33mblob_radius\u001b[0m=\u001b[1;36m0\u001b[0m\u001b[1;36m.2\u001b[0m, \u001b[33mbackbone\u001b[0m=\u001b[32m'grid'\u001b[0m, \n",
       "\u001b[33moptim\u001b[0m=\u001b[32m'adan'\u001b[0m, \u001b[33msd_version\u001b[0m=\u001b[32m'2.1'\u001b[0m, \u001b[33mhf_key\u001b[0m=\u001b[3;35mNone\u001b[0m, \u001b[33mfp16\u001b[0m=\u001b[3;92mTrue\u001b[0m, \u001b[33mvram_O\u001b[0m=\u001b[3;91mFalse\u001b[0m, \u001b[33mw\u001b[0m=\u001b[1;36m512\u001b[0m, \u001b[33mh\u001b[0m=\u001b[1;36m512\u001b[0m, \u001b[33mknown_view_scale\u001b[0m=\u001b[1;36m1\u001b[0m, \n",
       "\u001b[33mknown_view_noise_scale\u001b[0m=\u001b[1;36m0\u001b[0m\u001b[1;36m.002\u001b[0m, \u001b[33mdmtet_reso_scale\u001b[0m=\u001b[1;36m8\u001b[0m, \u001b[33mbatch_size\u001b[0m=\u001b[1;36m24\u001b[0m, \u001b[33mbound\u001b[0m=\u001b[1;36m1\u001b[0m, \u001b[33mdt_gamma\u001b[0m=\u001b[1;36m0\u001b[0m, \u001b[33mmin_near\u001b[0m=\u001b[1;36m0\u001b[0m\u001b[1;36m.01\u001b[0m, \n",
       "\u001b[33mradius_range\u001b[0m=\u001b[1m[\u001b[0m\u001b[1;36m3.0\u001b[0m, \u001b[1;36m3.5\u001b[0m\u001b[1m]\u001b[0m, \u001b[33mtheta_range\u001b[0m=\u001b[1m[\u001b[0m\u001b[1;36m45\u001b[0m, \u001b[1;36m105\u001b[0m\u001b[1m]\u001b[0m, \u001b[33mphi_range\u001b[0m=\u001b[1m[\u001b[0m\u001b[1;36m-180\u001b[0m, \u001b[1;36m180\u001b[0m\u001b[1m]\u001b[0m, \u001b[33mfovy_range\u001b[0m=\u001b[1m[\u001b[0m\u001b[1;36m20\u001b[0m, \u001b[1;36m20\u001b[0m\u001b[1m]\u001b[0m, \u001b[33mdefault_radius\u001b[0m=\u001b[1;36m3\u001b[0m\u001b[1;36m.2\u001b[0m, \n",
       "\u001b[33mdefault_polar\u001b[0m=\u001b[1;36m90\u001b[0m, \u001b[33mdefault_azimuth\u001b[0m=\u001b[1;36m0\u001b[0m, \u001b[33mdefault_fovy\u001b[0m=\u001b[1;36m20\u001b[0m, \u001b[33mprogressive_view\u001b[0m=\u001b[3;91mFalse\u001b[0m, \u001b[33mprogressive_view_init_ratio\u001b[0m=\u001b[1;36m0\u001b[0m\u001b[1;36m.2\u001b[0m, \n",
       "\u001b[33mprogressive_level\u001b[0m=\u001b[3;92mTrue\u001b[0m, \u001b[33mangle_overhead\u001b[0m=\u001b[1;36m30\u001b[0m, \u001b[33mangle_front\u001b[0m=\u001b[1;36m60\u001b[0m, \u001b[33mt_range\u001b[0m=\u001b[1m[\u001b[0m\u001b[1;36m0.02\u001b[0m, \u001b[1;36m0.5\u001b[0m\u001b[1m]\u001b[0m, \u001b[33mdont_override_stuff\u001b[0m=\u001b[3;91mFalse\u001b[0m, \n",
       "\u001b[33mlambda_entropy\u001b[0m=\u001b[1;36m1\u001b[0m, \u001b[33mlambda_opacity\u001b[0m=\u001b[1;36m0\u001b[0m, \u001b[33mlambda_orient\u001b[0m=\u001b[1;36m1\u001b[0m, \u001b[33mlambda_tv\u001b[0m=\u001b[1;36m0\u001b[0m, \u001b[33mlambda_wd\u001b[0m=\u001b[1;36m0\u001b[0m, \u001b[33mlambda_mesh_normal\u001b[0m=\u001b[1;36m0\u001b[0m\u001b[1;36m.5\u001b[0m, \n",
       "\u001b[33mlambda_mesh_laplacian\u001b[0m=\u001b[1;36m0\u001b[0m\u001b[1;36m.5\u001b[0m, \u001b[33mlambda_guidance\u001b[0m=\u001b[1;36m1\u001b[0m, \u001b[33mlambda_rgb\u001b[0m=\u001b[1;36m1000\u001b[0m, \u001b[33mlambda_mask\u001b[0m=\u001b[1;36m500\u001b[0m, \u001b[33mlambda_normal\u001b[0m=\u001b[1;36m0\u001b[0m, \u001b[33mlambda_depth\u001b[0m=\u001b[1;36m0\u001b[0m, \n",
       "\u001b[33mlambda_2d_normal_smooth\u001b[0m=\u001b[1;36m0\u001b[0m, \u001b[33mlambda_3d_normal_smooth\u001b[0m=\u001b[1;36m10\u001b[0m, \u001b[33msave_guidance\u001b[0m=\u001b[3;91mFalse\u001b[0m, \u001b[33msave_guidance_interval\u001b[0m=\u001b[1;36m10\u001b[0m, \u001b[33mgui\u001b[0m=\u001b[3;91mFalse\u001b[0m, \n",
       "\u001b[33mW\u001b[0m=\u001b[1;36m800\u001b[0m, \u001b[33mH\u001b[0m=\u001b[1;36m800\u001b[0m, \u001b[33mradius\u001b[0m=\u001b[1;36m5\u001b[0m, \u001b[33mfovy\u001b[0m=\u001b[1;36m20\u001b[0m, \u001b[33mlight_theta\u001b[0m=\u001b[1;36m60\u001b[0m, \u001b[33mlight_phi\u001b[0m=\u001b[1;36m0\u001b[0m, \u001b[33mmax_spp\u001b[0m=\u001b[1;36m1\u001b[0m, \n",
       "\u001b[33mzero123_config\u001b[0m=\u001b[32m'./pretrained/zero123/sd-objaverse-finetune-c_concat-256.yaml'\u001b[0m, \n",
       "\u001b[33mzero123_ckpt\u001b[0m=\u001b[32m'pretrained/zero123/zero123-xl.ckpt'\u001b[0m, \u001b[33mzero123_grad_scale\u001b[0m=\u001b[32m'angle'\u001b[0m, \u001b[33mdataset_size_train\u001b[0m=\u001b[1;36m100\u001b[0m, \n",
       "\u001b[33mdataset_size_valid\u001b[0m=\u001b[1;36m8\u001b[0m, \u001b[33mdataset_size_test\u001b[0m=\u001b[1;36m100\u001b[0m, \u001b[33mexp_start_iter\u001b[0m=\u001b[1;36m0\u001b[0m, \u001b[33mexp_end_iter\u001b[0m=\u001b[1;36m10000\u001b[0m, \n",
       "\u001b[33mimages\u001b[0m=\u001b[1m[\u001b[0m\u001b[32m'/notebooks/threestudio/load/images/scorp_side_rgba.png'\u001b[0m\u001b[1m]\u001b[0m, \u001b[33mref_radii\u001b[0m=\u001b[1m[\u001b[0m\u001b[1;36m3.2\u001b[0m\u001b[1m]\u001b[0m, \u001b[33mref_polars\u001b[0m=\u001b[1m[\u001b[0m\u001b[1;36m90\u001b[0m\u001b[1m]\u001b[0m, \n",
       "\u001b[33mref_azimuths\u001b[0m=\u001b[1m[\u001b[0m\u001b[1;36m0\u001b[0m\u001b[1m]\u001b[0m, \u001b[33mzero123_ws\u001b[0m=\u001b[1m[\u001b[0m\u001b[1;36m1\u001b[0m\u001b[1m]\u001b[0m, \u001b[33mdefault_zero123_w\u001b[0m=\u001b[1;36m1\u001b[0m\u001b[1m)\u001b[0m\n"
      ]
     },
     "metadata": {},
     "output_type": "display_data"
    },
    {
     "data": {
      "text/html": [
       "<pre style=\"white-space:pre;overflow-x:auto;line-height:normal;font-family:Menlo,'DejaVu Sans Mono',consolas,'Courier New',monospace\"><span style=\"font-weight: bold\">[</span>INFO<span style=\"font-weight: bold\">]</span> Trainer: df | <span style=\"color: #008080; text-decoration-color: #008080; font-weight: bold\">2023</span>-<span style=\"color: #008080; text-decoration-color: #008080; font-weight: bold\">08</span>-27_05-<span style=\"color: #008080; text-decoration-color: #008080; font-weight: bold\">37</span>-<span style=\"color: #008080; text-decoration-color: #008080; font-weight: bold\">42</span> | cuda | fp16 | scorp_side_dmtet\n",
       "</pre>\n"
      ],
      "text/plain": [
       "\u001b[1m[\u001b[0mINFO\u001b[1m]\u001b[0m Trainer: df | \u001b[1;36m2023\u001b[0m-\u001b[1;36m08\u001b[0m-27_05-\u001b[1;36m37\u001b[0m-\u001b[1;36m42\u001b[0m | cuda | fp16 | scorp_side_dmtet\n"
      ]
     },
     "metadata": {},
     "output_type": "display_data"
    },
    {
     "data": {
      "text/html": [
       "<pre style=\"white-space:pre;overflow-x:auto;line-height:normal;font-family:Menlo,'DejaVu Sans Mono',consolas,'Courier New',monospace\"><span style=\"font-weight: bold\">[</span>INFO<span style=\"font-weight: bold\">]</span> #parameters: <span style=\"color: #008080; text-decoration-color: #008080; font-weight: bold\">13313791</span>\n",
       "</pre>\n"
      ],
      "text/plain": [
       "\u001b[1m[\u001b[0mINFO\u001b[1m]\u001b[0m #parameters: \u001b[1;36m13313791\u001b[0m\n"
      ]
     },
     "metadata": {},
     "output_type": "display_data"
    },
    {
     "data": {
      "text/html": [
       "<pre style=\"white-space:pre;overflow-x:auto;line-height:normal;font-family:Menlo,'DejaVu Sans Mono',consolas,'Courier New',monospace\"><span style=\"font-weight: bold\">[</span>INFO<span style=\"font-weight: bold\">]</span> Loading latest checkpoint <span style=\"color: #808000; text-decoration-color: #808000\">...</span>\n",
       "</pre>\n"
      ],
      "text/plain": [
       "\u001b[1m[\u001b[0mINFO\u001b[1m]\u001b[0m Loading latest checkpoint \u001b[33m...\u001b[0m\n"
      ]
     },
     "metadata": {},
     "output_type": "display_data"
    },
    {
     "data": {
      "text/html": [
       "<pre style=\"white-space:pre;overflow-x:auto;line-height:normal;font-family:Menlo,'DejaVu Sans Mono',consolas,'Courier New',monospace\"><span style=\"font-weight: bold\">[</span>WARN<span style=\"font-weight: bold\">]</span> No checkpoint found, model randomly initialized.\n",
       "</pre>\n"
      ],
      "text/plain": [
       "\u001b[1m[\u001b[0mWARN\u001b[1m]\u001b[0m No checkpoint found, model randomly initialized.\n"
      ]
     },
     "metadata": {},
     "output_type": "display_data"
    },
    {
     "data": {
      "text/html": [
       "<pre style=\"white-space:pre;overflow-x:auto;line-height:normal;font-family:Menlo,'DejaVu Sans Mono',consolas,'Courier New',monospace\">==&gt; <span style=\"font-weight: bold\">[</span><span style=\"color: #008080; text-decoration-color: #008080; font-weight: bold\">2023</span>-<span style=\"color: #008080; text-decoration-color: #008080; font-weight: bold\">08</span>-27_05-<span style=\"color: #008080; text-decoration-color: #008080; font-weight: bold\">37</span>-<span style=\"color: #008080; text-decoration-color: #008080; font-weight: bold\">43</span><span style=\"font-weight: bold\">]</span> Start Training scorp_side_dmtet Epoch <span style=\"color: #008080; text-decoration-color: #008080; font-weight: bold\">1</span>/<span style=\"color: #008080; text-decoration-color: #008080; font-weight: bold\">100</span>, <span style=\"color: #808000; text-decoration-color: #808000\">lr</span>=<span style=\"color: #008080; text-decoration-color: #008080; font-weight: bold\">0.050000</span> <span style=\"color: #808000; text-decoration-color: #808000\">...</span>\n",
       "</pre>\n"
      ],
      "text/plain": [
       "==> \u001b[1m[\u001b[0m\u001b[1;36m2023\u001b[0m-\u001b[1;36m08\u001b[0m-27_05-\u001b[1;36m37\u001b[0m-\u001b[1;36m43\u001b[0m\u001b[1m]\u001b[0m Start Training scorp_side_dmtet Epoch \u001b[1;36m1\u001b[0m/\u001b[1;36m100\u001b[0m, \u001b[33mlr\u001b[0m=\u001b[1;36m0\u001b[0m\u001b[1;36m.050000\u001b[0m \u001b[33m...\u001b[0m\n"
      ]
     },
     "metadata": {},
     "output_type": "display_data"
    },
    {
     "name": "stderr",
     "output_type": "stream",
     "text": [
      "loss=24.2652 (39.7783), lr=0.050000: : 100% 2400/2400 [00:41<00:00, 57.97it/s]\n"
     ]
    },
    {
     "data": {
      "text/html": [
       "<pre style=\"white-space:pre;overflow-x:auto;line-height:normal;font-family:Menlo,'DejaVu Sans Mono',consolas,'Courier New',monospace\">==&gt; <span style=\"font-weight: bold\">[</span><span style=\"color: #008080; text-decoration-color: #008080; font-weight: bold\">2023</span>-<span style=\"color: #008080; text-decoration-color: #008080; font-weight: bold\">08</span>-27_05-<span style=\"color: #008080; text-decoration-color: #008080; font-weight: bold\">38</span>-<span style=\"color: #008080; text-decoration-color: #008080; font-weight: bold\">24</span><span style=\"font-weight: bold\">]</span> Finished Epoch <span style=\"color: #008080; text-decoration-color: #008080; font-weight: bold\">1</span>/<span style=\"color: #008080; text-decoration-color: #008080; font-weight: bold\">100</span>. <span style=\"color: #808000; text-decoration-color: #808000\">CPU</span>=<span style=\"color: #008080; text-decoration-color: #008080; font-weight: bold\">18.</span>7GB, <span style=\"color: #808000; text-decoration-color: #808000\">GPU</span>=<span style=\"color: #008080; text-decoration-color: #008080; font-weight: bold\">42.</span>5GB.\n",
       "</pre>\n"
      ],
      "text/plain": [
       "==> \u001b[1m[\u001b[0m\u001b[1;36m2023\u001b[0m-\u001b[1;36m08\u001b[0m-27_05-\u001b[1;36m38\u001b[0m-\u001b[1;36m24\u001b[0m\u001b[1m]\u001b[0m Finished Epoch \u001b[1;36m1\u001b[0m/\u001b[1;36m100\u001b[0m. \u001b[33mCPU\u001b[0m=\u001b[1;36m18\u001b[0m\u001b[1;36m.\u001b[0m7GB, \u001b[33mGPU\u001b[0m=\u001b[1;36m42\u001b[0m\u001b[1;36m.\u001b[0m5GB.\n"
      ]
     },
     "metadata": {},
     "output_type": "display_data"
    },
    {
     "data": {
      "text/html": [
       "<pre style=\"white-space:pre;overflow-x:auto;line-height:normal;font-family:Menlo,'DejaVu Sans Mono',consolas,'Courier New',monospace\">++&gt; Evaluate scorp_side_dmtet at epoch <span style=\"color: #008080; text-decoration-color: #008080; font-weight: bold\">1</span> <span style=\"color: #808000; text-decoration-color: #808000\">...</span>\n",
       "</pre>\n"
      ],
      "text/plain": [
       "++> Evaluate scorp_side_dmtet at epoch \u001b[1;36m1\u001b[0m \u001b[33m...\u001b[0m\n"
      ]
     },
     "metadata": {},
     "output_type": "display_data"
    },
    {
     "name": "stderr",
     "output_type": "stream",
     "text": [
      "loss=0.0000 (0.0000): : 100% 8/8 [00:00<00:00, 34.36it/s]\n"
     ]
    },
    {
     "data": {
      "text/html": [
       "<pre style=\"white-space:pre;overflow-x:auto;line-height:normal;font-family:Menlo,'DejaVu Sans Mono',consolas,'Courier New',monospace\">++&gt; Evaluate epoch <span style=\"color: #008080; text-decoration-color: #008080; font-weight: bold\">1</span> Finished.\n",
       "</pre>\n"
      ],
      "text/plain": [
       "++> Evaluate epoch \u001b[1;36m1\u001b[0m Finished.\n"
      ]
     },
     "metadata": {},
     "output_type": "display_data"
    },
    {
     "data": {
      "text/html": [
       "<pre style=\"white-space:pre;overflow-x:auto;line-height:normal;font-family:Menlo,'DejaVu Sans Mono',consolas,'Courier New',monospace\">==&gt; <span style=\"font-weight: bold\">[</span><span style=\"color: #008080; text-decoration-color: #008080; font-weight: bold\">2023</span>-<span style=\"color: #008080; text-decoration-color: #008080; font-weight: bold\">08</span>-27_05-<span style=\"color: #008080; text-decoration-color: #008080; font-weight: bold\">38</span>-<span style=\"color: #008080; text-decoration-color: #008080; font-weight: bold\">25</span><span style=\"font-weight: bold\">]</span> Start Training scorp_side_dmtet Epoch <span style=\"color: #008080; text-decoration-color: #008080; font-weight: bold\">2</span>/<span style=\"color: #008080; text-decoration-color: #008080; font-weight: bold\">100</span>, <span style=\"color: #808000; text-decoration-color: #808000\">lr</span>=<span style=\"color: #008080; text-decoration-color: #008080; font-weight: bold\">0.050000</span> <span style=\"color: #808000; text-decoration-color: #808000\">...</span>\n",
       "</pre>\n"
      ],
      "text/plain": [
       "==> \u001b[1m[\u001b[0m\u001b[1;36m2023\u001b[0m-\u001b[1;36m08\u001b[0m-27_05-\u001b[1;36m38\u001b[0m-\u001b[1;36m25\u001b[0m\u001b[1m]\u001b[0m Start Training scorp_side_dmtet Epoch \u001b[1;36m2\u001b[0m/\u001b[1;36m100\u001b[0m, \u001b[33mlr\u001b[0m=\u001b[1;36m0\u001b[0m\u001b[1;36m.050000\u001b[0m \u001b[33m...\u001b[0m\n"
      ]
     },
     "metadata": {},
     "output_type": "display_data"
    },
    {
     "name": "stderr",
     "output_type": "stream",
     "text": [
      "loss=21.0189 (37.3246), lr=0.050000: : 100% 2400/2400 [00:41<00:00, 57.64it/s] \n"
     ]
    },
    {
     "data": {
      "text/html": [
       "<pre style=\"white-space:pre;overflow-x:auto;line-height:normal;font-family:Menlo,'DejaVu Sans Mono',consolas,'Courier New',monospace\">==&gt; <span style=\"font-weight: bold\">[</span><span style=\"color: #008080; text-decoration-color: #008080; font-weight: bold\">2023</span>-<span style=\"color: #008080; text-decoration-color: #008080; font-weight: bold\">08</span>-27_05-<span style=\"color: #008080; text-decoration-color: #008080; font-weight: bold\">39</span>-<span style=\"color: #008080; text-decoration-color: #008080; font-weight: bold\">06</span><span style=\"font-weight: bold\">]</span> Finished Epoch <span style=\"color: #008080; text-decoration-color: #008080; font-weight: bold\">2</span>/<span style=\"color: #008080; text-decoration-color: #008080; font-weight: bold\">100</span>. <span style=\"color: #808000; text-decoration-color: #808000\">CPU</span>=<span style=\"color: #008080; text-decoration-color: #008080; font-weight: bold\">18.</span>7GB, <span style=\"color: #808000; text-decoration-color: #808000\">GPU</span>=<span style=\"color: #008080; text-decoration-color: #008080; font-weight: bold\">42.</span>5GB.\n",
       "</pre>\n"
      ],
      "text/plain": [
       "==> \u001b[1m[\u001b[0m\u001b[1;36m2023\u001b[0m-\u001b[1;36m08\u001b[0m-27_05-\u001b[1;36m39\u001b[0m-\u001b[1;36m06\u001b[0m\u001b[1m]\u001b[0m Finished Epoch \u001b[1;36m2\u001b[0m/\u001b[1;36m100\u001b[0m. \u001b[33mCPU\u001b[0m=\u001b[1;36m18\u001b[0m\u001b[1;36m.\u001b[0m7GB, \u001b[33mGPU\u001b[0m=\u001b[1;36m42\u001b[0m\u001b[1;36m.\u001b[0m5GB.\n"
      ]
     },
     "metadata": {},
     "output_type": "display_data"
    },
    {
     "data": {
      "text/html": [
       "<pre style=\"white-space:pre;overflow-x:auto;line-height:normal;font-family:Menlo,'DejaVu Sans Mono',consolas,'Courier New',monospace\">++&gt; Evaluate scorp_side_dmtet at epoch <span style=\"color: #008080; text-decoration-color: #008080; font-weight: bold\">2</span> <span style=\"color: #808000; text-decoration-color: #808000\">...</span>\n",
       "</pre>\n"
      ],
      "text/plain": [
       "++> Evaluate scorp_side_dmtet at epoch \u001b[1;36m2\u001b[0m \u001b[33m...\u001b[0m\n"
      ]
     },
     "metadata": {},
     "output_type": "display_data"
    },
    {
     "name": "stderr",
     "output_type": "stream",
     "text": [
      "loss=0.0000 (0.0000): : 100% 8/8 [00:00<00:00, 35.87it/s]\n"
     ]
    },
    {
     "data": {
      "text/html": [
       "<pre style=\"white-space:pre;overflow-x:auto;line-height:normal;font-family:Menlo,'DejaVu Sans Mono',consolas,'Courier New',monospace\">++&gt; Evaluate epoch <span style=\"color: #008080; text-decoration-color: #008080; font-weight: bold\">2</span> Finished.\n",
       "</pre>\n"
      ],
      "text/plain": [
       "++> Evaluate epoch \u001b[1;36m2\u001b[0m Finished.\n"
      ]
     },
     "metadata": {},
     "output_type": "display_data"
    },
    {
     "data": {
      "text/html": [
       "<pre style=\"white-space:pre;overflow-x:auto;line-height:normal;font-family:Menlo,'DejaVu Sans Mono',consolas,'Courier New',monospace\">==&gt; <span style=\"font-weight: bold\">[</span><span style=\"color: #008080; text-decoration-color: #008080; font-weight: bold\">2023</span>-<span style=\"color: #008080; text-decoration-color: #008080; font-weight: bold\">08</span>-27_05-<span style=\"color: #008080; text-decoration-color: #008080; font-weight: bold\">39</span>-<span style=\"color: #008080; text-decoration-color: #008080; font-weight: bold\">07</span><span style=\"font-weight: bold\">]</span> Start Training scorp_side_dmtet Epoch <span style=\"color: #008080; text-decoration-color: #008080; font-weight: bold\">3</span>/<span style=\"color: #008080; text-decoration-color: #008080; font-weight: bold\">100</span>, <span style=\"color: #808000; text-decoration-color: #808000\">lr</span>=<span style=\"color: #008080; text-decoration-color: #008080; font-weight: bold\">0.050000</span> <span style=\"color: #808000; text-decoration-color: #808000\">...</span>\n",
       "</pre>\n"
      ],
      "text/plain": [
       "==> \u001b[1m[\u001b[0m\u001b[1;36m2023\u001b[0m-\u001b[1;36m08\u001b[0m-27_05-\u001b[1;36m39\u001b[0m-\u001b[1;36m07\u001b[0m\u001b[1m]\u001b[0m Start Training scorp_side_dmtet Epoch \u001b[1;36m3\u001b[0m/\u001b[1;36m100\u001b[0m, \u001b[33mlr\u001b[0m=\u001b[1;36m0\u001b[0m\u001b[1;36m.050000\u001b[0m \u001b[33m...\u001b[0m\n"
      ]
     },
     "metadata": {},
     "output_type": "display_data"
    },
    {
     "name": "stderr",
     "output_type": "stream",
     "text": [
      "loss=18.8130 (35.6137), lr=0.050000: : 100% 2400/2400 [00:41<00:00, 58.45it/s]\n"
     ]
    },
    {
     "data": {
      "text/html": [
       "<pre style=\"white-space:pre;overflow-x:auto;line-height:normal;font-family:Menlo,'DejaVu Sans Mono',consolas,'Courier New',monospace\">==&gt; <span style=\"font-weight: bold\">[</span><span style=\"color: #008080; text-decoration-color: #008080; font-weight: bold\">2023</span>-<span style=\"color: #008080; text-decoration-color: #008080; font-weight: bold\">08</span>-27_05-<span style=\"color: #008080; text-decoration-color: #008080; font-weight: bold\">39</span>-<span style=\"color: #008080; text-decoration-color: #008080; font-weight: bold\">48</span><span style=\"font-weight: bold\">]</span> Finished Epoch <span style=\"color: #008080; text-decoration-color: #008080; font-weight: bold\">3</span>/<span style=\"color: #008080; text-decoration-color: #008080; font-weight: bold\">100</span>. <span style=\"color: #808000; text-decoration-color: #808000\">CPU</span>=<span style=\"color: #008080; text-decoration-color: #008080; font-weight: bold\">18.</span>7GB, <span style=\"color: #808000; text-decoration-color: #808000\">GPU</span>=<span style=\"color: #008080; text-decoration-color: #008080; font-weight: bold\">42.</span>5GB.\n",
       "</pre>\n"
      ],
      "text/plain": [
       "==> \u001b[1m[\u001b[0m\u001b[1;36m2023\u001b[0m-\u001b[1;36m08\u001b[0m-27_05-\u001b[1;36m39\u001b[0m-\u001b[1;36m48\u001b[0m\u001b[1m]\u001b[0m Finished Epoch \u001b[1;36m3\u001b[0m/\u001b[1;36m100\u001b[0m. \u001b[33mCPU\u001b[0m=\u001b[1;36m18\u001b[0m\u001b[1;36m.\u001b[0m7GB, \u001b[33mGPU\u001b[0m=\u001b[1;36m42\u001b[0m\u001b[1;36m.\u001b[0m5GB.\n"
      ]
     },
     "metadata": {},
     "output_type": "display_data"
    },
    {
     "data": {
      "text/html": [
       "<pre style=\"white-space:pre;overflow-x:auto;line-height:normal;font-family:Menlo,'DejaVu Sans Mono',consolas,'Courier New',monospace\">++&gt; Evaluate scorp_side_dmtet at epoch <span style=\"color: #008080; text-decoration-color: #008080; font-weight: bold\">3</span> <span style=\"color: #808000; text-decoration-color: #808000\">...</span>\n",
       "</pre>\n"
      ],
      "text/plain": [
       "++> Evaluate scorp_side_dmtet at epoch \u001b[1;36m3\u001b[0m \u001b[33m...\u001b[0m\n"
      ]
     },
     "metadata": {},
     "output_type": "display_data"
    },
    {
     "name": "stderr",
     "output_type": "stream",
     "text": [
      "loss=0.0000 (0.0000): : 100% 8/8 [00:00<00:00, 35.21it/s]\n"
     ]
    },
    {
     "data": {
      "text/html": [
       "<pre style=\"white-space:pre;overflow-x:auto;line-height:normal;font-family:Menlo,'DejaVu Sans Mono',consolas,'Courier New',monospace\">++&gt; Evaluate epoch <span style=\"color: #008080; text-decoration-color: #008080; font-weight: bold\">3</span> Finished.\n",
       "</pre>\n"
      ],
      "text/plain": [
       "++> Evaluate epoch \u001b[1;36m3\u001b[0m Finished.\n"
      ]
     },
     "metadata": {},
     "output_type": "display_data"
    },
    {
     "data": {
      "text/html": [
       "<pre style=\"white-space:pre;overflow-x:auto;line-height:normal;font-family:Menlo,'DejaVu Sans Mono',consolas,'Courier New',monospace\">==&gt; <span style=\"font-weight: bold\">[</span><span style=\"color: #008080; text-decoration-color: #008080; font-weight: bold\">2023</span>-<span style=\"color: #008080; text-decoration-color: #008080; font-weight: bold\">08</span>-27_05-<span style=\"color: #008080; text-decoration-color: #008080; font-weight: bold\">39</span>-<span style=\"color: #008080; text-decoration-color: #008080; font-weight: bold\">48</span><span style=\"font-weight: bold\">]</span> Start Training scorp_side_dmtet Epoch <span style=\"color: #008080; text-decoration-color: #008080; font-weight: bold\">4</span>/<span style=\"color: #008080; text-decoration-color: #008080; font-weight: bold\">100</span>, <span style=\"color: #808000; text-decoration-color: #808000\">lr</span>=<span style=\"color: #008080; text-decoration-color: #008080; font-weight: bold\">0.050000</span> <span style=\"color: #808000; text-decoration-color: #808000\">...</span>\n",
       "</pre>\n"
      ],
      "text/plain": [
       "==> \u001b[1m[\u001b[0m\u001b[1;36m2023\u001b[0m-\u001b[1;36m08\u001b[0m-27_05-\u001b[1;36m39\u001b[0m-\u001b[1;36m48\u001b[0m\u001b[1m]\u001b[0m Start Training scorp_side_dmtet Epoch \u001b[1;36m4\u001b[0m/\u001b[1;36m100\u001b[0m, \u001b[33mlr\u001b[0m=\u001b[1;36m0\u001b[0m\u001b[1;36m.050000\u001b[0m \u001b[33m...\u001b[0m\n"
      ]
     },
     "metadata": {},
     "output_type": "display_data"
    },
    {
     "name": "stderr",
     "output_type": "stream",
     "text": [
      "loss=17.1407 (37.5229), lr=0.050000: : 100% 2400/2400 [00:41<00:00, 58.33it/s] \n"
     ]
    },
    {
     "data": {
      "text/html": [
       "<pre style=\"white-space:pre;overflow-x:auto;line-height:normal;font-family:Menlo,'DejaVu Sans Mono',consolas,'Courier New',monospace\">==&gt; <span style=\"font-weight: bold\">[</span><span style=\"color: #008080; text-decoration-color: #008080; font-weight: bold\">2023</span>-<span style=\"color: #008080; text-decoration-color: #008080; font-weight: bold\">08</span>-27_05-<span style=\"color: #008080; text-decoration-color: #008080; font-weight: bold\">40</span>-<span style=\"color: #008080; text-decoration-color: #008080; font-weight: bold\">30</span><span style=\"font-weight: bold\">]</span> Finished Epoch <span style=\"color: #008080; text-decoration-color: #008080; font-weight: bold\">4</span>/<span style=\"color: #008080; text-decoration-color: #008080; font-weight: bold\">100</span>. <span style=\"color: #808000; text-decoration-color: #808000\">CPU</span>=<span style=\"color: #008080; text-decoration-color: #008080; font-weight: bold\">18.</span>7GB, <span style=\"color: #808000; text-decoration-color: #808000\">GPU</span>=<span style=\"color: #008080; text-decoration-color: #008080; font-weight: bold\">42.</span>5GB.\n",
       "</pre>\n"
      ],
      "text/plain": [
       "==> \u001b[1m[\u001b[0m\u001b[1;36m2023\u001b[0m-\u001b[1;36m08\u001b[0m-27_05-\u001b[1;36m40\u001b[0m-\u001b[1;36m30\u001b[0m\u001b[1m]\u001b[0m Finished Epoch \u001b[1;36m4\u001b[0m/\u001b[1;36m100\u001b[0m. \u001b[33mCPU\u001b[0m=\u001b[1;36m18\u001b[0m\u001b[1;36m.\u001b[0m7GB, \u001b[33mGPU\u001b[0m=\u001b[1;36m42\u001b[0m\u001b[1;36m.\u001b[0m5GB.\n"
      ]
     },
     "metadata": {},
     "output_type": "display_data"
    },
    {
     "data": {
      "text/html": [
       "<pre style=\"white-space:pre;overflow-x:auto;line-height:normal;font-family:Menlo,'DejaVu Sans Mono',consolas,'Courier New',monospace\">++&gt; Evaluate scorp_side_dmtet at epoch <span style=\"color: #008080; text-decoration-color: #008080; font-weight: bold\">4</span> <span style=\"color: #808000; text-decoration-color: #808000\">...</span>\n",
       "</pre>\n"
      ],
      "text/plain": [
       "++> Evaluate scorp_side_dmtet at epoch \u001b[1;36m4\u001b[0m \u001b[33m...\u001b[0m\n"
      ]
     },
     "metadata": {},
     "output_type": "display_data"
    },
    {
     "name": "stderr",
     "output_type": "stream",
     "text": [
      "loss=0.0000 (0.0000): : 100% 8/8 [00:00<00:00, 36.02it/s]\n"
     ]
    },
    {
     "data": {
      "text/html": [
       "<pre style=\"white-space:pre;overflow-x:auto;line-height:normal;font-family:Menlo,'DejaVu Sans Mono',consolas,'Courier New',monospace\">++&gt; Evaluate epoch <span style=\"color: #008080; text-decoration-color: #008080; font-weight: bold\">4</span> Finished.\n",
       "</pre>\n"
      ],
      "text/plain": [
       "++> Evaluate epoch \u001b[1;36m4\u001b[0m Finished.\n"
      ]
     },
     "metadata": {},
     "output_type": "display_data"
    },
    {
     "data": {
      "text/html": [
       "<pre style=\"white-space:pre;overflow-x:auto;line-height:normal;font-family:Menlo,'DejaVu Sans Mono',consolas,'Courier New',monospace\">==&gt; <span style=\"font-weight: bold\">[</span><span style=\"color: #008080; text-decoration-color: #008080; font-weight: bold\">2023</span>-<span style=\"color: #008080; text-decoration-color: #008080; font-weight: bold\">08</span>-27_05-<span style=\"color: #008080; text-decoration-color: #008080; font-weight: bold\">40</span>-<span style=\"color: #008080; text-decoration-color: #008080; font-weight: bold\">30</span><span style=\"font-weight: bold\">]</span> Start Training scorp_side_dmtet Epoch <span style=\"color: #008080; text-decoration-color: #008080; font-weight: bold\">5</span>/<span style=\"color: #008080; text-decoration-color: #008080; font-weight: bold\">100</span>, <span style=\"color: #808000; text-decoration-color: #808000\">lr</span>=<span style=\"color: #008080; text-decoration-color: #008080; font-weight: bold\">0.050000</span> <span style=\"color: #808000; text-decoration-color: #808000\">...</span>\n",
       "</pre>\n"
      ],
      "text/plain": [
       "==> \u001b[1m[\u001b[0m\u001b[1;36m2023\u001b[0m-\u001b[1;36m08\u001b[0m-27_05-\u001b[1;36m40\u001b[0m-\u001b[1;36m30\u001b[0m\u001b[1m]\u001b[0m Start Training scorp_side_dmtet Epoch \u001b[1;36m5\u001b[0m/\u001b[1;36m100\u001b[0m, \u001b[33mlr\u001b[0m=\u001b[1;36m0\u001b[0m\u001b[1;36m.050000\u001b[0m \u001b[33m...\u001b[0m\n"
      ]
     },
     "metadata": {},
     "output_type": "display_data"
    },
    {
     "name": "stderr",
     "output_type": "stream",
     "text": [
      "loss=15.4901 (36.0409), lr=0.050000: : 100% 2400/2400 [00:41<00:00, 57.22it/s]\n"
     ]
    },
    {
     "data": {
      "text/html": [
       "<pre style=\"white-space:pre;overflow-x:auto;line-height:normal;font-family:Menlo,'DejaVu Sans Mono',consolas,'Courier New',monospace\">==&gt; <span style=\"font-weight: bold\">[</span><span style=\"color: #008080; text-decoration-color: #008080; font-weight: bold\">2023</span>-<span style=\"color: #008080; text-decoration-color: #008080; font-weight: bold\">08</span>-27_05-<span style=\"color: #008080; text-decoration-color: #008080; font-weight: bold\">41</span>-<span style=\"color: #008080; text-decoration-color: #008080; font-weight: bold\">12</span><span style=\"font-weight: bold\">]</span> Finished Epoch <span style=\"color: #008080; text-decoration-color: #008080; font-weight: bold\">5</span>/<span style=\"color: #008080; text-decoration-color: #008080; font-weight: bold\">100</span>. <span style=\"color: #808000; text-decoration-color: #808000\">CPU</span>=<span style=\"color: #008080; text-decoration-color: #008080; font-weight: bold\">18.</span>7GB, <span style=\"color: #808000; text-decoration-color: #808000\">GPU</span>=<span style=\"color: #008080; text-decoration-color: #008080; font-weight: bold\">42.</span>5GB.\n",
       "</pre>\n"
      ],
      "text/plain": [
       "==> \u001b[1m[\u001b[0m\u001b[1;36m2023\u001b[0m-\u001b[1;36m08\u001b[0m-27_05-\u001b[1;36m41\u001b[0m-\u001b[1;36m12\u001b[0m\u001b[1m]\u001b[0m Finished Epoch \u001b[1;36m5\u001b[0m/\u001b[1;36m100\u001b[0m. \u001b[33mCPU\u001b[0m=\u001b[1;36m18\u001b[0m\u001b[1;36m.\u001b[0m7GB, \u001b[33mGPU\u001b[0m=\u001b[1;36m42\u001b[0m\u001b[1;36m.\u001b[0m5GB.\n"
      ]
     },
     "metadata": {},
     "output_type": "display_data"
    },
    {
     "data": {
      "text/html": [
       "<pre style=\"white-space:pre;overflow-x:auto;line-height:normal;font-family:Menlo,'DejaVu Sans Mono',consolas,'Courier New',monospace\">++&gt; Evaluate scorp_side_dmtet at epoch <span style=\"color: #008080; text-decoration-color: #008080; font-weight: bold\">5</span> <span style=\"color: #808000; text-decoration-color: #808000\">...</span>\n",
       "</pre>\n"
      ],
      "text/plain": [
       "++> Evaluate scorp_side_dmtet at epoch \u001b[1;36m5\u001b[0m \u001b[33m...\u001b[0m\n"
      ]
     },
     "metadata": {},
     "output_type": "display_data"
    },
    {
     "name": "stderr",
     "output_type": "stream",
     "text": [
      "loss=0.0000 (0.0000): : 100% 8/8 [00:00<00:00, 34.77it/s]\n"
     ]
    },
    {
     "data": {
      "text/html": [
       "<pre style=\"white-space:pre;overflow-x:auto;line-height:normal;font-family:Menlo,'DejaVu Sans Mono',consolas,'Courier New',monospace\">++&gt; Evaluate epoch <span style=\"color: #008080; text-decoration-color: #008080; font-weight: bold\">5</span> Finished.\n",
       "</pre>\n"
      ],
      "text/plain": [
       "++> Evaluate epoch \u001b[1;36m5\u001b[0m Finished.\n"
      ]
     },
     "metadata": {},
     "output_type": "display_data"
    },
    {
     "data": {
      "text/html": [
       "<pre style=\"white-space:pre;overflow-x:auto;line-height:normal;font-family:Menlo,'DejaVu Sans Mono',consolas,'Courier New',monospace\">==&gt; Start Test, save results to scorp_side_dmtet/results\n",
       "</pre>\n"
      ],
      "text/plain": [
       "==> Start Test, save results to scorp_side_dmtet/results\n"
      ]
     },
     "metadata": {},
     "output_type": "display_data"
    },
    {
     "name": "stderr",
     "output_type": "stream",
     "text": [
      " 96% 96/100 [00:01<00:00, 89.18it/s]"
     ]
    },
    {
     "data": {
      "text/html": [
       "<pre style=\"white-space:pre;overflow-x:auto;line-height:normal;font-family:Menlo,'DejaVu Sans Mono',consolas,'Courier New',monospace\">==&gt; Finished Test.\n",
       "</pre>\n"
      ],
      "text/plain": [
       "==> Finished Test.\n"
      ]
     },
     "metadata": {},
     "output_type": "display_data"
    },
    {
     "name": "stderr",
     "output_type": "stream",
     "text": [
      "100% 100/100 [00:03<00:00, 29.78it/s]\n"
     ]
    },
    {
     "data": {
      "text/html": [
       "<pre style=\"white-space:pre;overflow-x:auto;line-height:normal;font-family:Menlo,'DejaVu Sans Mono',consolas,'Courier New',monospace\">==&gt; <span style=\"font-weight: bold\">[</span><span style=\"color: #008080; text-decoration-color: #008080; font-weight: bold\">2023</span>-<span style=\"color: #008080; text-decoration-color: #008080; font-weight: bold\">08</span>-27_05-<span style=\"color: #008080; text-decoration-color: #008080; font-weight: bold\">41</span>-<span style=\"color: #008080; text-decoration-color: #008080; font-weight: bold\">16</span><span style=\"font-weight: bold\">]</span> Start Training scorp_side_dmtet Epoch <span style=\"color: #008080; text-decoration-color: #008080; font-weight: bold\">6</span>/<span style=\"color: #008080; text-decoration-color: #008080; font-weight: bold\">100</span>, <span style=\"color: #808000; text-decoration-color: #808000\">lr</span>=<span style=\"color: #008080; text-decoration-color: #008080; font-weight: bold\">0.050000</span> <span style=\"color: #808000; text-decoration-color: #808000\">...</span>\n",
       "</pre>\n"
      ],
      "text/plain": [
       "==> \u001b[1m[\u001b[0m\u001b[1;36m2023\u001b[0m-\u001b[1;36m08\u001b[0m-27_05-\u001b[1;36m41\u001b[0m-\u001b[1;36m16\u001b[0m\u001b[1m]\u001b[0m Start Training scorp_side_dmtet Epoch \u001b[1;36m6\u001b[0m/\u001b[1;36m100\u001b[0m, \u001b[33mlr\u001b[0m=\u001b[1;36m0\u001b[0m\u001b[1;36m.050000\u001b[0m \u001b[33m...\u001b[0m\n"
      ]
     },
     "metadata": {},
     "output_type": "display_data"
    },
    {
     "name": "stderr",
     "output_type": "stream",
     "text": [
      "loss=14.1360 (36.0107), lr=0.050000: : 100% 2400/2400 [00:40<00:00, 58.65it/s]\n"
     ]
    },
    {
     "data": {
      "text/html": [
       "<pre style=\"white-space:pre;overflow-x:auto;line-height:normal;font-family:Menlo,'DejaVu Sans Mono',consolas,'Courier New',monospace\">==&gt; <span style=\"font-weight: bold\">[</span><span style=\"color: #008080; text-decoration-color: #008080; font-weight: bold\">2023</span>-<span style=\"color: #008080; text-decoration-color: #008080; font-weight: bold\">08</span>-27_05-<span style=\"color: #008080; text-decoration-color: #008080; font-weight: bold\">41</span>-<span style=\"color: #008080; text-decoration-color: #008080; font-weight: bold\">57</span><span style=\"font-weight: bold\">]</span> Finished Epoch <span style=\"color: #008080; text-decoration-color: #008080; font-weight: bold\">6</span>/<span style=\"color: #008080; text-decoration-color: #008080; font-weight: bold\">100</span>. <span style=\"color: #808000; text-decoration-color: #808000\">CPU</span>=<span style=\"color: #008080; text-decoration-color: #008080; font-weight: bold\">18.</span>7GB, <span style=\"color: #808000; text-decoration-color: #808000\">GPU</span>=<span style=\"color: #008080; text-decoration-color: #008080; font-weight: bold\">42.</span>5GB.\n",
       "</pre>\n"
      ],
      "text/plain": [
       "==> \u001b[1m[\u001b[0m\u001b[1;36m2023\u001b[0m-\u001b[1;36m08\u001b[0m-27_05-\u001b[1;36m41\u001b[0m-\u001b[1;36m57\u001b[0m\u001b[1m]\u001b[0m Finished Epoch \u001b[1;36m6\u001b[0m/\u001b[1;36m100\u001b[0m. \u001b[33mCPU\u001b[0m=\u001b[1;36m18\u001b[0m\u001b[1;36m.\u001b[0m7GB, \u001b[33mGPU\u001b[0m=\u001b[1;36m42\u001b[0m\u001b[1;36m.\u001b[0m5GB.\n"
      ]
     },
     "metadata": {},
     "output_type": "display_data"
    },
    {
     "data": {
      "text/html": [
       "<pre style=\"white-space:pre;overflow-x:auto;line-height:normal;font-family:Menlo,'DejaVu Sans Mono',consolas,'Courier New',monospace\">++&gt; Evaluate scorp_side_dmtet at epoch <span style=\"color: #008080; text-decoration-color: #008080; font-weight: bold\">6</span> <span style=\"color: #808000; text-decoration-color: #808000\">...</span>\n",
       "</pre>\n"
      ],
      "text/plain": [
       "++> Evaluate scorp_side_dmtet at epoch \u001b[1;36m6\u001b[0m \u001b[33m...\u001b[0m\n"
      ]
     },
     "metadata": {},
     "output_type": "display_data"
    },
    {
     "name": "stderr",
     "output_type": "stream",
     "text": [
      "loss=0.0000 (0.0000): : 100% 8/8 [00:00<00:00, 33.90it/s]\n"
     ]
    },
    {
     "data": {
      "text/html": [
       "<pre style=\"white-space:pre;overflow-x:auto;line-height:normal;font-family:Menlo,'DejaVu Sans Mono',consolas,'Courier New',monospace\">++&gt; Evaluate epoch <span style=\"color: #008080; text-decoration-color: #008080; font-weight: bold\">6</span> Finished.\n",
       "</pre>\n"
      ],
      "text/plain": [
       "++> Evaluate epoch \u001b[1;36m6\u001b[0m Finished.\n"
      ]
     },
     "metadata": {},
     "output_type": "display_data"
    },
    {
     "data": {
      "text/html": [
       "<pre style=\"white-space:pre;overflow-x:auto;line-height:normal;font-family:Menlo,'DejaVu Sans Mono',consolas,'Courier New',monospace\">==&gt; <span style=\"font-weight: bold\">[</span><span style=\"color: #008080; text-decoration-color: #008080; font-weight: bold\">2023</span>-<span style=\"color: #008080; text-decoration-color: #008080; font-weight: bold\">08</span>-27_05-<span style=\"color: #008080; text-decoration-color: #008080; font-weight: bold\">41</span>-<span style=\"color: #008080; text-decoration-color: #008080; font-weight: bold\">58</span><span style=\"font-weight: bold\">]</span> Start Training scorp_side_dmtet Epoch <span style=\"color: #008080; text-decoration-color: #008080; font-weight: bold\">7</span>/<span style=\"color: #008080; text-decoration-color: #008080; font-weight: bold\">100</span>, <span style=\"color: #808000; text-decoration-color: #808000\">lr</span>=<span style=\"color: #008080; text-decoration-color: #008080; font-weight: bold\">0.050000</span> <span style=\"color: #808000; text-decoration-color: #808000\">...</span>\n",
       "</pre>\n"
      ],
      "text/plain": [
       "==> \u001b[1m[\u001b[0m\u001b[1;36m2023\u001b[0m-\u001b[1;36m08\u001b[0m-27_05-\u001b[1;36m41\u001b[0m-\u001b[1;36m58\u001b[0m\u001b[1m]\u001b[0m Start Training scorp_side_dmtet Epoch \u001b[1;36m7\u001b[0m/\u001b[1;36m100\u001b[0m, \u001b[33mlr\u001b[0m=\u001b[1;36m0\u001b[0m\u001b[1;36m.050000\u001b[0m \u001b[33m...\u001b[0m\n"
      ]
     },
     "metadata": {},
     "output_type": "display_data"
    },
    {
     "name": "stderr",
     "output_type": "stream",
     "text": [
      "loss=12.9853 (35.7159), lr=0.050000: : 100% 2400/2400 [00:40<00:00, 58.57it/s]\n"
     ]
    },
    {
     "data": {
      "text/html": [
       "<pre style=\"white-space:pre;overflow-x:auto;line-height:normal;font-family:Menlo,'DejaVu Sans Mono',consolas,'Courier New',monospace\">==&gt; <span style=\"font-weight: bold\">[</span><span style=\"color: #008080; text-decoration-color: #008080; font-weight: bold\">2023</span>-<span style=\"color: #008080; text-decoration-color: #008080; font-weight: bold\">08</span>-27_05-<span style=\"color: #008080; text-decoration-color: #008080; font-weight: bold\">42</span>-<span style=\"color: #008080; text-decoration-color: #008080; font-weight: bold\">39</span><span style=\"font-weight: bold\">]</span> Finished Epoch <span style=\"color: #008080; text-decoration-color: #008080; font-weight: bold\">7</span>/<span style=\"color: #008080; text-decoration-color: #008080; font-weight: bold\">100</span>. <span style=\"color: #808000; text-decoration-color: #808000\">CPU</span>=<span style=\"color: #008080; text-decoration-color: #008080; font-weight: bold\">18.</span>7GB, <span style=\"color: #808000; text-decoration-color: #808000\">GPU</span>=<span style=\"color: #008080; text-decoration-color: #008080; font-weight: bold\">42.</span>5GB.\n",
       "</pre>\n"
      ],
      "text/plain": [
       "==> \u001b[1m[\u001b[0m\u001b[1;36m2023\u001b[0m-\u001b[1;36m08\u001b[0m-27_05-\u001b[1;36m42\u001b[0m-\u001b[1;36m39\u001b[0m\u001b[1m]\u001b[0m Finished Epoch \u001b[1;36m7\u001b[0m/\u001b[1;36m100\u001b[0m. \u001b[33mCPU\u001b[0m=\u001b[1;36m18\u001b[0m\u001b[1;36m.\u001b[0m7GB, \u001b[33mGPU\u001b[0m=\u001b[1;36m42\u001b[0m\u001b[1;36m.\u001b[0m5GB.\n"
      ]
     },
     "metadata": {},
     "output_type": "display_data"
    },
    {
     "data": {
      "text/html": [
       "<pre style=\"white-space:pre;overflow-x:auto;line-height:normal;font-family:Menlo,'DejaVu Sans Mono',consolas,'Courier New',monospace\">++&gt; Evaluate scorp_side_dmtet at epoch <span style=\"color: #008080; text-decoration-color: #008080; font-weight: bold\">7</span> <span style=\"color: #808000; text-decoration-color: #808000\">...</span>\n",
       "</pre>\n"
      ],
      "text/plain": [
       "++> Evaluate scorp_side_dmtet at epoch \u001b[1;36m7\u001b[0m \u001b[33m...\u001b[0m\n"
      ]
     },
     "metadata": {},
     "output_type": "display_data"
    },
    {
     "name": "stderr",
     "output_type": "stream",
     "text": [
      "loss=0.0000 (0.0000): : 100% 8/8 [00:00<00:00, 34.56it/s]\n"
     ]
    },
    {
     "data": {
      "text/html": [
       "<pre style=\"white-space:pre;overflow-x:auto;line-height:normal;font-family:Menlo,'DejaVu Sans Mono',consolas,'Courier New',monospace\">++&gt; Evaluate epoch <span style=\"color: #008080; text-decoration-color: #008080; font-weight: bold\">7</span> Finished.\n",
       "</pre>\n"
      ],
      "text/plain": [
       "++> Evaluate epoch \u001b[1;36m7\u001b[0m Finished.\n"
      ]
     },
     "metadata": {},
     "output_type": "display_data"
    },
    {
     "data": {
      "text/html": [
       "<pre style=\"white-space:pre;overflow-x:auto;line-height:normal;font-family:Menlo,'DejaVu Sans Mono',consolas,'Courier New',monospace\">==&gt; <span style=\"font-weight: bold\">[</span><span style=\"color: #008080; text-decoration-color: #008080; font-weight: bold\">2023</span>-<span style=\"color: #008080; text-decoration-color: #008080; font-weight: bold\">08</span>-27_05-<span style=\"color: #008080; text-decoration-color: #008080; font-weight: bold\">42</span>-<span style=\"color: #008080; text-decoration-color: #008080; font-weight: bold\">40</span><span style=\"font-weight: bold\">]</span> Start Training scorp_side_dmtet Epoch <span style=\"color: #008080; text-decoration-color: #008080; font-weight: bold\">8</span>/<span style=\"color: #008080; text-decoration-color: #008080; font-weight: bold\">100</span>, <span style=\"color: #808000; text-decoration-color: #808000\">lr</span>=<span style=\"color: #008080; text-decoration-color: #008080; font-weight: bold\">0.050000</span> <span style=\"color: #808000; text-decoration-color: #808000\">...</span>\n",
       "</pre>\n"
      ],
      "text/plain": [
       "==> \u001b[1m[\u001b[0m\u001b[1;36m2023\u001b[0m-\u001b[1;36m08\u001b[0m-27_05-\u001b[1;36m42\u001b[0m-\u001b[1;36m40\u001b[0m\u001b[1m]\u001b[0m Start Training scorp_side_dmtet Epoch \u001b[1;36m8\u001b[0m/\u001b[1;36m100\u001b[0m, \u001b[33mlr\u001b[0m=\u001b[1;36m0\u001b[0m\u001b[1;36m.050000\u001b[0m \u001b[33m...\u001b[0m\n"
      ]
     },
     "metadata": {},
     "output_type": "display_data"
    },
    {
     "name": "stderr",
     "output_type": "stream",
     "text": [
      "loss=12.2032 (37.0801), lr=0.050000: : 100% 2400/2400 [00:41<00:00, 57.27it/s]\n"
     ]
    },
    {
     "data": {
      "text/html": [
       "<pre style=\"white-space:pre;overflow-x:auto;line-height:normal;font-family:Menlo,'DejaVu Sans Mono',consolas,'Courier New',monospace\">==&gt; <span style=\"font-weight: bold\">[</span><span style=\"color: #008080; text-decoration-color: #008080; font-weight: bold\">2023</span>-<span style=\"color: #008080; text-decoration-color: #008080; font-weight: bold\">08</span>-27_05-<span style=\"color: #008080; text-decoration-color: #008080; font-weight: bold\">43</span>-<span style=\"color: #008080; text-decoration-color: #008080; font-weight: bold\">21</span><span style=\"font-weight: bold\">]</span> Finished Epoch <span style=\"color: #008080; text-decoration-color: #008080; font-weight: bold\">8</span>/<span style=\"color: #008080; text-decoration-color: #008080; font-weight: bold\">100</span>. <span style=\"color: #808000; text-decoration-color: #808000\">CPU</span>=<span style=\"color: #008080; text-decoration-color: #008080; font-weight: bold\">18.</span>7GB, <span style=\"color: #808000; text-decoration-color: #808000\">GPU</span>=<span style=\"color: #008080; text-decoration-color: #008080; font-weight: bold\">42.</span>5GB.\n",
       "</pre>\n"
      ],
      "text/plain": [
       "==> \u001b[1m[\u001b[0m\u001b[1;36m2023\u001b[0m-\u001b[1;36m08\u001b[0m-27_05-\u001b[1;36m43\u001b[0m-\u001b[1;36m21\u001b[0m\u001b[1m]\u001b[0m Finished Epoch \u001b[1;36m8\u001b[0m/\u001b[1;36m100\u001b[0m. \u001b[33mCPU\u001b[0m=\u001b[1;36m18\u001b[0m\u001b[1;36m.\u001b[0m7GB, \u001b[33mGPU\u001b[0m=\u001b[1;36m42\u001b[0m\u001b[1;36m.\u001b[0m5GB.\n"
      ]
     },
     "metadata": {},
     "output_type": "display_data"
    },
    {
     "data": {
      "text/html": [
       "<pre style=\"white-space:pre;overflow-x:auto;line-height:normal;font-family:Menlo,'DejaVu Sans Mono',consolas,'Courier New',monospace\">++&gt; Evaluate scorp_side_dmtet at epoch <span style=\"color: #008080; text-decoration-color: #008080; font-weight: bold\">8</span> <span style=\"color: #808000; text-decoration-color: #808000\">...</span>\n",
       "</pre>\n"
      ],
      "text/plain": [
       "++> Evaluate scorp_side_dmtet at epoch \u001b[1;36m8\u001b[0m \u001b[33m...\u001b[0m\n"
      ]
     },
     "metadata": {},
     "output_type": "display_data"
    },
    {
     "name": "stderr",
     "output_type": "stream",
     "text": [
      "loss=0.0000 (0.0000): : 100% 8/8 [00:00<00:00, 29.92it/s]\n"
     ]
    },
    {
     "data": {
      "text/html": [
       "<pre style=\"white-space:pre;overflow-x:auto;line-height:normal;font-family:Menlo,'DejaVu Sans Mono',consolas,'Courier New',monospace\">++&gt; Evaluate epoch <span style=\"color: #008080; text-decoration-color: #008080; font-weight: bold\">8</span> Finished.\n",
       "</pre>\n"
      ],
      "text/plain": [
       "++> Evaluate epoch \u001b[1;36m8\u001b[0m Finished.\n"
      ]
     },
     "metadata": {},
     "output_type": "display_data"
    },
    {
     "data": {
      "text/html": [
       "<pre style=\"white-space:pre;overflow-x:auto;line-height:normal;font-family:Menlo,'DejaVu Sans Mono',consolas,'Courier New',monospace\">==&gt; <span style=\"font-weight: bold\">[</span><span style=\"color: #008080; text-decoration-color: #008080; font-weight: bold\">2023</span>-<span style=\"color: #008080; text-decoration-color: #008080; font-weight: bold\">08</span>-27_05-<span style=\"color: #008080; text-decoration-color: #008080; font-weight: bold\">43</span>-<span style=\"color: #008080; text-decoration-color: #008080; font-weight: bold\">22</span><span style=\"font-weight: bold\">]</span> Start Training scorp_side_dmtet Epoch <span style=\"color: #008080; text-decoration-color: #008080; font-weight: bold\">9</span>/<span style=\"color: #008080; text-decoration-color: #008080; font-weight: bold\">100</span>, <span style=\"color: #808000; text-decoration-color: #808000\">lr</span>=<span style=\"color: #008080; text-decoration-color: #008080; font-weight: bold\">0.050000</span> <span style=\"color: #808000; text-decoration-color: #808000\">...</span>\n",
       "</pre>\n"
      ],
      "text/plain": [
       "==> \u001b[1m[\u001b[0m\u001b[1;36m2023\u001b[0m-\u001b[1;36m08\u001b[0m-27_05-\u001b[1;36m43\u001b[0m-\u001b[1;36m22\u001b[0m\u001b[1m]\u001b[0m Start Training scorp_side_dmtet Epoch \u001b[1;36m9\u001b[0m/\u001b[1;36m100\u001b[0m, \u001b[33mlr\u001b[0m=\u001b[1;36m0\u001b[0m\u001b[1;36m.050000\u001b[0m \u001b[33m...\u001b[0m\n"
      ]
     },
     "metadata": {},
     "output_type": "display_data"
    },
    {
     "name": "stderr",
     "output_type": "stream",
     "text": [
      "loss=11.4880 (34.2231), lr=0.050000: : 100% 2400/2400 [00:41<00:00, 57.92it/s] \n"
     ]
    },
    {
     "data": {
      "text/html": [
       "<pre style=\"white-space:pre;overflow-x:auto;line-height:normal;font-family:Menlo,'DejaVu Sans Mono',consolas,'Courier New',monospace\">==&gt; <span style=\"font-weight: bold\">[</span><span style=\"color: #008080; text-decoration-color: #008080; font-weight: bold\">2023</span>-<span style=\"color: #008080; text-decoration-color: #008080; font-weight: bold\">08</span>-27_05-<span style=\"color: #008080; text-decoration-color: #008080; font-weight: bold\">44</span>-<span style=\"color: #008080; text-decoration-color: #008080; font-weight: bold\">04</span><span style=\"font-weight: bold\">]</span> Finished Epoch <span style=\"color: #008080; text-decoration-color: #008080; font-weight: bold\">9</span>/<span style=\"color: #008080; text-decoration-color: #008080; font-weight: bold\">100</span>. <span style=\"color: #808000; text-decoration-color: #808000\">CPU</span>=<span style=\"color: #008080; text-decoration-color: #008080; font-weight: bold\">18.</span>7GB, <span style=\"color: #808000; text-decoration-color: #808000\">GPU</span>=<span style=\"color: #008080; text-decoration-color: #008080; font-weight: bold\">42.</span>5GB.\n",
       "</pre>\n"
      ],
      "text/plain": [
       "==> \u001b[1m[\u001b[0m\u001b[1;36m2023\u001b[0m-\u001b[1;36m08\u001b[0m-27_05-\u001b[1;36m44\u001b[0m-\u001b[1;36m04\u001b[0m\u001b[1m]\u001b[0m Finished Epoch \u001b[1;36m9\u001b[0m/\u001b[1;36m100\u001b[0m. \u001b[33mCPU\u001b[0m=\u001b[1;36m18\u001b[0m\u001b[1;36m.\u001b[0m7GB, \u001b[33mGPU\u001b[0m=\u001b[1;36m42\u001b[0m\u001b[1;36m.\u001b[0m5GB.\n"
      ]
     },
     "metadata": {},
     "output_type": "display_data"
    },
    {
     "data": {
      "text/html": [
       "<pre style=\"white-space:pre;overflow-x:auto;line-height:normal;font-family:Menlo,'DejaVu Sans Mono',consolas,'Courier New',monospace\">++&gt; Evaluate scorp_side_dmtet at epoch <span style=\"color: #008080; text-decoration-color: #008080; font-weight: bold\">9</span> <span style=\"color: #808000; text-decoration-color: #808000\">...</span>\n",
       "</pre>\n"
      ],
      "text/plain": [
       "++> Evaluate scorp_side_dmtet at epoch \u001b[1;36m9\u001b[0m \u001b[33m...\u001b[0m\n"
      ]
     },
     "metadata": {},
     "output_type": "display_data"
    },
    {
     "name": "stderr",
     "output_type": "stream",
     "text": [
      "loss=0.0000 (0.0000): : 100% 8/8 [00:00<00:00, 35.20it/s]\n"
     ]
    },
    {
     "data": {
      "text/html": [
       "<pre style=\"white-space:pre;overflow-x:auto;line-height:normal;font-family:Menlo,'DejaVu Sans Mono',consolas,'Courier New',monospace\">++&gt; Evaluate epoch <span style=\"color: #008080; text-decoration-color: #008080; font-weight: bold\">9</span> Finished.\n",
       "</pre>\n"
      ],
      "text/plain": [
       "++> Evaluate epoch \u001b[1;36m9\u001b[0m Finished.\n"
      ]
     },
     "metadata": {},
     "output_type": "display_data"
    },
    {
     "data": {
      "text/html": [
       "<pre style=\"white-space:pre;overflow-x:auto;line-height:normal;font-family:Menlo,'DejaVu Sans Mono',consolas,'Courier New',monospace\">==&gt; <span style=\"font-weight: bold\">[</span><span style=\"color: #008080; text-decoration-color: #008080; font-weight: bold\">2023</span>-<span style=\"color: #008080; text-decoration-color: #008080; font-weight: bold\">08</span>-27_05-<span style=\"color: #008080; text-decoration-color: #008080; font-weight: bold\">44</span>-<span style=\"color: #008080; text-decoration-color: #008080; font-weight: bold\">04</span><span style=\"font-weight: bold\">]</span> Start Training scorp_side_dmtet Epoch <span style=\"color: #008080; text-decoration-color: #008080; font-weight: bold\">10</span>/<span style=\"color: #008080; text-decoration-color: #008080; font-weight: bold\">100</span>, <span style=\"color: #808000; text-decoration-color: #808000\">lr</span>=<span style=\"color: #008080; text-decoration-color: #008080; font-weight: bold\">0.050000</span> <span style=\"color: #808000; text-decoration-color: #808000\">...</span>\n",
       "</pre>\n"
      ],
      "text/plain": [
       "==> \u001b[1m[\u001b[0m\u001b[1;36m2023\u001b[0m-\u001b[1;36m08\u001b[0m-27_05-\u001b[1;36m44\u001b[0m-\u001b[1;36m04\u001b[0m\u001b[1m]\u001b[0m Start Training scorp_side_dmtet Epoch \u001b[1;36m10\u001b[0m/\u001b[1;36m100\u001b[0m, \u001b[33mlr\u001b[0m=\u001b[1;36m0\u001b[0m\u001b[1;36m.050000\u001b[0m \u001b[33m...\u001b[0m\n"
      ]
     },
     "metadata": {},
     "output_type": "display_data"
    },
    {
     "name": "stderr",
     "output_type": "stream",
     "text": [
      "loss=10.8596 (36.6779), lr=0.050000: : 100% 2400/2400 [00:40<00:00, 58.67it/s] \n"
     ]
    },
    {
     "data": {
      "text/html": [
       "<pre style=\"white-space:pre;overflow-x:auto;line-height:normal;font-family:Menlo,'DejaVu Sans Mono',consolas,'Courier New',monospace\">==&gt; <span style=\"font-weight: bold\">[</span><span style=\"color: #008080; text-decoration-color: #008080; font-weight: bold\">2023</span>-<span style=\"color: #008080; text-decoration-color: #008080; font-weight: bold\">08</span>-27_05-<span style=\"color: #008080; text-decoration-color: #008080; font-weight: bold\">44</span>-<span style=\"color: #008080; text-decoration-color: #008080; font-weight: bold\">45</span><span style=\"font-weight: bold\">]</span> Finished Epoch <span style=\"color: #008080; text-decoration-color: #008080; font-weight: bold\">10</span>/<span style=\"color: #008080; text-decoration-color: #008080; font-weight: bold\">100</span>. <span style=\"color: #808000; text-decoration-color: #808000\">CPU</span>=<span style=\"color: #008080; text-decoration-color: #008080; font-weight: bold\">18.</span>7GB, <span style=\"color: #808000; text-decoration-color: #808000\">GPU</span>=<span style=\"color: #008080; text-decoration-color: #008080; font-weight: bold\">42.</span>5GB.\n",
       "</pre>\n"
      ],
      "text/plain": [
       "==> \u001b[1m[\u001b[0m\u001b[1;36m2023\u001b[0m-\u001b[1;36m08\u001b[0m-27_05-\u001b[1;36m44\u001b[0m-\u001b[1;36m45\u001b[0m\u001b[1m]\u001b[0m Finished Epoch \u001b[1;36m10\u001b[0m/\u001b[1;36m100\u001b[0m. \u001b[33mCPU\u001b[0m=\u001b[1;36m18\u001b[0m\u001b[1;36m.\u001b[0m7GB, \u001b[33mGPU\u001b[0m=\u001b[1;36m42\u001b[0m\u001b[1;36m.\u001b[0m5GB.\n"
      ]
     },
     "metadata": {},
     "output_type": "display_data"
    },
    {
     "data": {
      "text/html": [
       "<pre style=\"white-space:pre;overflow-x:auto;line-height:normal;font-family:Menlo,'DejaVu Sans Mono',consolas,'Courier New',monospace\">++&gt; Evaluate scorp_side_dmtet at epoch <span style=\"color: #008080; text-decoration-color: #008080; font-weight: bold\">10</span> <span style=\"color: #808000; text-decoration-color: #808000\">...</span>\n",
       "</pre>\n"
      ],
      "text/plain": [
       "++> Evaluate scorp_side_dmtet at epoch \u001b[1;36m10\u001b[0m \u001b[33m...\u001b[0m\n"
      ]
     },
     "metadata": {},
     "output_type": "display_data"
    },
    {
     "name": "stderr",
     "output_type": "stream",
     "text": [
      "loss=0.0000 (0.0000): : 100% 8/8 [00:00<00:00, 35.49it/s]\n"
     ]
    },
    {
     "data": {
      "text/html": [
       "<pre style=\"white-space:pre;overflow-x:auto;line-height:normal;font-family:Menlo,'DejaVu Sans Mono',consolas,'Courier New',monospace\">++&gt; Evaluate epoch <span style=\"color: #008080; text-decoration-color: #008080; font-weight: bold\">10</span> Finished.\n",
       "</pre>\n"
      ],
      "text/plain": [
       "++> Evaluate epoch \u001b[1;36m10\u001b[0m Finished.\n"
      ]
     },
     "metadata": {},
     "output_type": "display_data"
    },
    {
     "data": {
      "text/html": [
       "<pre style=\"white-space:pre;overflow-x:auto;line-height:normal;font-family:Menlo,'DejaVu Sans Mono',consolas,'Courier New',monospace\">==&gt; Start Test, save results to scorp_side_dmtet/results\n",
       "</pre>\n"
      ],
      "text/plain": [
       "==> Start Test, save results to scorp_side_dmtet/results\n"
      ]
     },
     "metadata": {},
     "output_type": "display_data"
    },
    {
     "name": "stderr",
     "output_type": "stream",
     "text": [
      " 99% 99/100 [00:01<00:00, 85.62it/s]"
     ]
    },
    {
     "data": {
      "text/html": [
       "<pre style=\"white-space:pre;overflow-x:auto;line-height:normal;font-family:Menlo,'DejaVu Sans Mono',consolas,'Courier New',monospace\">==&gt; Finished Test.\n",
       "</pre>\n"
      ],
      "text/plain": [
       "==> Finished Test.\n"
      ]
     },
     "metadata": {},
     "output_type": "display_data"
    },
    {
     "name": "stderr",
     "output_type": "stream",
     "text": [
      "100% 100/100 [00:03<00:00, 29.60it/s]\n"
     ]
    },
    {
     "data": {
      "text/html": [
       "<pre style=\"white-space:pre;overflow-x:auto;line-height:normal;font-family:Menlo,'DejaVu Sans Mono',consolas,'Courier New',monospace\">==&gt; <span style=\"font-weight: bold\">[</span><span style=\"color: #008080; text-decoration-color: #008080; font-weight: bold\">2023</span>-<span style=\"color: #008080; text-decoration-color: #008080; font-weight: bold\">08</span>-27_05-<span style=\"color: #008080; text-decoration-color: #008080; font-weight: bold\">44</span>-<span style=\"color: #008080; text-decoration-color: #008080; font-weight: bold\">49</span><span style=\"font-weight: bold\">]</span> Start Training scorp_side_dmtet Epoch <span style=\"color: #008080; text-decoration-color: #008080; font-weight: bold\">11</span>/<span style=\"color: #008080; text-decoration-color: #008080; font-weight: bold\">100</span>, <span style=\"color: #808000; text-decoration-color: #808000\">lr</span>=<span style=\"color: #008080; text-decoration-color: #008080; font-weight: bold\">0.050000</span> <span style=\"color: #808000; text-decoration-color: #808000\">...</span>\n",
       "</pre>\n"
      ],
      "text/plain": [
       "==> \u001b[1m[\u001b[0m\u001b[1;36m2023\u001b[0m-\u001b[1;36m08\u001b[0m-27_05-\u001b[1;36m44\u001b[0m-\u001b[1;36m49\u001b[0m\u001b[1m]\u001b[0m Start Training scorp_side_dmtet Epoch \u001b[1;36m11\u001b[0m/\u001b[1;36m100\u001b[0m, \u001b[33mlr\u001b[0m=\u001b[1;36m0\u001b[0m\u001b[1;36m.050000\u001b[0m \u001b[33m...\u001b[0m\n"
      ]
     },
     "metadata": {},
     "output_type": "display_data"
    },
    {
     "name": "stderr",
     "output_type": "stream",
     "text": [
      "loss=10.3174 (34.3059), lr=0.050000: : 100% 2400/2400 [00:41<00:00, 57.91it/s] \n"
     ]
    },
    {
     "data": {
      "text/html": [
       "<pre style=\"white-space:pre;overflow-x:auto;line-height:normal;font-family:Menlo,'DejaVu Sans Mono',consolas,'Courier New',monospace\">==&gt; <span style=\"font-weight: bold\">[</span><span style=\"color: #008080; text-decoration-color: #008080; font-weight: bold\">2023</span>-<span style=\"color: #008080; text-decoration-color: #008080; font-weight: bold\">08</span>-27_05-<span style=\"color: #008080; text-decoration-color: #008080; font-weight: bold\">45</span>-<span style=\"color: #008080; text-decoration-color: #008080; font-weight: bold\">31</span><span style=\"font-weight: bold\">]</span> Finished Epoch <span style=\"color: #008080; text-decoration-color: #008080; font-weight: bold\">11</span>/<span style=\"color: #008080; text-decoration-color: #008080; font-weight: bold\">100</span>. <span style=\"color: #808000; text-decoration-color: #808000\">CPU</span>=<span style=\"color: #008080; text-decoration-color: #008080; font-weight: bold\">18.</span>7GB, <span style=\"color: #808000; text-decoration-color: #808000\">GPU</span>=<span style=\"color: #008080; text-decoration-color: #008080; font-weight: bold\">42.</span>5GB.\n",
       "</pre>\n"
      ],
      "text/plain": [
       "==> \u001b[1m[\u001b[0m\u001b[1;36m2023\u001b[0m-\u001b[1;36m08\u001b[0m-27_05-\u001b[1;36m45\u001b[0m-\u001b[1;36m31\u001b[0m\u001b[1m]\u001b[0m Finished Epoch \u001b[1;36m11\u001b[0m/\u001b[1;36m100\u001b[0m. \u001b[33mCPU\u001b[0m=\u001b[1;36m18\u001b[0m\u001b[1;36m.\u001b[0m7GB, \u001b[33mGPU\u001b[0m=\u001b[1;36m42\u001b[0m\u001b[1;36m.\u001b[0m5GB.\n"
      ]
     },
     "metadata": {},
     "output_type": "display_data"
    },
    {
     "data": {
      "text/html": [
       "<pre style=\"white-space:pre;overflow-x:auto;line-height:normal;font-family:Menlo,'DejaVu Sans Mono',consolas,'Courier New',monospace\">++&gt; Evaluate scorp_side_dmtet at epoch <span style=\"color: #008080; text-decoration-color: #008080; font-weight: bold\">11</span> <span style=\"color: #808000; text-decoration-color: #808000\">...</span>\n",
       "</pre>\n"
      ],
      "text/plain": [
       "++> Evaluate scorp_side_dmtet at epoch \u001b[1;36m11\u001b[0m \u001b[33m...\u001b[0m\n"
      ]
     },
     "metadata": {},
     "output_type": "display_data"
    },
    {
     "name": "stderr",
     "output_type": "stream",
     "text": [
      "loss=0.0000 (0.0000): : 100% 8/8 [00:00<00:00, 33.39it/s]\n"
     ]
    },
    {
     "data": {
      "text/html": [
       "<pre style=\"white-space:pre;overflow-x:auto;line-height:normal;font-family:Menlo,'DejaVu Sans Mono',consolas,'Courier New',monospace\">++&gt; Evaluate epoch <span style=\"color: #008080; text-decoration-color: #008080; font-weight: bold\">11</span> Finished.\n",
       "</pre>\n"
      ],
      "text/plain": [
       "++> Evaluate epoch \u001b[1;36m11\u001b[0m Finished.\n"
      ]
     },
     "metadata": {},
     "output_type": "display_data"
    },
    {
     "data": {
      "text/html": [
       "<pre style=\"white-space:pre;overflow-x:auto;line-height:normal;font-family:Menlo,'DejaVu Sans Mono',consolas,'Courier New',monospace\">==&gt; <span style=\"font-weight: bold\">[</span><span style=\"color: #008080; text-decoration-color: #008080; font-weight: bold\">2023</span>-<span style=\"color: #008080; text-decoration-color: #008080; font-weight: bold\">08</span>-27_05-<span style=\"color: #008080; text-decoration-color: #008080; font-weight: bold\">45</span>-<span style=\"color: #008080; text-decoration-color: #008080; font-weight: bold\">31</span><span style=\"font-weight: bold\">]</span> Start Training scorp_side_dmtet Epoch <span style=\"color: #008080; text-decoration-color: #008080; font-weight: bold\">12</span>/<span style=\"color: #008080; text-decoration-color: #008080; font-weight: bold\">100</span>, <span style=\"color: #808000; text-decoration-color: #808000\">lr</span>=<span style=\"color: #008080; text-decoration-color: #008080; font-weight: bold\">0.050000</span> <span style=\"color: #808000; text-decoration-color: #808000\">...</span>\n",
       "</pre>\n"
      ],
      "text/plain": [
       "==> \u001b[1m[\u001b[0m\u001b[1;36m2023\u001b[0m-\u001b[1;36m08\u001b[0m-27_05-\u001b[1;36m45\u001b[0m-\u001b[1;36m31\u001b[0m\u001b[1m]\u001b[0m Start Training scorp_side_dmtet Epoch \u001b[1;36m12\u001b[0m/\u001b[1;36m100\u001b[0m, \u001b[33mlr\u001b[0m=\u001b[1;36m0\u001b[0m\u001b[1;36m.050000\u001b[0m \u001b[33m...\u001b[0m\n"
      ]
     },
     "metadata": {},
     "output_type": "display_data"
    },
    {
     "name": "stderr",
     "output_type": "stream",
     "text": [
      "loss=9.9111 (34.0249), lr=0.050000: : 100% 2400/2400 [00:40<00:00, 58.62it/s]  \n"
     ]
    },
    {
     "data": {
      "text/html": [
       "<pre style=\"white-space:pre;overflow-x:auto;line-height:normal;font-family:Menlo,'DejaVu Sans Mono',consolas,'Courier New',monospace\">==&gt; <span style=\"font-weight: bold\">[</span><span style=\"color: #008080; text-decoration-color: #008080; font-weight: bold\">2023</span>-<span style=\"color: #008080; text-decoration-color: #008080; font-weight: bold\">08</span>-27_05-<span style=\"color: #008080; text-decoration-color: #008080; font-weight: bold\">46</span>-<span style=\"color: #008080; text-decoration-color: #008080; font-weight: bold\">12</span><span style=\"font-weight: bold\">]</span> Finished Epoch <span style=\"color: #008080; text-decoration-color: #008080; font-weight: bold\">12</span>/<span style=\"color: #008080; text-decoration-color: #008080; font-weight: bold\">100</span>. <span style=\"color: #808000; text-decoration-color: #808000\">CPU</span>=<span style=\"color: #008080; text-decoration-color: #008080; font-weight: bold\">18.</span>7GB, <span style=\"color: #808000; text-decoration-color: #808000\">GPU</span>=<span style=\"color: #008080; text-decoration-color: #008080; font-weight: bold\">42.</span>5GB.\n",
       "</pre>\n"
      ],
      "text/plain": [
       "==> \u001b[1m[\u001b[0m\u001b[1;36m2023\u001b[0m-\u001b[1;36m08\u001b[0m-27_05-\u001b[1;36m46\u001b[0m-\u001b[1;36m12\u001b[0m\u001b[1m]\u001b[0m Finished Epoch \u001b[1;36m12\u001b[0m/\u001b[1;36m100\u001b[0m. \u001b[33mCPU\u001b[0m=\u001b[1;36m18\u001b[0m\u001b[1;36m.\u001b[0m7GB, \u001b[33mGPU\u001b[0m=\u001b[1;36m42\u001b[0m\u001b[1;36m.\u001b[0m5GB.\n"
      ]
     },
     "metadata": {},
     "output_type": "display_data"
    },
    {
     "data": {
      "text/html": [
       "<pre style=\"white-space:pre;overflow-x:auto;line-height:normal;font-family:Menlo,'DejaVu Sans Mono',consolas,'Courier New',monospace\">++&gt; Evaluate scorp_side_dmtet at epoch <span style=\"color: #008080; text-decoration-color: #008080; font-weight: bold\">12</span> <span style=\"color: #808000; text-decoration-color: #808000\">...</span>\n",
       "</pre>\n"
      ],
      "text/plain": [
       "++> Evaluate scorp_side_dmtet at epoch \u001b[1;36m12\u001b[0m \u001b[33m...\u001b[0m\n"
      ]
     },
     "metadata": {},
     "output_type": "display_data"
    },
    {
     "name": "stderr",
     "output_type": "stream",
     "text": [
      "loss=0.0000 (0.0000): : 100% 8/8 [00:00<00:00, 35.62it/s]\n"
     ]
    },
    {
     "data": {
      "text/html": [
       "<pre style=\"white-space:pre;overflow-x:auto;line-height:normal;font-family:Menlo,'DejaVu Sans Mono',consolas,'Courier New',monospace\">++&gt; Evaluate epoch <span style=\"color: #008080; text-decoration-color: #008080; font-weight: bold\">12</span> Finished.\n",
       "</pre>\n"
      ],
      "text/plain": [
       "++> Evaluate epoch \u001b[1;36m12\u001b[0m Finished.\n"
      ]
     },
     "metadata": {},
     "output_type": "display_data"
    },
    {
     "data": {
      "text/html": [
       "<pre style=\"white-space:pre;overflow-x:auto;line-height:normal;font-family:Menlo,'DejaVu Sans Mono',consolas,'Courier New',monospace\">==&gt; <span style=\"font-weight: bold\">[</span><span style=\"color: #008080; text-decoration-color: #008080; font-weight: bold\">2023</span>-<span style=\"color: #008080; text-decoration-color: #008080; font-weight: bold\">08</span>-27_05-<span style=\"color: #008080; text-decoration-color: #008080; font-weight: bold\">46</span>-<span style=\"color: #008080; text-decoration-color: #008080; font-weight: bold\">13</span><span style=\"font-weight: bold\">]</span> Start Training scorp_side_dmtet Epoch <span style=\"color: #008080; text-decoration-color: #008080; font-weight: bold\">13</span>/<span style=\"color: #008080; text-decoration-color: #008080; font-weight: bold\">100</span>, <span style=\"color: #808000; text-decoration-color: #808000\">lr</span>=<span style=\"color: #008080; text-decoration-color: #008080; font-weight: bold\">0.050000</span> <span style=\"color: #808000; text-decoration-color: #808000\">...</span>\n",
       "</pre>\n"
      ],
      "text/plain": [
       "==> \u001b[1m[\u001b[0m\u001b[1;36m2023\u001b[0m-\u001b[1;36m08\u001b[0m-27_05-\u001b[1;36m46\u001b[0m-\u001b[1;36m13\u001b[0m\u001b[1m]\u001b[0m Start Training scorp_side_dmtet Epoch \u001b[1;36m13\u001b[0m/\u001b[1;36m100\u001b[0m, \u001b[33mlr\u001b[0m=\u001b[1;36m0\u001b[0m\u001b[1;36m.050000\u001b[0m \u001b[33m...\u001b[0m\n"
      ]
     },
     "metadata": {},
     "output_type": "display_data"
    },
    {
     "name": "stderr",
     "output_type": "stream",
     "text": [
      "loss=9.7973 (34.9741), lr=0.050000: : 100% 2400/2400 [00:41<00:00, 57.67it/s] \n"
     ]
    },
    {
     "data": {
      "text/html": [
       "<pre style=\"white-space:pre;overflow-x:auto;line-height:normal;font-family:Menlo,'DejaVu Sans Mono',consolas,'Courier New',monospace\">==&gt; <span style=\"font-weight: bold\">[</span><span style=\"color: #008080; text-decoration-color: #008080; font-weight: bold\">2023</span>-<span style=\"color: #008080; text-decoration-color: #008080; font-weight: bold\">08</span>-27_05-<span style=\"color: #008080; text-decoration-color: #008080; font-weight: bold\">46</span>-<span style=\"color: #008080; text-decoration-color: #008080; font-weight: bold\">54</span><span style=\"font-weight: bold\">]</span> Finished Epoch <span style=\"color: #008080; text-decoration-color: #008080; font-weight: bold\">13</span>/<span style=\"color: #008080; text-decoration-color: #008080; font-weight: bold\">100</span>. <span style=\"color: #808000; text-decoration-color: #808000\">CPU</span>=<span style=\"color: #008080; text-decoration-color: #008080; font-weight: bold\">18.</span>7GB, <span style=\"color: #808000; text-decoration-color: #808000\">GPU</span>=<span style=\"color: #008080; text-decoration-color: #008080; font-weight: bold\">42.</span>5GB.\n",
       "</pre>\n"
      ],
      "text/plain": [
       "==> \u001b[1m[\u001b[0m\u001b[1;36m2023\u001b[0m-\u001b[1;36m08\u001b[0m-27_05-\u001b[1;36m46\u001b[0m-\u001b[1;36m54\u001b[0m\u001b[1m]\u001b[0m Finished Epoch \u001b[1;36m13\u001b[0m/\u001b[1;36m100\u001b[0m. \u001b[33mCPU\u001b[0m=\u001b[1;36m18\u001b[0m\u001b[1;36m.\u001b[0m7GB, \u001b[33mGPU\u001b[0m=\u001b[1;36m42\u001b[0m\u001b[1;36m.\u001b[0m5GB.\n"
      ]
     },
     "metadata": {},
     "output_type": "display_data"
    },
    {
     "data": {
      "text/html": [
       "<pre style=\"white-space:pre;overflow-x:auto;line-height:normal;font-family:Menlo,'DejaVu Sans Mono',consolas,'Courier New',monospace\">++&gt; Evaluate scorp_side_dmtet at epoch <span style=\"color: #008080; text-decoration-color: #008080; font-weight: bold\">13</span> <span style=\"color: #808000; text-decoration-color: #808000\">...</span>\n",
       "</pre>\n"
      ],
      "text/plain": [
       "++> Evaluate scorp_side_dmtet at epoch \u001b[1;36m13\u001b[0m \u001b[33m...\u001b[0m\n"
      ]
     },
     "metadata": {},
     "output_type": "display_data"
    },
    {
     "name": "stderr",
     "output_type": "stream",
     "text": [
      "loss=0.0000 (0.0000): : 100% 8/8 [00:00<00:00, 35.12it/s]\n"
     ]
    },
    {
     "data": {
      "text/html": [
       "<pre style=\"white-space:pre;overflow-x:auto;line-height:normal;font-family:Menlo,'DejaVu Sans Mono',consolas,'Courier New',monospace\">++&gt; Evaluate epoch <span style=\"color: #008080; text-decoration-color: #008080; font-weight: bold\">13</span> Finished.\n",
       "</pre>\n"
      ],
      "text/plain": [
       "++> Evaluate epoch \u001b[1;36m13\u001b[0m Finished.\n"
      ]
     },
     "metadata": {},
     "output_type": "display_data"
    },
    {
     "data": {
      "text/html": [
       "<pre style=\"white-space:pre;overflow-x:auto;line-height:normal;font-family:Menlo,'DejaVu Sans Mono',consolas,'Courier New',monospace\">==&gt; <span style=\"font-weight: bold\">[</span><span style=\"color: #008080; text-decoration-color: #008080; font-weight: bold\">2023</span>-<span style=\"color: #008080; text-decoration-color: #008080; font-weight: bold\">08</span>-27_05-<span style=\"color: #008080; text-decoration-color: #008080; font-weight: bold\">46</span>-<span style=\"color: #008080; text-decoration-color: #008080; font-weight: bold\">55</span><span style=\"font-weight: bold\">]</span> Start Training scorp_side_dmtet Epoch <span style=\"color: #008080; text-decoration-color: #008080; font-weight: bold\">14</span>/<span style=\"color: #008080; text-decoration-color: #008080; font-weight: bold\">100</span>, <span style=\"color: #808000; text-decoration-color: #808000\">lr</span>=<span style=\"color: #008080; text-decoration-color: #008080; font-weight: bold\">0.050000</span> <span style=\"color: #808000; text-decoration-color: #808000\">...</span>\n",
       "</pre>\n"
      ],
      "text/plain": [
       "==> \u001b[1m[\u001b[0m\u001b[1;36m2023\u001b[0m-\u001b[1;36m08\u001b[0m-27_05-\u001b[1;36m46\u001b[0m-\u001b[1;36m55\u001b[0m\u001b[1m]\u001b[0m Start Training scorp_side_dmtet Epoch \u001b[1;36m14\u001b[0m/\u001b[1;36m100\u001b[0m, \u001b[33mlr\u001b[0m=\u001b[1;36m0\u001b[0m\u001b[1;36m.050000\u001b[0m \u001b[33m...\u001b[0m\n"
      ]
     },
     "metadata": {},
     "output_type": "display_data"
    },
    {
     "name": "stderr",
     "output_type": "stream",
     "text": [
      "loss=9.2860 (33.6372), lr=0.050000: : 100% 2400/2400 [00:41<00:00, 57.90it/s] \n"
     ]
    },
    {
     "data": {
      "text/html": [
       "<pre style=\"white-space:pre;overflow-x:auto;line-height:normal;font-family:Menlo,'DejaVu Sans Mono',consolas,'Courier New',monospace\">==&gt; <span style=\"font-weight: bold\">[</span><span style=\"color: #008080; text-decoration-color: #008080; font-weight: bold\">2023</span>-<span style=\"color: #008080; text-decoration-color: #008080; font-weight: bold\">08</span>-27_05-<span style=\"color: #008080; text-decoration-color: #008080; font-weight: bold\">47</span>-<span style=\"color: #008080; text-decoration-color: #008080; font-weight: bold\">37</span><span style=\"font-weight: bold\">]</span> Finished Epoch <span style=\"color: #008080; text-decoration-color: #008080; font-weight: bold\">14</span>/<span style=\"color: #008080; text-decoration-color: #008080; font-weight: bold\">100</span>. <span style=\"color: #808000; text-decoration-color: #808000\">CPU</span>=<span style=\"color: #008080; text-decoration-color: #008080; font-weight: bold\">18.</span>7GB, <span style=\"color: #808000; text-decoration-color: #808000\">GPU</span>=<span style=\"color: #008080; text-decoration-color: #008080; font-weight: bold\">42.</span>5GB.\n",
       "</pre>\n"
      ],
      "text/plain": [
       "==> \u001b[1m[\u001b[0m\u001b[1;36m2023\u001b[0m-\u001b[1;36m08\u001b[0m-27_05-\u001b[1;36m47\u001b[0m-\u001b[1;36m37\u001b[0m\u001b[1m]\u001b[0m Finished Epoch \u001b[1;36m14\u001b[0m/\u001b[1;36m100\u001b[0m. \u001b[33mCPU\u001b[0m=\u001b[1;36m18\u001b[0m\u001b[1;36m.\u001b[0m7GB, \u001b[33mGPU\u001b[0m=\u001b[1;36m42\u001b[0m\u001b[1;36m.\u001b[0m5GB.\n"
      ]
     },
     "metadata": {},
     "output_type": "display_data"
    },
    {
     "data": {
      "text/html": [
       "<pre style=\"white-space:pre;overflow-x:auto;line-height:normal;font-family:Menlo,'DejaVu Sans Mono',consolas,'Courier New',monospace\">++&gt; Evaluate scorp_side_dmtet at epoch <span style=\"color: #008080; text-decoration-color: #008080; font-weight: bold\">14</span> <span style=\"color: #808000; text-decoration-color: #808000\">...</span>\n",
       "</pre>\n"
      ],
      "text/plain": [
       "++> Evaluate scorp_side_dmtet at epoch \u001b[1;36m14\u001b[0m \u001b[33m...\u001b[0m\n"
      ]
     },
     "metadata": {},
     "output_type": "display_data"
    },
    {
     "name": "stderr",
     "output_type": "stream",
     "text": [
      "loss=0.0000 (0.0000): : 100% 8/8 [00:00<00:00, 35.34it/s]\n"
     ]
    },
    {
     "data": {
      "text/html": [
       "<pre style=\"white-space:pre;overflow-x:auto;line-height:normal;font-family:Menlo,'DejaVu Sans Mono',consolas,'Courier New',monospace\">++&gt; Evaluate epoch <span style=\"color: #008080; text-decoration-color: #008080; font-weight: bold\">14</span> Finished.\n",
       "</pre>\n"
      ],
      "text/plain": [
       "++> Evaluate epoch \u001b[1;36m14\u001b[0m Finished.\n"
      ]
     },
     "metadata": {},
     "output_type": "display_data"
    },
    {
     "data": {
      "text/html": [
       "<pre style=\"white-space:pre;overflow-x:auto;line-height:normal;font-family:Menlo,'DejaVu Sans Mono',consolas,'Courier New',monospace\">==&gt; <span style=\"font-weight: bold\">[</span><span style=\"color: #008080; text-decoration-color: #008080; font-weight: bold\">2023</span>-<span style=\"color: #008080; text-decoration-color: #008080; font-weight: bold\">08</span>-27_05-<span style=\"color: #008080; text-decoration-color: #008080; font-weight: bold\">47</span>-<span style=\"color: #008080; text-decoration-color: #008080; font-weight: bold\">37</span><span style=\"font-weight: bold\">]</span> Start Training scorp_side_dmtet Epoch <span style=\"color: #008080; text-decoration-color: #008080; font-weight: bold\">15</span>/<span style=\"color: #008080; text-decoration-color: #008080; font-weight: bold\">100</span>, <span style=\"color: #808000; text-decoration-color: #808000\">lr</span>=<span style=\"color: #008080; text-decoration-color: #008080; font-weight: bold\">0.050000</span> <span style=\"color: #808000; text-decoration-color: #808000\">...</span>\n",
       "</pre>\n"
      ],
      "text/plain": [
       "==> \u001b[1m[\u001b[0m\u001b[1;36m2023\u001b[0m-\u001b[1;36m08\u001b[0m-27_05-\u001b[1;36m47\u001b[0m-\u001b[1;36m37\u001b[0m\u001b[1m]\u001b[0m Start Training scorp_side_dmtet Epoch \u001b[1;36m15\u001b[0m/\u001b[1;36m100\u001b[0m, \u001b[33mlr\u001b[0m=\u001b[1;36m0\u001b[0m\u001b[1;36m.050000\u001b[0m \u001b[33m...\u001b[0m\n"
      ]
     },
     "metadata": {},
     "output_type": "display_data"
    },
    {
     "name": "stderr",
     "output_type": "stream",
     "text": [
      "loss=8.9747 (33.4518), lr=0.050000: : 100% 2400/2400 [00:40<00:00, 58.58it/s]  \n"
     ]
    },
    {
     "data": {
      "text/html": [
       "<pre style=\"white-space:pre;overflow-x:auto;line-height:normal;font-family:Menlo,'DejaVu Sans Mono',consolas,'Courier New',monospace\">==&gt; <span style=\"font-weight: bold\">[</span><span style=\"color: #008080; text-decoration-color: #008080; font-weight: bold\">2023</span>-<span style=\"color: #008080; text-decoration-color: #008080; font-weight: bold\">08</span>-27_05-<span style=\"color: #008080; text-decoration-color: #008080; font-weight: bold\">48</span>-<span style=\"color: #008080; text-decoration-color: #008080; font-weight: bold\">18</span><span style=\"font-weight: bold\">]</span> Finished Epoch <span style=\"color: #008080; text-decoration-color: #008080; font-weight: bold\">15</span>/<span style=\"color: #008080; text-decoration-color: #008080; font-weight: bold\">100</span>. <span style=\"color: #808000; text-decoration-color: #808000\">CPU</span>=<span style=\"color: #008080; text-decoration-color: #008080; font-weight: bold\">18.</span>7GB, <span style=\"color: #808000; text-decoration-color: #808000\">GPU</span>=<span style=\"color: #008080; text-decoration-color: #008080; font-weight: bold\">42.</span>5GB.\n",
       "</pre>\n"
      ],
      "text/plain": [
       "==> \u001b[1m[\u001b[0m\u001b[1;36m2023\u001b[0m-\u001b[1;36m08\u001b[0m-27_05-\u001b[1;36m48\u001b[0m-\u001b[1;36m18\u001b[0m\u001b[1m]\u001b[0m Finished Epoch \u001b[1;36m15\u001b[0m/\u001b[1;36m100\u001b[0m. \u001b[33mCPU\u001b[0m=\u001b[1;36m18\u001b[0m\u001b[1;36m.\u001b[0m7GB, \u001b[33mGPU\u001b[0m=\u001b[1;36m42\u001b[0m\u001b[1;36m.\u001b[0m5GB.\n"
      ]
     },
     "metadata": {},
     "output_type": "display_data"
    },
    {
     "data": {
      "text/html": [
       "<pre style=\"white-space:pre;overflow-x:auto;line-height:normal;font-family:Menlo,'DejaVu Sans Mono',consolas,'Courier New',monospace\">++&gt; Evaluate scorp_side_dmtet at epoch <span style=\"color: #008080; text-decoration-color: #008080; font-weight: bold\">15</span> <span style=\"color: #808000; text-decoration-color: #808000\">...</span>\n",
       "</pre>\n"
      ],
      "text/plain": [
       "++> Evaluate scorp_side_dmtet at epoch \u001b[1;36m15\u001b[0m \u001b[33m...\u001b[0m\n"
      ]
     },
     "metadata": {},
     "output_type": "display_data"
    },
    {
     "name": "stderr",
     "output_type": "stream",
     "text": [
      "loss=0.0000 (0.0000): : 100% 8/8 [00:00<00:00, 36.10it/s]\n"
     ]
    },
    {
     "data": {
      "text/html": [
       "<pre style=\"white-space:pre;overflow-x:auto;line-height:normal;font-family:Menlo,'DejaVu Sans Mono',consolas,'Courier New',monospace\">++&gt; Evaluate epoch <span style=\"color: #008080; text-decoration-color: #008080; font-weight: bold\">15</span> Finished.\n",
       "</pre>\n"
      ],
      "text/plain": [
       "++> Evaluate epoch \u001b[1;36m15\u001b[0m Finished.\n"
      ]
     },
     "metadata": {},
     "output_type": "display_data"
    },
    {
     "data": {
      "text/html": [
       "<pre style=\"white-space:pre;overflow-x:auto;line-height:normal;font-family:Menlo,'DejaVu Sans Mono',consolas,'Courier New',monospace\">==&gt; Start Test, save results to scorp_side_dmtet/results\n",
       "</pre>\n"
      ],
      "text/plain": [
       "==> Start Test, save results to scorp_side_dmtet/results\n"
      ]
     },
     "metadata": {},
     "output_type": "display_data"
    },
    {
     "name": "stderr",
     "output_type": "stream",
     "text": [
      " 99% 99/100 [00:01<00:00, 82.19it/s]"
     ]
    },
    {
     "data": {
      "text/html": [
       "<pre style=\"white-space:pre;overflow-x:auto;line-height:normal;font-family:Menlo,'DejaVu Sans Mono',consolas,'Courier New',monospace\">==&gt; Finished Test.\n",
       "</pre>\n"
      ],
      "text/plain": [
       "==> Finished Test.\n"
      ]
     },
     "metadata": {},
     "output_type": "display_data"
    },
    {
     "name": "stderr",
     "output_type": "stream",
     "text": [
      "100% 100/100 [00:03<00:00, 31.19it/s]\n"
     ]
    },
    {
     "data": {
      "text/html": [
       "<pre style=\"white-space:pre;overflow-x:auto;line-height:normal;font-family:Menlo,'DejaVu Sans Mono',consolas,'Courier New',monospace\">==&gt; <span style=\"font-weight: bold\">[</span><span style=\"color: #008080; text-decoration-color: #008080; font-weight: bold\">2023</span>-<span style=\"color: #008080; text-decoration-color: #008080; font-weight: bold\">08</span>-27_05-<span style=\"color: #008080; text-decoration-color: #008080; font-weight: bold\">48</span>-<span style=\"color: #008080; text-decoration-color: #008080; font-weight: bold\">22</span><span style=\"font-weight: bold\">]</span> Start Training scorp_side_dmtet Epoch <span style=\"color: #008080; text-decoration-color: #008080; font-weight: bold\">16</span>/<span style=\"color: #008080; text-decoration-color: #008080; font-weight: bold\">100</span>, <span style=\"color: #808000; text-decoration-color: #808000\">lr</span>=<span style=\"color: #008080; text-decoration-color: #008080; font-weight: bold\">0.050000</span> <span style=\"color: #808000; text-decoration-color: #808000\">...</span>\n",
       "</pre>\n"
      ],
      "text/plain": [
       "==> \u001b[1m[\u001b[0m\u001b[1;36m2023\u001b[0m-\u001b[1;36m08\u001b[0m-27_05-\u001b[1;36m48\u001b[0m-\u001b[1;36m22\u001b[0m\u001b[1m]\u001b[0m Start Training scorp_side_dmtet Epoch \u001b[1;36m16\u001b[0m/\u001b[1;36m100\u001b[0m, \u001b[33mlr\u001b[0m=\u001b[1;36m0\u001b[0m\u001b[1;36m.050000\u001b[0m \u001b[33m...\u001b[0m\n"
      ]
     },
     "metadata": {},
     "output_type": "display_data"
    },
    {
     "name": "stderr",
     "output_type": "stream",
     "text": [
      "loss=8.6055 (33.4554), lr=0.050000: : 100% 2400/2400 [00:41<00:00, 58.16it/s] \n"
     ]
    },
    {
     "data": {
      "text/html": [
       "<pre style=\"white-space:pre;overflow-x:auto;line-height:normal;font-family:Menlo,'DejaVu Sans Mono',consolas,'Courier New',monospace\">==&gt; <span style=\"font-weight: bold\">[</span><span style=\"color: #008080; text-decoration-color: #008080; font-weight: bold\">2023</span>-<span style=\"color: #008080; text-decoration-color: #008080; font-weight: bold\">08</span>-27_05-<span style=\"color: #008080; text-decoration-color: #008080; font-weight: bold\">49</span>-<span style=\"color: #008080; text-decoration-color: #008080; font-weight: bold\">03</span><span style=\"font-weight: bold\">]</span> Finished Epoch <span style=\"color: #008080; text-decoration-color: #008080; font-weight: bold\">16</span>/<span style=\"color: #008080; text-decoration-color: #008080; font-weight: bold\">100</span>. <span style=\"color: #808000; text-decoration-color: #808000\">CPU</span>=<span style=\"color: #008080; text-decoration-color: #008080; font-weight: bold\">18.</span>7GB, <span style=\"color: #808000; text-decoration-color: #808000\">GPU</span>=<span style=\"color: #008080; text-decoration-color: #008080; font-weight: bold\">42.</span>5GB.\n",
       "</pre>\n"
      ],
      "text/plain": [
       "==> \u001b[1m[\u001b[0m\u001b[1;36m2023\u001b[0m-\u001b[1;36m08\u001b[0m-27_05-\u001b[1;36m49\u001b[0m-\u001b[1;36m03\u001b[0m\u001b[1m]\u001b[0m Finished Epoch \u001b[1;36m16\u001b[0m/\u001b[1;36m100\u001b[0m. \u001b[33mCPU\u001b[0m=\u001b[1;36m18\u001b[0m\u001b[1;36m.\u001b[0m7GB, \u001b[33mGPU\u001b[0m=\u001b[1;36m42\u001b[0m\u001b[1;36m.\u001b[0m5GB.\n"
      ]
     },
     "metadata": {},
     "output_type": "display_data"
    },
    {
     "data": {
      "text/html": [
       "<pre style=\"white-space:pre;overflow-x:auto;line-height:normal;font-family:Menlo,'DejaVu Sans Mono',consolas,'Courier New',monospace\">++&gt; Evaluate scorp_side_dmtet at epoch <span style=\"color: #008080; text-decoration-color: #008080; font-weight: bold\">16</span> <span style=\"color: #808000; text-decoration-color: #808000\">...</span>\n",
       "</pre>\n"
      ],
      "text/plain": [
       "++> Evaluate scorp_side_dmtet at epoch \u001b[1;36m16\u001b[0m \u001b[33m...\u001b[0m\n"
      ]
     },
     "metadata": {},
     "output_type": "display_data"
    },
    {
     "name": "stderr",
     "output_type": "stream",
     "text": [
      "loss=0.0000 (0.0000): : 100% 8/8 [00:00<00:00, 35.92it/s]\n"
     ]
    },
    {
     "data": {
      "text/html": [
       "<pre style=\"white-space:pre;overflow-x:auto;line-height:normal;font-family:Menlo,'DejaVu Sans Mono',consolas,'Courier New',monospace\">++&gt; Evaluate epoch <span style=\"color: #008080; text-decoration-color: #008080; font-weight: bold\">16</span> Finished.\n",
       "</pre>\n"
      ],
      "text/plain": [
       "++> Evaluate epoch \u001b[1;36m16\u001b[0m Finished.\n"
      ]
     },
     "metadata": {},
     "output_type": "display_data"
    },
    {
     "data": {
      "text/html": [
       "<pre style=\"white-space:pre;overflow-x:auto;line-height:normal;font-family:Menlo,'DejaVu Sans Mono',consolas,'Courier New',monospace\">==&gt; <span style=\"font-weight: bold\">[</span><span style=\"color: #008080; text-decoration-color: #008080; font-weight: bold\">2023</span>-<span style=\"color: #008080; text-decoration-color: #008080; font-weight: bold\">08</span>-27_05-<span style=\"color: #008080; text-decoration-color: #008080; font-weight: bold\">49</span>-<span style=\"color: #008080; text-decoration-color: #008080; font-weight: bold\">04</span><span style=\"font-weight: bold\">]</span> Start Training scorp_side_dmtet Epoch <span style=\"color: #008080; text-decoration-color: #008080; font-weight: bold\">17</span>/<span style=\"color: #008080; text-decoration-color: #008080; font-weight: bold\">100</span>, <span style=\"color: #808000; text-decoration-color: #808000\">lr</span>=<span style=\"color: #008080; text-decoration-color: #008080; font-weight: bold\">0.050000</span> <span style=\"color: #808000; text-decoration-color: #808000\">...</span>\n",
       "</pre>\n"
      ],
      "text/plain": [
       "==> \u001b[1m[\u001b[0m\u001b[1;36m2023\u001b[0m-\u001b[1;36m08\u001b[0m-27_05-\u001b[1;36m49\u001b[0m-\u001b[1;36m04\u001b[0m\u001b[1m]\u001b[0m Start Training scorp_side_dmtet Epoch \u001b[1;36m17\u001b[0m/\u001b[1;36m100\u001b[0m, \u001b[33mlr\u001b[0m=\u001b[1;36m0\u001b[0m\u001b[1;36m.050000\u001b[0m \u001b[33m...\u001b[0m\n"
      ]
     },
     "metadata": {},
     "output_type": "display_data"
    },
    {
     "name": "stderr",
     "output_type": "stream",
     "text": [
      "loss=8.2942 (35.8853), lr=0.050000: : 100% 2400/2400 [00:41<00:00, 58.30it/s]  \n"
     ]
    },
    {
     "data": {
      "text/html": [
       "<pre style=\"white-space:pre;overflow-x:auto;line-height:normal;font-family:Menlo,'DejaVu Sans Mono',consolas,'Courier New',monospace\">==&gt; <span style=\"font-weight: bold\">[</span><span style=\"color: #008080; text-decoration-color: #008080; font-weight: bold\">2023</span>-<span style=\"color: #008080; text-decoration-color: #008080; font-weight: bold\">08</span>-27_05-<span style=\"color: #008080; text-decoration-color: #008080; font-weight: bold\">49</span>-<span style=\"color: #008080; text-decoration-color: #008080; font-weight: bold\">45</span><span style=\"font-weight: bold\">]</span> Finished Epoch <span style=\"color: #008080; text-decoration-color: #008080; font-weight: bold\">17</span>/<span style=\"color: #008080; text-decoration-color: #008080; font-weight: bold\">100</span>. <span style=\"color: #808000; text-decoration-color: #808000\">CPU</span>=<span style=\"color: #008080; text-decoration-color: #008080; font-weight: bold\">18.</span>7GB, <span style=\"color: #808000; text-decoration-color: #808000\">GPU</span>=<span style=\"color: #008080; text-decoration-color: #008080; font-weight: bold\">42.</span>5GB.\n",
       "</pre>\n"
      ],
      "text/plain": [
       "==> \u001b[1m[\u001b[0m\u001b[1;36m2023\u001b[0m-\u001b[1;36m08\u001b[0m-27_05-\u001b[1;36m49\u001b[0m-\u001b[1;36m45\u001b[0m\u001b[1m]\u001b[0m Finished Epoch \u001b[1;36m17\u001b[0m/\u001b[1;36m100\u001b[0m. \u001b[33mCPU\u001b[0m=\u001b[1;36m18\u001b[0m\u001b[1;36m.\u001b[0m7GB, \u001b[33mGPU\u001b[0m=\u001b[1;36m42\u001b[0m\u001b[1;36m.\u001b[0m5GB.\n"
      ]
     },
     "metadata": {},
     "output_type": "display_data"
    },
    {
     "data": {
      "text/html": [
       "<pre style=\"white-space:pre;overflow-x:auto;line-height:normal;font-family:Menlo,'DejaVu Sans Mono',consolas,'Courier New',monospace\">++&gt; Evaluate scorp_side_dmtet at epoch <span style=\"color: #008080; text-decoration-color: #008080; font-weight: bold\">17</span> <span style=\"color: #808000; text-decoration-color: #808000\">...</span>\n",
       "</pre>\n"
      ],
      "text/plain": [
       "++> Evaluate scorp_side_dmtet at epoch \u001b[1;36m17\u001b[0m \u001b[33m...\u001b[0m\n"
      ]
     },
     "metadata": {},
     "output_type": "display_data"
    },
    {
     "name": "stderr",
     "output_type": "stream",
     "text": [
      "loss=0.0000 (0.0000): : 100% 8/8 [00:00<00:00, 35.37it/s]\n"
     ]
    },
    {
     "data": {
      "text/html": [
       "<pre style=\"white-space:pre;overflow-x:auto;line-height:normal;font-family:Menlo,'DejaVu Sans Mono',consolas,'Courier New',monospace\">++&gt; Evaluate epoch <span style=\"color: #008080; text-decoration-color: #008080; font-weight: bold\">17</span> Finished.\n",
       "</pre>\n"
      ],
      "text/plain": [
       "++> Evaluate epoch \u001b[1;36m17\u001b[0m Finished.\n"
      ]
     },
     "metadata": {},
     "output_type": "display_data"
    },
    {
     "data": {
      "text/html": [
       "<pre style=\"white-space:pre;overflow-x:auto;line-height:normal;font-family:Menlo,'DejaVu Sans Mono',consolas,'Courier New',monospace\">==&gt; <span style=\"font-weight: bold\">[</span><span style=\"color: #008080; text-decoration-color: #008080; font-weight: bold\">2023</span>-<span style=\"color: #008080; text-decoration-color: #008080; font-weight: bold\">08</span>-27_05-<span style=\"color: #008080; text-decoration-color: #008080; font-weight: bold\">49</span>-<span style=\"color: #008080; text-decoration-color: #008080; font-weight: bold\">46</span><span style=\"font-weight: bold\">]</span> Start Training scorp_side_dmtet Epoch <span style=\"color: #008080; text-decoration-color: #008080; font-weight: bold\">18</span>/<span style=\"color: #008080; text-decoration-color: #008080; font-weight: bold\">100</span>, <span style=\"color: #808000; text-decoration-color: #808000\">lr</span>=<span style=\"color: #008080; text-decoration-color: #008080; font-weight: bold\">0.050000</span> <span style=\"color: #808000; text-decoration-color: #808000\">...</span>\n",
       "</pre>\n"
      ],
      "text/plain": [
       "==> \u001b[1m[\u001b[0m\u001b[1;36m2023\u001b[0m-\u001b[1;36m08\u001b[0m-27_05-\u001b[1;36m49\u001b[0m-\u001b[1;36m46\u001b[0m\u001b[1m]\u001b[0m Start Training scorp_side_dmtet Epoch \u001b[1;36m18\u001b[0m/\u001b[1;36m100\u001b[0m, \u001b[33mlr\u001b[0m=\u001b[1;36m0\u001b[0m\u001b[1;36m.050000\u001b[0m \u001b[33m...\u001b[0m\n"
      ]
     },
     "metadata": {},
     "output_type": "display_data"
    },
    {
     "name": "stderr",
     "output_type": "stream",
     "text": [
      "loss=8.1212 (35.4721), lr=0.050000: : 100% 2400/2400 [00:41<00:00, 58.47it/s]  \n"
     ]
    },
    {
     "data": {
      "text/html": [
       "<pre style=\"white-space:pre;overflow-x:auto;line-height:normal;font-family:Menlo,'DejaVu Sans Mono',consolas,'Courier New',monospace\">==&gt; <span style=\"font-weight: bold\">[</span><span style=\"color: #008080; text-decoration-color: #008080; font-weight: bold\">2023</span>-<span style=\"color: #008080; text-decoration-color: #008080; font-weight: bold\">08</span>-27_05-<span style=\"color: #008080; text-decoration-color: #008080; font-weight: bold\">50</span>-<span style=\"color: #008080; text-decoration-color: #008080; font-weight: bold\">27</span><span style=\"font-weight: bold\">]</span> Finished Epoch <span style=\"color: #008080; text-decoration-color: #008080; font-weight: bold\">18</span>/<span style=\"color: #008080; text-decoration-color: #008080; font-weight: bold\">100</span>. <span style=\"color: #808000; text-decoration-color: #808000\">CPU</span>=<span style=\"color: #008080; text-decoration-color: #008080; font-weight: bold\">18.</span>7GB, <span style=\"color: #808000; text-decoration-color: #808000\">GPU</span>=<span style=\"color: #008080; text-decoration-color: #008080; font-weight: bold\">42.</span>5GB.\n",
       "</pre>\n"
      ],
      "text/plain": [
       "==> \u001b[1m[\u001b[0m\u001b[1;36m2023\u001b[0m-\u001b[1;36m08\u001b[0m-27_05-\u001b[1;36m50\u001b[0m-\u001b[1;36m27\u001b[0m\u001b[1m]\u001b[0m Finished Epoch \u001b[1;36m18\u001b[0m/\u001b[1;36m100\u001b[0m. \u001b[33mCPU\u001b[0m=\u001b[1;36m18\u001b[0m\u001b[1;36m.\u001b[0m7GB, \u001b[33mGPU\u001b[0m=\u001b[1;36m42\u001b[0m\u001b[1;36m.\u001b[0m5GB.\n"
      ]
     },
     "metadata": {},
     "output_type": "display_data"
    },
    {
     "data": {
      "text/html": [
       "<pre style=\"white-space:pre;overflow-x:auto;line-height:normal;font-family:Menlo,'DejaVu Sans Mono',consolas,'Courier New',monospace\">++&gt; Evaluate scorp_side_dmtet at epoch <span style=\"color: #008080; text-decoration-color: #008080; font-weight: bold\">18</span> <span style=\"color: #808000; text-decoration-color: #808000\">...</span>\n",
       "</pre>\n"
      ],
      "text/plain": [
       "++> Evaluate scorp_side_dmtet at epoch \u001b[1;36m18\u001b[0m \u001b[33m...\u001b[0m\n"
      ]
     },
     "metadata": {},
     "output_type": "display_data"
    },
    {
     "name": "stderr",
     "output_type": "stream",
     "text": [
      "loss=0.0000 (0.0000): : 100% 8/8 [00:00<00:00, 35.08it/s]\n"
     ]
    },
    {
     "data": {
      "text/html": [
       "<pre style=\"white-space:pre;overflow-x:auto;line-height:normal;font-family:Menlo,'DejaVu Sans Mono',consolas,'Courier New',monospace\">++&gt; Evaluate epoch <span style=\"color: #008080; text-decoration-color: #008080; font-weight: bold\">18</span> Finished.\n",
       "</pre>\n"
      ],
      "text/plain": [
       "++> Evaluate epoch \u001b[1;36m18\u001b[0m Finished.\n"
      ]
     },
     "metadata": {},
     "output_type": "display_data"
    },
    {
     "data": {
      "text/html": [
       "<pre style=\"white-space:pre;overflow-x:auto;line-height:normal;font-family:Menlo,'DejaVu Sans Mono',consolas,'Courier New',monospace\">==&gt; <span style=\"font-weight: bold\">[</span><span style=\"color: #008080; text-decoration-color: #008080; font-weight: bold\">2023</span>-<span style=\"color: #008080; text-decoration-color: #008080; font-weight: bold\">08</span>-27_05-<span style=\"color: #008080; text-decoration-color: #008080; font-weight: bold\">50</span>-<span style=\"color: #008080; text-decoration-color: #008080; font-weight: bold\">27</span><span style=\"font-weight: bold\">]</span> Start Training scorp_side_dmtet Epoch <span style=\"color: #008080; text-decoration-color: #008080; font-weight: bold\">19</span>/<span style=\"color: #008080; text-decoration-color: #008080; font-weight: bold\">100</span>, <span style=\"color: #808000; text-decoration-color: #808000\">lr</span>=<span style=\"color: #008080; text-decoration-color: #008080; font-weight: bold\">0.050000</span> <span style=\"color: #808000; text-decoration-color: #808000\">...</span>\n",
       "</pre>\n"
      ],
      "text/plain": [
       "==> \u001b[1m[\u001b[0m\u001b[1;36m2023\u001b[0m-\u001b[1;36m08\u001b[0m-27_05-\u001b[1;36m50\u001b[0m-\u001b[1;36m27\u001b[0m\u001b[1m]\u001b[0m Start Training scorp_side_dmtet Epoch \u001b[1;36m19\u001b[0m/\u001b[1;36m100\u001b[0m, \u001b[33mlr\u001b[0m=\u001b[1;36m0\u001b[0m\u001b[1;36m.050000\u001b[0m \u001b[33m...\u001b[0m\n"
      ]
     },
     "metadata": {},
     "output_type": "display_data"
    },
    {
     "name": "stderr",
     "output_type": "stream",
     "text": [
      "loss=7.9400 (34.3311), lr=0.050000: : 100% 2400/2400 [00:41<00:00, 57.52it/s]  \n"
     ]
    },
    {
     "data": {
      "text/html": [
       "<pre style=\"white-space:pre;overflow-x:auto;line-height:normal;font-family:Menlo,'DejaVu Sans Mono',consolas,'Courier New',monospace\">==&gt; <span style=\"font-weight: bold\">[</span><span style=\"color: #008080; text-decoration-color: #008080; font-weight: bold\">2023</span>-<span style=\"color: #008080; text-decoration-color: #008080; font-weight: bold\">08</span>-27_05-<span style=\"color: #008080; text-decoration-color: #008080; font-weight: bold\">51</span>-<span style=\"color: #008080; text-decoration-color: #008080; font-weight: bold\">09</span><span style=\"font-weight: bold\">]</span> Finished Epoch <span style=\"color: #008080; text-decoration-color: #008080; font-weight: bold\">19</span>/<span style=\"color: #008080; text-decoration-color: #008080; font-weight: bold\">100</span>. <span style=\"color: #808000; text-decoration-color: #808000\">CPU</span>=<span style=\"color: #008080; text-decoration-color: #008080; font-weight: bold\">18.</span>7GB, <span style=\"color: #808000; text-decoration-color: #808000\">GPU</span>=<span style=\"color: #008080; text-decoration-color: #008080; font-weight: bold\">42.</span>5GB.\n",
       "</pre>\n"
      ],
      "text/plain": [
       "==> \u001b[1m[\u001b[0m\u001b[1;36m2023\u001b[0m-\u001b[1;36m08\u001b[0m-27_05-\u001b[1;36m51\u001b[0m-\u001b[1;36m09\u001b[0m\u001b[1m]\u001b[0m Finished Epoch \u001b[1;36m19\u001b[0m/\u001b[1;36m100\u001b[0m. \u001b[33mCPU\u001b[0m=\u001b[1;36m18\u001b[0m\u001b[1;36m.\u001b[0m7GB, \u001b[33mGPU\u001b[0m=\u001b[1;36m42\u001b[0m\u001b[1;36m.\u001b[0m5GB.\n"
      ]
     },
     "metadata": {},
     "output_type": "display_data"
    },
    {
     "data": {
      "text/html": [
       "<pre style=\"white-space:pre;overflow-x:auto;line-height:normal;font-family:Menlo,'DejaVu Sans Mono',consolas,'Courier New',monospace\">++&gt; Evaluate scorp_side_dmtet at epoch <span style=\"color: #008080; text-decoration-color: #008080; font-weight: bold\">19</span> <span style=\"color: #808000; text-decoration-color: #808000\">...</span>\n",
       "</pre>\n"
      ],
      "text/plain": [
       "++> Evaluate scorp_side_dmtet at epoch \u001b[1;36m19\u001b[0m \u001b[33m...\u001b[0m\n"
      ]
     },
     "metadata": {},
     "output_type": "display_data"
    },
    {
     "name": "stderr",
     "output_type": "stream",
     "text": [
      "loss=0.0000 (0.0000): : 100% 8/8 [00:00<00:00, 33.60it/s]\n"
     ]
    },
    {
     "data": {
      "text/html": [
       "<pre style=\"white-space:pre;overflow-x:auto;line-height:normal;font-family:Menlo,'DejaVu Sans Mono',consolas,'Courier New',monospace\">++&gt; Evaluate epoch <span style=\"color: #008080; text-decoration-color: #008080; font-weight: bold\">19</span> Finished.\n",
       "</pre>\n"
      ],
      "text/plain": [
       "++> Evaluate epoch \u001b[1;36m19\u001b[0m Finished.\n"
      ]
     },
     "metadata": {},
     "output_type": "display_data"
    },
    {
     "data": {
      "text/html": [
       "<pre style=\"white-space:pre;overflow-x:auto;line-height:normal;font-family:Menlo,'DejaVu Sans Mono',consolas,'Courier New',monospace\">==&gt; <span style=\"font-weight: bold\">[</span><span style=\"color: #008080; text-decoration-color: #008080; font-weight: bold\">2023</span>-<span style=\"color: #008080; text-decoration-color: #008080; font-weight: bold\">08</span>-27_05-<span style=\"color: #008080; text-decoration-color: #008080; font-weight: bold\">51</span>-<span style=\"color: #008080; text-decoration-color: #008080; font-weight: bold\">10</span><span style=\"font-weight: bold\">]</span> Start Training scorp_side_dmtet Epoch <span style=\"color: #008080; text-decoration-color: #008080; font-weight: bold\">20</span>/<span style=\"color: #008080; text-decoration-color: #008080; font-weight: bold\">100</span>, <span style=\"color: #808000; text-decoration-color: #808000\">lr</span>=<span style=\"color: #008080; text-decoration-color: #008080; font-weight: bold\">0.050000</span> <span style=\"color: #808000; text-decoration-color: #808000\">...</span>\n",
       "</pre>\n"
      ],
      "text/plain": [
       "==> \u001b[1m[\u001b[0m\u001b[1;36m2023\u001b[0m-\u001b[1;36m08\u001b[0m-27_05-\u001b[1;36m51\u001b[0m-\u001b[1;36m10\u001b[0m\u001b[1m]\u001b[0m Start Training scorp_side_dmtet Epoch \u001b[1;36m20\u001b[0m/\u001b[1;36m100\u001b[0m, \u001b[33mlr\u001b[0m=\u001b[1;36m0\u001b[0m\u001b[1;36m.050000\u001b[0m \u001b[33m...\u001b[0m\n"
      ]
     },
     "metadata": {},
     "output_type": "display_data"
    },
    {
     "name": "stderr",
     "output_type": "stream",
     "text": [
      "loss=7.7394 (35.4299), lr=0.050000: : 100% 2400/2400 [00:40<00:00, 58.60it/s]  \n"
     ]
    },
    {
     "data": {
      "text/html": [
       "<pre style=\"white-space:pre;overflow-x:auto;line-height:normal;font-family:Menlo,'DejaVu Sans Mono',consolas,'Courier New',monospace\">==&gt; <span style=\"font-weight: bold\">[</span><span style=\"color: #008080; text-decoration-color: #008080; font-weight: bold\">2023</span>-<span style=\"color: #008080; text-decoration-color: #008080; font-weight: bold\">08</span>-27_05-<span style=\"color: #008080; text-decoration-color: #008080; font-weight: bold\">51</span>-<span style=\"color: #008080; text-decoration-color: #008080; font-weight: bold\">51</span><span style=\"font-weight: bold\">]</span> Finished Epoch <span style=\"color: #008080; text-decoration-color: #008080; font-weight: bold\">20</span>/<span style=\"color: #008080; text-decoration-color: #008080; font-weight: bold\">100</span>. <span style=\"color: #808000; text-decoration-color: #808000\">CPU</span>=<span style=\"color: #008080; text-decoration-color: #008080; font-weight: bold\">18.</span>7GB, <span style=\"color: #808000; text-decoration-color: #808000\">GPU</span>=<span style=\"color: #008080; text-decoration-color: #008080; font-weight: bold\">42.</span>5GB.\n",
       "</pre>\n"
      ],
      "text/plain": [
       "==> \u001b[1m[\u001b[0m\u001b[1;36m2023\u001b[0m-\u001b[1;36m08\u001b[0m-27_05-\u001b[1;36m51\u001b[0m-\u001b[1;36m51\u001b[0m\u001b[1m]\u001b[0m Finished Epoch \u001b[1;36m20\u001b[0m/\u001b[1;36m100\u001b[0m. \u001b[33mCPU\u001b[0m=\u001b[1;36m18\u001b[0m\u001b[1;36m.\u001b[0m7GB, \u001b[33mGPU\u001b[0m=\u001b[1;36m42\u001b[0m\u001b[1;36m.\u001b[0m5GB.\n"
      ]
     },
     "metadata": {},
     "output_type": "display_data"
    },
    {
     "data": {
      "text/html": [
       "<pre style=\"white-space:pre;overflow-x:auto;line-height:normal;font-family:Menlo,'DejaVu Sans Mono',consolas,'Courier New',monospace\">++&gt; Evaluate scorp_side_dmtet at epoch <span style=\"color: #008080; text-decoration-color: #008080; font-weight: bold\">20</span> <span style=\"color: #808000; text-decoration-color: #808000\">...</span>\n",
       "</pre>\n"
      ],
      "text/plain": [
       "++> Evaluate scorp_side_dmtet at epoch \u001b[1;36m20\u001b[0m \u001b[33m...\u001b[0m\n"
      ]
     },
     "metadata": {},
     "output_type": "display_data"
    },
    {
     "name": "stderr",
     "output_type": "stream",
     "text": [
      "loss=0.0000 (0.0000): : 100% 8/8 [00:00<00:00, 27.07it/s]\n"
     ]
    },
    {
     "data": {
      "text/html": [
       "<pre style=\"white-space:pre;overflow-x:auto;line-height:normal;font-family:Menlo,'DejaVu Sans Mono',consolas,'Courier New',monospace\">++&gt; Evaluate epoch <span style=\"color: #008080; text-decoration-color: #008080; font-weight: bold\">20</span> Finished.\n",
       "</pre>\n"
      ],
      "text/plain": [
       "++> Evaluate epoch \u001b[1;36m20\u001b[0m Finished.\n"
      ]
     },
     "metadata": {},
     "output_type": "display_data"
    },
    {
     "data": {
      "text/html": [
       "<pre style=\"white-space:pre;overflow-x:auto;line-height:normal;font-family:Menlo,'DejaVu Sans Mono',consolas,'Courier New',monospace\">==&gt; Start Test, save results to scorp_side_dmtet/results\n",
       "</pre>\n"
      ],
      "text/plain": [
       "==> Start Test, save results to scorp_side_dmtet/results\n"
      ]
     },
     "metadata": {},
     "output_type": "display_data"
    },
    {
     "name": "stderr",
     "output_type": "stream",
     "text": [
      " 98% 98/100 [00:01<00:00, 76.85it/s]"
     ]
    },
    {
     "data": {
      "text/html": [
       "<pre style=\"white-space:pre;overflow-x:auto;line-height:normal;font-family:Menlo,'DejaVu Sans Mono',consolas,'Courier New',monospace\">==&gt; Finished Test.\n",
       "</pre>\n"
      ],
      "text/plain": [
       "==> Finished Test.\n"
      ]
     },
     "metadata": {},
     "output_type": "display_data"
    },
    {
     "name": "stderr",
     "output_type": "stream",
     "text": [
      "100% 100/100 [00:03<00:00, 29.79it/s]\n"
     ]
    },
    {
     "data": {
      "text/html": [
       "<pre style=\"white-space:pre;overflow-x:auto;line-height:normal;font-family:Menlo,'DejaVu Sans Mono',consolas,'Courier New',monospace\">==&gt; <span style=\"font-weight: bold\">[</span><span style=\"color: #008080; text-decoration-color: #008080; font-weight: bold\">2023</span>-<span style=\"color: #008080; text-decoration-color: #008080; font-weight: bold\">08</span>-27_05-<span style=\"color: #008080; text-decoration-color: #008080; font-weight: bold\">51</span>-<span style=\"color: #008080; text-decoration-color: #008080; font-weight: bold\">55</span><span style=\"font-weight: bold\">]</span> Start Training scorp_side_dmtet Epoch <span style=\"color: #008080; text-decoration-color: #008080; font-weight: bold\">21</span>/<span style=\"color: #008080; text-decoration-color: #008080; font-weight: bold\">100</span>, <span style=\"color: #808000; text-decoration-color: #808000\">lr</span>=<span style=\"color: #008080; text-decoration-color: #008080; font-weight: bold\">0.050000</span> <span style=\"color: #808000; text-decoration-color: #808000\">...</span>\n",
       "</pre>\n"
      ],
      "text/plain": [
       "==> \u001b[1m[\u001b[0m\u001b[1;36m2023\u001b[0m-\u001b[1;36m08\u001b[0m-27_05-\u001b[1;36m51\u001b[0m-\u001b[1;36m55\u001b[0m\u001b[1m]\u001b[0m Start Training scorp_side_dmtet Epoch \u001b[1;36m21\u001b[0m/\u001b[1;36m100\u001b[0m, \u001b[33mlr\u001b[0m=\u001b[1;36m0\u001b[0m\u001b[1;36m.050000\u001b[0m \u001b[33m...\u001b[0m\n"
      ]
     },
     "metadata": {},
     "output_type": "display_data"
    },
    {
     "name": "stderr",
     "output_type": "stream",
     "text": [
      "loss=7.5252 (34.4628), lr=0.050000: : 100% 2400/2400 [00:40<00:00, 58.63it/s] \n"
     ]
    },
    {
     "data": {
      "text/html": [
       "<pre style=\"white-space:pre;overflow-x:auto;line-height:normal;font-family:Menlo,'DejaVu Sans Mono',consolas,'Courier New',monospace\">==&gt; <span style=\"font-weight: bold\">[</span><span style=\"color: #008080; text-decoration-color: #008080; font-weight: bold\">2023</span>-<span style=\"color: #008080; text-decoration-color: #008080; font-weight: bold\">08</span>-27_05-<span style=\"color: #008080; text-decoration-color: #008080; font-weight: bold\">52</span>-<span style=\"color: #008080; text-decoration-color: #008080; font-weight: bold\">36</span><span style=\"font-weight: bold\">]</span> Finished Epoch <span style=\"color: #008080; text-decoration-color: #008080; font-weight: bold\">21</span>/<span style=\"color: #008080; text-decoration-color: #008080; font-weight: bold\">100</span>. <span style=\"color: #808000; text-decoration-color: #808000\">CPU</span>=<span style=\"color: #008080; text-decoration-color: #008080; font-weight: bold\">18.</span>7GB, <span style=\"color: #808000; text-decoration-color: #808000\">GPU</span>=<span style=\"color: #008080; text-decoration-color: #008080; font-weight: bold\">42.</span>5GB.\n",
       "</pre>\n"
      ],
      "text/plain": [
       "==> \u001b[1m[\u001b[0m\u001b[1;36m2023\u001b[0m-\u001b[1;36m08\u001b[0m-27_05-\u001b[1;36m52\u001b[0m-\u001b[1;36m36\u001b[0m\u001b[1m]\u001b[0m Finished Epoch \u001b[1;36m21\u001b[0m/\u001b[1;36m100\u001b[0m. \u001b[33mCPU\u001b[0m=\u001b[1;36m18\u001b[0m\u001b[1;36m.\u001b[0m7GB, \u001b[33mGPU\u001b[0m=\u001b[1;36m42\u001b[0m\u001b[1;36m.\u001b[0m5GB.\n"
      ]
     },
     "metadata": {},
     "output_type": "display_data"
    },
    {
     "data": {
      "text/html": [
       "<pre style=\"white-space:pre;overflow-x:auto;line-height:normal;font-family:Menlo,'DejaVu Sans Mono',consolas,'Courier New',monospace\">++&gt; Evaluate scorp_side_dmtet at epoch <span style=\"color: #008080; text-decoration-color: #008080; font-weight: bold\">21</span> <span style=\"color: #808000; text-decoration-color: #808000\">...</span>\n",
       "</pre>\n"
      ],
      "text/plain": [
       "++> Evaluate scorp_side_dmtet at epoch \u001b[1;36m21\u001b[0m \u001b[33m...\u001b[0m\n"
      ]
     },
     "metadata": {},
     "output_type": "display_data"
    },
    {
     "name": "stderr",
     "output_type": "stream",
     "text": [
      "loss=0.0000 (0.0000): : 100% 8/8 [00:00<00:00, 35.29it/s]\n"
     ]
    },
    {
     "data": {
      "text/html": [
       "<pre style=\"white-space:pre;overflow-x:auto;line-height:normal;font-family:Menlo,'DejaVu Sans Mono',consolas,'Courier New',monospace\">++&gt; Evaluate epoch <span style=\"color: #008080; text-decoration-color: #008080; font-weight: bold\">21</span> Finished.\n",
       "</pre>\n"
      ],
      "text/plain": [
       "++> Evaluate epoch \u001b[1;36m21\u001b[0m Finished.\n"
      ]
     },
     "metadata": {},
     "output_type": "display_data"
    },
    {
     "data": {
      "text/html": [
       "<pre style=\"white-space:pre;overflow-x:auto;line-height:normal;font-family:Menlo,'DejaVu Sans Mono',consolas,'Courier New',monospace\">==&gt; <span style=\"font-weight: bold\">[</span><span style=\"color: #008080; text-decoration-color: #008080; font-weight: bold\">2023</span>-<span style=\"color: #008080; text-decoration-color: #008080; font-weight: bold\">08</span>-27_05-<span style=\"color: #008080; text-decoration-color: #008080; font-weight: bold\">52</span>-<span style=\"color: #008080; text-decoration-color: #008080; font-weight: bold\">36</span><span style=\"font-weight: bold\">]</span> Start Training scorp_side_dmtet Epoch <span style=\"color: #008080; text-decoration-color: #008080; font-weight: bold\">22</span>/<span style=\"color: #008080; text-decoration-color: #008080; font-weight: bold\">100</span>, <span style=\"color: #808000; text-decoration-color: #808000\">lr</span>=<span style=\"color: #008080; text-decoration-color: #008080; font-weight: bold\">0.050000</span> <span style=\"color: #808000; text-decoration-color: #808000\">...</span>\n",
       "</pre>\n"
      ],
      "text/plain": [
       "==> \u001b[1m[\u001b[0m\u001b[1;36m2023\u001b[0m-\u001b[1;36m08\u001b[0m-27_05-\u001b[1;36m52\u001b[0m-\u001b[1;36m36\u001b[0m\u001b[1m]\u001b[0m Start Training scorp_side_dmtet Epoch \u001b[1;36m22\u001b[0m/\u001b[1;36m100\u001b[0m, \u001b[33mlr\u001b[0m=\u001b[1;36m0\u001b[0m\u001b[1;36m.050000\u001b[0m \u001b[33m...\u001b[0m\n"
      ]
     },
     "metadata": {},
     "output_type": "display_data"
    },
    {
     "name": "stderr",
     "output_type": "stream",
     "text": [
      "loss=7.4951 (33.0278), lr=0.050000: : 100% 2400/2400 [00:41<00:00, 57.62it/s] \n"
     ]
    },
    {
     "data": {
      "text/html": [
       "<pre style=\"white-space:pre;overflow-x:auto;line-height:normal;font-family:Menlo,'DejaVu Sans Mono',consolas,'Courier New',monospace\">==&gt; <span style=\"font-weight: bold\">[</span><span style=\"color: #008080; text-decoration-color: #008080; font-weight: bold\">2023</span>-<span style=\"color: #008080; text-decoration-color: #008080; font-weight: bold\">08</span>-27_05-<span style=\"color: #008080; text-decoration-color: #008080; font-weight: bold\">53</span>-<span style=\"color: #008080; text-decoration-color: #008080; font-weight: bold\">18</span><span style=\"font-weight: bold\">]</span> Finished Epoch <span style=\"color: #008080; text-decoration-color: #008080; font-weight: bold\">22</span>/<span style=\"color: #008080; text-decoration-color: #008080; font-weight: bold\">100</span>. <span style=\"color: #808000; text-decoration-color: #808000\">CPU</span>=<span style=\"color: #008080; text-decoration-color: #008080; font-weight: bold\">18.</span>7GB, <span style=\"color: #808000; text-decoration-color: #808000\">GPU</span>=<span style=\"color: #008080; text-decoration-color: #008080; font-weight: bold\">42.</span>5GB.\n",
       "</pre>\n"
      ],
      "text/plain": [
       "==> \u001b[1m[\u001b[0m\u001b[1;36m2023\u001b[0m-\u001b[1;36m08\u001b[0m-27_05-\u001b[1;36m53\u001b[0m-\u001b[1;36m18\u001b[0m\u001b[1m]\u001b[0m Finished Epoch \u001b[1;36m22\u001b[0m/\u001b[1;36m100\u001b[0m. \u001b[33mCPU\u001b[0m=\u001b[1;36m18\u001b[0m\u001b[1;36m.\u001b[0m7GB, \u001b[33mGPU\u001b[0m=\u001b[1;36m42\u001b[0m\u001b[1;36m.\u001b[0m5GB.\n"
      ]
     },
     "metadata": {},
     "output_type": "display_data"
    },
    {
     "data": {
      "text/html": [
       "<pre style=\"white-space:pre;overflow-x:auto;line-height:normal;font-family:Menlo,'DejaVu Sans Mono',consolas,'Courier New',monospace\">++&gt; Evaluate scorp_side_dmtet at epoch <span style=\"color: #008080; text-decoration-color: #008080; font-weight: bold\">22</span> <span style=\"color: #808000; text-decoration-color: #808000\">...</span>\n",
       "</pre>\n"
      ],
      "text/plain": [
       "++> Evaluate scorp_side_dmtet at epoch \u001b[1;36m22\u001b[0m \u001b[33m...\u001b[0m\n"
      ]
     },
     "metadata": {},
     "output_type": "display_data"
    },
    {
     "name": "stderr",
     "output_type": "stream",
     "text": [
      "loss=0.0000 (0.0000): : 100% 8/8 [00:00<00:00, 34.38it/s]\n"
     ]
    },
    {
     "data": {
      "text/html": [
       "<pre style=\"white-space:pre;overflow-x:auto;line-height:normal;font-family:Menlo,'DejaVu Sans Mono',consolas,'Courier New',monospace\">++&gt; Evaluate epoch <span style=\"color: #008080; text-decoration-color: #008080; font-weight: bold\">22</span> Finished.\n",
       "</pre>\n"
      ],
      "text/plain": [
       "++> Evaluate epoch \u001b[1;36m22\u001b[0m Finished.\n"
      ]
     },
     "metadata": {},
     "output_type": "display_data"
    },
    {
     "data": {
      "text/html": [
       "<pre style=\"white-space:pre;overflow-x:auto;line-height:normal;font-family:Menlo,'DejaVu Sans Mono',consolas,'Courier New',monospace\">==&gt; <span style=\"font-weight: bold\">[</span><span style=\"color: #008080; text-decoration-color: #008080; font-weight: bold\">2023</span>-<span style=\"color: #008080; text-decoration-color: #008080; font-weight: bold\">08</span>-27_05-<span style=\"color: #008080; text-decoration-color: #008080; font-weight: bold\">53</span>-<span style=\"color: #008080; text-decoration-color: #008080; font-weight: bold\">19</span><span style=\"font-weight: bold\">]</span> Start Training scorp_side_dmtet Epoch <span style=\"color: #008080; text-decoration-color: #008080; font-weight: bold\">23</span>/<span style=\"color: #008080; text-decoration-color: #008080; font-weight: bold\">100</span>, <span style=\"color: #808000; text-decoration-color: #808000\">lr</span>=<span style=\"color: #008080; text-decoration-color: #008080; font-weight: bold\">0.050000</span> <span style=\"color: #808000; text-decoration-color: #808000\">...</span>\n",
       "</pre>\n"
      ],
      "text/plain": [
       "==> \u001b[1m[\u001b[0m\u001b[1;36m2023\u001b[0m-\u001b[1;36m08\u001b[0m-27_05-\u001b[1;36m53\u001b[0m-\u001b[1;36m19\u001b[0m\u001b[1m]\u001b[0m Start Training scorp_side_dmtet Epoch \u001b[1;36m23\u001b[0m/\u001b[1;36m100\u001b[0m, \u001b[33mlr\u001b[0m=\u001b[1;36m0\u001b[0m\u001b[1;36m.050000\u001b[0m \u001b[33m...\u001b[0m\n"
      ]
     },
     "metadata": {},
     "output_type": "display_data"
    },
    {
     "name": "stderr",
     "output_type": "stream",
     "text": [
      "loss=7.3268 (33.2698), lr=0.050000: : 100% 2400/2400 [00:41<00:00, 57.83it/s] \n"
     ]
    },
    {
     "data": {
      "text/html": [
       "<pre style=\"white-space:pre;overflow-x:auto;line-height:normal;font-family:Menlo,'DejaVu Sans Mono',consolas,'Courier New',monospace\">==&gt; <span style=\"font-weight: bold\">[</span><span style=\"color: #008080; text-decoration-color: #008080; font-weight: bold\">2023</span>-<span style=\"color: #008080; text-decoration-color: #008080; font-weight: bold\">08</span>-27_05-<span style=\"color: #008080; text-decoration-color: #008080; font-weight: bold\">54</span>-<span style=\"color: #008080; text-decoration-color: #008080; font-weight: bold\">00</span><span style=\"font-weight: bold\">]</span> Finished Epoch <span style=\"color: #008080; text-decoration-color: #008080; font-weight: bold\">23</span>/<span style=\"color: #008080; text-decoration-color: #008080; font-weight: bold\">100</span>. <span style=\"color: #808000; text-decoration-color: #808000\">CPU</span>=<span style=\"color: #008080; text-decoration-color: #008080; font-weight: bold\">18.</span>7GB, <span style=\"color: #808000; text-decoration-color: #808000\">GPU</span>=<span style=\"color: #008080; text-decoration-color: #008080; font-weight: bold\">42.</span>5GB.\n",
       "</pre>\n"
      ],
      "text/plain": [
       "==> \u001b[1m[\u001b[0m\u001b[1;36m2023\u001b[0m-\u001b[1;36m08\u001b[0m-27_05-\u001b[1;36m54\u001b[0m-\u001b[1;36m00\u001b[0m\u001b[1m]\u001b[0m Finished Epoch \u001b[1;36m23\u001b[0m/\u001b[1;36m100\u001b[0m. \u001b[33mCPU\u001b[0m=\u001b[1;36m18\u001b[0m\u001b[1;36m.\u001b[0m7GB, \u001b[33mGPU\u001b[0m=\u001b[1;36m42\u001b[0m\u001b[1;36m.\u001b[0m5GB.\n"
      ]
     },
     "metadata": {},
     "output_type": "display_data"
    },
    {
     "data": {
      "text/html": [
       "<pre style=\"white-space:pre;overflow-x:auto;line-height:normal;font-family:Menlo,'DejaVu Sans Mono',consolas,'Courier New',monospace\">++&gt; Evaluate scorp_side_dmtet at epoch <span style=\"color: #008080; text-decoration-color: #008080; font-weight: bold\">23</span> <span style=\"color: #808000; text-decoration-color: #808000\">...</span>\n",
       "</pre>\n"
      ],
      "text/plain": [
       "++> Evaluate scorp_side_dmtet at epoch \u001b[1;36m23\u001b[0m \u001b[33m...\u001b[0m\n"
      ]
     },
     "metadata": {},
     "output_type": "display_data"
    },
    {
     "name": "stderr",
     "output_type": "stream",
     "text": [
      "loss=0.0000 (0.0000): : 100% 8/8 [00:00<00:00, 34.18it/s]\n"
     ]
    },
    {
     "data": {
      "text/html": [
       "<pre style=\"white-space:pre;overflow-x:auto;line-height:normal;font-family:Menlo,'DejaVu Sans Mono',consolas,'Courier New',monospace\">++&gt; Evaluate epoch <span style=\"color: #008080; text-decoration-color: #008080; font-weight: bold\">23</span> Finished.\n",
       "</pre>\n"
      ],
      "text/plain": [
       "++> Evaluate epoch \u001b[1;36m23\u001b[0m Finished.\n"
      ]
     },
     "metadata": {},
     "output_type": "display_data"
    },
    {
     "data": {
      "text/html": [
       "<pre style=\"white-space:pre;overflow-x:auto;line-height:normal;font-family:Menlo,'DejaVu Sans Mono',consolas,'Courier New',monospace\">==&gt; <span style=\"font-weight: bold\">[</span><span style=\"color: #008080; text-decoration-color: #008080; font-weight: bold\">2023</span>-<span style=\"color: #008080; text-decoration-color: #008080; font-weight: bold\">08</span>-27_05-<span style=\"color: #008080; text-decoration-color: #008080; font-weight: bold\">54</span>-<span style=\"color: #008080; text-decoration-color: #008080; font-weight: bold\">01</span><span style=\"font-weight: bold\">]</span> Start Training scorp_side_dmtet Epoch <span style=\"color: #008080; text-decoration-color: #008080; font-weight: bold\">24</span>/<span style=\"color: #008080; text-decoration-color: #008080; font-weight: bold\">100</span>, <span style=\"color: #808000; text-decoration-color: #808000\">lr</span>=<span style=\"color: #008080; text-decoration-color: #008080; font-weight: bold\">0.050000</span> <span style=\"color: #808000; text-decoration-color: #808000\">...</span>\n",
       "</pre>\n"
      ],
      "text/plain": [
       "==> \u001b[1m[\u001b[0m\u001b[1;36m2023\u001b[0m-\u001b[1;36m08\u001b[0m-27_05-\u001b[1;36m54\u001b[0m-\u001b[1;36m01\u001b[0m\u001b[1m]\u001b[0m Start Training scorp_side_dmtet Epoch \u001b[1;36m24\u001b[0m/\u001b[1;36m100\u001b[0m, \u001b[33mlr\u001b[0m=\u001b[1;36m0\u001b[0m\u001b[1;36m.050000\u001b[0m \u001b[33m...\u001b[0m\n"
      ]
     },
     "metadata": {},
     "output_type": "display_data"
    },
    {
     "name": "stderr",
     "output_type": "stream",
     "text": [
      "loss=7.2189 (33.1953), lr=0.050000: : 100% 2400/2400 [00:41<00:00, 57.93it/s]  \n"
     ]
    },
    {
     "data": {
      "text/html": [
       "<pre style=\"white-space:pre;overflow-x:auto;line-height:normal;font-family:Menlo,'DejaVu Sans Mono',consolas,'Courier New',monospace\">==&gt; <span style=\"font-weight: bold\">[</span><span style=\"color: #008080; text-decoration-color: #008080; font-weight: bold\">2023</span>-<span style=\"color: #008080; text-decoration-color: #008080; font-weight: bold\">08</span>-27_05-<span style=\"color: #008080; text-decoration-color: #008080; font-weight: bold\">54</span>-<span style=\"color: #008080; text-decoration-color: #008080; font-weight: bold\">42</span><span style=\"font-weight: bold\">]</span> Finished Epoch <span style=\"color: #008080; text-decoration-color: #008080; font-weight: bold\">24</span>/<span style=\"color: #008080; text-decoration-color: #008080; font-weight: bold\">100</span>. <span style=\"color: #808000; text-decoration-color: #808000\">CPU</span>=<span style=\"color: #008080; text-decoration-color: #008080; font-weight: bold\">18.</span>7GB, <span style=\"color: #808000; text-decoration-color: #808000\">GPU</span>=<span style=\"color: #008080; text-decoration-color: #008080; font-weight: bold\">42.</span>5GB.\n",
       "</pre>\n"
      ],
      "text/plain": [
       "==> \u001b[1m[\u001b[0m\u001b[1;36m2023\u001b[0m-\u001b[1;36m08\u001b[0m-27_05-\u001b[1;36m54\u001b[0m-\u001b[1;36m42\u001b[0m\u001b[1m]\u001b[0m Finished Epoch \u001b[1;36m24\u001b[0m/\u001b[1;36m100\u001b[0m. \u001b[33mCPU\u001b[0m=\u001b[1;36m18\u001b[0m\u001b[1;36m.\u001b[0m7GB, \u001b[33mGPU\u001b[0m=\u001b[1;36m42\u001b[0m\u001b[1;36m.\u001b[0m5GB.\n"
      ]
     },
     "metadata": {},
     "output_type": "display_data"
    },
    {
     "data": {
      "text/html": [
       "<pre style=\"white-space:pre;overflow-x:auto;line-height:normal;font-family:Menlo,'DejaVu Sans Mono',consolas,'Courier New',monospace\">++&gt; Evaluate scorp_side_dmtet at epoch <span style=\"color: #008080; text-decoration-color: #008080; font-weight: bold\">24</span> <span style=\"color: #808000; text-decoration-color: #808000\">...</span>\n",
       "</pre>\n"
      ],
      "text/plain": [
       "++> Evaluate scorp_side_dmtet at epoch \u001b[1;36m24\u001b[0m \u001b[33m...\u001b[0m\n"
      ]
     },
     "metadata": {},
     "output_type": "display_data"
    },
    {
     "name": "stderr",
     "output_type": "stream",
     "text": [
      "loss=0.0000 (0.0000): : 100% 8/8 [00:00<00:00, 35.74it/s]\n"
     ]
    },
    {
     "data": {
      "text/html": [
       "<pre style=\"white-space:pre;overflow-x:auto;line-height:normal;font-family:Menlo,'DejaVu Sans Mono',consolas,'Courier New',monospace\">++&gt; Evaluate epoch <span style=\"color: #008080; text-decoration-color: #008080; font-weight: bold\">24</span> Finished.\n",
       "</pre>\n"
      ],
      "text/plain": [
       "++> Evaluate epoch \u001b[1;36m24\u001b[0m Finished.\n"
      ]
     },
     "metadata": {},
     "output_type": "display_data"
    },
    {
     "data": {
      "text/html": [
       "<pre style=\"white-space:pre;overflow-x:auto;line-height:normal;font-family:Menlo,'DejaVu Sans Mono',consolas,'Courier New',monospace\">==&gt; <span style=\"font-weight: bold\">[</span><span style=\"color: #008080; text-decoration-color: #008080; font-weight: bold\">2023</span>-<span style=\"color: #008080; text-decoration-color: #008080; font-weight: bold\">08</span>-27_05-<span style=\"color: #008080; text-decoration-color: #008080; font-weight: bold\">54</span>-<span style=\"color: #008080; text-decoration-color: #008080; font-weight: bold\">43</span><span style=\"font-weight: bold\">]</span> Start Training scorp_side_dmtet Epoch <span style=\"color: #008080; text-decoration-color: #008080; font-weight: bold\">25</span>/<span style=\"color: #008080; text-decoration-color: #008080; font-weight: bold\">100</span>, <span style=\"color: #808000; text-decoration-color: #808000\">lr</span>=<span style=\"color: #008080; text-decoration-color: #008080; font-weight: bold\">0.050000</span> <span style=\"color: #808000; text-decoration-color: #808000\">...</span>\n",
       "</pre>\n"
      ],
      "text/plain": [
       "==> \u001b[1m[\u001b[0m\u001b[1;36m2023\u001b[0m-\u001b[1;36m08\u001b[0m-27_05-\u001b[1;36m54\u001b[0m-\u001b[1;36m43\u001b[0m\u001b[1m]\u001b[0m Start Training scorp_side_dmtet Epoch \u001b[1;36m25\u001b[0m/\u001b[1;36m100\u001b[0m, \u001b[33mlr\u001b[0m=\u001b[1;36m0\u001b[0m\u001b[1;36m.050000\u001b[0m \u001b[33m...\u001b[0m\n"
      ]
     },
     "metadata": {},
     "output_type": "display_data"
    },
    {
     "name": "stderr",
     "output_type": "stream",
     "text": [
      "loss=7.1669 (36.4692), lr=0.050000: : 100% 2400/2400 [00:40<00:00, 58.81it/s]  \n"
     ]
    },
    {
     "data": {
      "text/html": [
       "<pre style=\"white-space:pre;overflow-x:auto;line-height:normal;font-family:Menlo,'DejaVu Sans Mono',consolas,'Courier New',monospace\">==&gt; <span style=\"font-weight: bold\">[</span><span style=\"color: #008080; text-decoration-color: #008080; font-weight: bold\">2023</span>-<span style=\"color: #008080; text-decoration-color: #008080; font-weight: bold\">08</span>-27_05-<span style=\"color: #008080; text-decoration-color: #008080; font-weight: bold\">55</span>-<span style=\"color: #008080; text-decoration-color: #008080; font-weight: bold\">24</span><span style=\"font-weight: bold\">]</span> Finished Epoch <span style=\"color: #008080; text-decoration-color: #008080; font-weight: bold\">25</span>/<span style=\"color: #008080; text-decoration-color: #008080; font-weight: bold\">100</span>. <span style=\"color: #808000; text-decoration-color: #808000\">CPU</span>=<span style=\"color: #008080; text-decoration-color: #008080; font-weight: bold\">18.</span>7GB, <span style=\"color: #808000; text-decoration-color: #808000\">GPU</span>=<span style=\"color: #008080; text-decoration-color: #008080; font-weight: bold\">42.</span>5GB.\n",
       "</pre>\n"
      ],
      "text/plain": [
       "==> \u001b[1m[\u001b[0m\u001b[1;36m2023\u001b[0m-\u001b[1;36m08\u001b[0m-27_05-\u001b[1;36m55\u001b[0m-\u001b[1;36m24\u001b[0m\u001b[1m]\u001b[0m Finished Epoch \u001b[1;36m25\u001b[0m/\u001b[1;36m100\u001b[0m. \u001b[33mCPU\u001b[0m=\u001b[1;36m18\u001b[0m\u001b[1;36m.\u001b[0m7GB, \u001b[33mGPU\u001b[0m=\u001b[1;36m42\u001b[0m\u001b[1;36m.\u001b[0m5GB.\n"
      ]
     },
     "metadata": {},
     "output_type": "display_data"
    },
    {
     "data": {
      "text/html": [
       "<pre style=\"white-space:pre;overflow-x:auto;line-height:normal;font-family:Menlo,'DejaVu Sans Mono',consolas,'Courier New',monospace\">++&gt; Evaluate scorp_side_dmtet at epoch <span style=\"color: #008080; text-decoration-color: #008080; font-weight: bold\">25</span> <span style=\"color: #808000; text-decoration-color: #808000\">...</span>\n",
       "</pre>\n"
      ],
      "text/plain": [
       "++> Evaluate scorp_side_dmtet at epoch \u001b[1;36m25\u001b[0m \u001b[33m...\u001b[0m\n"
      ]
     },
     "metadata": {},
     "output_type": "display_data"
    },
    {
     "name": "stderr",
     "output_type": "stream",
     "text": [
      "loss=0.0000 (0.0000): : 100% 8/8 [00:00<00:00, 36.20it/s]\n"
     ]
    },
    {
     "data": {
      "text/html": [
       "<pre style=\"white-space:pre;overflow-x:auto;line-height:normal;font-family:Menlo,'DejaVu Sans Mono',consolas,'Courier New',monospace\">++&gt; Evaluate epoch <span style=\"color: #008080; text-decoration-color: #008080; font-weight: bold\">25</span> Finished.\n",
       "</pre>\n"
      ],
      "text/plain": [
       "++> Evaluate epoch \u001b[1;36m25\u001b[0m Finished.\n"
      ]
     },
     "metadata": {},
     "output_type": "display_data"
    },
    {
     "data": {
      "text/html": [
       "<pre style=\"white-space:pre;overflow-x:auto;line-height:normal;font-family:Menlo,'DejaVu Sans Mono',consolas,'Courier New',monospace\">==&gt; Start Test, save results to scorp_side_dmtet/results\n",
       "</pre>\n"
      ],
      "text/plain": [
       "==> Start Test, save results to scorp_side_dmtet/results\n"
      ]
     },
     "metadata": {},
     "output_type": "display_data"
    },
    {
     "name": "stderr",
     "output_type": "stream",
     "text": [
      " 99% 99/100 [00:01<00:00, 81.71it/s]"
     ]
    },
    {
     "data": {
      "text/html": [
       "<pre style=\"white-space:pre;overflow-x:auto;line-height:normal;font-family:Menlo,'DejaVu Sans Mono',consolas,'Courier New',monospace\">==&gt; Finished Test.\n",
       "</pre>\n"
      ],
      "text/plain": [
       "==> Finished Test.\n"
      ]
     },
     "metadata": {},
     "output_type": "display_data"
    },
    {
     "name": "stderr",
     "output_type": "stream",
     "text": [
      "100% 100/100 [00:03<00:00, 31.68it/s]\n"
     ]
    },
    {
     "data": {
      "text/html": [
       "<pre style=\"white-space:pre;overflow-x:auto;line-height:normal;font-family:Menlo,'DejaVu Sans Mono',consolas,'Courier New',monospace\">==&gt; <span style=\"font-weight: bold\">[</span><span style=\"color: #008080; text-decoration-color: #008080; font-weight: bold\">2023</span>-<span style=\"color: #008080; text-decoration-color: #008080; font-weight: bold\">08</span>-27_05-<span style=\"color: #008080; text-decoration-color: #008080; font-weight: bold\">55</span>-<span style=\"color: #008080; text-decoration-color: #008080; font-weight: bold\">27</span><span style=\"font-weight: bold\">]</span> Start Training scorp_side_dmtet Epoch <span style=\"color: #008080; text-decoration-color: #008080; font-weight: bold\">26</span>/<span style=\"color: #008080; text-decoration-color: #008080; font-weight: bold\">100</span>, <span style=\"color: #808000; text-decoration-color: #808000\">lr</span>=<span style=\"color: #008080; text-decoration-color: #008080; font-weight: bold\">0.050000</span> <span style=\"color: #808000; text-decoration-color: #808000\">...</span>\n",
       "</pre>\n"
      ],
      "text/plain": [
       "==> \u001b[1m[\u001b[0m\u001b[1;36m2023\u001b[0m-\u001b[1;36m08\u001b[0m-27_05-\u001b[1;36m55\u001b[0m-\u001b[1;36m27\u001b[0m\u001b[1m]\u001b[0m Start Training scorp_side_dmtet Epoch \u001b[1;36m26\u001b[0m/\u001b[1;36m100\u001b[0m, \u001b[33mlr\u001b[0m=\u001b[1;36m0\u001b[0m\u001b[1;36m.050000\u001b[0m \u001b[33m...\u001b[0m\n"
      ]
     },
     "metadata": {},
     "output_type": "display_data"
    },
    {
     "name": "stderr",
     "output_type": "stream",
     "text": [
      "loss=7.0462 (34.8328), lr=0.050000: : 100% 2400/2400 [00:42<00:00, 56.95it/s]  \n"
     ]
    },
    {
     "data": {
      "text/html": [
       "<pre style=\"white-space:pre;overflow-x:auto;line-height:normal;font-family:Menlo,'DejaVu Sans Mono',consolas,'Courier New',monospace\">==&gt; <span style=\"font-weight: bold\">[</span><span style=\"color: #008080; text-decoration-color: #008080; font-weight: bold\">2023</span>-<span style=\"color: #008080; text-decoration-color: #008080; font-weight: bold\">08</span>-27_05-<span style=\"color: #008080; text-decoration-color: #008080; font-weight: bold\">56</span>-<span style=\"color: #008080; text-decoration-color: #008080; font-weight: bold\">10</span><span style=\"font-weight: bold\">]</span> Finished Epoch <span style=\"color: #008080; text-decoration-color: #008080; font-weight: bold\">26</span>/<span style=\"color: #008080; text-decoration-color: #008080; font-weight: bold\">100</span>. <span style=\"color: #808000; text-decoration-color: #808000\">CPU</span>=<span style=\"color: #008080; text-decoration-color: #008080; font-weight: bold\">18.</span>7GB, <span style=\"color: #808000; text-decoration-color: #808000\">GPU</span>=<span style=\"color: #008080; text-decoration-color: #008080; font-weight: bold\">42.</span>5GB.\n",
       "</pre>\n"
      ],
      "text/plain": [
       "==> \u001b[1m[\u001b[0m\u001b[1;36m2023\u001b[0m-\u001b[1;36m08\u001b[0m-27_05-\u001b[1;36m56\u001b[0m-\u001b[1;36m10\u001b[0m\u001b[1m]\u001b[0m Finished Epoch \u001b[1;36m26\u001b[0m/\u001b[1;36m100\u001b[0m. \u001b[33mCPU\u001b[0m=\u001b[1;36m18\u001b[0m\u001b[1;36m.\u001b[0m7GB, \u001b[33mGPU\u001b[0m=\u001b[1;36m42\u001b[0m\u001b[1;36m.\u001b[0m5GB.\n"
      ]
     },
     "metadata": {},
     "output_type": "display_data"
    },
    {
     "data": {
      "text/html": [
       "<pre style=\"white-space:pre;overflow-x:auto;line-height:normal;font-family:Menlo,'DejaVu Sans Mono',consolas,'Courier New',monospace\">++&gt; Evaluate scorp_side_dmtet at epoch <span style=\"color: #008080; text-decoration-color: #008080; font-weight: bold\">26</span> <span style=\"color: #808000; text-decoration-color: #808000\">...</span>\n",
       "</pre>\n"
      ],
      "text/plain": [
       "++> Evaluate scorp_side_dmtet at epoch \u001b[1;36m26\u001b[0m \u001b[33m...\u001b[0m\n"
      ]
     },
     "metadata": {},
     "output_type": "display_data"
    },
    {
     "name": "stderr",
     "output_type": "stream",
     "text": [
      "loss=0.0000 (0.0000): : 100% 8/8 [00:00<00:00, 33.65it/s]\n"
     ]
    },
    {
     "data": {
      "text/html": [
       "<pre style=\"white-space:pre;overflow-x:auto;line-height:normal;font-family:Menlo,'DejaVu Sans Mono',consolas,'Courier New',monospace\">++&gt; Evaluate epoch <span style=\"color: #008080; text-decoration-color: #008080; font-weight: bold\">26</span> Finished.\n",
       "</pre>\n"
      ],
      "text/plain": [
       "++> Evaluate epoch \u001b[1;36m26\u001b[0m Finished.\n"
      ]
     },
     "metadata": {},
     "output_type": "display_data"
    },
    {
     "data": {
      "text/html": [
       "<pre style=\"white-space:pre;overflow-x:auto;line-height:normal;font-family:Menlo,'DejaVu Sans Mono',consolas,'Courier New',monospace\">==&gt; <span style=\"font-weight: bold\">[</span><span style=\"color: #008080; text-decoration-color: #008080; font-weight: bold\">2023</span>-<span style=\"color: #008080; text-decoration-color: #008080; font-weight: bold\">08</span>-27_05-<span style=\"color: #008080; text-decoration-color: #008080; font-weight: bold\">56</span>-<span style=\"color: #008080; text-decoration-color: #008080; font-weight: bold\">10</span><span style=\"font-weight: bold\">]</span> Start Training scorp_side_dmtet Epoch <span style=\"color: #008080; text-decoration-color: #008080; font-weight: bold\">27</span>/<span style=\"color: #008080; text-decoration-color: #008080; font-weight: bold\">100</span>, <span style=\"color: #808000; text-decoration-color: #808000\">lr</span>=<span style=\"color: #008080; text-decoration-color: #008080; font-weight: bold\">0.050000</span> <span style=\"color: #808000; text-decoration-color: #808000\">...</span>\n",
       "</pre>\n"
      ],
      "text/plain": [
       "==> \u001b[1m[\u001b[0m\u001b[1;36m2023\u001b[0m-\u001b[1;36m08\u001b[0m-27_05-\u001b[1;36m56\u001b[0m-\u001b[1;36m10\u001b[0m\u001b[1m]\u001b[0m Start Training scorp_side_dmtet Epoch \u001b[1;36m27\u001b[0m/\u001b[1;36m100\u001b[0m, \u001b[33mlr\u001b[0m=\u001b[1;36m0\u001b[0m\u001b[1;36m.050000\u001b[0m \u001b[33m...\u001b[0m\n"
      ]
     },
     "metadata": {},
     "output_type": "display_data"
    },
    {
     "name": "stderr",
     "output_type": "stream",
     "text": [
      "loss=6.9841 (33.8487), lr=0.050000: : 100% 2400/2400 [00:41<00:00, 57.69it/s] \n"
     ]
    },
    {
     "data": {
      "text/html": [
       "<pre style=\"white-space:pre;overflow-x:auto;line-height:normal;font-family:Menlo,'DejaVu Sans Mono',consolas,'Courier New',monospace\">==&gt; <span style=\"font-weight: bold\">[</span><span style=\"color: #008080; text-decoration-color: #008080; font-weight: bold\">2023</span>-<span style=\"color: #008080; text-decoration-color: #008080; font-weight: bold\">08</span>-27_05-<span style=\"color: #008080; text-decoration-color: #008080; font-weight: bold\">56</span>-<span style=\"color: #008080; text-decoration-color: #008080; font-weight: bold\">52</span><span style=\"font-weight: bold\">]</span> Finished Epoch <span style=\"color: #008080; text-decoration-color: #008080; font-weight: bold\">27</span>/<span style=\"color: #008080; text-decoration-color: #008080; font-weight: bold\">100</span>. <span style=\"color: #808000; text-decoration-color: #808000\">CPU</span>=<span style=\"color: #008080; text-decoration-color: #008080; font-weight: bold\">18.</span>7GB, <span style=\"color: #808000; text-decoration-color: #808000\">GPU</span>=<span style=\"color: #008080; text-decoration-color: #008080; font-weight: bold\">42.</span>5GB.\n",
       "</pre>\n"
      ],
      "text/plain": [
       "==> \u001b[1m[\u001b[0m\u001b[1;36m2023\u001b[0m-\u001b[1;36m08\u001b[0m-27_05-\u001b[1;36m56\u001b[0m-\u001b[1;36m52\u001b[0m\u001b[1m]\u001b[0m Finished Epoch \u001b[1;36m27\u001b[0m/\u001b[1;36m100\u001b[0m. \u001b[33mCPU\u001b[0m=\u001b[1;36m18\u001b[0m\u001b[1;36m.\u001b[0m7GB, \u001b[33mGPU\u001b[0m=\u001b[1;36m42\u001b[0m\u001b[1;36m.\u001b[0m5GB.\n"
      ]
     },
     "metadata": {},
     "output_type": "display_data"
    },
    {
     "data": {
      "text/html": [
       "<pre style=\"white-space:pre;overflow-x:auto;line-height:normal;font-family:Menlo,'DejaVu Sans Mono',consolas,'Courier New',monospace\">++&gt; Evaluate scorp_side_dmtet at epoch <span style=\"color: #008080; text-decoration-color: #008080; font-weight: bold\">27</span> <span style=\"color: #808000; text-decoration-color: #808000\">...</span>\n",
       "</pre>\n"
      ],
      "text/plain": [
       "++> Evaluate scorp_side_dmtet at epoch \u001b[1;36m27\u001b[0m \u001b[33m...\u001b[0m\n"
      ]
     },
     "metadata": {},
     "output_type": "display_data"
    },
    {
     "name": "stderr",
     "output_type": "stream",
     "text": [
      "loss=0.0000 (0.0000): : 100% 8/8 [00:00<00:00, 35.73it/s]\n"
     ]
    },
    {
     "data": {
      "text/html": [
       "<pre style=\"white-space:pre;overflow-x:auto;line-height:normal;font-family:Menlo,'DejaVu Sans Mono',consolas,'Courier New',monospace\">++&gt; Evaluate epoch <span style=\"color: #008080; text-decoration-color: #008080; font-weight: bold\">27</span> Finished.\n",
       "</pre>\n"
      ],
      "text/plain": [
       "++> Evaluate epoch \u001b[1;36m27\u001b[0m Finished.\n"
      ]
     },
     "metadata": {},
     "output_type": "display_data"
    },
    {
     "data": {
      "text/html": [
       "<pre style=\"white-space:pre;overflow-x:auto;line-height:normal;font-family:Menlo,'DejaVu Sans Mono',consolas,'Courier New',monospace\">==&gt; <span style=\"font-weight: bold\">[</span><span style=\"color: #008080; text-decoration-color: #008080; font-weight: bold\">2023</span>-<span style=\"color: #008080; text-decoration-color: #008080; font-weight: bold\">08</span>-27_05-<span style=\"color: #008080; text-decoration-color: #008080; font-weight: bold\">56</span>-<span style=\"color: #008080; text-decoration-color: #008080; font-weight: bold\">53</span><span style=\"font-weight: bold\">]</span> Start Training scorp_side_dmtet Epoch <span style=\"color: #008080; text-decoration-color: #008080; font-weight: bold\">28</span>/<span style=\"color: #008080; text-decoration-color: #008080; font-weight: bold\">100</span>, <span style=\"color: #808000; text-decoration-color: #808000\">lr</span>=<span style=\"color: #008080; text-decoration-color: #008080; font-weight: bold\">0.050000</span> <span style=\"color: #808000; text-decoration-color: #808000\">...</span>\n",
       "</pre>\n"
      ],
      "text/plain": [
       "==> \u001b[1m[\u001b[0m\u001b[1;36m2023\u001b[0m-\u001b[1;36m08\u001b[0m-27_05-\u001b[1;36m56\u001b[0m-\u001b[1;36m53\u001b[0m\u001b[1m]\u001b[0m Start Training scorp_side_dmtet Epoch \u001b[1;36m28\u001b[0m/\u001b[1;36m100\u001b[0m, \u001b[33mlr\u001b[0m=\u001b[1;36m0\u001b[0m\u001b[1;36m.050000\u001b[0m \u001b[33m...\u001b[0m\n"
      ]
     },
     "metadata": {},
     "output_type": "display_data"
    },
    {
     "name": "stderr",
     "output_type": "stream",
     "text": [
      "loss=6.9479 (30.9431), lr=0.050000: : 100% 2400/2400 [00:41<00:00, 57.64it/s] \n"
     ]
    },
    {
     "data": {
      "text/html": [
       "<pre style=\"white-space:pre;overflow-x:auto;line-height:normal;font-family:Menlo,'DejaVu Sans Mono',consolas,'Courier New',monospace\">==&gt; <span style=\"font-weight: bold\">[</span><span style=\"color: #008080; text-decoration-color: #008080; font-weight: bold\">2023</span>-<span style=\"color: #008080; text-decoration-color: #008080; font-weight: bold\">08</span>-27_05-<span style=\"color: #008080; text-decoration-color: #008080; font-weight: bold\">57</span>-<span style=\"color: #008080; text-decoration-color: #008080; font-weight: bold\">34</span><span style=\"font-weight: bold\">]</span> Finished Epoch <span style=\"color: #008080; text-decoration-color: #008080; font-weight: bold\">28</span>/<span style=\"color: #008080; text-decoration-color: #008080; font-weight: bold\">100</span>. <span style=\"color: #808000; text-decoration-color: #808000\">CPU</span>=<span style=\"color: #008080; text-decoration-color: #008080; font-weight: bold\">18.</span>7GB, <span style=\"color: #808000; text-decoration-color: #808000\">GPU</span>=<span style=\"color: #008080; text-decoration-color: #008080; font-weight: bold\">42.</span>5GB.\n",
       "</pre>\n"
      ],
      "text/plain": [
       "==> \u001b[1m[\u001b[0m\u001b[1;36m2023\u001b[0m-\u001b[1;36m08\u001b[0m-27_05-\u001b[1;36m57\u001b[0m-\u001b[1;36m34\u001b[0m\u001b[1m]\u001b[0m Finished Epoch \u001b[1;36m28\u001b[0m/\u001b[1;36m100\u001b[0m. \u001b[33mCPU\u001b[0m=\u001b[1;36m18\u001b[0m\u001b[1;36m.\u001b[0m7GB, \u001b[33mGPU\u001b[0m=\u001b[1;36m42\u001b[0m\u001b[1;36m.\u001b[0m5GB.\n"
      ]
     },
     "metadata": {},
     "output_type": "display_data"
    },
    {
     "data": {
      "text/html": [
       "<pre style=\"white-space:pre;overflow-x:auto;line-height:normal;font-family:Menlo,'DejaVu Sans Mono',consolas,'Courier New',monospace\">++&gt; Evaluate scorp_side_dmtet at epoch <span style=\"color: #008080; text-decoration-color: #008080; font-weight: bold\">28</span> <span style=\"color: #808000; text-decoration-color: #808000\">...</span>\n",
       "</pre>\n"
      ],
      "text/plain": [
       "++> Evaluate scorp_side_dmtet at epoch \u001b[1;36m28\u001b[0m \u001b[33m...\u001b[0m\n"
      ]
     },
     "metadata": {},
     "output_type": "display_data"
    },
    {
     "name": "stderr",
     "output_type": "stream",
     "text": [
      "loss=0.0000 (0.0000): : 100% 8/8 [00:00<00:00, 35.59it/s]\n"
     ]
    },
    {
     "data": {
      "text/html": [
       "<pre style=\"white-space:pre;overflow-x:auto;line-height:normal;font-family:Menlo,'DejaVu Sans Mono',consolas,'Courier New',monospace\">++&gt; Evaluate epoch <span style=\"color: #008080; text-decoration-color: #008080; font-weight: bold\">28</span> Finished.\n",
       "</pre>\n"
      ],
      "text/plain": [
       "++> Evaluate epoch \u001b[1;36m28\u001b[0m Finished.\n"
      ]
     },
     "metadata": {},
     "output_type": "display_data"
    },
    {
     "data": {
      "text/html": [
       "<pre style=\"white-space:pre;overflow-x:auto;line-height:normal;font-family:Menlo,'DejaVu Sans Mono',consolas,'Courier New',monospace\">==&gt; <span style=\"font-weight: bold\">[</span><span style=\"color: #008080; text-decoration-color: #008080; font-weight: bold\">2023</span>-<span style=\"color: #008080; text-decoration-color: #008080; font-weight: bold\">08</span>-27_05-<span style=\"color: #008080; text-decoration-color: #008080; font-weight: bold\">57</span>-<span style=\"color: #008080; text-decoration-color: #008080; font-weight: bold\">35</span><span style=\"font-weight: bold\">]</span> Start Training scorp_side_dmtet Epoch <span style=\"color: #008080; text-decoration-color: #008080; font-weight: bold\">29</span>/<span style=\"color: #008080; text-decoration-color: #008080; font-weight: bold\">100</span>, <span style=\"color: #808000; text-decoration-color: #808000\">lr</span>=<span style=\"color: #008080; text-decoration-color: #008080; font-weight: bold\">0.050000</span> <span style=\"color: #808000; text-decoration-color: #808000\">...</span>\n",
       "</pre>\n"
      ],
      "text/plain": [
       "==> \u001b[1m[\u001b[0m\u001b[1;36m2023\u001b[0m-\u001b[1;36m08\u001b[0m-27_05-\u001b[1;36m57\u001b[0m-\u001b[1;36m35\u001b[0m\u001b[1m]\u001b[0m Start Training scorp_side_dmtet Epoch \u001b[1;36m29\u001b[0m/\u001b[1;36m100\u001b[0m, \u001b[33mlr\u001b[0m=\u001b[1;36m0\u001b[0m\u001b[1;36m.050000\u001b[0m \u001b[33m...\u001b[0m\n"
      ]
     },
     "metadata": {},
     "output_type": "display_data"
    },
    {
     "name": "stderr",
     "output_type": "stream",
     "text": [
      "loss=6.8642 (33.6493), lr=0.050000: : 100% 2400/2400 [00:42<00:00, 57.06it/s]  \n"
     ]
    },
    {
     "data": {
      "text/html": [
       "<pre style=\"white-space:pre;overflow-x:auto;line-height:normal;font-family:Menlo,'DejaVu Sans Mono',consolas,'Courier New',monospace\">==&gt; <span style=\"font-weight: bold\">[</span><span style=\"color: #008080; text-decoration-color: #008080; font-weight: bold\">2023</span>-<span style=\"color: #008080; text-decoration-color: #008080; font-weight: bold\">08</span>-27_05-<span style=\"color: #008080; text-decoration-color: #008080; font-weight: bold\">58</span>-<span style=\"color: #008080; text-decoration-color: #008080; font-weight: bold\">17</span><span style=\"font-weight: bold\">]</span> Finished Epoch <span style=\"color: #008080; text-decoration-color: #008080; font-weight: bold\">29</span>/<span style=\"color: #008080; text-decoration-color: #008080; font-weight: bold\">100</span>. <span style=\"color: #808000; text-decoration-color: #808000\">CPU</span>=<span style=\"color: #008080; text-decoration-color: #008080; font-weight: bold\">18.</span>7GB, <span style=\"color: #808000; text-decoration-color: #808000\">GPU</span>=<span style=\"color: #008080; text-decoration-color: #008080; font-weight: bold\">42.</span>5GB.\n",
       "</pre>\n"
      ],
      "text/plain": [
       "==> \u001b[1m[\u001b[0m\u001b[1;36m2023\u001b[0m-\u001b[1;36m08\u001b[0m-27_05-\u001b[1;36m58\u001b[0m-\u001b[1;36m17\u001b[0m\u001b[1m]\u001b[0m Finished Epoch \u001b[1;36m29\u001b[0m/\u001b[1;36m100\u001b[0m. \u001b[33mCPU\u001b[0m=\u001b[1;36m18\u001b[0m\u001b[1;36m.\u001b[0m7GB, \u001b[33mGPU\u001b[0m=\u001b[1;36m42\u001b[0m\u001b[1;36m.\u001b[0m5GB.\n"
      ]
     },
     "metadata": {},
     "output_type": "display_data"
    },
    {
     "data": {
      "text/html": [
       "<pre style=\"white-space:pre;overflow-x:auto;line-height:normal;font-family:Menlo,'DejaVu Sans Mono',consolas,'Courier New',monospace\">++&gt; Evaluate scorp_side_dmtet at epoch <span style=\"color: #008080; text-decoration-color: #008080; font-weight: bold\">29</span> <span style=\"color: #808000; text-decoration-color: #808000\">...</span>\n",
       "</pre>\n"
      ],
      "text/plain": [
       "++> Evaluate scorp_side_dmtet at epoch \u001b[1;36m29\u001b[0m \u001b[33m...\u001b[0m\n"
      ]
     },
     "metadata": {},
     "output_type": "display_data"
    },
    {
     "name": "stderr",
     "output_type": "stream",
     "text": [
      "loss=0.0000 (0.0000): : 100% 8/8 [00:00<00:00, 35.05it/s]\n"
     ]
    },
    {
     "data": {
      "text/html": [
       "<pre style=\"white-space:pre;overflow-x:auto;line-height:normal;font-family:Menlo,'DejaVu Sans Mono',consolas,'Courier New',monospace\">++&gt; Evaluate epoch <span style=\"color: #008080; text-decoration-color: #008080; font-weight: bold\">29</span> Finished.\n",
       "</pre>\n"
      ],
      "text/plain": [
       "++> Evaluate epoch \u001b[1;36m29\u001b[0m Finished.\n"
      ]
     },
     "metadata": {},
     "output_type": "display_data"
    },
    {
     "data": {
      "text/html": [
       "<pre style=\"white-space:pre;overflow-x:auto;line-height:normal;font-family:Menlo,'DejaVu Sans Mono',consolas,'Courier New',monospace\">==&gt; <span style=\"font-weight: bold\">[</span><span style=\"color: #008080; text-decoration-color: #008080; font-weight: bold\">2023</span>-<span style=\"color: #008080; text-decoration-color: #008080; font-weight: bold\">08</span>-27_05-<span style=\"color: #008080; text-decoration-color: #008080; font-weight: bold\">58</span>-<span style=\"color: #008080; text-decoration-color: #008080; font-weight: bold\">18</span><span style=\"font-weight: bold\">]</span> Start Training scorp_side_dmtet Epoch <span style=\"color: #008080; text-decoration-color: #008080; font-weight: bold\">30</span>/<span style=\"color: #008080; text-decoration-color: #008080; font-weight: bold\">100</span>, <span style=\"color: #808000; text-decoration-color: #808000\">lr</span>=<span style=\"color: #008080; text-decoration-color: #008080; font-weight: bold\">0.050000</span> <span style=\"color: #808000; text-decoration-color: #808000\">...</span>\n",
       "</pre>\n"
      ],
      "text/plain": [
       "==> \u001b[1m[\u001b[0m\u001b[1;36m2023\u001b[0m-\u001b[1;36m08\u001b[0m-27_05-\u001b[1;36m58\u001b[0m-\u001b[1;36m18\u001b[0m\u001b[1m]\u001b[0m Start Training scorp_side_dmtet Epoch \u001b[1;36m30\u001b[0m/\u001b[1;36m100\u001b[0m, \u001b[33mlr\u001b[0m=\u001b[1;36m0\u001b[0m\u001b[1;36m.050000\u001b[0m \u001b[33m...\u001b[0m\n"
      ]
     },
     "metadata": {},
     "output_type": "display_data"
    },
    {
     "name": "stderr",
     "output_type": "stream",
     "text": [
      "loss=6.7977 (32.7274), lr=0.050000: : 100% 2400/2400 [00:41<00:00, 57.52it/s] \n"
     ]
    },
    {
     "data": {
      "text/html": [
       "<pre style=\"white-space:pre;overflow-x:auto;line-height:normal;font-family:Menlo,'DejaVu Sans Mono',consolas,'Courier New',monospace\">==&gt; <span style=\"font-weight: bold\">[</span><span style=\"color: #008080; text-decoration-color: #008080; font-weight: bold\">2023</span>-<span style=\"color: #008080; text-decoration-color: #008080; font-weight: bold\">08</span>-27_05-<span style=\"color: #008080; text-decoration-color: #008080; font-weight: bold\">58</span>-<span style=\"color: #008080; text-decoration-color: #008080; font-weight: bold\">59</span><span style=\"font-weight: bold\">]</span> Finished Epoch <span style=\"color: #008080; text-decoration-color: #008080; font-weight: bold\">30</span>/<span style=\"color: #008080; text-decoration-color: #008080; font-weight: bold\">100</span>. <span style=\"color: #808000; text-decoration-color: #808000\">CPU</span>=<span style=\"color: #008080; text-decoration-color: #008080; font-weight: bold\">18.</span>7GB, <span style=\"color: #808000; text-decoration-color: #808000\">GPU</span>=<span style=\"color: #008080; text-decoration-color: #008080; font-weight: bold\">42.</span>5GB.\n",
       "</pre>\n"
      ],
      "text/plain": [
       "==> \u001b[1m[\u001b[0m\u001b[1;36m2023\u001b[0m-\u001b[1;36m08\u001b[0m-27_05-\u001b[1;36m58\u001b[0m-\u001b[1;36m59\u001b[0m\u001b[1m]\u001b[0m Finished Epoch \u001b[1;36m30\u001b[0m/\u001b[1;36m100\u001b[0m. \u001b[33mCPU\u001b[0m=\u001b[1;36m18\u001b[0m\u001b[1;36m.\u001b[0m7GB, \u001b[33mGPU\u001b[0m=\u001b[1;36m42\u001b[0m\u001b[1;36m.\u001b[0m5GB.\n"
      ]
     },
     "metadata": {},
     "output_type": "display_data"
    },
    {
     "data": {
      "text/html": [
       "<pre style=\"white-space:pre;overflow-x:auto;line-height:normal;font-family:Menlo,'DejaVu Sans Mono',consolas,'Courier New',monospace\">++&gt; Evaluate scorp_side_dmtet at epoch <span style=\"color: #008080; text-decoration-color: #008080; font-weight: bold\">30</span> <span style=\"color: #808000; text-decoration-color: #808000\">...</span>\n",
       "</pre>\n"
      ],
      "text/plain": [
       "++> Evaluate scorp_side_dmtet at epoch \u001b[1;36m30\u001b[0m \u001b[33m...\u001b[0m\n"
      ]
     },
     "metadata": {},
     "output_type": "display_data"
    },
    {
     "name": "stderr",
     "output_type": "stream",
     "text": [
      "loss=0.0000 (0.0000): : 100% 8/8 [00:00<00:00, 35.63it/s]\n"
     ]
    },
    {
     "data": {
      "text/html": [
       "<pre style=\"white-space:pre;overflow-x:auto;line-height:normal;font-family:Menlo,'DejaVu Sans Mono',consolas,'Courier New',monospace\">++&gt; Evaluate epoch <span style=\"color: #008080; text-decoration-color: #008080; font-weight: bold\">30</span> Finished.\n",
       "</pre>\n"
      ],
      "text/plain": [
       "++> Evaluate epoch \u001b[1;36m30\u001b[0m Finished.\n"
      ]
     },
     "metadata": {},
     "output_type": "display_data"
    },
    {
     "data": {
      "text/html": [
       "<pre style=\"white-space:pre;overflow-x:auto;line-height:normal;font-family:Menlo,'DejaVu Sans Mono',consolas,'Courier New',monospace\">==&gt; Start Test, save results to scorp_side_dmtet/results\n",
       "</pre>\n"
      ],
      "text/plain": [
       "==> Start Test, save results to scorp_side_dmtet/results\n"
      ]
     },
     "metadata": {},
     "output_type": "display_data"
    },
    {
     "name": "stderr",
     "output_type": "stream",
     "text": [
      " 99% 99/100 [00:01<00:00, 84.90it/s]"
     ]
    },
    {
     "data": {
      "text/html": [
       "<pre style=\"white-space:pre;overflow-x:auto;line-height:normal;font-family:Menlo,'DejaVu Sans Mono',consolas,'Courier New',monospace\">==&gt; Finished Test.\n",
       "</pre>\n"
      ],
      "text/plain": [
       "==> Finished Test.\n"
      ]
     },
     "metadata": {},
     "output_type": "display_data"
    },
    {
     "name": "stderr",
     "output_type": "stream",
     "text": [
      "100% 100/100 [00:03<00:00, 29.47it/s]\n"
     ]
    },
    {
     "data": {
      "text/html": [
       "<pre style=\"white-space:pre;overflow-x:auto;line-height:normal;font-family:Menlo,'DejaVu Sans Mono',consolas,'Courier New',monospace\">==&gt; <span style=\"font-weight: bold\">[</span><span style=\"color: #008080; text-decoration-color: #008080; font-weight: bold\">2023</span>-<span style=\"color: #008080; text-decoration-color: #008080; font-weight: bold\">08</span>-27_05-<span style=\"color: #008080; text-decoration-color: #008080; font-weight: bold\">59</span>-<span style=\"color: #008080; text-decoration-color: #008080; font-weight: bold\">03</span><span style=\"font-weight: bold\">]</span> Start Training scorp_side_dmtet Epoch <span style=\"color: #008080; text-decoration-color: #008080; font-weight: bold\">31</span>/<span style=\"color: #008080; text-decoration-color: #008080; font-weight: bold\">100</span>, <span style=\"color: #808000; text-decoration-color: #808000\">lr</span>=<span style=\"color: #008080; text-decoration-color: #008080; font-weight: bold\">0.050000</span> <span style=\"color: #808000; text-decoration-color: #808000\">...</span>\n",
       "</pre>\n"
      ],
      "text/plain": [
       "==> \u001b[1m[\u001b[0m\u001b[1;36m2023\u001b[0m-\u001b[1;36m08\u001b[0m-27_05-\u001b[1;36m59\u001b[0m-\u001b[1;36m03\u001b[0m\u001b[1m]\u001b[0m Start Training scorp_side_dmtet Epoch \u001b[1;36m31\u001b[0m/\u001b[1;36m100\u001b[0m, \u001b[33mlr\u001b[0m=\u001b[1;36m0\u001b[0m\u001b[1;36m.050000\u001b[0m \u001b[33m...\u001b[0m\n"
      ]
     },
     "metadata": {},
     "output_type": "display_data"
    },
    {
     "name": "stderr",
     "output_type": "stream",
     "text": [
      "loss=6.6996 (34.1400), lr=0.050000: : 100% 2400/2400 [00:41<00:00, 58.43it/s]  \n"
     ]
    },
    {
     "data": {
      "text/html": [
       "<pre style=\"white-space:pre;overflow-x:auto;line-height:normal;font-family:Menlo,'DejaVu Sans Mono',consolas,'Courier New',monospace\">==&gt; <span style=\"font-weight: bold\">[</span><span style=\"color: #008080; text-decoration-color: #008080; font-weight: bold\">2023</span>-<span style=\"color: #008080; text-decoration-color: #008080; font-weight: bold\">08</span>-27_05-<span style=\"color: #008080; text-decoration-color: #008080; font-weight: bold\">59</span>-<span style=\"color: #008080; text-decoration-color: #008080; font-weight: bold\">44</span><span style=\"font-weight: bold\">]</span> Finished Epoch <span style=\"color: #008080; text-decoration-color: #008080; font-weight: bold\">31</span>/<span style=\"color: #008080; text-decoration-color: #008080; font-weight: bold\">100</span>. <span style=\"color: #808000; text-decoration-color: #808000\">CPU</span>=<span style=\"color: #008080; text-decoration-color: #008080; font-weight: bold\">18.</span>7GB, <span style=\"color: #808000; text-decoration-color: #808000\">GPU</span>=<span style=\"color: #008080; text-decoration-color: #008080; font-weight: bold\">42.</span>5GB.\n",
       "</pre>\n"
      ],
      "text/plain": [
       "==> \u001b[1m[\u001b[0m\u001b[1;36m2023\u001b[0m-\u001b[1;36m08\u001b[0m-27_05-\u001b[1;36m59\u001b[0m-\u001b[1;36m44\u001b[0m\u001b[1m]\u001b[0m Finished Epoch \u001b[1;36m31\u001b[0m/\u001b[1;36m100\u001b[0m. \u001b[33mCPU\u001b[0m=\u001b[1;36m18\u001b[0m\u001b[1;36m.\u001b[0m7GB, \u001b[33mGPU\u001b[0m=\u001b[1;36m42\u001b[0m\u001b[1;36m.\u001b[0m5GB.\n"
      ]
     },
     "metadata": {},
     "output_type": "display_data"
    },
    {
     "data": {
      "text/html": [
       "<pre style=\"white-space:pre;overflow-x:auto;line-height:normal;font-family:Menlo,'DejaVu Sans Mono',consolas,'Courier New',monospace\">++&gt; Evaluate scorp_side_dmtet at epoch <span style=\"color: #008080; text-decoration-color: #008080; font-weight: bold\">31</span> <span style=\"color: #808000; text-decoration-color: #808000\">...</span>\n",
       "</pre>\n"
      ],
      "text/plain": [
       "++> Evaluate scorp_side_dmtet at epoch \u001b[1;36m31\u001b[0m \u001b[33m...\u001b[0m\n"
      ]
     },
     "metadata": {},
     "output_type": "display_data"
    },
    {
     "name": "stderr",
     "output_type": "stream",
     "text": [
      "loss=0.0000 (0.0000): : 100% 8/8 [00:00<00:00, 34.78it/s]\n"
     ]
    },
    {
     "data": {
      "text/html": [
       "<pre style=\"white-space:pre;overflow-x:auto;line-height:normal;font-family:Menlo,'DejaVu Sans Mono',consolas,'Courier New',monospace\">++&gt; Evaluate epoch <span style=\"color: #008080; text-decoration-color: #008080; font-weight: bold\">31</span> Finished.\n",
       "</pre>\n"
      ],
      "text/plain": [
       "++> Evaluate epoch \u001b[1;36m31\u001b[0m Finished.\n"
      ]
     },
     "metadata": {},
     "output_type": "display_data"
    },
    {
     "data": {
      "text/html": [
       "<pre style=\"white-space:pre;overflow-x:auto;line-height:normal;font-family:Menlo,'DejaVu Sans Mono',consolas,'Courier New',monospace\">==&gt; <span style=\"font-weight: bold\">[</span><span style=\"color: #008080; text-decoration-color: #008080; font-weight: bold\">2023</span>-<span style=\"color: #008080; text-decoration-color: #008080; font-weight: bold\">08</span>-27_05-<span style=\"color: #008080; text-decoration-color: #008080; font-weight: bold\">59</span>-<span style=\"color: #008080; text-decoration-color: #008080; font-weight: bold\">45</span><span style=\"font-weight: bold\">]</span> Start Training scorp_side_dmtet Epoch <span style=\"color: #008080; text-decoration-color: #008080; font-weight: bold\">32</span>/<span style=\"color: #008080; text-decoration-color: #008080; font-weight: bold\">100</span>, <span style=\"color: #808000; text-decoration-color: #808000\">lr</span>=<span style=\"color: #008080; text-decoration-color: #008080; font-weight: bold\">0.050000</span> <span style=\"color: #808000; text-decoration-color: #808000\">...</span>\n",
       "</pre>\n"
      ],
      "text/plain": [
       "==> \u001b[1m[\u001b[0m\u001b[1;36m2023\u001b[0m-\u001b[1;36m08\u001b[0m-27_05-\u001b[1;36m59\u001b[0m-\u001b[1;36m45\u001b[0m\u001b[1m]\u001b[0m Start Training scorp_side_dmtet Epoch \u001b[1;36m32\u001b[0m/\u001b[1;36m100\u001b[0m, \u001b[33mlr\u001b[0m=\u001b[1;36m0\u001b[0m\u001b[1;36m.050000\u001b[0m \u001b[33m...\u001b[0m\n"
      ]
     },
     "metadata": {},
     "output_type": "display_data"
    },
    {
     "name": "stderr",
     "output_type": "stream",
     "text": [
      "loss=6.5758 (33.0184), lr=0.050000: : 100% 2400/2400 [00:41<00:00, 58.22it/s] \n"
     ]
    },
    {
     "data": {
      "text/html": [
       "<pre style=\"white-space:pre;overflow-x:auto;line-height:normal;font-family:Menlo,'DejaVu Sans Mono',consolas,'Courier New',monospace\">==&gt; <span style=\"font-weight: bold\">[</span><span style=\"color: #008080; text-decoration-color: #008080; font-weight: bold\">2023</span>-<span style=\"color: #008080; text-decoration-color: #008080; font-weight: bold\">08</span>-27_06-<span style=\"color: #008080; text-decoration-color: #008080; font-weight: bold\">00</span>-<span style=\"color: #008080; text-decoration-color: #008080; font-weight: bold\">26</span><span style=\"font-weight: bold\">]</span> Finished Epoch <span style=\"color: #008080; text-decoration-color: #008080; font-weight: bold\">32</span>/<span style=\"color: #008080; text-decoration-color: #008080; font-weight: bold\">100</span>. <span style=\"color: #808000; text-decoration-color: #808000\">CPU</span>=<span style=\"color: #008080; text-decoration-color: #008080; font-weight: bold\">18.</span>7GB, <span style=\"color: #808000; text-decoration-color: #808000\">GPU</span>=<span style=\"color: #008080; text-decoration-color: #008080; font-weight: bold\">42.</span>5GB.\n",
       "</pre>\n"
      ],
      "text/plain": [
       "==> \u001b[1m[\u001b[0m\u001b[1;36m2023\u001b[0m-\u001b[1;36m08\u001b[0m-27_06-\u001b[1;36m00\u001b[0m-\u001b[1;36m26\u001b[0m\u001b[1m]\u001b[0m Finished Epoch \u001b[1;36m32\u001b[0m/\u001b[1;36m100\u001b[0m. \u001b[33mCPU\u001b[0m=\u001b[1;36m18\u001b[0m\u001b[1;36m.\u001b[0m7GB, \u001b[33mGPU\u001b[0m=\u001b[1;36m42\u001b[0m\u001b[1;36m.\u001b[0m5GB.\n"
      ]
     },
     "metadata": {},
     "output_type": "display_data"
    },
    {
     "data": {
      "text/html": [
       "<pre style=\"white-space:pre;overflow-x:auto;line-height:normal;font-family:Menlo,'DejaVu Sans Mono',consolas,'Courier New',monospace\">++&gt; Evaluate scorp_side_dmtet at epoch <span style=\"color: #008080; text-decoration-color: #008080; font-weight: bold\">32</span> <span style=\"color: #808000; text-decoration-color: #808000\">...</span>\n",
       "</pre>\n"
      ],
      "text/plain": [
       "++> Evaluate scorp_side_dmtet at epoch \u001b[1;36m32\u001b[0m \u001b[33m...\u001b[0m\n"
      ]
     },
     "metadata": {},
     "output_type": "display_data"
    },
    {
     "name": "stderr",
     "output_type": "stream",
     "text": [
      "loss=0.0000 (0.0000): : 100% 8/8 [00:00<00:00, 34.68it/s]\n"
     ]
    },
    {
     "data": {
      "text/html": [
       "<pre style=\"white-space:pre;overflow-x:auto;line-height:normal;font-family:Menlo,'DejaVu Sans Mono',consolas,'Courier New',monospace\">++&gt; Evaluate epoch <span style=\"color: #008080; text-decoration-color: #008080; font-weight: bold\">32</span> Finished.\n",
       "</pre>\n"
      ],
      "text/plain": [
       "++> Evaluate epoch \u001b[1;36m32\u001b[0m Finished.\n"
      ]
     },
     "metadata": {},
     "output_type": "display_data"
    },
    {
     "data": {
      "text/html": [
       "<pre style=\"white-space:pre;overflow-x:auto;line-height:normal;font-family:Menlo,'DejaVu Sans Mono',consolas,'Courier New',monospace\">==&gt; <span style=\"font-weight: bold\">[</span><span style=\"color: #008080; text-decoration-color: #008080; font-weight: bold\">2023</span>-<span style=\"color: #008080; text-decoration-color: #008080; font-weight: bold\">08</span>-27_06-<span style=\"color: #008080; text-decoration-color: #008080; font-weight: bold\">00</span>-<span style=\"color: #008080; text-decoration-color: #008080; font-weight: bold\">27</span><span style=\"font-weight: bold\">]</span> Start Training scorp_side_dmtet Epoch <span style=\"color: #008080; text-decoration-color: #008080; font-weight: bold\">33</span>/<span style=\"color: #008080; text-decoration-color: #008080; font-weight: bold\">100</span>, <span style=\"color: #808000; text-decoration-color: #808000\">lr</span>=<span style=\"color: #008080; text-decoration-color: #008080; font-weight: bold\">0.050000</span> <span style=\"color: #808000; text-decoration-color: #808000\">...</span>\n",
       "</pre>\n"
      ],
      "text/plain": [
       "==> \u001b[1m[\u001b[0m\u001b[1;36m2023\u001b[0m-\u001b[1;36m08\u001b[0m-27_06-\u001b[1;36m00\u001b[0m-\u001b[1;36m27\u001b[0m\u001b[1m]\u001b[0m Start Training scorp_side_dmtet Epoch \u001b[1;36m33\u001b[0m/\u001b[1;36m100\u001b[0m, \u001b[33mlr\u001b[0m=\u001b[1;36m0\u001b[0m\u001b[1;36m.050000\u001b[0m \u001b[33m...\u001b[0m\n"
      ]
     },
     "metadata": {},
     "output_type": "display_data"
    },
    {
     "name": "stderr",
     "output_type": "stream",
     "text": [
      "loss=6.5059 (31.8631), lr=0.050000: : 100% 2400/2400 [00:41<00:00, 58.40it/s]  \n"
     ]
    },
    {
     "data": {
      "text/html": [
       "<pre style=\"white-space:pre;overflow-x:auto;line-height:normal;font-family:Menlo,'DejaVu Sans Mono',consolas,'Courier New',monospace\">==&gt; <span style=\"font-weight: bold\">[</span><span style=\"color: #008080; text-decoration-color: #008080; font-weight: bold\">2023</span>-<span style=\"color: #008080; text-decoration-color: #008080; font-weight: bold\">08</span>-27_06-<span style=\"color: #008080; text-decoration-color: #008080; font-weight: bold\">01</span>-<span style=\"color: #008080; text-decoration-color: #008080; font-weight: bold\">08</span><span style=\"font-weight: bold\">]</span> Finished Epoch <span style=\"color: #008080; text-decoration-color: #008080; font-weight: bold\">33</span>/<span style=\"color: #008080; text-decoration-color: #008080; font-weight: bold\">100</span>. <span style=\"color: #808000; text-decoration-color: #808000\">CPU</span>=<span style=\"color: #008080; text-decoration-color: #008080; font-weight: bold\">18.</span>7GB, <span style=\"color: #808000; text-decoration-color: #808000\">GPU</span>=<span style=\"color: #008080; text-decoration-color: #008080; font-weight: bold\">42.</span>5GB.\n",
       "</pre>\n"
      ],
      "text/plain": [
       "==> \u001b[1m[\u001b[0m\u001b[1;36m2023\u001b[0m-\u001b[1;36m08\u001b[0m-27_06-\u001b[1;36m01\u001b[0m-\u001b[1;36m08\u001b[0m\u001b[1m]\u001b[0m Finished Epoch \u001b[1;36m33\u001b[0m/\u001b[1;36m100\u001b[0m. \u001b[33mCPU\u001b[0m=\u001b[1;36m18\u001b[0m\u001b[1;36m.\u001b[0m7GB, \u001b[33mGPU\u001b[0m=\u001b[1;36m42\u001b[0m\u001b[1;36m.\u001b[0m5GB.\n"
      ]
     },
     "metadata": {},
     "output_type": "display_data"
    },
    {
     "data": {
      "text/html": [
       "<pre style=\"white-space:pre;overflow-x:auto;line-height:normal;font-family:Menlo,'DejaVu Sans Mono',consolas,'Courier New',monospace\">++&gt; Evaluate scorp_side_dmtet at epoch <span style=\"color: #008080; text-decoration-color: #008080; font-weight: bold\">33</span> <span style=\"color: #808000; text-decoration-color: #808000\">...</span>\n",
       "</pre>\n"
      ],
      "text/plain": [
       "++> Evaluate scorp_side_dmtet at epoch \u001b[1;36m33\u001b[0m \u001b[33m...\u001b[0m\n"
      ]
     },
     "metadata": {},
     "output_type": "display_data"
    },
    {
     "name": "stderr",
     "output_type": "stream",
     "text": [
      "loss=0.0000 (0.0000): : 100% 8/8 [00:00<00:00, 35.90it/s]\n"
     ]
    },
    {
     "data": {
      "text/html": [
       "<pre style=\"white-space:pre;overflow-x:auto;line-height:normal;font-family:Menlo,'DejaVu Sans Mono',consolas,'Courier New',monospace\">++&gt; Evaluate epoch <span style=\"color: #008080; text-decoration-color: #008080; font-weight: bold\">33</span> Finished.\n",
       "</pre>\n"
      ],
      "text/plain": [
       "++> Evaluate epoch \u001b[1;36m33\u001b[0m Finished.\n"
      ]
     },
     "metadata": {},
     "output_type": "display_data"
    },
    {
     "data": {
      "text/html": [
       "<pre style=\"white-space:pre;overflow-x:auto;line-height:normal;font-family:Menlo,'DejaVu Sans Mono',consolas,'Courier New',monospace\">==&gt; <span style=\"font-weight: bold\">[</span><span style=\"color: #008080; text-decoration-color: #008080; font-weight: bold\">2023</span>-<span style=\"color: #008080; text-decoration-color: #008080; font-weight: bold\">08</span>-27_06-<span style=\"color: #008080; text-decoration-color: #008080; font-weight: bold\">01</span>-<span style=\"color: #008080; text-decoration-color: #008080; font-weight: bold\">09</span><span style=\"font-weight: bold\">]</span> Start Training scorp_side_dmtet Epoch <span style=\"color: #008080; text-decoration-color: #008080; font-weight: bold\">34</span>/<span style=\"color: #008080; text-decoration-color: #008080; font-weight: bold\">100</span>, <span style=\"color: #808000; text-decoration-color: #808000\">lr</span>=<span style=\"color: #008080; text-decoration-color: #008080; font-weight: bold\">0.050000</span> <span style=\"color: #808000; text-decoration-color: #808000\">...</span>\n",
       "</pre>\n"
      ],
      "text/plain": [
       "==> \u001b[1m[\u001b[0m\u001b[1;36m2023\u001b[0m-\u001b[1;36m08\u001b[0m-27_06-\u001b[1;36m01\u001b[0m-\u001b[1;36m09\u001b[0m\u001b[1m]\u001b[0m Start Training scorp_side_dmtet Epoch \u001b[1;36m34\u001b[0m/\u001b[1;36m100\u001b[0m, \u001b[33mlr\u001b[0m=\u001b[1;36m0\u001b[0m\u001b[1;36m.050000\u001b[0m \u001b[33m...\u001b[0m\n"
      ]
     },
     "metadata": {},
     "output_type": "display_data"
    },
    {
     "name": "stderr",
     "output_type": "stream",
     "text": [
      "loss=6.5281 (33.7737), lr=0.050000: : 100% 2400/2400 [00:41<00:00, 57.67it/s] \n"
     ]
    },
    {
     "data": {
      "text/html": [
       "<pre style=\"white-space:pre;overflow-x:auto;line-height:normal;font-family:Menlo,'DejaVu Sans Mono',consolas,'Courier New',monospace\">==&gt; <span style=\"font-weight: bold\">[</span><span style=\"color: #008080; text-decoration-color: #008080; font-weight: bold\">2023</span>-<span style=\"color: #008080; text-decoration-color: #008080; font-weight: bold\">08</span>-27_06-<span style=\"color: #008080; text-decoration-color: #008080; font-weight: bold\">01</span>-<span style=\"color: #008080; text-decoration-color: #008080; font-weight: bold\">50</span><span style=\"font-weight: bold\">]</span> Finished Epoch <span style=\"color: #008080; text-decoration-color: #008080; font-weight: bold\">34</span>/<span style=\"color: #008080; text-decoration-color: #008080; font-weight: bold\">100</span>. <span style=\"color: #808000; text-decoration-color: #808000\">CPU</span>=<span style=\"color: #008080; text-decoration-color: #008080; font-weight: bold\">18.</span>7GB, <span style=\"color: #808000; text-decoration-color: #808000\">GPU</span>=<span style=\"color: #008080; text-decoration-color: #008080; font-weight: bold\">42.</span>5GB.\n",
       "</pre>\n"
      ],
      "text/plain": [
       "==> \u001b[1m[\u001b[0m\u001b[1;36m2023\u001b[0m-\u001b[1;36m08\u001b[0m-27_06-\u001b[1;36m01\u001b[0m-\u001b[1;36m50\u001b[0m\u001b[1m]\u001b[0m Finished Epoch \u001b[1;36m34\u001b[0m/\u001b[1;36m100\u001b[0m. \u001b[33mCPU\u001b[0m=\u001b[1;36m18\u001b[0m\u001b[1;36m.\u001b[0m7GB, \u001b[33mGPU\u001b[0m=\u001b[1;36m42\u001b[0m\u001b[1;36m.\u001b[0m5GB.\n"
      ]
     },
     "metadata": {},
     "output_type": "display_data"
    },
    {
     "data": {
      "text/html": [
       "<pre style=\"white-space:pre;overflow-x:auto;line-height:normal;font-family:Menlo,'DejaVu Sans Mono',consolas,'Courier New',monospace\">++&gt; Evaluate scorp_side_dmtet at epoch <span style=\"color: #008080; text-decoration-color: #008080; font-weight: bold\">34</span> <span style=\"color: #808000; text-decoration-color: #808000\">...</span>\n",
       "</pre>\n"
      ],
      "text/plain": [
       "++> Evaluate scorp_side_dmtet at epoch \u001b[1;36m34\u001b[0m \u001b[33m...\u001b[0m\n"
      ]
     },
     "metadata": {},
     "output_type": "display_data"
    },
    {
     "name": "stderr",
     "output_type": "stream",
     "text": [
      "loss=0.0000 (0.0000): : 100% 8/8 [00:00<00:00, 35.58it/s]\n"
     ]
    },
    {
     "data": {
      "text/html": [
       "<pre style=\"white-space:pre;overflow-x:auto;line-height:normal;font-family:Menlo,'DejaVu Sans Mono',consolas,'Courier New',monospace\">++&gt; Evaluate epoch <span style=\"color: #008080; text-decoration-color: #008080; font-weight: bold\">34</span> Finished.\n",
       "</pre>\n"
      ],
      "text/plain": [
       "++> Evaluate epoch \u001b[1;36m34\u001b[0m Finished.\n"
      ]
     },
     "metadata": {},
     "output_type": "display_data"
    },
    {
     "data": {
      "text/html": [
       "<pre style=\"white-space:pre;overflow-x:auto;line-height:normal;font-family:Menlo,'DejaVu Sans Mono',consolas,'Courier New',monospace\">==&gt; <span style=\"font-weight: bold\">[</span><span style=\"color: #008080; text-decoration-color: #008080; font-weight: bold\">2023</span>-<span style=\"color: #008080; text-decoration-color: #008080; font-weight: bold\">08</span>-27_06-<span style=\"color: #008080; text-decoration-color: #008080; font-weight: bold\">01</span>-<span style=\"color: #008080; text-decoration-color: #008080; font-weight: bold\">51</span><span style=\"font-weight: bold\">]</span> Start Training scorp_side_dmtet Epoch <span style=\"color: #008080; text-decoration-color: #008080; font-weight: bold\">35</span>/<span style=\"color: #008080; text-decoration-color: #008080; font-weight: bold\">100</span>, <span style=\"color: #808000; text-decoration-color: #808000\">lr</span>=<span style=\"color: #008080; text-decoration-color: #008080; font-weight: bold\">0.050000</span> <span style=\"color: #808000; text-decoration-color: #808000\">...</span>\n",
       "</pre>\n"
      ],
      "text/plain": [
       "==> \u001b[1m[\u001b[0m\u001b[1;36m2023\u001b[0m-\u001b[1;36m08\u001b[0m-27_06-\u001b[1;36m01\u001b[0m-\u001b[1;36m51\u001b[0m\u001b[1m]\u001b[0m Start Training scorp_side_dmtet Epoch \u001b[1;36m35\u001b[0m/\u001b[1;36m100\u001b[0m, \u001b[33mlr\u001b[0m=\u001b[1;36m0\u001b[0m\u001b[1;36m.050000\u001b[0m \u001b[33m...\u001b[0m\n"
      ]
     },
     "metadata": {},
     "output_type": "display_data"
    },
    {
     "name": "stderr",
     "output_type": "stream",
     "text": [
      "loss=6.4728 (33.5866), lr=0.050000: : 100% 2400/2400 [00:41<00:00, 57.35it/s]  \n"
     ]
    },
    {
     "data": {
      "text/html": [
       "<pre style=\"white-space:pre;overflow-x:auto;line-height:normal;font-family:Menlo,'DejaVu Sans Mono',consolas,'Courier New',monospace\">==&gt; <span style=\"font-weight: bold\">[</span><span style=\"color: #008080; text-decoration-color: #008080; font-weight: bold\">2023</span>-<span style=\"color: #008080; text-decoration-color: #008080; font-weight: bold\">08</span>-27_06-<span style=\"color: #008080; text-decoration-color: #008080; font-weight: bold\">02</span>-<span style=\"color: #008080; text-decoration-color: #008080; font-weight: bold\">33</span><span style=\"font-weight: bold\">]</span> Finished Epoch <span style=\"color: #008080; text-decoration-color: #008080; font-weight: bold\">35</span>/<span style=\"color: #008080; text-decoration-color: #008080; font-weight: bold\">100</span>. <span style=\"color: #808000; text-decoration-color: #808000\">CPU</span>=<span style=\"color: #008080; text-decoration-color: #008080; font-weight: bold\">18.</span>7GB, <span style=\"color: #808000; text-decoration-color: #808000\">GPU</span>=<span style=\"color: #008080; text-decoration-color: #008080; font-weight: bold\">42.</span>5GB.\n",
       "</pre>\n"
      ],
      "text/plain": [
       "==> \u001b[1m[\u001b[0m\u001b[1;36m2023\u001b[0m-\u001b[1;36m08\u001b[0m-27_06-\u001b[1;36m02\u001b[0m-\u001b[1;36m33\u001b[0m\u001b[1m]\u001b[0m Finished Epoch \u001b[1;36m35\u001b[0m/\u001b[1;36m100\u001b[0m. \u001b[33mCPU\u001b[0m=\u001b[1;36m18\u001b[0m\u001b[1;36m.\u001b[0m7GB, \u001b[33mGPU\u001b[0m=\u001b[1;36m42\u001b[0m\u001b[1;36m.\u001b[0m5GB.\n"
      ]
     },
     "metadata": {},
     "output_type": "display_data"
    },
    {
     "data": {
      "text/html": [
       "<pre style=\"white-space:pre;overflow-x:auto;line-height:normal;font-family:Menlo,'DejaVu Sans Mono',consolas,'Courier New',monospace\">++&gt; Evaluate scorp_side_dmtet at epoch <span style=\"color: #008080; text-decoration-color: #008080; font-weight: bold\">35</span> <span style=\"color: #808000; text-decoration-color: #808000\">...</span>\n",
       "</pre>\n"
      ],
      "text/plain": [
       "++> Evaluate scorp_side_dmtet at epoch \u001b[1;36m35\u001b[0m \u001b[33m...\u001b[0m\n"
      ]
     },
     "metadata": {},
     "output_type": "display_data"
    },
    {
     "name": "stderr",
     "output_type": "stream",
     "text": [
      "loss=0.0000 (0.0000): : 100% 8/8 [00:00<00:00, 35.61it/s]\n"
     ]
    },
    {
     "data": {
      "text/html": [
       "<pre style=\"white-space:pre;overflow-x:auto;line-height:normal;font-family:Menlo,'DejaVu Sans Mono',consolas,'Courier New',monospace\">++&gt; Evaluate epoch <span style=\"color: #008080; text-decoration-color: #008080; font-weight: bold\">35</span> Finished.\n",
       "</pre>\n"
      ],
      "text/plain": [
       "++> Evaluate epoch \u001b[1;36m35\u001b[0m Finished.\n"
      ]
     },
     "metadata": {},
     "output_type": "display_data"
    },
    {
     "data": {
      "text/html": [
       "<pre style=\"white-space:pre;overflow-x:auto;line-height:normal;font-family:Menlo,'DejaVu Sans Mono',consolas,'Courier New',monospace\">==&gt; Start Test, save results to scorp_side_dmtet/results\n",
       "</pre>\n"
      ],
      "text/plain": [
       "==> Start Test, save results to scorp_side_dmtet/results\n"
      ]
     },
     "metadata": {},
     "output_type": "display_data"
    },
    {
     "name": "stderr",
     "output_type": "stream",
     "text": [
      " 99% 99/100 [00:01<00:00, 86.90it/s]"
     ]
    },
    {
     "data": {
      "text/html": [
       "<pre style=\"white-space:pre;overflow-x:auto;line-height:normal;font-family:Menlo,'DejaVu Sans Mono',consolas,'Courier New',monospace\">==&gt; Finished Test.\n",
       "</pre>\n"
      ],
      "text/plain": [
       "==> Finished Test.\n"
      ]
     },
     "metadata": {},
     "output_type": "display_data"
    },
    {
     "name": "stderr",
     "output_type": "stream",
     "text": [
      "100% 100/100 [00:03<00:00, 28.95it/s]\n"
     ]
    },
    {
     "data": {
      "text/html": [
       "<pre style=\"white-space:pre;overflow-x:auto;line-height:normal;font-family:Menlo,'DejaVu Sans Mono',consolas,'Courier New',monospace\">==&gt; <span style=\"font-weight: bold\">[</span><span style=\"color: #008080; text-decoration-color: #008080; font-weight: bold\">2023</span>-<span style=\"color: #008080; text-decoration-color: #008080; font-weight: bold\">08</span>-27_06-<span style=\"color: #008080; text-decoration-color: #008080; font-weight: bold\">02</span>-<span style=\"color: #008080; text-decoration-color: #008080; font-weight: bold\">37</span><span style=\"font-weight: bold\">]</span> Start Training scorp_side_dmtet Epoch <span style=\"color: #008080; text-decoration-color: #008080; font-weight: bold\">36</span>/<span style=\"color: #008080; text-decoration-color: #008080; font-weight: bold\">100</span>, <span style=\"color: #808000; text-decoration-color: #808000\">lr</span>=<span style=\"color: #008080; text-decoration-color: #008080; font-weight: bold\">0.050000</span> <span style=\"color: #808000; text-decoration-color: #808000\">...</span>\n",
       "</pre>\n"
      ],
      "text/plain": [
       "==> \u001b[1m[\u001b[0m\u001b[1;36m2023\u001b[0m-\u001b[1;36m08\u001b[0m-27_06-\u001b[1;36m02\u001b[0m-\u001b[1;36m37\u001b[0m\u001b[1m]\u001b[0m Start Training scorp_side_dmtet Epoch \u001b[1;36m36\u001b[0m/\u001b[1;36m100\u001b[0m, \u001b[33mlr\u001b[0m=\u001b[1;36m0\u001b[0m\u001b[1;36m.050000\u001b[0m \u001b[33m...\u001b[0m\n"
      ]
     },
     "metadata": {},
     "output_type": "display_data"
    },
    {
     "name": "stderr",
     "output_type": "stream",
     "text": [
      "loss=6.3534 (29.7581), lr=0.050000: : 100% 2400/2400 [00:42<00:00, 56.84it/s] \n"
     ]
    },
    {
     "data": {
      "text/html": [
       "<pre style=\"white-space:pre;overflow-x:auto;line-height:normal;font-family:Menlo,'DejaVu Sans Mono',consolas,'Courier New',monospace\">==&gt; <span style=\"font-weight: bold\">[</span><span style=\"color: #008080; text-decoration-color: #008080; font-weight: bold\">2023</span>-<span style=\"color: #008080; text-decoration-color: #008080; font-weight: bold\">08</span>-27_06-<span style=\"color: #008080; text-decoration-color: #008080; font-weight: bold\">03</span>-<span style=\"color: #008080; text-decoration-color: #008080; font-weight: bold\">19</span><span style=\"font-weight: bold\">]</span> Finished Epoch <span style=\"color: #008080; text-decoration-color: #008080; font-weight: bold\">36</span>/<span style=\"color: #008080; text-decoration-color: #008080; font-weight: bold\">100</span>. <span style=\"color: #808000; text-decoration-color: #808000\">CPU</span>=<span style=\"color: #008080; text-decoration-color: #008080; font-weight: bold\">18.</span>7GB, <span style=\"color: #808000; text-decoration-color: #808000\">GPU</span>=<span style=\"color: #008080; text-decoration-color: #008080; font-weight: bold\">42.</span>5GB.\n",
       "</pre>\n"
      ],
      "text/plain": [
       "==> \u001b[1m[\u001b[0m\u001b[1;36m2023\u001b[0m-\u001b[1;36m08\u001b[0m-27_06-\u001b[1;36m03\u001b[0m-\u001b[1;36m19\u001b[0m\u001b[1m]\u001b[0m Finished Epoch \u001b[1;36m36\u001b[0m/\u001b[1;36m100\u001b[0m. \u001b[33mCPU\u001b[0m=\u001b[1;36m18\u001b[0m\u001b[1;36m.\u001b[0m7GB, \u001b[33mGPU\u001b[0m=\u001b[1;36m42\u001b[0m\u001b[1;36m.\u001b[0m5GB.\n"
      ]
     },
     "metadata": {},
     "output_type": "display_data"
    },
    {
     "data": {
      "text/html": [
       "<pre style=\"white-space:pre;overflow-x:auto;line-height:normal;font-family:Menlo,'DejaVu Sans Mono',consolas,'Courier New',monospace\">++&gt; Evaluate scorp_side_dmtet at epoch <span style=\"color: #008080; text-decoration-color: #008080; font-weight: bold\">36</span> <span style=\"color: #808000; text-decoration-color: #808000\">...</span>\n",
       "</pre>\n"
      ],
      "text/plain": [
       "++> Evaluate scorp_side_dmtet at epoch \u001b[1;36m36\u001b[0m \u001b[33m...\u001b[0m\n"
      ]
     },
     "metadata": {},
     "output_type": "display_data"
    },
    {
     "name": "stderr",
     "output_type": "stream",
     "text": [
      "loss=0.0000 (0.0000): : 100% 8/8 [00:00<00:00, 34.40it/s]\n"
     ]
    },
    {
     "data": {
      "text/html": [
       "<pre style=\"white-space:pre;overflow-x:auto;line-height:normal;font-family:Menlo,'DejaVu Sans Mono',consolas,'Courier New',monospace\">++&gt; Evaluate epoch <span style=\"color: #008080; text-decoration-color: #008080; font-weight: bold\">36</span> Finished.\n",
       "</pre>\n"
      ],
      "text/plain": [
       "++> Evaluate epoch \u001b[1;36m36\u001b[0m Finished.\n"
      ]
     },
     "metadata": {},
     "output_type": "display_data"
    },
    {
     "data": {
      "text/html": [
       "<pre style=\"white-space:pre;overflow-x:auto;line-height:normal;font-family:Menlo,'DejaVu Sans Mono',consolas,'Courier New',monospace\">==&gt; <span style=\"font-weight: bold\">[</span><span style=\"color: #008080; text-decoration-color: #008080; font-weight: bold\">2023</span>-<span style=\"color: #008080; text-decoration-color: #008080; font-weight: bold\">08</span>-27_06-<span style=\"color: #008080; text-decoration-color: #008080; font-weight: bold\">03</span>-<span style=\"color: #008080; text-decoration-color: #008080; font-weight: bold\">20</span><span style=\"font-weight: bold\">]</span> Start Training scorp_side_dmtet Epoch <span style=\"color: #008080; text-decoration-color: #008080; font-weight: bold\">37</span>/<span style=\"color: #008080; text-decoration-color: #008080; font-weight: bold\">100</span>, <span style=\"color: #808000; text-decoration-color: #808000\">lr</span>=<span style=\"color: #008080; text-decoration-color: #008080; font-weight: bold\">0.050000</span> <span style=\"color: #808000; text-decoration-color: #808000\">...</span>\n",
       "</pre>\n"
      ],
      "text/plain": [
       "==> \u001b[1m[\u001b[0m\u001b[1;36m2023\u001b[0m-\u001b[1;36m08\u001b[0m-27_06-\u001b[1;36m03\u001b[0m-\u001b[1;36m20\u001b[0m\u001b[1m]\u001b[0m Start Training scorp_side_dmtet Epoch \u001b[1;36m37\u001b[0m/\u001b[1;36m100\u001b[0m, \u001b[33mlr\u001b[0m=\u001b[1;36m0\u001b[0m\u001b[1;36m.050000\u001b[0m \u001b[33m...\u001b[0m\n"
      ]
     },
     "metadata": {},
     "output_type": "display_data"
    },
    {
     "name": "stderr",
     "output_type": "stream",
     "text": [
      "loss=6.2724 (35.2254), lr=0.050000: : 100% 2400/2400 [00:41<00:00, 58.12it/s] \n"
     ]
    },
    {
     "data": {
      "text/html": [
       "<pre style=\"white-space:pre;overflow-x:auto;line-height:normal;font-family:Menlo,'DejaVu Sans Mono',consolas,'Courier New',monospace\">==&gt; <span style=\"font-weight: bold\">[</span><span style=\"color: #008080; text-decoration-color: #008080; font-weight: bold\">2023</span>-<span style=\"color: #008080; text-decoration-color: #008080; font-weight: bold\">08</span>-27_06-<span style=\"color: #008080; text-decoration-color: #008080; font-weight: bold\">04</span>-<span style=\"color: #008080; text-decoration-color: #008080; font-weight: bold\">01</span><span style=\"font-weight: bold\">]</span> Finished Epoch <span style=\"color: #008080; text-decoration-color: #008080; font-weight: bold\">37</span>/<span style=\"color: #008080; text-decoration-color: #008080; font-weight: bold\">100</span>. <span style=\"color: #808000; text-decoration-color: #808000\">CPU</span>=<span style=\"color: #008080; text-decoration-color: #008080; font-weight: bold\">18.</span>7GB, <span style=\"color: #808000; text-decoration-color: #808000\">GPU</span>=<span style=\"color: #008080; text-decoration-color: #008080; font-weight: bold\">42.</span>5GB.\n",
       "</pre>\n"
      ],
      "text/plain": [
       "==> \u001b[1m[\u001b[0m\u001b[1;36m2023\u001b[0m-\u001b[1;36m08\u001b[0m-27_06-\u001b[1;36m04\u001b[0m-\u001b[1;36m01\u001b[0m\u001b[1m]\u001b[0m Finished Epoch \u001b[1;36m37\u001b[0m/\u001b[1;36m100\u001b[0m. \u001b[33mCPU\u001b[0m=\u001b[1;36m18\u001b[0m\u001b[1;36m.\u001b[0m7GB, \u001b[33mGPU\u001b[0m=\u001b[1;36m42\u001b[0m\u001b[1;36m.\u001b[0m5GB.\n"
      ]
     },
     "metadata": {},
     "output_type": "display_data"
    },
    {
     "data": {
      "text/html": [
       "<pre style=\"white-space:pre;overflow-x:auto;line-height:normal;font-family:Menlo,'DejaVu Sans Mono',consolas,'Courier New',monospace\">++&gt; Evaluate scorp_side_dmtet at epoch <span style=\"color: #008080; text-decoration-color: #008080; font-weight: bold\">37</span> <span style=\"color: #808000; text-decoration-color: #808000\">...</span>\n",
       "</pre>\n"
      ],
      "text/plain": [
       "++> Evaluate scorp_side_dmtet at epoch \u001b[1;36m37\u001b[0m \u001b[33m...\u001b[0m\n"
      ]
     },
     "metadata": {},
     "output_type": "display_data"
    },
    {
     "name": "stderr",
     "output_type": "stream",
     "text": [
      "loss=0.0000 (0.0000): : 100% 8/8 [00:00<00:00, 34.66it/s]\n"
     ]
    },
    {
     "data": {
      "text/html": [
       "<pre style=\"white-space:pre;overflow-x:auto;line-height:normal;font-family:Menlo,'DejaVu Sans Mono',consolas,'Courier New',monospace\">++&gt; Evaluate epoch <span style=\"color: #008080; text-decoration-color: #008080; font-weight: bold\">37</span> Finished.\n",
       "</pre>\n"
      ],
      "text/plain": [
       "++> Evaluate epoch \u001b[1;36m37\u001b[0m Finished.\n"
      ]
     },
     "metadata": {},
     "output_type": "display_data"
    },
    {
     "data": {
      "text/html": [
       "<pre style=\"white-space:pre;overflow-x:auto;line-height:normal;font-family:Menlo,'DejaVu Sans Mono',consolas,'Courier New',monospace\">==&gt; <span style=\"font-weight: bold\">[</span><span style=\"color: #008080; text-decoration-color: #008080; font-weight: bold\">2023</span>-<span style=\"color: #008080; text-decoration-color: #008080; font-weight: bold\">08</span>-27_06-<span style=\"color: #008080; text-decoration-color: #008080; font-weight: bold\">04</span>-<span style=\"color: #008080; text-decoration-color: #008080; font-weight: bold\">02</span><span style=\"font-weight: bold\">]</span> Start Training scorp_side_dmtet Epoch <span style=\"color: #008080; text-decoration-color: #008080; font-weight: bold\">38</span>/<span style=\"color: #008080; text-decoration-color: #008080; font-weight: bold\">100</span>, <span style=\"color: #808000; text-decoration-color: #808000\">lr</span>=<span style=\"color: #008080; text-decoration-color: #008080; font-weight: bold\">0.050000</span> <span style=\"color: #808000; text-decoration-color: #808000\">...</span>\n",
       "</pre>\n"
      ],
      "text/plain": [
       "==> \u001b[1m[\u001b[0m\u001b[1;36m2023\u001b[0m-\u001b[1;36m08\u001b[0m-27_06-\u001b[1;36m04\u001b[0m-\u001b[1;36m02\u001b[0m\u001b[1m]\u001b[0m Start Training scorp_side_dmtet Epoch \u001b[1;36m38\u001b[0m/\u001b[1;36m100\u001b[0m, \u001b[33mlr\u001b[0m=\u001b[1;36m0\u001b[0m\u001b[1;36m.050000\u001b[0m \u001b[33m...\u001b[0m\n"
      ]
     },
     "metadata": {},
     "output_type": "display_data"
    },
    {
     "name": "stderr",
     "output_type": "stream",
     "text": [
      "loss=6.2608 (35.0123), lr=0.050000: : 100% 2400/2400 [00:41<00:00, 57.34it/s]  \n"
     ]
    },
    {
     "data": {
      "text/html": [
       "<pre style=\"white-space:pre;overflow-x:auto;line-height:normal;font-family:Menlo,'DejaVu Sans Mono',consolas,'Courier New',monospace\">==&gt; <span style=\"font-weight: bold\">[</span><span style=\"color: #008080; text-decoration-color: #008080; font-weight: bold\">2023</span>-<span style=\"color: #008080; text-decoration-color: #008080; font-weight: bold\">08</span>-27_06-<span style=\"color: #008080; text-decoration-color: #008080; font-weight: bold\">04</span>-<span style=\"color: #008080; text-decoration-color: #008080; font-weight: bold\">43</span><span style=\"font-weight: bold\">]</span> Finished Epoch <span style=\"color: #008080; text-decoration-color: #008080; font-weight: bold\">38</span>/<span style=\"color: #008080; text-decoration-color: #008080; font-weight: bold\">100</span>. <span style=\"color: #808000; text-decoration-color: #808000\">CPU</span>=<span style=\"color: #008080; text-decoration-color: #008080; font-weight: bold\">18.</span>7GB, <span style=\"color: #808000; text-decoration-color: #808000\">GPU</span>=<span style=\"color: #008080; text-decoration-color: #008080; font-weight: bold\">42.</span>5GB.\n",
       "</pre>\n"
      ],
      "text/plain": [
       "==> \u001b[1m[\u001b[0m\u001b[1;36m2023\u001b[0m-\u001b[1;36m08\u001b[0m-27_06-\u001b[1;36m04\u001b[0m-\u001b[1;36m43\u001b[0m\u001b[1m]\u001b[0m Finished Epoch \u001b[1;36m38\u001b[0m/\u001b[1;36m100\u001b[0m. \u001b[33mCPU\u001b[0m=\u001b[1;36m18\u001b[0m\u001b[1;36m.\u001b[0m7GB, \u001b[33mGPU\u001b[0m=\u001b[1;36m42\u001b[0m\u001b[1;36m.\u001b[0m5GB.\n"
      ]
     },
     "metadata": {},
     "output_type": "display_data"
    },
    {
     "data": {
      "text/html": [
       "<pre style=\"white-space:pre;overflow-x:auto;line-height:normal;font-family:Menlo,'DejaVu Sans Mono',consolas,'Courier New',monospace\">++&gt; Evaluate scorp_side_dmtet at epoch <span style=\"color: #008080; text-decoration-color: #008080; font-weight: bold\">38</span> <span style=\"color: #808000; text-decoration-color: #808000\">...</span>\n",
       "</pre>\n"
      ],
      "text/plain": [
       "++> Evaluate scorp_side_dmtet at epoch \u001b[1;36m38\u001b[0m \u001b[33m...\u001b[0m\n"
      ]
     },
     "metadata": {},
     "output_type": "display_data"
    },
    {
     "name": "stderr",
     "output_type": "stream",
     "text": [
      "loss=0.0000 (0.0000): : 100% 8/8 [00:00<00:00, 35.46it/s]\n"
     ]
    },
    {
     "data": {
      "text/html": [
       "<pre style=\"white-space:pre;overflow-x:auto;line-height:normal;font-family:Menlo,'DejaVu Sans Mono',consolas,'Courier New',monospace\">++&gt; Evaluate epoch <span style=\"color: #008080; text-decoration-color: #008080; font-weight: bold\">38</span> Finished.\n",
       "</pre>\n"
      ],
      "text/plain": [
       "++> Evaluate epoch \u001b[1;36m38\u001b[0m Finished.\n"
      ]
     },
     "metadata": {},
     "output_type": "display_data"
    },
    {
     "data": {
      "text/html": [
       "<pre style=\"white-space:pre;overflow-x:auto;line-height:normal;font-family:Menlo,'DejaVu Sans Mono',consolas,'Courier New',monospace\">==&gt; <span style=\"font-weight: bold\">[</span><span style=\"color: #008080; text-decoration-color: #008080; font-weight: bold\">2023</span>-<span style=\"color: #008080; text-decoration-color: #008080; font-weight: bold\">08</span>-27_06-<span style=\"color: #008080; text-decoration-color: #008080; font-weight: bold\">04</span>-<span style=\"color: #008080; text-decoration-color: #008080; font-weight: bold\">44</span><span style=\"font-weight: bold\">]</span> Start Training scorp_side_dmtet Epoch <span style=\"color: #008080; text-decoration-color: #008080; font-weight: bold\">39</span>/<span style=\"color: #008080; text-decoration-color: #008080; font-weight: bold\">100</span>, <span style=\"color: #808000; text-decoration-color: #808000\">lr</span>=<span style=\"color: #008080; text-decoration-color: #008080; font-weight: bold\">0.050000</span> <span style=\"color: #808000; text-decoration-color: #808000\">...</span>\n",
       "</pre>\n"
      ],
      "text/plain": [
       "==> \u001b[1m[\u001b[0m\u001b[1;36m2023\u001b[0m-\u001b[1;36m08\u001b[0m-27_06-\u001b[1;36m04\u001b[0m-\u001b[1;36m44\u001b[0m\u001b[1m]\u001b[0m Start Training scorp_side_dmtet Epoch \u001b[1;36m39\u001b[0m/\u001b[1;36m100\u001b[0m, \u001b[33mlr\u001b[0m=\u001b[1;36m0\u001b[0m\u001b[1;36m.050000\u001b[0m \u001b[33m...\u001b[0m\n"
      ]
     },
     "metadata": {},
     "output_type": "display_data"
    },
    {
     "name": "stderr",
     "output_type": "stream",
     "text": [
      "loss=6.2825 (34.8770), lr=0.050000: : 100% 2400/2400 [00:41<00:00, 57.86it/s]  \n"
     ]
    },
    {
     "data": {
      "text/html": [
       "<pre style=\"white-space:pre;overflow-x:auto;line-height:normal;font-family:Menlo,'DejaVu Sans Mono',consolas,'Courier New',monospace\">==&gt; <span style=\"font-weight: bold\">[</span><span style=\"color: #008080; text-decoration-color: #008080; font-weight: bold\">2023</span>-<span style=\"color: #008080; text-decoration-color: #008080; font-weight: bold\">08</span>-27_06-<span style=\"color: #008080; text-decoration-color: #008080; font-weight: bold\">05</span>-<span style=\"color: #008080; text-decoration-color: #008080; font-weight: bold\">26</span><span style=\"font-weight: bold\">]</span> Finished Epoch <span style=\"color: #008080; text-decoration-color: #008080; font-weight: bold\">39</span>/<span style=\"color: #008080; text-decoration-color: #008080; font-weight: bold\">100</span>. <span style=\"color: #808000; text-decoration-color: #808000\">CPU</span>=<span style=\"color: #008080; text-decoration-color: #008080; font-weight: bold\">18.</span>7GB, <span style=\"color: #808000; text-decoration-color: #808000\">GPU</span>=<span style=\"color: #008080; text-decoration-color: #008080; font-weight: bold\">42.</span>5GB.\n",
       "</pre>\n"
      ],
      "text/plain": [
       "==> \u001b[1m[\u001b[0m\u001b[1;36m2023\u001b[0m-\u001b[1;36m08\u001b[0m-27_06-\u001b[1;36m05\u001b[0m-\u001b[1;36m26\u001b[0m\u001b[1m]\u001b[0m Finished Epoch \u001b[1;36m39\u001b[0m/\u001b[1;36m100\u001b[0m. \u001b[33mCPU\u001b[0m=\u001b[1;36m18\u001b[0m\u001b[1;36m.\u001b[0m7GB, \u001b[33mGPU\u001b[0m=\u001b[1;36m42\u001b[0m\u001b[1;36m.\u001b[0m5GB.\n"
      ]
     },
     "metadata": {},
     "output_type": "display_data"
    },
    {
     "data": {
      "text/html": [
       "<pre style=\"white-space:pre;overflow-x:auto;line-height:normal;font-family:Menlo,'DejaVu Sans Mono',consolas,'Courier New',monospace\">++&gt; Evaluate scorp_side_dmtet at epoch <span style=\"color: #008080; text-decoration-color: #008080; font-weight: bold\">39</span> <span style=\"color: #808000; text-decoration-color: #808000\">...</span>\n",
       "</pre>\n"
      ],
      "text/plain": [
       "++> Evaluate scorp_side_dmtet at epoch \u001b[1;36m39\u001b[0m \u001b[33m...\u001b[0m\n"
      ]
     },
     "metadata": {},
     "output_type": "display_data"
    },
    {
     "name": "stderr",
     "output_type": "stream",
     "text": [
      "loss=0.0000 (0.0000): : 100% 8/8 [00:00<00:00, 35.96it/s]\n"
     ]
    },
    {
     "data": {
      "text/html": [
       "<pre style=\"white-space:pre;overflow-x:auto;line-height:normal;font-family:Menlo,'DejaVu Sans Mono',consolas,'Courier New',monospace\">++&gt; Evaluate epoch <span style=\"color: #008080; text-decoration-color: #008080; font-weight: bold\">39</span> Finished.\n",
       "</pre>\n"
      ],
      "text/plain": [
       "++> Evaluate epoch \u001b[1;36m39\u001b[0m Finished.\n"
      ]
     },
     "metadata": {},
     "output_type": "display_data"
    },
    {
     "data": {
      "text/html": [
       "<pre style=\"white-space:pre;overflow-x:auto;line-height:normal;font-family:Menlo,'DejaVu Sans Mono',consolas,'Courier New',monospace\">==&gt; <span style=\"font-weight: bold\">[</span><span style=\"color: #008080; text-decoration-color: #008080; font-weight: bold\">2023</span>-<span style=\"color: #008080; text-decoration-color: #008080; font-weight: bold\">08</span>-27_06-<span style=\"color: #008080; text-decoration-color: #008080; font-weight: bold\">05</span>-<span style=\"color: #008080; text-decoration-color: #008080; font-weight: bold\">26</span><span style=\"font-weight: bold\">]</span> Start Training scorp_side_dmtet Epoch <span style=\"color: #008080; text-decoration-color: #008080; font-weight: bold\">40</span>/<span style=\"color: #008080; text-decoration-color: #008080; font-weight: bold\">100</span>, <span style=\"color: #808000; text-decoration-color: #808000\">lr</span>=<span style=\"color: #008080; text-decoration-color: #008080; font-weight: bold\">0.050000</span> <span style=\"color: #808000; text-decoration-color: #808000\">...</span>\n",
       "</pre>\n"
      ],
      "text/plain": [
       "==> \u001b[1m[\u001b[0m\u001b[1;36m2023\u001b[0m-\u001b[1;36m08\u001b[0m-27_06-\u001b[1;36m05\u001b[0m-\u001b[1;36m26\u001b[0m\u001b[1m]\u001b[0m Start Training scorp_side_dmtet Epoch \u001b[1;36m40\u001b[0m/\u001b[1;36m100\u001b[0m, \u001b[33mlr\u001b[0m=\u001b[1;36m0\u001b[0m\u001b[1;36m.050000\u001b[0m \u001b[33m...\u001b[0m\n"
      ]
     },
     "metadata": {},
     "output_type": "display_data"
    },
    {
     "name": "stderr",
     "output_type": "stream",
     "text": [
      "loss=6.3076 (33.7325), lr=0.050000: : 100% 2400/2400 [00:41<00:00, 57.37it/s] \n"
     ]
    },
    {
     "data": {
      "text/html": [
       "<pre style=\"white-space:pre;overflow-x:auto;line-height:normal;font-family:Menlo,'DejaVu Sans Mono',consolas,'Courier New',monospace\">==&gt; <span style=\"font-weight: bold\">[</span><span style=\"color: #008080; text-decoration-color: #008080; font-weight: bold\">2023</span>-<span style=\"color: #008080; text-decoration-color: #008080; font-weight: bold\">08</span>-27_06-<span style=\"color: #008080; text-decoration-color: #008080; font-weight: bold\">06</span>-<span style=\"color: #008080; text-decoration-color: #008080; font-weight: bold\">08</span><span style=\"font-weight: bold\">]</span> Finished Epoch <span style=\"color: #008080; text-decoration-color: #008080; font-weight: bold\">40</span>/<span style=\"color: #008080; text-decoration-color: #008080; font-weight: bold\">100</span>. <span style=\"color: #808000; text-decoration-color: #808000\">CPU</span>=<span style=\"color: #008080; text-decoration-color: #008080; font-weight: bold\">18.</span>7GB, <span style=\"color: #808000; text-decoration-color: #808000\">GPU</span>=<span style=\"color: #008080; text-decoration-color: #008080; font-weight: bold\">42.</span>5GB.\n",
       "</pre>\n"
      ],
      "text/plain": [
       "==> \u001b[1m[\u001b[0m\u001b[1;36m2023\u001b[0m-\u001b[1;36m08\u001b[0m-27_06-\u001b[1;36m06\u001b[0m-\u001b[1;36m08\u001b[0m\u001b[1m]\u001b[0m Finished Epoch \u001b[1;36m40\u001b[0m/\u001b[1;36m100\u001b[0m. \u001b[33mCPU\u001b[0m=\u001b[1;36m18\u001b[0m\u001b[1;36m.\u001b[0m7GB, \u001b[33mGPU\u001b[0m=\u001b[1;36m42\u001b[0m\u001b[1;36m.\u001b[0m5GB.\n"
      ]
     },
     "metadata": {},
     "output_type": "display_data"
    },
    {
     "data": {
      "text/html": [
       "<pre style=\"white-space:pre;overflow-x:auto;line-height:normal;font-family:Menlo,'DejaVu Sans Mono',consolas,'Courier New',monospace\">++&gt; Evaluate scorp_side_dmtet at epoch <span style=\"color: #008080; text-decoration-color: #008080; font-weight: bold\">40</span> <span style=\"color: #808000; text-decoration-color: #808000\">...</span>\n",
       "</pre>\n"
      ],
      "text/plain": [
       "++> Evaluate scorp_side_dmtet at epoch \u001b[1;36m40\u001b[0m \u001b[33m...\u001b[0m\n"
      ]
     },
     "metadata": {},
     "output_type": "display_data"
    },
    {
     "name": "stderr",
     "output_type": "stream",
     "text": [
      "loss=0.0000 (0.0000): : 100% 8/8 [00:00<00:00, 35.45it/s]\n"
     ]
    },
    {
     "data": {
      "text/html": [
       "<pre style=\"white-space:pre;overflow-x:auto;line-height:normal;font-family:Menlo,'DejaVu Sans Mono',consolas,'Courier New',monospace\">++&gt; Evaluate epoch <span style=\"color: #008080; text-decoration-color: #008080; font-weight: bold\">40</span> Finished.\n",
       "</pre>\n"
      ],
      "text/plain": [
       "++> Evaluate epoch \u001b[1;36m40\u001b[0m Finished.\n"
      ]
     },
     "metadata": {},
     "output_type": "display_data"
    },
    {
     "data": {
      "text/html": [
       "<pre style=\"white-space:pre;overflow-x:auto;line-height:normal;font-family:Menlo,'DejaVu Sans Mono',consolas,'Courier New',monospace\">==&gt; Start Test, save results to scorp_side_dmtet/results\n",
       "</pre>\n"
      ],
      "text/plain": [
       "==> Start Test, save results to scorp_side_dmtet/results\n"
      ]
     },
     "metadata": {},
     "output_type": "display_data"
    },
    {
     "name": "stderr",
     "output_type": "stream",
     "text": [
      " 99% 99/100 [00:01<00:00, 85.07it/s]"
     ]
    },
    {
     "data": {
      "text/html": [
       "<pre style=\"white-space:pre;overflow-x:auto;line-height:normal;font-family:Menlo,'DejaVu Sans Mono',consolas,'Courier New',monospace\">==&gt; Finished Test.\n",
       "</pre>\n"
      ],
      "text/plain": [
       "==> Finished Test.\n"
      ]
     },
     "metadata": {},
     "output_type": "display_data"
    },
    {
     "name": "stderr",
     "output_type": "stream",
     "text": [
      "100% 100/100 [00:03<00:00, 30.50it/s]\n"
     ]
    },
    {
     "data": {
      "text/html": [
       "<pre style=\"white-space:pre;overflow-x:auto;line-height:normal;font-family:Menlo,'DejaVu Sans Mono',consolas,'Courier New',monospace\">==&gt; <span style=\"font-weight: bold\">[</span><span style=\"color: #008080; text-decoration-color: #008080; font-weight: bold\">2023</span>-<span style=\"color: #008080; text-decoration-color: #008080; font-weight: bold\">08</span>-27_06-<span style=\"color: #008080; text-decoration-color: #008080; font-weight: bold\">06</span>-<span style=\"color: #008080; text-decoration-color: #008080; font-weight: bold\">12</span><span style=\"font-weight: bold\">]</span> Start Training scorp_side_dmtet Epoch <span style=\"color: #008080; text-decoration-color: #008080; font-weight: bold\">41</span>/<span style=\"color: #008080; text-decoration-color: #008080; font-weight: bold\">100</span>, <span style=\"color: #808000; text-decoration-color: #808000\">lr</span>=<span style=\"color: #008080; text-decoration-color: #008080; font-weight: bold\">0.050000</span> <span style=\"color: #808000; text-decoration-color: #808000\">...</span>\n",
       "</pre>\n"
      ],
      "text/plain": [
       "==> \u001b[1m[\u001b[0m\u001b[1;36m2023\u001b[0m-\u001b[1;36m08\u001b[0m-27_06-\u001b[1;36m06\u001b[0m-\u001b[1;36m12\u001b[0m\u001b[1m]\u001b[0m Start Training scorp_side_dmtet Epoch \u001b[1;36m41\u001b[0m/\u001b[1;36m100\u001b[0m, \u001b[33mlr\u001b[0m=\u001b[1;36m0\u001b[0m\u001b[1;36m.050000\u001b[0m \u001b[33m...\u001b[0m\n"
      ]
     },
     "metadata": {},
     "output_type": "display_data"
    },
    {
     "name": "stderr",
     "output_type": "stream",
     "text": [
      "loss=6.2539 (35.0774), lr=0.050000: : 100% 2400/2400 [00:41<00:00, 58.34it/s]  \n"
     ]
    },
    {
     "data": {
      "text/html": [
       "<pre style=\"white-space:pre;overflow-x:auto;line-height:normal;font-family:Menlo,'DejaVu Sans Mono',consolas,'Courier New',monospace\">==&gt; <span style=\"font-weight: bold\">[</span><span style=\"color: #008080; text-decoration-color: #008080; font-weight: bold\">2023</span>-<span style=\"color: #008080; text-decoration-color: #008080; font-weight: bold\">08</span>-27_06-<span style=\"color: #008080; text-decoration-color: #008080; font-weight: bold\">06</span>-<span style=\"color: #008080; text-decoration-color: #008080; font-weight: bold\">53</span><span style=\"font-weight: bold\">]</span> Finished Epoch <span style=\"color: #008080; text-decoration-color: #008080; font-weight: bold\">41</span>/<span style=\"color: #008080; text-decoration-color: #008080; font-weight: bold\">100</span>. <span style=\"color: #808000; text-decoration-color: #808000\">CPU</span>=<span style=\"color: #008080; text-decoration-color: #008080; font-weight: bold\">18.</span>7GB, <span style=\"color: #808000; text-decoration-color: #808000\">GPU</span>=<span style=\"color: #008080; text-decoration-color: #008080; font-weight: bold\">42.</span>5GB.\n",
       "</pre>\n"
      ],
      "text/plain": [
       "==> \u001b[1m[\u001b[0m\u001b[1;36m2023\u001b[0m-\u001b[1;36m08\u001b[0m-27_06-\u001b[1;36m06\u001b[0m-\u001b[1;36m53\u001b[0m\u001b[1m]\u001b[0m Finished Epoch \u001b[1;36m41\u001b[0m/\u001b[1;36m100\u001b[0m. \u001b[33mCPU\u001b[0m=\u001b[1;36m18\u001b[0m\u001b[1;36m.\u001b[0m7GB, \u001b[33mGPU\u001b[0m=\u001b[1;36m42\u001b[0m\u001b[1;36m.\u001b[0m5GB.\n"
      ]
     },
     "metadata": {},
     "output_type": "display_data"
    },
    {
     "data": {
      "text/html": [
       "<pre style=\"white-space:pre;overflow-x:auto;line-height:normal;font-family:Menlo,'DejaVu Sans Mono',consolas,'Courier New',monospace\">++&gt; Evaluate scorp_side_dmtet at epoch <span style=\"color: #008080; text-decoration-color: #008080; font-weight: bold\">41</span> <span style=\"color: #808000; text-decoration-color: #808000\">...</span>\n",
       "</pre>\n"
      ],
      "text/plain": [
       "++> Evaluate scorp_side_dmtet at epoch \u001b[1;36m41\u001b[0m \u001b[33m...\u001b[0m\n"
      ]
     },
     "metadata": {},
     "output_type": "display_data"
    },
    {
     "name": "stderr",
     "output_type": "stream",
     "text": [
      "loss=0.0000 (0.0000): : 100% 8/8 [00:00<00:00, 34.11it/s]\n"
     ]
    },
    {
     "data": {
      "text/html": [
       "<pre style=\"white-space:pre;overflow-x:auto;line-height:normal;font-family:Menlo,'DejaVu Sans Mono',consolas,'Courier New',monospace\">++&gt; Evaluate epoch <span style=\"color: #008080; text-decoration-color: #008080; font-weight: bold\">41</span> Finished.\n",
       "</pre>\n"
      ],
      "text/plain": [
       "++> Evaluate epoch \u001b[1;36m41\u001b[0m Finished.\n"
      ]
     },
     "metadata": {},
     "output_type": "display_data"
    },
    {
     "data": {
      "text/html": [
       "<pre style=\"white-space:pre;overflow-x:auto;line-height:normal;font-family:Menlo,'DejaVu Sans Mono',consolas,'Courier New',monospace\">==&gt; <span style=\"font-weight: bold\">[</span><span style=\"color: #008080; text-decoration-color: #008080; font-weight: bold\">2023</span>-<span style=\"color: #008080; text-decoration-color: #008080; font-weight: bold\">08</span>-27_06-<span style=\"color: #008080; text-decoration-color: #008080; font-weight: bold\">06</span>-<span style=\"color: #008080; text-decoration-color: #008080; font-weight: bold\">54</span><span style=\"font-weight: bold\">]</span> Start Training scorp_side_dmtet Epoch <span style=\"color: #008080; text-decoration-color: #008080; font-weight: bold\">42</span>/<span style=\"color: #008080; text-decoration-color: #008080; font-weight: bold\">100</span>, <span style=\"color: #808000; text-decoration-color: #808000\">lr</span>=<span style=\"color: #008080; text-decoration-color: #008080; font-weight: bold\">0.050000</span> <span style=\"color: #808000; text-decoration-color: #808000\">...</span>\n",
       "</pre>\n"
      ],
      "text/plain": [
       "==> \u001b[1m[\u001b[0m\u001b[1;36m2023\u001b[0m-\u001b[1;36m08\u001b[0m-27_06-\u001b[1;36m06\u001b[0m-\u001b[1;36m54\u001b[0m\u001b[1m]\u001b[0m Start Training scorp_side_dmtet Epoch \u001b[1;36m42\u001b[0m/\u001b[1;36m100\u001b[0m, \u001b[33mlr\u001b[0m=\u001b[1;36m0\u001b[0m\u001b[1;36m.050000\u001b[0m \u001b[33m...\u001b[0m\n"
      ]
     },
     "metadata": {},
     "output_type": "display_data"
    },
    {
     "name": "stderr",
     "output_type": "stream",
     "text": [
      "loss=6.2247 (31.8321), lr=0.050000: : 100% 2400/2400 [00:42<00:00, 56.25it/s]  \n"
     ]
    },
    {
     "data": {
      "text/html": [
       "<pre style=\"white-space:pre;overflow-x:auto;line-height:normal;font-family:Menlo,'DejaVu Sans Mono',consolas,'Courier New',monospace\">==&gt; <span style=\"font-weight: bold\">[</span><span style=\"color: #008080; text-decoration-color: #008080; font-weight: bold\">2023</span>-<span style=\"color: #008080; text-decoration-color: #008080; font-weight: bold\">08</span>-27_06-<span style=\"color: #008080; text-decoration-color: #008080; font-weight: bold\">07</span>-<span style=\"color: #008080; text-decoration-color: #008080; font-weight: bold\">36</span><span style=\"font-weight: bold\">]</span> Finished Epoch <span style=\"color: #008080; text-decoration-color: #008080; font-weight: bold\">42</span>/<span style=\"color: #008080; text-decoration-color: #008080; font-weight: bold\">100</span>. <span style=\"color: #808000; text-decoration-color: #808000\">CPU</span>=<span style=\"color: #008080; text-decoration-color: #008080; font-weight: bold\">18.</span>7GB, <span style=\"color: #808000; text-decoration-color: #808000\">GPU</span>=<span style=\"color: #008080; text-decoration-color: #008080; font-weight: bold\">42.</span>5GB.\n",
       "</pre>\n"
      ],
      "text/plain": [
       "==> \u001b[1m[\u001b[0m\u001b[1;36m2023\u001b[0m-\u001b[1;36m08\u001b[0m-27_06-\u001b[1;36m07\u001b[0m-\u001b[1;36m36\u001b[0m\u001b[1m]\u001b[0m Finished Epoch \u001b[1;36m42\u001b[0m/\u001b[1;36m100\u001b[0m. \u001b[33mCPU\u001b[0m=\u001b[1;36m18\u001b[0m\u001b[1;36m.\u001b[0m7GB, \u001b[33mGPU\u001b[0m=\u001b[1;36m42\u001b[0m\u001b[1;36m.\u001b[0m5GB.\n"
      ]
     },
     "metadata": {},
     "output_type": "display_data"
    },
    {
     "data": {
      "text/html": [
       "<pre style=\"white-space:pre;overflow-x:auto;line-height:normal;font-family:Menlo,'DejaVu Sans Mono',consolas,'Courier New',monospace\">++&gt; Evaluate scorp_side_dmtet at epoch <span style=\"color: #008080; text-decoration-color: #008080; font-weight: bold\">42</span> <span style=\"color: #808000; text-decoration-color: #808000\">...</span>\n",
       "</pre>\n"
      ],
      "text/plain": [
       "++> Evaluate scorp_side_dmtet at epoch \u001b[1;36m42\u001b[0m \u001b[33m...\u001b[0m\n"
      ]
     },
     "metadata": {},
     "output_type": "display_data"
    },
    {
     "name": "stderr",
     "output_type": "stream",
     "text": [
      "loss=0.0000 (0.0000): : 100% 8/8 [00:00<00:00, 34.62it/s]\n"
     ]
    },
    {
     "data": {
      "text/html": [
       "<pre style=\"white-space:pre;overflow-x:auto;line-height:normal;font-family:Menlo,'DejaVu Sans Mono',consolas,'Courier New',monospace\">++&gt; Evaluate epoch <span style=\"color: #008080; text-decoration-color: #008080; font-weight: bold\">42</span> Finished.\n",
       "</pre>\n"
      ],
      "text/plain": [
       "++> Evaluate epoch \u001b[1;36m42\u001b[0m Finished.\n"
      ]
     },
     "metadata": {},
     "output_type": "display_data"
    },
    {
     "data": {
      "text/html": [
       "<pre style=\"white-space:pre;overflow-x:auto;line-height:normal;font-family:Menlo,'DejaVu Sans Mono',consolas,'Courier New',monospace\">==&gt; <span style=\"font-weight: bold\">[</span><span style=\"color: #008080; text-decoration-color: #008080; font-weight: bold\">2023</span>-<span style=\"color: #008080; text-decoration-color: #008080; font-weight: bold\">08</span>-27_06-<span style=\"color: #008080; text-decoration-color: #008080; font-weight: bold\">07</span>-<span style=\"color: #008080; text-decoration-color: #008080; font-weight: bold\">37</span><span style=\"font-weight: bold\">]</span> Start Training scorp_side_dmtet Epoch <span style=\"color: #008080; text-decoration-color: #008080; font-weight: bold\">43</span>/<span style=\"color: #008080; text-decoration-color: #008080; font-weight: bold\">100</span>, <span style=\"color: #808000; text-decoration-color: #808000\">lr</span>=<span style=\"color: #008080; text-decoration-color: #008080; font-weight: bold\">0.050000</span> <span style=\"color: #808000; text-decoration-color: #808000\">...</span>\n",
       "</pre>\n"
      ],
      "text/plain": [
       "==> \u001b[1m[\u001b[0m\u001b[1;36m2023\u001b[0m-\u001b[1;36m08\u001b[0m-27_06-\u001b[1;36m07\u001b[0m-\u001b[1;36m37\u001b[0m\u001b[1m]\u001b[0m Start Training scorp_side_dmtet Epoch \u001b[1;36m43\u001b[0m/\u001b[1;36m100\u001b[0m, \u001b[33mlr\u001b[0m=\u001b[1;36m0\u001b[0m\u001b[1;36m.050000\u001b[0m \u001b[33m...\u001b[0m\n"
      ]
     },
     "metadata": {},
     "output_type": "display_data"
    },
    {
     "name": "stderr",
     "output_type": "stream",
     "text": [
      "loss=6.2042 (36.1303), lr=0.050000: : 100% 2400/2400 [00:41<00:00, 57.69it/s]  \n"
     ]
    },
    {
     "data": {
      "text/html": [
       "<pre style=\"white-space:pre;overflow-x:auto;line-height:normal;font-family:Menlo,'DejaVu Sans Mono',consolas,'Courier New',monospace\">==&gt; <span style=\"font-weight: bold\">[</span><span style=\"color: #008080; text-decoration-color: #008080; font-weight: bold\">2023</span>-<span style=\"color: #008080; text-decoration-color: #008080; font-weight: bold\">08</span>-27_06-<span style=\"color: #008080; text-decoration-color: #008080; font-weight: bold\">08</span>-<span style=\"color: #008080; text-decoration-color: #008080; font-weight: bold\">19</span><span style=\"font-weight: bold\">]</span> Finished Epoch <span style=\"color: #008080; text-decoration-color: #008080; font-weight: bold\">43</span>/<span style=\"color: #008080; text-decoration-color: #008080; font-weight: bold\">100</span>. <span style=\"color: #808000; text-decoration-color: #808000\">CPU</span>=<span style=\"color: #008080; text-decoration-color: #008080; font-weight: bold\">18.</span>7GB, <span style=\"color: #808000; text-decoration-color: #808000\">GPU</span>=<span style=\"color: #008080; text-decoration-color: #008080; font-weight: bold\">42.</span>5GB.\n",
       "</pre>\n"
      ],
      "text/plain": [
       "==> \u001b[1m[\u001b[0m\u001b[1;36m2023\u001b[0m-\u001b[1;36m08\u001b[0m-27_06-\u001b[1;36m08\u001b[0m-\u001b[1;36m19\u001b[0m\u001b[1m]\u001b[0m Finished Epoch \u001b[1;36m43\u001b[0m/\u001b[1;36m100\u001b[0m. \u001b[33mCPU\u001b[0m=\u001b[1;36m18\u001b[0m\u001b[1;36m.\u001b[0m7GB, \u001b[33mGPU\u001b[0m=\u001b[1;36m42\u001b[0m\u001b[1;36m.\u001b[0m5GB.\n"
      ]
     },
     "metadata": {},
     "output_type": "display_data"
    },
    {
     "data": {
      "text/html": [
       "<pre style=\"white-space:pre;overflow-x:auto;line-height:normal;font-family:Menlo,'DejaVu Sans Mono',consolas,'Courier New',monospace\">++&gt; Evaluate scorp_side_dmtet at epoch <span style=\"color: #008080; text-decoration-color: #008080; font-weight: bold\">43</span> <span style=\"color: #808000; text-decoration-color: #808000\">...</span>\n",
       "</pre>\n"
      ],
      "text/plain": [
       "++> Evaluate scorp_side_dmtet at epoch \u001b[1;36m43\u001b[0m \u001b[33m...\u001b[0m\n"
      ]
     },
     "metadata": {},
     "output_type": "display_data"
    },
    {
     "name": "stderr",
     "output_type": "stream",
     "text": [
      "loss=0.0000 (0.0000): : 100% 8/8 [00:00<00:00, 34.53it/s]\n"
     ]
    },
    {
     "data": {
      "text/html": [
       "<pre style=\"white-space:pre;overflow-x:auto;line-height:normal;font-family:Menlo,'DejaVu Sans Mono',consolas,'Courier New',monospace\">++&gt; Evaluate epoch <span style=\"color: #008080; text-decoration-color: #008080; font-weight: bold\">43</span> Finished.\n",
       "</pre>\n"
      ],
      "text/plain": [
       "++> Evaluate epoch \u001b[1;36m43\u001b[0m Finished.\n"
      ]
     },
     "metadata": {},
     "output_type": "display_data"
    },
    {
     "data": {
      "text/html": [
       "<pre style=\"white-space:pre;overflow-x:auto;line-height:normal;font-family:Menlo,'DejaVu Sans Mono',consolas,'Courier New',monospace\">==&gt; <span style=\"font-weight: bold\">[</span><span style=\"color: #008080; text-decoration-color: #008080; font-weight: bold\">2023</span>-<span style=\"color: #008080; text-decoration-color: #008080; font-weight: bold\">08</span>-27_06-<span style=\"color: #008080; text-decoration-color: #008080; font-weight: bold\">08</span>-<span style=\"color: #008080; text-decoration-color: #008080; font-weight: bold\">19</span><span style=\"font-weight: bold\">]</span> Start Training scorp_side_dmtet Epoch <span style=\"color: #008080; text-decoration-color: #008080; font-weight: bold\">44</span>/<span style=\"color: #008080; text-decoration-color: #008080; font-weight: bold\">100</span>, <span style=\"color: #808000; text-decoration-color: #808000\">lr</span>=<span style=\"color: #008080; text-decoration-color: #008080; font-weight: bold\">0.050000</span> <span style=\"color: #808000; text-decoration-color: #808000\">...</span>\n",
       "</pre>\n"
      ],
      "text/plain": [
       "==> \u001b[1m[\u001b[0m\u001b[1;36m2023\u001b[0m-\u001b[1;36m08\u001b[0m-27_06-\u001b[1;36m08\u001b[0m-\u001b[1;36m19\u001b[0m\u001b[1m]\u001b[0m Start Training scorp_side_dmtet Epoch \u001b[1;36m44\u001b[0m/\u001b[1;36m100\u001b[0m, \u001b[33mlr\u001b[0m=\u001b[1;36m0\u001b[0m\u001b[1;36m.050000\u001b[0m \u001b[33m...\u001b[0m\n"
      ]
     },
     "metadata": {},
     "output_type": "display_data"
    },
    {
     "name": "stderr",
     "output_type": "stream",
     "text": [
      "loss=6.0993 (34.8183), lr=0.050000: : 100% 2400/2400 [00:42<00:00, 56.82it/s]  \n"
     ]
    },
    {
     "data": {
      "text/html": [
       "<pre style=\"white-space:pre;overflow-x:auto;line-height:normal;font-family:Menlo,'DejaVu Sans Mono',consolas,'Courier New',monospace\">==&gt; <span style=\"font-weight: bold\">[</span><span style=\"color: #008080; text-decoration-color: #008080; font-weight: bold\">2023</span>-<span style=\"color: #008080; text-decoration-color: #008080; font-weight: bold\">08</span>-27_06-<span style=\"color: #008080; text-decoration-color: #008080; font-weight: bold\">09</span>-<span style=\"color: #008080; text-decoration-color: #008080; font-weight: bold\">02</span><span style=\"font-weight: bold\">]</span> Finished Epoch <span style=\"color: #008080; text-decoration-color: #008080; font-weight: bold\">44</span>/<span style=\"color: #008080; text-decoration-color: #008080; font-weight: bold\">100</span>. <span style=\"color: #808000; text-decoration-color: #808000\">CPU</span>=<span style=\"color: #008080; text-decoration-color: #008080; font-weight: bold\">18.</span>7GB, <span style=\"color: #808000; text-decoration-color: #808000\">GPU</span>=<span style=\"color: #008080; text-decoration-color: #008080; font-weight: bold\">42.</span>5GB.\n",
       "</pre>\n"
      ],
      "text/plain": [
       "==> \u001b[1m[\u001b[0m\u001b[1;36m2023\u001b[0m-\u001b[1;36m08\u001b[0m-27_06-\u001b[1;36m09\u001b[0m-\u001b[1;36m02\u001b[0m\u001b[1m]\u001b[0m Finished Epoch \u001b[1;36m44\u001b[0m/\u001b[1;36m100\u001b[0m. \u001b[33mCPU\u001b[0m=\u001b[1;36m18\u001b[0m\u001b[1;36m.\u001b[0m7GB, \u001b[33mGPU\u001b[0m=\u001b[1;36m42\u001b[0m\u001b[1;36m.\u001b[0m5GB.\n"
      ]
     },
     "metadata": {},
     "output_type": "display_data"
    },
    {
     "data": {
      "text/html": [
       "<pre style=\"white-space:pre;overflow-x:auto;line-height:normal;font-family:Menlo,'DejaVu Sans Mono',consolas,'Courier New',monospace\">++&gt; Evaluate scorp_side_dmtet at epoch <span style=\"color: #008080; text-decoration-color: #008080; font-weight: bold\">44</span> <span style=\"color: #808000; text-decoration-color: #808000\">...</span>\n",
       "</pre>\n"
      ],
      "text/plain": [
       "++> Evaluate scorp_side_dmtet at epoch \u001b[1;36m44\u001b[0m \u001b[33m...\u001b[0m\n"
      ]
     },
     "metadata": {},
     "output_type": "display_data"
    },
    {
     "name": "stderr",
     "output_type": "stream",
     "text": [
      "loss=0.0000 (0.0000): : 100% 8/8 [00:00<00:00, 34.32it/s]\n"
     ]
    },
    {
     "data": {
      "text/html": [
       "<pre style=\"white-space:pre;overflow-x:auto;line-height:normal;font-family:Menlo,'DejaVu Sans Mono',consolas,'Courier New',monospace\">++&gt; Evaluate epoch <span style=\"color: #008080; text-decoration-color: #008080; font-weight: bold\">44</span> Finished.\n",
       "</pre>\n"
      ],
      "text/plain": [
       "++> Evaluate epoch \u001b[1;36m44\u001b[0m Finished.\n"
      ]
     },
     "metadata": {},
     "output_type": "display_data"
    },
    {
     "data": {
      "text/html": [
       "<pre style=\"white-space:pre;overflow-x:auto;line-height:normal;font-family:Menlo,'DejaVu Sans Mono',consolas,'Courier New',monospace\">==&gt; <span style=\"font-weight: bold\">[</span><span style=\"color: #008080; text-decoration-color: #008080; font-weight: bold\">2023</span>-<span style=\"color: #008080; text-decoration-color: #008080; font-weight: bold\">08</span>-27_06-<span style=\"color: #008080; text-decoration-color: #008080; font-weight: bold\">09</span>-<span style=\"color: #008080; text-decoration-color: #008080; font-weight: bold\">02</span><span style=\"font-weight: bold\">]</span> Start Training scorp_side_dmtet Epoch <span style=\"color: #008080; text-decoration-color: #008080; font-weight: bold\">45</span>/<span style=\"color: #008080; text-decoration-color: #008080; font-weight: bold\">100</span>, <span style=\"color: #808000; text-decoration-color: #808000\">lr</span>=<span style=\"color: #008080; text-decoration-color: #008080; font-weight: bold\">0.050000</span> <span style=\"color: #808000; text-decoration-color: #808000\">...</span>\n",
       "</pre>\n"
      ],
      "text/plain": [
       "==> \u001b[1m[\u001b[0m\u001b[1;36m2023\u001b[0m-\u001b[1;36m08\u001b[0m-27_06-\u001b[1;36m09\u001b[0m-\u001b[1;36m02\u001b[0m\u001b[1m]\u001b[0m Start Training scorp_side_dmtet Epoch \u001b[1;36m45\u001b[0m/\u001b[1;36m100\u001b[0m, \u001b[33mlr\u001b[0m=\u001b[1;36m0\u001b[0m\u001b[1;36m.050000\u001b[0m \u001b[33m...\u001b[0m\n"
      ]
     },
     "metadata": {},
     "output_type": "display_data"
    },
    {
     "name": "stderr",
     "output_type": "stream",
     "text": [
      "loss=6.0533 (35.9348), lr=0.050000: : 100% 2400/2400 [00:41<00:00, 57.27it/s]  \n"
     ]
    },
    {
     "data": {
      "text/html": [
       "<pre style=\"white-space:pre;overflow-x:auto;line-height:normal;font-family:Menlo,'DejaVu Sans Mono',consolas,'Courier New',monospace\">==&gt; <span style=\"font-weight: bold\">[</span><span style=\"color: #008080; text-decoration-color: #008080; font-weight: bold\">2023</span>-<span style=\"color: #008080; text-decoration-color: #008080; font-weight: bold\">08</span>-27_06-<span style=\"color: #008080; text-decoration-color: #008080; font-weight: bold\">09</span>-<span style=\"color: #008080; text-decoration-color: #008080; font-weight: bold\">44</span><span style=\"font-weight: bold\">]</span> Finished Epoch <span style=\"color: #008080; text-decoration-color: #008080; font-weight: bold\">45</span>/<span style=\"color: #008080; text-decoration-color: #008080; font-weight: bold\">100</span>. <span style=\"color: #808000; text-decoration-color: #808000\">CPU</span>=<span style=\"color: #008080; text-decoration-color: #008080; font-weight: bold\">18.</span>7GB, <span style=\"color: #808000; text-decoration-color: #808000\">GPU</span>=<span style=\"color: #008080; text-decoration-color: #008080; font-weight: bold\">42.</span>5GB.\n",
       "</pre>\n"
      ],
      "text/plain": [
       "==> \u001b[1m[\u001b[0m\u001b[1;36m2023\u001b[0m-\u001b[1;36m08\u001b[0m-27_06-\u001b[1;36m09\u001b[0m-\u001b[1;36m44\u001b[0m\u001b[1m]\u001b[0m Finished Epoch \u001b[1;36m45\u001b[0m/\u001b[1;36m100\u001b[0m. \u001b[33mCPU\u001b[0m=\u001b[1;36m18\u001b[0m\u001b[1;36m.\u001b[0m7GB, \u001b[33mGPU\u001b[0m=\u001b[1;36m42\u001b[0m\u001b[1;36m.\u001b[0m5GB.\n"
      ]
     },
     "metadata": {},
     "output_type": "display_data"
    },
    {
     "data": {
      "text/html": [
       "<pre style=\"white-space:pre;overflow-x:auto;line-height:normal;font-family:Menlo,'DejaVu Sans Mono',consolas,'Courier New',monospace\">++&gt; Evaluate scorp_side_dmtet at epoch <span style=\"color: #008080; text-decoration-color: #008080; font-weight: bold\">45</span> <span style=\"color: #808000; text-decoration-color: #808000\">...</span>\n",
       "</pre>\n"
      ],
      "text/plain": [
       "++> Evaluate scorp_side_dmtet at epoch \u001b[1;36m45\u001b[0m \u001b[33m...\u001b[0m\n"
      ]
     },
     "metadata": {},
     "output_type": "display_data"
    },
    {
     "name": "stderr",
     "output_type": "stream",
     "text": [
      "loss=0.0000 (0.0000): : 100% 8/8 [00:00<00:00, 35.58it/s]\n"
     ]
    },
    {
     "data": {
      "text/html": [
       "<pre style=\"white-space:pre;overflow-x:auto;line-height:normal;font-family:Menlo,'DejaVu Sans Mono',consolas,'Courier New',monospace\">++&gt; Evaluate epoch <span style=\"color: #008080; text-decoration-color: #008080; font-weight: bold\">45</span> Finished.\n",
       "</pre>\n"
      ],
      "text/plain": [
       "++> Evaluate epoch \u001b[1;36m45\u001b[0m Finished.\n"
      ]
     },
     "metadata": {},
     "output_type": "display_data"
    },
    {
     "data": {
      "text/html": [
       "<pre style=\"white-space:pre;overflow-x:auto;line-height:normal;font-family:Menlo,'DejaVu Sans Mono',consolas,'Courier New',monospace\">==&gt; Start Test, save results to scorp_side_dmtet/results\n",
       "</pre>\n"
      ],
      "text/plain": [
       "==> Start Test, save results to scorp_side_dmtet/results\n"
      ]
     },
     "metadata": {},
     "output_type": "display_data"
    },
    {
     "name": "stderr",
     "output_type": "stream",
     "text": [
      " 99% 99/100 [00:01<00:00, 85.07it/s]"
     ]
    },
    {
     "data": {
      "text/html": [
       "<pre style=\"white-space:pre;overflow-x:auto;line-height:normal;font-family:Menlo,'DejaVu Sans Mono',consolas,'Courier New',monospace\">==&gt; Finished Test.\n",
       "</pre>\n"
      ],
      "text/plain": [
       "==> Finished Test.\n"
      ]
     },
     "metadata": {},
     "output_type": "display_data"
    },
    {
     "name": "stderr",
     "output_type": "stream",
     "text": [
      "100% 100/100 [00:03<00:00, 29.77it/s]\n"
     ]
    },
    {
     "data": {
      "text/html": [
       "<pre style=\"white-space:pre;overflow-x:auto;line-height:normal;font-family:Menlo,'DejaVu Sans Mono',consolas,'Courier New',monospace\">==&gt; <span style=\"font-weight: bold\">[</span><span style=\"color: #008080; text-decoration-color: #008080; font-weight: bold\">2023</span>-<span style=\"color: #008080; text-decoration-color: #008080; font-weight: bold\">08</span>-27_06-<span style=\"color: #008080; text-decoration-color: #008080; font-weight: bold\">09</span>-<span style=\"color: #008080; text-decoration-color: #008080; font-weight: bold\">48</span><span style=\"font-weight: bold\">]</span> Start Training scorp_side_dmtet Epoch <span style=\"color: #008080; text-decoration-color: #008080; font-weight: bold\">46</span>/<span style=\"color: #008080; text-decoration-color: #008080; font-weight: bold\">100</span>, <span style=\"color: #808000; text-decoration-color: #808000\">lr</span>=<span style=\"color: #008080; text-decoration-color: #008080; font-weight: bold\">0.050000</span> <span style=\"color: #808000; text-decoration-color: #808000\">...</span>\n",
       "</pre>\n"
      ],
      "text/plain": [
       "==> \u001b[1m[\u001b[0m\u001b[1;36m2023\u001b[0m-\u001b[1;36m08\u001b[0m-27_06-\u001b[1;36m09\u001b[0m-\u001b[1;36m48\u001b[0m\u001b[1m]\u001b[0m Start Training scorp_side_dmtet Epoch \u001b[1;36m46\u001b[0m/\u001b[1;36m100\u001b[0m, \u001b[33mlr\u001b[0m=\u001b[1;36m0\u001b[0m\u001b[1;36m.050000\u001b[0m \u001b[33m...\u001b[0m\n"
      ]
     },
     "metadata": {},
     "output_type": "display_data"
    },
    {
     "name": "stderr",
     "output_type": "stream",
     "text": [
      "loss=5.9860 (32.2573), lr=0.050000: : 100% 2400/2400 [00:42<00:00, 56.59it/s] \n"
     ]
    },
    {
     "data": {
      "text/html": [
       "<pre style=\"white-space:pre;overflow-x:auto;line-height:normal;font-family:Menlo,'DejaVu Sans Mono',consolas,'Courier New',monospace\">==&gt; <span style=\"font-weight: bold\">[</span><span style=\"color: #008080; text-decoration-color: #008080; font-weight: bold\">2023</span>-<span style=\"color: #008080; text-decoration-color: #008080; font-weight: bold\">08</span>-27_06-<span style=\"color: #008080; text-decoration-color: #008080; font-weight: bold\">10</span>-<span style=\"color: #008080; text-decoration-color: #008080; font-weight: bold\">31</span><span style=\"font-weight: bold\">]</span> Finished Epoch <span style=\"color: #008080; text-decoration-color: #008080; font-weight: bold\">46</span>/<span style=\"color: #008080; text-decoration-color: #008080; font-weight: bold\">100</span>. <span style=\"color: #808000; text-decoration-color: #808000\">CPU</span>=<span style=\"color: #008080; text-decoration-color: #008080; font-weight: bold\">18.</span>7GB, <span style=\"color: #808000; text-decoration-color: #808000\">GPU</span>=<span style=\"color: #008080; text-decoration-color: #008080; font-weight: bold\">42.</span>5GB.\n",
       "</pre>\n"
      ],
      "text/plain": [
       "==> \u001b[1m[\u001b[0m\u001b[1;36m2023\u001b[0m-\u001b[1;36m08\u001b[0m-27_06-\u001b[1;36m10\u001b[0m-\u001b[1;36m31\u001b[0m\u001b[1m]\u001b[0m Finished Epoch \u001b[1;36m46\u001b[0m/\u001b[1;36m100\u001b[0m. \u001b[33mCPU\u001b[0m=\u001b[1;36m18\u001b[0m\u001b[1;36m.\u001b[0m7GB, \u001b[33mGPU\u001b[0m=\u001b[1;36m42\u001b[0m\u001b[1;36m.\u001b[0m5GB.\n"
      ]
     },
     "metadata": {},
     "output_type": "display_data"
    },
    {
     "data": {
      "text/html": [
       "<pre style=\"white-space:pre;overflow-x:auto;line-height:normal;font-family:Menlo,'DejaVu Sans Mono',consolas,'Courier New',monospace\">++&gt; Evaluate scorp_side_dmtet at epoch <span style=\"color: #008080; text-decoration-color: #008080; font-weight: bold\">46</span> <span style=\"color: #808000; text-decoration-color: #808000\">...</span>\n",
       "</pre>\n"
      ],
      "text/plain": [
       "++> Evaluate scorp_side_dmtet at epoch \u001b[1;36m46\u001b[0m \u001b[33m...\u001b[0m\n"
      ]
     },
     "metadata": {},
     "output_type": "display_data"
    },
    {
     "name": "stderr",
     "output_type": "stream",
     "text": [
      "loss=0.0000 (0.0000): : 100% 8/8 [00:00<00:00, 34.23it/s]\n"
     ]
    },
    {
     "data": {
      "text/html": [
       "<pre style=\"white-space:pre;overflow-x:auto;line-height:normal;font-family:Menlo,'DejaVu Sans Mono',consolas,'Courier New',monospace\">++&gt; Evaluate epoch <span style=\"color: #008080; text-decoration-color: #008080; font-weight: bold\">46</span> Finished.\n",
       "</pre>\n"
      ],
      "text/plain": [
       "++> Evaluate epoch \u001b[1;36m46\u001b[0m Finished.\n"
      ]
     },
     "metadata": {},
     "output_type": "display_data"
    },
    {
     "data": {
      "text/html": [
       "<pre style=\"white-space:pre;overflow-x:auto;line-height:normal;font-family:Menlo,'DejaVu Sans Mono',consolas,'Courier New',monospace\">==&gt; <span style=\"font-weight: bold\">[</span><span style=\"color: #008080; text-decoration-color: #008080; font-weight: bold\">2023</span>-<span style=\"color: #008080; text-decoration-color: #008080; font-weight: bold\">08</span>-27_06-<span style=\"color: #008080; text-decoration-color: #008080; font-weight: bold\">10</span>-<span style=\"color: #008080; text-decoration-color: #008080; font-weight: bold\">31</span><span style=\"font-weight: bold\">]</span> Start Training scorp_side_dmtet Epoch <span style=\"color: #008080; text-decoration-color: #008080; font-weight: bold\">47</span>/<span style=\"color: #008080; text-decoration-color: #008080; font-weight: bold\">100</span>, <span style=\"color: #808000; text-decoration-color: #808000\">lr</span>=<span style=\"color: #008080; text-decoration-color: #008080; font-weight: bold\">0.050000</span> <span style=\"color: #808000; text-decoration-color: #808000\">...</span>\n",
       "</pre>\n"
      ],
      "text/plain": [
       "==> \u001b[1m[\u001b[0m\u001b[1;36m2023\u001b[0m-\u001b[1;36m08\u001b[0m-27_06-\u001b[1;36m10\u001b[0m-\u001b[1;36m31\u001b[0m\u001b[1m]\u001b[0m Start Training scorp_side_dmtet Epoch \u001b[1;36m47\u001b[0m/\u001b[1;36m100\u001b[0m, \u001b[33mlr\u001b[0m=\u001b[1;36m0\u001b[0m\u001b[1;36m.050000\u001b[0m \u001b[33m...\u001b[0m\n"
      ]
     },
     "metadata": {},
     "output_type": "display_data"
    },
    {
     "name": "stderr",
     "output_type": "stream",
     "text": [
      "loss=6.0032 (33.1923), lr=0.050000: : 100% 2400/2400 [00:43<00:00, 55.40it/s]  \n"
     ]
    },
    {
     "data": {
      "text/html": [
       "<pre style=\"white-space:pre;overflow-x:auto;line-height:normal;font-family:Menlo,'DejaVu Sans Mono',consolas,'Courier New',monospace\">==&gt; <span style=\"font-weight: bold\">[</span><span style=\"color: #008080; text-decoration-color: #008080; font-weight: bold\">2023</span>-<span style=\"color: #008080; text-decoration-color: #008080; font-weight: bold\">08</span>-27_06-<span style=\"color: #008080; text-decoration-color: #008080; font-weight: bold\">11</span>-<span style=\"color: #008080; text-decoration-color: #008080; font-weight: bold\">15</span><span style=\"font-weight: bold\">]</span> Finished Epoch <span style=\"color: #008080; text-decoration-color: #008080; font-weight: bold\">47</span>/<span style=\"color: #008080; text-decoration-color: #008080; font-weight: bold\">100</span>. <span style=\"color: #808000; text-decoration-color: #808000\">CPU</span>=<span style=\"color: #008080; text-decoration-color: #008080; font-weight: bold\">18.</span>7GB, <span style=\"color: #808000; text-decoration-color: #808000\">GPU</span>=<span style=\"color: #008080; text-decoration-color: #008080; font-weight: bold\">42.</span>5GB.\n",
       "</pre>\n"
      ],
      "text/plain": [
       "==> \u001b[1m[\u001b[0m\u001b[1;36m2023\u001b[0m-\u001b[1;36m08\u001b[0m-27_06-\u001b[1;36m11\u001b[0m-\u001b[1;36m15\u001b[0m\u001b[1m]\u001b[0m Finished Epoch \u001b[1;36m47\u001b[0m/\u001b[1;36m100\u001b[0m. \u001b[33mCPU\u001b[0m=\u001b[1;36m18\u001b[0m\u001b[1;36m.\u001b[0m7GB, \u001b[33mGPU\u001b[0m=\u001b[1;36m42\u001b[0m\u001b[1;36m.\u001b[0m5GB.\n"
      ]
     },
     "metadata": {},
     "output_type": "display_data"
    },
    {
     "data": {
      "text/html": [
       "<pre style=\"white-space:pre;overflow-x:auto;line-height:normal;font-family:Menlo,'DejaVu Sans Mono',consolas,'Courier New',monospace\">++&gt; Evaluate scorp_side_dmtet at epoch <span style=\"color: #008080; text-decoration-color: #008080; font-weight: bold\">47</span> <span style=\"color: #808000; text-decoration-color: #808000\">...</span>\n",
       "</pre>\n"
      ],
      "text/plain": [
       "++> Evaluate scorp_side_dmtet at epoch \u001b[1;36m47\u001b[0m \u001b[33m...\u001b[0m\n"
      ]
     },
     "metadata": {},
     "output_type": "display_data"
    },
    {
     "name": "stderr",
     "output_type": "stream",
     "text": [
      "loss=0.0000 (0.0000): : 100% 8/8 [00:00<00:00, 34.35it/s]\n"
     ]
    },
    {
     "data": {
      "text/html": [
       "<pre style=\"white-space:pre;overflow-x:auto;line-height:normal;font-family:Menlo,'DejaVu Sans Mono',consolas,'Courier New',monospace\">++&gt; Evaluate epoch <span style=\"color: #008080; text-decoration-color: #008080; font-weight: bold\">47</span> Finished.\n",
       "</pre>\n"
      ],
      "text/plain": [
       "++> Evaluate epoch \u001b[1;36m47\u001b[0m Finished.\n"
      ]
     },
     "metadata": {},
     "output_type": "display_data"
    },
    {
     "data": {
      "text/html": [
       "<pre style=\"white-space:pre;overflow-x:auto;line-height:normal;font-family:Menlo,'DejaVu Sans Mono',consolas,'Courier New',monospace\">==&gt; <span style=\"font-weight: bold\">[</span><span style=\"color: #008080; text-decoration-color: #008080; font-weight: bold\">2023</span>-<span style=\"color: #008080; text-decoration-color: #008080; font-weight: bold\">08</span>-27_06-<span style=\"color: #008080; text-decoration-color: #008080; font-weight: bold\">11</span>-<span style=\"color: #008080; text-decoration-color: #008080; font-weight: bold\">15</span><span style=\"font-weight: bold\">]</span> Start Training scorp_side_dmtet Epoch <span style=\"color: #008080; text-decoration-color: #008080; font-weight: bold\">48</span>/<span style=\"color: #008080; text-decoration-color: #008080; font-weight: bold\">100</span>, <span style=\"color: #808000; text-decoration-color: #808000\">lr</span>=<span style=\"color: #008080; text-decoration-color: #008080; font-weight: bold\">0.050000</span> <span style=\"color: #808000; text-decoration-color: #808000\">...</span>\n",
       "</pre>\n"
      ],
      "text/plain": [
       "==> \u001b[1m[\u001b[0m\u001b[1;36m2023\u001b[0m-\u001b[1;36m08\u001b[0m-27_06-\u001b[1;36m11\u001b[0m-\u001b[1;36m15\u001b[0m\u001b[1m]\u001b[0m Start Training scorp_side_dmtet Epoch \u001b[1;36m48\u001b[0m/\u001b[1;36m100\u001b[0m, \u001b[33mlr\u001b[0m=\u001b[1;36m0\u001b[0m\u001b[1;36m.050000\u001b[0m \u001b[33m...\u001b[0m\n"
      ]
     },
     "metadata": {},
     "output_type": "display_data"
    },
    {
     "name": "stderr",
     "output_type": "stream",
     "text": [
      "loss=5.9797 (29.8743), lr=0.050000: : 100% 2400/2400 [00:42<00:00, 55.99it/s] \n"
     ]
    },
    {
     "data": {
      "text/html": [
       "<pre style=\"white-space:pre;overflow-x:auto;line-height:normal;font-family:Menlo,'DejaVu Sans Mono',consolas,'Courier New',monospace\">==&gt; <span style=\"font-weight: bold\">[</span><span style=\"color: #008080; text-decoration-color: #008080; font-weight: bold\">2023</span>-<span style=\"color: #008080; text-decoration-color: #008080; font-weight: bold\">08</span>-27_06-<span style=\"color: #008080; text-decoration-color: #008080; font-weight: bold\">11</span>-<span style=\"color: #008080; text-decoration-color: #008080; font-weight: bold\">58</span><span style=\"font-weight: bold\">]</span> Finished Epoch <span style=\"color: #008080; text-decoration-color: #008080; font-weight: bold\">48</span>/<span style=\"color: #008080; text-decoration-color: #008080; font-weight: bold\">100</span>. <span style=\"color: #808000; text-decoration-color: #808000\">CPU</span>=<span style=\"color: #008080; text-decoration-color: #008080; font-weight: bold\">18.</span>7GB, <span style=\"color: #808000; text-decoration-color: #808000\">GPU</span>=<span style=\"color: #008080; text-decoration-color: #008080; font-weight: bold\">42.</span>5GB.\n",
       "</pre>\n"
      ],
      "text/plain": [
       "==> \u001b[1m[\u001b[0m\u001b[1;36m2023\u001b[0m-\u001b[1;36m08\u001b[0m-27_06-\u001b[1;36m11\u001b[0m-\u001b[1;36m58\u001b[0m\u001b[1m]\u001b[0m Finished Epoch \u001b[1;36m48\u001b[0m/\u001b[1;36m100\u001b[0m. \u001b[33mCPU\u001b[0m=\u001b[1;36m18\u001b[0m\u001b[1;36m.\u001b[0m7GB, \u001b[33mGPU\u001b[0m=\u001b[1;36m42\u001b[0m\u001b[1;36m.\u001b[0m5GB.\n"
      ]
     },
     "metadata": {},
     "output_type": "display_data"
    },
    {
     "data": {
      "text/html": [
       "<pre style=\"white-space:pre;overflow-x:auto;line-height:normal;font-family:Menlo,'DejaVu Sans Mono',consolas,'Courier New',monospace\">++&gt; Evaluate scorp_side_dmtet at epoch <span style=\"color: #008080; text-decoration-color: #008080; font-weight: bold\">48</span> <span style=\"color: #808000; text-decoration-color: #808000\">...</span>\n",
       "</pre>\n"
      ],
      "text/plain": [
       "++> Evaluate scorp_side_dmtet at epoch \u001b[1;36m48\u001b[0m \u001b[33m...\u001b[0m\n"
      ]
     },
     "metadata": {},
     "output_type": "display_data"
    },
    {
     "name": "stderr",
     "output_type": "stream",
     "text": [
      "loss=0.0000 (0.0000): : 100% 8/8 [00:00<00:00, 35.70it/s]\n"
     ]
    },
    {
     "data": {
      "text/html": [
       "<pre style=\"white-space:pre;overflow-x:auto;line-height:normal;font-family:Menlo,'DejaVu Sans Mono',consolas,'Courier New',monospace\">++&gt; Evaluate epoch <span style=\"color: #008080; text-decoration-color: #008080; font-weight: bold\">48</span> Finished.\n",
       "</pre>\n"
      ],
      "text/plain": [
       "++> Evaluate epoch \u001b[1;36m48\u001b[0m Finished.\n"
      ]
     },
     "metadata": {},
     "output_type": "display_data"
    },
    {
     "data": {
      "text/html": [
       "<pre style=\"white-space:pre;overflow-x:auto;line-height:normal;font-family:Menlo,'DejaVu Sans Mono',consolas,'Courier New',monospace\">==&gt; <span style=\"font-weight: bold\">[</span><span style=\"color: #008080; text-decoration-color: #008080; font-weight: bold\">2023</span>-<span style=\"color: #008080; text-decoration-color: #008080; font-weight: bold\">08</span>-27_06-<span style=\"color: #008080; text-decoration-color: #008080; font-weight: bold\">11</span>-<span style=\"color: #008080; text-decoration-color: #008080; font-weight: bold\">59</span><span style=\"font-weight: bold\">]</span> Start Training scorp_side_dmtet Epoch <span style=\"color: #008080; text-decoration-color: #008080; font-weight: bold\">49</span>/<span style=\"color: #008080; text-decoration-color: #008080; font-weight: bold\">100</span>, <span style=\"color: #808000; text-decoration-color: #808000\">lr</span>=<span style=\"color: #008080; text-decoration-color: #008080; font-weight: bold\">0.050000</span> <span style=\"color: #808000; text-decoration-color: #808000\">...</span>\n",
       "</pre>\n"
      ],
      "text/plain": [
       "==> \u001b[1m[\u001b[0m\u001b[1;36m2023\u001b[0m-\u001b[1;36m08\u001b[0m-27_06-\u001b[1;36m11\u001b[0m-\u001b[1;36m59\u001b[0m\u001b[1m]\u001b[0m Start Training scorp_side_dmtet Epoch \u001b[1;36m49\u001b[0m/\u001b[1;36m100\u001b[0m, \u001b[33mlr\u001b[0m=\u001b[1;36m0\u001b[0m\u001b[1;36m.050000\u001b[0m \u001b[33m...\u001b[0m\n"
      ]
     },
     "metadata": {},
     "output_type": "display_data"
    },
    {
     "name": "stderr",
     "output_type": "stream",
     "text": [
      "loss=5.9721 (34.6021), lr=0.050000: : 100% 2400/2400 [00:41<00:00, 58.32it/s] \n"
     ]
    },
    {
     "data": {
      "text/html": [
       "<pre style=\"white-space:pre;overflow-x:auto;line-height:normal;font-family:Menlo,'DejaVu Sans Mono',consolas,'Courier New',monospace\">==&gt; <span style=\"font-weight: bold\">[</span><span style=\"color: #008080; text-decoration-color: #008080; font-weight: bold\">2023</span>-<span style=\"color: #008080; text-decoration-color: #008080; font-weight: bold\">08</span>-27_06-<span style=\"color: #008080; text-decoration-color: #008080; font-weight: bold\">12</span>-<span style=\"color: #008080; text-decoration-color: #008080; font-weight: bold\">40</span><span style=\"font-weight: bold\">]</span> Finished Epoch <span style=\"color: #008080; text-decoration-color: #008080; font-weight: bold\">49</span>/<span style=\"color: #008080; text-decoration-color: #008080; font-weight: bold\">100</span>. <span style=\"color: #808000; text-decoration-color: #808000\">CPU</span>=<span style=\"color: #008080; text-decoration-color: #008080; font-weight: bold\">18.</span>7GB, <span style=\"color: #808000; text-decoration-color: #808000\">GPU</span>=<span style=\"color: #008080; text-decoration-color: #008080; font-weight: bold\">42.</span>5GB.\n",
       "</pre>\n"
      ],
      "text/plain": [
       "==> \u001b[1m[\u001b[0m\u001b[1;36m2023\u001b[0m-\u001b[1;36m08\u001b[0m-27_06-\u001b[1;36m12\u001b[0m-\u001b[1;36m40\u001b[0m\u001b[1m]\u001b[0m Finished Epoch \u001b[1;36m49\u001b[0m/\u001b[1;36m100\u001b[0m. \u001b[33mCPU\u001b[0m=\u001b[1;36m18\u001b[0m\u001b[1;36m.\u001b[0m7GB, \u001b[33mGPU\u001b[0m=\u001b[1;36m42\u001b[0m\u001b[1;36m.\u001b[0m5GB.\n"
      ]
     },
     "metadata": {},
     "output_type": "display_data"
    },
    {
     "data": {
      "text/html": [
       "<pre style=\"white-space:pre;overflow-x:auto;line-height:normal;font-family:Menlo,'DejaVu Sans Mono',consolas,'Courier New',monospace\">++&gt; Evaluate scorp_side_dmtet at epoch <span style=\"color: #008080; text-decoration-color: #008080; font-weight: bold\">49</span> <span style=\"color: #808000; text-decoration-color: #808000\">...</span>\n",
       "</pre>\n"
      ],
      "text/plain": [
       "++> Evaluate scorp_side_dmtet at epoch \u001b[1;36m49\u001b[0m \u001b[33m...\u001b[0m\n"
      ]
     },
     "metadata": {},
     "output_type": "display_data"
    },
    {
     "name": "stderr",
     "output_type": "stream",
     "text": [
      "loss=0.0000 (0.0000): : 100% 8/8 [00:00<00:00, 34.32it/s]\n"
     ]
    },
    {
     "data": {
      "text/html": [
       "<pre style=\"white-space:pre;overflow-x:auto;line-height:normal;font-family:Menlo,'DejaVu Sans Mono',consolas,'Courier New',monospace\">++&gt; Evaluate epoch <span style=\"color: #008080; text-decoration-color: #008080; font-weight: bold\">49</span> Finished.\n",
       "</pre>\n"
      ],
      "text/plain": [
       "++> Evaluate epoch \u001b[1;36m49\u001b[0m Finished.\n"
      ]
     },
     "metadata": {},
     "output_type": "display_data"
    },
    {
     "data": {
      "text/html": [
       "<pre style=\"white-space:pre;overflow-x:auto;line-height:normal;font-family:Menlo,'DejaVu Sans Mono',consolas,'Courier New',monospace\">==&gt; <span style=\"font-weight: bold\">[</span><span style=\"color: #008080; text-decoration-color: #008080; font-weight: bold\">2023</span>-<span style=\"color: #008080; text-decoration-color: #008080; font-weight: bold\">08</span>-27_06-<span style=\"color: #008080; text-decoration-color: #008080; font-weight: bold\">12</span>-<span style=\"color: #008080; text-decoration-color: #008080; font-weight: bold\">41</span><span style=\"font-weight: bold\">]</span> Start Training scorp_side_dmtet Epoch <span style=\"color: #008080; text-decoration-color: #008080; font-weight: bold\">50</span>/<span style=\"color: #008080; text-decoration-color: #008080; font-weight: bold\">100</span>, <span style=\"color: #808000; text-decoration-color: #808000\">lr</span>=<span style=\"color: #008080; text-decoration-color: #008080; font-weight: bold\">0.050000</span> <span style=\"color: #808000; text-decoration-color: #808000\">...</span>\n",
       "</pre>\n"
      ],
      "text/plain": [
       "==> \u001b[1m[\u001b[0m\u001b[1;36m2023\u001b[0m-\u001b[1;36m08\u001b[0m-27_06-\u001b[1;36m12\u001b[0m-\u001b[1;36m41\u001b[0m\u001b[1m]\u001b[0m Start Training scorp_side_dmtet Epoch \u001b[1;36m50\u001b[0m/\u001b[1;36m100\u001b[0m, \u001b[33mlr\u001b[0m=\u001b[1;36m0\u001b[0m\u001b[1;36m.050000\u001b[0m \u001b[33m...\u001b[0m\n"
      ]
     },
     "metadata": {},
     "output_type": "display_data"
    },
    {
     "name": "stderr",
     "output_type": "stream",
     "text": [
      "loss=5.9377 (34.3462), lr=0.050000: : 100% 2400/2400 [00:41<00:00, 57.54it/s]  \n"
     ]
    },
    {
     "data": {
      "text/html": [
       "<pre style=\"white-space:pre;overflow-x:auto;line-height:normal;font-family:Menlo,'DejaVu Sans Mono',consolas,'Courier New',monospace\">==&gt; <span style=\"font-weight: bold\">[</span><span style=\"color: #008080; text-decoration-color: #008080; font-weight: bold\">2023</span>-<span style=\"color: #008080; text-decoration-color: #008080; font-weight: bold\">08</span>-27_06-<span style=\"color: #008080; text-decoration-color: #008080; font-weight: bold\">13</span>-<span style=\"color: #008080; text-decoration-color: #008080; font-weight: bold\">22</span><span style=\"font-weight: bold\">]</span> Finished Epoch <span style=\"color: #008080; text-decoration-color: #008080; font-weight: bold\">50</span>/<span style=\"color: #008080; text-decoration-color: #008080; font-weight: bold\">100</span>. <span style=\"color: #808000; text-decoration-color: #808000\">CPU</span>=<span style=\"color: #008080; text-decoration-color: #008080; font-weight: bold\">18.</span>7GB, <span style=\"color: #808000; text-decoration-color: #808000\">GPU</span>=<span style=\"color: #008080; text-decoration-color: #008080; font-weight: bold\">42.</span>5GB.\n",
       "</pre>\n"
      ],
      "text/plain": [
       "==> \u001b[1m[\u001b[0m\u001b[1;36m2023\u001b[0m-\u001b[1;36m08\u001b[0m-27_06-\u001b[1;36m13\u001b[0m-\u001b[1;36m22\u001b[0m\u001b[1m]\u001b[0m Finished Epoch \u001b[1;36m50\u001b[0m/\u001b[1;36m100\u001b[0m. \u001b[33mCPU\u001b[0m=\u001b[1;36m18\u001b[0m\u001b[1;36m.\u001b[0m7GB, \u001b[33mGPU\u001b[0m=\u001b[1;36m42\u001b[0m\u001b[1;36m.\u001b[0m5GB.\n"
      ]
     },
     "metadata": {},
     "output_type": "display_data"
    },
    {
     "data": {
      "text/html": [
       "<pre style=\"white-space:pre;overflow-x:auto;line-height:normal;font-family:Menlo,'DejaVu Sans Mono',consolas,'Courier New',monospace\">++&gt; Evaluate scorp_side_dmtet at epoch <span style=\"color: #008080; text-decoration-color: #008080; font-weight: bold\">50</span> <span style=\"color: #808000; text-decoration-color: #808000\">...</span>\n",
       "</pre>\n"
      ],
      "text/plain": [
       "++> Evaluate scorp_side_dmtet at epoch \u001b[1;36m50\u001b[0m \u001b[33m...\u001b[0m\n"
      ]
     },
     "metadata": {},
     "output_type": "display_data"
    },
    {
     "name": "stderr",
     "output_type": "stream",
     "text": [
      "loss=0.0000 (0.0000): : 100% 8/8 [00:00<00:00, 32.09it/s]\n"
     ]
    },
    {
     "data": {
      "text/html": [
       "<pre style=\"white-space:pre;overflow-x:auto;line-height:normal;font-family:Menlo,'DejaVu Sans Mono',consolas,'Courier New',monospace\">++&gt; Evaluate epoch <span style=\"color: #008080; text-decoration-color: #008080; font-weight: bold\">50</span> Finished.\n",
       "</pre>\n"
      ],
      "text/plain": [
       "++> Evaluate epoch \u001b[1;36m50\u001b[0m Finished.\n"
      ]
     },
     "metadata": {},
     "output_type": "display_data"
    },
    {
     "data": {
      "text/html": [
       "<pre style=\"white-space:pre;overflow-x:auto;line-height:normal;font-family:Menlo,'DejaVu Sans Mono',consolas,'Courier New',monospace\">==&gt; Start Test, save results to scorp_side_dmtet/results\n",
       "</pre>\n"
      ],
      "text/plain": [
       "==> Start Test, save results to scorp_side_dmtet/results\n"
      ]
     },
     "metadata": {},
     "output_type": "display_data"
    },
    {
     "name": "stderr",
     "output_type": "stream",
     "text": [
      " 99% 99/100 [00:01<00:00, 81.39it/s]"
     ]
    },
    {
     "data": {
      "text/html": [
       "<pre style=\"white-space:pre;overflow-x:auto;line-height:normal;font-family:Menlo,'DejaVu Sans Mono',consolas,'Courier New',monospace\">==&gt; Finished Test.\n",
       "</pre>\n"
      ],
      "text/plain": [
       "==> Finished Test.\n"
      ]
     },
     "metadata": {},
     "output_type": "display_data"
    },
    {
     "name": "stderr",
     "output_type": "stream",
     "text": [
      "100% 100/100 [00:03<00:00, 30.11it/s]\n"
     ]
    },
    {
     "data": {
      "text/html": [
       "<pre style=\"white-space:pre;overflow-x:auto;line-height:normal;font-family:Menlo,'DejaVu Sans Mono',consolas,'Courier New',monospace\">==&gt; <span style=\"font-weight: bold\">[</span><span style=\"color: #008080; text-decoration-color: #008080; font-weight: bold\">2023</span>-<span style=\"color: #008080; text-decoration-color: #008080; font-weight: bold\">08</span>-27_06-<span style=\"color: #008080; text-decoration-color: #008080; font-weight: bold\">13</span>-<span style=\"color: #008080; text-decoration-color: #008080; font-weight: bold\">26</span><span style=\"font-weight: bold\">]</span> Start Training scorp_side_dmtet Epoch <span style=\"color: #008080; text-decoration-color: #008080; font-weight: bold\">51</span>/<span style=\"color: #008080; text-decoration-color: #008080; font-weight: bold\">100</span>, <span style=\"color: #808000; text-decoration-color: #808000\">lr</span>=<span style=\"color: #008080; text-decoration-color: #008080; font-weight: bold\">0.050000</span> <span style=\"color: #808000; text-decoration-color: #808000\">...</span>\n",
       "</pre>\n"
      ],
      "text/plain": [
       "==> \u001b[1m[\u001b[0m\u001b[1;36m2023\u001b[0m-\u001b[1;36m08\u001b[0m-27_06-\u001b[1;36m13\u001b[0m-\u001b[1;36m26\u001b[0m\u001b[1m]\u001b[0m Start Training scorp_side_dmtet Epoch \u001b[1;36m51\u001b[0m/\u001b[1;36m100\u001b[0m, \u001b[33mlr\u001b[0m=\u001b[1;36m0\u001b[0m\u001b[1;36m.050000\u001b[0m \u001b[33m...\u001b[0m\n"
      ]
     },
     "metadata": {},
     "output_type": "display_data"
    },
    {
     "name": "stderr",
     "output_type": "stream",
     "text": [
      "loss=5.9181 (34.4616), lr=0.050000: : 100% 2400/2400 [00:41<00:00, 57.62it/s]  \n"
     ]
    },
    {
     "data": {
      "text/html": [
       "<pre style=\"white-space:pre;overflow-x:auto;line-height:normal;font-family:Menlo,'DejaVu Sans Mono',consolas,'Courier New',monospace\">==&gt; <span style=\"font-weight: bold\">[</span><span style=\"color: #008080; text-decoration-color: #008080; font-weight: bold\">2023</span>-<span style=\"color: #008080; text-decoration-color: #008080; font-weight: bold\">08</span>-27_06-<span style=\"color: #008080; text-decoration-color: #008080; font-weight: bold\">14</span>-<span style=\"color: #008080; text-decoration-color: #008080; font-weight: bold\">08</span><span style=\"font-weight: bold\">]</span> Finished Epoch <span style=\"color: #008080; text-decoration-color: #008080; font-weight: bold\">51</span>/<span style=\"color: #008080; text-decoration-color: #008080; font-weight: bold\">100</span>. <span style=\"color: #808000; text-decoration-color: #808000\">CPU</span>=<span style=\"color: #008080; text-decoration-color: #008080; font-weight: bold\">18.</span>7GB, <span style=\"color: #808000; text-decoration-color: #808000\">GPU</span>=<span style=\"color: #008080; text-decoration-color: #008080; font-weight: bold\">42.</span>5GB.\n",
       "</pre>\n"
      ],
      "text/plain": [
       "==> \u001b[1m[\u001b[0m\u001b[1;36m2023\u001b[0m-\u001b[1;36m08\u001b[0m-27_06-\u001b[1;36m14\u001b[0m-\u001b[1;36m08\u001b[0m\u001b[1m]\u001b[0m Finished Epoch \u001b[1;36m51\u001b[0m/\u001b[1;36m100\u001b[0m. \u001b[33mCPU\u001b[0m=\u001b[1;36m18\u001b[0m\u001b[1;36m.\u001b[0m7GB, \u001b[33mGPU\u001b[0m=\u001b[1;36m42\u001b[0m\u001b[1;36m.\u001b[0m5GB.\n"
      ]
     },
     "metadata": {},
     "output_type": "display_data"
    },
    {
     "data": {
      "text/html": [
       "<pre style=\"white-space:pre;overflow-x:auto;line-height:normal;font-family:Menlo,'DejaVu Sans Mono',consolas,'Courier New',monospace\">++&gt; Evaluate scorp_side_dmtet at epoch <span style=\"color: #008080; text-decoration-color: #008080; font-weight: bold\">51</span> <span style=\"color: #808000; text-decoration-color: #808000\">...</span>\n",
       "</pre>\n"
      ],
      "text/plain": [
       "++> Evaluate scorp_side_dmtet at epoch \u001b[1;36m51\u001b[0m \u001b[33m...\u001b[0m\n"
      ]
     },
     "metadata": {},
     "output_type": "display_data"
    },
    {
     "name": "stderr",
     "output_type": "stream",
     "text": [
      "loss=0.0000 (0.0000): : 100% 8/8 [00:00<00:00, 35.84it/s]\n"
     ]
    },
    {
     "data": {
      "text/html": [
       "<pre style=\"white-space:pre;overflow-x:auto;line-height:normal;font-family:Menlo,'DejaVu Sans Mono',consolas,'Courier New',monospace\">++&gt; Evaluate epoch <span style=\"color: #008080; text-decoration-color: #008080; font-weight: bold\">51</span> Finished.\n",
       "</pre>\n"
      ],
      "text/plain": [
       "++> Evaluate epoch \u001b[1;36m51\u001b[0m Finished.\n"
      ]
     },
     "metadata": {},
     "output_type": "display_data"
    },
    {
     "data": {
      "text/html": [
       "<pre style=\"white-space:pre;overflow-x:auto;line-height:normal;font-family:Menlo,'DejaVu Sans Mono',consolas,'Courier New',monospace\">==&gt; <span style=\"font-weight: bold\">[</span><span style=\"color: #008080; text-decoration-color: #008080; font-weight: bold\">2023</span>-<span style=\"color: #008080; text-decoration-color: #008080; font-weight: bold\">08</span>-27_06-<span style=\"color: #008080; text-decoration-color: #008080; font-weight: bold\">14</span>-<span style=\"color: #008080; text-decoration-color: #008080; font-weight: bold\">09</span><span style=\"font-weight: bold\">]</span> Start Training scorp_side_dmtet Epoch <span style=\"color: #008080; text-decoration-color: #008080; font-weight: bold\">52</span>/<span style=\"color: #008080; text-decoration-color: #008080; font-weight: bold\">100</span>, <span style=\"color: #808000; text-decoration-color: #808000\">lr</span>=<span style=\"color: #008080; text-decoration-color: #008080; font-weight: bold\">0.050000</span> <span style=\"color: #808000; text-decoration-color: #808000\">...</span>\n",
       "</pre>\n"
      ],
      "text/plain": [
       "==> \u001b[1m[\u001b[0m\u001b[1;36m2023\u001b[0m-\u001b[1;36m08\u001b[0m-27_06-\u001b[1;36m14\u001b[0m-\u001b[1;36m09\u001b[0m\u001b[1m]\u001b[0m Start Training scorp_side_dmtet Epoch \u001b[1;36m52\u001b[0m/\u001b[1;36m100\u001b[0m, \u001b[33mlr\u001b[0m=\u001b[1;36m0\u001b[0m\u001b[1;36m.050000\u001b[0m \u001b[33m...\u001b[0m\n"
      ]
     },
     "metadata": {},
     "output_type": "display_data"
    },
    {
     "name": "stderr",
     "output_type": "stream",
     "text": [
      "loss=5.9557 (33.1379), lr=0.050000: : 100% 2400/2400 [00:41<00:00, 57.99it/s] \n"
     ]
    },
    {
     "data": {
      "text/html": [
       "<pre style=\"white-space:pre;overflow-x:auto;line-height:normal;font-family:Menlo,'DejaVu Sans Mono',consolas,'Courier New',monospace\">==&gt; <span style=\"font-weight: bold\">[</span><span style=\"color: #008080; text-decoration-color: #008080; font-weight: bold\">2023</span>-<span style=\"color: #008080; text-decoration-color: #008080; font-weight: bold\">08</span>-27_06-<span style=\"color: #008080; text-decoration-color: #008080; font-weight: bold\">14</span>-<span style=\"color: #008080; text-decoration-color: #008080; font-weight: bold\">50</span><span style=\"font-weight: bold\">]</span> Finished Epoch <span style=\"color: #008080; text-decoration-color: #008080; font-weight: bold\">52</span>/<span style=\"color: #008080; text-decoration-color: #008080; font-weight: bold\">100</span>. <span style=\"color: #808000; text-decoration-color: #808000\">CPU</span>=<span style=\"color: #008080; text-decoration-color: #008080; font-weight: bold\">18.</span>7GB, <span style=\"color: #808000; text-decoration-color: #808000\">GPU</span>=<span style=\"color: #008080; text-decoration-color: #008080; font-weight: bold\">42.</span>5GB.\n",
       "</pre>\n"
      ],
      "text/plain": [
       "==> \u001b[1m[\u001b[0m\u001b[1;36m2023\u001b[0m-\u001b[1;36m08\u001b[0m-27_06-\u001b[1;36m14\u001b[0m-\u001b[1;36m50\u001b[0m\u001b[1m]\u001b[0m Finished Epoch \u001b[1;36m52\u001b[0m/\u001b[1;36m100\u001b[0m. \u001b[33mCPU\u001b[0m=\u001b[1;36m18\u001b[0m\u001b[1;36m.\u001b[0m7GB, \u001b[33mGPU\u001b[0m=\u001b[1;36m42\u001b[0m\u001b[1;36m.\u001b[0m5GB.\n"
      ]
     },
     "metadata": {},
     "output_type": "display_data"
    },
    {
     "data": {
      "text/html": [
       "<pre style=\"white-space:pre;overflow-x:auto;line-height:normal;font-family:Menlo,'DejaVu Sans Mono',consolas,'Courier New',monospace\">++&gt; Evaluate scorp_side_dmtet at epoch <span style=\"color: #008080; text-decoration-color: #008080; font-weight: bold\">52</span> <span style=\"color: #808000; text-decoration-color: #808000\">...</span>\n",
       "</pre>\n"
      ],
      "text/plain": [
       "++> Evaluate scorp_side_dmtet at epoch \u001b[1;36m52\u001b[0m \u001b[33m...\u001b[0m\n"
      ]
     },
     "metadata": {},
     "output_type": "display_data"
    },
    {
     "name": "stderr",
     "output_type": "stream",
     "text": [
      "loss=0.0000 (0.0000): : 100% 8/8 [00:00<00:00, 35.33it/s]\n"
     ]
    },
    {
     "data": {
      "text/html": [
       "<pre style=\"white-space:pre;overflow-x:auto;line-height:normal;font-family:Menlo,'DejaVu Sans Mono',consolas,'Courier New',monospace\">++&gt; Evaluate epoch <span style=\"color: #008080; text-decoration-color: #008080; font-weight: bold\">52</span> Finished.\n",
       "</pre>\n"
      ],
      "text/plain": [
       "++> Evaluate epoch \u001b[1;36m52\u001b[0m Finished.\n"
      ]
     },
     "metadata": {},
     "output_type": "display_data"
    },
    {
     "data": {
      "text/html": [
       "<pre style=\"white-space:pre;overflow-x:auto;line-height:normal;font-family:Menlo,'DejaVu Sans Mono',consolas,'Courier New',monospace\">==&gt; <span style=\"font-weight: bold\">[</span><span style=\"color: #008080; text-decoration-color: #008080; font-weight: bold\">2023</span>-<span style=\"color: #008080; text-decoration-color: #008080; font-weight: bold\">08</span>-27_06-<span style=\"color: #008080; text-decoration-color: #008080; font-weight: bold\">14</span>-<span style=\"color: #008080; text-decoration-color: #008080; font-weight: bold\">51</span><span style=\"font-weight: bold\">]</span> Start Training scorp_side_dmtet Epoch <span style=\"color: #008080; text-decoration-color: #008080; font-weight: bold\">53</span>/<span style=\"color: #008080; text-decoration-color: #008080; font-weight: bold\">100</span>, <span style=\"color: #808000; text-decoration-color: #808000\">lr</span>=<span style=\"color: #008080; text-decoration-color: #008080; font-weight: bold\">0.050000</span> <span style=\"color: #808000; text-decoration-color: #808000\">...</span>\n",
       "</pre>\n"
      ],
      "text/plain": [
       "==> \u001b[1m[\u001b[0m\u001b[1;36m2023\u001b[0m-\u001b[1;36m08\u001b[0m-27_06-\u001b[1;36m14\u001b[0m-\u001b[1;36m51\u001b[0m\u001b[1m]\u001b[0m Start Training scorp_side_dmtet Epoch \u001b[1;36m53\u001b[0m/\u001b[1;36m100\u001b[0m, \u001b[33mlr\u001b[0m=\u001b[1;36m0\u001b[0m\u001b[1;36m.050000\u001b[0m \u001b[33m...\u001b[0m\n"
      ]
     },
     "metadata": {},
     "output_type": "display_data"
    },
    {
     "name": "stderr",
     "output_type": "stream",
     "text": [
      "loss=5.9369 (34.8947), lr=0.050000: : 100% 2400/2400 [00:41<00:00, 57.96it/s] \n"
     ]
    },
    {
     "data": {
      "text/html": [
       "<pre style=\"white-space:pre;overflow-x:auto;line-height:normal;font-family:Menlo,'DejaVu Sans Mono',consolas,'Courier New',monospace\">==&gt; <span style=\"font-weight: bold\">[</span><span style=\"color: #008080; text-decoration-color: #008080; font-weight: bold\">2023</span>-<span style=\"color: #008080; text-decoration-color: #008080; font-weight: bold\">08</span>-27_06-<span style=\"color: #008080; text-decoration-color: #008080; font-weight: bold\">15</span>-<span style=\"color: #008080; text-decoration-color: #008080; font-weight: bold\">32</span><span style=\"font-weight: bold\">]</span> Finished Epoch <span style=\"color: #008080; text-decoration-color: #008080; font-weight: bold\">53</span>/<span style=\"color: #008080; text-decoration-color: #008080; font-weight: bold\">100</span>. <span style=\"color: #808000; text-decoration-color: #808000\">CPU</span>=<span style=\"color: #008080; text-decoration-color: #008080; font-weight: bold\">18.</span>7GB, <span style=\"color: #808000; text-decoration-color: #808000\">GPU</span>=<span style=\"color: #008080; text-decoration-color: #008080; font-weight: bold\">42.</span>5GB.\n",
       "</pre>\n"
      ],
      "text/plain": [
       "==> \u001b[1m[\u001b[0m\u001b[1;36m2023\u001b[0m-\u001b[1;36m08\u001b[0m-27_06-\u001b[1;36m15\u001b[0m-\u001b[1;36m32\u001b[0m\u001b[1m]\u001b[0m Finished Epoch \u001b[1;36m53\u001b[0m/\u001b[1;36m100\u001b[0m. \u001b[33mCPU\u001b[0m=\u001b[1;36m18\u001b[0m\u001b[1;36m.\u001b[0m7GB, \u001b[33mGPU\u001b[0m=\u001b[1;36m42\u001b[0m\u001b[1;36m.\u001b[0m5GB.\n"
      ]
     },
     "metadata": {},
     "output_type": "display_data"
    },
    {
     "data": {
      "text/html": [
       "<pre style=\"white-space:pre;overflow-x:auto;line-height:normal;font-family:Menlo,'DejaVu Sans Mono',consolas,'Courier New',monospace\">++&gt; Evaluate scorp_side_dmtet at epoch <span style=\"color: #008080; text-decoration-color: #008080; font-weight: bold\">53</span> <span style=\"color: #808000; text-decoration-color: #808000\">...</span>\n",
       "</pre>\n"
      ],
      "text/plain": [
       "++> Evaluate scorp_side_dmtet at epoch \u001b[1;36m53\u001b[0m \u001b[33m...\u001b[0m\n"
      ]
     },
     "metadata": {},
     "output_type": "display_data"
    },
    {
     "name": "stderr",
     "output_type": "stream",
     "text": [
      "loss=0.0000 (0.0000): : 100% 8/8 [00:00<00:00, 34.31it/s]\n"
     ]
    },
    {
     "data": {
      "text/html": [
       "<pre style=\"white-space:pre;overflow-x:auto;line-height:normal;font-family:Menlo,'DejaVu Sans Mono',consolas,'Courier New',monospace\">++&gt; Evaluate epoch <span style=\"color: #008080; text-decoration-color: #008080; font-weight: bold\">53</span> Finished.\n",
       "</pre>\n"
      ],
      "text/plain": [
       "++> Evaluate epoch \u001b[1;36m53\u001b[0m Finished.\n"
      ]
     },
     "metadata": {},
     "output_type": "display_data"
    },
    {
     "data": {
      "text/html": [
       "<pre style=\"white-space:pre;overflow-x:auto;line-height:normal;font-family:Menlo,'DejaVu Sans Mono',consolas,'Courier New',monospace\">==&gt; <span style=\"font-weight: bold\">[</span><span style=\"color: #008080; text-decoration-color: #008080; font-weight: bold\">2023</span>-<span style=\"color: #008080; text-decoration-color: #008080; font-weight: bold\">08</span>-27_06-<span style=\"color: #008080; text-decoration-color: #008080; font-weight: bold\">15</span>-<span style=\"color: #008080; text-decoration-color: #008080; font-weight: bold\">33</span><span style=\"font-weight: bold\">]</span> Start Training scorp_side_dmtet Epoch <span style=\"color: #008080; text-decoration-color: #008080; font-weight: bold\">54</span>/<span style=\"color: #008080; text-decoration-color: #008080; font-weight: bold\">100</span>, <span style=\"color: #808000; text-decoration-color: #808000\">lr</span>=<span style=\"color: #008080; text-decoration-color: #008080; font-weight: bold\">0.050000</span> <span style=\"color: #808000; text-decoration-color: #808000\">...</span>\n",
       "</pre>\n"
      ],
      "text/plain": [
       "==> \u001b[1m[\u001b[0m\u001b[1;36m2023\u001b[0m-\u001b[1;36m08\u001b[0m-27_06-\u001b[1;36m15\u001b[0m-\u001b[1;36m33\u001b[0m\u001b[1m]\u001b[0m Start Training scorp_side_dmtet Epoch \u001b[1;36m54\u001b[0m/\u001b[1;36m100\u001b[0m, \u001b[33mlr\u001b[0m=\u001b[1;36m0\u001b[0m\u001b[1;36m.050000\u001b[0m \u001b[33m...\u001b[0m\n"
      ]
     },
     "metadata": {},
     "output_type": "display_data"
    },
    {
     "name": "stderr",
     "output_type": "stream",
     "text": [
      "loss=5.8462 (34.6997), lr=0.050000: : 100% 2400/2400 [00:41<00:00, 57.74it/s]  \n"
     ]
    },
    {
     "data": {
      "text/html": [
       "<pre style=\"white-space:pre;overflow-x:auto;line-height:normal;font-family:Menlo,'DejaVu Sans Mono',consolas,'Courier New',monospace\">==&gt; <span style=\"font-weight: bold\">[</span><span style=\"color: #008080; text-decoration-color: #008080; font-weight: bold\">2023</span>-<span style=\"color: #008080; text-decoration-color: #008080; font-weight: bold\">08</span>-27_06-<span style=\"color: #008080; text-decoration-color: #008080; font-weight: bold\">16</span>-<span style=\"color: #008080; text-decoration-color: #008080; font-weight: bold\">14</span><span style=\"font-weight: bold\">]</span> Finished Epoch <span style=\"color: #008080; text-decoration-color: #008080; font-weight: bold\">54</span>/<span style=\"color: #008080; text-decoration-color: #008080; font-weight: bold\">100</span>. <span style=\"color: #808000; text-decoration-color: #808000\">CPU</span>=<span style=\"color: #008080; text-decoration-color: #008080; font-weight: bold\">18.</span>7GB, <span style=\"color: #808000; text-decoration-color: #808000\">GPU</span>=<span style=\"color: #008080; text-decoration-color: #008080; font-weight: bold\">42.</span>5GB.\n",
       "</pre>\n"
      ],
      "text/plain": [
       "==> \u001b[1m[\u001b[0m\u001b[1;36m2023\u001b[0m-\u001b[1;36m08\u001b[0m-27_06-\u001b[1;36m16\u001b[0m-\u001b[1;36m14\u001b[0m\u001b[1m]\u001b[0m Finished Epoch \u001b[1;36m54\u001b[0m/\u001b[1;36m100\u001b[0m. \u001b[33mCPU\u001b[0m=\u001b[1;36m18\u001b[0m\u001b[1;36m.\u001b[0m7GB, \u001b[33mGPU\u001b[0m=\u001b[1;36m42\u001b[0m\u001b[1;36m.\u001b[0m5GB.\n"
      ]
     },
     "metadata": {},
     "output_type": "display_data"
    },
    {
     "data": {
      "text/html": [
       "<pre style=\"white-space:pre;overflow-x:auto;line-height:normal;font-family:Menlo,'DejaVu Sans Mono',consolas,'Courier New',monospace\">++&gt; Evaluate scorp_side_dmtet at epoch <span style=\"color: #008080; text-decoration-color: #008080; font-weight: bold\">54</span> <span style=\"color: #808000; text-decoration-color: #808000\">...</span>\n",
       "</pre>\n"
      ],
      "text/plain": [
       "++> Evaluate scorp_side_dmtet at epoch \u001b[1;36m54\u001b[0m \u001b[33m...\u001b[0m\n"
      ]
     },
     "metadata": {},
     "output_type": "display_data"
    },
    {
     "name": "stderr",
     "output_type": "stream",
     "text": [
      "loss=0.0000 (0.0000): : 100% 8/8 [00:00<00:00, 35.17it/s]\n"
     ]
    },
    {
     "data": {
      "text/html": [
       "<pre style=\"white-space:pre;overflow-x:auto;line-height:normal;font-family:Menlo,'DejaVu Sans Mono',consolas,'Courier New',monospace\">++&gt; Evaluate epoch <span style=\"color: #008080; text-decoration-color: #008080; font-weight: bold\">54</span> Finished.\n",
       "</pre>\n"
      ],
      "text/plain": [
       "++> Evaluate epoch \u001b[1;36m54\u001b[0m Finished.\n"
      ]
     },
     "metadata": {},
     "output_type": "display_data"
    },
    {
     "data": {
      "text/html": [
       "<pre style=\"white-space:pre;overflow-x:auto;line-height:normal;font-family:Menlo,'DejaVu Sans Mono',consolas,'Courier New',monospace\">==&gt; <span style=\"font-weight: bold\">[</span><span style=\"color: #008080; text-decoration-color: #008080; font-weight: bold\">2023</span>-<span style=\"color: #008080; text-decoration-color: #008080; font-weight: bold\">08</span>-27_06-<span style=\"color: #008080; text-decoration-color: #008080; font-weight: bold\">16</span>-<span style=\"color: #008080; text-decoration-color: #008080; font-weight: bold\">15</span><span style=\"font-weight: bold\">]</span> Start Training scorp_side_dmtet Epoch <span style=\"color: #008080; text-decoration-color: #008080; font-weight: bold\">55</span>/<span style=\"color: #008080; text-decoration-color: #008080; font-weight: bold\">100</span>, <span style=\"color: #808000; text-decoration-color: #808000\">lr</span>=<span style=\"color: #008080; text-decoration-color: #008080; font-weight: bold\">0.050000</span> <span style=\"color: #808000; text-decoration-color: #808000\">...</span>\n",
       "</pre>\n"
      ],
      "text/plain": [
       "==> \u001b[1m[\u001b[0m\u001b[1;36m2023\u001b[0m-\u001b[1;36m08\u001b[0m-27_06-\u001b[1;36m16\u001b[0m-\u001b[1;36m15\u001b[0m\u001b[1m]\u001b[0m Start Training scorp_side_dmtet Epoch \u001b[1;36m55\u001b[0m/\u001b[1;36m100\u001b[0m, \u001b[33mlr\u001b[0m=\u001b[1;36m0\u001b[0m\u001b[1;36m.050000\u001b[0m \u001b[33m...\u001b[0m\n"
      ]
     },
     "metadata": {},
     "output_type": "display_data"
    },
    {
     "name": "stderr",
     "output_type": "stream",
     "text": [
      "loss=5.8591 (31.8134), lr=0.050000: : 100% 2400/2400 [00:41<00:00, 57.17it/s] \n"
     ]
    },
    {
     "data": {
      "text/html": [
       "<pre style=\"white-space:pre;overflow-x:auto;line-height:normal;font-family:Menlo,'DejaVu Sans Mono',consolas,'Courier New',monospace\">==&gt; <span style=\"font-weight: bold\">[</span><span style=\"color: #008080; text-decoration-color: #008080; font-weight: bold\">2023</span>-<span style=\"color: #008080; text-decoration-color: #008080; font-weight: bold\">08</span>-27_06-<span style=\"color: #008080; text-decoration-color: #008080; font-weight: bold\">16</span>-<span style=\"color: #008080; text-decoration-color: #008080; font-weight: bold\">57</span><span style=\"font-weight: bold\">]</span> Finished Epoch <span style=\"color: #008080; text-decoration-color: #008080; font-weight: bold\">55</span>/<span style=\"color: #008080; text-decoration-color: #008080; font-weight: bold\">100</span>. <span style=\"color: #808000; text-decoration-color: #808000\">CPU</span>=<span style=\"color: #008080; text-decoration-color: #008080; font-weight: bold\">18.</span>7GB, <span style=\"color: #808000; text-decoration-color: #808000\">GPU</span>=<span style=\"color: #008080; text-decoration-color: #008080; font-weight: bold\">42.</span>5GB.\n",
       "</pre>\n"
      ],
      "text/plain": [
       "==> \u001b[1m[\u001b[0m\u001b[1;36m2023\u001b[0m-\u001b[1;36m08\u001b[0m-27_06-\u001b[1;36m16\u001b[0m-\u001b[1;36m57\u001b[0m\u001b[1m]\u001b[0m Finished Epoch \u001b[1;36m55\u001b[0m/\u001b[1;36m100\u001b[0m. \u001b[33mCPU\u001b[0m=\u001b[1;36m18\u001b[0m\u001b[1;36m.\u001b[0m7GB, \u001b[33mGPU\u001b[0m=\u001b[1;36m42\u001b[0m\u001b[1;36m.\u001b[0m5GB.\n"
      ]
     },
     "metadata": {},
     "output_type": "display_data"
    },
    {
     "data": {
      "text/html": [
       "<pre style=\"white-space:pre;overflow-x:auto;line-height:normal;font-family:Menlo,'DejaVu Sans Mono',consolas,'Courier New',monospace\">++&gt; Evaluate scorp_side_dmtet at epoch <span style=\"color: #008080; text-decoration-color: #008080; font-weight: bold\">55</span> <span style=\"color: #808000; text-decoration-color: #808000\">...</span>\n",
       "</pre>\n"
      ],
      "text/plain": [
       "++> Evaluate scorp_side_dmtet at epoch \u001b[1;36m55\u001b[0m \u001b[33m...\u001b[0m\n"
      ]
     },
     "metadata": {},
     "output_type": "display_data"
    },
    {
     "name": "stderr",
     "output_type": "stream",
     "text": [
      "loss=0.0000 (0.0000): : 100% 8/8 [00:00<00:00, 35.01it/s]\n"
     ]
    },
    {
     "data": {
      "text/html": [
       "<pre style=\"white-space:pre;overflow-x:auto;line-height:normal;font-family:Menlo,'DejaVu Sans Mono',consolas,'Courier New',monospace\">++&gt; Evaluate epoch <span style=\"color: #008080; text-decoration-color: #008080; font-weight: bold\">55</span> Finished.\n",
       "</pre>\n"
      ],
      "text/plain": [
       "++> Evaluate epoch \u001b[1;36m55\u001b[0m Finished.\n"
      ]
     },
     "metadata": {},
     "output_type": "display_data"
    },
    {
     "data": {
      "text/html": [
       "<pre style=\"white-space:pre;overflow-x:auto;line-height:normal;font-family:Menlo,'DejaVu Sans Mono',consolas,'Courier New',monospace\">==&gt; Start Test, save results to scorp_side_dmtet/results\n",
       "</pre>\n"
      ],
      "text/plain": [
       "==> Start Test, save results to scorp_side_dmtet/results\n"
      ]
     },
     "metadata": {},
     "output_type": "display_data"
    },
    {
     "name": "stderr",
     "output_type": "stream",
     "text": [
      " 99% 99/100 [00:01<00:00, 81.98it/s]"
     ]
    },
    {
     "data": {
      "text/html": [
       "<pre style=\"white-space:pre;overflow-x:auto;line-height:normal;font-family:Menlo,'DejaVu Sans Mono',consolas,'Courier New',monospace\">==&gt; Finished Test.\n",
       "</pre>\n"
      ],
      "text/plain": [
       "==> Finished Test.\n"
      ]
     },
     "metadata": {},
     "output_type": "display_data"
    },
    {
     "name": "stderr",
     "output_type": "stream",
     "text": [
      "100% 100/100 [00:03<00:00, 29.19it/s]\n"
     ]
    },
    {
     "data": {
      "text/html": [
       "<pre style=\"white-space:pre;overflow-x:auto;line-height:normal;font-family:Menlo,'DejaVu Sans Mono',consolas,'Courier New',monospace\">==&gt; <span style=\"font-weight: bold\">[</span><span style=\"color: #008080; text-decoration-color: #008080; font-weight: bold\">2023</span>-<span style=\"color: #008080; text-decoration-color: #008080; font-weight: bold\">08</span>-27_06-<span style=\"color: #008080; text-decoration-color: #008080; font-weight: bold\">17</span>-<span style=\"color: #008080; text-decoration-color: #008080; font-weight: bold\">01</span><span style=\"font-weight: bold\">]</span> Start Training scorp_side_dmtet Epoch <span style=\"color: #008080; text-decoration-color: #008080; font-weight: bold\">56</span>/<span style=\"color: #008080; text-decoration-color: #008080; font-weight: bold\">100</span>, <span style=\"color: #808000; text-decoration-color: #808000\">lr</span>=<span style=\"color: #008080; text-decoration-color: #008080; font-weight: bold\">0.050000</span> <span style=\"color: #808000; text-decoration-color: #808000\">...</span>\n",
       "</pre>\n"
      ],
      "text/plain": [
       "==> \u001b[1m[\u001b[0m\u001b[1;36m2023\u001b[0m-\u001b[1;36m08\u001b[0m-27_06-\u001b[1;36m17\u001b[0m-\u001b[1;36m01\u001b[0m\u001b[1m]\u001b[0m Start Training scorp_side_dmtet Epoch \u001b[1;36m56\u001b[0m/\u001b[1;36m100\u001b[0m, \u001b[33mlr\u001b[0m=\u001b[1;36m0\u001b[0m\u001b[1;36m.050000\u001b[0m \u001b[33m...\u001b[0m\n"
      ]
     },
     "metadata": {},
     "output_type": "display_data"
    },
    {
     "name": "stderr",
     "output_type": "stream",
     "text": [
      "loss=5.8846 (35.9942), lr=0.050000: : 100% 2400/2400 [00:41<00:00, 57.47it/s]  \n"
     ]
    },
    {
     "data": {
      "text/html": [
       "<pre style=\"white-space:pre;overflow-x:auto;line-height:normal;font-family:Menlo,'DejaVu Sans Mono',consolas,'Courier New',monospace\">==&gt; <span style=\"font-weight: bold\">[</span><span style=\"color: #008080; text-decoration-color: #008080; font-weight: bold\">2023</span>-<span style=\"color: #008080; text-decoration-color: #008080; font-weight: bold\">08</span>-27_06-<span style=\"color: #008080; text-decoration-color: #008080; font-weight: bold\">17</span>-<span style=\"color: #008080; text-decoration-color: #008080; font-weight: bold\">43</span><span style=\"font-weight: bold\">]</span> Finished Epoch <span style=\"color: #008080; text-decoration-color: #008080; font-weight: bold\">56</span>/<span style=\"color: #008080; text-decoration-color: #008080; font-weight: bold\">100</span>. <span style=\"color: #808000; text-decoration-color: #808000\">CPU</span>=<span style=\"color: #008080; text-decoration-color: #008080; font-weight: bold\">18.</span>7GB, <span style=\"color: #808000; text-decoration-color: #808000\">GPU</span>=<span style=\"color: #008080; text-decoration-color: #008080; font-weight: bold\">42.</span>5GB.\n",
       "</pre>\n"
      ],
      "text/plain": [
       "==> \u001b[1m[\u001b[0m\u001b[1;36m2023\u001b[0m-\u001b[1;36m08\u001b[0m-27_06-\u001b[1;36m17\u001b[0m-\u001b[1;36m43\u001b[0m\u001b[1m]\u001b[0m Finished Epoch \u001b[1;36m56\u001b[0m/\u001b[1;36m100\u001b[0m. \u001b[33mCPU\u001b[0m=\u001b[1;36m18\u001b[0m\u001b[1;36m.\u001b[0m7GB, \u001b[33mGPU\u001b[0m=\u001b[1;36m42\u001b[0m\u001b[1;36m.\u001b[0m5GB.\n"
      ]
     },
     "metadata": {},
     "output_type": "display_data"
    },
    {
     "data": {
      "text/html": [
       "<pre style=\"white-space:pre;overflow-x:auto;line-height:normal;font-family:Menlo,'DejaVu Sans Mono',consolas,'Courier New',monospace\">++&gt; Evaluate scorp_side_dmtet at epoch <span style=\"color: #008080; text-decoration-color: #008080; font-weight: bold\">56</span> <span style=\"color: #808000; text-decoration-color: #808000\">...</span>\n",
       "</pre>\n"
      ],
      "text/plain": [
       "++> Evaluate scorp_side_dmtet at epoch \u001b[1;36m56\u001b[0m \u001b[33m...\u001b[0m\n"
      ]
     },
     "metadata": {},
     "output_type": "display_data"
    },
    {
     "name": "stderr",
     "output_type": "stream",
     "text": [
      "loss=0.0000 (0.0000): : 100% 8/8 [00:00<00:00, 34.45it/s]\n"
     ]
    },
    {
     "data": {
      "text/html": [
       "<pre style=\"white-space:pre;overflow-x:auto;line-height:normal;font-family:Menlo,'DejaVu Sans Mono',consolas,'Courier New',monospace\">++&gt; Evaluate epoch <span style=\"color: #008080; text-decoration-color: #008080; font-weight: bold\">56</span> Finished.\n",
       "</pre>\n"
      ],
      "text/plain": [
       "++> Evaluate epoch \u001b[1;36m56\u001b[0m Finished.\n"
      ]
     },
     "metadata": {},
     "output_type": "display_data"
    },
    {
     "data": {
      "text/html": [
       "<pre style=\"white-space:pre;overflow-x:auto;line-height:normal;font-family:Menlo,'DejaVu Sans Mono',consolas,'Courier New',monospace\">==&gt; <span style=\"font-weight: bold\">[</span><span style=\"color: #008080; text-decoration-color: #008080; font-weight: bold\">2023</span>-<span style=\"color: #008080; text-decoration-color: #008080; font-weight: bold\">08</span>-27_06-<span style=\"color: #008080; text-decoration-color: #008080; font-weight: bold\">17</span>-<span style=\"color: #008080; text-decoration-color: #008080; font-weight: bold\">43</span><span style=\"font-weight: bold\">]</span> Start Training scorp_side_dmtet Epoch <span style=\"color: #008080; text-decoration-color: #008080; font-weight: bold\">57</span>/<span style=\"color: #008080; text-decoration-color: #008080; font-weight: bold\">100</span>, <span style=\"color: #808000; text-decoration-color: #808000\">lr</span>=<span style=\"color: #008080; text-decoration-color: #008080; font-weight: bold\">0.050000</span> <span style=\"color: #808000; text-decoration-color: #808000\">...</span>\n",
       "</pre>\n"
      ],
      "text/plain": [
       "==> \u001b[1m[\u001b[0m\u001b[1;36m2023\u001b[0m-\u001b[1;36m08\u001b[0m-27_06-\u001b[1;36m17\u001b[0m-\u001b[1;36m43\u001b[0m\u001b[1m]\u001b[0m Start Training scorp_side_dmtet Epoch \u001b[1;36m57\u001b[0m/\u001b[1;36m100\u001b[0m, \u001b[33mlr\u001b[0m=\u001b[1;36m0\u001b[0m\u001b[1;36m.050000\u001b[0m \u001b[33m...\u001b[0m\n"
      ]
     },
     "metadata": {},
     "output_type": "display_data"
    },
    {
     "name": "stderr",
     "output_type": "stream",
     "text": [
      "loss=5.7895 (33.6985), lr=0.050000: : 100% 2400/2400 [00:41<00:00, 58.38it/s]  \n"
     ]
    },
    {
     "data": {
      "text/html": [
       "<pre style=\"white-space:pre;overflow-x:auto;line-height:normal;font-family:Menlo,'DejaVu Sans Mono',consolas,'Courier New',monospace\">==&gt; <span style=\"font-weight: bold\">[</span><span style=\"color: #008080; text-decoration-color: #008080; font-weight: bold\">2023</span>-<span style=\"color: #008080; text-decoration-color: #008080; font-weight: bold\">08</span>-27_06-<span style=\"color: #008080; text-decoration-color: #008080; font-weight: bold\">18</span>-<span style=\"color: #008080; text-decoration-color: #008080; font-weight: bold\">25</span><span style=\"font-weight: bold\">]</span> Finished Epoch <span style=\"color: #008080; text-decoration-color: #008080; font-weight: bold\">57</span>/<span style=\"color: #008080; text-decoration-color: #008080; font-weight: bold\">100</span>. <span style=\"color: #808000; text-decoration-color: #808000\">CPU</span>=<span style=\"color: #008080; text-decoration-color: #008080; font-weight: bold\">18.</span>7GB, <span style=\"color: #808000; text-decoration-color: #808000\">GPU</span>=<span style=\"color: #008080; text-decoration-color: #008080; font-weight: bold\">42.</span>5GB.\n",
       "</pre>\n"
      ],
      "text/plain": [
       "==> \u001b[1m[\u001b[0m\u001b[1;36m2023\u001b[0m-\u001b[1;36m08\u001b[0m-27_06-\u001b[1;36m18\u001b[0m-\u001b[1;36m25\u001b[0m\u001b[1m]\u001b[0m Finished Epoch \u001b[1;36m57\u001b[0m/\u001b[1;36m100\u001b[0m. \u001b[33mCPU\u001b[0m=\u001b[1;36m18\u001b[0m\u001b[1;36m.\u001b[0m7GB, \u001b[33mGPU\u001b[0m=\u001b[1;36m42\u001b[0m\u001b[1;36m.\u001b[0m5GB.\n"
      ]
     },
     "metadata": {},
     "output_type": "display_data"
    },
    {
     "data": {
      "text/html": [
       "<pre style=\"white-space:pre;overflow-x:auto;line-height:normal;font-family:Menlo,'DejaVu Sans Mono',consolas,'Courier New',monospace\">++&gt; Evaluate scorp_side_dmtet at epoch <span style=\"color: #008080; text-decoration-color: #008080; font-weight: bold\">57</span> <span style=\"color: #808000; text-decoration-color: #808000\">...</span>\n",
       "</pre>\n"
      ],
      "text/plain": [
       "++> Evaluate scorp_side_dmtet at epoch \u001b[1;36m57\u001b[0m \u001b[33m...\u001b[0m\n"
      ]
     },
     "metadata": {},
     "output_type": "display_data"
    },
    {
     "name": "stderr",
     "output_type": "stream",
     "text": [
      "loss=0.0000 (0.0000): : 100% 8/8 [00:00<00:00, 34.70it/s]\n"
     ]
    },
    {
     "data": {
      "text/html": [
       "<pre style=\"white-space:pre;overflow-x:auto;line-height:normal;font-family:Menlo,'DejaVu Sans Mono',consolas,'Courier New',monospace\">++&gt; Evaluate epoch <span style=\"color: #008080; text-decoration-color: #008080; font-weight: bold\">57</span> Finished.\n",
       "</pre>\n"
      ],
      "text/plain": [
       "++> Evaluate epoch \u001b[1;36m57\u001b[0m Finished.\n"
      ]
     },
     "metadata": {},
     "output_type": "display_data"
    },
    {
     "data": {
      "text/html": [
       "<pre style=\"white-space:pre;overflow-x:auto;line-height:normal;font-family:Menlo,'DejaVu Sans Mono',consolas,'Courier New',monospace\">==&gt; <span style=\"font-weight: bold\">[</span><span style=\"color: #008080; text-decoration-color: #008080; font-weight: bold\">2023</span>-<span style=\"color: #008080; text-decoration-color: #008080; font-weight: bold\">08</span>-27_06-<span style=\"color: #008080; text-decoration-color: #008080; font-weight: bold\">18</span>-<span style=\"color: #008080; text-decoration-color: #008080; font-weight: bold\">25</span><span style=\"font-weight: bold\">]</span> Start Training scorp_side_dmtet Epoch <span style=\"color: #008080; text-decoration-color: #008080; font-weight: bold\">58</span>/<span style=\"color: #008080; text-decoration-color: #008080; font-weight: bold\">100</span>, <span style=\"color: #808000; text-decoration-color: #808000\">lr</span>=<span style=\"color: #008080; text-decoration-color: #008080; font-weight: bold\">0.050000</span> <span style=\"color: #808000; text-decoration-color: #808000\">...</span>\n",
       "</pre>\n"
      ],
      "text/plain": [
       "==> \u001b[1m[\u001b[0m\u001b[1;36m2023\u001b[0m-\u001b[1;36m08\u001b[0m-27_06-\u001b[1;36m18\u001b[0m-\u001b[1;36m25\u001b[0m\u001b[1m]\u001b[0m Start Training scorp_side_dmtet Epoch \u001b[1;36m58\u001b[0m/\u001b[1;36m100\u001b[0m, \u001b[33mlr\u001b[0m=\u001b[1;36m0\u001b[0m\u001b[1;36m.050000\u001b[0m \u001b[33m...\u001b[0m\n"
      ]
     },
     "metadata": {},
     "output_type": "display_data"
    },
    {
     "name": "stderr",
     "output_type": "stream",
     "text": [
      "loss=5.7547 (31.5316), lr=0.050000: : 100% 2400/2400 [00:41<00:00, 57.67it/s] \n"
     ]
    },
    {
     "data": {
      "text/html": [
       "<pre style=\"white-space:pre;overflow-x:auto;line-height:normal;font-family:Menlo,'DejaVu Sans Mono',consolas,'Courier New',monospace\">==&gt; <span style=\"font-weight: bold\">[</span><span style=\"color: #008080; text-decoration-color: #008080; font-weight: bold\">2023</span>-<span style=\"color: #008080; text-decoration-color: #008080; font-weight: bold\">08</span>-27_06-<span style=\"color: #008080; text-decoration-color: #008080; font-weight: bold\">19</span>-<span style=\"color: #008080; text-decoration-color: #008080; font-weight: bold\">07</span><span style=\"font-weight: bold\">]</span> Finished Epoch <span style=\"color: #008080; text-decoration-color: #008080; font-weight: bold\">58</span>/<span style=\"color: #008080; text-decoration-color: #008080; font-weight: bold\">100</span>. <span style=\"color: #808000; text-decoration-color: #808000\">CPU</span>=<span style=\"color: #008080; text-decoration-color: #008080; font-weight: bold\">18.</span>7GB, <span style=\"color: #808000; text-decoration-color: #808000\">GPU</span>=<span style=\"color: #008080; text-decoration-color: #008080; font-weight: bold\">42.</span>5GB.\n",
       "</pre>\n"
      ],
      "text/plain": [
       "==> \u001b[1m[\u001b[0m\u001b[1;36m2023\u001b[0m-\u001b[1;36m08\u001b[0m-27_06-\u001b[1;36m19\u001b[0m-\u001b[1;36m07\u001b[0m\u001b[1m]\u001b[0m Finished Epoch \u001b[1;36m58\u001b[0m/\u001b[1;36m100\u001b[0m. \u001b[33mCPU\u001b[0m=\u001b[1;36m18\u001b[0m\u001b[1;36m.\u001b[0m7GB, \u001b[33mGPU\u001b[0m=\u001b[1;36m42\u001b[0m\u001b[1;36m.\u001b[0m5GB.\n"
      ]
     },
     "metadata": {},
     "output_type": "display_data"
    },
    {
     "data": {
      "text/html": [
       "<pre style=\"white-space:pre;overflow-x:auto;line-height:normal;font-family:Menlo,'DejaVu Sans Mono',consolas,'Courier New',monospace\">++&gt; Evaluate scorp_side_dmtet at epoch <span style=\"color: #008080; text-decoration-color: #008080; font-weight: bold\">58</span> <span style=\"color: #808000; text-decoration-color: #808000\">...</span>\n",
       "</pre>\n"
      ],
      "text/plain": [
       "++> Evaluate scorp_side_dmtet at epoch \u001b[1;36m58\u001b[0m \u001b[33m...\u001b[0m\n"
      ]
     },
     "metadata": {},
     "output_type": "display_data"
    },
    {
     "name": "stderr",
     "output_type": "stream",
     "text": [
      "loss=0.0000 (0.0000): : 100% 8/8 [00:00<00:00, 35.46it/s]\n"
     ]
    },
    {
     "data": {
      "text/html": [
       "<pre style=\"white-space:pre;overflow-x:auto;line-height:normal;font-family:Menlo,'DejaVu Sans Mono',consolas,'Courier New',monospace\">++&gt; Evaluate epoch <span style=\"color: #008080; text-decoration-color: #008080; font-weight: bold\">58</span> Finished.\n",
       "</pre>\n"
      ],
      "text/plain": [
       "++> Evaluate epoch \u001b[1;36m58\u001b[0m Finished.\n"
      ]
     },
     "metadata": {},
     "output_type": "display_data"
    },
    {
     "data": {
      "text/html": [
       "<pre style=\"white-space:pre;overflow-x:auto;line-height:normal;font-family:Menlo,'DejaVu Sans Mono',consolas,'Courier New',monospace\">==&gt; <span style=\"font-weight: bold\">[</span><span style=\"color: #008080; text-decoration-color: #008080; font-weight: bold\">2023</span>-<span style=\"color: #008080; text-decoration-color: #008080; font-weight: bold\">08</span>-27_06-<span style=\"color: #008080; text-decoration-color: #008080; font-weight: bold\">19</span>-<span style=\"color: #008080; text-decoration-color: #008080; font-weight: bold\">07</span><span style=\"font-weight: bold\">]</span> Start Training scorp_side_dmtet Epoch <span style=\"color: #008080; text-decoration-color: #008080; font-weight: bold\">59</span>/<span style=\"color: #008080; text-decoration-color: #008080; font-weight: bold\">100</span>, <span style=\"color: #808000; text-decoration-color: #808000\">lr</span>=<span style=\"color: #008080; text-decoration-color: #008080; font-weight: bold\">0.050000</span> <span style=\"color: #808000; text-decoration-color: #808000\">...</span>\n",
       "</pre>\n"
      ],
      "text/plain": [
       "==> \u001b[1m[\u001b[0m\u001b[1;36m2023\u001b[0m-\u001b[1;36m08\u001b[0m-27_06-\u001b[1;36m19\u001b[0m-\u001b[1;36m07\u001b[0m\u001b[1m]\u001b[0m Start Training scorp_side_dmtet Epoch \u001b[1;36m59\u001b[0m/\u001b[1;36m100\u001b[0m, \u001b[33mlr\u001b[0m=\u001b[1;36m0\u001b[0m\u001b[1;36m.050000\u001b[0m \u001b[33m...\u001b[0m\n"
      ]
     },
     "metadata": {},
     "output_type": "display_data"
    },
    {
     "name": "stderr",
     "output_type": "stream",
     "text": [
      "loss=5.7463 (33.2126), lr=0.050000: : 100% 2400/2400 [00:42<00:00, 56.86it/s] \n"
     ]
    },
    {
     "data": {
      "text/html": [
       "<pre style=\"white-space:pre;overflow-x:auto;line-height:normal;font-family:Menlo,'DejaVu Sans Mono',consolas,'Courier New',monospace\">==&gt; <span style=\"font-weight: bold\">[</span><span style=\"color: #008080; text-decoration-color: #008080; font-weight: bold\">2023</span>-<span style=\"color: #008080; text-decoration-color: #008080; font-weight: bold\">08</span>-27_06-<span style=\"color: #008080; text-decoration-color: #008080; font-weight: bold\">19</span>-<span style=\"color: #008080; text-decoration-color: #008080; font-weight: bold\">50</span><span style=\"font-weight: bold\">]</span> Finished Epoch <span style=\"color: #008080; text-decoration-color: #008080; font-weight: bold\">59</span>/<span style=\"color: #008080; text-decoration-color: #008080; font-weight: bold\">100</span>. <span style=\"color: #808000; text-decoration-color: #808000\">CPU</span>=<span style=\"color: #008080; text-decoration-color: #008080; font-weight: bold\">18.</span>7GB, <span style=\"color: #808000; text-decoration-color: #808000\">GPU</span>=<span style=\"color: #008080; text-decoration-color: #008080; font-weight: bold\">42.</span>5GB.\n",
       "</pre>\n"
      ],
      "text/plain": [
       "==> \u001b[1m[\u001b[0m\u001b[1;36m2023\u001b[0m-\u001b[1;36m08\u001b[0m-27_06-\u001b[1;36m19\u001b[0m-\u001b[1;36m50\u001b[0m\u001b[1m]\u001b[0m Finished Epoch \u001b[1;36m59\u001b[0m/\u001b[1;36m100\u001b[0m. \u001b[33mCPU\u001b[0m=\u001b[1;36m18\u001b[0m\u001b[1;36m.\u001b[0m7GB, \u001b[33mGPU\u001b[0m=\u001b[1;36m42\u001b[0m\u001b[1;36m.\u001b[0m5GB.\n"
      ]
     },
     "metadata": {},
     "output_type": "display_data"
    },
    {
     "data": {
      "text/html": [
       "<pre style=\"white-space:pre;overflow-x:auto;line-height:normal;font-family:Menlo,'DejaVu Sans Mono',consolas,'Courier New',monospace\">++&gt; Evaluate scorp_side_dmtet at epoch <span style=\"color: #008080; text-decoration-color: #008080; font-weight: bold\">59</span> <span style=\"color: #808000; text-decoration-color: #808000\">...</span>\n",
       "</pre>\n"
      ],
      "text/plain": [
       "++> Evaluate scorp_side_dmtet at epoch \u001b[1;36m59\u001b[0m \u001b[33m...\u001b[0m\n"
      ]
     },
     "metadata": {},
     "output_type": "display_data"
    },
    {
     "name": "stderr",
     "output_type": "stream",
     "text": [
      "loss=0.0000 (0.0000): : 100% 8/8 [00:00<00:00, 35.38it/s]\n"
     ]
    },
    {
     "data": {
      "text/html": [
       "<pre style=\"white-space:pre;overflow-x:auto;line-height:normal;font-family:Menlo,'DejaVu Sans Mono',consolas,'Courier New',monospace\">++&gt; Evaluate epoch <span style=\"color: #008080; text-decoration-color: #008080; font-weight: bold\">59</span> Finished.\n",
       "</pre>\n"
      ],
      "text/plain": [
       "++> Evaluate epoch \u001b[1;36m59\u001b[0m Finished.\n"
      ]
     },
     "metadata": {},
     "output_type": "display_data"
    },
    {
     "data": {
      "text/html": [
       "<pre style=\"white-space:pre;overflow-x:auto;line-height:normal;font-family:Menlo,'DejaVu Sans Mono',consolas,'Courier New',monospace\">==&gt; <span style=\"font-weight: bold\">[</span><span style=\"color: #008080; text-decoration-color: #008080; font-weight: bold\">2023</span>-<span style=\"color: #008080; text-decoration-color: #008080; font-weight: bold\">08</span>-27_06-<span style=\"color: #008080; text-decoration-color: #008080; font-weight: bold\">19</span>-<span style=\"color: #008080; text-decoration-color: #008080; font-weight: bold\">50</span><span style=\"font-weight: bold\">]</span> Start Training scorp_side_dmtet Epoch <span style=\"color: #008080; text-decoration-color: #008080; font-weight: bold\">60</span>/<span style=\"color: #008080; text-decoration-color: #008080; font-weight: bold\">100</span>, <span style=\"color: #808000; text-decoration-color: #808000\">lr</span>=<span style=\"color: #008080; text-decoration-color: #008080; font-weight: bold\">0.050000</span> <span style=\"color: #808000; text-decoration-color: #808000\">...</span>\n",
       "</pre>\n"
      ],
      "text/plain": [
       "==> \u001b[1m[\u001b[0m\u001b[1;36m2023\u001b[0m-\u001b[1;36m08\u001b[0m-27_06-\u001b[1;36m19\u001b[0m-\u001b[1;36m50\u001b[0m\u001b[1m]\u001b[0m Start Training scorp_side_dmtet Epoch \u001b[1;36m60\u001b[0m/\u001b[1;36m100\u001b[0m, \u001b[33mlr\u001b[0m=\u001b[1;36m0\u001b[0m\u001b[1;36m.050000\u001b[0m \u001b[33m...\u001b[0m\n"
      ]
     },
     "metadata": {},
     "output_type": "display_data"
    },
    {
     "name": "stderr",
     "output_type": "stream",
     "text": [
      "loss=5.7552 (33.4420), lr=0.050000: : 100% 2400/2400 [00:41<00:00, 57.82it/s] \n"
     ]
    },
    {
     "data": {
      "text/html": [
       "<pre style=\"white-space:pre;overflow-x:auto;line-height:normal;font-family:Menlo,'DejaVu Sans Mono',consolas,'Courier New',monospace\">==&gt; <span style=\"font-weight: bold\">[</span><span style=\"color: #008080; text-decoration-color: #008080; font-weight: bold\">2023</span>-<span style=\"color: #008080; text-decoration-color: #008080; font-weight: bold\">08</span>-27_06-<span style=\"color: #008080; text-decoration-color: #008080; font-weight: bold\">20</span>-<span style=\"color: #008080; text-decoration-color: #008080; font-weight: bold\">32</span><span style=\"font-weight: bold\">]</span> Finished Epoch <span style=\"color: #008080; text-decoration-color: #008080; font-weight: bold\">60</span>/<span style=\"color: #008080; text-decoration-color: #008080; font-weight: bold\">100</span>. <span style=\"color: #808000; text-decoration-color: #808000\">CPU</span>=<span style=\"color: #008080; text-decoration-color: #008080; font-weight: bold\">18.</span>7GB, <span style=\"color: #808000; text-decoration-color: #808000\">GPU</span>=<span style=\"color: #008080; text-decoration-color: #008080; font-weight: bold\">42.</span>5GB.\n",
       "</pre>\n"
      ],
      "text/plain": [
       "==> \u001b[1m[\u001b[0m\u001b[1;36m2023\u001b[0m-\u001b[1;36m08\u001b[0m-27_06-\u001b[1;36m20\u001b[0m-\u001b[1;36m32\u001b[0m\u001b[1m]\u001b[0m Finished Epoch \u001b[1;36m60\u001b[0m/\u001b[1;36m100\u001b[0m. \u001b[33mCPU\u001b[0m=\u001b[1;36m18\u001b[0m\u001b[1;36m.\u001b[0m7GB, \u001b[33mGPU\u001b[0m=\u001b[1;36m42\u001b[0m\u001b[1;36m.\u001b[0m5GB.\n"
      ]
     },
     "metadata": {},
     "output_type": "display_data"
    },
    {
     "data": {
      "text/html": [
       "<pre style=\"white-space:pre;overflow-x:auto;line-height:normal;font-family:Menlo,'DejaVu Sans Mono',consolas,'Courier New',monospace\">++&gt; Evaluate scorp_side_dmtet at epoch <span style=\"color: #008080; text-decoration-color: #008080; font-weight: bold\">60</span> <span style=\"color: #808000; text-decoration-color: #808000\">...</span>\n",
       "</pre>\n"
      ],
      "text/plain": [
       "++> Evaluate scorp_side_dmtet at epoch \u001b[1;36m60\u001b[0m \u001b[33m...\u001b[0m\n"
      ]
     },
     "metadata": {},
     "output_type": "display_data"
    },
    {
     "name": "stderr",
     "output_type": "stream",
     "text": [
      "loss=0.0000 (0.0000): : 100% 8/8 [00:00<00:00, 34.51it/s]\n"
     ]
    },
    {
     "data": {
      "text/html": [
       "<pre style=\"white-space:pre;overflow-x:auto;line-height:normal;font-family:Menlo,'DejaVu Sans Mono',consolas,'Courier New',monospace\">++&gt; Evaluate epoch <span style=\"color: #008080; text-decoration-color: #008080; font-weight: bold\">60</span> Finished.\n",
       "</pre>\n"
      ],
      "text/plain": [
       "++> Evaluate epoch \u001b[1;36m60\u001b[0m Finished.\n"
      ]
     },
     "metadata": {},
     "output_type": "display_data"
    },
    {
     "data": {
      "text/html": [
       "<pre style=\"white-space:pre;overflow-x:auto;line-height:normal;font-family:Menlo,'DejaVu Sans Mono',consolas,'Courier New',monospace\">==&gt; Start Test, save results to scorp_side_dmtet/results\n",
       "</pre>\n"
      ],
      "text/plain": [
       "==> Start Test, save results to scorp_side_dmtet/results\n"
      ]
     },
     "metadata": {},
     "output_type": "display_data"
    },
    {
     "name": "stderr",
     "output_type": "stream",
     "text": [
      " 99% 99/100 [00:01<00:00, 81.63it/s]"
     ]
    },
    {
     "data": {
      "text/html": [
       "<pre style=\"white-space:pre;overflow-x:auto;line-height:normal;font-family:Menlo,'DejaVu Sans Mono',consolas,'Courier New',monospace\">==&gt; Finished Test.\n",
       "</pre>\n"
      ],
      "text/plain": [
       "==> Finished Test.\n"
      ]
     },
     "metadata": {},
     "output_type": "display_data"
    },
    {
     "name": "stderr",
     "output_type": "stream",
     "text": [
      "100% 100/100 [00:03<00:00, 29.84it/s]\n"
     ]
    },
    {
     "data": {
      "text/html": [
       "<pre style=\"white-space:pre;overflow-x:auto;line-height:normal;font-family:Menlo,'DejaVu Sans Mono',consolas,'Courier New',monospace\">==&gt; <span style=\"font-weight: bold\">[</span><span style=\"color: #008080; text-decoration-color: #008080; font-weight: bold\">2023</span>-<span style=\"color: #008080; text-decoration-color: #008080; font-weight: bold\">08</span>-27_06-<span style=\"color: #008080; text-decoration-color: #008080; font-weight: bold\">20</span>-<span style=\"color: #008080; text-decoration-color: #008080; font-weight: bold\">36</span><span style=\"font-weight: bold\">]</span> Start Training scorp_side_dmtet Epoch <span style=\"color: #008080; text-decoration-color: #008080; font-weight: bold\">61</span>/<span style=\"color: #008080; text-decoration-color: #008080; font-weight: bold\">100</span>, <span style=\"color: #808000; text-decoration-color: #808000\">lr</span>=<span style=\"color: #008080; text-decoration-color: #008080; font-weight: bold\">0.050000</span> <span style=\"color: #808000; text-decoration-color: #808000\">...</span>\n",
       "</pre>\n"
      ],
      "text/plain": [
       "==> \u001b[1m[\u001b[0m\u001b[1;36m2023\u001b[0m-\u001b[1;36m08\u001b[0m-27_06-\u001b[1;36m20\u001b[0m-\u001b[1;36m36\u001b[0m\u001b[1m]\u001b[0m Start Training scorp_side_dmtet Epoch \u001b[1;36m61\u001b[0m/\u001b[1;36m100\u001b[0m, \u001b[33mlr\u001b[0m=\u001b[1;36m0\u001b[0m\u001b[1;36m.050000\u001b[0m \u001b[33m...\u001b[0m\n"
      ]
     },
     "metadata": {},
     "output_type": "display_data"
    },
    {
     "name": "stderr",
     "output_type": "stream",
     "text": [
      "loss=5.7195 (32.3810), lr=0.050000: : 100% 2400/2400 [00:42<00:00, 56.93it/s]  \n"
     ]
    },
    {
     "data": {
      "text/html": [
       "<pre style=\"white-space:pre;overflow-x:auto;line-height:normal;font-family:Menlo,'DejaVu Sans Mono',consolas,'Courier New',monospace\">==&gt; <span style=\"font-weight: bold\">[</span><span style=\"color: #008080; text-decoration-color: #008080; font-weight: bold\">2023</span>-<span style=\"color: #008080; text-decoration-color: #008080; font-weight: bold\">08</span>-27_06-<span style=\"color: #008080; text-decoration-color: #008080; font-weight: bold\">21</span>-<span style=\"color: #008080; text-decoration-color: #008080; font-weight: bold\">18</span><span style=\"font-weight: bold\">]</span> Finished Epoch <span style=\"color: #008080; text-decoration-color: #008080; font-weight: bold\">61</span>/<span style=\"color: #008080; text-decoration-color: #008080; font-weight: bold\">100</span>. <span style=\"color: #808000; text-decoration-color: #808000\">CPU</span>=<span style=\"color: #008080; text-decoration-color: #008080; font-weight: bold\">18.</span>7GB, <span style=\"color: #808000; text-decoration-color: #808000\">GPU</span>=<span style=\"color: #008080; text-decoration-color: #008080; font-weight: bold\">42.</span>5GB.\n",
       "</pre>\n"
      ],
      "text/plain": [
       "==> \u001b[1m[\u001b[0m\u001b[1;36m2023\u001b[0m-\u001b[1;36m08\u001b[0m-27_06-\u001b[1;36m21\u001b[0m-\u001b[1;36m18\u001b[0m\u001b[1m]\u001b[0m Finished Epoch \u001b[1;36m61\u001b[0m/\u001b[1;36m100\u001b[0m. \u001b[33mCPU\u001b[0m=\u001b[1;36m18\u001b[0m\u001b[1;36m.\u001b[0m7GB, \u001b[33mGPU\u001b[0m=\u001b[1;36m42\u001b[0m\u001b[1;36m.\u001b[0m5GB.\n"
      ]
     },
     "metadata": {},
     "output_type": "display_data"
    },
    {
     "data": {
      "text/html": [
       "<pre style=\"white-space:pre;overflow-x:auto;line-height:normal;font-family:Menlo,'DejaVu Sans Mono',consolas,'Courier New',monospace\">++&gt; Evaluate scorp_side_dmtet at epoch <span style=\"color: #008080; text-decoration-color: #008080; font-weight: bold\">61</span> <span style=\"color: #808000; text-decoration-color: #808000\">...</span>\n",
       "</pre>\n"
      ],
      "text/plain": [
       "++> Evaluate scorp_side_dmtet at epoch \u001b[1;36m61\u001b[0m \u001b[33m...\u001b[0m\n"
      ]
     },
     "metadata": {},
     "output_type": "display_data"
    },
    {
     "name": "stderr",
     "output_type": "stream",
     "text": [
      "loss=0.0000 (0.0000): : 100% 8/8 [00:00<00:00, 34.66it/s]\n"
     ]
    },
    {
     "data": {
      "text/html": [
       "<pre style=\"white-space:pre;overflow-x:auto;line-height:normal;font-family:Menlo,'DejaVu Sans Mono',consolas,'Courier New',monospace\">++&gt; Evaluate epoch <span style=\"color: #008080; text-decoration-color: #008080; font-weight: bold\">61</span> Finished.\n",
       "</pre>\n"
      ],
      "text/plain": [
       "++> Evaluate epoch \u001b[1;36m61\u001b[0m Finished.\n"
      ]
     },
     "metadata": {},
     "output_type": "display_data"
    },
    {
     "data": {
      "text/html": [
       "<pre style=\"white-space:pre;overflow-x:auto;line-height:normal;font-family:Menlo,'DejaVu Sans Mono',consolas,'Courier New',monospace\">==&gt; <span style=\"font-weight: bold\">[</span><span style=\"color: #008080; text-decoration-color: #008080; font-weight: bold\">2023</span>-<span style=\"color: #008080; text-decoration-color: #008080; font-weight: bold\">08</span>-27_06-<span style=\"color: #008080; text-decoration-color: #008080; font-weight: bold\">21</span>-<span style=\"color: #008080; text-decoration-color: #008080; font-weight: bold\">19</span><span style=\"font-weight: bold\">]</span> Start Training scorp_side_dmtet Epoch <span style=\"color: #008080; text-decoration-color: #008080; font-weight: bold\">62</span>/<span style=\"color: #008080; text-decoration-color: #008080; font-weight: bold\">100</span>, <span style=\"color: #808000; text-decoration-color: #808000\">lr</span>=<span style=\"color: #008080; text-decoration-color: #008080; font-weight: bold\">0.050000</span> <span style=\"color: #808000; text-decoration-color: #808000\">...</span>\n",
       "</pre>\n"
      ],
      "text/plain": [
       "==> \u001b[1m[\u001b[0m\u001b[1;36m2023\u001b[0m-\u001b[1;36m08\u001b[0m-27_06-\u001b[1;36m21\u001b[0m-\u001b[1;36m19\u001b[0m\u001b[1m]\u001b[0m Start Training scorp_side_dmtet Epoch \u001b[1;36m62\u001b[0m/\u001b[1;36m100\u001b[0m, \u001b[33mlr\u001b[0m=\u001b[1;36m0\u001b[0m\u001b[1;36m.050000\u001b[0m \u001b[33m...\u001b[0m\n"
      ]
     },
     "metadata": {},
     "output_type": "display_data"
    },
    {
     "name": "stderr",
     "output_type": "stream",
     "text": [
      "loss=5.7220 (32.8842), lr=0.050000: : 100% 2400/2400 [00:41<00:00, 57.52it/s] \n"
     ]
    },
    {
     "data": {
      "text/html": [
       "<pre style=\"white-space:pre;overflow-x:auto;line-height:normal;font-family:Menlo,'DejaVu Sans Mono',consolas,'Courier New',monospace\">==&gt; <span style=\"font-weight: bold\">[</span><span style=\"color: #008080; text-decoration-color: #008080; font-weight: bold\">2023</span>-<span style=\"color: #008080; text-decoration-color: #008080; font-weight: bold\">08</span>-27_06-<span style=\"color: #008080; text-decoration-color: #008080; font-weight: bold\">22</span>-<span style=\"color: #008080; text-decoration-color: #008080; font-weight: bold\">00</span><span style=\"font-weight: bold\">]</span> Finished Epoch <span style=\"color: #008080; text-decoration-color: #008080; font-weight: bold\">62</span>/<span style=\"color: #008080; text-decoration-color: #008080; font-weight: bold\">100</span>. <span style=\"color: #808000; text-decoration-color: #808000\">CPU</span>=<span style=\"color: #008080; text-decoration-color: #008080; font-weight: bold\">18.</span>7GB, <span style=\"color: #808000; text-decoration-color: #808000\">GPU</span>=<span style=\"color: #008080; text-decoration-color: #008080; font-weight: bold\">42.</span>5GB.\n",
       "</pre>\n"
      ],
      "text/plain": [
       "==> \u001b[1m[\u001b[0m\u001b[1;36m2023\u001b[0m-\u001b[1;36m08\u001b[0m-27_06-\u001b[1;36m22\u001b[0m-\u001b[1;36m00\u001b[0m\u001b[1m]\u001b[0m Finished Epoch \u001b[1;36m62\u001b[0m/\u001b[1;36m100\u001b[0m. \u001b[33mCPU\u001b[0m=\u001b[1;36m18\u001b[0m\u001b[1;36m.\u001b[0m7GB, \u001b[33mGPU\u001b[0m=\u001b[1;36m42\u001b[0m\u001b[1;36m.\u001b[0m5GB.\n"
      ]
     },
     "metadata": {},
     "output_type": "display_data"
    },
    {
     "data": {
      "text/html": [
       "<pre style=\"white-space:pre;overflow-x:auto;line-height:normal;font-family:Menlo,'DejaVu Sans Mono',consolas,'Courier New',monospace\">++&gt; Evaluate scorp_side_dmtet at epoch <span style=\"color: #008080; text-decoration-color: #008080; font-weight: bold\">62</span> <span style=\"color: #808000; text-decoration-color: #808000\">...</span>\n",
       "</pre>\n"
      ],
      "text/plain": [
       "++> Evaluate scorp_side_dmtet at epoch \u001b[1;36m62\u001b[0m \u001b[33m...\u001b[0m\n"
      ]
     },
     "metadata": {},
     "output_type": "display_data"
    },
    {
     "name": "stderr",
     "output_type": "stream",
     "text": [
      "loss=0.0000 (0.0000): : 100% 8/8 [00:00<00:00, 34.60it/s]\n"
     ]
    },
    {
     "data": {
      "text/html": [
       "<pre style=\"white-space:pre;overflow-x:auto;line-height:normal;font-family:Menlo,'DejaVu Sans Mono',consolas,'Courier New',monospace\">++&gt; Evaluate epoch <span style=\"color: #008080; text-decoration-color: #008080; font-weight: bold\">62</span> Finished.\n",
       "</pre>\n"
      ],
      "text/plain": [
       "++> Evaluate epoch \u001b[1;36m62\u001b[0m Finished.\n"
      ]
     },
     "metadata": {},
     "output_type": "display_data"
    },
    {
     "data": {
      "text/html": [
       "<pre style=\"white-space:pre;overflow-x:auto;line-height:normal;font-family:Menlo,'DejaVu Sans Mono',consolas,'Courier New',monospace\">==&gt; <span style=\"font-weight: bold\">[</span><span style=\"color: #008080; text-decoration-color: #008080; font-weight: bold\">2023</span>-<span style=\"color: #008080; text-decoration-color: #008080; font-weight: bold\">08</span>-27_06-<span style=\"color: #008080; text-decoration-color: #008080; font-weight: bold\">22</span>-<span style=\"color: #008080; text-decoration-color: #008080; font-weight: bold\">01</span><span style=\"font-weight: bold\">]</span> Start Training scorp_side_dmtet Epoch <span style=\"color: #008080; text-decoration-color: #008080; font-weight: bold\">63</span>/<span style=\"color: #008080; text-decoration-color: #008080; font-weight: bold\">100</span>, <span style=\"color: #808000; text-decoration-color: #808000\">lr</span>=<span style=\"color: #008080; text-decoration-color: #008080; font-weight: bold\">0.050000</span> <span style=\"color: #808000; text-decoration-color: #808000\">...</span>\n",
       "</pre>\n"
      ],
      "text/plain": [
       "==> \u001b[1m[\u001b[0m\u001b[1;36m2023\u001b[0m-\u001b[1;36m08\u001b[0m-27_06-\u001b[1;36m22\u001b[0m-\u001b[1;36m01\u001b[0m\u001b[1m]\u001b[0m Start Training scorp_side_dmtet Epoch \u001b[1;36m63\u001b[0m/\u001b[1;36m100\u001b[0m, \u001b[33mlr\u001b[0m=\u001b[1;36m0\u001b[0m\u001b[1;36m.050000\u001b[0m \u001b[33m...\u001b[0m\n"
      ]
     },
     "metadata": {},
     "output_type": "display_data"
    },
    {
     "name": "stderr",
     "output_type": "stream",
     "text": [
      "loss=5.7691 (36.3597), lr=0.050000: : 100% 2400/2400 [00:41<00:00, 58.41it/s]  \n"
     ]
    },
    {
     "data": {
      "text/html": [
       "<pre style=\"white-space:pre;overflow-x:auto;line-height:normal;font-family:Menlo,'DejaVu Sans Mono',consolas,'Courier New',monospace\">==&gt; <span style=\"font-weight: bold\">[</span><span style=\"color: #008080; text-decoration-color: #008080; font-weight: bold\">2023</span>-<span style=\"color: #008080; text-decoration-color: #008080; font-weight: bold\">08</span>-27_06-<span style=\"color: #008080; text-decoration-color: #008080; font-weight: bold\">22</span>-<span style=\"color: #008080; text-decoration-color: #008080; font-weight: bold\">42</span><span style=\"font-weight: bold\">]</span> Finished Epoch <span style=\"color: #008080; text-decoration-color: #008080; font-weight: bold\">63</span>/<span style=\"color: #008080; text-decoration-color: #008080; font-weight: bold\">100</span>. <span style=\"color: #808000; text-decoration-color: #808000\">CPU</span>=<span style=\"color: #008080; text-decoration-color: #008080; font-weight: bold\">18.</span>7GB, <span style=\"color: #808000; text-decoration-color: #808000\">GPU</span>=<span style=\"color: #008080; text-decoration-color: #008080; font-weight: bold\">42.</span>5GB.\n",
       "</pre>\n"
      ],
      "text/plain": [
       "==> \u001b[1m[\u001b[0m\u001b[1;36m2023\u001b[0m-\u001b[1;36m08\u001b[0m-27_06-\u001b[1;36m22\u001b[0m-\u001b[1;36m42\u001b[0m\u001b[1m]\u001b[0m Finished Epoch \u001b[1;36m63\u001b[0m/\u001b[1;36m100\u001b[0m. \u001b[33mCPU\u001b[0m=\u001b[1;36m18\u001b[0m\u001b[1;36m.\u001b[0m7GB, \u001b[33mGPU\u001b[0m=\u001b[1;36m42\u001b[0m\u001b[1;36m.\u001b[0m5GB.\n"
      ]
     },
     "metadata": {},
     "output_type": "display_data"
    },
    {
     "data": {
      "text/html": [
       "<pre style=\"white-space:pre;overflow-x:auto;line-height:normal;font-family:Menlo,'DejaVu Sans Mono',consolas,'Courier New',monospace\">++&gt; Evaluate scorp_side_dmtet at epoch <span style=\"color: #008080; text-decoration-color: #008080; font-weight: bold\">63</span> <span style=\"color: #808000; text-decoration-color: #808000\">...</span>\n",
       "</pre>\n"
      ],
      "text/plain": [
       "++> Evaluate scorp_side_dmtet at epoch \u001b[1;36m63\u001b[0m \u001b[33m...\u001b[0m\n"
      ]
     },
     "metadata": {},
     "output_type": "display_data"
    },
    {
     "name": "stderr",
     "output_type": "stream",
     "text": [
      "loss=0.0000 (0.0000): : 100% 8/8 [00:00<00:00, 34.78it/s]\n"
     ]
    },
    {
     "data": {
      "text/html": [
       "<pre style=\"white-space:pre;overflow-x:auto;line-height:normal;font-family:Menlo,'DejaVu Sans Mono',consolas,'Courier New',monospace\">++&gt; Evaluate epoch <span style=\"color: #008080; text-decoration-color: #008080; font-weight: bold\">63</span> Finished.\n",
       "</pre>\n"
      ],
      "text/plain": [
       "++> Evaluate epoch \u001b[1;36m63\u001b[0m Finished.\n"
      ]
     },
     "metadata": {},
     "output_type": "display_data"
    },
    {
     "data": {
      "text/html": [
       "<pre style=\"white-space:pre;overflow-x:auto;line-height:normal;font-family:Menlo,'DejaVu Sans Mono',consolas,'Courier New',monospace\">==&gt; <span style=\"font-weight: bold\">[</span><span style=\"color: #008080; text-decoration-color: #008080; font-weight: bold\">2023</span>-<span style=\"color: #008080; text-decoration-color: #008080; font-weight: bold\">08</span>-27_06-<span style=\"color: #008080; text-decoration-color: #008080; font-weight: bold\">22</span>-<span style=\"color: #008080; text-decoration-color: #008080; font-weight: bold\">43</span><span style=\"font-weight: bold\">]</span> Start Training scorp_side_dmtet Epoch <span style=\"color: #008080; text-decoration-color: #008080; font-weight: bold\">64</span>/<span style=\"color: #008080; text-decoration-color: #008080; font-weight: bold\">100</span>, <span style=\"color: #808000; text-decoration-color: #808000\">lr</span>=<span style=\"color: #008080; text-decoration-color: #008080; font-weight: bold\">0.050000</span> <span style=\"color: #808000; text-decoration-color: #808000\">...</span>\n",
       "</pre>\n"
      ],
      "text/plain": [
       "==> \u001b[1m[\u001b[0m\u001b[1;36m2023\u001b[0m-\u001b[1;36m08\u001b[0m-27_06-\u001b[1;36m22\u001b[0m-\u001b[1;36m43\u001b[0m\u001b[1m]\u001b[0m Start Training scorp_side_dmtet Epoch \u001b[1;36m64\u001b[0m/\u001b[1;36m100\u001b[0m, \u001b[33mlr\u001b[0m=\u001b[1;36m0\u001b[0m\u001b[1;36m.050000\u001b[0m \u001b[33m...\u001b[0m\n"
      ]
     },
     "metadata": {},
     "output_type": "display_data"
    },
    {
     "name": "stderr",
     "output_type": "stream",
     "text": [
      "loss=5.7478 (34.9512), lr=0.050000: : 100% 2400/2400 [00:42<00:00, 56.22it/s] \n"
     ]
    },
    {
     "data": {
      "text/html": [
       "<pre style=\"white-space:pre;overflow-x:auto;line-height:normal;font-family:Menlo,'DejaVu Sans Mono',consolas,'Courier New',monospace\">==&gt; <span style=\"font-weight: bold\">[</span><span style=\"color: #008080; text-decoration-color: #008080; font-weight: bold\">2023</span>-<span style=\"color: #008080; text-decoration-color: #008080; font-weight: bold\">08</span>-27_06-<span style=\"color: #008080; text-decoration-color: #008080; font-weight: bold\">23</span>-<span style=\"color: #008080; text-decoration-color: #008080; font-weight: bold\">25</span><span style=\"font-weight: bold\">]</span> Finished Epoch <span style=\"color: #008080; text-decoration-color: #008080; font-weight: bold\">64</span>/<span style=\"color: #008080; text-decoration-color: #008080; font-weight: bold\">100</span>. <span style=\"color: #808000; text-decoration-color: #808000\">CPU</span>=<span style=\"color: #008080; text-decoration-color: #008080; font-weight: bold\">18.</span>7GB, <span style=\"color: #808000; text-decoration-color: #808000\">GPU</span>=<span style=\"color: #008080; text-decoration-color: #008080; font-weight: bold\">42.</span>5GB.\n",
       "</pre>\n"
      ],
      "text/plain": [
       "==> \u001b[1m[\u001b[0m\u001b[1;36m2023\u001b[0m-\u001b[1;36m08\u001b[0m-27_06-\u001b[1;36m23\u001b[0m-\u001b[1;36m25\u001b[0m\u001b[1m]\u001b[0m Finished Epoch \u001b[1;36m64\u001b[0m/\u001b[1;36m100\u001b[0m. \u001b[33mCPU\u001b[0m=\u001b[1;36m18\u001b[0m\u001b[1;36m.\u001b[0m7GB, \u001b[33mGPU\u001b[0m=\u001b[1;36m42\u001b[0m\u001b[1;36m.\u001b[0m5GB.\n"
      ]
     },
     "metadata": {},
     "output_type": "display_data"
    },
    {
     "data": {
      "text/html": [
       "<pre style=\"white-space:pre;overflow-x:auto;line-height:normal;font-family:Menlo,'DejaVu Sans Mono',consolas,'Courier New',monospace\">++&gt; Evaluate scorp_side_dmtet at epoch <span style=\"color: #008080; text-decoration-color: #008080; font-weight: bold\">64</span> <span style=\"color: #808000; text-decoration-color: #808000\">...</span>\n",
       "</pre>\n"
      ],
      "text/plain": [
       "++> Evaluate scorp_side_dmtet at epoch \u001b[1;36m64\u001b[0m \u001b[33m...\u001b[0m\n"
      ]
     },
     "metadata": {},
     "output_type": "display_data"
    },
    {
     "name": "stderr",
     "output_type": "stream",
     "text": [
      "loss=0.0000 (0.0000): : 100% 8/8 [00:00<00:00, 34.65it/s]\n"
     ]
    },
    {
     "data": {
      "text/html": [
       "<pre style=\"white-space:pre;overflow-x:auto;line-height:normal;font-family:Menlo,'DejaVu Sans Mono',consolas,'Courier New',monospace\">++&gt; Evaluate epoch <span style=\"color: #008080; text-decoration-color: #008080; font-weight: bold\">64</span> Finished.\n",
       "</pre>\n"
      ],
      "text/plain": [
       "++> Evaluate epoch \u001b[1;36m64\u001b[0m Finished.\n"
      ]
     },
     "metadata": {},
     "output_type": "display_data"
    },
    {
     "data": {
      "text/html": [
       "<pre style=\"white-space:pre;overflow-x:auto;line-height:normal;font-family:Menlo,'DejaVu Sans Mono',consolas,'Courier New',monospace\">==&gt; <span style=\"font-weight: bold\">[</span><span style=\"color: #008080; text-decoration-color: #008080; font-weight: bold\">2023</span>-<span style=\"color: #008080; text-decoration-color: #008080; font-weight: bold\">08</span>-27_06-<span style=\"color: #008080; text-decoration-color: #008080; font-weight: bold\">23</span>-<span style=\"color: #008080; text-decoration-color: #008080; font-weight: bold\">26</span><span style=\"font-weight: bold\">]</span> Start Training scorp_side_dmtet Epoch <span style=\"color: #008080; text-decoration-color: #008080; font-weight: bold\">65</span>/<span style=\"color: #008080; text-decoration-color: #008080; font-weight: bold\">100</span>, <span style=\"color: #808000; text-decoration-color: #808000\">lr</span>=<span style=\"color: #008080; text-decoration-color: #008080; font-weight: bold\">0.050000</span> <span style=\"color: #808000; text-decoration-color: #808000\">...</span>\n",
       "</pre>\n"
      ],
      "text/plain": [
       "==> \u001b[1m[\u001b[0m\u001b[1;36m2023\u001b[0m-\u001b[1;36m08\u001b[0m-27_06-\u001b[1;36m23\u001b[0m-\u001b[1;36m26\u001b[0m\u001b[1m]\u001b[0m Start Training scorp_side_dmtet Epoch \u001b[1;36m65\u001b[0m/\u001b[1;36m100\u001b[0m, \u001b[33mlr\u001b[0m=\u001b[1;36m0\u001b[0m\u001b[1;36m.050000\u001b[0m \u001b[33m...\u001b[0m\n"
      ]
     },
     "metadata": {},
     "output_type": "display_data"
    },
    {
     "name": "stderr",
     "output_type": "stream",
     "text": [
      "loss=5.7175 (31.2634), lr=0.050000: : 100% 2400/2400 [00:42<00:00, 56.95it/s]  \n"
     ]
    },
    {
     "data": {
      "text/html": [
       "<pre style=\"white-space:pre;overflow-x:auto;line-height:normal;font-family:Menlo,'DejaVu Sans Mono',consolas,'Courier New',monospace\">==&gt; <span style=\"font-weight: bold\">[</span><span style=\"color: #008080; text-decoration-color: #008080; font-weight: bold\">2023</span>-<span style=\"color: #008080; text-decoration-color: #008080; font-weight: bold\">08</span>-27_06-<span style=\"color: #008080; text-decoration-color: #008080; font-weight: bold\">24</span>-<span style=\"color: #008080; text-decoration-color: #008080; font-weight: bold\">08</span><span style=\"font-weight: bold\">]</span> Finished Epoch <span style=\"color: #008080; text-decoration-color: #008080; font-weight: bold\">65</span>/<span style=\"color: #008080; text-decoration-color: #008080; font-weight: bold\">100</span>. <span style=\"color: #808000; text-decoration-color: #808000\">CPU</span>=<span style=\"color: #008080; text-decoration-color: #008080; font-weight: bold\">18.</span>7GB, <span style=\"color: #808000; text-decoration-color: #808000\">GPU</span>=<span style=\"color: #008080; text-decoration-color: #008080; font-weight: bold\">42.</span>5GB.\n",
       "</pre>\n"
      ],
      "text/plain": [
       "==> \u001b[1m[\u001b[0m\u001b[1;36m2023\u001b[0m-\u001b[1;36m08\u001b[0m-27_06-\u001b[1;36m24\u001b[0m-\u001b[1;36m08\u001b[0m\u001b[1m]\u001b[0m Finished Epoch \u001b[1;36m65\u001b[0m/\u001b[1;36m100\u001b[0m. \u001b[33mCPU\u001b[0m=\u001b[1;36m18\u001b[0m\u001b[1;36m.\u001b[0m7GB, \u001b[33mGPU\u001b[0m=\u001b[1;36m42\u001b[0m\u001b[1;36m.\u001b[0m5GB.\n"
      ]
     },
     "metadata": {},
     "output_type": "display_data"
    },
    {
     "data": {
      "text/html": [
       "<pre style=\"white-space:pre;overflow-x:auto;line-height:normal;font-family:Menlo,'DejaVu Sans Mono',consolas,'Courier New',monospace\">++&gt; Evaluate scorp_side_dmtet at epoch <span style=\"color: #008080; text-decoration-color: #008080; font-weight: bold\">65</span> <span style=\"color: #808000; text-decoration-color: #808000\">...</span>\n",
       "</pre>\n"
      ],
      "text/plain": [
       "++> Evaluate scorp_side_dmtet at epoch \u001b[1;36m65\u001b[0m \u001b[33m...\u001b[0m\n"
      ]
     },
     "metadata": {},
     "output_type": "display_data"
    },
    {
     "name": "stderr",
     "output_type": "stream",
     "text": [
      "loss=0.0000 (0.0000): : 100% 8/8 [00:00<00:00, 33.89it/s]\n"
     ]
    },
    {
     "data": {
      "text/html": [
       "<pre style=\"white-space:pre;overflow-x:auto;line-height:normal;font-family:Menlo,'DejaVu Sans Mono',consolas,'Courier New',monospace\">++&gt; Evaluate epoch <span style=\"color: #008080; text-decoration-color: #008080; font-weight: bold\">65</span> Finished.\n",
       "</pre>\n"
      ],
      "text/plain": [
       "++> Evaluate epoch \u001b[1;36m65\u001b[0m Finished.\n"
      ]
     },
     "metadata": {},
     "output_type": "display_data"
    },
    {
     "data": {
      "text/html": [
       "<pre style=\"white-space:pre;overflow-x:auto;line-height:normal;font-family:Menlo,'DejaVu Sans Mono',consolas,'Courier New',monospace\">==&gt; Start Test, save results to scorp_side_dmtet/results\n",
       "</pre>\n"
      ],
      "text/plain": [
       "==> Start Test, save results to scorp_side_dmtet/results\n"
      ]
     },
     "metadata": {},
     "output_type": "display_data"
    },
    {
     "name": "stderr",
     "output_type": "stream",
     "text": [
      " 99% 99/100 [00:01<00:00, 83.63it/s]"
     ]
    },
    {
     "data": {
      "text/html": [
       "<pre style=\"white-space:pre;overflow-x:auto;line-height:normal;font-family:Menlo,'DejaVu Sans Mono',consolas,'Courier New',monospace\">==&gt; Finished Test.\n",
       "</pre>\n"
      ],
      "text/plain": [
       "==> Finished Test.\n"
      ]
     },
     "metadata": {},
     "output_type": "display_data"
    },
    {
     "name": "stderr",
     "output_type": "stream",
     "text": [
      "100% 100/100 [00:03<00:00, 28.76it/s]\n"
     ]
    },
    {
     "data": {
      "text/html": [
       "<pre style=\"white-space:pre;overflow-x:auto;line-height:normal;font-family:Menlo,'DejaVu Sans Mono',consolas,'Courier New',monospace\">==&gt; <span style=\"font-weight: bold\">[</span><span style=\"color: #008080; text-decoration-color: #008080; font-weight: bold\">2023</span>-<span style=\"color: #008080; text-decoration-color: #008080; font-weight: bold\">08</span>-27_06-<span style=\"color: #008080; text-decoration-color: #008080; font-weight: bold\">24</span>-<span style=\"color: #008080; text-decoration-color: #008080; font-weight: bold\">12</span><span style=\"font-weight: bold\">]</span> Start Training scorp_side_dmtet Epoch <span style=\"color: #008080; text-decoration-color: #008080; font-weight: bold\">66</span>/<span style=\"color: #008080; text-decoration-color: #008080; font-weight: bold\">100</span>, <span style=\"color: #808000; text-decoration-color: #808000\">lr</span>=<span style=\"color: #008080; text-decoration-color: #008080; font-weight: bold\">0.050000</span> <span style=\"color: #808000; text-decoration-color: #808000\">...</span>\n",
       "</pre>\n"
      ],
      "text/plain": [
       "==> \u001b[1m[\u001b[0m\u001b[1;36m2023\u001b[0m-\u001b[1;36m08\u001b[0m-27_06-\u001b[1;36m24\u001b[0m-\u001b[1;36m12\u001b[0m\u001b[1m]\u001b[0m Start Training scorp_side_dmtet Epoch \u001b[1;36m66\u001b[0m/\u001b[1;36m100\u001b[0m, \u001b[33mlr\u001b[0m=\u001b[1;36m0\u001b[0m\u001b[1;36m.050000\u001b[0m \u001b[33m...\u001b[0m\n"
      ]
     },
     "metadata": {},
     "output_type": "display_data"
    },
    {
     "name": "stderr",
     "output_type": "stream",
     "text": [
      "loss=5.6868 (31.8132), lr=0.050000: : 100% 2400/2400 [00:42<00:00, 56.29it/s] \n"
     ]
    },
    {
     "data": {
      "text/html": [
       "<pre style=\"white-space:pre;overflow-x:auto;line-height:normal;font-family:Menlo,'DejaVu Sans Mono',consolas,'Courier New',monospace\">==&gt; <span style=\"font-weight: bold\">[</span><span style=\"color: #008080; text-decoration-color: #008080; font-weight: bold\">2023</span>-<span style=\"color: #008080; text-decoration-color: #008080; font-weight: bold\">08</span>-27_06-<span style=\"color: #008080; text-decoration-color: #008080; font-weight: bold\">24</span>-<span style=\"color: #008080; text-decoration-color: #008080; font-weight: bold\">55</span><span style=\"font-weight: bold\">]</span> Finished Epoch <span style=\"color: #008080; text-decoration-color: #008080; font-weight: bold\">66</span>/<span style=\"color: #008080; text-decoration-color: #008080; font-weight: bold\">100</span>. <span style=\"color: #808000; text-decoration-color: #808000\">CPU</span>=<span style=\"color: #008080; text-decoration-color: #008080; font-weight: bold\">18.</span>7GB, <span style=\"color: #808000; text-decoration-color: #808000\">GPU</span>=<span style=\"color: #008080; text-decoration-color: #008080; font-weight: bold\">42.</span>5GB.\n",
       "</pre>\n"
      ],
      "text/plain": [
       "==> \u001b[1m[\u001b[0m\u001b[1;36m2023\u001b[0m-\u001b[1;36m08\u001b[0m-27_06-\u001b[1;36m24\u001b[0m-\u001b[1;36m55\u001b[0m\u001b[1m]\u001b[0m Finished Epoch \u001b[1;36m66\u001b[0m/\u001b[1;36m100\u001b[0m. \u001b[33mCPU\u001b[0m=\u001b[1;36m18\u001b[0m\u001b[1;36m.\u001b[0m7GB, \u001b[33mGPU\u001b[0m=\u001b[1;36m42\u001b[0m\u001b[1;36m.\u001b[0m5GB.\n"
      ]
     },
     "metadata": {},
     "output_type": "display_data"
    },
    {
     "data": {
      "text/html": [
       "<pre style=\"white-space:pre;overflow-x:auto;line-height:normal;font-family:Menlo,'DejaVu Sans Mono',consolas,'Courier New',monospace\">++&gt; Evaluate scorp_side_dmtet at epoch <span style=\"color: #008080; text-decoration-color: #008080; font-weight: bold\">66</span> <span style=\"color: #808000; text-decoration-color: #808000\">...</span>\n",
       "</pre>\n"
      ],
      "text/plain": [
       "++> Evaluate scorp_side_dmtet at epoch \u001b[1;36m66\u001b[0m \u001b[33m...\u001b[0m\n"
      ]
     },
     "metadata": {},
     "output_type": "display_data"
    },
    {
     "name": "stderr",
     "output_type": "stream",
     "text": [
      "loss=0.0000 (0.0000): : 100% 8/8 [00:00<00:00, 34.43it/s]\n"
     ]
    },
    {
     "data": {
      "text/html": [
       "<pre style=\"white-space:pre;overflow-x:auto;line-height:normal;font-family:Menlo,'DejaVu Sans Mono',consolas,'Courier New',monospace\">++&gt; Evaluate epoch <span style=\"color: #008080; text-decoration-color: #008080; font-weight: bold\">66</span> Finished.\n",
       "</pre>\n"
      ],
      "text/plain": [
       "++> Evaluate epoch \u001b[1;36m66\u001b[0m Finished.\n"
      ]
     },
     "metadata": {},
     "output_type": "display_data"
    },
    {
     "data": {
      "text/html": [
       "<pre style=\"white-space:pre;overflow-x:auto;line-height:normal;font-family:Menlo,'DejaVu Sans Mono',consolas,'Courier New',monospace\">==&gt; <span style=\"font-weight: bold\">[</span><span style=\"color: #008080; text-decoration-color: #008080; font-weight: bold\">2023</span>-<span style=\"color: #008080; text-decoration-color: #008080; font-weight: bold\">08</span>-27_06-<span style=\"color: #008080; text-decoration-color: #008080; font-weight: bold\">24</span>-<span style=\"color: #008080; text-decoration-color: #008080; font-weight: bold\">56</span><span style=\"font-weight: bold\">]</span> Start Training scorp_side_dmtet Epoch <span style=\"color: #008080; text-decoration-color: #008080; font-weight: bold\">67</span>/<span style=\"color: #008080; text-decoration-color: #008080; font-weight: bold\">100</span>, <span style=\"color: #808000; text-decoration-color: #808000\">lr</span>=<span style=\"color: #008080; text-decoration-color: #008080; font-weight: bold\">0.050000</span> <span style=\"color: #808000; text-decoration-color: #808000\">...</span>\n",
       "</pre>\n"
      ],
      "text/plain": [
       "==> \u001b[1m[\u001b[0m\u001b[1;36m2023\u001b[0m-\u001b[1;36m08\u001b[0m-27_06-\u001b[1;36m24\u001b[0m-\u001b[1;36m56\u001b[0m\u001b[1m]\u001b[0m Start Training scorp_side_dmtet Epoch \u001b[1;36m67\u001b[0m/\u001b[1;36m100\u001b[0m, \u001b[33mlr\u001b[0m=\u001b[1;36m0\u001b[0m\u001b[1;36m.050000\u001b[0m \u001b[33m...\u001b[0m\n"
      ]
     },
     "metadata": {},
     "output_type": "display_data"
    },
    {
     "name": "stderr",
     "output_type": "stream",
     "text": [
      "loss=5.6756 (35.0734), lr=0.050000: : 100% 2400/2400 [00:41<00:00, 58.46it/s]  \n"
     ]
    },
    {
     "data": {
      "text/html": [
       "<pre style=\"white-space:pre;overflow-x:auto;line-height:normal;font-family:Menlo,'DejaVu Sans Mono',consolas,'Courier New',monospace\">==&gt; <span style=\"font-weight: bold\">[</span><span style=\"color: #008080; text-decoration-color: #008080; font-weight: bold\">2023</span>-<span style=\"color: #008080; text-decoration-color: #008080; font-weight: bold\">08</span>-27_06-<span style=\"color: #008080; text-decoration-color: #008080; font-weight: bold\">25</span>-<span style=\"color: #008080; text-decoration-color: #008080; font-weight: bold\">37</span><span style=\"font-weight: bold\">]</span> Finished Epoch <span style=\"color: #008080; text-decoration-color: #008080; font-weight: bold\">67</span>/<span style=\"color: #008080; text-decoration-color: #008080; font-weight: bold\">100</span>. <span style=\"color: #808000; text-decoration-color: #808000\">CPU</span>=<span style=\"color: #008080; text-decoration-color: #008080; font-weight: bold\">18.</span>7GB, <span style=\"color: #808000; text-decoration-color: #808000\">GPU</span>=<span style=\"color: #008080; text-decoration-color: #008080; font-weight: bold\">42.</span>5GB.\n",
       "</pre>\n"
      ],
      "text/plain": [
       "==> \u001b[1m[\u001b[0m\u001b[1;36m2023\u001b[0m-\u001b[1;36m08\u001b[0m-27_06-\u001b[1;36m25\u001b[0m-\u001b[1;36m37\u001b[0m\u001b[1m]\u001b[0m Finished Epoch \u001b[1;36m67\u001b[0m/\u001b[1;36m100\u001b[0m. \u001b[33mCPU\u001b[0m=\u001b[1;36m18\u001b[0m\u001b[1;36m.\u001b[0m7GB, \u001b[33mGPU\u001b[0m=\u001b[1;36m42\u001b[0m\u001b[1;36m.\u001b[0m5GB.\n"
      ]
     },
     "metadata": {},
     "output_type": "display_data"
    },
    {
     "data": {
      "text/html": [
       "<pre style=\"white-space:pre;overflow-x:auto;line-height:normal;font-family:Menlo,'DejaVu Sans Mono',consolas,'Courier New',monospace\">++&gt; Evaluate scorp_side_dmtet at epoch <span style=\"color: #008080; text-decoration-color: #008080; font-weight: bold\">67</span> <span style=\"color: #808000; text-decoration-color: #808000\">...</span>\n",
       "</pre>\n"
      ],
      "text/plain": [
       "++> Evaluate scorp_side_dmtet at epoch \u001b[1;36m67\u001b[0m \u001b[33m...\u001b[0m\n"
      ]
     },
     "metadata": {},
     "output_type": "display_data"
    },
    {
     "name": "stderr",
     "output_type": "stream",
     "text": [
      "loss=0.0000 (0.0000): : 100% 8/8 [00:00<00:00, 34.65it/s]\n"
     ]
    },
    {
     "data": {
      "text/html": [
       "<pre style=\"white-space:pre;overflow-x:auto;line-height:normal;font-family:Menlo,'DejaVu Sans Mono',consolas,'Courier New',monospace\">++&gt; Evaluate epoch <span style=\"color: #008080; text-decoration-color: #008080; font-weight: bold\">67</span> Finished.\n",
       "</pre>\n"
      ],
      "text/plain": [
       "++> Evaluate epoch \u001b[1;36m67\u001b[0m Finished.\n"
      ]
     },
     "metadata": {},
     "output_type": "display_data"
    },
    {
     "data": {
      "text/html": [
       "<pre style=\"white-space:pre;overflow-x:auto;line-height:normal;font-family:Menlo,'DejaVu Sans Mono',consolas,'Courier New',monospace\">==&gt; <span style=\"font-weight: bold\">[</span><span style=\"color: #008080; text-decoration-color: #008080; font-weight: bold\">2023</span>-<span style=\"color: #008080; text-decoration-color: #008080; font-weight: bold\">08</span>-27_06-<span style=\"color: #008080; text-decoration-color: #008080; font-weight: bold\">25</span>-<span style=\"color: #008080; text-decoration-color: #008080; font-weight: bold\">37</span><span style=\"font-weight: bold\">]</span> Start Training scorp_side_dmtet Epoch <span style=\"color: #008080; text-decoration-color: #008080; font-weight: bold\">68</span>/<span style=\"color: #008080; text-decoration-color: #008080; font-weight: bold\">100</span>, <span style=\"color: #808000; text-decoration-color: #808000\">lr</span>=<span style=\"color: #008080; text-decoration-color: #008080; font-weight: bold\">0.050000</span> <span style=\"color: #808000; text-decoration-color: #808000\">...</span>\n",
       "</pre>\n"
      ],
      "text/plain": [
       "==> \u001b[1m[\u001b[0m\u001b[1;36m2023\u001b[0m-\u001b[1;36m08\u001b[0m-27_06-\u001b[1;36m25\u001b[0m-\u001b[1;36m37\u001b[0m\u001b[1m]\u001b[0m Start Training scorp_side_dmtet Epoch \u001b[1;36m68\u001b[0m/\u001b[1;36m100\u001b[0m, \u001b[33mlr\u001b[0m=\u001b[1;36m0\u001b[0m\u001b[1;36m.050000\u001b[0m \u001b[33m...\u001b[0m\n"
      ]
     },
     "metadata": {},
     "output_type": "display_data"
    },
    {
     "name": "stderr",
     "output_type": "stream",
     "text": [
      "loss=5.6729 (33.1592), lr=0.050000: : 100% 2400/2400 [00:41<00:00, 57.68it/s] \n"
     ]
    },
    {
     "data": {
      "text/html": [
       "<pre style=\"white-space:pre;overflow-x:auto;line-height:normal;font-family:Menlo,'DejaVu Sans Mono',consolas,'Courier New',monospace\">==&gt; <span style=\"font-weight: bold\">[</span><span style=\"color: #008080; text-decoration-color: #008080; font-weight: bold\">2023</span>-<span style=\"color: #008080; text-decoration-color: #008080; font-weight: bold\">08</span>-27_06-<span style=\"color: #008080; text-decoration-color: #008080; font-weight: bold\">26</span>-<span style=\"color: #008080; text-decoration-color: #008080; font-weight: bold\">19</span><span style=\"font-weight: bold\">]</span> Finished Epoch <span style=\"color: #008080; text-decoration-color: #008080; font-weight: bold\">68</span>/<span style=\"color: #008080; text-decoration-color: #008080; font-weight: bold\">100</span>. <span style=\"color: #808000; text-decoration-color: #808000\">CPU</span>=<span style=\"color: #008080; text-decoration-color: #008080; font-weight: bold\">18.</span>7GB, <span style=\"color: #808000; text-decoration-color: #808000\">GPU</span>=<span style=\"color: #008080; text-decoration-color: #008080; font-weight: bold\">42.</span>5GB.\n",
       "</pre>\n"
      ],
      "text/plain": [
       "==> \u001b[1m[\u001b[0m\u001b[1;36m2023\u001b[0m-\u001b[1;36m08\u001b[0m-27_06-\u001b[1;36m26\u001b[0m-\u001b[1;36m19\u001b[0m\u001b[1m]\u001b[0m Finished Epoch \u001b[1;36m68\u001b[0m/\u001b[1;36m100\u001b[0m. \u001b[33mCPU\u001b[0m=\u001b[1;36m18\u001b[0m\u001b[1;36m.\u001b[0m7GB, \u001b[33mGPU\u001b[0m=\u001b[1;36m42\u001b[0m\u001b[1;36m.\u001b[0m5GB.\n"
      ]
     },
     "metadata": {},
     "output_type": "display_data"
    },
    {
     "data": {
      "text/html": [
       "<pre style=\"white-space:pre;overflow-x:auto;line-height:normal;font-family:Menlo,'DejaVu Sans Mono',consolas,'Courier New',monospace\">++&gt; Evaluate scorp_side_dmtet at epoch <span style=\"color: #008080; text-decoration-color: #008080; font-weight: bold\">68</span> <span style=\"color: #808000; text-decoration-color: #808000\">...</span>\n",
       "</pre>\n"
      ],
      "text/plain": [
       "++> Evaluate scorp_side_dmtet at epoch \u001b[1;36m68\u001b[0m \u001b[33m...\u001b[0m\n"
      ]
     },
     "metadata": {},
     "output_type": "display_data"
    },
    {
     "name": "stderr",
     "output_type": "stream",
     "text": [
      "loss=0.0000 (0.0000): : 100% 8/8 [00:00<00:00, 35.05it/s]\n"
     ]
    },
    {
     "data": {
      "text/html": [
       "<pre style=\"white-space:pre;overflow-x:auto;line-height:normal;font-family:Menlo,'DejaVu Sans Mono',consolas,'Courier New',monospace\">++&gt; Evaluate epoch <span style=\"color: #008080; text-decoration-color: #008080; font-weight: bold\">68</span> Finished.\n",
       "</pre>\n"
      ],
      "text/plain": [
       "++> Evaluate epoch \u001b[1;36m68\u001b[0m Finished.\n"
      ]
     },
     "metadata": {},
     "output_type": "display_data"
    },
    {
     "data": {
      "text/html": [
       "<pre style=\"white-space:pre;overflow-x:auto;line-height:normal;font-family:Menlo,'DejaVu Sans Mono',consolas,'Courier New',monospace\">==&gt; <span style=\"font-weight: bold\">[</span><span style=\"color: #008080; text-decoration-color: #008080; font-weight: bold\">2023</span>-<span style=\"color: #008080; text-decoration-color: #008080; font-weight: bold\">08</span>-27_06-<span style=\"color: #008080; text-decoration-color: #008080; font-weight: bold\">26</span>-<span style=\"color: #008080; text-decoration-color: #008080; font-weight: bold\">20</span><span style=\"font-weight: bold\">]</span> Start Training scorp_side_dmtet Epoch <span style=\"color: #008080; text-decoration-color: #008080; font-weight: bold\">69</span>/<span style=\"color: #008080; text-decoration-color: #008080; font-weight: bold\">100</span>, <span style=\"color: #808000; text-decoration-color: #808000\">lr</span>=<span style=\"color: #008080; text-decoration-color: #008080; font-weight: bold\">0.050000</span> <span style=\"color: #808000; text-decoration-color: #808000\">...</span>\n",
       "</pre>\n"
      ],
      "text/plain": [
       "==> \u001b[1m[\u001b[0m\u001b[1;36m2023\u001b[0m-\u001b[1;36m08\u001b[0m-27_06-\u001b[1;36m26\u001b[0m-\u001b[1;36m20\u001b[0m\u001b[1m]\u001b[0m Start Training scorp_side_dmtet Epoch \u001b[1;36m69\u001b[0m/\u001b[1;36m100\u001b[0m, \u001b[33mlr\u001b[0m=\u001b[1;36m0\u001b[0m\u001b[1;36m.050000\u001b[0m \u001b[33m...\u001b[0m\n"
      ]
     },
     "metadata": {},
     "output_type": "display_data"
    },
    {
     "name": "stderr",
     "output_type": "stream",
     "text": [
      "loss=5.5965 (33.0928), lr=0.050000: : 100% 2400/2400 [00:42<00:00, 56.94it/s]  \n"
     ]
    },
    {
     "data": {
      "text/html": [
       "<pre style=\"white-space:pre;overflow-x:auto;line-height:normal;font-family:Menlo,'DejaVu Sans Mono',consolas,'Courier New',monospace\">==&gt; <span style=\"font-weight: bold\">[</span><span style=\"color: #008080; text-decoration-color: #008080; font-weight: bold\">2023</span>-<span style=\"color: #008080; text-decoration-color: #008080; font-weight: bold\">08</span>-27_06-<span style=\"color: #008080; text-decoration-color: #008080; font-weight: bold\">27</span>-<span style=\"color: #008080; text-decoration-color: #008080; font-weight: bold\">02</span><span style=\"font-weight: bold\">]</span> Finished Epoch <span style=\"color: #008080; text-decoration-color: #008080; font-weight: bold\">69</span>/<span style=\"color: #008080; text-decoration-color: #008080; font-weight: bold\">100</span>. <span style=\"color: #808000; text-decoration-color: #808000\">CPU</span>=<span style=\"color: #008080; text-decoration-color: #008080; font-weight: bold\">18.</span>7GB, <span style=\"color: #808000; text-decoration-color: #808000\">GPU</span>=<span style=\"color: #008080; text-decoration-color: #008080; font-weight: bold\">42.</span>5GB.\n",
       "</pre>\n"
      ],
      "text/plain": [
       "==> \u001b[1m[\u001b[0m\u001b[1;36m2023\u001b[0m-\u001b[1;36m08\u001b[0m-27_06-\u001b[1;36m27\u001b[0m-\u001b[1;36m02\u001b[0m\u001b[1m]\u001b[0m Finished Epoch \u001b[1;36m69\u001b[0m/\u001b[1;36m100\u001b[0m. \u001b[33mCPU\u001b[0m=\u001b[1;36m18\u001b[0m\u001b[1;36m.\u001b[0m7GB, \u001b[33mGPU\u001b[0m=\u001b[1;36m42\u001b[0m\u001b[1;36m.\u001b[0m5GB.\n"
      ]
     },
     "metadata": {},
     "output_type": "display_data"
    },
    {
     "data": {
      "text/html": [
       "<pre style=\"white-space:pre;overflow-x:auto;line-height:normal;font-family:Menlo,'DejaVu Sans Mono',consolas,'Courier New',monospace\">++&gt; Evaluate scorp_side_dmtet at epoch <span style=\"color: #008080; text-decoration-color: #008080; font-weight: bold\">69</span> <span style=\"color: #808000; text-decoration-color: #808000\">...</span>\n",
       "</pre>\n"
      ],
      "text/plain": [
       "++> Evaluate scorp_side_dmtet at epoch \u001b[1;36m69\u001b[0m \u001b[33m...\u001b[0m\n"
      ]
     },
     "metadata": {},
     "output_type": "display_data"
    },
    {
     "name": "stderr",
     "output_type": "stream",
     "text": [
      "loss=0.0000 (0.0000): : 100% 8/8 [00:00<00:00, 34.91it/s]\n"
     ]
    },
    {
     "data": {
      "text/html": [
       "<pre style=\"white-space:pre;overflow-x:auto;line-height:normal;font-family:Menlo,'DejaVu Sans Mono',consolas,'Courier New',monospace\">++&gt; Evaluate epoch <span style=\"color: #008080; text-decoration-color: #008080; font-weight: bold\">69</span> Finished.\n",
       "</pre>\n"
      ],
      "text/plain": [
       "++> Evaluate epoch \u001b[1;36m69\u001b[0m Finished.\n"
      ]
     },
     "metadata": {},
     "output_type": "display_data"
    },
    {
     "data": {
      "text/html": [
       "<pre style=\"white-space:pre;overflow-x:auto;line-height:normal;font-family:Menlo,'DejaVu Sans Mono',consolas,'Courier New',monospace\">==&gt; <span style=\"font-weight: bold\">[</span><span style=\"color: #008080; text-decoration-color: #008080; font-weight: bold\">2023</span>-<span style=\"color: #008080; text-decoration-color: #008080; font-weight: bold\">08</span>-27_06-<span style=\"color: #008080; text-decoration-color: #008080; font-weight: bold\">27</span>-<span style=\"color: #008080; text-decoration-color: #008080; font-weight: bold\">03</span><span style=\"font-weight: bold\">]</span> Start Training scorp_side_dmtet Epoch <span style=\"color: #008080; text-decoration-color: #008080; font-weight: bold\">70</span>/<span style=\"color: #008080; text-decoration-color: #008080; font-weight: bold\">100</span>, <span style=\"color: #808000; text-decoration-color: #808000\">lr</span>=<span style=\"color: #008080; text-decoration-color: #008080; font-weight: bold\">0.050000</span> <span style=\"color: #808000; text-decoration-color: #808000\">...</span>\n",
       "</pre>\n"
      ],
      "text/plain": [
       "==> \u001b[1m[\u001b[0m\u001b[1;36m2023\u001b[0m-\u001b[1;36m08\u001b[0m-27_06-\u001b[1;36m27\u001b[0m-\u001b[1;36m03\u001b[0m\u001b[1m]\u001b[0m Start Training scorp_side_dmtet Epoch \u001b[1;36m70\u001b[0m/\u001b[1;36m100\u001b[0m, \u001b[33mlr\u001b[0m=\u001b[1;36m0\u001b[0m\u001b[1;36m.050000\u001b[0m \u001b[33m...\u001b[0m\n"
      ]
     },
     "metadata": {},
     "output_type": "display_data"
    },
    {
     "name": "stderr",
     "output_type": "stream",
     "text": [
      "loss=5.5729 (33.4460), lr=0.050000: : 100% 2400/2400 [00:41<00:00, 57.44it/s] \n"
     ]
    },
    {
     "data": {
      "text/html": [
       "<pre style=\"white-space:pre;overflow-x:auto;line-height:normal;font-family:Menlo,'DejaVu Sans Mono',consolas,'Courier New',monospace\">==&gt; <span style=\"font-weight: bold\">[</span><span style=\"color: #008080; text-decoration-color: #008080; font-weight: bold\">2023</span>-<span style=\"color: #008080; text-decoration-color: #008080; font-weight: bold\">08</span>-27_06-<span style=\"color: #008080; text-decoration-color: #008080; font-weight: bold\">27</span>-<span style=\"color: #008080; text-decoration-color: #008080; font-weight: bold\">44</span><span style=\"font-weight: bold\">]</span> Finished Epoch <span style=\"color: #008080; text-decoration-color: #008080; font-weight: bold\">70</span>/<span style=\"color: #008080; text-decoration-color: #008080; font-weight: bold\">100</span>. <span style=\"color: #808000; text-decoration-color: #808000\">CPU</span>=<span style=\"color: #008080; text-decoration-color: #008080; font-weight: bold\">18.</span>7GB, <span style=\"color: #808000; text-decoration-color: #808000\">GPU</span>=<span style=\"color: #008080; text-decoration-color: #008080; font-weight: bold\">42.</span>5GB.\n",
       "</pre>\n"
      ],
      "text/plain": [
       "==> \u001b[1m[\u001b[0m\u001b[1;36m2023\u001b[0m-\u001b[1;36m08\u001b[0m-27_06-\u001b[1;36m27\u001b[0m-\u001b[1;36m44\u001b[0m\u001b[1m]\u001b[0m Finished Epoch \u001b[1;36m70\u001b[0m/\u001b[1;36m100\u001b[0m. \u001b[33mCPU\u001b[0m=\u001b[1;36m18\u001b[0m\u001b[1;36m.\u001b[0m7GB, \u001b[33mGPU\u001b[0m=\u001b[1;36m42\u001b[0m\u001b[1;36m.\u001b[0m5GB.\n"
      ]
     },
     "metadata": {},
     "output_type": "display_data"
    },
    {
     "data": {
      "text/html": [
       "<pre style=\"white-space:pre;overflow-x:auto;line-height:normal;font-family:Menlo,'DejaVu Sans Mono',consolas,'Courier New',monospace\">++&gt; Evaluate scorp_side_dmtet at epoch <span style=\"color: #008080; text-decoration-color: #008080; font-weight: bold\">70</span> <span style=\"color: #808000; text-decoration-color: #808000\">...</span>\n",
       "</pre>\n"
      ],
      "text/plain": [
       "++> Evaluate scorp_side_dmtet at epoch \u001b[1;36m70\u001b[0m \u001b[33m...\u001b[0m\n"
      ]
     },
     "metadata": {},
     "output_type": "display_data"
    },
    {
     "name": "stderr",
     "output_type": "stream",
     "text": [
      "loss=0.0000 (0.0000): : 100% 8/8 [00:00<00:00, 31.41it/s]\n"
     ]
    },
    {
     "data": {
      "text/html": [
       "<pre style=\"white-space:pre;overflow-x:auto;line-height:normal;font-family:Menlo,'DejaVu Sans Mono',consolas,'Courier New',monospace\">++&gt; Evaluate epoch <span style=\"color: #008080; text-decoration-color: #008080; font-weight: bold\">70</span> Finished.\n",
       "</pre>\n"
      ],
      "text/plain": [
       "++> Evaluate epoch \u001b[1;36m70\u001b[0m Finished.\n"
      ]
     },
     "metadata": {},
     "output_type": "display_data"
    },
    {
     "data": {
      "text/html": [
       "<pre style=\"white-space:pre;overflow-x:auto;line-height:normal;font-family:Menlo,'DejaVu Sans Mono',consolas,'Courier New',monospace\">==&gt; Start Test, save results to scorp_side_dmtet/results\n",
       "</pre>\n"
      ],
      "text/plain": [
       "==> Start Test, save results to scorp_side_dmtet/results\n"
      ]
     },
     "metadata": {},
     "output_type": "display_data"
    },
    {
     "name": "stderr",
     "output_type": "stream",
     "text": [
      " 99% 99/100 [00:01<00:00, 86.20it/s]"
     ]
    },
    {
     "data": {
      "text/html": [
       "<pre style=\"white-space:pre;overflow-x:auto;line-height:normal;font-family:Menlo,'DejaVu Sans Mono',consolas,'Courier New',monospace\">==&gt; Finished Test.\n",
       "</pre>\n"
      ],
      "text/plain": [
       "==> Finished Test.\n"
      ]
     },
     "metadata": {},
     "output_type": "display_data"
    },
    {
     "name": "stderr",
     "output_type": "stream",
     "text": [
      "100% 100/100 [00:03<00:00, 30.43it/s]\n"
     ]
    },
    {
     "data": {
      "text/html": [
       "<pre style=\"white-space:pre;overflow-x:auto;line-height:normal;font-family:Menlo,'DejaVu Sans Mono',consolas,'Courier New',monospace\">==&gt; <span style=\"font-weight: bold\">[</span><span style=\"color: #008080; text-decoration-color: #008080; font-weight: bold\">2023</span>-<span style=\"color: #008080; text-decoration-color: #008080; font-weight: bold\">08</span>-27_06-<span style=\"color: #008080; text-decoration-color: #008080; font-weight: bold\">27</span>-<span style=\"color: #008080; text-decoration-color: #008080; font-weight: bold\">48</span><span style=\"font-weight: bold\">]</span> Start Training scorp_side_dmtet Epoch <span style=\"color: #008080; text-decoration-color: #008080; font-weight: bold\">71</span>/<span style=\"color: #008080; text-decoration-color: #008080; font-weight: bold\">100</span>, <span style=\"color: #808000; text-decoration-color: #808000\">lr</span>=<span style=\"color: #008080; text-decoration-color: #008080; font-weight: bold\">0.050000</span> <span style=\"color: #808000; text-decoration-color: #808000\">...</span>\n",
       "</pre>\n"
      ],
      "text/plain": [
       "==> \u001b[1m[\u001b[0m\u001b[1;36m2023\u001b[0m-\u001b[1;36m08\u001b[0m-27_06-\u001b[1;36m27\u001b[0m-\u001b[1;36m48\u001b[0m\u001b[1m]\u001b[0m Start Training scorp_side_dmtet Epoch \u001b[1;36m71\u001b[0m/\u001b[1;36m100\u001b[0m, \u001b[33mlr\u001b[0m=\u001b[1;36m0\u001b[0m\u001b[1;36m.050000\u001b[0m \u001b[33m...\u001b[0m\n"
      ]
     },
     "metadata": {},
     "output_type": "display_data"
    },
    {
     "name": "stderr",
     "output_type": "stream",
     "text": [
      "loss=5.6127 (34.8943), lr=0.050000: : 100% 2400/2400 [00:41<00:00, 57.66it/s]  \n"
     ]
    },
    {
     "data": {
      "text/html": [
       "<pre style=\"white-space:pre;overflow-x:auto;line-height:normal;font-family:Menlo,'DejaVu Sans Mono',consolas,'Courier New',monospace\">==&gt; <span style=\"font-weight: bold\">[</span><span style=\"color: #008080; text-decoration-color: #008080; font-weight: bold\">2023</span>-<span style=\"color: #008080; text-decoration-color: #008080; font-weight: bold\">08</span>-27_06-<span style=\"color: #008080; text-decoration-color: #008080; font-weight: bold\">28</span>-<span style=\"color: #008080; text-decoration-color: #008080; font-weight: bold\">30</span><span style=\"font-weight: bold\">]</span> Finished Epoch <span style=\"color: #008080; text-decoration-color: #008080; font-weight: bold\">71</span>/<span style=\"color: #008080; text-decoration-color: #008080; font-weight: bold\">100</span>. <span style=\"color: #808000; text-decoration-color: #808000\">CPU</span>=<span style=\"color: #008080; text-decoration-color: #008080; font-weight: bold\">18.</span>7GB, <span style=\"color: #808000; text-decoration-color: #808000\">GPU</span>=<span style=\"color: #008080; text-decoration-color: #008080; font-weight: bold\">42.</span>5GB.\n",
       "</pre>\n"
      ],
      "text/plain": [
       "==> \u001b[1m[\u001b[0m\u001b[1;36m2023\u001b[0m-\u001b[1;36m08\u001b[0m-27_06-\u001b[1;36m28\u001b[0m-\u001b[1;36m30\u001b[0m\u001b[1m]\u001b[0m Finished Epoch \u001b[1;36m71\u001b[0m/\u001b[1;36m100\u001b[0m. \u001b[33mCPU\u001b[0m=\u001b[1;36m18\u001b[0m\u001b[1;36m.\u001b[0m7GB, \u001b[33mGPU\u001b[0m=\u001b[1;36m42\u001b[0m\u001b[1;36m.\u001b[0m5GB.\n"
      ]
     },
     "metadata": {},
     "output_type": "display_data"
    },
    {
     "data": {
      "text/html": [
       "<pre style=\"white-space:pre;overflow-x:auto;line-height:normal;font-family:Menlo,'DejaVu Sans Mono',consolas,'Courier New',monospace\">++&gt; Evaluate scorp_side_dmtet at epoch <span style=\"color: #008080; text-decoration-color: #008080; font-weight: bold\">71</span> <span style=\"color: #808000; text-decoration-color: #808000\">...</span>\n",
       "</pre>\n"
      ],
      "text/plain": [
       "++> Evaluate scorp_side_dmtet at epoch \u001b[1;36m71\u001b[0m \u001b[33m...\u001b[0m\n"
      ]
     },
     "metadata": {},
     "output_type": "display_data"
    },
    {
     "name": "stderr",
     "output_type": "stream",
     "text": [
      "loss=0.0000 (0.0000): : 100% 8/8 [00:00<00:00, 35.42it/s]\n"
     ]
    },
    {
     "data": {
      "text/html": [
       "<pre style=\"white-space:pre;overflow-x:auto;line-height:normal;font-family:Menlo,'DejaVu Sans Mono',consolas,'Courier New',monospace\">++&gt; Evaluate epoch <span style=\"color: #008080; text-decoration-color: #008080; font-weight: bold\">71</span> Finished.\n",
       "</pre>\n"
      ],
      "text/plain": [
       "++> Evaluate epoch \u001b[1;36m71\u001b[0m Finished.\n"
      ]
     },
     "metadata": {},
     "output_type": "display_data"
    },
    {
     "data": {
      "text/html": [
       "<pre style=\"white-space:pre;overflow-x:auto;line-height:normal;font-family:Menlo,'DejaVu Sans Mono',consolas,'Courier New',monospace\">==&gt; <span style=\"font-weight: bold\">[</span><span style=\"color: #008080; text-decoration-color: #008080; font-weight: bold\">2023</span>-<span style=\"color: #008080; text-decoration-color: #008080; font-weight: bold\">08</span>-27_06-<span style=\"color: #008080; text-decoration-color: #008080; font-weight: bold\">28</span>-<span style=\"color: #008080; text-decoration-color: #008080; font-weight: bold\">31</span><span style=\"font-weight: bold\">]</span> Start Training scorp_side_dmtet Epoch <span style=\"color: #008080; text-decoration-color: #008080; font-weight: bold\">72</span>/<span style=\"color: #008080; text-decoration-color: #008080; font-weight: bold\">100</span>, <span style=\"color: #808000; text-decoration-color: #808000\">lr</span>=<span style=\"color: #008080; text-decoration-color: #008080; font-weight: bold\">0.050000</span> <span style=\"color: #808000; text-decoration-color: #808000\">...</span>\n",
       "</pre>\n"
      ],
      "text/plain": [
       "==> \u001b[1m[\u001b[0m\u001b[1;36m2023\u001b[0m-\u001b[1;36m08\u001b[0m-27_06-\u001b[1;36m28\u001b[0m-\u001b[1;36m31\u001b[0m\u001b[1m]\u001b[0m Start Training scorp_side_dmtet Epoch \u001b[1;36m72\u001b[0m/\u001b[1;36m100\u001b[0m, \u001b[33mlr\u001b[0m=\u001b[1;36m0\u001b[0m\u001b[1;36m.050000\u001b[0m \u001b[33m...\u001b[0m\n"
      ]
     },
     "metadata": {},
     "output_type": "display_data"
    },
    {
     "name": "stderr",
     "output_type": "stream",
     "text": [
      "loss=5.5713 (36.1966), lr=0.050000: : 100% 2400/2400 [00:41<00:00, 57.53it/s]  \n"
     ]
    },
    {
     "data": {
      "text/html": [
       "<pre style=\"white-space:pre;overflow-x:auto;line-height:normal;font-family:Menlo,'DejaVu Sans Mono',consolas,'Courier New',monospace\">==&gt; <span style=\"font-weight: bold\">[</span><span style=\"color: #008080; text-decoration-color: #008080; font-weight: bold\">2023</span>-<span style=\"color: #008080; text-decoration-color: #008080; font-weight: bold\">08</span>-27_06-<span style=\"color: #008080; text-decoration-color: #008080; font-weight: bold\">29</span>-<span style=\"color: #008080; text-decoration-color: #008080; font-weight: bold\">12</span><span style=\"font-weight: bold\">]</span> Finished Epoch <span style=\"color: #008080; text-decoration-color: #008080; font-weight: bold\">72</span>/<span style=\"color: #008080; text-decoration-color: #008080; font-weight: bold\">100</span>. <span style=\"color: #808000; text-decoration-color: #808000\">CPU</span>=<span style=\"color: #008080; text-decoration-color: #008080; font-weight: bold\">18.</span>7GB, <span style=\"color: #808000; text-decoration-color: #808000\">GPU</span>=<span style=\"color: #008080; text-decoration-color: #008080; font-weight: bold\">42.</span>5GB.\n",
       "</pre>\n"
      ],
      "text/plain": [
       "==> \u001b[1m[\u001b[0m\u001b[1;36m2023\u001b[0m-\u001b[1;36m08\u001b[0m-27_06-\u001b[1;36m29\u001b[0m-\u001b[1;36m12\u001b[0m\u001b[1m]\u001b[0m Finished Epoch \u001b[1;36m72\u001b[0m/\u001b[1;36m100\u001b[0m. \u001b[33mCPU\u001b[0m=\u001b[1;36m18\u001b[0m\u001b[1;36m.\u001b[0m7GB, \u001b[33mGPU\u001b[0m=\u001b[1;36m42\u001b[0m\u001b[1;36m.\u001b[0m5GB.\n"
      ]
     },
     "metadata": {},
     "output_type": "display_data"
    },
    {
     "data": {
      "text/html": [
       "<pre style=\"white-space:pre;overflow-x:auto;line-height:normal;font-family:Menlo,'DejaVu Sans Mono',consolas,'Courier New',monospace\">++&gt; Evaluate scorp_side_dmtet at epoch <span style=\"color: #008080; text-decoration-color: #008080; font-weight: bold\">72</span> <span style=\"color: #808000; text-decoration-color: #808000\">...</span>\n",
       "</pre>\n"
      ],
      "text/plain": [
       "++> Evaluate scorp_side_dmtet at epoch \u001b[1;36m72\u001b[0m \u001b[33m...\u001b[0m\n"
      ]
     },
     "metadata": {},
     "output_type": "display_data"
    },
    {
     "name": "stderr",
     "output_type": "stream",
     "text": [
      "loss=0.0000 (0.0000): : 100% 8/8 [00:00<00:00, 35.36it/s]\n"
     ]
    },
    {
     "data": {
      "text/html": [
       "<pre style=\"white-space:pre;overflow-x:auto;line-height:normal;font-family:Menlo,'DejaVu Sans Mono',consolas,'Courier New',monospace\">++&gt; Evaluate epoch <span style=\"color: #008080; text-decoration-color: #008080; font-weight: bold\">72</span> Finished.\n",
       "</pre>\n"
      ],
      "text/plain": [
       "++> Evaluate epoch \u001b[1;36m72\u001b[0m Finished.\n"
      ]
     },
     "metadata": {},
     "output_type": "display_data"
    },
    {
     "data": {
      "text/html": [
       "<pre style=\"white-space:pre;overflow-x:auto;line-height:normal;font-family:Menlo,'DejaVu Sans Mono',consolas,'Courier New',monospace\">==&gt; <span style=\"font-weight: bold\">[</span><span style=\"color: #008080; text-decoration-color: #008080; font-weight: bold\">2023</span>-<span style=\"color: #008080; text-decoration-color: #008080; font-weight: bold\">08</span>-27_06-<span style=\"color: #008080; text-decoration-color: #008080; font-weight: bold\">29</span>-<span style=\"color: #008080; text-decoration-color: #008080; font-weight: bold\">13</span><span style=\"font-weight: bold\">]</span> Start Training scorp_side_dmtet Epoch <span style=\"color: #008080; text-decoration-color: #008080; font-weight: bold\">73</span>/<span style=\"color: #008080; text-decoration-color: #008080; font-weight: bold\">100</span>, <span style=\"color: #808000; text-decoration-color: #808000\">lr</span>=<span style=\"color: #008080; text-decoration-color: #008080; font-weight: bold\">0.050000</span> <span style=\"color: #808000; text-decoration-color: #808000\">...</span>\n",
       "</pre>\n"
      ],
      "text/plain": [
       "==> \u001b[1m[\u001b[0m\u001b[1;36m2023\u001b[0m-\u001b[1;36m08\u001b[0m-27_06-\u001b[1;36m29\u001b[0m-\u001b[1;36m13\u001b[0m\u001b[1m]\u001b[0m Start Training scorp_side_dmtet Epoch \u001b[1;36m73\u001b[0m/\u001b[1;36m100\u001b[0m, \u001b[33mlr\u001b[0m=\u001b[1;36m0\u001b[0m\u001b[1;36m.050000\u001b[0m \u001b[33m...\u001b[0m\n"
      ]
     },
     "metadata": {},
     "output_type": "display_data"
    },
    {
     "name": "stderr",
     "output_type": "stream",
     "text": [
      "loss=5.5810 (36.1541), lr=0.050000: : 100% 2400/2400 [00:42<00:00, 56.34it/s]  \n"
     ]
    },
    {
     "data": {
      "text/html": [
       "<pre style=\"white-space:pre;overflow-x:auto;line-height:normal;font-family:Menlo,'DejaVu Sans Mono',consolas,'Courier New',monospace\">==&gt; <span style=\"font-weight: bold\">[</span><span style=\"color: #008080; text-decoration-color: #008080; font-weight: bold\">2023</span>-<span style=\"color: #008080; text-decoration-color: #008080; font-weight: bold\">08</span>-27_06-<span style=\"color: #008080; text-decoration-color: #008080; font-weight: bold\">29</span>-<span style=\"color: #008080; text-decoration-color: #008080; font-weight: bold\">56</span><span style=\"font-weight: bold\">]</span> Finished Epoch <span style=\"color: #008080; text-decoration-color: #008080; font-weight: bold\">73</span>/<span style=\"color: #008080; text-decoration-color: #008080; font-weight: bold\">100</span>. <span style=\"color: #808000; text-decoration-color: #808000\">CPU</span>=<span style=\"color: #008080; text-decoration-color: #008080; font-weight: bold\">18.</span>7GB, <span style=\"color: #808000; text-decoration-color: #808000\">GPU</span>=<span style=\"color: #008080; text-decoration-color: #008080; font-weight: bold\">42.</span>5GB.\n",
       "</pre>\n"
      ],
      "text/plain": [
       "==> \u001b[1m[\u001b[0m\u001b[1;36m2023\u001b[0m-\u001b[1;36m08\u001b[0m-27_06-\u001b[1;36m29\u001b[0m-\u001b[1;36m56\u001b[0m\u001b[1m]\u001b[0m Finished Epoch \u001b[1;36m73\u001b[0m/\u001b[1;36m100\u001b[0m. \u001b[33mCPU\u001b[0m=\u001b[1;36m18\u001b[0m\u001b[1;36m.\u001b[0m7GB, \u001b[33mGPU\u001b[0m=\u001b[1;36m42\u001b[0m\u001b[1;36m.\u001b[0m5GB.\n"
      ]
     },
     "metadata": {},
     "output_type": "display_data"
    },
    {
     "data": {
      "text/html": [
       "<pre style=\"white-space:pre;overflow-x:auto;line-height:normal;font-family:Menlo,'DejaVu Sans Mono',consolas,'Courier New',monospace\">++&gt; Evaluate scorp_side_dmtet at epoch <span style=\"color: #008080; text-decoration-color: #008080; font-weight: bold\">73</span> <span style=\"color: #808000; text-decoration-color: #808000\">...</span>\n",
       "</pre>\n"
      ],
      "text/plain": [
       "++> Evaluate scorp_side_dmtet at epoch \u001b[1;36m73\u001b[0m \u001b[33m...\u001b[0m\n"
      ]
     },
     "metadata": {},
     "output_type": "display_data"
    },
    {
     "name": "stderr",
     "output_type": "stream",
     "text": [
      "loss=0.0000 (0.0000): : 100% 8/8 [00:00<00:00, 34.01it/s]\n"
     ]
    },
    {
     "data": {
      "text/html": [
       "<pre style=\"white-space:pre;overflow-x:auto;line-height:normal;font-family:Menlo,'DejaVu Sans Mono',consolas,'Courier New',monospace\">++&gt; Evaluate epoch <span style=\"color: #008080; text-decoration-color: #008080; font-weight: bold\">73</span> Finished.\n",
       "</pre>\n"
      ],
      "text/plain": [
       "++> Evaluate epoch \u001b[1;36m73\u001b[0m Finished.\n"
      ]
     },
     "metadata": {},
     "output_type": "display_data"
    },
    {
     "data": {
      "text/html": [
       "<pre style=\"white-space:pre;overflow-x:auto;line-height:normal;font-family:Menlo,'DejaVu Sans Mono',consolas,'Courier New',monospace\">==&gt; <span style=\"font-weight: bold\">[</span><span style=\"color: #008080; text-decoration-color: #008080; font-weight: bold\">2023</span>-<span style=\"color: #008080; text-decoration-color: #008080; font-weight: bold\">08</span>-27_06-<span style=\"color: #008080; text-decoration-color: #008080; font-weight: bold\">29</span>-<span style=\"color: #008080; text-decoration-color: #008080; font-weight: bold\">56</span><span style=\"font-weight: bold\">]</span> Start Training scorp_side_dmtet Epoch <span style=\"color: #008080; text-decoration-color: #008080; font-weight: bold\">74</span>/<span style=\"color: #008080; text-decoration-color: #008080; font-weight: bold\">100</span>, <span style=\"color: #808000; text-decoration-color: #808000\">lr</span>=<span style=\"color: #008080; text-decoration-color: #008080; font-weight: bold\">0.050000</span> <span style=\"color: #808000; text-decoration-color: #808000\">...</span>\n",
       "</pre>\n"
      ],
      "text/plain": [
       "==> \u001b[1m[\u001b[0m\u001b[1;36m2023\u001b[0m-\u001b[1;36m08\u001b[0m-27_06-\u001b[1;36m29\u001b[0m-\u001b[1;36m56\u001b[0m\u001b[1m]\u001b[0m Start Training scorp_side_dmtet Epoch \u001b[1;36m74\u001b[0m/\u001b[1;36m100\u001b[0m, \u001b[33mlr\u001b[0m=\u001b[1;36m0\u001b[0m\u001b[1;36m.050000\u001b[0m \u001b[33m...\u001b[0m\n"
      ]
     },
     "metadata": {},
     "output_type": "display_data"
    },
    {
     "name": "stderr",
     "output_type": "stream",
     "text": [
      "loss=5.6423 (35.3587), lr=0.050000: : 100% 2400/2400 [00:41<00:00, 57.46it/s]  \n"
     ]
    },
    {
     "data": {
      "text/html": [
       "<pre style=\"white-space:pre;overflow-x:auto;line-height:normal;font-family:Menlo,'DejaVu Sans Mono',consolas,'Courier New',monospace\">==&gt; <span style=\"font-weight: bold\">[</span><span style=\"color: #008080; text-decoration-color: #008080; font-weight: bold\">2023</span>-<span style=\"color: #008080; text-decoration-color: #008080; font-weight: bold\">08</span>-27_06-<span style=\"color: #008080; text-decoration-color: #008080; font-weight: bold\">30</span>-<span style=\"color: #008080; text-decoration-color: #008080; font-weight: bold\">38</span><span style=\"font-weight: bold\">]</span> Finished Epoch <span style=\"color: #008080; text-decoration-color: #008080; font-weight: bold\">74</span>/<span style=\"color: #008080; text-decoration-color: #008080; font-weight: bold\">100</span>. <span style=\"color: #808000; text-decoration-color: #808000\">CPU</span>=<span style=\"color: #008080; text-decoration-color: #008080; font-weight: bold\">18.</span>7GB, <span style=\"color: #808000; text-decoration-color: #808000\">GPU</span>=<span style=\"color: #008080; text-decoration-color: #008080; font-weight: bold\">42.</span>5GB.\n",
       "</pre>\n"
      ],
      "text/plain": [
       "==> \u001b[1m[\u001b[0m\u001b[1;36m2023\u001b[0m-\u001b[1;36m08\u001b[0m-27_06-\u001b[1;36m30\u001b[0m-\u001b[1;36m38\u001b[0m\u001b[1m]\u001b[0m Finished Epoch \u001b[1;36m74\u001b[0m/\u001b[1;36m100\u001b[0m. \u001b[33mCPU\u001b[0m=\u001b[1;36m18\u001b[0m\u001b[1;36m.\u001b[0m7GB, \u001b[33mGPU\u001b[0m=\u001b[1;36m42\u001b[0m\u001b[1;36m.\u001b[0m5GB.\n"
      ]
     },
     "metadata": {},
     "output_type": "display_data"
    },
    {
     "data": {
      "text/html": [
       "<pre style=\"white-space:pre;overflow-x:auto;line-height:normal;font-family:Menlo,'DejaVu Sans Mono',consolas,'Courier New',monospace\">++&gt; Evaluate scorp_side_dmtet at epoch <span style=\"color: #008080; text-decoration-color: #008080; font-weight: bold\">74</span> <span style=\"color: #808000; text-decoration-color: #808000\">...</span>\n",
       "</pre>\n"
      ],
      "text/plain": [
       "++> Evaluate scorp_side_dmtet at epoch \u001b[1;36m74\u001b[0m \u001b[33m...\u001b[0m\n"
      ]
     },
     "metadata": {},
     "output_type": "display_data"
    },
    {
     "name": "stderr",
     "output_type": "stream",
     "text": [
      "loss=0.0000 (0.0000): : 100% 8/8 [00:00<00:00, 35.54it/s]\n"
     ]
    },
    {
     "data": {
      "text/html": [
       "<pre style=\"white-space:pre;overflow-x:auto;line-height:normal;font-family:Menlo,'DejaVu Sans Mono',consolas,'Courier New',monospace\">++&gt; Evaluate epoch <span style=\"color: #008080; text-decoration-color: #008080; font-weight: bold\">74</span> Finished.\n",
       "</pre>\n"
      ],
      "text/plain": [
       "++> Evaluate epoch \u001b[1;36m74\u001b[0m Finished.\n"
      ]
     },
     "metadata": {},
     "output_type": "display_data"
    },
    {
     "data": {
      "text/html": [
       "<pre style=\"white-space:pre;overflow-x:auto;line-height:normal;font-family:Menlo,'DejaVu Sans Mono',consolas,'Courier New',monospace\">==&gt; <span style=\"font-weight: bold\">[</span><span style=\"color: #008080; text-decoration-color: #008080; font-weight: bold\">2023</span>-<span style=\"color: #008080; text-decoration-color: #008080; font-weight: bold\">08</span>-27_06-<span style=\"color: #008080; text-decoration-color: #008080; font-weight: bold\">30</span>-<span style=\"color: #008080; text-decoration-color: #008080; font-weight: bold\">39</span><span style=\"font-weight: bold\">]</span> Start Training scorp_side_dmtet Epoch <span style=\"color: #008080; text-decoration-color: #008080; font-weight: bold\">75</span>/<span style=\"color: #008080; text-decoration-color: #008080; font-weight: bold\">100</span>, <span style=\"color: #808000; text-decoration-color: #808000\">lr</span>=<span style=\"color: #008080; text-decoration-color: #008080; font-weight: bold\">0.050000</span> <span style=\"color: #808000; text-decoration-color: #808000\">...</span>\n",
       "</pre>\n"
      ],
      "text/plain": [
       "==> \u001b[1m[\u001b[0m\u001b[1;36m2023\u001b[0m-\u001b[1;36m08\u001b[0m-27_06-\u001b[1;36m30\u001b[0m-\u001b[1;36m39\u001b[0m\u001b[1m]\u001b[0m Start Training scorp_side_dmtet Epoch \u001b[1;36m75\u001b[0m/\u001b[1;36m100\u001b[0m, \u001b[33mlr\u001b[0m=\u001b[1;36m0\u001b[0m\u001b[1;36m.050000\u001b[0m \u001b[33m...\u001b[0m\n"
      ]
     },
     "metadata": {},
     "output_type": "display_data"
    },
    {
     "name": "stderr",
     "output_type": "stream",
     "text": [
      "loss=5.6088 (35.8712), lr=0.050000: : 100% 2400/2400 [00:42<00:00, 55.97it/s]  \n"
     ]
    },
    {
     "data": {
      "text/html": [
       "<pre style=\"white-space:pre;overflow-x:auto;line-height:normal;font-family:Menlo,'DejaVu Sans Mono',consolas,'Courier New',monospace\">==&gt; <span style=\"font-weight: bold\">[</span><span style=\"color: #008080; text-decoration-color: #008080; font-weight: bold\">2023</span>-<span style=\"color: #008080; text-decoration-color: #008080; font-weight: bold\">08</span>-27_06-<span style=\"color: #008080; text-decoration-color: #008080; font-weight: bold\">31</span>-<span style=\"color: #008080; text-decoration-color: #008080; font-weight: bold\">22</span><span style=\"font-weight: bold\">]</span> Finished Epoch <span style=\"color: #008080; text-decoration-color: #008080; font-weight: bold\">75</span>/<span style=\"color: #008080; text-decoration-color: #008080; font-weight: bold\">100</span>. <span style=\"color: #808000; text-decoration-color: #808000\">CPU</span>=<span style=\"color: #008080; text-decoration-color: #008080; font-weight: bold\">18.</span>7GB, <span style=\"color: #808000; text-decoration-color: #808000\">GPU</span>=<span style=\"color: #008080; text-decoration-color: #008080; font-weight: bold\">42.</span>5GB.\n",
       "</pre>\n"
      ],
      "text/plain": [
       "==> \u001b[1m[\u001b[0m\u001b[1;36m2023\u001b[0m-\u001b[1;36m08\u001b[0m-27_06-\u001b[1;36m31\u001b[0m-\u001b[1;36m22\u001b[0m\u001b[1m]\u001b[0m Finished Epoch \u001b[1;36m75\u001b[0m/\u001b[1;36m100\u001b[0m. \u001b[33mCPU\u001b[0m=\u001b[1;36m18\u001b[0m\u001b[1;36m.\u001b[0m7GB, \u001b[33mGPU\u001b[0m=\u001b[1;36m42\u001b[0m\u001b[1;36m.\u001b[0m5GB.\n"
      ]
     },
     "metadata": {},
     "output_type": "display_data"
    },
    {
     "data": {
      "text/html": [
       "<pre style=\"white-space:pre;overflow-x:auto;line-height:normal;font-family:Menlo,'DejaVu Sans Mono',consolas,'Courier New',monospace\">++&gt; Evaluate scorp_side_dmtet at epoch <span style=\"color: #008080; text-decoration-color: #008080; font-weight: bold\">75</span> <span style=\"color: #808000; text-decoration-color: #808000\">...</span>\n",
       "</pre>\n"
      ],
      "text/plain": [
       "++> Evaluate scorp_side_dmtet at epoch \u001b[1;36m75\u001b[0m \u001b[33m...\u001b[0m\n"
      ]
     },
     "metadata": {},
     "output_type": "display_data"
    },
    {
     "name": "stderr",
     "output_type": "stream",
     "text": [
      "loss=0.0000 (0.0000): : 100% 8/8 [00:00<00:00, 35.54it/s]\n"
     ]
    },
    {
     "data": {
      "text/html": [
       "<pre style=\"white-space:pre;overflow-x:auto;line-height:normal;font-family:Menlo,'DejaVu Sans Mono',consolas,'Courier New',monospace\">++&gt; Evaluate epoch <span style=\"color: #008080; text-decoration-color: #008080; font-weight: bold\">75</span> Finished.\n",
       "</pre>\n"
      ],
      "text/plain": [
       "++> Evaluate epoch \u001b[1;36m75\u001b[0m Finished.\n"
      ]
     },
     "metadata": {},
     "output_type": "display_data"
    },
    {
     "data": {
      "text/html": [
       "<pre style=\"white-space:pre;overflow-x:auto;line-height:normal;font-family:Menlo,'DejaVu Sans Mono',consolas,'Courier New',monospace\">==&gt; Start Test, save results to scorp_side_dmtet/results\n",
       "</pre>\n"
      ],
      "text/plain": [
       "==> Start Test, save results to scorp_side_dmtet/results\n"
      ]
     },
     "metadata": {},
     "output_type": "display_data"
    },
    {
     "name": "stderr",
     "output_type": "stream",
     "text": [
      " 97% 97/100 [00:01<00:00, 80.41it/s]"
     ]
    },
    {
     "data": {
      "text/html": [
       "<pre style=\"white-space:pre;overflow-x:auto;line-height:normal;font-family:Menlo,'DejaVu Sans Mono',consolas,'Courier New',monospace\">==&gt; Finished Test.\n",
       "</pre>\n"
      ],
      "text/plain": [
       "==> Finished Test.\n"
      ]
     },
     "metadata": {},
     "output_type": "display_data"
    },
    {
     "name": "stderr",
     "output_type": "stream",
     "text": [
      "100% 100/100 [00:03<00:00, 29.78it/s]\n"
     ]
    },
    {
     "data": {
      "text/html": [
       "<pre style=\"white-space:pre;overflow-x:auto;line-height:normal;font-family:Menlo,'DejaVu Sans Mono',consolas,'Courier New',monospace\">==&gt; <span style=\"font-weight: bold\">[</span><span style=\"color: #008080; text-decoration-color: #008080; font-weight: bold\">2023</span>-<span style=\"color: #008080; text-decoration-color: #008080; font-weight: bold\">08</span>-27_06-<span style=\"color: #008080; text-decoration-color: #008080; font-weight: bold\">31</span>-<span style=\"color: #008080; text-decoration-color: #008080; font-weight: bold\">26</span><span style=\"font-weight: bold\">]</span> Start Training scorp_side_dmtet Epoch <span style=\"color: #008080; text-decoration-color: #008080; font-weight: bold\">76</span>/<span style=\"color: #008080; text-decoration-color: #008080; font-weight: bold\">100</span>, <span style=\"color: #808000; text-decoration-color: #808000\">lr</span>=<span style=\"color: #008080; text-decoration-color: #008080; font-weight: bold\">0.050000</span> <span style=\"color: #808000; text-decoration-color: #808000\">...</span>\n",
       "</pre>\n"
      ],
      "text/plain": [
       "==> \u001b[1m[\u001b[0m\u001b[1;36m2023\u001b[0m-\u001b[1;36m08\u001b[0m-27_06-\u001b[1;36m31\u001b[0m-\u001b[1;36m26\u001b[0m\u001b[1m]\u001b[0m Start Training scorp_side_dmtet Epoch \u001b[1;36m76\u001b[0m/\u001b[1;36m100\u001b[0m, \u001b[33mlr\u001b[0m=\u001b[1;36m0\u001b[0m\u001b[1;36m.050000\u001b[0m \u001b[33m...\u001b[0m\n"
      ]
     },
     "metadata": {},
     "output_type": "display_data"
    },
    {
     "name": "stderr",
     "output_type": "stream",
     "text": [
      "loss=5.6674 (32.6664), lr=0.050000: : 100% 2400/2400 [00:42<00:00, 57.13it/s] \n"
     ]
    },
    {
     "data": {
      "text/html": [
       "<pre style=\"white-space:pre;overflow-x:auto;line-height:normal;font-family:Menlo,'DejaVu Sans Mono',consolas,'Courier New',monospace\">==&gt; <span style=\"font-weight: bold\">[</span><span style=\"color: #008080; text-decoration-color: #008080; font-weight: bold\">2023</span>-<span style=\"color: #008080; text-decoration-color: #008080; font-weight: bold\">08</span>-27_06-<span style=\"color: #008080; text-decoration-color: #008080; font-weight: bold\">32</span>-<span style=\"color: #008080; text-decoration-color: #008080; font-weight: bold\">08</span><span style=\"font-weight: bold\">]</span> Finished Epoch <span style=\"color: #008080; text-decoration-color: #008080; font-weight: bold\">76</span>/<span style=\"color: #008080; text-decoration-color: #008080; font-weight: bold\">100</span>. <span style=\"color: #808000; text-decoration-color: #808000\">CPU</span>=<span style=\"color: #008080; text-decoration-color: #008080; font-weight: bold\">18.</span>7GB, <span style=\"color: #808000; text-decoration-color: #808000\">GPU</span>=<span style=\"color: #008080; text-decoration-color: #008080; font-weight: bold\">42.</span>5GB.\n",
       "</pre>\n"
      ],
      "text/plain": [
       "==> \u001b[1m[\u001b[0m\u001b[1;36m2023\u001b[0m-\u001b[1;36m08\u001b[0m-27_06-\u001b[1;36m32\u001b[0m-\u001b[1;36m08\u001b[0m\u001b[1m]\u001b[0m Finished Epoch \u001b[1;36m76\u001b[0m/\u001b[1;36m100\u001b[0m. \u001b[33mCPU\u001b[0m=\u001b[1;36m18\u001b[0m\u001b[1;36m.\u001b[0m7GB, \u001b[33mGPU\u001b[0m=\u001b[1;36m42\u001b[0m\u001b[1;36m.\u001b[0m5GB.\n"
      ]
     },
     "metadata": {},
     "output_type": "display_data"
    },
    {
     "data": {
      "text/html": [
       "<pre style=\"white-space:pre;overflow-x:auto;line-height:normal;font-family:Menlo,'DejaVu Sans Mono',consolas,'Courier New',monospace\">++&gt; Evaluate scorp_side_dmtet at epoch <span style=\"color: #008080; text-decoration-color: #008080; font-weight: bold\">76</span> <span style=\"color: #808000; text-decoration-color: #808000\">...</span>\n",
       "</pre>\n"
      ],
      "text/plain": [
       "++> Evaluate scorp_side_dmtet at epoch \u001b[1;36m76\u001b[0m \u001b[33m...\u001b[0m\n"
      ]
     },
     "metadata": {},
     "output_type": "display_data"
    },
    {
     "name": "stderr",
     "output_type": "stream",
     "text": [
      "loss=0.0000 (0.0000): : 100% 8/8 [00:00<00:00, 33.48it/s]\n"
     ]
    },
    {
     "data": {
      "text/html": [
       "<pre style=\"white-space:pre;overflow-x:auto;line-height:normal;font-family:Menlo,'DejaVu Sans Mono',consolas,'Courier New',monospace\">++&gt; Evaluate epoch <span style=\"color: #008080; text-decoration-color: #008080; font-weight: bold\">76</span> Finished.\n",
       "</pre>\n"
      ],
      "text/plain": [
       "++> Evaluate epoch \u001b[1;36m76\u001b[0m Finished.\n"
      ]
     },
     "metadata": {},
     "output_type": "display_data"
    },
    {
     "data": {
      "text/html": [
       "<pre style=\"white-space:pre;overflow-x:auto;line-height:normal;font-family:Menlo,'DejaVu Sans Mono',consolas,'Courier New',monospace\">==&gt; <span style=\"font-weight: bold\">[</span><span style=\"color: #008080; text-decoration-color: #008080; font-weight: bold\">2023</span>-<span style=\"color: #008080; text-decoration-color: #008080; font-weight: bold\">08</span>-27_06-<span style=\"color: #008080; text-decoration-color: #008080; font-weight: bold\">32</span>-<span style=\"color: #008080; text-decoration-color: #008080; font-weight: bold\">08</span><span style=\"font-weight: bold\">]</span> Start Training scorp_side_dmtet Epoch <span style=\"color: #008080; text-decoration-color: #008080; font-weight: bold\">77</span>/<span style=\"color: #008080; text-decoration-color: #008080; font-weight: bold\">100</span>, <span style=\"color: #808000; text-decoration-color: #808000\">lr</span>=<span style=\"color: #008080; text-decoration-color: #008080; font-weight: bold\">0.050000</span> <span style=\"color: #808000; text-decoration-color: #808000\">...</span>\n",
       "</pre>\n"
      ],
      "text/plain": [
       "==> \u001b[1m[\u001b[0m\u001b[1;36m2023\u001b[0m-\u001b[1;36m08\u001b[0m-27_06-\u001b[1;36m32\u001b[0m-\u001b[1;36m08\u001b[0m\u001b[1m]\u001b[0m Start Training scorp_side_dmtet Epoch \u001b[1;36m77\u001b[0m/\u001b[1;36m100\u001b[0m, \u001b[33mlr\u001b[0m=\u001b[1;36m0\u001b[0m\u001b[1;36m.050000\u001b[0m \u001b[33m...\u001b[0m\n"
      ]
     },
     "metadata": {},
     "output_type": "display_data"
    },
    {
     "name": "stderr",
     "output_type": "stream",
     "text": [
      "loss=5.6475 (32.9243), lr=0.050000: : 100% 2400/2400 [00:41<00:00, 57.36it/s]  \n"
     ]
    },
    {
     "data": {
      "text/html": [
       "<pre style=\"white-space:pre;overflow-x:auto;line-height:normal;font-family:Menlo,'DejaVu Sans Mono',consolas,'Courier New',monospace\">==&gt; <span style=\"font-weight: bold\">[</span><span style=\"color: #008080; text-decoration-color: #008080; font-weight: bold\">2023</span>-<span style=\"color: #008080; text-decoration-color: #008080; font-weight: bold\">08</span>-27_06-<span style=\"color: #008080; text-decoration-color: #008080; font-weight: bold\">32</span>-<span style=\"color: #008080; text-decoration-color: #008080; font-weight: bold\">50</span><span style=\"font-weight: bold\">]</span> Finished Epoch <span style=\"color: #008080; text-decoration-color: #008080; font-weight: bold\">77</span>/<span style=\"color: #008080; text-decoration-color: #008080; font-weight: bold\">100</span>. <span style=\"color: #808000; text-decoration-color: #808000\">CPU</span>=<span style=\"color: #008080; text-decoration-color: #008080; font-weight: bold\">18.</span>7GB, <span style=\"color: #808000; text-decoration-color: #808000\">GPU</span>=<span style=\"color: #008080; text-decoration-color: #008080; font-weight: bold\">42.</span>5GB.\n",
       "</pre>\n"
      ],
      "text/plain": [
       "==> \u001b[1m[\u001b[0m\u001b[1;36m2023\u001b[0m-\u001b[1;36m08\u001b[0m-27_06-\u001b[1;36m32\u001b[0m-\u001b[1;36m50\u001b[0m\u001b[1m]\u001b[0m Finished Epoch \u001b[1;36m77\u001b[0m/\u001b[1;36m100\u001b[0m. \u001b[33mCPU\u001b[0m=\u001b[1;36m18\u001b[0m\u001b[1;36m.\u001b[0m7GB, \u001b[33mGPU\u001b[0m=\u001b[1;36m42\u001b[0m\u001b[1;36m.\u001b[0m5GB.\n"
      ]
     },
     "metadata": {},
     "output_type": "display_data"
    },
    {
     "data": {
      "text/html": [
       "<pre style=\"white-space:pre;overflow-x:auto;line-height:normal;font-family:Menlo,'DejaVu Sans Mono',consolas,'Courier New',monospace\">++&gt; Evaluate scorp_side_dmtet at epoch <span style=\"color: #008080; text-decoration-color: #008080; font-weight: bold\">77</span> <span style=\"color: #808000; text-decoration-color: #808000\">...</span>\n",
       "</pre>\n"
      ],
      "text/plain": [
       "++> Evaluate scorp_side_dmtet at epoch \u001b[1;36m77\u001b[0m \u001b[33m...\u001b[0m\n"
      ]
     },
     "metadata": {},
     "output_type": "display_data"
    },
    {
     "name": "stderr",
     "output_type": "stream",
     "text": [
      "loss=0.0000 (0.0000): : 100% 8/8 [00:00<00:00, 35.32it/s]\n"
     ]
    },
    {
     "data": {
      "text/html": [
       "<pre style=\"white-space:pre;overflow-x:auto;line-height:normal;font-family:Menlo,'DejaVu Sans Mono',consolas,'Courier New',monospace\">++&gt; Evaluate epoch <span style=\"color: #008080; text-decoration-color: #008080; font-weight: bold\">77</span> Finished.\n",
       "</pre>\n"
      ],
      "text/plain": [
       "++> Evaluate epoch \u001b[1;36m77\u001b[0m Finished.\n"
      ]
     },
     "metadata": {},
     "output_type": "display_data"
    },
    {
     "data": {
      "text/html": [
       "<pre style=\"white-space:pre;overflow-x:auto;line-height:normal;font-family:Menlo,'DejaVu Sans Mono',consolas,'Courier New',monospace\">==&gt; <span style=\"font-weight: bold\">[</span><span style=\"color: #008080; text-decoration-color: #008080; font-weight: bold\">2023</span>-<span style=\"color: #008080; text-decoration-color: #008080; font-weight: bold\">08</span>-27_06-<span style=\"color: #008080; text-decoration-color: #008080; font-weight: bold\">32</span>-<span style=\"color: #008080; text-decoration-color: #008080; font-weight: bold\">51</span><span style=\"font-weight: bold\">]</span> Start Training scorp_side_dmtet Epoch <span style=\"color: #008080; text-decoration-color: #008080; font-weight: bold\">78</span>/<span style=\"color: #008080; text-decoration-color: #008080; font-weight: bold\">100</span>, <span style=\"color: #808000; text-decoration-color: #808000\">lr</span>=<span style=\"color: #008080; text-decoration-color: #008080; font-weight: bold\">0.050000</span> <span style=\"color: #808000; text-decoration-color: #808000\">...</span>\n",
       "</pre>\n"
      ],
      "text/plain": [
       "==> \u001b[1m[\u001b[0m\u001b[1;36m2023\u001b[0m-\u001b[1;36m08\u001b[0m-27_06-\u001b[1;36m32\u001b[0m-\u001b[1;36m51\u001b[0m\u001b[1m]\u001b[0m Start Training scorp_side_dmtet Epoch \u001b[1;36m78\u001b[0m/\u001b[1;36m100\u001b[0m, \u001b[33mlr\u001b[0m=\u001b[1;36m0\u001b[0m\u001b[1;36m.050000\u001b[0m \u001b[33m...\u001b[0m\n"
      ]
     },
     "metadata": {},
     "output_type": "display_data"
    },
    {
     "name": "stderr",
     "output_type": "stream",
     "text": [
      "loss=5.6504 (32.6480), lr=0.050000: : 100% 2400/2400 [00:41<00:00, 57.95it/s] \n"
     ]
    },
    {
     "data": {
      "text/html": [
       "<pre style=\"white-space:pre;overflow-x:auto;line-height:normal;font-family:Menlo,'DejaVu Sans Mono',consolas,'Courier New',monospace\">==&gt; <span style=\"font-weight: bold\">[</span><span style=\"color: #008080; text-decoration-color: #008080; font-weight: bold\">2023</span>-<span style=\"color: #008080; text-decoration-color: #008080; font-weight: bold\">08</span>-27_06-<span style=\"color: #008080; text-decoration-color: #008080; font-weight: bold\">33</span>-<span style=\"color: #008080; text-decoration-color: #008080; font-weight: bold\">32</span><span style=\"font-weight: bold\">]</span> Finished Epoch <span style=\"color: #008080; text-decoration-color: #008080; font-weight: bold\">78</span>/<span style=\"color: #008080; text-decoration-color: #008080; font-weight: bold\">100</span>. <span style=\"color: #808000; text-decoration-color: #808000\">CPU</span>=<span style=\"color: #008080; text-decoration-color: #008080; font-weight: bold\">18.</span>7GB, <span style=\"color: #808000; text-decoration-color: #808000\">GPU</span>=<span style=\"color: #008080; text-decoration-color: #008080; font-weight: bold\">42.</span>5GB.\n",
       "</pre>\n"
      ],
      "text/plain": [
       "==> \u001b[1m[\u001b[0m\u001b[1;36m2023\u001b[0m-\u001b[1;36m08\u001b[0m-27_06-\u001b[1;36m33\u001b[0m-\u001b[1;36m32\u001b[0m\u001b[1m]\u001b[0m Finished Epoch \u001b[1;36m78\u001b[0m/\u001b[1;36m100\u001b[0m. \u001b[33mCPU\u001b[0m=\u001b[1;36m18\u001b[0m\u001b[1;36m.\u001b[0m7GB, \u001b[33mGPU\u001b[0m=\u001b[1;36m42\u001b[0m\u001b[1;36m.\u001b[0m5GB.\n"
      ]
     },
     "metadata": {},
     "output_type": "display_data"
    },
    {
     "data": {
      "text/html": [
       "<pre style=\"white-space:pre;overflow-x:auto;line-height:normal;font-family:Menlo,'DejaVu Sans Mono',consolas,'Courier New',monospace\">++&gt; Evaluate scorp_side_dmtet at epoch <span style=\"color: #008080; text-decoration-color: #008080; font-weight: bold\">78</span> <span style=\"color: #808000; text-decoration-color: #808000\">...</span>\n",
       "</pre>\n"
      ],
      "text/plain": [
       "++> Evaluate scorp_side_dmtet at epoch \u001b[1;36m78\u001b[0m \u001b[33m...\u001b[0m\n"
      ]
     },
     "metadata": {},
     "output_type": "display_data"
    },
    {
     "name": "stderr",
     "output_type": "stream",
     "text": [
      "loss=0.0000 (0.0000): : 100% 8/8 [00:00<00:00, 35.46it/s]\n"
     ]
    },
    {
     "data": {
      "text/html": [
       "<pre style=\"white-space:pre;overflow-x:auto;line-height:normal;font-family:Menlo,'DejaVu Sans Mono',consolas,'Courier New',monospace\">++&gt; Evaluate epoch <span style=\"color: #008080; text-decoration-color: #008080; font-weight: bold\">78</span> Finished.\n",
       "</pre>\n"
      ],
      "text/plain": [
       "++> Evaluate epoch \u001b[1;36m78\u001b[0m Finished.\n"
      ]
     },
     "metadata": {},
     "output_type": "display_data"
    },
    {
     "data": {
      "text/html": [
       "<pre style=\"white-space:pre;overflow-x:auto;line-height:normal;font-family:Menlo,'DejaVu Sans Mono',consolas,'Courier New',monospace\">==&gt; <span style=\"font-weight: bold\">[</span><span style=\"color: #008080; text-decoration-color: #008080; font-weight: bold\">2023</span>-<span style=\"color: #008080; text-decoration-color: #008080; font-weight: bold\">08</span>-27_06-<span style=\"color: #008080; text-decoration-color: #008080; font-weight: bold\">33</span>-<span style=\"color: #008080; text-decoration-color: #008080; font-weight: bold\">33</span><span style=\"font-weight: bold\">]</span> Start Training scorp_side_dmtet Epoch <span style=\"color: #008080; text-decoration-color: #008080; font-weight: bold\">79</span>/<span style=\"color: #008080; text-decoration-color: #008080; font-weight: bold\">100</span>, <span style=\"color: #808000; text-decoration-color: #808000\">lr</span>=<span style=\"color: #008080; text-decoration-color: #008080; font-weight: bold\">0.050000</span> <span style=\"color: #808000; text-decoration-color: #808000\">...</span>\n",
       "</pre>\n"
      ],
      "text/plain": [
       "==> \u001b[1m[\u001b[0m\u001b[1;36m2023\u001b[0m-\u001b[1;36m08\u001b[0m-27_06-\u001b[1;36m33\u001b[0m-\u001b[1;36m33\u001b[0m\u001b[1m]\u001b[0m Start Training scorp_side_dmtet Epoch \u001b[1;36m79\u001b[0m/\u001b[1;36m100\u001b[0m, \u001b[33mlr\u001b[0m=\u001b[1;36m0\u001b[0m\u001b[1;36m.050000\u001b[0m \u001b[33m...\u001b[0m\n"
      ]
     },
     "metadata": {},
     "output_type": "display_data"
    },
    {
     "name": "stderr",
     "output_type": "stream",
     "text": [
      "loss=5.5841 (33.4785), lr=0.050000: : 100% 2400/2400 [00:41<00:00, 57.20it/s]  \n"
     ]
    },
    {
     "data": {
      "text/html": [
       "<pre style=\"white-space:pre;overflow-x:auto;line-height:normal;font-family:Menlo,'DejaVu Sans Mono',consolas,'Courier New',monospace\">==&gt; <span style=\"font-weight: bold\">[</span><span style=\"color: #008080; text-decoration-color: #008080; font-weight: bold\">2023</span>-<span style=\"color: #008080; text-decoration-color: #008080; font-weight: bold\">08</span>-27_06-<span style=\"color: #008080; text-decoration-color: #008080; font-weight: bold\">34</span>-<span style=\"color: #008080; text-decoration-color: #008080; font-weight: bold\">15</span><span style=\"font-weight: bold\">]</span> Finished Epoch <span style=\"color: #008080; text-decoration-color: #008080; font-weight: bold\">79</span>/<span style=\"color: #008080; text-decoration-color: #008080; font-weight: bold\">100</span>. <span style=\"color: #808000; text-decoration-color: #808000\">CPU</span>=<span style=\"color: #008080; text-decoration-color: #008080; font-weight: bold\">18.</span>7GB, <span style=\"color: #808000; text-decoration-color: #808000\">GPU</span>=<span style=\"color: #008080; text-decoration-color: #008080; font-weight: bold\">42.</span>5GB.\n",
       "</pre>\n"
      ],
      "text/plain": [
       "==> \u001b[1m[\u001b[0m\u001b[1;36m2023\u001b[0m-\u001b[1;36m08\u001b[0m-27_06-\u001b[1;36m34\u001b[0m-\u001b[1;36m15\u001b[0m\u001b[1m]\u001b[0m Finished Epoch \u001b[1;36m79\u001b[0m/\u001b[1;36m100\u001b[0m. \u001b[33mCPU\u001b[0m=\u001b[1;36m18\u001b[0m\u001b[1;36m.\u001b[0m7GB, \u001b[33mGPU\u001b[0m=\u001b[1;36m42\u001b[0m\u001b[1;36m.\u001b[0m5GB.\n"
      ]
     },
     "metadata": {},
     "output_type": "display_data"
    },
    {
     "data": {
      "text/html": [
       "<pre style=\"white-space:pre;overflow-x:auto;line-height:normal;font-family:Menlo,'DejaVu Sans Mono',consolas,'Courier New',monospace\">++&gt; Evaluate scorp_side_dmtet at epoch <span style=\"color: #008080; text-decoration-color: #008080; font-weight: bold\">79</span> <span style=\"color: #808000; text-decoration-color: #808000\">...</span>\n",
       "</pre>\n"
      ],
      "text/plain": [
       "++> Evaluate scorp_side_dmtet at epoch \u001b[1;36m79\u001b[0m \u001b[33m...\u001b[0m\n"
      ]
     },
     "metadata": {},
     "output_type": "display_data"
    },
    {
     "name": "stderr",
     "output_type": "stream",
     "text": [
      "loss=0.0000 (0.0000): : 100% 8/8 [00:00<00:00, 34.81it/s]\n"
     ]
    },
    {
     "data": {
      "text/html": [
       "<pre style=\"white-space:pre;overflow-x:auto;line-height:normal;font-family:Menlo,'DejaVu Sans Mono',consolas,'Courier New',monospace\">++&gt; Evaluate epoch <span style=\"color: #008080; text-decoration-color: #008080; font-weight: bold\">79</span> Finished.\n",
       "</pre>\n"
      ],
      "text/plain": [
       "++> Evaluate epoch \u001b[1;36m79\u001b[0m Finished.\n"
      ]
     },
     "metadata": {},
     "output_type": "display_data"
    },
    {
     "data": {
      "text/html": [
       "<pre style=\"white-space:pre;overflow-x:auto;line-height:normal;font-family:Menlo,'DejaVu Sans Mono',consolas,'Courier New',monospace\">==&gt; <span style=\"font-weight: bold\">[</span><span style=\"color: #008080; text-decoration-color: #008080; font-weight: bold\">2023</span>-<span style=\"color: #008080; text-decoration-color: #008080; font-weight: bold\">08</span>-27_06-<span style=\"color: #008080; text-decoration-color: #008080; font-weight: bold\">34</span>-<span style=\"color: #008080; text-decoration-color: #008080; font-weight: bold\">15</span><span style=\"font-weight: bold\">]</span> Start Training scorp_side_dmtet Epoch <span style=\"color: #008080; text-decoration-color: #008080; font-weight: bold\">80</span>/<span style=\"color: #008080; text-decoration-color: #008080; font-weight: bold\">100</span>, <span style=\"color: #808000; text-decoration-color: #808000\">lr</span>=<span style=\"color: #008080; text-decoration-color: #008080; font-weight: bold\">0.050000</span> <span style=\"color: #808000; text-decoration-color: #808000\">...</span>\n",
       "</pre>\n"
      ],
      "text/plain": [
       "==> \u001b[1m[\u001b[0m\u001b[1;36m2023\u001b[0m-\u001b[1;36m08\u001b[0m-27_06-\u001b[1;36m34\u001b[0m-\u001b[1;36m15\u001b[0m\u001b[1m]\u001b[0m Start Training scorp_side_dmtet Epoch \u001b[1;36m80\u001b[0m/\u001b[1;36m100\u001b[0m, \u001b[33mlr\u001b[0m=\u001b[1;36m0\u001b[0m\u001b[1;36m.050000\u001b[0m \u001b[33m...\u001b[0m\n"
      ]
     },
     "metadata": {},
     "output_type": "display_data"
    },
    {
     "name": "stderr",
     "output_type": "stream",
     "text": [
      "loss=5.6026 (33.2938), lr=0.050000: : 100% 2400/2400 [00:41<00:00, 57.76it/s]  \n"
     ]
    },
    {
     "data": {
      "text/html": [
       "<pre style=\"white-space:pre;overflow-x:auto;line-height:normal;font-family:Menlo,'DejaVu Sans Mono',consolas,'Courier New',monospace\">==&gt; <span style=\"font-weight: bold\">[</span><span style=\"color: #008080; text-decoration-color: #008080; font-weight: bold\">2023</span>-<span style=\"color: #008080; text-decoration-color: #008080; font-weight: bold\">08</span>-27_06-<span style=\"color: #008080; text-decoration-color: #008080; font-weight: bold\">34</span>-<span style=\"color: #008080; text-decoration-color: #008080; font-weight: bold\">57</span><span style=\"font-weight: bold\">]</span> Finished Epoch <span style=\"color: #008080; text-decoration-color: #008080; font-weight: bold\">80</span>/<span style=\"color: #008080; text-decoration-color: #008080; font-weight: bold\">100</span>. <span style=\"color: #808000; text-decoration-color: #808000\">CPU</span>=<span style=\"color: #008080; text-decoration-color: #008080; font-weight: bold\">18.</span>7GB, <span style=\"color: #808000; text-decoration-color: #808000\">GPU</span>=<span style=\"color: #008080; text-decoration-color: #008080; font-weight: bold\">42.</span>5GB.\n",
       "</pre>\n"
      ],
      "text/plain": [
       "==> \u001b[1m[\u001b[0m\u001b[1;36m2023\u001b[0m-\u001b[1;36m08\u001b[0m-27_06-\u001b[1;36m34\u001b[0m-\u001b[1;36m57\u001b[0m\u001b[1m]\u001b[0m Finished Epoch \u001b[1;36m80\u001b[0m/\u001b[1;36m100\u001b[0m. \u001b[33mCPU\u001b[0m=\u001b[1;36m18\u001b[0m\u001b[1;36m.\u001b[0m7GB, \u001b[33mGPU\u001b[0m=\u001b[1;36m42\u001b[0m\u001b[1;36m.\u001b[0m5GB.\n"
      ]
     },
     "metadata": {},
     "output_type": "display_data"
    },
    {
     "data": {
      "text/html": [
       "<pre style=\"white-space:pre;overflow-x:auto;line-height:normal;font-family:Menlo,'DejaVu Sans Mono',consolas,'Courier New',monospace\">++&gt; Evaluate scorp_side_dmtet at epoch <span style=\"color: #008080; text-decoration-color: #008080; font-weight: bold\">80</span> <span style=\"color: #808000; text-decoration-color: #808000\">...</span>\n",
       "</pre>\n"
      ],
      "text/plain": [
       "++> Evaluate scorp_side_dmtet at epoch \u001b[1;36m80\u001b[0m \u001b[33m...\u001b[0m\n"
      ]
     },
     "metadata": {},
     "output_type": "display_data"
    },
    {
     "name": "stderr",
     "output_type": "stream",
     "text": [
      "loss=0.0000 (0.0000): : 100% 8/8 [00:00<00:00, 35.64it/s]\n"
     ]
    },
    {
     "data": {
      "text/html": [
       "<pre style=\"white-space:pre;overflow-x:auto;line-height:normal;font-family:Menlo,'DejaVu Sans Mono',consolas,'Courier New',monospace\">++&gt; Evaluate epoch <span style=\"color: #008080; text-decoration-color: #008080; font-weight: bold\">80</span> Finished.\n",
       "</pre>\n"
      ],
      "text/plain": [
       "++> Evaluate epoch \u001b[1;36m80\u001b[0m Finished.\n"
      ]
     },
     "metadata": {},
     "output_type": "display_data"
    },
    {
     "data": {
      "text/html": [
       "<pre style=\"white-space:pre;overflow-x:auto;line-height:normal;font-family:Menlo,'DejaVu Sans Mono',consolas,'Courier New',monospace\">==&gt; Start Test, save results to scorp_side_dmtet/results\n",
       "</pre>\n"
      ],
      "text/plain": [
       "==> Start Test, save results to scorp_side_dmtet/results\n"
      ]
     },
     "metadata": {},
     "output_type": "display_data"
    },
    {
     "name": "stderr",
     "output_type": "stream",
     "text": [
      " 99% 99/100 [00:01<00:00, 84.91it/s]"
     ]
    },
    {
     "data": {
      "text/html": [
       "<pre style=\"white-space:pre;overflow-x:auto;line-height:normal;font-family:Menlo,'DejaVu Sans Mono',consolas,'Courier New',monospace\">==&gt; Finished Test.\n",
       "</pre>\n"
      ],
      "text/plain": [
       "==> Finished Test.\n"
      ]
     },
     "metadata": {},
     "output_type": "display_data"
    },
    {
     "name": "stderr",
     "output_type": "stream",
     "text": [
      "100% 100/100 [00:03<00:00, 29.72it/s]\n"
     ]
    },
    {
     "data": {
      "text/html": [
       "<pre style=\"white-space:pre;overflow-x:auto;line-height:normal;font-family:Menlo,'DejaVu Sans Mono',consolas,'Courier New',monospace\">==&gt; <span style=\"font-weight: bold\">[</span><span style=\"color: #008080; text-decoration-color: #008080; font-weight: bold\">2023</span>-<span style=\"color: #008080; text-decoration-color: #008080; font-weight: bold\">08</span>-27_06-<span style=\"color: #008080; text-decoration-color: #008080; font-weight: bold\">35</span>-<span style=\"color: #008080; text-decoration-color: #008080; font-weight: bold\">01</span><span style=\"font-weight: bold\">]</span> Start Training scorp_side_dmtet Epoch <span style=\"color: #008080; text-decoration-color: #008080; font-weight: bold\">81</span>/<span style=\"color: #008080; text-decoration-color: #008080; font-weight: bold\">100</span>, <span style=\"color: #808000; text-decoration-color: #808000\">lr</span>=<span style=\"color: #008080; text-decoration-color: #008080; font-weight: bold\">0.050000</span> <span style=\"color: #808000; text-decoration-color: #808000\">...</span>\n",
       "</pre>\n"
      ],
      "text/plain": [
       "==> \u001b[1m[\u001b[0m\u001b[1;36m2023\u001b[0m-\u001b[1;36m08\u001b[0m-27_06-\u001b[1;36m35\u001b[0m-\u001b[1;36m01\u001b[0m\u001b[1m]\u001b[0m Start Training scorp_side_dmtet Epoch \u001b[1;36m81\u001b[0m/\u001b[1;36m100\u001b[0m, \u001b[33mlr\u001b[0m=\u001b[1;36m0\u001b[0m\u001b[1;36m.050000\u001b[0m \u001b[33m...\u001b[0m\n"
      ]
     },
     "metadata": {},
     "output_type": "display_data"
    },
    {
     "name": "stderr",
     "output_type": "stream",
     "text": [
      "loss=5.5736 (32.7137), lr=0.050000: : 100% 2400/2400 [00:41<00:00, 58.40it/s]  \n"
     ]
    },
    {
     "data": {
      "text/html": [
       "<pre style=\"white-space:pre;overflow-x:auto;line-height:normal;font-family:Menlo,'DejaVu Sans Mono',consolas,'Courier New',monospace\">==&gt; <span style=\"font-weight: bold\">[</span><span style=\"color: #008080; text-decoration-color: #008080; font-weight: bold\">2023</span>-<span style=\"color: #008080; text-decoration-color: #008080; font-weight: bold\">08</span>-27_06-<span style=\"color: #008080; text-decoration-color: #008080; font-weight: bold\">35</span>-<span style=\"color: #008080; text-decoration-color: #008080; font-weight: bold\">42</span><span style=\"font-weight: bold\">]</span> Finished Epoch <span style=\"color: #008080; text-decoration-color: #008080; font-weight: bold\">81</span>/<span style=\"color: #008080; text-decoration-color: #008080; font-weight: bold\">100</span>. <span style=\"color: #808000; text-decoration-color: #808000\">CPU</span>=<span style=\"color: #008080; text-decoration-color: #008080; font-weight: bold\">18.</span>7GB, <span style=\"color: #808000; text-decoration-color: #808000\">GPU</span>=<span style=\"color: #008080; text-decoration-color: #008080; font-weight: bold\">42.</span>5GB.\n",
       "</pre>\n"
      ],
      "text/plain": [
       "==> \u001b[1m[\u001b[0m\u001b[1;36m2023\u001b[0m-\u001b[1;36m08\u001b[0m-27_06-\u001b[1;36m35\u001b[0m-\u001b[1;36m42\u001b[0m\u001b[1m]\u001b[0m Finished Epoch \u001b[1;36m81\u001b[0m/\u001b[1;36m100\u001b[0m. \u001b[33mCPU\u001b[0m=\u001b[1;36m18\u001b[0m\u001b[1;36m.\u001b[0m7GB, \u001b[33mGPU\u001b[0m=\u001b[1;36m42\u001b[0m\u001b[1;36m.\u001b[0m5GB.\n"
      ]
     },
     "metadata": {},
     "output_type": "display_data"
    },
    {
     "data": {
      "text/html": [
       "<pre style=\"white-space:pre;overflow-x:auto;line-height:normal;font-family:Menlo,'DejaVu Sans Mono',consolas,'Courier New',monospace\">++&gt; Evaluate scorp_side_dmtet at epoch <span style=\"color: #008080; text-decoration-color: #008080; font-weight: bold\">81</span> <span style=\"color: #808000; text-decoration-color: #808000\">...</span>\n",
       "</pre>\n"
      ],
      "text/plain": [
       "++> Evaluate scorp_side_dmtet at epoch \u001b[1;36m81\u001b[0m \u001b[33m...\u001b[0m\n"
      ]
     },
     "metadata": {},
     "output_type": "display_data"
    },
    {
     "name": "stderr",
     "output_type": "stream",
     "text": [
      "loss=0.0000 (0.0000): : 100% 8/8 [00:00<00:00, 30.14it/s]\n"
     ]
    },
    {
     "data": {
      "text/html": [
       "<pre style=\"white-space:pre;overflow-x:auto;line-height:normal;font-family:Menlo,'DejaVu Sans Mono',consolas,'Courier New',monospace\">++&gt; Evaluate epoch <span style=\"color: #008080; text-decoration-color: #008080; font-weight: bold\">81</span> Finished.\n",
       "</pre>\n"
      ],
      "text/plain": [
       "++> Evaluate epoch \u001b[1;36m81\u001b[0m Finished.\n"
      ]
     },
     "metadata": {},
     "output_type": "display_data"
    },
    {
     "data": {
      "text/html": [
       "<pre style=\"white-space:pre;overflow-x:auto;line-height:normal;font-family:Menlo,'DejaVu Sans Mono',consolas,'Courier New',monospace\">==&gt; <span style=\"font-weight: bold\">[</span><span style=\"color: #008080; text-decoration-color: #008080; font-weight: bold\">2023</span>-<span style=\"color: #008080; text-decoration-color: #008080; font-weight: bold\">08</span>-27_06-<span style=\"color: #008080; text-decoration-color: #008080; font-weight: bold\">35</span>-<span style=\"color: #008080; text-decoration-color: #008080; font-weight: bold\">43</span><span style=\"font-weight: bold\">]</span> Start Training scorp_side_dmtet Epoch <span style=\"color: #008080; text-decoration-color: #008080; font-weight: bold\">82</span>/<span style=\"color: #008080; text-decoration-color: #008080; font-weight: bold\">100</span>, <span style=\"color: #808000; text-decoration-color: #808000\">lr</span>=<span style=\"color: #008080; text-decoration-color: #008080; font-weight: bold\">0.050000</span> <span style=\"color: #808000; text-decoration-color: #808000\">...</span>\n",
       "</pre>\n"
      ],
      "text/plain": [
       "==> \u001b[1m[\u001b[0m\u001b[1;36m2023\u001b[0m-\u001b[1;36m08\u001b[0m-27_06-\u001b[1;36m35\u001b[0m-\u001b[1;36m43\u001b[0m\u001b[1m]\u001b[0m Start Training scorp_side_dmtet Epoch \u001b[1;36m82\u001b[0m/\u001b[1;36m100\u001b[0m, \u001b[33mlr\u001b[0m=\u001b[1;36m0\u001b[0m\u001b[1;36m.050000\u001b[0m \u001b[33m...\u001b[0m\n"
      ]
     },
     "metadata": {},
     "output_type": "display_data"
    },
    {
     "name": "stderr",
     "output_type": "stream",
     "text": [
      "loss=5.6194 (29.2299), lr=0.050000: : 100% 2400/2400 [00:41<00:00, 57.94it/s]  \n"
     ]
    },
    {
     "data": {
      "text/html": [
       "<pre style=\"white-space:pre;overflow-x:auto;line-height:normal;font-family:Menlo,'DejaVu Sans Mono',consolas,'Courier New',monospace\">==&gt; <span style=\"font-weight: bold\">[</span><span style=\"color: #008080; text-decoration-color: #008080; font-weight: bold\">2023</span>-<span style=\"color: #008080; text-decoration-color: #008080; font-weight: bold\">08</span>-27_06-<span style=\"color: #008080; text-decoration-color: #008080; font-weight: bold\">36</span>-<span style=\"color: #008080; text-decoration-color: #008080; font-weight: bold\">24</span><span style=\"font-weight: bold\">]</span> Finished Epoch <span style=\"color: #008080; text-decoration-color: #008080; font-weight: bold\">82</span>/<span style=\"color: #008080; text-decoration-color: #008080; font-weight: bold\">100</span>. <span style=\"color: #808000; text-decoration-color: #808000\">CPU</span>=<span style=\"color: #008080; text-decoration-color: #008080; font-weight: bold\">18.</span>7GB, <span style=\"color: #808000; text-decoration-color: #808000\">GPU</span>=<span style=\"color: #008080; text-decoration-color: #008080; font-weight: bold\">42.</span>5GB.\n",
       "</pre>\n"
      ],
      "text/plain": [
       "==> \u001b[1m[\u001b[0m\u001b[1;36m2023\u001b[0m-\u001b[1;36m08\u001b[0m-27_06-\u001b[1;36m36\u001b[0m-\u001b[1;36m24\u001b[0m\u001b[1m]\u001b[0m Finished Epoch \u001b[1;36m82\u001b[0m/\u001b[1;36m100\u001b[0m. \u001b[33mCPU\u001b[0m=\u001b[1;36m18\u001b[0m\u001b[1;36m.\u001b[0m7GB, \u001b[33mGPU\u001b[0m=\u001b[1;36m42\u001b[0m\u001b[1;36m.\u001b[0m5GB.\n"
      ]
     },
     "metadata": {},
     "output_type": "display_data"
    },
    {
     "data": {
      "text/html": [
       "<pre style=\"white-space:pre;overflow-x:auto;line-height:normal;font-family:Menlo,'DejaVu Sans Mono',consolas,'Courier New',monospace\">++&gt; Evaluate scorp_side_dmtet at epoch <span style=\"color: #008080; text-decoration-color: #008080; font-weight: bold\">82</span> <span style=\"color: #808000; text-decoration-color: #808000\">...</span>\n",
       "</pre>\n"
      ],
      "text/plain": [
       "++> Evaluate scorp_side_dmtet at epoch \u001b[1;36m82\u001b[0m \u001b[33m...\u001b[0m\n"
      ]
     },
     "metadata": {},
     "output_type": "display_data"
    },
    {
     "name": "stderr",
     "output_type": "stream",
     "text": [
      "loss=0.0000 (0.0000): : 100% 8/8 [00:00<00:00, 35.11it/s]\n"
     ]
    },
    {
     "data": {
      "text/html": [
       "<pre style=\"white-space:pre;overflow-x:auto;line-height:normal;font-family:Menlo,'DejaVu Sans Mono',consolas,'Courier New',monospace\">++&gt; Evaluate epoch <span style=\"color: #008080; text-decoration-color: #008080; font-weight: bold\">82</span> Finished.\n",
       "</pre>\n"
      ],
      "text/plain": [
       "++> Evaluate epoch \u001b[1;36m82\u001b[0m Finished.\n"
      ]
     },
     "metadata": {},
     "output_type": "display_data"
    },
    {
     "data": {
      "text/html": [
       "<pre style=\"white-space:pre;overflow-x:auto;line-height:normal;font-family:Menlo,'DejaVu Sans Mono',consolas,'Courier New',monospace\">==&gt; <span style=\"font-weight: bold\">[</span><span style=\"color: #008080; text-decoration-color: #008080; font-weight: bold\">2023</span>-<span style=\"color: #008080; text-decoration-color: #008080; font-weight: bold\">08</span>-27_06-<span style=\"color: #008080; text-decoration-color: #008080; font-weight: bold\">36</span>-<span style=\"color: #008080; text-decoration-color: #008080; font-weight: bold\">25</span><span style=\"font-weight: bold\">]</span> Start Training scorp_side_dmtet Epoch <span style=\"color: #008080; text-decoration-color: #008080; font-weight: bold\">83</span>/<span style=\"color: #008080; text-decoration-color: #008080; font-weight: bold\">100</span>, <span style=\"color: #808000; text-decoration-color: #808000\">lr</span>=<span style=\"color: #008080; text-decoration-color: #008080; font-weight: bold\">0.050000</span> <span style=\"color: #808000; text-decoration-color: #808000\">...</span>\n",
       "</pre>\n"
      ],
      "text/plain": [
       "==> \u001b[1m[\u001b[0m\u001b[1;36m2023\u001b[0m-\u001b[1;36m08\u001b[0m-27_06-\u001b[1;36m36\u001b[0m-\u001b[1;36m25\u001b[0m\u001b[1m]\u001b[0m Start Training scorp_side_dmtet Epoch \u001b[1;36m83\u001b[0m/\u001b[1;36m100\u001b[0m, \u001b[33mlr\u001b[0m=\u001b[1;36m0\u001b[0m\u001b[1;36m.050000\u001b[0m \u001b[33m...\u001b[0m\n"
      ]
     },
     "metadata": {},
     "output_type": "display_data"
    },
    {
     "name": "stderr",
     "output_type": "stream",
     "text": [
      "loss=5.5729 (32.1248), lr=0.050000: : 100% 2400/2400 [00:42<00:00, 55.87it/s] \n"
     ]
    },
    {
     "data": {
      "text/html": [
       "<pre style=\"white-space:pre;overflow-x:auto;line-height:normal;font-family:Menlo,'DejaVu Sans Mono',consolas,'Courier New',monospace\">==&gt; <span style=\"font-weight: bold\">[</span><span style=\"color: #008080; text-decoration-color: #008080; font-weight: bold\">2023</span>-<span style=\"color: #008080; text-decoration-color: #008080; font-weight: bold\">08</span>-27_06-<span style=\"color: #008080; text-decoration-color: #008080; font-weight: bold\">37</span>-<span style=\"color: #008080; text-decoration-color: #008080; font-weight: bold\">08</span><span style=\"font-weight: bold\">]</span> Finished Epoch <span style=\"color: #008080; text-decoration-color: #008080; font-weight: bold\">83</span>/<span style=\"color: #008080; text-decoration-color: #008080; font-weight: bold\">100</span>. <span style=\"color: #808000; text-decoration-color: #808000\">CPU</span>=<span style=\"color: #008080; text-decoration-color: #008080; font-weight: bold\">18.</span>7GB, <span style=\"color: #808000; text-decoration-color: #808000\">GPU</span>=<span style=\"color: #008080; text-decoration-color: #008080; font-weight: bold\">42.</span>5GB.\n",
       "</pre>\n"
      ],
      "text/plain": [
       "==> \u001b[1m[\u001b[0m\u001b[1;36m2023\u001b[0m-\u001b[1;36m08\u001b[0m-27_06-\u001b[1;36m37\u001b[0m-\u001b[1;36m08\u001b[0m\u001b[1m]\u001b[0m Finished Epoch \u001b[1;36m83\u001b[0m/\u001b[1;36m100\u001b[0m. \u001b[33mCPU\u001b[0m=\u001b[1;36m18\u001b[0m\u001b[1;36m.\u001b[0m7GB, \u001b[33mGPU\u001b[0m=\u001b[1;36m42\u001b[0m\u001b[1;36m.\u001b[0m5GB.\n"
      ]
     },
     "metadata": {},
     "output_type": "display_data"
    },
    {
     "data": {
      "text/html": [
       "<pre style=\"white-space:pre;overflow-x:auto;line-height:normal;font-family:Menlo,'DejaVu Sans Mono',consolas,'Courier New',monospace\">++&gt; Evaluate scorp_side_dmtet at epoch <span style=\"color: #008080; text-decoration-color: #008080; font-weight: bold\">83</span> <span style=\"color: #808000; text-decoration-color: #808000\">...</span>\n",
       "</pre>\n"
      ],
      "text/plain": [
       "++> Evaluate scorp_side_dmtet at epoch \u001b[1;36m83\u001b[0m \u001b[33m...\u001b[0m\n"
      ]
     },
     "metadata": {},
     "output_type": "display_data"
    },
    {
     "name": "stderr",
     "output_type": "stream",
     "text": [
      "loss=0.0000 (0.0000): : 100% 8/8 [00:00<00:00, 36.15it/s]\n"
     ]
    },
    {
     "data": {
      "text/html": [
       "<pre style=\"white-space:pre;overflow-x:auto;line-height:normal;font-family:Menlo,'DejaVu Sans Mono',consolas,'Courier New',monospace\">++&gt; Evaluate epoch <span style=\"color: #008080; text-decoration-color: #008080; font-weight: bold\">83</span> Finished.\n",
       "</pre>\n"
      ],
      "text/plain": [
       "++> Evaluate epoch \u001b[1;36m83\u001b[0m Finished.\n"
      ]
     },
     "metadata": {},
     "output_type": "display_data"
    },
    {
     "data": {
      "text/html": [
       "<pre style=\"white-space:pre;overflow-x:auto;line-height:normal;font-family:Menlo,'DejaVu Sans Mono',consolas,'Courier New',monospace\">==&gt; <span style=\"font-weight: bold\">[</span><span style=\"color: #008080; text-decoration-color: #008080; font-weight: bold\">2023</span>-<span style=\"color: #008080; text-decoration-color: #008080; font-weight: bold\">08</span>-27_06-<span style=\"color: #008080; text-decoration-color: #008080; font-weight: bold\">37</span>-<span style=\"color: #008080; text-decoration-color: #008080; font-weight: bold\">08</span><span style=\"font-weight: bold\">]</span> Start Training scorp_side_dmtet Epoch <span style=\"color: #008080; text-decoration-color: #008080; font-weight: bold\">84</span>/<span style=\"color: #008080; text-decoration-color: #008080; font-weight: bold\">100</span>, <span style=\"color: #808000; text-decoration-color: #808000\">lr</span>=<span style=\"color: #008080; text-decoration-color: #008080; font-weight: bold\">0.050000</span> <span style=\"color: #808000; text-decoration-color: #808000\">...</span>\n",
       "</pre>\n"
      ],
      "text/plain": [
       "==> \u001b[1m[\u001b[0m\u001b[1;36m2023\u001b[0m-\u001b[1;36m08\u001b[0m-27_06-\u001b[1;36m37\u001b[0m-\u001b[1;36m08\u001b[0m\u001b[1m]\u001b[0m Start Training scorp_side_dmtet Epoch \u001b[1;36m84\u001b[0m/\u001b[1;36m100\u001b[0m, \u001b[33mlr\u001b[0m=\u001b[1;36m0\u001b[0m\u001b[1;36m.050000\u001b[0m \u001b[33m...\u001b[0m\n"
      ]
     },
     "metadata": {},
     "output_type": "display_data"
    },
    {
     "name": "stderr",
     "output_type": "stream",
     "text": [
      "loss=5.4944 (35.7551), lr=0.050000: : 100% 2400/2400 [00:43<00:00, 55.37it/s]  \n"
     ]
    },
    {
     "data": {
      "text/html": [
       "<pre style=\"white-space:pre;overflow-x:auto;line-height:normal;font-family:Menlo,'DejaVu Sans Mono',consolas,'Courier New',monospace\">==&gt; <span style=\"font-weight: bold\">[</span><span style=\"color: #008080; text-decoration-color: #008080; font-weight: bold\">2023</span>-<span style=\"color: #008080; text-decoration-color: #008080; font-weight: bold\">08</span>-27_06-<span style=\"color: #008080; text-decoration-color: #008080; font-weight: bold\">37</span>-<span style=\"color: #008080; text-decoration-color: #008080; font-weight: bold\">52</span><span style=\"font-weight: bold\">]</span> Finished Epoch <span style=\"color: #008080; text-decoration-color: #008080; font-weight: bold\">84</span>/<span style=\"color: #008080; text-decoration-color: #008080; font-weight: bold\">100</span>. <span style=\"color: #808000; text-decoration-color: #808000\">CPU</span>=<span style=\"color: #008080; text-decoration-color: #008080; font-weight: bold\">18.</span>7GB, <span style=\"color: #808000; text-decoration-color: #808000\">GPU</span>=<span style=\"color: #008080; text-decoration-color: #008080; font-weight: bold\">42.</span>5GB.\n",
       "</pre>\n"
      ],
      "text/plain": [
       "==> \u001b[1m[\u001b[0m\u001b[1;36m2023\u001b[0m-\u001b[1;36m08\u001b[0m-27_06-\u001b[1;36m37\u001b[0m-\u001b[1;36m52\u001b[0m\u001b[1m]\u001b[0m Finished Epoch \u001b[1;36m84\u001b[0m/\u001b[1;36m100\u001b[0m. \u001b[33mCPU\u001b[0m=\u001b[1;36m18\u001b[0m\u001b[1;36m.\u001b[0m7GB, \u001b[33mGPU\u001b[0m=\u001b[1;36m42\u001b[0m\u001b[1;36m.\u001b[0m5GB.\n"
      ]
     },
     "metadata": {},
     "output_type": "display_data"
    },
    {
     "data": {
      "text/html": [
       "<pre style=\"white-space:pre;overflow-x:auto;line-height:normal;font-family:Menlo,'DejaVu Sans Mono',consolas,'Courier New',monospace\">++&gt; Evaluate scorp_side_dmtet at epoch <span style=\"color: #008080; text-decoration-color: #008080; font-weight: bold\">84</span> <span style=\"color: #808000; text-decoration-color: #808000\">...</span>\n",
       "</pre>\n"
      ],
      "text/plain": [
       "++> Evaluate scorp_side_dmtet at epoch \u001b[1;36m84\u001b[0m \u001b[33m...\u001b[0m\n"
      ]
     },
     "metadata": {},
     "output_type": "display_data"
    },
    {
     "name": "stderr",
     "output_type": "stream",
     "text": [
      "loss=0.0000 (0.0000): : 100% 8/8 [00:00<00:00, 35.35it/s]\n"
     ]
    },
    {
     "data": {
      "text/html": [
       "<pre style=\"white-space:pre;overflow-x:auto;line-height:normal;font-family:Menlo,'DejaVu Sans Mono',consolas,'Courier New',monospace\">++&gt; Evaluate epoch <span style=\"color: #008080; text-decoration-color: #008080; font-weight: bold\">84</span> Finished.\n",
       "</pre>\n"
      ],
      "text/plain": [
       "++> Evaluate epoch \u001b[1;36m84\u001b[0m Finished.\n"
      ]
     },
     "metadata": {},
     "output_type": "display_data"
    },
    {
     "data": {
      "text/html": [
       "<pre style=\"white-space:pre;overflow-x:auto;line-height:normal;font-family:Menlo,'DejaVu Sans Mono',consolas,'Courier New',monospace\">==&gt; <span style=\"font-weight: bold\">[</span><span style=\"color: #008080; text-decoration-color: #008080; font-weight: bold\">2023</span>-<span style=\"color: #008080; text-decoration-color: #008080; font-weight: bold\">08</span>-27_06-<span style=\"color: #008080; text-decoration-color: #008080; font-weight: bold\">37</span>-<span style=\"color: #008080; text-decoration-color: #008080; font-weight: bold\">52</span><span style=\"font-weight: bold\">]</span> Start Training scorp_side_dmtet Epoch <span style=\"color: #008080; text-decoration-color: #008080; font-weight: bold\">85</span>/<span style=\"color: #008080; text-decoration-color: #008080; font-weight: bold\">100</span>, <span style=\"color: #808000; text-decoration-color: #808000\">lr</span>=<span style=\"color: #008080; text-decoration-color: #008080; font-weight: bold\">0.050000</span> <span style=\"color: #808000; text-decoration-color: #808000\">...</span>\n",
       "</pre>\n"
      ],
      "text/plain": [
       "==> \u001b[1m[\u001b[0m\u001b[1;36m2023\u001b[0m-\u001b[1;36m08\u001b[0m-27_06-\u001b[1;36m37\u001b[0m-\u001b[1;36m52\u001b[0m\u001b[1m]\u001b[0m Start Training scorp_side_dmtet Epoch \u001b[1;36m85\u001b[0m/\u001b[1;36m100\u001b[0m, \u001b[33mlr\u001b[0m=\u001b[1;36m0\u001b[0m\u001b[1;36m.050000\u001b[0m \u001b[33m...\u001b[0m\n"
      ]
     },
     "metadata": {},
     "output_type": "display_data"
    },
    {
     "name": "stderr",
     "output_type": "stream",
     "text": [
      "loss=5.5191 (34.1857), lr=0.050000: : 100% 2400/2400 [00:41<00:00, 57.97it/s]  \n"
     ]
    },
    {
     "data": {
      "text/html": [
       "<pre style=\"white-space:pre;overflow-x:auto;line-height:normal;font-family:Menlo,'DejaVu Sans Mono',consolas,'Courier New',monospace\">==&gt; <span style=\"font-weight: bold\">[</span><span style=\"color: #008080; text-decoration-color: #008080; font-weight: bold\">2023</span>-<span style=\"color: #008080; text-decoration-color: #008080; font-weight: bold\">08</span>-27_06-<span style=\"color: #008080; text-decoration-color: #008080; font-weight: bold\">38</span>-<span style=\"color: #008080; text-decoration-color: #008080; font-weight: bold\">34</span><span style=\"font-weight: bold\">]</span> Finished Epoch <span style=\"color: #008080; text-decoration-color: #008080; font-weight: bold\">85</span>/<span style=\"color: #008080; text-decoration-color: #008080; font-weight: bold\">100</span>. <span style=\"color: #808000; text-decoration-color: #808000\">CPU</span>=<span style=\"color: #008080; text-decoration-color: #008080; font-weight: bold\">18.</span>7GB, <span style=\"color: #808000; text-decoration-color: #808000\">GPU</span>=<span style=\"color: #008080; text-decoration-color: #008080; font-weight: bold\">42.</span>5GB.\n",
       "</pre>\n"
      ],
      "text/plain": [
       "==> \u001b[1m[\u001b[0m\u001b[1;36m2023\u001b[0m-\u001b[1;36m08\u001b[0m-27_06-\u001b[1;36m38\u001b[0m-\u001b[1;36m34\u001b[0m\u001b[1m]\u001b[0m Finished Epoch \u001b[1;36m85\u001b[0m/\u001b[1;36m100\u001b[0m. \u001b[33mCPU\u001b[0m=\u001b[1;36m18\u001b[0m\u001b[1;36m.\u001b[0m7GB, \u001b[33mGPU\u001b[0m=\u001b[1;36m42\u001b[0m\u001b[1;36m.\u001b[0m5GB.\n"
      ]
     },
     "metadata": {},
     "output_type": "display_data"
    },
    {
     "data": {
      "text/html": [
       "<pre style=\"white-space:pre;overflow-x:auto;line-height:normal;font-family:Menlo,'DejaVu Sans Mono',consolas,'Courier New',monospace\">++&gt; Evaluate scorp_side_dmtet at epoch <span style=\"color: #008080; text-decoration-color: #008080; font-weight: bold\">85</span> <span style=\"color: #808000; text-decoration-color: #808000\">...</span>\n",
       "</pre>\n"
      ],
      "text/plain": [
       "++> Evaluate scorp_side_dmtet at epoch \u001b[1;36m85\u001b[0m \u001b[33m...\u001b[0m\n"
      ]
     },
     "metadata": {},
     "output_type": "display_data"
    },
    {
     "name": "stderr",
     "output_type": "stream",
     "text": [
      "loss=0.0000 (0.0000): : 100% 8/8 [00:00<00:00, 33.99it/s]\n"
     ]
    },
    {
     "data": {
      "text/html": [
       "<pre style=\"white-space:pre;overflow-x:auto;line-height:normal;font-family:Menlo,'DejaVu Sans Mono',consolas,'Courier New',monospace\">++&gt; Evaluate epoch <span style=\"color: #008080; text-decoration-color: #008080; font-weight: bold\">85</span> Finished.\n",
       "</pre>\n"
      ],
      "text/plain": [
       "++> Evaluate epoch \u001b[1;36m85\u001b[0m Finished.\n"
      ]
     },
     "metadata": {},
     "output_type": "display_data"
    },
    {
     "data": {
      "text/html": [
       "<pre style=\"white-space:pre;overflow-x:auto;line-height:normal;font-family:Menlo,'DejaVu Sans Mono',consolas,'Courier New',monospace\">==&gt; Start Test, save results to scorp_side_dmtet/results\n",
       "</pre>\n"
      ],
      "text/plain": [
       "==> Start Test, save results to scorp_side_dmtet/results\n"
      ]
     },
     "metadata": {},
     "output_type": "display_data"
    },
    {
     "name": "stderr",
     "output_type": "stream",
     "text": [
      " 99% 99/100 [00:01<00:00, 82.94it/s]"
     ]
    },
    {
     "data": {
      "text/html": [
       "<pre style=\"white-space:pre;overflow-x:auto;line-height:normal;font-family:Menlo,'DejaVu Sans Mono',consolas,'Courier New',monospace\">==&gt; Finished Test.\n",
       "</pre>\n"
      ],
      "text/plain": [
       "==> Finished Test.\n"
      ]
     },
     "metadata": {},
     "output_type": "display_data"
    },
    {
     "name": "stderr",
     "output_type": "stream",
     "text": [
      "100% 100/100 [00:03<00:00, 28.61it/s]\n"
     ]
    },
    {
     "data": {
      "text/html": [
       "<pre style=\"white-space:pre;overflow-x:auto;line-height:normal;font-family:Menlo,'DejaVu Sans Mono',consolas,'Courier New',monospace\">==&gt; <span style=\"font-weight: bold\">[</span><span style=\"color: #008080; text-decoration-color: #008080; font-weight: bold\">2023</span>-<span style=\"color: #008080; text-decoration-color: #008080; font-weight: bold\">08</span>-27_06-<span style=\"color: #008080; text-decoration-color: #008080; font-weight: bold\">38</span>-<span style=\"color: #008080; text-decoration-color: #008080; font-weight: bold\">38</span><span style=\"font-weight: bold\">]</span> Start Training scorp_side_dmtet Epoch <span style=\"color: #008080; text-decoration-color: #008080; font-weight: bold\">86</span>/<span style=\"color: #008080; text-decoration-color: #008080; font-weight: bold\">100</span>, <span style=\"color: #808000; text-decoration-color: #808000\">lr</span>=<span style=\"color: #008080; text-decoration-color: #008080; font-weight: bold\">0.050000</span> <span style=\"color: #808000; text-decoration-color: #808000\">...</span>\n",
       "</pre>\n"
      ],
      "text/plain": [
       "==> \u001b[1m[\u001b[0m\u001b[1;36m2023\u001b[0m-\u001b[1;36m08\u001b[0m-27_06-\u001b[1;36m38\u001b[0m-\u001b[1;36m38\u001b[0m\u001b[1m]\u001b[0m Start Training scorp_side_dmtet Epoch \u001b[1;36m86\u001b[0m/\u001b[1;36m100\u001b[0m, \u001b[33mlr\u001b[0m=\u001b[1;36m0\u001b[0m\u001b[1;36m.050000\u001b[0m \u001b[33m...\u001b[0m\n"
      ]
     },
     "metadata": {},
     "output_type": "display_data"
    },
    {
     "name": "stderr",
     "output_type": "stream",
     "text": [
      "loss=5.4503 (33.1223), lr=0.050000: : 100% 2400/2400 [00:41<00:00, 57.29it/s]  \n"
     ]
    },
    {
     "data": {
      "text/html": [
       "<pre style=\"white-space:pre;overflow-x:auto;line-height:normal;font-family:Menlo,'DejaVu Sans Mono',consolas,'Courier New',monospace\">==&gt; <span style=\"font-weight: bold\">[</span><span style=\"color: #008080; text-decoration-color: #008080; font-weight: bold\">2023</span>-<span style=\"color: #008080; text-decoration-color: #008080; font-weight: bold\">08</span>-27_06-<span style=\"color: #008080; text-decoration-color: #008080; font-weight: bold\">39</span>-<span style=\"color: #008080; text-decoration-color: #008080; font-weight: bold\">20</span><span style=\"font-weight: bold\">]</span> Finished Epoch <span style=\"color: #008080; text-decoration-color: #008080; font-weight: bold\">86</span>/<span style=\"color: #008080; text-decoration-color: #008080; font-weight: bold\">100</span>. <span style=\"color: #808000; text-decoration-color: #808000\">CPU</span>=<span style=\"color: #008080; text-decoration-color: #008080; font-weight: bold\">18.</span>7GB, <span style=\"color: #808000; text-decoration-color: #808000\">GPU</span>=<span style=\"color: #008080; text-decoration-color: #008080; font-weight: bold\">42.</span>5GB.\n",
       "</pre>\n"
      ],
      "text/plain": [
       "==> \u001b[1m[\u001b[0m\u001b[1;36m2023\u001b[0m-\u001b[1;36m08\u001b[0m-27_06-\u001b[1;36m39\u001b[0m-\u001b[1;36m20\u001b[0m\u001b[1m]\u001b[0m Finished Epoch \u001b[1;36m86\u001b[0m/\u001b[1;36m100\u001b[0m. \u001b[33mCPU\u001b[0m=\u001b[1;36m18\u001b[0m\u001b[1;36m.\u001b[0m7GB, \u001b[33mGPU\u001b[0m=\u001b[1;36m42\u001b[0m\u001b[1;36m.\u001b[0m5GB.\n"
      ]
     },
     "metadata": {},
     "output_type": "display_data"
    },
    {
     "data": {
      "text/html": [
       "<pre style=\"white-space:pre;overflow-x:auto;line-height:normal;font-family:Menlo,'DejaVu Sans Mono',consolas,'Courier New',monospace\">++&gt; Evaluate scorp_side_dmtet at epoch <span style=\"color: #008080; text-decoration-color: #008080; font-weight: bold\">86</span> <span style=\"color: #808000; text-decoration-color: #808000\">...</span>\n",
       "</pre>\n"
      ],
      "text/plain": [
       "++> Evaluate scorp_side_dmtet at epoch \u001b[1;36m86\u001b[0m \u001b[33m...\u001b[0m\n"
      ]
     },
     "metadata": {},
     "output_type": "display_data"
    },
    {
     "name": "stderr",
     "output_type": "stream",
     "text": [
      "loss=0.0000 (0.0000): : 100% 8/8 [00:00<00:00, 33.45it/s]\n"
     ]
    },
    {
     "data": {
      "text/html": [
       "<pre style=\"white-space:pre;overflow-x:auto;line-height:normal;font-family:Menlo,'DejaVu Sans Mono',consolas,'Courier New',monospace\">++&gt; Evaluate epoch <span style=\"color: #008080; text-decoration-color: #008080; font-weight: bold\">86</span> Finished.\n",
       "</pre>\n"
      ],
      "text/plain": [
       "++> Evaluate epoch \u001b[1;36m86\u001b[0m Finished.\n"
      ]
     },
     "metadata": {},
     "output_type": "display_data"
    },
    {
     "data": {
      "text/html": [
       "<pre style=\"white-space:pre;overflow-x:auto;line-height:normal;font-family:Menlo,'DejaVu Sans Mono',consolas,'Courier New',monospace\">==&gt; <span style=\"font-weight: bold\">[</span><span style=\"color: #008080; text-decoration-color: #008080; font-weight: bold\">2023</span>-<span style=\"color: #008080; text-decoration-color: #008080; font-weight: bold\">08</span>-27_06-<span style=\"color: #008080; text-decoration-color: #008080; font-weight: bold\">39</span>-<span style=\"color: #008080; text-decoration-color: #008080; font-weight: bold\">21</span><span style=\"font-weight: bold\">]</span> Start Training scorp_side_dmtet Epoch <span style=\"color: #008080; text-decoration-color: #008080; font-weight: bold\">87</span>/<span style=\"color: #008080; text-decoration-color: #008080; font-weight: bold\">100</span>, <span style=\"color: #808000; text-decoration-color: #808000\">lr</span>=<span style=\"color: #008080; text-decoration-color: #008080; font-weight: bold\">0.050000</span> <span style=\"color: #808000; text-decoration-color: #808000\">...</span>\n",
       "</pre>\n"
      ],
      "text/plain": [
       "==> \u001b[1m[\u001b[0m\u001b[1;36m2023\u001b[0m-\u001b[1;36m08\u001b[0m-27_06-\u001b[1;36m39\u001b[0m-\u001b[1;36m21\u001b[0m\u001b[1m]\u001b[0m Start Training scorp_side_dmtet Epoch \u001b[1;36m87\u001b[0m/\u001b[1;36m100\u001b[0m, \u001b[33mlr\u001b[0m=\u001b[1;36m0\u001b[0m\u001b[1;36m.050000\u001b[0m \u001b[33m...\u001b[0m\n"
      ]
     },
     "metadata": {},
     "output_type": "display_data"
    },
    {
     "name": "stderr",
     "output_type": "stream",
     "text": [
      "loss=5.4679 (32.9467), lr=0.050000: : 100% 2400/2400 [00:41<00:00, 57.54it/s] \n"
     ]
    },
    {
     "data": {
      "text/html": [
       "<pre style=\"white-space:pre;overflow-x:auto;line-height:normal;font-family:Menlo,'DejaVu Sans Mono',consolas,'Courier New',monospace\">==&gt; <span style=\"font-weight: bold\">[</span><span style=\"color: #008080; text-decoration-color: #008080; font-weight: bold\">2023</span>-<span style=\"color: #008080; text-decoration-color: #008080; font-weight: bold\">08</span>-27_06-<span style=\"color: #008080; text-decoration-color: #008080; font-weight: bold\">40</span>-<span style=\"color: #008080; text-decoration-color: #008080; font-weight: bold\">02</span><span style=\"font-weight: bold\">]</span> Finished Epoch <span style=\"color: #008080; text-decoration-color: #008080; font-weight: bold\">87</span>/<span style=\"color: #008080; text-decoration-color: #008080; font-weight: bold\">100</span>. <span style=\"color: #808000; text-decoration-color: #808000\">CPU</span>=<span style=\"color: #008080; text-decoration-color: #008080; font-weight: bold\">18.</span>7GB, <span style=\"color: #808000; text-decoration-color: #808000\">GPU</span>=<span style=\"color: #008080; text-decoration-color: #008080; font-weight: bold\">42.</span>5GB.\n",
       "</pre>\n"
      ],
      "text/plain": [
       "==> \u001b[1m[\u001b[0m\u001b[1;36m2023\u001b[0m-\u001b[1;36m08\u001b[0m-27_06-\u001b[1;36m40\u001b[0m-\u001b[1;36m02\u001b[0m\u001b[1m]\u001b[0m Finished Epoch \u001b[1;36m87\u001b[0m/\u001b[1;36m100\u001b[0m. \u001b[33mCPU\u001b[0m=\u001b[1;36m18\u001b[0m\u001b[1;36m.\u001b[0m7GB, \u001b[33mGPU\u001b[0m=\u001b[1;36m42\u001b[0m\u001b[1;36m.\u001b[0m5GB.\n"
      ]
     },
     "metadata": {},
     "output_type": "display_data"
    },
    {
     "data": {
      "text/html": [
       "<pre style=\"white-space:pre;overflow-x:auto;line-height:normal;font-family:Menlo,'DejaVu Sans Mono',consolas,'Courier New',monospace\">++&gt; Evaluate scorp_side_dmtet at epoch <span style=\"color: #008080; text-decoration-color: #008080; font-weight: bold\">87</span> <span style=\"color: #808000; text-decoration-color: #808000\">...</span>\n",
       "</pre>\n"
      ],
      "text/plain": [
       "++> Evaluate scorp_side_dmtet at epoch \u001b[1;36m87\u001b[0m \u001b[33m...\u001b[0m\n"
      ]
     },
     "metadata": {},
     "output_type": "display_data"
    },
    {
     "name": "stderr",
     "output_type": "stream",
     "text": [
      "loss=0.0000 (0.0000): : 100% 8/8 [00:00<00:00, 35.34it/s]\n"
     ]
    },
    {
     "data": {
      "text/html": [
       "<pre style=\"white-space:pre;overflow-x:auto;line-height:normal;font-family:Menlo,'DejaVu Sans Mono',consolas,'Courier New',monospace\">++&gt; Evaluate epoch <span style=\"color: #008080; text-decoration-color: #008080; font-weight: bold\">87</span> Finished.\n",
       "</pre>\n"
      ],
      "text/plain": [
       "++> Evaluate epoch \u001b[1;36m87\u001b[0m Finished.\n"
      ]
     },
     "metadata": {},
     "output_type": "display_data"
    },
    {
     "data": {
      "text/html": [
       "<pre style=\"white-space:pre;overflow-x:auto;line-height:normal;font-family:Menlo,'DejaVu Sans Mono',consolas,'Courier New',monospace\">==&gt; <span style=\"font-weight: bold\">[</span><span style=\"color: #008080; text-decoration-color: #008080; font-weight: bold\">2023</span>-<span style=\"color: #008080; text-decoration-color: #008080; font-weight: bold\">08</span>-27_06-<span style=\"color: #008080; text-decoration-color: #008080; font-weight: bold\">40</span>-<span style=\"color: #008080; text-decoration-color: #008080; font-weight: bold\">03</span><span style=\"font-weight: bold\">]</span> Start Training scorp_side_dmtet Epoch <span style=\"color: #008080; text-decoration-color: #008080; font-weight: bold\">88</span>/<span style=\"color: #008080; text-decoration-color: #008080; font-weight: bold\">100</span>, <span style=\"color: #808000; text-decoration-color: #808000\">lr</span>=<span style=\"color: #008080; text-decoration-color: #008080; font-weight: bold\">0.050000</span> <span style=\"color: #808000; text-decoration-color: #808000\">...</span>\n",
       "</pre>\n"
      ],
      "text/plain": [
       "==> \u001b[1m[\u001b[0m\u001b[1;36m2023\u001b[0m-\u001b[1;36m08\u001b[0m-27_06-\u001b[1;36m40\u001b[0m-\u001b[1;36m03\u001b[0m\u001b[1m]\u001b[0m Start Training scorp_side_dmtet Epoch \u001b[1;36m88\u001b[0m/\u001b[1;36m100\u001b[0m, \u001b[33mlr\u001b[0m=\u001b[1;36m0\u001b[0m\u001b[1;36m.050000\u001b[0m \u001b[33m...\u001b[0m\n"
      ]
     },
     "metadata": {},
     "output_type": "display_data"
    },
    {
     "name": "stderr",
     "output_type": "stream",
     "text": [
      "loss=5.4573 (32.4225), lr=0.050000: : 100% 2400/2400 [00:42<00:00, 57.00it/s]  \n"
     ]
    },
    {
     "data": {
      "text/html": [
       "<pre style=\"white-space:pre;overflow-x:auto;line-height:normal;font-family:Menlo,'DejaVu Sans Mono',consolas,'Courier New',monospace\">==&gt; <span style=\"font-weight: bold\">[</span><span style=\"color: #008080; text-decoration-color: #008080; font-weight: bold\">2023</span>-<span style=\"color: #008080; text-decoration-color: #008080; font-weight: bold\">08</span>-27_06-<span style=\"color: #008080; text-decoration-color: #008080; font-weight: bold\">40</span>-<span style=\"color: #008080; text-decoration-color: #008080; font-weight: bold\">45</span><span style=\"font-weight: bold\">]</span> Finished Epoch <span style=\"color: #008080; text-decoration-color: #008080; font-weight: bold\">88</span>/<span style=\"color: #008080; text-decoration-color: #008080; font-weight: bold\">100</span>. <span style=\"color: #808000; text-decoration-color: #808000\">CPU</span>=<span style=\"color: #008080; text-decoration-color: #008080; font-weight: bold\">18.</span>7GB, <span style=\"color: #808000; text-decoration-color: #808000\">GPU</span>=<span style=\"color: #008080; text-decoration-color: #008080; font-weight: bold\">42.</span>5GB.\n",
       "</pre>\n"
      ],
      "text/plain": [
       "==> \u001b[1m[\u001b[0m\u001b[1;36m2023\u001b[0m-\u001b[1;36m08\u001b[0m-27_06-\u001b[1;36m40\u001b[0m-\u001b[1;36m45\u001b[0m\u001b[1m]\u001b[0m Finished Epoch \u001b[1;36m88\u001b[0m/\u001b[1;36m100\u001b[0m. \u001b[33mCPU\u001b[0m=\u001b[1;36m18\u001b[0m\u001b[1;36m.\u001b[0m7GB, \u001b[33mGPU\u001b[0m=\u001b[1;36m42\u001b[0m\u001b[1;36m.\u001b[0m5GB.\n"
      ]
     },
     "metadata": {},
     "output_type": "display_data"
    },
    {
     "data": {
      "text/html": [
       "<pre style=\"white-space:pre;overflow-x:auto;line-height:normal;font-family:Menlo,'DejaVu Sans Mono',consolas,'Courier New',monospace\">++&gt; Evaluate scorp_side_dmtet at epoch <span style=\"color: #008080; text-decoration-color: #008080; font-weight: bold\">88</span> <span style=\"color: #808000; text-decoration-color: #808000\">...</span>\n",
       "</pre>\n"
      ],
      "text/plain": [
       "++> Evaluate scorp_side_dmtet at epoch \u001b[1;36m88\u001b[0m \u001b[33m...\u001b[0m\n"
      ]
     },
     "metadata": {},
     "output_type": "display_data"
    },
    {
     "name": "stderr",
     "output_type": "stream",
     "text": [
      "loss=0.0000 (0.0000): : 100% 8/8 [00:00<00:00, 35.75it/s]\n"
     ]
    },
    {
     "data": {
      "text/html": [
       "<pre style=\"white-space:pre;overflow-x:auto;line-height:normal;font-family:Menlo,'DejaVu Sans Mono',consolas,'Courier New',monospace\">++&gt; Evaluate epoch <span style=\"color: #008080; text-decoration-color: #008080; font-weight: bold\">88</span> Finished.\n",
       "</pre>\n"
      ],
      "text/plain": [
       "++> Evaluate epoch \u001b[1;36m88\u001b[0m Finished.\n"
      ]
     },
     "metadata": {},
     "output_type": "display_data"
    },
    {
     "data": {
      "text/html": [
       "<pre style=\"white-space:pre;overflow-x:auto;line-height:normal;font-family:Menlo,'DejaVu Sans Mono',consolas,'Courier New',monospace\">==&gt; <span style=\"font-weight: bold\">[</span><span style=\"color: #008080; text-decoration-color: #008080; font-weight: bold\">2023</span>-<span style=\"color: #008080; text-decoration-color: #008080; font-weight: bold\">08</span>-27_06-<span style=\"color: #008080; text-decoration-color: #008080; font-weight: bold\">40</span>-<span style=\"color: #008080; text-decoration-color: #008080; font-weight: bold\">46</span><span style=\"font-weight: bold\">]</span> Start Training scorp_side_dmtet Epoch <span style=\"color: #008080; text-decoration-color: #008080; font-weight: bold\">89</span>/<span style=\"color: #008080; text-decoration-color: #008080; font-weight: bold\">100</span>, <span style=\"color: #808000; text-decoration-color: #808000\">lr</span>=<span style=\"color: #008080; text-decoration-color: #008080; font-weight: bold\">0.050000</span> <span style=\"color: #808000; text-decoration-color: #808000\">...</span>\n",
       "</pre>\n"
      ],
      "text/plain": [
       "==> \u001b[1m[\u001b[0m\u001b[1;36m2023\u001b[0m-\u001b[1;36m08\u001b[0m-27_06-\u001b[1;36m40\u001b[0m-\u001b[1;36m46\u001b[0m\u001b[1m]\u001b[0m Start Training scorp_side_dmtet Epoch \u001b[1;36m89\u001b[0m/\u001b[1;36m100\u001b[0m, \u001b[33mlr\u001b[0m=\u001b[1;36m0\u001b[0m\u001b[1;36m.050000\u001b[0m \u001b[33m...\u001b[0m\n"
      ]
     },
     "metadata": {},
     "output_type": "display_data"
    },
    {
     "name": "stderr",
     "output_type": "stream",
     "text": [
      "loss=5.4587 (34.7666), lr=0.050000: : 100% 2400/2400 [00:41<00:00, 58.38it/s] \n"
     ]
    },
    {
     "data": {
      "text/html": [
       "<pre style=\"white-space:pre;overflow-x:auto;line-height:normal;font-family:Menlo,'DejaVu Sans Mono',consolas,'Courier New',monospace\">==&gt; <span style=\"font-weight: bold\">[</span><span style=\"color: #008080; text-decoration-color: #008080; font-weight: bold\">2023</span>-<span style=\"color: #008080; text-decoration-color: #008080; font-weight: bold\">08</span>-27_06-<span style=\"color: #008080; text-decoration-color: #008080; font-weight: bold\">41</span>-<span style=\"color: #008080; text-decoration-color: #008080; font-weight: bold\">27</span><span style=\"font-weight: bold\">]</span> Finished Epoch <span style=\"color: #008080; text-decoration-color: #008080; font-weight: bold\">89</span>/<span style=\"color: #008080; text-decoration-color: #008080; font-weight: bold\">100</span>. <span style=\"color: #808000; text-decoration-color: #808000\">CPU</span>=<span style=\"color: #008080; text-decoration-color: #008080; font-weight: bold\">18.</span>7GB, <span style=\"color: #808000; text-decoration-color: #808000\">GPU</span>=<span style=\"color: #008080; text-decoration-color: #008080; font-weight: bold\">42.</span>5GB.\n",
       "</pre>\n"
      ],
      "text/plain": [
       "==> \u001b[1m[\u001b[0m\u001b[1;36m2023\u001b[0m-\u001b[1;36m08\u001b[0m-27_06-\u001b[1;36m41\u001b[0m-\u001b[1;36m27\u001b[0m\u001b[1m]\u001b[0m Finished Epoch \u001b[1;36m89\u001b[0m/\u001b[1;36m100\u001b[0m. \u001b[33mCPU\u001b[0m=\u001b[1;36m18\u001b[0m\u001b[1;36m.\u001b[0m7GB, \u001b[33mGPU\u001b[0m=\u001b[1;36m42\u001b[0m\u001b[1;36m.\u001b[0m5GB.\n"
      ]
     },
     "metadata": {},
     "output_type": "display_data"
    },
    {
     "data": {
      "text/html": [
       "<pre style=\"white-space:pre;overflow-x:auto;line-height:normal;font-family:Menlo,'DejaVu Sans Mono',consolas,'Courier New',monospace\">++&gt; Evaluate scorp_side_dmtet at epoch <span style=\"color: #008080; text-decoration-color: #008080; font-weight: bold\">89</span> <span style=\"color: #808000; text-decoration-color: #808000\">...</span>\n",
       "</pre>\n"
      ],
      "text/plain": [
       "++> Evaluate scorp_side_dmtet at epoch \u001b[1;36m89\u001b[0m \u001b[33m...\u001b[0m\n"
      ]
     },
     "metadata": {},
     "output_type": "display_data"
    },
    {
     "name": "stderr",
     "output_type": "stream",
     "text": [
      "loss=0.0000 (0.0000): : 100% 8/8 [00:00<00:00, 35.35it/s]\n"
     ]
    },
    {
     "data": {
      "text/html": [
       "<pre style=\"white-space:pre;overflow-x:auto;line-height:normal;font-family:Menlo,'DejaVu Sans Mono',consolas,'Courier New',monospace\">++&gt; Evaluate epoch <span style=\"color: #008080; text-decoration-color: #008080; font-weight: bold\">89</span> Finished.\n",
       "</pre>\n"
      ],
      "text/plain": [
       "++> Evaluate epoch \u001b[1;36m89\u001b[0m Finished.\n"
      ]
     },
     "metadata": {},
     "output_type": "display_data"
    },
    {
     "data": {
      "text/html": [
       "<pre style=\"white-space:pre;overflow-x:auto;line-height:normal;font-family:Menlo,'DejaVu Sans Mono',consolas,'Courier New',monospace\">==&gt; <span style=\"font-weight: bold\">[</span><span style=\"color: #008080; text-decoration-color: #008080; font-weight: bold\">2023</span>-<span style=\"color: #008080; text-decoration-color: #008080; font-weight: bold\">08</span>-27_06-<span style=\"color: #008080; text-decoration-color: #008080; font-weight: bold\">41</span>-<span style=\"color: #008080; text-decoration-color: #008080; font-weight: bold\">27</span><span style=\"font-weight: bold\">]</span> Start Training scorp_side_dmtet Epoch <span style=\"color: #008080; text-decoration-color: #008080; font-weight: bold\">90</span>/<span style=\"color: #008080; text-decoration-color: #008080; font-weight: bold\">100</span>, <span style=\"color: #808000; text-decoration-color: #808000\">lr</span>=<span style=\"color: #008080; text-decoration-color: #008080; font-weight: bold\">0.050000</span> <span style=\"color: #808000; text-decoration-color: #808000\">...</span>\n",
       "</pre>\n"
      ],
      "text/plain": [
       "==> \u001b[1m[\u001b[0m\u001b[1;36m2023\u001b[0m-\u001b[1;36m08\u001b[0m-27_06-\u001b[1;36m41\u001b[0m-\u001b[1;36m27\u001b[0m\u001b[1m]\u001b[0m Start Training scorp_side_dmtet Epoch \u001b[1;36m90\u001b[0m/\u001b[1;36m100\u001b[0m, \u001b[33mlr\u001b[0m=\u001b[1;36m0\u001b[0m\u001b[1;36m.050000\u001b[0m \u001b[33m...\u001b[0m\n"
      ]
     },
     "metadata": {},
     "output_type": "display_data"
    },
    {
     "name": "stderr",
     "output_type": "stream",
     "text": [
      "loss=5.4396 (33.5642), lr=0.050000: : 100% 2400/2400 [00:42<00:00, 56.89it/s]  \n"
     ]
    },
    {
     "data": {
      "text/html": [
       "<pre style=\"white-space:pre;overflow-x:auto;line-height:normal;font-family:Menlo,'DejaVu Sans Mono',consolas,'Courier New',monospace\">==&gt; <span style=\"font-weight: bold\">[</span><span style=\"color: #008080; text-decoration-color: #008080; font-weight: bold\">2023</span>-<span style=\"color: #008080; text-decoration-color: #008080; font-weight: bold\">08</span>-27_06-<span style=\"color: #008080; text-decoration-color: #008080; font-weight: bold\">42</span>-<span style=\"color: #008080; text-decoration-color: #008080; font-weight: bold\">10</span><span style=\"font-weight: bold\">]</span> Finished Epoch <span style=\"color: #008080; text-decoration-color: #008080; font-weight: bold\">90</span>/<span style=\"color: #008080; text-decoration-color: #008080; font-weight: bold\">100</span>. <span style=\"color: #808000; text-decoration-color: #808000\">CPU</span>=<span style=\"color: #008080; text-decoration-color: #008080; font-weight: bold\">18.</span>7GB, <span style=\"color: #808000; text-decoration-color: #808000\">GPU</span>=<span style=\"color: #008080; text-decoration-color: #008080; font-weight: bold\">42.</span>5GB.\n",
       "</pre>\n"
      ],
      "text/plain": [
       "==> \u001b[1m[\u001b[0m\u001b[1;36m2023\u001b[0m-\u001b[1;36m08\u001b[0m-27_06-\u001b[1;36m42\u001b[0m-\u001b[1;36m10\u001b[0m\u001b[1m]\u001b[0m Finished Epoch \u001b[1;36m90\u001b[0m/\u001b[1;36m100\u001b[0m. \u001b[33mCPU\u001b[0m=\u001b[1;36m18\u001b[0m\u001b[1;36m.\u001b[0m7GB, \u001b[33mGPU\u001b[0m=\u001b[1;36m42\u001b[0m\u001b[1;36m.\u001b[0m5GB.\n"
      ]
     },
     "metadata": {},
     "output_type": "display_data"
    },
    {
     "data": {
      "text/html": [
       "<pre style=\"white-space:pre;overflow-x:auto;line-height:normal;font-family:Menlo,'DejaVu Sans Mono',consolas,'Courier New',monospace\">++&gt; Evaluate scorp_side_dmtet at epoch <span style=\"color: #008080; text-decoration-color: #008080; font-weight: bold\">90</span> <span style=\"color: #808000; text-decoration-color: #808000\">...</span>\n",
       "</pre>\n"
      ],
      "text/plain": [
       "++> Evaluate scorp_side_dmtet at epoch \u001b[1;36m90\u001b[0m \u001b[33m...\u001b[0m\n"
      ]
     },
     "metadata": {},
     "output_type": "display_data"
    },
    {
     "name": "stderr",
     "output_type": "stream",
     "text": [
      "loss=0.0000 (0.0000): : 100% 8/8 [00:00<00:00, 35.47it/s]\n"
     ]
    },
    {
     "data": {
      "text/html": [
       "<pre style=\"white-space:pre;overflow-x:auto;line-height:normal;font-family:Menlo,'DejaVu Sans Mono',consolas,'Courier New',monospace\">++&gt; Evaluate epoch <span style=\"color: #008080; text-decoration-color: #008080; font-weight: bold\">90</span> Finished.\n",
       "</pre>\n"
      ],
      "text/plain": [
       "++> Evaluate epoch \u001b[1;36m90\u001b[0m Finished.\n"
      ]
     },
     "metadata": {},
     "output_type": "display_data"
    },
    {
     "data": {
      "text/html": [
       "<pre style=\"white-space:pre;overflow-x:auto;line-height:normal;font-family:Menlo,'DejaVu Sans Mono',consolas,'Courier New',monospace\">==&gt; Start Test, save results to scorp_side_dmtet/results\n",
       "</pre>\n"
      ],
      "text/plain": [
       "==> Start Test, save results to scorp_side_dmtet/results\n"
      ]
     },
     "metadata": {},
     "output_type": "display_data"
    },
    {
     "name": "stderr",
     "output_type": "stream",
     "text": [
      " 99% 99/100 [00:01<00:00, 83.33it/s]"
     ]
    },
    {
     "data": {
      "text/html": [
       "<pre style=\"white-space:pre;overflow-x:auto;line-height:normal;font-family:Menlo,'DejaVu Sans Mono',consolas,'Courier New',monospace\">==&gt; Finished Test.\n",
       "</pre>\n"
      ],
      "text/plain": [
       "==> Finished Test.\n"
      ]
     },
     "metadata": {},
     "output_type": "display_data"
    },
    {
     "name": "stderr",
     "output_type": "stream",
     "text": [
      "100% 100/100 [00:03<00:00, 29.83it/s]\n"
     ]
    },
    {
     "data": {
      "text/html": [
       "<pre style=\"white-space:pre;overflow-x:auto;line-height:normal;font-family:Menlo,'DejaVu Sans Mono',consolas,'Courier New',monospace\">==&gt; <span style=\"font-weight: bold\">[</span><span style=\"color: #008080; text-decoration-color: #008080; font-weight: bold\">2023</span>-<span style=\"color: #008080; text-decoration-color: #008080; font-weight: bold\">08</span>-27_06-<span style=\"color: #008080; text-decoration-color: #008080; font-weight: bold\">42</span>-<span style=\"color: #008080; text-decoration-color: #008080; font-weight: bold\">14</span><span style=\"font-weight: bold\">]</span> Start Training scorp_side_dmtet Epoch <span style=\"color: #008080; text-decoration-color: #008080; font-weight: bold\">91</span>/<span style=\"color: #008080; text-decoration-color: #008080; font-weight: bold\">100</span>, <span style=\"color: #808000; text-decoration-color: #808000\">lr</span>=<span style=\"color: #008080; text-decoration-color: #008080; font-weight: bold\">0.050000</span> <span style=\"color: #808000; text-decoration-color: #808000\">...</span>\n",
       "</pre>\n"
      ],
      "text/plain": [
       "==> \u001b[1m[\u001b[0m\u001b[1;36m2023\u001b[0m-\u001b[1;36m08\u001b[0m-27_06-\u001b[1;36m42\u001b[0m-\u001b[1;36m14\u001b[0m\u001b[1m]\u001b[0m Start Training scorp_side_dmtet Epoch \u001b[1;36m91\u001b[0m/\u001b[1;36m100\u001b[0m, \u001b[33mlr\u001b[0m=\u001b[1;36m0\u001b[0m\u001b[1;36m.050000\u001b[0m \u001b[33m...\u001b[0m\n"
      ]
     },
     "metadata": {},
     "output_type": "display_data"
    },
    {
     "name": "stderr",
     "output_type": "stream",
     "text": [
      "loss=5.4343 (32.6993), lr=0.050000: : 100% 2400/2400 [00:41<00:00, 57.85it/s] \n"
     ]
    },
    {
     "data": {
      "text/html": [
       "<pre style=\"white-space:pre;overflow-x:auto;line-height:normal;font-family:Menlo,'DejaVu Sans Mono',consolas,'Courier New',monospace\">==&gt; <span style=\"font-weight: bold\">[</span><span style=\"color: #008080; text-decoration-color: #008080; font-weight: bold\">2023</span>-<span style=\"color: #008080; text-decoration-color: #008080; font-weight: bold\">08</span>-27_06-<span style=\"color: #008080; text-decoration-color: #008080; font-weight: bold\">42</span>-<span style=\"color: #008080; text-decoration-color: #008080; font-weight: bold\">55</span><span style=\"font-weight: bold\">]</span> Finished Epoch <span style=\"color: #008080; text-decoration-color: #008080; font-weight: bold\">91</span>/<span style=\"color: #008080; text-decoration-color: #008080; font-weight: bold\">100</span>. <span style=\"color: #808000; text-decoration-color: #808000\">CPU</span>=<span style=\"color: #008080; text-decoration-color: #008080; font-weight: bold\">18.</span>7GB, <span style=\"color: #808000; text-decoration-color: #808000\">GPU</span>=<span style=\"color: #008080; text-decoration-color: #008080; font-weight: bold\">42.</span>5GB.\n",
       "</pre>\n"
      ],
      "text/plain": [
       "==> \u001b[1m[\u001b[0m\u001b[1;36m2023\u001b[0m-\u001b[1;36m08\u001b[0m-27_06-\u001b[1;36m42\u001b[0m-\u001b[1;36m55\u001b[0m\u001b[1m]\u001b[0m Finished Epoch \u001b[1;36m91\u001b[0m/\u001b[1;36m100\u001b[0m. \u001b[33mCPU\u001b[0m=\u001b[1;36m18\u001b[0m\u001b[1;36m.\u001b[0m7GB, \u001b[33mGPU\u001b[0m=\u001b[1;36m42\u001b[0m\u001b[1;36m.\u001b[0m5GB.\n"
      ]
     },
     "metadata": {},
     "output_type": "display_data"
    },
    {
     "data": {
      "text/html": [
       "<pre style=\"white-space:pre;overflow-x:auto;line-height:normal;font-family:Menlo,'DejaVu Sans Mono',consolas,'Courier New',monospace\">++&gt; Evaluate scorp_side_dmtet at epoch <span style=\"color: #008080; text-decoration-color: #008080; font-weight: bold\">91</span> <span style=\"color: #808000; text-decoration-color: #808000\">...</span>\n",
       "</pre>\n"
      ],
      "text/plain": [
       "++> Evaluate scorp_side_dmtet at epoch \u001b[1;36m91\u001b[0m \u001b[33m...\u001b[0m\n"
      ]
     },
     "metadata": {},
     "output_type": "display_data"
    },
    {
     "name": "stderr",
     "output_type": "stream",
     "text": [
      "loss=0.0000 (0.0000): : 100% 8/8 [00:00<00:00, 35.17it/s]\n"
     ]
    },
    {
     "data": {
      "text/html": [
       "<pre style=\"white-space:pre;overflow-x:auto;line-height:normal;font-family:Menlo,'DejaVu Sans Mono',consolas,'Courier New',monospace\">++&gt; Evaluate epoch <span style=\"color: #008080; text-decoration-color: #008080; font-weight: bold\">91</span> Finished.\n",
       "</pre>\n"
      ],
      "text/plain": [
       "++> Evaluate epoch \u001b[1;36m91\u001b[0m Finished.\n"
      ]
     },
     "metadata": {},
     "output_type": "display_data"
    },
    {
     "data": {
      "text/html": [
       "<pre style=\"white-space:pre;overflow-x:auto;line-height:normal;font-family:Menlo,'DejaVu Sans Mono',consolas,'Courier New',monospace\">==&gt; <span style=\"font-weight: bold\">[</span><span style=\"color: #008080; text-decoration-color: #008080; font-weight: bold\">2023</span>-<span style=\"color: #008080; text-decoration-color: #008080; font-weight: bold\">08</span>-27_06-<span style=\"color: #008080; text-decoration-color: #008080; font-weight: bold\">42</span>-<span style=\"color: #008080; text-decoration-color: #008080; font-weight: bold\">56</span><span style=\"font-weight: bold\">]</span> Start Training scorp_side_dmtet Epoch <span style=\"color: #008080; text-decoration-color: #008080; font-weight: bold\">92</span>/<span style=\"color: #008080; text-decoration-color: #008080; font-weight: bold\">100</span>, <span style=\"color: #808000; text-decoration-color: #808000\">lr</span>=<span style=\"color: #008080; text-decoration-color: #008080; font-weight: bold\">0.050000</span> <span style=\"color: #808000; text-decoration-color: #808000\">...</span>\n",
       "</pre>\n"
      ],
      "text/plain": [
       "==> \u001b[1m[\u001b[0m\u001b[1;36m2023\u001b[0m-\u001b[1;36m08\u001b[0m-27_06-\u001b[1;36m42\u001b[0m-\u001b[1;36m56\u001b[0m\u001b[1m]\u001b[0m Start Training scorp_side_dmtet Epoch \u001b[1;36m92\u001b[0m/\u001b[1;36m100\u001b[0m, \u001b[33mlr\u001b[0m=\u001b[1;36m0\u001b[0m\u001b[1;36m.050000\u001b[0m \u001b[33m...\u001b[0m\n"
      ]
     },
     "metadata": {},
     "output_type": "display_data"
    },
    {
     "name": "stderr",
     "output_type": "stream",
     "text": [
      "loss=5.4355 (33.5100), lr=0.050000: : 100% 2400/2400 [00:41<00:00, 58.33it/s]  \n"
     ]
    },
    {
     "data": {
      "text/html": [
       "<pre style=\"white-space:pre;overflow-x:auto;line-height:normal;font-family:Menlo,'DejaVu Sans Mono',consolas,'Courier New',monospace\">==&gt; <span style=\"font-weight: bold\">[</span><span style=\"color: #008080; text-decoration-color: #008080; font-weight: bold\">2023</span>-<span style=\"color: #008080; text-decoration-color: #008080; font-weight: bold\">08</span>-27_06-<span style=\"color: #008080; text-decoration-color: #008080; font-weight: bold\">43</span>-<span style=\"color: #008080; text-decoration-color: #008080; font-weight: bold\">37</span><span style=\"font-weight: bold\">]</span> Finished Epoch <span style=\"color: #008080; text-decoration-color: #008080; font-weight: bold\">92</span>/<span style=\"color: #008080; text-decoration-color: #008080; font-weight: bold\">100</span>. <span style=\"color: #808000; text-decoration-color: #808000\">CPU</span>=<span style=\"color: #008080; text-decoration-color: #008080; font-weight: bold\">18.</span>7GB, <span style=\"color: #808000; text-decoration-color: #808000\">GPU</span>=<span style=\"color: #008080; text-decoration-color: #008080; font-weight: bold\">42.</span>5GB.\n",
       "</pre>\n"
      ],
      "text/plain": [
       "==> \u001b[1m[\u001b[0m\u001b[1;36m2023\u001b[0m-\u001b[1;36m08\u001b[0m-27_06-\u001b[1;36m43\u001b[0m-\u001b[1;36m37\u001b[0m\u001b[1m]\u001b[0m Finished Epoch \u001b[1;36m92\u001b[0m/\u001b[1;36m100\u001b[0m. \u001b[33mCPU\u001b[0m=\u001b[1;36m18\u001b[0m\u001b[1;36m.\u001b[0m7GB, \u001b[33mGPU\u001b[0m=\u001b[1;36m42\u001b[0m\u001b[1;36m.\u001b[0m5GB.\n"
      ]
     },
     "metadata": {},
     "output_type": "display_data"
    },
    {
     "data": {
      "text/html": [
       "<pre style=\"white-space:pre;overflow-x:auto;line-height:normal;font-family:Menlo,'DejaVu Sans Mono',consolas,'Courier New',monospace\">++&gt; Evaluate scorp_side_dmtet at epoch <span style=\"color: #008080; text-decoration-color: #008080; font-weight: bold\">92</span> <span style=\"color: #808000; text-decoration-color: #808000\">...</span>\n",
       "</pre>\n"
      ],
      "text/plain": [
       "++> Evaluate scorp_side_dmtet at epoch \u001b[1;36m92\u001b[0m \u001b[33m...\u001b[0m\n"
      ]
     },
     "metadata": {},
     "output_type": "display_data"
    },
    {
     "name": "stderr",
     "output_type": "stream",
     "text": [
      "loss=0.0000 (0.0000): : 100% 8/8 [00:00<00:00, 34.34it/s]\n"
     ]
    },
    {
     "data": {
      "text/html": [
       "<pre style=\"white-space:pre;overflow-x:auto;line-height:normal;font-family:Menlo,'DejaVu Sans Mono',consolas,'Courier New',monospace\">++&gt; Evaluate epoch <span style=\"color: #008080; text-decoration-color: #008080; font-weight: bold\">92</span> Finished.\n",
       "</pre>\n"
      ],
      "text/plain": [
       "++> Evaluate epoch \u001b[1;36m92\u001b[0m Finished.\n"
      ]
     },
     "metadata": {},
     "output_type": "display_data"
    },
    {
     "data": {
      "text/html": [
       "<pre style=\"white-space:pre;overflow-x:auto;line-height:normal;font-family:Menlo,'DejaVu Sans Mono',consolas,'Courier New',monospace\">==&gt; <span style=\"font-weight: bold\">[</span><span style=\"color: #008080; text-decoration-color: #008080; font-weight: bold\">2023</span>-<span style=\"color: #008080; text-decoration-color: #008080; font-weight: bold\">08</span>-27_06-<span style=\"color: #008080; text-decoration-color: #008080; font-weight: bold\">43</span>-<span style=\"color: #008080; text-decoration-color: #008080; font-weight: bold\">38</span><span style=\"font-weight: bold\">]</span> Start Training scorp_side_dmtet Epoch <span style=\"color: #008080; text-decoration-color: #008080; font-weight: bold\">93</span>/<span style=\"color: #008080; text-decoration-color: #008080; font-weight: bold\">100</span>, <span style=\"color: #808000; text-decoration-color: #808000\">lr</span>=<span style=\"color: #008080; text-decoration-color: #008080; font-weight: bold\">0.050000</span> <span style=\"color: #808000; text-decoration-color: #808000\">...</span>\n",
       "</pre>\n"
      ],
      "text/plain": [
       "==> \u001b[1m[\u001b[0m\u001b[1;36m2023\u001b[0m-\u001b[1;36m08\u001b[0m-27_06-\u001b[1;36m43\u001b[0m-\u001b[1;36m38\u001b[0m\u001b[1m]\u001b[0m Start Training scorp_side_dmtet Epoch \u001b[1;36m93\u001b[0m/\u001b[1;36m100\u001b[0m, \u001b[33mlr\u001b[0m=\u001b[1;36m0\u001b[0m\u001b[1;36m.050000\u001b[0m \u001b[33m...\u001b[0m\n"
      ]
     },
     "metadata": {},
     "output_type": "display_data"
    },
    {
     "name": "stderr",
     "output_type": "stream",
     "text": [
      "loss=5.4429 (31.4973), lr=0.050000: : 100% 2400/2400 [00:42<00:00, 56.70it/s] \n"
     ]
    },
    {
     "data": {
      "text/html": [
       "<pre style=\"white-space:pre;overflow-x:auto;line-height:normal;font-family:Menlo,'DejaVu Sans Mono',consolas,'Courier New',monospace\">==&gt; <span style=\"font-weight: bold\">[</span><span style=\"color: #008080; text-decoration-color: #008080; font-weight: bold\">2023</span>-<span style=\"color: #008080; text-decoration-color: #008080; font-weight: bold\">08</span>-27_06-<span style=\"color: #008080; text-decoration-color: #008080; font-weight: bold\">44</span>-<span style=\"color: #008080; text-decoration-color: #008080; font-weight: bold\">20</span><span style=\"font-weight: bold\">]</span> Finished Epoch <span style=\"color: #008080; text-decoration-color: #008080; font-weight: bold\">93</span>/<span style=\"color: #008080; text-decoration-color: #008080; font-weight: bold\">100</span>. <span style=\"color: #808000; text-decoration-color: #808000\">CPU</span>=<span style=\"color: #008080; text-decoration-color: #008080; font-weight: bold\">18.</span>7GB, <span style=\"color: #808000; text-decoration-color: #808000\">GPU</span>=<span style=\"color: #008080; text-decoration-color: #008080; font-weight: bold\">42.</span>5GB.\n",
       "</pre>\n"
      ],
      "text/plain": [
       "==> \u001b[1m[\u001b[0m\u001b[1;36m2023\u001b[0m-\u001b[1;36m08\u001b[0m-27_06-\u001b[1;36m44\u001b[0m-\u001b[1;36m20\u001b[0m\u001b[1m]\u001b[0m Finished Epoch \u001b[1;36m93\u001b[0m/\u001b[1;36m100\u001b[0m. \u001b[33mCPU\u001b[0m=\u001b[1;36m18\u001b[0m\u001b[1;36m.\u001b[0m7GB, \u001b[33mGPU\u001b[0m=\u001b[1;36m42\u001b[0m\u001b[1;36m.\u001b[0m5GB.\n"
      ]
     },
     "metadata": {},
     "output_type": "display_data"
    },
    {
     "data": {
      "text/html": [
       "<pre style=\"white-space:pre;overflow-x:auto;line-height:normal;font-family:Menlo,'DejaVu Sans Mono',consolas,'Courier New',monospace\">++&gt; Evaluate scorp_side_dmtet at epoch <span style=\"color: #008080; text-decoration-color: #008080; font-weight: bold\">93</span> <span style=\"color: #808000; text-decoration-color: #808000\">...</span>\n",
       "</pre>\n"
      ],
      "text/plain": [
       "++> Evaluate scorp_side_dmtet at epoch \u001b[1;36m93\u001b[0m \u001b[33m...\u001b[0m\n"
      ]
     },
     "metadata": {},
     "output_type": "display_data"
    },
    {
     "name": "stderr",
     "output_type": "stream",
     "text": [
      "loss=0.0000 (0.0000): : 100% 8/8 [00:00<00:00, 36.28it/s]\n"
     ]
    },
    {
     "data": {
      "text/html": [
       "<pre style=\"white-space:pre;overflow-x:auto;line-height:normal;font-family:Menlo,'DejaVu Sans Mono',consolas,'Courier New',monospace\">++&gt; Evaluate epoch <span style=\"color: #008080; text-decoration-color: #008080; font-weight: bold\">93</span> Finished.\n",
       "</pre>\n"
      ],
      "text/plain": [
       "++> Evaluate epoch \u001b[1;36m93\u001b[0m Finished.\n"
      ]
     },
     "metadata": {},
     "output_type": "display_data"
    },
    {
     "data": {
      "text/html": [
       "<pre style=\"white-space:pre;overflow-x:auto;line-height:normal;font-family:Menlo,'DejaVu Sans Mono',consolas,'Courier New',monospace\">==&gt; <span style=\"font-weight: bold\">[</span><span style=\"color: #008080; text-decoration-color: #008080; font-weight: bold\">2023</span>-<span style=\"color: #008080; text-decoration-color: #008080; font-weight: bold\">08</span>-27_06-<span style=\"color: #008080; text-decoration-color: #008080; font-weight: bold\">44</span>-<span style=\"color: #008080; text-decoration-color: #008080; font-weight: bold\">21</span><span style=\"font-weight: bold\">]</span> Start Training scorp_side_dmtet Epoch <span style=\"color: #008080; text-decoration-color: #008080; font-weight: bold\">94</span>/<span style=\"color: #008080; text-decoration-color: #008080; font-weight: bold\">100</span>, <span style=\"color: #808000; text-decoration-color: #808000\">lr</span>=<span style=\"color: #008080; text-decoration-color: #008080; font-weight: bold\">0.050000</span> <span style=\"color: #808000; text-decoration-color: #808000\">...</span>\n",
       "</pre>\n"
      ],
      "text/plain": [
       "==> \u001b[1m[\u001b[0m\u001b[1;36m2023\u001b[0m-\u001b[1;36m08\u001b[0m-27_06-\u001b[1;36m44\u001b[0m-\u001b[1;36m21\u001b[0m\u001b[1m]\u001b[0m Start Training scorp_side_dmtet Epoch \u001b[1;36m94\u001b[0m/\u001b[1;36m100\u001b[0m, \u001b[33mlr\u001b[0m=\u001b[1;36m0\u001b[0m\u001b[1;36m.050000\u001b[0m \u001b[33m...\u001b[0m\n"
      ]
     },
     "metadata": {},
     "output_type": "display_data"
    },
    {
     "name": "stderr",
     "output_type": "stream",
     "text": [
      "loss=5.4146 (32.8135), lr=0.050000: : 100% 2400/2400 [00:41<00:00, 58.13it/s] \n"
     ]
    },
    {
     "data": {
      "text/html": [
       "<pre style=\"white-space:pre;overflow-x:auto;line-height:normal;font-family:Menlo,'DejaVu Sans Mono',consolas,'Courier New',monospace\">==&gt; <span style=\"font-weight: bold\">[</span><span style=\"color: #008080; text-decoration-color: #008080; font-weight: bold\">2023</span>-<span style=\"color: #008080; text-decoration-color: #008080; font-weight: bold\">08</span>-27_06-<span style=\"color: #008080; text-decoration-color: #008080; font-weight: bold\">45</span>-<span style=\"color: #008080; text-decoration-color: #008080; font-weight: bold\">02</span><span style=\"font-weight: bold\">]</span> Finished Epoch <span style=\"color: #008080; text-decoration-color: #008080; font-weight: bold\">94</span>/<span style=\"color: #008080; text-decoration-color: #008080; font-weight: bold\">100</span>. <span style=\"color: #808000; text-decoration-color: #808000\">CPU</span>=<span style=\"color: #008080; text-decoration-color: #008080; font-weight: bold\">18.</span>7GB, <span style=\"color: #808000; text-decoration-color: #808000\">GPU</span>=<span style=\"color: #008080; text-decoration-color: #008080; font-weight: bold\">42.</span>5GB.\n",
       "</pre>\n"
      ],
      "text/plain": [
       "==> \u001b[1m[\u001b[0m\u001b[1;36m2023\u001b[0m-\u001b[1;36m08\u001b[0m-27_06-\u001b[1;36m45\u001b[0m-\u001b[1;36m02\u001b[0m\u001b[1m]\u001b[0m Finished Epoch \u001b[1;36m94\u001b[0m/\u001b[1;36m100\u001b[0m. \u001b[33mCPU\u001b[0m=\u001b[1;36m18\u001b[0m\u001b[1;36m.\u001b[0m7GB, \u001b[33mGPU\u001b[0m=\u001b[1;36m42\u001b[0m\u001b[1;36m.\u001b[0m5GB.\n"
      ]
     },
     "metadata": {},
     "output_type": "display_data"
    },
    {
     "data": {
      "text/html": [
       "<pre style=\"white-space:pre;overflow-x:auto;line-height:normal;font-family:Menlo,'DejaVu Sans Mono',consolas,'Courier New',monospace\">++&gt; Evaluate scorp_side_dmtet at epoch <span style=\"color: #008080; text-decoration-color: #008080; font-weight: bold\">94</span> <span style=\"color: #808000; text-decoration-color: #808000\">...</span>\n",
       "</pre>\n"
      ],
      "text/plain": [
       "++> Evaluate scorp_side_dmtet at epoch \u001b[1;36m94\u001b[0m \u001b[33m...\u001b[0m\n"
      ]
     },
     "metadata": {},
     "output_type": "display_data"
    },
    {
     "name": "stderr",
     "output_type": "stream",
     "text": [
      "loss=0.0000 (0.0000): : 100% 8/8 [00:00<00:00, 34.66it/s]\n"
     ]
    },
    {
     "data": {
      "text/html": [
       "<pre style=\"white-space:pre;overflow-x:auto;line-height:normal;font-family:Menlo,'DejaVu Sans Mono',consolas,'Courier New',monospace\">++&gt; Evaluate epoch <span style=\"color: #008080; text-decoration-color: #008080; font-weight: bold\">94</span> Finished.\n",
       "</pre>\n"
      ],
      "text/plain": [
       "++> Evaluate epoch \u001b[1;36m94\u001b[0m Finished.\n"
      ]
     },
     "metadata": {},
     "output_type": "display_data"
    },
    {
     "data": {
      "text/html": [
       "<pre style=\"white-space:pre;overflow-x:auto;line-height:normal;font-family:Menlo,'DejaVu Sans Mono',consolas,'Courier New',monospace\">==&gt; <span style=\"font-weight: bold\">[</span><span style=\"color: #008080; text-decoration-color: #008080; font-weight: bold\">2023</span>-<span style=\"color: #008080; text-decoration-color: #008080; font-weight: bold\">08</span>-27_06-<span style=\"color: #008080; text-decoration-color: #008080; font-weight: bold\">45</span>-<span style=\"color: #008080; text-decoration-color: #008080; font-weight: bold\">03</span><span style=\"font-weight: bold\">]</span> Start Training scorp_side_dmtet Epoch <span style=\"color: #008080; text-decoration-color: #008080; font-weight: bold\">95</span>/<span style=\"color: #008080; text-decoration-color: #008080; font-weight: bold\">100</span>, <span style=\"color: #808000; text-decoration-color: #808000\">lr</span>=<span style=\"color: #008080; text-decoration-color: #008080; font-weight: bold\">0.050000</span> <span style=\"color: #808000; text-decoration-color: #808000\">...</span>\n",
       "</pre>\n"
      ],
      "text/plain": [
       "==> \u001b[1m[\u001b[0m\u001b[1;36m2023\u001b[0m-\u001b[1;36m08\u001b[0m-27_06-\u001b[1;36m45\u001b[0m-\u001b[1;36m03\u001b[0m\u001b[1m]\u001b[0m Start Training scorp_side_dmtet Epoch \u001b[1;36m95\u001b[0m/\u001b[1;36m100\u001b[0m, \u001b[33mlr\u001b[0m=\u001b[1;36m0\u001b[0m\u001b[1;36m.050000\u001b[0m \u001b[33m...\u001b[0m\n"
      ]
     },
     "metadata": {},
     "output_type": "display_data"
    },
    {
     "name": "stderr",
     "output_type": "stream",
     "text": [
      "loss=5.4056 (34.6900), lr=0.050000: : 100% 2400/2400 [00:42<00:00, 56.10it/s] \n"
     ]
    },
    {
     "data": {
      "text/html": [
       "<pre style=\"white-space:pre;overflow-x:auto;line-height:normal;font-family:Menlo,'DejaVu Sans Mono',consolas,'Courier New',monospace\">==&gt; <span style=\"font-weight: bold\">[</span><span style=\"color: #008080; text-decoration-color: #008080; font-weight: bold\">2023</span>-<span style=\"color: #008080; text-decoration-color: #008080; font-weight: bold\">08</span>-27_06-<span style=\"color: #008080; text-decoration-color: #008080; font-weight: bold\">45</span>-<span style=\"color: #008080; text-decoration-color: #008080; font-weight: bold\">45</span><span style=\"font-weight: bold\">]</span> Finished Epoch <span style=\"color: #008080; text-decoration-color: #008080; font-weight: bold\">95</span>/<span style=\"color: #008080; text-decoration-color: #008080; font-weight: bold\">100</span>. <span style=\"color: #808000; text-decoration-color: #808000\">CPU</span>=<span style=\"color: #008080; text-decoration-color: #008080; font-weight: bold\">18.</span>7GB, <span style=\"color: #808000; text-decoration-color: #808000\">GPU</span>=<span style=\"color: #008080; text-decoration-color: #008080; font-weight: bold\">42.</span>5GB.\n",
       "</pre>\n"
      ],
      "text/plain": [
       "==> \u001b[1m[\u001b[0m\u001b[1;36m2023\u001b[0m-\u001b[1;36m08\u001b[0m-27_06-\u001b[1;36m45\u001b[0m-\u001b[1;36m45\u001b[0m\u001b[1m]\u001b[0m Finished Epoch \u001b[1;36m95\u001b[0m/\u001b[1;36m100\u001b[0m. \u001b[33mCPU\u001b[0m=\u001b[1;36m18\u001b[0m\u001b[1;36m.\u001b[0m7GB, \u001b[33mGPU\u001b[0m=\u001b[1;36m42\u001b[0m\u001b[1;36m.\u001b[0m5GB.\n"
      ]
     },
     "metadata": {},
     "output_type": "display_data"
    },
    {
     "data": {
      "text/html": [
       "<pre style=\"white-space:pre;overflow-x:auto;line-height:normal;font-family:Menlo,'DejaVu Sans Mono',consolas,'Courier New',monospace\">++&gt; Evaluate scorp_side_dmtet at epoch <span style=\"color: #008080; text-decoration-color: #008080; font-weight: bold\">95</span> <span style=\"color: #808000; text-decoration-color: #808000\">...</span>\n",
       "</pre>\n"
      ],
      "text/plain": [
       "++> Evaluate scorp_side_dmtet at epoch \u001b[1;36m95\u001b[0m \u001b[33m...\u001b[0m\n"
      ]
     },
     "metadata": {},
     "output_type": "display_data"
    },
    {
     "name": "stderr",
     "output_type": "stream",
     "text": [
      "loss=0.0000 (0.0000): : 100% 8/8 [00:00<00:00, 33.67it/s]\n"
     ]
    },
    {
     "data": {
      "text/html": [
       "<pre style=\"white-space:pre;overflow-x:auto;line-height:normal;font-family:Menlo,'DejaVu Sans Mono',consolas,'Courier New',monospace\">++&gt; Evaluate epoch <span style=\"color: #008080; text-decoration-color: #008080; font-weight: bold\">95</span> Finished.\n",
       "</pre>\n"
      ],
      "text/plain": [
       "++> Evaluate epoch \u001b[1;36m95\u001b[0m Finished.\n"
      ]
     },
     "metadata": {},
     "output_type": "display_data"
    },
    {
     "data": {
      "text/html": [
       "<pre style=\"white-space:pre;overflow-x:auto;line-height:normal;font-family:Menlo,'DejaVu Sans Mono',consolas,'Courier New',monospace\">==&gt; Start Test, save results to scorp_side_dmtet/results\n",
       "</pre>\n"
      ],
      "text/plain": [
       "==> Start Test, save results to scorp_side_dmtet/results\n"
      ]
     },
     "metadata": {},
     "output_type": "display_data"
    },
    {
     "name": "stderr",
     "output_type": "stream",
     "text": [
      " 99% 99/100 [00:01<00:00, 76.26it/s]"
     ]
    },
    {
     "data": {
      "text/html": [
       "<pre style=\"white-space:pre;overflow-x:auto;line-height:normal;font-family:Menlo,'DejaVu Sans Mono',consolas,'Courier New',monospace\">==&gt; Finished Test.\n",
       "</pre>\n"
      ],
      "text/plain": [
       "==> Finished Test.\n"
      ]
     },
     "metadata": {},
     "output_type": "display_data"
    },
    {
     "name": "stderr",
     "output_type": "stream",
     "text": [
      "100% 100/100 [00:03<00:00, 27.92it/s]\n"
     ]
    },
    {
     "data": {
      "text/html": [
       "<pre style=\"white-space:pre;overflow-x:auto;line-height:normal;font-family:Menlo,'DejaVu Sans Mono',consolas,'Courier New',monospace\">==&gt; <span style=\"font-weight: bold\">[</span><span style=\"color: #008080; text-decoration-color: #008080; font-weight: bold\">2023</span>-<span style=\"color: #008080; text-decoration-color: #008080; font-weight: bold\">08</span>-27_06-<span style=\"color: #008080; text-decoration-color: #008080; font-weight: bold\">45</span>-<span style=\"color: #008080; text-decoration-color: #008080; font-weight: bold\">50</span><span style=\"font-weight: bold\">]</span> Start Training scorp_side_dmtet Epoch <span style=\"color: #008080; text-decoration-color: #008080; font-weight: bold\">96</span>/<span style=\"color: #008080; text-decoration-color: #008080; font-weight: bold\">100</span>, <span style=\"color: #808000; text-decoration-color: #808000\">lr</span>=<span style=\"color: #008080; text-decoration-color: #008080; font-weight: bold\">0.050000</span> <span style=\"color: #808000; text-decoration-color: #808000\">...</span>\n",
       "</pre>\n"
      ],
      "text/plain": [
       "==> \u001b[1m[\u001b[0m\u001b[1;36m2023\u001b[0m-\u001b[1;36m08\u001b[0m-27_06-\u001b[1;36m45\u001b[0m-\u001b[1;36m50\u001b[0m\u001b[1m]\u001b[0m Start Training scorp_side_dmtet Epoch \u001b[1;36m96\u001b[0m/\u001b[1;36m100\u001b[0m, \u001b[33mlr\u001b[0m=\u001b[1;36m0\u001b[0m\u001b[1;36m.050000\u001b[0m \u001b[33m...\u001b[0m\n"
      ]
     },
     "metadata": {},
     "output_type": "display_data"
    },
    {
     "name": "stderr",
     "output_type": "stream",
     "text": [
      "loss=5.4198 (36.1044), lr=0.050000: : 100% 2400/2400 [00:42<00:00, 57.00it/s]  \n"
     ]
    },
    {
     "data": {
      "text/html": [
       "<pre style=\"white-space:pre;overflow-x:auto;line-height:normal;font-family:Menlo,'DejaVu Sans Mono',consolas,'Courier New',monospace\">==&gt; <span style=\"font-weight: bold\">[</span><span style=\"color: #008080; text-decoration-color: #008080; font-weight: bold\">2023</span>-<span style=\"color: #008080; text-decoration-color: #008080; font-weight: bold\">08</span>-27_06-<span style=\"color: #008080; text-decoration-color: #008080; font-weight: bold\">46</span>-<span style=\"color: #008080; text-decoration-color: #008080; font-weight: bold\">32</span><span style=\"font-weight: bold\">]</span> Finished Epoch <span style=\"color: #008080; text-decoration-color: #008080; font-weight: bold\">96</span>/<span style=\"color: #008080; text-decoration-color: #008080; font-weight: bold\">100</span>. <span style=\"color: #808000; text-decoration-color: #808000\">CPU</span>=<span style=\"color: #008080; text-decoration-color: #008080; font-weight: bold\">18.</span>7GB, <span style=\"color: #808000; text-decoration-color: #808000\">GPU</span>=<span style=\"color: #008080; text-decoration-color: #008080; font-weight: bold\">42.</span>5GB.\n",
       "</pre>\n"
      ],
      "text/plain": [
       "==> \u001b[1m[\u001b[0m\u001b[1;36m2023\u001b[0m-\u001b[1;36m08\u001b[0m-27_06-\u001b[1;36m46\u001b[0m-\u001b[1;36m32\u001b[0m\u001b[1m]\u001b[0m Finished Epoch \u001b[1;36m96\u001b[0m/\u001b[1;36m100\u001b[0m. \u001b[33mCPU\u001b[0m=\u001b[1;36m18\u001b[0m\u001b[1;36m.\u001b[0m7GB, \u001b[33mGPU\u001b[0m=\u001b[1;36m42\u001b[0m\u001b[1;36m.\u001b[0m5GB.\n"
      ]
     },
     "metadata": {},
     "output_type": "display_data"
    },
    {
     "data": {
      "text/html": [
       "<pre style=\"white-space:pre;overflow-x:auto;line-height:normal;font-family:Menlo,'DejaVu Sans Mono',consolas,'Courier New',monospace\">++&gt; Evaluate scorp_side_dmtet at epoch <span style=\"color: #008080; text-decoration-color: #008080; font-weight: bold\">96</span> <span style=\"color: #808000; text-decoration-color: #808000\">...</span>\n",
       "</pre>\n"
      ],
      "text/plain": [
       "++> Evaluate scorp_side_dmtet at epoch \u001b[1;36m96\u001b[0m \u001b[33m...\u001b[0m\n"
      ]
     },
     "metadata": {},
     "output_type": "display_data"
    },
    {
     "name": "stderr",
     "output_type": "stream",
     "text": [
      "loss=0.0000 (0.0000): : 100% 8/8 [00:00<00:00, 27.49it/s]\n"
     ]
    },
    {
     "data": {
      "text/html": [
       "<pre style=\"white-space:pre;overflow-x:auto;line-height:normal;font-family:Menlo,'DejaVu Sans Mono',consolas,'Courier New',monospace\">++&gt; Evaluate epoch <span style=\"color: #008080; text-decoration-color: #008080; font-weight: bold\">96</span> Finished.\n",
       "</pre>\n"
      ],
      "text/plain": [
       "++> Evaluate epoch \u001b[1;36m96\u001b[0m Finished.\n"
      ]
     },
     "metadata": {},
     "output_type": "display_data"
    },
    {
     "data": {
      "text/html": [
       "<pre style=\"white-space:pre;overflow-x:auto;line-height:normal;font-family:Menlo,'DejaVu Sans Mono',consolas,'Courier New',monospace\">==&gt; <span style=\"font-weight: bold\">[</span><span style=\"color: #008080; text-decoration-color: #008080; font-weight: bold\">2023</span>-<span style=\"color: #008080; text-decoration-color: #008080; font-weight: bold\">08</span>-27_06-<span style=\"color: #008080; text-decoration-color: #008080; font-weight: bold\">46</span>-<span style=\"color: #008080; text-decoration-color: #008080; font-weight: bold\">33</span><span style=\"font-weight: bold\">]</span> Start Training scorp_side_dmtet Epoch <span style=\"color: #008080; text-decoration-color: #008080; font-weight: bold\">97</span>/<span style=\"color: #008080; text-decoration-color: #008080; font-weight: bold\">100</span>, <span style=\"color: #808000; text-decoration-color: #808000\">lr</span>=<span style=\"color: #008080; text-decoration-color: #008080; font-weight: bold\">0.050000</span> <span style=\"color: #808000; text-decoration-color: #808000\">...</span>\n",
       "</pre>\n"
      ],
      "text/plain": [
       "==> \u001b[1m[\u001b[0m\u001b[1;36m2023\u001b[0m-\u001b[1;36m08\u001b[0m-27_06-\u001b[1;36m46\u001b[0m-\u001b[1;36m33\u001b[0m\u001b[1m]\u001b[0m Start Training scorp_side_dmtet Epoch \u001b[1;36m97\u001b[0m/\u001b[1;36m100\u001b[0m, \u001b[33mlr\u001b[0m=\u001b[1;36m0\u001b[0m\u001b[1;36m.050000\u001b[0m \u001b[33m...\u001b[0m\n"
      ]
     },
     "metadata": {},
     "output_type": "display_data"
    },
    {
     "name": "stderr",
     "output_type": "stream",
     "text": [
      "loss=5.6818 (34.7548), lr=0.050000: : 100% 2400/2400 [00:41<00:00, 57.58it/s]  \n"
     ]
    },
    {
     "data": {
      "text/html": [
       "<pre style=\"white-space:pre;overflow-x:auto;line-height:normal;font-family:Menlo,'DejaVu Sans Mono',consolas,'Courier New',monospace\">==&gt; <span style=\"font-weight: bold\">[</span><span style=\"color: #008080; text-decoration-color: #008080; font-weight: bold\">2023</span>-<span style=\"color: #008080; text-decoration-color: #008080; font-weight: bold\">08</span>-27_06-<span style=\"color: #008080; text-decoration-color: #008080; font-weight: bold\">47</span>-<span style=\"color: #008080; text-decoration-color: #008080; font-weight: bold\">14</span><span style=\"font-weight: bold\">]</span> Finished Epoch <span style=\"color: #008080; text-decoration-color: #008080; font-weight: bold\">97</span>/<span style=\"color: #008080; text-decoration-color: #008080; font-weight: bold\">100</span>. <span style=\"color: #808000; text-decoration-color: #808000\">CPU</span>=<span style=\"color: #008080; text-decoration-color: #008080; font-weight: bold\">18.</span>7GB, <span style=\"color: #808000; text-decoration-color: #808000\">GPU</span>=<span style=\"color: #008080; text-decoration-color: #008080; font-weight: bold\">42.</span>5GB.\n",
       "</pre>\n"
      ],
      "text/plain": [
       "==> \u001b[1m[\u001b[0m\u001b[1;36m2023\u001b[0m-\u001b[1;36m08\u001b[0m-27_06-\u001b[1;36m47\u001b[0m-\u001b[1;36m14\u001b[0m\u001b[1m]\u001b[0m Finished Epoch \u001b[1;36m97\u001b[0m/\u001b[1;36m100\u001b[0m. \u001b[33mCPU\u001b[0m=\u001b[1;36m18\u001b[0m\u001b[1;36m.\u001b[0m7GB, \u001b[33mGPU\u001b[0m=\u001b[1;36m42\u001b[0m\u001b[1;36m.\u001b[0m5GB.\n"
      ]
     },
     "metadata": {},
     "output_type": "display_data"
    },
    {
     "data": {
      "text/html": [
       "<pre style=\"white-space:pre;overflow-x:auto;line-height:normal;font-family:Menlo,'DejaVu Sans Mono',consolas,'Courier New',monospace\">++&gt; Evaluate scorp_side_dmtet at epoch <span style=\"color: #008080; text-decoration-color: #008080; font-weight: bold\">97</span> <span style=\"color: #808000; text-decoration-color: #808000\">...</span>\n",
       "</pre>\n"
      ],
      "text/plain": [
       "++> Evaluate scorp_side_dmtet at epoch \u001b[1;36m97\u001b[0m \u001b[33m...\u001b[0m\n"
      ]
     },
     "metadata": {},
     "output_type": "display_data"
    },
    {
     "name": "stderr",
     "output_type": "stream",
     "text": [
      "loss=0.0000 (0.0000): : 100% 8/8 [00:00<00:00, 34.93it/s]\n"
     ]
    },
    {
     "data": {
      "text/html": [
       "<pre style=\"white-space:pre;overflow-x:auto;line-height:normal;font-family:Menlo,'DejaVu Sans Mono',consolas,'Courier New',monospace\">++&gt; Evaluate epoch <span style=\"color: #008080; text-decoration-color: #008080; font-weight: bold\">97</span> Finished.\n",
       "</pre>\n"
      ],
      "text/plain": [
       "++> Evaluate epoch \u001b[1;36m97\u001b[0m Finished.\n"
      ]
     },
     "metadata": {},
     "output_type": "display_data"
    },
    {
     "data": {
      "text/html": [
       "<pre style=\"white-space:pre;overflow-x:auto;line-height:normal;font-family:Menlo,'DejaVu Sans Mono',consolas,'Courier New',monospace\">==&gt; <span style=\"font-weight: bold\">[</span><span style=\"color: #008080; text-decoration-color: #008080; font-weight: bold\">2023</span>-<span style=\"color: #008080; text-decoration-color: #008080; font-weight: bold\">08</span>-27_06-<span style=\"color: #008080; text-decoration-color: #008080; font-weight: bold\">47</span>-<span style=\"color: #008080; text-decoration-color: #008080; font-weight: bold\">15</span><span style=\"font-weight: bold\">]</span> Start Training scorp_side_dmtet Epoch <span style=\"color: #008080; text-decoration-color: #008080; font-weight: bold\">98</span>/<span style=\"color: #008080; text-decoration-color: #008080; font-weight: bold\">100</span>, <span style=\"color: #808000; text-decoration-color: #808000\">lr</span>=<span style=\"color: #008080; text-decoration-color: #008080; font-weight: bold\">0.050000</span> <span style=\"color: #808000; text-decoration-color: #808000\">...</span>\n",
       "</pre>\n"
      ],
      "text/plain": [
       "==> \u001b[1m[\u001b[0m\u001b[1;36m2023\u001b[0m-\u001b[1;36m08\u001b[0m-27_06-\u001b[1;36m47\u001b[0m-\u001b[1;36m15\u001b[0m\u001b[1m]\u001b[0m Start Training scorp_side_dmtet Epoch \u001b[1;36m98\u001b[0m/\u001b[1;36m100\u001b[0m, \u001b[33mlr\u001b[0m=\u001b[1;36m0\u001b[0m\u001b[1;36m.050000\u001b[0m \u001b[33m...\u001b[0m\n"
      ]
     },
     "metadata": {},
     "output_type": "display_data"
    },
    {
     "name": "stderr",
     "output_type": "stream",
     "text": [
      "loss=5.9864 (32.5408), lr=0.050000: : 100% 2400/2400 [00:41<00:00, 57.30it/s] \n"
     ]
    },
    {
     "data": {
      "text/html": [
       "<pre style=\"white-space:pre;overflow-x:auto;line-height:normal;font-family:Menlo,'DejaVu Sans Mono',consolas,'Courier New',monospace\">==&gt; <span style=\"font-weight: bold\">[</span><span style=\"color: #008080; text-decoration-color: #008080; font-weight: bold\">2023</span>-<span style=\"color: #008080; text-decoration-color: #008080; font-weight: bold\">08</span>-27_06-<span style=\"color: #008080; text-decoration-color: #008080; font-weight: bold\">47</span>-<span style=\"color: #008080; text-decoration-color: #008080; font-weight: bold\">57</span><span style=\"font-weight: bold\">]</span> Finished Epoch <span style=\"color: #008080; text-decoration-color: #008080; font-weight: bold\">98</span>/<span style=\"color: #008080; text-decoration-color: #008080; font-weight: bold\">100</span>. <span style=\"color: #808000; text-decoration-color: #808000\">CPU</span>=<span style=\"color: #008080; text-decoration-color: #008080; font-weight: bold\">18.</span>7GB, <span style=\"color: #808000; text-decoration-color: #808000\">GPU</span>=<span style=\"color: #008080; text-decoration-color: #008080; font-weight: bold\">42.</span>5GB.\n",
       "</pre>\n"
      ],
      "text/plain": [
       "==> \u001b[1m[\u001b[0m\u001b[1;36m2023\u001b[0m-\u001b[1;36m08\u001b[0m-27_06-\u001b[1;36m47\u001b[0m-\u001b[1;36m57\u001b[0m\u001b[1m]\u001b[0m Finished Epoch \u001b[1;36m98\u001b[0m/\u001b[1;36m100\u001b[0m. \u001b[33mCPU\u001b[0m=\u001b[1;36m18\u001b[0m\u001b[1;36m.\u001b[0m7GB, \u001b[33mGPU\u001b[0m=\u001b[1;36m42\u001b[0m\u001b[1;36m.\u001b[0m5GB.\n"
      ]
     },
     "metadata": {},
     "output_type": "display_data"
    },
    {
     "data": {
      "text/html": [
       "<pre style=\"white-space:pre;overflow-x:auto;line-height:normal;font-family:Menlo,'DejaVu Sans Mono',consolas,'Courier New',monospace\">++&gt; Evaluate scorp_side_dmtet at epoch <span style=\"color: #008080; text-decoration-color: #008080; font-weight: bold\">98</span> <span style=\"color: #808000; text-decoration-color: #808000\">...</span>\n",
       "</pre>\n"
      ],
      "text/plain": [
       "++> Evaluate scorp_side_dmtet at epoch \u001b[1;36m98\u001b[0m \u001b[33m...\u001b[0m\n"
      ]
     },
     "metadata": {},
     "output_type": "display_data"
    },
    {
     "name": "stderr",
     "output_type": "stream",
     "text": [
      "loss=0.0000 (0.0000): : 100% 8/8 [00:00<00:00, 35.12it/s]\n"
     ]
    },
    {
     "data": {
      "text/html": [
       "<pre style=\"white-space:pre;overflow-x:auto;line-height:normal;font-family:Menlo,'DejaVu Sans Mono',consolas,'Courier New',monospace\">++&gt; Evaluate epoch <span style=\"color: #008080; text-decoration-color: #008080; font-weight: bold\">98</span> Finished.\n",
       "</pre>\n"
      ],
      "text/plain": [
       "++> Evaluate epoch \u001b[1;36m98\u001b[0m Finished.\n"
      ]
     },
     "metadata": {},
     "output_type": "display_data"
    },
    {
     "data": {
      "text/html": [
       "<pre style=\"white-space:pre;overflow-x:auto;line-height:normal;font-family:Menlo,'DejaVu Sans Mono',consolas,'Courier New',monospace\">==&gt; <span style=\"font-weight: bold\">[</span><span style=\"color: #008080; text-decoration-color: #008080; font-weight: bold\">2023</span>-<span style=\"color: #008080; text-decoration-color: #008080; font-weight: bold\">08</span>-27_06-<span style=\"color: #008080; text-decoration-color: #008080; font-weight: bold\">47</span>-<span style=\"color: #008080; text-decoration-color: #008080; font-weight: bold\">57</span><span style=\"font-weight: bold\">]</span> Start Training scorp_side_dmtet Epoch <span style=\"color: #008080; text-decoration-color: #008080; font-weight: bold\">99</span>/<span style=\"color: #008080; text-decoration-color: #008080; font-weight: bold\">100</span>, <span style=\"color: #808000; text-decoration-color: #808000\">lr</span>=<span style=\"color: #008080; text-decoration-color: #008080; font-weight: bold\">0.050000</span> <span style=\"color: #808000; text-decoration-color: #808000\">...</span>\n",
       "</pre>\n"
      ],
      "text/plain": [
       "==> \u001b[1m[\u001b[0m\u001b[1;36m2023\u001b[0m-\u001b[1;36m08\u001b[0m-27_06-\u001b[1;36m47\u001b[0m-\u001b[1;36m57\u001b[0m\u001b[1m]\u001b[0m Start Training scorp_side_dmtet Epoch \u001b[1;36m99\u001b[0m/\u001b[1;36m100\u001b[0m, \u001b[33mlr\u001b[0m=\u001b[1;36m0\u001b[0m\u001b[1;36m.050000\u001b[0m \u001b[33m...\u001b[0m\n"
      ]
     },
     "metadata": {},
     "output_type": "display_data"
    },
    {
     "name": "stderr",
     "output_type": "stream",
     "text": [
      "loss=6.1424 (34.5384), lr=0.050000: : 100% 2400/2400 [00:42<00:00, 57.11it/s] \n"
     ]
    },
    {
     "data": {
      "text/html": [
       "<pre style=\"white-space:pre;overflow-x:auto;line-height:normal;font-family:Menlo,'DejaVu Sans Mono',consolas,'Courier New',monospace\">==&gt; <span style=\"font-weight: bold\">[</span><span style=\"color: #008080; text-decoration-color: #008080; font-weight: bold\">2023</span>-<span style=\"color: #008080; text-decoration-color: #008080; font-weight: bold\">08</span>-27_06-<span style=\"color: #008080; text-decoration-color: #008080; font-weight: bold\">48</span>-<span style=\"color: #008080; text-decoration-color: #008080; font-weight: bold\">39</span><span style=\"font-weight: bold\">]</span> Finished Epoch <span style=\"color: #008080; text-decoration-color: #008080; font-weight: bold\">99</span>/<span style=\"color: #008080; text-decoration-color: #008080; font-weight: bold\">100</span>. <span style=\"color: #808000; text-decoration-color: #808000\">CPU</span>=<span style=\"color: #008080; text-decoration-color: #008080; font-weight: bold\">18.</span>7GB, <span style=\"color: #808000; text-decoration-color: #808000\">GPU</span>=<span style=\"color: #008080; text-decoration-color: #008080; font-weight: bold\">42.</span>5GB.\n",
       "</pre>\n"
      ],
      "text/plain": [
       "==> \u001b[1m[\u001b[0m\u001b[1;36m2023\u001b[0m-\u001b[1;36m08\u001b[0m-27_06-\u001b[1;36m48\u001b[0m-\u001b[1;36m39\u001b[0m\u001b[1m]\u001b[0m Finished Epoch \u001b[1;36m99\u001b[0m/\u001b[1;36m100\u001b[0m. \u001b[33mCPU\u001b[0m=\u001b[1;36m18\u001b[0m\u001b[1;36m.\u001b[0m7GB, \u001b[33mGPU\u001b[0m=\u001b[1;36m42\u001b[0m\u001b[1;36m.\u001b[0m5GB.\n"
      ]
     },
     "metadata": {},
     "output_type": "display_data"
    },
    {
     "data": {
      "text/html": [
       "<pre style=\"white-space:pre;overflow-x:auto;line-height:normal;font-family:Menlo,'DejaVu Sans Mono',consolas,'Courier New',monospace\">++&gt; Evaluate scorp_side_dmtet at epoch <span style=\"color: #008080; text-decoration-color: #008080; font-weight: bold\">99</span> <span style=\"color: #808000; text-decoration-color: #808000\">...</span>\n",
       "</pre>\n"
      ],
      "text/plain": [
       "++> Evaluate scorp_side_dmtet at epoch \u001b[1;36m99\u001b[0m \u001b[33m...\u001b[0m\n"
      ]
     },
     "metadata": {},
     "output_type": "display_data"
    },
    {
     "name": "stderr",
     "output_type": "stream",
     "text": [
      "loss=0.0000 (0.0000): : 100% 8/8 [00:00<00:00, 35.06it/s]\n"
     ]
    },
    {
     "data": {
      "text/html": [
       "<pre style=\"white-space:pre;overflow-x:auto;line-height:normal;font-family:Menlo,'DejaVu Sans Mono',consolas,'Courier New',monospace\">++&gt; Evaluate epoch <span style=\"color: #008080; text-decoration-color: #008080; font-weight: bold\">99</span> Finished.\n",
       "</pre>\n"
      ],
      "text/plain": [
       "++> Evaluate epoch \u001b[1;36m99\u001b[0m Finished.\n"
      ]
     },
     "metadata": {},
     "output_type": "display_data"
    },
    {
     "data": {
      "text/html": [
       "<pre style=\"white-space:pre;overflow-x:auto;line-height:normal;font-family:Menlo,'DejaVu Sans Mono',consolas,'Courier New',monospace\">==&gt; <span style=\"font-weight: bold\">[</span><span style=\"color: #008080; text-decoration-color: #008080; font-weight: bold\">2023</span>-<span style=\"color: #008080; text-decoration-color: #008080; font-weight: bold\">08</span>-27_06-<span style=\"color: #008080; text-decoration-color: #008080; font-weight: bold\">48</span>-<span style=\"color: #008080; text-decoration-color: #008080; font-weight: bold\">40</span><span style=\"font-weight: bold\">]</span> Start Training scorp_side_dmtet Epoch <span style=\"color: #008080; text-decoration-color: #008080; font-weight: bold\">100</span>/<span style=\"color: #008080; text-decoration-color: #008080; font-weight: bold\">100</span>, <span style=\"color: #808000; text-decoration-color: #808000\">lr</span>=<span style=\"color: #008080; text-decoration-color: #008080; font-weight: bold\">0.050000</span> <span style=\"color: #808000; text-decoration-color: #808000\">...</span>\n",
       "</pre>\n"
      ],
      "text/plain": [
       "==> \u001b[1m[\u001b[0m\u001b[1;36m2023\u001b[0m-\u001b[1;36m08\u001b[0m-27_06-\u001b[1;36m48\u001b[0m-\u001b[1;36m40\u001b[0m\u001b[1m]\u001b[0m Start Training scorp_side_dmtet Epoch \u001b[1;36m100\u001b[0m/\u001b[1;36m100\u001b[0m, \u001b[33mlr\u001b[0m=\u001b[1;36m0\u001b[0m\u001b[1;36m.050000\u001b[0m \u001b[33m...\u001b[0m\n"
      ]
     },
     "metadata": {},
     "output_type": "display_data"
    },
    {
     "name": "stderr",
     "output_type": "stream",
     "text": [
      "loss=6.1787 (36.4456), lr=0.050000: : 100% 2400/2400 [00:41<00:00, 57.98it/s]  \n"
     ]
    },
    {
     "data": {
      "text/html": [
       "<pre style=\"white-space:pre;overflow-x:auto;line-height:normal;font-family:Menlo,'DejaVu Sans Mono',consolas,'Courier New',monospace\">==&gt; <span style=\"font-weight: bold\">[</span><span style=\"color: #008080; text-decoration-color: #008080; font-weight: bold\">2023</span>-<span style=\"color: #008080; text-decoration-color: #008080; font-weight: bold\">08</span>-27_06-<span style=\"color: #008080; text-decoration-color: #008080; font-weight: bold\">49</span>-<span style=\"color: #008080; text-decoration-color: #008080; font-weight: bold\">21</span><span style=\"font-weight: bold\">]</span> Finished Epoch <span style=\"color: #008080; text-decoration-color: #008080; font-weight: bold\">100</span>/<span style=\"color: #008080; text-decoration-color: #008080; font-weight: bold\">100</span>. <span style=\"color: #808000; text-decoration-color: #808000\">CPU</span>=<span style=\"color: #008080; text-decoration-color: #008080; font-weight: bold\">18.</span>7GB, <span style=\"color: #808000; text-decoration-color: #808000\">GPU</span>=<span style=\"color: #008080; text-decoration-color: #008080; font-weight: bold\">42.</span>5GB.\n",
       "</pre>\n"
      ],
      "text/plain": [
       "==> \u001b[1m[\u001b[0m\u001b[1;36m2023\u001b[0m-\u001b[1;36m08\u001b[0m-27_06-\u001b[1;36m49\u001b[0m-\u001b[1;36m21\u001b[0m\u001b[1m]\u001b[0m Finished Epoch \u001b[1;36m100\u001b[0m/\u001b[1;36m100\u001b[0m. \u001b[33mCPU\u001b[0m=\u001b[1;36m18\u001b[0m\u001b[1;36m.\u001b[0m7GB, \u001b[33mGPU\u001b[0m=\u001b[1;36m42\u001b[0m\u001b[1;36m.\u001b[0m5GB.\n"
      ]
     },
     "metadata": {},
     "output_type": "display_data"
    },
    {
     "data": {
      "text/html": [
       "<pre style=\"white-space:pre;overflow-x:auto;line-height:normal;font-family:Menlo,'DejaVu Sans Mono',consolas,'Courier New',monospace\">++&gt; Evaluate scorp_side_dmtet at epoch <span style=\"color: #008080; text-decoration-color: #008080; font-weight: bold\">100</span> <span style=\"color: #808000; text-decoration-color: #808000\">...</span>\n",
       "</pre>\n"
      ],
      "text/plain": [
       "++> Evaluate scorp_side_dmtet at epoch \u001b[1;36m100\u001b[0m \u001b[33m...\u001b[0m\n"
      ]
     },
     "metadata": {},
     "output_type": "display_data"
    },
    {
     "name": "stderr",
     "output_type": "stream",
     "text": [
      "loss=0.0000 (0.0000): : 100% 8/8 [00:00<00:00, 35.82it/s]\n"
     ]
    },
    {
     "data": {
      "text/html": [
       "<pre style=\"white-space:pre;overflow-x:auto;line-height:normal;font-family:Menlo,'DejaVu Sans Mono',consolas,'Courier New',monospace\">++&gt; Evaluate epoch <span style=\"color: #008080; text-decoration-color: #008080; font-weight: bold\">100</span> Finished.\n",
       "</pre>\n"
      ],
      "text/plain": [
       "++> Evaluate epoch \u001b[1;36m100\u001b[0m Finished.\n"
      ]
     },
     "metadata": {},
     "output_type": "display_data"
    },
    {
     "data": {
      "text/html": [
       "<pre style=\"white-space:pre;overflow-x:auto;line-height:normal;font-family:Menlo,'DejaVu Sans Mono',consolas,'Courier New',monospace\">==&gt; Start Test, save results to scorp_side_dmtet/results\n",
       "</pre>\n"
      ],
      "text/plain": [
       "==> Start Test, save results to scorp_side_dmtet/results\n"
      ]
     },
     "metadata": {},
     "output_type": "display_data"
    },
    {
     "name": "stderr",
     "output_type": "stream",
     "text": [
      " 99% 99/100 [00:01<00:00, 84.25it/s]"
     ]
    },
    {
     "data": {
      "text/html": [
       "<pre style=\"white-space:pre;overflow-x:auto;line-height:normal;font-family:Menlo,'DejaVu Sans Mono',consolas,'Courier New',monospace\">==&gt; Finished Test.\n",
       "</pre>\n"
      ],
      "text/plain": [
       "==> Finished Test.\n"
      ]
     },
     "metadata": {},
     "output_type": "display_data"
    },
    {
     "name": "stderr",
     "output_type": "stream",
     "text": [
      "100% 100/100 [00:03<00:00, 28.75it/s]\n"
     ]
    },
    {
     "data": {
      "text/html": [
       "<pre style=\"white-space:pre;overflow-x:auto;line-height:normal;font-family:Menlo,'DejaVu Sans Mono',consolas,'Courier New',monospace\"><span style=\"font-weight: bold\">[</span>INFO<span style=\"font-weight: bold\">]</span> training takes <span style=\"color: #008080; text-decoration-color: #008080; font-weight: bold\">71.7167</span> minutes.\n",
       "</pre>\n"
      ],
      "text/plain": [
       "\u001b[1m[\u001b[0mINFO\u001b[1m]\u001b[0m training takes \u001b[1;36m71.7167\u001b[0m minutes.\n"
      ]
     },
     "metadata": {},
     "output_type": "display_data"
    }
   ],
   "source": [
    "%run main.py -O --batch_size {batch_size} --image {image_path} --test_interval 5 --workspace {workspace}_dmtet --dmtet   --init_with {workspace}/checkpoints/df.pth\n"
   ]
  },
  {
   "cell_type": "code",
   "execution_count": 6,
   "metadata": {},
   "outputs": [
    {
     "name": "stdout",
     "output_type": "stream",
     "text": [
      "Namespace(file=None, text=None, negative='', O=True, O2=False, test=True, six_views=False, eval_interval=1, test_interval=100, workspace='scorp_side_dmtet', seed=None, image='/notebooks/threestudio/load/images/scorp_side_rgba.png', image_config=None, known_view_interval=4, IF=False, guidance=['zero123'], guidance_scale=5, save_mesh=True, mcubes_resolution=256, decimate_target=50000.0, dmtet=True, tet_grid_size=128, init_with='', lock_geo=False, perpneg=False, negative_w=-2, front_decay_factor=2, side_decay_factor=10, iters=10000, lr=0.001, ckpt='latest', cuda_ray=True, taichi_ray=False, max_steps=1024, num_steps=64, upsample_steps=32, update_extra_interval=16, max_ray_batch=4096, latent_iter_ratio=0, albedo_iter_ratio=0, min_ambient_ratio=0.1, textureless_ratio=0.2, jitter_pose=False, jitter_center=0.2, jitter_target=0.2, jitter_up=0.02, uniform_sphere_rate=0, grad_clip=-1, grad_clip_rgb=-1, bg_radius=1.4, density_activation='exp', density_thresh=10, blob_density=5, blob_radius=0.2, backbone='grid', optim='adan', sd_version='2.1', hf_key=None, fp16=True, vram_O=False, w=512, h=512, known_view_scale=1, known_view_noise_scale=0.002, dmtet_reso_scale=8, batch_size=1, bound=1, dt_gamma=0, min_near=0.01, radius_range=[3.0, 3.5], theta_range=[45, 105], phi_range=[-180, 180], fovy_range=[20, 20], default_radius=3.2, default_polar=90, default_azimuth=0, default_fovy=20, progressive_view=False, progressive_view_init_ratio=0.2, progressive_level=True, angle_overhead=30, angle_front=60, t_range=[0.02, 0.5], dont_override_stuff=False, lambda_entropy=1, lambda_opacity=0, lambda_orient=1, lambda_tv=0, lambda_wd=0, lambda_mesh_normal=0.5, lambda_mesh_laplacian=0.5, lambda_guidance=1, lambda_rgb=1000, lambda_mask=500, lambda_normal=0, lambda_depth=0, lambda_2d_normal_smooth=0, lambda_3d_normal_smooth=10, save_guidance=False, save_guidance_interval=10, gui=False, W=800, H=800, radius=5, fovy=20, light_theta=60, light_phi=0, max_spp=1, zero123_config='./pretrained/zero123/sd-objaverse-finetune-c_concat-256.yaml', zero123_ckpt='pretrained/zero123/zero123-xl.ckpt', zero123_grad_scale='angle', dataset_size_train=100, dataset_size_valid=8, dataset_size_test=100, exp_start_iter=0, exp_end_iter=10000, images=['/notebooks/threestudio/load/images/scorp_side_rgba.png'], ref_radii=[3.2], ref_polars=[90], ref_azimuths=[0], zero123_ws=[1], default_zero123_w=1)\n",
      "NeRFNetwork(\n",
      "  (encoder): GridEncoder: input_dim=3 num_levels=16 level_dim=2 resolution=16 -> 2048 per_level_scale=1.3819 params=(6098120, 2) gridtype=hash align_corners=False interpolation=smoothstep\n",
      "  (sigma_net): MLP(\n",
      "    (net): ModuleList(\n",
      "      (0): Linear(in_features=32, out_features=64, bias=True)\n",
      "      (1): Linear(in_features=64, out_features=64, bias=True)\n",
      "      (2): Linear(in_features=64, out_features=4, bias=True)\n",
      "    )\n",
      "  )\n",
      "  (encoder_bg): FreqEncoder: input_dim=3 degree=6 output_dim=39\n",
      "  (bg_net): MLP(\n",
      "    (net): ModuleList(\n",
      "      (0): Linear(in_features=39, out_features=32, bias=True)\n",
      "      (1): Linear(in_features=32, out_features=3, bias=True)\n",
      "    )\n",
      "  )\n",
      ")\n"
     ]
    },
    {
     "data": {
      "text/html": [
       "<pre style=\"white-space:pre;overflow-x:auto;line-height:normal;font-family:Menlo,'DejaVu Sans Mono',consolas,'Courier New',monospace\"><span style=\"font-weight: bold\">[</span>INFO<span style=\"font-weight: bold\">]</span> Cmdline: main.py -O --image <span style=\"color: #800080; text-decoration-color: #800080\">/notebooks/threestudio/load/images/</span><span style=\"color: #ff00ff; text-decoration-color: #ff00ff\">scorp_side_rgba.png</span> --workspace \n",
       "scorp_side_dmtet --dmtet --test --save_mesh\n",
       "</pre>\n"
      ],
      "text/plain": [
       "\u001b[1m[\u001b[0mINFO\u001b[1m]\u001b[0m Cmdline: main.py -O --image \u001b[35m/notebooks/threestudio/load/images/\u001b[0m\u001b[95mscorp_side_rgba.png\u001b[0m --workspace \n",
       "scorp_side_dmtet --dmtet --test --save_mesh\n"
      ]
     },
     "metadata": {},
     "output_type": "display_data"
    },
    {
     "data": {
      "text/html": [
       "<pre style=\"white-space:pre;overflow-x:auto;line-height:normal;font-family:Menlo,'DejaVu Sans Mono',consolas,'Courier New',monospace\"><span style=\"font-weight: bold\">[</span>INFO<span style=\"font-weight: bold\">]</span> opt: <span style=\"color: #800080; text-decoration-color: #800080; font-weight: bold\">Namespace</span><span style=\"font-weight: bold\">(</span><span style=\"color: #808000; text-decoration-color: #808000\">file</span>=<span style=\"color: #800080; text-decoration-color: #800080; font-style: italic\">None</span>, <span style=\"color: #808000; text-decoration-color: #808000\">text</span>=<span style=\"color: #800080; text-decoration-color: #800080; font-style: italic\">None</span>, <span style=\"color: #808000; text-decoration-color: #808000\">negative</span>=<span style=\"color: #008000; text-decoration-color: #008000\">''</span>, <span style=\"color: #808000; text-decoration-color: #808000\">O</span>=<span style=\"color: #00ff00; text-decoration-color: #00ff00; font-style: italic\">True</span>, <span style=\"color: #808000; text-decoration-color: #808000\">O2</span>=<span style=\"color: #ff0000; text-decoration-color: #ff0000; font-style: italic\">False</span>, <span style=\"color: #808000; text-decoration-color: #808000\">test</span>=<span style=\"color: #00ff00; text-decoration-color: #00ff00; font-style: italic\">True</span>, <span style=\"color: #808000; text-decoration-color: #808000\">six_views</span>=<span style=\"color: #ff0000; text-decoration-color: #ff0000; font-style: italic\">False</span>, \n",
       "<span style=\"color: #808000; text-decoration-color: #808000\">eval_interval</span>=<span style=\"color: #008080; text-decoration-color: #008080; font-weight: bold\">1</span>, <span style=\"color: #808000; text-decoration-color: #808000\">test_interval</span>=<span style=\"color: #008080; text-decoration-color: #008080; font-weight: bold\">100</span>, <span style=\"color: #808000; text-decoration-color: #808000\">workspace</span>=<span style=\"color: #008000; text-decoration-color: #008000\">'scorp_side_dmtet'</span>, <span style=\"color: #808000; text-decoration-color: #808000\">seed</span>=<span style=\"color: #800080; text-decoration-color: #800080; font-style: italic\">None</span>, \n",
       "<span style=\"color: #808000; text-decoration-color: #808000\">image</span>=<span style=\"color: #008000; text-decoration-color: #008000\">'/notebooks/threestudio/load/images/scorp_side_rgba.png'</span>, <span style=\"color: #808000; text-decoration-color: #808000\">image_config</span>=<span style=\"color: #800080; text-decoration-color: #800080; font-style: italic\">None</span>, <span style=\"color: #808000; text-decoration-color: #808000\">known_view_interval</span>=<span style=\"color: #008080; text-decoration-color: #008080; font-weight: bold\">4</span>, <span style=\"color: #808000; text-decoration-color: #808000\">IF</span>=<span style=\"color: #ff0000; text-decoration-color: #ff0000; font-style: italic\">False</span>,\n",
       "<span style=\"color: #808000; text-decoration-color: #808000\">guidance</span>=<span style=\"font-weight: bold\">[</span><span style=\"color: #008000; text-decoration-color: #008000\">'zero123'</span><span style=\"font-weight: bold\">]</span>, <span style=\"color: #808000; text-decoration-color: #808000\">guidance_scale</span>=<span style=\"color: #008080; text-decoration-color: #008080; font-weight: bold\">5</span>, <span style=\"color: #808000; text-decoration-color: #808000\">save_mesh</span>=<span style=\"color: #00ff00; text-decoration-color: #00ff00; font-style: italic\">True</span>, <span style=\"color: #808000; text-decoration-color: #808000\">mcubes_resolution</span>=<span style=\"color: #008080; text-decoration-color: #008080; font-weight: bold\">256</span>, <span style=\"color: #808000; text-decoration-color: #808000\">decimate_target</span>=<span style=\"color: #008080; text-decoration-color: #008080; font-weight: bold\">50000.0</span>, <span style=\"color: #808000; text-decoration-color: #808000\">dmtet</span>=<span style=\"color: #00ff00; text-decoration-color: #00ff00; font-style: italic\">True</span>,\n",
       "<span style=\"color: #808000; text-decoration-color: #808000\">tet_grid_size</span>=<span style=\"color: #008080; text-decoration-color: #008080; font-weight: bold\">128</span>, <span style=\"color: #808000; text-decoration-color: #808000\">init_with</span>=<span style=\"color: #008000; text-decoration-color: #008000\">''</span>, <span style=\"color: #808000; text-decoration-color: #808000\">lock_geo</span>=<span style=\"color: #ff0000; text-decoration-color: #ff0000; font-style: italic\">False</span>, <span style=\"color: #808000; text-decoration-color: #808000\">perpneg</span>=<span style=\"color: #ff0000; text-decoration-color: #ff0000; font-style: italic\">False</span>, <span style=\"color: #808000; text-decoration-color: #808000\">negative_w</span>=<span style=\"color: #008080; text-decoration-color: #008080; font-weight: bold\">-2</span>, <span style=\"color: #808000; text-decoration-color: #808000\">front_decay_factor</span>=<span style=\"color: #008080; text-decoration-color: #008080; font-weight: bold\">2</span>, \n",
       "<span style=\"color: #808000; text-decoration-color: #808000\">side_decay_factor</span>=<span style=\"color: #008080; text-decoration-color: #008080; font-weight: bold\">10</span>, <span style=\"color: #808000; text-decoration-color: #808000\">iters</span>=<span style=\"color: #008080; text-decoration-color: #008080; font-weight: bold\">10000</span>, <span style=\"color: #808000; text-decoration-color: #808000\">lr</span>=<span style=\"color: #008080; text-decoration-color: #008080; font-weight: bold\">0.001</span>, <span style=\"color: #808000; text-decoration-color: #808000\">ckpt</span>=<span style=\"color: #008000; text-decoration-color: #008000\">'latest'</span>, <span style=\"color: #808000; text-decoration-color: #808000\">cuda_ray</span>=<span style=\"color: #00ff00; text-decoration-color: #00ff00; font-style: italic\">True</span>, <span style=\"color: #808000; text-decoration-color: #808000\">taichi_ray</span>=<span style=\"color: #ff0000; text-decoration-color: #ff0000; font-style: italic\">False</span>, <span style=\"color: #808000; text-decoration-color: #808000\">max_steps</span>=<span style=\"color: #008080; text-decoration-color: #008080; font-weight: bold\">1024</span>, \n",
       "<span style=\"color: #808000; text-decoration-color: #808000\">num_steps</span>=<span style=\"color: #008080; text-decoration-color: #008080; font-weight: bold\">64</span>, <span style=\"color: #808000; text-decoration-color: #808000\">upsample_steps</span>=<span style=\"color: #008080; text-decoration-color: #008080; font-weight: bold\">32</span>, <span style=\"color: #808000; text-decoration-color: #808000\">update_extra_interval</span>=<span style=\"color: #008080; text-decoration-color: #008080; font-weight: bold\">16</span>, <span style=\"color: #808000; text-decoration-color: #808000\">max_ray_batch</span>=<span style=\"color: #008080; text-decoration-color: #008080; font-weight: bold\">4096</span>, <span style=\"color: #808000; text-decoration-color: #808000\">latent_iter_ratio</span>=<span style=\"color: #008080; text-decoration-color: #008080; font-weight: bold\">0</span>, \n",
       "<span style=\"color: #808000; text-decoration-color: #808000\">albedo_iter_ratio</span>=<span style=\"color: #008080; text-decoration-color: #008080; font-weight: bold\">0</span>, <span style=\"color: #808000; text-decoration-color: #808000\">min_ambient_ratio</span>=<span style=\"color: #008080; text-decoration-color: #008080; font-weight: bold\">0.1</span>, <span style=\"color: #808000; text-decoration-color: #808000\">textureless_ratio</span>=<span style=\"color: #008080; text-decoration-color: #008080; font-weight: bold\">0.2</span>, <span style=\"color: #808000; text-decoration-color: #808000\">jitter_pose</span>=<span style=\"color: #ff0000; text-decoration-color: #ff0000; font-style: italic\">False</span>, <span style=\"color: #808000; text-decoration-color: #808000\">jitter_center</span>=<span style=\"color: #008080; text-decoration-color: #008080; font-weight: bold\">0.2</span>, \n",
       "<span style=\"color: #808000; text-decoration-color: #808000\">jitter_target</span>=<span style=\"color: #008080; text-decoration-color: #008080; font-weight: bold\">0.2</span>, <span style=\"color: #808000; text-decoration-color: #808000\">jitter_up</span>=<span style=\"color: #008080; text-decoration-color: #008080; font-weight: bold\">0.02</span>, <span style=\"color: #808000; text-decoration-color: #808000\">uniform_sphere_rate</span>=<span style=\"color: #008080; text-decoration-color: #008080; font-weight: bold\">0</span>, <span style=\"color: #808000; text-decoration-color: #808000\">grad_clip</span>=<span style=\"color: #008080; text-decoration-color: #008080; font-weight: bold\">-1</span>, <span style=\"color: #808000; text-decoration-color: #808000\">grad_clip_rgb</span>=<span style=\"color: #008080; text-decoration-color: #008080; font-weight: bold\">-1</span>, <span style=\"color: #808000; text-decoration-color: #808000\">bg_radius</span>=<span style=\"color: #008080; text-decoration-color: #008080; font-weight: bold\">1.4</span>, \n",
       "<span style=\"color: #808000; text-decoration-color: #808000\">density_activation</span>=<span style=\"color: #008000; text-decoration-color: #008000\">'exp'</span>, <span style=\"color: #808000; text-decoration-color: #808000\">density_thresh</span>=<span style=\"color: #008080; text-decoration-color: #008080; font-weight: bold\">10</span>, <span style=\"color: #808000; text-decoration-color: #808000\">blob_density</span>=<span style=\"color: #008080; text-decoration-color: #008080; font-weight: bold\">5</span>, <span style=\"color: #808000; text-decoration-color: #808000\">blob_radius</span>=<span style=\"color: #008080; text-decoration-color: #008080; font-weight: bold\">0.2</span>, <span style=\"color: #808000; text-decoration-color: #808000\">backbone</span>=<span style=\"color: #008000; text-decoration-color: #008000\">'grid'</span>, <span style=\"color: #808000; text-decoration-color: #808000\">optim</span>=<span style=\"color: #008000; text-decoration-color: #008000\">'adan'</span>, \n",
       "<span style=\"color: #808000; text-decoration-color: #808000\">sd_version</span>=<span style=\"color: #008000; text-decoration-color: #008000\">'2.1'</span>, <span style=\"color: #808000; text-decoration-color: #808000\">hf_key</span>=<span style=\"color: #800080; text-decoration-color: #800080; font-style: italic\">None</span>, <span style=\"color: #808000; text-decoration-color: #808000\">fp16</span>=<span style=\"color: #00ff00; text-decoration-color: #00ff00; font-style: italic\">True</span>, <span style=\"color: #808000; text-decoration-color: #808000\">vram_O</span>=<span style=\"color: #ff0000; text-decoration-color: #ff0000; font-style: italic\">False</span>, <span style=\"color: #808000; text-decoration-color: #808000\">w</span>=<span style=\"color: #008080; text-decoration-color: #008080; font-weight: bold\">512</span>, <span style=\"color: #808000; text-decoration-color: #808000\">h</span>=<span style=\"color: #008080; text-decoration-color: #008080; font-weight: bold\">512</span>, <span style=\"color: #808000; text-decoration-color: #808000\">known_view_scale</span>=<span style=\"color: #008080; text-decoration-color: #008080; font-weight: bold\">1</span>, \n",
       "<span style=\"color: #808000; text-decoration-color: #808000\">known_view_noise_scale</span>=<span style=\"color: #008080; text-decoration-color: #008080; font-weight: bold\">0.002</span>, <span style=\"color: #808000; text-decoration-color: #808000\">dmtet_reso_scale</span>=<span style=\"color: #008080; text-decoration-color: #008080; font-weight: bold\">8</span>, <span style=\"color: #808000; text-decoration-color: #808000\">batch_size</span>=<span style=\"color: #008080; text-decoration-color: #008080; font-weight: bold\">1</span>, <span style=\"color: #808000; text-decoration-color: #808000\">bound</span>=<span style=\"color: #008080; text-decoration-color: #008080; font-weight: bold\">1</span>, <span style=\"color: #808000; text-decoration-color: #808000\">dt_gamma</span>=<span style=\"color: #008080; text-decoration-color: #008080; font-weight: bold\">0</span>, <span style=\"color: #808000; text-decoration-color: #808000\">min_near</span>=<span style=\"color: #008080; text-decoration-color: #008080; font-weight: bold\">0.01</span>, \n",
       "<span style=\"color: #808000; text-decoration-color: #808000\">radius_range</span>=<span style=\"font-weight: bold\">[</span><span style=\"color: #008080; text-decoration-color: #008080; font-weight: bold\">3.0</span>, <span style=\"color: #008080; text-decoration-color: #008080; font-weight: bold\">3.5</span><span style=\"font-weight: bold\">]</span>, <span style=\"color: #808000; text-decoration-color: #808000\">theta_range</span>=<span style=\"font-weight: bold\">[</span><span style=\"color: #008080; text-decoration-color: #008080; font-weight: bold\">45</span>, <span style=\"color: #008080; text-decoration-color: #008080; font-weight: bold\">105</span><span style=\"font-weight: bold\">]</span>, <span style=\"color: #808000; text-decoration-color: #808000\">phi_range</span>=<span style=\"font-weight: bold\">[</span><span style=\"color: #008080; text-decoration-color: #008080; font-weight: bold\">-180</span>, <span style=\"color: #008080; text-decoration-color: #008080; font-weight: bold\">180</span><span style=\"font-weight: bold\">]</span>, <span style=\"color: #808000; text-decoration-color: #808000\">fovy_range</span>=<span style=\"font-weight: bold\">[</span><span style=\"color: #008080; text-decoration-color: #008080; font-weight: bold\">20</span>, <span style=\"color: #008080; text-decoration-color: #008080; font-weight: bold\">20</span><span style=\"font-weight: bold\">]</span>, <span style=\"color: #808000; text-decoration-color: #808000\">default_radius</span>=<span style=\"color: #008080; text-decoration-color: #008080; font-weight: bold\">3.2</span>, \n",
       "<span style=\"color: #808000; text-decoration-color: #808000\">default_polar</span>=<span style=\"color: #008080; text-decoration-color: #008080; font-weight: bold\">90</span>, <span style=\"color: #808000; text-decoration-color: #808000\">default_azimuth</span>=<span style=\"color: #008080; text-decoration-color: #008080; font-weight: bold\">0</span>, <span style=\"color: #808000; text-decoration-color: #808000\">default_fovy</span>=<span style=\"color: #008080; text-decoration-color: #008080; font-weight: bold\">20</span>, <span style=\"color: #808000; text-decoration-color: #808000\">progressive_view</span>=<span style=\"color: #ff0000; text-decoration-color: #ff0000; font-style: italic\">False</span>, <span style=\"color: #808000; text-decoration-color: #808000\">progressive_view_init_ratio</span>=<span style=\"color: #008080; text-decoration-color: #008080; font-weight: bold\">0.2</span>, \n",
       "<span style=\"color: #808000; text-decoration-color: #808000\">progressive_level</span>=<span style=\"color: #00ff00; text-decoration-color: #00ff00; font-style: italic\">True</span>, <span style=\"color: #808000; text-decoration-color: #808000\">angle_overhead</span>=<span style=\"color: #008080; text-decoration-color: #008080; font-weight: bold\">30</span>, <span style=\"color: #808000; text-decoration-color: #808000\">angle_front</span>=<span style=\"color: #008080; text-decoration-color: #008080; font-weight: bold\">60</span>, <span style=\"color: #808000; text-decoration-color: #808000\">t_range</span>=<span style=\"font-weight: bold\">[</span><span style=\"color: #008080; text-decoration-color: #008080; font-weight: bold\">0.02</span>, <span style=\"color: #008080; text-decoration-color: #008080; font-weight: bold\">0.5</span><span style=\"font-weight: bold\">]</span>, <span style=\"color: #808000; text-decoration-color: #808000\">dont_override_stuff</span>=<span style=\"color: #ff0000; text-decoration-color: #ff0000; font-style: italic\">False</span>, \n",
       "<span style=\"color: #808000; text-decoration-color: #808000\">lambda_entropy</span>=<span style=\"color: #008080; text-decoration-color: #008080; font-weight: bold\">1</span>, <span style=\"color: #808000; text-decoration-color: #808000\">lambda_opacity</span>=<span style=\"color: #008080; text-decoration-color: #008080; font-weight: bold\">0</span>, <span style=\"color: #808000; text-decoration-color: #808000\">lambda_orient</span>=<span style=\"color: #008080; text-decoration-color: #008080; font-weight: bold\">1</span>, <span style=\"color: #808000; text-decoration-color: #808000\">lambda_tv</span>=<span style=\"color: #008080; text-decoration-color: #008080; font-weight: bold\">0</span>, <span style=\"color: #808000; text-decoration-color: #808000\">lambda_wd</span>=<span style=\"color: #008080; text-decoration-color: #008080; font-weight: bold\">0</span>, <span style=\"color: #808000; text-decoration-color: #808000\">lambda_mesh_normal</span>=<span style=\"color: #008080; text-decoration-color: #008080; font-weight: bold\">0.5</span>, \n",
       "<span style=\"color: #808000; text-decoration-color: #808000\">lambda_mesh_laplacian</span>=<span style=\"color: #008080; text-decoration-color: #008080; font-weight: bold\">0.5</span>, <span style=\"color: #808000; text-decoration-color: #808000\">lambda_guidance</span>=<span style=\"color: #008080; text-decoration-color: #008080; font-weight: bold\">1</span>, <span style=\"color: #808000; text-decoration-color: #808000\">lambda_rgb</span>=<span style=\"color: #008080; text-decoration-color: #008080; font-weight: bold\">1000</span>, <span style=\"color: #808000; text-decoration-color: #808000\">lambda_mask</span>=<span style=\"color: #008080; text-decoration-color: #008080; font-weight: bold\">500</span>, <span style=\"color: #808000; text-decoration-color: #808000\">lambda_normal</span>=<span style=\"color: #008080; text-decoration-color: #008080; font-weight: bold\">0</span>, <span style=\"color: #808000; text-decoration-color: #808000\">lambda_depth</span>=<span style=\"color: #008080; text-decoration-color: #008080; font-weight: bold\">0</span>, \n",
       "<span style=\"color: #808000; text-decoration-color: #808000\">lambda_2d_normal_smooth</span>=<span style=\"color: #008080; text-decoration-color: #008080; font-weight: bold\">0</span>, <span style=\"color: #808000; text-decoration-color: #808000\">lambda_3d_normal_smooth</span>=<span style=\"color: #008080; text-decoration-color: #008080; font-weight: bold\">10</span>, <span style=\"color: #808000; text-decoration-color: #808000\">save_guidance</span>=<span style=\"color: #ff0000; text-decoration-color: #ff0000; font-style: italic\">False</span>, <span style=\"color: #808000; text-decoration-color: #808000\">save_guidance_interval</span>=<span style=\"color: #008080; text-decoration-color: #008080; font-weight: bold\">10</span>, <span style=\"color: #808000; text-decoration-color: #808000\">gui</span>=<span style=\"color: #ff0000; text-decoration-color: #ff0000; font-style: italic\">False</span>, \n",
       "<span style=\"color: #808000; text-decoration-color: #808000\">W</span>=<span style=\"color: #008080; text-decoration-color: #008080; font-weight: bold\">800</span>, <span style=\"color: #808000; text-decoration-color: #808000\">H</span>=<span style=\"color: #008080; text-decoration-color: #008080; font-weight: bold\">800</span>, <span style=\"color: #808000; text-decoration-color: #808000\">radius</span>=<span style=\"color: #008080; text-decoration-color: #008080; font-weight: bold\">5</span>, <span style=\"color: #808000; text-decoration-color: #808000\">fovy</span>=<span style=\"color: #008080; text-decoration-color: #008080; font-weight: bold\">20</span>, <span style=\"color: #808000; text-decoration-color: #808000\">light_theta</span>=<span style=\"color: #008080; text-decoration-color: #008080; font-weight: bold\">60</span>, <span style=\"color: #808000; text-decoration-color: #808000\">light_phi</span>=<span style=\"color: #008080; text-decoration-color: #008080; font-weight: bold\">0</span>, <span style=\"color: #808000; text-decoration-color: #808000\">max_spp</span>=<span style=\"color: #008080; text-decoration-color: #008080; font-weight: bold\">1</span>, \n",
       "<span style=\"color: #808000; text-decoration-color: #808000\">zero123_config</span>=<span style=\"color: #008000; text-decoration-color: #008000\">'./pretrained/zero123/sd-objaverse-finetune-c_concat-256.yaml'</span>, \n",
       "<span style=\"color: #808000; text-decoration-color: #808000\">zero123_ckpt</span>=<span style=\"color: #008000; text-decoration-color: #008000\">'pretrained/zero123/zero123-xl.ckpt'</span>, <span style=\"color: #808000; text-decoration-color: #808000\">zero123_grad_scale</span>=<span style=\"color: #008000; text-decoration-color: #008000\">'angle'</span>, <span style=\"color: #808000; text-decoration-color: #808000\">dataset_size_train</span>=<span style=\"color: #008080; text-decoration-color: #008080; font-weight: bold\">100</span>, \n",
       "<span style=\"color: #808000; text-decoration-color: #808000\">dataset_size_valid</span>=<span style=\"color: #008080; text-decoration-color: #008080; font-weight: bold\">8</span>, <span style=\"color: #808000; text-decoration-color: #808000\">dataset_size_test</span>=<span style=\"color: #008080; text-decoration-color: #008080; font-weight: bold\">100</span>, <span style=\"color: #808000; text-decoration-color: #808000\">exp_start_iter</span>=<span style=\"color: #008080; text-decoration-color: #008080; font-weight: bold\">0</span>, <span style=\"color: #808000; text-decoration-color: #808000\">exp_end_iter</span>=<span style=\"color: #008080; text-decoration-color: #008080; font-weight: bold\">10000</span>, \n",
       "<span style=\"color: #808000; text-decoration-color: #808000\">images</span>=<span style=\"font-weight: bold\">[</span><span style=\"color: #008000; text-decoration-color: #008000\">'/notebooks/threestudio/load/images/scorp_side_rgba.png'</span><span style=\"font-weight: bold\">]</span>, <span style=\"color: #808000; text-decoration-color: #808000\">ref_radii</span>=<span style=\"font-weight: bold\">[</span><span style=\"color: #008080; text-decoration-color: #008080; font-weight: bold\">3.2</span><span style=\"font-weight: bold\">]</span>, <span style=\"color: #808000; text-decoration-color: #808000\">ref_polars</span>=<span style=\"font-weight: bold\">[</span><span style=\"color: #008080; text-decoration-color: #008080; font-weight: bold\">90</span><span style=\"font-weight: bold\">]</span>, \n",
       "<span style=\"color: #808000; text-decoration-color: #808000\">ref_azimuths</span>=<span style=\"font-weight: bold\">[</span><span style=\"color: #008080; text-decoration-color: #008080; font-weight: bold\">0</span><span style=\"font-weight: bold\">]</span>, <span style=\"color: #808000; text-decoration-color: #808000\">zero123_ws</span>=<span style=\"font-weight: bold\">[</span><span style=\"color: #008080; text-decoration-color: #008080; font-weight: bold\">1</span><span style=\"font-weight: bold\">]</span>, <span style=\"color: #808000; text-decoration-color: #808000\">default_zero123_w</span>=<span style=\"color: #008080; text-decoration-color: #008080; font-weight: bold\">1</span><span style=\"font-weight: bold\">)</span>\n",
       "</pre>\n"
      ],
      "text/plain": [
       "\u001b[1m[\u001b[0mINFO\u001b[1m]\u001b[0m opt: \u001b[1;35mNamespace\u001b[0m\u001b[1m(\u001b[0m\u001b[33mfile\u001b[0m=\u001b[3;35mNone\u001b[0m, \u001b[33mtext\u001b[0m=\u001b[3;35mNone\u001b[0m, \u001b[33mnegative\u001b[0m=\u001b[32m''\u001b[0m, \u001b[33mO\u001b[0m=\u001b[3;92mTrue\u001b[0m, \u001b[33mO2\u001b[0m=\u001b[3;91mFalse\u001b[0m, \u001b[33mtest\u001b[0m=\u001b[3;92mTrue\u001b[0m, \u001b[33msix_views\u001b[0m=\u001b[3;91mFalse\u001b[0m, \n",
       "\u001b[33meval_interval\u001b[0m=\u001b[1;36m1\u001b[0m, \u001b[33mtest_interval\u001b[0m=\u001b[1;36m100\u001b[0m, \u001b[33mworkspace\u001b[0m=\u001b[32m'scorp_side_dmtet'\u001b[0m, \u001b[33mseed\u001b[0m=\u001b[3;35mNone\u001b[0m, \n",
       "\u001b[33mimage\u001b[0m=\u001b[32m'/notebooks/threestudio/load/images/scorp_side_rgba.png'\u001b[0m, \u001b[33mimage_config\u001b[0m=\u001b[3;35mNone\u001b[0m, \u001b[33mknown_view_interval\u001b[0m=\u001b[1;36m4\u001b[0m, \u001b[33mIF\u001b[0m=\u001b[3;91mFalse\u001b[0m,\n",
       "\u001b[33mguidance\u001b[0m=\u001b[1m[\u001b[0m\u001b[32m'zero123'\u001b[0m\u001b[1m]\u001b[0m, \u001b[33mguidance_scale\u001b[0m=\u001b[1;36m5\u001b[0m, \u001b[33msave_mesh\u001b[0m=\u001b[3;92mTrue\u001b[0m, \u001b[33mmcubes_resolution\u001b[0m=\u001b[1;36m256\u001b[0m, \u001b[33mdecimate_target\u001b[0m=\u001b[1;36m50000\u001b[0m\u001b[1;36m.0\u001b[0m, \u001b[33mdmtet\u001b[0m=\u001b[3;92mTrue\u001b[0m,\n",
       "\u001b[33mtet_grid_size\u001b[0m=\u001b[1;36m128\u001b[0m, \u001b[33minit_with\u001b[0m=\u001b[32m''\u001b[0m, \u001b[33mlock_geo\u001b[0m=\u001b[3;91mFalse\u001b[0m, \u001b[33mperpneg\u001b[0m=\u001b[3;91mFalse\u001b[0m, \u001b[33mnegative_w\u001b[0m=\u001b[1;36m-2\u001b[0m, \u001b[33mfront_decay_factor\u001b[0m=\u001b[1;36m2\u001b[0m, \n",
       "\u001b[33mside_decay_factor\u001b[0m=\u001b[1;36m10\u001b[0m, \u001b[33miters\u001b[0m=\u001b[1;36m10000\u001b[0m, \u001b[33mlr\u001b[0m=\u001b[1;36m0\u001b[0m\u001b[1;36m.001\u001b[0m, \u001b[33mckpt\u001b[0m=\u001b[32m'latest'\u001b[0m, \u001b[33mcuda_ray\u001b[0m=\u001b[3;92mTrue\u001b[0m, \u001b[33mtaichi_ray\u001b[0m=\u001b[3;91mFalse\u001b[0m, \u001b[33mmax_steps\u001b[0m=\u001b[1;36m1024\u001b[0m, \n",
       "\u001b[33mnum_steps\u001b[0m=\u001b[1;36m64\u001b[0m, \u001b[33mupsample_steps\u001b[0m=\u001b[1;36m32\u001b[0m, \u001b[33mupdate_extra_interval\u001b[0m=\u001b[1;36m16\u001b[0m, \u001b[33mmax_ray_batch\u001b[0m=\u001b[1;36m4096\u001b[0m, \u001b[33mlatent_iter_ratio\u001b[0m=\u001b[1;36m0\u001b[0m, \n",
       "\u001b[33malbedo_iter_ratio\u001b[0m=\u001b[1;36m0\u001b[0m, \u001b[33mmin_ambient_ratio\u001b[0m=\u001b[1;36m0\u001b[0m\u001b[1;36m.1\u001b[0m, \u001b[33mtextureless_ratio\u001b[0m=\u001b[1;36m0\u001b[0m\u001b[1;36m.2\u001b[0m, \u001b[33mjitter_pose\u001b[0m=\u001b[3;91mFalse\u001b[0m, \u001b[33mjitter_center\u001b[0m=\u001b[1;36m0\u001b[0m\u001b[1;36m.2\u001b[0m, \n",
       "\u001b[33mjitter_target\u001b[0m=\u001b[1;36m0\u001b[0m\u001b[1;36m.2\u001b[0m, \u001b[33mjitter_up\u001b[0m=\u001b[1;36m0\u001b[0m\u001b[1;36m.02\u001b[0m, \u001b[33muniform_sphere_rate\u001b[0m=\u001b[1;36m0\u001b[0m, \u001b[33mgrad_clip\u001b[0m=\u001b[1;36m-1\u001b[0m, \u001b[33mgrad_clip_rgb\u001b[0m=\u001b[1;36m-1\u001b[0m, \u001b[33mbg_radius\u001b[0m=\u001b[1;36m1\u001b[0m\u001b[1;36m.4\u001b[0m, \n",
       "\u001b[33mdensity_activation\u001b[0m=\u001b[32m'exp'\u001b[0m, \u001b[33mdensity_thresh\u001b[0m=\u001b[1;36m10\u001b[0m, \u001b[33mblob_density\u001b[0m=\u001b[1;36m5\u001b[0m, \u001b[33mblob_radius\u001b[0m=\u001b[1;36m0\u001b[0m\u001b[1;36m.2\u001b[0m, \u001b[33mbackbone\u001b[0m=\u001b[32m'grid'\u001b[0m, \u001b[33moptim\u001b[0m=\u001b[32m'adan'\u001b[0m, \n",
       "\u001b[33msd_version\u001b[0m=\u001b[32m'2.1'\u001b[0m, \u001b[33mhf_key\u001b[0m=\u001b[3;35mNone\u001b[0m, \u001b[33mfp16\u001b[0m=\u001b[3;92mTrue\u001b[0m, \u001b[33mvram_O\u001b[0m=\u001b[3;91mFalse\u001b[0m, \u001b[33mw\u001b[0m=\u001b[1;36m512\u001b[0m, \u001b[33mh\u001b[0m=\u001b[1;36m512\u001b[0m, \u001b[33mknown_view_scale\u001b[0m=\u001b[1;36m1\u001b[0m, \n",
       "\u001b[33mknown_view_noise_scale\u001b[0m=\u001b[1;36m0\u001b[0m\u001b[1;36m.002\u001b[0m, \u001b[33mdmtet_reso_scale\u001b[0m=\u001b[1;36m8\u001b[0m, \u001b[33mbatch_size\u001b[0m=\u001b[1;36m1\u001b[0m, \u001b[33mbound\u001b[0m=\u001b[1;36m1\u001b[0m, \u001b[33mdt_gamma\u001b[0m=\u001b[1;36m0\u001b[0m, \u001b[33mmin_near\u001b[0m=\u001b[1;36m0\u001b[0m\u001b[1;36m.01\u001b[0m, \n",
       "\u001b[33mradius_range\u001b[0m=\u001b[1m[\u001b[0m\u001b[1;36m3.0\u001b[0m, \u001b[1;36m3.5\u001b[0m\u001b[1m]\u001b[0m, \u001b[33mtheta_range\u001b[0m=\u001b[1m[\u001b[0m\u001b[1;36m45\u001b[0m, \u001b[1;36m105\u001b[0m\u001b[1m]\u001b[0m, \u001b[33mphi_range\u001b[0m=\u001b[1m[\u001b[0m\u001b[1;36m-180\u001b[0m, \u001b[1;36m180\u001b[0m\u001b[1m]\u001b[0m, \u001b[33mfovy_range\u001b[0m=\u001b[1m[\u001b[0m\u001b[1;36m20\u001b[0m, \u001b[1;36m20\u001b[0m\u001b[1m]\u001b[0m, \u001b[33mdefault_radius\u001b[0m=\u001b[1;36m3\u001b[0m\u001b[1;36m.2\u001b[0m, \n",
       "\u001b[33mdefault_polar\u001b[0m=\u001b[1;36m90\u001b[0m, \u001b[33mdefault_azimuth\u001b[0m=\u001b[1;36m0\u001b[0m, \u001b[33mdefault_fovy\u001b[0m=\u001b[1;36m20\u001b[0m, \u001b[33mprogressive_view\u001b[0m=\u001b[3;91mFalse\u001b[0m, \u001b[33mprogressive_view_init_ratio\u001b[0m=\u001b[1;36m0\u001b[0m\u001b[1;36m.2\u001b[0m, \n",
       "\u001b[33mprogressive_level\u001b[0m=\u001b[3;92mTrue\u001b[0m, \u001b[33mangle_overhead\u001b[0m=\u001b[1;36m30\u001b[0m, \u001b[33mangle_front\u001b[0m=\u001b[1;36m60\u001b[0m, \u001b[33mt_range\u001b[0m=\u001b[1m[\u001b[0m\u001b[1;36m0.02\u001b[0m, \u001b[1;36m0.5\u001b[0m\u001b[1m]\u001b[0m, \u001b[33mdont_override_stuff\u001b[0m=\u001b[3;91mFalse\u001b[0m, \n",
       "\u001b[33mlambda_entropy\u001b[0m=\u001b[1;36m1\u001b[0m, \u001b[33mlambda_opacity\u001b[0m=\u001b[1;36m0\u001b[0m, \u001b[33mlambda_orient\u001b[0m=\u001b[1;36m1\u001b[0m, \u001b[33mlambda_tv\u001b[0m=\u001b[1;36m0\u001b[0m, \u001b[33mlambda_wd\u001b[0m=\u001b[1;36m0\u001b[0m, \u001b[33mlambda_mesh_normal\u001b[0m=\u001b[1;36m0\u001b[0m\u001b[1;36m.5\u001b[0m, \n",
       "\u001b[33mlambda_mesh_laplacian\u001b[0m=\u001b[1;36m0\u001b[0m\u001b[1;36m.5\u001b[0m, \u001b[33mlambda_guidance\u001b[0m=\u001b[1;36m1\u001b[0m, \u001b[33mlambda_rgb\u001b[0m=\u001b[1;36m1000\u001b[0m, \u001b[33mlambda_mask\u001b[0m=\u001b[1;36m500\u001b[0m, \u001b[33mlambda_normal\u001b[0m=\u001b[1;36m0\u001b[0m, \u001b[33mlambda_depth\u001b[0m=\u001b[1;36m0\u001b[0m, \n",
       "\u001b[33mlambda_2d_normal_smooth\u001b[0m=\u001b[1;36m0\u001b[0m, \u001b[33mlambda_3d_normal_smooth\u001b[0m=\u001b[1;36m10\u001b[0m, \u001b[33msave_guidance\u001b[0m=\u001b[3;91mFalse\u001b[0m, \u001b[33msave_guidance_interval\u001b[0m=\u001b[1;36m10\u001b[0m, \u001b[33mgui\u001b[0m=\u001b[3;91mFalse\u001b[0m, \n",
       "\u001b[33mW\u001b[0m=\u001b[1;36m800\u001b[0m, \u001b[33mH\u001b[0m=\u001b[1;36m800\u001b[0m, \u001b[33mradius\u001b[0m=\u001b[1;36m5\u001b[0m, \u001b[33mfovy\u001b[0m=\u001b[1;36m20\u001b[0m, \u001b[33mlight_theta\u001b[0m=\u001b[1;36m60\u001b[0m, \u001b[33mlight_phi\u001b[0m=\u001b[1;36m0\u001b[0m, \u001b[33mmax_spp\u001b[0m=\u001b[1;36m1\u001b[0m, \n",
       "\u001b[33mzero123_config\u001b[0m=\u001b[32m'./pretrained/zero123/sd-objaverse-finetune-c_concat-256.yaml'\u001b[0m, \n",
       "\u001b[33mzero123_ckpt\u001b[0m=\u001b[32m'pretrained/zero123/zero123-xl.ckpt'\u001b[0m, \u001b[33mzero123_grad_scale\u001b[0m=\u001b[32m'angle'\u001b[0m, \u001b[33mdataset_size_train\u001b[0m=\u001b[1;36m100\u001b[0m, \n",
       "\u001b[33mdataset_size_valid\u001b[0m=\u001b[1;36m8\u001b[0m, \u001b[33mdataset_size_test\u001b[0m=\u001b[1;36m100\u001b[0m, \u001b[33mexp_start_iter\u001b[0m=\u001b[1;36m0\u001b[0m, \u001b[33mexp_end_iter\u001b[0m=\u001b[1;36m10000\u001b[0m, \n",
       "\u001b[33mimages\u001b[0m=\u001b[1m[\u001b[0m\u001b[32m'/notebooks/threestudio/load/images/scorp_side_rgba.png'\u001b[0m\u001b[1m]\u001b[0m, \u001b[33mref_radii\u001b[0m=\u001b[1m[\u001b[0m\u001b[1;36m3.2\u001b[0m\u001b[1m]\u001b[0m, \u001b[33mref_polars\u001b[0m=\u001b[1m[\u001b[0m\u001b[1;36m90\u001b[0m\u001b[1m]\u001b[0m, \n",
       "\u001b[33mref_azimuths\u001b[0m=\u001b[1m[\u001b[0m\u001b[1;36m0\u001b[0m\u001b[1m]\u001b[0m, \u001b[33mzero123_ws\u001b[0m=\u001b[1m[\u001b[0m\u001b[1;36m1\u001b[0m\u001b[1m]\u001b[0m, \u001b[33mdefault_zero123_w\u001b[0m=\u001b[1;36m1\u001b[0m\u001b[1m)\u001b[0m\n"
      ]
     },
     "metadata": {},
     "output_type": "display_data"
    },
    {
     "data": {
      "text/html": [
       "<pre style=\"white-space:pre;overflow-x:auto;line-height:normal;font-family:Menlo,'DejaVu Sans Mono',consolas,'Courier New',monospace\"><span style=\"font-weight: bold\">[</span>INFO<span style=\"font-weight: bold\">]</span> Trainer: df | <span style=\"color: #008080; text-decoration-color: #008080; font-weight: bold\">2023</span>-<span style=\"color: #008080; text-decoration-color: #008080; font-weight: bold\">08</span>-27_06-<span style=\"color: #008080; text-decoration-color: #008080; font-weight: bold\">49</span>-<span style=\"color: #008080; text-decoration-color: #008080; font-weight: bold\">26</span> | cuda | fp16 | scorp_side_dmtet\n",
       "</pre>\n"
      ],
      "text/plain": [
       "\u001b[1m[\u001b[0mINFO\u001b[1m]\u001b[0m Trainer: df | \u001b[1;36m2023\u001b[0m-\u001b[1;36m08\u001b[0m-27_06-\u001b[1;36m49\u001b[0m-\u001b[1;36m26\u001b[0m | cuda | fp16 | scorp_side_dmtet\n"
      ]
     },
     "metadata": {},
     "output_type": "display_data"
    },
    {
     "data": {
      "text/html": [
       "<pre style=\"white-space:pre;overflow-x:auto;line-height:normal;font-family:Menlo,'DejaVu Sans Mono',consolas,'Courier New',monospace\"><span style=\"font-weight: bold\">[</span>INFO<span style=\"font-weight: bold\">]</span> #parameters: <span style=\"color: #008080; text-decoration-color: #008080; font-weight: bold\">13313791</span>\n",
       "</pre>\n"
      ],
      "text/plain": [
       "\u001b[1m[\u001b[0mINFO\u001b[1m]\u001b[0m #parameters: \u001b[1;36m13313791\u001b[0m\n"
      ]
     },
     "metadata": {},
     "output_type": "display_data"
    },
    {
     "data": {
      "text/html": [
       "<pre style=\"white-space:pre;overflow-x:auto;line-height:normal;font-family:Menlo,'DejaVu Sans Mono',consolas,'Courier New',monospace\"><span style=\"font-weight: bold\">[</span>INFO<span style=\"font-weight: bold\">]</span> Loading latest checkpoint <span style=\"color: #808000; text-decoration-color: #808000\">...</span>\n",
       "</pre>\n"
      ],
      "text/plain": [
       "\u001b[1m[\u001b[0mINFO\u001b[1m]\u001b[0m Loading latest checkpoint \u001b[33m...\u001b[0m\n"
      ]
     },
     "metadata": {},
     "output_type": "display_data"
    },
    {
     "data": {
      "text/html": [
       "<pre style=\"white-space:pre;overflow-x:auto;line-height:normal;font-family:Menlo,'DejaVu Sans Mono',consolas,'Courier New',monospace\"><span style=\"font-weight: bold\">[</span>INFO<span style=\"font-weight: bold\">]</span> Latest checkpoint is scorp_side_dmtet/checkpoints/df_ep0100.pth\n",
       "</pre>\n"
      ],
      "text/plain": [
       "\u001b[1m[\u001b[0mINFO\u001b[1m]\u001b[0m Latest checkpoint is scorp_side_dmtet/checkpoints/df_ep0100.pth\n"
      ]
     },
     "metadata": {},
     "output_type": "display_data"
    },
    {
     "data": {
      "text/html": [
       "<pre style=\"white-space:pre;overflow-x:auto;line-height:normal;font-family:Menlo,'DejaVu Sans Mono',consolas,'Courier New',monospace\"><span style=\"font-weight: bold\">[</span>INFO<span style=\"font-weight: bold\">]</span> loaded model.\n",
       "</pre>\n"
      ],
      "text/plain": [
       "\u001b[1m[\u001b[0mINFO\u001b[1m]\u001b[0m loaded model.\n"
      ]
     },
     "metadata": {},
     "output_type": "display_data"
    },
    {
     "data": {
      "text/html": [
       "<pre style=\"white-space:pre;overflow-x:auto;line-height:normal;font-family:Menlo,'DejaVu Sans Mono',consolas,'Courier New',monospace\"><span style=\"font-weight: bold\">[</span>INFO<span style=\"font-weight: bold\">]</span> load at epoch <span style=\"color: #008080; text-decoration-color: #008080; font-weight: bold\">100</span>, global step <span style=\"color: #008080; text-decoration-color: #008080; font-weight: bold\">10000</span>\n",
       "</pre>\n"
      ],
      "text/plain": [
       "\u001b[1m[\u001b[0mINFO\u001b[1m]\u001b[0m load at epoch \u001b[1;36m100\u001b[0m, global step \u001b[1;36m10000\u001b[0m\n"
      ]
     },
     "metadata": {},
     "output_type": "display_data"
    },
    {
     "data": {
      "text/html": [
       "<pre style=\"white-space:pre;overflow-x:auto;line-height:normal;font-family:Menlo,'DejaVu Sans Mono',consolas,'Courier New',monospace\"><span style=\"font-weight: bold\">[</span>WARN<span style=\"font-weight: bold\">]</span> Failed to load optimizer.\n",
       "</pre>\n"
      ],
      "text/plain": [
       "\u001b[1m[\u001b[0mWARN\u001b[1m]\u001b[0m Failed to load optimizer.\n"
      ]
     },
     "metadata": {},
     "output_type": "display_data"
    },
    {
     "data": {
      "text/html": [
       "<pre style=\"white-space:pre;overflow-x:auto;line-height:normal;font-family:Menlo,'DejaVu Sans Mono',consolas,'Courier New',monospace\"><span style=\"font-weight: bold\">[</span>INFO<span style=\"font-weight: bold\">]</span> loaded scheduler.\n",
       "</pre>\n"
      ],
      "text/plain": [
       "\u001b[1m[\u001b[0mINFO\u001b[1m]\u001b[0m loaded scheduler.\n"
      ]
     },
     "metadata": {},
     "output_type": "display_data"
    },
    {
     "data": {
      "text/html": [
       "<pre style=\"white-space:pre;overflow-x:auto;line-height:normal;font-family:Menlo,'DejaVu Sans Mono',consolas,'Courier New',monospace\"><span style=\"font-weight: bold\">[</span>INFO<span style=\"font-weight: bold\">]</span> loaded scaler.\n",
       "</pre>\n"
      ],
      "text/plain": [
       "\u001b[1m[\u001b[0mINFO\u001b[1m]\u001b[0m loaded scaler.\n"
      ]
     },
     "metadata": {},
     "output_type": "display_data"
    },
    {
     "data": {
      "text/html": [
       "<pre style=\"white-space:pre;overflow-x:auto;line-height:normal;font-family:Menlo,'DejaVu Sans Mono',consolas,'Courier New',monospace\">==&gt; Start Test, save results to scorp_side_dmtet/results\n",
       "</pre>\n"
      ],
      "text/plain": [
       "==> Start Test, save results to scorp_side_dmtet/results\n"
      ]
     },
     "metadata": {},
     "output_type": "display_data"
    },
    {
     "name": "stderr",
     "output_type": "stream",
     "text": [
      " 98% 98/100 [00:01<00:00, 74.81it/s]"
     ]
    },
    {
     "data": {
      "text/html": [
       "<pre style=\"white-space:pre;overflow-x:auto;line-height:normal;font-family:Menlo,'DejaVu Sans Mono',consolas,'Courier New',monospace\">==&gt; Finished Test.\n",
       "</pre>\n"
      ],
      "text/plain": [
       "==> Finished Test.\n"
      ]
     },
     "metadata": {},
     "output_type": "display_data"
    },
    {
     "name": "stderr",
     "output_type": "stream",
     "text": [
      "100% 100/100 [00:03<00:00, 26.73it/s]\n"
     ]
    },
    {
     "data": {
      "text/html": [
       "<pre style=\"white-space:pre;overflow-x:auto;line-height:normal;font-family:Menlo,'DejaVu Sans Mono',consolas,'Courier New',monospace\">==&gt; Saving mesh to scorp_side_dmtet/mesh\n",
       "</pre>\n"
      ],
      "text/plain": [
       "==> Saving mesh to scorp_side_dmtet/mesh\n"
      ]
     },
     "metadata": {},
     "output_type": "display_data"
    },
    {
     "name": "stdout",
     "output_type": "stream",
     "text": [
      "[INFO] mesh cleaning: (35100, 3) --> (33804, 3), (70212, 3) --> (67624, 3)\n",
      "[INFO] mesh decimation: (33804, 3) --> (24992, 3), (67624, 3) --> (50000, 3)\n",
      "[INFO] running xatlas to unwrap UVs for mesh: v=(24992, 3) f=(50000, 3)\n",
      "[INFO] writing obj mesh to scorp_side_dmtet/mesh/mesh.obj\n",
      "[INFO] writing vertices (24992, 3)\n",
      "[INFO] writing vertices texture coords (34546, 2)\n",
      "[INFO] writing faces (50000, 3)\n"
     ]
    },
    {
     "data": {
      "text/html": [
       "<pre style=\"white-space:pre;overflow-x:auto;line-height:normal;font-family:Menlo,'DejaVu Sans Mono',consolas,'Courier New',monospace\">==&gt; Finished saving mesh.\n",
       "</pre>\n"
      ],
      "text/plain": [
       "==> Finished saving mesh.\n"
      ]
     },
     "metadata": {},
     "output_type": "display_data"
    }
   ],
   "source": [
    "%run main.py -O --image {image_path} --workspace {workspace}_dmtet --dmtet --test --save_mesh "
   ]
  },
  {
   "cell_type": "code",
   "execution_count": null,
   "metadata": {},
   "outputs": [],
   "source": [
    "%cd /notebooks/stable-dreamfusion/{workspace}_dmtet/\n",
    "!zip {workspace}.zip -r mesh\n",
    "%cd ../"
   ]
  },
  {
   "cell_type": "markdown",
   "metadata": {},
   "source": [
    "OTHER"
   ]
  },
  {
   "cell_type": "code",
   "execution_count": null,
   "metadata": {},
   "outputs": [],
   "source": [
    "%run main.py -O  --image {image_path} --workspace {workspace}_dmtet_mesh  --dmtet --iters 5000 --init_with  {workspace}_dmtet/mesh/mesh.obj --lock_geo"
   ]
  },
  {
   "cell_type": "code",
   "execution_count": null,
   "metadata": {},
   "outputs": [],
   "source": [
    "%run main.py -O --image {image_path} --workspace {workspace}_dmtet_mesh --dmtet --test --save_mesh"
   ]
  },
  {
   "cell_type": "markdown",
   "metadata": {},
   "source": [
    "SIMPLE EXPORT"
   ]
  },
  {
   "cell_type": "code",
   "execution_count": null,
   "metadata": {},
   "outputs": [],
   "source": [
    "%run main.py -O --image {image_path} --workspace {workspace} --test --save_mesh  "
   ]
  },
  {
   "cell_type": "code",
   "execution_count": null,
   "metadata": {},
   "outputs": [],
   "source": [
    "!chmod +x scripts/run_image_procedure.sh"
   ]
  },
  {
   "cell_type": "code",
   "execution_count": null,
   "metadata": {},
   "outputs": [],
   "source": [
    "import os\n",
    "import subprocess\n",
    "\n",
    "def run_image_procedure(GPU_ID, GUIDANCE_INTERVAL, DEFAULT_POLAR, PREFIX, PROMPT):\n",
    "    EPOCHS1 = 100\n",
    "    EPOCHS2 = 200\n",
    "    EPOCHS3 = 300\n",
    "    IMAGE = f\"/notebooks/threestudio/load/images/{PREFIX}.png\"\n",
    "    IMAGE_RGBA = f\"/notebooks/threestudio/load/images/{PREFIX}_rgba.png\"\n",
    "    WS_PH1 = f\"trial_{PREFIX}-ph1\"\n",
    "    WS_PH2 = f\"trial_{PREFIX}-ph2\"\n",
    "    WS_PH3 = f\"trial_{PREFIX}-ph3\"\n",
    "    CKPT1 = f\"{WS_PH1}/checkpoints/df_ep0{EPOCHS1}.pth\"\n",
    "    CKPT2 = f\"{WS_PH2}/checkpoints/df_ep0{EPOCHS2}.pth\"\n",
    "    CKPT3 = f\"{WS_PH3}/checkpoints/df_ep0{EPOCHS3}.pth\"\n",
    "\n",
    "    if not os.path.isfile(IMAGE_RGBA):\n",
    "        %run preprocess_image.py {IMAGE}\n",
    "\n",
    "    if not os.path.isfile(CKPT1):\n",
    "        %run main.py -O --image {IMAGE_RGBA} --workspace {WS_PH1} --default_polar {DEFAULT_POLAR} --iters {EPOCHS1}00 --save_guidance --save_guidance_interval {GUIDANCE_INTERVAL} --batch_size 6 --test_interval 2 --h 96 --w 96 --zero123_grad_scale None --lambda_3d_normal_smooth 0 --dont_override_stuff --fovy_range 20 20 --guidance_scale 5 \n",
    "\n",
    "    GUIDANCE_INTERVAL = 7\n",
    "    if not os.path.isfile(CKPT2):\n",
    "        %run main.py -O --image {IMAGE_RGBA} --workspace {WS_PH2} --text \"{PROMPT}\" --default_polar {DEFAULT_POLAR} --iters {EPOCHS2}00 --ckpt {CKPT1} --save_guidance --save_guidance_interval {GUIDANCE_INTERVAL} --h 128 --w 128 --albedo_iter_ratio 0.0 --t_range 0.2 0.6 --batch_size 4 --radius_range 2.2 2.6 --test_interval 2 --vram_O --guidance_scale 10 --jitter_pose --jitter_center 0.1 --jitter_target 0.1 --jitter_up 0.05 --known_view_noise_scale 0 --lambda_depth 0 --lr 0.003 --progressive_view --progressive_view_init_ratio 0.05 --known_view_interval 2 --dont_override_stuff --lambda_3d_normal_smooth 1 --textureless_ratio 0.0 --min_ambient_ratio 0.3 --exp_start_iter {EPOCHS1}00 --exp_end_iter {EPOCHS2}00\n",
    "\n",
    "    if not os.path.isfile(CKPT3):\n",
    "        %run main.py -O --image {IMAGE_RGBA} --workspace {WS_PH3} --text \"{PROMPT}\" --default_polar {DEFAULT_POLAR} --iters {EPOCHS3}00 --ckpt {CKPT2} --save_guidance --save_guidance_interval {GUIDANCE_INTERVAL} --h 512 --w 512 --albedo_iter_ratio 0.0 --t_range 0.0 0.5 --batch_size 1 --radius_range 3.2 3.6 --test_interval 2 --vram_O --guidance_scale 10 --jitter_pose --jitter_center 0.015 --jitter_target 0.015 --jitter_up 0.05 --known_view_noise_scale 0 --lambda_depth 0 --lr 0.003 --known_view_interval 2 --dont_override_stuff --lambda_3d_normal_smooth 0.5 --textureless_ratio 0.0 --min_ambient_ratio 0.3 --exp_start_iter {EPOCHS2}00 --exp_end_iter {EPOCHS3}00\n",
    "run_image_procedure(0, 30, 70, \"turtle_plant\", \"an 3D render of a pokemon ((mix between turtle and plant)) with ((red mark on feet)) and ((leaf crown)) on head\")\n"
   ]
  },
  {
   "cell_type": "code",
   "execution_count": null,
   "metadata": {},
   "outputs": [],
   "source": [
    "\n",
    "import os\n",
    "def delete_workspace(PREFIX):\n",
    "    WS_PH1 = f\"trial_{PREFIX}-ph1\"\n",
    "    WS_PH2 = f\"trial_{PREFIX}-ph2\"\n",
    "    WS_PH3 = f\"trial_{PREFIX}-ph3\"\n",
    "    \n",
    "    for workspace in [WS_PH1, WS_PH2, WS_PH3]:\n",
    "        if os.path.isdir(workspace):\n",
    "            os.system(f\"rm -r {workspace}\")\n",
    "            print(f\"Deleted workspace: {workspace}\")\n",
    "        else:\n",
    "            print(f\"No such workspace: {workspace}\")\n",
    "delete_workspace(\"turtle_plant\")"
   ]
  }
 ],
 "metadata": {
  "kernelspec": {
   "display_name": "dreamfusion",
   "language": "python",
   "name": "dreamfusion"
  },
  "language_info": {
   "codemirror_mode": {
    "name": "ipython",
    "version": 3
   },
   "file_extension": ".py",
   "mimetype": "text/x-python",
   "name": "python",
   "nbconvert_exporter": "python",
   "pygments_lexer": "ipython3",
   "version": "3.10.6"
  },
  "orig_nbformat": 4
 },
 "nbformat": 4,
 "nbformat_minor": 2
}
