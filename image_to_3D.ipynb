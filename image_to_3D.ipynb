{
 "cells": [
  {
   "cell_type": "code",
   "execution_count": null,
   "metadata": {},
   "outputs": [],
   "source": [
    "!git clone https://github.com/ashawkey/stable-dreamfusion.git"
   ]
  },
  {
   "cell_type": "code",
   "execution_count": 1,
   "metadata": {},
   "outputs": [
    {
     "name": "stdout",
     "output_type": "stream",
     "text": [
      "\u001b[33mWARNING: Running pip as the 'root' user can result in broken permissions and conflicting behaviour with the system package manager. It is recommended to use a virtual environment instead: https://pip.pypa.io/warnings/venv\u001b[0m\u001b[33m\n",
      "\u001b[0mNote: you may need to restart the kernel to use updated packages.\n"
     ]
    }
   ],
   "source": [
    " %pip install trimesh\n",
    " %pip install pythreejs"
   ]
  },
  {
   "cell_type": "code",
   "execution_count": 2,
   "metadata": {},
   "outputs": [
    {
     "name": "stdout",
     "output_type": "stream",
     "text": [
      "Reading package lists... Done\n",
      "Building dependency tree       \n",
      "Reading state information... Done\n",
      "libeigen3-dev is already the newest version (3.3.7-2).\n",
      "0 upgraded, 0 newly installed, 0 to remove and 39 not upgraded.\n"
     ]
    }
   ],
   "source": [
    "!sudo apt-get install libeigen3-dev -y\n"
   ]
  },
  {
   "cell_type": "code",
   "execution_count": null,
   "metadata": {},
   "outputs": [],
   "source": [
    "!rm -rf /notebooks/stable-dreamfusion/stable-dreamfusion"
   ]
  },
  {
   "cell_type": "code",
   "execution_count": 3,
   "metadata": {},
   "outputs": [
    {
     "name": "stdout",
     "output_type": "stream",
     "text": [
      "/notebooks/stable-dreamfusion\n"
     ]
    }
   ],
   "source": [
    "%cd stable-dreamfusion\n"
   ]
  },
  {
   "cell_type": "code",
   "execution_count": 4,
   "metadata": {},
   "outputs": [
    {
     "name": "stdout",
     "output_type": "stream",
     "text": [
      "From https://github.com/ashawkey/stable-dreamfusion\n",
      " * branch            main       -> FETCH_HEAD\n",
      "Already up to date.\n"
     ]
    }
   ],
   "source": [
    "!git pull origin main"
   ]
  },
  {
   "cell_type": "code",
   "execution_count": 5,
   "metadata": {},
   "outputs": [
    {
     "name": "stdout",
     "output_type": "stream",
     "text": [
      "Collecting git+https://github.com/NVlabs/nvdiffrast/ (from -r requirements.txt (line 36))\n",
      "  Cloning https://github.com/NVlabs/nvdiffrast/ to /tmp/pip-req-build-3yao27cb\n",
      "  Running command git clone --filter=blob:none --quiet https://github.com/NVlabs/nvdiffrast/ /tmp/pip-req-build-3yao27cb\n",
      "  Resolved https://github.com/NVlabs/nvdiffrast/ to commit c5caf7bdb8a2448acc491a9faa47753972edd380\n",
      "  Preparing metadata (setup.py) ... \u001b[?25ldone\n",
      "\u001b[?25hCollecting git+https://github.com/openai/CLIP.git (from -r requirements.txt (line 44))\n",
      "  Cloning https://github.com/openai/CLIP.git to /tmp/pip-req-build-w_dfxbj6\n",
      "  Running command git clone --filter=blob:none --quiet https://github.com/openai/CLIP.git /tmp/pip-req-build-w_dfxbj6\n",
      "  Resolved https://github.com/openai/CLIP.git to commit a1d071733d7111c9c014f024669f959182114e33\n",
      "  Preparing metadata (setup.py) ... \u001b[?25ldone\n",
      "\u001b[?25hCollecting tqdm\n",
      "  Using cached tqdm-4.66.1-py3-none-any.whl (78 kB)\n",
      "Collecting rich\n",
      "  Using cached rich-13.5.2-py3-none-any.whl (239 kB)\n",
      "Collecting ninja\n",
      "  Using cached ninja-1.11.1-py2.py3-none-manylinux_2_12_x86_64.manylinux2010_x86_64.whl (145 kB)\n",
      "Collecting numpy\n",
      "  Using cached numpy-1.25.2-cp310-cp310-manylinux_2_17_x86_64.manylinux2014_x86_64.whl (18.2 MB)\n",
      "Collecting pandas\n",
      "  Using cached pandas-2.1.0-cp310-cp310-manylinux_2_17_x86_64.manylinux2014_x86_64.whl (12.7 MB)\n",
      "Collecting scipy\n",
      "  Using cached scipy-1.11.2-cp310-cp310-manylinux_2_17_x86_64.manylinux2014_x86_64.whl (36.3 MB)\n",
      "Collecting scikit-learn\n",
      "  Using cached scikit_learn-1.3.0-cp310-cp310-manylinux_2_17_x86_64.manylinux2014_x86_64.whl (10.8 MB)\n",
      "Collecting matplotlib\n",
      "  Using cached matplotlib-3.7.2-cp310-cp310-manylinux_2_17_x86_64.manylinux2014_x86_64.whl (11.6 MB)\n",
      "Collecting opencv-python\n",
      "  Using cached opencv_python-4.8.0.76-cp37-abi3-manylinux_2_17_x86_64.manylinux2014_x86_64.whl (61.7 MB)\n",
      "Collecting imageio\n",
      "  Using cached imageio-2.31.3-py3-none-any.whl (313 kB)\n",
      "Collecting imageio-ffmpeg\n",
      "  Using cached imageio_ffmpeg-0.4.8-py3-none-manylinux2010_x86_64.whl (26.9 MB)\n",
      "Collecting torch\n",
      "  Using cached torch-2.0.1-cp310-cp310-manylinux1_x86_64.whl (619.9 MB)\n",
      "Collecting torch-ema\n",
      "  Using cached torch_ema-0.3-py3-none-any.whl (5.5 kB)\n",
      "Collecting einops\n",
      "  Using cached einops-0.6.1-py3-none-any.whl (42 kB)\n",
      "Collecting tensorboard\n",
      "  Using cached tensorboard-2.14.0-py3-none-any.whl (5.5 MB)\n",
      "Collecting tensorboardX\n",
      "  Using cached tensorboardX-2.6.2.2-py2.py3-none-any.whl (101 kB)\n",
      "Collecting dearpygui\n",
      "  Using cached dearpygui-1.9.1-cp310-cp310-manylinux1_x86_64.whl (2.8 MB)\n",
      "Collecting huggingface_hub\n",
      "  Using cached huggingface_hub-0.16.4-py3-none-any.whl (268 kB)\n",
      "Collecting diffusers>=0.9.0\n",
      "  Using cached diffusers-0.20.2-py3-none-any.whl\n",
      "Collecting accelerate\n",
      "  Using cached accelerate-0.22.0-py3-none-any.whl (251 kB)\n",
      "Collecting transformers\n",
      "  Using cached transformers-4.33.1-py3-none-any.whl (7.6 MB)\n",
      "Collecting xatlas\n",
      "  Using cached xatlas-0.0.8-cp310-cp310-manylinux_2_17_x86_64.manylinux2014_x86_64.whl (229 kB)\n",
      "Collecting trimesh\n",
      "  Using cached trimesh-3.23.5-py3-none-any.whl (685 kB)\n",
      "Collecting PyMCubes\n",
      "  Using cached PyMCubes-0.1.4-cp310-cp310-manylinux_2_17_x86_64.manylinux2014_x86_64.whl (274 kB)\n",
      "Collecting pymeshlab\n",
      "  Using cached pymeshlab-2022.2.post4-cp310-cp310-manylinux_2_31_x86_64.whl (64.9 MB)\n",
      "Collecting carvekit-colab\n",
      "  Using cached carvekit_colab-4.1.0-py3-none-any.whl (76 kB)\n",
      "Collecting omegaconf\n",
      "  Using cached omegaconf-2.3.0-py3-none-any.whl (79 kB)\n",
      "Collecting pytorch-lightning\n",
      "  Using cached pytorch_lightning-2.0.8-py3-none-any.whl (727 kB)\n",
      "Collecting taming-transformers-rom1504\n",
      "  Using cached taming_transformers_rom1504-0.0.6-py3-none-any.whl (51 kB)\n",
      "Collecting kornia\n",
      "  Using cached kornia-0.7.0-py2.py3-none-any.whl (705 kB)\n",
      "Collecting gdown\n",
      "  Using cached gdown-4.7.1-py3-none-any.whl (15 kB)\n",
      "Collecting timm\n",
      "  Using cached timm-0.9.7-py3-none-any.whl (2.2 MB)\n",
      "Collecting debugpy-run\n",
      "  Using cached debugpy_run-1.6-py3-none-any.whl (10 kB)\n",
      "Collecting sentencepiece\n",
      "  Using cached sentencepiece-0.1.99-cp310-cp310-manylinux_2_17_x86_64.manylinux2014_x86_64.whl (1.3 MB)\n",
      "Collecting pygments<3.0.0,>=2.13.0\n",
      "  Using cached Pygments-2.16.1-py3-none-any.whl (1.2 MB)\n",
      "Collecting markdown-it-py>=2.2.0\n",
      "  Using cached markdown_it_py-3.0.0-py3-none-any.whl (87 kB)\n",
      "Collecting pytz>=2020.1\n",
      "  Using cached pytz-2023.3.post1-py2.py3-none-any.whl (502 kB)\n",
      "Collecting tzdata>=2022.1\n",
      "  Using cached tzdata-2023.3-py2.py3-none-any.whl (341 kB)\n",
      "Collecting python-dateutil>=2.8.2\n",
      "  Using cached python_dateutil-2.8.2-py2.py3-none-any.whl (247 kB)\n",
      "Collecting threadpoolctl>=2.0.0\n",
      "  Using cached threadpoolctl-3.2.0-py3-none-any.whl (15 kB)\n",
      "Collecting joblib>=1.1.1\n",
      "  Using cached joblib-1.3.2-py3-none-any.whl (302 kB)\n",
      "Collecting pillow>=6.2.0\n",
      "  Using cached Pillow-10.0.0-cp310-cp310-manylinux_2_28_x86_64.whl (3.4 MB)\n",
      "Collecting cycler>=0.10\n",
      "  Using cached cycler-0.11.0-py3-none-any.whl (6.4 kB)\n",
      "Collecting kiwisolver>=1.0.1\n",
      "  Using cached kiwisolver-1.4.5-cp310-cp310-manylinux_2_12_x86_64.manylinux2010_x86_64.whl (1.6 MB)\n",
      "Collecting fonttools>=4.22.0\n",
      "  Using cached fonttools-4.42.1-cp310-cp310-manylinux_2_17_x86_64.manylinux2014_x86_64.whl (4.5 MB)\n",
      "Collecting contourpy>=1.0.1\n",
      "  Using cached contourpy-1.1.0-cp310-cp310-manylinux_2_17_x86_64.manylinux2014_x86_64.whl (300 kB)\n",
      "Collecting pyparsing<3.1,>=2.3.1\n",
      "  Using cached pyparsing-3.0.9-py3-none-any.whl (98 kB)\n",
      "Collecting packaging>=20.0\n",
      "  Using cached packaging-23.1-py3-none-any.whl (48 kB)\n",
      "Collecting nvidia-nccl-cu11==2.14.3\n",
      "  Using cached nvidia_nccl_cu11-2.14.3-py3-none-manylinux1_x86_64.whl (177.1 MB)\n",
      "Collecting nvidia-cuda-nvrtc-cu11==11.7.99\n",
      "  Using cached nvidia_cuda_nvrtc_cu11-11.7.99-2-py3-none-manylinux1_x86_64.whl (21.0 MB)\n",
      "Collecting nvidia-cuda-runtime-cu11==11.7.99\n",
      "  Using cached nvidia_cuda_runtime_cu11-11.7.99-py3-none-manylinux1_x86_64.whl (849 kB)\n",
      "Collecting jinja2\n",
      "  Using cached Jinja2-3.1.2-py3-none-any.whl (133 kB)\n",
      "Collecting nvidia-cublas-cu11==11.10.3.66\n",
      "  Using cached nvidia_cublas_cu11-11.10.3.66-py3-none-manylinux1_x86_64.whl (317.1 MB)\n",
      "Collecting nvidia-cufft-cu11==10.9.0.58\n",
      "  Using cached nvidia_cufft_cu11-10.9.0.58-py3-none-manylinux1_x86_64.whl (168.4 MB)\n",
      "Collecting typing-extensions\n",
      "  Using cached typing_extensions-4.7.1-py3-none-any.whl (33 kB)\n",
      "Collecting nvidia-cudnn-cu11==8.5.0.96\n",
      "  Using cached nvidia_cudnn_cu11-8.5.0.96-2-py3-none-manylinux1_x86_64.whl (557.1 MB)\n",
      "Collecting nvidia-cuda-cupti-cu11==11.7.101\n",
      "  Using cached nvidia_cuda_cupti_cu11-11.7.101-py3-none-manylinux1_x86_64.whl (11.8 MB)\n",
      "Collecting networkx\n",
      "  Using cached networkx-3.1-py3-none-any.whl (2.1 MB)\n",
      "Collecting nvidia-curand-cu11==10.2.10.91\n",
      "  Using cached nvidia_curand_cu11-10.2.10.91-py3-none-manylinux1_x86_64.whl (54.6 MB)\n",
      "Collecting nvidia-cusparse-cu11==11.7.4.91\n",
      "  Using cached nvidia_cusparse_cu11-11.7.4.91-py3-none-manylinux1_x86_64.whl (173.2 MB)\n",
      "Collecting nvidia-cusolver-cu11==11.4.0.1\n",
      "  Using cached nvidia_cusolver_cu11-11.4.0.1-2-py3-none-manylinux1_x86_64.whl (102.6 MB)\n",
      "Collecting triton==2.0.0\n",
      "  Using cached triton-2.0.0-1-cp310-cp310-manylinux2014_x86_64.manylinux_2_17_x86_64.whl (63.3 MB)\n",
      "Collecting filelock\n",
      "  Using cached filelock-3.12.3-py3-none-any.whl (11 kB)\n",
      "Collecting sympy\n",
      "  Using cached sympy-1.12-py3-none-any.whl (5.7 MB)\n",
      "Collecting nvidia-nvtx-cu11==11.7.91\n",
      "  Using cached nvidia_nvtx_cu11-11.7.91-py3-none-manylinux1_x86_64.whl (98 kB)\n",
      "Collecting setuptools\n",
      "  Using cached setuptools-68.2.0-py3-none-any.whl (807 kB)\n",
      "Collecting wheel\n",
      "  Using cached wheel-0.41.2-py3-none-any.whl (64 kB)\n",
      "Collecting lit\n",
      "  Using cached lit-16.0.6-py3-none-any.whl\n",
      "Collecting cmake\n",
      "  Using cached cmake-3.27.4.1-py2.py3-none-manylinux2014_x86_64.manylinux_2_17_x86_64.whl (26.1 MB)\n",
      "Collecting google-auth-oauthlib<1.1,>=0.5\n",
      "  Using cached google_auth_oauthlib-1.0.0-py2.py3-none-any.whl (18 kB)\n",
      "Collecting google-auth<3,>=1.6.3\n",
      "  Using cached google_auth-2.22.0-py2.py3-none-any.whl (181 kB)\n",
      "Collecting markdown>=2.6.8\n",
      "  Using cached Markdown-3.4.4-py3-none-any.whl (94 kB)\n",
      "Collecting grpcio>=1.48.2\n",
      "  Using cached grpcio-1.58.0-cp310-cp310-manylinux_2_17_x86_64.manylinux2014_x86_64.whl (5.3 MB)\n",
      "Collecting tensorboard-data-server<0.8.0,>=0.7.0\n",
      "  Using cached tensorboard_data_server-0.7.1-py3-none-manylinux2014_x86_64.whl (6.6 MB)\n",
      "Collecting werkzeug>=1.0.1\n",
      "  Using cached werkzeug-2.3.7-py3-none-any.whl (242 kB)\n",
      "Collecting requests<3,>=2.21.0\n",
      "  Using cached requests-2.31.0-py3-none-any.whl (62 kB)\n",
      "Collecting protobuf>=3.19.6\n",
      "  Using cached protobuf-4.24.3-cp37-abi3-manylinux2014_x86_64.whl (311 kB)\n",
      "Collecting absl-py>=0.4\n",
      "  Using cached absl_py-1.4.0-py3-none-any.whl (126 kB)\n",
      "Collecting pyyaml>=5.1\n",
      "  Using cached PyYAML-6.0.1-cp310-cp310-manylinux_2_17_x86_64.manylinux2014_x86_64.whl (705 kB)\n",
      "Collecting fsspec\n",
      "  Using cached fsspec-2023.9.0-py3-none-any.whl (173 kB)\n",
      "Collecting importlib-metadata\n",
      "  Using cached importlib_metadata-6.8.0-py3-none-any.whl (22 kB)\n",
      "Collecting regex!=2019.12.17\n",
      "  Using cached regex-2023.8.8-cp310-cp310-manylinux_2_17_x86_64.manylinux2014_x86_64.whl (771 kB)\n",
      "Collecting safetensors>=0.3.1\n",
      "  Using cached safetensors-0.3.3-cp310-cp310-manylinux_2_17_x86_64.manylinux2014_x86_64.whl (1.3 MB)\n",
      "Collecting psutil\n",
      "  Using cached psutil-5.9.5-cp36-abi3-manylinux_2_12_x86_64.manylinux2010_x86_64.manylinux_2_17_x86_64.manylinux2014_x86_64.whl (282 kB)\n",
      "Collecting tokenizers!=0.11.3,<0.14,>=0.11.1\n",
      "  Using cached tokenizers-0.13.3-cp310-cp310-manylinux_2_17_x86_64.manylinux2014_x86_64.whl (7.8 MB)\n",
      "Collecting fastapi\n",
      "  Using cached fastapi-0.103.1-py3-none-any.whl (66 kB)\n",
      "Collecting torchvision\n",
      "  Using cached torchvision-0.15.2-cp310-cp310-manylinux1_x86_64.whl (6.0 MB)\n",
      "Collecting pydantic\n",
      "  Using cached pydantic-2.3.0-py3-none-any.whl (374 kB)\n",
      "Collecting loguru\n",
      "  Using cached loguru-0.7.1-py3-none-any.whl (61 kB)\n",
      "Collecting starlette\n",
      "  Using cached starlette-0.31.1-py3-none-any.whl (69 kB)\n",
      "Collecting click\n",
      "  Using cached click-8.1.7-py3-none-any.whl (97 kB)\n",
      "Collecting aiofiles\n",
      "  Using cached aiofiles-23.2.1-py3-none-any.whl (15 kB)\n",
      "Collecting uvicorn\n",
      "  Using cached uvicorn-0.23.2-py3-none-any.whl (59 kB)\n",
      "Collecting python-multipart\n",
      "  Using cached python_multipart-0.0.6-py3-none-any.whl (45 kB)\n",
      "Collecting antlr4-python3-runtime==4.9.*\n",
      "  Using cached antlr4_python3_runtime-4.9.3-py3-none-any.whl\n",
      "Collecting lightning-utilities>=0.7.0\n",
      "  Using cached lightning_utilities-0.9.0-py3-none-any.whl (23 kB)\n",
      "Collecting torchmetrics>=0.7.0\n",
      "  Using cached torchmetrics-1.1.1-py3-none-any.whl (763 kB)\n",
      "Collecting ftfy\n",
      "  Using cached ftfy-6.1.1-py3-none-any.whl (53 kB)\n",
      "Collecting beautifulsoup4\n",
      "  Using cached beautifulsoup4-4.12.2-py3-none-any.whl (142 kB)\n",
      "Collecting six\n",
      "  Using cached six-1.16.0-py2.py3-none-any.whl (11 kB)\n",
      "Collecting aiohttp!=4.0.0a0,!=4.0.0a1\n",
      "  Using cached aiohttp-3.8.5-cp310-cp310-manylinux_2_17_x86_64.manylinux2014_x86_64.whl (1.0 MB)\n",
      "Collecting cachetools<6.0,>=2.0.0\n",
      "  Using cached cachetools-5.3.1-py3-none-any.whl (9.3 kB)\n",
      "Collecting rsa<5,>=3.1.4\n",
      "  Using cached rsa-4.9-py3-none-any.whl (34 kB)\n",
      "Collecting urllib3<2.0\n",
      "  Using cached urllib3-1.26.16-py2.py3-none-any.whl (143 kB)\n",
      "Collecting pyasn1-modules>=0.2.1\n",
      "  Using cached pyasn1_modules-0.3.0-py2.py3-none-any.whl (181 kB)\n",
      "Collecting requests-oauthlib>=0.7.0\n",
      "  Using cached requests_oauthlib-1.3.1-py2.py3-none-any.whl (23 kB)\n",
      "Collecting mdurl~=0.1\n",
      "  Using cached mdurl-0.1.2-py3-none-any.whl (10.0 kB)\n",
      "Collecting certifi>=2017.4.17\n",
      "  Using cached certifi-2023.7.22-py3-none-any.whl (158 kB)\n",
      "Collecting charset-normalizer<4,>=2\n",
      "  Using cached charset_normalizer-3.2.0-cp310-cp310-manylinux_2_17_x86_64.manylinux2014_x86_64.whl (201 kB)\n",
      "Collecting idna<4,>=2.5\n",
      "  Using cached idna-3.4-py3-none-any.whl (61 kB)\n",
      "Collecting MarkupSafe>=2.1.1\n",
      "  Using cached MarkupSafe-2.1.3-cp310-cp310-manylinux_2_17_x86_64.manylinux2014_x86_64.whl (25 kB)\n",
      "Collecting soupsieve>1.2\n",
      "  Using cached soupsieve-2.5-py3-none-any.whl (36 kB)\n",
      "Collecting anyio<4.0.0,>=3.7.1\n",
      "  Using cached anyio-3.7.1-py3-none-any.whl (80 kB)\n",
      "Collecting starlette\n",
      "  Using cached starlette-0.27.0-py3-none-any.whl (66 kB)\n",
      "Collecting annotated-types>=0.4.0\n",
      "  Using cached annotated_types-0.5.0-py3-none-any.whl (11 kB)\n",
      "Collecting pydantic-core==2.6.3\n",
      "  Using cached pydantic_core-2.6.3-cp310-cp310-manylinux_2_17_x86_64.manylinux2014_x86_64.whl (1.9 MB)\n",
      "Collecting wcwidth>=0.2.5\n",
      "  Using cached wcwidth-0.2.6-py2.py3-none-any.whl (29 kB)\n",
      "Collecting zipp>=0.5\n",
      "  Using cached zipp-3.16.2-py3-none-any.whl (7.2 kB)\n",
      "Collecting PySocks!=1.5.7,>=1.5.6\n",
      "  Using cached PySocks-1.7.1-py3-none-any.whl (16 kB)\n",
      "Collecting mpmath>=0.19\n",
      "  Using cached mpmath-1.3.0-py3-none-any.whl (536 kB)\n",
      "Collecting h11>=0.8\n",
      "  Using cached h11-0.14.0-py3-none-any.whl (58 kB)\n",
      "Collecting yarl<2.0,>=1.0\n",
      "  Using cached yarl-1.9.2-cp310-cp310-manylinux_2_17_x86_64.manylinux2014_x86_64.whl (268 kB)\n",
      "Collecting attrs>=17.3.0\n",
      "  Using cached attrs-23.1.0-py3-none-any.whl (61 kB)\n",
      "Collecting async-timeout<5.0,>=4.0.0a3\n",
      "  Using cached async_timeout-4.0.3-py3-none-any.whl (5.7 kB)\n",
      "Collecting frozenlist>=1.1.1\n",
      "  Using cached frozenlist-1.4.0-cp310-cp310-manylinux_2_5_x86_64.manylinux1_x86_64.manylinux_2_17_x86_64.manylinux2014_x86_64.whl (225 kB)\n",
      "Collecting multidict<7.0,>=4.5\n",
      "  Using cached multidict-6.0.4-cp310-cp310-manylinux_2_17_x86_64.manylinux2014_x86_64.whl (114 kB)\n",
      "Collecting aiosignal>=1.1.2\n",
      "  Using cached aiosignal-1.3.1-py3-none-any.whl (7.6 kB)\n",
      "Collecting sniffio>=1.1\n",
      "  Using cached sniffio-1.3.0-py3-none-any.whl (10 kB)\n",
      "Collecting exceptiongroup\n",
      "  Using cached exceptiongroup-1.1.3-py3-none-any.whl (14 kB)\n",
      "Collecting pyasn1<0.6.0,>=0.4.6\n",
      "  Using cached pyasn1-0.5.0-py2.py3-none-any.whl (83 kB)\n",
      "Collecting oauthlib>=3.0.0\n",
      "  Using cached oauthlib-3.2.2-py3-none-any.whl (151 kB)\n",
      "Building wheels for collected packages: nvdiffrast, clip\n",
      "  Building wheel for nvdiffrast (setup.py) ... \u001b[?25ldone\n",
      "\u001b[?25h  Created wheel for nvdiffrast: filename=nvdiffrast-0.3.1-py3-none-any.whl size=137845 sha256=db59ad022f93d2904cf30f7cc010c7ef0f7c3f89ca51a30bcd26f220defb9a35\n",
      "  Stored in directory: /tmp/pip-ephem-wheel-cache-qkp_qdhy/wheels/4f/a3/e6/b3dbfa8dd5aebc3efe7b2ecb646ad1037fb3ab27ef7d6e6d02\n",
      "  Building wheel for clip (setup.py) ... \u001b[?25ldone\n",
      "\u001b[?25h  Created wheel for clip: filename=clip-1.0-py3-none-any.whl size=1369497 sha256=6e9b126baf9c883c3ba47f08a9c2ac65217bb8176704e0f975863d035e64f6cd\n",
      "  Stored in directory: /tmp/pip-ephem-wheel-cache-qkp_qdhy/wheels/da/2b/4c/d6691fa9597aac8bb85d2ac13b112deb897d5b50f5ad9a37e4\n",
      "Successfully built nvdiffrast clip\n",
      "Installing collected packages: xatlas, wcwidth, tokenizers, sentencepiece, safetensors, pytz, ninja, mpmath, lit, cmake, antlr4-python3-runtime, zipp, wheel, urllib3, tzdata, typing-extensions, tqdm, threadpoolctl, tensorboard-data-server, sympy, soupsieve, sniffio, six, setuptools, regex, pyyaml, python-multipart, PySocks, pyparsing, pygments, pyasn1, psutil, protobuf, pillow, packaging, oauthlib, nvidia-nccl-cu11, nvidia-cufft-cu11, nvidia-cuda-nvrtc-cu11, numpy, networkx, multidict, mdurl, MarkupSafe, markdown, loguru, kiwisolver, joblib, imageio-ffmpeg, idna, h11, grpcio, ftfy, fsspec, frozenlist, fonttools, exceptiongroup, einops, dearpygui, cycler, click, charset-normalizer, certifi, cachetools, attrs, async-timeout, annotated-types, aiofiles, absl-py, yarl, werkzeug, uvicorn, trimesh, tensorboardX, scipy, rsa, requests, python-dateutil, pymeshlab, pydantic-core, pyasn1-modules, opencv-python, omegaconf, nvidia-nvtx-cu11, nvidia-cusparse-cu11, nvidia-curand-cu11, nvidia-cuda-runtime-cu11, nvidia-cuda-cupti-cu11, nvidia-cublas-cu11, nvdiffrast, markdown-it-py, lightning-utilities, jinja2, importlib-metadata, imageio, filelock, debugpy-run, contourpy, beautifulsoup4, anyio, aiosignal, starlette, scikit-learn, rich, requests-oauthlib, PyMCubes, pydantic, pandas, nvidia-cusolver-cu11, nvidia-cudnn-cu11, matplotlib, huggingface_hub, google-auth, aiohttp, transformers, google-auth-oauthlib, gdown, fastapi, diffusers, tensorboard, triton, torch, torchmetrics, torchvision, pytorch-lightning, torch-ema, timm, taming-transformers-rom1504, kornia, clip, carvekit-colab, accelerate\n",
      "  Attempting uninstall: xatlas\n",
      "    Found existing installation: xatlas 0.0.8\n",
      "    Uninstalling xatlas-0.0.8:\n",
      "      Successfully uninstalled xatlas-0.0.8\n",
      "  Attempting uninstall: wcwidth\n",
      "    Found existing installation: wcwidth 0.2.6\n",
      "    Uninstalling wcwidth-0.2.6:\n",
      "      Successfully uninstalled wcwidth-0.2.6\n",
      "  Attempting uninstall: tokenizers\n",
      "    Found existing installation: tokenizers 0.13.3\n",
      "    Uninstalling tokenizers-0.13.3:\n",
      "      Successfully uninstalled tokenizers-0.13.3\n",
      "  Attempting uninstall: sentencepiece\n",
      "    Found existing installation: sentencepiece 0.1.99\n",
      "    Uninstalling sentencepiece-0.1.99:\n",
      "      Successfully uninstalled sentencepiece-0.1.99\n",
      "  Attempting uninstall: safetensors\n",
      "    Found existing installation: safetensors 0.3.3\n",
      "    Uninstalling safetensors-0.3.3:\n",
      "      Successfully uninstalled safetensors-0.3.3\n",
      "  Attempting uninstall: pytz\n",
      "    Found existing installation: pytz 2023.3.post1\n",
      "    Uninstalling pytz-2023.3.post1:\n",
      "      Successfully uninstalled pytz-2023.3.post1\n",
      "  Attempting uninstall: ninja\n",
      "    Found existing installation: ninja 1.11.1\n",
      "    Uninstalling ninja-1.11.1:\n",
      "      Successfully uninstalled ninja-1.11.1\n",
      "  Attempting uninstall: mpmath\n",
      "    Found existing installation: mpmath 1.3.0\n",
      "    Uninstalling mpmath-1.3.0:\n",
      "      Successfully uninstalled mpmath-1.3.0\n",
      "  Attempting uninstall: lit\n",
      "    Found existing installation: lit 16.0.6\n",
      "    Uninstalling lit-16.0.6:\n",
      "      Successfully uninstalled lit-16.0.6\n",
      "  Attempting uninstall: cmake\n",
      "    Found existing installation: cmake 3.27.4.1\n",
      "    Uninstalling cmake-3.27.4.1:\n",
      "      Successfully uninstalled cmake-3.27.4.1\n",
      "  Attempting uninstall: antlr4-python3-runtime\n",
      "    Found existing installation: antlr4-python3-runtime 4.9.3\n",
      "    Uninstalling antlr4-python3-runtime-4.9.3:\n",
      "      Successfully uninstalled antlr4-python3-runtime-4.9.3\n",
      "  Attempting uninstall: zipp\n",
      "    Found existing installation: zipp 3.16.2\n",
      "    Uninstalling zipp-3.16.2:\n",
      "      Successfully uninstalled zipp-3.16.2\n",
      "  Attempting uninstall: wheel\n",
      "    Found existing installation: wheel 0.41.2\n",
      "    Uninstalling wheel-0.41.2:\n",
      "      Successfully uninstalled wheel-0.41.2\n",
      "  Attempting uninstall: urllib3\n",
      "    Found existing installation: urllib3 1.26.16\n",
      "    Uninstalling urllib3-1.26.16:\n",
      "      Successfully uninstalled urllib3-1.26.16\n",
      "  Attempting uninstall: tzdata\n",
      "    Found existing installation: tzdata 2023.3\n",
      "    Uninstalling tzdata-2023.3:\n",
      "      Successfully uninstalled tzdata-2023.3\n",
      "  Attempting uninstall: typing-extensions\n",
      "    Found existing installation: typing_extensions 4.7.1\n",
      "    Uninstalling typing_extensions-4.7.1:\n",
      "      Successfully uninstalled typing_extensions-4.7.1\n",
      "  Attempting uninstall: tqdm\n",
      "    Found existing installation: tqdm 4.66.1\n",
      "    Uninstalling tqdm-4.66.1:\n",
      "      Successfully uninstalled tqdm-4.66.1\n",
      "  Attempting uninstall: threadpoolctl\n",
      "    Found existing installation: threadpoolctl 3.2.0\n",
      "    Uninstalling threadpoolctl-3.2.0:\n",
      "      Successfully uninstalled threadpoolctl-3.2.0\n",
      "  Attempting uninstall: tensorboard-data-server\n",
      "    Found existing installation: tensorboard-data-server 0.7.1\n",
      "    Uninstalling tensorboard-data-server-0.7.1:\n",
      "      Successfully uninstalled tensorboard-data-server-0.7.1\n",
      "  Attempting uninstall: sympy\n",
      "    Found existing installation: sympy 1.12\n",
      "    Uninstalling sympy-1.12:\n",
      "      Successfully uninstalled sympy-1.12\n",
      "  Attempting uninstall: soupsieve\n",
      "    Found existing installation: soupsieve 2.5\n",
      "    Uninstalling soupsieve-2.5:\n",
      "      Successfully uninstalled soupsieve-2.5\n",
      "  Attempting uninstall: sniffio\n",
      "    Found existing installation: sniffio 1.3.0\n",
      "    Uninstalling sniffio-1.3.0:\n",
      "      Successfully uninstalled sniffio-1.3.0\n",
      "  Attempting uninstall: six\n",
      "    Found existing installation: six 1.16.0\n",
      "    Uninstalling six-1.16.0:\n",
      "      Successfully uninstalled six-1.16.0\n",
      "  Attempting uninstall: setuptools\n",
      "    Found existing installation: setuptools 68.2.0\n",
      "    Uninstalling setuptools-68.2.0:\n",
      "      Successfully uninstalled setuptools-68.2.0\n",
      "  Attempting uninstall: regex\n",
      "    Found existing installation: regex 2023.8.8\n",
      "    Uninstalling regex-2023.8.8:\n",
      "      Successfully uninstalled regex-2023.8.8\n",
      "  Attempting uninstall: pyyaml\n",
      "    Found existing installation: PyYAML 6.0.1\n",
      "    Uninstalling PyYAML-6.0.1:\n",
      "      Successfully uninstalled PyYAML-6.0.1\n",
      "  Attempting uninstall: python-multipart\n",
      "    Found existing installation: python-multipart 0.0.6\n",
      "    Uninstalling python-multipart-0.0.6:\n",
      "      Successfully uninstalled python-multipart-0.0.6\n",
      "  Attempting uninstall: PySocks\n",
      "    Found existing installation: PySocks 1.7.1\n",
      "    Uninstalling PySocks-1.7.1:\n",
      "      Successfully uninstalled PySocks-1.7.1\n",
      "  Attempting uninstall: pyparsing\n",
      "    Found existing installation: pyparsing 3.0.9\n",
      "    Uninstalling pyparsing-3.0.9:\n",
      "      Successfully uninstalled pyparsing-3.0.9\n",
      "  Attempting uninstall: pygments\n",
      "    Found existing installation: Pygments 2.16.1\n",
      "    Uninstalling Pygments-2.16.1:\n",
      "      Successfully uninstalled Pygments-2.16.1\n",
      "  Attempting uninstall: pyasn1\n",
      "    Found existing installation: pyasn1 0.5.0\n",
      "    Uninstalling pyasn1-0.5.0:\n",
      "      Successfully uninstalled pyasn1-0.5.0\n",
      "  Attempting uninstall: psutil\n",
      "    Found existing installation: psutil 5.9.5\n",
      "    Uninstalling psutil-5.9.5:\n",
      "      Successfully uninstalled psutil-5.9.5\n",
      "  Attempting uninstall: protobuf\n",
      "    Found existing installation: protobuf 4.24.3\n",
      "    Uninstalling protobuf-4.24.3:\n",
      "      Successfully uninstalled protobuf-4.24.3\n",
      "  Attempting uninstall: pillow\n",
      "    Found existing installation: Pillow 10.0.0\n",
      "    Uninstalling Pillow-10.0.0:\n",
      "      Successfully uninstalled Pillow-10.0.0\n",
      "  Attempting uninstall: packaging\n",
      "    Found existing installation: packaging 23.1\n",
      "    Uninstalling packaging-23.1:\n",
      "      Successfully uninstalled packaging-23.1\n",
      "  Attempting uninstall: oauthlib\n",
      "    Found existing installation: oauthlib 3.2.2\n",
      "    Uninstalling oauthlib-3.2.2:\n",
      "      Successfully uninstalled oauthlib-3.2.2\n",
      "  Attempting uninstall: nvidia-nccl-cu11\n",
      "    Found existing installation: nvidia-nccl-cu11 2.14.3\n",
      "    Uninstalling nvidia-nccl-cu11-2.14.3:\n",
      "      Successfully uninstalled nvidia-nccl-cu11-2.14.3\n",
      "  Attempting uninstall: nvidia-cufft-cu11\n",
      "    Found existing installation: nvidia-cufft-cu11 10.9.0.58\n",
      "    Uninstalling nvidia-cufft-cu11-10.9.0.58:\n",
      "      Successfully uninstalled nvidia-cufft-cu11-10.9.0.58\n",
      "  Attempting uninstall: nvidia-cuda-nvrtc-cu11\n",
      "    Found existing installation: nvidia-cuda-nvrtc-cu11 11.7.99\n",
      "    Uninstalling nvidia-cuda-nvrtc-cu11-11.7.99:\n",
      "      Successfully uninstalled nvidia-cuda-nvrtc-cu11-11.7.99\n",
      "  Attempting uninstall: numpy\n",
      "    Found existing installation: numpy 1.25.2\n",
      "    Uninstalling numpy-1.25.2:\n",
      "      Successfully uninstalled numpy-1.25.2\n",
      "  Attempting uninstall: networkx\n",
      "    Found existing installation: networkx 3.1\n",
      "    Uninstalling networkx-3.1:\n",
      "      Successfully uninstalled networkx-3.1\n",
      "  Attempting uninstall: multidict\n",
      "    Found existing installation: multidict 6.0.4\n",
      "    Uninstalling multidict-6.0.4:\n",
      "      Successfully uninstalled multidict-6.0.4\n",
      "  Attempting uninstall: mdurl\n",
      "    Found existing installation: mdurl 0.1.2\n",
      "    Uninstalling mdurl-0.1.2:\n",
      "      Successfully uninstalled mdurl-0.1.2\n",
      "  Attempting uninstall: MarkupSafe\n",
      "    Found existing installation: MarkupSafe 2.1.3\n",
      "    Uninstalling MarkupSafe-2.1.3:\n",
      "      Successfully uninstalled MarkupSafe-2.1.3\n",
      "  Attempting uninstall: markdown\n",
      "    Found existing installation: Markdown 3.4.4\n",
      "    Uninstalling Markdown-3.4.4:\n",
      "      Successfully uninstalled Markdown-3.4.4\n",
      "  Attempting uninstall: loguru\n",
      "    Found existing installation: loguru 0.7.1\n",
      "    Uninstalling loguru-0.7.1:\n",
      "      Successfully uninstalled loguru-0.7.1\n",
      "  Attempting uninstall: kiwisolver\n",
      "    Found existing installation: kiwisolver 1.4.5\n",
      "    Uninstalling kiwisolver-1.4.5:\n",
      "      Successfully uninstalled kiwisolver-1.4.5\n",
      "  Attempting uninstall: joblib\n",
      "    Found existing installation: joblib 1.3.2\n",
      "    Uninstalling joblib-1.3.2:\n",
      "      Successfully uninstalled joblib-1.3.2\n",
      "  Attempting uninstall: imageio-ffmpeg\n",
      "    Found existing installation: imageio-ffmpeg 0.4.8\n",
      "    Uninstalling imageio-ffmpeg-0.4.8:\n",
      "      Successfully uninstalled imageio-ffmpeg-0.4.8\n",
      "  Attempting uninstall: idna\n",
      "    Found existing installation: idna 3.4\n",
      "    Uninstalling idna-3.4:\n",
      "      Successfully uninstalled idna-3.4\n",
      "  Attempting uninstall: h11\n",
      "    Found existing installation: h11 0.14.0\n",
      "    Uninstalling h11-0.14.0:\n",
      "      Successfully uninstalled h11-0.14.0\n",
      "  Attempting uninstall: grpcio\n",
      "    Found existing installation: grpcio 1.58.0\n",
      "    Uninstalling grpcio-1.58.0:\n",
      "      Successfully uninstalled grpcio-1.58.0\n",
      "  Attempting uninstall: ftfy\n",
      "    Found existing installation: ftfy 6.1.1\n",
      "    Uninstalling ftfy-6.1.1:\n",
      "      Successfully uninstalled ftfy-6.1.1\n",
      "  Attempting uninstall: fsspec\n",
      "    Found existing installation: fsspec 2023.9.0\n",
      "    Uninstalling fsspec-2023.9.0:\n",
      "      Successfully uninstalled fsspec-2023.9.0\n",
      "  Attempting uninstall: frozenlist\n",
      "    Found existing installation: frozenlist 1.4.0\n",
      "    Uninstalling frozenlist-1.4.0:\n",
      "      Successfully uninstalled frozenlist-1.4.0\n",
      "  Attempting uninstall: fonttools\n",
      "    Found existing installation: fonttools 4.42.1\n",
      "    Uninstalling fonttools-4.42.1:\n",
      "      Successfully uninstalled fonttools-4.42.1\n",
      "  Attempting uninstall: exceptiongroup\n",
      "    Found existing installation: exceptiongroup 1.1.3\n",
      "    Uninstalling exceptiongroup-1.1.3:\n",
      "      Successfully uninstalled exceptiongroup-1.1.3\n",
      "  Attempting uninstall: einops\n",
      "    Found existing installation: einops 0.6.1\n",
      "    Uninstalling einops-0.6.1:\n",
      "      Successfully uninstalled einops-0.6.1\n",
      "  Attempting uninstall: dearpygui\n",
      "    Found existing installation: dearpygui 1.9.1\n",
      "    Uninstalling dearpygui-1.9.1:\n",
      "      Successfully uninstalled dearpygui-1.9.1\n",
      "  Attempting uninstall: cycler\n",
      "    Found existing installation: cycler 0.11.0\n",
      "    Uninstalling cycler-0.11.0:\n",
      "      Successfully uninstalled cycler-0.11.0\n",
      "  Attempting uninstall: click\n",
      "    Found existing installation: click 8.1.7\n",
      "    Uninstalling click-8.1.7:\n",
      "      Successfully uninstalled click-8.1.7\n",
      "  Attempting uninstall: charset-normalizer\n",
      "    Found existing installation: charset-normalizer 3.2.0\n",
      "    Uninstalling charset-normalizer-3.2.0:\n",
      "      Successfully uninstalled charset-normalizer-3.2.0\n",
      "  Attempting uninstall: certifi\n",
      "    Found existing installation: certifi 2023.7.22\n",
      "    Uninstalling certifi-2023.7.22:\n",
      "      Successfully uninstalled certifi-2023.7.22\n",
      "  Attempting uninstall: cachetools\n",
      "    Found existing installation: cachetools 5.3.1\n",
      "    Uninstalling cachetools-5.3.1:\n",
      "      Successfully uninstalled cachetools-5.3.1\n",
      "  Attempting uninstall: attrs\n",
      "    Found existing installation: attrs 23.1.0\n",
      "    Uninstalling attrs-23.1.0:\n",
      "      Successfully uninstalled attrs-23.1.0\n",
      "  Attempting uninstall: async-timeout\n",
      "    Found existing installation: async-timeout 4.0.3\n",
      "    Uninstalling async-timeout-4.0.3:\n",
      "      Successfully uninstalled async-timeout-4.0.3\n",
      "  Attempting uninstall: annotated-types\n",
      "    Found existing installation: annotated-types 0.5.0\n",
      "    Uninstalling annotated-types-0.5.0:\n",
      "      Successfully uninstalled annotated-types-0.5.0\n",
      "  Attempting uninstall: aiofiles\n",
      "    Found existing installation: aiofiles 23.2.1\n",
      "    Uninstalling aiofiles-23.2.1:\n",
      "      Successfully uninstalled aiofiles-23.2.1\n",
      "  Attempting uninstall: absl-py\n",
      "    Found existing installation: absl-py 1.4.0\n",
      "    Uninstalling absl-py-1.4.0:\n",
      "      Successfully uninstalled absl-py-1.4.0\n",
      "  Attempting uninstall: yarl\n",
      "    Found existing installation: yarl 1.9.2\n",
      "    Uninstalling yarl-1.9.2:\n",
      "      Successfully uninstalled yarl-1.9.2\n",
      "  Attempting uninstall: werkzeug\n",
      "    Found existing installation: Werkzeug 2.3.7\n",
      "    Uninstalling Werkzeug-2.3.7:\n",
      "      Successfully uninstalled Werkzeug-2.3.7\n",
      "  Attempting uninstall: uvicorn\n",
      "    Found existing installation: uvicorn 0.23.2\n",
      "    Uninstalling uvicorn-0.23.2:\n",
      "      Successfully uninstalled uvicorn-0.23.2\n",
      "  Attempting uninstall: trimesh\n",
      "    Found existing installation: trimesh 3.23.5\n",
      "    Uninstalling trimesh-3.23.5:\n",
      "      Successfully uninstalled trimesh-3.23.5\n",
      "  Attempting uninstall: tensorboardX\n",
      "    Found existing installation: tensorboardX 2.6.2.2\n",
      "    Uninstalling tensorboardX-2.6.2.2:\n",
      "      Successfully uninstalled tensorboardX-2.6.2.2\n",
      "  Attempting uninstall: scipy\n",
      "    Found existing installation: scipy 1.11.2\n",
      "    Uninstalling scipy-1.11.2:\n",
      "      Successfully uninstalled scipy-1.11.2\n",
      "  Attempting uninstall: rsa\n",
      "    Found existing installation: rsa 4.9\n",
      "    Uninstalling rsa-4.9:\n",
      "      Successfully uninstalled rsa-4.9\n",
      "  Attempting uninstall: requests\n",
      "    Found existing installation: requests 2.31.0\n",
      "    Uninstalling requests-2.31.0:\n",
      "      Successfully uninstalled requests-2.31.0\n",
      "  Attempting uninstall: python-dateutil\n",
      "    Found existing installation: python-dateutil 2.8.2\n",
      "    Uninstalling python-dateutil-2.8.2:\n",
      "      Successfully uninstalled python-dateutil-2.8.2\n",
      "  Attempting uninstall: pymeshlab\n",
      "    Found existing installation: pymeshlab 2022.2.post4\n",
      "    Uninstalling pymeshlab-2022.2.post4:\n",
      "      Successfully uninstalled pymeshlab-2022.2.post4\n",
      "  Attempting uninstall: pydantic-core\n",
      "    Found existing installation: pydantic_core 2.6.3\n",
      "    Uninstalling pydantic_core-2.6.3:\n",
      "      Successfully uninstalled pydantic_core-2.6.3\n",
      "  Attempting uninstall: pyasn1-modules\n",
      "    Found existing installation: pyasn1-modules 0.3.0\n",
      "    Uninstalling pyasn1-modules-0.3.0:\n",
      "      Successfully uninstalled pyasn1-modules-0.3.0\n",
      "  Attempting uninstall: opencv-python\n",
      "    Found existing installation: opencv-python 4.8.0.76\n",
      "    Uninstalling opencv-python-4.8.0.76:\n",
      "      Successfully uninstalled opencv-python-4.8.0.76\n",
      "  Attempting uninstall: omegaconf\n",
      "    Found existing installation: omegaconf 2.3.0\n",
      "    Uninstalling omegaconf-2.3.0:\n",
      "      Successfully uninstalled omegaconf-2.3.0\n",
      "  Attempting uninstall: nvidia-nvtx-cu11\n",
      "    Found existing installation: nvidia-nvtx-cu11 11.7.91\n",
      "    Uninstalling nvidia-nvtx-cu11-11.7.91:\n",
      "      Successfully uninstalled nvidia-nvtx-cu11-11.7.91\n",
      "  Attempting uninstall: nvidia-cusparse-cu11\n",
      "    Found existing installation: nvidia-cusparse-cu11 11.7.4.91\n",
      "    Uninstalling nvidia-cusparse-cu11-11.7.4.91:\n",
      "      Successfully uninstalled nvidia-cusparse-cu11-11.7.4.91\n",
      "  Attempting uninstall: nvidia-curand-cu11\n",
      "    Found existing installation: nvidia-curand-cu11 10.2.10.91\n",
      "    Uninstalling nvidia-curand-cu11-10.2.10.91:\n",
      "      Successfully uninstalled nvidia-curand-cu11-10.2.10.91\n",
      "  Attempting uninstall: nvidia-cuda-runtime-cu11\n",
      "    Found existing installation: nvidia-cuda-runtime-cu11 11.7.99\n",
      "    Uninstalling nvidia-cuda-runtime-cu11-11.7.99:\n",
      "      Successfully uninstalled nvidia-cuda-runtime-cu11-11.7.99\n",
      "  Attempting uninstall: nvidia-cuda-cupti-cu11\n",
      "    Found existing installation: nvidia-cuda-cupti-cu11 11.7.101\n",
      "    Uninstalling nvidia-cuda-cupti-cu11-11.7.101:\n",
      "      Successfully uninstalled nvidia-cuda-cupti-cu11-11.7.101\n",
      "  Attempting uninstall: nvidia-cublas-cu11\n",
      "    Found existing installation: nvidia-cublas-cu11 11.10.3.66\n",
      "    Uninstalling nvidia-cublas-cu11-11.10.3.66:\n",
      "      Successfully uninstalled nvidia-cublas-cu11-11.10.3.66\n",
      "  Attempting uninstall: nvdiffrast\n",
      "    Found existing installation: nvdiffrast 0.3.1\n",
      "    Uninstalling nvdiffrast-0.3.1:\n",
      "      Successfully uninstalled nvdiffrast-0.3.1\n",
      "  Attempting uninstall: markdown-it-py\n",
      "    Found existing installation: markdown-it-py 3.0.0\n",
      "    Uninstalling markdown-it-py-3.0.0:\n",
      "      Successfully uninstalled markdown-it-py-3.0.0\n",
      "  Attempting uninstall: lightning-utilities\n",
      "    Found existing installation: lightning-utilities 0.9.0\n",
      "    Uninstalling lightning-utilities-0.9.0:\n",
      "      Successfully uninstalled lightning-utilities-0.9.0\n",
      "  Attempting uninstall: jinja2\n",
      "    Found existing installation: Jinja2 3.1.2\n",
      "    Uninstalling Jinja2-3.1.2:\n",
      "      Successfully uninstalled Jinja2-3.1.2\n",
      "  Attempting uninstall: importlib-metadata\n",
      "    Found existing installation: importlib-metadata 6.8.0\n",
      "    Uninstalling importlib-metadata-6.8.0:\n",
      "      Successfully uninstalled importlib-metadata-6.8.0\n",
      "  Attempting uninstall: imageio\n",
      "    Found existing installation: imageio 2.31.3\n",
      "    Uninstalling imageio-2.31.3:\n",
      "      Successfully uninstalled imageio-2.31.3\n",
      "  Attempting uninstall: filelock\n",
      "    Found existing installation: filelock 3.12.3\n",
      "    Uninstalling filelock-3.12.3:\n",
      "      Successfully uninstalled filelock-3.12.3\n",
      "  Attempting uninstall: debugpy-run\n",
      "    Found existing installation: debugpy-run 1.6\n",
      "    Uninstalling debugpy-run-1.6:\n",
      "      Successfully uninstalled debugpy-run-1.6\n",
      "  Attempting uninstall: contourpy\n",
      "    Found existing installation: contourpy 1.1.0\n",
      "    Uninstalling contourpy-1.1.0:\n",
      "      Successfully uninstalled contourpy-1.1.0\n",
      "  Attempting uninstall: beautifulsoup4\n",
      "    Found existing installation: beautifulsoup4 4.12.2\n",
      "    Uninstalling beautifulsoup4-4.12.2:\n",
      "      Successfully uninstalled beautifulsoup4-4.12.2\n",
      "  Attempting uninstall: anyio\n",
      "    Found existing installation: anyio 3.7.1\n",
      "    Uninstalling anyio-3.7.1:\n",
      "      Successfully uninstalled anyio-3.7.1\n",
      "  Attempting uninstall: aiosignal\n",
      "    Found existing installation: aiosignal 1.3.1\n",
      "    Uninstalling aiosignal-1.3.1:\n",
      "      Successfully uninstalled aiosignal-1.3.1\n",
      "  Attempting uninstall: starlette\n",
      "    Found existing installation: starlette 0.27.0\n",
      "    Uninstalling starlette-0.27.0:\n",
      "      Successfully uninstalled starlette-0.27.0\n",
      "  Attempting uninstall: scikit-learn\n",
      "    Found existing installation: scikit-learn 1.3.0\n",
      "    Uninstalling scikit-learn-1.3.0:\n",
      "      Successfully uninstalled scikit-learn-1.3.0\n",
      "  Attempting uninstall: rich\n",
      "    Found existing installation: rich 13.5.2\n",
      "    Uninstalling rich-13.5.2:\n",
      "      Successfully uninstalled rich-13.5.2\n",
      "  Attempting uninstall: requests-oauthlib\n",
      "    Found existing installation: requests-oauthlib 1.3.1\n",
      "    Uninstalling requests-oauthlib-1.3.1:\n",
      "      Successfully uninstalled requests-oauthlib-1.3.1\n",
      "  Attempting uninstall: PyMCubes\n",
      "    Found existing installation: PyMCubes 0.1.4\n",
      "    Uninstalling PyMCubes-0.1.4:\n",
      "      Successfully uninstalled PyMCubes-0.1.4\n",
      "  Attempting uninstall: pydantic\n",
      "    Found existing installation: pydantic 2.3.0\n",
      "    Uninstalling pydantic-2.3.0:\n",
      "      Successfully uninstalled pydantic-2.3.0\n",
      "  Attempting uninstall: pandas\n",
      "    Found existing installation: pandas 2.1.0\n",
      "    Uninstalling pandas-2.1.0:\n",
      "      Successfully uninstalled pandas-2.1.0\n",
      "  Attempting uninstall: nvidia-cusolver-cu11\n",
      "    Found existing installation: nvidia-cusolver-cu11 11.4.0.1\n",
      "    Uninstalling nvidia-cusolver-cu11-11.4.0.1:\n",
      "      Successfully uninstalled nvidia-cusolver-cu11-11.4.0.1\n",
      "  Attempting uninstall: nvidia-cudnn-cu11\n",
      "    Found existing installation: nvidia-cudnn-cu11 8.5.0.96\n",
      "    Uninstalling nvidia-cudnn-cu11-8.5.0.96:\n",
      "      Successfully uninstalled nvidia-cudnn-cu11-8.5.0.96\n",
      "  Attempting uninstall: matplotlib\n",
      "    Found existing installation: matplotlib 3.7.2\n",
      "    Uninstalling matplotlib-3.7.2:\n",
      "      Successfully uninstalled matplotlib-3.7.2\n",
      "  Attempting uninstall: huggingface_hub\n",
      "    Found existing installation: huggingface-hub 0.16.4\n",
      "    Uninstalling huggingface-hub-0.16.4:\n",
      "      Successfully uninstalled huggingface-hub-0.16.4\n",
      "  Attempting uninstall: google-auth\n",
      "    Found existing installation: google-auth 2.22.0\n",
      "    Uninstalling google-auth-2.22.0:\n",
      "      Successfully uninstalled google-auth-2.22.0\n",
      "  Attempting uninstall: aiohttp\n",
      "    Found existing installation: aiohttp 3.8.5\n",
      "    Uninstalling aiohttp-3.8.5:\n",
      "      Successfully uninstalled aiohttp-3.8.5\n",
      "  Attempting uninstall: transformers\n",
      "    Found existing installation: transformers 4.33.1\n",
      "    Uninstalling transformers-4.33.1:\n",
      "      Successfully uninstalled transformers-4.33.1\n",
      "  Attempting uninstall: google-auth-oauthlib\n",
      "    Found existing installation: google-auth-oauthlib 1.0.0\n",
      "    Uninstalling google-auth-oauthlib-1.0.0:\n",
      "      Successfully uninstalled google-auth-oauthlib-1.0.0\n",
      "  Attempting uninstall: gdown\n",
      "    Found existing installation: gdown 4.7.1\n",
      "    Uninstalling gdown-4.7.1:\n",
      "      Successfully uninstalled gdown-4.7.1\n",
      "  Attempting uninstall: fastapi\n",
      "    Found existing installation: fastapi 0.103.1\n",
      "    Uninstalling fastapi-0.103.1:\n",
      "      Successfully uninstalled fastapi-0.103.1\n",
      "  Attempting uninstall: diffusers\n",
      "    Found existing installation: diffusers 0.20.2\n",
      "    Uninstalling diffusers-0.20.2:\n",
      "      Successfully uninstalled diffusers-0.20.2\n",
      "  Attempting uninstall: tensorboard\n",
      "    Found existing installation: tensorboard 2.14.0\n",
      "    Uninstalling tensorboard-2.14.0:\n",
      "      Successfully uninstalled tensorboard-2.14.0\n",
      "  Attempting uninstall: triton\n",
      "    Found existing installation: triton 2.0.0\n",
      "    Uninstalling triton-2.0.0:\n",
      "      Successfully uninstalled triton-2.0.0\n",
      "  Attempting uninstall: torch\n",
      "    Found existing installation: torch 2.0.1\n",
      "    Uninstalling torch-2.0.1:\n",
      "      Successfully uninstalled torch-2.0.1\n",
      "  Attempting uninstall: torchmetrics\n",
      "    Found existing installation: torchmetrics 1.1.1\n",
      "    Uninstalling torchmetrics-1.1.1:\n",
      "      Successfully uninstalled torchmetrics-1.1.1\n",
      "  Attempting uninstall: torchvision\n",
      "    Found existing installation: torchvision 0.15.2\n",
      "    Uninstalling torchvision-0.15.2:\n",
      "      Successfully uninstalled torchvision-0.15.2\n",
      "  Attempting uninstall: pytorch-lightning\n",
      "    Found existing installation: pytorch-lightning 2.0.8\n",
      "    Uninstalling pytorch-lightning-2.0.8:\n",
      "      Successfully uninstalled pytorch-lightning-2.0.8\n",
      "  Attempting uninstall: torch-ema\n",
      "    Found existing installation: torch-ema 0.3\n",
      "    Uninstalling torch-ema-0.3:\n",
      "      Successfully uninstalled torch-ema-0.3\n",
      "  Attempting uninstall: timm\n",
      "    Found existing installation: timm 0.9.7\n",
      "    Uninstalling timm-0.9.7:\n",
      "      Successfully uninstalled timm-0.9.7\n",
      "  Attempting uninstall: taming-transformers-rom1504\n",
      "    Found existing installation: taming-transformers-rom1504 0.0.6\n",
      "    Uninstalling taming-transformers-rom1504-0.0.6:\n",
      "      Successfully uninstalled taming-transformers-rom1504-0.0.6\n",
      "  Attempting uninstall: kornia\n",
      "    Found existing installation: kornia 0.7.0\n",
      "    Uninstalling kornia-0.7.0:\n",
      "      Successfully uninstalled kornia-0.7.0\n",
      "  Attempting uninstall: clip\n",
      "    Found existing installation: clip 1.0\n",
      "    Uninstalling clip-1.0:\n",
      "      Successfully uninstalled clip-1.0\n",
      "  Attempting uninstall: carvekit-colab\n",
      "    Found existing installation: carvekit-colab 4.1.0\n",
      "    Uninstalling carvekit-colab-4.1.0:\n",
      "      Successfully uninstalled carvekit-colab-4.1.0\n",
      "  Attempting uninstall: accelerate\n",
      "    Found existing installation: accelerate 0.22.0\n",
      "    Uninstalling accelerate-0.22.0:\n",
      "      Successfully uninstalled accelerate-0.22.0\n",
      "Successfully installed MarkupSafe-2.1.3 PyMCubes-0.1.4 PySocks-1.7.1 absl-py-1.4.0 accelerate-0.22.0 aiofiles-23.2.1 aiohttp-3.8.5 aiosignal-1.3.1 annotated-types-0.5.0 antlr4-python3-runtime-4.9.3 anyio-3.7.1 async-timeout-4.0.3 attrs-23.1.0 beautifulsoup4-4.12.2 cachetools-5.3.1 carvekit-colab-4.1.0 certifi-2023.7.22 charset-normalizer-3.2.0 click-8.1.7 clip-1.0 cmake-3.27.4.1 contourpy-1.1.0 cycler-0.11.0 dearpygui-1.9.1 debugpy-run-1.6 diffusers-0.20.2 einops-0.6.1 exceptiongroup-1.1.3 fastapi-0.103.1 filelock-3.12.3 fonttools-4.42.1 frozenlist-1.4.0 fsspec-2023.9.0 ftfy-6.1.1 gdown-4.7.1 google-auth-2.22.0 google-auth-oauthlib-1.0.0 grpcio-1.58.0 h11-0.14.0 huggingface_hub-0.16.4 idna-3.4 imageio-2.31.3 imageio-ffmpeg-0.4.8 importlib-metadata-6.8.0 jinja2-3.1.2 joblib-1.3.2 kiwisolver-1.4.5 kornia-0.7.0 lightning-utilities-0.9.0 lit-16.0.6 loguru-0.7.1 markdown-3.4.4 markdown-it-py-3.0.0 matplotlib-3.7.2 mdurl-0.1.2 mpmath-1.3.0 multidict-6.0.4 networkx-3.1 ninja-1.11.1 numpy-1.25.2 nvdiffrast-0.3.1 nvidia-cublas-cu11-11.10.3.66 nvidia-cuda-cupti-cu11-11.7.101 nvidia-cuda-nvrtc-cu11-11.7.99 nvidia-cuda-runtime-cu11-11.7.99 nvidia-cudnn-cu11-8.5.0.96 nvidia-cufft-cu11-10.9.0.58 nvidia-curand-cu11-10.2.10.91 nvidia-cusolver-cu11-11.4.0.1 nvidia-cusparse-cu11-11.7.4.91 nvidia-nccl-cu11-2.14.3 nvidia-nvtx-cu11-11.7.91 oauthlib-3.2.2 omegaconf-2.3.0 opencv-python-4.8.0.76 packaging-23.1 pandas-2.1.0 pillow-10.0.0 protobuf-4.24.3 psutil-5.9.5 pyasn1-0.5.0 pyasn1-modules-0.3.0 pydantic-2.3.0 pydantic-core-2.6.3 pygments-2.16.1 pymeshlab-2022.2.post4 pyparsing-3.0.9 python-dateutil-2.8.2 python-multipart-0.0.6 pytorch-lightning-2.0.8 pytz-2023.3.post1 pyyaml-6.0.1 regex-2023.8.8 requests-2.31.0 requests-oauthlib-1.3.1 rich-13.5.2 rsa-4.9 safetensors-0.3.3 scikit-learn-1.3.0 scipy-1.11.2 sentencepiece-0.1.99 setuptools-68.2.0 six-1.16.0 sniffio-1.3.0 soupsieve-2.5 starlette-0.27.0 sympy-1.12 taming-transformers-rom1504-0.0.6 tensorboard-2.14.0 tensorboard-data-server-0.7.1 tensorboardX-2.6.2.2 threadpoolctl-3.2.0 timm-0.9.7 tokenizers-0.13.3 torch-2.0.1 torch-ema-0.3 torchmetrics-1.1.1 torchvision-0.15.2 tqdm-4.66.1 transformers-4.33.1 trimesh-3.23.5 triton-2.0.0 typing-extensions-4.7.1 tzdata-2023.3 urllib3-1.26.16 uvicorn-0.23.2 wcwidth-0.2.6 werkzeug-2.3.7 wheel-0.41.2 xatlas-0.0.8 yarl-1.9.2 zipp-3.16.2\n",
      "\u001b[33mWARNING: Running pip as the 'root' user can result in broken permissions and conflicting behaviour with the system package manager. It is recommended to use a virtual environment instead: https://pip.pypa.io/warnings/venv\u001b[0m\u001b[33m\n",
      "\u001b[0mNote: you may need to restart the kernel to use updated packages.\n",
      "Collecting git+https://github.com/NVlabs/nvdiffrast/\n",
      "  Cloning https://github.com/NVlabs/nvdiffrast/ to /tmp/pip-req-build-me9_j3s1\n",
      "  Running command git clone --filter=blob:none --quiet https://github.com/NVlabs/nvdiffrast/ /tmp/pip-req-build-me9_j3s1\n",
      "  Resolved https://github.com/NVlabs/nvdiffrast/ to commit c5caf7bdb8a2448acc491a9faa47753972edd380\n",
      "  Preparing metadata (setup.py) ... \u001b[?25ldone\n",
      "\u001b[?25hRequirement already satisfied: numpy in /root/mambaforge/lib/python3.10/site-packages (from nvdiffrast==0.3.1) (1.25.2)\n",
      "\u001b[33mWARNING: Running pip as the 'root' user can result in broken permissions and conflicting behaviour with the system package manager. It is recommended to use a virtual environment instead: https://pip.pypa.io/warnings/venv\u001b[0m\u001b[33m\n",
      "\u001b[0mNote: you may need to restart the kernel to use updated packages.\n"
     ]
    }
   ],
   "source": [
    "%pip install  -r requirements.txt --force-reinstall\n",
    "%pip install git+https://github.com/NVlabs/nvdiffrast/ \n",
    "\n"
   ]
  },
  {
   "cell_type": "code",
   "execution_count": 6,
   "metadata": {},
   "outputs": [
    {
     "name": "stdout",
     "output_type": "stream",
     "text": [
      "Collecting git+https://github.com/ashawkey/cubvh\n",
      "  Cloning https://github.com/ashawkey/cubvh to /tmp/pip-req-build-ui6rsmn7\n",
      "  Running command git clone --filter=blob:none --quiet https://github.com/ashawkey/cubvh /tmp/pip-req-build-ui6rsmn7\n",
      "  Resolved https://github.com/ashawkey/cubvh to commit d3e923c90e56974d39f57c2e2b9bf372d2e45870\n",
      "  Preparing metadata (setup.py) ... \u001b[?25ldone\n",
      "\u001b[?25hCollecting ninja\n",
      "  Using cached ninja-1.11.1-py2.py3-none-manylinux_2_12_x86_64.manylinux2010_x86_64.whl (145 kB)\n",
      "Collecting trimesh\n",
      "  Using cached trimesh-3.23.5-py3-none-any.whl (685 kB)\n",
      "Collecting opencv-python\n",
      "  Using cached opencv_python-4.8.0.76-cp37-abi3-manylinux_2_17_x86_64.manylinux2014_x86_64.whl (61.7 MB)\n",
      "Collecting torch\n",
      "  Using cached torch-2.0.1-cp310-cp310-manylinux1_x86_64.whl (619.9 MB)\n",
      "Collecting numpy\n",
      "  Using cached numpy-1.25.2-cp310-cp310-manylinux_2_17_x86_64.manylinux2014_x86_64.whl (18.2 MB)\n",
      "Collecting tqdm\n",
      "  Using cached tqdm-4.66.1-py3-none-any.whl (78 kB)\n",
      "Collecting matplotlib\n",
      "  Using cached matplotlib-3.7.2-cp310-cp310-manylinux_2_17_x86_64.manylinux2014_x86_64.whl (11.6 MB)\n",
      "Collecting kiwisolver>=1.0.1\n",
      "  Using cached kiwisolver-1.4.5-cp310-cp310-manylinux_2_12_x86_64.manylinux2010_x86_64.whl (1.6 MB)\n",
      "Collecting fonttools>=4.22.0\n",
      "  Using cached fonttools-4.42.1-cp310-cp310-manylinux_2_17_x86_64.manylinux2014_x86_64.whl (4.5 MB)\n",
      "Collecting pillow>=6.2.0\n",
      "  Using cached Pillow-10.0.0-cp310-cp310-manylinux_2_28_x86_64.whl (3.4 MB)\n",
      "Collecting pyparsing<3.1,>=2.3.1\n",
      "  Using cached pyparsing-3.0.9-py3-none-any.whl (98 kB)\n",
      "Collecting packaging>=20.0\n",
      "  Using cached packaging-23.1-py3-none-any.whl (48 kB)\n",
      "Collecting python-dateutil>=2.7\n",
      "  Using cached python_dateutil-2.8.2-py2.py3-none-any.whl (247 kB)\n",
      "Collecting cycler>=0.10\n",
      "  Using cached cycler-0.11.0-py3-none-any.whl (6.4 kB)\n",
      "Collecting contourpy>=1.0.1\n",
      "  Using cached contourpy-1.1.0-cp310-cp310-manylinux_2_17_x86_64.manylinux2014_x86_64.whl (300 kB)\n",
      "Collecting nvidia-curand-cu11==10.2.10.91\n",
      "  Using cached nvidia_curand_cu11-10.2.10.91-py3-none-manylinux1_x86_64.whl (54.6 MB)\n",
      "Collecting triton==2.0.0\n",
      "  Using cached triton-2.0.0-1-cp310-cp310-manylinux2014_x86_64.manylinux_2_17_x86_64.whl (63.3 MB)\n",
      "Collecting nvidia-cuda-cupti-cu11==11.7.101\n",
      "  Using cached nvidia_cuda_cupti_cu11-11.7.101-py3-none-manylinux1_x86_64.whl (11.8 MB)\n",
      "Collecting nvidia-cublas-cu11==11.10.3.66\n",
      "  Using cached nvidia_cublas_cu11-11.10.3.66-py3-none-manylinux1_x86_64.whl (317.1 MB)\n",
      "Collecting nvidia-nvtx-cu11==11.7.91\n",
      "  Using cached nvidia_nvtx_cu11-11.7.91-py3-none-manylinux1_x86_64.whl (98 kB)\n",
      "Collecting nvidia-cusparse-cu11==11.7.4.91\n",
      "  Using cached nvidia_cusparse_cu11-11.7.4.91-py3-none-manylinux1_x86_64.whl (173.2 MB)\n",
      "Collecting filelock\n",
      "  Using cached filelock-3.12.3-py3-none-any.whl (11 kB)\n",
      "Collecting nvidia-cudnn-cu11==8.5.0.96\n",
      "  Using cached nvidia_cudnn_cu11-8.5.0.96-2-py3-none-manylinux1_x86_64.whl (557.1 MB)\n",
      "Collecting nvidia-cuda-nvrtc-cu11==11.7.99\n",
      "  Using cached nvidia_cuda_nvrtc_cu11-11.7.99-2-py3-none-manylinux1_x86_64.whl (21.0 MB)\n",
      "Collecting networkx\n",
      "  Using cached networkx-3.1-py3-none-any.whl (2.1 MB)\n",
      "Collecting typing-extensions\n",
      "  Using cached typing_extensions-4.7.1-py3-none-any.whl (33 kB)\n",
      "Collecting sympy\n",
      "  Using cached sympy-1.12-py3-none-any.whl (5.7 MB)\n",
      "Collecting nvidia-cuda-runtime-cu11==11.7.99\n",
      "  Using cached nvidia_cuda_runtime_cu11-11.7.99-py3-none-manylinux1_x86_64.whl (849 kB)\n",
      "Collecting nvidia-cusolver-cu11==11.4.0.1\n",
      "  Using cached nvidia_cusolver_cu11-11.4.0.1-2-py3-none-manylinux1_x86_64.whl (102.6 MB)\n",
      "Collecting nvidia-nccl-cu11==2.14.3\n",
      "  Using cached nvidia_nccl_cu11-2.14.3-py3-none-manylinux1_x86_64.whl (177.1 MB)\n",
      "Collecting nvidia-cufft-cu11==10.9.0.58\n",
      "  Using cached nvidia_cufft_cu11-10.9.0.58-py3-none-manylinux1_x86_64.whl (168.4 MB)\n",
      "Collecting jinja2\n",
      "  Using cached Jinja2-3.1.2-py3-none-any.whl (133 kB)\n",
      "Collecting setuptools\n",
      "  Using cached setuptools-68.2.0-py3-none-any.whl (807 kB)\n",
      "Collecting wheel\n",
      "  Using cached wheel-0.41.2-py3-none-any.whl (64 kB)\n",
      "Collecting lit\n",
      "  Using cached lit-16.0.6-py3-none-any.whl\n",
      "Collecting cmake\n",
      "  Using cached cmake-3.27.4.1-py2.py3-none-manylinux2014_x86_64.manylinux_2_17_x86_64.whl (26.1 MB)\n",
      "Collecting six>=1.5\n",
      "  Using cached six-1.16.0-py2.py3-none-any.whl (11 kB)\n",
      "Collecting MarkupSafe>=2.0\n",
      "  Using cached MarkupSafe-2.1.3-cp310-cp310-manylinux_2_17_x86_64.manylinux2014_x86_64.whl (25 kB)\n",
      "Collecting mpmath>=0.19\n",
      "  Using cached mpmath-1.3.0-py3-none-any.whl (536 kB)\n",
      "Building wheels for collected packages: cubvh\n",
      "  Building wheel for cubvh (setup.py) ... \u001b[?25ldone\n",
      "\u001b[?25h  Created wheel for cubvh: filename=cubvh-0.1.0-cp310-cp310-linux_x86_64.whl size=160932 sha256=96fe945454411b5ed7e2ba7c54bb906515a459b3ed4e9f3dc029038108984565\n",
      "  Stored in directory: /tmp/pip-ephem-wheel-cache-cw9s2k38/wheels/c8/ba/f3/4c716cd8897e589fedae29a3b6f5daeb2e5295ffe0490a616c\n",
      "Successfully built cubvh\n",
      "Installing collected packages: ninja, mpmath, lit, cmake, wheel, typing-extensions, tqdm, sympy, six, setuptools, pyparsing, pillow, packaging, nvidia-nccl-cu11, nvidia-cufft-cu11, nvidia-cuda-nvrtc-cu11, numpy, networkx, MarkupSafe, kiwisolver, fonttools, cycler, trimesh, python-dateutil, opencv-python, nvidia-nvtx-cu11, nvidia-cusparse-cu11, nvidia-curand-cu11, nvidia-cuda-runtime-cu11, nvidia-cuda-cupti-cu11, nvidia-cublas-cu11, jinja2, filelock, contourpy, nvidia-cusolver-cu11, nvidia-cudnn-cu11, matplotlib, triton, torch, cubvh\n",
      "  Attempting uninstall: ninja\n",
      "    Found existing installation: ninja 1.11.1\n",
      "    Uninstalling ninja-1.11.1:\n",
      "      Successfully uninstalled ninja-1.11.1\n",
      "  Attempting uninstall: mpmath\n",
      "    Found existing installation: mpmath 1.3.0\n",
      "    Uninstalling mpmath-1.3.0:\n",
      "      Successfully uninstalled mpmath-1.3.0\n",
      "  Attempting uninstall: lit\n",
      "    Found existing installation: lit 16.0.6\n",
      "    Uninstalling lit-16.0.6:\n",
      "      Successfully uninstalled lit-16.0.6\n",
      "  Attempting uninstall: cmake\n",
      "    Found existing installation: cmake 3.27.4.1\n",
      "    Uninstalling cmake-3.27.4.1:\n",
      "      Successfully uninstalled cmake-3.27.4.1\n",
      "  Attempting uninstall: wheel\n",
      "    Found existing installation: wheel 0.41.2\n",
      "    Uninstalling wheel-0.41.2:\n",
      "      Successfully uninstalled wheel-0.41.2\n",
      "  Attempting uninstall: typing-extensions\n",
      "    Found existing installation: typing_extensions 4.7.1\n",
      "    Uninstalling typing_extensions-4.7.1:\n",
      "      Successfully uninstalled typing_extensions-4.7.1\n",
      "  Attempting uninstall: tqdm\n",
      "    Found existing installation: tqdm 4.66.1\n",
      "    Uninstalling tqdm-4.66.1:\n",
      "      Successfully uninstalled tqdm-4.66.1\n",
      "  Attempting uninstall: sympy\n",
      "    Found existing installation: sympy 1.12\n",
      "    Uninstalling sympy-1.12:\n",
      "      Successfully uninstalled sympy-1.12\n",
      "  Attempting uninstall: six\n",
      "    Found existing installation: six 1.16.0\n",
      "    Uninstalling six-1.16.0:\n",
      "      Successfully uninstalled six-1.16.0\n",
      "  Attempting uninstall: setuptools\n",
      "    Found existing installation: setuptools 68.2.0\n",
      "    Uninstalling setuptools-68.2.0:\n",
      "      Successfully uninstalled setuptools-68.2.0\n",
      "  Attempting uninstall: pyparsing\n",
      "    Found existing installation: pyparsing 3.0.9\n",
      "    Uninstalling pyparsing-3.0.9:\n",
      "      Successfully uninstalled pyparsing-3.0.9\n",
      "  Attempting uninstall: pillow\n",
      "    Found existing installation: Pillow 10.0.0\n",
      "    Uninstalling Pillow-10.0.0:\n",
      "      Successfully uninstalled Pillow-10.0.0\n",
      "  Attempting uninstall: packaging\n",
      "    Found existing installation: packaging 23.1\n",
      "    Uninstalling packaging-23.1:\n",
      "      Successfully uninstalled packaging-23.1\n",
      "  Attempting uninstall: nvidia-nccl-cu11\n",
      "    Found existing installation: nvidia-nccl-cu11 2.14.3\n",
      "    Uninstalling nvidia-nccl-cu11-2.14.3:\n",
      "      Successfully uninstalled nvidia-nccl-cu11-2.14.3\n",
      "  Attempting uninstall: nvidia-cufft-cu11\n",
      "    Found existing installation: nvidia-cufft-cu11 10.9.0.58\n",
      "    Uninstalling nvidia-cufft-cu11-10.9.0.58:\n",
      "      Successfully uninstalled nvidia-cufft-cu11-10.9.0.58\n",
      "  Attempting uninstall: nvidia-cuda-nvrtc-cu11\n",
      "    Found existing installation: nvidia-cuda-nvrtc-cu11 11.7.99\n",
      "    Uninstalling nvidia-cuda-nvrtc-cu11-11.7.99:\n",
      "      Successfully uninstalled nvidia-cuda-nvrtc-cu11-11.7.99\n",
      "  Attempting uninstall: numpy\n",
      "    Found existing installation: numpy 1.25.2\n",
      "    Uninstalling numpy-1.25.2:\n",
      "      Successfully uninstalled numpy-1.25.2\n",
      "  Attempting uninstall: networkx\n",
      "    Found existing installation: networkx 3.1\n",
      "    Uninstalling networkx-3.1:\n",
      "      Successfully uninstalled networkx-3.1\n",
      "  Attempting uninstall: MarkupSafe\n",
      "    Found existing installation: MarkupSafe 2.1.3\n",
      "    Uninstalling MarkupSafe-2.1.3:\n",
      "      Successfully uninstalled MarkupSafe-2.1.3\n",
      "  Attempting uninstall: kiwisolver\n",
      "    Found existing installation: kiwisolver 1.4.5\n",
      "    Uninstalling kiwisolver-1.4.5:\n",
      "      Successfully uninstalled kiwisolver-1.4.5\n",
      "  Attempting uninstall: fonttools\n",
      "    Found existing installation: fonttools 4.42.1\n",
      "    Uninstalling fonttools-4.42.1:\n",
      "      Successfully uninstalled fonttools-4.42.1\n",
      "  Attempting uninstall: cycler\n",
      "    Found existing installation: cycler 0.11.0\n",
      "    Uninstalling cycler-0.11.0:\n",
      "      Successfully uninstalled cycler-0.11.0\n",
      "  Attempting uninstall: trimesh\n",
      "    Found existing installation: trimesh 3.23.5\n",
      "    Uninstalling trimesh-3.23.5:\n",
      "      Successfully uninstalled trimesh-3.23.5\n",
      "  Attempting uninstall: python-dateutil\n",
      "    Found existing installation: python-dateutil 2.8.2\n",
      "    Uninstalling python-dateutil-2.8.2:\n",
      "      Successfully uninstalled python-dateutil-2.8.2\n",
      "  Attempting uninstall: opencv-python\n",
      "    Found existing installation: opencv-python 4.8.0.76\n",
      "    Uninstalling opencv-python-4.8.0.76:\n",
      "      Successfully uninstalled opencv-python-4.8.0.76\n",
      "  Attempting uninstall: nvidia-nvtx-cu11\n",
      "    Found existing installation: nvidia-nvtx-cu11 11.7.91\n",
      "    Uninstalling nvidia-nvtx-cu11-11.7.91:\n",
      "      Successfully uninstalled nvidia-nvtx-cu11-11.7.91\n",
      "  Attempting uninstall: nvidia-cusparse-cu11\n",
      "    Found existing installation: nvidia-cusparse-cu11 11.7.4.91\n",
      "    Uninstalling nvidia-cusparse-cu11-11.7.4.91:\n",
      "      Successfully uninstalled nvidia-cusparse-cu11-11.7.4.91\n",
      "  Attempting uninstall: nvidia-curand-cu11\n",
      "    Found existing installation: nvidia-curand-cu11 10.2.10.91\n",
      "    Uninstalling nvidia-curand-cu11-10.2.10.91:\n",
      "      Successfully uninstalled nvidia-curand-cu11-10.2.10.91\n",
      "  Attempting uninstall: nvidia-cuda-runtime-cu11\n",
      "    Found existing installation: nvidia-cuda-runtime-cu11 11.7.99\n",
      "    Uninstalling nvidia-cuda-runtime-cu11-11.7.99:\n",
      "      Successfully uninstalled nvidia-cuda-runtime-cu11-11.7.99\n",
      "  Attempting uninstall: nvidia-cuda-cupti-cu11\n",
      "    Found existing installation: nvidia-cuda-cupti-cu11 11.7.101\n",
      "    Uninstalling nvidia-cuda-cupti-cu11-11.7.101:\n",
      "      Successfully uninstalled nvidia-cuda-cupti-cu11-11.7.101\n",
      "  Attempting uninstall: nvidia-cublas-cu11\n",
      "    Found existing installation: nvidia-cublas-cu11 11.10.3.66\n",
      "    Uninstalling nvidia-cublas-cu11-11.10.3.66:\n",
      "      Successfully uninstalled nvidia-cublas-cu11-11.10.3.66\n",
      "  Attempting uninstall: jinja2\n",
      "    Found existing installation: Jinja2 3.1.2\n",
      "    Uninstalling Jinja2-3.1.2:\n",
      "      Successfully uninstalled Jinja2-3.1.2\n",
      "  Attempting uninstall: filelock\n",
      "    Found existing installation: filelock 3.12.3\n",
      "    Uninstalling filelock-3.12.3:\n",
      "      Successfully uninstalled filelock-3.12.3\n",
      "  Attempting uninstall: contourpy\n",
      "    Found existing installation: contourpy 1.1.0\n",
      "    Uninstalling contourpy-1.1.0:\n",
      "      Successfully uninstalled contourpy-1.1.0\n",
      "  Attempting uninstall: nvidia-cusolver-cu11\n",
      "    Found existing installation: nvidia-cusolver-cu11 11.4.0.1\n",
      "    Uninstalling nvidia-cusolver-cu11-11.4.0.1:\n",
      "      Successfully uninstalled nvidia-cusolver-cu11-11.4.0.1\n",
      "  Attempting uninstall: nvidia-cudnn-cu11\n",
      "    Found existing installation: nvidia-cudnn-cu11 8.5.0.96\n",
      "    Uninstalling nvidia-cudnn-cu11-8.5.0.96:\n",
      "      Successfully uninstalled nvidia-cudnn-cu11-8.5.0.96\n",
      "  Attempting uninstall: matplotlib\n",
      "    Found existing installation: matplotlib 3.7.2\n",
      "    Uninstalling matplotlib-3.7.2:\n",
      "      Successfully uninstalled matplotlib-3.7.2\n",
      "  Attempting uninstall: triton\n",
      "    Found existing installation: triton 2.0.0\n",
      "    Uninstalling triton-2.0.0:\n",
      "      Successfully uninstalled triton-2.0.0\n",
      "  Attempting uninstall: torch\n",
      "    Found existing installation: torch 2.0.1\n",
      "    Uninstalling torch-2.0.1:\n",
      "      Successfully uninstalled torch-2.0.1\n",
      "  Attempting uninstall: cubvh\n",
      "    Found existing installation: cubvh 0.1.0\n",
      "    Uninstalling cubvh-0.1.0:\n",
      "      Successfully uninstalled cubvh-0.1.0\n",
      "Successfully installed MarkupSafe-2.1.3 cmake-3.27.4.1 contourpy-1.1.0 cubvh-0.1.0 cycler-0.11.0 filelock-3.12.3 fonttools-4.42.1 jinja2-3.1.2 kiwisolver-1.4.5 lit-16.0.6 matplotlib-3.7.2 mpmath-1.3.0 networkx-3.1 ninja-1.11.1 numpy-1.25.2 nvidia-cublas-cu11-11.10.3.66 nvidia-cuda-cupti-cu11-11.7.101 nvidia-cuda-nvrtc-cu11-11.7.99 nvidia-cuda-runtime-cu11-11.7.99 nvidia-cudnn-cu11-8.5.0.96 nvidia-cufft-cu11-10.9.0.58 nvidia-curand-cu11-10.2.10.91 nvidia-cusolver-cu11-11.4.0.1 nvidia-cusparse-cu11-11.7.4.91 nvidia-nccl-cu11-2.14.3 nvidia-nvtx-cu11-11.7.91 opencv-python-4.8.0.76 packaging-23.1 pillow-10.0.0 pyparsing-3.0.9 python-dateutil-2.8.2 setuptools-68.2.0 six-1.16.0 sympy-1.12 torch-2.0.1 tqdm-4.66.1 trimesh-3.23.5 triton-2.0.0 typing-extensions-4.7.1 wheel-0.41.2\n",
      "\u001b[33mWARNING: Running pip as the 'root' user can result in broken permissions and conflicting behaviour with the system package manager. It is recommended to use a virtual environment instead: https://pip.pypa.io/warnings/venv\u001b[0m\u001b[33m\n",
      "\u001b[0mNote: you may need to restart the kernel to use updated packages.\n"
     ]
    }
   ],
   "source": [
    "%pip install git+https://github.com/ashawkey/cubvh --force-reinstall"
   ]
  },
  {
   "cell_type": "code",
   "execution_count": 7,
   "metadata": {},
   "outputs": [
    {
     "name": "stdout",
     "output_type": "stream",
     "text": [
      "Processing ./raymarching\n",
      "  Preparing metadata (setup.py) ... \u001b[?25ldone\n",
      "\u001b[?25hBuilding wheels for collected packages: raymarching\n",
      "  Building wheel for raymarching (setup.py) ... \u001b[?25ldone\n",
      "\u001b[?25h  Created wheel for raymarching: filename=raymarching-0.0.0-cp310-cp310-linux_x86_64.whl size=155767 sha256=2e7fb3294194d333409577c733dd89bec41e923a5181fa770299e91255d31b27\n",
      "  Stored in directory: /tmp/pip-ephem-wheel-cache-pftebj8d/wheels/71/31/41/edaf0fb54d7458c8c6e99259ef604e0899b247d5a80dc69b10\n",
      "Successfully built raymarching\n",
      "Installing collected packages: raymarching\n",
      "  Attempting uninstall: raymarching\n",
      "    Found existing installation: raymarching 0.0.0\n",
      "    Uninstalling raymarching-0.0.0:\n",
      "      Successfully uninstalled raymarching-0.0.0\n",
      "Successfully installed raymarching-0.0.0\n",
      "\u001b[33mWARNING: Running pip as the 'root' user can result in broken permissions and conflicting behaviour with the system package manager. It is recommended to use a virtual environment instead: https://pip.pypa.io/warnings/venv\u001b[0m\u001b[33m\n",
      "\u001b[0mNote: you may need to restart the kernel to use updated packages.\n",
      "Processing ./shencoder\n",
      "  Preparing metadata (setup.py) ... \u001b[?25ldone\n",
      "\u001b[?25hBuilding wheels for collected packages: shencoder\n",
      "  Building wheel for shencoder (setup.py) ... \u001b[?25ldone\n",
      "\u001b[?25h  Created wheel for shencoder: filename=shencoder-0.0.0-cp310-cp310-linux_x86_64.whl size=134304 sha256=2be00fcd49575de17d54bc8df45e3058b92c30de74485ba70b134b83cd0f2886\n",
      "  Stored in directory: /tmp/pip-ephem-wheel-cache-yws3gwfu/wheels/24/f6/75/e20af04564a5f93572c824788cbdae6e736eb2ab3e72eb2947\n",
      "Successfully built shencoder\n",
      "Installing collected packages: shencoder\n",
      "  Attempting uninstall: shencoder\n",
      "    Found existing installation: shencoder 0.0.0\n",
      "    Uninstalling shencoder-0.0.0:\n",
      "      Successfully uninstalled shencoder-0.0.0\n",
      "Successfully installed shencoder-0.0.0\n",
      "\u001b[33mWARNING: Running pip as the 'root' user can result in broken permissions and conflicting behaviour with the system package manager. It is recommended to use a virtual environment instead: https://pip.pypa.io/warnings/venv\u001b[0m\u001b[33m\n",
      "\u001b[0mNote: you may need to restart the kernel to use updated packages.\n",
      "Processing ./freqencoder\n",
      "  Preparing metadata (setup.py) ... \u001b[?25ldone\n",
      "\u001b[?25hBuilding wheels for collected packages: freqencoder\n",
      "  Building wheel for freqencoder (setup.py) ... \u001b[?25ldone\n",
      "\u001b[?25h  Created wheel for freqencoder: filename=freqencoder-0.0.0-cp310-cp310-linux_x86_64.whl size=65240 sha256=0c234da5a90e3734b46d6bc07142bd4a3a50971c2ab415d0dec65f762daadd56\n",
      "  Stored in directory: /tmp/pip-ephem-wheel-cache-7bp1r2p1/wheels/e0/df/c9/172389a815dc6d6cf8ea4f40d2c59b4c797aca263a70129634\n",
      "Successfully built freqencoder\n",
      "Installing collected packages: freqencoder\n",
      "  Attempting uninstall: freqencoder\n",
      "    Found existing installation: freqencoder 0.0.0\n",
      "    Uninstalling freqencoder-0.0.0:\n",
      "      Successfully uninstalled freqencoder-0.0.0\n",
      "Successfully installed freqencoder-0.0.0\n",
      "\u001b[33mWARNING: Running pip as the 'root' user can result in broken permissions and conflicting behaviour with the system package manager. It is recommended to use a virtual environment instead: https://pip.pypa.io/warnings/venv\u001b[0m\u001b[33m\n",
      "\u001b[0mNote: you may need to restart the kernel to use updated packages.\n",
      "Processing ./gridencoder\n",
      "  Preparing metadata (setup.py) ... \u001b[?25ldone\n",
      "\u001b[?25hBuilding wheels for collected packages: gridencoder\n",
      "  Building wheel for gridencoder (setup.py) ... \u001b[?25ldone\n",
      "\u001b[?25h  Created wheel for gridencoder: filename=gridencoder-0.0.0-cp310-cp310-linux_x86_64.whl size=5719657 sha256=4f87fc6d4ffd3ba9badfe933081cebf858a557a90dcd5025f374fc505c43a7df\n",
      "  Stored in directory: /tmp/pip-ephem-wheel-cache-ygwlnaz8/wheels/07/a3/9a/e9f36651290bf578470754fffec07a7e2bb95d8da8c26fbe42\n",
      "Successfully built gridencoder\n",
      "Installing collected packages: gridencoder\n",
      "  Attempting uninstall: gridencoder\n",
      "    Found existing installation: gridencoder 0.0.0\n",
      "    Uninstalling gridencoder-0.0.0:\n",
      "      Successfully uninstalled gridencoder-0.0.0\n",
      "Successfully installed gridencoder-0.0.0\n",
      "\u001b[33mWARNING: Running pip as the 'root' user can result in broken permissions and conflicting behaviour with the system package manager. It is recommended to use a virtual environment instead: https://pip.pypa.io/warnings/venv\u001b[0m\u001b[33m\n",
      "\u001b[0mNote: you may need to restart the kernel to use updated packages.\n"
     ]
    }
   ],
   "source": [
    "\n",
    "# install CUDA extensions (takes about 8 minutes!)\n",
    "%pip install ./raymarching --force-reinstall\n",
    "%pip install ./shencoder --force-reinstall\n",
    "%pip install ./freqencoder --force-reinstall\n",
    "%pip install ./gridencoder --force-reinstall\n",
    "#%pip install ./raymarching"
   ]
  },
  {
   "cell_type": "code",
   "execution_count": null,
   "metadata": {},
   "outputs": [],
   "source": [
    "\"\"\" %cd pretrained/zero123\n",
    "!cp /notebooks/threestudio/load/zero123/zero123-xl.ckpt  zero123-xl.ckpt\n",
    "%cd ../../ \"\"\""
   ]
  },
  {
   "cell_type": "code",
   "execution_count": null,
   "metadata": {},
   "outputs": [],
   "source": [
    "%cd pretrained/zero123\n",
    "!rm zero123-xl.ckpt\n",
    "\"\"\" !wget https://huggingface.co/cvlab/zero123-weights/resolve/main/105000.ckpt \"\"\"\n",
    "!wget https://zero123.cs.columbia.edu/assets/zero123-xl.ckpt\n",
    "%cd ../../"
   ]
  },
  {
   "cell_type": "code",
   "execution_count": null,
   "metadata": {},
   "outputs": [],
   "source": [
    "!mkdir pretrained/omnidata\n",
    "%cd pretrained/omnidata\n",
    "# assume gdown is installed\n",
    "!gdown '18AAi0v9t3z-Mh4B8pGk-SdUegng88B3J&confirm=t' # omnidata_dpt_depth_v2.ckpt\n",
    "!gdown '1gzMny6F3W7thYSM4Cr9gunxnPra1Tt6Z&confirm=t' # omnidata_dpt_normal_v2.ckpt\n",
    "%cd ../../"
   ]
  },
  {
   "cell_type": "code",
   "execution_count": null,
   "metadata": {},
   "outputs": [],
   "source": [
    "%cd pretrained/omnidata\n",
    "!gdown '1gzMny6F3W7thYSM4Cr9gunxnPra1Tt6Z&confirm=t' # omnidata_dpt_normal_v2.ckpt\n",
    "%cd ../../"
   ]
  },
  {
   "cell_type": "code",
   "execution_count": null,
   "metadata": {},
   "outputs": [],
   "source": [
    "!git clone https://github.com/DrSleep/multi-task-refinenet\n"
   ]
  },
  {
   "cell_type": "code",
   "execution_count": null,
   "metadata": {},
   "outputs": [],
   "source": [
    "%cd multi-task-refinenet\n",
    "%pip install -r req.txt\n",
    "%cd ../"
   ]
  },
  {
   "cell_type": "code",
   "execution_count": 8,
   "metadata": {},
   "outputs": [
    {
     "name": "stdout",
     "output_type": "stream",
     "text": [
      "[Errno 2] No such file or directory: 'stable-dreamfusion'\n",
      "/notebooks/stable-dreamfusion\n"
     ]
    }
   ],
   "source": [
    "%cd stable-dreamfusion"
   ]
  },
  {
   "cell_type": "code",
   "execution_count": 9,
   "metadata": {},
   "outputs": [
    {
     "name": "stdout",
     "output_type": "stream",
     "text": [
      "env: CUDA_VISIBLE_DEVICES=0\n"
     ]
    }
   ],
   "source": [
    "%env CUDA_VISIBLE_DEVICES=0\n",
    "workspace =\"werewolf_big\"\n",
    "image_path = f'/notebooks/threestudio/load/images/{workspace}_rgba.png'\n",
    "image_path_without_rgba = image_path.replace('_rgba', '')\n"
   ]
  },
  {
   "cell_type": "code",
   "execution_count": null,
   "metadata": {},
   "outputs": [],
   "source": [
    "!rm -rf ./{workspace}\n",
    "!rm -rf ./{workspace}_dmtet"
   ]
  },
  {
   "cell_type": "code",
   "execution_count": 10,
   "metadata": {},
   "outputs": [
    {
     "name": "stdout",
     "output_type": "stream",
     "text": [
      "[INFO] loading image...\n",
      "[INFO] background removal...\n"
     ]
    },
    {
     "name": "stderr",
     "output_type": "stream",
     "text": [
      "/root/mambaforge/lib/python3.10/site-packages/torchvision/transforms/functional.py:1603: UserWarning: The default value of the antialias parameter of all the resizing transforms (Resize(), RandomResizedCrop(), etc.) will change from None to True in v0.17, in order to be consistent across the PIL and Tensor backends. To suppress this warning, directly pass antialias=True (recommended, future default), antialias=None (current default, which means False for Tensors and True for PIL), or antialias=False (only works on Tensors - PIL will still use antialiasing). This also applies if you are using the inference transforms from the models weights: update the call to weights.transforms(antialias=True).\n",
      "  warnings.warn(\n"
     ]
    },
    {
     "name": "stdout",
     "output_type": "stream",
     "text": [
      "[INFO] depth estimation...\n"
     ]
    },
    {
     "name": "stderr",
     "output_type": "stream",
     "text": [
      "/root/mambaforge/lib/python3.10/site-packages/timm/models/_factory.py:114: UserWarning: Mapping deprecated model name vit_base_resnet50_384 to current vit_base_r50_s16_384.orig_in21k_ft_in1k.\n",
      "  model = create_fn(\n"
     ]
    },
    {
     "name": "stdout",
     "output_type": "stream",
     "text": [
      "[INFO] normal estimation...\n"
     ]
    },
    {
     "name": "stderr",
     "output_type": "stream",
     "text": [
      "/root/mambaforge/lib/python3.10/site-packages/timm/models/_factory.py:114: UserWarning: Mapping deprecated model name vit_base_resnet50_384 to current vit_base_r50_s16_384.orig_in21k_ft_in1k.\n",
      "  model = create_fn(\n"
     ]
    },
    {
     "name": "stdout",
     "output_type": "stream",
     "text": [
      "[INFO] recenter...\n"
     ]
    }
   ],
   "source": [
    "%run preprocess_image.py {image_path_without_rgba}"
   ]
  },
  {
   "cell_type": "code",
   "execution_count": null,
   "metadata": {},
   "outputs": [],
   "source": [
    "%cd multi-task-refinenet/src/notebooks\n",
    "%matplotlib inline\n",
    "\n",
    "import matplotlib.pyplot as plt\n",
    "from PIL import Image\n",
    "import numpy as np\n",
    "import sys\n",
    "sys.path.append('../')\n",
    "from models import net\n",
    "import cv2\n",
    "import torch\n",
    "from torch.autograd import Variable\n",
    "# Pre-processing and post-processing constants #\n",
    "CMAP = np.load('../cmap_nyud.npy')\n",
    "DEPTH_COEFF = 5000. # to convert into metres\n",
    "HAS_CUDA = torch.cuda.is_available()\n",
    "IMG_SCALE  = 1./255\n",
    "IMG_MEAN = np.array([0.485, 0.456, 0.406]).reshape((1, 1, 3))\n",
    "IMG_STD = np.array([0.229, 0.224, 0.225]).reshape((1, 1, 3))\n",
    "MAX_DEPTH = 8.\n",
    "MIN_DEPTH = 0.\n",
    "NUM_CLASSES = 40\n",
    "NUM_TASKS = 3 # segm + depth + normals\n",
    "def prepare_img(img):\n",
    "    return (img * IMG_SCALE - IMG_MEAN) / IMG_STD\n",
    "model = net(num_classes=NUM_CLASSES, num_tasks=NUM_TASKS)\n",
    "if HAS_CUDA:\n",
    "    _ = model.cuda()\n",
    "_ = model.eval()\n",
    "ckpt = torch.load('../../weights/ExpNYUD_three.ckpt')\n",
    "model.load_state_dict(ckpt['state_dict'])\n",
    "# Figure 5-bottom row\n",
    "img_path = image_path\n",
    "img = np.array(Image.open(img_path).convert('RGB'))\n",
    "\n",
    "with torch.no_grad():\n",
    "    img_var = Variable(torch.from_numpy(prepare_img(img).transpose(2, 0, 1)[None]), requires_grad=False).float()\n",
    "    if HAS_CUDA:\n",
    "        img_var = img_var.cuda()\n",
    "    segm, depth, norm = model(img_var)\n",
    "    segm = cv2.resize(segm[0, :NUM_CLASSES].cpu().data.numpy().transpose(1, 2, 0),\n",
    "                      img.shape[:2][::-1],\n",
    "                      interpolation=cv2.INTER_CUBIC)\n",
    "    depth = cv2.resize(depth[0, 0].cpu().data.numpy(),\n",
    "                       img.shape[:2][::-1],\n",
    "                       interpolation=cv2.INTER_CUBIC)\n",
    "    norm = cv2.resize(norm[0].cpu().data.numpy().transpose(1, 2, 0),\n",
    "                       img.shape[:2][::-1],\n",
    "                       interpolation=cv2.INTER_CUBIC)\n",
    "    segm = CMAP[segm.argmax(axis=2) + 1].astype(np.uint8)\n",
    "    depth = np.abs(depth)\n",
    "    out_norm = norm / np.linalg.norm(norm, axis=2, keepdims=True)\n",
    "    ## xzy->RGB ##\n",
    "    out_norm[:, :, 0] = ((out_norm[:, :, 0] + 1.) / 2.) * 255.\n",
    "    out_norm[:, :, 1] = ((out_norm[:, :, 1] + 1.) / 2.) * 255.\n",
    "    out_norm[:, :, 2] = ((1. - out_norm[:, :, 2]) / 2.) * 255.\n",
    "    out_norm = out_norm.astype(np.uint8)\n",
    "\n",
    "# mask\n",
    "\n",
    "\n",
    "# Define the depth threshold\n",
    "depth_threshold = 0.5\n",
    "depth_img = cv2.imread(image_path.replace(\"rgba\",\"depth\"), cv2.IMREAD_GRAYSCALE)\n",
    "# Create a boolean mask based on the depth threshold\n",
    "# True for pixels in depth_img less than or equal to the depth_threshold, False otherwise\n",
    "mask = depth_img > depth_threshold\n",
    "\n",
    "# Apply the mask to the normal image\n",
    "# First, we need to expand the dimensions of the mask to match the normal image\n",
    "# Here we assume that the normal image is a 3-channel (RGB) image\n",
    "mask_rgb = np.stack([mask]*3, axis=-1)\n",
    "\n",
    "# Now, we apply the mask to the normal image. We could set the unmasked area to a specific color (like black), \n",
    "# or we could make the unmasked area transparent if the normal_img is a 4-channel (RGBA) image.\n",
    "masked_img = np.where(mask_rgb, out_norm, 0)\n",
    "\n",
    "# Save the image\n",
    "image_dir, image_name = os.path.split(image_path_without_rgba)\n",
    "image_basename, image_ext = os.path.splitext(image_name)\n",
    "new_image_path = os.path.join(image_dir, f\"{image_basename}_normal{image_ext}\")\n",
    "\n",
    "image = Image.fromarray(masked_img)\n",
    "image.show()\n",
    "image.save(new_image_path)\n",
    "%cd ../../../"
   ]
  },
  {
   "cell_type": "code",
   "execution_count": 11,
   "metadata": {},
   "outputs": [],
   "source": [
    "batch_size = 13 # 24\n"
   ]
  },
  {
   "cell_type": "code",
   "execution_count": 12,
   "metadata": {},
   "outputs": [
    {
     "name": "stdout",
     "output_type": "stream",
     "text": [
      "Namespace(file=None, text=None, negative='', O=True, O2=False, test=False, six_views=False, eval_interval=1, test_interval=10, workspace='werewolf_big', seed=None, image='/notebooks/threestudio/load/images/werewolf_big_rgba.png', image_config=None, known_view_interval=4, IF=False, guidance=['zero123'], guidance_scale=5, save_mesh=False, mcubes_resolution=256, decimate_target=50000.0, dmtet=False, tet_grid_size=128, init_with='', lock_geo=False, perpneg=False, negative_w=-2, front_decay_factor=2, side_decay_factor=10, iters=5000, lr=0.001, ckpt='latest', cuda_ray=True, taichi_ray=False, max_steps=1024, num_steps=64, upsample_steps=32, update_extra_interval=16, max_ray_batch=4096, latent_iter_ratio=0, albedo_iter_ratio=0, min_ambient_ratio=0.1, textureless_ratio=0.2, jitter_pose=False, jitter_center=0.2, jitter_target=0.2, jitter_up=0.02, uniform_sphere_rate=0, grad_clip=-1, grad_clip_rgb=-1, bg_radius=1.4, density_activation='exp', density_thresh=10, blob_density=5, blob_radius=0.2, backbone='grid', optim='adan', sd_version='2.1', hf_key=None, fp16=True, vram_O=False, w=64, h=64, known_view_scale=1.5, known_view_noise_scale=0.002, dmtet_reso_scale=8, batch_size=13, bound=1, dt_gamma=0, min_near=0.01, radius_range=[3.0, 3.5], theta_range=[45, 105], phi_range=[-180, 180], fovy_range=[20, 20], default_radius=3.2, default_polar=90, default_azimuth=0, default_fovy=20, progressive_view=True, progressive_view_init_ratio=0.2, progressive_level=True, angle_overhead=30, angle_front=60, t_range=[0.02, 0.98], dont_override_stuff=False, lambda_entropy=1, lambda_opacity=0, lambda_orient=1, lambda_tv=0, lambda_wd=0, lambda_mesh_normal=0.5, lambda_mesh_laplacian=0.5, lambda_guidance=1, lambda_rgb=1000, lambda_mask=500, lambda_normal=0, lambda_depth=10, lambda_2d_normal_smooth=0, lambda_3d_normal_smooth=10, save_guidance=False, save_guidance_interval=10, gui=False, W=800, H=800, radius=5, fovy=20, light_theta=60, light_phi=0, max_spp=1, zero123_config='./pretrained/zero123/sd-objaverse-finetune-c_concat-256.yaml', zero123_ckpt='pretrained/zero123/zero123-xl.ckpt', zero123_grad_scale='angle', dataset_size_train=100, dataset_size_valid=8, dataset_size_test=100, exp_start_iter=0, exp_end_iter=5000, images=['/notebooks/threestudio/load/images/werewolf_big_rgba.png'], ref_radii=[3.2], ref_polars=[90], ref_azimuths=[0], zero123_ws=[1], default_zero123_w=1, full_radius_range=[3.0, 3.5], full_theta_range=[45, 105], full_phi_range=[-180, 180], full_fovy_range=[20, 20])\n",
      "NeRFNetwork(\n",
      "  (encoder): GridEncoder: input_dim=3 num_levels=16 level_dim=2 resolution=16 -> 2048 per_level_scale=1.3819 params=(6098120, 2) gridtype=hash align_corners=False interpolation=smoothstep\n",
      "  (sigma_net): MLP(\n",
      "    (net): ModuleList(\n",
      "      (0): Linear(in_features=32, out_features=64, bias=True)\n",
      "      (1): Linear(in_features=64, out_features=64, bias=True)\n",
      "      (2): Linear(in_features=64, out_features=4, bias=True)\n",
      "    )\n",
      "  )\n",
      "  (encoder_bg): FreqEncoder: input_dim=3 degree=6 output_dim=39\n",
      "  (bg_net): MLP(\n",
      "    (net): ModuleList(\n",
      "      (0): Linear(in_features=39, out_features=32, bias=True)\n",
      "      (1): Linear(in_features=32, out_features=3, bias=True)\n",
      "    )\n",
      "  )\n",
      ")\n",
      "LatentDiffusion: Running in eps-prediction mode\n",
      "DiffusionWrapper has 859.53 M params.\n",
      "Keeping EMAs of 688.\n",
      "making attention of type 'vanilla' with 512 in_channels\n",
      "Working with z of shape (1, 4, 32, 32) = 4096 dimensions.\n",
      "making attention of type 'vanilla' with 512 in_channels\n"
     ]
    },
    {
     "name": "stderr",
     "output_type": "stream",
     "text": [
      "100%|████████████████████████████████████████| 890M/890M [00:06<00:00, 155MiB/s]\n"
     ]
    },
    {
     "name": "stdout",
     "output_type": "stream",
     "text": [
      "[INFO] dataset: load image prompt ['/notebooks/threestudio/load/images/werewolf_big_rgba.png'] torch.Size([1, 3, 96, 96])\n",
      "[INFO] dataset: load depth prompt ['/notebooks/threestudio/load/images/werewolf_big_depth.png'] torch.Size([1, 96, 96])\n",
      "[INFO] dataset: load normal prompt ['/notebooks/threestudio/load/images/werewolf_big_normal.png'] torch.Size([1, 96, 96, 3])\n"
     ]
    },
    {
     "data": {
      "text/html": [
       "<pre style=\"white-space:pre;overflow-x:auto;line-height:normal;font-family:Menlo,'DejaVu Sans Mono',consolas,'Courier New',monospace\"><span style=\"font-weight: bold\">[</span>INFO<span style=\"font-weight: bold\">]</span> Cmdline: main.py -O --image <span style=\"color: #800080; text-decoration-color: #800080\">/notebooks/threestudio/load/images/</span><span style=\"color: #ff00ff; text-decoration-color: #ff00ff\">werewolf_big_rgba.png</span> --workspace \n",
       "werewolf_big --iters <span style=\"color: #008080; text-decoration-color: #008080; font-weight: bold\">5000</span> --test_interval <span style=\"color: #008080; text-decoration-color: #008080; font-weight: bold\">10</span> --batch_size <span style=\"color: #008080; text-decoration-color: #008080; font-weight: bold\">13</span>\n",
       "</pre>\n"
      ],
      "text/plain": [
       "\u001b[1m[\u001b[0mINFO\u001b[1m]\u001b[0m Cmdline: main.py -O --image \u001b[35m/notebooks/threestudio/load/images/\u001b[0m\u001b[95mwerewolf_big_rgba.png\u001b[0m --workspace \n",
       "werewolf_big --iters \u001b[1;36m5000\u001b[0m --test_interval \u001b[1;36m10\u001b[0m --batch_size \u001b[1;36m13\u001b[0m\n"
      ]
     },
     "metadata": {},
     "output_type": "display_data"
    },
    {
     "data": {
      "text/html": [
       "<pre style=\"white-space:pre;overflow-x:auto;line-height:normal;font-family:Menlo,'DejaVu Sans Mono',consolas,'Courier New',monospace\"><span style=\"font-weight: bold\">[</span>INFO<span style=\"font-weight: bold\">]</span> opt: <span style=\"color: #800080; text-decoration-color: #800080; font-weight: bold\">Namespace</span><span style=\"font-weight: bold\">(</span><span style=\"color: #808000; text-decoration-color: #808000\">file</span>=<span style=\"color: #800080; text-decoration-color: #800080; font-style: italic\">None</span>, <span style=\"color: #808000; text-decoration-color: #808000\">text</span>=<span style=\"color: #800080; text-decoration-color: #800080; font-style: italic\">None</span>, <span style=\"color: #808000; text-decoration-color: #808000\">negative</span>=<span style=\"color: #008000; text-decoration-color: #008000\">''</span>, <span style=\"color: #808000; text-decoration-color: #808000\">O</span>=<span style=\"color: #00ff00; text-decoration-color: #00ff00; font-style: italic\">True</span>, <span style=\"color: #808000; text-decoration-color: #808000\">O2</span>=<span style=\"color: #ff0000; text-decoration-color: #ff0000; font-style: italic\">False</span>, <span style=\"color: #808000; text-decoration-color: #808000\">test</span>=<span style=\"color: #ff0000; text-decoration-color: #ff0000; font-style: italic\">False</span>, <span style=\"color: #808000; text-decoration-color: #808000\">six_views</span>=<span style=\"color: #ff0000; text-decoration-color: #ff0000; font-style: italic\">False</span>, \n",
       "<span style=\"color: #808000; text-decoration-color: #808000\">eval_interval</span>=<span style=\"color: #008080; text-decoration-color: #008080; font-weight: bold\">1</span>, <span style=\"color: #808000; text-decoration-color: #808000\">test_interval</span>=<span style=\"color: #008080; text-decoration-color: #008080; font-weight: bold\">10</span>, <span style=\"color: #808000; text-decoration-color: #808000\">workspace</span>=<span style=\"color: #008000; text-decoration-color: #008000\">'werewolf_big'</span>, <span style=\"color: #808000; text-decoration-color: #808000\">seed</span>=<span style=\"color: #800080; text-decoration-color: #800080; font-style: italic\">None</span>, \n",
       "<span style=\"color: #808000; text-decoration-color: #808000\">image</span>=<span style=\"color: #008000; text-decoration-color: #008000\">'/notebooks/threestudio/load/images/werewolf_big_rgba.png'</span>, <span style=\"color: #808000; text-decoration-color: #808000\">image_config</span>=<span style=\"color: #800080; text-decoration-color: #800080; font-style: italic\">None</span>, <span style=\"color: #808000; text-decoration-color: #808000\">known_view_interval</span>=<span style=\"color: #008080; text-decoration-color: #008080; font-weight: bold\">4</span>, \n",
       "<span style=\"color: #808000; text-decoration-color: #808000\">IF</span>=<span style=\"color: #ff0000; text-decoration-color: #ff0000; font-style: italic\">False</span>, <span style=\"color: #808000; text-decoration-color: #808000\">guidance</span>=<span style=\"font-weight: bold\">[</span><span style=\"color: #008000; text-decoration-color: #008000\">'zero123'</span><span style=\"font-weight: bold\">]</span>, <span style=\"color: #808000; text-decoration-color: #808000\">guidance_scale</span>=<span style=\"color: #008080; text-decoration-color: #008080; font-weight: bold\">5</span>, <span style=\"color: #808000; text-decoration-color: #808000\">save_mesh</span>=<span style=\"color: #ff0000; text-decoration-color: #ff0000; font-style: italic\">False</span>, <span style=\"color: #808000; text-decoration-color: #808000\">mcubes_resolution</span>=<span style=\"color: #008080; text-decoration-color: #008080; font-weight: bold\">256</span>, <span style=\"color: #808000; text-decoration-color: #808000\">decimate_target</span>=<span style=\"color: #008080; text-decoration-color: #008080; font-weight: bold\">50000.0</span>, \n",
       "<span style=\"color: #808000; text-decoration-color: #808000\">dmtet</span>=<span style=\"color: #ff0000; text-decoration-color: #ff0000; font-style: italic\">False</span>, <span style=\"color: #808000; text-decoration-color: #808000\">tet_grid_size</span>=<span style=\"color: #008080; text-decoration-color: #008080; font-weight: bold\">128</span>, <span style=\"color: #808000; text-decoration-color: #808000\">init_with</span>=<span style=\"color: #008000; text-decoration-color: #008000\">''</span>, <span style=\"color: #808000; text-decoration-color: #808000\">lock_geo</span>=<span style=\"color: #ff0000; text-decoration-color: #ff0000; font-style: italic\">False</span>, <span style=\"color: #808000; text-decoration-color: #808000\">perpneg</span>=<span style=\"color: #ff0000; text-decoration-color: #ff0000; font-style: italic\">False</span>, <span style=\"color: #808000; text-decoration-color: #808000\">negative_w</span>=<span style=\"color: #008080; text-decoration-color: #008080; font-weight: bold\">-2</span>, <span style=\"color: #808000; text-decoration-color: #808000\">front_decay_factor</span>=<span style=\"color: #008080; text-decoration-color: #008080; font-weight: bold\">2</span>, \n",
       "<span style=\"color: #808000; text-decoration-color: #808000\">side_decay_factor</span>=<span style=\"color: #008080; text-decoration-color: #008080; font-weight: bold\">10</span>, <span style=\"color: #808000; text-decoration-color: #808000\">iters</span>=<span style=\"color: #008080; text-decoration-color: #008080; font-weight: bold\">5000</span>, <span style=\"color: #808000; text-decoration-color: #808000\">lr</span>=<span style=\"color: #008080; text-decoration-color: #008080; font-weight: bold\">0.001</span>, <span style=\"color: #808000; text-decoration-color: #808000\">ckpt</span>=<span style=\"color: #008000; text-decoration-color: #008000\">'latest'</span>, <span style=\"color: #808000; text-decoration-color: #808000\">cuda_ray</span>=<span style=\"color: #00ff00; text-decoration-color: #00ff00; font-style: italic\">True</span>, <span style=\"color: #808000; text-decoration-color: #808000\">taichi_ray</span>=<span style=\"color: #ff0000; text-decoration-color: #ff0000; font-style: italic\">False</span>, <span style=\"color: #808000; text-decoration-color: #808000\">max_steps</span>=<span style=\"color: #008080; text-decoration-color: #008080; font-weight: bold\">1024</span>, \n",
       "<span style=\"color: #808000; text-decoration-color: #808000\">num_steps</span>=<span style=\"color: #008080; text-decoration-color: #008080; font-weight: bold\">64</span>, <span style=\"color: #808000; text-decoration-color: #808000\">upsample_steps</span>=<span style=\"color: #008080; text-decoration-color: #008080; font-weight: bold\">32</span>, <span style=\"color: #808000; text-decoration-color: #808000\">update_extra_interval</span>=<span style=\"color: #008080; text-decoration-color: #008080; font-weight: bold\">16</span>, <span style=\"color: #808000; text-decoration-color: #808000\">max_ray_batch</span>=<span style=\"color: #008080; text-decoration-color: #008080; font-weight: bold\">4096</span>, <span style=\"color: #808000; text-decoration-color: #808000\">latent_iter_ratio</span>=<span style=\"color: #008080; text-decoration-color: #008080; font-weight: bold\">0</span>, \n",
       "<span style=\"color: #808000; text-decoration-color: #808000\">albedo_iter_ratio</span>=<span style=\"color: #008080; text-decoration-color: #008080; font-weight: bold\">0</span>, <span style=\"color: #808000; text-decoration-color: #808000\">min_ambient_ratio</span>=<span style=\"color: #008080; text-decoration-color: #008080; font-weight: bold\">0.1</span>, <span style=\"color: #808000; text-decoration-color: #808000\">textureless_ratio</span>=<span style=\"color: #008080; text-decoration-color: #008080; font-weight: bold\">0.2</span>, <span style=\"color: #808000; text-decoration-color: #808000\">jitter_pose</span>=<span style=\"color: #ff0000; text-decoration-color: #ff0000; font-style: italic\">False</span>, <span style=\"color: #808000; text-decoration-color: #808000\">jitter_center</span>=<span style=\"color: #008080; text-decoration-color: #008080; font-weight: bold\">0.2</span>, \n",
       "<span style=\"color: #808000; text-decoration-color: #808000\">jitter_target</span>=<span style=\"color: #008080; text-decoration-color: #008080; font-weight: bold\">0.2</span>, <span style=\"color: #808000; text-decoration-color: #808000\">jitter_up</span>=<span style=\"color: #008080; text-decoration-color: #008080; font-weight: bold\">0.02</span>, <span style=\"color: #808000; text-decoration-color: #808000\">uniform_sphere_rate</span>=<span style=\"color: #008080; text-decoration-color: #008080; font-weight: bold\">0</span>, <span style=\"color: #808000; text-decoration-color: #808000\">grad_clip</span>=<span style=\"color: #008080; text-decoration-color: #008080; font-weight: bold\">-1</span>, <span style=\"color: #808000; text-decoration-color: #808000\">grad_clip_rgb</span>=<span style=\"color: #008080; text-decoration-color: #008080; font-weight: bold\">-1</span>, <span style=\"color: #808000; text-decoration-color: #808000\">bg_radius</span>=<span style=\"color: #008080; text-decoration-color: #008080; font-weight: bold\">1.4</span>, \n",
       "<span style=\"color: #808000; text-decoration-color: #808000\">density_activation</span>=<span style=\"color: #008000; text-decoration-color: #008000\">'exp'</span>, <span style=\"color: #808000; text-decoration-color: #808000\">density_thresh</span>=<span style=\"color: #008080; text-decoration-color: #008080; font-weight: bold\">10</span>, <span style=\"color: #808000; text-decoration-color: #808000\">blob_density</span>=<span style=\"color: #008080; text-decoration-color: #008080; font-weight: bold\">5</span>, <span style=\"color: #808000; text-decoration-color: #808000\">blob_radius</span>=<span style=\"color: #008080; text-decoration-color: #008080; font-weight: bold\">0.2</span>, <span style=\"color: #808000; text-decoration-color: #808000\">backbone</span>=<span style=\"color: #008000; text-decoration-color: #008000\">'grid'</span>, <span style=\"color: #808000; text-decoration-color: #808000\">optim</span>=<span style=\"color: #008000; text-decoration-color: #008000\">'adan'</span>, \n",
       "<span style=\"color: #808000; text-decoration-color: #808000\">sd_version</span>=<span style=\"color: #008000; text-decoration-color: #008000\">'2.1'</span>, <span style=\"color: #808000; text-decoration-color: #808000\">hf_key</span>=<span style=\"color: #800080; text-decoration-color: #800080; font-style: italic\">None</span>, <span style=\"color: #808000; text-decoration-color: #808000\">fp16</span>=<span style=\"color: #00ff00; text-decoration-color: #00ff00; font-style: italic\">True</span>, <span style=\"color: #808000; text-decoration-color: #808000\">vram_O</span>=<span style=\"color: #ff0000; text-decoration-color: #ff0000; font-style: italic\">False</span>, <span style=\"color: #808000; text-decoration-color: #808000\">w</span>=<span style=\"color: #008080; text-decoration-color: #008080; font-weight: bold\">64</span>, <span style=\"color: #808000; text-decoration-color: #808000\">h</span>=<span style=\"color: #008080; text-decoration-color: #008080; font-weight: bold\">64</span>, <span style=\"color: #808000; text-decoration-color: #808000\">known_view_scale</span>=<span style=\"color: #008080; text-decoration-color: #008080; font-weight: bold\">1.5</span>, \n",
       "<span style=\"color: #808000; text-decoration-color: #808000\">known_view_noise_scale</span>=<span style=\"color: #008080; text-decoration-color: #008080; font-weight: bold\">0.002</span>, <span style=\"color: #808000; text-decoration-color: #808000\">dmtet_reso_scale</span>=<span style=\"color: #008080; text-decoration-color: #008080; font-weight: bold\">8</span>, <span style=\"color: #808000; text-decoration-color: #808000\">batch_size</span>=<span style=\"color: #008080; text-decoration-color: #008080; font-weight: bold\">13</span>, <span style=\"color: #808000; text-decoration-color: #808000\">bound</span>=<span style=\"color: #008080; text-decoration-color: #008080; font-weight: bold\">1</span>, <span style=\"color: #808000; text-decoration-color: #808000\">dt_gamma</span>=<span style=\"color: #008080; text-decoration-color: #008080; font-weight: bold\">0</span>, <span style=\"color: #808000; text-decoration-color: #808000\">min_near</span>=<span style=\"color: #008080; text-decoration-color: #008080; font-weight: bold\">0.01</span>, \n",
       "<span style=\"color: #808000; text-decoration-color: #808000\">radius_range</span>=<span style=\"font-weight: bold\">[</span><span style=\"color: #008080; text-decoration-color: #008080; font-weight: bold\">3.0</span>, <span style=\"color: #008080; text-decoration-color: #008080; font-weight: bold\">3.5</span><span style=\"font-weight: bold\">]</span>, <span style=\"color: #808000; text-decoration-color: #808000\">theta_range</span>=<span style=\"font-weight: bold\">[</span><span style=\"color: #008080; text-decoration-color: #008080; font-weight: bold\">45</span>, <span style=\"color: #008080; text-decoration-color: #008080; font-weight: bold\">105</span><span style=\"font-weight: bold\">]</span>, <span style=\"color: #808000; text-decoration-color: #808000\">phi_range</span>=<span style=\"font-weight: bold\">[</span><span style=\"color: #008080; text-decoration-color: #008080; font-weight: bold\">-180</span>, <span style=\"color: #008080; text-decoration-color: #008080; font-weight: bold\">180</span><span style=\"font-weight: bold\">]</span>, <span style=\"color: #808000; text-decoration-color: #808000\">fovy_range</span>=<span style=\"font-weight: bold\">[</span><span style=\"color: #008080; text-decoration-color: #008080; font-weight: bold\">20</span>, <span style=\"color: #008080; text-decoration-color: #008080; font-weight: bold\">20</span><span style=\"font-weight: bold\">]</span>, <span style=\"color: #808000; text-decoration-color: #808000\">default_radius</span>=<span style=\"color: #008080; text-decoration-color: #008080; font-weight: bold\">3.2</span>, \n",
       "<span style=\"color: #808000; text-decoration-color: #808000\">default_polar</span>=<span style=\"color: #008080; text-decoration-color: #008080; font-weight: bold\">90</span>, <span style=\"color: #808000; text-decoration-color: #808000\">default_azimuth</span>=<span style=\"color: #008080; text-decoration-color: #008080; font-weight: bold\">0</span>, <span style=\"color: #808000; text-decoration-color: #808000\">default_fovy</span>=<span style=\"color: #008080; text-decoration-color: #008080; font-weight: bold\">20</span>, <span style=\"color: #808000; text-decoration-color: #808000\">progressive_view</span>=<span style=\"color: #00ff00; text-decoration-color: #00ff00; font-style: italic\">True</span>, <span style=\"color: #808000; text-decoration-color: #808000\">progressive_view_init_ratio</span>=<span style=\"color: #008080; text-decoration-color: #008080; font-weight: bold\">0.2</span>, \n",
       "<span style=\"color: #808000; text-decoration-color: #808000\">progressive_level</span>=<span style=\"color: #00ff00; text-decoration-color: #00ff00; font-style: italic\">True</span>, <span style=\"color: #808000; text-decoration-color: #808000\">angle_overhead</span>=<span style=\"color: #008080; text-decoration-color: #008080; font-weight: bold\">30</span>, <span style=\"color: #808000; text-decoration-color: #808000\">angle_front</span>=<span style=\"color: #008080; text-decoration-color: #008080; font-weight: bold\">60</span>, <span style=\"color: #808000; text-decoration-color: #808000\">t_range</span>=<span style=\"font-weight: bold\">[</span><span style=\"color: #008080; text-decoration-color: #008080; font-weight: bold\">0.02</span>, <span style=\"color: #008080; text-decoration-color: #008080; font-weight: bold\">0.98</span><span style=\"font-weight: bold\">]</span>, <span style=\"color: #808000; text-decoration-color: #808000\">dont_override_stuff</span>=<span style=\"color: #ff0000; text-decoration-color: #ff0000; font-style: italic\">False</span>, \n",
       "<span style=\"color: #808000; text-decoration-color: #808000\">lambda_entropy</span>=<span style=\"color: #008080; text-decoration-color: #008080; font-weight: bold\">1</span>, <span style=\"color: #808000; text-decoration-color: #808000\">lambda_opacity</span>=<span style=\"color: #008080; text-decoration-color: #008080; font-weight: bold\">0</span>, <span style=\"color: #808000; text-decoration-color: #808000\">lambda_orient</span>=<span style=\"color: #008080; text-decoration-color: #008080; font-weight: bold\">1</span>, <span style=\"color: #808000; text-decoration-color: #808000\">lambda_tv</span>=<span style=\"color: #008080; text-decoration-color: #008080; font-weight: bold\">0</span>, <span style=\"color: #808000; text-decoration-color: #808000\">lambda_wd</span>=<span style=\"color: #008080; text-decoration-color: #008080; font-weight: bold\">0</span>, <span style=\"color: #808000; text-decoration-color: #808000\">lambda_mesh_normal</span>=<span style=\"color: #008080; text-decoration-color: #008080; font-weight: bold\">0.5</span>, \n",
       "<span style=\"color: #808000; text-decoration-color: #808000\">lambda_mesh_laplacian</span>=<span style=\"color: #008080; text-decoration-color: #008080; font-weight: bold\">0.5</span>, <span style=\"color: #808000; text-decoration-color: #808000\">lambda_guidance</span>=<span style=\"color: #008080; text-decoration-color: #008080; font-weight: bold\">1</span>, <span style=\"color: #808000; text-decoration-color: #808000\">lambda_rgb</span>=<span style=\"color: #008080; text-decoration-color: #008080; font-weight: bold\">1000</span>, <span style=\"color: #808000; text-decoration-color: #808000\">lambda_mask</span>=<span style=\"color: #008080; text-decoration-color: #008080; font-weight: bold\">500</span>, <span style=\"color: #808000; text-decoration-color: #808000\">lambda_normal</span>=<span style=\"color: #008080; text-decoration-color: #008080; font-weight: bold\">0</span>, <span style=\"color: #808000; text-decoration-color: #808000\">lambda_depth</span>=<span style=\"color: #008080; text-decoration-color: #008080; font-weight: bold\">10</span>, \n",
       "<span style=\"color: #808000; text-decoration-color: #808000\">lambda_2d_normal_smooth</span>=<span style=\"color: #008080; text-decoration-color: #008080; font-weight: bold\">0</span>, <span style=\"color: #808000; text-decoration-color: #808000\">lambda_3d_normal_smooth</span>=<span style=\"color: #008080; text-decoration-color: #008080; font-weight: bold\">10</span>, <span style=\"color: #808000; text-decoration-color: #808000\">save_guidance</span>=<span style=\"color: #ff0000; text-decoration-color: #ff0000; font-style: italic\">False</span>, <span style=\"color: #808000; text-decoration-color: #808000\">save_guidance_interval</span>=<span style=\"color: #008080; text-decoration-color: #008080; font-weight: bold\">10</span>, <span style=\"color: #808000; text-decoration-color: #808000\">gui</span>=<span style=\"color: #ff0000; text-decoration-color: #ff0000; font-style: italic\">False</span>, \n",
       "<span style=\"color: #808000; text-decoration-color: #808000\">W</span>=<span style=\"color: #008080; text-decoration-color: #008080; font-weight: bold\">800</span>, <span style=\"color: #808000; text-decoration-color: #808000\">H</span>=<span style=\"color: #008080; text-decoration-color: #008080; font-weight: bold\">800</span>, <span style=\"color: #808000; text-decoration-color: #808000\">radius</span>=<span style=\"color: #008080; text-decoration-color: #008080; font-weight: bold\">5</span>, <span style=\"color: #808000; text-decoration-color: #808000\">fovy</span>=<span style=\"color: #008080; text-decoration-color: #008080; font-weight: bold\">20</span>, <span style=\"color: #808000; text-decoration-color: #808000\">light_theta</span>=<span style=\"color: #008080; text-decoration-color: #008080; font-weight: bold\">60</span>, <span style=\"color: #808000; text-decoration-color: #808000\">light_phi</span>=<span style=\"color: #008080; text-decoration-color: #008080; font-weight: bold\">0</span>, <span style=\"color: #808000; text-decoration-color: #808000\">max_spp</span>=<span style=\"color: #008080; text-decoration-color: #008080; font-weight: bold\">1</span>, \n",
       "<span style=\"color: #808000; text-decoration-color: #808000\">zero123_config</span>=<span style=\"color: #008000; text-decoration-color: #008000\">'./pretrained/zero123/sd-objaverse-finetune-c_concat-256.yaml'</span>, \n",
       "<span style=\"color: #808000; text-decoration-color: #808000\">zero123_ckpt</span>=<span style=\"color: #008000; text-decoration-color: #008000\">'pretrained/zero123/zero123-xl.ckpt'</span>, <span style=\"color: #808000; text-decoration-color: #808000\">zero123_grad_scale</span>=<span style=\"color: #008000; text-decoration-color: #008000\">'angle'</span>, <span style=\"color: #808000; text-decoration-color: #808000\">dataset_size_train</span>=<span style=\"color: #008080; text-decoration-color: #008080; font-weight: bold\">100</span>, \n",
       "<span style=\"color: #808000; text-decoration-color: #808000\">dataset_size_valid</span>=<span style=\"color: #008080; text-decoration-color: #008080; font-weight: bold\">8</span>, <span style=\"color: #808000; text-decoration-color: #808000\">dataset_size_test</span>=<span style=\"color: #008080; text-decoration-color: #008080; font-weight: bold\">100</span>, <span style=\"color: #808000; text-decoration-color: #808000\">exp_start_iter</span>=<span style=\"color: #008080; text-decoration-color: #008080; font-weight: bold\">0</span>, <span style=\"color: #808000; text-decoration-color: #808000\">exp_end_iter</span>=<span style=\"color: #008080; text-decoration-color: #008080; font-weight: bold\">5000</span>, \n",
       "<span style=\"color: #808000; text-decoration-color: #808000\">images</span>=<span style=\"font-weight: bold\">[</span><span style=\"color: #008000; text-decoration-color: #008000\">'/notebooks/threestudio/load/images/werewolf_big_rgba.png'</span><span style=\"font-weight: bold\">]</span>, <span style=\"color: #808000; text-decoration-color: #808000\">ref_radii</span>=<span style=\"font-weight: bold\">[</span><span style=\"color: #008080; text-decoration-color: #008080; font-weight: bold\">3.2</span><span style=\"font-weight: bold\">]</span>, <span style=\"color: #808000; text-decoration-color: #808000\">ref_polars</span>=<span style=\"font-weight: bold\">[</span><span style=\"color: #008080; text-decoration-color: #008080; font-weight: bold\">90</span><span style=\"font-weight: bold\">]</span>, \n",
       "<span style=\"color: #808000; text-decoration-color: #808000\">ref_azimuths</span>=<span style=\"font-weight: bold\">[</span><span style=\"color: #008080; text-decoration-color: #008080; font-weight: bold\">0</span><span style=\"font-weight: bold\">]</span>, <span style=\"color: #808000; text-decoration-color: #808000\">zero123_ws</span>=<span style=\"font-weight: bold\">[</span><span style=\"color: #008080; text-decoration-color: #008080; font-weight: bold\">1</span><span style=\"font-weight: bold\">]</span>, <span style=\"color: #808000; text-decoration-color: #808000\">default_zero123_w</span>=<span style=\"color: #008080; text-decoration-color: #008080; font-weight: bold\">1</span>, <span style=\"color: #808000; text-decoration-color: #808000\">full_radius_range</span>=<span style=\"font-weight: bold\">[</span><span style=\"color: #008080; text-decoration-color: #008080; font-weight: bold\">3.0</span>, <span style=\"color: #008080; text-decoration-color: #008080; font-weight: bold\">3.5</span><span style=\"font-weight: bold\">]</span>, <span style=\"color: #808000; text-decoration-color: #808000\">full_theta_range</span>=<span style=\"font-weight: bold\">[</span><span style=\"color: #008080; text-decoration-color: #008080; font-weight: bold\">45</span>, <span style=\"color: #008080; text-decoration-color: #008080; font-weight: bold\">105</span><span style=\"font-weight: bold\">]</span>, \n",
       "<span style=\"color: #808000; text-decoration-color: #808000\">full_phi_range</span>=<span style=\"font-weight: bold\">[</span><span style=\"color: #008080; text-decoration-color: #008080; font-weight: bold\">-180</span>, <span style=\"color: #008080; text-decoration-color: #008080; font-weight: bold\">180</span><span style=\"font-weight: bold\">]</span>, <span style=\"color: #808000; text-decoration-color: #808000\">full_fovy_range</span>=<span style=\"font-weight: bold\">[</span><span style=\"color: #008080; text-decoration-color: #008080; font-weight: bold\">20</span>, <span style=\"color: #008080; text-decoration-color: #008080; font-weight: bold\">20</span><span style=\"font-weight: bold\">])</span>\n",
       "</pre>\n"
      ],
      "text/plain": [
       "\u001b[1m[\u001b[0mINFO\u001b[1m]\u001b[0m opt: \u001b[1;35mNamespace\u001b[0m\u001b[1m(\u001b[0m\u001b[33mfile\u001b[0m=\u001b[3;35mNone\u001b[0m, \u001b[33mtext\u001b[0m=\u001b[3;35mNone\u001b[0m, \u001b[33mnegative\u001b[0m=\u001b[32m''\u001b[0m, \u001b[33mO\u001b[0m=\u001b[3;92mTrue\u001b[0m, \u001b[33mO2\u001b[0m=\u001b[3;91mFalse\u001b[0m, \u001b[33mtest\u001b[0m=\u001b[3;91mFalse\u001b[0m, \u001b[33msix_views\u001b[0m=\u001b[3;91mFalse\u001b[0m, \n",
       "\u001b[33meval_interval\u001b[0m=\u001b[1;36m1\u001b[0m, \u001b[33mtest_interval\u001b[0m=\u001b[1;36m10\u001b[0m, \u001b[33mworkspace\u001b[0m=\u001b[32m'werewolf_big'\u001b[0m, \u001b[33mseed\u001b[0m=\u001b[3;35mNone\u001b[0m, \n",
       "\u001b[33mimage\u001b[0m=\u001b[32m'/notebooks/threestudio/load/images/werewolf_big_rgba.png'\u001b[0m, \u001b[33mimage_config\u001b[0m=\u001b[3;35mNone\u001b[0m, \u001b[33mknown_view_interval\u001b[0m=\u001b[1;36m4\u001b[0m, \n",
       "\u001b[33mIF\u001b[0m=\u001b[3;91mFalse\u001b[0m, \u001b[33mguidance\u001b[0m=\u001b[1m[\u001b[0m\u001b[32m'zero123'\u001b[0m\u001b[1m]\u001b[0m, \u001b[33mguidance_scale\u001b[0m=\u001b[1;36m5\u001b[0m, \u001b[33msave_mesh\u001b[0m=\u001b[3;91mFalse\u001b[0m, \u001b[33mmcubes_resolution\u001b[0m=\u001b[1;36m256\u001b[0m, \u001b[33mdecimate_target\u001b[0m=\u001b[1;36m50000\u001b[0m\u001b[1;36m.0\u001b[0m, \n",
       "\u001b[33mdmtet\u001b[0m=\u001b[3;91mFalse\u001b[0m, \u001b[33mtet_grid_size\u001b[0m=\u001b[1;36m128\u001b[0m, \u001b[33minit_with\u001b[0m=\u001b[32m''\u001b[0m, \u001b[33mlock_geo\u001b[0m=\u001b[3;91mFalse\u001b[0m, \u001b[33mperpneg\u001b[0m=\u001b[3;91mFalse\u001b[0m, \u001b[33mnegative_w\u001b[0m=\u001b[1;36m-2\u001b[0m, \u001b[33mfront_decay_factor\u001b[0m=\u001b[1;36m2\u001b[0m, \n",
       "\u001b[33mside_decay_factor\u001b[0m=\u001b[1;36m10\u001b[0m, \u001b[33miters\u001b[0m=\u001b[1;36m5000\u001b[0m, \u001b[33mlr\u001b[0m=\u001b[1;36m0\u001b[0m\u001b[1;36m.001\u001b[0m, \u001b[33mckpt\u001b[0m=\u001b[32m'latest'\u001b[0m, \u001b[33mcuda_ray\u001b[0m=\u001b[3;92mTrue\u001b[0m, \u001b[33mtaichi_ray\u001b[0m=\u001b[3;91mFalse\u001b[0m, \u001b[33mmax_steps\u001b[0m=\u001b[1;36m1024\u001b[0m, \n",
       "\u001b[33mnum_steps\u001b[0m=\u001b[1;36m64\u001b[0m, \u001b[33mupsample_steps\u001b[0m=\u001b[1;36m32\u001b[0m, \u001b[33mupdate_extra_interval\u001b[0m=\u001b[1;36m16\u001b[0m, \u001b[33mmax_ray_batch\u001b[0m=\u001b[1;36m4096\u001b[0m, \u001b[33mlatent_iter_ratio\u001b[0m=\u001b[1;36m0\u001b[0m, \n",
       "\u001b[33malbedo_iter_ratio\u001b[0m=\u001b[1;36m0\u001b[0m, \u001b[33mmin_ambient_ratio\u001b[0m=\u001b[1;36m0\u001b[0m\u001b[1;36m.1\u001b[0m, \u001b[33mtextureless_ratio\u001b[0m=\u001b[1;36m0\u001b[0m\u001b[1;36m.2\u001b[0m, \u001b[33mjitter_pose\u001b[0m=\u001b[3;91mFalse\u001b[0m, \u001b[33mjitter_center\u001b[0m=\u001b[1;36m0\u001b[0m\u001b[1;36m.2\u001b[0m, \n",
       "\u001b[33mjitter_target\u001b[0m=\u001b[1;36m0\u001b[0m\u001b[1;36m.2\u001b[0m, \u001b[33mjitter_up\u001b[0m=\u001b[1;36m0\u001b[0m\u001b[1;36m.02\u001b[0m, \u001b[33muniform_sphere_rate\u001b[0m=\u001b[1;36m0\u001b[0m, \u001b[33mgrad_clip\u001b[0m=\u001b[1;36m-1\u001b[0m, \u001b[33mgrad_clip_rgb\u001b[0m=\u001b[1;36m-1\u001b[0m, \u001b[33mbg_radius\u001b[0m=\u001b[1;36m1\u001b[0m\u001b[1;36m.4\u001b[0m, \n",
       "\u001b[33mdensity_activation\u001b[0m=\u001b[32m'exp'\u001b[0m, \u001b[33mdensity_thresh\u001b[0m=\u001b[1;36m10\u001b[0m, \u001b[33mblob_density\u001b[0m=\u001b[1;36m5\u001b[0m, \u001b[33mblob_radius\u001b[0m=\u001b[1;36m0\u001b[0m\u001b[1;36m.2\u001b[0m, \u001b[33mbackbone\u001b[0m=\u001b[32m'grid'\u001b[0m, \u001b[33moptim\u001b[0m=\u001b[32m'adan'\u001b[0m, \n",
       "\u001b[33msd_version\u001b[0m=\u001b[32m'2.1'\u001b[0m, \u001b[33mhf_key\u001b[0m=\u001b[3;35mNone\u001b[0m, \u001b[33mfp16\u001b[0m=\u001b[3;92mTrue\u001b[0m, \u001b[33mvram_O\u001b[0m=\u001b[3;91mFalse\u001b[0m, \u001b[33mw\u001b[0m=\u001b[1;36m64\u001b[0m, \u001b[33mh\u001b[0m=\u001b[1;36m64\u001b[0m, \u001b[33mknown_view_scale\u001b[0m=\u001b[1;36m1\u001b[0m\u001b[1;36m.5\u001b[0m, \n",
       "\u001b[33mknown_view_noise_scale\u001b[0m=\u001b[1;36m0\u001b[0m\u001b[1;36m.002\u001b[0m, \u001b[33mdmtet_reso_scale\u001b[0m=\u001b[1;36m8\u001b[0m, \u001b[33mbatch_size\u001b[0m=\u001b[1;36m13\u001b[0m, \u001b[33mbound\u001b[0m=\u001b[1;36m1\u001b[0m, \u001b[33mdt_gamma\u001b[0m=\u001b[1;36m0\u001b[0m, \u001b[33mmin_near\u001b[0m=\u001b[1;36m0\u001b[0m\u001b[1;36m.01\u001b[0m, \n",
       "\u001b[33mradius_range\u001b[0m=\u001b[1m[\u001b[0m\u001b[1;36m3.0\u001b[0m, \u001b[1;36m3.5\u001b[0m\u001b[1m]\u001b[0m, \u001b[33mtheta_range\u001b[0m=\u001b[1m[\u001b[0m\u001b[1;36m45\u001b[0m, \u001b[1;36m105\u001b[0m\u001b[1m]\u001b[0m, \u001b[33mphi_range\u001b[0m=\u001b[1m[\u001b[0m\u001b[1;36m-180\u001b[0m, \u001b[1;36m180\u001b[0m\u001b[1m]\u001b[0m, \u001b[33mfovy_range\u001b[0m=\u001b[1m[\u001b[0m\u001b[1;36m20\u001b[0m, \u001b[1;36m20\u001b[0m\u001b[1m]\u001b[0m, \u001b[33mdefault_radius\u001b[0m=\u001b[1;36m3\u001b[0m\u001b[1;36m.2\u001b[0m, \n",
       "\u001b[33mdefault_polar\u001b[0m=\u001b[1;36m90\u001b[0m, \u001b[33mdefault_azimuth\u001b[0m=\u001b[1;36m0\u001b[0m, \u001b[33mdefault_fovy\u001b[0m=\u001b[1;36m20\u001b[0m, \u001b[33mprogressive_view\u001b[0m=\u001b[3;92mTrue\u001b[0m, \u001b[33mprogressive_view_init_ratio\u001b[0m=\u001b[1;36m0\u001b[0m\u001b[1;36m.2\u001b[0m, \n",
       "\u001b[33mprogressive_level\u001b[0m=\u001b[3;92mTrue\u001b[0m, \u001b[33mangle_overhead\u001b[0m=\u001b[1;36m30\u001b[0m, \u001b[33mangle_front\u001b[0m=\u001b[1;36m60\u001b[0m, \u001b[33mt_range\u001b[0m=\u001b[1m[\u001b[0m\u001b[1;36m0.02\u001b[0m, \u001b[1;36m0.98\u001b[0m\u001b[1m]\u001b[0m, \u001b[33mdont_override_stuff\u001b[0m=\u001b[3;91mFalse\u001b[0m, \n",
       "\u001b[33mlambda_entropy\u001b[0m=\u001b[1;36m1\u001b[0m, \u001b[33mlambda_opacity\u001b[0m=\u001b[1;36m0\u001b[0m, \u001b[33mlambda_orient\u001b[0m=\u001b[1;36m1\u001b[0m, \u001b[33mlambda_tv\u001b[0m=\u001b[1;36m0\u001b[0m, \u001b[33mlambda_wd\u001b[0m=\u001b[1;36m0\u001b[0m, \u001b[33mlambda_mesh_normal\u001b[0m=\u001b[1;36m0\u001b[0m\u001b[1;36m.5\u001b[0m, \n",
       "\u001b[33mlambda_mesh_laplacian\u001b[0m=\u001b[1;36m0\u001b[0m\u001b[1;36m.5\u001b[0m, \u001b[33mlambda_guidance\u001b[0m=\u001b[1;36m1\u001b[0m, \u001b[33mlambda_rgb\u001b[0m=\u001b[1;36m1000\u001b[0m, \u001b[33mlambda_mask\u001b[0m=\u001b[1;36m500\u001b[0m, \u001b[33mlambda_normal\u001b[0m=\u001b[1;36m0\u001b[0m, \u001b[33mlambda_depth\u001b[0m=\u001b[1;36m10\u001b[0m, \n",
       "\u001b[33mlambda_2d_normal_smooth\u001b[0m=\u001b[1;36m0\u001b[0m, \u001b[33mlambda_3d_normal_smooth\u001b[0m=\u001b[1;36m10\u001b[0m, \u001b[33msave_guidance\u001b[0m=\u001b[3;91mFalse\u001b[0m, \u001b[33msave_guidance_interval\u001b[0m=\u001b[1;36m10\u001b[0m, \u001b[33mgui\u001b[0m=\u001b[3;91mFalse\u001b[0m, \n",
       "\u001b[33mW\u001b[0m=\u001b[1;36m800\u001b[0m, \u001b[33mH\u001b[0m=\u001b[1;36m800\u001b[0m, \u001b[33mradius\u001b[0m=\u001b[1;36m5\u001b[0m, \u001b[33mfovy\u001b[0m=\u001b[1;36m20\u001b[0m, \u001b[33mlight_theta\u001b[0m=\u001b[1;36m60\u001b[0m, \u001b[33mlight_phi\u001b[0m=\u001b[1;36m0\u001b[0m, \u001b[33mmax_spp\u001b[0m=\u001b[1;36m1\u001b[0m, \n",
       "\u001b[33mzero123_config\u001b[0m=\u001b[32m'./pretrained/zero123/sd-objaverse-finetune-c_concat-256.yaml'\u001b[0m, \n",
       "\u001b[33mzero123_ckpt\u001b[0m=\u001b[32m'pretrained/zero123/zero123-xl.ckpt'\u001b[0m, \u001b[33mzero123_grad_scale\u001b[0m=\u001b[32m'angle'\u001b[0m, \u001b[33mdataset_size_train\u001b[0m=\u001b[1;36m100\u001b[0m, \n",
       "\u001b[33mdataset_size_valid\u001b[0m=\u001b[1;36m8\u001b[0m, \u001b[33mdataset_size_test\u001b[0m=\u001b[1;36m100\u001b[0m, \u001b[33mexp_start_iter\u001b[0m=\u001b[1;36m0\u001b[0m, \u001b[33mexp_end_iter\u001b[0m=\u001b[1;36m5000\u001b[0m, \n",
       "\u001b[33mimages\u001b[0m=\u001b[1m[\u001b[0m\u001b[32m'/notebooks/threestudio/load/images/werewolf_big_rgba.png'\u001b[0m\u001b[1m]\u001b[0m, \u001b[33mref_radii\u001b[0m=\u001b[1m[\u001b[0m\u001b[1;36m3.2\u001b[0m\u001b[1m]\u001b[0m, \u001b[33mref_polars\u001b[0m=\u001b[1m[\u001b[0m\u001b[1;36m90\u001b[0m\u001b[1m]\u001b[0m, \n",
       "\u001b[33mref_azimuths\u001b[0m=\u001b[1m[\u001b[0m\u001b[1;36m0\u001b[0m\u001b[1m]\u001b[0m, \u001b[33mzero123_ws\u001b[0m=\u001b[1m[\u001b[0m\u001b[1;36m1\u001b[0m\u001b[1m]\u001b[0m, \u001b[33mdefault_zero123_w\u001b[0m=\u001b[1;36m1\u001b[0m, \u001b[33mfull_radius_range\u001b[0m=\u001b[1m[\u001b[0m\u001b[1;36m3.0\u001b[0m, \u001b[1;36m3.5\u001b[0m\u001b[1m]\u001b[0m, \u001b[33mfull_theta_range\u001b[0m=\u001b[1m[\u001b[0m\u001b[1;36m45\u001b[0m, \u001b[1;36m105\u001b[0m\u001b[1m]\u001b[0m, \n",
       "\u001b[33mfull_phi_range\u001b[0m=\u001b[1m[\u001b[0m\u001b[1;36m-180\u001b[0m, \u001b[1;36m180\u001b[0m\u001b[1m]\u001b[0m, \u001b[33mfull_fovy_range\u001b[0m=\u001b[1m[\u001b[0m\u001b[1;36m20\u001b[0m, \u001b[1;36m20\u001b[0m\u001b[1m]\u001b[0m\u001b[1m)\u001b[0m\n"
      ]
     },
     "metadata": {},
     "output_type": "display_data"
    },
    {
     "data": {
      "text/html": [
       "<pre style=\"white-space:pre;overflow-x:auto;line-height:normal;font-family:Menlo,'DejaVu Sans Mono',consolas,'Courier New',monospace\"><span style=\"font-weight: bold\">[</span>INFO<span style=\"font-weight: bold\">]</span> Trainer: df | <span style=\"color: #008080; text-decoration-color: #008080; font-weight: bold\">2023</span>-<span style=\"color: #008080; text-decoration-color: #008080; font-weight: bold\">09</span>-11_08-<span style=\"color: #008080; text-decoration-color: #008080; font-weight: bold\">59</span>-<span style=\"color: #008080; text-decoration-color: #008080; font-weight: bold\">43</span> | cuda | fp16 | werewolf_big\n",
       "</pre>\n"
      ],
      "text/plain": [
       "\u001b[1m[\u001b[0mINFO\u001b[1m]\u001b[0m Trainer: df | \u001b[1;36m2023\u001b[0m-\u001b[1;36m09\u001b[0m-11_08-\u001b[1;36m59\u001b[0m-\u001b[1;36m43\u001b[0m | cuda | fp16 | werewolf_big\n"
      ]
     },
     "metadata": {},
     "output_type": "display_data"
    },
    {
     "data": {
      "text/html": [
       "<pre style=\"white-space:pre;overflow-x:auto;line-height:normal;font-family:Menlo,'DejaVu Sans Mono',consolas,'Courier New',monospace\"><span style=\"font-weight: bold\">[</span>INFO<span style=\"font-weight: bold\">]</span> #parameters: <span style=\"color: #008080; text-decoration-color: #008080; font-weight: bold\">12204151</span>\n",
       "</pre>\n"
      ],
      "text/plain": [
       "\u001b[1m[\u001b[0mINFO\u001b[1m]\u001b[0m #parameters: \u001b[1;36m12204151\u001b[0m\n"
      ]
     },
     "metadata": {},
     "output_type": "display_data"
    },
    {
     "data": {
      "text/html": [
       "<pre style=\"white-space:pre;overflow-x:auto;line-height:normal;font-family:Menlo,'DejaVu Sans Mono',consolas,'Courier New',monospace\"><span style=\"font-weight: bold\">[</span>INFO<span style=\"font-weight: bold\">]</span> Loading latest checkpoint <span style=\"color: #808000; text-decoration-color: #808000\">...</span>\n",
       "</pre>\n"
      ],
      "text/plain": [
       "\u001b[1m[\u001b[0mINFO\u001b[1m]\u001b[0m Loading latest checkpoint \u001b[33m...\u001b[0m\n"
      ]
     },
     "metadata": {},
     "output_type": "display_data"
    },
    {
     "data": {
      "text/html": [
       "<pre style=\"white-space:pre;overflow-x:auto;line-height:normal;font-family:Menlo,'DejaVu Sans Mono',consolas,'Courier New',monospace\"><span style=\"font-weight: bold\">[</span>WARN<span style=\"font-weight: bold\">]</span> No checkpoint found, model randomly initialized.\n",
       "</pre>\n"
      ],
      "text/plain": [
       "\u001b[1m[\u001b[0mWARN\u001b[1m]\u001b[0m No checkpoint found, model randomly initialized.\n"
      ]
     },
     "metadata": {},
     "output_type": "display_data"
    },
    {
     "data": {
      "text/html": [
       "<pre style=\"white-space:pre;overflow-x:auto;line-height:normal;font-family:Menlo,'DejaVu Sans Mono',consolas,'Courier New',monospace\">==&gt; <span style=\"font-weight: bold\">[</span><span style=\"color: #008080; text-decoration-color: #008080; font-weight: bold\">2023</span>-<span style=\"color: #008080; text-decoration-color: #008080; font-weight: bold\">09</span>-11_08-<span style=\"color: #008080; text-decoration-color: #008080; font-weight: bold\">59</span>-<span style=\"color: #008080; text-decoration-color: #008080; font-weight: bold\">44</span><span style=\"font-weight: bold\">]</span> Start Training werewolf_big Epoch <span style=\"color: #008080; text-decoration-color: #008080; font-weight: bold\">1</span>/<span style=\"color: #008080; text-decoration-color: #008080; font-weight: bold\">50</span>, <span style=\"color: #808000; text-decoration-color: #808000\">lr</span>=<span style=\"color: #008080; text-decoration-color: #008080; font-weight: bold\">0.050000</span> <span style=\"color: #808000; text-decoration-color: #808000\">...</span>\n",
       "</pre>\n"
      ],
      "text/plain": [
       "==> \u001b[1m[\u001b[0m\u001b[1;36m2023\u001b[0m-\u001b[1;36m09\u001b[0m-11_08-\u001b[1;36m59\u001b[0m-\u001b[1;36m44\u001b[0m\u001b[1m]\u001b[0m Start Training werewolf_big Epoch \u001b[1;36m1\u001b[0m/\u001b[1;36m50\u001b[0m, \u001b[33mlr\u001b[0m=\u001b[1;36m0\u001b[0m\u001b[1;36m.050000\u001b[0m \u001b[33m...\u001b[0m\n"
      ]
     },
     "metadata": {},
     "output_type": "display_data"
    },
    {
     "name": "stderr",
     "output_type": "stream",
     "text": [
      "loss=50.0919 (21.9809), lr=0.050000: : 100% 1300/1300 [01:37<00:00, 13.40it/s]\n"
     ]
    },
    {
     "data": {
      "text/html": [
       "<pre style=\"white-space:pre;overflow-x:auto;line-height:normal;font-family:Menlo,'DejaVu Sans Mono',consolas,'Courier New',monospace\">==&gt; <span style=\"font-weight: bold\">[</span><span style=\"color: #008080; text-decoration-color: #008080; font-weight: bold\">2023</span>-<span style=\"color: #008080; text-decoration-color: #008080; font-weight: bold\">09</span>-11_09-<span style=\"color: #008080; text-decoration-color: #008080; font-weight: bold\">01</span>-<span style=\"color: #008080; text-decoration-color: #008080; font-weight: bold\">21</span><span style=\"font-weight: bold\">]</span> Finished Epoch <span style=\"color: #008080; text-decoration-color: #008080; font-weight: bold\">1</span>/<span style=\"color: #008080; text-decoration-color: #008080; font-weight: bold\">50</span>. <span style=\"color: #808000; text-decoration-color: #808000\">CPU</span>=<span style=\"color: #008080; text-decoration-color: #008080; font-weight: bold\">15.</span>5GB, <span style=\"color: #808000; text-decoration-color: #808000\">GPU</span>=<span style=\"color: #008080; text-decoration-color: #008080; font-weight: bold\">45.</span>3GB.\n",
       "</pre>\n"
      ],
      "text/plain": [
       "==> \u001b[1m[\u001b[0m\u001b[1;36m2023\u001b[0m-\u001b[1;36m09\u001b[0m-11_09-\u001b[1;36m01\u001b[0m-\u001b[1;36m21\u001b[0m\u001b[1m]\u001b[0m Finished Epoch \u001b[1;36m1\u001b[0m/\u001b[1;36m50\u001b[0m. \u001b[33mCPU\u001b[0m=\u001b[1;36m15\u001b[0m\u001b[1;36m.\u001b[0m5GB, \u001b[33mGPU\u001b[0m=\u001b[1;36m45\u001b[0m\u001b[1;36m.\u001b[0m3GB.\n"
      ]
     },
     "metadata": {},
     "output_type": "display_data"
    },
    {
     "data": {
      "text/html": [
       "<pre style=\"white-space:pre;overflow-x:auto;line-height:normal;font-family:Menlo,'DejaVu Sans Mono',consolas,'Courier New',monospace\">++&gt; Evaluate werewolf_big at epoch <span style=\"color: #008080; text-decoration-color: #008080; font-weight: bold\">1</span> <span style=\"color: #808000; text-decoration-color: #808000\">...</span>\n",
       "</pre>\n"
      ],
      "text/plain": [
       "++> Evaluate werewolf_big at epoch \u001b[1;36m1\u001b[0m \u001b[33m...\u001b[0m\n"
      ]
     },
     "metadata": {},
     "output_type": "display_data"
    },
    {
     "name": "stderr",
     "output_type": "stream",
     "text": [
      "loss=0.0000 (0.0000): : 100% 8/8 [00:02<00:00,  3.66it/s]\n"
     ]
    },
    {
     "data": {
      "text/html": [
       "<pre style=\"white-space:pre;overflow-x:auto;line-height:normal;font-family:Menlo,'DejaVu Sans Mono',consolas,'Courier New',monospace\">++&gt; Evaluate epoch <span style=\"color: #008080; text-decoration-color: #008080; font-weight: bold\">1</span> Finished.\n",
       "</pre>\n"
      ],
      "text/plain": [
       "++> Evaluate epoch \u001b[1;36m1\u001b[0m Finished.\n"
      ]
     },
     "metadata": {},
     "output_type": "display_data"
    },
    {
     "data": {
      "text/html": [
       "<pre style=\"white-space:pre;overflow-x:auto;line-height:normal;font-family:Menlo,'DejaVu Sans Mono',consolas,'Courier New',monospace\">==&gt; <span style=\"font-weight: bold\">[</span><span style=\"color: #008080; text-decoration-color: #008080; font-weight: bold\">2023</span>-<span style=\"color: #008080; text-decoration-color: #008080; font-weight: bold\">09</span>-11_09-<span style=\"color: #008080; text-decoration-color: #008080; font-weight: bold\">01</span>-<span style=\"color: #008080; text-decoration-color: #008080; font-weight: bold\">24</span><span style=\"font-weight: bold\">]</span> Start Training werewolf_big Epoch <span style=\"color: #008080; text-decoration-color: #008080; font-weight: bold\">2</span>/<span style=\"color: #008080; text-decoration-color: #008080; font-weight: bold\">50</span>, <span style=\"color: #808000; text-decoration-color: #808000\">lr</span>=<span style=\"color: #008080; text-decoration-color: #008080; font-weight: bold\">0.050000</span> <span style=\"color: #808000; text-decoration-color: #808000\">...</span>\n",
       "</pre>\n"
      ],
      "text/plain": [
       "==> \u001b[1m[\u001b[0m\u001b[1;36m2023\u001b[0m-\u001b[1;36m09\u001b[0m-11_09-\u001b[1;36m01\u001b[0m-\u001b[1;36m24\u001b[0m\u001b[1m]\u001b[0m Start Training werewolf_big Epoch \u001b[1;36m2\u001b[0m/\u001b[1;36m50\u001b[0m, \u001b[33mlr\u001b[0m=\u001b[1;36m0\u001b[0m\u001b[1;36m.050000\u001b[0m \u001b[33m...\u001b[0m\n"
      ]
     },
     "metadata": {},
     "output_type": "display_data"
    },
    {
     "name": "stderr",
     "output_type": "stream",
     "text": [
      "loss=19.2542 (14.6235), lr=0.050000: : 100% 1300/1300 [01:29<00:00, 14.47it/s]\n"
     ]
    },
    {
     "data": {
      "text/html": [
       "<pre style=\"white-space:pre;overflow-x:auto;line-height:normal;font-family:Menlo,'DejaVu Sans Mono',consolas,'Courier New',monospace\">==&gt; <span style=\"font-weight: bold\">[</span><span style=\"color: #008080; text-decoration-color: #008080; font-weight: bold\">2023</span>-<span style=\"color: #008080; text-decoration-color: #008080; font-weight: bold\">09</span>-11_09-<span style=\"color: #008080; text-decoration-color: #008080; font-weight: bold\">02</span>-<span style=\"color: #008080; text-decoration-color: #008080; font-weight: bold\">54</span><span style=\"font-weight: bold\">]</span> Finished Epoch <span style=\"color: #008080; text-decoration-color: #008080; font-weight: bold\">2</span>/<span style=\"color: #008080; text-decoration-color: #008080; font-weight: bold\">50</span>. <span style=\"color: #808000; text-decoration-color: #808000\">CPU</span>=<span style=\"color: #008080; text-decoration-color: #008080; font-weight: bold\">15.</span>5GB, <span style=\"color: #808000; text-decoration-color: #808000\">GPU</span>=<span style=\"color: #008080; text-decoration-color: #008080; font-weight: bold\">45.</span>4GB.\n",
       "</pre>\n"
      ],
      "text/plain": [
       "==> \u001b[1m[\u001b[0m\u001b[1;36m2023\u001b[0m-\u001b[1;36m09\u001b[0m-11_09-\u001b[1;36m02\u001b[0m-\u001b[1;36m54\u001b[0m\u001b[1m]\u001b[0m Finished Epoch \u001b[1;36m2\u001b[0m/\u001b[1;36m50\u001b[0m. \u001b[33mCPU\u001b[0m=\u001b[1;36m15\u001b[0m\u001b[1;36m.\u001b[0m5GB, \u001b[33mGPU\u001b[0m=\u001b[1;36m45\u001b[0m\u001b[1;36m.\u001b[0m4GB.\n"
      ]
     },
     "metadata": {},
     "output_type": "display_data"
    },
    {
     "data": {
      "text/html": [
       "<pre style=\"white-space:pre;overflow-x:auto;line-height:normal;font-family:Menlo,'DejaVu Sans Mono',consolas,'Courier New',monospace\">++&gt; Evaluate werewolf_big at epoch <span style=\"color: #008080; text-decoration-color: #008080; font-weight: bold\">2</span> <span style=\"color: #808000; text-decoration-color: #808000\">...</span>\n",
       "</pre>\n"
      ],
      "text/plain": [
       "++> Evaluate werewolf_big at epoch \u001b[1;36m2\u001b[0m \u001b[33m...\u001b[0m\n"
      ]
     },
     "metadata": {},
     "output_type": "display_data"
    },
    {
     "name": "stderr",
     "output_type": "stream",
     "text": [
      "loss=0.0000 (0.0000): : 100% 8/8 [00:01<00:00,  4.75it/s]\n"
     ]
    },
    {
     "data": {
      "text/html": [
       "<pre style=\"white-space:pre;overflow-x:auto;line-height:normal;font-family:Menlo,'DejaVu Sans Mono',consolas,'Courier New',monospace\">++&gt; Evaluate epoch <span style=\"color: #008080; text-decoration-color: #008080; font-weight: bold\">2</span> Finished.\n",
       "</pre>\n"
      ],
      "text/plain": [
       "++> Evaluate epoch \u001b[1;36m2\u001b[0m Finished.\n"
      ]
     },
     "metadata": {},
     "output_type": "display_data"
    },
    {
     "data": {
      "text/html": [
       "<pre style=\"white-space:pre;overflow-x:auto;line-height:normal;font-family:Menlo,'DejaVu Sans Mono',consolas,'Courier New',monospace\">==&gt; <span style=\"font-weight: bold\">[</span><span style=\"color: #008080; text-decoration-color: #008080; font-weight: bold\">2023</span>-<span style=\"color: #008080; text-decoration-color: #008080; font-weight: bold\">09</span>-11_09-<span style=\"color: #008080; text-decoration-color: #008080; font-weight: bold\">02</span>-<span style=\"color: #008080; text-decoration-color: #008080; font-weight: bold\">56</span><span style=\"font-weight: bold\">]</span> Start Training werewolf_big Epoch <span style=\"color: #008080; text-decoration-color: #008080; font-weight: bold\">3</span>/<span style=\"color: #008080; text-decoration-color: #008080; font-weight: bold\">50</span>, <span style=\"color: #808000; text-decoration-color: #808000\">lr</span>=<span style=\"color: #008080; text-decoration-color: #008080; font-weight: bold\">0.050000</span> <span style=\"color: #808000; text-decoration-color: #808000\">...</span>\n",
       "</pre>\n"
      ],
      "text/plain": [
       "==> \u001b[1m[\u001b[0m\u001b[1;36m2023\u001b[0m-\u001b[1;36m09\u001b[0m-11_09-\u001b[1;36m02\u001b[0m-\u001b[1;36m56\u001b[0m\u001b[1m]\u001b[0m Start Training werewolf_big Epoch \u001b[1;36m3\u001b[0m/\u001b[1;36m50\u001b[0m, \u001b[33mlr\u001b[0m=\u001b[1;36m0\u001b[0m\u001b[1;36m.050000\u001b[0m \u001b[33m...\u001b[0m\n"
      ]
     },
     "metadata": {},
     "output_type": "display_data"
    },
    {
     "name": "stderr",
     "output_type": "stream",
     "text": [
      "loss=23.9454 (13.3954), lr=0.050000: : 100% 1300/1300 [01:03<00:00, 20.40it/s]\n"
     ]
    },
    {
     "data": {
      "text/html": [
       "<pre style=\"white-space:pre;overflow-x:auto;line-height:normal;font-family:Menlo,'DejaVu Sans Mono',consolas,'Courier New',monospace\">==&gt; <span style=\"font-weight: bold\">[</span><span style=\"color: #008080; text-decoration-color: #008080; font-weight: bold\">2023</span>-<span style=\"color: #008080; text-decoration-color: #008080; font-weight: bold\">09</span>-11_09-<span style=\"color: #008080; text-decoration-color: #008080; font-weight: bold\">03</span>-<span style=\"color: #008080; text-decoration-color: #008080; font-weight: bold\">59</span><span style=\"font-weight: bold\">]</span> Finished Epoch <span style=\"color: #008080; text-decoration-color: #008080; font-weight: bold\">3</span>/<span style=\"color: #008080; text-decoration-color: #008080; font-weight: bold\">50</span>. <span style=\"color: #808000; text-decoration-color: #808000\">CPU</span>=<span style=\"color: #008080; text-decoration-color: #008080; font-weight: bold\">15.</span>5GB, <span style=\"color: #808000; text-decoration-color: #808000\">GPU</span>=<span style=\"color: #008080; text-decoration-color: #008080; font-weight: bold\">45.</span>4GB.\n",
       "</pre>\n"
      ],
      "text/plain": [
       "==> \u001b[1m[\u001b[0m\u001b[1;36m2023\u001b[0m-\u001b[1;36m09\u001b[0m-11_09-\u001b[1;36m03\u001b[0m-\u001b[1;36m59\u001b[0m\u001b[1m]\u001b[0m Finished Epoch \u001b[1;36m3\u001b[0m/\u001b[1;36m50\u001b[0m. \u001b[33mCPU\u001b[0m=\u001b[1;36m15\u001b[0m\u001b[1;36m.\u001b[0m5GB, \u001b[33mGPU\u001b[0m=\u001b[1;36m45\u001b[0m\u001b[1;36m.\u001b[0m4GB.\n"
      ]
     },
     "metadata": {},
     "output_type": "display_data"
    },
    {
     "data": {
      "text/html": [
       "<pre style=\"white-space:pre;overflow-x:auto;line-height:normal;font-family:Menlo,'DejaVu Sans Mono',consolas,'Courier New',monospace\">++&gt; Evaluate werewolf_big at epoch <span style=\"color: #008080; text-decoration-color: #008080; font-weight: bold\">3</span> <span style=\"color: #808000; text-decoration-color: #808000\">...</span>\n",
       "</pre>\n"
      ],
      "text/plain": [
       "++> Evaluate werewolf_big at epoch \u001b[1;36m3\u001b[0m \u001b[33m...\u001b[0m\n"
      ]
     },
     "metadata": {},
     "output_type": "display_data"
    },
    {
     "name": "stderr",
     "output_type": "stream",
     "text": [
      "loss=0.0000 (0.0000): : 100% 8/8 [00:00<00:00, 11.67it/s]\n"
     ]
    },
    {
     "data": {
      "text/html": [
       "<pre style=\"white-space:pre;overflow-x:auto;line-height:normal;font-family:Menlo,'DejaVu Sans Mono',consolas,'Courier New',monospace\">++&gt; Evaluate epoch <span style=\"color: #008080; text-decoration-color: #008080; font-weight: bold\">3</span> Finished.\n",
       "</pre>\n"
      ],
      "text/plain": [
       "++> Evaluate epoch \u001b[1;36m3\u001b[0m Finished.\n"
      ]
     },
     "metadata": {},
     "output_type": "display_data"
    },
    {
     "data": {
      "text/html": [
       "<pre style=\"white-space:pre;overflow-x:auto;line-height:normal;font-family:Menlo,'DejaVu Sans Mono',consolas,'Courier New',monospace\">==&gt; <span style=\"font-weight: bold\">[</span><span style=\"color: #008080; text-decoration-color: #008080; font-weight: bold\">2023</span>-<span style=\"color: #008080; text-decoration-color: #008080; font-weight: bold\">09</span>-11_09-<span style=\"color: #008080; text-decoration-color: #008080; font-weight: bold\">04</span>-<span style=\"color: #008080; text-decoration-color: #008080; font-weight: bold\">01</span><span style=\"font-weight: bold\">]</span> Start Training werewolf_big Epoch <span style=\"color: #008080; text-decoration-color: #008080; font-weight: bold\">4</span>/<span style=\"color: #008080; text-decoration-color: #008080; font-weight: bold\">50</span>, <span style=\"color: #808000; text-decoration-color: #808000\">lr</span>=<span style=\"color: #008080; text-decoration-color: #008080; font-weight: bold\">0.050000</span> <span style=\"color: #808000; text-decoration-color: #808000\">...</span>\n",
       "</pre>\n"
      ],
      "text/plain": [
       "==> \u001b[1m[\u001b[0m\u001b[1;36m2023\u001b[0m-\u001b[1;36m09\u001b[0m-11_09-\u001b[1;36m04\u001b[0m-\u001b[1;36m01\u001b[0m\u001b[1m]\u001b[0m Start Training werewolf_big Epoch \u001b[1;36m4\u001b[0m/\u001b[1;36m50\u001b[0m, \u001b[33mlr\u001b[0m=\u001b[1;36m0\u001b[0m\u001b[1;36m.050000\u001b[0m \u001b[33m...\u001b[0m\n"
      ]
     },
     "metadata": {},
     "output_type": "display_data"
    },
    {
     "name": "stderr",
     "output_type": "stream",
     "text": [
      "loss=26.8263 (15.3387), lr=0.050000: : 100% 1300/1300 [00:49<00:00, 26.48it/s]\n"
     ]
    },
    {
     "data": {
      "text/html": [
       "<pre style=\"white-space:pre;overflow-x:auto;line-height:normal;font-family:Menlo,'DejaVu Sans Mono',consolas,'Courier New',monospace\">==&gt; <span style=\"font-weight: bold\">[</span><span style=\"color: #008080; text-decoration-color: #008080; font-weight: bold\">2023</span>-<span style=\"color: #008080; text-decoration-color: #008080; font-weight: bold\">09</span>-11_09-<span style=\"color: #008080; text-decoration-color: #008080; font-weight: bold\">04</span>-<span style=\"color: #008080; text-decoration-color: #008080; font-weight: bold\">50</span><span style=\"font-weight: bold\">]</span> Finished Epoch <span style=\"color: #008080; text-decoration-color: #008080; font-weight: bold\">4</span>/<span style=\"color: #008080; text-decoration-color: #008080; font-weight: bold\">50</span>. <span style=\"color: #808000; text-decoration-color: #808000\">CPU</span>=<span style=\"color: #008080; text-decoration-color: #008080; font-weight: bold\">15.</span>5GB, <span style=\"color: #808000; text-decoration-color: #808000\">GPU</span>=<span style=\"color: #008080; text-decoration-color: #008080; font-weight: bold\">45.</span>4GB.\n",
       "</pre>\n"
      ],
      "text/plain": [
       "==> \u001b[1m[\u001b[0m\u001b[1;36m2023\u001b[0m-\u001b[1;36m09\u001b[0m-11_09-\u001b[1;36m04\u001b[0m-\u001b[1;36m50\u001b[0m\u001b[1m]\u001b[0m Finished Epoch \u001b[1;36m4\u001b[0m/\u001b[1;36m50\u001b[0m. \u001b[33mCPU\u001b[0m=\u001b[1;36m15\u001b[0m\u001b[1;36m.\u001b[0m5GB, \u001b[33mGPU\u001b[0m=\u001b[1;36m45\u001b[0m\u001b[1;36m.\u001b[0m4GB.\n"
      ]
     },
     "metadata": {},
     "output_type": "display_data"
    },
    {
     "data": {
      "text/html": [
       "<pre style=\"white-space:pre;overflow-x:auto;line-height:normal;font-family:Menlo,'DejaVu Sans Mono',consolas,'Courier New',monospace\">++&gt; Evaluate werewolf_big at epoch <span style=\"color: #008080; text-decoration-color: #008080; font-weight: bold\">4</span> <span style=\"color: #808000; text-decoration-color: #808000\">...</span>\n",
       "</pre>\n"
      ],
      "text/plain": [
       "++> Evaluate werewolf_big at epoch \u001b[1;36m4\u001b[0m \u001b[33m...\u001b[0m\n"
      ]
     },
     "metadata": {},
     "output_type": "display_data"
    },
    {
     "name": "stderr",
     "output_type": "stream",
     "text": [
      "loss=0.0000 (0.0000): : 100% 8/8 [00:00<00:00, 14.83it/s]\n"
     ]
    },
    {
     "data": {
      "text/html": [
       "<pre style=\"white-space:pre;overflow-x:auto;line-height:normal;font-family:Menlo,'DejaVu Sans Mono',consolas,'Courier New',monospace\">++&gt; Evaluate epoch <span style=\"color: #008080; text-decoration-color: #008080; font-weight: bold\">4</span> Finished.\n",
       "</pre>\n"
      ],
      "text/plain": [
       "++> Evaluate epoch \u001b[1;36m4\u001b[0m Finished.\n"
      ]
     },
     "metadata": {},
     "output_type": "display_data"
    },
    {
     "data": {
      "text/html": [
       "<pre style=\"white-space:pre;overflow-x:auto;line-height:normal;font-family:Menlo,'DejaVu Sans Mono',consolas,'Courier New',monospace\">==&gt; <span style=\"font-weight: bold\">[</span><span style=\"color: #008080; text-decoration-color: #008080; font-weight: bold\">2023</span>-<span style=\"color: #008080; text-decoration-color: #008080; font-weight: bold\">09</span>-11_09-<span style=\"color: #008080; text-decoration-color: #008080; font-weight: bold\">04</span>-<span style=\"color: #008080; text-decoration-color: #008080; font-weight: bold\">51</span><span style=\"font-weight: bold\">]</span> Start Training werewolf_big Epoch <span style=\"color: #008080; text-decoration-color: #008080; font-weight: bold\">5</span>/<span style=\"color: #008080; text-decoration-color: #008080; font-weight: bold\">50</span>, <span style=\"color: #808000; text-decoration-color: #808000\">lr</span>=<span style=\"color: #008080; text-decoration-color: #008080; font-weight: bold\">0.050000</span> <span style=\"color: #808000; text-decoration-color: #808000\">...</span>\n",
       "</pre>\n"
      ],
      "text/plain": [
       "==> \u001b[1m[\u001b[0m\u001b[1;36m2023\u001b[0m-\u001b[1;36m09\u001b[0m-11_09-\u001b[1;36m04\u001b[0m-\u001b[1;36m51\u001b[0m\u001b[1m]\u001b[0m Start Training werewolf_big Epoch \u001b[1;36m5\u001b[0m/\u001b[1;36m50\u001b[0m, \u001b[33mlr\u001b[0m=\u001b[1;36m0\u001b[0m\u001b[1;36m.050000\u001b[0m \u001b[33m...\u001b[0m\n"
      ]
     },
     "metadata": {},
     "output_type": "display_data"
    },
    {
     "name": "stderr",
     "output_type": "stream",
     "text": [
      "loss=38.2638 (16.1512), lr=0.050000: : 100% 1300/1300 [00:48<00:00, 26.89it/s]\n"
     ]
    },
    {
     "data": {
      "text/html": [
       "<pre style=\"white-space:pre;overflow-x:auto;line-height:normal;font-family:Menlo,'DejaVu Sans Mono',consolas,'Courier New',monospace\">==&gt; <span style=\"font-weight: bold\">[</span><span style=\"color: #008080; text-decoration-color: #008080; font-weight: bold\">2023</span>-<span style=\"color: #008080; text-decoration-color: #008080; font-weight: bold\">09</span>-11_09-<span style=\"color: #008080; text-decoration-color: #008080; font-weight: bold\">05</span>-<span style=\"color: #008080; text-decoration-color: #008080; font-weight: bold\">39</span><span style=\"font-weight: bold\">]</span> Finished Epoch <span style=\"color: #008080; text-decoration-color: #008080; font-weight: bold\">5</span>/<span style=\"color: #008080; text-decoration-color: #008080; font-weight: bold\">50</span>. <span style=\"color: #808000; text-decoration-color: #808000\">CPU</span>=<span style=\"color: #008080; text-decoration-color: #008080; font-weight: bold\">15.</span>5GB, <span style=\"color: #808000; text-decoration-color: #808000\">GPU</span>=<span style=\"color: #008080; text-decoration-color: #008080; font-weight: bold\">45.</span>4GB.\n",
       "</pre>\n"
      ],
      "text/plain": [
       "==> \u001b[1m[\u001b[0m\u001b[1;36m2023\u001b[0m-\u001b[1;36m09\u001b[0m-11_09-\u001b[1;36m05\u001b[0m-\u001b[1;36m39\u001b[0m\u001b[1m]\u001b[0m Finished Epoch \u001b[1;36m5\u001b[0m/\u001b[1;36m50\u001b[0m. \u001b[33mCPU\u001b[0m=\u001b[1;36m15\u001b[0m\u001b[1;36m.\u001b[0m5GB, \u001b[33mGPU\u001b[0m=\u001b[1;36m45\u001b[0m\u001b[1;36m.\u001b[0m4GB.\n"
      ]
     },
     "metadata": {},
     "output_type": "display_data"
    },
    {
     "data": {
      "text/html": [
       "<pre style=\"white-space:pre;overflow-x:auto;line-height:normal;font-family:Menlo,'DejaVu Sans Mono',consolas,'Courier New',monospace\">++&gt; Evaluate werewolf_big at epoch <span style=\"color: #008080; text-decoration-color: #008080; font-weight: bold\">5</span> <span style=\"color: #808000; text-decoration-color: #808000\">...</span>\n",
       "</pre>\n"
      ],
      "text/plain": [
       "++> Evaluate werewolf_big at epoch \u001b[1;36m5\u001b[0m \u001b[33m...\u001b[0m\n"
      ]
     },
     "metadata": {},
     "output_type": "display_data"
    },
    {
     "name": "stderr",
     "output_type": "stream",
     "text": [
      "loss=0.0000 (0.0000): : 100% 8/8 [00:00<00:00, 15.44it/s]\n"
     ]
    },
    {
     "data": {
      "text/html": [
       "<pre style=\"white-space:pre;overflow-x:auto;line-height:normal;font-family:Menlo,'DejaVu Sans Mono',consolas,'Courier New',monospace\">++&gt; Evaluate epoch <span style=\"color: #008080; text-decoration-color: #008080; font-weight: bold\">5</span> Finished.\n",
       "</pre>\n"
      ],
      "text/plain": [
       "++> Evaluate epoch \u001b[1;36m5\u001b[0m Finished.\n"
      ]
     },
     "metadata": {},
     "output_type": "display_data"
    },
    {
     "data": {
      "text/html": [
       "<pre style=\"white-space:pre;overflow-x:auto;line-height:normal;font-family:Menlo,'DejaVu Sans Mono',consolas,'Courier New',monospace\">==&gt; <span style=\"font-weight: bold\">[</span><span style=\"color: #008080; text-decoration-color: #008080; font-weight: bold\">2023</span>-<span style=\"color: #008080; text-decoration-color: #008080; font-weight: bold\">09</span>-11_09-<span style=\"color: #008080; text-decoration-color: #008080; font-weight: bold\">05</span>-<span style=\"color: #008080; text-decoration-color: #008080; font-weight: bold\">40</span><span style=\"font-weight: bold\">]</span> Start Training werewolf_big Epoch <span style=\"color: #008080; text-decoration-color: #008080; font-weight: bold\">6</span>/<span style=\"color: #008080; text-decoration-color: #008080; font-weight: bold\">50</span>, <span style=\"color: #808000; text-decoration-color: #808000\">lr</span>=<span style=\"color: #008080; text-decoration-color: #008080; font-weight: bold\">0.050000</span> <span style=\"color: #808000; text-decoration-color: #808000\">...</span>\n",
       "</pre>\n"
      ],
      "text/plain": [
       "==> \u001b[1m[\u001b[0m\u001b[1;36m2023\u001b[0m-\u001b[1;36m09\u001b[0m-11_09-\u001b[1;36m05\u001b[0m-\u001b[1;36m40\u001b[0m\u001b[1m]\u001b[0m Start Training werewolf_big Epoch \u001b[1;36m6\u001b[0m/\u001b[1;36m50\u001b[0m, \u001b[33mlr\u001b[0m=\u001b[1;36m0\u001b[0m\u001b[1;36m.050000\u001b[0m \u001b[33m...\u001b[0m\n"
      ]
     },
     "metadata": {},
     "output_type": "display_data"
    },
    {
     "name": "stderr",
     "output_type": "stream",
     "text": [
      "loss=9.0142 (18.7066), lr=0.050000: : 100% 1300/1300 [00:47<00:00, 27.12it/s] \n"
     ]
    },
    {
     "data": {
      "text/html": [
       "<pre style=\"white-space:pre;overflow-x:auto;line-height:normal;font-family:Menlo,'DejaVu Sans Mono',consolas,'Courier New',monospace\">==&gt; <span style=\"font-weight: bold\">[</span><span style=\"color: #008080; text-decoration-color: #008080; font-weight: bold\">2023</span>-<span style=\"color: #008080; text-decoration-color: #008080; font-weight: bold\">09</span>-11_09-<span style=\"color: #008080; text-decoration-color: #008080; font-weight: bold\">06</span>-<span style=\"color: #008080; text-decoration-color: #008080; font-weight: bold\">28</span><span style=\"font-weight: bold\">]</span> Finished Epoch <span style=\"color: #008080; text-decoration-color: #008080; font-weight: bold\">6</span>/<span style=\"color: #008080; text-decoration-color: #008080; font-weight: bold\">50</span>. <span style=\"color: #808000; text-decoration-color: #808000\">CPU</span>=<span style=\"color: #008080; text-decoration-color: #008080; font-weight: bold\">15.</span>5GB, <span style=\"color: #808000; text-decoration-color: #808000\">GPU</span>=<span style=\"color: #008080; text-decoration-color: #008080; font-weight: bold\">45.</span>4GB.\n",
       "</pre>\n"
      ],
      "text/plain": [
       "==> \u001b[1m[\u001b[0m\u001b[1;36m2023\u001b[0m-\u001b[1;36m09\u001b[0m-11_09-\u001b[1;36m06\u001b[0m-\u001b[1;36m28\u001b[0m\u001b[1m]\u001b[0m Finished Epoch \u001b[1;36m6\u001b[0m/\u001b[1;36m50\u001b[0m. \u001b[33mCPU\u001b[0m=\u001b[1;36m15\u001b[0m\u001b[1;36m.\u001b[0m5GB, \u001b[33mGPU\u001b[0m=\u001b[1;36m45\u001b[0m\u001b[1;36m.\u001b[0m4GB.\n"
      ]
     },
     "metadata": {},
     "output_type": "display_data"
    },
    {
     "data": {
      "text/html": [
       "<pre style=\"white-space:pre;overflow-x:auto;line-height:normal;font-family:Menlo,'DejaVu Sans Mono',consolas,'Courier New',monospace\">++&gt; Evaluate werewolf_big at epoch <span style=\"color: #008080; text-decoration-color: #008080; font-weight: bold\">6</span> <span style=\"color: #808000; text-decoration-color: #808000\">...</span>\n",
       "</pre>\n"
      ],
      "text/plain": [
       "++> Evaluate werewolf_big at epoch \u001b[1;36m6\u001b[0m \u001b[33m...\u001b[0m\n"
      ]
     },
     "metadata": {},
     "output_type": "display_data"
    },
    {
     "name": "stderr",
     "output_type": "stream",
     "text": [
      "loss=0.0000 (0.0000): : 100% 8/8 [00:00<00:00, 15.92it/s]\n"
     ]
    },
    {
     "data": {
      "text/html": [
       "<pre style=\"white-space:pre;overflow-x:auto;line-height:normal;font-family:Menlo,'DejaVu Sans Mono',consolas,'Courier New',monospace\">++&gt; Evaluate epoch <span style=\"color: #008080; text-decoration-color: #008080; font-weight: bold\">6</span> Finished.\n",
       "</pre>\n"
      ],
      "text/plain": [
       "++> Evaluate epoch \u001b[1;36m6\u001b[0m Finished.\n"
      ]
     },
     "metadata": {},
     "output_type": "display_data"
    },
    {
     "data": {
      "text/html": [
       "<pre style=\"white-space:pre;overflow-x:auto;line-height:normal;font-family:Menlo,'DejaVu Sans Mono',consolas,'Courier New',monospace\">==&gt; <span style=\"font-weight: bold\">[</span><span style=\"color: #008080; text-decoration-color: #008080; font-weight: bold\">2023</span>-<span style=\"color: #008080; text-decoration-color: #008080; font-weight: bold\">09</span>-11_09-<span style=\"color: #008080; text-decoration-color: #008080; font-weight: bold\">06</span>-<span style=\"color: #008080; text-decoration-color: #008080; font-weight: bold\">29</span><span style=\"font-weight: bold\">]</span> Start Training werewolf_big Epoch <span style=\"color: #008080; text-decoration-color: #008080; font-weight: bold\">7</span>/<span style=\"color: #008080; text-decoration-color: #008080; font-weight: bold\">50</span>, <span style=\"color: #808000; text-decoration-color: #808000\">lr</span>=<span style=\"color: #008080; text-decoration-color: #008080; font-weight: bold\">0.050000</span> <span style=\"color: #808000; text-decoration-color: #808000\">...</span>\n",
       "</pre>\n"
      ],
      "text/plain": [
       "==> \u001b[1m[\u001b[0m\u001b[1;36m2023\u001b[0m-\u001b[1;36m09\u001b[0m-11_09-\u001b[1;36m06\u001b[0m-\u001b[1;36m29\u001b[0m\u001b[1m]\u001b[0m Start Training werewolf_big Epoch \u001b[1;36m7\u001b[0m/\u001b[1;36m50\u001b[0m, \u001b[33mlr\u001b[0m=\u001b[1;36m0\u001b[0m\u001b[1;36m.050000\u001b[0m \u001b[33m...\u001b[0m\n"
      ]
     },
     "metadata": {},
     "output_type": "display_data"
    },
    {
     "name": "stderr",
     "output_type": "stream",
     "text": [
      "loss=9.8513 (17.6736), lr=0.050000: : 100% 1300/1300 [00:47<00:00, 27.10it/s] \n"
     ]
    },
    {
     "data": {
      "text/html": [
       "<pre style=\"white-space:pre;overflow-x:auto;line-height:normal;font-family:Menlo,'DejaVu Sans Mono',consolas,'Courier New',monospace\">==&gt; <span style=\"font-weight: bold\">[</span><span style=\"color: #008080; text-decoration-color: #008080; font-weight: bold\">2023</span>-<span style=\"color: #008080; text-decoration-color: #008080; font-weight: bold\">09</span>-11_09-<span style=\"color: #008080; text-decoration-color: #008080; font-weight: bold\">07</span>-<span style=\"color: #008080; text-decoration-color: #008080; font-weight: bold\">17</span><span style=\"font-weight: bold\">]</span> Finished Epoch <span style=\"color: #008080; text-decoration-color: #008080; font-weight: bold\">7</span>/<span style=\"color: #008080; text-decoration-color: #008080; font-weight: bold\">50</span>. <span style=\"color: #808000; text-decoration-color: #808000\">CPU</span>=<span style=\"color: #008080; text-decoration-color: #008080; font-weight: bold\">15.</span>5GB, <span style=\"color: #808000; text-decoration-color: #808000\">GPU</span>=<span style=\"color: #008080; text-decoration-color: #008080; font-weight: bold\">45.</span>4GB.\n",
       "</pre>\n"
      ],
      "text/plain": [
       "==> \u001b[1m[\u001b[0m\u001b[1;36m2023\u001b[0m-\u001b[1;36m09\u001b[0m-11_09-\u001b[1;36m07\u001b[0m-\u001b[1;36m17\u001b[0m\u001b[1m]\u001b[0m Finished Epoch \u001b[1;36m7\u001b[0m/\u001b[1;36m50\u001b[0m. \u001b[33mCPU\u001b[0m=\u001b[1;36m15\u001b[0m\u001b[1;36m.\u001b[0m5GB, \u001b[33mGPU\u001b[0m=\u001b[1;36m45\u001b[0m\u001b[1;36m.\u001b[0m4GB.\n"
      ]
     },
     "metadata": {},
     "output_type": "display_data"
    },
    {
     "data": {
      "text/html": [
       "<pre style=\"white-space:pre;overflow-x:auto;line-height:normal;font-family:Menlo,'DejaVu Sans Mono',consolas,'Courier New',monospace\">++&gt; Evaluate werewolf_big at epoch <span style=\"color: #008080; text-decoration-color: #008080; font-weight: bold\">7</span> <span style=\"color: #808000; text-decoration-color: #808000\">...</span>\n",
       "</pre>\n"
      ],
      "text/plain": [
       "++> Evaluate werewolf_big at epoch \u001b[1;36m7\u001b[0m \u001b[33m...\u001b[0m\n"
      ]
     },
     "metadata": {},
     "output_type": "display_data"
    },
    {
     "name": "stderr",
     "output_type": "stream",
     "text": [
      "loss=0.0000 (0.0000): : 100% 8/8 [00:00<00:00, 15.92it/s]\n"
     ]
    },
    {
     "data": {
      "text/html": [
       "<pre style=\"white-space:pre;overflow-x:auto;line-height:normal;font-family:Menlo,'DejaVu Sans Mono',consolas,'Courier New',monospace\">++&gt; Evaluate epoch <span style=\"color: #008080; text-decoration-color: #008080; font-weight: bold\">7</span> Finished.\n",
       "</pre>\n"
      ],
      "text/plain": [
       "++> Evaluate epoch \u001b[1;36m7\u001b[0m Finished.\n"
      ]
     },
     "metadata": {},
     "output_type": "display_data"
    },
    {
     "data": {
      "text/html": [
       "<pre style=\"white-space:pre;overflow-x:auto;line-height:normal;font-family:Menlo,'DejaVu Sans Mono',consolas,'Courier New',monospace\">==&gt; <span style=\"font-weight: bold\">[</span><span style=\"color: #008080; text-decoration-color: #008080; font-weight: bold\">2023</span>-<span style=\"color: #008080; text-decoration-color: #008080; font-weight: bold\">09</span>-11_09-<span style=\"color: #008080; text-decoration-color: #008080; font-weight: bold\">07</span>-<span style=\"color: #008080; text-decoration-color: #008080; font-weight: bold\">17</span><span style=\"font-weight: bold\">]</span> Start Training werewolf_big Epoch <span style=\"color: #008080; text-decoration-color: #008080; font-weight: bold\">8</span>/<span style=\"color: #008080; text-decoration-color: #008080; font-weight: bold\">50</span>, <span style=\"color: #808000; text-decoration-color: #808000\">lr</span>=<span style=\"color: #008080; text-decoration-color: #008080; font-weight: bold\">0.050000</span> <span style=\"color: #808000; text-decoration-color: #808000\">...</span>\n",
       "</pre>\n"
      ],
      "text/plain": [
       "==> \u001b[1m[\u001b[0m\u001b[1;36m2023\u001b[0m-\u001b[1;36m09\u001b[0m-11_09-\u001b[1;36m07\u001b[0m-\u001b[1;36m17\u001b[0m\u001b[1m]\u001b[0m Start Training werewolf_big Epoch \u001b[1;36m8\u001b[0m/\u001b[1;36m50\u001b[0m, \u001b[33mlr\u001b[0m=\u001b[1;36m0\u001b[0m\u001b[1;36m.050000\u001b[0m \u001b[33m...\u001b[0m\n"
      ]
     },
     "metadata": {},
     "output_type": "display_data"
    },
    {
     "name": "stderr",
     "output_type": "stream",
     "text": [
      "loss=12.2134 (20.1638), lr=0.050000: : 100% 1300/1300 [00:47<00:00, 27.13it/s]\n"
     ]
    },
    {
     "data": {
      "text/html": [
       "<pre style=\"white-space:pre;overflow-x:auto;line-height:normal;font-family:Menlo,'DejaVu Sans Mono',consolas,'Courier New',monospace\">==&gt; <span style=\"font-weight: bold\">[</span><span style=\"color: #008080; text-decoration-color: #008080; font-weight: bold\">2023</span>-<span style=\"color: #008080; text-decoration-color: #008080; font-weight: bold\">09</span>-11_09-<span style=\"color: #008080; text-decoration-color: #008080; font-weight: bold\">08</span>-<span style=\"color: #008080; text-decoration-color: #008080; font-weight: bold\">05</span><span style=\"font-weight: bold\">]</span> Finished Epoch <span style=\"color: #008080; text-decoration-color: #008080; font-weight: bold\">8</span>/<span style=\"color: #008080; text-decoration-color: #008080; font-weight: bold\">50</span>. <span style=\"color: #808000; text-decoration-color: #808000\">CPU</span>=<span style=\"color: #008080; text-decoration-color: #008080; font-weight: bold\">15.</span>5GB, <span style=\"color: #808000; text-decoration-color: #808000\">GPU</span>=<span style=\"color: #008080; text-decoration-color: #008080; font-weight: bold\">45.</span>4GB.\n",
       "</pre>\n"
      ],
      "text/plain": [
       "==> \u001b[1m[\u001b[0m\u001b[1;36m2023\u001b[0m-\u001b[1;36m09\u001b[0m-11_09-\u001b[1;36m08\u001b[0m-\u001b[1;36m05\u001b[0m\u001b[1m]\u001b[0m Finished Epoch \u001b[1;36m8\u001b[0m/\u001b[1;36m50\u001b[0m. \u001b[33mCPU\u001b[0m=\u001b[1;36m15\u001b[0m\u001b[1;36m.\u001b[0m5GB, \u001b[33mGPU\u001b[0m=\u001b[1;36m45\u001b[0m\u001b[1;36m.\u001b[0m4GB.\n"
      ]
     },
     "metadata": {},
     "output_type": "display_data"
    },
    {
     "data": {
      "text/html": [
       "<pre style=\"white-space:pre;overflow-x:auto;line-height:normal;font-family:Menlo,'DejaVu Sans Mono',consolas,'Courier New',monospace\">++&gt; Evaluate werewolf_big at epoch <span style=\"color: #008080; text-decoration-color: #008080; font-weight: bold\">8</span> <span style=\"color: #808000; text-decoration-color: #808000\">...</span>\n",
       "</pre>\n"
      ],
      "text/plain": [
       "++> Evaluate werewolf_big at epoch \u001b[1;36m8\u001b[0m \u001b[33m...\u001b[0m\n"
      ]
     },
     "metadata": {},
     "output_type": "display_data"
    },
    {
     "name": "stderr",
     "output_type": "stream",
     "text": [
      "loss=0.0000 (0.0000): : 100% 8/8 [00:00<00:00, 15.89it/s]\n"
     ]
    },
    {
     "data": {
      "text/html": [
       "<pre style=\"white-space:pre;overflow-x:auto;line-height:normal;font-family:Menlo,'DejaVu Sans Mono',consolas,'Courier New',monospace\">++&gt; Evaluate epoch <span style=\"color: #008080; text-decoration-color: #008080; font-weight: bold\">8</span> Finished.\n",
       "</pre>\n"
      ],
      "text/plain": [
       "++> Evaluate epoch \u001b[1;36m8\u001b[0m Finished.\n"
      ]
     },
     "metadata": {},
     "output_type": "display_data"
    },
    {
     "data": {
      "text/html": [
       "<pre style=\"white-space:pre;overflow-x:auto;line-height:normal;font-family:Menlo,'DejaVu Sans Mono',consolas,'Courier New',monospace\">==&gt; <span style=\"font-weight: bold\">[</span><span style=\"color: #008080; text-decoration-color: #008080; font-weight: bold\">2023</span>-<span style=\"color: #008080; text-decoration-color: #008080; font-weight: bold\">09</span>-11_09-<span style=\"color: #008080; text-decoration-color: #008080; font-weight: bold\">08</span>-<span style=\"color: #008080; text-decoration-color: #008080; font-weight: bold\">06</span><span style=\"font-weight: bold\">]</span> Start Training werewolf_big Epoch <span style=\"color: #008080; text-decoration-color: #008080; font-weight: bold\">9</span>/<span style=\"color: #008080; text-decoration-color: #008080; font-weight: bold\">50</span>, <span style=\"color: #808000; text-decoration-color: #808000\">lr</span>=<span style=\"color: #008080; text-decoration-color: #008080; font-weight: bold\">0.050000</span> <span style=\"color: #808000; text-decoration-color: #808000\">...</span>\n",
       "</pre>\n"
      ],
      "text/plain": [
       "==> \u001b[1m[\u001b[0m\u001b[1;36m2023\u001b[0m-\u001b[1;36m09\u001b[0m-11_09-\u001b[1;36m08\u001b[0m-\u001b[1;36m06\u001b[0m\u001b[1m]\u001b[0m Start Training werewolf_big Epoch \u001b[1;36m9\u001b[0m/\u001b[1;36m50\u001b[0m, \u001b[33mlr\u001b[0m=\u001b[1;36m0\u001b[0m\u001b[1;36m.050000\u001b[0m \u001b[33m...\u001b[0m\n"
      ]
     },
     "metadata": {},
     "output_type": "display_data"
    },
    {
     "name": "stderr",
     "output_type": "stream",
     "text": [
      "loss=12.9387 (20.9947), lr=0.050000: : 100% 1300/1300 [00:48<00:00, 26.78it/s]\n"
     ]
    },
    {
     "data": {
      "text/html": [
       "<pre style=\"white-space:pre;overflow-x:auto;line-height:normal;font-family:Menlo,'DejaVu Sans Mono',consolas,'Courier New',monospace\">==&gt; <span style=\"font-weight: bold\">[</span><span style=\"color: #008080; text-decoration-color: #008080; font-weight: bold\">2023</span>-<span style=\"color: #008080; text-decoration-color: #008080; font-weight: bold\">09</span>-11_09-<span style=\"color: #008080; text-decoration-color: #008080; font-weight: bold\">08</span>-<span style=\"color: #008080; text-decoration-color: #008080; font-weight: bold\">55</span><span style=\"font-weight: bold\">]</span> Finished Epoch <span style=\"color: #008080; text-decoration-color: #008080; font-weight: bold\">9</span>/<span style=\"color: #008080; text-decoration-color: #008080; font-weight: bold\">50</span>. <span style=\"color: #808000; text-decoration-color: #808000\">CPU</span>=<span style=\"color: #008080; text-decoration-color: #008080; font-weight: bold\">3.</span>7GB, <span style=\"color: #808000; text-decoration-color: #808000\">GPU</span>=<span style=\"color: #008080; text-decoration-color: #008080; font-weight: bold\">45.</span>4GB.\n",
       "</pre>\n"
      ],
      "text/plain": [
       "==> \u001b[1m[\u001b[0m\u001b[1;36m2023\u001b[0m-\u001b[1;36m09\u001b[0m-11_09-\u001b[1;36m08\u001b[0m-\u001b[1;36m55\u001b[0m\u001b[1m]\u001b[0m Finished Epoch \u001b[1;36m9\u001b[0m/\u001b[1;36m50\u001b[0m. \u001b[33mCPU\u001b[0m=\u001b[1;36m3\u001b[0m\u001b[1;36m.\u001b[0m7GB, \u001b[33mGPU\u001b[0m=\u001b[1;36m45\u001b[0m\u001b[1;36m.\u001b[0m4GB.\n"
      ]
     },
     "metadata": {},
     "output_type": "display_data"
    },
    {
     "data": {
      "text/html": [
       "<pre style=\"white-space:pre;overflow-x:auto;line-height:normal;font-family:Menlo,'DejaVu Sans Mono',consolas,'Courier New',monospace\">++&gt; Evaluate werewolf_big at epoch <span style=\"color: #008080; text-decoration-color: #008080; font-weight: bold\">9</span> <span style=\"color: #808000; text-decoration-color: #808000\">...</span>\n",
       "</pre>\n"
      ],
      "text/plain": [
       "++> Evaluate werewolf_big at epoch \u001b[1;36m9\u001b[0m \u001b[33m...\u001b[0m\n"
      ]
     },
     "metadata": {},
     "output_type": "display_data"
    },
    {
     "name": "stderr",
     "output_type": "stream",
     "text": [
      "loss=0.0000 (0.0000): : 100% 8/8 [00:00<00:00, 16.17it/s]\n"
     ]
    },
    {
     "data": {
      "text/html": [
       "<pre style=\"white-space:pre;overflow-x:auto;line-height:normal;font-family:Menlo,'DejaVu Sans Mono',consolas,'Courier New',monospace\">++&gt; Evaluate epoch <span style=\"color: #008080; text-decoration-color: #008080; font-weight: bold\">9</span> Finished.\n",
       "</pre>\n"
      ],
      "text/plain": [
       "++> Evaluate epoch \u001b[1;36m9\u001b[0m Finished.\n"
      ]
     },
     "metadata": {},
     "output_type": "display_data"
    },
    {
     "data": {
      "text/html": [
       "<pre style=\"white-space:pre;overflow-x:auto;line-height:normal;font-family:Menlo,'DejaVu Sans Mono',consolas,'Courier New',monospace\">==&gt; <span style=\"font-weight: bold\">[</span><span style=\"color: #008080; text-decoration-color: #008080; font-weight: bold\">2023</span>-<span style=\"color: #008080; text-decoration-color: #008080; font-weight: bold\">09</span>-11_09-<span style=\"color: #008080; text-decoration-color: #008080; font-weight: bold\">08</span>-<span style=\"color: #008080; text-decoration-color: #008080; font-weight: bold\">56</span><span style=\"font-weight: bold\">]</span> Start Training werewolf_big Epoch <span style=\"color: #008080; text-decoration-color: #008080; font-weight: bold\">10</span>/<span style=\"color: #008080; text-decoration-color: #008080; font-weight: bold\">50</span>, <span style=\"color: #808000; text-decoration-color: #808000\">lr</span>=<span style=\"color: #008080; text-decoration-color: #008080; font-weight: bold\">0.050000</span> <span style=\"color: #808000; text-decoration-color: #808000\">...</span>\n",
       "</pre>\n"
      ],
      "text/plain": [
       "==> \u001b[1m[\u001b[0m\u001b[1;36m2023\u001b[0m-\u001b[1;36m09\u001b[0m-11_09-\u001b[1;36m08\u001b[0m-\u001b[1;36m56\u001b[0m\u001b[1m]\u001b[0m Start Training werewolf_big Epoch \u001b[1;36m10\u001b[0m/\u001b[1;36m50\u001b[0m, \u001b[33mlr\u001b[0m=\u001b[1;36m0\u001b[0m\u001b[1;36m.050000\u001b[0m \u001b[33m...\u001b[0m\n"
      ]
     },
     "metadata": {},
     "output_type": "display_data"
    },
    {
     "name": "stderr",
     "output_type": "stream",
     "text": [
      "loss=21.5637 (22.4104), lr=0.050000: : 100% 1300/1300 [00:48<00:00, 27.07it/s]\n"
     ]
    },
    {
     "data": {
      "text/html": [
       "<pre style=\"white-space:pre;overflow-x:auto;line-height:normal;font-family:Menlo,'DejaVu Sans Mono',consolas,'Courier New',monospace\">==&gt; <span style=\"font-weight: bold\">[</span><span style=\"color: #008080; text-decoration-color: #008080; font-weight: bold\">2023</span>-<span style=\"color: #008080; text-decoration-color: #008080; font-weight: bold\">09</span>-11_09-<span style=\"color: #008080; text-decoration-color: #008080; font-weight: bold\">09</span>-<span style=\"color: #008080; text-decoration-color: #008080; font-weight: bold\">44</span><span style=\"font-weight: bold\">]</span> Finished Epoch <span style=\"color: #008080; text-decoration-color: #008080; font-weight: bold\">10</span>/<span style=\"color: #008080; text-decoration-color: #008080; font-weight: bold\">50</span>. <span style=\"color: #808000; text-decoration-color: #808000\">CPU</span>=<span style=\"color: #008080; text-decoration-color: #008080; font-weight: bold\">3.</span>9GB, <span style=\"color: #808000; text-decoration-color: #808000\">GPU</span>=<span style=\"color: #008080; text-decoration-color: #008080; font-weight: bold\">45.</span>4GB.\n",
       "</pre>\n"
      ],
      "text/plain": [
       "==> \u001b[1m[\u001b[0m\u001b[1;36m2023\u001b[0m-\u001b[1;36m09\u001b[0m-11_09-\u001b[1;36m09\u001b[0m-\u001b[1;36m44\u001b[0m\u001b[1m]\u001b[0m Finished Epoch \u001b[1;36m10\u001b[0m/\u001b[1;36m50\u001b[0m. \u001b[33mCPU\u001b[0m=\u001b[1;36m3\u001b[0m\u001b[1;36m.\u001b[0m9GB, \u001b[33mGPU\u001b[0m=\u001b[1;36m45\u001b[0m\u001b[1;36m.\u001b[0m4GB.\n"
      ]
     },
     "metadata": {},
     "output_type": "display_data"
    },
    {
     "data": {
      "text/html": [
       "<pre style=\"white-space:pre;overflow-x:auto;line-height:normal;font-family:Menlo,'DejaVu Sans Mono',consolas,'Courier New',monospace\">++&gt; Evaluate werewolf_big at epoch <span style=\"color: #008080; text-decoration-color: #008080; font-weight: bold\">10</span> <span style=\"color: #808000; text-decoration-color: #808000\">...</span>\n",
       "</pre>\n"
      ],
      "text/plain": [
       "++> Evaluate werewolf_big at epoch \u001b[1;36m10\u001b[0m \u001b[33m...\u001b[0m\n"
      ]
     },
     "metadata": {},
     "output_type": "display_data"
    },
    {
     "name": "stderr",
     "output_type": "stream",
     "text": [
      "loss=0.0000 (0.0000): : 100% 8/8 [00:00<00:00, 16.02it/s]\n"
     ]
    },
    {
     "data": {
      "text/html": [
       "<pre style=\"white-space:pre;overflow-x:auto;line-height:normal;font-family:Menlo,'DejaVu Sans Mono',consolas,'Courier New',monospace\">++&gt; Evaluate epoch <span style=\"color: #008080; text-decoration-color: #008080; font-weight: bold\">10</span> Finished.\n",
       "</pre>\n"
      ],
      "text/plain": [
       "++> Evaluate epoch \u001b[1;36m10\u001b[0m Finished.\n"
      ]
     },
     "metadata": {},
     "output_type": "display_data"
    },
    {
     "data": {
      "text/html": [
       "<pre style=\"white-space:pre;overflow-x:auto;line-height:normal;font-family:Menlo,'DejaVu Sans Mono',consolas,'Courier New',monospace\">==&gt; Start Test, save results to werewolf_big/results\n",
       "</pre>\n"
      ],
      "text/plain": [
       "==> Start Test, save results to werewolf_big/results\n"
      ]
     },
     "metadata": {},
     "output_type": "display_data"
    },
    {
     "name": "stderr",
     "output_type": "stream",
     "text": [
      " 99% 99/100 [00:04<00:00, 21.44it/s]"
     ]
    },
    {
     "data": {
      "text/html": [
       "<pre style=\"white-space:pre;overflow-x:auto;line-height:normal;font-family:Menlo,'DejaVu Sans Mono',consolas,'Courier New',monospace\">==&gt; Finished Test.\n",
       "</pre>\n"
      ],
      "text/plain": [
       "==> Finished Test.\n"
      ]
     },
     "metadata": {},
     "output_type": "display_data"
    },
    {
     "name": "stderr",
     "output_type": "stream",
     "text": [
      "100% 100/100 [00:07<00:00, 14.13it/s]\n"
     ]
    },
    {
     "data": {
      "text/html": [
       "<pre style=\"white-space:pre;overflow-x:auto;line-height:normal;font-family:Menlo,'DejaVu Sans Mono',consolas,'Courier New',monospace\">==&gt; <span style=\"font-weight: bold\">[</span><span style=\"color: #008080; text-decoration-color: #008080; font-weight: bold\">2023</span>-<span style=\"color: #008080; text-decoration-color: #008080; font-weight: bold\">09</span>-11_09-<span style=\"color: #008080; text-decoration-color: #008080; font-weight: bold\">09</span>-<span style=\"color: #008080; text-decoration-color: #008080; font-weight: bold\">52</span><span style=\"font-weight: bold\">]</span> Start Training werewolf_big Epoch <span style=\"color: #008080; text-decoration-color: #008080; font-weight: bold\">11</span>/<span style=\"color: #008080; text-decoration-color: #008080; font-weight: bold\">50</span>, <span style=\"color: #808000; text-decoration-color: #808000\">lr</span>=<span style=\"color: #008080; text-decoration-color: #008080; font-weight: bold\">0.050000</span> <span style=\"color: #808000; text-decoration-color: #808000\">...</span>\n",
       "</pre>\n"
      ],
      "text/plain": [
       "==> \u001b[1m[\u001b[0m\u001b[1;36m2023\u001b[0m-\u001b[1;36m09\u001b[0m-11_09-\u001b[1;36m09\u001b[0m-\u001b[1;36m52\u001b[0m\u001b[1m]\u001b[0m Start Training werewolf_big Epoch \u001b[1;36m11\u001b[0m/\u001b[1;36m50\u001b[0m, \u001b[33mlr\u001b[0m=\u001b[1;36m0\u001b[0m\u001b[1;36m.050000\u001b[0m \u001b[33m...\u001b[0m\n"
      ]
     },
     "metadata": {},
     "output_type": "display_data"
    },
    {
     "name": "stderr",
     "output_type": "stream",
     "text": [
      "loss=9.7545 (25.5793), lr=0.050000: : 100% 1300/1300 [00:47<00:00, 27.11it/s]  \n"
     ]
    },
    {
     "data": {
      "text/html": [
       "<pre style=\"white-space:pre;overflow-x:auto;line-height:normal;font-family:Menlo,'DejaVu Sans Mono',consolas,'Courier New',monospace\">==&gt; <span style=\"font-weight: bold\">[</span><span style=\"color: #008080; text-decoration-color: #008080; font-weight: bold\">2023</span>-<span style=\"color: #008080; text-decoration-color: #008080; font-weight: bold\">09</span>-11_09-<span style=\"color: #008080; text-decoration-color: #008080; font-weight: bold\">10</span>-<span style=\"color: #008080; text-decoration-color: #008080; font-weight: bold\">40</span><span style=\"font-weight: bold\">]</span> Finished Epoch <span style=\"color: #008080; text-decoration-color: #008080; font-weight: bold\">11</span>/<span style=\"color: #008080; text-decoration-color: #008080; font-weight: bold\">50</span>. <span style=\"color: #808000; text-decoration-color: #808000\">CPU</span>=<span style=\"color: #008080; text-decoration-color: #008080; font-weight: bold\">4.</span>3GB, <span style=\"color: #808000; text-decoration-color: #808000\">GPU</span>=<span style=\"color: #008080; text-decoration-color: #008080; font-weight: bold\">45.</span>4GB.\n",
       "</pre>\n"
      ],
      "text/plain": [
       "==> \u001b[1m[\u001b[0m\u001b[1;36m2023\u001b[0m-\u001b[1;36m09\u001b[0m-11_09-\u001b[1;36m10\u001b[0m-\u001b[1;36m40\u001b[0m\u001b[1m]\u001b[0m Finished Epoch \u001b[1;36m11\u001b[0m/\u001b[1;36m50\u001b[0m. \u001b[33mCPU\u001b[0m=\u001b[1;36m4\u001b[0m\u001b[1;36m.\u001b[0m3GB, \u001b[33mGPU\u001b[0m=\u001b[1;36m45\u001b[0m\u001b[1;36m.\u001b[0m4GB.\n"
      ]
     },
     "metadata": {},
     "output_type": "display_data"
    },
    {
     "data": {
      "text/html": [
       "<pre style=\"white-space:pre;overflow-x:auto;line-height:normal;font-family:Menlo,'DejaVu Sans Mono',consolas,'Courier New',monospace\">++&gt; Evaluate werewolf_big at epoch <span style=\"color: #008080; text-decoration-color: #008080; font-weight: bold\">11</span> <span style=\"color: #808000; text-decoration-color: #808000\">...</span>\n",
       "</pre>\n"
      ],
      "text/plain": [
       "++> Evaluate werewolf_big at epoch \u001b[1;36m11\u001b[0m \u001b[33m...\u001b[0m\n"
      ]
     },
     "metadata": {},
     "output_type": "display_data"
    },
    {
     "name": "stderr",
     "output_type": "stream",
     "text": [
      "loss=0.0000 (0.0000): : 100% 8/8 [00:00<00:00, 16.53it/s]\n"
     ]
    },
    {
     "data": {
      "text/html": [
       "<pre style=\"white-space:pre;overflow-x:auto;line-height:normal;font-family:Menlo,'DejaVu Sans Mono',consolas,'Courier New',monospace\">++&gt; Evaluate epoch <span style=\"color: #008080; text-decoration-color: #008080; font-weight: bold\">11</span> Finished.\n",
       "</pre>\n"
      ],
      "text/plain": [
       "++> Evaluate epoch \u001b[1;36m11\u001b[0m Finished.\n"
      ]
     },
     "metadata": {},
     "output_type": "display_data"
    },
    {
     "data": {
      "text/html": [
       "<pre style=\"white-space:pre;overflow-x:auto;line-height:normal;font-family:Menlo,'DejaVu Sans Mono',consolas,'Courier New',monospace\">==&gt; <span style=\"font-weight: bold\">[</span><span style=\"color: #008080; text-decoration-color: #008080; font-weight: bold\">2023</span>-<span style=\"color: #008080; text-decoration-color: #008080; font-weight: bold\">09</span>-11_09-<span style=\"color: #008080; text-decoration-color: #008080; font-weight: bold\">10</span>-<span style=\"color: #008080; text-decoration-color: #008080; font-weight: bold\">41</span><span style=\"font-weight: bold\">]</span> Start Training werewolf_big Epoch <span style=\"color: #008080; text-decoration-color: #008080; font-weight: bold\">12</span>/<span style=\"color: #008080; text-decoration-color: #008080; font-weight: bold\">50</span>, <span style=\"color: #808000; text-decoration-color: #808000\">lr</span>=<span style=\"color: #008080; text-decoration-color: #008080; font-weight: bold\">0.050000</span> <span style=\"color: #808000; text-decoration-color: #808000\">...</span>\n",
       "</pre>\n"
      ],
      "text/plain": [
       "==> \u001b[1m[\u001b[0m\u001b[1;36m2023\u001b[0m-\u001b[1;36m09\u001b[0m-11_09-\u001b[1;36m10\u001b[0m-\u001b[1;36m41\u001b[0m\u001b[1m]\u001b[0m Start Training werewolf_big Epoch \u001b[1;36m12\u001b[0m/\u001b[1;36m50\u001b[0m, \u001b[33mlr\u001b[0m=\u001b[1;36m0\u001b[0m\u001b[1;36m.050000\u001b[0m \u001b[33m...\u001b[0m\n"
      ]
     },
     "metadata": {},
     "output_type": "display_data"
    },
    {
     "name": "stderr",
     "output_type": "stream",
     "text": [
      "loss=44.1637 (29.0054), lr=0.050000: : 100% 1300/1300 [00:48<00:00, 26.94it/s]\n"
     ]
    },
    {
     "data": {
      "text/html": [
       "<pre style=\"white-space:pre;overflow-x:auto;line-height:normal;font-family:Menlo,'DejaVu Sans Mono',consolas,'Courier New',monospace\">==&gt; <span style=\"font-weight: bold\">[</span><span style=\"color: #008080; text-decoration-color: #008080; font-weight: bold\">2023</span>-<span style=\"color: #008080; text-decoration-color: #008080; font-weight: bold\">09</span>-11_09-<span style=\"color: #008080; text-decoration-color: #008080; font-weight: bold\">11</span>-<span style=\"color: #008080; text-decoration-color: #008080; font-weight: bold\">29</span><span style=\"font-weight: bold\">]</span> Finished Epoch <span style=\"color: #008080; text-decoration-color: #008080; font-weight: bold\">12</span>/<span style=\"color: #008080; text-decoration-color: #008080; font-weight: bold\">50</span>. <span style=\"color: #808000; text-decoration-color: #808000\">CPU</span>=<span style=\"color: #008080; text-decoration-color: #008080; font-weight: bold\">4.</span>3GB, <span style=\"color: #808000; text-decoration-color: #808000\">GPU</span>=<span style=\"color: #008080; text-decoration-color: #008080; font-weight: bold\">45.</span>4GB.\n",
       "</pre>\n"
      ],
      "text/plain": [
       "==> \u001b[1m[\u001b[0m\u001b[1;36m2023\u001b[0m-\u001b[1;36m09\u001b[0m-11_09-\u001b[1;36m11\u001b[0m-\u001b[1;36m29\u001b[0m\u001b[1m]\u001b[0m Finished Epoch \u001b[1;36m12\u001b[0m/\u001b[1;36m50\u001b[0m. \u001b[33mCPU\u001b[0m=\u001b[1;36m4\u001b[0m\u001b[1;36m.\u001b[0m3GB, \u001b[33mGPU\u001b[0m=\u001b[1;36m45\u001b[0m\u001b[1;36m.\u001b[0m4GB.\n"
      ]
     },
     "metadata": {},
     "output_type": "display_data"
    },
    {
     "data": {
      "text/html": [
       "<pre style=\"white-space:pre;overflow-x:auto;line-height:normal;font-family:Menlo,'DejaVu Sans Mono',consolas,'Courier New',monospace\">++&gt; Evaluate werewolf_big at epoch <span style=\"color: #008080; text-decoration-color: #008080; font-weight: bold\">12</span> <span style=\"color: #808000; text-decoration-color: #808000\">...</span>\n",
       "</pre>\n"
      ],
      "text/plain": [
       "++> Evaluate werewolf_big at epoch \u001b[1;36m12\u001b[0m \u001b[33m...\u001b[0m\n"
      ]
     },
     "metadata": {},
     "output_type": "display_data"
    },
    {
     "name": "stderr",
     "output_type": "stream",
     "text": [
      "loss=0.0000 (0.0000): : 100% 8/8 [00:00<00:00, 16.50it/s]\n"
     ]
    },
    {
     "data": {
      "text/html": [
       "<pre style=\"white-space:pre;overflow-x:auto;line-height:normal;font-family:Menlo,'DejaVu Sans Mono',consolas,'Courier New',monospace\">++&gt; Evaluate epoch <span style=\"color: #008080; text-decoration-color: #008080; font-weight: bold\">12</span> Finished.\n",
       "</pre>\n"
      ],
      "text/plain": [
       "++> Evaluate epoch \u001b[1;36m12\u001b[0m Finished.\n"
      ]
     },
     "metadata": {},
     "output_type": "display_data"
    },
    {
     "data": {
      "text/html": [
       "<pre style=\"white-space:pre;overflow-x:auto;line-height:normal;font-family:Menlo,'DejaVu Sans Mono',consolas,'Courier New',monospace\">==&gt; <span style=\"font-weight: bold\">[</span><span style=\"color: #008080; text-decoration-color: #008080; font-weight: bold\">2023</span>-<span style=\"color: #008080; text-decoration-color: #008080; font-weight: bold\">09</span>-11_09-<span style=\"color: #008080; text-decoration-color: #008080; font-weight: bold\">11</span>-<span style=\"color: #008080; text-decoration-color: #008080; font-weight: bold\">30</span><span style=\"font-weight: bold\">]</span> Start Training werewolf_big Epoch <span style=\"color: #008080; text-decoration-color: #008080; font-weight: bold\">13</span>/<span style=\"color: #008080; text-decoration-color: #008080; font-weight: bold\">50</span>, <span style=\"color: #808000; text-decoration-color: #808000\">lr</span>=<span style=\"color: #008080; text-decoration-color: #008080; font-weight: bold\">0.050000</span> <span style=\"color: #808000; text-decoration-color: #808000\">...</span>\n",
       "</pre>\n"
      ],
      "text/plain": [
       "==> \u001b[1m[\u001b[0m\u001b[1;36m2023\u001b[0m-\u001b[1;36m09\u001b[0m-11_09-\u001b[1;36m11\u001b[0m-\u001b[1;36m30\u001b[0m\u001b[1m]\u001b[0m Start Training werewolf_big Epoch \u001b[1;36m13\u001b[0m/\u001b[1;36m50\u001b[0m, \u001b[33mlr\u001b[0m=\u001b[1;36m0\u001b[0m\u001b[1;36m.050000\u001b[0m \u001b[33m...\u001b[0m\n"
      ]
     },
     "metadata": {},
     "output_type": "display_data"
    },
    {
     "name": "stderr",
     "output_type": "stream",
     "text": [
      "loss=13.6279 (29.3121), lr=0.050000: : 100% 1300/1300 [00:48<00:00, 26.95it/s]\n"
     ]
    },
    {
     "data": {
      "text/html": [
       "<pre style=\"white-space:pre;overflow-x:auto;line-height:normal;font-family:Menlo,'DejaVu Sans Mono',consolas,'Courier New',monospace\">==&gt; <span style=\"font-weight: bold\">[</span><span style=\"color: #008080; text-decoration-color: #008080; font-weight: bold\">2023</span>-<span style=\"color: #008080; text-decoration-color: #008080; font-weight: bold\">09</span>-11_09-<span style=\"color: #008080; text-decoration-color: #008080; font-weight: bold\">12</span>-<span style=\"color: #008080; text-decoration-color: #008080; font-weight: bold\">18</span><span style=\"font-weight: bold\">]</span> Finished Epoch <span style=\"color: #008080; text-decoration-color: #008080; font-weight: bold\">13</span>/<span style=\"color: #008080; text-decoration-color: #008080; font-weight: bold\">50</span>. <span style=\"color: #808000; text-decoration-color: #808000\">CPU</span>=<span style=\"color: #008080; text-decoration-color: #008080; font-weight: bold\">4.</span>3GB, <span style=\"color: #808000; text-decoration-color: #808000\">GPU</span>=<span style=\"color: #008080; text-decoration-color: #008080; font-weight: bold\">45.</span>4GB.\n",
       "</pre>\n"
      ],
      "text/plain": [
       "==> \u001b[1m[\u001b[0m\u001b[1;36m2023\u001b[0m-\u001b[1;36m09\u001b[0m-11_09-\u001b[1;36m12\u001b[0m-\u001b[1;36m18\u001b[0m\u001b[1m]\u001b[0m Finished Epoch \u001b[1;36m13\u001b[0m/\u001b[1;36m50\u001b[0m. \u001b[33mCPU\u001b[0m=\u001b[1;36m4\u001b[0m\u001b[1;36m.\u001b[0m3GB, \u001b[33mGPU\u001b[0m=\u001b[1;36m45\u001b[0m\u001b[1;36m.\u001b[0m4GB.\n"
      ]
     },
     "metadata": {},
     "output_type": "display_data"
    },
    {
     "data": {
      "text/html": [
       "<pre style=\"white-space:pre;overflow-x:auto;line-height:normal;font-family:Menlo,'DejaVu Sans Mono',consolas,'Courier New',monospace\">++&gt; Evaluate werewolf_big at epoch <span style=\"color: #008080; text-decoration-color: #008080; font-weight: bold\">13</span> <span style=\"color: #808000; text-decoration-color: #808000\">...</span>\n",
       "</pre>\n"
      ],
      "text/plain": [
       "++> Evaluate werewolf_big at epoch \u001b[1;36m13\u001b[0m \u001b[33m...\u001b[0m\n"
      ]
     },
     "metadata": {},
     "output_type": "display_data"
    },
    {
     "name": "stderr",
     "output_type": "stream",
     "text": [
      "loss=0.0000 (0.0000): : 100% 8/8 [00:00<00:00, 16.18it/s]\n"
     ]
    },
    {
     "data": {
      "text/html": [
       "<pre style=\"white-space:pre;overflow-x:auto;line-height:normal;font-family:Menlo,'DejaVu Sans Mono',consolas,'Courier New',monospace\">++&gt; Evaluate epoch <span style=\"color: #008080; text-decoration-color: #008080; font-weight: bold\">13</span> Finished.\n",
       "</pre>\n"
      ],
      "text/plain": [
       "++> Evaluate epoch \u001b[1;36m13\u001b[0m Finished.\n"
      ]
     },
     "metadata": {},
     "output_type": "display_data"
    },
    {
     "data": {
      "text/html": [
       "<pre style=\"white-space:pre;overflow-x:auto;line-height:normal;font-family:Menlo,'DejaVu Sans Mono',consolas,'Courier New',monospace\">==&gt; <span style=\"font-weight: bold\">[</span><span style=\"color: #008080; text-decoration-color: #008080; font-weight: bold\">2023</span>-<span style=\"color: #008080; text-decoration-color: #008080; font-weight: bold\">09</span>-11_09-<span style=\"color: #008080; text-decoration-color: #008080; font-weight: bold\">12</span>-<span style=\"color: #008080; text-decoration-color: #008080; font-weight: bold\">19</span><span style=\"font-weight: bold\">]</span> Start Training werewolf_big Epoch <span style=\"color: #008080; text-decoration-color: #008080; font-weight: bold\">14</span>/<span style=\"color: #008080; text-decoration-color: #008080; font-weight: bold\">50</span>, <span style=\"color: #808000; text-decoration-color: #808000\">lr</span>=<span style=\"color: #008080; text-decoration-color: #008080; font-weight: bold\">0.050000</span> <span style=\"color: #808000; text-decoration-color: #808000\">...</span>\n",
       "</pre>\n"
      ],
      "text/plain": [
       "==> \u001b[1m[\u001b[0m\u001b[1;36m2023\u001b[0m-\u001b[1;36m09\u001b[0m-11_09-\u001b[1;36m12\u001b[0m-\u001b[1;36m19\u001b[0m\u001b[1m]\u001b[0m Start Training werewolf_big Epoch \u001b[1;36m14\u001b[0m/\u001b[1;36m50\u001b[0m, \u001b[33mlr\u001b[0m=\u001b[1;36m0\u001b[0m\u001b[1;36m.050000\u001b[0m \u001b[33m...\u001b[0m\n"
      ]
     },
     "metadata": {},
     "output_type": "display_data"
    },
    {
     "name": "stderr",
     "output_type": "stream",
     "text": [
      "loss=15.6549 (32.3113), lr=0.050000: : 100% 1300/1300 [00:48<00:00, 26.90it/s]\n"
     ]
    },
    {
     "data": {
      "text/html": [
       "<pre style=\"white-space:pre;overflow-x:auto;line-height:normal;font-family:Menlo,'DejaVu Sans Mono',consolas,'Courier New',monospace\">==&gt; <span style=\"font-weight: bold\">[</span><span style=\"color: #008080; text-decoration-color: #008080; font-weight: bold\">2023</span>-<span style=\"color: #008080; text-decoration-color: #008080; font-weight: bold\">09</span>-11_09-<span style=\"color: #008080; text-decoration-color: #008080; font-weight: bold\">13</span>-<span style=\"color: #008080; text-decoration-color: #008080; font-weight: bold\">07</span><span style=\"font-weight: bold\">]</span> Finished Epoch <span style=\"color: #008080; text-decoration-color: #008080; font-weight: bold\">14</span>/<span style=\"color: #008080; text-decoration-color: #008080; font-weight: bold\">50</span>. <span style=\"color: #808000; text-decoration-color: #808000\">CPU</span>=<span style=\"color: #008080; text-decoration-color: #008080; font-weight: bold\">4.</span>3GB, <span style=\"color: #808000; text-decoration-color: #808000\">GPU</span>=<span style=\"color: #008080; text-decoration-color: #008080; font-weight: bold\">45.</span>4GB.\n",
       "</pre>\n"
      ],
      "text/plain": [
       "==> \u001b[1m[\u001b[0m\u001b[1;36m2023\u001b[0m-\u001b[1;36m09\u001b[0m-11_09-\u001b[1;36m13\u001b[0m-\u001b[1;36m07\u001b[0m\u001b[1m]\u001b[0m Finished Epoch \u001b[1;36m14\u001b[0m/\u001b[1;36m50\u001b[0m. \u001b[33mCPU\u001b[0m=\u001b[1;36m4\u001b[0m\u001b[1;36m.\u001b[0m3GB, \u001b[33mGPU\u001b[0m=\u001b[1;36m45\u001b[0m\u001b[1;36m.\u001b[0m4GB.\n"
      ]
     },
     "metadata": {},
     "output_type": "display_data"
    },
    {
     "data": {
      "text/html": [
       "<pre style=\"white-space:pre;overflow-x:auto;line-height:normal;font-family:Menlo,'DejaVu Sans Mono',consolas,'Courier New',monospace\">++&gt; Evaluate werewolf_big at epoch <span style=\"color: #008080; text-decoration-color: #008080; font-weight: bold\">14</span> <span style=\"color: #808000; text-decoration-color: #808000\">...</span>\n",
       "</pre>\n"
      ],
      "text/plain": [
       "++> Evaluate werewolf_big at epoch \u001b[1;36m14\u001b[0m \u001b[33m...\u001b[0m\n"
      ]
     },
     "metadata": {},
     "output_type": "display_data"
    },
    {
     "name": "stderr",
     "output_type": "stream",
     "text": [
      "loss=0.0000 (0.0000): : 100% 8/8 [00:00<00:00, 16.30it/s]\n"
     ]
    },
    {
     "data": {
      "text/html": [
       "<pre style=\"white-space:pre;overflow-x:auto;line-height:normal;font-family:Menlo,'DejaVu Sans Mono',consolas,'Courier New',monospace\">++&gt; Evaluate epoch <span style=\"color: #008080; text-decoration-color: #008080; font-weight: bold\">14</span> Finished.\n",
       "</pre>\n"
      ],
      "text/plain": [
       "++> Evaluate epoch \u001b[1;36m14\u001b[0m Finished.\n"
      ]
     },
     "metadata": {},
     "output_type": "display_data"
    },
    {
     "data": {
      "text/html": [
       "<pre style=\"white-space:pre;overflow-x:auto;line-height:normal;font-family:Menlo,'DejaVu Sans Mono',consolas,'Courier New',monospace\">==&gt; <span style=\"font-weight: bold\">[</span><span style=\"color: #008080; text-decoration-color: #008080; font-weight: bold\">2023</span>-<span style=\"color: #008080; text-decoration-color: #008080; font-weight: bold\">09</span>-11_09-<span style=\"color: #008080; text-decoration-color: #008080; font-weight: bold\">13</span>-<span style=\"color: #008080; text-decoration-color: #008080; font-weight: bold\">08</span><span style=\"font-weight: bold\">]</span> Start Training werewolf_big Epoch <span style=\"color: #008080; text-decoration-color: #008080; font-weight: bold\">15</span>/<span style=\"color: #008080; text-decoration-color: #008080; font-weight: bold\">50</span>, <span style=\"color: #808000; text-decoration-color: #808000\">lr</span>=<span style=\"color: #008080; text-decoration-color: #008080; font-weight: bold\">0.050000</span> <span style=\"color: #808000; text-decoration-color: #808000\">...</span>\n",
       "</pre>\n"
      ],
      "text/plain": [
       "==> \u001b[1m[\u001b[0m\u001b[1;36m2023\u001b[0m-\u001b[1;36m09\u001b[0m-11_09-\u001b[1;36m13\u001b[0m-\u001b[1;36m08\u001b[0m\u001b[1m]\u001b[0m Start Training werewolf_big Epoch \u001b[1;36m15\u001b[0m/\u001b[1;36m50\u001b[0m, \u001b[33mlr\u001b[0m=\u001b[1;36m0\u001b[0m\u001b[1;36m.050000\u001b[0m \u001b[33m...\u001b[0m\n"
      ]
     },
     "metadata": {},
     "output_type": "display_data"
    },
    {
     "name": "stderr",
     "output_type": "stream",
     "text": [
      "loss=9.9860 (35.1709), lr=0.050000: : 100% 1300/1300 [00:48<00:00, 26.72it/s] \n"
     ]
    },
    {
     "data": {
      "text/html": [
       "<pre style=\"white-space:pre;overflow-x:auto;line-height:normal;font-family:Menlo,'DejaVu Sans Mono',consolas,'Courier New',monospace\">==&gt; <span style=\"font-weight: bold\">[</span><span style=\"color: #008080; text-decoration-color: #008080; font-weight: bold\">2023</span>-<span style=\"color: #008080; text-decoration-color: #008080; font-weight: bold\">09</span>-11_09-<span style=\"color: #008080; text-decoration-color: #008080; font-weight: bold\">13</span>-<span style=\"color: #008080; text-decoration-color: #008080; font-weight: bold\">57</span><span style=\"font-weight: bold\">]</span> Finished Epoch <span style=\"color: #008080; text-decoration-color: #008080; font-weight: bold\">15</span>/<span style=\"color: #008080; text-decoration-color: #008080; font-weight: bold\">50</span>. <span style=\"color: #808000; text-decoration-color: #808000\">CPU</span>=<span style=\"color: #008080; text-decoration-color: #008080; font-weight: bold\">4.</span>3GB, <span style=\"color: #808000; text-decoration-color: #808000\">GPU</span>=<span style=\"color: #008080; text-decoration-color: #008080; font-weight: bold\">45.</span>4GB.\n",
       "</pre>\n"
      ],
      "text/plain": [
       "==> \u001b[1m[\u001b[0m\u001b[1;36m2023\u001b[0m-\u001b[1;36m09\u001b[0m-11_09-\u001b[1;36m13\u001b[0m-\u001b[1;36m57\u001b[0m\u001b[1m]\u001b[0m Finished Epoch \u001b[1;36m15\u001b[0m/\u001b[1;36m50\u001b[0m. \u001b[33mCPU\u001b[0m=\u001b[1;36m4\u001b[0m\u001b[1;36m.\u001b[0m3GB, \u001b[33mGPU\u001b[0m=\u001b[1;36m45\u001b[0m\u001b[1;36m.\u001b[0m4GB.\n"
      ]
     },
     "metadata": {},
     "output_type": "display_data"
    },
    {
     "data": {
      "text/html": [
       "<pre style=\"white-space:pre;overflow-x:auto;line-height:normal;font-family:Menlo,'DejaVu Sans Mono',consolas,'Courier New',monospace\">++&gt; Evaluate werewolf_big at epoch <span style=\"color: #008080; text-decoration-color: #008080; font-weight: bold\">15</span> <span style=\"color: #808000; text-decoration-color: #808000\">...</span>\n",
       "</pre>\n"
      ],
      "text/plain": [
       "++> Evaluate werewolf_big at epoch \u001b[1;36m15\u001b[0m \u001b[33m...\u001b[0m\n"
      ]
     },
     "metadata": {},
     "output_type": "display_data"
    },
    {
     "name": "stderr",
     "output_type": "stream",
     "text": [
      "loss=0.0000 (0.0000): : 100% 8/8 [00:00<00:00, 16.49it/s]\n"
     ]
    },
    {
     "data": {
      "text/html": [
       "<pre style=\"white-space:pre;overflow-x:auto;line-height:normal;font-family:Menlo,'DejaVu Sans Mono',consolas,'Courier New',monospace\">++&gt; Evaluate epoch <span style=\"color: #008080; text-decoration-color: #008080; font-weight: bold\">15</span> Finished.\n",
       "</pre>\n"
      ],
      "text/plain": [
       "++> Evaluate epoch \u001b[1;36m15\u001b[0m Finished.\n"
      ]
     },
     "metadata": {},
     "output_type": "display_data"
    },
    {
     "data": {
      "text/html": [
       "<pre style=\"white-space:pre;overflow-x:auto;line-height:normal;font-family:Menlo,'DejaVu Sans Mono',consolas,'Courier New',monospace\">==&gt; <span style=\"font-weight: bold\">[</span><span style=\"color: #008080; text-decoration-color: #008080; font-weight: bold\">2023</span>-<span style=\"color: #008080; text-decoration-color: #008080; font-weight: bold\">09</span>-11_09-<span style=\"color: #008080; text-decoration-color: #008080; font-weight: bold\">13</span>-<span style=\"color: #008080; text-decoration-color: #008080; font-weight: bold\">58</span><span style=\"font-weight: bold\">]</span> Start Training werewolf_big Epoch <span style=\"color: #008080; text-decoration-color: #008080; font-weight: bold\">16</span>/<span style=\"color: #008080; text-decoration-color: #008080; font-weight: bold\">50</span>, <span style=\"color: #808000; text-decoration-color: #808000\">lr</span>=<span style=\"color: #008080; text-decoration-color: #008080; font-weight: bold\">0.050000</span> <span style=\"color: #808000; text-decoration-color: #808000\">...</span>\n",
       "</pre>\n"
      ],
      "text/plain": [
       "==> \u001b[1m[\u001b[0m\u001b[1;36m2023\u001b[0m-\u001b[1;36m09\u001b[0m-11_09-\u001b[1;36m13\u001b[0m-\u001b[1;36m58\u001b[0m\u001b[1m]\u001b[0m Start Training werewolf_big Epoch \u001b[1;36m16\u001b[0m/\u001b[1;36m50\u001b[0m, \u001b[33mlr\u001b[0m=\u001b[1;36m0\u001b[0m\u001b[1;36m.050000\u001b[0m \u001b[33m...\u001b[0m\n"
      ]
     },
     "metadata": {},
     "output_type": "display_data"
    },
    {
     "name": "stderr",
     "output_type": "stream",
     "text": [
      "loss=14.7917 (35.6277), lr=0.050000: : 100% 1300/1300 [00:48<00:00, 26.68it/s]\n"
     ]
    },
    {
     "data": {
      "text/html": [
       "<pre style=\"white-space:pre;overflow-x:auto;line-height:normal;font-family:Menlo,'DejaVu Sans Mono',consolas,'Courier New',monospace\">==&gt; <span style=\"font-weight: bold\">[</span><span style=\"color: #008080; text-decoration-color: #008080; font-weight: bold\">2023</span>-<span style=\"color: #008080; text-decoration-color: #008080; font-weight: bold\">09</span>-11_09-<span style=\"color: #008080; text-decoration-color: #008080; font-weight: bold\">14</span>-<span style=\"color: #008080; text-decoration-color: #008080; font-weight: bold\">46</span><span style=\"font-weight: bold\">]</span> Finished Epoch <span style=\"color: #008080; text-decoration-color: #008080; font-weight: bold\">16</span>/<span style=\"color: #008080; text-decoration-color: #008080; font-weight: bold\">50</span>. <span style=\"color: #808000; text-decoration-color: #808000\">CPU</span>=<span style=\"color: #008080; text-decoration-color: #008080; font-weight: bold\">4.</span>3GB, <span style=\"color: #808000; text-decoration-color: #808000\">GPU</span>=<span style=\"color: #008080; text-decoration-color: #008080; font-weight: bold\">45.</span>4GB.\n",
       "</pre>\n"
      ],
      "text/plain": [
       "==> \u001b[1m[\u001b[0m\u001b[1;36m2023\u001b[0m-\u001b[1;36m09\u001b[0m-11_09-\u001b[1;36m14\u001b[0m-\u001b[1;36m46\u001b[0m\u001b[1m]\u001b[0m Finished Epoch \u001b[1;36m16\u001b[0m/\u001b[1;36m50\u001b[0m. \u001b[33mCPU\u001b[0m=\u001b[1;36m4\u001b[0m\u001b[1;36m.\u001b[0m3GB, \u001b[33mGPU\u001b[0m=\u001b[1;36m45\u001b[0m\u001b[1;36m.\u001b[0m4GB.\n"
      ]
     },
     "metadata": {},
     "output_type": "display_data"
    },
    {
     "data": {
      "text/html": [
       "<pre style=\"white-space:pre;overflow-x:auto;line-height:normal;font-family:Menlo,'DejaVu Sans Mono',consolas,'Courier New',monospace\">++&gt; Evaluate werewolf_big at epoch <span style=\"color: #008080; text-decoration-color: #008080; font-weight: bold\">16</span> <span style=\"color: #808000; text-decoration-color: #808000\">...</span>\n",
       "</pre>\n"
      ],
      "text/plain": [
       "++> Evaluate werewolf_big at epoch \u001b[1;36m16\u001b[0m \u001b[33m...\u001b[0m\n"
      ]
     },
     "metadata": {},
     "output_type": "display_data"
    },
    {
     "name": "stderr",
     "output_type": "stream",
     "text": [
      "loss=0.0000 (0.0000): : 100% 8/8 [00:00<00:00, 16.91it/s]\n"
     ]
    },
    {
     "data": {
      "text/html": [
       "<pre style=\"white-space:pre;overflow-x:auto;line-height:normal;font-family:Menlo,'DejaVu Sans Mono',consolas,'Courier New',monospace\">++&gt; Evaluate epoch <span style=\"color: #008080; text-decoration-color: #008080; font-weight: bold\">16</span> Finished.\n",
       "</pre>\n"
      ],
      "text/plain": [
       "++> Evaluate epoch \u001b[1;36m16\u001b[0m Finished.\n"
      ]
     },
     "metadata": {},
     "output_type": "display_data"
    },
    {
     "data": {
      "text/html": [
       "<pre style=\"white-space:pre;overflow-x:auto;line-height:normal;font-family:Menlo,'DejaVu Sans Mono',consolas,'Courier New',monospace\">==&gt; <span style=\"font-weight: bold\">[</span><span style=\"color: #008080; text-decoration-color: #008080; font-weight: bold\">2023</span>-<span style=\"color: #008080; text-decoration-color: #008080; font-weight: bold\">09</span>-11_09-<span style=\"color: #008080; text-decoration-color: #008080; font-weight: bold\">14</span>-<span style=\"color: #008080; text-decoration-color: #008080; font-weight: bold\">47</span><span style=\"font-weight: bold\">]</span> Start Training werewolf_big Epoch <span style=\"color: #008080; text-decoration-color: #008080; font-weight: bold\">17</span>/<span style=\"color: #008080; text-decoration-color: #008080; font-weight: bold\">50</span>, <span style=\"color: #808000; text-decoration-color: #808000\">lr</span>=<span style=\"color: #008080; text-decoration-color: #008080; font-weight: bold\">0.050000</span> <span style=\"color: #808000; text-decoration-color: #808000\">...</span>\n",
       "</pre>\n"
      ],
      "text/plain": [
       "==> \u001b[1m[\u001b[0m\u001b[1;36m2023\u001b[0m-\u001b[1;36m09\u001b[0m-11_09-\u001b[1;36m14\u001b[0m-\u001b[1;36m47\u001b[0m\u001b[1m]\u001b[0m Start Training werewolf_big Epoch \u001b[1;36m17\u001b[0m/\u001b[1;36m50\u001b[0m, \u001b[33mlr\u001b[0m=\u001b[1;36m0\u001b[0m\u001b[1;36m.050000\u001b[0m \u001b[33m...\u001b[0m\n"
      ]
     },
     "metadata": {},
     "output_type": "display_data"
    },
    {
     "name": "stderr",
     "output_type": "stream",
     "text": [
      "loss=17.9401 (40.0331), lr=0.050000: : 100% 1300/1300 [00:48<00:00, 26.63it/s]\n"
     ]
    },
    {
     "data": {
      "text/html": [
       "<pre style=\"white-space:pre;overflow-x:auto;line-height:normal;font-family:Menlo,'DejaVu Sans Mono',consolas,'Courier New',monospace\">==&gt; <span style=\"font-weight: bold\">[</span><span style=\"color: #008080; text-decoration-color: #008080; font-weight: bold\">2023</span>-<span style=\"color: #008080; text-decoration-color: #008080; font-weight: bold\">09</span>-11_09-<span style=\"color: #008080; text-decoration-color: #008080; font-weight: bold\">15</span>-<span style=\"color: #008080; text-decoration-color: #008080; font-weight: bold\">36</span><span style=\"font-weight: bold\">]</span> Finished Epoch <span style=\"color: #008080; text-decoration-color: #008080; font-weight: bold\">17</span>/<span style=\"color: #008080; text-decoration-color: #008080; font-weight: bold\">50</span>. <span style=\"color: #808000; text-decoration-color: #808000\">CPU</span>=<span style=\"color: #008080; text-decoration-color: #008080; font-weight: bold\">3.</span>7GB, <span style=\"color: #808000; text-decoration-color: #808000\">GPU</span>=<span style=\"color: #008080; text-decoration-color: #008080; font-weight: bold\">45.</span>4GB.\n",
       "</pre>\n"
      ],
      "text/plain": [
       "==> \u001b[1m[\u001b[0m\u001b[1;36m2023\u001b[0m-\u001b[1;36m09\u001b[0m-11_09-\u001b[1;36m15\u001b[0m-\u001b[1;36m36\u001b[0m\u001b[1m]\u001b[0m Finished Epoch \u001b[1;36m17\u001b[0m/\u001b[1;36m50\u001b[0m. \u001b[33mCPU\u001b[0m=\u001b[1;36m3\u001b[0m\u001b[1;36m.\u001b[0m7GB, \u001b[33mGPU\u001b[0m=\u001b[1;36m45\u001b[0m\u001b[1;36m.\u001b[0m4GB.\n"
      ]
     },
     "metadata": {},
     "output_type": "display_data"
    },
    {
     "data": {
      "text/html": [
       "<pre style=\"white-space:pre;overflow-x:auto;line-height:normal;font-family:Menlo,'DejaVu Sans Mono',consolas,'Courier New',monospace\">++&gt; Evaluate werewolf_big at epoch <span style=\"color: #008080; text-decoration-color: #008080; font-weight: bold\">17</span> <span style=\"color: #808000; text-decoration-color: #808000\">...</span>\n",
       "</pre>\n"
      ],
      "text/plain": [
       "++> Evaluate werewolf_big at epoch \u001b[1;36m17\u001b[0m \u001b[33m...\u001b[0m\n"
      ]
     },
     "metadata": {},
     "output_type": "display_data"
    },
    {
     "name": "stderr",
     "output_type": "stream",
     "text": [
      "loss=0.0000 (0.0000): : 100% 8/8 [00:00<00:00, 16.25it/s]\n"
     ]
    },
    {
     "data": {
      "text/html": [
       "<pre style=\"white-space:pre;overflow-x:auto;line-height:normal;font-family:Menlo,'DejaVu Sans Mono',consolas,'Courier New',monospace\">++&gt; Evaluate epoch <span style=\"color: #008080; text-decoration-color: #008080; font-weight: bold\">17</span> Finished.\n",
       "</pre>\n"
      ],
      "text/plain": [
       "++> Evaluate epoch \u001b[1;36m17\u001b[0m Finished.\n"
      ]
     },
     "metadata": {},
     "output_type": "display_data"
    },
    {
     "data": {
      "text/html": [
       "<pre style=\"white-space:pre;overflow-x:auto;line-height:normal;font-family:Menlo,'DejaVu Sans Mono',consolas,'Courier New',monospace\">==&gt; <span style=\"font-weight: bold\">[</span><span style=\"color: #008080; text-decoration-color: #008080; font-weight: bold\">2023</span>-<span style=\"color: #008080; text-decoration-color: #008080; font-weight: bold\">09</span>-11_09-<span style=\"color: #008080; text-decoration-color: #008080; font-weight: bold\">15</span>-<span style=\"color: #008080; text-decoration-color: #008080; font-weight: bold\">37</span><span style=\"font-weight: bold\">]</span> Start Training werewolf_big Epoch <span style=\"color: #008080; text-decoration-color: #008080; font-weight: bold\">18</span>/<span style=\"color: #008080; text-decoration-color: #008080; font-weight: bold\">50</span>, <span style=\"color: #808000; text-decoration-color: #808000\">lr</span>=<span style=\"color: #008080; text-decoration-color: #008080; font-weight: bold\">0.050000</span> <span style=\"color: #808000; text-decoration-color: #808000\">...</span>\n",
       "</pre>\n"
      ],
      "text/plain": [
       "==> \u001b[1m[\u001b[0m\u001b[1;36m2023\u001b[0m-\u001b[1;36m09\u001b[0m-11_09-\u001b[1;36m15\u001b[0m-\u001b[1;36m37\u001b[0m\u001b[1m]\u001b[0m Start Training werewolf_big Epoch \u001b[1;36m18\u001b[0m/\u001b[1;36m50\u001b[0m, \u001b[33mlr\u001b[0m=\u001b[1;36m0\u001b[0m\u001b[1;36m.050000\u001b[0m \u001b[33m...\u001b[0m\n"
      ]
     },
     "metadata": {},
     "output_type": "display_data"
    },
    {
     "name": "stderr",
     "output_type": "stream",
     "text": [
      "loss=14.2354 (40.6376), lr=0.050000: : 100% 1300/1300 [00:48<00:00, 26.56it/s] \n"
     ]
    },
    {
     "data": {
      "text/html": [
       "<pre style=\"white-space:pre;overflow-x:auto;line-height:normal;font-family:Menlo,'DejaVu Sans Mono',consolas,'Courier New',monospace\">==&gt; <span style=\"font-weight: bold\">[</span><span style=\"color: #008080; text-decoration-color: #008080; font-weight: bold\">2023</span>-<span style=\"color: #008080; text-decoration-color: #008080; font-weight: bold\">09</span>-11_09-<span style=\"color: #008080; text-decoration-color: #008080; font-weight: bold\">16</span>-<span style=\"color: #008080; text-decoration-color: #008080; font-weight: bold\">26</span><span style=\"font-weight: bold\">]</span> Finished Epoch <span style=\"color: #008080; text-decoration-color: #008080; font-weight: bold\">18</span>/<span style=\"color: #008080; text-decoration-color: #008080; font-weight: bold\">50</span>. <span style=\"color: #808000; text-decoration-color: #808000\">CPU</span>=<span style=\"color: #008080; text-decoration-color: #008080; font-weight: bold\">3.</span>9GB, <span style=\"color: #808000; text-decoration-color: #808000\">GPU</span>=<span style=\"color: #008080; text-decoration-color: #008080; font-weight: bold\">45.</span>4GB.\n",
       "</pre>\n"
      ],
      "text/plain": [
       "==> \u001b[1m[\u001b[0m\u001b[1;36m2023\u001b[0m-\u001b[1;36m09\u001b[0m-11_09-\u001b[1;36m16\u001b[0m-\u001b[1;36m26\u001b[0m\u001b[1m]\u001b[0m Finished Epoch \u001b[1;36m18\u001b[0m/\u001b[1;36m50\u001b[0m. \u001b[33mCPU\u001b[0m=\u001b[1;36m3\u001b[0m\u001b[1;36m.\u001b[0m9GB, \u001b[33mGPU\u001b[0m=\u001b[1;36m45\u001b[0m\u001b[1;36m.\u001b[0m4GB.\n"
      ]
     },
     "metadata": {},
     "output_type": "display_data"
    },
    {
     "data": {
      "text/html": [
       "<pre style=\"white-space:pre;overflow-x:auto;line-height:normal;font-family:Menlo,'DejaVu Sans Mono',consolas,'Courier New',monospace\">++&gt; Evaluate werewolf_big at epoch <span style=\"color: #008080; text-decoration-color: #008080; font-weight: bold\">18</span> <span style=\"color: #808000; text-decoration-color: #808000\">...</span>\n",
       "</pre>\n"
      ],
      "text/plain": [
       "++> Evaluate werewolf_big at epoch \u001b[1;36m18\u001b[0m \u001b[33m...\u001b[0m\n"
      ]
     },
     "metadata": {},
     "output_type": "display_data"
    },
    {
     "name": "stderr",
     "output_type": "stream",
     "text": [
      "loss=0.0000 (0.0000): : 100% 8/8 [00:00<00:00, 17.07it/s]\n"
     ]
    },
    {
     "data": {
      "text/html": [
       "<pre style=\"white-space:pre;overflow-x:auto;line-height:normal;font-family:Menlo,'DejaVu Sans Mono',consolas,'Courier New',monospace\">++&gt; Evaluate epoch <span style=\"color: #008080; text-decoration-color: #008080; font-weight: bold\">18</span> Finished.\n",
       "</pre>\n"
      ],
      "text/plain": [
       "++> Evaluate epoch \u001b[1;36m18\u001b[0m Finished.\n"
      ]
     },
     "metadata": {},
     "output_type": "display_data"
    },
    {
     "data": {
      "text/html": [
       "<pre style=\"white-space:pre;overflow-x:auto;line-height:normal;font-family:Menlo,'DejaVu Sans Mono',consolas,'Courier New',monospace\">==&gt; <span style=\"font-weight: bold\">[</span><span style=\"color: #008080; text-decoration-color: #008080; font-weight: bold\">2023</span>-<span style=\"color: #008080; text-decoration-color: #008080; font-weight: bold\">09</span>-11_09-<span style=\"color: #008080; text-decoration-color: #008080; font-weight: bold\">16</span>-<span style=\"color: #008080; text-decoration-color: #008080; font-weight: bold\">27</span><span style=\"font-weight: bold\">]</span> Start Training werewolf_big Epoch <span style=\"color: #008080; text-decoration-color: #008080; font-weight: bold\">19</span>/<span style=\"color: #008080; text-decoration-color: #008080; font-weight: bold\">50</span>, <span style=\"color: #808000; text-decoration-color: #808000\">lr</span>=<span style=\"color: #008080; text-decoration-color: #008080; font-weight: bold\">0.050000</span> <span style=\"color: #808000; text-decoration-color: #808000\">...</span>\n",
       "</pre>\n"
      ],
      "text/plain": [
       "==> \u001b[1m[\u001b[0m\u001b[1;36m2023\u001b[0m-\u001b[1;36m09\u001b[0m-11_09-\u001b[1;36m16\u001b[0m-\u001b[1;36m27\u001b[0m\u001b[1m]\u001b[0m Start Training werewolf_big Epoch \u001b[1;36m19\u001b[0m/\u001b[1;36m50\u001b[0m, \u001b[33mlr\u001b[0m=\u001b[1;36m0\u001b[0m\u001b[1;36m.050000\u001b[0m \u001b[33m...\u001b[0m\n"
      ]
     },
     "metadata": {},
     "output_type": "display_data"
    },
    {
     "name": "stderr",
     "output_type": "stream",
     "text": [
      "loss=14.3397 (44.3939), lr=0.050000: : 100% 1300/1300 [00:48<00:00, 26.63it/s]\n"
     ]
    },
    {
     "data": {
      "text/html": [
       "<pre style=\"white-space:pre;overflow-x:auto;line-height:normal;font-family:Menlo,'DejaVu Sans Mono',consolas,'Courier New',monospace\">==&gt; <span style=\"font-weight: bold\">[</span><span style=\"color: #008080; text-decoration-color: #008080; font-weight: bold\">2023</span>-<span style=\"color: #008080; text-decoration-color: #008080; font-weight: bold\">09</span>-11_09-<span style=\"color: #008080; text-decoration-color: #008080; font-weight: bold\">17</span>-<span style=\"color: #008080; text-decoration-color: #008080; font-weight: bold\">16</span><span style=\"font-weight: bold\">]</span> Finished Epoch <span style=\"color: #008080; text-decoration-color: #008080; font-weight: bold\">19</span>/<span style=\"color: #008080; text-decoration-color: #008080; font-weight: bold\">50</span>. <span style=\"color: #808000; text-decoration-color: #808000\">CPU</span>=<span style=\"color: #008080; text-decoration-color: #008080; font-weight: bold\">3.</span>9GB, <span style=\"color: #808000; text-decoration-color: #808000\">GPU</span>=<span style=\"color: #008080; text-decoration-color: #008080; font-weight: bold\">45.</span>4GB.\n",
       "</pre>\n"
      ],
      "text/plain": [
       "==> \u001b[1m[\u001b[0m\u001b[1;36m2023\u001b[0m-\u001b[1;36m09\u001b[0m-11_09-\u001b[1;36m17\u001b[0m-\u001b[1;36m16\u001b[0m\u001b[1m]\u001b[0m Finished Epoch \u001b[1;36m19\u001b[0m/\u001b[1;36m50\u001b[0m. \u001b[33mCPU\u001b[0m=\u001b[1;36m3\u001b[0m\u001b[1;36m.\u001b[0m9GB, \u001b[33mGPU\u001b[0m=\u001b[1;36m45\u001b[0m\u001b[1;36m.\u001b[0m4GB.\n"
      ]
     },
     "metadata": {},
     "output_type": "display_data"
    },
    {
     "data": {
      "text/html": [
       "<pre style=\"white-space:pre;overflow-x:auto;line-height:normal;font-family:Menlo,'DejaVu Sans Mono',consolas,'Courier New',monospace\">++&gt; Evaluate werewolf_big at epoch <span style=\"color: #008080; text-decoration-color: #008080; font-weight: bold\">19</span> <span style=\"color: #808000; text-decoration-color: #808000\">...</span>\n",
       "</pre>\n"
      ],
      "text/plain": [
       "++> Evaluate werewolf_big at epoch \u001b[1;36m19\u001b[0m \u001b[33m...\u001b[0m\n"
      ]
     },
     "metadata": {},
     "output_type": "display_data"
    },
    {
     "name": "stderr",
     "output_type": "stream",
     "text": [
      "loss=0.0000 (0.0000): : 100% 8/8 [00:00<00:00, 17.15it/s]\n"
     ]
    },
    {
     "data": {
      "text/html": [
       "<pre style=\"white-space:pre;overflow-x:auto;line-height:normal;font-family:Menlo,'DejaVu Sans Mono',consolas,'Courier New',monospace\">++&gt; Evaluate epoch <span style=\"color: #008080; text-decoration-color: #008080; font-weight: bold\">19</span> Finished.\n",
       "</pre>\n"
      ],
      "text/plain": [
       "++> Evaluate epoch \u001b[1;36m19\u001b[0m Finished.\n"
      ]
     },
     "metadata": {},
     "output_type": "display_data"
    },
    {
     "data": {
      "text/html": [
       "<pre style=\"white-space:pre;overflow-x:auto;line-height:normal;font-family:Menlo,'DejaVu Sans Mono',consolas,'Courier New',monospace\">==&gt; <span style=\"font-weight: bold\">[</span><span style=\"color: #008080; text-decoration-color: #008080; font-weight: bold\">2023</span>-<span style=\"color: #008080; text-decoration-color: #008080; font-weight: bold\">09</span>-11_09-<span style=\"color: #008080; text-decoration-color: #008080; font-weight: bold\">17</span>-<span style=\"color: #008080; text-decoration-color: #008080; font-weight: bold\">17</span><span style=\"font-weight: bold\">]</span> Start Training werewolf_big Epoch <span style=\"color: #008080; text-decoration-color: #008080; font-weight: bold\">20</span>/<span style=\"color: #008080; text-decoration-color: #008080; font-weight: bold\">50</span>, <span style=\"color: #808000; text-decoration-color: #808000\">lr</span>=<span style=\"color: #008080; text-decoration-color: #008080; font-weight: bold\">0.050000</span> <span style=\"color: #808000; text-decoration-color: #808000\">...</span>\n",
       "</pre>\n"
      ],
      "text/plain": [
       "==> \u001b[1m[\u001b[0m\u001b[1;36m2023\u001b[0m-\u001b[1;36m09\u001b[0m-11_09-\u001b[1;36m17\u001b[0m-\u001b[1;36m17\u001b[0m\u001b[1m]\u001b[0m Start Training werewolf_big Epoch \u001b[1;36m20\u001b[0m/\u001b[1;36m50\u001b[0m, \u001b[33mlr\u001b[0m=\u001b[1;36m0\u001b[0m\u001b[1;36m.050000\u001b[0m \u001b[33m...\u001b[0m\n"
      ]
     },
     "metadata": {},
     "output_type": "display_data"
    },
    {
     "name": "stderr",
     "output_type": "stream",
     "text": [
      "loss=23.2971 (49.5397), lr=0.050000: : 100% 1300/1300 [00:48<00:00, 26.59it/s] \n"
     ]
    },
    {
     "data": {
      "text/html": [
       "<pre style=\"white-space:pre;overflow-x:auto;line-height:normal;font-family:Menlo,'DejaVu Sans Mono',consolas,'Courier New',monospace\">==&gt; <span style=\"font-weight: bold\">[</span><span style=\"color: #008080; text-decoration-color: #008080; font-weight: bold\">2023</span>-<span style=\"color: #008080; text-decoration-color: #008080; font-weight: bold\">09</span>-11_09-<span style=\"color: #008080; text-decoration-color: #008080; font-weight: bold\">18</span>-<span style=\"color: #008080; text-decoration-color: #008080; font-weight: bold\">05</span><span style=\"font-weight: bold\">]</span> Finished Epoch <span style=\"color: #008080; text-decoration-color: #008080; font-weight: bold\">20</span>/<span style=\"color: #008080; text-decoration-color: #008080; font-weight: bold\">50</span>. <span style=\"color: #808000; text-decoration-color: #808000\">CPU</span>=<span style=\"color: #008080; text-decoration-color: #008080; font-weight: bold\">3.</span>9GB, <span style=\"color: #808000; text-decoration-color: #808000\">GPU</span>=<span style=\"color: #008080; text-decoration-color: #008080; font-weight: bold\">45.</span>4GB.\n",
       "</pre>\n"
      ],
      "text/plain": [
       "==> \u001b[1m[\u001b[0m\u001b[1;36m2023\u001b[0m-\u001b[1;36m09\u001b[0m-11_09-\u001b[1;36m18\u001b[0m-\u001b[1;36m05\u001b[0m\u001b[1m]\u001b[0m Finished Epoch \u001b[1;36m20\u001b[0m/\u001b[1;36m50\u001b[0m. \u001b[33mCPU\u001b[0m=\u001b[1;36m3\u001b[0m\u001b[1;36m.\u001b[0m9GB, \u001b[33mGPU\u001b[0m=\u001b[1;36m45\u001b[0m\u001b[1;36m.\u001b[0m4GB.\n"
      ]
     },
     "metadata": {},
     "output_type": "display_data"
    },
    {
     "data": {
      "text/html": [
       "<pre style=\"white-space:pre;overflow-x:auto;line-height:normal;font-family:Menlo,'DejaVu Sans Mono',consolas,'Courier New',monospace\">++&gt; Evaluate werewolf_big at epoch <span style=\"color: #008080; text-decoration-color: #008080; font-weight: bold\">20</span> <span style=\"color: #808000; text-decoration-color: #808000\">...</span>\n",
       "</pre>\n"
      ],
      "text/plain": [
       "++> Evaluate werewolf_big at epoch \u001b[1;36m20\u001b[0m \u001b[33m...\u001b[0m\n"
      ]
     },
     "metadata": {},
     "output_type": "display_data"
    },
    {
     "name": "stderr",
     "output_type": "stream",
     "text": [
      "loss=0.0000 (0.0000): : 100% 8/8 [00:00<00:00, 16.77it/s]\n"
     ]
    },
    {
     "data": {
      "text/html": [
       "<pre style=\"white-space:pre;overflow-x:auto;line-height:normal;font-family:Menlo,'DejaVu Sans Mono',consolas,'Courier New',monospace\">++&gt; Evaluate epoch <span style=\"color: #008080; text-decoration-color: #008080; font-weight: bold\">20</span> Finished.\n",
       "</pre>\n"
      ],
      "text/plain": [
       "++> Evaluate epoch \u001b[1;36m20\u001b[0m Finished.\n"
      ]
     },
     "metadata": {},
     "output_type": "display_data"
    },
    {
     "data": {
      "text/html": [
       "<pre style=\"white-space:pre;overflow-x:auto;line-height:normal;font-family:Menlo,'DejaVu Sans Mono',consolas,'Courier New',monospace\">==&gt; Start Test, save results to werewolf_big/results\n",
       "</pre>\n"
      ],
      "text/plain": [
       "==> Start Test, save results to werewolf_big/results\n"
      ]
     },
     "metadata": {},
     "output_type": "display_data"
    },
    {
     "name": "stderr",
     "output_type": "stream",
     "text": [
      " 99% 99/100 [00:04<00:00, 21.39it/s]"
     ]
    },
    {
     "data": {
      "text/html": [
       "<pre style=\"white-space:pre;overflow-x:auto;line-height:normal;font-family:Menlo,'DejaVu Sans Mono',consolas,'Courier New',monospace\">==&gt; Finished Test.\n",
       "</pre>\n"
      ],
      "text/plain": [
       "==> Finished Test.\n"
      ]
     },
     "metadata": {},
     "output_type": "display_data"
    },
    {
     "name": "stderr",
     "output_type": "stream",
     "text": [
      "100% 100/100 [00:06<00:00, 15.62it/s]\n"
     ]
    },
    {
     "data": {
      "text/html": [
       "<pre style=\"white-space:pre;overflow-x:auto;line-height:normal;font-family:Menlo,'DejaVu Sans Mono',consolas,'Courier New',monospace\">==&gt; <span style=\"font-weight: bold\">[</span><span style=\"color: #008080; text-decoration-color: #008080; font-weight: bold\">2023</span>-<span style=\"color: #008080; text-decoration-color: #008080; font-weight: bold\">09</span>-11_09-<span style=\"color: #008080; text-decoration-color: #008080; font-weight: bold\">18</span>-<span style=\"color: #008080; text-decoration-color: #008080; font-weight: bold\">13</span><span style=\"font-weight: bold\">]</span> Start Training werewolf_big Epoch <span style=\"color: #008080; text-decoration-color: #008080; font-weight: bold\">21</span>/<span style=\"color: #008080; text-decoration-color: #008080; font-weight: bold\">50</span>, <span style=\"color: #808000; text-decoration-color: #808000\">lr</span>=<span style=\"color: #008080; text-decoration-color: #008080; font-weight: bold\">0.050000</span> <span style=\"color: #808000; text-decoration-color: #808000\">...</span>\n",
       "</pre>\n"
      ],
      "text/plain": [
       "==> \u001b[1m[\u001b[0m\u001b[1;36m2023\u001b[0m-\u001b[1;36m09\u001b[0m-11_09-\u001b[1;36m18\u001b[0m-\u001b[1;36m13\u001b[0m\u001b[1m]\u001b[0m Start Training werewolf_big Epoch \u001b[1;36m21\u001b[0m/\u001b[1;36m50\u001b[0m, \u001b[33mlr\u001b[0m=\u001b[1;36m0\u001b[0m\u001b[1;36m.050000\u001b[0m \u001b[33m...\u001b[0m\n"
      ]
     },
     "metadata": {},
     "output_type": "display_data"
    },
    {
     "name": "stderr",
     "output_type": "stream",
     "text": [
      "loss=10.2531 (52.6263), lr=0.050000: : 100% 1300/1300 [00:48<00:00, 26.70it/s] \n"
     ]
    },
    {
     "data": {
      "text/html": [
       "<pre style=\"white-space:pre;overflow-x:auto;line-height:normal;font-family:Menlo,'DejaVu Sans Mono',consolas,'Courier New',monospace\">==&gt; <span style=\"font-weight: bold\">[</span><span style=\"color: #008080; text-decoration-color: #008080; font-weight: bold\">2023</span>-<span style=\"color: #008080; text-decoration-color: #008080; font-weight: bold\">09</span>-11_09-<span style=\"color: #008080; text-decoration-color: #008080; font-weight: bold\">19</span>-<span style=\"color: #008080; text-decoration-color: #008080; font-weight: bold\">01</span><span style=\"font-weight: bold\">]</span> Finished Epoch <span style=\"color: #008080; text-decoration-color: #008080; font-weight: bold\">21</span>/<span style=\"color: #008080; text-decoration-color: #008080; font-weight: bold\">50</span>. <span style=\"color: #808000; text-decoration-color: #808000\">CPU</span>=<span style=\"color: #008080; text-decoration-color: #008080; font-weight: bold\">4.</span>3GB, <span style=\"color: #808000; text-decoration-color: #808000\">GPU</span>=<span style=\"color: #008080; text-decoration-color: #008080; font-weight: bold\">45.</span>4GB.\n",
       "</pre>\n"
      ],
      "text/plain": [
       "==> \u001b[1m[\u001b[0m\u001b[1;36m2023\u001b[0m-\u001b[1;36m09\u001b[0m-11_09-\u001b[1;36m19\u001b[0m-\u001b[1;36m01\u001b[0m\u001b[1m]\u001b[0m Finished Epoch \u001b[1;36m21\u001b[0m/\u001b[1;36m50\u001b[0m. \u001b[33mCPU\u001b[0m=\u001b[1;36m4\u001b[0m\u001b[1;36m.\u001b[0m3GB, \u001b[33mGPU\u001b[0m=\u001b[1;36m45\u001b[0m\u001b[1;36m.\u001b[0m4GB.\n"
      ]
     },
     "metadata": {},
     "output_type": "display_data"
    },
    {
     "data": {
      "text/html": [
       "<pre style=\"white-space:pre;overflow-x:auto;line-height:normal;font-family:Menlo,'DejaVu Sans Mono',consolas,'Courier New',monospace\">++&gt; Evaluate werewolf_big at epoch <span style=\"color: #008080; text-decoration-color: #008080; font-weight: bold\">21</span> <span style=\"color: #808000; text-decoration-color: #808000\">...</span>\n",
       "</pre>\n"
      ],
      "text/plain": [
       "++> Evaluate werewolf_big at epoch \u001b[1;36m21\u001b[0m \u001b[33m...\u001b[0m\n"
      ]
     },
     "metadata": {},
     "output_type": "display_data"
    },
    {
     "name": "stderr",
     "output_type": "stream",
     "text": [
      "loss=0.0000 (0.0000): : 100% 8/8 [00:00<00:00, 17.17it/s]\n"
     ]
    },
    {
     "data": {
      "text/html": [
       "<pre style=\"white-space:pre;overflow-x:auto;line-height:normal;font-family:Menlo,'DejaVu Sans Mono',consolas,'Courier New',monospace\">++&gt; Evaluate epoch <span style=\"color: #008080; text-decoration-color: #008080; font-weight: bold\">21</span> Finished.\n",
       "</pre>\n"
      ],
      "text/plain": [
       "++> Evaluate epoch \u001b[1;36m21\u001b[0m Finished.\n"
      ]
     },
     "metadata": {},
     "output_type": "display_data"
    },
    {
     "data": {
      "text/html": [
       "<pre style=\"white-space:pre;overflow-x:auto;line-height:normal;font-family:Menlo,'DejaVu Sans Mono',consolas,'Courier New',monospace\">==&gt; <span style=\"font-weight: bold\">[</span><span style=\"color: #008080; text-decoration-color: #008080; font-weight: bold\">2023</span>-<span style=\"color: #008080; text-decoration-color: #008080; font-weight: bold\">09</span>-11_09-<span style=\"color: #008080; text-decoration-color: #008080; font-weight: bold\">19</span>-<span style=\"color: #008080; text-decoration-color: #008080; font-weight: bold\">02</span><span style=\"font-weight: bold\">]</span> Start Training werewolf_big Epoch <span style=\"color: #008080; text-decoration-color: #008080; font-weight: bold\">22</span>/<span style=\"color: #008080; text-decoration-color: #008080; font-weight: bold\">50</span>, <span style=\"color: #808000; text-decoration-color: #808000\">lr</span>=<span style=\"color: #008080; text-decoration-color: #008080; font-weight: bold\">0.050000</span> <span style=\"color: #808000; text-decoration-color: #808000\">...</span>\n",
       "</pre>\n"
      ],
      "text/plain": [
       "==> \u001b[1m[\u001b[0m\u001b[1;36m2023\u001b[0m-\u001b[1;36m09\u001b[0m-11_09-\u001b[1;36m19\u001b[0m-\u001b[1;36m02\u001b[0m\u001b[1m]\u001b[0m Start Training werewolf_big Epoch \u001b[1;36m22\u001b[0m/\u001b[1;36m50\u001b[0m, \u001b[33mlr\u001b[0m=\u001b[1;36m0\u001b[0m\u001b[1;36m.050000\u001b[0m \u001b[33m...\u001b[0m\n"
      ]
     },
     "metadata": {},
     "output_type": "display_data"
    },
    {
     "name": "stderr",
     "output_type": "stream",
     "text": [
      "loss=20.7894 (53.4441), lr=0.050000: : 100% 1300/1300 [00:48<00:00, 26.71it/s] \n"
     ]
    },
    {
     "data": {
      "text/html": [
       "<pre style=\"white-space:pre;overflow-x:auto;line-height:normal;font-family:Menlo,'DejaVu Sans Mono',consolas,'Courier New',monospace\">==&gt; <span style=\"font-weight: bold\">[</span><span style=\"color: #008080; text-decoration-color: #008080; font-weight: bold\">2023</span>-<span style=\"color: #008080; text-decoration-color: #008080; font-weight: bold\">09</span>-11_09-<span style=\"color: #008080; text-decoration-color: #008080; font-weight: bold\">19</span>-<span style=\"color: #008080; text-decoration-color: #008080; font-weight: bold\">51</span><span style=\"font-weight: bold\">]</span> Finished Epoch <span style=\"color: #008080; text-decoration-color: #008080; font-weight: bold\">22</span>/<span style=\"color: #008080; text-decoration-color: #008080; font-weight: bold\">50</span>. <span style=\"color: #808000; text-decoration-color: #808000\">CPU</span>=<span style=\"color: #008080; text-decoration-color: #008080; font-weight: bold\">4.</span>3GB, <span style=\"color: #808000; text-decoration-color: #808000\">GPU</span>=<span style=\"color: #008080; text-decoration-color: #008080; font-weight: bold\">45.</span>4GB.\n",
       "</pre>\n"
      ],
      "text/plain": [
       "==> \u001b[1m[\u001b[0m\u001b[1;36m2023\u001b[0m-\u001b[1;36m09\u001b[0m-11_09-\u001b[1;36m19\u001b[0m-\u001b[1;36m51\u001b[0m\u001b[1m]\u001b[0m Finished Epoch \u001b[1;36m22\u001b[0m/\u001b[1;36m50\u001b[0m. \u001b[33mCPU\u001b[0m=\u001b[1;36m4\u001b[0m\u001b[1;36m.\u001b[0m3GB, \u001b[33mGPU\u001b[0m=\u001b[1;36m45\u001b[0m\u001b[1;36m.\u001b[0m4GB.\n"
      ]
     },
     "metadata": {},
     "output_type": "display_data"
    },
    {
     "data": {
      "text/html": [
       "<pre style=\"white-space:pre;overflow-x:auto;line-height:normal;font-family:Menlo,'DejaVu Sans Mono',consolas,'Courier New',monospace\">++&gt; Evaluate werewolf_big at epoch <span style=\"color: #008080; text-decoration-color: #008080; font-weight: bold\">22</span> <span style=\"color: #808000; text-decoration-color: #808000\">...</span>\n",
       "</pre>\n"
      ],
      "text/plain": [
       "++> Evaluate werewolf_big at epoch \u001b[1;36m22\u001b[0m \u001b[33m...\u001b[0m\n"
      ]
     },
     "metadata": {},
     "output_type": "display_data"
    },
    {
     "name": "stderr",
     "output_type": "stream",
     "text": [
      "loss=0.0000 (0.0000): : 100% 8/8 [00:00<00:00, 17.34it/s]\n"
     ]
    },
    {
     "data": {
      "text/html": [
       "<pre style=\"white-space:pre;overflow-x:auto;line-height:normal;font-family:Menlo,'DejaVu Sans Mono',consolas,'Courier New',monospace\">++&gt; Evaluate epoch <span style=\"color: #008080; text-decoration-color: #008080; font-weight: bold\">22</span> Finished.\n",
       "</pre>\n"
      ],
      "text/plain": [
       "++> Evaluate epoch \u001b[1;36m22\u001b[0m Finished.\n"
      ]
     },
     "metadata": {},
     "output_type": "display_data"
    },
    {
     "data": {
      "text/html": [
       "<pre style=\"white-space:pre;overflow-x:auto;line-height:normal;font-family:Menlo,'DejaVu Sans Mono',consolas,'Courier New',monospace\">==&gt; <span style=\"font-weight: bold\">[</span><span style=\"color: #008080; text-decoration-color: #008080; font-weight: bold\">2023</span>-<span style=\"color: #008080; text-decoration-color: #008080; font-weight: bold\">09</span>-11_09-<span style=\"color: #008080; text-decoration-color: #008080; font-weight: bold\">19</span>-<span style=\"color: #008080; text-decoration-color: #008080; font-weight: bold\">52</span><span style=\"font-weight: bold\">]</span> Start Training werewolf_big Epoch <span style=\"color: #008080; text-decoration-color: #008080; font-weight: bold\">23</span>/<span style=\"color: #008080; text-decoration-color: #008080; font-weight: bold\">50</span>, <span style=\"color: #808000; text-decoration-color: #808000\">lr</span>=<span style=\"color: #008080; text-decoration-color: #008080; font-weight: bold\">0.050000</span> <span style=\"color: #808000; text-decoration-color: #808000\">...</span>\n",
       "</pre>\n"
      ],
      "text/plain": [
       "==> \u001b[1m[\u001b[0m\u001b[1;36m2023\u001b[0m-\u001b[1;36m09\u001b[0m-11_09-\u001b[1;36m19\u001b[0m-\u001b[1;36m52\u001b[0m\u001b[1m]\u001b[0m Start Training werewolf_big Epoch \u001b[1;36m23\u001b[0m/\u001b[1;36m50\u001b[0m, \u001b[33mlr\u001b[0m=\u001b[1;36m0\u001b[0m\u001b[1;36m.050000\u001b[0m \u001b[33m...\u001b[0m\n"
      ]
     },
     "metadata": {},
     "output_type": "display_data"
    },
    {
     "name": "stderr",
     "output_type": "stream",
     "text": [
      "loss=15.9438 (54.6283), lr=0.050000: : 100% 1300/1300 [00:48<00:00, 26.74it/s] \n"
     ]
    },
    {
     "data": {
      "text/html": [
       "<pre style=\"white-space:pre;overflow-x:auto;line-height:normal;font-family:Menlo,'DejaVu Sans Mono',consolas,'Courier New',monospace\">==&gt; <span style=\"font-weight: bold\">[</span><span style=\"color: #008080; text-decoration-color: #008080; font-weight: bold\">2023</span>-<span style=\"color: #008080; text-decoration-color: #008080; font-weight: bold\">09</span>-11_09-<span style=\"color: #008080; text-decoration-color: #008080; font-weight: bold\">20</span>-<span style=\"color: #008080; text-decoration-color: #008080; font-weight: bold\">40</span><span style=\"font-weight: bold\">]</span> Finished Epoch <span style=\"color: #008080; text-decoration-color: #008080; font-weight: bold\">23</span>/<span style=\"color: #008080; text-decoration-color: #008080; font-weight: bold\">50</span>. <span style=\"color: #808000; text-decoration-color: #808000\">CPU</span>=<span style=\"color: #008080; text-decoration-color: #008080; font-weight: bold\">4.</span>3GB, <span style=\"color: #808000; text-decoration-color: #808000\">GPU</span>=<span style=\"color: #008080; text-decoration-color: #008080; font-weight: bold\">45.</span>4GB.\n",
       "</pre>\n"
      ],
      "text/plain": [
       "==> \u001b[1m[\u001b[0m\u001b[1;36m2023\u001b[0m-\u001b[1;36m09\u001b[0m-11_09-\u001b[1;36m20\u001b[0m-\u001b[1;36m40\u001b[0m\u001b[1m]\u001b[0m Finished Epoch \u001b[1;36m23\u001b[0m/\u001b[1;36m50\u001b[0m. \u001b[33mCPU\u001b[0m=\u001b[1;36m4\u001b[0m\u001b[1;36m.\u001b[0m3GB, \u001b[33mGPU\u001b[0m=\u001b[1;36m45\u001b[0m\u001b[1;36m.\u001b[0m4GB.\n"
      ]
     },
     "metadata": {},
     "output_type": "display_data"
    },
    {
     "data": {
      "text/html": [
       "<pre style=\"white-space:pre;overflow-x:auto;line-height:normal;font-family:Menlo,'DejaVu Sans Mono',consolas,'Courier New',monospace\">++&gt; Evaluate werewolf_big at epoch <span style=\"color: #008080; text-decoration-color: #008080; font-weight: bold\">23</span> <span style=\"color: #808000; text-decoration-color: #808000\">...</span>\n",
       "</pre>\n"
      ],
      "text/plain": [
       "++> Evaluate werewolf_big at epoch \u001b[1;36m23\u001b[0m \u001b[33m...\u001b[0m\n"
      ]
     },
     "metadata": {},
     "output_type": "display_data"
    },
    {
     "name": "stderr",
     "output_type": "stream",
     "text": [
      "loss=0.0000 (0.0000): : 100% 8/8 [00:00<00:00, 16.77it/s]\n"
     ]
    },
    {
     "data": {
      "text/html": [
       "<pre style=\"white-space:pre;overflow-x:auto;line-height:normal;font-family:Menlo,'DejaVu Sans Mono',consolas,'Courier New',monospace\">++&gt; Evaluate epoch <span style=\"color: #008080; text-decoration-color: #008080; font-weight: bold\">23</span> Finished.\n",
       "</pre>\n"
      ],
      "text/plain": [
       "++> Evaluate epoch \u001b[1;36m23\u001b[0m Finished.\n"
      ]
     },
     "metadata": {},
     "output_type": "display_data"
    },
    {
     "data": {
      "text/html": [
       "<pre style=\"white-space:pre;overflow-x:auto;line-height:normal;font-family:Menlo,'DejaVu Sans Mono',consolas,'Courier New',monospace\">==&gt; <span style=\"font-weight: bold\">[</span><span style=\"color: #008080; text-decoration-color: #008080; font-weight: bold\">2023</span>-<span style=\"color: #008080; text-decoration-color: #008080; font-weight: bold\">09</span>-11_09-<span style=\"color: #008080; text-decoration-color: #008080; font-weight: bold\">20</span>-<span style=\"color: #008080; text-decoration-color: #008080; font-weight: bold\">41</span><span style=\"font-weight: bold\">]</span> Start Training werewolf_big Epoch <span style=\"color: #008080; text-decoration-color: #008080; font-weight: bold\">24</span>/<span style=\"color: #008080; text-decoration-color: #008080; font-weight: bold\">50</span>, <span style=\"color: #808000; text-decoration-color: #808000\">lr</span>=<span style=\"color: #008080; text-decoration-color: #008080; font-weight: bold\">0.050000</span> <span style=\"color: #808000; text-decoration-color: #808000\">...</span>\n",
       "</pre>\n"
      ],
      "text/plain": [
       "==> \u001b[1m[\u001b[0m\u001b[1;36m2023\u001b[0m-\u001b[1;36m09\u001b[0m-11_09-\u001b[1;36m20\u001b[0m-\u001b[1;36m41\u001b[0m\u001b[1m]\u001b[0m Start Training werewolf_big Epoch \u001b[1;36m24\u001b[0m/\u001b[1;36m50\u001b[0m, \u001b[33mlr\u001b[0m=\u001b[1;36m0\u001b[0m\u001b[1;36m.050000\u001b[0m \u001b[33m...\u001b[0m\n"
      ]
     },
     "metadata": {},
     "output_type": "display_data"
    },
    {
     "name": "stderr",
     "output_type": "stream",
     "text": [
      "loss=22.4237 (52.6603), lr=0.050000: : 100% 1300/1300 [00:48<00:00, 26.80it/s] \n"
     ]
    },
    {
     "data": {
      "text/html": [
       "<pre style=\"white-space:pre;overflow-x:auto;line-height:normal;font-family:Menlo,'DejaVu Sans Mono',consolas,'Courier New',monospace\">==&gt; <span style=\"font-weight: bold\">[</span><span style=\"color: #008080; text-decoration-color: #008080; font-weight: bold\">2023</span>-<span style=\"color: #008080; text-decoration-color: #008080; font-weight: bold\">09</span>-11_09-<span style=\"color: #008080; text-decoration-color: #008080; font-weight: bold\">21</span>-<span style=\"color: #008080; text-decoration-color: #008080; font-weight: bold\">30</span><span style=\"font-weight: bold\">]</span> Finished Epoch <span style=\"color: #008080; text-decoration-color: #008080; font-weight: bold\">24</span>/<span style=\"color: #008080; text-decoration-color: #008080; font-weight: bold\">50</span>. <span style=\"color: #808000; text-decoration-color: #808000\">CPU</span>=<span style=\"color: #008080; text-decoration-color: #008080; font-weight: bold\">4.</span>3GB, <span style=\"color: #808000; text-decoration-color: #808000\">GPU</span>=<span style=\"color: #008080; text-decoration-color: #008080; font-weight: bold\">45.</span>4GB.\n",
       "</pre>\n"
      ],
      "text/plain": [
       "==> \u001b[1m[\u001b[0m\u001b[1;36m2023\u001b[0m-\u001b[1;36m09\u001b[0m-11_09-\u001b[1;36m21\u001b[0m-\u001b[1;36m30\u001b[0m\u001b[1m]\u001b[0m Finished Epoch \u001b[1;36m24\u001b[0m/\u001b[1;36m50\u001b[0m. \u001b[33mCPU\u001b[0m=\u001b[1;36m4\u001b[0m\u001b[1;36m.\u001b[0m3GB, \u001b[33mGPU\u001b[0m=\u001b[1;36m45\u001b[0m\u001b[1;36m.\u001b[0m4GB.\n"
      ]
     },
     "metadata": {},
     "output_type": "display_data"
    },
    {
     "data": {
      "text/html": [
       "<pre style=\"white-space:pre;overflow-x:auto;line-height:normal;font-family:Menlo,'DejaVu Sans Mono',consolas,'Courier New',monospace\">++&gt; Evaluate werewolf_big at epoch <span style=\"color: #008080; text-decoration-color: #008080; font-weight: bold\">24</span> <span style=\"color: #808000; text-decoration-color: #808000\">...</span>\n",
       "</pre>\n"
      ],
      "text/plain": [
       "++> Evaluate werewolf_big at epoch \u001b[1;36m24\u001b[0m \u001b[33m...\u001b[0m\n"
      ]
     },
     "metadata": {},
     "output_type": "display_data"
    },
    {
     "name": "stderr",
     "output_type": "stream",
     "text": [
      "loss=0.0000 (0.0000): : 100% 8/8 [00:00<00:00, 17.37it/s]\n"
     ]
    },
    {
     "data": {
      "text/html": [
       "<pre style=\"white-space:pre;overflow-x:auto;line-height:normal;font-family:Menlo,'DejaVu Sans Mono',consolas,'Courier New',monospace\">++&gt; Evaluate epoch <span style=\"color: #008080; text-decoration-color: #008080; font-weight: bold\">24</span> Finished.\n",
       "</pre>\n"
      ],
      "text/plain": [
       "++> Evaluate epoch \u001b[1;36m24\u001b[0m Finished.\n"
      ]
     },
     "metadata": {},
     "output_type": "display_data"
    },
    {
     "data": {
      "text/html": [
       "<pre style=\"white-space:pre;overflow-x:auto;line-height:normal;font-family:Menlo,'DejaVu Sans Mono',consolas,'Courier New',monospace\">==&gt; <span style=\"font-weight: bold\">[</span><span style=\"color: #008080; text-decoration-color: #008080; font-weight: bold\">2023</span>-<span style=\"color: #008080; text-decoration-color: #008080; font-weight: bold\">09</span>-11_09-<span style=\"color: #008080; text-decoration-color: #008080; font-weight: bold\">21</span>-<span style=\"color: #008080; text-decoration-color: #008080; font-weight: bold\">31</span><span style=\"font-weight: bold\">]</span> Start Training werewolf_big Epoch <span style=\"color: #008080; text-decoration-color: #008080; font-weight: bold\">25</span>/<span style=\"color: #008080; text-decoration-color: #008080; font-weight: bold\">50</span>, <span style=\"color: #808000; text-decoration-color: #808000\">lr</span>=<span style=\"color: #008080; text-decoration-color: #008080; font-weight: bold\">0.050000</span> <span style=\"color: #808000; text-decoration-color: #808000\">...</span>\n",
       "</pre>\n"
      ],
      "text/plain": [
       "==> \u001b[1m[\u001b[0m\u001b[1;36m2023\u001b[0m-\u001b[1;36m09\u001b[0m-11_09-\u001b[1;36m21\u001b[0m-\u001b[1;36m31\u001b[0m\u001b[1m]\u001b[0m Start Training werewolf_big Epoch \u001b[1;36m25\u001b[0m/\u001b[1;36m50\u001b[0m, \u001b[33mlr\u001b[0m=\u001b[1;36m0\u001b[0m\u001b[1;36m.050000\u001b[0m \u001b[33m...\u001b[0m\n"
      ]
     },
     "metadata": {},
     "output_type": "display_data"
    },
    {
     "name": "stderr",
     "output_type": "stream",
     "text": [
      "loss=9.2912 (50.6943), lr=0.050000: : 100% 1300/1300 [00:48<00:00, 26.78it/s]  \n"
     ]
    },
    {
     "data": {
      "text/html": [
       "<pre style=\"white-space:pre;overflow-x:auto;line-height:normal;font-family:Menlo,'DejaVu Sans Mono',consolas,'Courier New',monospace\">==&gt; <span style=\"font-weight: bold\">[</span><span style=\"color: #008080; text-decoration-color: #008080; font-weight: bold\">2023</span>-<span style=\"color: #008080; text-decoration-color: #008080; font-weight: bold\">09</span>-11_09-<span style=\"color: #008080; text-decoration-color: #008080; font-weight: bold\">22</span>-<span style=\"color: #008080; text-decoration-color: #008080; font-weight: bold\">19</span><span style=\"font-weight: bold\">]</span> Finished Epoch <span style=\"color: #008080; text-decoration-color: #008080; font-weight: bold\">25</span>/<span style=\"color: #008080; text-decoration-color: #008080; font-weight: bold\">50</span>. <span style=\"color: #808000; text-decoration-color: #808000\">CPU</span>=<span style=\"color: #008080; text-decoration-color: #008080; font-weight: bold\">3.</span>7GB, <span style=\"color: #808000; text-decoration-color: #808000\">GPU</span>=<span style=\"color: #008080; text-decoration-color: #008080; font-weight: bold\">45.</span>4GB.\n",
       "</pre>\n"
      ],
      "text/plain": [
       "==> \u001b[1m[\u001b[0m\u001b[1;36m2023\u001b[0m-\u001b[1;36m09\u001b[0m-11_09-\u001b[1;36m22\u001b[0m-\u001b[1;36m19\u001b[0m\u001b[1m]\u001b[0m Finished Epoch \u001b[1;36m25\u001b[0m/\u001b[1;36m50\u001b[0m. \u001b[33mCPU\u001b[0m=\u001b[1;36m3\u001b[0m\u001b[1;36m.\u001b[0m7GB, \u001b[33mGPU\u001b[0m=\u001b[1;36m45\u001b[0m\u001b[1;36m.\u001b[0m4GB.\n"
      ]
     },
     "metadata": {},
     "output_type": "display_data"
    },
    {
     "data": {
      "text/html": [
       "<pre style=\"white-space:pre;overflow-x:auto;line-height:normal;font-family:Menlo,'DejaVu Sans Mono',consolas,'Courier New',monospace\">++&gt; Evaluate werewolf_big at epoch <span style=\"color: #008080; text-decoration-color: #008080; font-weight: bold\">25</span> <span style=\"color: #808000; text-decoration-color: #808000\">...</span>\n",
       "</pre>\n"
      ],
      "text/plain": [
       "++> Evaluate werewolf_big at epoch \u001b[1;36m25\u001b[0m \u001b[33m...\u001b[0m\n"
      ]
     },
     "metadata": {},
     "output_type": "display_data"
    },
    {
     "name": "stderr",
     "output_type": "stream",
     "text": [
      "loss=0.0000 (0.0000): : 100% 8/8 [00:00<00:00, 17.51it/s]\n"
     ]
    },
    {
     "data": {
      "text/html": [
       "<pre style=\"white-space:pre;overflow-x:auto;line-height:normal;font-family:Menlo,'DejaVu Sans Mono',consolas,'Courier New',monospace\">++&gt; Evaluate epoch <span style=\"color: #008080; text-decoration-color: #008080; font-weight: bold\">25</span> Finished.\n",
       "</pre>\n"
      ],
      "text/plain": [
       "++> Evaluate epoch \u001b[1;36m25\u001b[0m Finished.\n"
      ]
     },
     "metadata": {},
     "output_type": "display_data"
    },
    {
     "data": {
      "text/html": [
       "<pre style=\"white-space:pre;overflow-x:auto;line-height:normal;font-family:Menlo,'DejaVu Sans Mono',consolas,'Courier New',monospace\">==&gt; <span style=\"font-weight: bold\">[</span><span style=\"color: #008080; text-decoration-color: #008080; font-weight: bold\">2023</span>-<span style=\"color: #008080; text-decoration-color: #008080; font-weight: bold\">09</span>-11_09-<span style=\"color: #008080; text-decoration-color: #008080; font-weight: bold\">22</span>-<span style=\"color: #008080; text-decoration-color: #008080; font-weight: bold\">20</span><span style=\"font-weight: bold\">]</span> Start Training werewolf_big Epoch <span style=\"color: #008080; text-decoration-color: #008080; font-weight: bold\">26</span>/<span style=\"color: #008080; text-decoration-color: #008080; font-weight: bold\">50</span>, <span style=\"color: #808000; text-decoration-color: #808000\">lr</span>=<span style=\"color: #008080; text-decoration-color: #008080; font-weight: bold\">0.050000</span> <span style=\"color: #808000; text-decoration-color: #808000\">...</span>\n",
       "</pre>\n"
      ],
      "text/plain": [
       "==> \u001b[1m[\u001b[0m\u001b[1;36m2023\u001b[0m-\u001b[1;36m09\u001b[0m-11_09-\u001b[1;36m22\u001b[0m-\u001b[1;36m20\u001b[0m\u001b[1m]\u001b[0m Start Training werewolf_big Epoch \u001b[1;36m26\u001b[0m/\u001b[1;36m50\u001b[0m, \u001b[33mlr\u001b[0m=\u001b[1;36m0\u001b[0m\u001b[1;36m.050000\u001b[0m \u001b[33m...\u001b[0m\n"
      ]
     },
     "metadata": {},
     "output_type": "display_data"
    },
    {
     "name": "stderr",
     "output_type": "stream",
     "text": [
      "loss=28.4843 (47.7384), lr=0.050000: : 100% 1300/1300 [00:48<00:00, 26.74it/s]\n"
     ]
    },
    {
     "data": {
      "text/html": [
       "<pre style=\"white-space:pre;overflow-x:auto;line-height:normal;font-family:Menlo,'DejaVu Sans Mono',consolas,'Courier New',monospace\">==&gt; <span style=\"font-weight: bold\">[</span><span style=\"color: #008080; text-decoration-color: #008080; font-weight: bold\">2023</span>-<span style=\"color: #008080; text-decoration-color: #008080; font-weight: bold\">09</span>-11_09-<span style=\"color: #008080; text-decoration-color: #008080; font-weight: bold\">23</span>-<span style=\"color: #008080; text-decoration-color: #008080; font-weight: bold\">09</span><span style=\"font-weight: bold\">]</span> Finished Epoch <span style=\"color: #008080; text-decoration-color: #008080; font-weight: bold\">26</span>/<span style=\"color: #008080; text-decoration-color: #008080; font-weight: bold\">50</span>. <span style=\"color: #808000; text-decoration-color: #808000\">CPU</span>=<span style=\"color: #008080; text-decoration-color: #008080; font-weight: bold\">3.</span>9GB, <span style=\"color: #808000; text-decoration-color: #808000\">GPU</span>=<span style=\"color: #008080; text-decoration-color: #008080; font-weight: bold\">45.</span>4GB.\n",
       "</pre>\n"
      ],
      "text/plain": [
       "==> \u001b[1m[\u001b[0m\u001b[1;36m2023\u001b[0m-\u001b[1;36m09\u001b[0m-11_09-\u001b[1;36m23\u001b[0m-\u001b[1;36m09\u001b[0m\u001b[1m]\u001b[0m Finished Epoch \u001b[1;36m26\u001b[0m/\u001b[1;36m50\u001b[0m. \u001b[33mCPU\u001b[0m=\u001b[1;36m3\u001b[0m\u001b[1;36m.\u001b[0m9GB, \u001b[33mGPU\u001b[0m=\u001b[1;36m45\u001b[0m\u001b[1;36m.\u001b[0m4GB.\n"
      ]
     },
     "metadata": {},
     "output_type": "display_data"
    },
    {
     "data": {
      "text/html": [
       "<pre style=\"white-space:pre;overflow-x:auto;line-height:normal;font-family:Menlo,'DejaVu Sans Mono',consolas,'Courier New',monospace\">++&gt; Evaluate werewolf_big at epoch <span style=\"color: #008080; text-decoration-color: #008080; font-weight: bold\">26</span> <span style=\"color: #808000; text-decoration-color: #808000\">...</span>\n",
       "</pre>\n"
      ],
      "text/plain": [
       "++> Evaluate werewolf_big at epoch \u001b[1;36m26\u001b[0m \u001b[33m...\u001b[0m\n"
      ]
     },
     "metadata": {},
     "output_type": "display_data"
    },
    {
     "name": "stderr",
     "output_type": "stream",
     "text": [
      "loss=0.0000 (0.0000): : 100% 8/8 [00:00<00:00, 17.30it/s]\n"
     ]
    },
    {
     "data": {
      "text/html": [
       "<pre style=\"white-space:pre;overflow-x:auto;line-height:normal;font-family:Menlo,'DejaVu Sans Mono',consolas,'Courier New',monospace\">++&gt; Evaluate epoch <span style=\"color: #008080; text-decoration-color: #008080; font-weight: bold\">26</span> Finished.\n",
       "</pre>\n"
      ],
      "text/plain": [
       "++> Evaluate epoch \u001b[1;36m26\u001b[0m Finished.\n"
      ]
     },
     "metadata": {},
     "output_type": "display_data"
    },
    {
     "data": {
      "text/html": [
       "<pre style=\"white-space:pre;overflow-x:auto;line-height:normal;font-family:Menlo,'DejaVu Sans Mono',consolas,'Courier New',monospace\">==&gt; <span style=\"font-weight: bold\">[</span><span style=\"color: #008080; text-decoration-color: #008080; font-weight: bold\">2023</span>-<span style=\"color: #008080; text-decoration-color: #008080; font-weight: bold\">09</span>-11_09-<span style=\"color: #008080; text-decoration-color: #008080; font-weight: bold\">23</span>-<span style=\"color: #008080; text-decoration-color: #008080; font-weight: bold\">10</span><span style=\"font-weight: bold\">]</span> Start Training werewolf_big Epoch <span style=\"color: #008080; text-decoration-color: #008080; font-weight: bold\">27</span>/<span style=\"color: #008080; text-decoration-color: #008080; font-weight: bold\">50</span>, <span style=\"color: #808000; text-decoration-color: #808000\">lr</span>=<span style=\"color: #008080; text-decoration-color: #008080; font-weight: bold\">0.050000</span> <span style=\"color: #808000; text-decoration-color: #808000\">...</span>\n",
       "</pre>\n"
      ],
      "text/plain": [
       "==> \u001b[1m[\u001b[0m\u001b[1;36m2023\u001b[0m-\u001b[1;36m09\u001b[0m-11_09-\u001b[1;36m23\u001b[0m-\u001b[1;36m10\u001b[0m\u001b[1m]\u001b[0m Start Training werewolf_big Epoch \u001b[1;36m27\u001b[0m/\u001b[1;36m50\u001b[0m, \u001b[33mlr\u001b[0m=\u001b[1;36m0\u001b[0m\u001b[1;36m.050000\u001b[0m \u001b[33m...\u001b[0m\n"
      ]
     },
     "metadata": {},
     "output_type": "display_data"
    },
    {
     "name": "stderr",
     "output_type": "stream",
     "text": [
      "loss=20.3259 (49.9277), lr=0.050000: : 100% 1300/1300 [00:48<00:00, 26.90it/s] \n"
     ]
    },
    {
     "data": {
      "text/html": [
       "<pre style=\"white-space:pre;overflow-x:auto;line-height:normal;font-family:Menlo,'DejaVu Sans Mono',consolas,'Courier New',monospace\">==&gt; <span style=\"font-weight: bold\">[</span><span style=\"color: #008080; text-decoration-color: #008080; font-weight: bold\">2023</span>-<span style=\"color: #008080; text-decoration-color: #008080; font-weight: bold\">09</span>-11_09-<span style=\"color: #008080; text-decoration-color: #008080; font-weight: bold\">23</span>-<span style=\"color: #008080; text-decoration-color: #008080; font-weight: bold\">58</span><span style=\"font-weight: bold\">]</span> Finished Epoch <span style=\"color: #008080; text-decoration-color: #008080; font-weight: bold\">27</span>/<span style=\"color: #008080; text-decoration-color: #008080; font-weight: bold\">50</span>. <span style=\"color: #808000; text-decoration-color: #808000\">CPU</span>=<span style=\"color: #008080; text-decoration-color: #008080; font-weight: bold\">3.</span>9GB, <span style=\"color: #808000; text-decoration-color: #808000\">GPU</span>=<span style=\"color: #008080; text-decoration-color: #008080; font-weight: bold\">45.</span>4GB.\n",
       "</pre>\n"
      ],
      "text/plain": [
       "==> \u001b[1m[\u001b[0m\u001b[1;36m2023\u001b[0m-\u001b[1;36m09\u001b[0m-11_09-\u001b[1;36m23\u001b[0m-\u001b[1;36m58\u001b[0m\u001b[1m]\u001b[0m Finished Epoch \u001b[1;36m27\u001b[0m/\u001b[1;36m50\u001b[0m. \u001b[33mCPU\u001b[0m=\u001b[1;36m3\u001b[0m\u001b[1;36m.\u001b[0m9GB, \u001b[33mGPU\u001b[0m=\u001b[1;36m45\u001b[0m\u001b[1;36m.\u001b[0m4GB.\n"
      ]
     },
     "metadata": {},
     "output_type": "display_data"
    },
    {
     "data": {
      "text/html": [
       "<pre style=\"white-space:pre;overflow-x:auto;line-height:normal;font-family:Menlo,'DejaVu Sans Mono',consolas,'Courier New',monospace\">++&gt; Evaluate werewolf_big at epoch <span style=\"color: #008080; text-decoration-color: #008080; font-weight: bold\">27</span> <span style=\"color: #808000; text-decoration-color: #808000\">...</span>\n",
       "</pre>\n"
      ],
      "text/plain": [
       "++> Evaluate werewolf_big at epoch \u001b[1;36m27\u001b[0m \u001b[33m...\u001b[0m\n"
      ]
     },
     "metadata": {},
     "output_type": "display_data"
    },
    {
     "name": "stderr",
     "output_type": "stream",
     "text": [
      "loss=0.0000 (0.0000): : 100% 8/8 [00:00<00:00, 17.28it/s]\n"
     ]
    },
    {
     "data": {
      "text/html": [
       "<pre style=\"white-space:pre;overflow-x:auto;line-height:normal;font-family:Menlo,'DejaVu Sans Mono',consolas,'Courier New',monospace\">++&gt; Evaluate epoch <span style=\"color: #008080; text-decoration-color: #008080; font-weight: bold\">27</span> Finished.\n",
       "</pre>\n"
      ],
      "text/plain": [
       "++> Evaluate epoch \u001b[1;36m27\u001b[0m Finished.\n"
      ]
     },
     "metadata": {},
     "output_type": "display_data"
    },
    {
     "data": {
      "text/html": [
       "<pre style=\"white-space:pre;overflow-x:auto;line-height:normal;font-family:Menlo,'DejaVu Sans Mono',consolas,'Courier New',monospace\">==&gt; <span style=\"font-weight: bold\">[</span><span style=\"color: #008080; text-decoration-color: #008080; font-weight: bold\">2023</span>-<span style=\"color: #008080; text-decoration-color: #008080; font-weight: bold\">09</span>-11_09-<span style=\"color: #008080; text-decoration-color: #008080; font-weight: bold\">23</span>-<span style=\"color: #008080; text-decoration-color: #008080; font-weight: bold\">59</span><span style=\"font-weight: bold\">]</span> Start Training werewolf_big Epoch <span style=\"color: #008080; text-decoration-color: #008080; font-weight: bold\">28</span>/<span style=\"color: #008080; text-decoration-color: #008080; font-weight: bold\">50</span>, <span style=\"color: #808000; text-decoration-color: #808000\">lr</span>=<span style=\"color: #008080; text-decoration-color: #008080; font-weight: bold\">0.050000</span> <span style=\"color: #808000; text-decoration-color: #808000\">...</span>\n",
       "</pre>\n"
      ],
      "text/plain": [
       "==> \u001b[1m[\u001b[0m\u001b[1;36m2023\u001b[0m-\u001b[1;36m09\u001b[0m-11_09-\u001b[1;36m23\u001b[0m-\u001b[1;36m59\u001b[0m\u001b[1m]\u001b[0m Start Training werewolf_big Epoch \u001b[1;36m28\u001b[0m/\u001b[1;36m50\u001b[0m, \u001b[33mlr\u001b[0m=\u001b[1;36m0\u001b[0m\u001b[1;36m.050000\u001b[0m \u001b[33m...\u001b[0m\n"
      ]
     },
     "metadata": {},
     "output_type": "display_data"
    },
    {
     "name": "stderr",
     "output_type": "stream",
     "text": [
      "loss=12.4910 (52.3331), lr=0.050000: : 100% 1300/1300 [00:48<00:00, 26.89it/s] \n"
     ]
    },
    {
     "data": {
      "text/html": [
       "<pre style=\"white-space:pre;overflow-x:auto;line-height:normal;font-family:Menlo,'DejaVu Sans Mono',consolas,'Courier New',monospace\">==&gt; <span style=\"font-weight: bold\">[</span><span style=\"color: #008080; text-decoration-color: #008080; font-weight: bold\">2023</span>-<span style=\"color: #008080; text-decoration-color: #008080; font-weight: bold\">09</span>-11_09-<span style=\"color: #008080; text-decoration-color: #008080; font-weight: bold\">24</span>-<span style=\"color: #008080; text-decoration-color: #008080; font-weight: bold\">47</span><span style=\"font-weight: bold\">]</span> Finished Epoch <span style=\"color: #008080; text-decoration-color: #008080; font-weight: bold\">28</span>/<span style=\"color: #008080; text-decoration-color: #008080; font-weight: bold\">50</span>. <span style=\"color: #808000; text-decoration-color: #808000\">CPU</span>=<span style=\"color: #008080; text-decoration-color: #008080; font-weight: bold\">3.</span>9GB, <span style=\"color: #808000; text-decoration-color: #808000\">GPU</span>=<span style=\"color: #008080; text-decoration-color: #008080; font-weight: bold\">45.</span>4GB.\n",
       "</pre>\n"
      ],
      "text/plain": [
       "==> \u001b[1m[\u001b[0m\u001b[1;36m2023\u001b[0m-\u001b[1;36m09\u001b[0m-11_09-\u001b[1;36m24\u001b[0m-\u001b[1;36m47\u001b[0m\u001b[1m]\u001b[0m Finished Epoch \u001b[1;36m28\u001b[0m/\u001b[1;36m50\u001b[0m. \u001b[33mCPU\u001b[0m=\u001b[1;36m3\u001b[0m\u001b[1;36m.\u001b[0m9GB, \u001b[33mGPU\u001b[0m=\u001b[1;36m45\u001b[0m\u001b[1;36m.\u001b[0m4GB.\n"
      ]
     },
     "metadata": {},
     "output_type": "display_data"
    },
    {
     "data": {
      "text/html": [
       "<pre style=\"white-space:pre;overflow-x:auto;line-height:normal;font-family:Menlo,'DejaVu Sans Mono',consolas,'Courier New',monospace\">++&gt; Evaluate werewolf_big at epoch <span style=\"color: #008080; text-decoration-color: #008080; font-weight: bold\">28</span> <span style=\"color: #808000; text-decoration-color: #808000\">...</span>\n",
       "</pre>\n"
      ],
      "text/plain": [
       "++> Evaluate werewolf_big at epoch \u001b[1;36m28\u001b[0m \u001b[33m...\u001b[0m\n"
      ]
     },
     "metadata": {},
     "output_type": "display_data"
    },
    {
     "name": "stderr",
     "output_type": "stream",
     "text": [
      "loss=0.0000 (0.0000): : 100% 8/8 [00:00<00:00, 17.48it/s]\n"
     ]
    },
    {
     "data": {
      "text/html": [
       "<pre style=\"white-space:pre;overflow-x:auto;line-height:normal;font-family:Menlo,'DejaVu Sans Mono',consolas,'Courier New',monospace\">++&gt; Evaluate epoch <span style=\"color: #008080; text-decoration-color: #008080; font-weight: bold\">28</span> Finished.\n",
       "</pre>\n"
      ],
      "text/plain": [
       "++> Evaluate epoch \u001b[1;36m28\u001b[0m Finished.\n"
      ]
     },
     "metadata": {},
     "output_type": "display_data"
    },
    {
     "data": {
      "text/html": [
       "<pre style=\"white-space:pre;overflow-x:auto;line-height:normal;font-family:Menlo,'DejaVu Sans Mono',consolas,'Courier New',monospace\">==&gt; <span style=\"font-weight: bold\">[</span><span style=\"color: #008080; text-decoration-color: #008080; font-weight: bold\">2023</span>-<span style=\"color: #008080; text-decoration-color: #008080; font-weight: bold\">09</span>-11_09-<span style=\"color: #008080; text-decoration-color: #008080; font-weight: bold\">24</span>-<span style=\"color: #008080; text-decoration-color: #008080; font-weight: bold\">48</span><span style=\"font-weight: bold\">]</span> Start Training werewolf_big Epoch <span style=\"color: #008080; text-decoration-color: #008080; font-weight: bold\">29</span>/<span style=\"color: #008080; text-decoration-color: #008080; font-weight: bold\">50</span>, <span style=\"color: #808000; text-decoration-color: #808000\">lr</span>=<span style=\"color: #008080; text-decoration-color: #008080; font-weight: bold\">0.050000</span> <span style=\"color: #808000; text-decoration-color: #808000\">...</span>\n",
       "</pre>\n"
      ],
      "text/plain": [
       "==> \u001b[1m[\u001b[0m\u001b[1;36m2023\u001b[0m-\u001b[1;36m09\u001b[0m-11_09-\u001b[1;36m24\u001b[0m-\u001b[1;36m48\u001b[0m\u001b[1m]\u001b[0m Start Training werewolf_big Epoch \u001b[1;36m29\u001b[0m/\u001b[1;36m50\u001b[0m, \u001b[33mlr\u001b[0m=\u001b[1;36m0\u001b[0m\u001b[1;36m.050000\u001b[0m \u001b[33m...\u001b[0m\n"
      ]
     },
     "metadata": {},
     "output_type": "display_data"
    },
    {
     "name": "stderr",
     "output_type": "stream",
     "text": [
      "loss=14.1648 (49.3899), lr=0.050000: : 100% 1300/1300 [00:48<00:00, 26.96it/s]\n"
     ]
    },
    {
     "data": {
      "text/html": [
       "<pre style=\"white-space:pre;overflow-x:auto;line-height:normal;font-family:Menlo,'DejaVu Sans Mono',consolas,'Courier New',monospace\">==&gt; <span style=\"font-weight: bold\">[</span><span style=\"color: #008080; text-decoration-color: #008080; font-weight: bold\">2023</span>-<span style=\"color: #008080; text-decoration-color: #008080; font-weight: bold\">09</span>-11_09-<span style=\"color: #008080; text-decoration-color: #008080; font-weight: bold\">25</span>-<span style=\"color: #008080; text-decoration-color: #008080; font-weight: bold\">36</span><span style=\"font-weight: bold\">]</span> Finished Epoch <span style=\"color: #008080; text-decoration-color: #008080; font-weight: bold\">29</span>/<span style=\"color: #008080; text-decoration-color: #008080; font-weight: bold\">50</span>. <span style=\"color: #808000; text-decoration-color: #808000\">CPU</span>=<span style=\"color: #008080; text-decoration-color: #008080; font-weight: bold\">3.</span>9GB, <span style=\"color: #808000; text-decoration-color: #808000\">GPU</span>=<span style=\"color: #008080; text-decoration-color: #008080; font-weight: bold\">45.</span>4GB.\n",
       "</pre>\n"
      ],
      "text/plain": [
       "==> \u001b[1m[\u001b[0m\u001b[1;36m2023\u001b[0m-\u001b[1;36m09\u001b[0m-11_09-\u001b[1;36m25\u001b[0m-\u001b[1;36m36\u001b[0m\u001b[1m]\u001b[0m Finished Epoch \u001b[1;36m29\u001b[0m/\u001b[1;36m50\u001b[0m. \u001b[33mCPU\u001b[0m=\u001b[1;36m3\u001b[0m\u001b[1;36m.\u001b[0m9GB, \u001b[33mGPU\u001b[0m=\u001b[1;36m45\u001b[0m\u001b[1;36m.\u001b[0m4GB.\n"
      ]
     },
     "metadata": {},
     "output_type": "display_data"
    },
    {
     "data": {
      "text/html": [
       "<pre style=\"white-space:pre;overflow-x:auto;line-height:normal;font-family:Menlo,'DejaVu Sans Mono',consolas,'Courier New',monospace\">++&gt; Evaluate werewolf_big at epoch <span style=\"color: #008080; text-decoration-color: #008080; font-weight: bold\">29</span> <span style=\"color: #808000; text-decoration-color: #808000\">...</span>\n",
       "</pre>\n"
      ],
      "text/plain": [
       "++> Evaluate werewolf_big at epoch \u001b[1;36m29\u001b[0m \u001b[33m...\u001b[0m\n"
      ]
     },
     "metadata": {},
     "output_type": "display_data"
    },
    {
     "name": "stderr",
     "output_type": "stream",
     "text": [
      "loss=0.0000 (0.0000): : 100% 8/8 [00:00<00:00, 17.47it/s]\n"
     ]
    },
    {
     "data": {
      "text/html": [
       "<pre style=\"white-space:pre;overflow-x:auto;line-height:normal;font-family:Menlo,'DejaVu Sans Mono',consolas,'Courier New',monospace\">++&gt; Evaluate epoch <span style=\"color: #008080; text-decoration-color: #008080; font-weight: bold\">29</span> Finished.\n",
       "</pre>\n"
      ],
      "text/plain": [
       "++> Evaluate epoch \u001b[1;36m29\u001b[0m Finished.\n"
      ]
     },
     "metadata": {},
     "output_type": "display_data"
    },
    {
     "data": {
      "text/html": [
       "<pre style=\"white-space:pre;overflow-x:auto;line-height:normal;font-family:Menlo,'DejaVu Sans Mono',consolas,'Courier New',monospace\">==&gt; <span style=\"font-weight: bold\">[</span><span style=\"color: #008080; text-decoration-color: #008080; font-weight: bold\">2023</span>-<span style=\"color: #008080; text-decoration-color: #008080; font-weight: bold\">09</span>-11_09-<span style=\"color: #008080; text-decoration-color: #008080; font-weight: bold\">25</span>-<span style=\"color: #008080; text-decoration-color: #008080; font-weight: bold\">37</span><span style=\"font-weight: bold\">]</span> Start Training werewolf_big Epoch <span style=\"color: #008080; text-decoration-color: #008080; font-weight: bold\">30</span>/<span style=\"color: #008080; text-decoration-color: #008080; font-weight: bold\">50</span>, <span style=\"color: #808000; text-decoration-color: #808000\">lr</span>=<span style=\"color: #008080; text-decoration-color: #008080; font-weight: bold\">0.050000</span> <span style=\"color: #808000; text-decoration-color: #808000\">...</span>\n",
       "</pre>\n"
      ],
      "text/plain": [
       "==> \u001b[1m[\u001b[0m\u001b[1;36m2023\u001b[0m-\u001b[1;36m09\u001b[0m-11_09-\u001b[1;36m25\u001b[0m-\u001b[1;36m37\u001b[0m\u001b[1m]\u001b[0m Start Training werewolf_big Epoch \u001b[1;36m30\u001b[0m/\u001b[1;36m50\u001b[0m, \u001b[33mlr\u001b[0m=\u001b[1;36m0\u001b[0m\u001b[1;36m.050000\u001b[0m \u001b[33m...\u001b[0m\n"
      ]
     },
     "metadata": {},
     "output_type": "display_data"
    },
    {
     "name": "stderr",
     "output_type": "stream",
     "text": [
      "loss=12.9745 (51.9612), lr=0.050000: : 100% 1300/1300 [00:48<00:00, 26.97it/s] \n"
     ]
    },
    {
     "data": {
      "text/html": [
       "<pre style=\"white-space:pre;overflow-x:auto;line-height:normal;font-family:Menlo,'DejaVu Sans Mono',consolas,'Courier New',monospace\">==&gt; <span style=\"font-weight: bold\">[</span><span style=\"color: #008080; text-decoration-color: #008080; font-weight: bold\">2023</span>-<span style=\"color: #008080; text-decoration-color: #008080; font-weight: bold\">09</span>-11_09-<span style=\"color: #008080; text-decoration-color: #008080; font-weight: bold\">26</span>-<span style=\"color: #008080; text-decoration-color: #008080; font-weight: bold\">25</span><span style=\"font-weight: bold\">]</span> Finished Epoch <span style=\"color: #008080; text-decoration-color: #008080; font-weight: bold\">30</span>/<span style=\"color: #008080; text-decoration-color: #008080; font-weight: bold\">50</span>. <span style=\"color: #808000; text-decoration-color: #808000\">CPU</span>=<span style=\"color: #008080; text-decoration-color: #008080; font-weight: bold\">3.</span>9GB, <span style=\"color: #808000; text-decoration-color: #808000\">GPU</span>=<span style=\"color: #008080; text-decoration-color: #008080; font-weight: bold\">45.</span>4GB.\n",
       "</pre>\n"
      ],
      "text/plain": [
       "==> \u001b[1m[\u001b[0m\u001b[1;36m2023\u001b[0m-\u001b[1;36m09\u001b[0m-11_09-\u001b[1;36m26\u001b[0m-\u001b[1;36m25\u001b[0m\u001b[1m]\u001b[0m Finished Epoch \u001b[1;36m30\u001b[0m/\u001b[1;36m50\u001b[0m. \u001b[33mCPU\u001b[0m=\u001b[1;36m3\u001b[0m\u001b[1;36m.\u001b[0m9GB, \u001b[33mGPU\u001b[0m=\u001b[1;36m45\u001b[0m\u001b[1;36m.\u001b[0m4GB.\n"
      ]
     },
     "metadata": {},
     "output_type": "display_data"
    },
    {
     "data": {
      "text/html": [
       "<pre style=\"white-space:pre;overflow-x:auto;line-height:normal;font-family:Menlo,'DejaVu Sans Mono',consolas,'Courier New',monospace\">++&gt; Evaluate werewolf_big at epoch <span style=\"color: #008080; text-decoration-color: #008080; font-weight: bold\">30</span> <span style=\"color: #808000; text-decoration-color: #808000\">...</span>\n",
       "</pre>\n"
      ],
      "text/plain": [
       "++> Evaluate werewolf_big at epoch \u001b[1;36m30\u001b[0m \u001b[33m...\u001b[0m\n"
      ]
     },
     "metadata": {},
     "output_type": "display_data"
    },
    {
     "name": "stderr",
     "output_type": "stream",
     "text": [
      "loss=0.0000 (0.0000): : 100% 8/8 [00:00<00:00, 17.85it/s]\n"
     ]
    },
    {
     "data": {
      "text/html": [
       "<pre style=\"white-space:pre;overflow-x:auto;line-height:normal;font-family:Menlo,'DejaVu Sans Mono',consolas,'Courier New',monospace\">++&gt; Evaluate epoch <span style=\"color: #008080; text-decoration-color: #008080; font-weight: bold\">30</span> Finished.\n",
       "</pre>\n"
      ],
      "text/plain": [
       "++> Evaluate epoch \u001b[1;36m30\u001b[0m Finished.\n"
      ]
     },
     "metadata": {},
     "output_type": "display_data"
    },
    {
     "data": {
      "text/html": [
       "<pre style=\"white-space:pre;overflow-x:auto;line-height:normal;font-family:Menlo,'DejaVu Sans Mono',consolas,'Courier New',monospace\">==&gt; Start Test, save results to werewolf_big/results\n",
       "</pre>\n"
      ],
      "text/plain": [
       "==> Start Test, save results to werewolf_big/results\n"
      ]
     },
     "metadata": {},
     "output_type": "display_data"
    },
    {
     "name": "stderr",
     "output_type": "stream",
     "text": [
      " 99% 99/100 [00:04<00:00, 22.41it/s]"
     ]
    },
    {
     "data": {
      "text/html": [
       "<pre style=\"white-space:pre;overflow-x:auto;line-height:normal;font-family:Menlo,'DejaVu Sans Mono',consolas,'Courier New',monospace\">==&gt; Finished Test.\n",
       "</pre>\n"
      ],
      "text/plain": [
       "==> Finished Test.\n"
      ]
     },
     "metadata": {},
     "output_type": "display_data"
    },
    {
     "name": "stderr",
     "output_type": "stream",
     "text": [
      "100% 100/100 [00:06<00:00, 15.78it/s]\n"
     ]
    },
    {
     "data": {
      "text/html": [
       "<pre style=\"white-space:pre;overflow-x:auto;line-height:normal;font-family:Menlo,'DejaVu Sans Mono',consolas,'Courier New',monospace\">==&gt; <span style=\"font-weight: bold\">[</span><span style=\"color: #008080; text-decoration-color: #008080; font-weight: bold\">2023</span>-<span style=\"color: #008080; text-decoration-color: #008080; font-weight: bold\">09</span>-11_09-<span style=\"color: #008080; text-decoration-color: #008080; font-weight: bold\">26</span>-<span style=\"color: #008080; text-decoration-color: #008080; font-weight: bold\">32</span><span style=\"font-weight: bold\">]</span> Start Training werewolf_big Epoch <span style=\"color: #008080; text-decoration-color: #008080; font-weight: bold\">31</span>/<span style=\"color: #008080; text-decoration-color: #008080; font-weight: bold\">50</span>, <span style=\"color: #808000; text-decoration-color: #808000\">lr</span>=<span style=\"color: #008080; text-decoration-color: #008080; font-weight: bold\">0.050000</span> <span style=\"color: #808000; text-decoration-color: #808000\">...</span>\n",
       "</pre>\n"
      ],
      "text/plain": [
       "==> \u001b[1m[\u001b[0m\u001b[1;36m2023\u001b[0m-\u001b[1;36m09\u001b[0m-11_09-\u001b[1;36m26\u001b[0m-\u001b[1;36m32\u001b[0m\u001b[1m]\u001b[0m Start Training werewolf_big Epoch \u001b[1;36m31\u001b[0m/\u001b[1;36m50\u001b[0m, \u001b[33mlr\u001b[0m=\u001b[1;36m0\u001b[0m\u001b[1;36m.050000\u001b[0m \u001b[33m...\u001b[0m\n"
      ]
     },
     "metadata": {},
     "output_type": "display_data"
    },
    {
     "name": "stderr",
     "output_type": "stream",
     "text": [
      "loss=27.9777 (48.4964), lr=0.050000: : 100% 1300/1300 [00:48<00:00, 26.97it/s] \n"
     ]
    },
    {
     "data": {
      "text/html": [
       "<pre style=\"white-space:pre;overflow-x:auto;line-height:normal;font-family:Menlo,'DejaVu Sans Mono',consolas,'Courier New',monospace\">==&gt; <span style=\"font-weight: bold\">[</span><span style=\"color: #008080; text-decoration-color: #008080; font-weight: bold\">2023</span>-<span style=\"color: #008080; text-decoration-color: #008080; font-weight: bold\">09</span>-11_09-<span style=\"color: #008080; text-decoration-color: #008080; font-weight: bold\">27</span>-<span style=\"color: #008080; text-decoration-color: #008080; font-weight: bold\">21</span><span style=\"font-weight: bold\">]</span> Finished Epoch <span style=\"color: #008080; text-decoration-color: #008080; font-weight: bold\">31</span>/<span style=\"color: #008080; text-decoration-color: #008080; font-weight: bold\">50</span>. <span style=\"color: #808000; text-decoration-color: #808000\">CPU</span>=<span style=\"color: #008080; text-decoration-color: #008080; font-weight: bold\">4.</span>3GB, <span style=\"color: #808000; text-decoration-color: #808000\">GPU</span>=<span style=\"color: #008080; text-decoration-color: #008080; font-weight: bold\">45.</span>4GB.\n",
       "</pre>\n"
      ],
      "text/plain": [
       "==> \u001b[1m[\u001b[0m\u001b[1;36m2023\u001b[0m-\u001b[1;36m09\u001b[0m-11_09-\u001b[1;36m27\u001b[0m-\u001b[1;36m21\u001b[0m\u001b[1m]\u001b[0m Finished Epoch \u001b[1;36m31\u001b[0m/\u001b[1;36m50\u001b[0m. \u001b[33mCPU\u001b[0m=\u001b[1;36m4\u001b[0m\u001b[1;36m.\u001b[0m3GB, \u001b[33mGPU\u001b[0m=\u001b[1;36m45\u001b[0m\u001b[1;36m.\u001b[0m4GB.\n"
      ]
     },
     "metadata": {},
     "output_type": "display_data"
    },
    {
     "data": {
      "text/html": [
       "<pre style=\"white-space:pre;overflow-x:auto;line-height:normal;font-family:Menlo,'DejaVu Sans Mono',consolas,'Courier New',monospace\">++&gt; Evaluate werewolf_big at epoch <span style=\"color: #008080; text-decoration-color: #008080; font-weight: bold\">31</span> <span style=\"color: #808000; text-decoration-color: #808000\">...</span>\n",
       "</pre>\n"
      ],
      "text/plain": [
       "++> Evaluate werewolf_big at epoch \u001b[1;36m31\u001b[0m \u001b[33m...\u001b[0m\n"
      ]
     },
     "metadata": {},
     "output_type": "display_data"
    },
    {
     "name": "stderr",
     "output_type": "stream",
     "text": [
      "loss=0.0000 (0.0000): : 100% 8/8 [00:00<00:00, 17.73it/s]\n"
     ]
    },
    {
     "data": {
      "text/html": [
       "<pre style=\"white-space:pre;overflow-x:auto;line-height:normal;font-family:Menlo,'DejaVu Sans Mono',consolas,'Courier New',monospace\">++&gt; Evaluate epoch <span style=\"color: #008080; text-decoration-color: #008080; font-weight: bold\">31</span> Finished.\n",
       "</pre>\n"
      ],
      "text/plain": [
       "++> Evaluate epoch \u001b[1;36m31\u001b[0m Finished.\n"
      ]
     },
     "metadata": {},
     "output_type": "display_data"
    },
    {
     "data": {
      "text/html": [
       "<pre style=\"white-space:pre;overflow-x:auto;line-height:normal;font-family:Menlo,'DejaVu Sans Mono',consolas,'Courier New',monospace\">==&gt; <span style=\"font-weight: bold\">[</span><span style=\"color: #008080; text-decoration-color: #008080; font-weight: bold\">2023</span>-<span style=\"color: #008080; text-decoration-color: #008080; font-weight: bold\">09</span>-11_09-<span style=\"color: #008080; text-decoration-color: #008080; font-weight: bold\">27</span>-<span style=\"color: #008080; text-decoration-color: #008080; font-weight: bold\">22</span><span style=\"font-weight: bold\">]</span> Start Training werewolf_big Epoch <span style=\"color: #008080; text-decoration-color: #008080; font-weight: bold\">32</span>/<span style=\"color: #008080; text-decoration-color: #008080; font-weight: bold\">50</span>, <span style=\"color: #808000; text-decoration-color: #808000\">lr</span>=<span style=\"color: #008080; text-decoration-color: #008080; font-weight: bold\">0.050000</span> <span style=\"color: #808000; text-decoration-color: #808000\">...</span>\n",
       "</pre>\n"
      ],
      "text/plain": [
       "==> \u001b[1m[\u001b[0m\u001b[1;36m2023\u001b[0m-\u001b[1;36m09\u001b[0m-11_09-\u001b[1;36m27\u001b[0m-\u001b[1;36m22\u001b[0m\u001b[1m]\u001b[0m Start Training werewolf_big Epoch \u001b[1;36m32\u001b[0m/\u001b[1;36m50\u001b[0m, \u001b[33mlr\u001b[0m=\u001b[1;36m0\u001b[0m\u001b[1;36m.050000\u001b[0m \u001b[33m...\u001b[0m\n"
      ]
     },
     "metadata": {},
     "output_type": "display_data"
    },
    {
     "name": "stderr",
     "output_type": "stream",
     "text": [
      "loss=10.3038 (51.5034), lr=0.050000: : 100% 1300/1300 [00:48<00:00, 26.94it/s] \n"
     ]
    },
    {
     "data": {
      "text/html": [
       "<pre style=\"white-space:pre;overflow-x:auto;line-height:normal;font-family:Menlo,'DejaVu Sans Mono',consolas,'Courier New',monospace\">==&gt; <span style=\"font-weight: bold\">[</span><span style=\"color: #008080; text-decoration-color: #008080; font-weight: bold\">2023</span>-<span style=\"color: #008080; text-decoration-color: #008080; font-weight: bold\">09</span>-11_09-<span style=\"color: #008080; text-decoration-color: #008080; font-weight: bold\">28</span>-<span style=\"color: #008080; text-decoration-color: #008080; font-weight: bold\">10</span><span style=\"font-weight: bold\">]</span> Finished Epoch <span style=\"color: #008080; text-decoration-color: #008080; font-weight: bold\">32</span>/<span style=\"color: #008080; text-decoration-color: #008080; font-weight: bold\">50</span>. <span style=\"color: #808000; text-decoration-color: #808000\">CPU</span>=<span style=\"color: #008080; text-decoration-color: #008080; font-weight: bold\">4.</span>3GB, <span style=\"color: #808000; text-decoration-color: #808000\">GPU</span>=<span style=\"color: #008080; text-decoration-color: #008080; font-weight: bold\">45.</span>4GB.\n",
       "</pre>\n"
      ],
      "text/plain": [
       "==> \u001b[1m[\u001b[0m\u001b[1;36m2023\u001b[0m-\u001b[1;36m09\u001b[0m-11_09-\u001b[1;36m28\u001b[0m-\u001b[1;36m10\u001b[0m\u001b[1m]\u001b[0m Finished Epoch \u001b[1;36m32\u001b[0m/\u001b[1;36m50\u001b[0m. \u001b[33mCPU\u001b[0m=\u001b[1;36m4\u001b[0m\u001b[1;36m.\u001b[0m3GB, \u001b[33mGPU\u001b[0m=\u001b[1;36m45\u001b[0m\u001b[1;36m.\u001b[0m4GB.\n"
      ]
     },
     "metadata": {},
     "output_type": "display_data"
    },
    {
     "data": {
      "text/html": [
       "<pre style=\"white-space:pre;overflow-x:auto;line-height:normal;font-family:Menlo,'DejaVu Sans Mono',consolas,'Courier New',monospace\">++&gt; Evaluate werewolf_big at epoch <span style=\"color: #008080; text-decoration-color: #008080; font-weight: bold\">32</span> <span style=\"color: #808000; text-decoration-color: #808000\">...</span>\n",
       "</pre>\n"
      ],
      "text/plain": [
       "++> Evaluate werewolf_big at epoch \u001b[1;36m32\u001b[0m \u001b[33m...\u001b[0m\n"
      ]
     },
     "metadata": {},
     "output_type": "display_data"
    },
    {
     "name": "stderr",
     "output_type": "stream",
     "text": [
      "loss=0.0000 (0.0000): : 100% 8/8 [00:00<00:00, 17.93it/s]\n"
     ]
    },
    {
     "data": {
      "text/html": [
       "<pre style=\"white-space:pre;overflow-x:auto;line-height:normal;font-family:Menlo,'DejaVu Sans Mono',consolas,'Courier New',monospace\">++&gt; Evaluate epoch <span style=\"color: #008080; text-decoration-color: #008080; font-weight: bold\">32</span> Finished.\n",
       "</pre>\n"
      ],
      "text/plain": [
       "++> Evaluate epoch \u001b[1;36m32\u001b[0m Finished.\n"
      ]
     },
     "metadata": {},
     "output_type": "display_data"
    },
    {
     "data": {
      "text/html": [
       "<pre style=\"white-space:pre;overflow-x:auto;line-height:normal;font-family:Menlo,'DejaVu Sans Mono',consolas,'Courier New',monospace\">==&gt; <span style=\"font-weight: bold\">[</span><span style=\"color: #008080; text-decoration-color: #008080; font-weight: bold\">2023</span>-<span style=\"color: #008080; text-decoration-color: #008080; font-weight: bold\">09</span>-11_09-<span style=\"color: #008080; text-decoration-color: #008080; font-weight: bold\">28</span>-<span style=\"color: #008080; text-decoration-color: #008080; font-weight: bold\">11</span><span style=\"font-weight: bold\">]</span> Start Training werewolf_big Epoch <span style=\"color: #008080; text-decoration-color: #008080; font-weight: bold\">33</span>/<span style=\"color: #008080; text-decoration-color: #008080; font-weight: bold\">50</span>, <span style=\"color: #808000; text-decoration-color: #808000\">lr</span>=<span style=\"color: #008080; text-decoration-color: #008080; font-weight: bold\">0.050000</span> <span style=\"color: #808000; text-decoration-color: #808000\">...</span>\n",
       "</pre>\n"
      ],
      "text/plain": [
       "==> \u001b[1m[\u001b[0m\u001b[1;36m2023\u001b[0m-\u001b[1;36m09\u001b[0m-11_09-\u001b[1;36m28\u001b[0m-\u001b[1;36m11\u001b[0m\u001b[1m]\u001b[0m Start Training werewolf_big Epoch \u001b[1;36m33\u001b[0m/\u001b[1;36m50\u001b[0m, \u001b[33mlr\u001b[0m=\u001b[1;36m0\u001b[0m\u001b[1;36m.050000\u001b[0m \u001b[33m...\u001b[0m\n"
      ]
     },
     "metadata": {},
     "output_type": "display_data"
    },
    {
     "name": "stderr",
     "output_type": "stream",
     "text": [
      "loss=28.8580 (57.8712), lr=0.050000: : 100% 1300/1300 [00:48<00:00, 26.95it/s] \n"
     ]
    },
    {
     "data": {
      "text/html": [
       "<pre style=\"white-space:pre;overflow-x:auto;line-height:normal;font-family:Menlo,'DejaVu Sans Mono',consolas,'Courier New',monospace\">==&gt; <span style=\"font-weight: bold\">[</span><span style=\"color: #008080; text-decoration-color: #008080; font-weight: bold\">2023</span>-<span style=\"color: #008080; text-decoration-color: #008080; font-weight: bold\">09</span>-11_09-<span style=\"color: #008080; text-decoration-color: #008080; font-weight: bold\">28</span>-<span style=\"color: #008080; text-decoration-color: #008080; font-weight: bold\">59</span><span style=\"font-weight: bold\">]</span> Finished Epoch <span style=\"color: #008080; text-decoration-color: #008080; font-weight: bold\">33</span>/<span style=\"color: #008080; text-decoration-color: #008080; font-weight: bold\">50</span>. <span style=\"color: #808000; text-decoration-color: #808000\">CPU</span>=<span style=\"color: #008080; text-decoration-color: #008080; font-weight: bold\">4.</span>3GB, <span style=\"color: #808000; text-decoration-color: #808000\">GPU</span>=<span style=\"color: #008080; text-decoration-color: #008080; font-weight: bold\">45.</span>4GB.\n",
       "</pre>\n"
      ],
      "text/plain": [
       "==> \u001b[1m[\u001b[0m\u001b[1;36m2023\u001b[0m-\u001b[1;36m09\u001b[0m-11_09-\u001b[1;36m28\u001b[0m-\u001b[1;36m59\u001b[0m\u001b[1m]\u001b[0m Finished Epoch \u001b[1;36m33\u001b[0m/\u001b[1;36m50\u001b[0m. \u001b[33mCPU\u001b[0m=\u001b[1;36m4\u001b[0m\u001b[1;36m.\u001b[0m3GB, \u001b[33mGPU\u001b[0m=\u001b[1;36m45\u001b[0m\u001b[1;36m.\u001b[0m4GB.\n"
      ]
     },
     "metadata": {},
     "output_type": "display_data"
    },
    {
     "data": {
      "text/html": [
       "<pre style=\"white-space:pre;overflow-x:auto;line-height:normal;font-family:Menlo,'DejaVu Sans Mono',consolas,'Courier New',monospace\">++&gt; Evaluate werewolf_big at epoch <span style=\"color: #008080; text-decoration-color: #008080; font-weight: bold\">33</span> <span style=\"color: #808000; text-decoration-color: #808000\">...</span>\n",
       "</pre>\n"
      ],
      "text/plain": [
       "++> Evaluate werewolf_big at epoch \u001b[1;36m33\u001b[0m \u001b[33m...\u001b[0m\n"
      ]
     },
     "metadata": {},
     "output_type": "display_data"
    },
    {
     "name": "stderr",
     "output_type": "stream",
     "text": [
      "loss=0.0000 (0.0000): : 100% 8/8 [00:00<00:00, 17.72it/s]\n"
     ]
    },
    {
     "data": {
      "text/html": [
       "<pre style=\"white-space:pre;overflow-x:auto;line-height:normal;font-family:Menlo,'DejaVu Sans Mono',consolas,'Courier New',monospace\">++&gt; Evaluate epoch <span style=\"color: #008080; text-decoration-color: #008080; font-weight: bold\">33</span> Finished.\n",
       "</pre>\n"
      ],
      "text/plain": [
       "++> Evaluate epoch \u001b[1;36m33\u001b[0m Finished.\n"
      ]
     },
     "metadata": {},
     "output_type": "display_data"
    },
    {
     "data": {
      "text/html": [
       "<pre style=\"white-space:pre;overflow-x:auto;line-height:normal;font-family:Menlo,'DejaVu Sans Mono',consolas,'Courier New',monospace\">==&gt; <span style=\"font-weight: bold\">[</span><span style=\"color: #008080; text-decoration-color: #008080; font-weight: bold\">2023</span>-<span style=\"color: #008080; text-decoration-color: #008080; font-weight: bold\">09</span>-11_09-<span style=\"color: #008080; text-decoration-color: #008080; font-weight: bold\">29</span>-<span style=\"color: #008080; text-decoration-color: #008080; font-weight: bold\">00</span><span style=\"font-weight: bold\">]</span> Start Training werewolf_big Epoch <span style=\"color: #008080; text-decoration-color: #008080; font-weight: bold\">34</span>/<span style=\"color: #008080; text-decoration-color: #008080; font-weight: bold\">50</span>, <span style=\"color: #808000; text-decoration-color: #808000\">lr</span>=<span style=\"color: #008080; text-decoration-color: #008080; font-weight: bold\">0.050000</span> <span style=\"color: #808000; text-decoration-color: #808000\">...</span>\n",
       "</pre>\n"
      ],
      "text/plain": [
       "==> \u001b[1m[\u001b[0m\u001b[1;36m2023\u001b[0m-\u001b[1;36m09\u001b[0m-11_09-\u001b[1;36m29\u001b[0m-\u001b[1;36m00\u001b[0m\u001b[1m]\u001b[0m Start Training werewolf_big Epoch \u001b[1;36m34\u001b[0m/\u001b[1;36m50\u001b[0m, \u001b[33mlr\u001b[0m=\u001b[1;36m0\u001b[0m\u001b[1;36m.050000\u001b[0m \u001b[33m...\u001b[0m\n"
      ]
     },
     "metadata": {},
     "output_type": "display_data"
    },
    {
     "name": "stderr",
     "output_type": "stream",
     "text": [
      "loss=19.1464 (51.0851), lr=0.050000: : 100% 1300/1300 [00:48<00:00, 26.97it/s]\n"
     ]
    },
    {
     "data": {
      "text/html": [
       "<pre style=\"white-space:pre;overflow-x:auto;line-height:normal;font-family:Menlo,'DejaVu Sans Mono',consolas,'Courier New',monospace\">==&gt; <span style=\"font-weight: bold\">[</span><span style=\"color: #008080; text-decoration-color: #008080; font-weight: bold\">2023</span>-<span style=\"color: #008080; text-decoration-color: #008080; font-weight: bold\">09</span>-11_09-<span style=\"color: #008080; text-decoration-color: #008080; font-weight: bold\">29</span>-<span style=\"color: #008080; text-decoration-color: #008080; font-weight: bold\">48</span><span style=\"font-weight: bold\">]</span> Finished Epoch <span style=\"color: #008080; text-decoration-color: #008080; font-weight: bold\">34</span>/<span style=\"color: #008080; text-decoration-color: #008080; font-weight: bold\">50</span>. <span style=\"color: #808000; text-decoration-color: #808000\">CPU</span>=<span style=\"color: #008080; text-decoration-color: #008080; font-weight: bold\">3.</span>7GB, <span style=\"color: #808000; text-decoration-color: #808000\">GPU</span>=<span style=\"color: #008080; text-decoration-color: #008080; font-weight: bold\">45.</span>4GB.\n",
       "</pre>\n"
      ],
      "text/plain": [
       "==> \u001b[1m[\u001b[0m\u001b[1;36m2023\u001b[0m-\u001b[1;36m09\u001b[0m-11_09-\u001b[1;36m29\u001b[0m-\u001b[1;36m48\u001b[0m\u001b[1m]\u001b[0m Finished Epoch \u001b[1;36m34\u001b[0m/\u001b[1;36m50\u001b[0m. \u001b[33mCPU\u001b[0m=\u001b[1;36m3\u001b[0m\u001b[1;36m.\u001b[0m7GB, \u001b[33mGPU\u001b[0m=\u001b[1;36m45\u001b[0m\u001b[1;36m.\u001b[0m4GB.\n"
      ]
     },
     "metadata": {},
     "output_type": "display_data"
    },
    {
     "data": {
      "text/html": [
       "<pre style=\"white-space:pre;overflow-x:auto;line-height:normal;font-family:Menlo,'DejaVu Sans Mono',consolas,'Courier New',monospace\">++&gt; Evaluate werewolf_big at epoch <span style=\"color: #008080; text-decoration-color: #008080; font-weight: bold\">34</span> <span style=\"color: #808000; text-decoration-color: #808000\">...</span>\n",
       "</pre>\n"
      ],
      "text/plain": [
       "++> Evaluate werewolf_big at epoch \u001b[1;36m34\u001b[0m \u001b[33m...\u001b[0m\n"
      ]
     },
     "metadata": {},
     "output_type": "display_data"
    },
    {
     "name": "stderr",
     "output_type": "stream",
     "text": [
      "loss=0.0000 (0.0000): : 100% 8/8 [00:00<00:00, 17.72it/s]\n"
     ]
    },
    {
     "data": {
      "text/html": [
       "<pre style=\"white-space:pre;overflow-x:auto;line-height:normal;font-family:Menlo,'DejaVu Sans Mono',consolas,'Courier New',monospace\">++&gt; Evaluate epoch <span style=\"color: #008080; text-decoration-color: #008080; font-weight: bold\">34</span> Finished.\n",
       "</pre>\n"
      ],
      "text/plain": [
       "++> Evaluate epoch \u001b[1;36m34\u001b[0m Finished.\n"
      ]
     },
     "metadata": {},
     "output_type": "display_data"
    },
    {
     "data": {
      "text/html": [
       "<pre style=\"white-space:pre;overflow-x:auto;line-height:normal;font-family:Menlo,'DejaVu Sans Mono',consolas,'Courier New',monospace\">==&gt; <span style=\"font-weight: bold\">[</span><span style=\"color: #008080; text-decoration-color: #008080; font-weight: bold\">2023</span>-<span style=\"color: #008080; text-decoration-color: #008080; font-weight: bold\">09</span>-11_09-<span style=\"color: #008080; text-decoration-color: #008080; font-weight: bold\">29</span>-<span style=\"color: #008080; text-decoration-color: #008080; font-weight: bold\">49</span><span style=\"font-weight: bold\">]</span> Start Training werewolf_big Epoch <span style=\"color: #008080; text-decoration-color: #008080; font-weight: bold\">35</span>/<span style=\"color: #008080; text-decoration-color: #008080; font-weight: bold\">50</span>, <span style=\"color: #808000; text-decoration-color: #808000\">lr</span>=<span style=\"color: #008080; text-decoration-color: #008080; font-weight: bold\">0.050000</span> <span style=\"color: #808000; text-decoration-color: #808000\">...</span>\n",
       "</pre>\n"
      ],
      "text/plain": [
       "==> \u001b[1m[\u001b[0m\u001b[1;36m2023\u001b[0m-\u001b[1;36m09\u001b[0m-11_09-\u001b[1;36m29\u001b[0m-\u001b[1;36m49\u001b[0m\u001b[1m]\u001b[0m Start Training werewolf_big Epoch \u001b[1;36m35\u001b[0m/\u001b[1;36m50\u001b[0m, \u001b[33mlr\u001b[0m=\u001b[1;36m0\u001b[0m\u001b[1;36m.050000\u001b[0m \u001b[33m...\u001b[0m\n"
      ]
     },
     "metadata": {},
     "output_type": "display_data"
    },
    {
     "name": "stderr",
     "output_type": "stream",
     "text": [
      "loss=15.0776 (50.9882), lr=0.050000: : 100% 1300/1300 [00:47<00:00, 27.09it/s] \n"
     ]
    },
    {
     "data": {
      "text/html": [
       "<pre style=\"white-space:pre;overflow-x:auto;line-height:normal;font-family:Menlo,'DejaVu Sans Mono',consolas,'Courier New',monospace\">==&gt; <span style=\"font-weight: bold\">[</span><span style=\"color: #008080; text-decoration-color: #008080; font-weight: bold\">2023</span>-<span style=\"color: #008080; text-decoration-color: #008080; font-weight: bold\">09</span>-11_09-<span style=\"color: #008080; text-decoration-color: #008080; font-weight: bold\">30</span>-<span style=\"color: #008080; text-decoration-color: #008080; font-weight: bold\">37</span><span style=\"font-weight: bold\">]</span> Finished Epoch <span style=\"color: #008080; text-decoration-color: #008080; font-weight: bold\">35</span>/<span style=\"color: #008080; text-decoration-color: #008080; font-weight: bold\">50</span>. <span style=\"color: #808000; text-decoration-color: #808000\">CPU</span>=<span style=\"color: #008080; text-decoration-color: #008080; font-weight: bold\">3.</span>9GB, <span style=\"color: #808000; text-decoration-color: #808000\">GPU</span>=<span style=\"color: #008080; text-decoration-color: #008080; font-weight: bold\">45.</span>4GB.\n",
       "</pre>\n"
      ],
      "text/plain": [
       "==> \u001b[1m[\u001b[0m\u001b[1;36m2023\u001b[0m-\u001b[1;36m09\u001b[0m-11_09-\u001b[1;36m30\u001b[0m-\u001b[1;36m37\u001b[0m\u001b[1m]\u001b[0m Finished Epoch \u001b[1;36m35\u001b[0m/\u001b[1;36m50\u001b[0m. \u001b[33mCPU\u001b[0m=\u001b[1;36m3\u001b[0m\u001b[1;36m.\u001b[0m9GB, \u001b[33mGPU\u001b[0m=\u001b[1;36m45\u001b[0m\u001b[1;36m.\u001b[0m4GB.\n"
      ]
     },
     "metadata": {},
     "output_type": "display_data"
    },
    {
     "data": {
      "text/html": [
       "<pre style=\"white-space:pre;overflow-x:auto;line-height:normal;font-family:Menlo,'DejaVu Sans Mono',consolas,'Courier New',monospace\">++&gt; Evaluate werewolf_big at epoch <span style=\"color: #008080; text-decoration-color: #008080; font-weight: bold\">35</span> <span style=\"color: #808000; text-decoration-color: #808000\">...</span>\n",
       "</pre>\n"
      ],
      "text/plain": [
       "++> Evaluate werewolf_big at epoch \u001b[1;36m35\u001b[0m \u001b[33m...\u001b[0m\n"
      ]
     },
     "metadata": {},
     "output_type": "display_data"
    },
    {
     "name": "stderr",
     "output_type": "stream",
     "text": [
      "loss=0.0000 (0.0000): : 100% 8/8 [00:00<00:00, 17.77it/s]\n"
     ]
    },
    {
     "data": {
      "text/html": [
       "<pre style=\"white-space:pre;overflow-x:auto;line-height:normal;font-family:Menlo,'DejaVu Sans Mono',consolas,'Courier New',monospace\">++&gt; Evaluate epoch <span style=\"color: #008080; text-decoration-color: #008080; font-weight: bold\">35</span> Finished.\n",
       "</pre>\n"
      ],
      "text/plain": [
       "++> Evaluate epoch \u001b[1;36m35\u001b[0m Finished.\n"
      ]
     },
     "metadata": {},
     "output_type": "display_data"
    },
    {
     "data": {
      "text/html": [
       "<pre style=\"white-space:pre;overflow-x:auto;line-height:normal;font-family:Menlo,'DejaVu Sans Mono',consolas,'Courier New',monospace\">==&gt; <span style=\"font-weight: bold\">[</span><span style=\"color: #008080; text-decoration-color: #008080; font-weight: bold\">2023</span>-<span style=\"color: #008080; text-decoration-color: #008080; font-weight: bold\">09</span>-11_09-<span style=\"color: #008080; text-decoration-color: #008080; font-weight: bold\">30</span>-<span style=\"color: #008080; text-decoration-color: #008080; font-weight: bold\">38</span><span style=\"font-weight: bold\">]</span> Start Training werewolf_big Epoch <span style=\"color: #008080; text-decoration-color: #008080; font-weight: bold\">36</span>/<span style=\"color: #008080; text-decoration-color: #008080; font-weight: bold\">50</span>, <span style=\"color: #808000; text-decoration-color: #808000\">lr</span>=<span style=\"color: #008080; text-decoration-color: #008080; font-weight: bold\">0.050000</span> <span style=\"color: #808000; text-decoration-color: #808000\">...</span>\n",
       "</pre>\n"
      ],
      "text/plain": [
       "==> \u001b[1m[\u001b[0m\u001b[1;36m2023\u001b[0m-\u001b[1;36m09\u001b[0m-11_09-\u001b[1;36m30\u001b[0m-\u001b[1;36m38\u001b[0m\u001b[1m]\u001b[0m Start Training werewolf_big Epoch \u001b[1;36m36\u001b[0m/\u001b[1;36m50\u001b[0m, \u001b[33mlr\u001b[0m=\u001b[1;36m0\u001b[0m\u001b[1;36m.050000\u001b[0m \u001b[33m...\u001b[0m\n"
      ]
     },
     "metadata": {},
     "output_type": "display_data"
    },
    {
     "name": "stderr",
     "output_type": "stream",
     "text": [
      "loss=23.9494 (56.5337), lr=0.050000: : 100% 1300/1300 [00:48<00:00, 27.06it/s] \n"
     ]
    },
    {
     "data": {
      "text/html": [
       "<pre style=\"white-space:pre;overflow-x:auto;line-height:normal;font-family:Menlo,'DejaVu Sans Mono',consolas,'Courier New',monospace\">==&gt; <span style=\"font-weight: bold\">[</span><span style=\"color: #008080; text-decoration-color: #008080; font-weight: bold\">2023</span>-<span style=\"color: #008080; text-decoration-color: #008080; font-weight: bold\">09</span>-11_09-<span style=\"color: #008080; text-decoration-color: #008080; font-weight: bold\">31</span>-<span style=\"color: #008080; text-decoration-color: #008080; font-weight: bold\">26</span><span style=\"font-weight: bold\">]</span> Finished Epoch <span style=\"color: #008080; text-decoration-color: #008080; font-weight: bold\">36</span>/<span style=\"color: #008080; text-decoration-color: #008080; font-weight: bold\">50</span>. <span style=\"color: #808000; text-decoration-color: #808000\">CPU</span>=<span style=\"color: #008080; text-decoration-color: #008080; font-weight: bold\">3.</span>9GB, <span style=\"color: #808000; text-decoration-color: #808000\">GPU</span>=<span style=\"color: #008080; text-decoration-color: #008080; font-weight: bold\">45.</span>4GB.\n",
       "</pre>\n"
      ],
      "text/plain": [
       "==> \u001b[1m[\u001b[0m\u001b[1;36m2023\u001b[0m-\u001b[1;36m09\u001b[0m-11_09-\u001b[1;36m31\u001b[0m-\u001b[1;36m26\u001b[0m\u001b[1m]\u001b[0m Finished Epoch \u001b[1;36m36\u001b[0m/\u001b[1;36m50\u001b[0m. \u001b[33mCPU\u001b[0m=\u001b[1;36m3\u001b[0m\u001b[1;36m.\u001b[0m9GB, \u001b[33mGPU\u001b[0m=\u001b[1;36m45\u001b[0m\u001b[1;36m.\u001b[0m4GB.\n"
      ]
     },
     "metadata": {},
     "output_type": "display_data"
    },
    {
     "data": {
      "text/html": [
       "<pre style=\"white-space:pre;overflow-x:auto;line-height:normal;font-family:Menlo,'DejaVu Sans Mono',consolas,'Courier New',monospace\">++&gt; Evaluate werewolf_big at epoch <span style=\"color: #008080; text-decoration-color: #008080; font-weight: bold\">36</span> <span style=\"color: #808000; text-decoration-color: #808000\">...</span>\n",
       "</pre>\n"
      ],
      "text/plain": [
       "++> Evaluate werewolf_big at epoch \u001b[1;36m36\u001b[0m \u001b[33m...\u001b[0m\n"
      ]
     },
     "metadata": {},
     "output_type": "display_data"
    },
    {
     "name": "stderr",
     "output_type": "stream",
     "text": [
      "loss=0.0000 (0.0000): : 100% 8/8 [00:00<00:00, 17.88it/s]\n"
     ]
    },
    {
     "data": {
      "text/html": [
       "<pre style=\"white-space:pre;overflow-x:auto;line-height:normal;font-family:Menlo,'DejaVu Sans Mono',consolas,'Courier New',monospace\">++&gt; Evaluate epoch <span style=\"color: #008080; text-decoration-color: #008080; font-weight: bold\">36</span> Finished.\n",
       "</pre>\n"
      ],
      "text/plain": [
       "++> Evaluate epoch \u001b[1;36m36\u001b[0m Finished.\n"
      ]
     },
     "metadata": {},
     "output_type": "display_data"
    },
    {
     "data": {
      "text/html": [
       "<pre style=\"white-space:pre;overflow-x:auto;line-height:normal;font-family:Menlo,'DejaVu Sans Mono',consolas,'Courier New',monospace\">==&gt; <span style=\"font-weight: bold\">[</span><span style=\"color: #008080; text-decoration-color: #008080; font-weight: bold\">2023</span>-<span style=\"color: #008080; text-decoration-color: #008080; font-weight: bold\">09</span>-11_09-<span style=\"color: #008080; text-decoration-color: #008080; font-weight: bold\">31</span>-<span style=\"color: #008080; text-decoration-color: #008080; font-weight: bold\">26</span><span style=\"font-weight: bold\">]</span> Start Training werewolf_big Epoch <span style=\"color: #008080; text-decoration-color: #008080; font-weight: bold\">37</span>/<span style=\"color: #008080; text-decoration-color: #008080; font-weight: bold\">50</span>, <span style=\"color: #808000; text-decoration-color: #808000\">lr</span>=<span style=\"color: #008080; text-decoration-color: #008080; font-weight: bold\">0.050000</span> <span style=\"color: #808000; text-decoration-color: #808000\">...</span>\n",
       "</pre>\n"
      ],
      "text/plain": [
       "==> \u001b[1m[\u001b[0m\u001b[1;36m2023\u001b[0m-\u001b[1;36m09\u001b[0m-11_09-\u001b[1;36m31\u001b[0m-\u001b[1;36m26\u001b[0m\u001b[1m]\u001b[0m Start Training werewolf_big Epoch \u001b[1;36m37\u001b[0m/\u001b[1;36m50\u001b[0m, \u001b[33mlr\u001b[0m=\u001b[1;36m0\u001b[0m\u001b[1;36m.050000\u001b[0m \u001b[33m...\u001b[0m\n"
      ]
     },
     "metadata": {},
     "output_type": "display_data"
    },
    {
     "name": "stderr",
     "output_type": "stream",
     "text": [
      "loss=18.7563 (52.8114), lr=0.050000: : 100% 1300/1300 [00:48<00:00, 27.02it/s] \n"
     ]
    },
    {
     "data": {
      "text/html": [
       "<pre style=\"white-space:pre;overflow-x:auto;line-height:normal;font-family:Menlo,'DejaVu Sans Mono',consolas,'Courier New',monospace\">==&gt; <span style=\"font-weight: bold\">[</span><span style=\"color: #008080; text-decoration-color: #008080; font-weight: bold\">2023</span>-<span style=\"color: #008080; text-decoration-color: #008080; font-weight: bold\">09</span>-11_09-<span style=\"color: #008080; text-decoration-color: #008080; font-weight: bold\">32</span>-<span style=\"color: #008080; text-decoration-color: #008080; font-weight: bold\">15</span><span style=\"font-weight: bold\">]</span> Finished Epoch <span style=\"color: #008080; text-decoration-color: #008080; font-weight: bold\">37</span>/<span style=\"color: #008080; text-decoration-color: #008080; font-weight: bold\">50</span>. <span style=\"color: #808000; text-decoration-color: #808000\">CPU</span>=<span style=\"color: #008080; text-decoration-color: #008080; font-weight: bold\">3.</span>9GB, <span style=\"color: #808000; text-decoration-color: #808000\">GPU</span>=<span style=\"color: #008080; text-decoration-color: #008080; font-weight: bold\">45.</span>4GB.\n",
       "</pre>\n"
      ],
      "text/plain": [
       "==> \u001b[1m[\u001b[0m\u001b[1;36m2023\u001b[0m-\u001b[1;36m09\u001b[0m-11_09-\u001b[1;36m32\u001b[0m-\u001b[1;36m15\u001b[0m\u001b[1m]\u001b[0m Finished Epoch \u001b[1;36m37\u001b[0m/\u001b[1;36m50\u001b[0m. \u001b[33mCPU\u001b[0m=\u001b[1;36m3\u001b[0m\u001b[1;36m.\u001b[0m9GB, \u001b[33mGPU\u001b[0m=\u001b[1;36m45\u001b[0m\u001b[1;36m.\u001b[0m4GB.\n"
      ]
     },
     "metadata": {},
     "output_type": "display_data"
    },
    {
     "data": {
      "text/html": [
       "<pre style=\"white-space:pre;overflow-x:auto;line-height:normal;font-family:Menlo,'DejaVu Sans Mono',consolas,'Courier New',monospace\">++&gt; Evaluate werewolf_big at epoch <span style=\"color: #008080; text-decoration-color: #008080; font-weight: bold\">37</span> <span style=\"color: #808000; text-decoration-color: #808000\">...</span>\n",
       "</pre>\n"
      ],
      "text/plain": [
       "++> Evaluate werewolf_big at epoch \u001b[1;36m37\u001b[0m \u001b[33m...\u001b[0m\n"
      ]
     },
     "metadata": {},
     "output_type": "display_data"
    },
    {
     "name": "stderr",
     "output_type": "stream",
     "text": [
      "loss=0.0000 (0.0000): : 100% 8/8 [00:00<00:00, 17.92it/s]\n"
     ]
    },
    {
     "data": {
      "text/html": [
       "<pre style=\"white-space:pre;overflow-x:auto;line-height:normal;font-family:Menlo,'DejaVu Sans Mono',consolas,'Courier New',monospace\">++&gt; Evaluate epoch <span style=\"color: #008080; text-decoration-color: #008080; font-weight: bold\">37</span> Finished.\n",
       "</pre>\n"
      ],
      "text/plain": [
       "++> Evaluate epoch \u001b[1;36m37\u001b[0m Finished.\n"
      ]
     },
     "metadata": {},
     "output_type": "display_data"
    },
    {
     "data": {
      "text/html": [
       "<pre style=\"white-space:pre;overflow-x:auto;line-height:normal;font-family:Menlo,'DejaVu Sans Mono',consolas,'Courier New',monospace\">==&gt; <span style=\"font-weight: bold\">[</span><span style=\"color: #008080; text-decoration-color: #008080; font-weight: bold\">2023</span>-<span style=\"color: #008080; text-decoration-color: #008080; font-weight: bold\">09</span>-11_09-<span style=\"color: #008080; text-decoration-color: #008080; font-weight: bold\">32</span>-<span style=\"color: #008080; text-decoration-color: #008080; font-weight: bold\">15</span><span style=\"font-weight: bold\">]</span> Start Training werewolf_big Epoch <span style=\"color: #008080; text-decoration-color: #008080; font-weight: bold\">38</span>/<span style=\"color: #008080; text-decoration-color: #008080; font-weight: bold\">50</span>, <span style=\"color: #808000; text-decoration-color: #808000\">lr</span>=<span style=\"color: #008080; text-decoration-color: #008080; font-weight: bold\">0.050000</span> <span style=\"color: #808000; text-decoration-color: #808000\">...</span>\n",
       "</pre>\n"
      ],
      "text/plain": [
       "==> \u001b[1m[\u001b[0m\u001b[1;36m2023\u001b[0m-\u001b[1;36m09\u001b[0m-11_09-\u001b[1;36m32\u001b[0m-\u001b[1;36m15\u001b[0m\u001b[1m]\u001b[0m Start Training werewolf_big Epoch \u001b[1;36m38\u001b[0m/\u001b[1;36m50\u001b[0m, \u001b[33mlr\u001b[0m=\u001b[1;36m0\u001b[0m\u001b[1;36m.050000\u001b[0m \u001b[33m...\u001b[0m\n"
      ]
     },
     "metadata": {},
     "output_type": "display_data"
    },
    {
     "name": "stderr",
     "output_type": "stream",
     "text": [
      "loss=11.2311 (51.0998), lr=0.050000: : 100% 1300/1300 [00:48<00:00, 27.07it/s] \n"
     ]
    },
    {
     "data": {
      "text/html": [
       "<pre style=\"white-space:pre;overflow-x:auto;line-height:normal;font-family:Menlo,'DejaVu Sans Mono',consolas,'Courier New',monospace\">==&gt; <span style=\"font-weight: bold\">[</span><span style=\"color: #008080; text-decoration-color: #008080; font-weight: bold\">2023</span>-<span style=\"color: #008080; text-decoration-color: #008080; font-weight: bold\">09</span>-11_09-<span style=\"color: #008080; text-decoration-color: #008080; font-weight: bold\">33</span>-<span style=\"color: #008080; text-decoration-color: #008080; font-weight: bold\">03</span><span style=\"font-weight: bold\">]</span> Finished Epoch <span style=\"color: #008080; text-decoration-color: #008080; font-weight: bold\">38</span>/<span style=\"color: #008080; text-decoration-color: #008080; font-weight: bold\">50</span>. <span style=\"color: #808000; text-decoration-color: #808000\">CPU</span>=<span style=\"color: #008080; text-decoration-color: #008080; font-weight: bold\">3.</span>9GB, <span style=\"color: #808000; text-decoration-color: #808000\">GPU</span>=<span style=\"color: #008080; text-decoration-color: #008080; font-weight: bold\">45.</span>4GB.\n",
       "</pre>\n"
      ],
      "text/plain": [
       "==> \u001b[1m[\u001b[0m\u001b[1;36m2023\u001b[0m-\u001b[1;36m09\u001b[0m-11_09-\u001b[1;36m33\u001b[0m-\u001b[1;36m03\u001b[0m\u001b[1m]\u001b[0m Finished Epoch \u001b[1;36m38\u001b[0m/\u001b[1;36m50\u001b[0m. \u001b[33mCPU\u001b[0m=\u001b[1;36m3\u001b[0m\u001b[1;36m.\u001b[0m9GB, \u001b[33mGPU\u001b[0m=\u001b[1;36m45\u001b[0m\u001b[1;36m.\u001b[0m4GB.\n"
      ]
     },
     "metadata": {},
     "output_type": "display_data"
    },
    {
     "data": {
      "text/html": [
       "<pre style=\"white-space:pre;overflow-x:auto;line-height:normal;font-family:Menlo,'DejaVu Sans Mono',consolas,'Courier New',monospace\">++&gt; Evaluate werewolf_big at epoch <span style=\"color: #008080; text-decoration-color: #008080; font-weight: bold\">38</span> <span style=\"color: #808000; text-decoration-color: #808000\">...</span>\n",
       "</pre>\n"
      ],
      "text/plain": [
       "++> Evaluate werewolf_big at epoch \u001b[1;36m38\u001b[0m \u001b[33m...\u001b[0m\n"
      ]
     },
     "metadata": {},
     "output_type": "display_data"
    },
    {
     "name": "stderr",
     "output_type": "stream",
     "text": [
      "loss=0.0000 (0.0000): : 100% 8/8 [00:00<00:00, 18.22it/s]\n"
     ]
    },
    {
     "data": {
      "text/html": [
       "<pre style=\"white-space:pre;overflow-x:auto;line-height:normal;font-family:Menlo,'DejaVu Sans Mono',consolas,'Courier New',monospace\">++&gt; Evaluate epoch <span style=\"color: #008080; text-decoration-color: #008080; font-weight: bold\">38</span> Finished.\n",
       "</pre>\n"
      ],
      "text/plain": [
       "++> Evaluate epoch \u001b[1;36m38\u001b[0m Finished.\n"
      ]
     },
     "metadata": {},
     "output_type": "display_data"
    },
    {
     "data": {
      "text/html": [
       "<pre style=\"white-space:pre;overflow-x:auto;line-height:normal;font-family:Menlo,'DejaVu Sans Mono',consolas,'Courier New',monospace\">==&gt; <span style=\"font-weight: bold\">[</span><span style=\"color: #008080; text-decoration-color: #008080; font-weight: bold\">2023</span>-<span style=\"color: #008080; text-decoration-color: #008080; font-weight: bold\">09</span>-11_09-<span style=\"color: #008080; text-decoration-color: #008080; font-weight: bold\">33</span>-<span style=\"color: #008080; text-decoration-color: #008080; font-weight: bold\">04</span><span style=\"font-weight: bold\">]</span> Start Training werewolf_big Epoch <span style=\"color: #008080; text-decoration-color: #008080; font-weight: bold\">39</span>/<span style=\"color: #008080; text-decoration-color: #008080; font-weight: bold\">50</span>, <span style=\"color: #808000; text-decoration-color: #808000\">lr</span>=<span style=\"color: #008080; text-decoration-color: #008080; font-weight: bold\">0.050000</span> <span style=\"color: #808000; text-decoration-color: #808000\">...</span>\n",
       "</pre>\n"
      ],
      "text/plain": [
       "==> \u001b[1m[\u001b[0m\u001b[1;36m2023\u001b[0m-\u001b[1;36m09\u001b[0m-11_09-\u001b[1;36m33\u001b[0m-\u001b[1;36m04\u001b[0m\u001b[1m]\u001b[0m Start Training werewolf_big Epoch \u001b[1;36m39\u001b[0m/\u001b[1;36m50\u001b[0m, \u001b[33mlr\u001b[0m=\u001b[1;36m0\u001b[0m\u001b[1;36m.050000\u001b[0m \u001b[33m...\u001b[0m\n"
      ]
     },
     "metadata": {},
     "output_type": "display_data"
    },
    {
     "name": "stderr",
     "output_type": "stream",
     "text": [
      "loss=23.0717 (48.8603), lr=0.050000: : 100% 1300/1300 [00:48<00:00, 27.04it/s]\n"
     ]
    },
    {
     "data": {
      "text/html": [
       "<pre style=\"white-space:pre;overflow-x:auto;line-height:normal;font-family:Menlo,'DejaVu Sans Mono',consolas,'Courier New',monospace\">==&gt; <span style=\"font-weight: bold\">[</span><span style=\"color: #008080; text-decoration-color: #008080; font-weight: bold\">2023</span>-<span style=\"color: #008080; text-decoration-color: #008080; font-weight: bold\">09</span>-11_09-<span style=\"color: #008080; text-decoration-color: #008080; font-weight: bold\">33</span>-<span style=\"color: #008080; text-decoration-color: #008080; font-weight: bold\">52</span><span style=\"font-weight: bold\">]</span> Finished Epoch <span style=\"color: #008080; text-decoration-color: #008080; font-weight: bold\">39</span>/<span style=\"color: #008080; text-decoration-color: #008080; font-weight: bold\">50</span>. <span style=\"color: #808000; text-decoration-color: #808000\">CPU</span>=<span style=\"color: #008080; text-decoration-color: #008080; font-weight: bold\">3.</span>9GB, <span style=\"color: #808000; text-decoration-color: #808000\">GPU</span>=<span style=\"color: #008080; text-decoration-color: #008080; font-weight: bold\">45.</span>4GB.\n",
       "</pre>\n"
      ],
      "text/plain": [
       "==> \u001b[1m[\u001b[0m\u001b[1;36m2023\u001b[0m-\u001b[1;36m09\u001b[0m-11_09-\u001b[1;36m33\u001b[0m-\u001b[1;36m52\u001b[0m\u001b[1m]\u001b[0m Finished Epoch \u001b[1;36m39\u001b[0m/\u001b[1;36m50\u001b[0m. \u001b[33mCPU\u001b[0m=\u001b[1;36m3\u001b[0m\u001b[1;36m.\u001b[0m9GB, \u001b[33mGPU\u001b[0m=\u001b[1;36m45\u001b[0m\u001b[1;36m.\u001b[0m4GB.\n"
      ]
     },
     "metadata": {},
     "output_type": "display_data"
    },
    {
     "data": {
      "text/html": [
       "<pre style=\"white-space:pre;overflow-x:auto;line-height:normal;font-family:Menlo,'DejaVu Sans Mono',consolas,'Courier New',monospace\">++&gt; Evaluate werewolf_big at epoch <span style=\"color: #008080; text-decoration-color: #008080; font-weight: bold\">39</span> <span style=\"color: #808000; text-decoration-color: #808000\">...</span>\n",
       "</pre>\n"
      ],
      "text/plain": [
       "++> Evaluate werewolf_big at epoch \u001b[1;36m39\u001b[0m \u001b[33m...\u001b[0m\n"
      ]
     },
     "metadata": {},
     "output_type": "display_data"
    },
    {
     "name": "stderr",
     "output_type": "stream",
     "text": [
      "loss=0.0000 (0.0000): : 100% 8/8 [00:00<00:00, 17.84it/s]\n"
     ]
    },
    {
     "data": {
      "text/html": [
       "<pre style=\"white-space:pre;overflow-x:auto;line-height:normal;font-family:Menlo,'DejaVu Sans Mono',consolas,'Courier New',monospace\">++&gt; Evaluate epoch <span style=\"color: #008080; text-decoration-color: #008080; font-weight: bold\">39</span> Finished.\n",
       "</pre>\n"
      ],
      "text/plain": [
       "++> Evaluate epoch \u001b[1;36m39\u001b[0m Finished.\n"
      ]
     },
     "metadata": {},
     "output_type": "display_data"
    },
    {
     "data": {
      "text/html": [
       "<pre style=\"white-space:pre;overflow-x:auto;line-height:normal;font-family:Menlo,'DejaVu Sans Mono',consolas,'Courier New',monospace\">==&gt; <span style=\"font-weight: bold\">[</span><span style=\"color: #008080; text-decoration-color: #008080; font-weight: bold\">2023</span>-<span style=\"color: #008080; text-decoration-color: #008080; font-weight: bold\">09</span>-11_09-<span style=\"color: #008080; text-decoration-color: #008080; font-weight: bold\">33</span>-<span style=\"color: #008080; text-decoration-color: #008080; font-weight: bold\">53</span><span style=\"font-weight: bold\">]</span> Start Training werewolf_big Epoch <span style=\"color: #008080; text-decoration-color: #008080; font-weight: bold\">40</span>/<span style=\"color: #008080; text-decoration-color: #008080; font-weight: bold\">50</span>, <span style=\"color: #808000; text-decoration-color: #808000\">lr</span>=<span style=\"color: #008080; text-decoration-color: #008080; font-weight: bold\">0.050000</span> <span style=\"color: #808000; text-decoration-color: #808000\">...</span>\n",
       "</pre>\n"
      ],
      "text/plain": [
       "==> \u001b[1m[\u001b[0m\u001b[1;36m2023\u001b[0m-\u001b[1;36m09\u001b[0m-11_09-\u001b[1;36m33\u001b[0m-\u001b[1;36m53\u001b[0m\u001b[1m]\u001b[0m Start Training werewolf_big Epoch \u001b[1;36m40\u001b[0m/\u001b[1;36m50\u001b[0m, \u001b[33mlr\u001b[0m=\u001b[1;36m0\u001b[0m\u001b[1;36m.050000\u001b[0m \u001b[33m...\u001b[0m\n"
      ]
     },
     "metadata": {},
     "output_type": "display_data"
    },
    {
     "name": "stderr",
     "output_type": "stream",
     "text": [
      "loss=22.7674 (51.2571), lr=0.050000: : 100% 1300/1300 [00:48<00:00, 27.00it/s] \n"
     ]
    },
    {
     "data": {
      "text/html": [
       "<pre style=\"white-space:pre;overflow-x:auto;line-height:normal;font-family:Menlo,'DejaVu Sans Mono',consolas,'Courier New',monospace\">==&gt; <span style=\"font-weight: bold\">[</span><span style=\"color: #008080; text-decoration-color: #008080; font-weight: bold\">2023</span>-<span style=\"color: #008080; text-decoration-color: #008080; font-weight: bold\">09</span>-11_09-<span style=\"color: #008080; text-decoration-color: #008080; font-weight: bold\">34</span>-<span style=\"color: #008080; text-decoration-color: #008080; font-weight: bold\">41</span><span style=\"font-weight: bold\">]</span> Finished Epoch <span style=\"color: #008080; text-decoration-color: #008080; font-weight: bold\">40</span>/<span style=\"color: #008080; text-decoration-color: #008080; font-weight: bold\">50</span>. <span style=\"color: #808000; text-decoration-color: #808000\">CPU</span>=<span style=\"color: #008080; text-decoration-color: #008080; font-weight: bold\">3.</span>9GB, <span style=\"color: #808000; text-decoration-color: #808000\">GPU</span>=<span style=\"color: #008080; text-decoration-color: #008080; font-weight: bold\">45.</span>4GB.\n",
       "</pre>\n"
      ],
      "text/plain": [
       "==> \u001b[1m[\u001b[0m\u001b[1;36m2023\u001b[0m-\u001b[1;36m09\u001b[0m-11_09-\u001b[1;36m34\u001b[0m-\u001b[1;36m41\u001b[0m\u001b[1m]\u001b[0m Finished Epoch \u001b[1;36m40\u001b[0m/\u001b[1;36m50\u001b[0m. \u001b[33mCPU\u001b[0m=\u001b[1;36m3\u001b[0m\u001b[1;36m.\u001b[0m9GB, \u001b[33mGPU\u001b[0m=\u001b[1;36m45\u001b[0m\u001b[1;36m.\u001b[0m4GB.\n"
      ]
     },
     "metadata": {},
     "output_type": "display_data"
    },
    {
     "data": {
      "text/html": [
       "<pre style=\"white-space:pre;overflow-x:auto;line-height:normal;font-family:Menlo,'DejaVu Sans Mono',consolas,'Courier New',monospace\">++&gt; Evaluate werewolf_big at epoch <span style=\"color: #008080; text-decoration-color: #008080; font-weight: bold\">40</span> <span style=\"color: #808000; text-decoration-color: #808000\">...</span>\n",
       "</pre>\n"
      ],
      "text/plain": [
       "++> Evaluate werewolf_big at epoch \u001b[1;36m40\u001b[0m \u001b[33m...\u001b[0m\n"
      ]
     },
     "metadata": {},
     "output_type": "display_data"
    },
    {
     "name": "stderr",
     "output_type": "stream",
     "text": [
      "loss=0.0000 (0.0000): : 100% 8/8 [00:00<00:00, 17.69it/s]\n"
     ]
    },
    {
     "data": {
      "text/html": [
       "<pre style=\"white-space:pre;overflow-x:auto;line-height:normal;font-family:Menlo,'DejaVu Sans Mono',consolas,'Courier New',monospace\">++&gt; Evaluate epoch <span style=\"color: #008080; text-decoration-color: #008080; font-weight: bold\">40</span> Finished.\n",
       "</pre>\n"
      ],
      "text/plain": [
       "++> Evaluate epoch \u001b[1;36m40\u001b[0m Finished.\n"
      ]
     },
     "metadata": {},
     "output_type": "display_data"
    },
    {
     "data": {
      "text/html": [
       "<pre style=\"white-space:pre;overflow-x:auto;line-height:normal;font-family:Menlo,'DejaVu Sans Mono',consolas,'Courier New',monospace\">==&gt; Start Test, save results to werewolf_big/results\n",
       "</pre>\n"
      ],
      "text/plain": [
       "==> Start Test, save results to werewolf_big/results\n"
      ]
     },
     "metadata": {},
     "output_type": "display_data"
    },
    {
     "name": "stderr",
     "output_type": "stream",
     "text": [
      " 99% 99/100 [00:04<00:00, 22.98it/s]"
     ]
    },
    {
     "data": {
      "text/html": [
       "<pre style=\"white-space:pre;overflow-x:auto;line-height:normal;font-family:Menlo,'DejaVu Sans Mono',consolas,'Courier New',monospace\">==&gt; Finished Test.\n",
       "</pre>\n"
      ],
      "text/plain": [
       "==> Finished Test.\n"
      ]
     },
     "metadata": {},
     "output_type": "display_data"
    },
    {
     "name": "stderr",
     "output_type": "stream",
     "text": [
      "100% 100/100 [00:06<00:00, 16.26it/s]\n"
     ]
    },
    {
     "data": {
      "text/html": [
       "<pre style=\"white-space:pre;overflow-x:auto;line-height:normal;font-family:Menlo,'DejaVu Sans Mono',consolas,'Courier New',monospace\">==&gt; <span style=\"font-weight: bold\">[</span><span style=\"color: #008080; text-decoration-color: #008080; font-weight: bold\">2023</span>-<span style=\"color: #008080; text-decoration-color: #008080; font-weight: bold\">09</span>-11_09-<span style=\"color: #008080; text-decoration-color: #008080; font-weight: bold\">34</span>-<span style=\"color: #008080; text-decoration-color: #008080; font-weight: bold\">48</span><span style=\"font-weight: bold\">]</span> Start Training werewolf_big Epoch <span style=\"color: #008080; text-decoration-color: #008080; font-weight: bold\">41</span>/<span style=\"color: #008080; text-decoration-color: #008080; font-weight: bold\">50</span>, <span style=\"color: #808000; text-decoration-color: #808000\">lr</span>=<span style=\"color: #008080; text-decoration-color: #008080; font-weight: bold\">0.050000</span> <span style=\"color: #808000; text-decoration-color: #808000\">...</span>\n",
       "</pre>\n"
      ],
      "text/plain": [
       "==> \u001b[1m[\u001b[0m\u001b[1;36m2023\u001b[0m-\u001b[1;36m09\u001b[0m-11_09-\u001b[1;36m34\u001b[0m-\u001b[1;36m48\u001b[0m\u001b[1m]\u001b[0m Start Training werewolf_big Epoch \u001b[1;36m41\u001b[0m/\u001b[1;36m50\u001b[0m, \u001b[33mlr\u001b[0m=\u001b[1;36m0\u001b[0m\u001b[1;36m.050000\u001b[0m \u001b[33m...\u001b[0m\n"
      ]
     },
     "metadata": {},
     "output_type": "display_data"
    },
    {
     "name": "stderr",
     "output_type": "stream",
     "text": [
      "loss=26.2000 (51.7847), lr=0.050000: : 100% 1300/1300 [00:48<00:00, 27.00it/s] \n"
     ]
    },
    {
     "data": {
      "text/html": [
       "<pre style=\"white-space:pre;overflow-x:auto;line-height:normal;font-family:Menlo,'DejaVu Sans Mono',consolas,'Courier New',monospace\">==&gt; <span style=\"font-weight: bold\">[</span><span style=\"color: #008080; text-decoration-color: #008080; font-weight: bold\">2023</span>-<span style=\"color: #008080; text-decoration-color: #008080; font-weight: bold\">09</span>-11_09-<span style=\"color: #008080; text-decoration-color: #008080; font-weight: bold\">35</span>-<span style=\"color: #008080; text-decoration-color: #008080; font-weight: bold\">37</span><span style=\"font-weight: bold\">]</span> Finished Epoch <span style=\"color: #008080; text-decoration-color: #008080; font-weight: bold\">41</span>/<span style=\"color: #008080; text-decoration-color: #008080; font-weight: bold\">50</span>. <span style=\"color: #808000; text-decoration-color: #808000\">CPU</span>=<span style=\"color: #008080; text-decoration-color: #008080; font-weight: bold\">4.</span>3GB, <span style=\"color: #808000; text-decoration-color: #808000\">GPU</span>=<span style=\"color: #008080; text-decoration-color: #008080; font-weight: bold\">45.</span>4GB.\n",
       "</pre>\n"
      ],
      "text/plain": [
       "==> \u001b[1m[\u001b[0m\u001b[1;36m2023\u001b[0m-\u001b[1;36m09\u001b[0m-11_09-\u001b[1;36m35\u001b[0m-\u001b[1;36m37\u001b[0m\u001b[1m]\u001b[0m Finished Epoch \u001b[1;36m41\u001b[0m/\u001b[1;36m50\u001b[0m. \u001b[33mCPU\u001b[0m=\u001b[1;36m4\u001b[0m\u001b[1;36m.\u001b[0m3GB, \u001b[33mGPU\u001b[0m=\u001b[1;36m45\u001b[0m\u001b[1;36m.\u001b[0m4GB.\n"
      ]
     },
     "metadata": {},
     "output_type": "display_data"
    },
    {
     "data": {
      "text/html": [
       "<pre style=\"white-space:pre;overflow-x:auto;line-height:normal;font-family:Menlo,'DejaVu Sans Mono',consolas,'Courier New',monospace\">++&gt; Evaluate werewolf_big at epoch <span style=\"color: #008080; text-decoration-color: #008080; font-weight: bold\">41</span> <span style=\"color: #808000; text-decoration-color: #808000\">...</span>\n",
       "</pre>\n"
      ],
      "text/plain": [
       "++> Evaluate werewolf_big at epoch \u001b[1;36m41\u001b[0m \u001b[33m...\u001b[0m\n"
      ]
     },
     "metadata": {},
     "output_type": "display_data"
    },
    {
     "name": "stderr",
     "output_type": "stream",
     "text": [
      "loss=0.0000 (0.0000): : 100% 8/8 [00:00<00:00, 17.81it/s]\n"
     ]
    },
    {
     "data": {
      "text/html": [
       "<pre style=\"white-space:pre;overflow-x:auto;line-height:normal;font-family:Menlo,'DejaVu Sans Mono',consolas,'Courier New',monospace\">++&gt; Evaluate epoch <span style=\"color: #008080; text-decoration-color: #008080; font-weight: bold\">41</span> Finished.\n",
       "</pre>\n"
      ],
      "text/plain": [
       "++> Evaluate epoch \u001b[1;36m41\u001b[0m Finished.\n"
      ]
     },
     "metadata": {},
     "output_type": "display_data"
    },
    {
     "data": {
      "text/html": [
       "<pre style=\"white-space:pre;overflow-x:auto;line-height:normal;font-family:Menlo,'DejaVu Sans Mono',consolas,'Courier New',monospace\">==&gt; <span style=\"font-weight: bold\">[</span><span style=\"color: #008080; text-decoration-color: #008080; font-weight: bold\">2023</span>-<span style=\"color: #008080; text-decoration-color: #008080; font-weight: bold\">09</span>-11_09-<span style=\"color: #008080; text-decoration-color: #008080; font-weight: bold\">35</span>-<span style=\"color: #008080; text-decoration-color: #008080; font-weight: bold\">37</span><span style=\"font-weight: bold\">]</span> Start Training werewolf_big Epoch <span style=\"color: #008080; text-decoration-color: #008080; font-weight: bold\">42</span>/<span style=\"color: #008080; text-decoration-color: #008080; font-weight: bold\">50</span>, <span style=\"color: #808000; text-decoration-color: #808000\">lr</span>=<span style=\"color: #008080; text-decoration-color: #008080; font-weight: bold\">0.050000</span> <span style=\"color: #808000; text-decoration-color: #808000\">...</span>\n",
       "</pre>\n"
      ],
      "text/plain": [
       "==> \u001b[1m[\u001b[0m\u001b[1;36m2023\u001b[0m-\u001b[1;36m09\u001b[0m-11_09-\u001b[1;36m35\u001b[0m-\u001b[1;36m37\u001b[0m\u001b[1m]\u001b[0m Start Training werewolf_big Epoch \u001b[1;36m42\u001b[0m/\u001b[1;36m50\u001b[0m, \u001b[33mlr\u001b[0m=\u001b[1;36m0\u001b[0m\u001b[1;36m.050000\u001b[0m \u001b[33m...\u001b[0m\n"
      ]
     },
     "metadata": {},
     "output_type": "display_data"
    },
    {
     "name": "stderr",
     "output_type": "stream",
     "text": [
      "loss=23.9858 (52.6980), lr=0.050000: : 100% 1300/1300 [00:47<00:00, 27.10it/s] \n"
     ]
    },
    {
     "data": {
      "text/html": [
       "<pre style=\"white-space:pre;overflow-x:auto;line-height:normal;font-family:Menlo,'DejaVu Sans Mono',consolas,'Courier New',monospace\">==&gt; <span style=\"font-weight: bold\">[</span><span style=\"color: #008080; text-decoration-color: #008080; font-weight: bold\">2023</span>-<span style=\"color: #008080; text-decoration-color: #008080; font-weight: bold\">09</span>-11_09-<span style=\"color: #008080; text-decoration-color: #008080; font-weight: bold\">36</span>-<span style=\"color: #008080; text-decoration-color: #008080; font-weight: bold\">25</span><span style=\"font-weight: bold\">]</span> Finished Epoch <span style=\"color: #008080; text-decoration-color: #008080; font-weight: bold\">42</span>/<span style=\"color: #008080; text-decoration-color: #008080; font-weight: bold\">50</span>. <span style=\"color: #808000; text-decoration-color: #808000\">CPU</span>=<span style=\"color: #008080; text-decoration-color: #008080; font-weight: bold\">3.</span>7GB, <span style=\"color: #808000; text-decoration-color: #808000\">GPU</span>=<span style=\"color: #008080; text-decoration-color: #008080; font-weight: bold\">45.</span>4GB.\n",
       "</pre>\n"
      ],
      "text/plain": [
       "==> \u001b[1m[\u001b[0m\u001b[1;36m2023\u001b[0m-\u001b[1;36m09\u001b[0m-11_09-\u001b[1;36m36\u001b[0m-\u001b[1;36m25\u001b[0m\u001b[1m]\u001b[0m Finished Epoch \u001b[1;36m42\u001b[0m/\u001b[1;36m50\u001b[0m. \u001b[33mCPU\u001b[0m=\u001b[1;36m3\u001b[0m\u001b[1;36m.\u001b[0m7GB, \u001b[33mGPU\u001b[0m=\u001b[1;36m45\u001b[0m\u001b[1;36m.\u001b[0m4GB.\n"
      ]
     },
     "metadata": {},
     "output_type": "display_data"
    },
    {
     "data": {
      "text/html": [
       "<pre style=\"white-space:pre;overflow-x:auto;line-height:normal;font-family:Menlo,'DejaVu Sans Mono',consolas,'Courier New',monospace\">++&gt; Evaluate werewolf_big at epoch <span style=\"color: #008080; text-decoration-color: #008080; font-weight: bold\">42</span> <span style=\"color: #808000; text-decoration-color: #808000\">...</span>\n",
       "</pre>\n"
      ],
      "text/plain": [
       "++> Evaluate werewolf_big at epoch \u001b[1;36m42\u001b[0m \u001b[33m...\u001b[0m\n"
      ]
     },
     "metadata": {},
     "output_type": "display_data"
    },
    {
     "name": "stderr",
     "output_type": "stream",
     "text": [
      "loss=0.0000 (0.0000): : 100% 8/8 [00:00<00:00, 17.43it/s]\n"
     ]
    },
    {
     "data": {
      "text/html": [
       "<pre style=\"white-space:pre;overflow-x:auto;line-height:normal;font-family:Menlo,'DejaVu Sans Mono',consolas,'Courier New',monospace\">++&gt; Evaluate epoch <span style=\"color: #008080; text-decoration-color: #008080; font-weight: bold\">42</span> Finished.\n",
       "</pre>\n"
      ],
      "text/plain": [
       "++> Evaluate epoch \u001b[1;36m42\u001b[0m Finished.\n"
      ]
     },
     "metadata": {},
     "output_type": "display_data"
    },
    {
     "data": {
      "text/html": [
       "<pre style=\"white-space:pre;overflow-x:auto;line-height:normal;font-family:Menlo,'DejaVu Sans Mono',consolas,'Courier New',monospace\">==&gt; <span style=\"font-weight: bold\">[</span><span style=\"color: #008080; text-decoration-color: #008080; font-weight: bold\">2023</span>-<span style=\"color: #008080; text-decoration-color: #008080; font-weight: bold\">09</span>-11_09-<span style=\"color: #008080; text-decoration-color: #008080; font-weight: bold\">36</span>-<span style=\"color: #008080; text-decoration-color: #008080; font-weight: bold\">26</span><span style=\"font-weight: bold\">]</span> Start Training werewolf_big Epoch <span style=\"color: #008080; text-decoration-color: #008080; font-weight: bold\">43</span>/<span style=\"color: #008080; text-decoration-color: #008080; font-weight: bold\">50</span>, <span style=\"color: #808000; text-decoration-color: #808000\">lr</span>=<span style=\"color: #008080; text-decoration-color: #008080; font-weight: bold\">0.050000</span> <span style=\"color: #808000; text-decoration-color: #808000\">...</span>\n",
       "</pre>\n"
      ],
      "text/plain": [
       "==> \u001b[1m[\u001b[0m\u001b[1;36m2023\u001b[0m-\u001b[1;36m09\u001b[0m-11_09-\u001b[1;36m36\u001b[0m-\u001b[1;36m26\u001b[0m\u001b[1m]\u001b[0m Start Training werewolf_big Epoch \u001b[1;36m43\u001b[0m/\u001b[1;36m50\u001b[0m, \u001b[33mlr\u001b[0m=\u001b[1;36m0\u001b[0m\u001b[1;36m.050000\u001b[0m \u001b[33m...\u001b[0m\n"
      ]
     },
     "metadata": {},
     "output_type": "display_data"
    },
    {
     "name": "stderr",
     "output_type": "stream",
     "text": [
      "loss=27.9802 (51.6453), lr=0.050000: : 100% 1300/1300 [00:48<00:00, 27.05it/s] \n"
     ]
    },
    {
     "data": {
      "text/html": [
       "<pre style=\"white-space:pre;overflow-x:auto;line-height:normal;font-family:Menlo,'DejaVu Sans Mono',consolas,'Courier New',monospace\">==&gt; <span style=\"font-weight: bold\">[</span><span style=\"color: #008080; text-decoration-color: #008080; font-weight: bold\">2023</span>-<span style=\"color: #008080; text-decoration-color: #008080; font-weight: bold\">09</span>-11_09-<span style=\"color: #008080; text-decoration-color: #008080; font-weight: bold\">37</span>-<span style=\"color: #008080; text-decoration-color: #008080; font-weight: bold\">14</span><span style=\"font-weight: bold\">]</span> Finished Epoch <span style=\"color: #008080; text-decoration-color: #008080; font-weight: bold\">43</span>/<span style=\"color: #008080; text-decoration-color: #008080; font-weight: bold\">50</span>. <span style=\"color: #808000; text-decoration-color: #808000\">CPU</span>=<span style=\"color: #008080; text-decoration-color: #008080; font-weight: bold\">3.</span>9GB, <span style=\"color: #808000; text-decoration-color: #808000\">GPU</span>=<span style=\"color: #008080; text-decoration-color: #008080; font-weight: bold\">45.</span>4GB.\n",
       "</pre>\n"
      ],
      "text/plain": [
       "==> \u001b[1m[\u001b[0m\u001b[1;36m2023\u001b[0m-\u001b[1;36m09\u001b[0m-11_09-\u001b[1;36m37\u001b[0m-\u001b[1;36m14\u001b[0m\u001b[1m]\u001b[0m Finished Epoch \u001b[1;36m43\u001b[0m/\u001b[1;36m50\u001b[0m. \u001b[33mCPU\u001b[0m=\u001b[1;36m3\u001b[0m\u001b[1;36m.\u001b[0m9GB, \u001b[33mGPU\u001b[0m=\u001b[1;36m45\u001b[0m\u001b[1;36m.\u001b[0m4GB.\n"
      ]
     },
     "metadata": {},
     "output_type": "display_data"
    },
    {
     "data": {
      "text/html": [
       "<pre style=\"white-space:pre;overflow-x:auto;line-height:normal;font-family:Menlo,'DejaVu Sans Mono',consolas,'Courier New',monospace\">++&gt; Evaluate werewolf_big at epoch <span style=\"color: #008080; text-decoration-color: #008080; font-weight: bold\">43</span> <span style=\"color: #808000; text-decoration-color: #808000\">...</span>\n",
       "</pre>\n"
      ],
      "text/plain": [
       "++> Evaluate werewolf_big at epoch \u001b[1;36m43\u001b[0m \u001b[33m...\u001b[0m\n"
      ]
     },
     "metadata": {},
     "output_type": "display_data"
    },
    {
     "name": "stderr",
     "output_type": "stream",
     "text": [
      "loss=0.0000 (0.0000): : 100% 8/8 [00:00<00:00, 17.22it/s]\n"
     ]
    },
    {
     "data": {
      "text/html": [
       "<pre style=\"white-space:pre;overflow-x:auto;line-height:normal;font-family:Menlo,'DejaVu Sans Mono',consolas,'Courier New',monospace\">++&gt; Evaluate epoch <span style=\"color: #008080; text-decoration-color: #008080; font-weight: bold\">43</span> Finished.\n",
       "</pre>\n"
      ],
      "text/plain": [
       "++> Evaluate epoch \u001b[1;36m43\u001b[0m Finished.\n"
      ]
     },
     "metadata": {},
     "output_type": "display_data"
    },
    {
     "data": {
      "text/html": [
       "<pre style=\"white-space:pre;overflow-x:auto;line-height:normal;font-family:Menlo,'DejaVu Sans Mono',consolas,'Courier New',monospace\">==&gt; <span style=\"font-weight: bold\">[</span><span style=\"color: #008080; text-decoration-color: #008080; font-weight: bold\">2023</span>-<span style=\"color: #008080; text-decoration-color: #008080; font-weight: bold\">09</span>-11_09-<span style=\"color: #008080; text-decoration-color: #008080; font-weight: bold\">37</span>-<span style=\"color: #008080; text-decoration-color: #008080; font-weight: bold\">15</span><span style=\"font-weight: bold\">]</span> Start Training werewolf_big Epoch <span style=\"color: #008080; text-decoration-color: #008080; font-weight: bold\">44</span>/<span style=\"color: #008080; text-decoration-color: #008080; font-weight: bold\">50</span>, <span style=\"color: #808000; text-decoration-color: #808000\">lr</span>=<span style=\"color: #008080; text-decoration-color: #008080; font-weight: bold\">0.050000</span> <span style=\"color: #808000; text-decoration-color: #808000\">...</span>\n",
       "</pre>\n"
      ],
      "text/plain": [
       "==> \u001b[1m[\u001b[0m\u001b[1;36m2023\u001b[0m-\u001b[1;36m09\u001b[0m-11_09-\u001b[1;36m37\u001b[0m-\u001b[1;36m15\u001b[0m\u001b[1m]\u001b[0m Start Training werewolf_big Epoch \u001b[1;36m44\u001b[0m/\u001b[1;36m50\u001b[0m, \u001b[33mlr\u001b[0m=\u001b[1;36m0\u001b[0m\u001b[1;36m.050000\u001b[0m \u001b[33m...\u001b[0m\n"
      ]
     },
     "metadata": {},
     "output_type": "display_data"
    },
    {
     "name": "stderr",
     "output_type": "stream",
     "text": [
      "loss=34.0433 (52.8565), lr=0.050000: : 100% 1300/1300 [00:48<00:00, 27.03it/s] \n"
     ]
    },
    {
     "data": {
      "text/html": [
       "<pre style=\"white-space:pre;overflow-x:auto;line-height:normal;font-family:Menlo,'DejaVu Sans Mono',consolas,'Courier New',monospace\">==&gt; <span style=\"font-weight: bold\">[</span><span style=\"color: #008080; text-decoration-color: #008080; font-weight: bold\">2023</span>-<span style=\"color: #008080; text-decoration-color: #008080; font-weight: bold\">09</span>-11_09-<span style=\"color: #008080; text-decoration-color: #008080; font-weight: bold\">38</span>-<span style=\"color: #008080; text-decoration-color: #008080; font-weight: bold\">03</span><span style=\"font-weight: bold\">]</span> Finished Epoch <span style=\"color: #008080; text-decoration-color: #008080; font-weight: bold\">44</span>/<span style=\"color: #008080; text-decoration-color: #008080; font-weight: bold\">50</span>. <span style=\"color: #808000; text-decoration-color: #808000\">CPU</span>=<span style=\"color: #008080; text-decoration-color: #008080; font-weight: bold\">3.</span>9GB, <span style=\"color: #808000; text-decoration-color: #808000\">GPU</span>=<span style=\"color: #008080; text-decoration-color: #008080; font-weight: bold\">45.</span>4GB.\n",
       "</pre>\n"
      ],
      "text/plain": [
       "==> \u001b[1m[\u001b[0m\u001b[1;36m2023\u001b[0m-\u001b[1;36m09\u001b[0m-11_09-\u001b[1;36m38\u001b[0m-\u001b[1;36m03\u001b[0m\u001b[1m]\u001b[0m Finished Epoch \u001b[1;36m44\u001b[0m/\u001b[1;36m50\u001b[0m. \u001b[33mCPU\u001b[0m=\u001b[1;36m3\u001b[0m\u001b[1;36m.\u001b[0m9GB, \u001b[33mGPU\u001b[0m=\u001b[1;36m45\u001b[0m\u001b[1;36m.\u001b[0m4GB.\n"
      ]
     },
     "metadata": {},
     "output_type": "display_data"
    },
    {
     "data": {
      "text/html": [
       "<pre style=\"white-space:pre;overflow-x:auto;line-height:normal;font-family:Menlo,'DejaVu Sans Mono',consolas,'Courier New',monospace\">++&gt; Evaluate werewolf_big at epoch <span style=\"color: #008080; text-decoration-color: #008080; font-weight: bold\">44</span> <span style=\"color: #808000; text-decoration-color: #808000\">...</span>\n",
       "</pre>\n"
      ],
      "text/plain": [
       "++> Evaluate werewolf_big at epoch \u001b[1;36m44\u001b[0m \u001b[33m...\u001b[0m\n"
      ]
     },
     "metadata": {},
     "output_type": "display_data"
    },
    {
     "name": "stderr",
     "output_type": "stream",
     "text": [
      "loss=0.0000 (0.0000): : 100% 8/8 [00:00<00:00, 17.84it/s]\n"
     ]
    },
    {
     "data": {
      "text/html": [
       "<pre style=\"white-space:pre;overflow-x:auto;line-height:normal;font-family:Menlo,'DejaVu Sans Mono',consolas,'Courier New',monospace\">++&gt; Evaluate epoch <span style=\"color: #008080; text-decoration-color: #008080; font-weight: bold\">44</span> Finished.\n",
       "</pre>\n"
      ],
      "text/plain": [
       "++> Evaluate epoch \u001b[1;36m44\u001b[0m Finished.\n"
      ]
     },
     "metadata": {},
     "output_type": "display_data"
    },
    {
     "data": {
      "text/html": [
       "<pre style=\"white-space:pre;overflow-x:auto;line-height:normal;font-family:Menlo,'DejaVu Sans Mono',consolas,'Courier New',monospace\">==&gt; <span style=\"font-weight: bold\">[</span><span style=\"color: #008080; text-decoration-color: #008080; font-weight: bold\">2023</span>-<span style=\"color: #008080; text-decoration-color: #008080; font-weight: bold\">09</span>-11_09-<span style=\"color: #008080; text-decoration-color: #008080; font-weight: bold\">38</span>-<span style=\"color: #008080; text-decoration-color: #008080; font-weight: bold\">04</span><span style=\"font-weight: bold\">]</span> Start Training werewolf_big Epoch <span style=\"color: #008080; text-decoration-color: #008080; font-weight: bold\">45</span>/<span style=\"color: #008080; text-decoration-color: #008080; font-weight: bold\">50</span>, <span style=\"color: #808000; text-decoration-color: #808000\">lr</span>=<span style=\"color: #008080; text-decoration-color: #008080; font-weight: bold\">0.050000</span> <span style=\"color: #808000; text-decoration-color: #808000\">...</span>\n",
       "</pre>\n"
      ],
      "text/plain": [
       "==> \u001b[1m[\u001b[0m\u001b[1;36m2023\u001b[0m-\u001b[1;36m09\u001b[0m-11_09-\u001b[1;36m38\u001b[0m-\u001b[1;36m04\u001b[0m\u001b[1m]\u001b[0m Start Training werewolf_big Epoch \u001b[1;36m45\u001b[0m/\u001b[1;36m50\u001b[0m, \u001b[33mlr\u001b[0m=\u001b[1;36m0\u001b[0m\u001b[1;36m.050000\u001b[0m \u001b[33m...\u001b[0m\n"
      ]
     },
     "metadata": {},
     "output_type": "display_data"
    },
    {
     "name": "stderr",
     "output_type": "stream",
     "text": [
      "loss=12.2497 (49.6858), lr=0.050000: : 100% 1300/1300 [00:47<00:00, 27.09it/s] \n"
     ]
    },
    {
     "data": {
      "text/html": [
       "<pre style=\"white-space:pre;overflow-x:auto;line-height:normal;font-family:Menlo,'DejaVu Sans Mono',consolas,'Courier New',monospace\">==&gt; <span style=\"font-weight: bold\">[</span><span style=\"color: #008080; text-decoration-color: #008080; font-weight: bold\">2023</span>-<span style=\"color: #008080; text-decoration-color: #008080; font-weight: bold\">09</span>-11_09-<span style=\"color: #008080; text-decoration-color: #008080; font-weight: bold\">38</span>-<span style=\"color: #008080; text-decoration-color: #008080; font-weight: bold\">52</span><span style=\"font-weight: bold\">]</span> Finished Epoch <span style=\"color: #008080; text-decoration-color: #008080; font-weight: bold\">45</span>/<span style=\"color: #008080; text-decoration-color: #008080; font-weight: bold\">50</span>. <span style=\"color: #808000; text-decoration-color: #808000\">CPU</span>=<span style=\"color: #008080; text-decoration-color: #008080; font-weight: bold\">3.</span>9GB, <span style=\"color: #808000; text-decoration-color: #808000\">GPU</span>=<span style=\"color: #008080; text-decoration-color: #008080; font-weight: bold\">45.</span>4GB.\n",
       "</pre>\n"
      ],
      "text/plain": [
       "==> \u001b[1m[\u001b[0m\u001b[1;36m2023\u001b[0m-\u001b[1;36m09\u001b[0m-11_09-\u001b[1;36m38\u001b[0m-\u001b[1;36m52\u001b[0m\u001b[1m]\u001b[0m Finished Epoch \u001b[1;36m45\u001b[0m/\u001b[1;36m50\u001b[0m. \u001b[33mCPU\u001b[0m=\u001b[1;36m3\u001b[0m\u001b[1;36m.\u001b[0m9GB, \u001b[33mGPU\u001b[0m=\u001b[1;36m45\u001b[0m\u001b[1;36m.\u001b[0m4GB.\n"
      ]
     },
     "metadata": {},
     "output_type": "display_data"
    },
    {
     "data": {
      "text/html": [
       "<pre style=\"white-space:pre;overflow-x:auto;line-height:normal;font-family:Menlo,'DejaVu Sans Mono',consolas,'Courier New',monospace\">++&gt; Evaluate werewolf_big at epoch <span style=\"color: #008080; text-decoration-color: #008080; font-weight: bold\">45</span> <span style=\"color: #808000; text-decoration-color: #808000\">...</span>\n",
       "</pre>\n"
      ],
      "text/plain": [
       "++> Evaluate werewolf_big at epoch \u001b[1;36m45\u001b[0m \u001b[33m...\u001b[0m\n"
      ]
     },
     "metadata": {},
     "output_type": "display_data"
    },
    {
     "name": "stderr",
     "output_type": "stream",
     "text": [
      "loss=0.0000 (0.0000): : 100% 8/8 [00:00<00:00, 17.38it/s]\n"
     ]
    },
    {
     "data": {
      "text/html": [
       "<pre style=\"white-space:pre;overflow-x:auto;line-height:normal;font-family:Menlo,'DejaVu Sans Mono',consolas,'Courier New',monospace\">++&gt; Evaluate epoch <span style=\"color: #008080; text-decoration-color: #008080; font-weight: bold\">45</span> Finished.\n",
       "</pre>\n"
      ],
      "text/plain": [
       "++> Evaluate epoch \u001b[1;36m45\u001b[0m Finished.\n"
      ]
     },
     "metadata": {},
     "output_type": "display_data"
    },
    {
     "data": {
      "text/html": [
       "<pre style=\"white-space:pre;overflow-x:auto;line-height:normal;font-family:Menlo,'DejaVu Sans Mono',consolas,'Courier New',monospace\">==&gt; <span style=\"font-weight: bold\">[</span><span style=\"color: #008080; text-decoration-color: #008080; font-weight: bold\">2023</span>-<span style=\"color: #008080; text-decoration-color: #008080; font-weight: bold\">09</span>-11_09-<span style=\"color: #008080; text-decoration-color: #008080; font-weight: bold\">38</span>-<span style=\"color: #008080; text-decoration-color: #008080; font-weight: bold\">53</span><span style=\"font-weight: bold\">]</span> Start Training werewolf_big Epoch <span style=\"color: #008080; text-decoration-color: #008080; font-weight: bold\">46</span>/<span style=\"color: #008080; text-decoration-color: #008080; font-weight: bold\">50</span>, <span style=\"color: #808000; text-decoration-color: #808000\">lr</span>=<span style=\"color: #008080; text-decoration-color: #008080; font-weight: bold\">0.050000</span> <span style=\"color: #808000; text-decoration-color: #808000\">...</span>\n",
       "</pre>\n"
      ],
      "text/plain": [
       "==> \u001b[1m[\u001b[0m\u001b[1;36m2023\u001b[0m-\u001b[1;36m09\u001b[0m-11_09-\u001b[1;36m38\u001b[0m-\u001b[1;36m53\u001b[0m\u001b[1m]\u001b[0m Start Training werewolf_big Epoch \u001b[1;36m46\u001b[0m/\u001b[1;36m50\u001b[0m, \u001b[33mlr\u001b[0m=\u001b[1;36m0\u001b[0m\u001b[1;36m.050000\u001b[0m \u001b[33m...\u001b[0m\n"
      ]
     },
     "metadata": {},
     "output_type": "display_data"
    },
    {
     "name": "stderr",
     "output_type": "stream",
     "text": [
      "loss=11.7625 (52.5445), lr=0.050000: : 100% 1300/1300 [00:48<00:00, 27.07it/s] \n"
     ]
    },
    {
     "data": {
      "text/html": [
       "<pre style=\"white-space:pre;overflow-x:auto;line-height:normal;font-family:Menlo,'DejaVu Sans Mono',consolas,'Courier New',monospace\">==&gt; <span style=\"font-weight: bold\">[</span><span style=\"color: #008080; text-decoration-color: #008080; font-weight: bold\">2023</span>-<span style=\"color: #008080; text-decoration-color: #008080; font-weight: bold\">09</span>-11_09-<span style=\"color: #008080; text-decoration-color: #008080; font-weight: bold\">39</span>-<span style=\"color: #008080; text-decoration-color: #008080; font-weight: bold\">41</span><span style=\"font-weight: bold\">]</span> Finished Epoch <span style=\"color: #008080; text-decoration-color: #008080; font-weight: bold\">46</span>/<span style=\"color: #008080; text-decoration-color: #008080; font-weight: bold\">50</span>. <span style=\"color: #808000; text-decoration-color: #808000\">CPU</span>=<span style=\"color: #008080; text-decoration-color: #008080; font-weight: bold\">3.</span>9GB, <span style=\"color: #808000; text-decoration-color: #808000\">GPU</span>=<span style=\"color: #008080; text-decoration-color: #008080; font-weight: bold\">45.</span>4GB.\n",
       "</pre>\n"
      ],
      "text/plain": [
       "==> \u001b[1m[\u001b[0m\u001b[1;36m2023\u001b[0m-\u001b[1;36m09\u001b[0m-11_09-\u001b[1;36m39\u001b[0m-\u001b[1;36m41\u001b[0m\u001b[1m]\u001b[0m Finished Epoch \u001b[1;36m46\u001b[0m/\u001b[1;36m50\u001b[0m. \u001b[33mCPU\u001b[0m=\u001b[1;36m3\u001b[0m\u001b[1;36m.\u001b[0m9GB, \u001b[33mGPU\u001b[0m=\u001b[1;36m45\u001b[0m\u001b[1;36m.\u001b[0m4GB.\n"
      ]
     },
     "metadata": {},
     "output_type": "display_data"
    },
    {
     "data": {
      "text/html": [
       "<pre style=\"white-space:pre;overflow-x:auto;line-height:normal;font-family:Menlo,'DejaVu Sans Mono',consolas,'Courier New',monospace\">++&gt; Evaluate werewolf_big at epoch <span style=\"color: #008080; text-decoration-color: #008080; font-weight: bold\">46</span> <span style=\"color: #808000; text-decoration-color: #808000\">...</span>\n",
       "</pre>\n"
      ],
      "text/plain": [
       "++> Evaluate werewolf_big at epoch \u001b[1;36m46\u001b[0m \u001b[33m...\u001b[0m\n"
      ]
     },
     "metadata": {},
     "output_type": "display_data"
    },
    {
     "name": "stderr",
     "output_type": "stream",
     "text": [
      "loss=0.0000 (0.0000): : 100% 8/8 [00:00<00:00, 17.98it/s]\n"
     ]
    },
    {
     "data": {
      "text/html": [
       "<pre style=\"white-space:pre;overflow-x:auto;line-height:normal;font-family:Menlo,'DejaVu Sans Mono',consolas,'Courier New',monospace\">++&gt; Evaluate epoch <span style=\"color: #008080; text-decoration-color: #008080; font-weight: bold\">46</span> Finished.\n",
       "</pre>\n"
      ],
      "text/plain": [
       "++> Evaluate epoch \u001b[1;36m46\u001b[0m Finished.\n"
      ]
     },
     "metadata": {},
     "output_type": "display_data"
    },
    {
     "data": {
      "text/html": [
       "<pre style=\"white-space:pre;overflow-x:auto;line-height:normal;font-family:Menlo,'DejaVu Sans Mono',consolas,'Courier New',monospace\">==&gt; <span style=\"font-weight: bold\">[</span><span style=\"color: #008080; text-decoration-color: #008080; font-weight: bold\">2023</span>-<span style=\"color: #008080; text-decoration-color: #008080; font-weight: bold\">09</span>-11_09-<span style=\"color: #008080; text-decoration-color: #008080; font-weight: bold\">39</span>-<span style=\"color: #008080; text-decoration-color: #008080; font-weight: bold\">42</span><span style=\"font-weight: bold\">]</span> Start Training werewolf_big Epoch <span style=\"color: #008080; text-decoration-color: #008080; font-weight: bold\">47</span>/<span style=\"color: #008080; text-decoration-color: #008080; font-weight: bold\">50</span>, <span style=\"color: #808000; text-decoration-color: #808000\">lr</span>=<span style=\"color: #008080; text-decoration-color: #008080; font-weight: bold\">0.050000</span> <span style=\"color: #808000; text-decoration-color: #808000\">...</span>\n",
       "</pre>\n"
      ],
      "text/plain": [
       "==> \u001b[1m[\u001b[0m\u001b[1;36m2023\u001b[0m-\u001b[1;36m09\u001b[0m-11_09-\u001b[1;36m39\u001b[0m-\u001b[1;36m42\u001b[0m\u001b[1m]\u001b[0m Start Training werewolf_big Epoch \u001b[1;36m47\u001b[0m/\u001b[1;36m50\u001b[0m, \u001b[33mlr\u001b[0m=\u001b[1;36m0\u001b[0m\u001b[1;36m.050000\u001b[0m \u001b[33m...\u001b[0m\n"
      ]
     },
     "metadata": {},
     "output_type": "display_data"
    },
    {
     "name": "stderr",
     "output_type": "stream",
     "text": [
      "loss=12.8106 (50.8838), lr=0.050000: : 100% 1300/1300 [00:47<00:00, 27.11it/s] \n"
     ]
    },
    {
     "data": {
      "text/html": [
       "<pre style=\"white-space:pre;overflow-x:auto;line-height:normal;font-family:Menlo,'DejaVu Sans Mono',consolas,'Courier New',monospace\">==&gt; <span style=\"font-weight: bold\">[</span><span style=\"color: #008080; text-decoration-color: #008080; font-weight: bold\">2023</span>-<span style=\"color: #008080; text-decoration-color: #008080; font-weight: bold\">09</span>-11_09-<span style=\"color: #008080; text-decoration-color: #008080; font-weight: bold\">40</span>-<span style=\"color: #008080; text-decoration-color: #008080; font-weight: bold\">30</span><span style=\"font-weight: bold\">]</span> Finished Epoch <span style=\"color: #008080; text-decoration-color: #008080; font-weight: bold\">47</span>/<span style=\"color: #008080; text-decoration-color: #008080; font-weight: bold\">50</span>. <span style=\"color: #808000; text-decoration-color: #808000\">CPU</span>=<span style=\"color: #008080; text-decoration-color: #008080; font-weight: bold\">3.</span>9GB, <span style=\"color: #808000; text-decoration-color: #808000\">GPU</span>=<span style=\"color: #008080; text-decoration-color: #008080; font-weight: bold\">45.</span>4GB.\n",
       "</pre>\n"
      ],
      "text/plain": [
       "==> \u001b[1m[\u001b[0m\u001b[1;36m2023\u001b[0m-\u001b[1;36m09\u001b[0m-11_09-\u001b[1;36m40\u001b[0m-\u001b[1;36m30\u001b[0m\u001b[1m]\u001b[0m Finished Epoch \u001b[1;36m47\u001b[0m/\u001b[1;36m50\u001b[0m. \u001b[33mCPU\u001b[0m=\u001b[1;36m3\u001b[0m\u001b[1;36m.\u001b[0m9GB, \u001b[33mGPU\u001b[0m=\u001b[1;36m45\u001b[0m\u001b[1;36m.\u001b[0m4GB.\n"
      ]
     },
     "metadata": {},
     "output_type": "display_data"
    },
    {
     "data": {
      "text/html": [
       "<pre style=\"white-space:pre;overflow-x:auto;line-height:normal;font-family:Menlo,'DejaVu Sans Mono',consolas,'Courier New',monospace\">++&gt; Evaluate werewolf_big at epoch <span style=\"color: #008080; text-decoration-color: #008080; font-weight: bold\">47</span> <span style=\"color: #808000; text-decoration-color: #808000\">...</span>\n",
       "</pre>\n"
      ],
      "text/plain": [
       "++> Evaluate werewolf_big at epoch \u001b[1;36m47\u001b[0m \u001b[33m...\u001b[0m\n"
      ]
     },
     "metadata": {},
     "output_type": "display_data"
    },
    {
     "name": "stderr",
     "output_type": "stream",
     "text": [
      "loss=0.0000 (0.0000): : 100% 8/8 [00:00<00:00, 17.25it/s]\n"
     ]
    },
    {
     "data": {
      "text/html": [
       "<pre style=\"white-space:pre;overflow-x:auto;line-height:normal;font-family:Menlo,'DejaVu Sans Mono',consolas,'Courier New',monospace\">++&gt; Evaluate epoch <span style=\"color: #008080; text-decoration-color: #008080; font-weight: bold\">47</span> Finished.\n",
       "</pre>\n"
      ],
      "text/plain": [
       "++> Evaluate epoch \u001b[1;36m47\u001b[0m Finished.\n"
      ]
     },
     "metadata": {},
     "output_type": "display_data"
    },
    {
     "data": {
      "text/html": [
       "<pre style=\"white-space:pre;overflow-x:auto;line-height:normal;font-family:Menlo,'DejaVu Sans Mono',consolas,'Courier New',monospace\">==&gt; <span style=\"font-weight: bold\">[</span><span style=\"color: #008080; text-decoration-color: #008080; font-weight: bold\">2023</span>-<span style=\"color: #008080; text-decoration-color: #008080; font-weight: bold\">09</span>-11_09-<span style=\"color: #008080; text-decoration-color: #008080; font-weight: bold\">40</span>-<span style=\"color: #008080; text-decoration-color: #008080; font-weight: bold\">31</span><span style=\"font-weight: bold\">]</span> Start Training werewolf_big Epoch <span style=\"color: #008080; text-decoration-color: #008080; font-weight: bold\">48</span>/<span style=\"color: #008080; text-decoration-color: #008080; font-weight: bold\">50</span>, <span style=\"color: #808000; text-decoration-color: #808000\">lr</span>=<span style=\"color: #008080; text-decoration-color: #008080; font-weight: bold\">0.050000</span> <span style=\"color: #808000; text-decoration-color: #808000\">...</span>\n",
       "</pre>\n"
      ],
      "text/plain": [
       "==> \u001b[1m[\u001b[0m\u001b[1;36m2023\u001b[0m-\u001b[1;36m09\u001b[0m-11_09-\u001b[1;36m40\u001b[0m-\u001b[1;36m31\u001b[0m\u001b[1m]\u001b[0m Start Training werewolf_big Epoch \u001b[1;36m48\u001b[0m/\u001b[1;36m50\u001b[0m, \u001b[33mlr\u001b[0m=\u001b[1;36m0\u001b[0m\u001b[1;36m.050000\u001b[0m \u001b[33m...\u001b[0m\n"
      ]
     },
     "metadata": {},
     "output_type": "display_data"
    },
    {
     "name": "stderr",
     "output_type": "stream",
     "text": [
      "loss=42.8905 (53.0544), lr=0.050000: : 100% 1300/1300 [00:48<00:00, 27.05it/s] \n"
     ]
    },
    {
     "data": {
      "text/html": [
       "<pre style=\"white-space:pre;overflow-x:auto;line-height:normal;font-family:Menlo,'DejaVu Sans Mono',consolas,'Courier New',monospace\">==&gt; <span style=\"font-weight: bold\">[</span><span style=\"color: #008080; text-decoration-color: #008080; font-weight: bold\">2023</span>-<span style=\"color: #008080; text-decoration-color: #008080; font-weight: bold\">09</span>-11_09-<span style=\"color: #008080; text-decoration-color: #008080; font-weight: bold\">41</span>-<span style=\"color: #008080; text-decoration-color: #008080; font-weight: bold\">19</span><span style=\"font-weight: bold\">]</span> Finished Epoch <span style=\"color: #008080; text-decoration-color: #008080; font-weight: bold\">48</span>/<span style=\"color: #008080; text-decoration-color: #008080; font-weight: bold\">50</span>. <span style=\"color: #808000; text-decoration-color: #808000\">CPU</span>=<span style=\"color: #008080; text-decoration-color: #008080; font-weight: bold\">3.</span>9GB, <span style=\"color: #808000; text-decoration-color: #808000\">GPU</span>=<span style=\"color: #008080; text-decoration-color: #008080; font-weight: bold\">45.</span>4GB.\n",
       "</pre>\n"
      ],
      "text/plain": [
       "==> \u001b[1m[\u001b[0m\u001b[1;36m2023\u001b[0m-\u001b[1;36m09\u001b[0m-11_09-\u001b[1;36m41\u001b[0m-\u001b[1;36m19\u001b[0m\u001b[1m]\u001b[0m Finished Epoch \u001b[1;36m48\u001b[0m/\u001b[1;36m50\u001b[0m. \u001b[33mCPU\u001b[0m=\u001b[1;36m3\u001b[0m\u001b[1;36m.\u001b[0m9GB, \u001b[33mGPU\u001b[0m=\u001b[1;36m45\u001b[0m\u001b[1;36m.\u001b[0m4GB.\n"
      ]
     },
     "metadata": {},
     "output_type": "display_data"
    },
    {
     "data": {
      "text/html": [
       "<pre style=\"white-space:pre;overflow-x:auto;line-height:normal;font-family:Menlo,'DejaVu Sans Mono',consolas,'Courier New',monospace\">++&gt; Evaluate werewolf_big at epoch <span style=\"color: #008080; text-decoration-color: #008080; font-weight: bold\">48</span> <span style=\"color: #808000; text-decoration-color: #808000\">...</span>\n",
       "</pre>\n"
      ],
      "text/plain": [
       "++> Evaluate werewolf_big at epoch \u001b[1;36m48\u001b[0m \u001b[33m...\u001b[0m\n"
      ]
     },
     "metadata": {},
     "output_type": "display_data"
    },
    {
     "name": "stderr",
     "output_type": "stream",
     "text": [
      "loss=0.0000 (0.0000): : 100% 8/8 [00:00<00:00, 17.99it/s]\n"
     ]
    },
    {
     "data": {
      "text/html": [
       "<pre style=\"white-space:pre;overflow-x:auto;line-height:normal;font-family:Menlo,'DejaVu Sans Mono',consolas,'Courier New',monospace\">++&gt; Evaluate epoch <span style=\"color: #008080; text-decoration-color: #008080; font-weight: bold\">48</span> Finished.\n",
       "</pre>\n"
      ],
      "text/plain": [
       "++> Evaluate epoch \u001b[1;36m48\u001b[0m Finished.\n"
      ]
     },
     "metadata": {},
     "output_type": "display_data"
    },
    {
     "data": {
      "text/html": [
       "<pre style=\"white-space:pre;overflow-x:auto;line-height:normal;font-family:Menlo,'DejaVu Sans Mono',consolas,'Courier New',monospace\">==&gt; <span style=\"font-weight: bold\">[</span><span style=\"color: #008080; text-decoration-color: #008080; font-weight: bold\">2023</span>-<span style=\"color: #008080; text-decoration-color: #008080; font-weight: bold\">09</span>-11_09-<span style=\"color: #008080; text-decoration-color: #008080; font-weight: bold\">41</span>-<span style=\"color: #008080; text-decoration-color: #008080; font-weight: bold\">19</span><span style=\"font-weight: bold\">]</span> Start Training werewolf_big Epoch <span style=\"color: #008080; text-decoration-color: #008080; font-weight: bold\">49</span>/<span style=\"color: #008080; text-decoration-color: #008080; font-weight: bold\">50</span>, <span style=\"color: #808000; text-decoration-color: #808000\">lr</span>=<span style=\"color: #008080; text-decoration-color: #008080; font-weight: bold\">0.050000</span> <span style=\"color: #808000; text-decoration-color: #808000\">...</span>\n",
       "</pre>\n"
      ],
      "text/plain": [
       "==> \u001b[1m[\u001b[0m\u001b[1;36m2023\u001b[0m-\u001b[1;36m09\u001b[0m-11_09-\u001b[1;36m41\u001b[0m-\u001b[1;36m19\u001b[0m\u001b[1m]\u001b[0m Start Training werewolf_big Epoch \u001b[1;36m49\u001b[0m/\u001b[1;36m50\u001b[0m, \u001b[33mlr\u001b[0m=\u001b[1;36m0\u001b[0m\u001b[1;36m.050000\u001b[0m \u001b[33m...\u001b[0m\n"
      ]
     },
     "metadata": {},
     "output_type": "display_data"
    },
    {
     "name": "stderr",
     "output_type": "stream",
     "text": [
      "loss=27.4408 (49.4328), lr=0.050000: : 100% 1300/1300 [00:48<00:00, 27.06it/s]\n"
     ]
    },
    {
     "data": {
      "text/html": [
       "<pre style=\"white-space:pre;overflow-x:auto;line-height:normal;font-family:Menlo,'DejaVu Sans Mono',consolas,'Courier New',monospace\">==&gt; <span style=\"font-weight: bold\">[</span><span style=\"color: #008080; text-decoration-color: #008080; font-weight: bold\">2023</span>-<span style=\"color: #008080; text-decoration-color: #008080; font-weight: bold\">09</span>-11_09-<span style=\"color: #008080; text-decoration-color: #008080; font-weight: bold\">42</span>-<span style=\"color: #008080; text-decoration-color: #008080; font-weight: bold\">08</span><span style=\"font-weight: bold\">]</span> Finished Epoch <span style=\"color: #008080; text-decoration-color: #008080; font-weight: bold\">49</span>/<span style=\"color: #008080; text-decoration-color: #008080; font-weight: bold\">50</span>. <span style=\"color: #808000; text-decoration-color: #808000\">CPU</span>=<span style=\"color: #008080; text-decoration-color: #008080; font-weight: bold\">3.</span>9GB, <span style=\"color: #808000; text-decoration-color: #808000\">GPU</span>=<span style=\"color: #008080; text-decoration-color: #008080; font-weight: bold\">45.</span>4GB.\n",
       "</pre>\n"
      ],
      "text/plain": [
       "==> \u001b[1m[\u001b[0m\u001b[1;36m2023\u001b[0m-\u001b[1;36m09\u001b[0m-11_09-\u001b[1;36m42\u001b[0m-\u001b[1;36m08\u001b[0m\u001b[1m]\u001b[0m Finished Epoch \u001b[1;36m49\u001b[0m/\u001b[1;36m50\u001b[0m. \u001b[33mCPU\u001b[0m=\u001b[1;36m3\u001b[0m\u001b[1;36m.\u001b[0m9GB, \u001b[33mGPU\u001b[0m=\u001b[1;36m45\u001b[0m\u001b[1;36m.\u001b[0m4GB.\n"
      ]
     },
     "metadata": {},
     "output_type": "display_data"
    },
    {
     "data": {
      "text/html": [
       "<pre style=\"white-space:pre;overflow-x:auto;line-height:normal;font-family:Menlo,'DejaVu Sans Mono',consolas,'Courier New',monospace\">++&gt; Evaluate werewolf_big at epoch <span style=\"color: #008080; text-decoration-color: #008080; font-weight: bold\">49</span> <span style=\"color: #808000; text-decoration-color: #808000\">...</span>\n",
       "</pre>\n"
      ],
      "text/plain": [
       "++> Evaluate werewolf_big at epoch \u001b[1;36m49\u001b[0m \u001b[33m...\u001b[0m\n"
      ]
     },
     "metadata": {},
     "output_type": "display_data"
    },
    {
     "name": "stderr",
     "output_type": "stream",
     "text": [
      "loss=0.0000 (0.0000): : 100% 8/8 [00:00<00:00, 17.65it/s]\n"
     ]
    },
    {
     "data": {
      "text/html": [
       "<pre style=\"white-space:pre;overflow-x:auto;line-height:normal;font-family:Menlo,'DejaVu Sans Mono',consolas,'Courier New',monospace\">++&gt; Evaluate epoch <span style=\"color: #008080; text-decoration-color: #008080; font-weight: bold\">49</span> Finished.\n",
       "</pre>\n"
      ],
      "text/plain": [
       "++> Evaluate epoch \u001b[1;36m49\u001b[0m Finished.\n"
      ]
     },
     "metadata": {},
     "output_type": "display_data"
    },
    {
     "data": {
      "text/html": [
       "<pre style=\"white-space:pre;overflow-x:auto;line-height:normal;font-family:Menlo,'DejaVu Sans Mono',consolas,'Courier New',monospace\">==&gt; <span style=\"font-weight: bold\">[</span><span style=\"color: #008080; text-decoration-color: #008080; font-weight: bold\">2023</span>-<span style=\"color: #008080; text-decoration-color: #008080; font-weight: bold\">09</span>-11_09-<span style=\"color: #008080; text-decoration-color: #008080; font-weight: bold\">42</span>-<span style=\"color: #008080; text-decoration-color: #008080; font-weight: bold\">08</span><span style=\"font-weight: bold\">]</span> Start Training werewolf_big Epoch <span style=\"color: #008080; text-decoration-color: #008080; font-weight: bold\">50</span>/<span style=\"color: #008080; text-decoration-color: #008080; font-weight: bold\">50</span>, <span style=\"color: #808000; text-decoration-color: #808000\">lr</span>=<span style=\"color: #008080; text-decoration-color: #008080; font-weight: bold\">0.050000</span> <span style=\"color: #808000; text-decoration-color: #808000\">...</span>\n",
       "</pre>\n"
      ],
      "text/plain": [
       "==> \u001b[1m[\u001b[0m\u001b[1;36m2023\u001b[0m-\u001b[1;36m09\u001b[0m-11_09-\u001b[1;36m42\u001b[0m-\u001b[1;36m08\u001b[0m\u001b[1m]\u001b[0m Start Training werewolf_big Epoch \u001b[1;36m50\u001b[0m/\u001b[1;36m50\u001b[0m, \u001b[33mlr\u001b[0m=\u001b[1;36m0\u001b[0m\u001b[1;36m.050000\u001b[0m \u001b[33m...\u001b[0m\n"
      ]
     },
     "metadata": {},
     "output_type": "display_data"
    },
    {
     "name": "stderr",
     "output_type": "stream",
     "text": [
      "loss=17.3946 (51.5442), lr=0.050000: : 100% 1300/1300 [00:48<00:00, 27.01it/s] \n"
     ]
    },
    {
     "data": {
      "text/html": [
       "<pre style=\"white-space:pre;overflow-x:auto;line-height:normal;font-family:Menlo,'DejaVu Sans Mono',consolas,'Courier New',monospace\">==&gt; <span style=\"font-weight: bold\">[</span><span style=\"color: #008080; text-decoration-color: #008080; font-weight: bold\">2023</span>-<span style=\"color: #008080; text-decoration-color: #008080; font-weight: bold\">09</span>-11_09-<span style=\"color: #008080; text-decoration-color: #008080; font-weight: bold\">42</span>-<span style=\"color: #008080; text-decoration-color: #008080; font-weight: bold\">57</span><span style=\"font-weight: bold\">]</span> Finished Epoch <span style=\"color: #008080; text-decoration-color: #008080; font-weight: bold\">50</span>/<span style=\"color: #008080; text-decoration-color: #008080; font-weight: bold\">50</span>. <span style=\"color: #808000; text-decoration-color: #808000\">CPU</span>=<span style=\"color: #008080; text-decoration-color: #008080; font-weight: bold\">3.</span>7GB, <span style=\"color: #808000; text-decoration-color: #808000\">GPU</span>=<span style=\"color: #008080; text-decoration-color: #008080; font-weight: bold\">45.</span>4GB.\n",
       "</pre>\n"
      ],
      "text/plain": [
       "==> \u001b[1m[\u001b[0m\u001b[1;36m2023\u001b[0m-\u001b[1;36m09\u001b[0m-11_09-\u001b[1;36m42\u001b[0m-\u001b[1;36m57\u001b[0m\u001b[1m]\u001b[0m Finished Epoch \u001b[1;36m50\u001b[0m/\u001b[1;36m50\u001b[0m. \u001b[33mCPU\u001b[0m=\u001b[1;36m3\u001b[0m\u001b[1;36m.\u001b[0m7GB, \u001b[33mGPU\u001b[0m=\u001b[1;36m45\u001b[0m\u001b[1;36m.\u001b[0m4GB.\n"
      ]
     },
     "metadata": {},
     "output_type": "display_data"
    },
    {
     "data": {
      "text/html": [
       "<pre style=\"white-space:pre;overflow-x:auto;line-height:normal;font-family:Menlo,'DejaVu Sans Mono',consolas,'Courier New',monospace\">++&gt; Evaluate werewolf_big at epoch <span style=\"color: #008080; text-decoration-color: #008080; font-weight: bold\">50</span> <span style=\"color: #808000; text-decoration-color: #808000\">...</span>\n",
       "</pre>\n"
      ],
      "text/plain": [
       "++> Evaluate werewolf_big at epoch \u001b[1;36m50\u001b[0m \u001b[33m...\u001b[0m\n"
      ]
     },
     "metadata": {},
     "output_type": "display_data"
    },
    {
     "name": "stderr",
     "output_type": "stream",
     "text": [
      "loss=0.0000 (0.0000): : 100% 8/8 [00:00<00:00, 17.37it/s]\n"
     ]
    },
    {
     "data": {
      "text/html": [
       "<pre style=\"white-space:pre;overflow-x:auto;line-height:normal;font-family:Menlo,'DejaVu Sans Mono',consolas,'Courier New',monospace\">++&gt; Evaluate epoch <span style=\"color: #008080; text-decoration-color: #008080; font-weight: bold\">50</span> Finished.\n",
       "</pre>\n"
      ],
      "text/plain": [
       "++> Evaluate epoch \u001b[1;36m50\u001b[0m Finished.\n"
      ]
     },
     "metadata": {},
     "output_type": "display_data"
    },
    {
     "data": {
      "text/html": [
       "<pre style=\"white-space:pre;overflow-x:auto;line-height:normal;font-family:Menlo,'DejaVu Sans Mono',consolas,'Courier New',monospace\">==&gt; Start Test, save results to werewolf_big/results\n",
       "</pre>\n"
      ],
      "text/plain": [
       "==> Start Test, save results to werewolf_big/results\n"
      ]
     },
     "metadata": {},
     "output_type": "display_data"
    },
    {
     "name": "stderr",
     "output_type": "stream",
     "text": [
      " 99% 99/100 [00:04<00:00, 23.81it/s]"
     ]
    },
    {
     "data": {
      "text/html": [
       "<pre style=\"white-space:pre;overflow-x:auto;line-height:normal;font-family:Menlo,'DejaVu Sans Mono',consolas,'Courier New',monospace\">==&gt; Finished Test.\n",
       "</pre>\n"
      ],
      "text/plain": [
       "==> Finished Test.\n"
      ]
     },
     "metadata": {},
     "output_type": "display_data"
    },
    {
     "name": "stderr",
     "output_type": "stream",
     "text": [
      "100% 100/100 [00:06<00:00, 16.40it/s]\n"
     ]
    },
    {
     "data": {
      "text/html": [
       "<pre style=\"white-space:pre;overflow-x:auto;line-height:normal;font-family:Menlo,'DejaVu Sans Mono',consolas,'Courier New',monospace\"><span style=\"font-weight: bold\">[</span>INFO<span style=\"font-weight: bold\">]</span> training takes <span style=\"color: #008080; text-decoration-color: #008080; font-weight: bold\">43.3219</span> minutes.\n",
       "</pre>\n"
      ],
      "text/plain": [
       "\u001b[1m[\u001b[0mINFO\u001b[1m]\u001b[0m training takes \u001b[1;36m43.3219\u001b[0m minutes.\n"
      ]
     },
     "metadata": {},
     "output_type": "display_data"
    }
   ],
   "source": [
    "\n",
    "#%run preprocess_image.py front.png\n",
    "## zero123 train\n",
    "# pass in the processed <image>_rgba.png by  --default_polar 20 --image and do NOT pass in --text to enable zero-1-to-3 backend.--default_polar 0\n",
    "%run main.py -O --image {image_path} --workspace {workspace}  --iters 5000 --test_interval 10 --batch_size {batch_size}"
   ]
  },
  {
   "cell_type": "code",
   "execution_count": 14,
   "metadata": {},
   "outputs": [
    {
     "name": "stdout",
     "output_type": "stream",
     "text": [
      "Namespace(file=None, text=None, negative='', O=True, O2=False, test=False, six_views=False, eval_interval=1, test_interval=5, workspace='werewolf_big_dmtet', seed=None, image='/notebooks/threestudio/load/images/werewolf_big_rgba.png', image_config=None, known_view_interval=4, IF=False, guidance=['zero123'], guidance_scale=5, save_mesh=False, mcubes_resolution=256, decimate_target=50000.0, dmtet=True, tet_grid_size=128, init_with='werewolf_big/checkpoints/df.pth', lock_geo=False, perpneg=False, negative_w=-2, front_decay_factor=2, side_decay_factor=10, iters=10000, lr=0.001, ckpt='latest', cuda_ray=True, taichi_ray=False, max_steps=1024, num_steps=64, upsample_steps=32, update_extra_interval=16, max_ray_batch=4096, latent_iter_ratio=0, albedo_iter_ratio=0, min_ambient_ratio=0.1, textureless_ratio=0.2, jitter_pose=False, jitter_center=0.2, jitter_target=0.2, jitter_up=0.02, uniform_sphere_rate=0, grad_clip=-1, grad_clip_rgb=-1, bg_radius=1.4, density_activation='exp', density_thresh=10, blob_density=5, blob_radius=0.2, backbone='grid', optim='adan', sd_version='2.1', hf_key=None, fp16=True, vram_O=False, w=512, h=512, known_view_scale=1, known_view_noise_scale=0.002, dmtet_reso_scale=8, batch_size=13, bound=1, dt_gamma=0, min_near=0.01, radius_range=[3.0, 3.5], theta_range=[45, 105], phi_range=[-180, 180], fovy_range=[20, 20], default_radius=3.2, default_polar=90, default_azimuth=0, default_fovy=20, progressive_view=False, progressive_view_init_ratio=0.2, progressive_level=True, angle_overhead=30, angle_front=60, t_range=[0.02, 0.5], dont_override_stuff=False, lambda_entropy=1, lambda_opacity=0, lambda_orient=1, lambda_tv=0, lambda_wd=0, lambda_mesh_normal=0.5, lambda_mesh_laplacian=0.5, lambda_guidance=1, lambda_rgb=1000, lambda_mask=500, lambda_normal=0, lambda_depth=0, lambda_2d_normal_smooth=0, lambda_3d_normal_smooth=10, save_guidance=False, save_guidance_interval=10, gui=False, W=800, H=800, radius=5, fovy=20, light_theta=60, light_phi=0, max_spp=1, zero123_config='./pretrained/zero123/sd-objaverse-finetune-c_concat-256.yaml', zero123_ckpt='pretrained/zero123/zero123-xl.ckpt', zero123_grad_scale='angle', dataset_size_train=100, dataset_size_valid=8, dataset_size_test=100, exp_start_iter=0, exp_end_iter=10000, images=['/notebooks/threestudio/load/images/werewolf_big_rgba.png'], ref_radii=[3.2], ref_polars=[90], ref_azimuths=[0], zero123_ws=[1], default_zero123_w=1)\n",
      "[INFO] init dmtet: scale = tensor([0.4750, 0.5374, 0.3813], device='cuda:0')\n",
      "NeRFNetwork(\n",
      "  (encoder): GridEncoder: input_dim=3 num_levels=16 level_dim=2 resolution=16 -> 2048 per_level_scale=1.3819 params=(6098120, 2) gridtype=hash align_corners=False interpolation=smoothstep\n",
      "  (sigma_net): MLP(\n",
      "    (net): ModuleList(\n",
      "      (0): Linear(in_features=32, out_features=64, bias=True)\n",
      "      (1): Linear(in_features=64, out_features=64, bias=True)\n",
      "      (2): Linear(in_features=64, out_features=4, bias=True)\n",
      "    )\n",
      "  )\n",
      "  (encoder_bg): FreqEncoder: input_dim=3 degree=6 output_dim=39\n",
      "  (bg_net): MLP(\n",
      "    (net): ModuleList(\n",
      "      (0): Linear(in_features=39, out_features=32, bias=True)\n",
      "      (1): Linear(in_features=32, out_features=3, bias=True)\n",
      "    )\n",
      "  )\n",
      ")\n",
      "LatentDiffusion: Running in eps-prediction mode\n",
      "DiffusionWrapper has 859.53 M params.\n",
      "Keeping EMAs of 688.\n",
      "making attention of type 'vanilla' with 512 in_channels\n",
      "Working with z of shape (1, 4, 32, 32) = 4096 dimensions.\n",
      "making attention of type 'vanilla' with 512 in_channels\n",
      "[INFO] dataset: load image prompt ['/notebooks/threestudio/load/images/werewolf_big_rgba.png'] torch.Size([1, 3, 512, 512])\n",
      "[INFO] dataset: load depth prompt ['/notebooks/threestudio/load/images/werewolf_big_depth.png'] torch.Size([1, 512, 512])\n",
      "[INFO] dataset: load normal prompt ['/notebooks/threestudio/load/images/werewolf_big_normal.png'] torch.Size([1, 512, 512, 3])\n"
     ]
    },
    {
     "data": {
      "text/html": [
       "<pre style=\"white-space:pre;overflow-x:auto;line-height:normal;font-family:Menlo,'DejaVu Sans Mono',consolas,'Courier New',monospace\"><span style=\"font-weight: bold\">[</span>INFO<span style=\"font-weight: bold\">]</span> Cmdline: main.py -O --batch_size <span style=\"color: #008080; text-decoration-color: #008080; font-weight: bold\">13</span> --image <span style=\"color: #800080; text-decoration-color: #800080\">/notebooks/threestudio/load/images/</span><span style=\"color: #ff00ff; text-decoration-color: #ff00ff\">werewolf_big_rgba.png</span> \n",
       "--test_interval <span style=\"color: #008080; text-decoration-color: #008080; font-weight: bold\">5</span> --workspace werewolf_big_dmtet --dmtet --init_with werewolf_big/checkpoints/df.pth\n",
       "</pre>\n"
      ],
      "text/plain": [
       "\u001b[1m[\u001b[0mINFO\u001b[1m]\u001b[0m Cmdline: main.py -O --batch_size \u001b[1;36m13\u001b[0m --image \u001b[35m/notebooks/threestudio/load/images/\u001b[0m\u001b[95mwerewolf_big_rgba.png\u001b[0m \n",
       "--test_interval \u001b[1;36m5\u001b[0m --workspace werewolf_big_dmtet --dmtet --init_with werewolf_big/checkpoints/df.pth\n"
      ]
     },
     "metadata": {},
     "output_type": "display_data"
    },
    {
     "data": {
      "text/html": [
       "<pre style=\"white-space:pre;overflow-x:auto;line-height:normal;font-family:Menlo,'DejaVu Sans Mono',consolas,'Courier New',monospace\"><span style=\"font-weight: bold\">[</span>INFO<span style=\"font-weight: bold\">]</span> opt: <span style=\"color: #800080; text-decoration-color: #800080; font-weight: bold\">Namespace</span><span style=\"font-weight: bold\">(</span><span style=\"color: #808000; text-decoration-color: #808000\">file</span>=<span style=\"color: #800080; text-decoration-color: #800080; font-style: italic\">None</span>, <span style=\"color: #808000; text-decoration-color: #808000\">text</span>=<span style=\"color: #800080; text-decoration-color: #800080; font-style: italic\">None</span>, <span style=\"color: #808000; text-decoration-color: #808000\">negative</span>=<span style=\"color: #008000; text-decoration-color: #008000\">''</span>, <span style=\"color: #808000; text-decoration-color: #808000\">O</span>=<span style=\"color: #00ff00; text-decoration-color: #00ff00; font-style: italic\">True</span>, <span style=\"color: #808000; text-decoration-color: #808000\">O2</span>=<span style=\"color: #ff0000; text-decoration-color: #ff0000; font-style: italic\">False</span>, <span style=\"color: #808000; text-decoration-color: #808000\">test</span>=<span style=\"color: #ff0000; text-decoration-color: #ff0000; font-style: italic\">False</span>, <span style=\"color: #808000; text-decoration-color: #808000\">six_views</span>=<span style=\"color: #ff0000; text-decoration-color: #ff0000; font-style: italic\">False</span>, \n",
       "<span style=\"color: #808000; text-decoration-color: #808000\">eval_interval</span>=<span style=\"color: #008080; text-decoration-color: #008080; font-weight: bold\">1</span>, <span style=\"color: #808000; text-decoration-color: #808000\">test_interval</span>=<span style=\"color: #008080; text-decoration-color: #008080; font-weight: bold\">5</span>, <span style=\"color: #808000; text-decoration-color: #808000\">workspace</span>=<span style=\"color: #008000; text-decoration-color: #008000\">'werewolf_big_dmtet'</span>, <span style=\"color: #808000; text-decoration-color: #808000\">seed</span>=<span style=\"color: #800080; text-decoration-color: #800080; font-style: italic\">None</span>, \n",
       "<span style=\"color: #808000; text-decoration-color: #808000\">image</span>=<span style=\"color: #008000; text-decoration-color: #008000\">'/notebooks/threestudio/load/images/werewolf_big_rgba.png'</span>, <span style=\"color: #808000; text-decoration-color: #808000\">image_config</span>=<span style=\"color: #800080; text-decoration-color: #800080; font-style: italic\">None</span>, <span style=\"color: #808000; text-decoration-color: #808000\">known_view_interval</span>=<span style=\"color: #008080; text-decoration-color: #008080; font-weight: bold\">4</span>, \n",
       "<span style=\"color: #808000; text-decoration-color: #808000\">IF</span>=<span style=\"color: #ff0000; text-decoration-color: #ff0000; font-style: italic\">False</span>, <span style=\"color: #808000; text-decoration-color: #808000\">guidance</span>=<span style=\"font-weight: bold\">[</span><span style=\"color: #008000; text-decoration-color: #008000\">'zero123'</span><span style=\"font-weight: bold\">]</span>, <span style=\"color: #808000; text-decoration-color: #808000\">guidance_scale</span>=<span style=\"color: #008080; text-decoration-color: #008080; font-weight: bold\">5</span>, <span style=\"color: #808000; text-decoration-color: #808000\">save_mesh</span>=<span style=\"color: #ff0000; text-decoration-color: #ff0000; font-style: italic\">False</span>, <span style=\"color: #808000; text-decoration-color: #808000\">mcubes_resolution</span>=<span style=\"color: #008080; text-decoration-color: #008080; font-weight: bold\">256</span>, <span style=\"color: #808000; text-decoration-color: #808000\">decimate_target</span>=<span style=\"color: #008080; text-decoration-color: #008080; font-weight: bold\">50000.0</span>, \n",
       "<span style=\"color: #808000; text-decoration-color: #808000\">dmtet</span>=<span style=\"color: #00ff00; text-decoration-color: #00ff00; font-style: italic\">True</span>, <span style=\"color: #808000; text-decoration-color: #808000\">tet_grid_size</span>=<span style=\"color: #008080; text-decoration-color: #008080; font-weight: bold\">128</span>, <span style=\"color: #808000; text-decoration-color: #808000\">init_with</span>=<span style=\"color: #008000; text-decoration-color: #008000\">'werewolf_big/checkpoints/df.pth'</span>, <span style=\"color: #808000; text-decoration-color: #808000\">lock_geo</span>=<span style=\"color: #ff0000; text-decoration-color: #ff0000; font-style: italic\">False</span>, <span style=\"color: #808000; text-decoration-color: #808000\">perpneg</span>=<span style=\"color: #ff0000; text-decoration-color: #ff0000; font-style: italic\">False</span>, \n",
       "<span style=\"color: #808000; text-decoration-color: #808000\">negative_w</span>=<span style=\"color: #008080; text-decoration-color: #008080; font-weight: bold\">-2</span>, <span style=\"color: #808000; text-decoration-color: #808000\">front_decay_factor</span>=<span style=\"color: #008080; text-decoration-color: #008080; font-weight: bold\">2</span>, <span style=\"color: #808000; text-decoration-color: #808000\">side_decay_factor</span>=<span style=\"color: #008080; text-decoration-color: #008080; font-weight: bold\">10</span>, <span style=\"color: #808000; text-decoration-color: #808000\">iters</span>=<span style=\"color: #008080; text-decoration-color: #008080; font-weight: bold\">10000</span>, <span style=\"color: #808000; text-decoration-color: #808000\">lr</span>=<span style=\"color: #008080; text-decoration-color: #008080; font-weight: bold\">0.001</span>, <span style=\"color: #808000; text-decoration-color: #808000\">ckpt</span>=<span style=\"color: #008000; text-decoration-color: #008000\">'latest'</span>, <span style=\"color: #808000; text-decoration-color: #808000\">cuda_ray</span>=<span style=\"color: #00ff00; text-decoration-color: #00ff00; font-style: italic\">True</span>, \n",
       "<span style=\"color: #808000; text-decoration-color: #808000\">taichi_ray</span>=<span style=\"color: #ff0000; text-decoration-color: #ff0000; font-style: italic\">False</span>, <span style=\"color: #808000; text-decoration-color: #808000\">max_steps</span>=<span style=\"color: #008080; text-decoration-color: #008080; font-weight: bold\">1024</span>, <span style=\"color: #808000; text-decoration-color: #808000\">num_steps</span>=<span style=\"color: #008080; text-decoration-color: #008080; font-weight: bold\">64</span>, <span style=\"color: #808000; text-decoration-color: #808000\">upsample_steps</span>=<span style=\"color: #008080; text-decoration-color: #008080; font-weight: bold\">32</span>, <span style=\"color: #808000; text-decoration-color: #808000\">update_extra_interval</span>=<span style=\"color: #008080; text-decoration-color: #008080; font-weight: bold\">16</span>, <span style=\"color: #808000; text-decoration-color: #808000\">max_ray_batch</span>=<span style=\"color: #008080; text-decoration-color: #008080; font-weight: bold\">4096</span>, \n",
       "<span style=\"color: #808000; text-decoration-color: #808000\">latent_iter_ratio</span>=<span style=\"color: #008080; text-decoration-color: #008080; font-weight: bold\">0</span>, <span style=\"color: #808000; text-decoration-color: #808000\">albedo_iter_ratio</span>=<span style=\"color: #008080; text-decoration-color: #008080; font-weight: bold\">0</span>, <span style=\"color: #808000; text-decoration-color: #808000\">min_ambient_ratio</span>=<span style=\"color: #008080; text-decoration-color: #008080; font-weight: bold\">0.1</span>, <span style=\"color: #808000; text-decoration-color: #808000\">textureless_ratio</span>=<span style=\"color: #008080; text-decoration-color: #008080; font-weight: bold\">0.2</span>, <span style=\"color: #808000; text-decoration-color: #808000\">jitter_pose</span>=<span style=\"color: #ff0000; text-decoration-color: #ff0000; font-style: italic\">False</span>, \n",
       "<span style=\"color: #808000; text-decoration-color: #808000\">jitter_center</span>=<span style=\"color: #008080; text-decoration-color: #008080; font-weight: bold\">0.2</span>, <span style=\"color: #808000; text-decoration-color: #808000\">jitter_target</span>=<span style=\"color: #008080; text-decoration-color: #008080; font-weight: bold\">0.2</span>, <span style=\"color: #808000; text-decoration-color: #808000\">jitter_up</span>=<span style=\"color: #008080; text-decoration-color: #008080; font-weight: bold\">0.02</span>, <span style=\"color: #808000; text-decoration-color: #808000\">uniform_sphere_rate</span>=<span style=\"color: #008080; text-decoration-color: #008080; font-weight: bold\">0</span>, <span style=\"color: #808000; text-decoration-color: #808000\">grad_clip</span>=<span style=\"color: #008080; text-decoration-color: #008080; font-weight: bold\">-1</span>, <span style=\"color: #808000; text-decoration-color: #808000\">grad_clip_rgb</span>=<span style=\"color: #008080; text-decoration-color: #008080; font-weight: bold\">-1</span>, \n",
       "<span style=\"color: #808000; text-decoration-color: #808000\">bg_radius</span>=<span style=\"color: #008080; text-decoration-color: #008080; font-weight: bold\">1.4</span>, <span style=\"color: #808000; text-decoration-color: #808000\">density_activation</span>=<span style=\"color: #008000; text-decoration-color: #008000\">'exp'</span>, <span style=\"color: #808000; text-decoration-color: #808000\">density_thresh</span>=<span style=\"color: #008080; text-decoration-color: #008080; font-weight: bold\">10</span>, <span style=\"color: #808000; text-decoration-color: #808000\">blob_density</span>=<span style=\"color: #008080; text-decoration-color: #008080; font-weight: bold\">5</span>, <span style=\"color: #808000; text-decoration-color: #808000\">blob_radius</span>=<span style=\"color: #008080; text-decoration-color: #008080; font-weight: bold\">0.2</span>, <span style=\"color: #808000; text-decoration-color: #808000\">backbone</span>=<span style=\"color: #008000; text-decoration-color: #008000\">'grid'</span>, \n",
       "<span style=\"color: #808000; text-decoration-color: #808000\">optim</span>=<span style=\"color: #008000; text-decoration-color: #008000\">'adan'</span>, <span style=\"color: #808000; text-decoration-color: #808000\">sd_version</span>=<span style=\"color: #008000; text-decoration-color: #008000\">'2.1'</span>, <span style=\"color: #808000; text-decoration-color: #808000\">hf_key</span>=<span style=\"color: #800080; text-decoration-color: #800080; font-style: italic\">None</span>, <span style=\"color: #808000; text-decoration-color: #808000\">fp16</span>=<span style=\"color: #00ff00; text-decoration-color: #00ff00; font-style: italic\">True</span>, <span style=\"color: #808000; text-decoration-color: #808000\">vram_O</span>=<span style=\"color: #ff0000; text-decoration-color: #ff0000; font-style: italic\">False</span>, <span style=\"color: #808000; text-decoration-color: #808000\">w</span>=<span style=\"color: #008080; text-decoration-color: #008080; font-weight: bold\">512</span>, <span style=\"color: #808000; text-decoration-color: #808000\">h</span>=<span style=\"color: #008080; text-decoration-color: #008080; font-weight: bold\">512</span>, <span style=\"color: #808000; text-decoration-color: #808000\">known_view_scale</span>=<span style=\"color: #008080; text-decoration-color: #008080; font-weight: bold\">1</span>, \n",
       "<span style=\"color: #808000; text-decoration-color: #808000\">known_view_noise_scale</span>=<span style=\"color: #008080; text-decoration-color: #008080; font-weight: bold\">0.002</span>, <span style=\"color: #808000; text-decoration-color: #808000\">dmtet_reso_scale</span>=<span style=\"color: #008080; text-decoration-color: #008080; font-weight: bold\">8</span>, <span style=\"color: #808000; text-decoration-color: #808000\">batch_size</span>=<span style=\"color: #008080; text-decoration-color: #008080; font-weight: bold\">13</span>, <span style=\"color: #808000; text-decoration-color: #808000\">bound</span>=<span style=\"color: #008080; text-decoration-color: #008080; font-weight: bold\">1</span>, <span style=\"color: #808000; text-decoration-color: #808000\">dt_gamma</span>=<span style=\"color: #008080; text-decoration-color: #008080; font-weight: bold\">0</span>, <span style=\"color: #808000; text-decoration-color: #808000\">min_near</span>=<span style=\"color: #008080; text-decoration-color: #008080; font-weight: bold\">0.01</span>, \n",
       "<span style=\"color: #808000; text-decoration-color: #808000\">radius_range</span>=<span style=\"font-weight: bold\">[</span><span style=\"color: #008080; text-decoration-color: #008080; font-weight: bold\">3.0</span>, <span style=\"color: #008080; text-decoration-color: #008080; font-weight: bold\">3.5</span><span style=\"font-weight: bold\">]</span>, <span style=\"color: #808000; text-decoration-color: #808000\">theta_range</span>=<span style=\"font-weight: bold\">[</span><span style=\"color: #008080; text-decoration-color: #008080; font-weight: bold\">45</span>, <span style=\"color: #008080; text-decoration-color: #008080; font-weight: bold\">105</span><span style=\"font-weight: bold\">]</span>, <span style=\"color: #808000; text-decoration-color: #808000\">phi_range</span>=<span style=\"font-weight: bold\">[</span><span style=\"color: #008080; text-decoration-color: #008080; font-weight: bold\">-180</span>, <span style=\"color: #008080; text-decoration-color: #008080; font-weight: bold\">180</span><span style=\"font-weight: bold\">]</span>, <span style=\"color: #808000; text-decoration-color: #808000\">fovy_range</span>=<span style=\"font-weight: bold\">[</span><span style=\"color: #008080; text-decoration-color: #008080; font-weight: bold\">20</span>, <span style=\"color: #008080; text-decoration-color: #008080; font-weight: bold\">20</span><span style=\"font-weight: bold\">]</span>, <span style=\"color: #808000; text-decoration-color: #808000\">default_radius</span>=<span style=\"color: #008080; text-decoration-color: #008080; font-weight: bold\">3.2</span>, \n",
       "<span style=\"color: #808000; text-decoration-color: #808000\">default_polar</span>=<span style=\"color: #008080; text-decoration-color: #008080; font-weight: bold\">90</span>, <span style=\"color: #808000; text-decoration-color: #808000\">default_azimuth</span>=<span style=\"color: #008080; text-decoration-color: #008080; font-weight: bold\">0</span>, <span style=\"color: #808000; text-decoration-color: #808000\">default_fovy</span>=<span style=\"color: #008080; text-decoration-color: #008080; font-weight: bold\">20</span>, <span style=\"color: #808000; text-decoration-color: #808000\">progressive_view</span>=<span style=\"color: #ff0000; text-decoration-color: #ff0000; font-style: italic\">False</span>, <span style=\"color: #808000; text-decoration-color: #808000\">progressive_view_init_ratio</span>=<span style=\"color: #008080; text-decoration-color: #008080; font-weight: bold\">0.2</span>, \n",
       "<span style=\"color: #808000; text-decoration-color: #808000\">progressive_level</span>=<span style=\"color: #00ff00; text-decoration-color: #00ff00; font-style: italic\">True</span>, <span style=\"color: #808000; text-decoration-color: #808000\">angle_overhead</span>=<span style=\"color: #008080; text-decoration-color: #008080; font-weight: bold\">30</span>, <span style=\"color: #808000; text-decoration-color: #808000\">angle_front</span>=<span style=\"color: #008080; text-decoration-color: #008080; font-weight: bold\">60</span>, <span style=\"color: #808000; text-decoration-color: #808000\">t_range</span>=<span style=\"font-weight: bold\">[</span><span style=\"color: #008080; text-decoration-color: #008080; font-weight: bold\">0.02</span>, <span style=\"color: #008080; text-decoration-color: #008080; font-weight: bold\">0.5</span><span style=\"font-weight: bold\">]</span>, <span style=\"color: #808000; text-decoration-color: #808000\">dont_override_stuff</span>=<span style=\"color: #ff0000; text-decoration-color: #ff0000; font-style: italic\">False</span>, \n",
       "<span style=\"color: #808000; text-decoration-color: #808000\">lambda_entropy</span>=<span style=\"color: #008080; text-decoration-color: #008080; font-weight: bold\">1</span>, <span style=\"color: #808000; text-decoration-color: #808000\">lambda_opacity</span>=<span style=\"color: #008080; text-decoration-color: #008080; font-weight: bold\">0</span>, <span style=\"color: #808000; text-decoration-color: #808000\">lambda_orient</span>=<span style=\"color: #008080; text-decoration-color: #008080; font-weight: bold\">1</span>, <span style=\"color: #808000; text-decoration-color: #808000\">lambda_tv</span>=<span style=\"color: #008080; text-decoration-color: #008080; font-weight: bold\">0</span>, <span style=\"color: #808000; text-decoration-color: #808000\">lambda_wd</span>=<span style=\"color: #008080; text-decoration-color: #008080; font-weight: bold\">0</span>, <span style=\"color: #808000; text-decoration-color: #808000\">lambda_mesh_normal</span>=<span style=\"color: #008080; text-decoration-color: #008080; font-weight: bold\">0.5</span>, \n",
       "<span style=\"color: #808000; text-decoration-color: #808000\">lambda_mesh_laplacian</span>=<span style=\"color: #008080; text-decoration-color: #008080; font-weight: bold\">0.5</span>, <span style=\"color: #808000; text-decoration-color: #808000\">lambda_guidance</span>=<span style=\"color: #008080; text-decoration-color: #008080; font-weight: bold\">1</span>, <span style=\"color: #808000; text-decoration-color: #808000\">lambda_rgb</span>=<span style=\"color: #008080; text-decoration-color: #008080; font-weight: bold\">1000</span>, <span style=\"color: #808000; text-decoration-color: #808000\">lambda_mask</span>=<span style=\"color: #008080; text-decoration-color: #008080; font-weight: bold\">500</span>, <span style=\"color: #808000; text-decoration-color: #808000\">lambda_normal</span>=<span style=\"color: #008080; text-decoration-color: #008080; font-weight: bold\">0</span>, <span style=\"color: #808000; text-decoration-color: #808000\">lambda_depth</span>=<span style=\"color: #008080; text-decoration-color: #008080; font-weight: bold\">0</span>, \n",
       "<span style=\"color: #808000; text-decoration-color: #808000\">lambda_2d_normal_smooth</span>=<span style=\"color: #008080; text-decoration-color: #008080; font-weight: bold\">0</span>, <span style=\"color: #808000; text-decoration-color: #808000\">lambda_3d_normal_smooth</span>=<span style=\"color: #008080; text-decoration-color: #008080; font-weight: bold\">10</span>, <span style=\"color: #808000; text-decoration-color: #808000\">save_guidance</span>=<span style=\"color: #ff0000; text-decoration-color: #ff0000; font-style: italic\">False</span>, <span style=\"color: #808000; text-decoration-color: #808000\">save_guidance_interval</span>=<span style=\"color: #008080; text-decoration-color: #008080; font-weight: bold\">10</span>, <span style=\"color: #808000; text-decoration-color: #808000\">gui</span>=<span style=\"color: #ff0000; text-decoration-color: #ff0000; font-style: italic\">False</span>, \n",
       "<span style=\"color: #808000; text-decoration-color: #808000\">W</span>=<span style=\"color: #008080; text-decoration-color: #008080; font-weight: bold\">800</span>, <span style=\"color: #808000; text-decoration-color: #808000\">H</span>=<span style=\"color: #008080; text-decoration-color: #008080; font-weight: bold\">800</span>, <span style=\"color: #808000; text-decoration-color: #808000\">radius</span>=<span style=\"color: #008080; text-decoration-color: #008080; font-weight: bold\">5</span>, <span style=\"color: #808000; text-decoration-color: #808000\">fovy</span>=<span style=\"color: #008080; text-decoration-color: #008080; font-weight: bold\">20</span>, <span style=\"color: #808000; text-decoration-color: #808000\">light_theta</span>=<span style=\"color: #008080; text-decoration-color: #008080; font-weight: bold\">60</span>, <span style=\"color: #808000; text-decoration-color: #808000\">light_phi</span>=<span style=\"color: #008080; text-decoration-color: #008080; font-weight: bold\">0</span>, <span style=\"color: #808000; text-decoration-color: #808000\">max_spp</span>=<span style=\"color: #008080; text-decoration-color: #008080; font-weight: bold\">1</span>, \n",
       "<span style=\"color: #808000; text-decoration-color: #808000\">zero123_config</span>=<span style=\"color: #008000; text-decoration-color: #008000\">'./pretrained/zero123/sd-objaverse-finetune-c_concat-256.yaml'</span>, \n",
       "<span style=\"color: #808000; text-decoration-color: #808000\">zero123_ckpt</span>=<span style=\"color: #008000; text-decoration-color: #008000\">'pretrained/zero123/zero123-xl.ckpt'</span>, <span style=\"color: #808000; text-decoration-color: #808000\">zero123_grad_scale</span>=<span style=\"color: #008000; text-decoration-color: #008000\">'angle'</span>, <span style=\"color: #808000; text-decoration-color: #808000\">dataset_size_train</span>=<span style=\"color: #008080; text-decoration-color: #008080; font-weight: bold\">100</span>, \n",
       "<span style=\"color: #808000; text-decoration-color: #808000\">dataset_size_valid</span>=<span style=\"color: #008080; text-decoration-color: #008080; font-weight: bold\">8</span>, <span style=\"color: #808000; text-decoration-color: #808000\">dataset_size_test</span>=<span style=\"color: #008080; text-decoration-color: #008080; font-weight: bold\">100</span>, <span style=\"color: #808000; text-decoration-color: #808000\">exp_start_iter</span>=<span style=\"color: #008080; text-decoration-color: #008080; font-weight: bold\">0</span>, <span style=\"color: #808000; text-decoration-color: #808000\">exp_end_iter</span>=<span style=\"color: #008080; text-decoration-color: #008080; font-weight: bold\">10000</span>, \n",
       "<span style=\"color: #808000; text-decoration-color: #808000\">images</span>=<span style=\"font-weight: bold\">[</span><span style=\"color: #008000; text-decoration-color: #008000\">'/notebooks/threestudio/load/images/werewolf_big_rgba.png'</span><span style=\"font-weight: bold\">]</span>, <span style=\"color: #808000; text-decoration-color: #808000\">ref_radii</span>=<span style=\"font-weight: bold\">[</span><span style=\"color: #008080; text-decoration-color: #008080; font-weight: bold\">3.2</span><span style=\"font-weight: bold\">]</span>, <span style=\"color: #808000; text-decoration-color: #808000\">ref_polars</span>=<span style=\"font-weight: bold\">[</span><span style=\"color: #008080; text-decoration-color: #008080; font-weight: bold\">90</span><span style=\"font-weight: bold\">]</span>, \n",
       "<span style=\"color: #808000; text-decoration-color: #808000\">ref_azimuths</span>=<span style=\"font-weight: bold\">[</span><span style=\"color: #008080; text-decoration-color: #008080; font-weight: bold\">0</span><span style=\"font-weight: bold\">]</span>, <span style=\"color: #808000; text-decoration-color: #808000\">zero123_ws</span>=<span style=\"font-weight: bold\">[</span><span style=\"color: #008080; text-decoration-color: #008080; font-weight: bold\">1</span><span style=\"font-weight: bold\">]</span>, <span style=\"color: #808000; text-decoration-color: #808000\">default_zero123_w</span>=<span style=\"color: #008080; text-decoration-color: #008080; font-weight: bold\">1</span><span style=\"font-weight: bold\">)</span>\n",
       "</pre>\n"
      ],
      "text/plain": [
       "\u001b[1m[\u001b[0mINFO\u001b[1m]\u001b[0m opt: \u001b[1;35mNamespace\u001b[0m\u001b[1m(\u001b[0m\u001b[33mfile\u001b[0m=\u001b[3;35mNone\u001b[0m, \u001b[33mtext\u001b[0m=\u001b[3;35mNone\u001b[0m, \u001b[33mnegative\u001b[0m=\u001b[32m''\u001b[0m, \u001b[33mO\u001b[0m=\u001b[3;92mTrue\u001b[0m, \u001b[33mO2\u001b[0m=\u001b[3;91mFalse\u001b[0m, \u001b[33mtest\u001b[0m=\u001b[3;91mFalse\u001b[0m, \u001b[33msix_views\u001b[0m=\u001b[3;91mFalse\u001b[0m, \n",
       "\u001b[33meval_interval\u001b[0m=\u001b[1;36m1\u001b[0m, \u001b[33mtest_interval\u001b[0m=\u001b[1;36m5\u001b[0m, \u001b[33mworkspace\u001b[0m=\u001b[32m'werewolf_big_dmtet'\u001b[0m, \u001b[33mseed\u001b[0m=\u001b[3;35mNone\u001b[0m, \n",
       "\u001b[33mimage\u001b[0m=\u001b[32m'/notebooks/threestudio/load/images/werewolf_big_rgba.png'\u001b[0m, \u001b[33mimage_config\u001b[0m=\u001b[3;35mNone\u001b[0m, \u001b[33mknown_view_interval\u001b[0m=\u001b[1;36m4\u001b[0m, \n",
       "\u001b[33mIF\u001b[0m=\u001b[3;91mFalse\u001b[0m, \u001b[33mguidance\u001b[0m=\u001b[1m[\u001b[0m\u001b[32m'zero123'\u001b[0m\u001b[1m]\u001b[0m, \u001b[33mguidance_scale\u001b[0m=\u001b[1;36m5\u001b[0m, \u001b[33msave_mesh\u001b[0m=\u001b[3;91mFalse\u001b[0m, \u001b[33mmcubes_resolution\u001b[0m=\u001b[1;36m256\u001b[0m, \u001b[33mdecimate_target\u001b[0m=\u001b[1;36m50000\u001b[0m\u001b[1;36m.0\u001b[0m, \n",
       "\u001b[33mdmtet\u001b[0m=\u001b[3;92mTrue\u001b[0m, \u001b[33mtet_grid_size\u001b[0m=\u001b[1;36m128\u001b[0m, \u001b[33minit_with\u001b[0m=\u001b[32m'werewolf_big/checkpoints/df.pth'\u001b[0m, \u001b[33mlock_geo\u001b[0m=\u001b[3;91mFalse\u001b[0m, \u001b[33mperpneg\u001b[0m=\u001b[3;91mFalse\u001b[0m, \n",
       "\u001b[33mnegative_w\u001b[0m=\u001b[1;36m-2\u001b[0m, \u001b[33mfront_decay_factor\u001b[0m=\u001b[1;36m2\u001b[0m, \u001b[33mside_decay_factor\u001b[0m=\u001b[1;36m10\u001b[0m, \u001b[33miters\u001b[0m=\u001b[1;36m10000\u001b[0m, \u001b[33mlr\u001b[0m=\u001b[1;36m0\u001b[0m\u001b[1;36m.001\u001b[0m, \u001b[33mckpt\u001b[0m=\u001b[32m'latest'\u001b[0m, \u001b[33mcuda_ray\u001b[0m=\u001b[3;92mTrue\u001b[0m, \n",
       "\u001b[33mtaichi_ray\u001b[0m=\u001b[3;91mFalse\u001b[0m, \u001b[33mmax_steps\u001b[0m=\u001b[1;36m1024\u001b[0m, \u001b[33mnum_steps\u001b[0m=\u001b[1;36m64\u001b[0m, \u001b[33mupsample_steps\u001b[0m=\u001b[1;36m32\u001b[0m, \u001b[33mupdate_extra_interval\u001b[0m=\u001b[1;36m16\u001b[0m, \u001b[33mmax_ray_batch\u001b[0m=\u001b[1;36m4096\u001b[0m, \n",
       "\u001b[33mlatent_iter_ratio\u001b[0m=\u001b[1;36m0\u001b[0m, \u001b[33malbedo_iter_ratio\u001b[0m=\u001b[1;36m0\u001b[0m, \u001b[33mmin_ambient_ratio\u001b[0m=\u001b[1;36m0\u001b[0m\u001b[1;36m.1\u001b[0m, \u001b[33mtextureless_ratio\u001b[0m=\u001b[1;36m0\u001b[0m\u001b[1;36m.2\u001b[0m, \u001b[33mjitter_pose\u001b[0m=\u001b[3;91mFalse\u001b[0m, \n",
       "\u001b[33mjitter_center\u001b[0m=\u001b[1;36m0\u001b[0m\u001b[1;36m.2\u001b[0m, \u001b[33mjitter_target\u001b[0m=\u001b[1;36m0\u001b[0m\u001b[1;36m.2\u001b[0m, \u001b[33mjitter_up\u001b[0m=\u001b[1;36m0\u001b[0m\u001b[1;36m.02\u001b[0m, \u001b[33muniform_sphere_rate\u001b[0m=\u001b[1;36m0\u001b[0m, \u001b[33mgrad_clip\u001b[0m=\u001b[1;36m-1\u001b[0m, \u001b[33mgrad_clip_rgb\u001b[0m=\u001b[1;36m-1\u001b[0m, \n",
       "\u001b[33mbg_radius\u001b[0m=\u001b[1;36m1\u001b[0m\u001b[1;36m.4\u001b[0m, \u001b[33mdensity_activation\u001b[0m=\u001b[32m'exp'\u001b[0m, \u001b[33mdensity_thresh\u001b[0m=\u001b[1;36m10\u001b[0m, \u001b[33mblob_density\u001b[0m=\u001b[1;36m5\u001b[0m, \u001b[33mblob_radius\u001b[0m=\u001b[1;36m0\u001b[0m\u001b[1;36m.2\u001b[0m, \u001b[33mbackbone\u001b[0m=\u001b[32m'grid'\u001b[0m, \n",
       "\u001b[33moptim\u001b[0m=\u001b[32m'adan'\u001b[0m, \u001b[33msd_version\u001b[0m=\u001b[32m'2.1'\u001b[0m, \u001b[33mhf_key\u001b[0m=\u001b[3;35mNone\u001b[0m, \u001b[33mfp16\u001b[0m=\u001b[3;92mTrue\u001b[0m, \u001b[33mvram_O\u001b[0m=\u001b[3;91mFalse\u001b[0m, \u001b[33mw\u001b[0m=\u001b[1;36m512\u001b[0m, \u001b[33mh\u001b[0m=\u001b[1;36m512\u001b[0m, \u001b[33mknown_view_scale\u001b[0m=\u001b[1;36m1\u001b[0m, \n",
       "\u001b[33mknown_view_noise_scale\u001b[0m=\u001b[1;36m0\u001b[0m\u001b[1;36m.002\u001b[0m, \u001b[33mdmtet_reso_scale\u001b[0m=\u001b[1;36m8\u001b[0m, \u001b[33mbatch_size\u001b[0m=\u001b[1;36m13\u001b[0m, \u001b[33mbound\u001b[0m=\u001b[1;36m1\u001b[0m, \u001b[33mdt_gamma\u001b[0m=\u001b[1;36m0\u001b[0m, \u001b[33mmin_near\u001b[0m=\u001b[1;36m0\u001b[0m\u001b[1;36m.01\u001b[0m, \n",
       "\u001b[33mradius_range\u001b[0m=\u001b[1m[\u001b[0m\u001b[1;36m3.0\u001b[0m, \u001b[1;36m3.5\u001b[0m\u001b[1m]\u001b[0m, \u001b[33mtheta_range\u001b[0m=\u001b[1m[\u001b[0m\u001b[1;36m45\u001b[0m, \u001b[1;36m105\u001b[0m\u001b[1m]\u001b[0m, \u001b[33mphi_range\u001b[0m=\u001b[1m[\u001b[0m\u001b[1;36m-180\u001b[0m, \u001b[1;36m180\u001b[0m\u001b[1m]\u001b[0m, \u001b[33mfovy_range\u001b[0m=\u001b[1m[\u001b[0m\u001b[1;36m20\u001b[0m, \u001b[1;36m20\u001b[0m\u001b[1m]\u001b[0m, \u001b[33mdefault_radius\u001b[0m=\u001b[1;36m3\u001b[0m\u001b[1;36m.2\u001b[0m, \n",
       "\u001b[33mdefault_polar\u001b[0m=\u001b[1;36m90\u001b[0m, \u001b[33mdefault_azimuth\u001b[0m=\u001b[1;36m0\u001b[0m, \u001b[33mdefault_fovy\u001b[0m=\u001b[1;36m20\u001b[0m, \u001b[33mprogressive_view\u001b[0m=\u001b[3;91mFalse\u001b[0m, \u001b[33mprogressive_view_init_ratio\u001b[0m=\u001b[1;36m0\u001b[0m\u001b[1;36m.2\u001b[0m, \n",
       "\u001b[33mprogressive_level\u001b[0m=\u001b[3;92mTrue\u001b[0m, \u001b[33mangle_overhead\u001b[0m=\u001b[1;36m30\u001b[0m, \u001b[33mangle_front\u001b[0m=\u001b[1;36m60\u001b[0m, \u001b[33mt_range\u001b[0m=\u001b[1m[\u001b[0m\u001b[1;36m0.02\u001b[0m, \u001b[1;36m0.5\u001b[0m\u001b[1m]\u001b[0m, \u001b[33mdont_override_stuff\u001b[0m=\u001b[3;91mFalse\u001b[0m, \n",
       "\u001b[33mlambda_entropy\u001b[0m=\u001b[1;36m1\u001b[0m, \u001b[33mlambda_opacity\u001b[0m=\u001b[1;36m0\u001b[0m, \u001b[33mlambda_orient\u001b[0m=\u001b[1;36m1\u001b[0m, \u001b[33mlambda_tv\u001b[0m=\u001b[1;36m0\u001b[0m, \u001b[33mlambda_wd\u001b[0m=\u001b[1;36m0\u001b[0m, \u001b[33mlambda_mesh_normal\u001b[0m=\u001b[1;36m0\u001b[0m\u001b[1;36m.5\u001b[0m, \n",
       "\u001b[33mlambda_mesh_laplacian\u001b[0m=\u001b[1;36m0\u001b[0m\u001b[1;36m.5\u001b[0m, \u001b[33mlambda_guidance\u001b[0m=\u001b[1;36m1\u001b[0m, \u001b[33mlambda_rgb\u001b[0m=\u001b[1;36m1000\u001b[0m, \u001b[33mlambda_mask\u001b[0m=\u001b[1;36m500\u001b[0m, \u001b[33mlambda_normal\u001b[0m=\u001b[1;36m0\u001b[0m, \u001b[33mlambda_depth\u001b[0m=\u001b[1;36m0\u001b[0m, \n",
       "\u001b[33mlambda_2d_normal_smooth\u001b[0m=\u001b[1;36m0\u001b[0m, \u001b[33mlambda_3d_normal_smooth\u001b[0m=\u001b[1;36m10\u001b[0m, \u001b[33msave_guidance\u001b[0m=\u001b[3;91mFalse\u001b[0m, \u001b[33msave_guidance_interval\u001b[0m=\u001b[1;36m10\u001b[0m, \u001b[33mgui\u001b[0m=\u001b[3;91mFalse\u001b[0m, \n",
       "\u001b[33mW\u001b[0m=\u001b[1;36m800\u001b[0m, \u001b[33mH\u001b[0m=\u001b[1;36m800\u001b[0m, \u001b[33mradius\u001b[0m=\u001b[1;36m5\u001b[0m, \u001b[33mfovy\u001b[0m=\u001b[1;36m20\u001b[0m, \u001b[33mlight_theta\u001b[0m=\u001b[1;36m60\u001b[0m, \u001b[33mlight_phi\u001b[0m=\u001b[1;36m0\u001b[0m, \u001b[33mmax_spp\u001b[0m=\u001b[1;36m1\u001b[0m, \n",
       "\u001b[33mzero123_config\u001b[0m=\u001b[32m'./pretrained/zero123/sd-objaverse-finetune-c_concat-256.yaml'\u001b[0m, \n",
       "\u001b[33mzero123_ckpt\u001b[0m=\u001b[32m'pretrained/zero123/zero123-xl.ckpt'\u001b[0m, \u001b[33mzero123_grad_scale\u001b[0m=\u001b[32m'angle'\u001b[0m, \u001b[33mdataset_size_train\u001b[0m=\u001b[1;36m100\u001b[0m, \n",
       "\u001b[33mdataset_size_valid\u001b[0m=\u001b[1;36m8\u001b[0m, \u001b[33mdataset_size_test\u001b[0m=\u001b[1;36m100\u001b[0m, \u001b[33mexp_start_iter\u001b[0m=\u001b[1;36m0\u001b[0m, \u001b[33mexp_end_iter\u001b[0m=\u001b[1;36m10000\u001b[0m, \n",
       "\u001b[33mimages\u001b[0m=\u001b[1m[\u001b[0m\u001b[32m'/notebooks/threestudio/load/images/werewolf_big_rgba.png'\u001b[0m\u001b[1m]\u001b[0m, \u001b[33mref_radii\u001b[0m=\u001b[1m[\u001b[0m\u001b[1;36m3.2\u001b[0m\u001b[1m]\u001b[0m, \u001b[33mref_polars\u001b[0m=\u001b[1m[\u001b[0m\u001b[1;36m90\u001b[0m\u001b[1m]\u001b[0m, \n",
       "\u001b[33mref_azimuths\u001b[0m=\u001b[1m[\u001b[0m\u001b[1;36m0\u001b[0m\u001b[1m]\u001b[0m, \u001b[33mzero123_ws\u001b[0m=\u001b[1m[\u001b[0m\u001b[1;36m1\u001b[0m\u001b[1m]\u001b[0m, \u001b[33mdefault_zero123_w\u001b[0m=\u001b[1;36m1\u001b[0m\u001b[1m)\u001b[0m\n"
      ]
     },
     "metadata": {},
     "output_type": "display_data"
    },
    {
     "data": {
      "text/html": [
       "<pre style=\"white-space:pre;overflow-x:auto;line-height:normal;font-family:Menlo,'DejaVu Sans Mono',consolas,'Courier New',monospace\"><span style=\"font-weight: bold\">[</span>INFO<span style=\"font-weight: bold\">]</span> Trainer: df | <span style=\"color: #008080; text-decoration-color: #008080; font-weight: bold\">2023</span>-<span style=\"color: #008080; text-decoration-color: #008080; font-weight: bold\">09</span>-11_09-<span style=\"color: #008080; text-decoration-color: #008080; font-weight: bold\">48</span>-<span style=\"color: #008080; text-decoration-color: #008080; font-weight: bold\">05</span> | cuda | fp16 | werewolf_big_dmtet\n",
       "</pre>\n"
      ],
      "text/plain": [
       "\u001b[1m[\u001b[0mINFO\u001b[1m]\u001b[0m Trainer: df | \u001b[1;36m2023\u001b[0m-\u001b[1;36m09\u001b[0m-11_09-\u001b[1;36m48\u001b[0m-\u001b[1;36m05\u001b[0m | cuda | fp16 | werewolf_big_dmtet\n"
      ]
     },
     "metadata": {},
     "output_type": "display_data"
    },
    {
     "data": {
      "text/html": [
       "<pre style=\"white-space:pre;overflow-x:auto;line-height:normal;font-family:Menlo,'DejaVu Sans Mono',consolas,'Courier New',monospace\"><span style=\"font-weight: bold\">[</span>INFO<span style=\"font-weight: bold\">]</span> #parameters: <span style=\"color: #008080; text-decoration-color: #008080; font-weight: bold\">13313791</span>\n",
       "</pre>\n"
      ],
      "text/plain": [
       "\u001b[1m[\u001b[0mINFO\u001b[1m]\u001b[0m #parameters: \u001b[1;36m13313791\u001b[0m\n"
      ]
     },
     "metadata": {},
     "output_type": "display_data"
    },
    {
     "data": {
      "text/html": [
       "<pre style=\"white-space:pre;overflow-x:auto;line-height:normal;font-family:Menlo,'DejaVu Sans Mono',consolas,'Courier New',monospace\"><span style=\"font-weight: bold\">[</span>INFO<span style=\"font-weight: bold\">]</span> Loading latest checkpoint <span style=\"color: #808000; text-decoration-color: #808000\">...</span>\n",
       "</pre>\n"
      ],
      "text/plain": [
       "\u001b[1m[\u001b[0mINFO\u001b[1m]\u001b[0m Loading latest checkpoint \u001b[33m...\u001b[0m\n"
      ]
     },
     "metadata": {},
     "output_type": "display_data"
    },
    {
     "data": {
      "text/html": [
       "<pre style=\"white-space:pre;overflow-x:auto;line-height:normal;font-family:Menlo,'DejaVu Sans Mono',consolas,'Courier New',monospace\"><span style=\"font-weight: bold\">[</span>WARN<span style=\"font-weight: bold\">]</span> No checkpoint found, model randomly initialized.\n",
       "</pre>\n"
      ],
      "text/plain": [
       "\u001b[1m[\u001b[0mWARN\u001b[1m]\u001b[0m No checkpoint found, model randomly initialized.\n"
      ]
     },
     "metadata": {},
     "output_type": "display_data"
    },
    {
     "data": {
      "text/html": [
       "<pre style=\"white-space:pre;overflow-x:auto;line-height:normal;font-family:Menlo,'DejaVu Sans Mono',consolas,'Courier New',monospace\">==&gt; <span style=\"font-weight: bold\">[</span><span style=\"color: #008080; text-decoration-color: #008080; font-weight: bold\">2023</span>-<span style=\"color: #008080; text-decoration-color: #008080; font-weight: bold\">09</span>-11_09-<span style=\"color: #008080; text-decoration-color: #008080; font-weight: bold\">48</span>-<span style=\"color: #008080; text-decoration-color: #008080; font-weight: bold\">05</span><span style=\"font-weight: bold\">]</span> Start Training werewolf_big_dmtet Epoch <span style=\"color: #008080; text-decoration-color: #008080; font-weight: bold\">1</span>/<span style=\"color: #008080; text-decoration-color: #008080; font-weight: bold\">100</span>, <span style=\"color: #808000; text-decoration-color: #808000\">lr</span>=<span style=\"color: #008080; text-decoration-color: #008080; font-weight: bold\">0.050000</span> <span style=\"color: #808000; text-decoration-color: #808000\">...</span>\n",
       "</pre>\n"
      ],
      "text/plain": [
       "==> \u001b[1m[\u001b[0m\u001b[1;36m2023\u001b[0m-\u001b[1;36m09\u001b[0m-11_09-\u001b[1;36m48\u001b[0m-\u001b[1;36m05\u001b[0m\u001b[1m]\u001b[0m Start Training werewolf_big_dmtet Epoch \u001b[1;36m1\u001b[0m/\u001b[1;36m100\u001b[0m, \u001b[33mlr\u001b[0m=\u001b[1;36m0\u001b[0m\u001b[1;36m.050000\u001b[0m \u001b[33m...\u001b[0m\n"
      ]
     },
     "metadata": {},
     "output_type": "display_data"
    },
    {
     "name": "stderr",
     "output_type": "stream",
     "text": [
      "loss=17.5643 (32.8507), lr=0.050000: : 100% 1300/1300 [00:39<00:00, 33.00it/s]\n"
     ]
    },
    {
     "data": {
      "text/html": [
       "<pre style=\"white-space:pre;overflow-x:auto;line-height:normal;font-family:Menlo,'DejaVu Sans Mono',consolas,'Courier New',monospace\">==&gt; <span style=\"font-weight: bold\">[</span><span style=\"color: #008080; text-decoration-color: #008080; font-weight: bold\">2023</span>-<span style=\"color: #008080; text-decoration-color: #008080; font-weight: bold\">09</span>-11_09-<span style=\"color: #008080; text-decoration-color: #008080; font-weight: bold\">48</span>-<span style=\"color: #008080; text-decoration-color: #008080; font-weight: bold\">44</span><span style=\"font-weight: bold\">]</span> Finished Epoch <span style=\"color: #008080; text-decoration-color: #008080; font-weight: bold\">1</span>/<span style=\"color: #008080; text-decoration-color: #008080; font-weight: bold\">100</span>. <span style=\"color: #808000; text-decoration-color: #808000\">CPU</span>=<span style=\"color: #008080; text-decoration-color: #008080; font-weight: bold\">21.</span>5GB, <span style=\"color: #808000; text-decoration-color: #808000\">GPU</span>=<span style=\"color: #008080; text-decoration-color: #008080; font-weight: bold\">23.</span>2GB.\n",
       "</pre>\n"
      ],
      "text/plain": [
       "==> \u001b[1m[\u001b[0m\u001b[1;36m2023\u001b[0m-\u001b[1;36m09\u001b[0m-11_09-\u001b[1;36m48\u001b[0m-\u001b[1;36m44\u001b[0m\u001b[1m]\u001b[0m Finished Epoch \u001b[1;36m1\u001b[0m/\u001b[1;36m100\u001b[0m. \u001b[33mCPU\u001b[0m=\u001b[1;36m21\u001b[0m\u001b[1;36m.\u001b[0m5GB, \u001b[33mGPU\u001b[0m=\u001b[1;36m23\u001b[0m\u001b[1;36m.\u001b[0m2GB.\n"
      ]
     },
     "metadata": {},
     "output_type": "display_data"
    },
    {
     "data": {
      "text/html": [
       "<pre style=\"white-space:pre;overflow-x:auto;line-height:normal;font-family:Menlo,'DejaVu Sans Mono',consolas,'Courier New',monospace\">++&gt; Evaluate werewolf_big_dmtet at epoch <span style=\"color: #008080; text-decoration-color: #008080; font-weight: bold\">1</span> <span style=\"color: #808000; text-decoration-color: #808000\">...</span>\n",
       "</pre>\n"
      ],
      "text/plain": [
       "++> Evaluate werewolf_big_dmtet at epoch \u001b[1;36m1\u001b[0m \u001b[33m...\u001b[0m\n"
      ]
     },
     "metadata": {},
     "output_type": "display_data"
    },
    {
     "name": "stderr",
     "output_type": "stream",
     "text": [
      "loss=0.0000 (0.0000): : 100% 8/8 [00:00<00:00, 31.17it/s]\n"
     ]
    },
    {
     "data": {
      "text/html": [
       "<pre style=\"white-space:pre;overflow-x:auto;line-height:normal;font-family:Menlo,'DejaVu Sans Mono',consolas,'Courier New',monospace\">++&gt; Evaluate epoch <span style=\"color: #008080; text-decoration-color: #008080; font-weight: bold\">1</span> Finished.\n",
       "</pre>\n"
      ],
      "text/plain": [
       "++> Evaluate epoch \u001b[1;36m1\u001b[0m Finished.\n"
      ]
     },
     "metadata": {},
     "output_type": "display_data"
    },
    {
     "data": {
      "text/html": [
       "<pre style=\"white-space:pre;overflow-x:auto;line-height:normal;font-family:Menlo,'DejaVu Sans Mono',consolas,'Courier New',monospace\">==&gt; <span style=\"font-weight: bold\">[</span><span style=\"color: #008080; text-decoration-color: #008080; font-weight: bold\">2023</span>-<span style=\"color: #008080; text-decoration-color: #008080; font-weight: bold\">09</span>-11_09-<span style=\"color: #008080; text-decoration-color: #008080; font-weight: bold\">48</span>-<span style=\"color: #008080; text-decoration-color: #008080; font-weight: bold\">45</span><span style=\"font-weight: bold\">]</span> Start Training werewolf_big_dmtet Epoch <span style=\"color: #008080; text-decoration-color: #008080; font-weight: bold\">2</span>/<span style=\"color: #008080; text-decoration-color: #008080; font-weight: bold\">100</span>, <span style=\"color: #808000; text-decoration-color: #808000\">lr</span>=<span style=\"color: #008080; text-decoration-color: #008080; font-weight: bold\">0.050000</span> <span style=\"color: #808000; text-decoration-color: #808000\">...</span>\n",
       "</pre>\n"
      ],
      "text/plain": [
       "==> \u001b[1m[\u001b[0m\u001b[1;36m2023\u001b[0m-\u001b[1;36m09\u001b[0m-11_09-\u001b[1;36m48\u001b[0m-\u001b[1;36m45\u001b[0m\u001b[1m]\u001b[0m Start Training werewolf_big_dmtet Epoch \u001b[1;36m2\u001b[0m/\u001b[1;36m100\u001b[0m, \u001b[33mlr\u001b[0m=\u001b[1;36m0\u001b[0m\u001b[1;36m.050000\u001b[0m \u001b[33m...\u001b[0m\n"
      ]
     },
     "metadata": {},
     "output_type": "display_data"
    },
    {
     "name": "stderr",
     "output_type": "stream",
     "text": [
      "loss=15.0644 (33.9287), lr=0.050000: : 100% 1300/1300 [00:40<00:00, 31.93it/s]\n"
     ]
    },
    {
     "data": {
      "text/html": [
       "<pre style=\"white-space:pre;overflow-x:auto;line-height:normal;font-family:Menlo,'DejaVu Sans Mono',consolas,'Courier New',monospace\">==&gt; <span style=\"font-weight: bold\">[</span><span style=\"color: #008080; text-decoration-color: #008080; font-weight: bold\">2023</span>-<span style=\"color: #008080; text-decoration-color: #008080; font-weight: bold\">09</span>-11_09-<span style=\"color: #008080; text-decoration-color: #008080; font-weight: bold\">49</span>-<span style=\"color: #008080; text-decoration-color: #008080; font-weight: bold\">25</span><span style=\"font-weight: bold\">]</span> Finished Epoch <span style=\"color: #008080; text-decoration-color: #008080; font-weight: bold\">2</span>/<span style=\"color: #008080; text-decoration-color: #008080; font-weight: bold\">100</span>. <span style=\"color: #808000; text-decoration-color: #808000\">CPU</span>=<span style=\"color: #008080; text-decoration-color: #008080; font-weight: bold\">21.</span>5GB, <span style=\"color: #808000; text-decoration-color: #808000\">GPU</span>=<span style=\"color: #008080; text-decoration-color: #008080; font-weight: bold\">23.</span>2GB.\n",
       "</pre>\n"
      ],
      "text/plain": [
       "==> \u001b[1m[\u001b[0m\u001b[1;36m2023\u001b[0m-\u001b[1;36m09\u001b[0m-11_09-\u001b[1;36m49\u001b[0m-\u001b[1;36m25\u001b[0m\u001b[1m]\u001b[0m Finished Epoch \u001b[1;36m2\u001b[0m/\u001b[1;36m100\u001b[0m. \u001b[33mCPU\u001b[0m=\u001b[1;36m21\u001b[0m\u001b[1;36m.\u001b[0m5GB, \u001b[33mGPU\u001b[0m=\u001b[1;36m23\u001b[0m\u001b[1;36m.\u001b[0m2GB.\n"
      ]
     },
     "metadata": {},
     "output_type": "display_data"
    },
    {
     "data": {
      "text/html": [
       "<pre style=\"white-space:pre;overflow-x:auto;line-height:normal;font-family:Menlo,'DejaVu Sans Mono',consolas,'Courier New',monospace\">++&gt; Evaluate werewolf_big_dmtet at epoch <span style=\"color: #008080; text-decoration-color: #008080; font-weight: bold\">2</span> <span style=\"color: #808000; text-decoration-color: #808000\">...</span>\n",
       "</pre>\n"
      ],
      "text/plain": [
       "++> Evaluate werewolf_big_dmtet at epoch \u001b[1;36m2\u001b[0m \u001b[33m...\u001b[0m\n"
      ]
     },
     "metadata": {},
     "output_type": "display_data"
    },
    {
     "name": "stderr",
     "output_type": "stream",
     "text": [
      "loss=0.0000 (0.0000): : 100% 8/8 [00:00<00:00, 32.73it/s]\n"
     ]
    },
    {
     "data": {
      "text/html": [
       "<pre style=\"white-space:pre;overflow-x:auto;line-height:normal;font-family:Menlo,'DejaVu Sans Mono',consolas,'Courier New',monospace\">++&gt; Evaluate epoch <span style=\"color: #008080; text-decoration-color: #008080; font-weight: bold\">2</span> Finished.\n",
       "</pre>\n"
      ],
      "text/plain": [
       "++> Evaluate epoch \u001b[1;36m2\u001b[0m Finished.\n"
      ]
     },
     "metadata": {},
     "output_type": "display_data"
    },
    {
     "data": {
      "text/html": [
       "<pre style=\"white-space:pre;overflow-x:auto;line-height:normal;font-family:Menlo,'DejaVu Sans Mono',consolas,'Courier New',monospace\">==&gt; <span style=\"font-weight: bold\">[</span><span style=\"color: #008080; text-decoration-color: #008080; font-weight: bold\">2023</span>-<span style=\"color: #008080; text-decoration-color: #008080; font-weight: bold\">09</span>-11_09-<span style=\"color: #008080; text-decoration-color: #008080; font-weight: bold\">49</span>-<span style=\"color: #008080; text-decoration-color: #008080; font-weight: bold\">26</span><span style=\"font-weight: bold\">]</span> Start Training werewolf_big_dmtet Epoch <span style=\"color: #008080; text-decoration-color: #008080; font-weight: bold\">3</span>/<span style=\"color: #008080; text-decoration-color: #008080; font-weight: bold\">100</span>, <span style=\"color: #808000; text-decoration-color: #808000\">lr</span>=<span style=\"color: #008080; text-decoration-color: #008080; font-weight: bold\">0.050000</span> <span style=\"color: #808000; text-decoration-color: #808000\">...</span>\n",
       "</pre>\n"
      ],
      "text/plain": [
       "==> \u001b[1m[\u001b[0m\u001b[1;36m2023\u001b[0m-\u001b[1;36m09\u001b[0m-11_09-\u001b[1;36m49\u001b[0m-\u001b[1;36m26\u001b[0m\u001b[1m]\u001b[0m Start Training werewolf_big_dmtet Epoch \u001b[1;36m3\u001b[0m/\u001b[1;36m100\u001b[0m, \u001b[33mlr\u001b[0m=\u001b[1;36m0\u001b[0m\u001b[1;36m.050000\u001b[0m \u001b[33m...\u001b[0m\n"
      ]
     },
     "metadata": {},
     "output_type": "display_data"
    },
    {
     "name": "stderr",
     "output_type": "stream",
     "text": [
      "loss=13.2553 (28.8041), lr=0.050000: : 100% 1300/1300 [00:38<00:00, 33.95it/s]\n"
     ]
    },
    {
     "data": {
      "text/html": [
       "<pre style=\"white-space:pre;overflow-x:auto;line-height:normal;font-family:Menlo,'DejaVu Sans Mono',consolas,'Courier New',monospace\">==&gt; <span style=\"font-weight: bold\">[</span><span style=\"color: #008080; text-decoration-color: #008080; font-weight: bold\">2023</span>-<span style=\"color: #008080; text-decoration-color: #008080; font-weight: bold\">09</span>-11_09-<span style=\"color: #008080; text-decoration-color: #008080; font-weight: bold\">50</span>-<span style=\"color: #008080; text-decoration-color: #008080; font-weight: bold\">04</span><span style=\"font-weight: bold\">]</span> Finished Epoch <span style=\"color: #008080; text-decoration-color: #008080; font-weight: bold\">3</span>/<span style=\"color: #008080; text-decoration-color: #008080; font-weight: bold\">100</span>. <span style=\"color: #808000; text-decoration-color: #808000\">CPU</span>=<span style=\"color: #008080; text-decoration-color: #008080; font-weight: bold\">21.</span>5GB, <span style=\"color: #808000; text-decoration-color: #808000\">GPU</span>=<span style=\"color: #008080; text-decoration-color: #008080; font-weight: bold\">23.</span>2GB.\n",
       "</pre>\n"
      ],
      "text/plain": [
       "==> \u001b[1m[\u001b[0m\u001b[1;36m2023\u001b[0m-\u001b[1;36m09\u001b[0m-11_09-\u001b[1;36m50\u001b[0m-\u001b[1;36m04\u001b[0m\u001b[1m]\u001b[0m Finished Epoch \u001b[1;36m3\u001b[0m/\u001b[1;36m100\u001b[0m. \u001b[33mCPU\u001b[0m=\u001b[1;36m21\u001b[0m\u001b[1;36m.\u001b[0m5GB, \u001b[33mGPU\u001b[0m=\u001b[1;36m23\u001b[0m\u001b[1;36m.\u001b[0m2GB.\n"
      ]
     },
     "metadata": {},
     "output_type": "display_data"
    },
    {
     "data": {
      "text/html": [
       "<pre style=\"white-space:pre;overflow-x:auto;line-height:normal;font-family:Menlo,'DejaVu Sans Mono',consolas,'Courier New',monospace\">++&gt; Evaluate werewolf_big_dmtet at epoch <span style=\"color: #008080; text-decoration-color: #008080; font-weight: bold\">3</span> <span style=\"color: #808000; text-decoration-color: #808000\">...</span>\n",
       "</pre>\n"
      ],
      "text/plain": [
       "++> Evaluate werewolf_big_dmtet at epoch \u001b[1;36m3\u001b[0m \u001b[33m...\u001b[0m\n"
      ]
     },
     "metadata": {},
     "output_type": "display_data"
    },
    {
     "name": "stderr",
     "output_type": "stream",
     "text": [
      "loss=0.0000 (0.0000): : 100% 8/8 [00:00<00:00, 32.48it/s]\n"
     ]
    },
    {
     "data": {
      "text/html": [
       "<pre style=\"white-space:pre;overflow-x:auto;line-height:normal;font-family:Menlo,'DejaVu Sans Mono',consolas,'Courier New',monospace\">++&gt; Evaluate epoch <span style=\"color: #008080; text-decoration-color: #008080; font-weight: bold\">3</span> Finished.\n",
       "</pre>\n"
      ],
      "text/plain": [
       "++> Evaluate epoch \u001b[1;36m3\u001b[0m Finished.\n"
      ]
     },
     "metadata": {},
     "output_type": "display_data"
    },
    {
     "data": {
      "text/html": [
       "<pre style=\"white-space:pre;overflow-x:auto;line-height:normal;font-family:Menlo,'DejaVu Sans Mono',consolas,'Courier New',monospace\">==&gt; <span style=\"font-weight: bold\">[</span><span style=\"color: #008080; text-decoration-color: #008080; font-weight: bold\">2023</span>-<span style=\"color: #008080; text-decoration-color: #008080; font-weight: bold\">09</span>-11_09-<span style=\"color: #008080; text-decoration-color: #008080; font-weight: bold\">50</span>-<span style=\"color: #008080; text-decoration-color: #008080; font-weight: bold\">05</span><span style=\"font-weight: bold\">]</span> Start Training werewolf_big_dmtet Epoch <span style=\"color: #008080; text-decoration-color: #008080; font-weight: bold\">4</span>/<span style=\"color: #008080; text-decoration-color: #008080; font-weight: bold\">100</span>, <span style=\"color: #808000; text-decoration-color: #808000\">lr</span>=<span style=\"color: #008080; text-decoration-color: #008080; font-weight: bold\">0.050000</span> <span style=\"color: #808000; text-decoration-color: #808000\">...</span>\n",
       "</pre>\n"
      ],
      "text/plain": [
       "==> \u001b[1m[\u001b[0m\u001b[1;36m2023\u001b[0m-\u001b[1;36m09\u001b[0m-11_09-\u001b[1;36m50\u001b[0m-\u001b[1;36m05\u001b[0m\u001b[1m]\u001b[0m Start Training werewolf_big_dmtet Epoch \u001b[1;36m4\u001b[0m/\u001b[1;36m100\u001b[0m, \u001b[33mlr\u001b[0m=\u001b[1;36m0\u001b[0m\u001b[1;36m.050000\u001b[0m \u001b[33m...\u001b[0m\n"
      ]
     },
     "metadata": {},
     "output_type": "display_data"
    },
    {
     "name": "stderr",
     "output_type": "stream",
     "text": [
      "loss=11.8533 (31.0973), lr=0.050000: : 100% 1300/1300 [00:38<00:00, 33.46it/s]\n"
     ]
    },
    {
     "data": {
      "text/html": [
       "<pre style=\"white-space:pre;overflow-x:auto;line-height:normal;font-family:Menlo,'DejaVu Sans Mono',consolas,'Courier New',monospace\">==&gt; <span style=\"font-weight: bold\">[</span><span style=\"color: #008080; text-decoration-color: #008080; font-weight: bold\">2023</span>-<span style=\"color: #008080; text-decoration-color: #008080; font-weight: bold\">09</span>-11_09-<span style=\"color: #008080; text-decoration-color: #008080; font-weight: bold\">50</span>-<span style=\"color: #008080; text-decoration-color: #008080; font-weight: bold\">44</span><span style=\"font-weight: bold\">]</span> Finished Epoch <span style=\"color: #008080; text-decoration-color: #008080; font-weight: bold\">4</span>/<span style=\"color: #008080; text-decoration-color: #008080; font-weight: bold\">100</span>. <span style=\"color: #808000; text-decoration-color: #808000\">CPU</span>=<span style=\"color: #008080; text-decoration-color: #008080; font-weight: bold\">21.</span>5GB, <span style=\"color: #808000; text-decoration-color: #808000\">GPU</span>=<span style=\"color: #008080; text-decoration-color: #008080; font-weight: bold\">23.</span>2GB.\n",
       "</pre>\n"
      ],
      "text/plain": [
       "==> \u001b[1m[\u001b[0m\u001b[1;36m2023\u001b[0m-\u001b[1;36m09\u001b[0m-11_09-\u001b[1;36m50\u001b[0m-\u001b[1;36m44\u001b[0m\u001b[1m]\u001b[0m Finished Epoch \u001b[1;36m4\u001b[0m/\u001b[1;36m100\u001b[0m. \u001b[33mCPU\u001b[0m=\u001b[1;36m21\u001b[0m\u001b[1;36m.\u001b[0m5GB, \u001b[33mGPU\u001b[0m=\u001b[1;36m23\u001b[0m\u001b[1;36m.\u001b[0m2GB.\n"
      ]
     },
     "metadata": {},
     "output_type": "display_data"
    },
    {
     "data": {
      "text/html": [
       "<pre style=\"white-space:pre;overflow-x:auto;line-height:normal;font-family:Menlo,'DejaVu Sans Mono',consolas,'Courier New',monospace\">++&gt; Evaluate werewolf_big_dmtet at epoch <span style=\"color: #008080; text-decoration-color: #008080; font-weight: bold\">4</span> <span style=\"color: #808000; text-decoration-color: #808000\">...</span>\n",
       "</pre>\n"
      ],
      "text/plain": [
       "++> Evaluate werewolf_big_dmtet at epoch \u001b[1;36m4\u001b[0m \u001b[33m...\u001b[0m\n"
      ]
     },
     "metadata": {},
     "output_type": "display_data"
    },
    {
     "name": "stderr",
     "output_type": "stream",
     "text": [
      "loss=0.0000 (0.0000): : 100% 8/8 [00:00<00:00, 35.19it/s]\n"
     ]
    },
    {
     "data": {
      "text/html": [
       "<pre style=\"white-space:pre;overflow-x:auto;line-height:normal;font-family:Menlo,'DejaVu Sans Mono',consolas,'Courier New',monospace\">++&gt; Evaluate epoch <span style=\"color: #008080; text-decoration-color: #008080; font-weight: bold\">4</span> Finished.\n",
       "</pre>\n"
      ],
      "text/plain": [
       "++> Evaluate epoch \u001b[1;36m4\u001b[0m Finished.\n"
      ]
     },
     "metadata": {},
     "output_type": "display_data"
    },
    {
     "data": {
      "text/html": [
       "<pre style=\"white-space:pre;overflow-x:auto;line-height:normal;font-family:Menlo,'DejaVu Sans Mono',consolas,'Courier New',monospace\">==&gt; <span style=\"font-weight: bold\">[</span><span style=\"color: #008080; text-decoration-color: #008080; font-weight: bold\">2023</span>-<span style=\"color: #008080; text-decoration-color: #008080; font-weight: bold\">09</span>-11_09-<span style=\"color: #008080; text-decoration-color: #008080; font-weight: bold\">50</span>-<span style=\"color: #008080; text-decoration-color: #008080; font-weight: bold\">44</span><span style=\"font-weight: bold\">]</span> Start Training werewolf_big_dmtet Epoch <span style=\"color: #008080; text-decoration-color: #008080; font-weight: bold\">5</span>/<span style=\"color: #008080; text-decoration-color: #008080; font-weight: bold\">100</span>, <span style=\"color: #808000; text-decoration-color: #808000\">lr</span>=<span style=\"color: #008080; text-decoration-color: #008080; font-weight: bold\">0.050000</span> <span style=\"color: #808000; text-decoration-color: #808000\">...</span>\n",
       "</pre>\n"
      ],
      "text/plain": [
       "==> \u001b[1m[\u001b[0m\u001b[1;36m2023\u001b[0m-\u001b[1;36m09\u001b[0m-11_09-\u001b[1;36m50\u001b[0m-\u001b[1;36m44\u001b[0m\u001b[1m]\u001b[0m Start Training werewolf_big_dmtet Epoch \u001b[1;36m5\u001b[0m/\u001b[1;36m100\u001b[0m, \u001b[33mlr\u001b[0m=\u001b[1;36m0\u001b[0m\u001b[1;36m.050000\u001b[0m \u001b[33m...\u001b[0m\n"
      ]
     },
     "metadata": {},
     "output_type": "display_data"
    },
    {
     "name": "stderr",
     "output_type": "stream",
     "text": [
      "loss=10.5423 (29.7258), lr=0.050000: : 100% 1300/1300 [00:38<00:00, 33.76it/s]\n"
     ]
    },
    {
     "data": {
      "text/html": [
       "<pre style=\"white-space:pre;overflow-x:auto;line-height:normal;font-family:Menlo,'DejaVu Sans Mono',consolas,'Courier New',monospace\">==&gt; <span style=\"font-weight: bold\">[</span><span style=\"color: #008080; text-decoration-color: #008080; font-weight: bold\">2023</span>-<span style=\"color: #008080; text-decoration-color: #008080; font-weight: bold\">09</span>-11_09-<span style=\"color: #008080; text-decoration-color: #008080; font-weight: bold\">51</span>-<span style=\"color: #008080; text-decoration-color: #008080; font-weight: bold\">23</span><span style=\"font-weight: bold\">]</span> Finished Epoch <span style=\"color: #008080; text-decoration-color: #008080; font-weight: bold\">5</span>/<span style=\"color: #008080; text-decoration-color: #008080; font-weight: bold\">100</span>. <span style=\"color: #808000; text-decoration-color: #808000\">CPU</span>=<span style=\"color: #008080; text-decoration-color: #008080; font-weight: bold\">21.</span>5GB, <span style=\"color: #808000; text-decoration-color: #808000\">GPU</span>=<span style=\"color: #008080; text-decoration-color: #008080; font-weight: bold\">23.</span>2GB.\n",
       "</pre>\n"
      ],
      "text/plain": [
       "==> \u001b[1m[\u001b[0m\u001b[1;36m2023\u001b[0m-\u001b[1;36m09\u001b[0m-11_09-\u001b[1;36m51\u001b[0m-\u001b[1;36m23\u001b[0m\u001b[1m]\u001b[0m Finished Epoch \u001b[1;36m5\u001b[0m/\u001b[1;36m100\u001b[0m. \u001b[33mCPU\u001b[0m=\u001b[1;36m21\u001b[0m\u001b[1;36m.\u001b[0m5GB, \u001b[33mGPU\u001b[0m=\u001b[1;36m23\u001b[0m\u001b[1;36m.\u001b[0m2GB.\n"
      ]
     },
     "metadata": {},
     "output_type": "display_data"
    },
    {
     "data": {
      "text/html": [
       "<pre style=\"white-space:pre;overflow-x:auto;line-height:normal;font-family:Menlo,'DejaVu Sans Mono',consolas,'Courier New',monospace\">++&gt; Evaluate werewolf_big_dmtet at epoch <span style=\"color: #008080; text-decoration-color: #008080; font-weight: bold\">5</span> <span style=\"color: #808000; text-decoration-color: #808000\">...</span>\n",
       "</pre>\n"
      ],
      "text/plain": [
       "++> Evaluate werewolf_big_dmtet at epoch \u001b[1;36m5\u001b[0m \u001b[33m...\u001b[0m\n"
      ]
     },
     "metadata": {},
     "output_type": "display_data"
    },
    {
     "name": "stderr",
     "output_type": "stream",
     "text": [
      "loss=0.0000 (0.0000): : 100% 8/8 [00:00<00:00, 32.37it/s]\n"
     ]
    },
    {
     "data": {
      "text/html": [
       "<pre style=\"white-space:pre;overflow-x:auto;line-height:normal;font-family:Menlo,'DejaVu Sans Mono',consolas,'Courier New',monospace\">++&gt; Evaluate epoch <span style=\"color: #008080; text-decoration-color: #008080; font-weight: bold\">5</span> Finished.\n",
       "</pre>\n"
      ],
      "text/plain": [
       "++> Evaluate epoch \u001b[1;36m5\u001b[0m Finished.\n"
      ]
     },
     "metadata": {},
     "output_type": "display_data"
    },
    {
     "data": {
      "text/html": [
       "<pre style=\"white-space:pre;overflow-x:auto;line-height:normal;font-family:Menlo,'DejaVu Sans Mono',consolas,'Courier New',monospace\">==&gt; Start Test, save results to werewolf_big_dmtet/results\n",
       "</pre>\n"
      ],
      "text/plain": [
       "==> Start Test, save results to werewolf_big_dmtet/results\n"
      ]
     },
     "metadata": {},
     "output_type": "display_data"
    },
    {
     "name": "stderr",
     "output_type": "stream",
     "text": []
    },
    {
     "data": {
      "text/html": [
       "<pre style=\"white-space:pre;overflow-x:auto;line-height:normal;font-family:Menlo,'DejaVu Sans Mono',consolas,'Courier New',monospace\">==&gt; Finished Test.\n",
       "</pre>\n"
      ],
      "text/plain": [
       "==> Finished Test.\n"
      ]
     },
     "metadata": {},
     "output_type": "display_data"
    },
    {
     "name": "stderr",
     "output_type": "stream",
     "text": [
      "100% 100/100 [00:03<00:00, 25.81it/s]\n"
     ]
    },
    {
     "data": {
      "text/html": [
       "<pre style=\"white-space:pre;overflow-x:auto;line-height:normal;font-family:Menlo,'DejaVu Sans Mono',consolas,'Courier New',monospace\">==&gt; <span style=\"font-weight: bold\">[</span><span style=\"color: #008080; text-decoration-color: #008080; font-weight: bold\">2023</span>-<span style=\"color: #008080; text-decoration-color: #008080; font-weight: bold\">09</span>-11_09-<span style=\"color: #008080; text-decoration-color: #008080; font-weight: bold\">51</span>-<span style=\"color: #008080; text-decoration-color: #008080; font-weight: bold\">28</span><span style=\"font-weight: bold\">]</span> Start Training werewolf_big_dmtet Epoch <span style=\"color: #008080; text-decoration-color: #008080; font-weight: bold\">6</span>/<span style=\"color: #008080; text-decoration-color: #008080; font-weight: bold\">100</span>, <span style=\"color: #808000; text-decoration-color: #808000\">lr</span>=<span style=\"color: #008080; text-decoration-color: #008080; font-weight: bold\">0.050000</span> <span style=\"color: #808000; text-decoration-color: #808000\">...</span>\n",
       "</pre>\n"
      ],
      "text/plain": [
       "==> \u001b[1m[\u001b[0m\u001b[1;36m2023\u001b[0m-\u001b[1;36m09\u001b[0m-11_09-\u001b[1;36m51\u001b[0m-\u001b[1;36m28\u001b[0m\u001b[1m]\u001b[0m Start Training werewolf_big_dmtet Epoch \u001b[1;36m6\u001b[0m/\u001b[1;36m100\u001b[0m, \u001b[33mlr\u001b[0m=\u001b[1;36m0\u001b[0m\u001b[1;36m.050000\u001b[0m \u001b[33m...\u001b[0m\n"
      ]
     },
     "metadata": {},
     "output_type": "display_data"
    },
    {
     "name": "stderr",
     "output_type": "stream",
     "text": [
      "loss=9.5686 (29.9046), lr=0.050000: : 100% 1300/1300 [00:37<00:00, 34.61it/s]\n"
     ]
    },
    {
     "data": {
      "text/html": [
       "<pre style=\"white-space:pre;overflow-x:auto;line-height:normal;font-family:Menlo,'DejaVu Sans Mono',consolas,'Courier New',monospace\">==&gt; <span style=\"font-weight: bold\">[</span><span style=\"color: #008080; text-decoration-color: #008080; font-weight: bold\">2023</span>-<span style=\"color: #008080; text-decoration-color: #008080; font-weight: bold\">09</span>-11_09-<span style=\"color: #008080; text-decoration-color: #008080; font-weight: bold\">52</span>-<span style=\"color: #008080; text-decoration-color: #008080; font-weight: bold\">05</span><span style=\"font-weight: bold\">]</span> Finished Epoch <span style=\"color: #008080; text-decoration-color: #008080; font-weight: bold\">6</span>/<span style=\"color: #008080; text-decoration-color: #008080; font-weight: bold\">100</span>. <span style=\"color: #808000; text-decoration-color: #808000\">CPU</span>=<span style=\"color: #008080; text-decoration-color: #008080; font-weight: bold\">21.</span>5GB, <span style=\"color: #808000; text-decoration-color: #808000\">GPU</span>=<span style=\"color: #008080; text-decoration-color: #008080; font-weight: bold\">23.</span>2GB.\n",
       "</pre>\n"
      ],
      "text/plain": [
       "==> \u001b[1m[\u001b[0m\u001b[1;36m2023\u001b[0m-\u001b[1;36m09\u001b[0m-11_09-\u001b[1;36m52\u001b[0m-\u001b[1;36m05\u001b[0m\u001b[1m]\u001b[0m Finished Epoch \u001b[1;36m6\u001b[0m/\u001b[1;36m100\u001b[0m. \u001b[33mCPU\u001b[0m=\u001b[1;36m21\u001b[0m\u001b[1;36m.\u001b[0m5GB, \u001b[33mGPU\u001b[0m=\u001b[1;36m23\u001b[0m\u001b[1;36m.\u001b[0m2GB.\n"
      ]
     },
     "metadata": {},
     "output_type": "display_data"
    },
    {
     "data": {
      "text/html": [
       "<pre style=\"white-space:pre;overflow-x:auto;line-height:normal;font-family:Menlo,'DejaVu Sans Mono',consolas,'Courier New',monospace\">++&gt; Evaluate werewolf_big_dmtet at epoch <span style=\"color: #008080; text-decoration-color: #008080; font-weight: bold\">6</span> <span style=\"color: #808000; text-decoration-color: #808000\">...</span>\n",
       "</pre>\n"
      ],
      "text/plain": [
       "++> Evaluate werewolf_big_dmtet at epoch \u001b[1;36m6\u001b[0m \u001b[33m...\u001b[0m\n"
      ]
     },
     "metadata": {},
     "output_type": "display_data"
    },
    {
     "name": "stderr",
     "output_type": "stream",
     "text": [
      "loss=0.0000 (0.0000): : 100% 8/8 [00:00<00:00, 32.28it/s]\n"
     ]
    },
    {
     "data": {
      "text/html": [
       "<pre style=\"white-space:pre;overflow-x:auto;line-height:normal;font-family:Menlo,'DejaVu Sans Mono',consolas,'Courier New',monospace\">++&gt; Evaluate epoch <span style=\"color: #008080; text-decoration-color: #008080; font-weight: bold\">6</span> Finished.\n",
       "</pre>\n"
      ],
      "text/plain": [
       "++> Evaluate epoch \u001b[1;36m6\u001b[0m Finished.\n"
      ]
     },
     "metadata": {},
     "output_type": "display_data"
    },
    {
     "data": {
      "text/html": [
       "<pre style=\"white-space:pre;overflow-x:auto;line-height:normal;font-family:Menlo,'DejaVu Sans Mono',consolas,'Courier New',monospace\">==&gt; <span style=\"font-weight: bold\">[</span><span style=\"color: #008080; text-decoration-color: #008080; font-weight: bold\">2023</span>-<span style=\"color: #008080; text-decoration-color: #008080; font-weight: bold\">09</span>-11_09-<span style=\"color: #008080; text-decoration-color: #008080; font-weight: bold\">52</span>-<span style=\"color: #008080; text-decoration-color: #008080; font-weight: bold\">06</span><span style=\"font-weight: bold\">]</span> Start Training werewolf_big_dmtet Epoch <span style=\"color: #008080; text-decoration-color: #008080; font-weight: bold\">7</span>/<span style=\"color: #008080; text-decoration-color: #008080; font-weight: bold\">100</span>, <span style=\"color: #808000; text-decoration-color: #808000\">lr</span>=<span style=\"color: #008080; text-decoration-color: #008080; font-weight: bold\">0.050000</span> <span style=\"color: #808000; text-decoration-color: #808000\">...</span>\n",
       "</pre>\n"
      ],
      "text/plain": [
       "==> \u001b[1m[\u001b[0m\u001b[1;36m2023\u001b[0m-\u001b[1;36m09\u001b[0m-11_09-\u001b[1;36m52\u001b[0m-\u001b[1;36m06\u001b[0m\u001b[1m]\u001b[0m Start Training werewolf_big_dmtet Epoch \u001b[1;36m7\u001b[0m/\u001b[1;36m100\u001b[0m, \u001b[33mlr\u001b[0m=\u001b[1;36m0\u001b[0m\u001b[1;36m.050000\u001b[0m \u001b[33m...\u001b[0m\n"
      ]
     },
     "metadata": {},
     "output_type": "display_data"
    },
    {
     "name": "stderr",
     "output_type": "stream",
     "text": [
      "loss=8.9566 (25.7550), lr=0.050000: : 100% 1300/1300 [00:38<00:00, 33.55it/s]\n"
     ]
    },
    {
     "data": {
      "text/html": [
       "<pre style=\"white-space:pre;overflow-x:auto;line-height:normal;font-family:Menlo,'DejaVu Sans Mono',consolas,'Courier New',monospace\">==&gt; <span style=\"font-weight: bold\">[</span><span style=\"color: #008080; text-decoration-color: #008080; font-weight: bold\">2023</span>-<span style=\"color: #008080; text-decoration-color: #008080; font-weight: bold\">09</span>-11_09-<span style=\"color: #008080; text-decoration-color: #008080; font-weight: bold\">52</span>-<span style=\"color: #008080; text-decoration-color: #008080; font-weight: bold\">45</span><span style=\"font-weight: bold\">]</span> Finished Epoch <span style=\"color: #008080; text-decoration-color: #008080; font-weight: bold\">7</span>/<span style=\"color: #008080; text-decoration-color: #008080; font-weight: bold\">100</span>. <span style=\"color: #808000; text-decoration-color: #808000\">CPU</span>=<span style=\"color: #008080; text-decoration-color: #008080; font-weight: bold\">21.</span>5GB, <span style=\"color: #808000; text-decoration-color: #808000\">GPU</span>=<span style=\"color: #008080; text-decoration-color: #008080; font-weight: bold\">23.</span>2GB.\n",
       "</pre>\n"
      ],
      "text/plain": [
       "==> \u001b[1m[\u001b[0m\u001b[1;36m2023\u001b[0m-\u001b[1;36m09\u001b[0m-11_09-\u001b[1;36m52\u001b[0m-\u001b[1;36m45\u001b[0m\u001b[1m]\u001b[0m Finished Epoch \u001b[1;36m7\u001b[0m/\u001b[1;36m100\u001b[0m. \u001b[33mCPU\u001b[0m=\u001b[1;36m21\u001b[0m\u001b[1;36m.\u001b[0m5GB, \u001b[33mGPU\u001b[0m=\u001b[1;36m23\u001b[0m\u001b[1;36m.\u001b[0m2GB.\n"
      ]
     },
     "metadata": {},
     "output_type": "display_data"
    },
    {
     "data": {
      "text/html": [
       "<pre style=\"white-space:pre;overflow-x:auto;line-height:normal;font-family:Menlo,'DejaVu Sans Mono',consolas,'Courier New',monospace\">++&gt; Evaluate werewolf_big_dmtet at epoch <span style=\"color: #008080; text-decoration-color: #008080; font-weight: bold\">7</span> <span style=\"color: #808000; text-decoration-color: #808000\">...</span>\n",
       "</pre>\n"
      ],
      "text/plain": [
       "++> Evaluate werewolf_big_dmtet at epoch \u001b[1;36m7\u001b[0m \u001b[33m...\u001b[0m\n"
      ]
     },
     "metadata": {},
     "output_type": "display_data"
    },
    {
     "name": "stderr",
     "output_type": "stream",
     "text": [
      "loss=0.0000 (0.0000): : 100% 8/8 [00:00<00:00, 30.77it/s]\n"
     ]
    },
    {
     "data": {
      "text/html": [
       "<pre style=\"white-space:pre;overflow-x:auto;line-height:normal;font-family:Menlo,'DejaVu Sans Mono',consolas,'Courier New',monospace\">++&gt; Evaluate epoch <span style=\"color: #008080; text-decoration-color: #008080; font-weight: bold\">7</span> Finished.\n",
       "</pre>\n"
      ],
      "text/plain": [
       "++> Evaluate epoch \u001b[1;36m7\u001b[0m Finished.\n"
      ]
     },
     "metadata": {},
     "output_type": "display_data"
    },
    {
     "data": {
      "text/html": [
       "<pre style=\"white-space:pre;overflow-x:auto;line-height:normal;font-family:Menlo,'DejaVu Sans Mono',consolas,'Courier New',monospace\">==&gt; <span style=\"font-weight: bold\">[</span><span style=\"color: #008080; text-decoration-color: #008080; font-weight: bold\">2023</span>-<span style=\"color: #008080; text-decoration-color: #008080; font-weight: bold\">09</span>-11_09-<span style=\"color: #008080; text-decoration-color: #008080; font-weight: bold\">52</span>-<span style=\"color: #008080; text-decoration-color: #008080; font-weight: bold\">45</span><span style=\"font-weight: bold\">]</span> Start Training werewolf_big_dmtet Epoch <span style=\"color: #008080; text-decoration-color: #008080; font-weight: bold\">8</span>/<span style=\"color: #008080; text-decoration-color: #008080; font-weight: bold\">100</span>, <span style=\"color: #808000; text-decoration-color: #808000\">lr</span>=<span style=\"color: #008080; text-decoration-color: #008080; font-weight: bold\">0.050000</span> <span style=\"color: #808000; text-decoration-color: #808000\">...</span>\n",
       "</pre>\n"
      ],
      "text/plain": [
       "==> \u001b[1m[\u001b[0m\u001b[1;36m2023\u001b[0m-\u001b[1;36m09\u001b[0m-11_09-\u001b[1;36m52\u001b[0m-\u001b[1;36m45\u001b[0m\u001b[1m]\u001b[0m Start Training werewolf_big_dmtet Epoch \u001b[1;36m8\u001b[0m/\u001b[1;36m100\u001b[0m, \u001b[33mlr\u001b[0m=\u001b[1;36m0\u001b[0m\u001b[1;36m.050000\u001b[0m \u001b[33m...\u001b[0m\n"
      ]
     },
     "metadata": {},
     "output_type": "display_data"
    },
    {
     "name": "stderr",
     "output_type": "stream",
     "text": [
      "loss=8.2339 (32.4082), lr=0.050000: : 100% 1300/1300 [00:37<00:00, 34.38it/s]\n"
     ]
    },
    {
     "data": {
      "text/html": [
       "<pre style=\"white-space:pre;overflow-x:auto;line-height:normal;font-family:Menlo,'DejaVu Sans Mono',consolas,'Courier New',monospace\">==&gt; <span style=\"font-weight: bold\">[</span><span style=\"color: #008080; text-decoration-color: #008080; font-weight: bold\">2023</span>-<span style=\"color: #008080; text-decoration-color: #008080; font-weight: bold\">09</span>-11_09-<span style=\"color: #008080; text-decoration-color: #008080; font-weight: bold\">53</span>-<span style=\"color: #008080; text-decoration-color: #008080; font-weight: bold\">23</span><span style=\"font-weight: bold\">]</span> Finished Epoch <span style=\"color: #008080; text-decoration-color: #008080; font-weight: bold\">8</span>/<span style=\"color: #008080; text-decoration-color: #008080; font-weight: bold\">100</span>. <span style=\"color: #808000; text-decoration-color: #808000\">CPU</span>=<span style=\"color: #008080; text-decoration-color: #008080; font-weight: bold\">21.</span>5GB, <span style=\"color: #808000; text-decoration-color: #808000\">GPU</span>=<span style=\"color: #008080; text-decoration-color: #008080; font-weight: bold\">23.</span>2GB.\n",
       "</pre>\n"
      ],
      "text/plain": [
       "==> \u001b[1m[\u001b[0m\u001b[1;36m2023\u001b[0m-\u001b[1;36m09\u001b[0m-11_09-\u001b[1;36m53\u001b[0m-\u001b[1;36m23\u001b[0m\u001b[1m]\u001b[0m Finished Epoch \u001b[1;36m8\u001b[0m/\u001b[1;36m100\u001b[0m. \u001b[33mCPU\u001b[0m=\u001b[1;36m21\u001b[0m\u001b[1;36m.\u001b[0m5GB, \u001b[33mGPU\u001b[0m=\u001b[1;36m23\u001b[0m\u001b[1;36m.\u001b[0m2GB.\n"
      ]
     },
     "metadata": {},
     "output_type": "display_data"
    },
    {
     "data": {
      "text/html": [
       "<pre style=\"white-space:pre;overflow-x:auto;line-height:normal;font-family:Menlo,'DejaVu Sans Mono',consolas,'Courier New',monospace\">++&gt; Evaluate werewolf_big_dmtet at epoch <span style=\"color: #008080; text-decoration-color: #008080; font-weight: bold\">8</span> <span style=\"color: #808000; text-decoration-color: #808000\">...</span>\n",
       "</pre>\n"
      ],
      "text/plain": [
       "++> Evaluate werewolf_big_dmtet at epoch \u001b[1;36m8\u001b[0m \u001b[33m...\u001b[0m\n"
      ]
     },
     "metadata": {},
     "output_type": "display_data"
    },
    {
     "name": "stderr",
     "output_type": "stream",
     "text": [
      "loss=0.0000 (0.0000): : 100% 8/8 [00:00<00:00, 32.76it/s]\n"
     ]
    },
    {
     "data": {
      "text/html": [
       "<pre style=\"white-space:pre;overflow-x:auto;line-height:normal;font-family:Menlo,'DejaVu Sans Mono',consolas,'Courier New',monospace\">++&gt; Evaluate epoch <span style=\"color: #008080; text-decoration-color: #008080; font-weight: bold\">8</span> Finished.\n",
       "</pre>\n"
      ],
      "text/plain": [
       "++> Evaluate epoch \u001b[1;36m8\u001b[0m Finished.\n"
      ]
     },
     "metadata": {},
     "output_type": "display_data"
    },
    {
     "data": {
      "text/html": [
       "<pre style=\"white-space:pre;overflow-x:auto;line-height:normal;font-family:Menlo,'DejaVu Sans Mono',consolas,'Courier New',monospace\">==&gt; <span style=\"font-weight: bold\">[</span><span style=\"color: #008080; text-decoration-color: #008080; font-weight: bold\">2023</span>-<span style=\"color: #008080; text-decoration-color: #008080; font-weight: bold\">09</span>-11_09-<span style=\"color: #008080; text-decoration-color: #008080; font-weight: bold\">53</span>-<span style=\"color: #008080; text-decoration-color: #008080; font-weight: bold\">24</span><span style=\"font-weight: bold\">]</span> Start Training werewolf_big_dmtet Epoch <span style=\"color: #008080; text-decoration-color: #008080; font-weight: bold\">9</span>/<span style=\"color: #008080; text-decoration-color: #008080; font-weight: bold\">100</span>, <span style=\"color: #808000; text-decoration-color: #808000\">lr</span>=<span style=\"color: #008080; text-decoration-color: #008080; font-weight: bold\">0.050000</span> <span style=\"color: #808000; text-decoration-color: #808000\">...</span>\n",
       "</pre>\n"
      ],
      "text/plain": [
       "==> \u001b[1m[\u001b[0m\u001b[1;36m2023\u001b[0m-\u001b[1;36m09\u001b[0m-11_09-\u001b[1;36m53\u001b[0m-\u001b[1;36m24\u001b[0m\u001b[1m]\u001b[0m Start Training werewolf_big_dmtet Epoch \u001b[1;36m9\u001b[0m/\u001b[1;36m100\u001b[0m, \u001b[33mlr\u001b[0m=\u001b[1;36m0\u001b[0m\u001b[1;36m.050000\u001b[0m \u001b[33m...\u001b[0m\n"
      ]
     },
     "metadata": {},
     "output_type": "display_data"
    },
    {
     "name": "stderr",
     "output_type": "stream",
     "text": [
      "loss=7.7477 (28.9858), lr=0.050000: : 100% 1300/1300 [00:38<00:00, 33.39it/s]\n"
     ]
    },
    {
     "data": {
      "text/html": [
       "<pre style=\"white-space:pre;overflow-x:auto;line-height:normal;font-family:Menlo,'DejaVu Sans Mono',consolas,'Courier New',monospace\">==&gt; <span style=\"font-weight: bold\">[</span><span style=\"color: #008080; text-decoration-color: #008080; font-weight: bold\">2023</span>-<span style=\"color: #008080; text-decoration-color: #008080; font-weight: bold\">09</span>-11_09-<span style=\"color: #008080; text-decoration-color: #008080; font-weight: bold\">54</span>-<span style=\"color: #008080; text-decoration-color: #008080; font-weight: bold\">03</span><span style=\"font-weight: bold\">]</span> Finished Epoch <span style=\"color: #008080; text-decoration-color: #008080; font-weight: bold\">9</span>/<span style=\"color: #008080; text-decoration-color: #008080; font-weight: bold\">100</span>. <span style=\"color: #808000; text-decoration-color: #808000\">CPU</span>=<span style=\"color: #008080; text-decoration-color: #008080; font-weight: bold\">4.</span>0GB, <span style=\"color: #808000; text-decoration-color: #808000\">GPU</span>=<span style=\"color: #008080; text-decoration-color: #008080; font-weight: bold\">23.</span>2GB.\n",
       "</pre>\n"
      ],
      "text/plain": [
       "==> \u001b[1m[\u001b[0m\u001b[1;36m2023\u001b[0m-\u001b[1;36m09\u001b[0m-11_09-\u001b[1;36m54\u001b[0m-\u001b[1;36m03\u001b[0m\u001b[1m]\u001b[0m Finished Epoch \u001b[1;36m9\u001b[0m/\u001b[1;36m100\u001b[0m. \u001b[33mCPU\u001b[0m=\u001b[1;36m4\u001b[0m\u001b[1;36m.\u001b[0m0GB, \u001b[33mGPU\u001b[0m=\u001b[1;36m23\u001b[0m\u001b[1;36m.\u001b[0m2GB.\n"
      ]
     },
     "metadata": {},
     "output_type": "display_data"
    },
    {
     "data": {
      "text/html": [
       "<pre style=\"white-space:pre;overflow-x:auto;line-height:normal;font-family:Menlo,'DejaVu Sans Mono',consolas,'Courier New',monospace\">++&gt; Evaluate werewolf_big_dmtet at epoch <span style=\"color: #008080; text-decoration-color: #008080; font-weight: bold\">9</span> <span style=\"color: #808000; text-decoration-color: #808000\">...</span>\n",
       "</pre>\n"
      ],
      "text/plain": [
       "++> Evaluate werewolf_big_dmtet at epoch \u001b[1;36m9\u001b[0m \u001b[33m...\u001b[0m\n"
      ]
     },
     "metadata": {},
     "output_type": "display_data"
    },
    {
     "name": "stderr",
     "output_type": "stream",
     "text": [
      "loss=0.0000 (0.0000): : 100% 8/8 [00:00<00:00, 32.81it/s]\n"
     ]
    },
    {
     "data": {
      "text/html": [
       "<pre style=\"white-space:pre;overflow-x:auto;line-height:normal;font-family:Menlo,'DejaVu Sans Mono',consolas,'Courier New',monospace\">++&gt; Evaluate epoch <span style=\"color: #008080; text-decoration-color: #008080; font-weight: bold\">9</span> Finished.\n",
       "</pre>\n"
      ],
      "text/plain": [
       "++> Evaluate epoch \u001b[1;36m9\u001b[0m Finished.\n"
      ]
     },
     "metadata": {},
     "output_type": "display_data"
    },
    {
     "data": {
      "text/html": [
       "<pre style=\"white-space:pre;overflow-x:auto;line-height:normal;font-family:Menlo,'DejaVu Sans Mono',consolas,'Courier New',monospace\">==&gt; <span style=\"font-weight: bold\">[</span><span style=\"color: #008080; text-decoration-color: #008080; font-weight: bold\">2023</span>-<span style=\"color: #008080; text-decoration-color: #008080; font-weight: bold\">09</span>-11_09-<span style=\"color: #008080; text-decoration-color: #008080; font-weight: bold\">54</span>-<span style=\"color: #008080; text-decoration-color: #008080; font-weight: bold\">03</span><span style=\"font-weight: bold\">]</span> Start Training werewolf_big_dmtet Epoch <span style=\"color: #008080; text-decoration-color: #008080; font-weight: bold\">10</span>/<span style=\"color: #008080; text-decoration-color: #008080; font-weight: bold\">100</span>, <span style=\"color: #808000; text-decoration-color: #808000\">lr</span>=<span style=\"color: #008080; text-decoration-color: #008080; font-weight: bold\">0.050000</span> <span style=\"color: #808000; text-decoration-color: #808000\">...</span>\n",
       "</pre>\n"
      ],
      "text/plain": [
       "==> \u001b[1m[\u001b[0m\u001b[1;36m2023\u001b[0m-\u001b[1;36m09\u001b[0m-11_09-\u001b[1;36m54\u001b[0m-\u001b[1;36m03\u001b[0m\u001b[1m]\u001b[0m Start Training werewolf_big_dmtet Epoch \u001b[1;36m10\u001b[0m/\u001b[1;36m100\u001b[0m, \u001b[33mlr\u001b[0m=\u001b[1;36m0\u001b[0m\u001b[1;36m.050000\u001b[0m \u001b[33m...\u001b[0m\n"
      ]
     },
     "metadata": {},
     "output_type": "display_data"
    },
    {
     "name": "stderr",
     "output_type": "stream",
     "text": [
      "loss=7.2982 (28.6748), lr=0.050000: : 100% 1300/1300 [00:38<00:00, 34.04it/s]\n"
     ]
    },
    {
     "data": {
      "text/html": [
       "<pre style=\"white-space:pre;overflow-x:auto;line-height:normal;font-family:Menlo,'DejaVu Sans Mono',consolas,'Courier New',monospace\">==&gt; <span style=\"font-weight: bold\">[</span><span style=\"color: #008080; text-decoration-color: #008080; font-weight: bold\">2023</span>-<span style=\"color: #008080; text-decoration-color: #008080; font-weight: bold\">09</span>-11_09-<span style=\"color: #008080; text-decoration-color: #008080; font-weight: bold\">54</span>-<span style=\"color: #008080; text-decoration-color: #008080; font-weight: bold\">42</span><span style=\"font-weight: bold\">]</span> Finished Epoch <span style=\"color: #008080; text-decoration-color: #008080; font-weight: bold\">10</span>/<span style=\"color: #008080; text-decoration-color: #008080; font-weight: bold\">100</span>. <span style=\"color: #808000; text-decoration-color: #808000\">CPU</span>=<span style=\"color: #008080; text-decoration-color: #008080; font-weight: bold\">4.</span>2GB, <span style=\"color: #808000; text-decoration-color: #808000\">GPU</span>=<span style=\"color: #008080; text-decoration-color: #008080; font-weight: bold\">23.</span>2GB.\n",
       "</pre>\n"
      ],
      "text/plain": [
       "==> \u001b[1m[\u001b[0m\u001b[1;36m2023\u001b[0m-\u001b[1;36m09\u001b[0m-11_09-\u001b[1;36m54\u001b[0m-\u001b[1;36m42\u001b[0m\u001b[1m]\u001b[0m Finished Epoch \u001b[1;36m10\u001b[0m/\u001b[1;36m100\u001b[0m. \u001b[33mCPU\u001b[0m=\u001b[1;36m4\u001b[0m\u001b[1;36m.\u001b[0m2GB, \u001b[33mGPU\u001b[0m=\u001b[1;36m23\u001b[0m\u001b[1;36m.\u001b[0m2GB.\n"
      ]
     },
     "metadata": {},
     "output_type": "display_data"
    },
    {
     "data": {
      "text/html": [
       "<pre style=\"white-space:pre;overflow-x:auto;line-height:normal;font-family:Menlo,'DejaVu Sans Mono',consolas,'Courier New',monospace\">++&gt; Evaluate werewolf_big_dmtet at epoch <span style=\"color: #008080; text-decoration-color: #008080; font-weight: bold\">10</span> <span style=\"color: #808000; text-decoration-color: #808000\">...</span>\n",
       "</pre>\n"
      ],
      "text/plain": [
       "++> Evaluate werewolf_big_dmtet at epoch \u001b[1;36m10\u001b[0m \u001b[33m...\u001b[0m\n"
      ]
     },
     "metadata": {},
     "output_type": "display_data"
    },
    {
     "name": "stderr",
     "output_type": "stream",
     "text": [
      "loss=0.0000 (0.0000): : 100% 8/8 [00:00<00:00, 34.11it/s]\n"
     ]
    },
    {
     "data": {
      "text/html": [
       "<pre style=\"white-space:pre;overflow-x:auto;line-height:normal;font-family:Menlo,'DejaVu Sans Mono',consolas,'Courier New',monospace\">++&gt; Evaluate epoch <span style=\"color: #008080; text-decoration-color: #008080; font-weight: bold\">10</span> Finished.\n",
       "</pre>\n"
      ],
      "text/plain": [
       "++> Evaluate epoch \u001b[1;36m10\u001b[0m Finished.\n"
      ]
     },
     "metadata": {},
     "output_type": "display_data"
    },
    {
     "data": {
      "text/html": [
       "<pre style=\"white-space:pre;overflow-x:auto;line-height:normal;font-family:Menlo,'DejaVu Sans Mono',consolas,'Courier New',monospace\">==&gt; Start Test, save results to werewolf_big_dmtet/results\n",
       "</pre>\n"
      ],
      "text/plain": [
       "==> Start Test, save results to werewolf_big_dmtet/results\n"
      ]
     },
     "metadata": {},
     "output_type": "display_data"
    },
    {
     "name": "stderr",
     "output_type": "stream",
     "text": []
    },
    {
     "data": {
      "text/html": [
       "<pre style=\"white-space:pre;overflow-x:auto;line-height:normal;font-family:Menlo,'DejaVu Sans Mono',consolas,'Courier New',monospace\">==&gt; Finished Test.\n",
       "</pre>\n"
      ],
      "text/plain": [
       "==> Finished Test.\n"
      ]
     },
     "metadata": {},
     "output_type": "display_data"
    },
    {
     "name": "stderr",
     "output_type": "stream",
     "text": [
      "100% 100/100 [00:03<00:00, 32.14it/s]\n"
     ]
    },
    {
     "data": {
      "text/html": [
       "<pre style=\"white-space:pre;overflow-x:auto;line-height:normal;font-family:Menlo,'DejaVu Sans Mono',consolas,'Courier New',monospace\">==&gt; <span style=\"font-weight: bold\">[</span><span style=\"color: #008080; text-decoration-color: #008080; font-weight: bold\">2023</span>-<span style=\"color: #008080; text-decoration-color: #008080; font-weight: bold\">09</span>-11_09-<span style=\"color: #008080; text-decoration-color: #008080; font-weight: bold\">54</span>-<span style=\"color: #008080; text-decoration-color: #008080; font-weight: bold\">45</span><span style=\"font-weight: bold\">]</span> Start Training werewolf_big_dmtet Epoch <span style=\"color: #008080; text-decoration-color: #008080; font-weight: bold\">11</span>/<span style=\"color: #008080; text-decoration-color: #008080; font-weight: bold\">100</span>, <span style=\"color: #808000; text-decoration-color: #808000\">lr</span>=<span style=\"color: #008080; text-decoration-color: #008080; font-weight: bold\">0.050000</span> <span style=\"color: #808000; text-decoration-color: #808000\">...</span>\n",
       "</pre>\n"
      ],
      "text/plain": [
       "==> \u001b[1m[\u001b[0m\u001b[1;36m2023\u001b[0m-\u001b[1;36m09\u001b[0m-11_09-\u001b[1;36m54\u001b[0m-\u001b[1;36m45\u001b[0m\u001b[1m]\u001b[0m Start Training werewolf_big_dmtet Epoch \u001b[1;36m11\u001b[0m/\u001b[1;36m100\u001b[0m, \u001b[33mlr\u001b[0m=\u001b[1;36m0\u001b[0m\u001b[1;36m.050000\u001b[0m \u001b[33m...\u001b[0m\n"
      ]
     },
     "metadata": {},
     "output_type": "display_data"
    },
    {
     "name": "stderr",
     "output_type": "stream",
     "text": [
      "loss=6.8806 (29.1832), lr=0.050000: : 100% 1300/1300 [00:37<00:00, 34.49it/s]\n"
     ]
    },
    {
     "data": {
      "text/html": [
       "<pre style=\"white-space:pre;overflow-x:auto;line-height:normal;font-family:Menlo,'DejaVu Sans Mono',consolas,'Courier New',monospace\">==&gt; <span style=\"font-weight: bold\">[</span><span style=\"color: #008080; text-decoration-color: #008080; font-weight: bold\">2023</span>-<span style=\"color: #008080; text-decoration-color: #008080; font-weight: bold\">09</span>-11_09-<span style=\"color: #008080; text-decoration-color: #008080; font-weight: bold\">55</span>-<span style=\"color: #008080; text-decoration-color: #008080; font-weight: bold\">23</span><span style=\"font-weight: bold\">]</span> Finished Epoch <span style=\"color: #008080; text-decoration-color: #008080; font-weight: bold\">11</span>/<span style=\"color: #008080; text-decoration-color: #008080; font-weight: bold\">100</span>. <span style=\"color: #808000; text-decoration-color: #808000\">CPU</span>=<span style=\"color: #008080; text-decoration-color: #008080; font-weight: bold\">4.</span>6GB, <span style=\"color: #808000; text-decoration-color: #808000\">GPU</span>=<span style=\"color: #008080; text-decoration-color: #008080; font-weight: bold\">23.</span>2GB.\n",
       "</pre>\n"
      ],
      "text/plain": [
       "==> \u001b[1m[\u001b[0m\u001b[1;36m2023\u001b[0m-\u001b[1;36m09\u001b[0m-11_09-\u001b[1;36m55\u001b[0m-\u001b[1;36m23\u001b[0m\u001b[1m]\u001b[0m Finished Epoch \u001b[1;36m11\u001b[0m/\u001b[1;36m100\u001b[0m. \u001b[33mCPU\u001b[0m=\u001b[1;36m4\u001b[0m\u001b[1;36m.\u001b[0m6GB, \u001b[33mGPU\u001b[0m=\u001b[1;36m23\u001b[0m\u001b[1;36m.\u001b[0m2GB.\n"
      ]
     },
     "metadata": {},
     "output_type": "display_data"
    },
    {
     "data": {
      "text/html": [
       "<pre style=\"white-space:pre;overflow-x:auto;line-height:normal;font-family:Menlo,'DejaVu Sans Mono',consolas,'Courier New',monospace\">++&gt; Evaluate werewolf_big_dmtet at epoch <span style=\"color: #008080; text-decoration-color: #008080; font-weight: bold\">11</span> <span style=\"color: #808000; text-decoration-color: #808000\">...</span>\n",
       "</pre>\n"
      ],
      "text/plain": [
       "++> Evaluate werewolf_big_dmtet at epoch \u001b[1;36m11\u001b[0m \u001b[33m...\u001b[0m\n"
      ]
     },
     "metadata": {},
     "output_type": "display_data"
    },
    {
     "name": "stderr",
     "output_type": "stream",
     "text": [
      "loss=0.0000 (0.0000): : 100% 8/8 [00:00<00:00, 32.93it/s]\n"
     ]
    },
    {
     "data": {
      "text/html": [
       "<pre style=\"white-space:pre;overflow-x:auto;line-height:normal;font-family:Menlo,'DejaVu Sans Mono',consolas,'Courier New',monospace\">++&gt; Evaluate epoch <span style=\"color: #008080; text-decoration-color: #008080; font-weight: bold\">11</span> Finished.\n",
       "</pre>\n"
      ],
      "text/plain": [
       "++> Evaluate epoch \u001b[1;36m11\u001b[0m Finished.\n"
      ]
     },
     "metadata": {},
     "output_type": "display_data"
    },
    {
     "data": {
      "text/html": [
       "<pre style=\"white-space:pre;overflow-x:auto;line-height:normal;font-family:Menlo,'DejaVu Sans Mono',consolas,'Courier New',monospace\">==&gt; <span style=\"font-weight: bold\">[</span><span style=\"color: #008080; text-decoration-color: #008080; font-weight: bold\">2023</span>-<span style=\"color: #008080; text-decoration-color: #008080; font-weight: bold\">09</span>-11_09-<span style=\"color: #008080; text-decoration-color: #008080; font-weight: bold\">55</span>-<span style=\"color: #008080; text-decoration-color: #008080; font-weight: bold\">24</span><span style=\"font-weight: bold\">]</span> Start Training werewolf_big_dmtet Epoch <span style=\"color: #008080; text-decoration-color: #008080; font-weight: bold\">12</span>/<span style=\"color: #008080; text-decoration-color: #008080; font-weight: bold\">100</span>, <span style=\"color: #808000; text-decoration-color: #808000\">lr</span>=<span style=\"color: #008080; text-decoration-color: #008080; font-weight: bold\">0.050000</span> <span style=\"color: #808000; text-decoration-color: #808000\">...</span>\n",
       "</pre>\n"
      ],
      "text/plain": [
       "==> \u001b[1m[\u001b[0m\u001b[1;36m2023\u001b[0m-\u001b[1;36m09\u001b[0m-11_09-\u001b[1;36m55\u001b[0m-\u001b[1;36m24\u001b[0m\u001b[1m]\u001b[0m Start Training werewolf_big_dmtet Epoch \u001b[1;36m12\u001b[0m/\u001b[1;36m100\u001b[0m, \u001b[33mlr\u001b[0m=\u001b[1;36m0\u001b[0m\u001b[1;36m.050000\u001b[0m \u001b[33m...\u001b[0m\n"
      ]
     },
     "metadata": {},
     "output_type": "display_data"
    },
    {
     "name": "stderr",
     "output_type": "stream",
     "text": [
      "loss=6.5210 (30.2211), lr=0.050000: : 100% 1300/1300 [00:38<00:00, 33.67it/s]\n"
     ]
    },
    {
     "data": {
      "text/html": [
       "<pre style=\"white-space:pre;overflow-x:auto;line-height:normal;font-family:Menlo,'DejaVu Sans Mono',consolas,'Courier New',monospace\">==&gt; <span style=\"font-weight: bold\">[</span><span style=\"color: #008080; text-decoration-color: #008080; font-weight: bold\">2023</span>-<span style=\"color: #008080; text-decoration-color: #008080; font-weight: bold\">09</span>-11_09-<span style=\"color: #008080; text-decoration-color: #008080; font-weight: bold\">56</span>-<span style=\"color: #008080; text-decoration-color: #008080; font-weight: bold\">02</span><span style=\"font-weight: bold\">]</span> Finished Epoch <span style=\"color: #008080; text-decoration-color: #008080; font-weight: bold\">12</span>/<span style=\"color: #008080; text-decoration-color: #008080; font-weight: bold\">100</span>. <span style=\"color: #808000; text-decoration-color: #808000\">CPU</span>=<span style=\"color: #008080; text-decoration-color: #008080; font-weight: bold\">4.</span>6GB, <span style=\"color: #808000; text-decoration-color: #808000\">GPU</span>=<span style=\"color: #008080; text-decoration-color: #008080; font-weight: bold\">23.</span>2GB.\n",
       "</pre>\n"
      ],
      "text/plain": [
       "==> \u001b[1m[\u001b[0m\u001b[1;36m2023\u001b[0m-\u001b[1;36m09\u001b[0m-11_09-\u001b[1;36m56\u001b[0m-\u001b[1;36m02\u001b[0m\u001b[1m]\u001b[0m Finished Epoch \u001b[1;36m12\u001b[0m/\u001b[1;36m100\u001b[0m. \u001b[33mCPU\u001b[0m=\u001b[1;36m4\u001b[0m\u001b[1;36m.\u001b[0m6GB, \u001b[33mGPU\u001b[0m=\u001b[1;36m23\u001b[0m\u001b[1;36m.\u001b[0m2GB.\n"
      ]
     },
     "metadata": {},
     "output_type": "display_data"
    },
    {
     "data": {
      "text/html": [
       "<pre style=\"white-space:pre;overflow-x:auto;line-height:normal;font-family:Menlo,'DejaVu Sans Mono',consolas,'Courier New',monospace\">++&gt; Evaluate werewolf_big_dmtet at epoch <span style=\"color: #008080; text-decoration-color: #008080; font-weight: bold\">12</span> <span style=\"color: #808000; text-decoration-color: #808000\">...</span>\n",
       "</pre>\n"
      ],
      "text/plain": [
       "++> Evaluate werewolf_big_dmtet at epoch \u001b[1;36m12\u001b[0m \u001b[33m...\u001b[0m\n"
      ]
     },
     "metadata": {},
     "output_type": "display_data"
    },
    {
     "name": "stderr",
     "output_type": "stream",
     "text": [
      "loss=0.0000 (0.0000): : 100% 8/8 [00:00<00:00, 32.97it/s]\n"
     ]
    },
    {
     "data": {
      "text/html": [
       "<pre style=\"white-space:pre;overflow-x:auto;line-height:normal;font-family:Menlo,'DejaVu Sans Mono',consolas,'Courier New',monospace\">++&gt; Evaluate epoch <span style=\"color: #008080; text-decoration-color: #008080; font-weight: bold\">12</span> Finished.\n",
       "</pre>\n"
      ],
      "text/plain": [
       "++> Evaluate epoch \u001b[1;36m12\u001b[0m Finished.\n"
      ]
     },
     "metadata": {},
     "output_type": "display_data"
    },
    {
     "data": {
      "text/html": [
       "<pre style=\"white-space:pre;overflow-x:auto;line-height:normal;font-family:Menlo,'DejaVu Sans Mono',consolas,'Courier New',monospace\">==&gt; <span style=\"font-weight: bold\">[</span><span style=\"color: #008080; text-decoration-color: #008080; font-weight: bold\">2023</span>-<span style=\"color: #008080; text-decoration-color: #008080; font-weight: bold\">09</span>-11_09-<span style=\"color: #008080; text-decoration-color: #008080; font-weight: bold\">56</span>-<span style=\"color: #008080; text-decoration-color: #008080; font-weight: bold\">03</span><span style=\"font-weight: bold\">]</span> Start Training werewolf_big_dmtet Epoch <span style=\"color: #008080; text-decoration-color: #008080; font-weight: bold\">13</span>/<span style=\"color: #008080; text-decoration-color: #008080; font-weight: bold\">100</span>, <span style=\"color: #808000; text-decoration-color: #808000\">lr</span>=<span style=\"color: #008080; text-decoration-color: #008080; font-weight: bold\">0.050000</span> <span style=\"color: #808000; text-decoration-color: #808000\">...</span>\n",
       "</pre>\n"
      ],
      "text/plain": [
       "==> \u001b[1m[\u001b[0m\u001b[1;36m2023\u001b[0m-\u001b[1;36m09\u001b[0m-11_09-\u001b[1;36m56\u001b[0m-\u001b[1;36m03\u001b[0m\u001b[1m]\u001b[0m Start Training werewolf_big_dmtet Epoch \u001b[1;36m13\u001b[0m/\u001b[1;36m100\u001b[0m, \u001b[33mlr\u001b[0m=\u001b[1;36m0\u001b[0m\u001b[1;36m.050000\u001b[0m \u001b[33m...\u001b[0m\n"
      ]
     },
     "metadata": {},
     "output_type": "display_data"
    },
    {
     "name": "stderr",
     "output_type": "stream",
     "text": [
      "loss=6.2740 (27.5333), lr=0.050000: : 100% 1300/1300 [00:38<00:00, 33.99it/s]\n"
     ]
    },
    {
     "data": {
      "text/html": [
       "<pre style=\"white-space:pre;overflow-x:auto;line-height:normal;font-family:Menlo,'DejaVu Sans Mono',consolas,'Courier New',monospace\">==&gt; <span style=\"font-weight: bold\">[</span><span style=\"color: #008080; text-decoration-color: #008080; font-weight: bold\">2023</span>-<span style=\"color: #008080; text-decoration-color: #008080; font-weight: bold\">09</span>-11_09-<span style=\"color: #008080; text-decoration-color: #008080; font-weight: bold\">56</span>-<span style=\"color: #008080; text-decoration-color: #008080; font-weight: bold\">41</span><span style=\"font-weight: bold\">]</span> Finished Epoch <span style=\"color: #008080; text-decoration-color: #008080; font-weight: bold\">13</span>/<span style=\"color: #008080; text-decoration-color: #008080; font-weight: bold\">100</span>. <span style=\"color: #808000; text-decoration-color: #808000\">CPU</span>=<span style=\"color: #008080; text-decoration-color: #008080; font-weight: bold\">4.</span>6GB, <span style=\"color: #808000; text-decoration-color: #808000\">GPU</span>=<span style=\"color: #008080; text-decoration-color: #008080; font-weight: bold\">23.</span>2GB.\n",
       "</pre>\n"
      ],
      "text/plain": [
       "==> \u001b[1m[\u001b[0m\u001b[1;36m2023\u001b[0m-\u001b[1;36m09\u001b[0m-11_09-\u001b[1;36m56\u001b[0m-\u001b[1;36m41\u001b[0m\u001b[1m]\u001b[0m Finished Epoch \u001b[1;36m13\u001b[0m/\u001b[1;36m100\u001b[0m. \u001b[33mCPU\u001b[0m=\u001b[1;36m4\u001b[0m\u001b[1;36m.\u001b[0m6GB, \u001b[33mGPU\u001b[0m=\u001b[1;36m23\u001b[0m\u001b[1;36m.\u001b[0m2GB.\n"
      ]
     },
     "metadata": {},
     "output_type": "display_data"
    },
    {
     "data": {
      "text/html": [
       "<pre style=\"white-space:pre;overflow-x:auto;line-height:normal;font-family:Menlo,'DejaVu Sans Mono',consolas,'Courier New',monospace\">++&gt; Evaluate werewolf_big_dmtet at epoch <span style=\"color: #008080; text-decoration-color: #008080; font-weight: bold\">13</span> <span style=\"color: #808000; text-decoration-color: #808000\">...</span>\n",
       "</pre>\n"
      ],
      "text/plain": [
       "++> Evaluate werewolf_big_dmtet at epoch \u001b[1;36m13\u001b[0m \u001b[33m...\u001b[0m\n"
      ]
     },
     "metadata": {},
     "output_type": "display_data"
    },
    {
     "name": "stderr",
     "output_type": "stream",
     "text": [
      "loss=0.0000 (0.0000): : 100% 8/8 [00:00<00:00, 32.77it/s]\n"
     ]
    },
    {
     "data": {
      "text/html": [
       "<pre style=\"white-space:pre;overflow-x:auto;line-height:normal;font-family:Menlo,'DejaVu Sans Mono',consolas,'Courier New',monospace\">++&gt; Evaluate epoch <span style=\"color: #008080; text-decoration-color: #008080; font-weight: bold\">13</span> Finished.\n",
       "</pre>\n"
      ],
      "text/plain": [
       "++> Evaluate epoch \u001b[1;36m13\u001b[0m Finished.\n"
      ]
     },
     "metadata": {},
     "output_type": "display_data"
    },
    {
     "data": {
      "text/html": [
       "<pre style=\"white-space:pre;overflow-x:auto;line-height:normal;font-family:Menlo,'DejaVu Sans Mono',consolas,'Courier New',monospace\">==&gt; <span style=\"font-weight: bold\">[</span><span style=\"color: #008080; text-decoration-color: #008080; font-weight: bold\">2023</span>-<span style=\"color: #008080; text-decoration-color: #008080; font-weight: bold\">09</span>-11_09-<span style=\"color: #008080; text-decoration-color: #008080; font-weight: bold\">56</span>-<span style=\"color: #008080; text-decoration-color: #008080; font-weight: bold\">42</span><span style=\"font-weight: bold\">]</span> Start Training werewolf_big_dmtet Epoch <span style=\"color: #008080; text-decoration-color: #008080; font-weight: bold\">14</span>/<span style=\"color: #008080; text-decoration-color: #008080; font-weight: bold\">100</span>, <span style=\"color: #808000; text-decoration-color: #808000\">lr</span>=<span style=\"color: #008080; text-decoration-color: #008080; font-weight: bold\">0.050000</span> <span style=\"color: #808000; text-decoration-color: #808000\">...</span>\n",
       "</pre>\n"
      ],
      "text/plain": [
       "==> \u001b[1m[\u001b[0m\u001b[1;36m2023\u001b[0m-\u001b[1;36m09\u001b[0m-11_09-\u001b[1;36m56\u001b[0m-\u001b[1;36m42\u001b[0m\u001b[1m]\u001b[0m Start Training werewolf_big_dmtet Epoch \u001b[1;36m14\u001b[0m/\u001b[1;36m100\u001b[0m, \u001b[33mlr\u001b[0m=\u001b[1;36m0\u001b[0m\u001b[1;36m.050000\u001b[0m \u001b[33m...\u001b[0m\n"
      ]
     },
     "metadata": {},
     "output_type": "display_data"
    },
    {
     "name": "stderr",
     "output_type": "stream",
     "text": [
      "loss=6.0030 (28.3269), lr=0.050000: : 100% 1300/1300 [00:39<00:00, 33.11it/s]\n"
     ]
    },
    {
     "data": {
      "text/html": [
       "<pre style=\"white-space:pre;overflow-x:auto;line-height:normal;font-family:Menlo,'DejaVu Sans Mono',consolas,'Courier New',monospace\">==&gt; <span style=\"font-weight: bold\">[</span><span style=\"color: #008080; text-decoration-color: #008080; font-weight: bold\">2023</span>-<span style=\"color: #008080; text-decoration-color: #008080; font-weight: bold\">09</span>-11_09-<span style=\"color: #008080; text-decoration-color: #008080; font-weight: bold\">57</span>-<span style=\"color: #008080; text-decoration-color: #008080; font-weight: bold\">21</span><span style=\"font-weight: bold\">]</span> Finished Epoch <span style=\"color: #008080; text-decoration-color: #008080; font-weight: bold\">14</span>/<span style=\"color: #008080; text-decoration-color: #008080; font-weight: bold\">100</span>. <span style=\"color: #808000; text-decoration-color: #808000\">CPU</span>=<span style=\"color: #008080; text-decoration-color: #008080; font-weight: bold\">4.</span>6GB, <span style=\"color: #808000; text-decoration-color: #808000\">GPU</span>=<span style=\"color: #008080; text-decoration-color: #008080; font-weight: bold\">23.</span>2GB.\n",
       "</pre>\n"
      ],
      "text/plain": [
       "==> \u001b[1m[\u001b[0m\u001b[1;36m2023\u001b[0m-\u001b[1;36m09\u001b[0m-11_09-\u001b[1;36m57\u001b[0m-\u001b[1;36m21\u001b[0m\u001b[1m]\u001b[0m Finished Epoch \u001b[1;36m14\u001b[0m/\u001b[1;36m100\u001b[0m. \u001b[33mCPU\u001b[0m=\u001b[1;36m4\u001b[0m\u001b[1;36m.\u001b[0m6GB, \u001b[33mGPU\u001b[0m=\u001b[1;36m23\u001b[0m\u001b[1;36m.\u001b[0m2GB.\n"
      ]
     },
     "metadata": {},
     "output_type": "display_data"
    },
    {
     "data": {
      "text/html": [
       "<pre style=\"white-space:pre;overflow-x:auto;line-height:normal;font-family:Menlo,'DejaVu Sans Mono',consolas,'Courier New',monospace\">++&gt; Evaluate werewolf_big_dmtet at epoch <span style=\"color: #008080; text-decoration-color: #008080; font-weight: bold\">14</span> <span style=\"color: #808000; text-decoration-color: #808000\">...</span>\n",
       "</pre>\n"
      ],
      "text/plain": [
       "++> Evaluate werewolf_big_dmtet at epoch \u001b[1;36m14\u001b[0m \u001b[33m...\u001b[0m\n"
      ]
     },
     "metadata": {},
     "output_type": "display_data"
    },
    {
     "name": "stderr",
     "output_type": "stream",
     "text": [
      "loss=0.0000 (0.0000): : 100% 8/8 [00:00<00:00, 31.73it/s]\n"
     ]
    },
    {
     "data": {
      "text/html": [
       "<pre style=\"white-space:pre;overflow-x:auto;line-height:normal;font-family:Menlo,'DejaVu Sans Mono',consolas,'Courier New',monospace\">++&gt; Evaluate epoch <span style=\"color: #008080; text-decoration-color: #008080; font-weight: bold\">14</span> Finished.\n",
       "</pre>\n"
      ],
      "text/plain": [
       "++> Evaluate epoch \u001b[1;36m14\u001b[0m Finished.\n"
      ]
     },
     "metadata": {},
     "output_type": "display_data"
    },
    {
     "data": {
      "text/html": [
       "<pre style=\"white-space:pre;overflow-x:auto;line-height:normal;font-family:Menlo,'DejaVu Sans Mono',consolas,'Courier New',monospace\">==&gt; <span style=\"font-weight: bold\">[</span><span style=\"color: #008080; text-decoration-color: #008080; font-weight: bold\">2023</span>-<span style=\"color: #008080; text-decoration-color: #008080; font-weight: bold\">09</span>-11_09-<span style=\"color: #008080; text-decoration-color: #008080; font-weight: bold\">57</span>-<span style=\"color: #008080; text-decoration-color: #008080; font-weight: bold\">22</span><span style=\"font-weight: bold\">]</span> Start Training werewolf_big_dmtet Epoch <span style=\"color: #008080; text-decoration-color: #008080; font-weight: bold\">15</span>/<span style=\"color: #008080; text-decoration-color: #008080; font-weight: bold\">100</span>, <span style=\"color: #808000; text-decoration-color: #808000\">lr</span>=<span style=\"color: #008080; text-decoration-color: #008080; font-weight: bold\">0.050000</span> <span style=\"color: #808000; text-decoration-color: #808000\">...</span>\n",
       "</pre>\n"
      ],
      "text/plain": [
       "==> \u001b[1m[\u001b[0m\u001b[1;36m2023\u001b[0m-\u001b[1;36m09\u001b[0m-11_09-\u001b[1;36m57\u001b[0m-\u001b[1;36m22\u001b[0m\u001b[1m]\u001b[0m Start Training werewolf_big_dmtet Epoch \u001b[1;36m15\u001b[0m/\u001b[1;36m100\u001b[0m, \u001b[33mlr\u001b[0m=\u001b[1;36m0\u001b[0m\u001b[1;36m.050000\u001b[0m \u001b[33m...\u001b[0m\n"
      ]
     },
     "metadata": {},
     "output_type": "display_data"
    },
    {
     "name": "stderr",
     "output_type": "stream",
     "text": []
    }
   ],
   "source": [
    "%run main.py -O --batch_size {batch_size} --image {image_path} --test_interval 5 --workspace {workspace}_dmtet --dmtet   --init_with {workspace}/checkpoints/df.pth\n"
   ]
  },
  {
   "cell_type": "code",
   "execution_count": 13,
   "metadata": {},
   "outputs": [
    {
     "name": "stdout",
     "output_type": "stream",
     "text": [
      "Namespace(file=None, text=None, negative='', O=True, O2=False, test=True, six_views=False, eval_interval=1, test_interval=100, workspace='werewolf_big_dmtet', seed=None, image='/notebooks/threestudio/load/images/werewolf_big_rgba.png', image_config=None, known_view_interval=4, IF=False, guidance=['zero123'], guidance_scale=5, save_mesh=True, mcubes_resolution=256, decimate_target=50000.0, dmtet=True, tet_grid_size=128, init_with='', lock_geo=False, perpneg=False, negative_w=-2, front_decay_factor=2, side_decay_factor=10, iters=10000, lr=0.001, ckpt='latest', cuda_ray=True, taichi_ray=False, max_steps=1024, num_steps=64, upsample_steps=32, update_extra_interval=16, max_ray_batch=4096, latent_iter_ratio=0, albedo_iter_ratio=0, min_ambient_ratio=0.1, textureless_ratio=0.2, jitter_pose=False, jitter_center=0.2, jitter_target=0.2, jitter_up=0.02, uniform_sphere_rate=0, grad_clip=-1, grad_clip_rgb=-1, bg_radius=1.4, density_activation='exp', density_thresh=10, blob_density=5, blob_radius=0.2, backbone='grid', optim='adan', sd_version='2.1', hf_key=None, fp16=True, vram_O=False, w=512, h=512, known_view_scale=1, known_view_noise_scale=0.002, dmtet_reso_scale=8, batch_size=1, bound=1, dt_gamma=0, min_near=0.01, radius_range=[3.0, 3.5], theta_range=[45, 105], phi_range=[-180, 180], fovy_range=[20, 20], default_radius=3.2, default_polar=90, default_azimuth=0, default_fovy=20, progressive_view=False, progressive_view_init_ratio=0.2, progressive_level=True, angle_overhead=30, angle_front=60, t_range=[0.02, 0.5], dont_override_stuff=False, lambda_entropy=1, lambda_opacity=0, lambda_orient=1, lambda_tv=0, lambda_wd=0, lambda_mesh_normal=0.5, lambda_mesh_laplacian=0.5, lambda_guidance=1, lambda_rgb=1000, lambda_mask=500, lambda_normal=0, lambda_depth=0, lambda_2d_normal_smooth=0, lambda_3d_normal_smooth=10, save_guidance=False, save_guidance_interval=10, gui=False, W=800, H=800, radius=5, fovy=20, light_theta=60, light_phi=0, max_spp=1, zero123_config='./pretrained/zero123/sd-objaverse-finetune-c_concat-256.yaml', zero123_ckpt='pretrained/zero123/zero123-xl.ckpt', zero123_grad_scale='angle', dataset_size_train=100, dataset_size_valid=8, dataset_size_test=100, exp_start_iter=0, exp_end_iter=10000, images=['/notebooks/threestudio/load/images/werewolf_big_rgba.png'], ref_radii=[3.2], ref_polars=[90], ref_azimuths=[0], zero123_ws=[1], default_zero123_w=1)\n",
      "NeRFNetwork(\n",
      "  (encoder): GridEncoder: input_dim=3 num_levels=16 level_dim=2 resolution=16 -> 2048 per_level_scale=1.3819 params=(6098120, 2) gridtype=hash align_corners=False interpolation=smoothstep\n",
      "  (sigma_net): MLP(\n",
      "    (net): ModuleList(\n",
      "      (0): Linear(in_features=32, out_features=64, bias=True)\n",
      "      (1): Linear(in_features=64, out_features=64, bias=True)\n",
      "      (2): Linear(in_features=64, out_features=4, bias=True)\n",
      "    )\n",
      "  )\n",
      "  (encoder_bg): FreqEncoder: input_dim=3 degree=6 output_dim=39\n",
      "  (bg_net): MLP(\n",
      "    (net): ModuleList(\n",
      "      (0): Linear(in_features=39, out_features=32, bias=True)\n",
      "      (1): Linear(in_features=32, out_features=3, bias=True)\n",
      "    )\n",
      "  )\n",
      ")\n"
     ]
    },
    {
     "data": {
      "text/html": [
       "<pre style=\"white-space:pre;overflow-x:auto;line-height:normal;font-family:Menlo,'DejaVu Sans Mono',consolas,'Courier New',monospace\"><span style=\"font-weight: bold\">[</span>INFO<span style=\"font-weight: bold\">]</span> Cmdline: main.py -O --image <span style=\"color: #800080; text-decoration-color: #800080\">/notebooks/threestudio/load/images/</span><span style=\"color: #ff00ff; text-decoration-color: #ff00ff\">werewolf_big_rgba.png</span> --workspace \n",
       "werewolf_big_dmtet --dmtet --test --save_mesh\n",
       "</pre>\n"
      ],
      "text/plain": [
       "\u001b[1m[\u001b[0mINFO\u001b[1m]\u001b[0m Cmdline: main.py -O --image \u001b[35m/notebooks/threestudio/load/images/\u001b[0m\u001b[95mwerewolf_big_rgba.png\u001b[0m --workspace \n",
       "werewolf_big_dmtet --dmtet --test --save_mesh\n"
      ]
     },
     "metadata": {},
     "output_type": "display_data"
    },
    {
     "data": {
      "text/html": [
       "<pre style=\"white-space:pre;overflow-x:auto;line-height:normal;font-family:Menlo,'DejaVu Sans Mono',consolas,'Courier New',monospace\"><span style=\"font-weight: bold\">[</span>INFO<span style=\"font-weight: bold\">]</span> opt: <span style=\"color: #800080; text-decoration-color: #800080; font-weight: bold\">Namespace</span><span style=\"font-weight: bold\">(</span><span style=\"color: #808000; text-decoration-color: #808000\">file</span>=<span style=\"color: #800080; text-decoration-color: #800080; font-style: italic\">None</span>, <span style=\"color: #808000; text-decoration-color: #808000\">text</span>=<span style=\"color: #800080; text-decoration-color: #800080; font-style: italic\">None</span>, <span style=\"color: #808000; text-decoration-color: #808000\">negative</span>=<span style=\"color: #008000; text-decoration-color: #008000\">''</span>, <span style=\"color: #808000; text-decoration-color: #808000\">O</span>=<span style=\"color: #00ff00; text-decoration-color: #00ff00; font-style: italic\">True</span>, <span style=\"color: #808000; text-decoration-color: #808000\">O2</span>=<span style=\"color: #ff0000; text-decoration-color: #ff0000; font-style: italic\">False</span>, <span style=\"color: #808000; text-decoration-color: #808000\">test</span>=<span style=\"color: #00ff00; text-decoration-color: #00ff00; font-style: italic\">True</span>, <span style=\"color: #808000; text-decoration-color: #808000\">six_views</span>=<span style=\"color: #ff0000; text-decoration-color: #ff0000; font-style: italic\">False</span>, \n",
       "<span style=\"color: #808000; text-decoration-color: #808000\">eval_interval</span>=<span style=\"color: #008080; text-decoration-color: #008080; font-weight: bold\">1</span>, <span style=\"color: #808000; text-decoration-color: #808000\">test_interval</span>=<span style=\"color: #008080; text-decoration-color: #008080; font-weight: bold\">100</span>, <span style=\"color: #808000; text-decoration-color: #808000\">workspace</span>=<span style=\"color: #008000; text-decoration-color: #008000\">'werewolf_big_dmtet'</span>, <span style=\"color: #808000; text-decoration-color: #808000\">seed</span>=<span style=\"color: #800080; text-decoration-color: #800080; font-style: italic\">None</span>, \n",
       "<span style=\"color: #808000; text-decoration-color: #808000\">image</span>=<span style=\"color: #008000; text-decoration-color: #008000\">'/notebooks/threestudio/load/images/werewolf_big_rgba.png'</span>, <span style=\"color: #808000; text-decoration-color: #808000\">image_config</span>=<span style=\"color: #800080; text-decoration-color: #800080; font-style: italic\">None</span>, <span style=\"color: #808000; text-decoration-color: #808000\">known_view_interval</span>=<span style=\"color: #008080; text-decoration-color: #008080; font-weight: bold\">4</span>, \n",
       "<span style=\"color: #808000; text-decoration-color: #808000\">IF</span>=<span style=\"color: #ff0000; text-decoration-color: #ff0000; font-style: italic\">False</span>, <span style=\"color: #808000; text-decoration-color: #808000\">guidance</span>=<span style=\"font-weight: bold\">[</span><span style=\"color: #008000; text-decoration-color: #008000\">'zero123'</span><span style=\"font-weight: bold\">]</span>, <span style=\"color: #808000; text-decoration-color: #808000\">guidance_scale</span>=<span style=\"color: #008080; text-decoration-color: #008080; font-weight: bold\">5</span>, <span style=\"color: #808000; text-decoration-color: #808000\">save_mesh</span>=<span style=\"color: #00ff00; text-decoration-color: #00ff00; font-style: italic\">True</span>, <span style=\"color: #808000; text-decoration-color: #808000\">mcubes_resolution</span>=<span style=\"color: #008080; text-decoration-color: #008080; font-weight: bold\">256</span>, <span style=\"color: #808000; text-decoration-color: #808000\">decimate_target</span>=<span style=\"color: #008080; text-decoration-color: #008080; font-weight: bold\">50000.0</span>, \n",
       "<span style=\"color: #808000; text-decoration-color: #808000\">dmtet</span>=<span style=\"color: #00ff00; text-decoration-color: #00ff00; font-style: italic\">True</span>, <span style=\"color: #808000; text-decoration-color: #808000\">tet_grid_size</span>=<span style=\"color: #008080; text-decoration-color: #008080; font-weight: bold\">128</span>, <span style=\"color: #808000; text-decoration-color: #808000\">init_with</span>=<span style=\"color: #008000; text-decoration-color: #008000\">''</span>, <span style=\"color: #808000; text-decoration-color: #808000\">lock_geo</span>=<span style=\"color: #ff0000; text-decoration-color: #ff0000; font-style: italic\">False</span>, <span style=\"color: #808000; text-decoration-color: #808000\">perpneg</span>=<span style=\"color: #ff0000; text-decoration-color: #ff0000; font-style: italic\">False</span>, <span style=\"color: #808000; text-decoration-color: #808000\">negative_w</span>=<span style=\"color: #008080; text-decoration-color: #008080; font-weight: bold\">-2</span>, <span style=\"color: #808000; text-decoration-color: #808000\">front_decay_factor</span>=<span style=\"color: #008080; text-decoration-color: #008080; font-weight: bold\">2</span>, \n",
       "<span style=\"color: #808000; text-decoration-color: #808000\">side_decay_factor</span>=<span style=\"color: #008080; text-decoration-color: #008080; font-weight: bold\">10</span>, <span style=\"color: #808000; text-decoration-color: #808000\">iters</span>=<span style=\"color: #008080; text-decoration-color: #008080; font-weight: bold\">10000</span>, <span style=\"color: #808000; text-decoration-color: #808000\">lr</span>=<span style=\"color: #008080; text-decoration-color: #008080; font-weight: bold\">0.001</span>, <span style=\"color: #808000; text-decoration-color: #808000\">ckpt</span>=<span style=\"color: #008000; text-decoration-color: #008000\">'latest'</span>, <span style=\"color: #808000; text-decoration-color: #808000\">cuda_ray</span>=<span style=\"color: #00ff00; text-decoration-color: #00ff00; font-style: italic\">True</span>, <span style=\"color: #808000; text-decoration-color: #808000\">taichi_ray</span>=<span style=\"color: #ff0000; text-decoration-color: #ff0000; font-style: italic\">False</span>, <span style=\"color: #808000; text-decoration-color: #808000\">max_steps</span>=<span style=\"color: #008080; text-decoration-color: #008080; font-weight: bold\">1024</span>, \n",
       "<span style=\"color: #808000; text-decoration-color: #808000\">num_steps</span>=<span style=\"color: #008080; text-decoration-color: #008080; font-weight: bold\">64</span>, <span style=\"color: #808000; text-decoration-color: #808000\">upsample_steps</span>=<span style=\"color: #008080; text-decoration-color: #008080; font-weight: bold\">32</span>, <span style=\"color: #808000; text-decoration-color: #808000\">update_extra_interval</span>=<span style=\"color: #008080; text-decoration-color: #008080; font-weight: bold\">16</span>, <span style=\"color: #808000; text-decoration-color: #808000\">max_ray_batch</span>=<span style=\"color: #008080; text-decoration-color: #008080; font-weight: bold\">4096</span>, <span style=\"color: #808000; text-decoration-color: #808000\">latent_iter_ratio</span>=<span style=\"color: #008080; text-decoration-color: #008080; font-weight: bold\">0</span>, \n",
       "<span style=\"color: #808000; text-decoration-color: #808000\">albedo_iter_ratio</span>=<span style=\"color: #008080; text-decoration-color: #008080; font-weight: bold\">0</span>, <span style=\"color: #808000; text-decoration-color: #808000\">min_ambient_ratio</span>=<span style=\"color: #008080; text-decoration-color: #008080; font-weight: bold\">0.1</span>, <span style=\"color: #808000; text-decoration-color: #808000\">textureless_ratio</span>=<span style=\"color: #008080; text-decoration-color: #008080; font-weight: bold\">0.2</span>, <span style=\"color: #808000; text-decoration-color: #808000\">jitter_pose</span>=<span style=\"color: #ff0000; text-decoration-color: #ff0000; font-style: italic\">False</span>, <span style=\"color: #808000; text-decoration-color: #808000\">jitter_center</span>=<span style=\"color: #008080; text-decoration-color: #008080; font-weight: bold\">0.2</span>, \n",
       "<span style=\"color: #808000; text-decoration-color: #808000\">jitter_target</span>=<span style=\"color: #008080; text-decoration-color: #008080; font-weight: bold\">0.2</span>, <span style=\"color: #808000; text-decoration-color: #808000\">jitter_up</span>=<span style=\"color: #008080; text-decoration-color: #008080; font-weight: bold\">0.02</span>, <span style=\"color: #808000; text-decoration-color: #808000\">uniform_sphere_rate</span>=<span style=\"color: #008080; text-decoration-color: #008080; font-weight: bold\">0</span>, <span style=\"color: #808000; text-decoration-color: #808000\">grad_clip</span>=<span style=\"color: #008080; text-decoration-color: #008080; font-weight: bold\">-1</span>, <span style=\"color: #808000; text-decoration-color: #808000\">grad_clip_rgb</span>=<span style=\"color: #008080; text-decoration-color: #008080; font-weight: bold\">-1</span>, <span style=\"color: #808000; text-decoration-color: #808000\">bg_radius</span>=<span style=\"color: #008080; text-decoration-color: #008080; font-weight: bold\">1.4</span>, \n",
       "<span style=\"color: #808000; text-decoration-color: #808000\">density_activation</span>=<span style=\"color: #008000; text-decoration-color: #008000\">'exp'</span>, <span style=\"color: #808000; text-decoration-color: #808000\">density_thresh</span>=<span style=\"color: #008080; text-decoration-color: #008080; font-weight: bold\">10</span>, <span style=\"color: #808000; text-decoration-color: #808000\">blob_density</span>=<span style=\"color: #008080; text-decoration-color: #008080; font-weight: bold\">5</span>, <span style=\"color: #808000; text-decoration-color: #808000\">blob_radius</span>=<span style=\"color: #008080; text-decoration-color: #008080; font-weight: bold\">0.2</span>, <span style=\"color: #808000; text-decoration-color: #808000\">backbone</span>=<span style=\"color: #008000; text-decoration-color: #008000\">'grid'</span>, <span style=\"color: #808000; text-decoration-color: #808000\">optim</span>=<span style=\"color: #008000; text-decoration-color: #008000\">'adan'</span>, \n",
       "<span style=\"color: #808000; text-decoration-color: #808000\">sd_version</span>=<span style=\"color: #008000; text-decoration-color: #008000\">'2.1'</span>, <span style=\"color: #808000; text-decoration-color: #808000\">hf_key</span>=<span style=\"color: #800080; text-decoration-color: #800080; font-style: italic\">None</span>, <span style=\"color: #808000; text-decoration-color: #808000\">fp16</span>=<span style=\"color: #00ff00; text-decoration-color: #00ff00; font-style: italic\">True</span>, <span style=\"color: #808000; text-decoration-color: #808000\">vram_O</span>=<span style=\"color: #ff0000; text-decoration-color: #ff0000; font-style: italic\">False</span>, <span style=\"color: #808000; text-decoration-color: #808000\">w</span>=<span style=\"color: #008080; text-decoration-color: #008080; font-weight: bold\">512</span>, <span style=\"color: #808000; text-decoration-color: #808000\">h</span>=<span style=\"color: #008080; text-decoration-color: #008080; font-weight: bold\">512</span>, <span style=\"color: #808000; text-decoration-color: #808000\">known_view_scale</span>=<span style=\"color: #008080; text-decoration-color: #008080; font-weight: bold\">1</span>, \n",
       "<span style=\"color: #808000; text-decoration-color: #808000\">known_view_noise_scale</span>=<span style=\"color: #008080; text-decoration-color: #008080; font-weight: bold\">0.002</span>, <span style=\"color: #808000; text-decoration-color: #808000\">dmtet_reso_scale</span>=<span style=\"color: #008080; text-decoration-color: #008080; font-weight: bold\">8</span>, <span style=\"color: #808000; text-decoration-color: #808000\">batch_size</span>=<span style=\"color: #008080; text-decoration-color: #008080; font-weight: bold\">1</span>, <span style=\"color: #808000; text-decoration-color: #808000\">bound</span>=<span style=\"color: #008080; text-decoration-color: #008080; font-weight: bold\">1</span>, <span style=\"color: #808000; text-decoration-color: #808000\">dt_gamma</span>=<span style=\"color: #008080; text-decoration-color: #008080; font-weight: bold\">0</span>, <span style=\"color: #808000; text-decoration-color: #808000\">min_near</span>=<span style=\"color: #008080; text-decoration-color: #008080; font-weight: bold\">0.01</span>, \n",
       "<span style=\"color: #808000; text-decoration-color: #808000\">radius_range</span>=<span style=\"font-weight: bold\">[</span><span style=\"color: #008080; text-decoration-color: #008080; font-weight: bold\">3.0</span>, <span style=\"color: #008080; text-decoration-color: #008080; font-weight: bold\">3.5</span><span style=\"font-weight: bold\">]</span>, <span style=\"color: #808000; text-decoration-color: #808000\">theta_range</span>=<span style=\"font-weight: bold\">[</span><span style=\"color: #008080; text-decoration-color: #008080; font-weight: bold\">45</span>, <span style=\"color: #008080; text-decoration-color: #008080; font-weight: bold\">105</span><span style=\"font-weight: bold\">]</span>, <span style=\"color: #808000; text-decoration-color: #808000\">phi_range</span>=<span style=\"font-weight: bold\">[</span><span style=\"color: #008080; text-decoration-color: #008080; font-weight: bold\">-180</span>, <span style=\"color: #008080; text-decoration-color: #008080; font-weight: bold\">180</span><span style=\"font-weight: bold\">]</span>, <span style=\"color: #808000; text-decoration-color: #808000\">fovy_range</span>=<span style=\"font-weight: bold\">[</span><span style=\"color: #008080; text-decoration-color: #008080; font-weight: bold\">20</span>, <span style=\"color: #008080; text-decoration-color: #008080; font-weight: bold\">20</span><span style=\"font-weight: bold\">]</span>, <span style=\"color: #808000; text-decoration-color: #808000\">default_radius</span>=<span style=\"color: #008080; text-decoration-color: #008080; font-weight: bold\">3.2</span>, \n",
       "<span style=\"color: #808000; text-decoration-color: #808000\">default_polar</span>=<span style=\"color: #008080; text-decoration-color: #008080; font-weight: bold\">90</span>, <span style=\"color: #808000; text-decoration-color: #808000\">default_azimuth</span>=<span style=\"color: #008080; text-decoration-color: #008080; font-weight: bold\">0</span>, <span style=\"color: #808000; text-decoration-color: #808000\">default_fovy</span>=<span style=\"color: #008080; text-decoration-color: #008080; font-weight: bold\">20</span>, <span style=\"color: #808000; text-decoration-color: #808000\">progressive_view</span>=<span style=\"color: #ff0000; text-decoration-color: #ff0000; font-style: italic\">False</span>, <span style=\"color: #808000; text-decoration-color: #808000\">progressive_view_init_ratio</span>=<span style=\"color: #008080; text-decoration-color: #008080; font-weight: bold\">0.2</span>, \n",
       "<span style=\"color: #808000; text-decoration-color: #808000\">progressive_level</span>=<span style=\"color: #00ff00; text-decoration-color: #00ff00; font-style: italic\">True</span>, <span style=\"color: #808000; text-decoration-color: #808000\">angle_overhead</span>=<span style=\"color: #008080; text-decoration-color: #008080; font-weight: bold\">30</span>, <span style=\"color: #808000; text-decoration-color: #808000\">angle_front</span>=<span style=\"color: #008080; text-decoration-color: #008080; font-weight: bold\">60</span>, <span style=\"color: #808000; text-decoration-color: #808000\">t_range</span>=<span style=\"font-weight: bold\">[</span><span style=\"color: #008080; text-decoration-color: #008080; font-weight: bold\">0.02</span>, <span style=\"color: #008080; text-decoration-color: #008080; font-weight: bold\">0.5</span><span style=\"font-weight: bold\">]</span>, <span style=\"color: #808000; text-decoration-color: #808000\">dont_override_stuff</span>=<span style=\"color: #ff0000; text-decoration-color: #ff0000; font-style: italic\">False</span>, \n",
       "<span style=\"color: #808000; text-decoration-color: #808000\">lambda_entropy</span>=<span style=\"color: #008080; text-decoration-color: #008080; font-weight: bold\">1</span>, <span style=\"color: #808000; text-decoration-color: #808000\">lambda_opacity</span>=<span style=\"color: #008080; text-decoration-color: #008080; font-weight: bold\">0</span>, <span style=\"color: #808000; text-decoration-color: #808000\">lambda_orient</span>=<span style=\"color: #008080; text-decoration-color: #008080; font-weight: bold\">1</span>, <span style=\"color: #808000; text-decoration-color: #808000\">lambda_tv</span>=<span style=\"color: #008080; text-decoration-color: #008080; font-weight: bold\">0</span>, <span style=\"color: #808000; text-decoration-color: #808000\">lambda_wd</span>=<span style=\"color: #008080; text-decoration-color: #008080; font-weight: bold\">0</span>, <span style=\"color: #808000; text-decoration-color: #808000\">lambda_mesh_normal</span>=<span style=\"color: #008080; text-decoration-color: #008080; font-weight: bold\">0.5</span>, \n",
       "<span style=\"color: #808000; text-decoration-color: #808000\">lambda_mesh_laplacian</span>=<span style=\"color: #008080; text-decoration-color: #008080; font-weight: bold\">0.5</span>, <span style=\"color: #808000; text-decoration-color: #808000\">lambda_guidance</span>=<span style=\"color: #008080; text-decoration-color: #008080; font-weight: bold\">1</span>, <span style=\"color: #808000; text-decoration-color: #808000\">lambda_rgb</span>=<span style=\"color: #008080; text-decoration-color: #008080; font-weight: bold\">1000</span>, <span style=\"color: #808000; text-decoration-color: #808000\">lambda_mask</span>=<span style=\"color: #008080; text-decoration-color: #008080; font-weight: bold\">500</span>, <span style=\"color: #808000; text-decoration-color: #808000\">lambda_normal</span>=<span style=\"color: #008080; text-decoration-color: #008080; font-weight: bold\">0</span>, <span style=\"color: #808000; text-decoration-color: #808000\">lambda_depth</span>=<span style=\"color: #008080; text-decoration-color: #008080; font-weight: bold\">0</span>, \n",
       "<span style=\"color: #808000; text-decoration-color: #808000\">lambda_2d_normal_smooth</span>=<span style=\"color: #008080; text-decoration-color: #008080; font-weight: bold\">0</span>, <span style=\"color: #808000; text-decoration-color: #808000\">lambda_3d_normal_smooth</span>=<span style=\"color: #008080; text-decoration-color: #008080; font-weight: bold\">10</span>, <span style=\"color: #808000; text-decoration-color: #808000\">save_guidance</span>=<span style=\"color: #ff0000; text-decoration-color: #ff0000; font-style: italic\">False</span>, <span style=\"color: #808000; text-decoration-color: #808000\">save_guidance_interval</span>=<span style=\"color: #008080; text-decoration-color: #008080; font-weight: bold\">10</span>, <span style=\"color: #808000; text-decoration-color: #808000\">gui</span>=<span style=\"color: #ff0000; text-decoration-color: #ff0000; font-style: italic\">False</span>, \n",
       "<span style=\"color: #808000; text-decoration-color: #808000\">W</span>=<span style=\"color: #008080; text-decoration-color: #008080; font-weight: bold\">800</span>, <span style=\"color: #808000; text-decoration-color: #808000\">H</span>=<span style=\"color: #008080; text-decoration-color: #008080; font-weight: bold\">800</span>, <span style=\"color: #808000; text-decoration-color: #808000\">radius</span>=<span style=\"color: #008080; text-decoration-color: #008080; font-weight: bold\">5</span>, <span style=\"color: #808000; text-decoration-color: #808000\">fovy</span>=<span style=\"color: #008080; text-decoration-color: #008080; font-weight: bold\">20</span>, <span style=\"color: #808000; text-decoration-color: #808000\">light_theta</span>=<span style=\"color: #008080; text-decoration-color: #008080; font-weight: bold\">60</span>, <span style=\"color: #808000; text-decoration-color: #808000\">light_phi</span>=<span style=\"color: #008080; text-decoration-color: #008080; font-weight: bold\">0</span>, <span style=\"color: #808000; text-decoration-color: #808000\">max_spp</span>=<span style=\"color: #008080; text-decoration-color: #008080; font-weight: bold\">1</span>, \n",
       "<span style=\"color: #808000; text-decoration-color: #808000\">zero123_config</span>=<span style=\"color: #008000; text-decoration-color: #008000\">'./pretrained/zero123/sd-objaverse-finetune-c_concat-256.yaml'</span>, \n",
       "<span style=\"color: #808000; text-decoration-color: #808000\">zero123_ckpt</span>=<span style=\"color: #008000; text-decoration-color: #008000\">'pretrained/zero123/zero123-xl.ckpt'</span>, <span style=\"color: #808000; text-decoration-color: #808000\">zero123_grad_scale</span>=<span style=\"color: #008000; text-decoration-color: #008000\">'angle'</span>, <span style=\"color: #808000; text-decoration-color: #808000\">dataset_size_train</span>=<span style=\"color: #008080; text-decoration-color: #008080; font-weight: bold\">100</span>, \n",
       "<span style=\"color: #808000; text-decoration-color: #808000\">dataset_size_valid</span>=<span style=\"color: #008080; text-decoration-color: #008080; font-weight: bold\">8</span>, <span style=\"color: #808000; text-decoration-color: #808000\">dataset_size_test</span>=<span style=\"color: #008080; text-decoration-color: #008080; font-weight: bold\">100</span>, <span style=\"color: #808000; text-decoration-color: #808000\">exp_start_iter</span>=<span style=\"color: #008080; text-decoration-color: #008080; font-weight: bold\">0</span>, <span style=\"color: #808000; text-decoration-color: #808000\">exp_end_iter</span>=<span style=\"color: #008080; text-decoration-color: #008080; font-weight: bold\">10000</span>, \n",
       "<span style=\"color: #808000; text-decoration-color: #808000\">images</span>=<span style=\"font-weight: bold\">[</span><span style=\"color: #008000; text-decoration-color: #008000\">'/notebooks/threestudio/load/images/werewolf_big_rgba.png'</span><span style=\"font-weight: bold\">]</span>, <span style=\"color: #808000; text-decoration-color: #808000\">ref_radii</span>=<span style=\"font-weight: bold\">[</span><span style=\"color: #008080; text-decoration-color: #008080; font-weight: bold\">3.2</span><span style=\"font-weight: bold\">]</span>, <span style=\"color: #808000; text-decoration-color: #808000\">ref_polars</span>=<span style=\"font-weight: bold\">[</span><span style=\"color: #008080; text-decoration-color: #008080; font-weight: bold\">90</span><span style=\"font-weight: bold\">]</span>, \n",
       "<span style=\"color: #808000; text-decoration-color: #808000\">ref_azimuths</span>=<span style=\"font-weight: bold\">[</span><span style=\"color: #008080; text-decoration-color: #008080; font-weight: bold\">0</span><span style=\"font-weight: bold\">]</span>, <span style=\"color: #808000; text-decoration-color: #808000\">zero123_ws</span>=<span style=\"font-weight: bold\">[</span><span style=\"color: #008080; text-decoration-color: #008080; font-weight: bold\">1</span><span style=\"font-weight: bold\">]</span>, <span style=\"color: #808000; text-decoration-color: #808000\">default_zero123_w</span>=<span style=\"color: #008080; text-decoration-color: #008080; font-weight: bold\">1</span><span style=\"font-weight: bold\">)</span>\n",
       "</pre>\n"
      ],
      "text/plain": [
       "\u001b[1m[\u001b[0mINFO\u001b[1m]\u001b[0m opt: \u001b[1;35mNamespace\u001b[0m\u001b[1m(\u001b[0m\u001b[33mfile\u001b[0m=\u001b[3;35mNone\u001b[0m, \u001b[33mtext\u001b[0m=\u001b[3;35mNone\u001b[0m, \u001b[33mnegative\u001b[0m=\u001b[32m''\u001b[0m, \u001b[33mO\u001b[0m=\u001b[3;92mTrue\u001b[0m, \u001b[33mO2\u001b[0m=\u001b[3;91mFalse\u001b[0m, \u001b[33mtest\u001b[0m=\u001b[3;92mTrue\u001b[0m, \u001b[33msix_views\u001b[0m=\u001b[3;91mFalse\u001b[0m, \n",
       "\u001b[33meval_interval\u001b[0m=\u001b[1;36m1\u001b[0m, \u001b[33mtest_interval\u001b[0m=\u001b[1;36m100\u001b[0m, \u001b[33mworkspace\u001b[0m=\u001b[32m'werewolf_big_dmtet'\u001b[0m, \u001b[33mseed\u001b[0m=\u001b[3;35mNone\u001b[0m, \n",
       "\u001b[33mimage\u001b[0m=\u001b[32m'/notebooks/threestudio/load/images/werewolf_big_rgba.png'\u001b[0m, \u001b[33mimage_config\u001b[0m=\u001b[3;35mNone\u001b[0m, \u001b[33mknown_view_interval\u001b[0m=\u001b[1;36m4\u001b[0m, \n",
       "\u001b[33mIF\u001b[0m=\u001b[3;91mFalse\u001b[0m, \u001b[33mguidance\u001b[0m=\u001b[1m[\u001b[0m\u001b[32m'zero123'\u001b[0m\u001b[1m]\u001b[0m, \u001b[33mguidance_scale\u001b[0m=\u001b[1;36m5\u001b[0m, \u001b[33msave_mesh\u001b[0m=\u001b[3;92mTrue\u001b[0m, \u001b[33mmcubes_resolution\u001b[0m=\u001b[1;36m256\u001b[0m, \u001b[33mdecimate_target\u001b[0m=\u001b[1;36m50000\u001b[0m\u001b[1;36m.0\u001b[0m, \n",
       "\u001b[33mdmtet\u001b[0m=\u001b[3;92mTrue\u001b[0m, \u001b[33mtet_grid_size\u001b[0m=\u001b[1;36m128\u001b[0m, \u001b[33minit_with\u001b[0m=\u001b[32m''\u001b[0m, \u001b[33mlock_geo\u001b[0m=\u001b[3;91mFalse\u001b[0m, \u001b[33mperpneg\u001b[0m=\u001b[3;91mFalse\u001b[0m, \u001b[33mnegative_w\u001b[0m=\u001b[1;36m-2\u001b[0m, \u001b[33mfront_decay_factor\u001b[0m=\u001b[1;36m2\u001b[0m, \n",
       "\u001b[33mside_decay_factor\u001b[0m=\u001b[1;36m10\u001b[0m, \u001b[33miters\u001b[0m=\u001b[1;36m10000\u001b[0m, \u001b[33mlr\u001b[0m=\u001b[1;36m0\u001b[0m\u001b[1;36m.001\u001b[0m, \u001b[33mckpt\u001b[0m=\u001b[32m'latest'\u001b[0m, \u001b[33mcuda_ray\u001b[0m=\u001b[3;92mTrue\u001b[0m, \u001b[33mtaichi_ray\u001b[0m=\u001b[3;91mFalse\u001b[0m, \u001b[33mmax_steps\u001b[0m=\u001b[1;36m1024\u001b[0m, \n",
       "\u001b[33mnum_steps\u001b[0m=\u001b[1;36m64\u001b[0m, \u001b[33mupsample_steps\u001b[0m=\u001b[1;36m32\u001b[0m, \u001b[33mupdate_extra_interval\u001b[0m=\u001b[1;36m16\u001b[0m, \u001b[33mmax_ray_batch\u001b[0m=\u001b[1;36m4096\u001b[0m, \u001b[33mlatent_iter_ratio\u001b[0m=\u001b[1;36m0\u001b[0m, \n",
       "\u001b[33malbedo_iter_ratio\u001b[0m=\u001b[1;36m0\u001b[0m, \u001b[33mmin_ambient_ratio\u001b[0m=\u001b[1;36m0\u001b[0m\u001b[1;36m.1\u001b[0m, \u001b[33mtextureless_ratio\u001b[0m=\u001b[1;36m0\u001b[0m\u001b[1;36m.2\u001b[0m, \u001b[33mjitter_pose\u001b[0m=\u001b[3;91mFalse\u001b[0m, \u001b[33mjitter_center\u001b[0m=\u001b[1;36m0\u001b[0m\u001b[1;36m.2\u001b[0m, \n",
       "\u001b[33mjitter_target\u001b[0m=\u001b[1;36m0\u001b[0m\u001b[1;36m.2\u001b[0m, \u001b[33mjitter_up\u001b[0m=\u001b[1;36m0\u001b[0m\u001b[1;36m.02\u001b[0m, \u001b[33muniform_sphere_rate\u001b[0m=\u001b[1;36m0\u001b[0m, \u001b[33mgrad_clip\u001b[0m=\u001b[1;36m-1\u001b[0m, \u001b[33mgrad_clip_rgb\u001b[0m=\u001b[1;36m-1\u001b[0m, \u001b[33mbg_radius\u001b[0m=\u001b[1;36m1\u001b[0m\u001b[1;36m.4\u001b[0m, \n",
       "\u001b[33mdensity_activation\u001b[0m=\u001b[32m'exp'\u001b[0m, \u001b[33mdensity_thresh\u001b[0m=\u001b[1;36m10\u001b[0m, \u001b[33mblob_density\u001b[0m=\u001b[1;36m5\u001b[0m, \u001b[33mblob_radius\u001b[0m=\u001b[1;36m0\u001b[0m\u001b[1;36m.2\u001b[0m, \u001b[33mbackbone\u001b[0m=\u001b[32m'grid'\u001b[0m, \u001b[33moptim\u001b[0m=\u001b[32m'adan'\u001b[0m, \n",
       "\u001b[33msd_version\u001b[0m=\u001b[32m'2.1'\u001b[0m, \u001b[33mhf_key\u001b[0m=\u001b[3;35mNone\u001b[0m, \u001b[33mfp16\u001b[0m=\u001b[3;92mTrue\u001b[0m, \u001b[33mvram_O\u001b[0m=\u001b[3;91mFalse\u001b[0m, \u001b[33mw\u001b[0m=\u001b[1;36m512\u001b[0m, \u001b[33mh\u001b[0m=\u001b[1;36m512\u001b[0m, \u001b[33mknown_view_scale\u001b[0m=\u001b[1;36m1\u001b[0m, \n",
       "\u001b[33mknown_view_noise_scale\u001b[0m=\u001b[1;36m0\u001b[0m\u001b[1;36m.002\u001b[0m, \u001b[33mdmtet_reso_scale\u001b[0m=\u001b[1;36m8\u001b[0m, \u001b[33mbatch_size\u001b[0m=\u001b[1;36m1\u001b[0m, \u001b[33mbound\u001b[0m=\u001b[1;36m1\u001b[0m, \u001b[33mdt_gamma\u001b[0m=\u001b[1;36m0\u001b[0m, \u001b[33mmin_near\u001b[0m=\u001b[1;36m0\u001b[0m\u001b[1;36m.01\u001b[0m, \n",
       "\u001b[33mradius_range\u001b[0m=\u001b[1m[\u001b[0m\u001b[1;36m3.0\u001b[0m, \u001b[1;36m3.5\u001b[0m\u001b[1m]\u001b[0m, \u001b[33mtheta_range\u001b[0m=\u001b[1m[\u001b[0m\u001b[1;36m45\u001b[0m, \u001b[1;36m105\u001b[0m\u001b[1m]\u001b[0m, \u001b[33mphi_range\u001b[0m=\u001b[1m[\u001b[0m\u001b[1;36m-180\u001b[0m, \u001b[1;36m180\u001b[0m\u001b[1m]\u001b[0m, \u001b[33mfovy_range\u001b[0m=\u001b[1m[\u001b[0m\u001b[1;36m20\u001b[0m, \u001b[1;36m20\u001b[0m\u001b[1m]\u001b[0m, \u001b[33mdefault_radius\u001b[0m=\u001b[1;36m3\u001b[0m\u001b[1;36m.2\u001b[0m, \n",
       "\u001b[33mdefault_polar\u001b[0m=\u001b[1;36m90\u001b[0m, \u001b[33mdefault_azimuth\u001b[0m=\u001b[1;36m0\u001b[0m, \u001b[33mdefault_fovy\u001b[0m=\u001b[1;36m20\u001b[0m, \u001b[33mprogressive_view\u001b[0m=\u001b[3;91mFalse\u001b[0m, \u001b[33mprogressive_view_init_ratio\u001b[0m=\u001b[1;36m0\u001b[0m\u001b[1;36m.2\u001b[0m, \n",
       "\u001b[33mprogressive_level\u001b[0m=\u001b[3;92mTrue\u001b[0m, \u001b[33mangle_overhead\u001b[0m=\u001b[1;36m30\u001b[0m, \u001b[33mangle_front\u001b[0m=\u001b[1;36m60\u001b[0m, \u001b[33mt_range\u001b[0m=\u001b[1m[\u001b[0m\u001b[1;36m0.02\u001b[0m, \u001b[1;36m0.5\u001b[0m\u001b[1m]\u001b[0m, \u001b[33mdont_override_stuff\u001b[0m=\u001b[3;91mFalse\u001b[0m, \n",
       "\u001b[33mlambda_entropy\u001b[0m=\u001b[1;36m1\u001b[0m, \u001b[33mlambda_opacity\u001b[0m=\u001b[1;36m0\u001b[0m, \u001b[33mlambda_orient\u001b[0m=\u001b[1;36m1\u001b[0m, \u001b[33mlambda_tv\u001b[0m=\u001b[1;36m0\u001b[0m, \u001b[33mlambda_wd\u001b[0m=\u001b[1;36m0\u001b[0m, \u001b[33mlambda_mesh_normal\u001b[0m=\u001b[1;36m0\u001b[0m\u001b[1;36m.5\u001b[0m, \n",
       "\u001b[33mlambda_mesh_laplacian\u001b[0m=\u001b[1;36m0\u001b[0m\u001b[1;36m.5\u001b[0m, \u001b[33mlambda_guidance\u001b[0m=\u001b[1;36m1\u001b[0m, \u001b[33mlambda_rgb\u001b[0m=\u001b[1;36m1000\u001b[0m, \u001b[33mlambda_mask\u001b[0m=\u001b[1;36m500\u001b[0m, \u001b[33mlambda_normal\u001b[0m=\u001b[1;36m0\u001b[0m, \u001b[33mlambda_depth\u001b[0m=\u001b[1;36m0\u001b[0m, \n",
       "\u001b[33mlambda_2d_normal_smooth\u001b[0m=\u001b[1;36m0\u001b[0m, \u001b[33mlambda_3d_normal_smooth\u001b[0m=\u001b[1;36m10\u001b[0m, \u001b[33msave_guidance\u001b[0m=\u001b[3;91mFalse\u001b[0m, \u001b[33msave_guidance_interval\u001b[0m=\u001b[1;36m10\u001b[0m, \u001b[33mgui\u001b[0m=\u001b[3;91mFalse\u001b[0m, \n",
       "\u001b[33mW\u001b[0m=\u001b[1;36m800\u001b[0m, \u001b[33mH\u001b[0m=\u001b[1;36m800\u001b[0m, \u001b[33mradius\u001b[0m=\u001b[1;36m5\u001b[0m, \u001b[33mfovy\u001b[0m=\u001b[1;36m20\u001b[0m, \u001b[33mlight_theta\u001b[0m=\u001b[1;36m60\u001b[0m, \u001b[33mlight_phi\u001b[0m=\u001b[1;36m0\u001b[0m, \u001b[33mmax_spp\u001b[0m=\u001b[1;36m1\u001b[0m, \n",
       "\u001b[33mzero123_config\u001b[0m=\u001b[32m'./pretrained/zero123/sd-objaverse-finetune-c_concat-256.yaml'\u001b[0m, \n",
       "\u001b[33mzero123_ckpt\u001b[0m=\u001b[32m'pretrained/zero123/zero123-xl.ckpt'\u001b[0m, \u001b[33mzero123_grad_scale\u001b[0m=\u001b[32m'angle'\u001b[0m, \u001b[33mdataset_size_train\u001b[0m=\u001b[1;36m100\u001b[0m, \n",
       "\u001b[33mdataset_size_valid\u001b[0m=\u001b[1;36m8\u001b[0m, \u001b[33mdataset_size_test\u001b[0m=\u001b[1;36m100\u001b[0m, \u001b[33mexp_start_iter\u001b[0m=\u001b[1;36m0\u001b[0m, \u001b[33mexp_end_iter\u001b[0m=\u001b[1;36m10000\u001b[0m, \n",
       "\u001b[33mimages\u001b[0m=\u001b[1m[\u001b[0m\u001b[32m'/notebooks/threestudio/load/images/werewolf_big_rgba.png'\u001b[0m\u001b[1m]\u001b[0m, \u001b[33mref_radii\u001b[0m=\u001b[1m[\u001b[0m\u001b[1;36m3.2\u001b[0m\u001b[1m]\u001b[0m, \u001b[33mref_polars\u001b[0m=\u001b[1m[\u001b[0m\u001b[1;36m90\u001b[0m\u001b[1m]\u001b[0m, \n",
       "\u001b[33mref_azimuths\u001b[0m=\u001b[1m[\u001b[0m\u001b[1;36m0\u001b[0m\u001b[1m]\u001b[0m, \u001b[33mzero123_ws\u001b[0m=\u001b[1m[\u001b[0m\u001b[1;36m1\u001b[0m\u001b[1m]\u001b[0m, \u001b[33mdefault_zero123_w\u001b[0m=\u001b[1;36m1\u001b[0m\u001b[1m)\u001b[0m\n"
      ]
     },
     "metadata": {},
     "output_type": "display_data"
    },
    {
     "data": {
      "text/html": [
       "<pre style=\"white-space:pre;overflow-x:auto;line-height:normal;font-family:Menlo,'DejaVu Sans Mono',consolas,'Courier New',monospace\"><span style=\"font-weight: bold\">[</span>INFO<span style=\"font-weight: bold\">]</span> Trainer: df | <span style=\"color: #008080; text-decoration-color: #008080; font-weight: bold\">2023</span>-<span style=\"color: #008080; text-decoration-color: #008080; font-weight: bold\">09</span>-11_09-<span style=\"color: #008080; text-decoration-color: #008080; font-weight: bold\">45</span>-<span style=\"color: #008080; text-decoration-color: #008080; font-weight: bold\">20</span> | cuda | fp16 | werewolf_big_dmtet\n",
       "</pre>\n"
      ],
      "text/plain": [
       "\u001b[1m[\u001b[0mINFO\u001b[1m]\u001b[0m Trainer: df | \u001b[1;36m2023\u001b[0m-\u001b[1;36m09\u001b[0m-11_09-\u001b[1;36m45\u001b[0m-\u001b[1;36m20\u001b[0m | cuda | fp16 | werewolf_big_dmtet\n"
      ]
     },
     "metadata": {},
     "output_type": "display_data"
    },
    {
     "data": {
      "text/html": [
       "<pre style=\"white-space:pre;overflow-x:auto;line-height:normal;font-family:Menlo,'DejaVu Sans Mono',consolas,'Courier New',monospace\"><span style=\"font-weight: bold\">[</span>INFO<span style=\"font-weight: bold\">]</span> #parameters: <span style=\"color: #008080; text-decoration-color: #008080; font-weight: bold\">13313791</span>\n",
       "</pre>\n"
      ],
      "text/plain": [
       "\u001b[1m[\u001b[0mINFO\u001b[1m]\u001b[0m #parameters: \u001b[1;36m13313791\u001b[0m\n"
      ]
     },
     "metadata": {},
     "output_type": "display_data"
    },
    {
     "data": {
      "text/html": [
       "<pre style=\"white-space:pre;overflow-x:auto;line-height:normal;font-family:Menlo,'DejaVu Sans Mono',consolas,'Courier New',monospace\"><span style=\"font-weight: bold\">[</span>INFO<span style=\"font-weight: bold\">]</span> Loading latest checkpoint <span style=\"color: #808000; text-decoration-color: #808000\">...</span>\n",
       "</pre>\n"
      ],
      "text/plain": [
       "\u001b[1m[\u001b[0mINFO\u001b[1m]\u001b[0m Loading latest checkpoint \u001b[33m...\u001b[0m\n"
      ]
     },
     "metadata": {},
     "output_type": "display_data"
    },
    {
     "data": {
      "text/html": [
       "<pre style=\"white-space:pre;overflow-x:auto;line-height:normal;font-family:Menlo,'DejaVu Sans Mono',consolas,'Courier New',monospace\"><span style=\"font-weight: bold\">[</span>WARN<span style=\"font-weight: bold\">]</span> No checkpoint found, model randomly initialized.\n",
       "</pre>\n"
      ],
      "text/plain": [
       "\u001b[1m[\u001b[0mWARN\u001b[1m]\u001b[0m No checkpoint found, model randomly initialized.\n"
      ]
     },
     "metadata": {},
     "output_type": "display_data"
    },
    {
     "data": {
      "text/html": [
       "<pre style=\"white-space:pre;overflow-x:auto;line-height:normal;font-family:Menlo,'DejaVu Sans Mono',consolas,'Courier New',monospace\">==&gt; Start Test, save results to werewolf_big_dmtet/results\n",
       "</pre>\n"
      ],
      "text/plain": [
       "==> Start Test, save results to werewolf_big_dmtet/results\n"
      ]
     },
     "metadata": {},
     "output_type": "display_data"
    },
    {
     "name": "stderr",
     "output_type": "stream",
     "text": [
      "  0% 0/100 [00:00<?, ?it/s]"
     ]
    },
    {
     "ename": "RuntimeError",
     "evalue": "instance mode - pos must have shape [>0, >0, 4]",
     "output_type": "error",
     "traceback": [
      "\u001b[0;31m---------------------------------------------------------------------------\u001b[0m",
      "\u001b[0;31mRuntimeError\u001b[0m                              Traceback (most recent call last)",
      "File \u001b[0;32m/notebooks/stable-dreamfusion/main.py:356\u001b[0m\n\u001b[1;32m    354\u001b[0m \u001b[39melse\u001b[39;00m:\n\u001b[1;32m    355\u001b[0m     test_loader \u001b[39m=\u001b[39m NeRFDataset(opt, device\u001b[39m=\u001b[39mdevice, \u001b[39mtype\u001b[39m\u001b[39m=\u001b[39m\u001b[39m'\u001b[39m\u001b[39mtest\u001b[39m\u001b[39m'\u001b[39m, H\u001b[39m=\u001b[39mopt\u001b[39m.\u001b[39mH, W\u001b[39m=\u001b[39mopt\u001b[39m.\u001b[39mW, size\u001b[39m=\u001b[39mopt\u001b[39m.\u001b[39mdataset_size_test)\u001b[39m.\u001b[39mdataloader(batch_size\u001b[39m=\u001b[39m\u001b[39m1\u001b[39m)\n\u001b[0;32m--> 356\u001b[0m     trainer\u001b[39m.\u001b[39;49mtest(test_loader)\n\u001b[1;32m    358\u001b[0m     \u001b[39mif\u001b[39;00m opt\u001b[39m.\u001b[39msave_mesh:\n\u001b[1;32m    359\u001b[0m         trainer\u001b[39m.\u001b[39msave_mesh()\n",
      "File \u001b[0;32m/notebooks/stable-dreamfusion/nerf/utils.py:862\u001b[0m, in \u001b[0;36mTrainer.test\u001b[0;34m(self, loader, save_path, name, write_video)\u001b[0m\n\u001b[1;32m    859\u001b[0m \u001b[39mfor\u001b[39;00m i, data \u001b[39min\u001b[39;00m \u001b[39menumerate\u001b[39m(loader):\n\u001b[1;32m    861\u001b[0m     \u001b[39mwith\u001b[39;00m torch\u001b[39m.\u001b[39mcuda\u001b[39m.\u001b[39mamp\u001b[39m.\u001b[39mautocast(enabled\u001b[39m=\u001b[39m\u001b[39mself\u001b[39m\u001b[39m.\u001b[39mfp16):\n\u001b[0;32m--> 862\u001b[0m         preds, preds_depth, _ \u001b[39m=\u001b[39m \u001b[39mself\u001b[39;49m\u001b[39m.\u001b[39;49mtest_step(data)\n\u001b[1;32m    864\u001b[0m     pred \u001b[39m=\u001b[39m preds[\u001b[39m0\u001b[39m]\u001b[39m.\u001b[39mdetach()\u001b[39m.\u001b[39mcpu()\u001b[39m.\u001b[39mnumpy()\n\u001b[1;32m    865\u001b[0m     pred \u001b[39m=\u001b[39m (pred \u001b[39m*\u001b[39m \u001b[39m255\u001b[39m)\u001b[39m.\u001b[39mastype(np\u001b[39m.\u001b[39muint8)\n",
      "File \u001b[0;32m/notebooks/stable-dreamfusion/nerf/utils.py:780\u001b[0m, in \u001b[0;36mTrainer.test_step\u001b[0;34m(self, data, bg_color, perturb)\u001b[0m\n\u001b[1;32m    777\u001b[0m ambient_ratio \u001b[39m=\u001b[39m data[\u001b[39m'\u001b[39m\u001b[39mambient_ratio\u001b[39m\u001b[39m'\u001b[39m] \u001b[39mif\u001b[39;00m \u001b[39m'\u001b[39m\u001b[39mambient_ratio\u001b[39m\u001b[39m'\u001b[39m \u001b[39min\u001b[39;00m data \u001b[39melse\u001b[39;00m \u001b[39m1.0\u001b[39m\n\u001b[1;32m    778\u001b[0m light_d \u001b[39m=\u001b[39m data[\u001b[39m'\u001b[39m\u001b[39mlight_d\u001b[39m\u001b[39m'\u001b[39m] \u001b[39mif\u001b[39;00m \u001b[39m'\u001b[39m\u001b[39mlight_d\u001b[39m\u001b[39m'\u001b[39m \u001b[39min\u001b[39;00m data \u001b[39melse\u001b[39;00m \u001b[39mNone\u001b[39;00m\n\u001b[0;32m--> 780\u001b[0m outputs \u001b[39m=\u001b[39m \u001b[39mself\u001b[39;49m\u001b[39m.\u001b[39;49mmodel\u001b[39m.\u001b[39;49mrender(rays_o, rays_d, mvp, H, W, staged\u001b[39m=\u001b[39;49m\u001b[39mTrue\u001b[39;49;00m, perturb\u001b[39m=\u001b[39;49mperturb, light_d\u001b[39m=\u001b[39;49mlight_d, ambient_ratio\u001b[39m=\u001b[39;49mambient_ratio, shading\u001b[39m=\u001b[39;49mshading, bg_color\u001b[39m=\u001b[39;49mbg_color)\n\u001b[1;32m    782\u001b[0m pred_rgb \u001b[39m=\u001b[39m outputs[\u001b[39m'\u001b[39m\u001b[39mimage\u001b[39m\u001b[39m'\u001b[39m]\u001b[39m.\u001b[39mreshape(B, H, W, \u001b[39m3\u001b[39m)\n\u001b[1;32m    783\u001b[0m pred_depth \u001b[39m=\u001b[39m outputs[\u001b[39m'\u001b[39m\u001b[39mdepth\u001b[39m\u001b[39m'\u001b[39m]\u001b[39m.\u001b[39mreshape(B, H, W)\n",
      "File \u001b[0;32m/notebooks/stable-dreamfusion/nerf/renderer.py:1161\u001b[0m, in \u001b[0;36mNeRFRenderer.render\u001b[0;34m(self, rays_o, rays_d, mvp, h, w, staged, max_ray_batch, **kwargs)\u001b[0m\n\u001b[1;32m   1158\u001b[0m device \u001b[39m=\u001b[39m rays_o\u001b[39m.\u001b[39mdevice\n\u001b[1;32m   1160\u001b[0m \u001b[39mif\u001b[39;00m \u001b[39mself\u001b[39m\u001b[39m.\u001b[39mdmtet:\n\u001b[0;32m-> 1161\u001b[0m     results \u001b[39m=\u001b[39m \u001b[39mself\u001b[39;49m\u001b[39m.\u001b[39;49mrun_dmtet(rays_o, rays_d, mvp, h, w, \u001b[39m*\u001b[39;49m\u001b[39m*\u001b[39;49mkwargs)\n\u001b[1;32m   1162\u001b[0m \u001b[39melif\u001b[39;00m \u001b[39mself\u001b[39m\u001b[39m.\u001b[39mcuda_ray:\n\u001b[1;32m   1163\u001b[0m     results \u001b[39m=\u001b[39m \u001b[39mself\u001b[39m\u001b[39m.\u001b[39mrun_cuda(rays_o, rays_d, \u001b[39m*\u001b[39m\u001b[39m*\u001b[39mkwargs)\n",
      "File \u001b[0;32m/notebooks/stable-dreamfusion/nerf/renderer.py:900\u001b[0m, in \u001b[0;36mNeRFRenderer.run_dmtet\u001b[0;34m(self, rays_o, rays_d, mvp, h, w, light_d, ambient_ratio, shading, bg_color, **kwargs)\u001b[0m\n\u001b[1;32m    897\u001b[0m \u001b[39m# rasterization\u001b[39;00m\n\u001b[1;32m    898\u001b[0m verts_clip \u001b[39m=\u001b[39m torch\u001b[39m.\u001b[39mbmm(F\u001b[39m.\u001b[39mpad(verts, pad\u001b[39m=\u001b[39m(\u001b[39m0\u001b[39m, \u001b[39m1\u001b[39m), mode\u001b[39m=\u001b[39m\u001b[39m'\u001b[39m\u001b[39mconstant\u001b[39m\u001b[39m'\u001b[39m, value\u001b[39m=\u001b[39m\u001b[39m1.0\u001b[39m)\u001b[39m.\u001b[39munsqueeze(\u001b[39m0\u001b[39m)\u001b[39m.\u001b[39mrepeat(mvp\u001b[39m.\u001b[39mshape[\u001b[39m0\u001b[39m], \u001b[39m1\u001b[39m, \u001b[39m1\u001b[39m), \n\u001b[1;32m    899\u001b[0m                        mvp\u001b[39m.\u001b[39mpermute(\u001b[39m0\u001b[39m,\u001b[39m2\u001b[39m,\u001b[39m1\u001b[39m))\u001b[39m.\u001b[39mfloat()  \u001b[39m# [B, N, 4]\u001b[39;00m\n\u001b[0;32m--> 900\u001b[0m rast, rast_db \u001b[39m=\u001b[39m dr\u001b[39m.\u001b[39;49mrasterize(\u001b[39mself\u001b[39;49m\u001b[39m.\u001b[39;49mglctx, verts_clip, faces, (h, w))\n\u001b[1;32m    902\u001b[0m alpha \u001b[39m=\u001b[39m (rast[\u001b[39m.\u001b[39m\u001b[39m.\u001b[39m\u001b[39m.\u001b[39m, \u001b[39m3\u001b[39m:] \u001b[39m>\u001b[39m \u001b[39m0\u001b[39m)\u001b[39m.\u001b[39mfloat()\n\u001b[1;32m    903\u001b[0m xyzs, _ \u001b[39m=\u001b[39m dr\u001b[39m.\u001b[39minterpolate(verts\u001b[39m.\u001b[39munsqueeze(\u001b[39m0\u001b[39m), rast, faces) \u001b[39m# [B, H, W, 3]\u001b[39;00m\n",
      "File \u001b[0;32m~/mambaforge/lib/python3.10/site-packages/nvdiffrast/torch/ops.py:310\u001b[0m, in \u001b[0;36mrasterize\u001b[0;34m(glctx, pos, tri, resolution, ranges, grad_db)\u001b[0m\n\u001b[1;32m    307\u001b[0m     \u001b[39mreturn\u001b[39;00m \u001b[39mRuntimeError\u001b[39;00m(\u001b[39m\"\u001b[39m\u001b[39mCannot call rasterize() during depth peeling operation, use rasterize_next_layer() instead\u001b[39m\u001b[39m\"\u001b[39m)\n\u001b[1;32m    309\u001b[0m \u001b[39m# Instantiate the function.\u001b[39;00m\n\u001b[0;32m--> 310\u001b[0m \u001b[39mreturn\u001b[39;00m _rasterize_func\u001b[39m.\u001b[39;49mapply(glctx, pos, tri, resolution, ranges, grad_db, \u001b[39m-\u001b[39;49m\u001b[39m1\u001b[39;49m)\n",
      "File \u001b[0;32m~/mambaforge/lib/python3.10/site-packages/torch/autograd/function.py:506\u001b[0m, in \u001b[0;36mFunction.apply\u001b[0;34m(cls, *args, **kwargs)\u001b[0m\n\u001b[1;32m    503\u001b[0m \u001b[39mif\u001b[39;00m \u001b[39mnot\u001b[39;00m torch\u001b[39m.\u001b[39m_C\u001b[39m.\u001b[39m_are_functorch_transforms_active():\n\u001b[1;32m    504\u001b[0m     \u001b[39m# See NOTE: [functorch vjp and autograd interaction]\u001b[39;00m\n\u001b[1;32m    505\u001b[0m     args \u001b[39m=\u001b[39m _functorch\u001b[39m.\u001b[39mutils\u001b[39m.\u001b[39munwrap_dead_wrappers(args)\n\u001b[0;32m--> 506\u001b[0m     \u001b[39mreturn\u001b[39;00m \u001b[39msuper\u001b[39;49m()\u001b[39m.\u001b[39;49mapply(\u001b[39m*\u001b[39;49margs, \u001b[39m*\u001b[39;49m\u001b[39m*\u001b[39;49mkwargs)  \u001b[39m# type: ignore[misc]\u001b[39;00m\n\u001b[1;32m    508\u001b[0m \u001b[39mif\u001b[39;00m \u001b[39mcls\u001b[39m\u001b[39m.\u001b[39msetup_context \u001b[39m==\u001b[39m _SingleLevelFunction\u001b[39m.\u001b[39msetup_context:\n\u001b[1;32m    509\u001b[0m     \u001b[39mraise\u001b[39;00m \u001b[39mRuntimeError\u001b[39;00m(\n\u001b[1;32m    510\u001b[0m         \u001b[39m'\u001b[39m\u001b[39mIn order to use an autograd.Function with functorch transforms \u001b[39m\u001b[39m'\u001b[39m\n\u001b[1;32m    511\u001b[0m         \u001b[39m'\u001b[39m\u001b[39m(vmap, grad, jvp, jacrev, ...), it must override the setup_context \u001b[39m\u001b[39m'\u001b[39m\n\u001b[1;32m    512\u001b[0m         \u001b[39m'\u001b[39m\u001b[39mstaticmethod. For more details, please see \u001b[39m\u001b[39m'\u001b[39m\n\u001b[1;32m    513\u001b[0m         \u001b[39m'\u001b[39m\u001b[39mhttps://pytorch.org/docs/master/notes/extending.func.html\u001b[39m\u001b[39m'\u001b[39m)\n",
      "File \u001b[0;32m~/mambaforge/lib/python3.10/site-packages/nvdiffrast/torch/ops.py:248\u001b[0m, in \u001b[0;36m_rasterize_func.forward\u001b[0;34m(ctx, raster_ctx, pos, tri, resolution, ranges, grad_db, peeling_idx)\u001b[0m\n\u001b[1;32m    246\u001b[0m     out, out_db \u001b[39m=\u001b[39m _get_plugin(gl\u001b[39m=\u001b[39m\u001b[39mTrue\u001b[39;00m)\u001b[39m.\u001b[39mrasterize_fwd_gl(raster_ctx\u001b[39m.\u001b[39mcpp_wrapper, pos, tri, resolution, ranges, peeling_idx)\n\u001b[1;32m    247\u001b[0m \u001b[39melse\u001b[39;00m:\n\u001b[0;32m--> 248\u001b[0m     out, out_db \u001b[39m=\u001b[39m _get_plugin()\u001b[39m.\u001b[39;49mrasterize_fwd_cuda(raster_ctx\u001b[39m.\u001b[39;49mcpp_wrapper, pos, tri, resolution, ranges, peeling_idx)\n\u001b[1;32m    249\u001b[0m ctx\u001b[39m.\u001b[39msave_for_backward(pos, tri, out)\n\u001b[1;32m    250\u001b[0m ctx\u001b[39m.\u001b[39msaved_grad_db \u001b[39m=\u001b[39m grad_db\n",
      "\u001b[0;31mRuntimeError\u001b[0m: instance mode - pos must have shape [>0, >0, 4]"
     ]
    }
   ],
   "source": [
    "%run main.py -O --image {image_path} --workspace {workspace}_dmtet --dmtet --test --save_mesh "
   ]
  },
  {
   "cell_type": "code",
   "execution_count": null,
   "metadata": {},
   "outputs": [],
   "source": [
    "%cd /notebooks/stable-dreamfusion/{workspace}_dmtet/\n",
    "!zip {workspace}.zip -r mesh\n",
    "%cd ../"
   ]
  },
  {
   "cell_type": "markdown",
   "metadata": {},
   "source": [
    "OTHER"
   ]
  },
  {
   "cell_type": "code",
   "execution_count": null,
   "metadata": {},
   "outputs": [],
   "source": [
    "%run main.py -O  --image {image_path} --workspace {workspace}_dmtet_mesh  --dmtet --iters 5000 --init_with  {workspace}_dmtet/mesh/mesh.obj --lock_geo"
   ]
  },
  {
   "cell_type": "code",
   "execution_count": null,
   "metadata": {},
   "outputs": [],
   "source": [
    "%run main.py -O --image {image_path} --workspace {workspace}_dmtet_mesh --dmtet --test --save_mesh"
   ]
  },
  {
   "cell_type": "markdown",
   "metadata": {},
   "source": [
    "SIMPLE EXPORT"
   ]
  },
  {
   "cell_type": "code",
   "execution_count": null,
   "metadata": {},
   "outputs": [],
   "source": [
    "%run main.py -O --image {image_path} --workspace {workspace} --test --save_mesh  "
   ]
  },
  {
   "cell_type": "code",
   "execution_count": null,
   "metadata": {},
   "outputs": [],
   "source": [
    "!chmod +x scripts/run_image_procedure.sh"
   ]
  },
  {
   "cell_type": "code",
   "execution_count": null,
   "metadata": {},
   "outputs": [],
   "source": [
    "import os\n",
    "import subprocess\n",
    "\n",
    "def run_image_procedure(GPU_ID, GUIDANCE_INTERVAL, DEFAULT_POLAR, PREFIX, PROMPT):\n",
    "    EPOCHS1 = 100\n",
    "    EPOCHS2 = 200\n",
    "    EPOCHS3 = 300\n",
    "    IMAGE = f\"/notebooks/threestudio/load/images/{PREFIX}.png\"\n",
    "    IMAGE_RGBA = f\"/notebooks/threestudio/load/images/{PREFIX}_rgba.png\"\n",
    "    WS_PH1 = f\"trial_{PREFIX}-ph1\"\n",
    "    WS_PH2 = f\"trial_{PREFIX}-ph2\"\n",
    "    WS_PH3 = f\"trial_{PREFIX}-ph3\"\n",
    "    CKPT1 = f\"{WS_PH1}/checkpoints/df_ep0{EPOCHS1}.pth\"\n",
    "    CKPT2 = f\"{WS_PH2}/checkpoints/df_ep0{EPOCHS2}.pth\"\n",
    "    CKPT3 = f\"{WS_PH3}/checkpoints/df_ep0{EPOCHS3}.pth\"\n",
    "\n",
    "    if not os.path.isfile(IMAGE_RGBA):\n",
    "        %run preprocess_image.py {IMAGE}\n",
    "\n",
    "    if not os.path.isfile(CKPT1):\n",
    "        %run main.py -O --image {IMAGE_RGBA} --workspace {WS_PH1} --default_polar {DEFAULT_POLAR} --iters {EPOCHS1}00 --save_guidance --save_guidance_interval {GUIDANCE_INTERVAL} --batch_size 6 --test_interval 2 --h 96 --w 96 --zero123_grad_scale None --lambda_3d_normal_smooth 0 --dont_override_stuff --fovy_range 20 20 --guidance_scale 5 \n",
    "\n",
    "    GUIDANCE_INTERVAL = 7\n",
    "    if not os.path.isfile(CKPT2):\n",
    "        %run main.py -O --image {IMAGE_RGBA} --workspace {WS_PH2} --text \"{PROMPT}\" --default_polar {DEFAULT_POLAR} --iters {EPOCHS2}00 --ckpt {CKPT1} --save_guidance --save_guidance_interval {GUIDANCE_INTERVAL} --h 128 --w 128 --albedo_iter_ratio 0.0 --t_range 0.2 0.6 --batch_size 4 --radius_range 2.2 2.6 --test_interval 2 --vram_O --guidance_scale 10 --jitter_pose --jitter_center 0.1 --jitter_target 0.1 --jitter_up 0.05 --known_view_noise_scale 0 --lambda_depth 0 --lr 0.003 --progressive_view --progressive_view_init_ratio 0.05 --known_view_interval 2 --dont_override_stuff --lambda_3d_normal_smooth 1 --textureless_ratio 0.0 --min_ambient_ratio 0.3 --exp_start_iter {EPOCHS1}00 --exp_end_iter {EPOCHS2}00\n",
    "\n",
    "    if not os.path.isfile(CKPT3):\n",
    "        %run main.py -O --image {IMAGE_RGBA} --workspace {WS_PH3} --text \"{PROMPT}\" --default_polar {DEFAULT_POLAR} --iters {EPOCHS3}00 --ckpt {CKPT2} --save_guidance --save_guidance_interval {GUIDANCE_INTERVAL} --h 512 --w 512 --albedo_iter_ratio 0.0 --t_range 0.0 0.5 --batch_size 1 --radius_range 3.2 3.6 --test_interval 2 --vram_O --guidance_scale 10 --jitter_pose --jitter_center 0.015 --jitter_target 0.015 --jitter_up 0.05 --known_view_noise_scale 0 --lambda_depth 0 --lr 0.003 --known_view_interval 2 --dont_override_stuff --lambda_3d_normal_smooth 0.5 --textureless_ratio 0.0 --min_ambient_ratio 0.3 --exp_start_iter {EPOCHS2}00 --exp_end_iter {EPOCHS3}00\n",
    "run_image_procedure(0, 30, 70, \"turtle_plant\", \"an 3D render of a pokemon ((mix between turtle and plant)) with ((red mark on feet)) and ((leaf crown)) on head\")\n"
   ]
  },
  {
   "cell_type": "code",
   "execution_count": null,
   "metadata": {},
   "outputs": [],
   "source": [
    "\n",
    "import os\n",
    "def delete_workspace(PREFIX):\n",
    "    WS_PH1 = f\"trial_{PREFIX}-ph1\"\n",
    "    WS_PH2 = f\"trial_{PREFIX}-ph2\"\n",
    "    WS_PH3 = f\"trial_{PREFIX}-ph3\"\n",
    "    \n",
    "    for workspace in [WS_PH1, WS_PH2, WS_PH3]:\n",
    "        if os.path.isdir(workspace):\n",
    "            os.system(f\"rm -r {workspace}\")\n",
    "            print(f\"Deleted workspace: {workspace}\")\n",
    "        else:\n",
    "            print(f\"No such workspace: {workspace}\")\n",
    "delete_workspace(\"turtle_plant\")"
   ]
  }
 ],
 "metadata": {
  "kernelspec": {
   "display_name": "dreamfusion",
   "language": "python",
   "name": "dreamfusion"
  },
  "language_info": {
   "codemirror_mode": {
    "name": "ipython",
    "version": 3
   },
   "file_extension": ".py",
   "mimetype": "text/x-python",
   "name": "python",
   "nbconvert_exporter": "python",
   "pygments_lexer": "ipython3",
   "version": "3.10.6"
  },
  "orig_nbformat": 4
 },
 "nbformat": 4,
 "nbformat_minor": 2
}
