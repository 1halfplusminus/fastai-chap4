{
 "cells": [
  {
   "cell_type": "code",
   "execution_count": null,
   "metadata": {},
   "outputs": [],
   "source": [
    "!git clone https://github.com/threestudio-project/threestudio.git"
   ]
  },
  {
   "cell_type": "code",
   "execution_count": null,
   "metadata": {},
   "outputs": [],
   "source": [
    "!sudo apt-get update\n",
    "!sudo apt-get install mesa-common-dev libegl1-mesa-dev -y\n",
    "!sudo apt-get install ninja-build  -y"
   ]
  },
  {
   "cell_type": "code",
   "execution_count": null,
   "metadata": {},
   "outputs": [],
   "source": [
    "%pip install --upgrade pip"
   ]
  },
  {
   "cell_type": "code",
   "execution_count": null,
   "metadata": {},
   "outputs": [],
   "source": [
    "%cd /notebooks/threestudio"
   ]
  },
  {
   "cell_type": "code",
   "execution_count": null,
   "metadata": {},
   "outputs": [],
   "source": [
    "!git pull"
   ]
  },
  {
   "cell_type": "code",
   "execution_count": null,
   "metadata": {},
   "outputs": [],
   "source": [
    "\"\"\" %pip install torch==1.12.1+cu113 torchvision==0.13.1+cu113 --extra-index-url https://download.pytorch.org/whl/cu113 \"\"\"\n",
    "%pip install ninja\n",
    "%pip install  torch==2.0.0+cu118 torchvision==0.15.1+cu118 --index-url https://download.pytorch.org/whl/cu118 \n",
    "%pip install mediapipe\n"
   ]
  },
  {
   "cell_type": "code",
   "execution_count": null,
   "metadata": {},
   "outputs": [],
   "source": [
    "%pip install  -r requirements.txt   # --force-reinstall  --upgrade"
   ]
  },
  {
   "cell_type": "code",
   "execution_count": null,
   "metadata": {},
   "outputs": [],
   "source": [
    "%pip install lightning==2.0.0 omegaconf==2.3.0 jaxtyping typeguard diffusers transformers accelerate opencv-python tensorboard matplotlib imageio imageio[ffmpeg] trimesh bitsandbytes sentencepiece safetensors huggingface_hub libigl xatlas \n",
    "%pip install open3d plotly # mesh visualization"
   ]
  },
  {
   "cell_type": "code",
   "execution_count": null,
   "metadata": {},
   "outputs": [],
   "source": [
    "%pip install git+https://github.com/KAIR-BAIR/nerfacc.git@v0.5.2\n",
    "%pip install git+https://github.com/NVlabs/nvdiffrast.git"
   ]
  },
  {
   "cell_type": "code",
   "execution_count": null,
   "metadata": {},
   "outputs": [],
   "source": [
    "%pip install git+https://github.com/NVlabs/tiny-cuda-nn/#subdirectory=bindings/torch"
   ]
  },
  {
   "cell_type": "code",
   "execution_count": null,
   "metadata": {},
   "outputs": [],
   "source": [
    "!mkdir load/zero123\n",
    "%cd load/zero123\n",
    "!wget https://zero123.cs.columbia.edu/assets/zero123-xl.ckpt\n",
    "%cd ../../"
   ]
  },
  {
   "cell_type": "code",
   "execution_count": null,
   "metadata": {},
   "outputs": [],
   "source": [
    "!rm -rf ./outputs"
   ]
  },
  {
   "cell_type": "code",
   "execution_count": null,
   "metadata": {},
   "outputs": [],
   "source": [
    "import os\n",
    "%env CUDA_VISIBLE_DEVICES=0\n",
    "# Set environment variable\n",
    "name = \"dog_robot_side\"\n",
    "prompt = \"an 3D render of a cartoon skeleton of a dog robot, detailed, 8k\"\n",
    "last=\"last\"\n",
    "%cd /notebooks/threestudio"
   ]
  },
  {
   "cell_type": "code",
   "execution_count": null,
   "metadata": {},
   "outputs": [],
   "source": [
    "%run launch.py --config configs/magic123-coarse-sd.yaml --train --gpu 0 data.image_path=load/images/hamburger_rgba.png system.prompt_processor.prompt=\"a delicious hamburger\"\n"
   ]
  },
  {
   "cell_type": "code",
   "execution_count": null,
   "metadata": {},
   "outputs": [],
   "source": [
    "\"\"\" data.default_elevation_deg=0\n",
    "data.default_azimuth_deg=90\n",
    "data.default_camera_distance=1\n",
    "system.freq.guidance_eval=0 \"\"\"\n",
    "cmd = f''' --train --gpu 0\n",
    "--config configs/zero123_64.yaml\n",
    "data.image_path=\"load/images/{name}_rgba.png\"\n",
    "name=\"{name}\"\n",
    "tag=Phase1\n",
    "system.loggers.wandb.enable=false\n",
    "use_timestamp=False\n",
    "data.default_azimuth_deg=0\n",
    "data.random_camera.batch_size=14\n",
    "system.loss.lambda_depth=0.05\n",
    "system.loss.lambda_depth_rel=\"[0, 0, 0.05, 100]\"\n",
    "system.loss.lambda_normal=\"[0, 0, 0.05, 100]\"\n",
    "system.geometry.density_blob_scale=8.\n",
    "system.freq.guidance_eval=37\n",
    "system.guidance.cond_elevation_deg=0\n",
    "'''\n",
    "\n",
    "%run launch.py {cmd}"
   ]
  },
  {
   "cell_type": "code",
   "execution_count": null,
   "metadata": {},
   "outputs": [],
   "source": [
    "# Phase 1.5 - 512 refine\n",
    "#system.loggers.wandb.project=\"zero123\" system.loggers.wandb.name=${NAME}_Phase1p5\n",
    "\n",
    "cmd = f'''--config configs/zero123-geometry.yaml --train --gpu 0 \n",
    "data.image_path=./load/images/{name}_rgba.png \n",
    "system.geometry_convert_from=./outputs/{name}/Phase1/ckpts/{last}.ckpt \n",
    "use_timestamp=False name={name} tag=Phase1p5'''\n",
    "\n",
    "%run launch.py {cmd}"
   ]
  },
  {
   "cell_type": "code",
   "execution_count": null,
   "metadata": {},
   "outputs": [],
   "source": [
    "# Phase 2 - dreamfusion\n",
    "#data.random_camera.batch_size=2 trainer.accumulate_grad_batches=4 system.freq.guidance_eval=0\n",
    "# system.freq.guidance_eval=0 system.loggers.wandb.enable=false system.loggers.wandb.project=\"zero123\" system.loggers.wandb.name=${NAME}_Phase2\n",
    "tag=\"Phase1p5\"\n",
    "last=\"last\"\n",
    "cmd = f'''--config configs/experimental/imagecondition_zero123nerf.yaml \n",
    "--train --gpu 0 data.image_path=./load/images/{name}_rgba.png\n",
    "system.prompt_processor.prompt=\"{prompt}\" \n",
    "system.weights=\"./outputs/{name}/{tag}/ckpts/{last}.ckpt\" \n",
    "system.freq.guidance_eval=23\n",
    "name={name} tag=Phase2 system.loggers.wandb.enable=false  use_timestamp=False'''\n",
    "\n",
    "%run launch.py {cmd}"
   ]
  },
  {
   "cell_type": "code",
   "execution_count": null,
   "metadata": {},
   "outputs": [],
   "source": [
    "\n",
    "# Phase 2 - dreamfusion\n",
    "cmd = f'''--config configs/experimental/my_imagecondition_zero123nerf_refine.yaml \n",
    "--train --gpu 0  system.prompt_processor.prompt=\"{prompt}\" \n",
    "system.geometry_convert_from=\"./outputs/{name}/{phase}/ckpts/{last}.ckpt\" \n",
    "name={name} \n",
    "tag=Phase2_refine system.loggers.wandb.enable=false \n",
    "use_timestamp=False\n",
    "data.image_path=./load/images/{name}_rgba.png\n",
    "'''\n",
    "\n",
    "%run launch.py {cmd}"
   ]
  },
  {
   "cell_type": "code",
   "execution_count": null,
   "metadata": {},
   "outputs": [],
   "source": [
    "tag=\"Phase1p5\"\n",
    "last=\"last\"\n",
    "cmd=f'''--config \"outputs/{name}/{tag}/configs/parsed.yaml\" \n",
    "--export --gpu 0 resume=\"outputs/{name}/{tag}/ckpts/{last}.ckpt\" \n",
    "system.exporter.context_type=cuda  system.exporter_type=mesh-exporter'''\n",
    "%run launch.py {cmd}"
   ]
  },
  {
   "cell_type": "markdown",
   "metadata": {},
   "source": [
    "TEXT MESH"
   ]
  },
  {
   "cell_type": "code",
   "execution_count": null,
   "metadata": {},
   "outputs": [],
   "source": [
    "# uses DeepFloyd IF, requires ~15GB VRAM\n",
    "cmd= f'''\n",
    "--config configs/textmesh-if.yaml --train --gpu 0 tag=DRAGON system.prompt_processor.prompt=\"{prompt}\"\n",
    "system.prompt_processor_type=\"stable-diffusion-prompt-processor\"\n",
    "system.guidance_type=\"stable-diffusion-guidance\"\n",
    "system.guidance.pretrained_model_name_or_path=\"stabilityai/stable-diffusion-2-1\"\n",
    "system.prompt_processor.pretrained_model_name_or_path=\"stabilityai/stable-diffusion-2-1\"\n",
    "'''\n",
    "%run launch.py {cmd}"
   ]
  },
  {
   "cell_type": "code",
   "execution_count": null,
   "metadata": {},
   "outputs": [],
   "source": [
    "tag=\"DRAGON@20230726-085910\"\n",
    "name=\"textmesh-if\"\n",
    "cmd=f'--config \"outputs/{name}/{tag}/configs/parsed.yaml\" --export --gpu 0 resume=\"outputs/{name}/{tag}/ckpts/last.ckpt\" system.exporter.context_type=cuda  system.exporter_type=mesh-exporter'\n",
    "%run launch.py {cmd}"
   ]
  },
  {
   "cell_type": "markdown",
   "metadata": {},
   "source": [
    "CONTROL 4D"
   ]
  },
  {
   "cell_type": "code",
   "execution_count": null,
   "metadata": {},
   "outputs": [],
   "source": [
    "cmd = f'''--config configs/control4d-static.yaml --train --gpu 0 \n",
    "data.dataroot=\"YOUR_DATAROOT/twindom\" \n",
    "system.prompt_processor.prompt=\"{prompt}\" \n",
    "name={name} \n",
    "tag=Phase1 \n",
    "system.loggers.wandb.enable=false \n",
    "use_timestamp=False'''\n",
    "\n",
    "%run launch.py {cmd}"
   ]
  },
  {
   "cell_type": "markdown",
   "metadata": {},
   "source": [
    "MAGIC123"
   ]
  },
  {
   "cell_type": "code",
   "execution_count": null,
   "metadata": {},
   "outputs": [],
   "source": [
    "%env CUDA_VISIBLE_DEVICES=0\n",
    "workspace =\"dog_robot_side\"\n",
    "image_path = f'/notebooks/threestudio/load/images/{workspace}_rgba.png'\n",
    "image_path_without_rgba = image_path.replace('_rgba', '')\n",
    "prompt = '''\n",
    "high quality amazing detailed art of \n",
    "an 3D stylized dog robot\n",
    "'''\n",
    "# If the image contains non-front-facing objects, specifying the approximate elevation \n",
    "# and azimuth angle by setting data.default_elevation_deg and data.default_azimuth_deg can be helpful. \n",
    "# In threestudio, top is elevation +90 and bottom is elevation -90; left is azimuth -90 and right is azimuth +90.\n",
    "default_elevation_deg = 0\n",
    "default_azimuth_deg = -85\n",
    "%cd /notebooks/threestudio"
   ]
  },
  {
   "cell_type": "code",
   "execution_count": null,
   "metadata": {},
   "outputs": [],
   "source": [
    "%pip install opencv-python==4.8.0.76 numpy==1.23 --force-reinstall --upgrade"
   ]
  },
  {
   "cell_type": "code",
   "execution_count": null,
   "metadata": {},
   "outputs": [],
   "source": [
    "%run launch.py --config configs/magic123-coarse-sd.yaml --train --gpu 0 \\\n",
    "data.image_path=\"{image_path}\" system.prompt_processor.prompt=\"{prompt}\" \\\n",
    "tag=Phase1 data.default_azimuth_deg={default_azimuth_deg} data.default_elevation_deg={default_elevation_deg} \\\n",
    "data.requires_depth=True data.requires_normal=True \\\n",
    "use_timestamp=False \\\n",
    "system.loss.lambda_depth=0.05 system.loss.lambda_depth_rel=\"[0, 0, 0.05, 100]\" system.loss.lambda_normal=\"[0, 0, 0.05, 100]\"\n"
   ]
  },
  {
   "cell_type": "code",
   "execution_count": null,
   "metadata": {},
   "outputs": [],
   "source": [
    "# Zero123 + Stable Diffusion, ~10GB VRAM\n",
    "# data.image_path must point to a 4-channel RGBA image\n",
    "# system.prompt_proessor.prompt must be specified\n",
    "%run  launch.py --config configs/magic123-refine-sd.yaml --train --gpu 0 data.image_path=\"{image_path}\" \\\n",
    "use_timestamp=False \\\n",
    "system.prompt_processor.prompt=\"{prompt}\" system.geometry_convert_from=\"outputs/{workspace}/Phase1/ckpts/last.ckpt\" tag=Phase2 \n"
   ]
  },
  {
   "cell_type": "code",
   "execution_count": null,
   "metadata": {},
   "outputs": [],
   "source": [
    "# if you're unsatisfied with the surface extracted using the default threshold (25)\n",
    "# you can specify a threshold value using `system.geometry_convert_override`\n",
    "# decrease the value if the extracted surface is incomplete, increase if it is extruded\n",
    "%run launch.py --config configs/magic123-refine-sd.yaml --train --gpu 0 data.image_path={image_path} \\\n",
    "use_timestamp=False \\\n",
    "system.prompt_processor.prompt={prompt} system.geometry_convert_from=\"outputs/{workspace}/Phase2/ckpts/last.ckpt\"  system.geometry_convert_override.isosurface_threshold=10."
   ]
  }
 ],
 "metadata": {
  "kernelspec": {
   "display_name": "three",
   "language": "python",
   "name": "three"
  },
  "language_info": {
   "codemirror_mode": {
    "name": "ipython",
    "version": 3
   },
   "file_extension": ".py",
   "mimetype": "text/x-python",
   "name": "python",
   "nbconvert_exporter": "python",
   "pygments_lexer": "ipython3",
   "version": "3.10.6"
  },
  "orig_nbformat": 4
 },
 "nbformat": 4,
 "nbformat_minor": 2
}
