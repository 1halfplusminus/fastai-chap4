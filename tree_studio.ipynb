{
 "cells": [
  {
   "cell_type": "markdown",
   "metadata": {},
   "source": [
    "Threestudio-dreamcraft3D"
   ]
  },
  {
   "cell_type": "code",
   "execution_count": null,
   "metadata": {},
   "outputs": [],
   "source": [
    "%cd /notebooks/threestudio\n",
    "prompt=\"a anime girl\"\n",
    "slug=\"a_anime_girl\"\n",
    "name=\"anya_front\"\n",
    "b_image_path=f\"/notebooks/threestudio/load/images/{name}.png\"\n",
    "image_path=f\"/notebooks/threestudio/load/images/{name}_rgba.png\""
   ]
  },
  {
   "cell_type": "markdown",
   "metadata": {},
   "source": [
    "GEODREAM\n"
   ]
  },
  {
   "cell_type": "code",
   "execution_count": null,
   "metadata": {},
   "outputs": [],
   "source": [
    "%cd /notebooks/threestudio/custom/threestudio-geodream/mv-diffusion/One-2-3-45-by-view\n",
    "!aria2c --console-log-level=error -c -x 16 -s 16 -k 1M  https://huggingface.co/stabilityai/stable-zero123/resolve/main/stable_zero123.ckpt?download=true  -o \"stable_zero123.ckpt\""
   ]
  },
  {
   "cell_type": "code",
   "execution_count": null,
   "metadata": {},
   "outputs": [],
   "source": [
    "!aria2c --console-log-level=error -c -x 16 -s 16 -k 1M  https://huggingface.co/One-2-3-45/code/resolve/main/sam_vit_h_4b8939.pth -o \"sam_vit_h_4b8939.pth\"\n"
   ]
  },
  {
   "cell_type": "code",
   "execution_count": null,
   "metadata": {},
   "outputs": [],
   "source": [
    "%cd /notebooks/threestudio/\n",
    "!mkdir one2345_weight\n",
    "%cd one2345_weight\n",
    "!aria2c --console-log-level=error -c -x 16 -s 16 -k 1M  https://huggingface.co/One-2-3-45/code/resolve/main/SparseNeuS_demo_v1/exp/lod0/checkpoints/ckpt_215000.pth  -o \"ckpt_215000.pth\"\n"
   ]
  },
  {
   "cell_type": "code",
   "execution_count": null,
   "metadata": {},
   "outputs": [],
   "source": [
    "!rm /notebooks/threestudio/custom/threestudio-geodream/mv-diffusion/volume/ -rf"
   ]
  },
  {
   "cell_type": "code",
   "execution_count": null,
   "metadata": {},
   "outputs": [],
   "source": [
    "%cd /notebooks/threestudio/custom/threestudio-geodream/mv-diffusion/One-2-3-45-by-view\n",
    "#!source /root/miniconda3/bin/activate treestudio\n",
    "!/root/miniconda3/bin/conda run -n treestudio python run.py \\\n",
    "--model_type \"sd-zero123\" \\\n",
    "--img_path \"$b_image_path\" \\\n",
    "--text \"$prompt\" \\\n",
    "--half_precision"
   ]
  },
  {
   "cell_type": "code",
   "execution_count": null,
   "metadata": {},
   "outputs": [],
   "source": [
    "%cd /notebooks/threestudio\n",
    "!/root/miniconda3/bin/conda run -n treestudio python launch.py  --config custom/threestudio-geodream/configs/geodream-neus.yaml --train --gpu 0 system.prompt_processor.prompt=\"$prompt\" system.geometry.init_volume_path=\"/notebooks/threestudio/custom/threestudio-geodream/mv-diffusion/volume/a_anime_girl/con_volume_lod_150.pth\" tag=\"Phase1\"\n"
   ]
  },
  {
   "cell_type": "code",
   "execution_count": null,
   "metadata": {},
   "outputs": [],
   "source": [
    "# --------- Stage 2 (DMTet Geometry Refinement) --------- #\n",
    "geometry_convert_from='/notebooks/threestudio/outputs/geodream/Phase1@20240303-044843/ckpts/last.ckpt'\n",
    "# refine geometry\n",
    "%cd /notebooks/threestudio\n",
    "!/root/miniconda3/bin/conda run -n treestudio python launch.py --config custom/threestudio-geodream/configs/geodream-dmtet-geometry.yaml --train system.geometry_convert_from={geometry_convert_from} --gpu 0 system.prompt_processor.prompt=\"$prompt\" system.renderer.context_type=cuda system.geometry_convert_override.isosurface_threshold=0.0\n"
   ]
  },
  {
   "cell_type": "markdown",
   "metadata": {},
   "source": [
    "Gaussian Splatting + Zero-123"
   ]
  },
  {
   "cell_type": "code",
   "execution_count": null,
   "metadata": {},
   "outputs": [],
   "source": [
    "!/root/miniconda3/envs/treestudio/bin/python launch.py --config custom/threestudio-3dgs/configs/gaussian_splatting_zero123.yaml --train --gpu 0 data.image_path={image_path}\n"
   ]
  },
  {
   "cell_type": "code",
   "execution_count": null,
   "metadata": {},
   "outputs": [],
   "source": [
    "config=\"outputs/gs-zero123-sai/256_ultra2_rgba.png@20240211-005213/configs/parsed.yaml\"                                                                                                                                                                                                                                                                   \n",
    "checkpoint=\"outputs/gs-zero123-sai/256_ultra2_rgba.png@20240211-005213/ckpts/last.ckpt\"\n",
    "!/root/miniconda3/envs/treestudio/bin/python launch.py --config {config} --export --gpu 0 system.prompt_processor.prompt=\"$prompt\" resume={checkpoint}\n"
   ]
  },
  {
   "cell_type": "markdown",
   "metadata": {},
   "source": [
    " DreamCraft3D "
   ]
  },
  {
   "cell_type": "code",
   "execution_count": null,
   "metadata": {},
   "outputs": [],
   "source": [
    "# preprocess images\n",
    "%cd custom/threestudio-dreamcraft3D\n",
    "%run image_preprocess.py {b_image_path} --size 512 --border_ratio 0.0\n",
    "# if you need image caption\n",
    "# python image_preprocess.py \"examples/hamburger.png\" --size 512 --border_ratio 0.0 --need_caption\n",
    "# if you remove backgounrd using other tools like ClipDrop, you need put the processed image to \"examples/hamburger_rgba.png\" and add option use_existing_background\n",
    "# python image_preprocess.py \"examples/hamburger.png\" --size 512 --border_ratio 0.0 --use_existing_background\n",
    "%cd  ../.."
   ]
  },
  {
   "cell_type": "code",
   "execution_count": null,
   "metadata": {},
   "outputs": [],
   "source": [
    "\n",
    "# --------- Stage 1 (NeRF & NeuS) --------- #\n",
    "%run launch.py --config /notebooks/threestudio/custom/threestudio-dreamcraft3D/configs/dreamcraft3d-coarse-nerf-fast.yaml --train system.prompt_processor.prompt=\"$prompt\" data.image_path=\"$image_path\" use_timestamp=False tag=\"Phase1\" name=\"$name\"\n"
   ]
  },
  {
   "cell_type": "code",
   "execution_count": null,
   "metadata": {},
   "outputs": [],
   "source": [
    "ckpt = f\"/notebooks/threestudio/outputs/{name}/Phase1/ckpts/last.ckpt\"\n",
    "%run launch.py --config /notebooks/threestudio/custom/threestudio-dreamcraft3D/configs/dreamcraft3d-coarse-neus-fast.yaml --train system.prompt_processor.prompt=\"$prompt\" data.image_path=\"$image_path\" system.weights=\"$ckpt\" use_timestamp=False tag=\"Phase2\" name=\"$name\""
   ]
  },
  {
   "cell_type": "code",
   "execution_count": null,
   "metadata": {},
   "outputs": [],
   "source": [
    "# --------- Stage 2 (Geometry Refinement) --------- #\n",
    "ckpt = f\"/notebooks/threestudio/outputs/{name}/Phase2/ckpts/last.ckpt\"\n",
    "!/root/miniconda3/envs/treestudio/bin/python  /notebooks/threestudio/launch.py --config /notebooks/threestudio/custom/threestudio-dreamcraft3D/configs/dreamcraft3d-geometry-fast.yaml --train system.prompt_processor.prompt=\"$prompt\" data.image_path=\"$image_path\" system.geometry_convert_from=\"$ckpt\"  use_timestamp=False tag=\"Phase3\" name=\"$name\"\n"
   ]
  },
  {
   "cell_type": "code",
   "execution_count": null,
   "metadata": {},
   "outputs": [],
   "source": [
    "\n",
    "# --------- Stage 3 (Texture Refinement) --------- #\n",
    "ckpt = f\"/notebooks/threestudio/outputs/{name}/Phase3/ckpts/last.ckpt\"\n",
    "!/root/miniconda3/envs/treestudio/bin/python  /notebooks/threestudio/launch.py  --config /notebooks/threestudio/custom/threestudio-dreamcraft3D/configs/dreamcraft3d-texture-fast.yaml --train system.prompt_processor.prompt=\"$prompt\" data.image_path=\"$image_path\" system.geometry_convert_from=\"$ckpt\" use_timestamp=False tag=\"Phase4\" name=\"$name\"\n"
   ]
  },
  {
   "cell_type": "code",
   "execution_count": null,
   "metadata": {},
   "outputs": [],
   "source": [
    "\n",
    "# --------- EXPORT --------- \n",
    "config = f\"/notebooks/threestudio/outputs/{name}/Phase4/configs/parsed.yaml\"\n",
    "ckpt = f\"/notebooks/threestudio/outputs/{name}/Phase4/ckpts/last.ckpt\"\n",
    "cmd = f'''--config \"{config}\" --export system.prompt_processor.prompt=\"{prompt}\" data.image_path=\"{image_path}\" resume=\"{ckpt}\" system.exporter.context_type=cuda use_timestamp=False tag=\"Phase5\" name=\"{name}\"'''\n",
    "!/root/miniconda3/envs/treestudio/bin/python  /notebooks/threestudio/launch.py {cmd}\n"
   ]
  },
  {
   "cell_type": "code",
   "execution_count": null,
   "metadata": {},
   "outputs": [],
   "source": [
    "path = f\"/notebooks/threestudio/outputs/{name}/Phase5/save\"\n",
    "%cd {path}\n",
    "!zip {name}.zip -r it3000-export\n",
    "%cd /notebooks/threestudio/\n"
   ]
  },
  {
   "cell_type": "markdown",
   "metadata": {},
   "source": [
    "OTHER"
   ]
  },
  {
   "cell_type": "code",
   "execution_count": null,
   "metadata": {},
   "outputs": [],
   "source": [
    "%run launch.py --config custom/threestudio-mvimg-gen/configs/stable-zero123.yaml --train --gpu 0 data.image_path=./load/images/catstatue_rgba.png\n"
   ]
  },
  {
   "cell_type": "code",
   "execution_count": null,
   "metadata": {},
   "outputs": [],
   "source": [
    "name='dragon'"
   ]
  },
  {
   "cell_type": "code",
   "execution_count": null,
   "metadata": {},
   "outputs": [],
   "source": [
    "%cd /notebooks/threestudio\n",
    "%run launch.py use_timestamp=False tag=Phase1 name={name} --config configs/stable-zero123.yaml --train --gpu 0 data.image_path=./load/images/wyvern2_rgba.png data.batch_size=32 \n"
   ]
  },
  {
   "cell_type": "code",
   "execution_count": null,
   "metadata": {},
   "outputs": [],
   "source": [
    "%cd /notebooks/threestudio\n",
    "%run launch.py  --config '/notebooks/threestudio/outputs/zero123-sai/[64, 128, 256]_wyvern2_rgba.png@20231227-065541/configs/parsed.yaml' resume='/notebooks/threestudio/outputs/zero123-sai/[64, 128, 256]_wyvern2_rgba.png@20231227-065541/ckpts/last.ckpt' --export --gpu 0 system.exporter_type=mesh-exporter system.exporter.fmt=obj  system.exporter.context_type=cuda system.geometry.isosurface_method=mc-cpu system.geometry.isosurface_resolution=350 system.geometry.isosurface_threshold=25.\n"
   ]
  },
  {
   "cell_type": "code",
   "execution_count": null,
   "metadata": {},
   "outputs": [],
   "source": [
    " #/root/miniconda3/bin/conda run -n dreamgaussian python launch.py --config '/notebooks/threestudio/outputs/mvimg-gen-zero123-sai/catstatue_rgba.png@20231227-020100/configs/parsed.yaml' --export --gpu 0"
   ]
  },
  {
   "cell_type": "code",
   "execution_count": null,
   "metadata": {},
   "outputs": [],
   "source": [
    "!rm -rf ./outputs"
   ]
  },
  {
   "cell_type": "code",
   "execution_count": null,
   "metadata": {},
   "outputs": [],
   "source": [
    "%pip install pydantic fastapi lightning --upgrade"
   ]
  },
  {
   "cell_type": "code",
   "execution_count": null,
   "metadata": {},
   "outputs": [],
   "source": [
    "%run gradio_app.py launch\n"
   ]
  },
  {
   "cell_type": "code",
   "execution_count": null,
   "metadata": {},
   "outputs": [],
   "source": [
    "import os\n",
    "%env CUDA_VISIBLE_DEVICES=0\n",
    "# Set environment variable\n",
    "name = \"dog_robot_side\"\n",
    "prompt = \"an 3D render of a cartoon skeleton of a dog robot, detailed, 8k\"\n",
    "last=\"last\"\n",
    "%cd /notebooks/threestudio"
   ]
  },
  {
   "cell_type": "code",
   "execution_count": null,
   "metadata": {},
   "outputs": [],
   "source": [
    "%run launch.py --config configs/magic123-coarse-sd.yaml --train --gpu 0 data.image_path=load/images/hamburger_rgba.png system.prompt_processor.prompt=\"a delicious hamburger\"\n"
   ]
  },
  {
   "cell_type": "code",
   "execution_count": null,
   "metadata": {},
   "outputs": [],
   "source": [
    "\"\"\" data.default_elevation_deg=0\n",
    "data.default_azimuth_deg=90\n",
    "data.default_camera_distance=1\n",
    "system.freq.guidance_eval=0 \"\"\"\n",
    "cmd = f''' --train --gpu 0\n",
    "--config configs/zero123_64.yaml\n",
    "data.image_path=\"load/images/{name}_rgba.png\"\n",
    "name=\"{name}\"\n",
    "tag=Phase1\n",
    "system.loggers.wandb.enable=false\n",
    "use_timestamp=False\n",
    "data.default_azimuth_deg=0\n",
    "data.random_camera.batch_size=14\n",
    "system.loss.lambda_depth=0.05\n",
    "system.loss.lambda_depth_rel=\"[0, 0, 0.05, 100]\"\n",
    "system.loss.lambda_normal=\"[0, 0, 0.05, 100]\"\n",
    "system.geometry.density_blob_scale=8.\n",
    "system.freq.guidance_eval=37\n",
    "system.guidance.cond_elevation_deg=0\n",
    "'''\n",
    "\n",
    "%run launch.py {cmd}"
   ]
  },
  {
   "cell_type": "code",
   "execution_count": null,
   "metadata": {},
   "outputs": [],
   "source": [
    "# Phase 1.5 - 512 refine\n",
    "#system.loggers.wandb.project=\"zero123\" system.loggers.wandb.name=${NAME}_Phase1p5\n",
    "\n",
    "cmd = f'''--config configs/zero123-geometry.yaml --train --gpu 0 \n",
    "data.image_path=./load/images/{name}_rgba.png \n",
    "system.geometry_convert_from=./outputs/{name}/Phase1/ckpts/{last}.ckpt \n",
    "use_timestamp=False name={name} tag=Phase1p5'''\n",
    "\n",
    "%run launch.py {cmd}"
   ]
  },
  {
   "cell_type": "code",
   "execution_count": null,
   "metadata": {},
   "outputs": [],
   "source": [
    "# Phase 2 - dreamfusion\n",
    "#data.random_camera.batch_size=2 trainer.accumulate_grad_batches=4 system.freq.guidance_eval=0\n",
    "# system.freq.guidance_eval=0 system.loggers.wandb.enable=false system.loggers.wandb.project=\"zero123\" system.loggers.wandb.name=${NAME}_Phase2\n",
    "tag=\"Phase1p5\"\n",
    "last=\"last\"\n",
    "cmd = f'''--config configs/experimental/imagecondition_zero123nerf.yaml \n",
    "--train --gpu 0 data.image_path=./load/images/{name}_rgba.png\n",
    "system.prompt_processor.prompt=\"{prompt}\" \n",
    "system.weights=\"./outputs/{name}/{tag}/ckpts/{last}.ckpt\" \n",
    "system.freq.guidance_eval=23\n",
    "name={name} tag=Phase2 system.loggers.wandb.enable=false  use_timestamp=False'''\n",
    "\n",
    "%run launch.py {cmd}"
   ]
  },
  {
   "cell_type": "code",
   "execution_count": null,
   "metadata": {},
   "outputs": [],
   "source": [
    "\n",
    "# Phase 2 - dreamfusion\n",
    "cmd = f'''--config configs/experimental/my_imagecondition_zero123nerf_refine.yaml \n",
    "--train --gpu 0  system.prompt_processor.prompt=\"{prompt}\" \n",
    "system.geometry_convert_from=\"./outputs/{name}/{phase}/ckpts/{last}.ckpt\" \n",
    "name={name} \n",
    "tag=Phase2_refine system.loggers.wandb.enable=false \n",
    "use_timestamp=False\n",
    "data.image_path=./load/images/{name}_rgba.png\n",
    "'''\n",
    "\n",
    "%run launch.py {cmd}"
   ]
  },
  {
   "cell_type": "code",
   "execution_count": null,
   "metadata": {},
   "outputs": [],
   "source": [
    "tag=\"Phase1p5\"\n",
    "last=\"last\"\n",
    "cmd=f'''--config \"outputs/{name}/{tag}/configs/parsed.yaml\" \n",
    "--export --gpu 0 resume=\"outputs/{name}/{tag}/ckpts/{last}.ckpt\" \n",
    "system.exporter.context_type=cuda  system.exporter_type=mesh-exporter'''\n",
    "%run launch.py {cmd}"
   ]
  },
  {
   "cell_type": "markdown",
   "metadata": {},
   "source": [
    "TEXT MESH"
   ]
  },
  {
   "cell_type": "code",
   "execution_count": null,
   "metadata": {},
   "outputs": [],
   "source": [
    "# uses DeepFloyd IF, requires ~15GB VRAM\n",
    "cmd= f'''\n",
    "--config configs/textmesh-if.yaml \n",
    "--train -\n",
    "-gpu 0 tag=DRAGON system.prompt_processor.prompt=\"{prompt}\"\n",
    "system.prompt_processor_type=\"stable-diffusion-prompt-processor\"\n",
    "system.guidance_type=\"stable-diffusion-guidance\"\n",
    "system.guidance.pretrained_model_name_or_path=\"stabilityai/stable-diffusion-2-1\"\n",
    "system.prompt_processor.pretrained_model_name_or_path=\"stabilityai/stable-diffusion-2-1\"\n",
    "'''\n",
    "%run launch.py {cmd}"
   ]
  },
  {
   "cell_type": "code",
   "execution_count": null,
   "metadata": {},
   "outputs": [],
   "source": [
    "tag=\"DRAGON@20230726-085910\"\n",
    "name=\"textmesh-if\"\n",
    "cmd=f'--config \"outputs/{name}/{tag}/configs/parsed.yaml\" --export --gpu 0 resume=\"outputs/{name}/{tag}/ckpts/last.ckpt\" system.exporter.context_type=cuda  system.exporter_type=mesh-exporter'\n",
    "%run launch.py {cmd}"
   ]
  },
  {
   "cell_type": "markdown",
   "metadata": {},
   "source": [
    "CONTROL 4D"
   ]
  },
  {
   "cell_type": "code",
   "execution_count": null,
   "metadata": {},
   "outputs": [],
   "source": [
    "cmd = f'''--config configs/control4d-static.yaml --train --gpu 0 \n",
    "data.dataroot=\"YOUR_DATAROOT/twindom\" \n",
    "system.prompt_processor.prompt=\"{prompt}\" \n",
    "name={name} \n",
    "tag=Phase1 \n",
    "system.loggers.wandb.enable=false \n",
    "use_timestamp=False'''\n",
    "\n",
    "%run launch.py {cmd}"
   ]
  },
  {
   "cell_type": "markdown",
   "metadata": {},
   "source": [
    "MAGIC123"
   ]
  },
  {
   "cell_type": "code",
   "execution_count": null,
   "metadata": {},
   "outputs": [],
   "source": [
    "%env CUDA_VISIBLE_DEVICES=0\n",
    "workspace =\"dog_robot_side\"\n",
    "image_path = f'/notebooks/threestudio/load/images/{workspace}_rgba.png'\n",
    "image_path_without_rgba = image_path.replace('_rgba', '')\n",
    "prompt = '''\n",
    "high quality amazing detailed art of \n",
    "an 3D stylized dog robot\n",
    "'''\n",
    "# If the image contains non-front-facing objects, specifying the approximate elevation \n",
    "# and azimuth angle by setting data.default_elevation_deg and data.default_azimuth_deg can be helpful. \n",
    "# In threestudio, top is elevation +90 and bottom is elevation -90; left is azimuth -90 and right is azimuth +90.\n",
    "default_elevation_deg = 0\n",
    "default_azimuth_deg = -85\n",
    "%cd /notebooks/threestudio"
   ]
  },
  {
   "cell_type": "code",
   "execution_count": null,
   "metadata": {},
   "outputs": [],
   "source": [
    "%pip install opencv-python==4.8.0.76 numpy==1.23 --force-reinstall --upgrade"
   ]
  },
  {
   "cell_type": "code",
   "execution_count": null,
   "metadata": {},
   "outputs": [],
   "source": [
    "%run launch.py --config configs/magic123-coarse-sd.yaml --train --gpu 0 \\\n",
    "data.image_path=\"{image_path}\" system.prompt_processor.prompt=\"{prompt}\" \\\n",
    "tag=Phase1 data.default_azimuth_deg={default_azimuth_deg} data.default_elevation_deg={default_elevation_deg} \\\n",
    "data.requires_depth=True data.requires_normal=True \\\n",
    "use_timestamp=False \\\n",
    "system.loss.lambda_depth=0.05 system.loss.lambda_depth_rel=\"[0, 0, 0.05, 100]\" system.loss.lambda_normal=\"[0, 0, 0.05, 100]\"\n"
   ]
  },
  {
   "cell_type": "code",
   "execution_count": null,
   "metadata": {},
   "outputs": [],
   "source": [
    "# Zero123 + Stable Diffusion, ~10GB VRAM\n",
    "# data.image_path must point to a 4-channel RGBA image\n",
    "# system.prompt_proessor.prompt must be specified\n",
    "%run  launch.py --config configs/magic123-refine-sd.yaml --train --gpu 0 data.image_path=\"{image_path}\" \\\n",
    "use_timestamp=False \\\n",
    "system.prompt_processor.prompt=\"{prompt}\" system.geometry_convert_from=\"outputs/{workspace}/Phase1/ckpts/last.ckpt\" tag=Phase2 \n"
   ]
  },
  {
   "cell_type": "code",
   "execution_count": null,
   "metadata": {},
   "outputs": [],
   "source": [
    "# if you're unsatisfied with the surface extracted using the default threshold (25)\n",
    "# you can specify a threshold value using `system.geometry_convert_override`\n",
    "# decrease the value if the extracted surface is incomplete, increase if it is extruded\n",
    "%run launch.py --config configs/magic123-refine-sd.yaml --train --gpu 0 data.image_path={image_path} \\\n",
    "use_timestamp=False \\\n",
    "system.prompt_processor.prompt={prompt} system.geometry_convert_from=\"outputs/{workspace}/Phase2/ckpts/last.ckpt\"  system.geometry_convert_override.isosurface_threshold=10."
   ]
  }
 ],
 "metadata": {
  "kernelspec": {
   "display_name": "treestudio",
   "language": "python",
   "name": "treestudio"
  },
  "language_info": {
   "codemirror_mode": {
    "name": "ipython",
    "version": 3
   },
   "file_extension": ".py",
   "mimetype": "text/x-python",
   "name": "python",
   "nbconvert_exporter": "python",
   "pygments_lexer": "ipython3",
   "version": "3.11.8"
  }
 },
 "nbformat": 4,
 "nbformat_minor": 2
}
