{
 "cells": [
  {
   "cell_type": "code",
   "execution_count": null,
   "metadata": {},
   "outputs": [],
   "source": [
    "!git clone https://github.com/threestudio-project/threestudio.git"
   ]
  },
  {
   "cell_type": "code",
   "execution_count": null,
   "metadata": {},
   "outputs": [],
   "source": [
    "!sudo apt-get update\n",
    "!sudo apt-get install mesa-common-dev libegl1-mesa-dev -y\n",
    "!sudo apt-get install ninja-build  -y"
   ]
  },
  {
   "cell_type": "code",
   "execution_count": null,
   "metadata": {},
   "outputs": [],
   "source": [
    "%pip install --upgrade pip"
   ]
  },
  {
   "cell_type": "code",
   "execution_count": null,
   "metadata": {},
   "outputs": [],
   "source": [
    "%cd /notebooks/threestudio"
   ]
  },
  {
   "cell_type": "code",
   "execution_count": null,
   "metadata": {},
   "outputs": [],
   "source": [
    "%pip install ninja"
   ]
  },
  {
   "cell_type": "code",
   "execution_count": null,
   "metadata": {},
   "outputs": [],
   "source": [
    "\"\"\" %pip install torch==1.12.1+cu113 torchvision==0.13.1+cu113 --extra-index-url https://download.pytorch.org/whl/cu113 \"\"\"\n",
    "%pip install torch torchvision --index-url https://download.pytorch.org/whl/cu118 "
   ]
  },
  {
   "cell_type": "code",
   "execution_count": null,
   "metadata": {},
   "outputs": [],
   "source": [
    "%pip install  -r requirements.txt  --upgrade --force-reinstall"
   ]
  },
  {
   "cell_type": "code",
   "execution_count": null,
   "metadata": {},
   "outputs": [],
   "source": [
    "%pip install lightning==2.0.0 omegaconf==2.3.0 jaxtyping typeguard diffusers transformers accelerate opencv-python tensorboard matplotlib imageio imageio[ffmpeg] trimesh bitsandbytes sentencepiece safetensors huggingface_hub libigl xatlas \n",
    "%pip install open3d plotly # mesh visualization"
   ]
  },
  {
   "cell_type": "code",
   "execution_count": null,
   "metadata": {},
   "outputs": [],
   "source": [
    "%pip install git+https://github.com/KAIR-BAIR/nerfacc.git@v0.5.2\n",
    "%pip install git+https://github.com/NVlabs/nvdiffrast.git\n",
    "%pip install git+https://github.com/NVlabs/tiny-cuda-nn/#subdirectory=bindings/torch"
   ]
  },
  {
   "cell_type": "code",
   "execution_count": null,
   "metadata": {},
   "outputs": [],
   "source": [
    "!mkdir load/zero123\n",
    "%cd load/zero123\n",
    "!wget https://zero123.cs.columbia.edu/assets/zero123-xl.ckpt\n",
    "%cd ../../"
   ]
  },
  {
   "cell_type": "code",
   "execution_count": null,
   "metadata": {},
   "outputs": [],
   "source": [
    "# PHASE 1\n",
    "%run launch.py  --config configs/zero123.yaml --train --gpu 0 data.image_path=\"/notebooks/stable-dreamfusion/side_rgba.png\" name=dragon_s tag=Phase1_34 data.batch_size=4 data.default_azimuth_deg=90 data.default_elevation_deg=0  system.freq.guidance_eval=37\n"
   ]
  },
  {
   "cell_type": "code",
   "execution_count": null,
   "metadata": {},
   "outputs": [],
   "source": [
    "# SKIP\n",
    "%run launch.py  --config configs/zero123.yaml --train --gpu 0 data.image_path=/notebooks/stable-dreamfusion/front_rgba.png name=dragon_side tag=Phase1_Front data.batch_size=4  resume=\"/notebooks/threestudio/outputs/dragon_side/Phase1_Side@20230716-044416/ckpts/last.ckpt\" trainer.max_steps=600\n"
   ]
  },
  {
   "cell_type": "code",
   "execution_count": null,
   "metadata": {},
   "outputs": [],
   "source": [
    "# Phase 1.5 - 512 refine\n",
    "%run launch.py --config configs/zero123-geometry.yaml --train --gpu 0 system.geometry_convert_from=\"/notebooks/threestudio/outputs/dragon_s/Phase1_34@20230716-083702/ckpts/last.ckpt\" data.image_path=\"/notebooks/stable-dreamfusion/34_rgba.png\"  data.batch_size=4 data.default_azimuth_deg=45 data.default_elevation_deg=45  system.exporter.context_type=cuda  use_timestamp=False name=dragon_34 tag=Phase1p5 \n"
   ]
  },
  {
   "cell_type": "code",
   "execution_count": null,
   "metadata": {},
   "outputs": [],
   "source": [
    "# Phase 2 - dreamfusion\n",
    "%run launch.py --config configs/experimental/imagecondition_zero123nerf.yaml --train --gpu 0 data.image_path=\"/notebooks/stable-dreamfusion/front_rgba.png\" system.prompt_processor.prompt=\"A 3D model of a chibi dragon shaped figure\" system.weights=\"/notebooks/threestudio/outputs/dragon_s/Phase1_34@20230716-083702/ckpts/last.ckpt\" name=dragon_s tag=Phase2t"
   ]
  },
  {
   "cell_type": "code",
   "execution_count": null,
   "metadata": {},
   "outputs": [],
   "source": [
    "# Phase 2 - SDF + dreamfusion\n",
    "%run launch.py --config configs/experimental/imagecondition_zero123nerf_refine.yaml --train --gpu 0  data.image_path=\"/notebooks/stable-dreamfusion/side_rgba.png\" system.prompt_processor.prompt=\"A 3D model of a chibi dragon shaped figure\" system.geometry_convert_from=\"/notebooks/threestudio/outputs/dragon_s/Phase1_34@20230716-083702/ckpts/last.ckpt\" name=dragon_s tag=Phase2_refine  data.default_azimuth_deg=0 data.default_elevation_deg=0  data.default_camera_distance=3.8 data.default_fovy_deg=20.0"
   ]
  },
  {
   "cell_type": "markdown",
   "metadata": {},
   "source": [
    "OTHER"
   ]
  },
  {
   "cell_type": "code",
   "execution_count": null,
   "metadata": {},
   "outputs": [],
   "source": [
    "#EXPORT\n",
    "%run launch.py --config \"outputs/dragon_34/Phase2_refine@20230716-081539/configs/parsed.yaml\" --export --gpu 0 resume=\"outputs/dragon_34/Phase2_refine@20230716-081539/ckpts/last.ckpt\" system.exporter.context_type=cuda  system.exporter_type=mesh-exporter"
   ]
  },
  {
   "cell_type": "markdown",
   "metadata": {},
   "source": [
    "pip install 'mediapipe'\n",
    "sudo apt-get update && apt-get install -y --no-install-recommends \\\n",
    "    pkg-config \\\n",
    "    libglvnd0 \\\n",
    "    libgl1 \\\n",
    "    libglx0 \\\n",
    "    libegl1 \\\n",
    "    libgles2 \\\n",
    "    libglvnd-dev \\\n",
    "    libgl1-mesa-dev \\\n",
    "    libegl1-mesa-dev \\\n",
    "    libgles2-mesa-dev \\\n",
    "    cmake \\\n",
    "    curl \\\n",
    "    libsm6 \\\n",
    "    libxext6 \\\n",
    "    libxrender-dev\n",
    "sudo apt-get install libnvidia-gl-418-server\n",
    "sudo apt-get install  libnvidia-gl \n",
    "sudo apt-get update\n",
    "sudo apt-get install mesa-common-dev libegl1-mesa-dev\n",
    "sudo apt-get install ninja-build\n",
    "source myenv/bin/activate\n",
    "python3.10 -m ipykernel install  --name=myenv\n",
    "python3.10 launch.py --config \"outputs/zero123/[64, 128, 256]_front_rgba.png_prog0@20230716-010647/configs/parsed.yaml\" --export --gpu 0 resume=\"outputs/zero123/[64, 128, 256]_front_rgba.png_prog0@20230716-010647/ckpts/last.ckpt\" system.exporter_type=mesh-exporter\n",
    "\n"
   ]
  }
 ],
 "metadata": {
  "kernelspec": {
   "display_name": "myenv",
   "language": "python",
   "name": "myenv"
  },
  "language_info": {
   "codemirror_mode": {
    "name": "ipython",
    "version": 3
   },
   "file_extension": ".py",
   "mimetype": "text/x-python",
   "name": "python",
   "nbconvert_exporter": "python",
   "pygments_lexer": "ipython3",
   "version": "3.10.6"
  },
  "orig_nbformat": 4
 },
 "nbformat": 4,
 "nbformat_minor": 2
}
