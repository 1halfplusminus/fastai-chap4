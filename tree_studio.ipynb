{
 "cells": [
  {
   "cell_type": "code",
   "execution_count": null,
   "metadata": {},
   "outputs": [],
   "source": [
    "!git clone https://github.com/threestudio-project/threestudio.git"
   ]
  },
  {
   "cell_type": "code",
   "execution_count": null,
   "metadata": {},
   "outputs": [],
   "source": [
    "!sudo apt-get update\n",
    "!sudo apt-get install mesa-common-dev libegl1-mesa-dev -y\n",
    "!sudo apt-get install ninja-build  -y"
   ]
  },
  {
   "cell_type": "code",
   "execution_count": null,
   "metadata": {},
   "outputs": [],
   "source": [
    "%pip install --upgrade pip"
   ]
  },
  {
   "cell_type": "code",
   "execution_count": null,
   "metadata": {},
   "outputs": [],
   "source": [
    "%cd /notebooks/threestudio"
   ]
  },
  {
   "cell_type": "code",
   "execution_count": null,
   "metadata": {},
   "outputs": [],
   "source": [
    "!!git pull"
   ]
  },
  {
   "cell_type": "code",
   "execution_count": null,
   "metadata": {},
   "outputs": [],
   "source": [
    "\"\"\" %pip install torch==1.12.1+cu113 torchvision==0.13.1+cu113 --extra-index-url https://download.pytorch.org/whl/cu113 \"\"\"\n",
    "%pip install ninja\n",
    "%pip install  torch==2.0.0+cu118 torchvision==0.15.1+cu118 --index-url https://download.pytorch.org/whl/cu118 \n",
    "%pip install mediapipe\n"
   ]
  },
  {
   "cell_type": "code",
   "execution_count": null,
   "metadata": {},
   "outputs": [],
   "source": [
    "%pip install  -r requirements.txt  --upgrade  # --force-reinstall"
   ]
  },
  {
   "cell_type": "code",
   "execution_count": null,
   "metadata": {},
   "outputs": [],
   "source": [
    "%pip install lightning==2.0.0 omegaconf==2.3.0 jaxtyping typeguard diffusers transformers accelerate opencv-python tensorboard matplotlib imageio imageio[ffmpeg] trimesh bitsandbytes sentencepiece safetensors huggingface_hub libigl xatlas \n",
    "%pip install open3d plotly # mesh visualization"
   ]
  },
  {
   "cell_type": "code",
   "execution_count": null,
   "metadata": {},
   "outputs": [],
   "source": [
    "%pip install git+https://github.com/KAIR-BAIR/nerfacc.git@v0.5.2\n",
    "%pip install git+https://github.com/NVlabs/nvdiffrast.git"
   ]
  },
  {
   "cell_type": "code",
   "execution_count": null,
   "metadata": {},
   "outputs": [],
   "source": [
    "%pip install git+https://github.com/NVlabs/tiny-cuda-nn/#subdirectory=bindings/torch"
   ]
  },
  {
   "cell_type": "code",
   "execution_count": null,
   "metadata": {},
   "outputs": [],
   "source": [
    "!mkdir load/zero123\n",
    "%cd load/zero123\n",
    "!wget https://zero123.cs.columbia.edu/assets/zero123-xl.ckpt\n",
    "%cd ../../"
   ]
  },
  {
   "cell_type": "code",
   "execution_count": null,
   "metadata": {},
   "outputs": [],
   "source": [
    "!rm -rf ./outputs"
   ]
  },
  {
   "cell_type": "code",
   "execution_count": null,
   "metadata": {},
   "outputs": [],
   "source": [
    "import os\n",
    "%env CUDA_VISIBLE_DEVICES=0\n",
    "# Set environment variable\n",
    "name = \"dragon3\"\n",
    "prompt = \"an 3D render of a cartoon skeleton of a chibi dragon, detailed, 8k\"\n",
    "last=\"last-v3\"\n",
    "%cd /notebooks/threestudio"
   ]
  },
  {
   "cell_type": "code",
   "execution_count": null,
   "metadata": {},
   "outputs": [],
   "source": [
    "\"\"\" data.default_elevation_deg=0\n",
    "data.default_azimuth_deg=90\n",
    "data.default_camera_distance=1\n",
    "system.freq.guidance_eval=0 \"\"\"\n",
    "cmd = f''' --train --gpu 0\n",
    "--config configs/zero123_64.yaml\n",
    "data.image_path=\"load/images/{name}_rgba.png\"\n",
    "name=\"{name}\"\n",
    "tag=Phase1\n",
    "system.loggers.wandb.enable=false\n",
    "use_timestamp=False\n",
    "data.default_azimuth_deg=0\n",
    "data.random_camera.batch_size=14\n",
    "system.loss.lambda_depth=0.05\n",
    "system.loss.lambda_depth_rel=\"[0, 0, 0.05, 100]\"\n",
    "system.loss.lambda_normal=\"[0, 0, 0.05, 100]\"\n",
    "system.geometry.density_blob_scale=8.\n",
    "system.freq.guidance_eval=37\n",
    "system.guidance.cond_elevation_deg=0\n",
    "'''\n",
    "\n",
    "%run launch.py {cmd}"
   ]
  },
  {
   "cell_type": "code",
   "execution_count": null,
   "metadata": {},
   "outputs": [],
   "source": [
    "# Phase 1.5 - 512 refine\n",
    "#system.loggers.wandb.project=\"zero123\" system.loggers.wandb.name=${NAME}_Phase1p5\n",
    "\n",
    "cmd = f'''--config configs/zero123-geometry.yaml --train --gpu 0 \n",
    "data.image_path=./load/images/{name}_rgba.png \n",
    "system.geometry_convert_from=./outputs/{name}/Phase1/ckpts/{last}.ckpt \n",
    "use_timestamp=False name={name} tag=Phase1p5'''\n",
    "\n",
    "%run launch.py {cmd}"
   ]
  },
  {
   "cell_type": "code",
   "execution_count": null,
   "metadata": {},
   "outputs": [],
   "source": [
    "# Phase 2 - dreamfusion\n",
    "#data.random_camera.batch_size=2 trainer.accumulate_grad_batches=4 system.freq.guidance_eval=0\n",
    "# system.freq.guidance_eval=0 system.loggers.wandb.enable=false system.loggers.wandb.project=\"zero123\" system.loggers.wandb.name=${NAME}_Phase2\n",
    "tag=\"Phase1p5\"\n",
    "last=\"last\"\n",
    "cmd = f'''--config configs/experimental/imagecondition_zero123nerf.yaml \n",
    "--train --gpu 0 data.image_path=./load/images/{name}_rgba.png\n",
    "system.prompt_processor.prompt=\"{prompt}\" \n",
    "system.weights=\"./outputs/{name}/{tag}/ckpts/{last}.ckpt\" \n",
    "system.freq.guidance_eval=23\n",
    "name={name} tag=Phase2 system.loggers.wandb.enable=false  use_timestamp=False'''\n",
    "\n",
    "%run launch.py {cmd}"
   ]
  },
  {
   "cell_type": "code",
   "execution_count": null,
   "metadata": {},
   "outputs": [],
   "source": [
    "\n",
    "# Phase 2 - dreamfusion\n",
    "cmd = f'''--config configs/experimental/my_imagecondition_zero123nerf_refine.yaml \n",
    "--train --gpu 0  system.prompt_processor.prompt=\"{prompt}\" \n",
    "system.geometry_convert_from=\"./outputs/{name}/{phase}/ckpts/{last}.ckpt\" \n",
    "name={name} \n",
    "tag=Phase2_refine system.loggers.wandb.enable=false \n",
    "use_timestamp=False\n",
    "data.image_path=./load/images/{name}_rgba.png\n",
    "'''\n",
    "\n",
    "%run launch.py {cmd}"
   ]
  },
  {
   "cell_type": "code",
   "execution_count": null,
   "metadata": {},
   "outputs": [],
   "source": [
    "tag=\"Phase1p5\"\n",
    "last=\"last\"\n",
    "cmd=f'''--config \"outputs/{name}/{tag}/configs/parsed.yaml\" \n",
    "--export --gpu 0 resume=\"outputs/{name}/{tag}/ckpts/{last}.ckpt\" \n",
    "system.exporter.context_type=cuda  system.exporter_type=mesh-exporter'''\n",
    "%run launch.py {cmd}"
   ]
  },
  {
   "cell_type": "markdown",
   "metadata": {},
   "source": [
    "TEXT MESH"
   ]
  },
  {
   "cell_type": "code",
   "execution_count": null,
   "metadata": {},
   "outputs": [],
   "source": [
    "# uses DeepFloyd IF, requires ~15GB VRAM\n",
    "cmd= f'''\n",
    "--config configs/textmesh-if.yaml --train --gpu 0 tag=DRAGON system.prompt_processor.prompt=\"{prompt}\"\n",
    "system.prompt_processor_type=\"stable-diffusion-prompt-processor\"\n",
    "system.guidance_type=\"stable-diffusion-guidance\"\n",
    "system.guidance.pretrained_model_name_or_path=\"stabilityai/stable-diffusion-2-1\"\n",
    "system.prompt_processor.pretrained_model_name_or_path=\"stabilityai/stable-diffusion-2-1\"\n",
    "'''\n",
    "%run launch.py {cmd}"
   ]
  },
  {
   "cell_type": "code",
   "execution_count": null,
   "metadata": {},
   "outputs": [],
   "source": [
    "tag=\"DRAGON@20230726-085910\"\n",
    "name=\"textmesh-if\"\n",
    "cmd=f'--config \"outputs/{name}/{tag}/configs/parsed.yaml\" --export --gpu 0 resume=\"outputs/{name}/{tag}/ckpts/last.ckpt\" system.exporter.context_type=cuda  system.exporter_type=mesh-exporter'\n",
    "%run launch.py {cmd}"
   ]
  },
  {
   "cell_type": "markdown",
   "metadata": {},
   "source": [
    "CONTROL 4D"
   ]
  },
  {
   "cell_type": "code",
   "execution_count": null,
   "metadata": {},
   "outputs": [],
   "source": [
    "cmd = f'''--config configs/control4d-static.yaml --train --gpu 0 \n",
    "data.dataroot=\"YOUR_DATAROOT/twindom\" \n",
    "system.prompt_processor.prompt=\"{prompt}\" \n",
    "name={name} \n",
    "tag=Phase1 \n",
    "system.loggers.wandb.enable=false \n",
    "use_timestamp=False'''\n",
    "\n",
    "%run launch.py {cmd}"
   ]
  },
  {
   "cell_type": "markdown",
   "metadata": {},
   "source": [
    "OTHER"
   ]
  },
  {
   "cell_type": "markdown",
   "metadata": {},
   "source": [
    "NERF STUDIO"
   ]
  },
  {
   "cell_type": "markdown",
   "metadata": {},
   "source": [
    "pip install 'mediapipe'\n",
    "sudo apt-get update && apt-get install -y --no-install-recommends \\\n",
    "    pkg-config \\\n",
    "    libglvnd0 \\\n",
    "    libgl1 \\\n",
    "    libglx0 \\\n",
    "    libegl1 \\\n",
    "    libgles2 \\\n",
    "    libglvnd-dev \\\n",
    "    libgl1-mesa-dev \\\n",
    "    libegl1-mesa-dev \\\n",
    "    libgles2-mesa-dev \\\n",
    "    cmake \\\n",
    "    curl \\\n",
    "    libsm6 \\\n",
    "    libxext6 \\\n",
    "    libxrender-dev\n",
    "sudo apt-get install libnvidia-gl-418-server\n",
    "sudo apt-get install  libnvidia-gl \n",
    "sudo apt-get update\n",
    "sudo apt-get install mesa-common-dev libegl1-mesa-dev\n",
    "sudo apt-get install ninja-build\n",
    "source myenv/bin/activate\n",
    "deactivate\n",
    "python3.10 -m ipykernel install  --name=myenv\n",
    "python3.10 launch.py --config \"outputs/zero123/[64, 128, 256]_front_rgba.png_prog0@20230716-010647/configs/parsed.yaml\" --export --gpu 0 resume=\"outputs/zero123/[64, 128, 256]_front_rgba.png_prog0@20230716-010647/ckpts/last.ckpt\" system.exporter_type=mesh-exporter\n",
    "\n",
    "sudo apt install colmap"
   ]
  },
  {
   "cell_type": "markdown",
   "metadata": {},
   "source": [
    "NERF STUDIO"
   ]
  },
  {
   "cell_type": "code",
   "execution_count": null,
   "metadata": {},
   "outputs": [],
   "source": [
    "!sudo apt-get -y install \\\n",
    "    build-essential \\\n",
    "    libboost-program-options-dev \\\n",
    "    libboost-filesystem-dev \\\n",
    "    libboost-graph-dev \\\n",
    "    libboost-system-dev \\\n",
    "    libboost-test-dev \\\n",
    "    libeigen3-dev \\\n",
    "    libflann-dev \\\n",
    "    libfreeimage-dev \\\n",
    "    libmetis-dev \\\n",
    "    libgoogle-glog-dev \\\n",
    "    libgflags-dev \\\n",
    "    libsqlite3-dev \\\n",
    "    libglew-dev \\\n",
    "    qtbase5-dev \\\n",
    "    libqt5opengl5-dev \\\n",
    "    libcgal-dev \\\n",
    "    libceres-dev"
   ]
  },
  {
   "cell_type": "code",
   "execution_count": null,
   "metadata": {},
   "outputs": [],
   "source": [
    "!sudo apt-get  install -y '^libxcb.*-dev' libx11-xcb-dev libglu1-mesa-dev libxrender-dev libxi-dev libxkbcommon-dev libxkbcommon-x11-dev"
   ]
  },
  {
   "cell_type": "code",
   "execution_count": null,
   "metadata": {},
   "outputs": [],
   "source": [
    "!sudo apt-get install -y  libxcb-xinerama0"
   ]
  },
  {
   "cell_type": "code",
   "execution_count": null,
   "metadata": {},
   "outputs": [],
   "source": [
    "!sudo apt-get update && apt-get install -y --no-install-recommends \\\n",
    "    pkg-config \\\n",
    "    libglvnd0 \\\n",
    "    libgl1 \\\n",
    "    libglx0 \\\n",
    "    libegl1 \\\n",
    "    libgles2 \\\n",
    "    libglvnd-dev \\\n",
    "    libgl1-mesa-dev \\\n",
    "    libegl1-mesa-dev \\\n",
    "    libgles2-mesa-dev \\\n",
    "    cmake \\\n",
    "    curl \\\n",
    "    libsm6 \\\n",
    "    libxext6 \\\n",
    "    libxrender-dev"
   ]
  },
  {
   "cell_type": "code",
   "execution_count": null,
   "metadata": {},
   "outputs": [],
   "source": [
    "%cd ../"
   ]
  },
  {
   "cell_type": "code",
   "execution_count": null,
   "metadata": {},
   "outputs": [],
   "source": [
    "!git clone https://github.com/nerfstudio-project/nerfstudio.git\n"
   ]
  },
  {
   "cell_type": "code",
   "execution_count": null,
   "metadata": {},
   "outputs": [],
   "source": [
    "%cd nerfstudio"
   ]
  },
  {
   "cell_type": "code",
   "execution_count": null,
   "metadata": {},
   "outputs": [],
   "source": [
    "\n",
    "%pip install  --upgrade pip setuptools\n",
    "%pip install -e . --force-reinstall"
   ]
  },
  {
   "cell_type": "code",
   "execution_count": null,
   "metadata": {},
   "outputs": [],
   "source": [
    "%cd ../"
   ]
  },
  {
   "cell_type": "code",
   "execution_count": null,
   "metadata": {},
   "outputs": [],
   "source": [
    "!git clone https://github.com/colmap/colmap"
   ]
  },
  {
   "cell_type": "code",
   "execution_count": null,
   "metadata": {},
   "outputs": [],
   "source": [
    "!sudo apt-get install -y \\\n",
    "    git \\\n",
    "    cmake \\\n",
    "    ninja-build \\\n",
    "    build-essential \\\n",
    "    libboost-program-options-dev \\\n",
    "    libboost-filesystem-dev \\\n",
    "    libboost-graph-dev \\\n",
    "    libboost-system-dev \\\n",
    "    libboost-test-dev \\\n",
    "    libeigen3-dev \\\n",
    "    libflann-dev \\\n",
    "    libfreeimage-dev \\\n",
    "    libmetis-dev \\\n",
    "    libgoogle-glog-dev \\\n",
    "    libgflags-dev \\\n",
    "    libsqlite3-dev \\\n",
    "    libglew-dev \\\n",
    "    qtbase5-dev \\\n",
    "    libqt5opengl5-dev \\\n",
    "    libcgal-dev \\\n",
    "    libceres-dev"
   ]
  },
  {
   "cell_type": "code",
   "execution_count": null,
   "metadata": {},
   "outputs": [],
   "source": [
    "!sudo apt-get install -y \\\n",
    "    nvidia-cuda-toolkit \\\n",
    "    nvidia-cuda-toolkit-gcc"
   ]
  },
  {
   "cell_type": "code",
   "execution_count": null,
   "metadata": {},
   "outputs": [],
   "source": [
    "!sudo apt-get install -y libgtest-dev"
   ]
  },
  {
   "cell_type": "code",
   "execution_count": null,
   "metadata": {},
   "outputs": [],
   "source": [
    "%cd colmap\n",
    "!git checkout master\n",
    "!mkdir build\n",
    "%cd build\n",
    "!cmake .. -GNinja\n",
    "!ninja\n",
    "!sudo ninja install"
   ]
  },
  {
   "cell_type": "code",
   "execution_count": null,
   "metadata": {},
   "outputs": [],
   "source": [
    "%pip uninstall opencv-python\n",
    "%pip install  opencv-python-headless --force-reinstall"
   ]
  },
  {
   "cell_type": "code",
   "execution_count": null,
   "metadata": {},
   "outputs": [],
   "source": [
    "%pip install --upgrade pip\n",
    "%pip install torch==2.0.1+cu118 torchvision==0.15.2+cu118 --extra-index-url https://download.pytorch.org/whl/cu118\n"
   ]
  },
  {
   "cell_type": "code",
   "execution_count": null,
   "metadata": {},
   "outputs": [],
   "source": [
    "%pip install nerfstudio"
   ]
  },
  {
   "cell_type": "code",
   "execution_count": null,
   "metadata": {},
   "outputs": [],
   "source": [
    "%env CUDA_VISIBLE_DEVICES=0"
   ]
  },
  {
   "cell_type": "code",
   "execution_count": null,
   "metadata": {},
   "outputs": [],
   "source": [
    "!/notebooks/myenv/bin/ns-process-data video --data /notebooks/dragon-v/dragon.mkv --output-dir /notebooks/dragon-v/colmap "
   ]
  },
  {
   "cell_type": "code",
   "execution_count": null,
   "metadata": {},
   "outputs": [],
   "source": [
    "\n",
    "# Install localtunnel\n",
    "# We are using localtunnel https://github.com/localtunnel/localtunnel but ngrok could also be used\n",
    "!npm install -g localtunnel\n",
    "\n",
    "# Tunnel port 7007, the default for\n",
    "!rm url.txt 2> /dev/null\n",
    "get_ipython().system_raw('lt --port 7007 >> url.txt 2>&1 &')\n",
    "\n",
    "import time\n",
    "time.sleep(3) # the previous command needs time to write to url.txt\n",
    "\n",
    "\n",
    "with open('url.txt') as f:\n",
    "  lines = f.readlines()\n",
    "websocket_url = lines[0].split(\": \")[1].strip().replace(\"https\", \"wss\")\n",
    "print(websocket_url)\n",
    "!/notebooks/myenv/bin/ns-train nerfacto --data /notebooks/robot \n"
   ]
  },
  {
   "cell_type": "code",
   "execution_count": null,
   "metadata": {},
   "outputs": [],
   "source": [
    "# Make the directory if it doesn't exist yet.\n",
    "# This location is recommended by the distribution maintainers.\n",
    "!sudo mkdir --parents --mode=0755 /etc/apt/keyrings\n",
    "# Download the key, convert the signing-key to a full\n",
    "# keyring required by apt and store in the keyring directory\n",
    "!wget https://repo.radeon.com/rocm/rocm.gpg.key -O - | \\\n",
    "    gpg --dearmor | sudo tee /etc/apt/keyrings/rocm.gpg > /dev/null"
   ]
  },
  {
   "cell_type": "code",
   "execution_count": null,
   "metadata": {},
   "outputs": [],
   "source": [
    "# Kernel driver repository for jammy\n",
    "!sudo tee /etc/apt/sources.list.d/amdgpu.list <<'EOF'\n",
    "!deb [arch=amd64 signed-by=/etc/apt/keyrings/rocm.gpg] https://repo.radeon.com/amdgpu/latest/ubuntu jammy main\n",
    "!EOF\n",
    "# ROCm repository for jammy\n",
    "!sudo tee /etc/apt/sources.list.d/rocm.list <<'EOF'\n",
    "!deb [arch=amd64 signed-by=/etc/apt/keyrings/rocm.gpg] https://repo.radeon.com/rocm/apt/debian jammy main\n",
    "!EOF\n",
    "# Prefer packages from the rocm repository over system packages\n",
    "!echo -e 'Package: *\\nPin: release o=repo.radeon.com\\nPin-Priority: 600' | sudo tee /etc/apt/preferences.d/rocm-pin-600"
   ]
  },
  {
   "cell_type": "code",
   "execution_count": null,
   "metadata": {},
   "outputs": [],
   "source": [
    "!sudo apt install -y amdgpu-dkms"
   ]
  },
  {
   "cell_type": "code",
   "execution_count": null,
   "metadata": {},
   "outputs": [],
   "source": [
    "\n",
    "#%pip install --ignore-installed torchaudio==0.10.0+cu113"
   ]
  },
  {
   "cell_type": "code",
   "execution_count": null,
   "metadata": {},
   "outputs": [],
   "source": [
    "%pip install torch==2.0.1+cu118 torchaudio torchvision+cu118 --force-reinstall -f https://download.pytorch.org/whl/torch_stable.html\n"
   ]
  },
  {
   "cell_type": "code",
   "execution_count": null,
   "metadata": {},
   "outputs": [],
   "source": [
    "%pip install   torchaudio==2.0.2+cu118 torchvision==0.15.2+cu118 torch==2.0.1+cu118 -f https://download.pytorch.org/whl/torch_stable.html"
   ]
  },
  {
   "cell_type": "code",
   "execution_count": null,
   "metadata": {},
   "outputs": [],
   "source": [
    "!/notebooks/myenv/bin/ns-export tsdf --load-config outputs/robot/nerfacto/2023-07-18_094132/config.yml    --output-dir ./robot-nerfacto-tsdf"
   ]
  },
  {
   "cell_type": "code",
   "execution_count": null,
   "metadata": {},
   "outputs": [],
   "source": [
    "!ns-download-data nerfstudio --capture-name=poster"
   ]
  }
 ],
 "metadata": {
  "kernelspec": {
   "display_name": "three",
   "language": "python",
   "name": "three"
  },
  "language_info": {
   "codemirror_mode": {
    "name": "ipython",
    "version": 3
   },
   "file_extension": ".py",
   "mimetype": "text/x-python",
   "name": "python",
   "nbconvert_exporter": "python",
   "pygments_lexer": "ipython3",
   "version": "3.10.6"
  },
  "orig_nbformat": 4
 },
 "nbformat": 4,
 "nbformat_minor": 2
}
