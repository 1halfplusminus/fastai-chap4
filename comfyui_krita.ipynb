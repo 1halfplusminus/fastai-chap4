{
 "cells": [
  {
   "cell_type": "code",
   "execution_count": null,
   "metadata": {},
   "outputs": [],
   "source": [
    "%cd /notebooks\n",
    "!git clone https://github.com/Acly/krita-ai-diffusion.git\n",
    "%cd krita-ai-diffusion/scripts\n",
    "%pip install aiohttp tqdm"
   ]
  },
  {
   "cell_type": "code",
   "execution_count": null,
   "metadata": {},
   "outputs": [],
   "source": [
    "%cd /notebooks/\n",
    "!wget https://github.com/Acly/krita-ai-diffusion/releases/download/v1.15.0/krita_ai_diffusion-1.15.0.zip -O krita_ai_diffusion-1.15.0.zip\n",
    "!unzip -o krita_ai_diffusion-1.15.0.zip -d ./krita_ai_diffusion\n"
   ]
  },
  {
   "cell_type": "code",
   "execution_count": null,
   "metadata": {},
   "outputs": [],
   "source": [
    "%cd /notebooks/krita_ai_diffusion/ai_diffusion\n",
    "%run ./download_models.py"
   ]
  }
 ],
 "metadata": {
  "kernelspec": {
   "display_name": "Python 3 (ipykernel)",
   "language": "python",
   "name": "python3"
  }
 },
 "nbformat": 4,
 "nbformat_minor": 2
}
