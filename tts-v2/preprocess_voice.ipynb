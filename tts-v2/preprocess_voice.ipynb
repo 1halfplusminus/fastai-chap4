{
 "cells": [
  {
   "cell_type": "code",
   "execution_count": null,
   "metadata": {},
   "outputs": [],
   "source": [
    "%pip install pydub\n"
   ]
  },
  {
   "cell_type": "code",
   "execution_count": null,
   "metadata": {},
   "outputs": [],
   "source": [
    "from pydub import AudioSegment\n",
    "import os\n"
   ]
  },
  {
   "cell_type": "code",
   "execution_count": null,
   "metadata": {},
   "outputs": [],
   "source": [
    "folder_path = '/notebooks/audio_to_process'"
   ]
  },
  {
   "cell_type": "code",
   "execution_count": null,
   "metadata": {},
   "outputs": [],
   "source": [
    "combined_audio = None\n",
    "\n",
    "for filename in os.listdir(folder_path):\n",
    "    if filename.endswith((\".mp3\", \".wav\", \".ogg\", \".flac\")):  # Add other formats if needed\n",
    "        file_path = os.path.join(folder_path, filename)\n",
    "        format = filename.split('.')[-1]\n",
    "        audio = AudioSegment.from_file(file_path, format=format)\n",
    "\n",
    "        if combined_audio is None:\n",
    "            combined_audio = audio\n",
    "        else:\n",
    "            combined_audio += audio\n",
    "\n",
    "# Handle the case where no valid audio files were found\n",
    "if combined_audio is None:\n",
    "    raise Exception(\"No valid audio files found in the folder.\")\n"
   ]
  },
  {
   "cell_type": "code",
   "execution_count": null,
   "metadata": {},
   "outputs": [],
   "source": [
    "combined_audio.export(\"combined_audio.wav\", format=\"wav\")\n"
   ]
  },
  {
   "cell_type": "code",
   "execution_count": null,
   "metadata": {},
   "outputs": [],
   "source": [
    "from speechbrain.pretrained import SepformerSeparation as separator\n",
    "import torchaudio\n",
    "\n",
    "model = separator.from_hparams(source=\"speechbrain/sepformer-dns4-16k-enhancement\", savedir='pretrained_models/sepformer-dns4-16k-enhancement')\n",
    "\n",
    "# for custom file, change path\n",
    "est_sources = model.separate_file(path='/notebooks/speakers/alex.mp3') \n",
    "\n",
    "torchaudio.save(\"notebooks/speakers/alex.wav'\", est_sources[:, :, 0].detach().cpu(), 16000)"
   ]
  },
  {
   "cell_type": "code",
   "execution_count": null,
   "metadata": {},
   "outputs": [],
   "source": [
    "from IPython.display import Audio\n",
    "Audio('/notebooks/by_speaker/SPEAKER_00.wav')"
   ]
  }
 ],
 "metadata": {
  "kernelspec": {
   "display_name": "tts",
   "language": "python",
   "name": "tts"
  },
  "language_info": {
   "codemirror_mode": {
    "name": "ipython",
    "version": 3
   },
   "file_extension": ".py",
   "mimetype": "text/x-python",
   "name": "python",
   "nbconvert_exporter": "python",
   "pygments_lexer": "ipython3",
   "version": "3.11.5"
  }
 },
 "nbformat": 4,
 "nbformat_minor": 2
}
