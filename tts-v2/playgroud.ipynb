{
 "cells": [
  {
   "cell_type": "code",
   "execution_count": null,
   "metadata": {},
   "outputs": [],
   "source": [
    "%pip install datasets"
   ]
  },
  {
   "cell_type": "code",
   "execution_count": null,
   "metadata": {},
   "outputs": [],
   "source": [
    "%pip install git+https://github.com/huggingface/huggingface_hub"
   ]
  },
  {
   "cell_type": "code",
   "execution_count": null,
   "metadata": {},
   "outputs": [],
   "source": [
    "%pip install ipywidgets"
   ]
  },
  {
   "cell_type": "code",
   "execution_count": null,
   "metadata": {},
   "outputs": [],
   "source": [
    "from huggingface_hub import login\n",
    "login()"
   ]
  },
  {
   "cell_type": "code",
   "execution_count": null,
   "metadata": {},
   "outputs": [],
   "source": [
    "from datasets import load_dataset\n",
    "\n",
    "gigaspeech = load_dataset(\"mozilla-foundation/common_voice_13_0\", \"fr\", streaming=True, split=\"train\")\n"
   ]
  },
  {
   "cell_type": "code",
   "execution_count": null,
   "metadata": {},
   "outputs": [],
   "source": [
    "print(gigaspeech.column_names)"
   ]
  },
  {
   "cell_type": "code",
   "execution_count": null,
   "metadata": {},
   "outputs": [],
   "source": [
    "\n",
    "# Replace 'column_name' with the actual name of the column you're interested in\n",
    "column_name = 'age'\n",
    "\n",
    "def filter_condition(example):\n",
    "    # Replace 'column_name' and 'condition' with your specific column and condition\n",
    "    return example['age'] == 'teens' and example['gender'] == 'male'\n",
    "\n",
    "filtered_dataset = gigaspeech.filter(filter_condition)"
   ]
  },
  {
   "cell_type": "code",
   "execution_count": null,
   "metadata": {},
   "outputs": [],
   "source": [
    "print(filtered_dataset.column_names)"
   ]
  },
  {
   "cell_type": "code",
   "execution_count": null,
   "metadata": {},
   "outputs": [],
   "source": [
    "from IPython.display import Audio\n",
    "import numpy as np\n",
    "for example in filtered_dataset:\n",
    "    print(example['audio'])\n",
    "    audio_widget = Audio(data=np.array(example['audio']['array']) ,rate=example['audio']['sampling_rate'])\n",
    "    break\n",
    "audio_widget"
   ]
  },
  {
   "cell_type": "code",
   "execution_count": null,
   "metadata": {},
   "outputs": [],
   "source": [
    "%pip install --upgrade youtube-dl"
   ]
  },
  {
   "cell_type": "code",
   "execution_count": null,
   "metadata": {},
   "outputs": [],
   "source": [
    "!pip install --upgrade youtube-dl\n"
   ]
  },
  {
   "cell_type": "code",
   "execution_count": null,
   "metadata": {},
   "outputs": [],
   "source": [
    "\n",
    "%pip install -U yt-dlp"
   ]
  },
  {
   "cell_type": "code",
   "execution_count": null,
   "metadata": {},
   "outputs": [],
   "source": [
    "# Define your variables\n",
    "youtube_url = 'VMjpIqVPlsU'  # Replace with your YouTube URL\n",
    "output_path = 'downloaded_audio.mp3'    # Replace with your desired output path for the downloaded audio\n",
    "trimmed_output_path = 'trimmed_audio.mp3'  # Output path for the trimmed audio\n",
    "start_time = '00:01:30'  # Start time for trimming (e.g., 1 minute 30 seconds)\n",
    "duration = '00:02:00'    # Duration of the audio to keep (e.g., 2 minutes)\n",
    "\n",
    "# Download the audio from the YouTube video\n",
    "!/root/miniconda3/envs/tts/bin/yt-dlp -x --audio-format mp3 -o {output_path} {youtube_url}\n",
    "\n",
    "# Trim the audio using ffmpeg\n",
    "!ffmpeg -i {output_path} -ss {start_time} -t {duration} -acodec copy {trimmed_output_path}\n",
    "\n"
   ]
  },
  {
   "cell_type": "code",
   "execution_count": null,
   "metadata": {},
   "outputs": [],
   "source": [
    "from IPython.display import Audio\n",
    "\n",
    "Audio(trimmed_output_path)"
   ]
  },
  {
   "cell_type": "code",
   "execution_count": null,
   "metadata": {},
   "outputs": [],
   "source": [
    "!rm {output_path}"
   ]
  }
 ],
 "metadata": {
  "kernelspec": {
   "display_name": "tts",
   "language": "python",
   "name": "tts"
  },
  "language_info": {
   "codemirror_mode": {
    "name": "ipython",
    "version": 3
   },
   "file_extension": ".py",
   "mimetype": "text/x-python",
   "name": "python",
   "nbconvert_exporter": "python",
   "pygments_lexer": "ipython3",
   "version": "3.11.5"
  }
 },
 "nbformat": 4,
 "nbformat_minor": 2
}
