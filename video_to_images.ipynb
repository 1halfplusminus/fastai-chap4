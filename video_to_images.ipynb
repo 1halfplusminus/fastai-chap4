{
 "cells": [
  {
   "cell_type": "code",
   "execution_count": null,
   "metadata": {},
   "outputs": [],
   "source": [
    "%pip install opencv-python"
   ]
  },
  {
   "cell_type": "code",
   "execution_count": null,
   "metadata": {},
   "outputs": [],
   "source": [
    "import cv2\n",
    "import os\n",
    "\n",
    "def video_to_frames(video_path, output_folder):\n",
    "    # Open the video file\n",
    "    cap = cv2.VideoCapture(video_path)\n",
    "    \n",
    "    if not cap.isOpened():\n",
    "        print(f'Error: Cannot open video file {video_path}')\n",
    "        return\n",
    "    \n",
    "    # Create output folder if it doesn't exist\n",
    "    if not os.path.exists(output_folder):\n",
    "        os.makedirs(output_folder)\n",
    "    \n",
    "    frame_index = 0\n",
    "    while True:\n",
    "        # Read next frame from the video\n",
    "        ret, frame = cap.read()\n",
    "        if not ret:\n",
    "            break  # Break the loop if we reach the end of the video\n",
    "        \n",
    "        # Create output file path\n",
    "        output_file_path = os.path.join(output_folder, f'{frame_index}.jpg')\n",
    "        \n",
    "        # Save frame to file\n",
    "        cv2.imwrite(output_file_path, frame)\n",
    "        print(f'Saved frame {frame_index} to {output_file_path}')\n",
    "        \n",
    "        frame_index += 1\n",
    "    \n",
    "    # Release video capture object\n",
    "    cap.release()\n",
    "    print('Finished extracting frames')\n",
    "\n",
    "# Specify the path to your video and the output folder\n",
    "video_path = '/Users/gaelsautron/Downloads/logan crash_2.gif.mp4'  # or 'your_video.gif' or any other supported format\n",
    "output_folder = '/Users/gaelsautron/Downloads/logan crash'\n",
    "\n",
    "# Call the function\n",
    "video_to_frames(video_path, output_folder)"
   ]
  }
 ],
 "metadata": {
  "kernelspec": {
   "display_name": ".venv",
   "language": "python",
   "name": "python3"
  },
  "language_info": {
   "codemirror_mode": {
    "name": "ipython",
    "version": 3
   },
   "file_extension": ".py",
   "mimetype": "text/x-python",
   "name": "python",
   "nbconvert_exporter": "python",
   "pygments_lexer": "ipython3",
   "version": "3.9.16"
  }
 },
 "nbformat": 4,
 "nbformat_minor": 2
}
