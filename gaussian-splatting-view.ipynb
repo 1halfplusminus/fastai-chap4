{
 "cells": [
  {
   "cell_type": "code",
   "execution_count": null,
   "metadata": {},
   "outputs": [],
   "source": [
    "%cd /notebooks/gaussian-splatting"
   ]
  },
  {
   "cell_type": "code",
   "execution_count": null,
   "metadata": {},
   "outputs": [],
   "source": [
    "!wget https://github.com/opencv/opencv/archive/4.5.0.tar.gz\n",
    "!tar -xvzf 4.5.0.tar.gz\n",
    "!rm 4.5.0.tar.gz"
   ]
  },
  {
   "cell_type": "code",
   "execution_count": null,
   "metadata": {},
   "outputs": [],
   "source": [
    "\n",
    "%cd opencv-4.5.0\n",
    "!mkdir build\n",
    "%cd build\n",
    "# Configure\n",
    "!cmake -D CMAKE_BUILD_TYPE=RELEASE \\\n",
    "-D CMAKE_INSTALL_PREFIX=/usr/local \\\n",
    "-D WITH_TBB=ON \\\n",
    "-D ENABLE_FAST_MATH=1 \\\n",
    "-D CUDA_FAST_MATH=1 \\\n",
    "-D WITH_CUBLAS=1 \\\n",
    "-D WITH_CUDA=ON \\\n",
    "-D BUILD_opencv_cudacodec=OFF \\\n",
    "-D WITH_CUDNN=ON \\\n",
    "-D OPENCV_DNN_CUDA=ON \\\n",
    "-D CUDA_ARCH_BIN=7.5 \\\n",
    "-D WITH_V4L=ON \\\n",
    "-D WITH_QT=OFF \\\n",
    "-D WITH_OPENGL=ON \\\n",
    "-D WITH_GSTREAMER=ON \\\n",
    "-D OPENCV_GENERATE_PKGCONFIG=ON \\\n",
    "-D OPENCV_PC_FILE_NAME=opencv.pc \\\n",
    "-D OPENCV_ENABLE_NONFREE=ON \\\n",
    "-D OPENCV_PYTHON3_INSTALL_PATH=~/.virtualenvs/cv/lib/python3.8/site-packages \\\n",
    "-D PYTHON_EXECUTABLE=~/.virtualenvs/cv/bin/python \\\n",
    "-D OPENCV_EXTRA_MODULES_PATH=~/Downloads/opencv_contrib-4.5.2/modules \\\n",
    "-D INSTALL_PYTHON_EXAMPLES=OFF \\\n",
    "-D INSTALL_C_EXAMPLES=OFF \\\n",
    "-D BUILD_EXAMPLES=OFF ..\n",
    "# Build\n",
    "!cmake make -j8\n",
    "!make install\n"
   ]
  },
  {
   "cell_type": "code",
   "execution_count": null,
   "metadata": {},
   "outputs": [],
   "source": [
    "# Dependencies\n",
    "!sudo apt install -y libglew-dev libassimp-dev libboost-all-dev libgtk-3-dev libopencv-dev libglfw3-dev libavdevice-dev libavcodec-dev libeigen3-dev libxxf86vm-dev libembree-dev"
   ]
  },
  {
   "cell_type": "code",
   "execution_count": null,
   "metadata": {},
   "outputs": [],
   "source": [
    "\n",
    "# Project setup\n",
    "%cd SIBR_viewers\n",
    "!git checkout fossa_compatibility\n",
    "!cmake -Bbuild . -DCMAKE_BUILD_TYPE=Release # add -G Ninja to build faster\n",
    "!cmake --build build -j24 --target install"
   ]
  },
  {
   "cell_type": "code",
   "execution_count": null,
   "metadata": {},
   "outputs": [],
   "source": [
    "%cd /notebooks/gaussian-splatting/SIBR_viewers/install/bin/"
   ]
  },
  {
   "cell_type": "code",
   "execution_count": null,
   "metadata": {},
   "outputs": [],
   "source": [
    "!ls"
   ]
  },
  {
   "cell_type": "code",
   "execution_count": null,
   "metadata": {},
   "outputs": [],
   "source": [
    "!apt-get install -y xvfb"
   ]
  },
  {
   "cell_type": "code",
   "execution_count": null,
   "metadata": {},
   "outputs": [],
   "source": [
    "!apt-get install virtualgl\n"
   ]
  },
  {
   "cell_type": "code",
   "execution_count": null,
   "metadata": {},
   "outputs": [],
   "source": [
    "import subprocess\n",
    "import os\n",
    "\n",
    "xvfb = subprocess.Popen([\"Xvfb\", \":1\", \"-screen\", \"0\", \"1024x768x16\"])\n",
    "os.environ[\"DISPLAY\"] = \":1\"\n",
    "!./SIBR_remoteGaussian_app -m /notebooks/gaussian-splatting/tandt/train"
   ]
  }
 ],
 "metadata": {
  "kernelspec": {
   "display_name": "gaussian-splatting",
   "language": "python",
   "name": "gaussian-splatting"
  }
 },
 "nbformat": 4,
 "nbformat_minor": 2
}
