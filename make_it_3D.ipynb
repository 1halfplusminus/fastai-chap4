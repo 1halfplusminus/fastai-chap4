{
 "cells": [
  {
   "cell_type": "code",
   "execution_count": null,
   "metadata": {},
   "outputs": [],
   "source": [
    "%pip install xformers==0.0.19 torch==2.0.0+cu118 torchvision  torchaudio --extra-index-url https://download.pytorch.org/whl/cu118%pip install git+https://github.com/NVlabs/tiny-cuda-nn/#subdirectory=bindings/torch\n",
    "%pip install git+https://github.com/openai/CLIP.git\n",
    "%pip install git+https://github.com/huggingface/diffusers.git\n",
    "%pip install git+https://github.com/huggingface/huggingface_hub.git\n",
    "%pip install git+https://github.com/facebookresearch/pytorch3d.git\n",
    "%pip install git+https://github.com/S-aiueo32/contextual_loss_pytorch.git"
   ]
  },
  {
   "cell_type": "code",
   "execution_count": null,
   "metadata": {},
   "outputs": [],
   "source": [
    "!git clone https://github.com/junshutang/Make-It-3D.git"
   ]
  },
  {
   "cell_type": "code",
   "execution_count": null,
   "metadata": {},
   "outputs": [],
   "source": [
    "%cd /notebooks/Make-It-3D"
   ]
  },
  {
   "cell_type": "code",
   "execution_count": null,
   "metadata": {},
   "outputs": [],
   "source": [
    "%pip install tensorboardX torch_ema torchmetrics open3d"
   ]
  },
  {
   "cell_type": "code",
   "execution_count": null,
   "metadata": {},
   "outputs": [],
   "source": [
    "%pip install -r requirements.txt"
   ]
  },
  {
   "cell_type": "code",
   "execution_count": null,
   "metadata": {},
   "outputs": [],
   "source": [
    "%pip install -r requirements.txt \n",
    "%pip install ./raymarching"
   ]
  },
  {
   "cell_type": "code",
   "execution_count": null,
   "metadata": {},
   "outputs": [],
   "source": [
    "!rm DPT -rf\n",
    "!git clone https://github.com/isl-org/DPT.git\n",
    "!mkdir dpt_weights"
   ]
  },
  {
   "cell_type": "code",
   "execution_count": null,
   "metadata": {},
   "outputs": [],
   "source": [
    "%cd /notebooks/Make-It-3D"
   ]
  },
  {
   "cell_type": "code",
   "execution_count": null,
   "metadata": {},
   "outputs": [],
   "source": [
    "\n",
    "NAME=\"Test\"\n",
    "IMGPATH=\"/notebooks/Make-It-3D/inputs/dragon1.png\"\n",
    "%run main.py --workspace \"{NAME}\" --ref_path \"{IMGPATH}\" --phi_range 135 225 --iters 2000 "
   ]
  }
 ],
 "metadata": {
  "kernelspec": {
   "display_name": "comfy",
   "language": "python",
   "name": "comfy"
  }
 },
 "nbformat": 4,
 "nbformat_minor": 2
}
