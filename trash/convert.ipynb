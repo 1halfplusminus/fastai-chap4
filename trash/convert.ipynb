{
 "cells": [
  {
   "cell_type": "code",
   "execution_count": null,
   "metadata": {},
   "outputs": [],
   "source": [
    "%pip install numpy fire Pillow # install dependencies\n",
    "%cd ../\n",
    "!git clone https://github.com/PolyCam/polyform"
   ]
  },
  {
   "cell_type": "code",
   "execution_count": null,
   "metadata": {},
   "outputs": [],
   "source": [
    "path = \"/Users/xxxxxx/Downloads/3oct.à4-33 PM-poly\"\n",
    "%cd $path"
   ]
  },
  {
   "cell_type": "code",
   "execution_count": null,
   "metadata": {},
   "outputs": [],
   "source": [
    "import sys\n",
    "print(sys.executable)\n",
    "\n",
    "!{sys.executable} -m polyform.convert $path --format ingp\n"
   ]
  },
  {
   "cell_type": "code",
   "execution_count": null,
   "metadata": {},
   "outputs": [],
   "source": [
    "import json\n",
    "import math\n",
    "import os\n",
    "\n",
    "# Define the directory and the input file name\n",
    "directory = '.'  # You can change this to the specific path if required\n",
    "input_filename = 'transforms.json'\n",
    "filepath = os.path.join(directory, input_filename)\n",
    "\n",
    "# Load the JSON data\n",
    "with open(filepath, 'r') as file:\n",
    "    data = json.load(file)\n",
    "\n",
    "# Compute the horizontal field of view (camera_angle_x)\n",
    "fl_x = data['fl_x']\n",
    "w = data['w']\n",
    "camera_angle_x = 2 * math.atan(w / (2 * fl_x))\n",
    "data['camera_angle_x'] = camera_angle_x\n",
    "\n",
    "# Modify file paths in the \"frames\" list\n",
    "for frame in data['frames']:\n",
    "    # Removing './keyframes/images/' and file extension from 'file_path'\n",
    "    frame['file_path'] = os.path.join('images', os.path.splitext(os.path.basename(frame['file_path']))[0])\n",
    "\n",
    "# Save the updated data to both transform_train.json and transform_test.json\n",
    "output_files = ['transforms_train.json', 'transforms_test.json']\n",
    "for output_file in output_files:\n",
    "    output_filepath = os.path.join(directory, output_file)\n",
    "    with open(output_filepath, 'w') as file:\n",
    "        json.dump(data, file, indent=4)\n",
    "\n",
    "print(f\"Saved updated data to {', '.join(output_files)}.\")"
   ]
  }
 ],
 "metadata": {
  "kernelspec": {
   "display_name": "base",
   "language": "python",
   "name": "python3"
  },
  "language_info": {
   "codemirror_mode": {
    "name": "ipython",
    "version": 3
   },
   "file_extension": ".py",
   "mimetype": "text/x-python",
   "name": "python",
   "nbconvert_exporter": "python",
   "pygments_lexer": "ipython3",
   "version": "3.9.16"
  }
 },
 "nbformat": 4,
 "nbformat_minor": 2
}
