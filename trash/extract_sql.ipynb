{
 "cells": [
  {
   "cell_type": "code",
   "execution_count": null,
   "metadata": {},
   "outputs": [],
   "source": [
    "%pip install mysql-to-sqlite3"
   ]
  },
  {
   "cell_type": "code",
   "execution_count": null,
   "metadata": {},
   "outputs": [],
   "source": [
    "# Variables\n",
    "sqlite_file = \"./test.db\"  # replace with your SQLite3 database file path\n",
    "mysql_database = \"laravel\"   # replace with your MySQL database name\n",
    "mysql_user = \"sail\"          # replace with your MySQL user\n",
    "mysql_password = \"password\"  # replace with your MySQL password (consider security implications)\n",
    "mysql_host = \"localhost\"                # replace if your MySQL host isn't localhost\n",
    "mysql_port = 3306                      # replace if your MySQL port isn't 3306\n"
   ]
  },
  {
   "cell_type": "code",
   "execution_count": null,
   "metadata": {},
   "outputs": [],
   "source": [
    "# Required Libraries\n",
    "import subprocess\n",
    "# Construct the command\n",
    "cmd = [\n",
    "    \"mysql2sqlite\",\n",
    "    \"-f\", sqlite_file,\n",
    "    \"-d\", mysql_database,\n",
    "    \"-u\", mysql_user,\n",
    "    \"--mysql-password\", mysql_password,\n",
    "    \"-h\", mysql_host,\n",
    "    \"-P\", str(mysql_port)\n",
    "]\n",
    "\n",
    "# Execute the command\n",
    "result = subprocess.run(cmd, capture_output=True, text=True)\n",
    "\n",
    "# Print the result\n",
    "print(result.stdout)"
   ]
  }
 ],
 "metadata": {
  "kernelspec": {
   "display_name": "Python 3 (ipykernel)",
   "language": "python",
   "name": "python3"
  },
  "language_info": {
   "codemirror_mode": {
    "name": "ipython",
    "version": 3
   },
   "file_extension": ".py",
   "mimetype": "text/x-python",
   "name": "python",
   "nbconvert_exporter": "python",
   "pygments_lexer": "ipython3",
   "version": "3.9.16"
  }
 },
 "nbformat": 4,
 "nbformat_minor": 2
}
