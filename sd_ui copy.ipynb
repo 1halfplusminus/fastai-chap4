{
 "cells": [
  {
   "cell_type": "code",
   "execution_count": null,
   "metadata": {},
   "outputs": [],
   "source": [
    "!sudo apt update\n",
    "!sudo apt -y install wget git python3 python3-venv libgl1 libglib2.0-0"
   ]
  },
  {
   "cell_type": "code",
   "execution_count": null,
   "metadata": {},
   "outputs": [],
   "source": [
    "!apt-get install -y build-essential libssl-dev libffi-dev \\\n",
    "    python3-dev cargo pkg-config"
   ]
  },
  {
   "cell_type": "code",
   "execution_count": null,
   "metadata": {},
   "outputs": [],
   "source": [
    "%pip install --upgrade pip"
   ]
  },
  {
   "cell_type": "code",
   "execution_count": null,
   "metadata": {},
   "outputs": [],
   "source": [
    "!git clone https://github.com/AUTOMATIC1111/stable-diffusion-webui.git"
   ]
  },
  {
   "cell_type": "code",
   "execution_count": null,
   "metadata": {},
   "outputs": [],
   "source": [
    "%cd /notebooks/stable-diffusion-webui"
   ]
  },
  {
   "cell_type": "code",
   "execution_count": null,
   "metadata": {},
   "outputs": [],
   "source": [
    "!git pull"
   ]
  },
  {
   "cell_type": "code",
   "execution_count": null,
   "metadata": {},
   "outputs": [],
   "source": [
    "!chmod +x ./webui.sh"
   ]
  },
  {
   "cell_type": "code",
   "execution_count": null,
   "metadata": {},
   "outputs": [],
   "source": [
    "#import sys\n",
    "#%env VIRTUAL_ENV=/notebooks/sd_ui\n",
    "#python_exec_path = sys.executable\n",
    "#!./webui.sh -f  --python_cmd=\"{sys.executable}\""
   ]
  },
  {
   "cell_type": "code",
   "execution_count": null,
   "metadata": {},
   "outputs": [],
   "source": [
    "%cd /notebooks/stable-diffusion-webui"
   ]
  },
  {
   "cell_type": "code",
   "execution_count": null,
   "metadata": {},
   "outputs": [],
   "source": [
    "%pip install  -U --pre torch torchvision  torchaudio --extra-index-url https://download.pytorch.org/whl/cu121"
   ]
  },
  {
   "cell_type": "code",
   "execution_count": null,
   "metadata": {},
   "outputs": [],
   "source": [
    "%cd /notebooks/stable-diffusion-webui/repositories/stable-diffusion-stability-ai\n",
    "%pip install -r requirements.txt"
   ]
  },
  {
   "cell_type": "code",
   "execution_count": null,
   "metadata": {},
   "outputs": [],
   "source": [
    "%cd /notebooks/stable-diffusion-webui/repositories/CodeFormer\n",
    "%pip install -r requirements.txt"
   ]
  },
  {
   "cell_type": "code",
   "execution_count": null,
   "metadata": {},
   "outputs": [],
   "source": [
    "%cd /notebooks/stable-diffusion-webui/repositories/BLIP\n",
    "%pip install -r requirements.txt"
   ]
  },
  {
   "cell_type": "code",
   "execution_count": null,
   "metadata": {},
   "outputs": [],
   "source": [
    "!apt -y install -qq aria2"
   ]
  },
  {
   "cell_type": "code",
   "execution_count": null,
   "metadata": {},
   "outputs": [],
   "source": [
    "%cd /notebooks/stable-diffusion-webui"
   ]
  },
  {
   "cell_type": "code",
   "execution_count": null,
   "metadata": {},
   "outputs": [],
   "source": [
    "%pip install -U -r requirements.txt --ignore-installed PyYAML"
   ]
  },
  {
   "cell_type": "code",
   "execution_count": null,
   "metadata": {},
   "outputs": [],
   "source": [
    "#%pip install -U tensorboard open-clip-torch   gradio-client\n",
    "#%pip install git+https://github.com/huggingface/transformers"
   ]
  },
  {
   "cell_type": "code",
   "execution_count": null,
   "metadata": {},
   "outputs": [],
   "source": [
    "%pip install  git+https://github.com/kornia/kornia"
   ]
  },
  {
   "cell_type": "code",
   "execution_count": null,
   "metadata": {},
   "outputs": [],
   "source": [
    "%pip install xformers"
   ]
  },
  {
   "cell_type": "code",
   "execution_count": null,
   "metadata": {},
   "outputs": [],
   "source": [
    "%cd /notebooks/stable-diffusion-webui"
   ]
  },
  {
   "cell_type": "code",
   "execution_count": null,
   "metadata": {},
   "outputs": [],
   "source": [
    "import subprocess\n",
    "import threading\n",
    "import time\n",
    "import socket\n",
    "import urllib.request\n",
    "\n",
    "# def iframe_thread(port):\n",
    "#   while True:\n",
    "#       time.sleep(0.5)\n",
    "#       sock = socket.socket(socket.AF_INET, socket.SOCK_STREAM)\n",
    "#       result = sock.connect_ex(('localhost', port))\n",
    "#       if result == 0:\n",
    "#         break\n",
    "#       sock.close()\n",
    "#   print(\"\\nWeb UI finished loading, trying to launch cloudflared (if it gets stuck here cloudflared is having issues)\\n\")\n",
    "\n",
    "#   p = subprocess.Popen([\"cloudflared\", \"tunnel\", \"--url\", \"http://localhost:{}\".format(port)], stdout=subprocess.PIPE, stderr=subprocess.PIPE)\n",
    "#   for line in p.stderr:\n",
    "#     l = line.decode()\n",
    "#     if \"trycloudflare.com \" in l:\n",
    "#       print(\"This is the URL to access the Web UI:\", l[l.find(\"http\"):], end='')\n",
    "#     #print(l, end='')\n",
    "    \n",
    "# # Adjust the port number accordingly if the web UI is served on a different port\n",
    "# threading.Thread(target=iframe_thread, daemon=True, args=(7860,)).start()\n",
    "\n",
    "%run webui.py --xformers  --opt-split-attention  --api"
   ]
  }
 ],
 "metadata": {
  "kernelspec": {
   "display_name": "lora",
   "language": "python",
   "name": "lora"
  }
 },
 "nbformat": 4,
 "nbformat_minor": 2
}
