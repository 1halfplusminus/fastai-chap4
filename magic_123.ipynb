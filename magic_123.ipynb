{
 "cells": [
  {
   "cell_type": "code",
   "execution_count": 1,
   "metadata": {},
   "outputs": [
    {
     "name": "stdout",
     "output_type": "stream",
     "text": [
      "Get:1 https://deb.nodesource.com/node_16.x focal InRelease [4583 B]\n",
      "Get:2 http://security.ubuntu.com/ubuntu focal-security InRelease [114 kB]      \u001b[0m\u001b[33m\n",
      "Get:3 http://ppa.launchpad.net/deadsnakes/ppa/ubuntu focal InRelease [18.1 kB] \u001b[0m\n",
      "Hit:4 http://archive.ubuntu.com/ubuntu focal InRelease                         \u001b[0m\u001b[33m\n",
      "Get:5 https://deb.nodesource.com/node_16.x focal/main amd64 Packages [776 B]   \u001b[0m\n",
      "Get:6 http://archive.ubuntu.com/ubuntu focal-updates InRelease [114 kB]        \u001b[0m\u001b[33m\n",
      "Get:7 http://ppa.launchpad.net/deadsnakes/ppa/ubuntu focal/main amd64 Packages [29.5 kB]\u001b[33m\n",
      "Get:8 http://security.ubuntu.com/ubuntu focal-security/main amd64 Packages [3025 kB]\n",
      "Get:9 http://archive.ubuntu.com/ubuntu focal-backports InRelease [108 kB]      \u001b[0m\n",
      "Get:10 http://archive.ubuntu.com/ubuntu focal-updates/multiverse amd64 Packages [32.0 kB][33m\n",
      "Get:11 http://archive.ubuntu.com/ubuntu focal-updates/universe amd64 Packages [1404 kB]\n",
      "Get:12 http://security.ubuntu.com/ubuntu focal-security/multiverse amd64 Packages [29.3 kB]3m\n",
      "Get:13 http://security.ubuntu.com/ubuntu focal-security/restricted amd64 Packages [2767 kB]\n",
      "Get:14 http://security.ubuntu.com/ubuntu focal-security/universe amd64 Packages [1102 kB][33m\n",
      "Get:15 http://archive.ubuntu.com/ubuntu focal-updates/main amd64 Packages [3512 kB]\u001b[33m\n",
      "Get:16 http://archive.ubuntu.com/ubuntu focal-updates/restricted amd64 Packages [2917 kB]\n",
      "Get:17 http://archive.ubuntu.com/ubuntu focal-backports/main amd64 Packages [55.2 kB]\n",
      "Get:18 http://archive.ubuntu.com/ubuntu focal-backports/universe amd64 Packages [28.6 kB]\n",
      "Fetched 15.3 MB in 2s (9343 kB/s)[33m                         \u001b[0m\u001b[33m\u001b[33m\u001b[33m\u001b[33m\n",
      "Reading package lists... Done\n",
      "Building dependency tree       \n",
      "Reading state information... Done\n",
      "198 packages can be upgraded. Run 'apt list --upgradable' to see them.\n",
      "/bin/bash: !apt: command not found\n",
      "Reading package lists... Done\n",
      "Building dependency tree       \n",
      "Reading state information... Done\n",
      "wget is already the newest version (1.20.3-1ubuntu2).\n",
      "Suggested packages:\n",
      "  git-daemon-run | git-daemon-sysvinit git-doc git-el git-email git-gui gitk\n",
      "  gitweb git-cvs git-mediawiki git-svn libeigen3-doc libmpfrc++-dev\n",
      "Recommended packages:\n",
      "  less\n",
      "The following NEW packages will be installed:\n",
      "  libeigen3-dev pkg-config\n",
      "The following packages will be upgraded:\n",
      "  git\n",
      "1 upgraded, 2 newly installed, 0 to remove and 197 not upgraded.\n",
      "Need to get 5465 kB of archives.\n",
      "After this operation, 7646 kB of additional disk space will be used.\n",
      "Get:1 http://archive.ubuntu.com/ubuntu focal-updates/main amd64 git amd64 1:2.25.1-1ubuntu3.11 [4605 kB]\n",
      "Get:2 http://archive.ubuntu.com/ubuntu focal/main amd64 pkg-config amd64 0.29.1-0ubuntu4 [45.5 kB]\n",
      "Get:3 http://archive.ubuntu.com/ubuntu focal/universe amd64 libeigen3-dev all 3.3.7-2 [815 kB]\n",
      "Fetched 5465 kB in 1s (5747 kB/s)      \u001b[0m\u001b[33m\n",
      "\n",
      "(Reading database ... 78815 files and directories currently installed.)\n",
      "Preparing to unpack .../git_1%3a2.25.1-1ubuntu3.11_amd64.deb ...\n",
      "\u001b7\u001b[24;0f\u001b[42m\u001b[30mProgress: [  0%]\u001b[49m\u001b[39m [..........................................................] \u001b8\u001b7\u001b[24;0f\u001b[42m\u001b[30mProgress: [  8%]\u001b[49m\u001b[39m [####......................................................] \u001b8Unpacking git (1:2.25.1-1ubuntu3.11) over (1:2.25.1-1ubuntu3.4) ...\n",
      "\u001b7\u001b[24;0f\u001b[42m\u001b[30mProgress: [ 15%]\u001b[49m\u001b[39m [########..................................................] \u001b8Selecting previously unselected package pkg-config.\n",
      "Preparing to unpack .../pkg-config_0.29.1-0ubuntu4_amd64.deb ...\n",
      "\u001b7\u001b[24;0f\u001b[42m\u001b[30mProgress: [ 23%]\u001b[49m\u001b[39m [#############.............................................] \u001b8Unpacking pkg-config (0.29.1-0ubuntu4) ...\n",
      "\u001b7\u001b[24;0f\u001b[42m\u001b[30mProgress: [ 31%]\u001b[49m\u001b[39m [#################.........................................] \u001b8Selecting previously unselected package libeigen3-dev.\n",
      "Preparing to unpack .../libeigen3-dev_3.3.7-2_all.deb ...\n",
      "\u001b7\u001b[24;0f\u001b[42m\u001b[30mProgress: [ 38%]\u001b[49m\u001b[39m [######################....................................] \u001b8Unpacking libeigen3-dev (3.3.7-2) ...\n",
      "\u001b7\u001b[24;0f\u001b[42m\u001b[30mProgress: [ 46%]\u001b[49m\u001b[39m [##########################................................] \u001b8Setting up pkg-config (0.29.1-0ubuntu4) ...\n",
      "\u001b7\u001b[24;0f\u001b[42m\u001b[30mProgress: [ 54%]\u001b[49m\u001b[39m [###############################...........................] \u001b8\u001b7\u001b[24;0f\u001b[42m\u001b[30mProgress: [ 62%]\u001b[49m\u001b[39m [###################################.......................] \u001b8Setting up git (1:2.25.1-1ubuntu3.11) ...\n",
      "\u001b7\u001b[24;0f\u001b[42m\u001b[30mProgress: [ 69%]\u001b[49m\u001b[39m [########################################..................] \u001b8\u001b7\u001b[24;0f\u001b[42m\u001b[30mProgress: [ 77%]\u001b[49m\u001b[39m [############################################..............] \u001b8Setting up libeigen3-dev (3.3.7-2) ...\n",
      "\u001b7\u001b[24;0f\u001b[42m\u001b[30mProgress: [ 85%]\u001b[49m\u001b[39m [#################################################.........] \u001b8\u001b7\u001b[24;0f\u001b[42m\u001b[30mProgress: [ 92%]\u001b[49m\u001b[39m [#####################################################.....] \u001b8Processing triggers for man-db (2.9.1-1) ...\n",
      "\n",
      "\u001b7\u001b[0;24r\u001b8\u001b[1A\u001b[J"
     ]
    }
   ],
   "source": [
    "!apt update && !apt upgrade\n",
    "!apt install git wget libeigen3-dev -y"
   ]
  },
  {
   "cell_type": "code",
   "execution_count": null,
   "metadata": {},
   "outputs": [],
   "source": [
    "!git clone https://github.com/guochengqian/Magic123.git"
   ]
  },
  {
   "cell_type": "code",
   "execution_count": 1,
   "metadata": {},
   "outputs": [
    {
     "name": "stdout",
     "output_type": "stream",
     "text": [
      "/notebooks/Magic123\n"
     ]
    }
   ],
   "source": [
    "%cd Magic123"
   ]
  },
  {
   "cell_type": "code",
   "execution_count": null,
   "metadata": {},
   "outputs": [],
   "source": [
    "!git pull origin main"
   ]
  },
  {
   "cell_type": "code",
   "execution_count": null,
   "metadata": {},
   "outputs": [],
   "source": [
    "%pip install imageio_ffmpeg"
   ]
  },
  {
   "cell_type": "code",
   "execution_count": null,
   "metadata": {},
   "outputs": [],
   "source": [
    "%pip install -r requirements.txt"
   ]
  },
  {
   "cell_type": "code",
   "execution_count": null,
   "metadata": {},
   "outputs": [],
   "source": [
    "%pip install  torch==2.0.0+cu118 torchvision==0.15.1+cu118 --index-url https://download.pytorch.org/whl/cu118 "
   ]
  },
  {
   "cell_type": "code",
   "execution_count": null,
   "metadata": {},
   "outputs": [],
   "source": [
    "%cd pretrained/zero123\n",
    "!wget https://huggingface.co/cvlab/zero123-weights/resolve/main/105000.ckpt\n",
    "%cd ../../"
   ]
  },
  {
   "cell_type": "code",
   "execution_count": null,
   "metadata": {},
   "outputs": [],
   "source": [
    "!mkdir -p pretrained/midas\n",
    "%cd pretrained/midas\n",
    "!wget https://github.com/isl-org/MiDaS/releases/download/v3_1/dpt_beit_large_512.pt\n",
    "%cd ../../"
   ]
  },
  {
   "cell_type": "code",
   "execution_count": 2,
   "metadata": {},
   "outputs": [
    {
     "name": "stdout",
     "output_type": "stream",
     "text": [
      "env: CUDA_VISIBLE_DEVICES=0\n"
     ]
    }
   ],
   "source": [
    "%env CUDA_VISIBLE_DEVICES=0\n",
    "workspace =\"werewolf_2\"\n",
    "DATA_DIR ='/notebooks/threestudio/load/images'\n",
    "image_path = f'{DATA_DIR}/rgba.png'\n",
    "image_path_without_rgba = f'{DATA_DIR}/{workspace}.png'\n",
    "save_path = f'./output/{workspace}'\n",
    "prompt = '''\n",
    "3D render of a cute litte werewolf boy,fur,\n",
    "full body visible, model for painting in underwear\n",
    "'''\n",
    "# If the image contains non-front-facing objects, specifying the approximate elevation \n",
    "# and azimuth angle by setting data.default_elevation_deg and data.default_azimuth_deg can be helpful. \n",
    "# In threestudio, top is elevation +90 and bottom is elevation -90; left is azimuth -90 and right is azimuth +90.\n",
    "default_elevation_deg = 0\n",
    "default_azimuth_deg = 0\n",
    "GPU_IDX = 0\n",
    "init_token='werewolf'\n",
    "token_name = f'_{init_token}_'\n",
    "stable_version = '2.1'  #2.1 #2.0 #1.5\n",
    "MODEL_NAME = \"stabilityai/stable-diffusion-2-1-base\" # \"stabilityai/stable-diffusion-2-1-base\" # \"runwayml/stable-diffusion-v1-5\"\n",
    "DATA_DIR =image_path\n",
    "OUTPUT_DIR = save_path\n",
    "placeholder_token=token_name\n",
    "polar_angle=1"
   ]
  },
  {
   "cell_type": "code",
   "execution_count": null,
   "metadata": {},
   "outputs": [],
   "source": [
    "%run preprocess_image.py --path {image_path_without_rgba}"
   ]
  },
  {
   "cell_type": "code",
   "execution_count": 9,
   "metadata": {},
   "outputs": [],
   "source": [
    "import os\n",
    "DATA_DIR, IMAGE_NAME = os.path.split(image_path)\n",
    "FILENAME=IMAGE_NAME.split('.')[0]\n",
    "!cp  '{DATA_DIR}/rgba.png' '{DATA_DIR}/{workspace}_rgba.png'\n",
    "!cp  '{DATA_DIR}/depth.png' '{DATA_DIR}/{workspace}_depth.png'"
   ]
  },
  {
   "cell_type": "code",
   "execution_count": 3,
   "metadata": {},
   "outputs": [
    {
     "name": "stderr",
     "output_type": "stream",
     "text": [
      "09/10/2023 03:04:03 - INFO - __main__ - Namespace(save_steps=500, only_save_embeds=False, pretrained_model_name_or_path='stabilityai/stable-diffusion-2-1-base', revision=None, tokenizer_name=None, train_data_dir='/notebooks/threestudio/load/images/rgba.png', placeholder_token='werewolf', initializer_token='werewolf', learnable_property='object', repeats=100, output_dir='./output/werewolf_2', seed=None, resolution=512, center_crop=False, train_batch_size=16, num_train_epochs=100, max_train_steps=3000, gradient_accumulation_steps=1, gradient_checkpointing=False, learning_rate=0.0001, scale_lr=False, lr_scheduler='constant', lr_warmup_steps=0, dataloader_num_workers=0, adam_beta1=0.9, adam_beta2=0.999, adam_weight_decay=0.01, adam_epsilon=1e-08, push_to_hub=False, hub_token=None, hub_model_id=None, logging_dir='logs', mixed_precision='no', allow_tf32=False, report_to='tensorboard', validation_prompt=None, num_validation_images=4, validation_steps=100, validation_epochs=None, local_rank=-1, checkpointing_steps=500, checkpoints_total_limit=None, resume_from_checkpoint=None, enable_xformers_memory_efficient_attention=False, use_augmentations=True)\n",
      "09/10/2023 03:04:03 - INFO - __main__ - Distributed environment: NO\n",
      "Num processes: 1\n",
      "Process index: 0\n",
      "Local process index: 0\n",
      "Device: cuda\n",
      "\n",
      "Mixed precision type: no\n",
      "\n",
      "{'sample_max_value', 'thresholding', 'variance_type', 'dynamic_thresholding_ratio', 'clip_sample_range', 'timestep_spacing'} was not found in config. Values will be initialized to default values.\n",
      "{'force_upcast', 'scaling_factor'} was not found in config. Values will be initialized to default values.\n",
      "{'conv_in_kernel', 'encoder_hid_dim', 'upcast_attention', 'time_cond_proj_dim', 'conv_out_kernel', 'transformer_layers_per_block', 'num_attention_heads', 'class_embeddings_concat', 'resnet_skip_time_act', 'class_embed_type', 'time_embedding_dim', 'mid_block_only_cross_attention', 'timestep_post_act', 'dropout', 'projection_class_embeddings_input_dim', 'encoder_hid_dim_type', 'time_embedding_type', 'mid_block_type', 'time_embedding_act_fn', 'attention_type', 'addition_embed_type_num_heads', 'addition_time_embed_dim', 'cross_attention_norm', 'resnet_time_scale_shift', 'addition_embed_type', 'resnet_out_scale_factor'} was not found in config. Values will be initialized to default values.\n",
      "You are resizing the embedding layer without providing a `pad_to_multiple_of` parameter. This means that the new embedding dimension will be 49409. This might induce some performance reduction as *Tensor Cores* will not be available. For more details about this, or help on choosing the correct value for resizing, refer to this guide: https://docs.nvidia.com/deeplearning/performance/dl-performance-matrix-multiplication/index.html#requirements-tc\n",
      "09/10/2023 03:04:09 - INFO - __main__ - ***** Running training *****\n",
      "09/10/2023 03:04:09 - INFO - __main__ -   Num examples = 100\n",
      "09/10/2023 03:04:09 - INFO - __main__ -   Num Epochs = 429\n",
      "09/10/2023 03:04:09 - INFO - __main__ -   Instantaneous batch size per device = 16\n",
      "09/10/2023 03:04:09 - INFO - __main__ -   Total train batch size (w. parallel, distributed & accumulation) = 16\n",
      "09/10/2023 03:04:09 - INFO - __main__ -   Gradient Accumulation steps = 1\n",
      "09/10/2023 03:04:09 - INFO - __main__ -   Total optimization steps = 3000\n"
     ]
    },
    {
     "data": {
      "application/json": {
       "ascii": false,
       "bar_format": null,
       "colour": null,
       "elapsed": 0.013331890106201172,
       "initial": 0,
       "n": 0,
       "ncols": null,
       "nrows": null,
       "postfix": null,
       "prefix": "",
       "rate": null,
       "total": 3000,
       "unit": "it",
       "unit_divisor": 1000,
       "unit_scale": false
      },
      "application/vnd.jupyter.widget-view+json": {
       "model_id": "5ad0ebfad59a4f868befca8afd03fac7",
       "version_major": 2,
       "version_minor": 0
      },
      "text/plain": [
       "  0%|          | 0/3000 [00:00<?, ?it/s]"
      ]
     },
     "metadata": {},
     "output_type": "display_data"
    },
    {
     "ename": "KeyboardInterrupt",
     "evalue": "",
     "output_type": "error",
     "traceback": [
      "\u001b[0;31m---------------------------------------------------------------------------\u001b[0m",
      "\u001b[0;31mKeyboardInterrupt\u001b[0m                         Traceback (most recent call last)",
      "File \u001b[0;32m/notebooks/Magic123/textual-inversion/textual_inversion.py:927\u001b[0m\n\u001b[1;32m    923\u001b[0m     accelerator\u001b[39m.\u001b[39mend_training()\n\u001b[1;32m    926\u001b[0m \u001b[39mif\u001b[39;00m \u001b[39m__name__\u001b[39m \u001b[39m==\u001b[39m \u001b[39m\"\u001b[39m\u001b[39m__main__\u001b[39m\u001b[39m\"\u001b[39m:\n\u001b[0;32m--> 927\u001b[0m     main()\n",
      "File \u001b[0;32m/notebooks/Magic123/textual-inversion/textual_inversion.py:864\u001b[0m, in \u001b[0;36mmain\u001b[0;34m()\u001b[0m\n\u001b[1;32m    860\u001b[0m     \u001b[39mraise\u001b[39;00m \u001b[39mValueError\u001b[39;00m(\u001b[39mf\u001b[39m\u001b[39m\"\u001b[39m\u001b[39mUnknown prediction type \u001b[39m\u001b[39m{\u001b[39;00mnoise_scheduler\u001b[39m.\u001b[39mconfig\u001b[39m.\u001b[39mprediction_type\u001b[39m}\u001b[39;00m\u001b[39m\"\u001b[39m)\n\u001b[1;32m    862\u001b[0m loss \u001b[39m=\u001b[39m F\u001b[39m.\u001b[39mmse_loss(model_pred\u001b[39m.\u001b[39mfloat(), target\u001b[39m.\u001b[39mfloat(), reduction\u001b[39m=\u001b[39m\u001b[39m\"\u001b[39m\u001b[39mmean\u001b[39m\u001b[39m\"\u001b[39m)\n\u001b[0;32m--> 864\u001b[0m accelerator\u001b[39m.\u001b[39;49mbackward(loss)\n\u001b[1;32m    866\u001b[0m optimizer\u001b[39m.\u001b[39mstep()\n\u001b[1;32m    867\u001b[0m lr_scheduler\u001b[39m.\u001b[39mstep()\n",
      "File \u001b[0;32m~/mambaforge/lib/python3.10/site-packages/accelerate/accelerator.py:1923\u001b[0m, in \u001b[0;36mAccelerator.backward\u001b[0;34m(self, loss, **kwargs)\u001b[0m\n\u001b[1;32m   1921\u001b[0m     \u001b[39mself\u001b[39m\u001b[39m.\u001b[39mscaler\u001b[39m.\u001b[39mscale(loss)\u001b[39m.\u001b[39mbackward(\u001b[39m*\u001b[39m\u001b[39m*\u001b[39mkwargs)\n\u001b[1;32m   1922\u001b[0m \u001b[39melse\u001b[39;00m:\n\u001b[0;32m-> 1923\u001b[0m     loss\u001b[39m.\u001b[39;49mbackward(\u001b[39m*\u001b[39;49m\u001b[39m*\u001b[39;49mkwargs)\n",
      "File \u001b[0;32m~/mambaforge/lib/python3.10/site-packages/torch/_tensor.py:487\u001b[0m, in \u001b[0;36mTensor.backward\u001b[0;34m(self, gradient, retain_graph, create_graph, inputs)\u001b[0m\n\u001b[1;32m    477\u001b[0m \u001b[39mif\u001b[39;00m has_torch_function_unary(\u001b[39mself\u001b[39m):\n\u001b[1;32m    478\u001b[0m     \u001b[39mreturn\u001b[39;00m handle_torch_function(\n\u001b[1;32m    479\u001b[0m         Tensor\u001b[39m.\u001b[39mbackward,\n\u001b[1;32m    480\u001b[0m         (\u001b[39mself\u001b[39m,),\n\u001b[0;32m   (...)\u001b[0m\n\u001b[1;32m    485\u001b[0m         inputs\u001b[39m=\u001b[39minputs,\n\u001b[1;32m    486\u001b[0m     )\n\u001b[0;32m--> 487\u001b[0m torch\u001b[39m.\u001b[39;49mautograd\u001b[39m.\u001b[39;49mbackward(\n\u001b[1;32m    488\u001b[0m     \u001b[39mself\u001b[39;49m, gradient, retain_graph, create_graph, inputs\u001b[39m=\u001b[39;49minputs\n\u001b[1;32m    489\u001b[0m )\n",
      "File \u001b[0;32m~/mambaforge/lib/python3.10/site-packages/torch/autograd/__init__.py:200\u001b[0m, in \u001b[0;36mbackward\u001b[0;34m(tensors, grad_tensors, retain_graph, create_graph, grad_variables, inputs)\u001b[0m\n\u001b[1;32m    195\u001b[0m     retain_graph \u001b[39m=\u001b[39m create_graph\n\u001b[1;32m    197\u001b[0m \u001b[39m# The reason we repeat same the comment below is that\u001b[39;00m\n\u001b[1;32m    198\u001b[0m \u001b[39m# some Python versions print out the first line of a multi-line function\u001b[39;00m\n\u001b[1;32m    199\u001b[0m \u001b[39m# calls in the traceback and some print out the last line\u001b[39;00m\n\u001b[0;32m--> 200\u001b[0m Variable\u001b[39m.\u001b[39;49m_execution_engine\u001b[39m.\u001b[39;49mrun_backward(  \u001b[39m# Calls into the C++ engine to run the backward pass\u001b[39;49;00m\n\u001b[1;32m    201\u001b[0m     tensors, grad_tensors_, retain_graph, create_graph, inputs,\n\u001b[1;32m    202\u001b[0m     allow_unreachable\u001b[39m=\u001b[39;49m\u001b[39mTrue\u001b[39;49;00m, accumulate_grad\u001b[39m=\u001b[39;49m\u001b[39mTrue\u001b[39;49;00m)\n",
      "\u001b[0;31mKeyboardInterrupt\u001b[0m: "
     ]
    }
   ],
   "source": [
    "import os\n",
    "\n",
    "\n",
    "cmd = f\"\"\"\n",
    "textual-inversion/textual_inversion.py \\\n",
    "  --pretrained_model_name_or_path={MODEL_NAME} \\\n",
    "  --train_data_dir={DATA_DIR} \\\n",
    "  --learnable_property=\"object\" \\\n",
    "  --placeholder_token={init_token} \\\n",
    "  --initializer_token={init_token} \\\n",
    "  --resolution=512 \\\n",
    "  --train_batch_size=16 \\\n",
    "  --gradient_accumulation_steps=1 \\\n",
    "  --max_train_steps=3000 \\\n",
    "  --lr_scheduler=\"constant\" \\\n",
    "  --lr_warmup_steps=0 \\\n",
    "  --output_dir={OUTPUT_DIR} \\\n",
    "  --use_augmentations\n",
    "  \n",
    "\"\"\"\n",
    "%run {cmd}\n"
   ]
  },
  {
   "cell_type": "code",
   "execution_count": null,
   "metadata": {},
   "outputs": [],
   "source": [
    "guidance = f\"\"\"\n",
    "guidance/sd_utils.py \\\n",
    "  --sd_version {stable_version} \\\n",
    "  --text=\"A high-resolution DSLR image of <token>\" \\\n",
    "  --learned_embeds_path={OUTPUT_DIR} \\\n",
    "  --workspace={workspace}\n",
    "\"\"\"\n",
    "%run {guidance}\n"
   ]
  },
  {
   "cell_type": "code",
   "execution_count": null,
   "metadata": {},
   "outputs": [],
   "source": [
    "import os\n",
    "\n",
    "RUN_ID = \"dmt\"\n",
    "RUN_ID2 = \"nerf\"\n",
    "DATA_DIR, IMAGE_NAME = os.path.split(image_path)\n",
    "FILENAME=IMAGE_NAME.split('.')[0]\n",
    "step1 = True # change this according to your needs\n",
    "step2 = True # change this according to your needs"
   ]
  },
  {
   "cell_type": "code",
   "execution_count": null,
   "metadata": {},
   "outputs": [],
   "source": [
    "\n",
    "cmd= f\"\"\"\n",
    "main.py -O \\\n",
    "        --text \"A high-resolution DSLR image of <token>\" \\\n",
    "        --sd_version {stable_version} \\\n",
    "        --image {image_path} \\\n",
    "        --learned_embeds_path {OUTPUT_DIR}/learned_embeds.bin \\\n",
    "        --workspace out/magic123-{RUN_ID}-coarse/$dataset/magic123_${FILENAME}_${RUN_ID}_coarse \\\n",
    "        --optim adam \\\n",
    "        --iters 5000 \\\n",
    "        --guidance SD zero123 \\\n",
    "        --lambda_guidance 1.0 40 \\\n",
    "        --guidance_scale 100 5 \\\n",
    "        --latent_iter_ratio 0 \\\n",
    "        --normal_iter_ratio 0.2 \\\n",
    "        --t_range 0.2 0.6 \\\n",
    "        --bg_radius -1 \\\n",
    "        --default_polar {polar_angle} \\\n",
    "        --save_mesh \n",
    "\"\"\"\n",
    "if step1:\n",
    "    %run {cmd}\n"
   ]
  },
  {
   "cell_type": "code",
   "execution_count": null,
   "metadata": {},
   "outputs": [],
   "source": [
    "\n",
    "if step2:\n",
    "    cmd2 = f\"\"\"\n",
    "    main.py -O \\\n",
    "        --text \"A high-resolution DSLR image of <token>\" \\\n",
    "        --sd_version {stable_version} \\\n",
    "        --image {image_path} \\\n",
    "        --learned_embeds_path {OUTPUT_DIR}/learned_embeds.bin  \\\n",
    "        --workspace out/magic123-{RUN_ID}-{RUN_ID2}/$dataset/magic123_${FILENAME}_${RUN_ID}_${RUN_ID2} \\\n",
    "        --dmtet --init_ckpt out/magic123-{RUN_ID}-coarse/$dataset/magic123_${FILENAME}_${RUN_ID}_coarse/checkpoints/magic123_${FILENAME}_${RUN_ID}_coarse.pth \\\n",
    "        --iters 5000 \\\n",
    "        --optim adam \\\n",
    "        --latent_iter_ratio 0 \\\n",
    "        --guidance SD zero123 \\\n",
    "        --lambda_guidance 1e-3 0.01 \\\n",
    "        --guidance_scale 100 5 \\\n",
    "        --rm_edge \\\n",
    "        --bg_radius -1 \\\n",
    "        --default_polar {polar_angle} \\\n",
    "        --save_mesh\n",
    "    \"\"\"\n",
    "    %run {cmd2}"
   ]
  },
  {
   "cell_type": "code",
   "execution_count": null,
   "metadata": {},
   "outputs": [],
   "source": [
    "RUN_ID2=\"coarse\"\n",
    "path = f\"\"\"/notebooks/Magic123/out/magic123-{RUN_ID}-{RUN_ID2}/$dataset/magic123_${FILENAME}_${RUN_ID}_${RUN_ID2}\"\"\"\n",
    "%cd {path}\n",
    "!zip {workspace}.zip -r mesh\n",
    "%cd ../\n",
    "\n"
   ]
  }
 ],
 "metadata": {
  "kernelspec": {
   "display_name": "dreamfusion",
   "language": "python",
   "name": "dreamfusion"
  },
  "orig_nbformat": 4
 },
 "nbformat": 4,
 "nbformat_minor": 2
}
